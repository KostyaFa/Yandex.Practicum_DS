{
 "cells": [
  {
   "cell_type": "markdown",
   "metadata": {},
   "source": [
    "# Исследование надёжности заёмщиков\n",
    "\n",
    "Заказчик — кредитный отдел банка. Нужно разобраться, влияет ли семейное положение и количество детей клиента на факт погашения кредита в срок. Входные данные от банка — статистика о платёжеспособности клиентов.\n",
    "\n",
    "Результаты исследования будут учтены при построении модели **кредитного скоринга** — специальной системы, которая оценивает способность потенциального заёмщика вернуть кредит банку."
   ]
  },
  {
   "attachments": {},
   "cell_type": "markdown",
   "metadata": {},
   "source": [
    "   \n",
    "## Описание данных датасета\n",
    "    \n",
    "    \n",
    "- *children* — количество детей в семье\n",
    "\n",
    "- *days_employed* — общий трудовой стаж в днях\n",
    "\n",
    "- *dob_years* — возраст клиента в годах\n",
    "\n",
    "- *education* — уровень образования клиента\n",
    "\n",
    "- *education_id* — идентификатор уровня образования\n",
    "\n",
    "- *family_status* — семейное положение\n",
    "\n",
    "- *family_status_id* — идентификатор семейного положения\n",
    "\n",
    "- *gender* — пол клиента\n",
    "\n",
    "- *income_type* — тип занятости\n",
    "\n",
    "- *debt* — имел ли задолженность по возврату кредитов\n",
    "\n",
    "- *total_income* — ежемесячный доход\n",
    "\n",
    "- *purpose* — цель получения кредита"
   ]
  },
  {
   "cell_type": "markdown",
   "metadata": {},
   "source": [
    "## Шаг 1. Откройте файл с данными и изучите общую информацию"
   ]
  },
  {
   "cell_type": "code",
   "execution_count": 39,
   "metadata": {},
   "outputs": [],
   "source": [
    "# Для считывания таблицы csv импортируем библиотеку Pandas \n",
    "\n",
    "import pandas as pd\n",
    "\n",
    "# Для лемматизации импортируем функцию Mystem из библиотеки pymystem3\n",
    "\n",
    "from pymystem3 import Mystem"
   ]
  },
  {
   "cell_type": "code",
   "execution_count": 40,
   "metadata": {},
   "outputs": [
    {
     "name": "stdout",
     "output_type": "stream",
     "text": [
      "<class 'pandas.core.frame.DataFrame'>\n",
      "RangeIndex: 21525 entries, 0 to 21524\n",
      "Data columns (total 12 columns):\n",
      " #   Column            Non-Null Count  Dtype  \n",
      "---  ------            --------------  -----  \n",
      " 0   children          21525 non-null  int64  \n",
      " 1   days_employed     19351 non-null  float64\n",
      " 2   dob_years         21525 non-null  int64  \n",
      " 3   education         21525 non-null  object \n",
      " 4   education_id      21525 non-null  int64  \n",
      " 5   family_status     21525 non-null  object \n",
      " 6   family_status_id  21525 non-null  int64  \n",
      " 7   gender            21525 non-null  object \n",
      " 8   income_type       21525 non-null  object \n",
      " 9   debt              21525 non-null  int64  \n",
      " 10  total_income      19351 non-null  float64\n",
      " 11  purpose           21525 non-null  object \n",
      "dtypes: float64(2), int64(5), object(5)\n",
      "memory usage: 2.0+ MB\n"
     ]
    },
    {
     "data": {
      "text/html": [
       "<div>\n",
       "<style scoped>\n",
       "    .dataframe tbody tr th:only-of-type {\n",
       "        vertical-align: middle;\n",
       "    }\n",
       "\n",
       "    .dataframe tbody tr th {\n",
       "        vertical-align: top;\n",
       "    }\n",
       "\n",
       "    .dataframe thead th {\n",
       "        text-align: right;\n",
       "    }\n",
       "</style>\n",
       "<table border=\"1\" class=\"dataframe\">\n",
       "  <thead>\n",
       "    <tr style=\"text-align: right;\">\n",
       "      <th></th>\n",
       "      <th>children</th>\n",
       "      <th>days_employed</th>\n",
       "      <th>dob_years</th>\n",
       "      <th>education</th>\n",
       "      <th>education_id</th>\n",
       "      <th>family_status</th>\n",
       "      <th>family_status_id</th>\n",
       "      <th>gender</th>\n",
       "      <th>income_type</th>\n",
       "      <th>debt</th>\n",
       "      <th>total_income</th>\n",
       "      <th>purpose</th>\n",
       "    </tr>\n",
       "  </thead>\n",
       "  <tbody>\n",
       "    <tr>\n",
       "      <th>0</th>\n",
       "      <td>1</td>\n",
       "      <td>-8437.673028</td>\n",
       "      <td>42</td>\n",
       "      <td>высшее</td>\n",
       "      <td>0</td>\n",
       "      <td>женат / замужем</td>\n",
       "      <td>0</td>\n",
       "      <td>F</td>\n",
       "      <td>сотрудник</td>\n",
       "      <td>0</td>\n",
       "      <td>253875.639453</td>\n",
       "      <td>покупка жилья</td>\n",
       "    </tr>\n",
       "    <tr>\n",
       "      <th>1</th>\n",
       "      <td>1</td>\n",
       "      <td>-4024.803754</td>\n",
       "      <td>36</td>\n",
       "      <td>среднее</td>\n",
       "      <td>1</td>\n",
       "      <td>женат / замужем</td>\n",
       "      <td>0</td>\n",
       "      <td>F</td>\n",
       "      <td>сотрудник</td>\n",
       "      <td>0</td>\n",
       "      <td>112080.014102</td>\n",
       "      <td>приобретение автомобиля</td>\n",
       "    </tr>\n",
       "    <tr>\n",
       "      <th>2</th>\n",
       "      <td>0</td>\n",
       "      <td>-5623.422610</td>\n",
       "      <td>33</td>\n",
       "      <td>Среднее</td>\n",
       "      <td>1</td>\n",
       "      <td>женат / замужем</td>\n",
       "      <td>0</td>\n",
       "      <td>M</td>\n",
       "      <td>сотрудник</td>\n",
       "      <td>0</td>\n",
       "      <td>145885.952297</td>\n",
       "      <td>покупка жилья</td>\n",
       "    </tr>\n",
       "    <tr>\n",
       "      <th>3</th>\n",
       "      <td>3</td>\n",
       "      <td>-4124.747207</td>\n",
       "      <td>32</td>\n",
       "      <td>среднее</td>\n",
       "      <td>1</td>\n",
       "      <td>женат / замужем</td>\n",
       "      <td>0</td>\n",
       "      <td>M</td>\n",
       "      <td>сотрудник</td>\n",
       "      <td>0</td>\n",
       "      <td>267628.550329</td>\n",
       "      <td>дополнительное образование</td>\n",
       "    </tr>\n",
       "    <tr>\n",
       "      <th>4</th>\n",
       "      <td>0</td>\n",
       "      <td>340266.072047</td>\n",
       "      <td>53</td>\n",
       "      <td>среднее</td>\n",
       "      <td>1</td>\n",
       "      <td>гражданский брак</td>\n",
       "      <td>1</td>\n",
       "      <td>F</td>\n",
       "      <td>пенсионер</td>\n",
       "      <td>0</td>\n",
       "      <td>158616.077870</td>\n",
       "      <td>сыграть свадьбу</td>\n",
       "    </tr>\n",
       "    <tr>\n",
       "      <th>...</th>\n",
       "      <td>...</td>\n",
       "      <td>...</td>\n",
       "      <td>...</td>\n",
       "      <td>...</td>\n",
       "      <td>...</td>\n",
       "      <td>...</td>\n",
       "      <td>...</td>\n",
       "      <td>...</td>\n",
       "      <td>...</td>\n",
       "      <td>...</td>\n",
       "      <td>...</td>\n",
       "      <td>...</td>\n",
       "    </tr>\n",
       "    <tr>\n",
       "      <th>21520</th>\n",
       "      <td>1</td>\n",
       "      <td>-4529.316663</td>\n",
       "      <td>43</td>\n",
       "      <td>среднее</td>\n",
       "      <td>1</td>\n",
       "      <td>гражданский брак</td>\n",
       "      <td>1</td>\n",
       "      <td>F</td>\n",
       "      <td>компаньон</td>\n",
       "      <td>0</td>\n",
       "      <td>224791.862382</td>\n",
       "      <td>операции с жильем</td>\n",
       "    </tr>\n",
       "    <tr>\n",
       "      <th>21521</th>\n",
       "      <td>0</td>\n",
       "      <td>343937.404131</td>\n",
       "      <td>67</td>\n",
       "      <td>среднее</td>\n",
       "      <td>1</td>\n",
       "      <td>женат / замужем</td>\n",
       "      <td>0</td>\n",
       "      <td>F</td>\n",
       "      <td>пенсионер</td>\n",
       "      <td>0</td>\n",
       "      <td>155999.806512</td>\n",
       "      <td>сделка с автомобилем</td>\n",
       "    </tr>\n",
       "    <tr>\n",
       "      <th>21522</th>\n",
       "      <td>1</td>\n",
       "      <td>-2113.346888</td>\n",
       "      <td>38</td>\n",
       "      <td>среднее</td>\n",
       "      <td>1</td>\n",
       "      <td>гражданский брак</td>\n",
       "      <td>1</td>\n",
       "      <td>M</td>\n",
       "      <td>сотрудник</td>\n",
       "      <td>1</td>\n",
       "      <td>89672.561153</td>\n",
       "      <td>недвижимость</td>\n",
       "    </tr>\n",
       "    <tr>\n",
       "      <th>21523</th>\n",
       "      <td>3</td>\n",
       "      <td>-3112.481705</td>\n",
       "      <td>38</td>\n",
       "      <td>среднее</td>\n",
       "      <td>1</td>\n",
       "      <td>женат / замужем</td>\n",
       "      <td>0</td>\n",
       "      <td>M</td>\n",
       "      <td>сотрудник</td>\n",
       "      <td>1</td>\n",
       "      <td>244093.050500</td>\n",
       "      <td>на покупку своего автомобиля</td>\n",
       "    </tr>\n",
       "    <tr>\n",
       "      <th>21524</th>\n",
       "      <td>2</td>\n",
       "      <td>-1984.507589</td>\n",
       "      <td>40</td>\n",
       "      <td>среднее</td>\n",
       "      <td>1</td>\n",
       "      <td>женат / замужем</td>\n",
       "      <td>0</td>\n",
       "      <td>F</td>\n",
       "      <td>сотрудник</td>\n",
       "      <td>0</td>\n",
       "      <td>82047.418899</td>\n",
       "      <td>на покупку автомобиля</td>\n",
       "    </tr>\n",
       "  </tbody>\n",
       "</table>\n",
       "<p>21525 rows × 12 columns</p>\n",
       "</div>"
      ],
      "text/plain": [
       "       children  days_employed  dob_years education  education_id  \\\n",
       "0             1   -8437.673028         42    высшее             0   \n",
       "1             1   -4024.803754         36   среднее             1   \n",
       "2             0   -5623.422610         33   Среднее             1   \n",
       "3             3   -4124.747207         32   среднее             1   \n",
       "4             0  340266.072047         53   среднее             1   \n",
       "...         ...            ...        ...       ...           ...   \n",
       "21520         1   -4529.316663         43   среднее             1   \n",
       "21521         0  343937.404131         67   среднее             1   \n",
       "21522         1   -2113.346888         38   среднее             1   \n",
       "21523         3   -3112.481705         38   среднее             1   \n",
       "21524         2   -1984.507589         40   среднее             1   \n",
       "\n",
       "          family_status  family_status_id gender income_type  debt  \\\n",
       "0       женат / замужем                 0      F   сотрудник     0   \n",
       "1       женат / замужем                 0      F   сотрудник     0   \n",
       "2       женат / замужем                 0      M   сотрудник     0   \n",
       "3       женат / замужем                 0      M   сотрудник     0   \n",
       "4      гражданский брак                 1      F   пенсионер     0   \n",
       "...                 ...               ...    ...         ...   ...   \n",
       "21520  гражданский брак                 1      F   компаньон     0   \n",
       "21521   женат / замужем                 0      F   пенсионер     0   \n",
       "21522  гражданский брак                 1      M   сотрудник     1   \n",
       "21523   женат / замужем                 0      M   сотрудник     1   \n",
       "21524   женат / замужем                 0      F   сотрудник     0   \n",
       "\n",
       "        total_income                       purpose  \n",
       "0      253875.639453                 покупка жилья  \n",
       "1      112080.014102       приобретение автомобиля  \n",
       "2      145885.952297                 покупка жилья  \n",
       "3      267628.550329    дополнительное образование  \n",
       "4      158616.077870               сыграть свадьбу  \n",
       "...              ...                           ...  \n",
       "21520  224791.862382             операции с жильем  \n",
       "21521  155999.806512          сделка с автомобилем  \n",
       "21522   89672.561153                  недвижимость  \n",
       "21523  244093.050500  на покупку своего автомобиля  \n",
       "21524   82047.418899         на покупку автомобиля  \n",
       "\n",
       "[21525 rows x 12 columns]"
      ]
     },
     "execution_count": 40,
     "metadata": {},
     "output_type": "execute_result"
    }
   ],
   "source": [
    "# Применям метод read_csv и сохраним в переменной data\n",
    "data = pd.read_csv('data.csv')\n",
    "\n",
    "# для хранения функции Mystem() создаем переменную m\n",
    "\n",
    "m = Mystem()\n",
    "\n",
    "# Общую информацию датафрейма получим с помощью метода .info()\n",
    "data.info()\n",
    "# Показать таблицу\n",
    "data"
   ]
  },
  {
   "cell_type": "markdown",
   "metadata": {},
   "source": [
    "**Вывод**"
   ]
  },
  {
   "cell_type": "markdown",
   "metadata": {},
   "source": [
    "В таблице 21525 строк и 12 столбцов. \n",
    "Названия столбцов соответствуют \"правильной\" стилистике:\n",
    "\n",
    "-змеиный_регистр\n",
    "\n",
    "-в названии применяются строчные латинские буквы\n",
    "\n",
    "Следовательно, переименование столбцов таблицы не требуется.\n",
    "\n",
    "В таблице присутствуют различные типы данных: целочисленный (_int_), тип данных с плавающей точкой (_float_) и типа _object_ (_str_ и другие)."
   ]
  },
  {
   "cell_type": "markdown",
   "metadata": {},
   "source": [
    "## Шаг 2. Предобработка данных"
   ]
  },
  {
   "cell_type": "markdown",
   "metadata": {},
   "source": [
    "Можно заметить, что в столбцах **days_employed** и **total_income** отсутствуют данные, в связи с чем требуется предобратка данных по пропускам перед исследованием.\n",
    "\n",
    "Также можно заметить некорректность данных в **days_employed**. По определению \"Общий трудовой стаж в днях\" - это суммарная продолжительность рабочей деятельности...то есть значение этого показателя неотрицательно (>=0). Кроме этого, некоторые значения слишком большие (340266 дней равносильно 932 годам)."
   ]
  },
  {
   "cell_type": "code",
   "execution_count": 41,
   "metadata": {},
   "outputs": [],
   "source": [
    "# В столбцах education и family_status приведем все значения к нижнему регистру\n",
    "data['education'] = data['education'].str.lower()\n",
    "data['family_status'] = data['family_status'].str.lower()"
   ]
  },
  {
   "cell_type": "markdown",
   "metadata": {},
   "source": [
    "### Обработка пропусков"
   ]
  },
  {
   "cell_type": "markdown",
   "metadata": {},
   "source": [
    "***Определите и заполните пропущенные значения***"
   ]
  },
  {
   "cell_type": "markdown",
   "metadata": {},
   "source": [
    "***Опишите, какие пропущенные значения вы обнаружили***"
   ]
  },
  {
   "cell_type": "code",
   "execution_count": 42,
   "metadata": {},
   "outputs": [
    {
     "data": {
      "text/plain": [
       "children               0\n",
       "days_employed       2174\n",
       "dob_years              0\n",
       "education              0\n",
       "education_id           0\n",
       "family_status          0\n",
       "family_status_id       0\n",
       "gender                 0\n",
       "income_type            0\n",
       "debt                   0\n",
       "total_income        2174\n",
       "purpose                0\n",
       "dtype: int64"
      ]
     },
     "execution_count": 42,
     "metadata": {},
     "output_type": "execute_result"
    }
   ],
   "source": [
    "# Подсчет количества пропусков в таблице\n",
    "data.isna().sum()"
   ]
  },
  {
   "cell_type": "markdown",
   "metadata": {},
   "source": [
    "или"
   ]
  },
  {
   "cell_type": "code",
   "execution_count": 43,
   "metadata": {},
   "outputs": [
    {
     "name": "stdout",
     "output_type": "stream",
     "text": [
      "2174\n",
      "2174\n"
     ]
    }
   ],
   "source": [
    "# Количество пропусков в столбцах days_employed и total_income\n",
    "print(len(data[data['total_income'].isna()]))\n",
    "print(len(data[data['days_employed'].isna()]))"
   ]
  },
  {
   "cell_type": "code",
   "execution_count": 44,
   "metadata": {},
   "outputs": [
    {
     "data": {
      "text/plain": [
       "2174"
      ]
     },
     "execution_count": 44,
     "metadata": {},
     "output_type": "execute_result"
    }
   ],
   "source": [
    "\n",
    "# Количество пропусков в столбцах days_employed и total_income одинаково, \n",
    "# проверим находятся ли они в одинаковых строках или нет \n",
    "\n",
    "data.loc[(data['total_income'].isna())&(data['days_employed'].isna())].shape[0]"
   ]
  },
  {
   "cell_type": "markdown",
   "metadata": {},
   "source": [
    "**Вывод**"
   ]
  },
  {
   "cell_type": "markdown",
   "metadata": {},
   "source": [
    "В столбцах **days_employed** и **total_income** отсутсвуют данные в 2174 строках, что составляет 10% от всех строк. Поэтому их удаление может сильно исказить результаты исследования. \n"
   ]
  },
  {
   "cell_type": "markdown",
   "metadata": {},
   "source": [
    "***Приведите возможные причины появления пропусков в данных***"
   ]
  },
  {
   "cell_type": "markdown",
   "metadata": {},
   "source": [
    "Вероятнее всего, пропуски вызваны тем, что клиенты не представили данную информацию банку. Не исключено, что часть данных могла \"потеряться\" или \"удалиться\" из-за обработки таблицы работником банка. \n",
    "\n",
    "В любом случае, пропуски есть и их отсутсвие нужно каким-то образом исправить так, чтобы наше исследовние было \"правдоподобным\" и не искаженным."
   ]
  },
  {
   "cell_type": "markdown",
   "metadata": {},
   "source": [
    "***Объясните, по какому принципу заполнены пропуски***"
   ]
  },
  {
   "cell_type": "markdown",
   "metadata": {},
   "source": [
    "При заполнении пропусков в столбце **total_income** прежде всего зададимся вопросом: \"А что влияет на ежемесячный доход?\". Логичнее всего, что таким определяющим фактором является род деятельности, который представлен в столбце **income_type**. Поэтому, в зависимости от значения в столбце **income_type**, заполним пропуск в столбце **total_income** средним или медианным значением."
   ]
  },
  {
   "cell_type": "code",
   "execution_count": 45,
   "metadata": {},
   "outputs": [
    {
     "data": {
      "text/plain": [
       "income_type\n",
       "безработный            2\n",
       "в декрете              1\n",
       "госслужащий         1312\n",
       "компаньон           4577\n",
       "пенсионер           3443\n",
       "предприниматель        1\n",
       "сотрудник          10014\n",
       "студент                1\n",
       "Name: total_income, dtype: int64"
      ]
     },
     "execution_count": 45,
     "metadata": {},
     "output_type": "execute_result"
    }
   ],
   "source": [
    "data.groupby('income_type')['total_income'].count()"
   ]
  },
  {
   "cell_type": "code",
   "execution_count": 46,
   "metadata": {
    "scrolled": false
   },
   "outputs": [
    {
     "data": {
      "text/html": [
       "<div>\n",
       "<style scoped>\n",
       "    .dataframe tbody tr th:only-of-type {\n",
       "        vertical-align: middle;\n",
       "    }\n",
       "\n",
       "    .dataframe tbody tr th {\n",
       "        vertical-align: top;\n",
       "    }\n",
       "\n",
       "    .dataframe thead tr th {\n",
       "        text-align: left;\n",
       "    }\n",
       "\n",
       "    .dataframe thead tr:last-of-type th {\n",
       "        text-align: right;\n",
       "    }\n",
       "</style>\n",
       "<table border=\"1\" class=\"dataframe\">\n",
       "  <thead>\n",
       "    <tr>\n",
       "      <th></th>\n",
       "      <th colspan=\"2\" halign=\"left\">total_income</th>\n",
       "    </tr>\n",
       "    <tr>\n",
       "      <th></th>\n",
       "      <th>mean</th>\n",
       "      <th>median</th>\n",
       "    </tr>\n",
       "    <tr>\n",
       "      <th>income_type</th>\n",
       "      <th></th>\n",
       "      <th></th>\n",
       "    </tr>\n",
       "  </thead>\n",
       "  <tbody>\n",
       "    <tr>\n",
       "      <th>безработный</th>\n",
       "      <td>131339.751676</td>\n",
       "      <td>131339.751676</td>\n",
       "    </tr>\n",
       "    <tr>\n",
       "      <th>в декрете</th>\n",
       "      <td>53829.130729</td>\n",
       "      <td>53829.130729</td>\n",
       "    </tr>\n",
       "    <tr>\n",
       "      <th>госслужащий</th>\n",
       "      <td>170898.309923</td>\n",
       "      <td>150447.935283</td>\n",
       "    </tr>\n",
       "    <tr>\n",
       "      <th>компаньон</th>\n",
       "      <td>202417.461462</td>\n",
       "      <td>172357.950966</td>\n",
       "    </tr>\n",
       "    <tr>\n",
       "      <th>пенсионер</th>\n",
       "      <td>137127.465690</td>\n",
       "      <td>118514.486412</td>\n",
       "    </tr>\n",
       "    <tr>\n",
       "      <th>предприниматель</th>\n",
       "      <td>499163.144947</td>\n",
       "      <td>499163.144947</td>\n",
       "    </tr>\n",
       "    <tr>\n",
       "      <th>сотрудник</th>\n",
       "      <td>161380.260488</td>\n",
       "      <td>142594.396847</td>\n",
       "    </tr>\n",
       "    <tr>\n",
       "      <th>студент</th>\n",
       "      <td>98201.625314</td>\n",
       "      <td>98201.625314</td>\n",
       "    </tr>\n",
       "  </tbody>\n",
       "</table>\n",
       "</div>"
      ],
      "text/plain": [
       "                  total_income               \n",
       "                          mean         median\n",
       "income_type                                  \n",
       "безработный      131339.751676  131339.751676\n",
       "в декрете         53829.130729   53829.130729\n",
       "госслужащий      170898.309923  150447.935283\n",
       "компаньон        202417.461462  172357.950966\n",
       "пенсионер        137127.465690  118514.486412\n",
       "предприниматель  499163.144947  499163.144947\n",
       "сотрудник        161380.260488  142594.396847\n",
       "студент           98201.625314   98201.625314"
      ]
     },
     "metadata": {},
     "output_type": "display_data"
    }
   ],
   "source": [
    "# Сгруппируем данные по столбцу income_type \n",
    "# и посчитаем среднее значение и медианное значения ежемесячного дохода total_income \n",
    "# для представления среднего и медианного значений в таблице применим метод agg для столбца total_income\n",
    "display(data.groupby('income_type').agg({'total_income':['mean','median']}))"
   ]
  },
  {
   "cell_type": "markdown",
   "metadata": {},
   "source": [
    "Заметим, что некоторые группы встречаются в таблице намного чаще, в связи с чем заметны отклонения ~ 10% между средним и медианным значением дохода. \n",
    "Заменим пропуски в столбце **total_income** на медианные значения (тем самым учитывая доход среднестатистического клиента). А вот пропуски в столбце **days_employed** на мой взгляд, логичнее, заполнить средним значениями."
   ]
  },
  {
   "cell_type": "code",
   "execution_count": 47,
   "metadata": {},
   "outputs": [],
   "source": [
    "# Создаем переменную для хранения Series() и \n",
    "# создания связи \"род деятельности\"-\"медианное значение месячного дохода для этой категории\" и \"род деятельности\"-\"среднее значение количества рабочих дней\"\n",
    "total_income_median = data.groupby('income_type')['total_income'].median()\n",
    "days_employed_mean = data.groupby('dob_years')['days_employed'].mean()"
   ]
  },
  {
   "cell_type": "code",
   "execution_count": 48,
   "metadata": {},
   "outputs": [],
   "source": [
    "# Добавляем столбец, в котором будут храниться средние значения.\n",
    "data['median'] = data.groupby('income_type')['total_income'].transform('median')\n",
    "data['mean'] =  data.groupby('dob_years')['days_employed'].transform('mean')\n",
    "# Заполняем пропущенные значения средними.\n",
    "data['total_income'] = data['total_income'].fillna(data['median'])\n",
    "data['days_employed'] = data['days_employed'].fillna(data['mean'])\n",
    "\n"
   ]
  },
  {
   "cell_type": "code",
   "execution_count": 49,
   "metadata": {
    "scrolled": true
   },
   "outputs": [
    {
     "data": {
      "text/plain": [
       "0"
      ]
     },
     "execution_count": 49,
     "metadata": {},
     "output_type": "execute_result"
    }
   ],
   "source": [
    "# Убеждаемся, что пропуски отсутствуют\n",
    "# Логичнее использовать более логическое сложение условий\n",
    "data['total_income'].loc[(data['total_income'].isna())^(data['days_employed'].isna())].count()"
   ]
  },
  {
   "cell_type": "code",
   "execution_count": 50,
   "metadata": {
    "scrolled": true
   },
   "outputs": [
    {
     "data": {
      "text/html": [
       "<div>\n",
       "<style scoped>\n",
       "    .dataframe tbody tr th:only-of-type {\n",
       "        vertical-align: middle;\n",
       "    }\n",
       "\n",
       "    .dataframe tbody tr th {\n",
       "        vertical-align: top;\n",
       "    }\n",
       "\n",
       "    .dataframe thead th {\n",
       "        text-align: right;\n",
       "    }\n",
       "</style>\n",
       "<table border=\"1\" class=\"dataframe\">\n",
       "  <thead>\n",
       "    <tr style=\"text-align: right;\">\n",
       "      <th></th>\n",
       "      <th>children</th>\n",
       "      <th>days_employed</th>\n",
       "      <th>dob_years</th>\n",
       "      <th>education</th>\n",
       "      <th>education_id</th>\n",
       "      <th>family_status</th>\n",
       "      <th>family_status_id</th>\n",
       "      <th>gender</th>\n",
       "      <th>income_type</th>\n",
       "      <th>debt</th>\n",
       "      <th>total_income</th>\n",
       "      <th>purpose</th>\n",
       "      <th>median</th>\n",
       "      <th>mean</th>\n",
       "    </tr>\n",
       "  </thead>\n",
       "  <tbody>\n",
       "    <tr>\n",
       "      <th>0</th>\n",
       "      <td>1</td>\n",
       "      <td>-8437.673028</td>\n",
       "      <td>42</td>\n",
       "      <td>высшее</td>\n",
       "      <td>0</td>\n",
       "      <td>женат / замужем</td>\n",
       "      <td>0</td>\n",
       "      <td>F</td>\n",
       "      <td>сотрудник</td>\n",
       "      <td>0</td>\n",
       "      <td>253875.639453</td>\n",
       "      <td>покупка жилья</td>\n",
       "      <td>142594.396847</td>\n",
       "      <td>3393.631090</td>\n",
       "    </tr>\n",
       "    <tr>\n",
       "      <th>1</th>\n",
       "      <td>1</td>\n",
       "      <td>-4024.803754</td>\n",
       "      <td>36</td>\n",
       "      <td>среднее</td>\n",
       "      <td>1</td>\n",
       "      <td>женат / замужем</td>\n",
       "      <td>0</td>\n",
       "      <td>F</td>\n",
       "      <td>сотрудник</td>\n",
       "      <td>0</td>\n",
       "      <td>112080.014102</td>\n",
       "      <td>приобретение автомобиля</td>\n",
       "      <td>142594.396847</td>\n",
       "      <td>-21.296136</td>\n",
       "    </tr>\n",
       "    <tr>\n",
       "      <th>2</th>\n",
       "      <td>0</td>\n",
       "      <td>-5623.422610</td>\n",
       "      <td>33</td>\n",
       "      <td>среднее</td>\n",
       "      <td>1</td>\n",
       "      <td>женат / замужем</td>\n",
       "      <td>0</td>\n",
       "      <td>M</td>\n",
       "      <td>сотрудник</td>\n",
       "      <td>0</td>\n",
       "      <td>145885.952297</td>\n",
       "      <td>покупка жилья</td>\n",
       "      <td>142594.396847</td>\n",
       "      <td>-481.794213</td>\n",
       "    </tr>\n",
       "    <tr>\n",
       "      <th>3</th>\n",
       "      <td>3</td>\n",
       "      <td>-4124.747207</td>\n",
       "      <td>32</td>\n",
       "      <td>среднее</td>\n",
       "      <td>1</td>\n",
       "      <td>женат / замужем</td>\n",
       "      <td>0</td>\n",
       "      <td>M</td>\n",
       "      <td>сотрудник</td>\n",
       "      <td>0</td>\n",
       "      <td>267628.550329</td>\n",
       "      <td>дополнительное образование</td>\n",
       "      <td>142594.396847</td>\n",
       "      <td>427.651495</td>\n",
       "    </tr>\n",
       "    <tr>\n",
       "      <th>4</th>\n",
       "      <td>0</td>\n",
       "      <td>340266.072047</td>\n",
       "      <td>53</td>\n",
       "      <td>среднее</td>\n",
       "      <td>1</td>\n",
       "      <td>гражданский брак</td>\n",
       "      <td>1</td>\n",
       "      <td>F</td>\n",
       "      <td>пенсионер</td>\n",
       "      <td>0</td>\n",
       "      <td>158616.077870</td>\n",
       "      <td>сыграть свадьбу</td>\n",
       "      <td>118514.486412</td>\n",
       "      <td>89171.803901</td>\n",
       "    </tr>\n",
       "  </tbody>\n",
       "</table>\n",
       "</div>"
      ],
      "text/plain": [
       "   children  days_employed  dob_years education  education_id  \\\n",
       "0         1   -8437.673028         42    высшее             0   \n",
       "1         1   -4024.803754         36   среднее             1   \n",
       "2         0   -5623.422610         33   среднее             1   \n",
       "3         3   -4124.747207         32   среднее             1   \n",
       "4         0  340266.072047         53   среднее             1   \n",
       "\n",
       "      family_status  family_status_id gender income_type  debt   total_income  \\\n",
       "0   женат / замужем                 0      F   сотрудник     0  253875.639453   \n",
       "1   женат / замужем                 0      F   сотрудник     0  112080.014102   \n",
       "2   женат / замужем                 0      M   сотрудник     0  145885.952297   \n",
       "3   женат / замужем                 0      M   сотрудник     0  267628.550329   \n",
       "4  гражданский брак                 1      F   пенсионер     0  158616.077870   \n",
       "\n",
       "                      purpose         median          mean  \n",
       "0               покупка жилья  142594.396847   3393.631090  \n",
       "1     приобретение автомобиля  142594.396847    -21.296136  \n",
       "2               покупка жилья  142594.396847   -481.794213  \n",
       "3  дополнительное образование  142594.396847    427.651495  \n",
       "4             сыграть свадьбу  118514.486412  89171.803901  "
      ]
     },
     "metadata": {},
     "output_type": "display_data"
    },
    {
     "data": {
      "text/html": [
       "<div>\n",
       "<style scoped>\n",
       "    .dataframe tbody tr th:only-of-type {\n",
       "        vertical-align: middle;\n",
       "    }\n",
       "\n",
       "    .dataframe tbody tr th {\n",
       "        vertical-align: top;\n",
       "    }\n",
       "\n",
       "    .dataframe thead th {\n",
       "        text-align: right;\n",
       "    }\n",
       "</style>\n",
       "<table border=\"1\" class=\"dataframe\">\n",
       "  <thead>\n",
       "    <tr style=\"text-align: right;\">\n",
       "      <th></th>\n",
       "      <th>children</th>\n",
       "      <th>days_employed</th>\n",
       "      <th>dob_years</th>\n",
       "      <th>education</th>\n",
       "      <th>education_id</th>\n",
       "      <th>family_status</th>\n",
       "      <th>family_status_id</th>\n",
       "      <th>gender</th>\n",
       "      <th>income_type</th>\n",
       "      <th>debt</th>\n",
       "      <th>total_income</th>\n",
       "      <th>purpose</th>\n",
       "      <th>median</th>\n",
       "      <th>mean</th>\n",
       "    </tr>\n",
       "  </thead>\n",
       "  <tbody>\n",
       "    <tr>\n",
       "      <th>21520</th>\n",
       "      <td>1</td>\n",
       "      <td>-4529.316663</td>\n",
       "      <td>43</td>\n",
       "      <td>среднее</td>\n",
       "      <td>1</td>\n",
       "      <td>гражданский брак</td>\n",
       "      <td>1</td>\n",
       "      <td>F</td>\n",
       "      <td>компаньон</td>\n",
       "      <td>0</td>\n",
       "      <td>224791.862382</td>\n",
       "      <td>операции с жильем</td>\n",
       "      <td>172357.950966</td>\n",
       "      <td>4530.036926</td>\n",
       "    </tr>\n",
       "    <tr>\n",
       "      <th>21521</th>\n",
       "      <td>0</td>\n",
       "      <td>343937.404131</td>\n",
       "      <td>67</td>\n",
       "      <td>среднее</td>\n",
       "      <td>1</td>\n",
       "      <td>женат / замужем</td>\n",
       "      <td>0</td>\n",
       "      <td>F</td>\n",
       "      <td>пенсионер</td>\n",
       "      <td>0</td>\n",
       "      <td>155999.806512</td>\n",
       "      <td>сделка с автомобилем</td>\n",
       "      <td>118514.486412</td>\n",
       "      <td>316720.285499</td>\n",
       "    </tr>\n",
       "    <tr>\n",
       "      <th>21522</th>\n",
       "      <td>1</td>\n",
       "      <td>-2113.346888</td>\n",
       "      <td>38</td>\n",
       "      <td>среднее</td>\n",
       "      <td>1</td>\n",
       "      <td>гражданский брак</td>\n",
       "      <td>1</td>\n",
       "      <td>M</td>\n",
       "      <td>сотрудник</td>\n",
       "      <td>1</td>\n",
       "      <td>89672.561153</td>\n",
       "      <td>недвижимость</td>\n",
       "      <td>142594.396847</td>\n",
       "      <td>3095.214328</td>\n",
       "    </tr>\n",
       "    <tr>\n",
       "      <th>21523</th>\n",
       "      <td>3</td>\n",
       "      <td>-3112.481705</td>\n",
       "      <td>38</td>\n",
       "      <td>среднее</td>\n",
       "      <td>1</td>\n",
       "      <td>женат / замужем</td>\n",
       "      <td>0</td>\n",
       "      <td>M</td>\n",
       "      <td>сотрудник</td>\n",
       "      <td>1</td>\n",
       "      <td>244093.050500</td>\n",
       "      <td>на покупку своего автомобиля</td>\n",
       "      <td>142594.396847</td>\n",
       "      <td>3095.214328</td>\n",
       "    </tr>\n",
       "    <tr>\n",
       "      <th>21524</th>\n",
       "      <td>2</td>\n",
       "      <td>-1984.507589</td>\n",
       "      <td>40</td>\n",
       "      <td>среднее</td>\n",
       "      <td>1</td>\n",
       "      <td>женат / замужем</td>\n",
       "      <td>0</td>\n",
       "      <td>F</td>\n",
       "      <td>сотрудник</td>\n",
       "      <td>0</td>\n",
       "      <td>82047.418899</td>\n",
       "      <td>на покупку автомобиля</td>\n",
       "      <td>142594.396847</td>\n",
       "      <td>2446.420996</td>\n",
       "    </tr>\n",
       "  </tbody>\n",
       "</table>\n",
       "</div>"
      ],
      "text/plain": [
       "       children  days_employed  dob_years education  education_id  \\\n",
       "21520         1   -4529.316663         43   среднее             1   \n",
       "21521         0  343937.404131         67   среднее             1   \n",
       "21522         1   -2113.346888         38   среднее             1   \n",
       "21523         3   -3112.481705         38   среднее             1   \n",
       "21524         2   -1984.507589         40   среднее             1   \n",
       "\n",
       "          family_status  family_status_id gender income_type  debt  \\\n",
       "21520  гражданский брак                 1      F   компаньон     0   \n",
       "21521   женат / замужем                 0      F   пенсионер     0   \n",
       "21522  гражданский брак                 1      M   сотрудник     1   \n",
       "21523   женат / замужем                 0      M   сотрудник     1   \n",
       "21524   женат / замужем                 0      F   сотрудник     0   \n",
       "\n",
       "        total_income                       purpose         median  \\\n",
       "21520  224791.862382             операции с жильем  172357.950966   \n",
       "21521  155999.806512          сделка с автомобилем  118514.486412   \n",
       "21522   89672.561153                  недвижимость  142594.396847   \n",
       "21523  244093.050500  на покупку своего автомобиля  142594.396847   \n",
       "21524   82047.418899         на покупку автомобиля  142594.396847   \n",
       "\n",
       "                mean  \n",
       "21520    4530.036926  \n",
       "21521  316720.285499  \n",
       "21522    3095.214328  \n",
       "21523    3095.214328  \n",
       "21524    2446.420996  "
      ]
     },
     "metadata": {},
     "output_type": "display_data"
    }
   ],
   "source": [
    "# Покажем первые 5 и последние 5 строк таблицы, чтобы убедиться, что пропуски заполнились правильными значениями\n",
    "display(data.head(), data.tail())"
   ]
  },
  {
   "cell_type": "markdown",
   "metadata": {},
   "source": [
    "Как можно заметить, замена правильно подставила медианные значения доходов в соответствии с родом деятельности и средние значения рабочих дней в соответствии с возрастом клиентов.\n",
    "\n",
    "Пропуски отсутсвтуют, а значит, можно приступать к следующему пункту предобработки."
   ]
  },
  {
   "cell_type": "markdown",
   "metadata": {},
   "source": [
    "### Замена типа данных"
   ]
  },
  {
   "cell_type": "markdown",
   "metadata": {},
   "source": [
    "***Замените вещественный тип данных на целочисленный***"
   ]
  },
  {
   "cell_type": "markdown",
   "metadata": {},
   "source": [
    "В таблице тип данных (*float*) имеют столбцы **days_employed** и **total_income**. Для изменения типа данных применим метод astype()."
   ]
  },
  {
   "cell_type": "code",
   "execution_count": 51,
   "metadata": {},
   "outputs": [
    {
     "data": {
      "text/plain": [
       "children              int64\n",
       "days_employed         int64\n",
       "dob_years             int64\n",
       "education            object\n",
       "education_id          int64\n",
       "family_status        object\n",
       "family_status_id      int64\n",
       "gender               object\n",
       "income_type          object\n",
       "debt                  int64\n",
       "total_income          int64\n",
       "purpose              object\n",
       "median              float64\n",
       "mean                float64\n",
       "dtype: object"
      ]
     },
     "execution_count": 51,
     "metadata": {},
     "output_type": "execute_result"
    }
   ],
   "source": [
    "data['total_income'] = data['total_income'].astype(int)\n",
    "data['days_employed'] = data['days_employed'].astype(int)\n",
    "data.dtypes"
   ]
  },
  {
   "cell_type": "markdown",
   "metadata": {},
   "source": [
    "Теперь у все числовые данные у нас целочисленные (*int*)."
   ]
  },
  {
   "cell_type": "markdown",
   "metadata": {},
   "source": [
    "**Вывод**"
   ]
  },
  {
   "cell_type": "markdown",
   "metadata": {},
   "source": [
    "***Поясните, как выбирали метод для изменения типа данных***\n",
    "\n",
    "При переводе числе из вещественного типа в целочисленный достаточно применить метод astype().\n",
    "\n",
    "В случае, если бы какие-то числовые данные были представлены в виде строки (типа *object*), то для начала нужно было провести перевод в вещественный тип с помощью функции to_numeric() и только потом применить метод astype()."
   ]
  },
  {
   "cell_type": "markdown",
   "metadata": {},
   "source": [
    "### Обработка дубликатов"
   ]
  },
  {
   "cell_type": "markdown",
   "metadata": {},
   "source": [
    "Посчитаем количество явных строк-дубликатов."
   ]
  },
  {
   "cell_type": "code",
   "execution_count": 52,
   "metadata": {},
   "outputs": [
    {
     "data": {
      "text/plain": [
       "71"
      ]
     },
     "execution_count": 52,
     "metadata": {},
     "output_type": "execute_result"
    }
   ],
   "source": [
    "data.duplicated().sum()"
   ]
  },
  {
   "cell_type": "markdown",
   "metadata": {},
   "source": [
    "Выявлено 71 явных дубликатов. Для их исключения воспользуемся методом drop_duplicates() с обновлением индексов"
   ]
  },
  {
   "cell_type": "code",
   "execution_count": 53,
   "metadata": {},
   "outputs": [
    {
     "data": {
      "text/plain": [
       "21454"
      ]
     },
     "execution_count": 53,
     "metadata": {},
     "output_type": "execute_result"
    }
   ],
   "source": [
    "data = data.drop_duplicates().reset_index(drop = True)\n",
    "# Узнаем количество строк в обновленной таблице\n",
    "data.shape[0]"
   ]
  },
  {
   "cell_type": "markdown",
   "metadata": {},
   "source": [
    "Количество строк таблицы изменилось с 21525 до 21454, то есть уменьшилось на количество явных дубликатов.\n",
    "\n",
    "Далее попробуем отыскать неявные дубликаты или данные с некорректными данными. Можно воспользоваться методом unique(), но мне также интересно количество таких уникальных значений, поэтому воспользуюсь методом value_counts()"
   ]
  },
  {
   "cell_type": "code",
   "execution_count": 54,
   "metadata": {
    "scrolled": false
   },
   "outputs": [
    {
     "name": "stdout",
     "output_type": "stream",
     "text": [
      "Значения столбца children - [-1  0  1  2  3  4  5 20]\n",
      "-1        47\n",
      " 0     14091\n",
      " 1      4808\n",
      " 2      2052\n",
      " 3       330\n",
      " 4        41\n",
      " 5         9\n",
      " 20       76\n",
      "Name: children, dtype: int64\n",
      "_____________________________________\n",
      "Значения столбца days_employed - [-18388 -17615 -16593 ... 401675 401715 401755]\n",
      "-18388     1\n",
      "-17615     1\n",
      "-16593     1\n",
      "-16264     1\n",
      "-16119     1\n",
      "          ..\n",
      " 401663    1\n",
      " 401674    1\n",
      " 401675    1\n",
      " 401715    1\n",
      " 401755    1\n",
      "Name: days_employed, Length: 9130, dtype: int64\n",
      "_____________________________________\n",
      "Значения столбца dob_years - [ 0 19 20 21 22 23 24 25 26 27 28 29 30 31 32 33 34 35 36 37 38 39 40 41\n",
      " 42 43 44 45 46 47 48 49 50 51 52 53 54 55 56 57 58 59 60 61 62 63 64 65\n",
      " 66 67 68 69 70 71 72 73 74 75]\n",
      "0     101\n",
      "19     14\n",
      "20     51\n",
      "21    111\n",
      "22    183\n",
      "23    252\n",
      "24    264\n",
      "25    357\n",
      "26    408\n",
      "27    493\n",
      "28    503\n",
      "29    544\n",
      "30    537\n",
      "31    559\n",
      "32    509\n",
      "33    581\n",
      "34    601\n",
      "35    616\n",
      "36    554\n",
      "37    536\n",
      "38    597\n",
      "39    572\n",
      "40    607\n",
      "41    605\n",
      "42    596\n",
      "43    512\n",
      "44    545\n",
      "45    496\n",
      "46    472\n",
      "47    477\n",
      "48    536\n",
      "49    508\n",
      "50    513\n",
      "51    446\n",
      "52    484\n",
      "53    459\n",
      "54    476\n",
      "55    443\n",
      "56    483\n",
      "57    456\n",
      "58    454\n",
      "59    443\n",
      "60    374\n",
      "61    354\n",
      "62    348\n",
      "63    269\n",
      "64    260\n",
      "65    193\n",
      "66    182\n",
      "67    167\n",
      "68     99\n",
      "69     85\n",
      "70     65\n",
      "71     56\n",
      "72     33\n",
      "73      8\n",
      "74      6\n",
      "75      1\n",
      "Name: dob_years, dtype: int64\n",
      "_____________________________________\n",
      "Значения столбца education - ['высшее' 'начальное' 'неоконченное высшее' 'среднее' 'ученая степень']\n",
      "высшее                  5250\n",
      "начальное                282\n",
      "неоконченное высшее      744\n",
      "среднее                15172\n",
      "ученая степень             6\n",
      "Name: education, dtype: int64\n",
      "_____________________________________\n",
      "Значения столбца education_id - [0 1 2 3 4]\n",
      "0     5250\n",
      "1    15172\n",
      "2      744\n",
      "3      282\n",
      "4        6\n",
      "Name: education_id, dtype: int64\n",
      "_____________________________________\n",
      "Значения столбца family_status - ['в разводе' 'вдовец / вдова' 'гражданский брак' 'женат / замужем'\n",
      " 'не женат / не замужем']\n",
      "в разводе                 1195\n",
      "вдовец / вдова             959\n",
      "гражданский брак          4151\n",
      "женат / замужем          12339\n",
      "не женат / не замужем     2810\n",
      "Name: family_status, dtype: int64\n",
      "_____________________________________\n",
      "Значения столбца family_status_id - [0 1 2 3 4]\n",
      "0    12339\n",
      "1     4151\n",
      "2      959\n",
      "3     1195\n",
      "4     2810\n",
      "Name: family_status_id, dtype: int64\n",
      "_____________________________________\n",
      "Значения столбца gender - ['F' 'M' 'XNA']\n",
      "F      14174\n",
      "M       7279\n",
      "XNA        1\n",
      "Name: gender, dtype: int64\n",
      "_____________________________________\n",
      "Значения столбца income_type - ['безработный' 'в декрете' 'госслужащий' 'компаньон' 'пенсионер'\n",
      " 'предприниматель' 'сотрудник' 'студент']\n",
      "безработный            2\n",
      "в декрете              1\n",
      "госслужащий         1457\n",
      "компаньон           5078\n",
      "пенсионер           3829\n",
      "предприниматель        2\n",
      "сотрудник          11084\n",
      "студент                1\n",
      "Name: income_type, dtype: int64\n",
      "_____________________________________\n",
      "Значения столбца debt - [0 1]\n",
      "0    19713\n",
      "1     1741\n",
      "Name: debt, dtype: int64\n",
      "_____________________________________\n",
      "Значения столбца total_income - [  20667   21205   21367 ... 1726276 2200852 2265604]\n",
      "20667      1\n",
      "21205      1\n",
      "21367      1\n",
      "21695      1\n",
      "21895      1\n",
      "          ..\n",
      "1711309    1\n",
      "1715018    1\n",
      "1726276    1\n",
      "2200852    1\n",
      "2265604    1\n",
      "Name: total_income, Length: 18608, dtype: int64\n",
      "_____________________________________\n",
      "Значения столбца purpose - ['автомобили' 'автомобиль' 'высшее образование'\n",
      " 'дополнительное образование' 'жилье' 'заняться высшим образованием'\n",
      " 'заняться образованием' 'на покупку автомобиля'\n",
      " 'на покупку подержанного автомобиля' 'на покупку своего автомобиля'\n",
      " 'на проведение свадьбы' 'недвижимость' 'образование' 'операции с жильем'\n",
      " 'операции с коммерческой недвижимостью' 'операции с недвижимостью'\n",
      " 'операции со своей недвижимостью' 'покупка жилой недвижимости'\n",
      " 'покупка жилья' 'покупка жилья для сдачи' 'покупка жилья для семьи'\n",
      " 'покупка коммерческой недвижимости' 'покупка недвижимости'\n",
      " 'покупка своего жилья' 'получение высшего образования'\n",
      " 'получение дополнительного образования' 'получение образования'\n",
      " 'приобретение автомобиля' 'профильное образование' 'ремонт жилью'\n",
      " 'свадьба' 'свой автомобиль' 'сделка с автомобилем'\n",
      " 'сделка с подержанным автомобилем' 'строительство жилой недвижимости'\n",
      " 'строительство недвижимости' 'строительство собственной недвижимости'\n",
      " 'сыграть свадьбу']\n",
      "автомобили                                478\n",
      "автомобиль                                494\n",
      "высшее образование                        452\n",
      "дополнительное образование                460\n",
      "жилье                                     646\n",
      "заняться высшим образованием              496\n",
      "заняться образованием                     408\n",
      "на покупку автомобиля                     471\n",
      "на покупку подержанного автомобиля        478\n",
      "на покупку своего автомобиля              505\n",
      "на проведение свадьбы                     768\n",
      "недвижимость                              633\n",
      "образование                               447\n",
      "операции с жильем                         652\n",
      "операции с коммерческой недвижимостью     650\n",
      "операции с недвижимостью                  675\n",
      "операции со своей недвижимостью           627\n",
      "покупка жилой недвижимости                606\n",
      "покупка жилья                             646\n",
      "покупка жилья для сдачи                   651\n",
      "покупка жилья для семьи                   638\n",
      "покупка коммерческой недвижимости         661\n",
      "покупка недвижимости                      621\n",
      "покупка своего жилья                      620\n",
      "получение высшего образования             426\n",
      "получение дополнительного образования     446\n",
      "получение образования                     442\n",
      "приобретение автомобиля                   461\n",
      "профильное образование                    436\n",
      "ремонт жилью                              607\n",
      "свадьба                                   791\n",
      "свой автомобиль                           478\n",
      "сделка с автомобилем                      455\n",
      "сделка с подержанным автомобилем          486\n",
      "строительство жилой недвижимости          624\n",
      "строительство недвижимости                619\n",
      "строительство собственной недвижимости    635\n",
      "сыграть свадьбу                           765\n",
      "Name: purpose, dtype: int64\n",
      "_____________________________________\n",
      "Значения столбца median - [ 53829.13072906  98201.62531401 118514.48641164 131339.75167621\n",
      " 142594.3968474  150447.93528301 172357.95096577 499163.14494709]\n",
      "53829.130729         1\n",
      "98201.625314         1\n",
      "118514.486412     3829\n",
      "131339.751676        2\n",
      "142594.396847    11084\n",
      "150447.935283     1457\n",
      "172357.950966     5078\n",
      "499163.144947        2\n",
      "Name: median, dtype: int64\n",
      "_____________________________________\n",
      "Значения столбца mean - [-1.69603935e+03 -1.67896977e+03 -1.55382320e+03 -1.45490968e+03\n",
      " -1.08840645e+03 -1.02640549e+03 -9.67511501e+02 -8.27309437e+02\n",
      " -7.09440930e+02 -6.84944308e+02 -6.33678086e+02 -6.09021658e+02\n",
      " -4.81794213e+02 -2.12961363e+01  1.96083153e+02  4.27651495e+02\n",
      "  5.01209953e+02  8.26912862e+02  1.02734511e+03  1.23998248e+03\n",
      "  1.56641314e+03  1.58699288e+03  2.44642100e+03  3.09521433e+03\n",
      "  3.39363109e+03  4.43521334e+03  4.53003693e+03  6.30280507e+03\n",
      "  8.47990972e+03  8.56154524e+03  1.25889150e+04  2.08916192e+04\n",
      "  4.51160986e+04  6.34440759e+04  6.59374720e+04  7.77162689e+04\n",
      "  8.91718039e+04  1.22836034e+05  1.48044355e+05  1.53655238e+05\n",
      "  1.85391153e+05  1.90422750e+05  2.24555448e+05  2.38458492e+05\n",
      "  2.44109802e+05  2.60794806e+05  2.72857075e+05  2.85675504e+05\n",
      "  2.85931680e+05  2.91629372e+05  3.12465271e+05  3.12868394e+05\n",
      "  3.16720285e+05  3.16868481e+05  3.25885317e+05  3.31899644e+05\n",
      "  3.32228423e+05  3.37795126e+05]\n",
      "-1696.039355      537\n",
      "-1678.969771        1\n",
      "-1553.823200      544\n",
      "-1454.909683      616\n",
      "-1088.406453      357\n",
      "-1026.405485      264\n",
      "-967.511501       559\n",
      "-827.309437       252\n",
      "-709.440930       111\n",
      "-684.944308        51\n",
      "-633.678086        14\n",
      "-609.021658       503\n",
      "-481.794213       581\n",
      "-21.296136        554\n",
      " 196.083153       601\n",
      " 427.651495       509\n",
      " 501.209953       572\n",
      " 826.912862       408\n",
      " 1027.345107      493\n",
      " 1239.982481      183\n",
      " 1566.413139      536\n",
      " 1586.992875      605\n",
      " 2446.420996      607\n",
      " 3095.214328      597\n",
      " 3393.631090      596\n",
      " 4435.213337      545\n",
      " 4530.036926      512\n",
      " 6302.805072      496\n",
      " 8479.909716      477\n",
      " 8561.545242      472\n",
      " 12588.914967     536\n",
      " 20891.619193     508\n",
      " 45116.098565     513\n",
      " 63444.075862     446\n",
      " 65937.471974     101\n",
      " 77716.268854     484\n",
      " 89171.803901     459\n",
      " 122836.034309    476\n",
      " 148044.355465    443\n",
      " 153655.238208    483\n",
      " 185391.153289    454\n",
      " 190422.749553    456\n",
      " 224555.447555    443\n",
      " 238458.492153      6\n",
      " 244109.801522    354\n",
      " 260794.805996    374\n",
      " 272857.075474    348\n",
      " 285675.504221    193\n",
      " 285931.680485    260\n",
      " 291629.371951    269\n",
      " 312465.270899    182\n",
      " 312868.394179      8\n",
      " 316720.285499    167\n",
      " 316868.481125     65\n",
      " 325885.317389     99\n",
      " 331899.644494     33\n",
      " 332228.422640     56\n",
      " 337795.125514     85\n",
      "Name: mean, dtype: int64\n",
      "_____________________________________\n"
     ]
    }
   ],
   "source": [
    "for row in data.columns:\n",
    "    print(f'Значения столбца {row} - {data[row].sort_values().unique()}')\n",
    "#При подсчете частоты упоминаний того или иного параметра воспользуемся методом sort_index() с параметром ascending равным True, для сортировки значений по порядку.    \n",
    "    print(data[row].value_counts().sort_index(ascending = True))\n",
    "    print('_____________________________________')"
   ]
  },
  {
   "cell_type": "markdown",
   "metadata": {},
   "source": [
    "Из выгрузки видны следующие ошибки:\n",
    "\n",
    "- в столбце ***children*** отрицательное значение -1 (скорее всего ошибка при заполнении, нужно было 1). Также очень сильно выбивается значение 20 (скорее всего ошибка при заполнении, нужно было 2).\n",
    "\n",
    "- в столбце ***gender*** отсутствует 1 значение, которое обозначено как 'XNA' (принципиальное значение этого параметра для нас не интересует, в исследовании зависимости по половому признаку не требуется. Можно исключить эту строку, можно определить ему любое из значений из F и M, применяя метод replace()).\n",
    "\n",
    "- в столбце ***dob_years*** присутствуют нулевые значения (принципиальное значение этого параметра для нас не интересует, но их количество больше, чем количество ошибок в столбце ***gender***, их обработка потребует чуть больше усилий нежели прошлый пункт). \n",
    "\n",
    "Однако, множество столбцов позволило нам найти и отсеять явные дубликаты. А значит для нашего исследования можно исключить следующие столбцы: ***days_employed***, ***gender***, ***dob_years***, ***education***, ***education_id***, ***family_status_id***.\n",
    "Удаление лишних столбцов позволит упростить таблицу для нашего исследования и позволит исключить предобработку незначимых для нашего исследований данных, оставив **самое важное**.\n",
    "\n",
    "**Примечание:** К слову,отбросить столбец ***days_employed*** изначально. Наличие значений этого столбца не влияло на выявления явных дубликатов, но влияло на сложность предобработки пропусков.\n",
    "\n",
    "\n",
    "\n"
   ]
  },
  {
   "cell_type": "code",
   "execution_count": 55,
   "metadata": {},
   "outputs": [],
   "source": [
    "data['children'] = data['children'].replace(-1,1)\n",
    "data['children'] = data['children'].replace(20,2)\n",
    "'''Оставим в нашей таблице самые необходимые столбцы'''\n",
    "data = data[['children', 'family_status', 'income_type', 'debt', 'total_income', 'purpose']]"
   ]
  },
  {
   "cell_type": "code",
   "execution_count": 56,
   "metadata": {},
   "outputs": [
    {
     "name": "stdout",
     "output_type": "stream",
     "text": [
      "Значения столбца children - [0 1 2 3 4 5]\n",
      "\n",
      "__________\n",
      "Значения столбца family_status - ['в разводе' 'вдовец / вдова' 'гражданский брак' 'женат / замужем'\n",
      " 'не женат / не замужем']\n",
      "\n",
      "__________\n",
      "Значения столбца income_type - ['безработный' 'в декрете' 'госслужащий' 'компаньон' 'пенсионер'\n",
      " 'предприниматель' 'сотрудник' 'студент']\n",
      "\n",
      "__________\n",
      "Значения столбца debt - [0 1]\n",
      "\n",
      "__________\n",
      "Значения столбца total_income - [  20667   21205   21367 ... 1726276 2200852 2265604]\n",
      "\n",
      "__________\n",
      "Значения столбца purpose - ['автомобили' 'автомобиль' 'высшее образование'\n",
      " 'дополнительное образование' 'жилье' 'заняться высшим образованием'\n",
      " 'заняться образованием' 'на покупку автомобиля'\n",
      " 'на покупку подержанного автомобиля' 'на покупку своего автомобиля'\n",
      " 'на проведение свадьбы' 'недвижимость' 'образование' 'операции с жильем'\n",
      " 'операции с коммерческой недвижимостью' 'операции с недвижимостью'\n",
      " 'операции со своей недвижимостью' 'покупка жилой недвижимости'\n",
      " 'покупка жилья' 'покупка жилья для сдачи' 'покупка жилья для семьи'\n",
      " 'покупка коммерческой недвижимости' 'покупка недвижимости'\n",
      " 'покупка своего жилья' 'получение высшего образования'\n",
      " 'получение дополнительного образования' 'получение образования'\n",
      " 'приобретение автомобиля' 'профильное образование' 'ремонт жилью'\n",
      " 'свадьба' 'свой автомобиль' 'сделка с автомобилем'\n",
      " 'сделка с подержанным автомобилем' 'строительство жилой недвижимости'\n",
      " 'строительство недвижимости' 'строительство собственной недвижимости'\n",
      " 'сыграть свадьбу']\n",
      "\n",
      "__________\n"
     ]
    }
   ],
   "source": [
    "for row in data.columns:\n",
    "    print(f'Значения столбца {row} - {data[row].sort_values().unique()}')\n",
    "    print('')\n",
    "    print('__________')"
   ]
  },
  {
   "cell_type": "markdown",
   "metadata": {},
   "source": [
    "**Вывод**"
   ]
  },
  {
   "cell_type": "markdown",
   "metadata": {},
   "source": [
    "На данном этапе мы почистили таблицу от явных дубликатов, используя метод drop_duplicates(), а также выявили неявные недочеты. Возможно, фунцкия unique() показала бы другой результат, если бы ранее не проводилось приведение некоторых столбцов к низшему регистру. Также обнаружилось, что в данные закрались некорректные данные, которые были заменены методом replace(). Также были удалены не нужные для нашего исследдования. "
   ]
  },
  {
   "cell_type": "markdown",
   "metadata": {},
   "source": [
    "### Лемматизация"
   ]
  },
  {
   "cell_type": "markdown",
   "metadata": {},
   "source": [
    "***Выделите леммы в значениях столбца с целями получения кредита***"
   ]
  },
  {
   "attachments": {},
   "cell_type": "markdown",
   "metadata": {},
   "source": [
    "Посчитаем количество уникальных записей в столбце ***purpose*** с помощью функции nunique()"
   ]
  },
  {
   "cell_type": "code",
   "execution_count": 57,
   "metadata": {},
   "outputs": [
    {
     "data": {
      "text/plain": [
       "38"
      ]
     },
     "execution_count": 57,
     "metadata": {},
     "output_type": "execute_result"
    }
   ],
   "source": [
    "data['purpose'].nunique()"
   ]
  },
  {
   "cell_type": "markdown",
   "metadata": {},
   "source": [
    "38 различных значений, при этом можно выделить несколько: *образование*, *недвижимость*, *автомобиль*, *свадьба*.\n",
    "\n",
    "Для структурирования столбца **purpose** приведем имеющиеся значения к выдвинутым выше категориям."
   ]
  },
  {
   "cell_type": "markdown",
   "metadata": {},
   "source": [
    "***Опишите, как вы проводили лемматизацию целей кредита***"
   ]
  },
  {
   "cell_type": "code",
   "execution_count": 58,
   "metadata": {},
   "outputs": [
    {
     "name": "stdout",
     "output_type": "stream",
     "text": [
      "Количество пропусков в столбце purpose_group 0\n"
     ]
    },
    {
     "data": {
      "text/html": [
       "<div>\n",
       "<style scoped>\n",
       "    .dataframe tbody tr th:only-of-type {\n",
       "        vertical-align: middle;\n",
       "    }\n",
       "\n",
       "    .dataframe tbody tr th {\n",
       "        vertical-align: top;\n",
       "    }\n",
       "\n",
       "    .dataframe thead th {\n",
       "        text-align: right;\n",
       "    }\n",
       "</style>\n",
       "<table border=\"1\" class=\"dataframe\">\n",
       "  <thead>\n",
       "    <tr style=\"text-align: right;\">\n",
       "      <th></th>\n",
       "      <th>purpose</th>\n",
       "      <th>purpose_group</th>\n",
       "    </tr>\n",
       "  </thead>\n",
       "  <tbody>\n",
       "    <tr>\n",
       "      <th>0</th>\n",
       "      <td>покупка жилья</td>\n",
       "      <td>недвижимость</td>\n",
       "    </tr>\n",
       "    <tr>\n",
       "      <th>1</th>\n",
       "      <td>приобретение автомобиля</td>\n",
       "      <td>автомобиль</td>\n",
       "    </tr>\n",
       "    <tr>\n",
       "      <th>2</th>\n",
       "      <td>покупка жилья</td>\n",
       "      <td>недвижимость</td>\n",
       "    </tr>\n",
       "    <tr>\n",
       "      <th>3</th>\n",
       "      <td>дополнительное образование</td>\n",
       "      <td>образование</td>\n",
       "    </tr>\n",
       "    <tr>\n",
       "      <th>4</th>\n",
       "      <td>сыграть свадьбу</td>\n",
       "      <td>свадьба</td>\n",
       "    </tr>\n",
       "    <tr>\n",
       "      <th>...</th>\n",
       "      <td>...</td>\n",
       "      <td>...</td>\n",
       "    </tr>\n",
       "    <tr>\n",
       "      <th>21449</th>\n",
       "      <td>операции с жильем</td>\n",
       "      <td>недвижимость</td>\n",
       "    </tr>\n",
       "    <tr>\n",
       "      <th>21450</th>\n",
       "      <td>сделка с автомобилем</td>\n",
       "      <td>автомобиль</td>\n",
       "    </tr>\n",
       "    <tr>\n",
       "      <th>21451</th>\n",
       "      <td>недвижимость</td>\n",
       "      <td>недвижимость</td>\n",
       "    </tr>\n",
       "    <tr>\n",
       "      <th>21452</th>\n",
       "      <td>на покупку своего автомобиля</td>\n",
       "      <td>автомобиль</td>\n",
       "    </tr>\n",
       "    <tr>\n",
       "      <th>21453</th>\n",
       "      <td>на покупку автомобиля</td>\n",
       "      <td>автомобиль</td>\n",
       "    </tr>\n",
       "  </tbody>\n",
       "</table>\n",
       "<p>21454 rows × 2 columns</p>\n",
       "</div>"
      ],
      "text/plain": [
       "                            purpose purpose_group\n",
       "0                     покупка жилья  недвижимость\n",
       "1           приобретение автомобиля    автомобиль\n",
       "2                     покупка жилья  недвижимость\n",
       "3        дополнительное образование   образование\n",
       "4                   сыграть свадьбу       свадьба\n",
       "...                             ...           ...\n",
       "21449             операции с жильем  недвижимость\n",
       "21450          сделка с автомобилем    автомобиль\n",
       "21451                  недвижимость  недвижимость\n",
       "21452  на покупку своего автомобиля    автомобиль\n",
       "21453         на покупку автомобиля    автомобиль\n",
       "\n",
       "[21454 rows x 2 columns]"
      ]
     },
     "metadata": {},
     "output_type": "display_data"
    }
   ],
   "source": [
    "# Для приведения целей к какому-то одному виду пропишем функцию\n",
    "def lem(purpose):\n",
    "    purpose_difinition = ['образование', 'недвижимость', 'автомобиль', 'свадьба']\n",
    "    lemmas = m.lemmatize(purpose)\n",
    "    for row in purpose_difinition:\n",
    "        if row in lemmas:\n",
    "            return row\n",
    "# цели, связанные с недвижимостью, также упоминаются в puprose словом \"жилье\" и этим словом с другим окончанием, \n",
    "# поэтому добавим еще условие по поиску этого слова и возвращаемого при его нахождении \"недвижимость\"      \n",
    "        elif 'жилье' in lemmas:\n",
    "            return 'недвижимость'\n",
    "        \n",
    "# Создадим новый столбец purpose_group и сохраним значения \n",
    "data['purpose_group'] = data['purpose'].apply(lem)\n",
    "\n",
    "print('Количество пропусков в столбце purpose_group', data['purpose_group'].isna().sum())\n",
    "\n",
    "# Проверим, правильно ли заполнились значения в purpose_group в соответствии со значением purpose в столбце\n",
    "display(data[['purpose','purpose_group']])\n",
    "        "
   ]
  },
  {
   "cell_type": "markdown",
   "metadata": {},
   "source": [
    "**Вывод**"
   ]
  },
  {
   "cell_type": "markdown",
   "metadata": {},
   "source": [
    "Все строки в столбце **purpose_group** были заполнены значениями 4-х категорий в соответствии со значением в столбце **purpose**"
   ]
  },
  {
   "cell_type": "markdown",
   "metadata": {},
   "source": [
    "### Категоризация данных"
   ]
  },
  {
   "attachments": {},
   "cell_type": "markdown",
   "metadata": {},
   "source": [
    "Исходя из заданных целей исследования структурируем данные по следующим категориям:\n",
    "\n",
    "- по наличию детей (есть дети или нет детей);\n",
    "\n",
    "- по уровню заработка (низкий, средний, высокий, очень высокий)\n",
    "\n",
    "- по целям \n",
    "\n"
   ]
  },
  {
   "cell_type": "code",
   "execution_count": 59,
   "metadata": {},
   "outputs": [],
   "source": [
    "# Создадим функцию для категоризации значений в столбце children\n",
    "\n",
    "def children_category(row):\n",
    "    if row['children'] == 0:\n",
    "        return 'Нет детей'\n",
    "    else: \n",
    "        return 'Есть дети'\n",
    "\n",
    "# Также добавим функцию по возвращению кагории задолженности (есть или нет), которая пригодится нам для создания столбца debt_status \n",
    "# можно уйти от создания функции и прописать обычную замену значения в ячейке через replace\n",
    "\n",
    "def debt_name(row):\n",
    "    if row['debt'] == 0:\n",
    "        return 'отсутствие задолженности'\n",
    "    else:\n",
    "        return 'наличие задолженности'\n",
    "    \n"
   ]
  },
  {
   "cell_type": "code",
   "execution_count": 60,
   "metadata": {},
   "outputs": [
    {
     "data": {
      "text/plain": [
       "0        (195820.25, 2265604.0]\n",
       "1          (107623.0, 142594.0]\n",
       "2         (142594.0, 195820.25]\n",
       "3        (195820.25, 2265604.0]\n",
       "4         (142594.0, 195820.25]\n",
       "                  ...          \n",
       "21449    (195820.25, 2265604.0]\n",
       "21450     (142594.0, 195820.25]\n",
       "21451     (20666.999, 107623.0]\n",
       "21452    (195820.25, 2265604.0]\n",
       "21453     (20666.999, 107623.0]\n",
       "Name: total_income, Length: 21454, dtype: category\n",
       "Categories (4, interval[float64, right]): [(20666.999, 107623.0] < (107623.0, 142594.0] < (142594.0, 195820.25] < (195820.25, 2265604.0]]"
      ]
     },
     "execution_count": 60,
     "metadata": {},
     "output_type": "execute_result"
    }
   ],
   "source": [
    "# Создадим функцию для категоризации значений в столбце total_income\n",
    "\n",
    "# Для этого разделим датасет на 4 категории так, чтобы количество строк в каждой категории было примерно одинаковым\n",
    "\n",
    "pd.qcut(data['total_income'], 4)"
   ]
  },
  {
   "attachments": {},
   "cell_type": "markdown",
   "metadata": {},
   "source": [
    "Итого у нас 4 категории:\n",
    "- меньше 107620\n",
    "\n",
    "- от 107620 до 142594\n",
    "\n",
    "- от 142594 до 195818\n",
    "\n",
    "- от 195818"
   ]
  },
  {
   "cell_type": "code",
   "execution_count": 61,
   "metadata": {},
   "outputs": [],
   "source": [
    "pd.qcut(data['total_income'], 4)\n",
    "\n",
    "def income_category(row):\n",
    "    if row['total_income'] < 107620:\n",
    "        return 'Очень низкий заработок'\n",
    "    elif row['total_income'] < 142594:\n",
    "        return 'Низкий заработок'\n",
    "    elif row['total_income'] < 195818:\n",
    "        return 'Средний заработок'\n",
    "    else: \n",
    "        return 'Высокий заработок'"
   ]
  },
  {
   "cell_type": "code",
   "execution_count": 62,
   "metadata": {},
   "outputs": [
    {
     "data": {
      "text/html": [
       "<div>\n",
       "<style scoped>\n",
       "    .dataframe tbody tr th:only-of-type {\n",
       "        vertical-align: middle;\n",
       "    }\n",
       "\n",
       "    .dataframe tbody tr th {\n",
       "        vertical-align: top;\n",
       "    }\n",
       "\n",
       "    .dataframe thead th {\n",
       "        text-align: right;\n",
       "    }\n",
       "</style>\n",
       "<table border=\"1\" class=\"dataframe\">\n",
       "  <thead>\n",
       "    <tr style=\"text-align: right;\">\n",
       "      <th></th>\n",
       "      <th>children_group</th>\n",
       "      <th>debt_status</th>\n",
       "      <th>income_group</th>\n",
       "    </tr>\n",
       "  </thead>\n",
       "  <tbody>\n",
       "    <tr>\n",
       "      <th>0</th>\n",
       "      <td>Есть дети</td>\n",
       "      <td>отсутствие задолженности</td>\n",
       "      <td>Высокий заработок</td>\n",
       "    </tr>\n",
       "    <tr>\n",
       "      <th>1</th>\n",
       "      <td>Есть дети</td>\n",
       "      <td>отсутствие задолженности</td>\n",
       "      <td>Низкий заработок</td>\n",
       "    </tr>\n",
       "    <tr>\n",
       "      <th>2</th>\n",
       "      <td>Нет детей</td>\n",
       "      <td>отсутствие задолженности</td>\n",
       "      <td>Средний заработок</td>\n",
       "    </tr>\n",
       "    <tr>\n",
       "      <th>3</th>\n",
       "      <td>Есть дети</td>\n",
       "      <td>отсутствие задолженности</td>\n",
       "      <td>Высокий заработок</td>\n",
       "    </tr>\n",
       "    <tr>\n",
       "      <th>4</th>\n",
       "      <td>Нет детей</td>\n",
       "      <td>отсутствие задолженности</td>\n",
       "      <td>Средний заработок</td>\n",
       "    </tr>\n",
       "    <tr>\n",
       "      <th>5</th>\n",
       "      <td>Нет детей</td>\n",
       "      <td>отсутствие задолженности</td>\n",
       "      <td>Высокий заработок</td>\n",
       "    </tr>\n",
       "    <tr>\n",
       "      <th>6</th>\n",
       "      <td>Нет детей</td>\n",
       "      <td>отсутствие задолженности</td>\n",
       "      <td>Высокий заработок</td>\n",
       "    </tr>\n",
       "    <tr>\n",
       "      <th>7</th>\n",
       "      <td>Нет детей</td>\n",
       "      <td>отсутствие задолженности</td>\n",
       "      <td>Низкий заработок</td>\n",
       "    </tr>\n",
       "    <tr>\n",
       "      <th>8</th>\n",
       "      <td>Есть дети</td>\n",
       "      <td>отсутствие задолженности</td>\n",
       "      <td>Очень низкий заработок</td>\n",
       "    </tr>\n",
       "    <tr>\n",
       "      <th>9</th>\n",
       "      <td>Нет детей</td>\n",
       "      <td>отсутствие задолженности</td>\n",
       "      <td>Средний заработок</td>\n",
       "    </tr>\n",
       "    <tr>\n",
       "      <th>10</th>\n",
       "      <td>Есть дети</td>\n",
       "      <td>отсутствие задолженности</td>\n",
       "      <td>Низкий заработок</td>\n",
       "    </tr>\n",
       "    <tr>\n",
       "      <th>11</th>\n",
       "      <td>Нет детей</td>\n",
       "      <td>отсутствие задолженности</td>\n",
       "      <td>Очень низкий заработок</td>\n",
       "    </tr>\n",
       "    <tr>\n",
       "      <th>12</th>\n",
       "      <td>Нет детей</td>\n",
       "      <td>отсутствие задолженности</td>\n",
       "      <td>Низкий заработок</td>\n",
       "    </tr>\n",
       "    <tr>\n",
       "      <th>13</th>\n",
       "      <td>Нет детей</td>\n",
       "      <td>отсутствие задолженности</td>\n",
       "      <td>Низкий заработок</td>\n",
       "    </tr>\n",
       "    <tr>\n",
       "      <th>14</th>\n",
       "      <td>Нет детей</td>\n",
       "      <td>наличие задолженности</td>\n",
       "      <td>Средний заработок</td>\n",
       "    </tr>\n",
       "    <tr>\n",
       "      <th>15</th>\n",
       "      <td>Есть дети</td>\n",
       "      <td>отсутствие задолженности</td>\n",
       "      <td>Низкий заработок</td>\n",
       "    </tr>\n",
       "    <tr>\n",
       "      <th>16</th>\n",
       "      <td>Нет детей</td>\n",
       "      <td>отсутствие задолженности</td>\n",
       "      <td>Высокий заработок</td>\n",
       "    </tr>\n",
       "    <tr>\n",
       "      <th>17</th>\n",
       "      <td>Нет детей</td>\n",
       "      <td>отсутствие задолженности</td>\n",
       "      <td>Очень низкий заработок</td>\n",
       "    </tr>\n",
       "    <tr>\n",
       "      <th>18</th>\n",
       "      <td>Нет детей</td>\n",
       "      <td>отсутствие задолженности</td>\n",
       "      <td>Очень низкий заработок</td>\n",
       "    </tr>\n",
       "    <tr>\n",
       "      <th>19</th>\n",
       "      <td>Нет детей</td>\n",
       "      <td>отсутствие задолженности</td>\n",
       "      <td>Высокий заработок</td>\n",
       "    </tr>\n",
       "  </tbody>\n",
       "</table>\n",
       "</div>"
      ],
      "text/plain": [
       "   children_group               debt_status            income_group\n",
       "0       Есть дети  отсутствие задолженности       Высокий заработок\n",
       "1       Есть дети  отсутствие задолженности        Низкий заработок\n",
       "2       Нет детей  отсутствие задолженности       Средний заработок\n",
       "3       Есть дети  отсутствие задолженности       Высокий заработок\n",
       "4       Нет детей  отсутствие задолженности       Средний заработок\n",
       "5       Нет детей  отсутствие задолженности       Высокий заработок\n",
       "6       Нет детей  отсутствие задолженности       Высокий заработок\n",
       "7       Нет детей  отсутствие задолженности        Низкий заработок\n",
       "8       Есть дети  отсутствие задолженности  Очень низкий заработок\n",
       "9       Нет детей  отсутствие задолженности       Средний заработок\n",
       "10      Есть дети  отсутствие задолженности        Низкий заработок\n",
       "11      Нет детей  отсутствие задолженности  Очень низкий заработок\n",
       "12      Нет детей  отсутствие задолженности        Низкий заработок\n",
       "13      Нет детей  отсутствие задолженности        Низкий заработок\n",
       "14      Нет детей     наличие задолженности       Средний заработок\n",
       "15      Есть дети  отсутствие задолженности        Низкий заработок\n",
       "16      Нет детей  отсутствие задолженности       Высокий заработок\n",
       "17      Нет детей  отсутствие задолженности  Очень низкий заработок\n",
       "18      Нет детей  отсутствие задолженности  Очень низкий заработок\n",
       "19      Нет детей  отсутствие задолженности       Высокий заработок"
      ]
     },
     "execution_count": 62,
     "metadata": {},
     "output_type": "execute_result"
    }
   ],
   "source": [
    "# Добавим в таблицу столбцы children_group, debt_status и income_group с названием категории\n",
    "\n",
    "data['children_group'] = data.apply(children_category, axis = 1)\n",
    "data['debt_status'] = data.apply(debt_name, axis = 1)\n",
    "data['income_group'] = data.apply(income_category, axis = 1)\n",
    "\n",
    "data[['children_group','debt_status','income_group']].head(20)\n"
   ]
  },
  {
   "cell_type": "markdown",
   "metadata": {},
   "source": [
    "**Вывод**"
   ]
  },
  {
   "cell_type": "markdown",
   "metadata": {},
   "source": [
    "В таблице созданы столбцы, которые создержат значение категории по наличиюю детей, уровню заработка или целевому значению кредита.\n",
    "\n",
    "Данные таблицы обработаны и готовы к исследованию"
   ]
  },
  {
   "cell_type": "markdown",
   "metadata": {},
   "source": [
    "## Шаг 3. Ответьте на вопросы"
   ]
  },
  {
   "cell_type": "markdown",
   "metadata": {},
   "source": [
    "Для ответов на поставленные вопросы будем создавать сводные таблицы с помощью функции pivot_table, содержащие необходимые данные. \n",
    "Также, добавим столбец с расчетом доли должников по каждой категории, значение которого будет определяющим в ответе на поставленный вопрос"
   ]
  },
  {
   "cell_type": "markdown",
   "metadata": {},
   "source": [
    "- Есть ли зависимость между наличием детей и возвратом кредита в срок?"
   ]
  },
  {
   "cell_type": "code",
   "execution_count": 63,
   "metadata": {},
   "outputs": [],
   "source": [
    "children_pivot = data.pivot_table(\n",
    "    index = 'children_group',   \n",
    "    columns = 'debt_status',\n",
    "    values = 'debt', \n",
    "    aggfunc = 'count')\n",
    "children_pivot['total'] = children_pivot['отсутствие задолженности']+children_pivot['наличие задолженности']\n",
    "children_pivot['debtor_percent'] = children_pivot['наличие задолженности'] * 100 / (children_pivot['отсутствие задолженности']+children_pivot['наличие задолженности'])"
   ]
  },
  {
   "cell_type": "code",
   "execution_count": 64,
   "metadata": {},
   "outputs": [
    {
     "data": {
      "text/html": [
       "<div>\n",
       "<style scoped>\n",
       "    .dataframe tbody tr th:only-of-type {\n",
       "        vertical-align: middle;\n",
       "    }\n",
       "\n",
       "    .dataframe tbody tr th {\n",
       "        vertical-align: top;\n",
       "    }\n",
       "\n",
       "    .dataframe thead th {\n",
       "        text-align: right;\n",
       "    }\n",
       "</style>\n",
       "<table border=\"1\" class=\"dataframe\">\n",
       "  <thead>\n",
       "    <tr style=\"text-align: right;\">\n",
       "      <th>debt_status</th>\n",
       "      <th>наличие задолженности</th>\n",
       "      <th>отсутствие задолженности</th>\n",
       "      <th>total</th>\n",
       "      <th>debtor_percent</th>\n",
       "    </tr>\n",
       "    <tr>\n",
       "      <th>children_group</th>\n",
       "      <th></th>\n",
       "      <th></th>\n",
       "      <th></th>\n",
       "      <th></th>\n",
       "    </tr>\n",
       "  </thead>\n",
       "  <tbody>\n",
       "    <tr>\n",
       "      <th>Нет детей</th>\n",
       "      <td>1063</td>\n",
       "      <td>13028</td>\n",
       "      <td>14091</td>\n",
       "      <td>7.543822</td>\n",
       "    </tr>\n",
       "    <tr>\n",
       "      <th>Есть дети</th>\n",
       "      <td>678</td>\n",
       "      <td>6685</td>\n",
       "      <td>7363</td>\n",
       "      <td>9.208203</td>\n",
       "    </tr>\n",
       "  </tbody>\n",
       "</table>\n",
       "</div>"
      ],
      "text/plain": [
       "debt_status     наличие задолженности  отсутствие задолженности  total  \\\n",
       "children_group                                                           \n",
       "Нет детей                        1063                     13028  14091   \n",
       "Есть дети                         678                      6685   7363   \n",
       "\n",
       "debt_status     debtor_percent  \n",
       "children_group                  \n",
       "Нет детей             7.543822  \n",
       "Есть дети             9.208203  "
      ]
     },
     "execution_count": 64,
     "metadata": {},
     "output_type": "execute_result"
    }
   ],
   "source": [
    "children_pivot.sort_values(by = 'debtor_percent')"
   ]
  },
  {
   "cell_type": "markdown",
   "metadata": {},
   "source": [
    "**Вывод**"
   ]
  },
  {
   "attachments": {},
   "cell_type": "markdown",
   "metadata": {},
   "source": [
    "Наличие задолженности по кредиту присуще как для семей с детьми, так и для семей без детей.\n",
    "Несмотря на большее количество кредитов у семей без детей, доля должников среди них ниже, чем у другой группы людей."
   ]
  },
  {
   "cell_type": "markdown",
   "metadata": {},
   "source": [
    "- Есть ли зависимость между семейным положением и возвратом кредита в срок?"
   ]
  },
  {
   "cell_type": "code",
   "execution_count": 65,
   "metadata": {},
   "outputs": [],
   "source": [
    "family_status_pivot = data.pivot_table(\n",
    "    index = 'family_status',   \n",
    "    columns = 'debt_status',\n",
    "    values = 'debt', \n",
    "    aggfunc = 'count'\n",
    "    )\n",
    "\n",
    "family_status_pivot['total'] = family_status_pivot['отсутствие задолженности']+family_status_pivot['наличие задолженности']\n",
    "\n",
    "family_status_pivot['debtor_percent'] = family_status_pivot['наличие задолженности'] * 100 / \\\n",
    "    (family_status_pivot['отсутствие задолженности']+family_status_pivot['наличие задолженности'])"
   ]
  },
  {
   "cell_type": "code",
   "execution_count": 66,
   "metadata": {},
   "outputs": [
    {
     "data": {
      "text/html": [
       "<div>\n",
       "<style scoped>\n",
       "    .dataframe tbody tr th:only-of-type {\n",
       "        vertical-align: middle;\n",
       "    }\n",
       "\n",
       "    .dataframe tbody tr th {\n",
       "        vertical-align: top;\n",
       "    }\n",
       "\n",
       "    .dataframe thead th {\n",
       "        text-align: right;\n",
       "    }\n",
       "</style>\n",
       "<table border=\"1\" class=\"dataframe\">\n",
       "  <thead>\n",
       "    <tr style=\"text-align: right;\">\n",
       "      <th>debt_status</th>\n",
       "      <th>наличие задолженности</th>\n",
       "      <th>отсутствие задолженности</th>\n",
       "      <th>total</th>\n",
       "      <th>debtor_percent</th>\n",
       "    </tr>\n",
       "    <tr>\n",
       "      <th>family_status</th>\n",
       "      <th></th>\n",
       "      <th></th>\n",
       "      <th></th>\n",
       "      <th></th>\n",
       "    </tr>\n",
       "  </thead>\n",
       "  <tbody>\n",
       "    <tr>\n",
       "      <th>вдовец / вдова</th>\n",
       "      <td>63</td>\n",
       "      <td>896</td>\n",
       "      <td>959</td>\n",
       "      <td>6.569343</td>\n",
       "    </tr>\n",
       "    <tr>\n",
       "      <th>в разводе</th>\n",
       "      <td>85</td>\n",
       "      <td>1110</td>\n",
       "      <td>1195</td>\n",
       "      <td>7.112971</td>\n",
       "    </tr>\n",
       "    <tr>\n",
       "      <th>женат / замужем</th>\n",
       "      <td>931</td>\n",
       "      <td>11408</td>\n",
       "      <td>12339</td>\n",
       "      <td>7.545182</td>\n",
       "    </tr>\n",
       "    <tr>\n",
       "      <th>гражданский брак</th>\n",
       "      <td>388</td>\n",
       "      <td>3763</td>\n",
       "      <td>4151</td>\n",
       "      <td>9.347145</td>\n",
       "    </tr>\n",
       "    <tr>\n",
       "      <th>не женат / не замужем</th>\n",
       "      <td>274</td>\n",
       "      <td>2536</td>\n",
       "      <td>2810</td>\n",
       "      <td>9.750890</td>\n",
       "    </tr>\n",
       "  </tbody>\n",
       "</table>\n",
       "</div>"
      ],
      "text/plain": [
       "debt_status            наличие задолженности  отсутствие задолженности  total  \\\n",
       "family_status                                                                   \n",
       "вдовец / вдова                            63                       896    959   \n",
       "в разводе                                 85                      1110   1195   \n",
       "женат / замужем                          931                     11408  12339   \n",
       "гражданский брак                         388                      3763   4151   \n",
       "не женат / не замужем                    274                      2536   2810   \n",
       "\n",
       "debt_status            debtor_percent  \n",
       "family_status                          \n",
       "вдовец / вдова               6.569343  \n",
       "в разводе                    7.112971  \n",
       "женат / замужем              7.545182  \n",
       "гражданский брак             9.347145  \n",
       "не женат / не замужем        9.750890  "
      ]
     },
     "execution_count": 66,
     "metadata": {},
     "output_type": "execute_result"
    }
   ],
   "source": [
    "family_status_pivot.sort_values(by = 'debtor_percent')"
   ]
  },
  {
   "cell_type": "markdown",
   "metadata": {},
   "source": [
    "**Вывод**"
   ]
  },
  {
   "attachments": {},
   "cell_type": "markdown",
   "metadata": {},
   "source": [
    "Большее значение числа кредитов присуще для женатых и замужних людей.\n",
    "Как видно из показателей последнего столбца, доля должников среди вдовцов/вдов наименьшая в выборке. Высокие значения показателя присущи для граждан в гражданском браке и не женатых / не замужних."
   ]
  },
  {
   "cell_type": "markdown",
   "metadata": {},
   "source": [
    "- Есть ли зависимость между уровнем дохода и возвратом кредита в срок?"
   ]
  },
  {
   "cell_type": "code",
   "execution_count": 67,
   "metadata": {},
   "outputs": [],
   "source": [
    "income_pivot = data.pivot_table(\n",
    "    index = 'income_group',   \n",
    "    columns = 'debt_status',\n",
    "    values = 'debt', \n",
    "    aggfunc = 'count'\n",
    "    )\n",
    "    \n",
    "income_pivot['total'] = income_pivot['отсутствие задолженности']+income_pivot['наличие задолженности']\n",
    "\n",
    "income_pivot['debtor_percent'] = income_pivot['наличие задолженности'] * 100 / \\\n",
    " (income_pivot['отсутствие задолженности']+income_pivot['наличие задолженности'])"
   ]
  },
  {
   "cell_type": "code",
   "execution_count": 68,
   "metadata": {},
   "outputs": [
    {
     "data": {
      "text/html": [
       "<div>\n",
       "<style scoped>\n",
       "    .dataframe tbody tr th:only-of-type {\n",
       "        vertical-align: middle;\n",
       "    }\n",
       "\n",
       "    .dataframe tbody tr th {\n",
       "        vertical-align: top;\n",
       "    }\n",
       "\n",
       "    .dataframe thead th {\n",
       "        text-align: right;\n",
       "    }\n",
       "</style>\n",
       "<table border=\"1\" class=\"dataframe\">\n",
       "  <thead>\n",
       "    <tr style=\"text-align: right;\">\n",
       "      <th>debt_status</th>\n",
       "      <th>наличие задолженности</th>\n",
       "      <th>отсутствие задолженности</th>\n",
       "      <th>total</th>\n",
       "      <th>debtor_percent</th>\n",
       "    </tr>\n",
       "    <tr>\n",
       "      <th>income_group</th>\n",
       "      <th></th>\n",
       "      <th></th>\n",
       "      <th></th>\n",
       "      <th></th>\n",
       "    </tr>\n",
       "  </thead>\n",
       "  <tbody>\n",
       "    <tr>\n",
       "      <th>Высокий заработок</th>\n",
       "      <td>383</td>\n",
       "      <td>4982</td>\n",
       "      <td>5365</td>\n",
       "      <td>7.138863</td>\n",
       "    </tr>\n",
       "    <tr>\n",
       "      <th>Очень низкий заработок</th>\n",
       "      <td>427</td>\n",
       "      <td>4936</td>\n",
       "      <td>5363</td>\n",
       "      <td>7.961962</td>\n",
       "    </tr>\n",
       "    <tr>\n",
       "      <th>Средний заработок</th>\n",
       "      <td>546</td>\n",
       "      <td>5770</td>\n",
       "      <td>6316</td>\n",
       "      <td>8.644712</td>\n",
       "    </tr>\n",
       "    <tr>\n",
       "      <th>Низкий заработок</th>\n",
       "      <td>385</td>\n",
       "      <td>4025</td>\n",
       "      <td>4410</td>\n",
       "      <td>8.730159</td>\n",
       "    </tr>\n",
       "  </tbody>\n",
       "</table>\n",
       "</div>"
      ],
      "text/plain": [
       "debt_status             наличие задолженности  отсутствие задолженности  \\\n",
       "income_group                                                              \n",
       "Высокий заработок                         383                      4982   \n",
       "Очень низкий заработок                    427                      4936   \n",
       "Средний заработок                         546                      5770   \n",
       "Низкий заработок                          385                      4025   \n",
       "\n",
       "debt_status             total  debtor_percent  \n",
       "income_group                                   \n",
       "Высокий заработок        5365        7.138863  \n",
       "Очень низкий заработок   5363        7.961962  \n",
       "Средний заработок        6316        8.644712  \n",
       "Низкий заработок         4410        8.730159  "
      ]
     },
     "execution_count": 68,
     "metadata": {},
     "output_type": "execute_result"
    }
   ],
   "source": [
    "income_pivot.sort_values(by = 'debtor_percent')"
   ]
  },
  {
   "cell_type": "markdown",
   "metadata": {},
   "source": [
    "**Вывод**"
   ]
  },
  {
   "cell_type": "markdown",
   "metadata": {},
   "source": [
    "Несмотря на небольшое значение количества кредитов, доля задолжников у людей с низким заработков наибольшая среди всех.\n",
    "Очень большое количество людей, являющиеся клиентами банка, имеют заработок выше 110000, при этом доля должников среди них составляет чуть выше 8%.\n",
    "Низкая задолженность присуща для людей со средним заработком.\n",
    "\n",
    "**Примечание:** Показатель численно может изменяться в зависимости от категоризации значения **income_total**\n"
   ]
  },
  {
   "cell_type": "markdown",
   "metadata": {},
   "source": [
    "- Как разные цели кредита влияют на его возврат в срок?"
   ]
  },
  {
   "cell_type": "code",
   "execution_count": 69,
   "metadata": {},
   "outputs": [],
   "source": [
    "purpose_pivot = data.pivot_table(\n",
    "    index = 'purpose_group',   \n",
    "    columns = 'debt_status',\n",
    "    values = 'debt', \n",
    "    aggfunc = 'count')\n",
    "purpose_pivot['total'] = purpose_pivot['отсутствие задолженности']+purpose_pivot['наличие задолженности']\n",
    "purpose_pivot['debtor_percent'] = purpose_pivot['наличие задолженности'] * 100 / (purpose_pivot['отсутствие задолженности']+purpose_pivot['наличие задолженности'])"
   ]
  },
  {
   "cell_type": "code",
   "execution_count": 70,
   "metadata": {},
   "outputs": [
    {
     "data": {
      "text/html": [
       "<div>\n",
       "<style scoped>\n",
       "    .dataframe tbody tr th:only-of-type {\n",
       "        vertical-align: middle;\n",
       "    }\n",
       "\n",
       "    .dataframe tbody tr th {\n",
       "        vertical-align: top;\n",
       "    }\n",
       "\n",
       "    .dataframe thead th {\n",
       "        text-align: right;\n",
       "    }\n",
       "</style>\n",
       "<table border=\"1\" class=\"dataframe\">\n",
       "  <thead>\n",
       "    <tr style=\"text-align: right;\">\n",
       "      <th>debt_status</th>\n",
       "      <th>наличие задолженности</th>\n",
       "      <th>отсутствие задолженности</th>\n",
       "      <th>total</th>\n",
       "      <th>debtor_percent</th>\n",
       "    </tr>\n",
       "    <tr>\n",
       "      <th>purpose_group</th>\n",
       "      <th></th>\n",
       "      <th></th>\n",
       "      <th></th>\n",
       "      <th></th>\n",
       "    </tr>\n",
       "  </thead>\n",
       "  <tbody>\n",
       "    <tr>\n",
       "      <th>недвижимость</th>\n",
       "      <td>782</td>\n",
       "      <td>10029</td>\n",
       "      <td>10811</td>\n",
       "      <td>7.233373</td>\n",
       "    </tr>\n",
       "    <tr>\n",
       "      <th>свадьба</th>\n",
       "      <td>186</td>\n",
       "      <td>2138</td>\n",
       "      <td>2324</td>\n",
       "      <td>8.003442</td>\n",
       "    </tr>\n",
       "    <tr>\n",
       "      <th>образование</th>\n",
       "      <td>370</td>\n",
       "      <td>3643</td>\n",
       "      <td>4013</td>\n",
       "      <td>9.220035</td>\n",
       "    </tr>\n",
       "    <tr>\n",
       "      <th>автомобиль</th>\n",
       "      <td>403</td>\n",
       "      <td>3903</td>\n",
       "      <td>4306</td>\n",
       "      <td>9.359034</td>\n",
       "    </tr>\n",
       "  </tbody>\n",
       "</table>\n",
       "</div>"
      ],
      "text/plain": [
       "debt_status    наличие задолженности  отсутствие задолженности  total  \\\n",
       "purpose_group                                                           \n",
       "недвижимость                     782                     10029  10811   \n",
       "свадьба                          186                      2138   2324   \n",
       "образование                      370                      3643   4013   \n",
       "автомобиль                       403                      3903   4306   \n",
       "\n",
       "debt_status    debtor_percent  \n",
       "purpose_group                  \n",
       "недвижимость         7.233373  \n",
       "свадьба              8.003442  \n",
       "образование          9.220035  \n",
       "автомобиль           9.359034  "
      ]
     },
     "execution_count": 70,
     "metadata": {},
     "output_type": "execute_result"
    }
   ],
   "source": [
    "purpose_pivot.sort_values(by = 'debtor_percent')"
   ]
  },
  {
   "cell_type": "markdown",
   "metadata": {},
   "source": [
    "**Вывод**"
   ]
  },
  {
   "cell_type": "markdown",
   "metadata": {},
   "source": [
    "Наибольшее количество клиентов банка хотели приобрести недвижимость. При этом, в большинстве случаев, клиенты этой целевой группы вовремя рассчитывались по кредиту.\n",
    "Основными должниками по кредиту являются клиенты, которые хотели приобрести автомобиль или взяли кредит на обучение (их количество и доля должников примерно одинакова)"
   ]
  },
  {
   "cell_type": "markdown",
   "metadata": {},
   "source": [
    "## Шаг 4. Общий вывод"
   ]
  },
  {
   "cell_type": "markdown",
   "metadata": {},
   "source": [
    "В предложенной таблице 21525 строк и 12 столбцов. Названия столбцов соответствали \"правильной\" стилистике, поэтому переименование столбцов таблицы не производилось.\n",
    "\n",
    "В таблице присутствуют различные типы данных: целочисленный (int), тип данных с плавающей точкой (float) и типа object (str и другие).\n",
    "\n",
    "В столбцах **days_employed** и **total_income** отсутствовали данные, в связи с чем требовалась предобратка данных по пропускам перед исследованием.\n",
    "\n",
    "**Примечание:** часть данных, можно было исключить заранее, для упрощения предобработки, так как их наличие никак не влияло на результаты предобработки, но их наличие требовало в том или ином месте обработки (что немного усложняло код и увеличивало время предобработки).\n",
    "\n",
    "В столбцах **days_employed** и **total_income** отсутсвли данные в 2174 строках, что составляло 10% от всех строк. Поэтому их удаление могло сильно исказить результаты исследования. Вероятнее всего, пропуски вызваны тем, что клиенты не представили данную информацию банку. Не исключено, что часть данных могла \"потеряться\" или \"удалиться\" из-за обработки таблицы работником банка.\n",
    "\n",
    "При заполнении пропусков в столбце **total_income** предполагалось, что определяющим фактором являлся род деятельности, который представлен в столбце **income_type**. В зависимости от значения в столбце **income_type**, пропуск в столбце **total_income** заполнен медианным значением. \n",
    "\n",
    "Пропуски в столбце **days_employed** заполнены средним значениями (сгруппированным по возрасту клиентов **dob_years** . Вместе с этим была праизведена замена отрицательных значений этого столбца, путем умножения на (-1).\n",
    "\n",
    "Следующим шагом была замена вещественных числовых данных в таблице. Тип данных (*float*) имели столбцы **days_employed** и **total_income**. Для изменения типа данных использовали метод astype().\n",
    "\n",
    "Следующим шагом была предобработка дубликатов. Было выявлено 71 явных дубликатов. Для их исключения воспользуемся методом drop_duplicates() с обновлением индексов.\n",
    "\n",
    "Количество строк таблицы изменилось с 21525 до 21454, то есть уменьшилось на количество явных дубликатов.\n",
    "\n",
    "Неявные дубликаты или данные с некорректными данными найдены с помощью метода unique(), а для определения частоты таких уникальных значений, применен метод value_counts(). Были выявлены следующие ошибки:\n",
    "\n",
    "- в столбце ***children*** отрицательное значение -1 (скорее всего ошибка при заполнении, нужно было 1). Также очень сильно выбивается значение 20 (скорее всего ошибка при заполнении, нужно было 2).\n",
    "\n",
    "- в столбце ***gender*** отсутствует 1 значение, которое обозначено как 'XNA' (принципиальное значение этого параметра для нас не интересует, в исследовании зависимости по половому признаку не требуется. Можно исключить эту строку, можно определить ему любое из значений из F и M, применяя метод replace()).\n",
    "\n",
    "- в столбце ***dob_years*** присутствуют нулевые значения (принципиальное значение этого параметра для нас не интересует, но их количество больше, чем количество ошибок в столбце ***gender***, их обработка потребует чуть больше усилий нежели прошлый пункт). \n",
    "\n",
    "Однако, множество столбцов позволило нам найти и отсеять явные дубликаты. А значит для нашего исследования можно исключить следующие столбцы: ***days_employed***, ***gender***, ***dob_years***, ***education***, ***education_id***, ***family_status_id***.\n",
    "Удаление лишних столбцов позволит упростить таблицу для нашего исследования и позволит исключить предобработку незначимых для нашего исследований данных, оставив **самое важное**.\n",
    "\n",
    "В шаге лемматизация было обнаружено, что столбец **purpose** имел 38 различных значений, при этом среди них можно было выделить несколько: *образование*, *недвижимость*, *автомобиль*, *свадьба*. Результаты лемматизации сведены в новый столбец **purpose_group**.\n",
    "\n"
   ]
  },
  {
   "attachments": {},
   "cell_type": "markdown",
   "metadata": {},
   "source": [
    "***Есть ли зависимость между наличием детей и возвратом кредита в срок***\n",
    "\n",
    "Исследование показало, что клиенты без детей чаще возвращают кредит в срок. Процент должников - 7,54% (против значения 9,21% для клиентов с детьми)\n",
    "\n",
    "\n",
    "***Есть ли зависимость между семейным положением и возвратом кредита в срок***\n",
    "\n",
    "Исследование показало, что основыми клиентами являются семейные люди (женатые / замужем). Процент клиентов этой категории, возвращающих кредит не в срок равен 7,54%.\n",
    "Чаще всего задерживают выплату по кредитам холостые люди или люди, нахоядщиеся в гражданском браке (9,75% и 9,35% соответственно).\n",
    "Люди в разводе или потерявших своих близких реже берут кредиты, но при этом чаще стараются выплачивают кредиты в срок (доли  должников равны 7,11% и 6,56% соответственно).\n",
    "\n",
    "\n",
    "***Есть ли зависимость между уровнем дохода и возвратом кредита в срок***\n",
    "\n",
    "Исследование показало, что клиенты заработок которых находится в диапазоне 107620..142594 чаще всего возвращают кредит не в срок (процент должников составляет 8,73%).\n",
    "\n",
    "Люди со средним заработком чаще всех берут кредиты. Процент должников сотавляет 8,64%. \n",
    "\n",
    "Клиенты с заработком выше 195819 и с заработком ниже 107620 чаще возвращают кредит в срок. Процент должников 7,16% и 7,96% соответственно.\n",
    "\n",
    "\n",
    "***Как разные цели кредита влияют на его возврат в срок***\n",
    "\n",
    "Исследование показало, что чаще всего берут кредиты для покупки недвижимости. При этом, клиенты с этой целью чаще всего платили в срок (процент должников составляет 7,23%).\n",
    "\n",
    "Чаще всего задерживают выплаты по кредитам, взятые на получение образования или покупку автомобился (9,22% и 9,36%).\n",
    "\n",
    "Реже всего берут кредиты на организацию свадеб. Процент должников этой целевой категории 8,00%.\n",
    "\n",
    "\n",
    "\n",
    "\n",
    "\n",
    "\n",
    "\n",
    "\n"
   ]
  }
 ],
 "metadata": {
  "ExecuteTimeLog": [
   {
    "duration": 319,
    "start_time": "2022-01-04T18:35:27.050Z"
   },
   {
    "duration": 603,
    "start_time": "2022-01-04T18:35:37.799Z"
   },
   {
    "duration": 54,
    "start_time": "2022-01-04T18:36:40.835Z"
   },
   {
    "duration": 72,
    "start_time": "2022-01-04T18:37:27.480Z"
   },
   {
    "duration": 64,
    "start_time": "2022-01-04T19:02:18.293Z"
   },
   {
    "duration": 10,
    "start_time": "2022-01-04T19:03:43.615Z"
   },
   {
    "duration": 9,
    "start_time": "2022-01-04T19:31:52.007Z"
   },
   {
    "duration": 287,
    "start_time": "2022-01-04T19:50:23.650Z"
   },
   {
    "duration": 4,
    "start_time": "2022-01-04T19:50:30.161Z"
   },
   {
    "duration": 5,
    "start_time": "2022-01-04T19:51:02.787Z"
   },
   {
    "duration": 5,
    "start_time": "2022-01-04T19:51:07.405Z"
   },
   {
    "duration": 20,
    "start_time": "2022-01-04T19:51:13.024Z"
   },
   {
    "duration": 9,
    "start_time": "2022-01-04T19:51:39.128Z"
   },
   {
    "duration": 5,
    "start_time": "2022-01-04T19:52:30.627Z"
   },
   {
    "duration": 6,
    "start_time": "2022-01-04T19:56:06.987Z"
   },
   {
    "duration": 12,
    "start_time": "2022-01-04T19:56:12.071Z"
   },
   {
    "duration": 565,
    "start_time": "2022-01-04T19:57:08.580Z"
   },
   {
    "duration": 87,
    "start_time": "2022-01-04T19:57:15.418Z"
   },
   {
    "duration": 19,
    "start_time": "2022-01-04T19:57:32.854Z"
   },
   {
    "duration": 338,
    "start_time": "2022-01-04T19:58:09.097Z"
   },
   {
    "duration": 5553,
    "start_time": "2022-01-04T19:58:16.702Z"
   },
   {
    "duration": 5134,
    "start_time": "2022-01-04T19:58:28.219Z"
   },
   {
    "duration": 5793,
    "start_time": "2022-01-04T19:58:49.041Z"
   },
   {
    "duration": 66,
    "start_time": "2022-01-04T19:59:10.679Z"
   },
   {
    "duration": 5439,
    "start_time": "2022-01-04T19:59:18.677Z"
   },
   {
    "duration": 297,
    "start_time": "2022-01-04T19:59:42.067Z"
   },
   {
    "duration": 18,
    "start_time": "2022-01-04T20:00:05.873Z"
   },
   {
    "duration": 285,
    "start_time": "2022-01-04T20:01:11.487Z"
   },
   {
    "duration": 2,
    "start_time": "2022-01-04T20:02:19.701Z"
   },
   {
    "duration": 383,
    "start_time": "2022-01-04T20:02:44.307Z"
   },
   {
    "duration": 4,
    "start_time": "2022-01-04T20:03:03.226Z"
   },
   {
    "duration": 66,
    "start_time": "2022-01-04T20:03:36.868Z"
   },
   {
    "duration": 5,
    "start_time": "2022-01-04T20:03:46.169Z"
   },
   {
    "duration": 4,
    "start_time": "2022-01-04T20:07:04.541Z"
   },
   {
    "duration": 4,
    "start_time": "2022-01-04T20:08:34.922Z"
   },
   {
    "duration": 270,
    "start_time": "2022-01-04T20:08:47.734Z"
   },
   {
    "duration": 4,
    "start_time": "2022-01-04T20:09:28.366Z"
   },
   {
    "duration": 7,
    "start_time": "2022-01-04T20:09:42.062Z"
   },
   {
    "duration": 6,
    "start_time": "2022-01-04T20:11:51.291Z"
   },
   {
    "duration": 5,
    "start_time": "2022-01-04T20:14:05.623Z"
   },
   {
    "duration": 6,
    "start_time": "2022-01-04T20:14:11.906Z"
   },
   {
    "duration": 8,
    "start_time": "2022-01-04T20:14:17.938Z"
   },
   {
    "duration": 96,
    "start_time": "2022-01-04T20:18:52.016Z"
   },
   {
    "duration": 17,
    "start_time": "2022-01-04T20:19:04.815Z"
   },
   {
    "duration": 365,
    "start_time": "2022-01-04T20:23:54.052Z"
   },
   {
    "duration": 322,
    "start_time": "2022-01-04T20:24:15.088Z"
   },
   {
    "duration": 65,
    "start_time": "2022-01-04T20:24:21.971Z"
   },
   {
    "duration": 13,
    "start_time": "2022-01-04T20:26:47.755Z"
   },
   {
    "duration": 28,
    "start_time": "2022-01-04T20:27:30.912Z"
   },
   {
    "duration": 16,
    "start_time": "2022-01-04T20:27:45.019Z"
   },
   {
    "duration": 18,
    "start_time": "2022-01-04T20:27:53.601Z"
   },
   {
    "duration": 14,
    "start_time": "2022-01-04T20:29:56.826Z"
   },
   {
    "duration": 4,
    "start_time": "2022-01-04T20:31:17.944Z"
   },
   {
    "duration": 4,
    "start_time": "2022-01-04T20:33:13.724Z"
   },
   {
    "duration": 5,
    "start_time": "2022-01-04T20:34:19.050Z"
   },
   {
    "duration": 5,
    "start_time": "2022-01-04T20:34:56.155Z"
   },
   {
    "duration": 327,
    "start_time": "2022-01-04T20:35:17.447Z"
   },
   {
    "duration": 272,
    "start_time": "2022-01-04T20:35:44.054Z"
   },
   {
    "duration": 19,
    "start_time": "2022-01-04T20:36:09.037Z"
   },
   {
    "duration": 10,
    "start_time": "2022-01-04T20:36:30.028Z"
   },
   {
    "duration": 6,
    "start_time": "2022-01-04T20:37:54.631Z"
   },
   {
    "duration": 7,
    "start_time": "2022-01-04T20:38:12.487Z"
   },
   {
    "duration": 6,
    "start_time": "2022-01-04T20:38:19.019Z"
   },
   {
    "duration": 7,
    "start_time": "2022-01-04T20:38:24.870Z"
   },
   {
    "duration": 5,
    "start_time": "2022-01-04T20:38:30.925Z"
   },
   {
    "duration": 5,
    "start_time": "2022-01-04T20:38:36.675Z"
   },
   {
    "duration": 296,
    "start_time": "2022-01-04T20:39:52.226Z"
   },
   {
    "duration": 4,
    "start_time": "2022-01-04T20:40:01.187Z"
   },
   {
    "duration": 7,
    "start_time": "2022-01-04T20:40:29.582Z"
   },
   {
    "duration": 101,
    "start_time": "2022-01-05T19:50:22.867Z"
   },
   {
    "duration": 20,
    "start_time": "2022-01-05T19:50:22.972Z"
   },
   {
    "duration": 20,
    "start_time": "2022-01-05T19:50:22.995Z"
   },
   {
    "duration": 62,
    "start_time": "2022-01-05T19:50:23.017Z"
   },
   {
    "duration": 103,
    "start_time": "2022-01-05T19:51:48.696Z"
   },
   {
    "duration": 21,
    "start_time": "2022-01-05T19:52:01.613Z"
   },
   {
    "duration": 34,
    "start_time": "2022-01-05T19:53:38.548Z"
   },
   {
    "duration": 38,
    "start_time": "2022-01-05T19:53:44.757Z"
   },
   {
    "duration": 35,
    "start_time": "2022-01-05T19:53:54.819Z"
   },
   {
    "duration": 9,
    "start_time": "2022-01-05T19:54:45.894Z"
   },
   {
    "duration": 8,
    "start_time": "2022-01-05T19:54:54.413Z"
   },
   {
    "duration": 6,
    "start_time": "2022-01-05T19:55:18.438Z"
   },
   {
    "duration": 104,
    "start_time": "2022-01-05T20:26:34.468Z"
   },
   {
    "duration": 15,
    "start_time": "2022-01-05T20:27:30.713Z"
   },
   {
    "duration": 15,
    "start_time": "2022-01-05T20:27:55.448Z"
   },
   {
    "duration": 13,
    "start_time": "2022-01-05T20:28:16.110Z"
   },
   {
    "duration": 8,
    "start_time": "2022-01-05T20:29:00.800Z"
   },
   {
    "duration": 37,
    "start_time": "2022-01-05T20:29:11.948Z"
   },
   {
    "duration": 398,
    "start_time": "2022-01-05T20:29:39.096Z"
   },
   {
    "duration": 26,
    "start_time": "2022-01-05T20:29:48.387Z"
   },
   {
    "duration": 7,
    "start_time": "2022-01-05T20:30:03.649Z"
   },
   {
    "duration": 12,
    "start_time": "2022-01-05T20:30:17.550Z"
   },
   {
    "duration": 9,
    "start_time": "2022-01-05T20:30:37.658Z"
   },
   {
    "duration": 29,
    "start_time": "2022-01-05T20:56:17.317Z"
   },
   {
    "duration": 10,
    "start_time": "2022-01-05T20:57:43.555Z"
   },
   {
    "duration": 10,
    "start_time": "2022-01-05T20:59:07.711Z"
   },
   {
    "duration": 11,
    "start_time": "2022-01-05T21:00:47.692Z"
   },
   {
    "duration": 8,
    "start_time": "2022-01-05T21:02:03.961Z"
   },
   {
    "duration": 7,
    "start_time": "2022-01-05T21:02:08.796Z"
   },
   {
    "duration": 8,
    "start_time": "2022-01-05T21:02:16.099Z"
   },
   {
    "duration": 9,
    "start_time": "2022-01-05T21:02:19.780Z"
   },
   {
    "duration": 8,
    "start_time": "2022-01-05T21:02:27.082Z"
   },
   {
    "duration": 9,
    "start_time": "2022-01-05T21:02:54.198Z"
   },
   {
    "duration": 97,
    "start_time": "2022-01-05T21:03:18.737Z"
   },
   {
    "duration": 42,
    "start_time": "2022-01-05T21:03:18.837Z"
   },
   {
    "duration": 24,
    "start_time": "2022-01-05T21:03:18.882Z"
   },
   {
    "duration": 7,
    "start_time": "2022-01-05T21:03:18.909Z"
   },
   {
    "duration": 61,
    "start_time": "2022-01-05T21:03:18.919Z"
   },
   {
    "duration": 7,
    "start_time": "2022-01-05T21:03:18.983Z"
   },
   {
    "duration": 9,
    "start_time": "2022-01-05T21:03:18.992Z"
   },
   {
    "duration": 7,
    "start_time": "2022-01-05T21:03:36.054Z"
   },
   {
    "duration": 17,
    "start_time": "2022-01-05T21:05:28.000Z"
   },
   {
    "duration": 16,
    "start_time": "2022-01-05T21:05:56.483Z"
   },
   {
    "duration": 13,
    "start_time": "2022-01-05T21:08:37.941Z"
   },
   {
    "duration": 99,
    "start_time": "2022-01-05T21:09:04.327Z"
   },
   {
    "duration": 8,
    "start_time": "2022-01-05T21:09:36.075Z"
   },
   {
    "duration": 5,
    "start_time": "2022-01-05T21:10:09.904Z"
   },
   {
    "duration": 147,
    "start_time": "2022-01-05T21:10:31.973Z"
   },
   {
    "duration": 7,
    "start_time": "2022-01-05T21:10:41.277Z"
   },
   {
    "duration": 6,
    "start_time": "2022-01-05T21:11:18.981Z"
   },
   {
    "duration": 6,
    "start_time": "2022-01-05T21:11:38.646Z"
   },
   {
    "duration": 352,
    "start_time": "2022-01-05T21:12:14.780Z"
   },
   {
    "duration": 138,
    "start_time": "2022-01-05T21:12:51.922Z"
   },
   {
    "duration": 786,
    "start_time": "2022-01-05T21:13:05.558Z"
   },
   {
    "duration": 359,
    "start_time": "2022-01-05T21:13:22.735Z"
   },
   {
    "duration": 2644,
    "start_time": "2022-01-05T21:13:39.580Z"
   },
   {
    "duration": 14,
    "start_time": "2022-01-05T21:13:44.468Z"
   },
   {
    "duration": 337,
    "start_time": "2022-01-05T21:14:02.078Z"
   },
   {
    "duration": 322,
    "start_time": "2022-01-05T21:14:38.505Z"
   },
   {
    "duration": 518,
    "start_time": "2022-01-05T21:14:49.429Z"
   },
   {
    "duration": 16,
    "start_time": "2022-01-05T21:15:15.661Z"
   },
   {
    "duration": 141,
    "start_time": "2022-01-05T21:16:03.510Z"
   },
   {
    "duration": 161,
    "start_time": "2022-01-05T21:16:18.732Z"
   },
   {
    "duration": 12,
    "start_time": "2022-01-05T21:16:26.425Z"
   },
   {
    "duration": 16,
    "start_time": "2022-01-05T21:16:32.150Z"
   },
   {
    "duration": 16,
    "start_time": "2022-01-05T21:18:11.892Z"
   },
   {
    "duration": 338,
    "start_time": "2022-01-05T21:19:10.510Z"
   },
   {
    "duration": 321,
    "start_time": "2022-01-05T21:20:13.156Z"
   },
   {
    "duration": 24,
    "start_time": "2022-01-05T21:20:17.555Z"
   },
   {
    "duration": 19,
    "start_time": "2022-01-05T21:20:31.723Z"
   },
   {
    "duration": 14,
    "start_time": "2022-01-05T21:20:42.222Z"
   },
   {
    "duration": 18,
    "start_time": "2022-01-05T21:21:00.999Z"
   },
   {
    "duration": 9,
    "start_time": "2022-01-05T21:21:50.964Z"
   },
   {
    "duration": 14,
    "start_time": "2022-01-05T21:21:53.677Z"
   },
   {
    "duration": 12,
    "start_time": "2022-01-05T21:22:27.111Z"
   },
   {
    "duration": 16,
    "start_time": "2022-01-05T21:22:48.028Z"
   },
   {
    "duration": 10,
    "start_time": "2022-01-05T21:24:13.611Z"
   },
   {
    "duration": 10,
    "start_time": "2022-01-05T21:24:58.776Z"
   },
   {
    "duration": 22,
    "start_time": "2022-01-05T21:32:51.065Z"
   },
   {
    "duration": 343,
    "start_time": "2022-01-05T21:38:52.208Z"
   },
   {
    "duration": 26,
    "start_time": "2022-01-05T21:39:14.970Z"
   },
   {
    "duration": 10,
    "start_time": "2022-01-05T21:39:36.593Z"
   },
   {
    "duration": 101,
    "start_time": "2022-01-05T21:58:25.638Z"
   },
   {
    "duration": 119,
    "start_time": "2022-01-05T21:59:28.890Z"
   },
   {
    "duration": 125,
    "start_time": "2022-01-05T21:59:42.730Z"
   },
   {
    "duration": 23,
    "start_time": "2022-01-05T21:59:48.872Z"
   },
   {
    "duration": 22,
    "start_time": "2022-01-05T22:04:57.668Z"
   },
   {
    "duration": 325,
    "start_time": "2022-01-05T22:19:25.115Z"
   },
   {
    "duration": 15,
    "start_time": "2022-01-05T22:19:57.791Z"
   },
   {
    "duration": 18,
    "start_time": "2022-01-05T22:20:15.682Z"
   },
   {
    "duration": 38,
    "start_time": "2022-01-05T22:20:35.670Z"
   },
   {
    "duration": 9,
    "start_time": "2022-01-05T22:21:59.326Z"
   },
   {
    "duration": 13,
    "start_time": "2022-01-05T22:22:12.527Z"
   },
   {
    "duration": 271,
    "start_time": "2022-01-05T22:22:50.422Z"
   },
   {
    "duration": 29,
    "start_time": "2022-01-05T22:23:07.464Z"
   },
   {
    "duration": 13,
    "start_time": "2022-01-05T22:23:09.952Z"
   },
   {
    "duration": 268,
    "start_time": "2022-01-05T22:23:30.721Z"
   },
   {
    "duration": 11,
    "start_time": "2022-01-05T22:23:34.650Z"
   },
   {
    "duration": 13,
    "start_time": "2022-01-05T22:25:34.684Z"
   },
   {
    "duration": 19,
    "start_time": "2022-01-05T22:29:59.665Z"
   },
   {
    "duration": 38,
    "start_time": "2022-01-05T22:30:05.752Z"
   },
   {
    "duration": 360,
    "start_time": "2022-01-05T22:30:43.960Z"
   },
   {
    "duration": 26,
    "start_time": "2022-01-05T22:31:03.698Z"
   },
   {
    "duration": 18,
    "start_time": "2022-01-05T22:31:57.552Z"
   },
   {
    "duration": 41,
    "start_time": "2022-01-05T22:32:33.429Z"
   },
   {
    "duration": 43,
    "start_time": "2022-01-05T22:34:02.602Z"
   },
   {
    "duration": 50,
    "start_time": "2022-01-05T22:34:20.006Z"
   },
   {
    "duration": 10,
    "start_time": "2022-01-05T22:35:41.168Z"
   },
   {
    "duration": 11,
    "start_time": "2022-01-05T22:35:52.308Z"
   },
   {
    "duration": 104,
    "start_time": "2022-01-05T22:36:03.724Z"
   },
   {
    "duration": 51,
    "start_time": "2022-01-05T22:36:03.831Z"
   },
   {
    "duration": 13,
    "start_time": "2022-01-05T22:36:03.885Z"
   },
   {
    "duration": 8,
    "start_time": "2022-01-05T22:36:03.901Z"
   },
   {
    "duration": 69,
    "start_time": "2022-01-05T22:36:03.913Z"
   },
   {
    "duration": 10,
    "start_time": "2022-01-05T22:36:03.985Z"
   },
   {
    "duration": 21,
    "start_time": "2022-01-05T22:36:03.997Z"
   },
   {
    "duration": 10,
    "start_time": "2022-01-05T22:36:04.021Z"
   },
   {
    "duration": 53,
    "start_time": "2022-01-05T22:36:19.951Z"
   },
   {
    "duration": 115,
    "start_time": "2022-01-05T22:36:26.552Z"
   },
   {
    "duration": 38,
    "start_time": "2022-01-05T22:36:26.671Z"
   },
   {
    "duration": 15,
    "start_time": "2022-01-05T22:36:26.713Z"
   },
   {
    "duration": 41,
    "start_time": "2022-01-05T22:36:26.731Z"
   },
   {
    "duration": 36,
    "start_time": "2022-01-05T22:36:26.775Z"
   },
   {
    "duration": 14,
    "start_time": "2022-01-05T22:36:26.813Z"
   },
   {
    "duration": 48,
    "start_time": "2022-01-05T22:36:26.830Z"
   },
   {
    "duration": 49,
    "start_time": "2022-01-05T22:36:26.881Z"
   },
   {
    "duration": 12,
    "start_time": "2022-01-05T22:36:37.817Z"
   },
   {
    "duration": 108,
    "start_time": "2022-01-05T22:36:42.519Z"
   },
   {
    "duration": 60,
    "start_time": "2022-01-05T22:36:42.630Z"
   },
   {
    "duration": 14,
    "start_time": "2022-01-05T22:36:42.694Z"
   },
   {
    "duration": 10,
    "start_time": "2022-01-05T22:36:42.712Z"
   },
   {
    "duration": 73,
    "start_time": "2022-01-05T22:36:42.725Z"
   },
   {
    "duration": 13,
    "start_time": "2022-01-05T22:36:42.801Z"
   },
   {
    "duration": 20,
    "start_time": "2022-01-05T22:36:42.816Z"
   },
   {
    "duration": 36,
    "start_time": "2022-01-05T22:36:42.839Z"
   },
   {
    "duration": 343,
    "start_time": "2022-01-05T22:37:00.064Z"
   },
   {
    "duration": 10,
    "start_time": "2022-01-05T22:37:13.631Z"
   },
   {
    "duration": 112,
    "start_time": "2022-01-05T22:38:02.490Z"
   },
   {
    "duration": 12,
    "start_time": "2022-01-05T22:38:07.125Z"
   },
   {
    "duration": 10,
    "start_time": "2022-01-05T22:39:20.847Z"
   },
   {
    "duration": 15,
    "start_time": "2022-01-05T22:39:31.884Z"
   },
   {
    "duration": 8,
    "start_time": "2022-01-05T22:40:02.649Z"
   },
   {
    "duration": 11,
    "start_time": "2022-01-05T22:40:12.968Z"
   },
   {
    "duration": 11,
    "start_time": "2022-01-05T22:40:45.218Z"
   },
   {
    "duration": 45,
    "start_time": "2022-01-05T22:41:10.994Z"
   },
   {
    "duration": 47,
    "start_time": "2022-01-05T22:42:04.727Z"
   },
   {
    "duration": 31,
    "start_time": "2022-01-05T22:42:18.117Z"
   },
   {
    "duration": 327,
    "start_time": "2022-01-05T22:42:33.608Z"
   },
   {
    "duration": 321,
    "start_time": "2022-01-05T22:42:42.104Z"
   },
   {
    "duration": 310,
    "start_time": "2022-01-05T22:42:52.824Z"
   },
   {
    "duration": 336,
    "start_time": "2022-01-05T22:43:13.312Z"
   },
   {
    "duration": 322,
    "start_time": "2022-01-05T22:43:36.229Z"
   },
   {
    "duration": 330,
    "start_time": "2022-01-05T22:43:44.719Z"
   },
   {
    "duration": 318,
    "start_time": "2022-01-05T22:43:53.577Z"
   },
   {
    "duration": 311,
    "start_time": "2022-01-05T22:43:59.385Z"
   },
   {
    "duration": 103,
    "start_time": "2022-01-05T22:44:03.884Z"
   },
   {
    "duration": 36,
    "start_time": "2022-01-05T22:44:03.990Z"
   },
   {
    "duration": 14,
    "start_time": "2022-01-05T22:44:04.029Z"
   },
   {
    "duration": 8,
    "start_time": "2022-01-05T22:44:04.068Z"
   },
   {
    "duration": 31,
    "start_time": "2022-01-05T22:44:04.079Z"
   },
   {
    "duration": 9,
    "start_time": "2022-01-05T22:44:04.113Z"
   },
   {
    "duration": 59,
    "start_time": "2022-01-05T22:44:04.124Z"
   },
   {
    "duration": 7,
    "start_time": "2022-01-05T22:44:04.186Z"
   },
   {
    "duration": 8,
    "start_time": "2022-01-05T22:44:47.451Z"
   },
   {
    "duration": 8,
    "start_time": "2022-01-05T22:44:55.863Z"
   },
   {
    "duration": 13,
    "start_time": "2022-01-05T22:46:14.521Z"
   },
   {
    "duration": 9,
    "start_time": "2022-01-05T22:46:26.902Z"
   },
   {
    "duration": 109,
    "start_time": "2022-01-05T22:46:34.958Z"
   },
   {
    "duration": 20,
    "start_time": "2022-01-05T22:50:02.989Z"
   },
   {
    "duration": 300,
    "start_time": "2022-01-05T22:50:23.256Z"
   },
   {
    "duration": 9,
    "start_time": "2022-01-05T22:51:18.582Z"
   },
   {
    "duration": 11,
    "start_time": "2022-01-05T22:51:27.166Z"
   },
   {
    "duration": 324,
    "start_time": "2022-01-05T22:52:05.554Z"
   },
   {
    "duration": 93,
    "start_time": "2022-01-05T22:53:22.761Z"
   },
   {
    "duration": 314,
    "start_time": "2022-01-05T22:53:32.863Z"
   },
   {
    "duration": 140,
    "start_time": "2022-01-05T22:54:29.375Z"
   },
   {
    "duration": 538,
    "start_time": "2022-01-05T22:56:22.745Z"
   },
   {
    "duration": 312,
    "start_time": "2022-01-05T22:58:16.941Z"
   },
   {
    "duration": 9,
    "start_time": "2022-01-05T22:58:42.561Z"
   },
   {
    "duration": 104,
    "start_time": "2022-01-05T22:58:47.485Z"
   },
   {
    "duration": 35,
    "start_time": "2022-01-05T22:58:47.593Z"
   },
   {
    "duration": 40,
    "start_time": "2022-01-05T22:58:47.631Z"
   },
   {
    "duration": 8,
    "start_time": "2022-01-05T22:58:47.673Z"
   },
   {
    "duration": 32,
    "start_time": "2022-01-05T22:58:47.683Z"
   },
   {
    "duration": 10,
    "start_time": "2022-01-05T22:58:47.717Z"
   },
   {
    "duration": 53,
    "start_time": "2022-01-05T22:58:47.730Z"
   },
   {
    "duration": 8,
    "start_time": "2022-01-05T22:58:47.786Z"
   },
   {
    "duration": 21,
    "start_time": "2022-01-05T22:59:05.994Z"
   },
   {
    "duration": 8,
    "start_time": "2022-01-05T22:59:58.224Z"
   },
   {
    "duration": 10,
    "start_time": "2022-01-05T23:00:06.717Z"
   },
   {
    "duration": 114,
    "start_time": "2022-01-05T23:00:52.292Z"
   },
   {
    "duration": 8,
    "start_time": "2022-01-05T23:01:17.212Z"
   },
   {
    "duration": 10,
    "start_time": "2022-01-05T23:01:25.906Z"
   },
   {
    "duration": 115,
    "start_time": "2022-01-05T23:01:32.178Z"
   },
   {
    "duration": 12,
    "start_time": "2022-01-05T23:01:38.842Z"
   },
   {
    "duration": 6,
    "start_time": "2022-01-05T23:04:43.613Z"
   },
   {
    "duration": 8271,
    "start_time": "2022-01-05T23:04:54.272Z"
   },
   {
    "duration": 317,
    "start_time": "2022-01-05T23:05:28.869Z"
   },
   {
    "duration": 108,
    "start_time": "2022-01-05T23:05:31.792Z"
   },
   {
    "duration": 39,
    "start_time": "2022-01-05T23:05:31.903Z"
   },
   {
    "duration": 16,
    "start_time": "2022-01-05T23:05:31.966Z"
   },
   {
    "duration": 9,
    "start_time": "2022-01-05T23:05:31.987Z"
   },
   {
    "duration": 74,
    "start_time": "2022-01-05T23:05:31.999Z"
   },
   {
    "duration": 12,
    "start_time": "2022-01-05T23:05:32.076Z"
   },
   {
    "duration": 23,
    "start_time": "2022-01-05T23:05:32.091Z"
   },
   {
    "duration": 9101,
    "start_time": "2022-01-05T23:05:32.118Z"
   },
   {
    "duration": 348,
    "start_time": "2022-01-05T23:05:40.873Z"
   },
   {
    "duration": 357,
    "start_time": "2022-01-05T23:05:49.816Z"
   },
   {
    "duration": 7,
    "start_time": "2022-01-05T23:07:00.394Z"
   },
   {
    "duration": 324,
    "start_time": "2022-01-05T23:08:22.189Z"
   },
   {
    "duration": 330,
    "start_time": "2022-01-05T23:08:42.493Z"
   },
   {
    "duration": 335,
    "start_time": "2022-01-05T23:10:04.976Z"
   },
   {
    "duration": 310,
    "start_time": "2022-01-05T23:10:41.540Z"
   },
   {
    "duration": 305,
    "start_time": "2022-01-05T23:10:54.302Z"
   },
   {
    "duration": 97,
    "start_time": "2022-01-05T23:11:05.450Z"
   },
   {
    "duration": 314,
    "start_time": "2022-01-05T23:11:15.798Z"
   },
   {
    "duration": 11,
    "start_time": "2022-01-05T23:11:31.921Z"
   },
   {
    "duration": 104,
    "start_time": "2022-01-05T23:11:51.032Z"
   },
   {
    "duration": 13,
    "start_time": "2022-01-05T23:12:34.106Z"
   },
   {
    "duration": 15,
    "start_time": "2022-01-05T23:12:46.016Z"
   },
   {
    "duration": 112,
    "start_time": "2022-01-05T23:14:01.677Z"
   },
   {
    "duration": 104,
    "start_time": "2022-01-05T23:14:13.980Z"
   },
   {
    "duration": 105,
    "start_time": "2022-01-05T23:14:22.051Z"
   },
   {
    "duration": 14,
    "start_time": "2022-01-05T23:14:35.446Z"
   },
   {
    "duration": 27,
    "start_time": "2022-01-05T23:14:46.856Z"
   },
   {
    "duration": 373,
    "start_time": "2022-01-05T23:15:07.809Z"
   },
   {
    "duration": 310,
    "start_time": "2022-01-05T23:15:16.194Z"
   },
   {
    "duration": 311,
    "start_time": "2022-01-05T23:15:27.090Z"
   },
   {
    "duration": 332,
    "start_time": "2022-01-05T23:15:42.559Z"
   },
   {
    "duration": 337,
    "start_time": "2022-01-05T23:15:46.978Z"
   },
   {
    "duration": 102,
    "start_time": "2022-01-05T23:15:54.931Z"
   },
   {
    "duration": 42,
    "start_time": "2022-01-05T23:15:55.036Z"
   },
   {
    "duration": 13,
    "start_time": "2022-01-05T23:15:55.082Z"
   },
   {
    "duration": 8,
    "start_time": "2022-01-05T23:15:55.098Z"
   },
   {
    "duration": 66,
    "start_time": "2022-01-05T23:15:55.109Z"
   },
   {
    "duration": 10,
    "start_time": "2022-01-05T23:15:55.178Z"
   },
   {
    "duration": 22,
    "start_time": "2022-01-05T23:15:55.191Z"
   },
   {
    "duration": 7,
    "start_time": "2022-01-05T23:15:55.216Z"
   },
   {
    "duration": 51,
    "start_time": "2022-01-05T23:15:55.225Z"
   },
   {
    "duration": 7,
    "start_time": "2022-01-05T23:16:16.992Z"
   },
   {
    "duration": 7,
    "start_time": "2022-01-05T23:16:46.697Z"
   },
   {
    "duration": 7532,
    "start_time": "2022-01-05T23:17:07.628Z"
   },
   {
    "duration": 6,
    "start_time": "2022-01-05T23:17:47.431Z"
   },
   {
    "duration": 7321,
    "start_time": "2022-01-05T23:18:03.751Z"
   },
   {
    "duration": 8,
    "start_time": "2022-01-05T23:18:22.038Z"
   },
   {
    "duration": 353,
    "start_time": "2022-01-05T23:20:51.102Z"
   },
   {
    "duration": 10,
    "start_time": "2022-01-05T23:20:56.752Z"
   },
   {
    "duration": 106,
    "start_time": "2022-01-05T23:24:24.419Z"
   },
   {
    "duration": 39,
    "start_time": "2022-01-05T23:25:34.292Z"
   },
   {
    "duration": 8,
    "start_time": "2022-01-05T23:25:39.002Z"
   },
   {
    "duration": 394,
    "start_time": "2022-01-05T23:27:20.409Z"
   },
   {
    "duration": 94,
    "start_time": "2022-01-05T23:32:16.509Z"
   },
   {
    "duration": 309,
    "start_time": "2022-01-05T23:32:26.666Z"
   },
   {
    "duration": 7,
    "start_time": "2022-01-05T23:32:36.722Z"
   },
   {
    "duration": 347,
    "start_time": "2022-01-05T23:37:01.394Z"
   },
   {
    "duration": 322,
    "start_time": "2022-01-05T23:39:15.568Z"
   },
   {
    "duration": 580,
    "start_time": "2022-01-05T23:39:30.960Z"
   },
   {
    "duration": 8,
    "start_time": "2022-01-05T23:39:37.296Z"
   },
   {
    "duration": 103,
    "start_time": "2022-01-05T23:39:42.846Z"
   },
   {
    "duration": 46,
    "start_time": "2022-01-05T23:39:42.952Z"
   },
   {
    "duration": 12,
    "start_time": "2022-01-05T23:39:43.001Z"
   },
   {
    "duration": 8,
    "start_time": "2022-01-05T23:39:43.016Z"
   },
   {
    "duration": 65,
    "start_time": "2022-01-05T23:39:43.026Z"
   },
   {
    "duration": 10,
    "start_time": "2022-01-05T23:39:43.093Z"
   },
   {
    "duration": 19,
    "start_time": "2022-01-05T23:39:43.106Z"
   },
   {
    "duration": 40,
    "start_time": "2022-01-05T23:39:43.128Z"
   },
   {
    "duration": 310,
    "start_time": "2022-01-05T23:39:43.171Z"
   },
   {
    "duration": 419,
    "start_time": "2022-01-05T23:39:43.065Z"
   },
   {
    "duration": 47,
    "start_time": "2022-01-05T23:40:06.640Z"
   },
   {
    "duration": 7,
    "start_time": "2022-01-05T23:40:10.647Z"
   },
   {
    "duration": 48,
    "start_time": "2022-01-05T23:40:35.239Z"
   },
   {
    "duration": 64,
    "start_time": "2022-01-05T23:41:00.640Z"
   },
   {
    "duration": 6,
    "start_time": "2022-01-05T23:41:04.879Z"
   },
   {
    "duration": 38,
    "start_time": "2022-01-05T23:41:28.188Z"
   },
   {
    "duration": 8,
    "start_time": "2022-01-05T23:41:32.129Z"
   },
   {
    "duration": 3860,
    "start_time": "2022-01-05T23:41:42.553Z"
   },
   {
    "duration": 323,
    "start_time": "2022-01-05T23:42:07.778Z"
   },
   {
    "duration": 325,
    "start_time": "2022-01-05T23:42:29.019Z"
   },
   {
    "duration": 8282,
    "start_time": "2022-01-05T23:42:35.028Z"
   },
   {
    "duration": 7907,
    "start_time": "2022-01-05T23:43:07.556Z"
   },
   {
    "duration": 6,
    "start_time": "2022-01-05T23:43:21.649Z"
   },
   {
    "duration": 320,
    "start_time": "2022-01-05T23:43:54.280Z"
   },
   {
    "duration": 360,
    "start_time": "2022-01-05T23:44:09.209Z"
   },
   {
    "duration": 890,
    "start_time": "2022-01-05T23:44:26.653Z"
   },
   {
    "duration": 37,
    "start_time": "2022-01-05T23:44:27.546Z"
   },
   {
    "duration": 14,
    "start_time": "2022-01-05T23:44:27.586Z"
   },
   {
    "duration": 7,
    "start_time": "2022-01-05T23:44:27.603Z"
   },
   {
    "duration": 64,
    "start_time": "2022-01-05T23:44:27.613Z"
   },
   {
    "duration": 9,
    "start_time": "2022-01-05T23:44:27.680Z"
   },
   {
    "duration": 25,
    "start_time": "2022-01-05T23:44:27.691Z"
   },
   {
    "duration": 6,
    "start_time": "2022-01-05T23:44:27.719Z"
   },
   {
    "duration": 45,
    "start_time": "2022-01-05T23:44:27.727Z"
   },
   {
    "duration": 23,
    "start_time": "2022-01-05T23:44:27.774Z"
   },
   {
    "duration": 38,
    "start_time": "2022-01-05T23:45:00.354Z"
   },
   {
    "duration": 23,
    "start_time": "2022-01-05T23:45:08.674Z"
   },
   {
    "duration": 446,
    "start_time": "2022-01-05T23:46:17.416Z"
   },
   {
    "duration": 385,
    "start_time": "2022-01-05T23:46:24.963Z"
   },
   {
    "duration": 14,
    "start_time": "2022-01-05T23:46:32.024Z"
   },
   {
    "duration": 13,
    "start_time": "2022-01-05T23:46:43.987Z"
   },
   {
    "duration": 370,
    "start_time": "2022-01-05T23:46:55.934Z"
   },
   {
    "duration": 15,
    "start_time": "2022-01-05T23:47:05.065Z"
   },
   {
    "duration": 23,
    "start_time": "2022-01-05T23:47:13.203Z"
   },
   {
    "duration": 333,
    "start_time": "2022-01-05T23:49:16.777Z"
   },
   {
    "duration": 295,
    "start_time": "2022-01-05T23:49:22.884Z"
   },
   {
    "duration": 15,
    "start_time": "2022-01-05T23:50:10.069Z"
   },
   {
    "duration": 459,
    "start_time": "2022-01-05T23:53:01.605Z"
   },
   {
    "duration": 9,
    "start_time": "2022-01-05T23:53:36.320Z"
   },
   {
    "duration": 10,
    "start_time": "2022-01-05T23:54:04.469Z"
   },
   {
    "duration": 453,
    "start_time": "2022-01-05T23:55:01.239Z"
   },
   {
    "duration": 326,
    "start_time": "2022-01-05T23:55:12.035Z"
   },
   {
    "duration": 7,
    "start_time": "2022-01-05T23:56:45.641Z"
   },
   {
    "duration": 7,
    "start_time": "2022-01-05T23:56:56.260Z"
   },
   {
    "duration": 8,
    "start_time": "2022-01-05T23:57:41.431Z"
   },
   {
    "duration": 10,
    "start_time": "2022-01-05T23:57:49.893Z"
   },
   {
    "duration": 10,
    "start_time": "2022-01-05T23:58:02.523Z"
   },
   {
    "duration": 332,
    "start_time": "2022-01-05T23:58:11.892Z"
   },
   {
    "duration": 12,
    "start_time": "2022-01-05T23:58:20.178Z"
   },
   {
    "duration": 111,
    "start_time": "2022-01-06T00:00:53.653Z"
   },
   {
    "duration": 113,
    "start_time": "2022-01-06T00:02:04.756Z"
   },
   {
    "duration": 345,
    "start_time": "2022-01-06T00:02:15.472Z"
   },
   {
    "duration": 11,
    "start_time": "2022-01-06T00:02:50.865Z"
   },
   {
    "duration": 22,
    "start_time": "2022-01-06T00:02:54.278Z"
   },
   {
    "duration": 22,
    "start_time": "2022-01-06T00:03:01.957Z"
   },
   {
    "duration": 9,
    "start_time": "2022-01-06T00:03:40.291Z"
   },
   {
    "duration": 21,
    "start_time": "2022-01-06T00:03:49.736Z"
   },
   {
    "duration": 383,
    "start_time": "2022-01-06T00:03:58.087Z"
   },
   {
    "duration": 22,
    "start_time": "2022-01-06T00:04:08.730Z"
   },
   {
    "duration": 9076,
    "start_time": "2022-01-06T00:06:27.505Z"
   },
   {
    "duration": 7660,
    "start_time": "2022-01-06T00:06:42.730Z"
   },
   {
    "duration": 457,
    "start_time": "2022-01-06T00:06:49.936Z"
   },
   {
    "duration": 8615,
    "start_time": "2022-01-06T00:07:15.190Z"
   },
   {
    "duration": 8,
    "start_time": "2022-01-06T00:08:49.241Z"
   },
   {
    "duration": 22,
    "start_time": "2022-01-06T00:08:52.159Z"
   },
   {
    "duration": 319,
    "start_time": "2022-01-06T00:09:33.765Z"
   },
   {
    "duration": 311,
    "start_time": "2022-01-06T00:09:42.168Z"
   },
   {
    "duration": 9,
    "start_time": "2022-01-06T00:09:52.392Z"
   },
   {
    "duration": 10,
    "start_time": "2022-01-06T00:11:21.822Z"
   },
   {
    "duration": 9,
    "start_time": "2022-01-06T00:11:31.547Z"
   },
   {
    "duration": 10,
    "start_time": "2022-01-06T00:19:28.288Z"
   },
   {
    "duration": 10,
    "start_time": "2022-01-06T00:19:36.265Z"
   },
   {
    "duration": 10,
    "start_time": "2022-01-06T00:19:42.911Z"
   },
   {
    "duration": 10,
    "start_time": "2022-01-06T00:19:47.900Z"
   },
   {
    "duration": 9,
    "start_time": "2022-01-06T00:19:53.782Z"
   },
   {
    "duration": 9,
    "start_time": "2022-01-06T00:19:59.253Z"
   },
   {
    "duration": 10,
    "start_time": "2022-01-06T00:21:13.427Z"
   },
   {
    "duration": 9,
    "start_time": "2022-01-06T00:21:55.620Z"
   },
   {
    "duration": 12,
    "start_time": "2022-01-06T00:22:47.447Z"
   },
   {
    "duration": 23,
    "start_time": "2022-01-06T00:22:57.214Z"
   },
   {
    "duration": 11,
    "start_time": "2022-01-06T00:23:55.762Z"
   },
   {
    "duration": 97,
    "start_time": "2022-01-06T00:25:56.963Z"
   },
   {
    "duration": 301,
    "start_time": "2022-01-06T00:26:24.620Z"
   },
   {
    "duration": 338,
    "start_time": "2022-01-06T00:27:01.683Z"
   },
   {
    "duration": 323,
    "start_time": "2022-01-06T00:27:33.303Z"
   },
   {
    "duration": 10,
    "start_time": "2022-01-06T00:28:00.940Z"
   },
   {
    "duration": 11,
    "start_time": "2022-01-06T00:28:11.495Z"
   },
   {
    "duration": 13,
    "start_time": "2022-01-06T00:28:21.137Z"
   },
   {
    "duration": 9324,
    "start_time": "2022-01-06T00:30:13.162Z"
   },
   {
    "duration": 824,
    "start_time": "2022-01-06T00:30:32.654Z"
   },
   {
    "duration": 8338,
    "start_time": "2022-01-06T00:32:25.027Z"
   },
   {
    "duration": 512,
    "start_time": "2022-01-06T00:33:48.855Z"
   },
   {
    "duration": 501,
    "start_time": "2022-01-06T00:33:48.867Z"
   },
   {
    "duration": 488,
    "start_time": "2022-01-06T00:33:48.882Z"
   },
   {
    "duration": 476,
    "start_time": "2022-01-06T00:33:48.895Z"
   },
   {
    "duration": 469,
    "start_time": "2022-01-06T00:33:48.904Z"
   },
   {
    "duration": 460,
    "start_time": "2022-01-06T00:33:48.914Z"
   },
   {
    "duration": 455,
    "start_time": "2022-01-06T00:33:48.920Z"
   },
   {
    "duration": 446,
    "start_time": "2022-01-06T00:33:48.930Z"
   },
   {
    "duration": 441,
    "start_time": "2022-01-06T00:33:48.937Z"
   },
   {
    "duration": 429,
    "start_time": "2022-01-06T00:33:48.950Z"
   },
   {
    "duration": 8,
    "start_time": "2022-01-06T00:34:07.373Z"
   },
   {
    "duration": 101,
    "start_time": "2022-01-06T00:34:18.597Z"
   },
   {
    "duration": 37,
    "start_time": "2022-01-06T00:34:18.701Z"
   },
   {
    "duration": 36,
    "start_time": "2022-01-06T00:34:18.742Z"
   },
   {
    "duration": 7,
    "start_time": "2022-01-06T00:34:18.781Z"
   },
   {
    "duration": 35,
    "start_time": "2022-01-06T00:34:18.790Z"
   },
   {
    "duration": 44,
    "start_time": "2022-01-06T00:34:18.828Z"
   },
   {
    "duration": 19,
    "start_time": "2022-01-06T00:34:18.875Z"
   },
   {
    "duration": 7,
    "start_time": "2022-01-06T00:34:18.897Z"
   },
   {
    "duration": 7803,
    "start_time": "2022-01-06T00:34:18.906Z"
   },
   {
    "duration": 510,
    "start_time": "2022-01-06T00:34:26.201Z"
   },
   {
    "duration": 22,
    "start_time": "2022-01-06T00:34:28.367Z"
   },
   {
    "duration": 7656,
    "start_time": "2022-01-06T00:35:52.467Z"
   },
   {
    "duration": 7876,
    "start_time": "2022-01-06T00:36:09.837Z"
   },
   {
    "duration": 497,
    "start_time": "2022-01-06T00:36:17.219Z"
   },
   {
    "duration": 22,
    "start_time": "2022-01-06T00:36:28.867Z"
   },
   {
    "duration": 16,
    "start_time": "2022-01-06T00:37:06.015Z"
   },
   {
    "duration": 23,
    "start_time": "2022-01-06T00:37:12.412Z"
   },
   {
    "duration": 101,
    "start_time": "2022-01-06T00:38:19.517Z"
   },
   {
    "duration": 48,
    "start_time": "2022-01-06T00:38:19.620Z"
   },
   {
    "duration": 16,
    "start_time": "2022-01-06T00:38:19.671Z"
   },
   {
    "duration": 8,
    "start_time": "2022-01-06T00:38:19.690Z"
   },
   {
    "duration": 66,
    "start_time": "2022-01-06T00:38:19.700Z"
   },
   {
    "duration": 10,
    "start_time": "2022-01-06T00:38:19.769Z"
   },
   {
    "duration": 20,
    "start_time": "2022-01-06T00:38:19.781Z"
   },
   {
    "duration": 7,
    "start_time": "2022-01-06T00:38:19.804Z"
   },
   {
    "duration": 54,
    "start_time": "2022-01-06T00:38:19.813Z"
   },
   {
    "duration": 22,
    "start_time": "2022-01-06T00:38:19.870Z"
   },
   {
    "duration": 3711,
    "start_time": "2022-01-06T00:39:23.646Z"
   },
   {
    "duration": 24,
    "start_time": "2022-01-06T00:39:38.527Z"
   },
   {
    "duration": 12,
    "start_time": "2022-01-06T00:40:34.320Z"
   },
   {
    "duration": 32,
    "start_time": "2022-01-06T00:41:43.206Z"
   },
   {
    "duration": 101,
    "start_time": "2022-01-06T00:42:43.036Z"
   },
   {
    "duration": 47,
    "start_time": "2022-01-06T00:42:43.139Z"
   },
   {
    "duration": 13,
    "start_time": "2022-01-06T00:42:43.190Z"
   },
   {
    "duration": 8,
    "start_time": "2022-01-06T00:42:43.206Z"
   },
   {
    "duration": 67,
    "start_time": "2022-01-06T00:42:43.216Z"
   },
   {
    "duration": 9,
    "start_time": "2022-01-06T00:42:43.285Z"
   },
   {
    "duration": 19,
    "start_time": "2022-01-06T00:42:43.297Z"
   },
   {
    "duration": 7,
    "start_time": "2022-01-06T00:42:43.319Z"
   },
   {
    "duration": 3743,
    "start_time": "2022-01-06T00:42:43.328Z"
   },
   {
    "duration": 32,
    "start_time": "2022-01-06T00:42:47.073Z"
   },
   {
    "duration": 362,
    "start_time": "2022-01-06T00:45:04.029Z"
   },
   {
    "duration": 303,
    "start_time": "2022-01-06T00:45:11.996Z"
   },
   {
    "duration": 5,
    "start_time": "2022-01-06T00:45:19.183Z"
   },
   {
    "duration": 6,
    "start_time": "2022-01-06T00:45:26.437Z"
   },
   {
    "duration": 5,
    "start_time": "2022-01-06T00:45:30.458Z"
   },
   {
    "duration": 2011,
    "start_time": "2022-01-06T00:45:58.756Z"
   },
   {
    "duration": 33,
    "start_time": "2022-01-06T00:46:02.291Z"
   },
   {
    "duration": 29,
    "start_time": "2022-01-06T00:47:10.937Z"
   },
   {
    "duration": 17,
    "start_time": "2022-01-06T00:47:34.659Z"
   },
   {
    "duration": 14,
    "start_time": "2022-01-06T00:47:41.148Z"
   },
   {
    "duration": 29,
    "start_time": "2022-01-06T00:48:20.649Z"
   },
   {
    "duration": 350,
    "start_time": "2022-01-06T00:49:00.385Z"
   },
   {
    "duration": 29,
    "start_time": "2022-01-06T00:49:14.648Z"
   },
   {
    "duration": 11,
    "start_time": "2022-01-06T00:50:10.226Z"
   },
   {
    "duration": 3360,
    "start_time": "2022-01-06T00:52:00.094Z"
   },
   {
    "duration": 99,
    "start_time": "2022-01-06T00:52:12.953Z"
   },
   {
    "duration": 42,
    "start_time": "2022-01-06T00:52:13.055Z"
   },
   {
    "duration": 12,
    "start_time": "2022-01-06T00:52:13.101Z"
   },
   {
    "duration": 7,
    "start_time": "2022-01-06T00:52:13.116Z"
   },
   {
    "duration": 69,
    "start_time": "2022-01-06T00:52:13.126Z"
   },
   {
    "duration": 13,
    "start_time": "2022-01-06T00:52:13.198Z"
   },
   {
    "duration": 19,
    "start_time": "2022-01-06T00:52:13.213Z"
   },
   {
    "duration": 6158,
    "start_time": "2022-01-06T00:52:13.235Z"
   },
   {
    "duration": 7,
    "start_time": "2022-01-06T00:53:09.042Z"
   },
   {
    "duration": 305,
    "start_time": "2022-01-06T00:53:17.714Z"
   },
   {
    "duration": 307,
    "start_time": "2022-01-06T00:53:42.648Z"
   },
   {
    "duration": 106,
    "start_time": "2022-01-06T00:54:03.108Z"
   },
   {
    "duration": 53,
    "start_time": "2022-01-06T00:54:03.217Z"
   },
   {
    "duration": 14,
    "start_time": "2022-01-06T00:54:03.273Z"
   },
   {
    "duration": 10,
    "start_time": "2022-01-06T00:54:03.290Z"
   },
   {
    "duration": 32,
    "start_time": "2022-01-06T00:54:03.303Z"
   },
   {
    "duration": 9,
    "start_time": "2022-01-06T00:54:03.368Z"
   },
   {
    "duration": 23,
    "start_time": "2022-01-06T00:54:03.380Z"
   },
   {
    "duration": 6156,
    "start_time": "2022-01-06T00:54:03.406Z"
   },
   {
    "duration": 298,
    "start_time": "2022-01-06T00:54:09.567Z"
   },
   {
    "duration": 333,
    "start_time": "2022-01-06T00:54:29.418Z"
   },
   {
    "duration": 116,
    "start_time": "2022-01-06T00:54:42.973Z"
   },
   {
    "duration": 37,
    "start_time": "2022-01-06T00:54:47.510Z"
   },
   {
    "duration": 13,
    "start_time": "2022-01-06T00:54:48.372Z"
   },
   {
    "duration": 8,
    "start_time": "2022-01-06T00:54:48.745Z"
   },
   {
    "duration": 31,
    "start_time": "2022-01-06T00:54:49.061Z"
   },
   {
    "duration": 10,
    "start_time": "2022-01-06T00:54:50.500Z"
   },
   {
    "duration": 20,
    "start_time": "2022-01-06T00:54:50.555Z"
   },
   {
    "duration": 6068,
    "start_time": "2022-01-06T00:54:50.942Z"
   },
   {
    "duration": 323,
    "start_time": "2022-01-06T00:54:57.012Z"
   },
   {
    "duration": 338,
    "start_time": "2022-01-06T00:55:41.735Z"
   },
   {
    "duration": 101,
    "start_time": "2022-01-06T00:55:54.672Z"
   },
   {
    "duration": 38,
    "start_time": "2022-01-06T00:55:56.689Z"
   },
   {
    "duration": 16,
    "start_time": "2022-01-06T00:55:59.600Z"
   },
   {
    "duration": 10,
    "start_time": "2022-01-06T00:56:03.224Z"
   },
   {
    "duration": 32,
    "start_time": "2022-01-06T00:56:03.998Z"
   },
   {
    "duration": 11,
    "start_time": "2022-01-06T00:56:10.161Z"
   },
   {
    "duration": 22,
    "start_time": "2022-01-06T00:56:16.811Z"
   },
   {
    "duration": 6172,
    "start_time": "2022-01-06T00:56:24.113Z"
   },
   {
    "duration": 326,
    "start_time": "2022-01-06T00:56:44.777Z"
   },
   {
    "duration": 322,
    "start_time": "2022-01-06T00:57:09.763Z"
   },
   {
    "duration": 320,
    "start_time": "2022-01-06T00:57:40.607Z"
   },
   {
    "duration": 332,
    "start_time": "2022-01-06T00:57:57.945Z"
   },
   {
    "duration": 101,
    "start_time": "2022-01-06T00:58:13.193Z"
   },
   {
    "duration": 35,
    "start_time": "2022-01-06T00:58:13.297Z"
   },
   {
    "duration": 33,
    "start_time": "2022-01-06T00:58:13.336Z"
   },
   {
    "duration": 9,
    "start_time": "2022-01-06T00:58:13.372Z"
   },
   {
    "duration": 33,
    "start_time": "2022-01-06T00:58:13.384Z"
   },
   {
    "duration": 10,
    "start_time": "2022-01-06T00:58:13.419Z"
   },
   {
    "duration": 55,
    "start_time": "2022-01-06T00:58:13.431Z"
   },
   {
    "duration": 3880,
    "start_time": "2022-01-06T00:58:13.490Z"
   },
   {
    "duration": 103,
    "start_time": "2022-01-06T00:58:22.632Z"
   },
   {
    "duration": 48,
    "start_time": "2022-01-06T00:58:22.738Z"
   },
   {
    "duration": 13,
    "start_time": "2022-01-06T00:58:22.789Z"
   },
   {
    "duration": 7,
    "start_time": "2022-01-06T00:58:22.805Z"
   },
   {
    "duration": 67,
    "start_time": "2022-01-06T00:58:22.815Z"
   },
   {
    "duration": 9,
    "start_time": "2022-01-06T00:58:22.884Z"
   },
   {
    "duration": 19,
    "start_time": "2022-01-06T00:58:22.895Z"
   },
   {
    "duration": 3919,
    "start_time": "2022-01-06T00:58:22.917Z"
   },
   {
    "duration": 33,
    "start_time": "2022-01-06T00:58:36.919Z"
   },
   {
    "duration": 28,
    "start_time": "2022-01-06T00:59:11.843Z"
   },
   {
    "duration": 3561,
    "start_time": "2022-01-06T00:59:31.688Z"
   },
   {
    "duration": 36,
    "start_time": "2022-01-06T00:59:35.251Z"
   },
   {
    "duration": 11,
    "start_time": "2022-01-06T01:00:05.890Z"
   },
   {
    "duration": 105,
    "start_time": "2022-01-06T01:00:12.122Z"
   },
   {
    "duration": 46,
    "start_time": "2022-01-06T01:00:12.230Z"
   },
   {
    "duration": 19,
    "start_time": "2022-01-06T01:00:12.279Z"
   },
   {
    "duration": 7,
    "start_time": "2022-01-06T01:00:12.301Z"
   },
   {
    "duration": 62,
    "start_time": "2022-01-06T01:00:12.311Z"
   },
   {
    "duration": 9,
    "start_time": "2022-01-06T01:00:12.375Z"
   },
   {
    "duration": 20,
    "start_time": "2022-01-06T01:00:12.386Z"
   },
   {
    "duration": 6503,
    "start_time": "2022-01-06T01:00:12.409Z"
   },
   {
    "duration": 334,
    "start_time": "2022-01-06T01:00:18.915Z"
   },
   {
    "duration": 302,
    "start_time": "2022-01-06T01:00:44.144Z"
   },
   {
    "duration": 103,
    "start_time": "2022-01-06T01:00:50.965Z"
   },
   {
    "duration": 14,
    "start_time": "2022-01-06T01:01:07.656Z"
   },
   {
    "duration": 8,
    "start_time": "2022-01-06T01:01:11.270Z"
   },
   {
    "duration": 38,
    "start_time": "2022-01-06T01:01:21.470Z"
   },
   {
    "duration": 10,
    "start_time": "2022-01-06T01:01:27.324Z"
   },
   {
    "duration": 20,
    "start_time": "2022-01-06T01:01:41.487Z"
   },
   {
    "duration": 6050,
    "start_time": "2022-01-06T01:01:45.369Z"
   },
   {
    "duration": 318,
    "start_time": "2022-01-06T01:01:55.365Z"
   },
   {
    "duration": 331,
    "start_time": "2022-01-06T01:02:08.912Z"
   },
   {
    "duration": 108,
    "start_time": "2022-01-06T01:02:19.259Z"
   },
   {
    "duration": 34,
    "start_time": "2022-01-06T01:02:19.370Z"
   },
   {
    "duration": 15,
    "start_time": "2022-01-06T01:02:19.407Z"
   },
   {
    "duration": 8,
    "start_time": "2022-01-06T01:02:19.425Z"
   },
   {
    "duration": 32,
    "start_time": "2022-01-06T01:02:19.468Z"
   },
   {
    "duration": 12,
    "start_time": "2022-01-06T01:02:19.503Z"
   },
   {
    "duration": 51,
    "start_time": "2022-01-06T01:02:19.517Z"
   },
   {
    "duration": 3821,
    "start_time": "2022-01-06T01:02:19.571Z"
   },
   {
    "duration": 11,
    "start_time": "2022-01-06T01:02:23.395Z"
   },
   {
    "duration": 9,
    "start_time": "2022-01-06T01:04:07.888Z"
   },
   {
    "duration": 22,
    "start_time": "2022-01-06T01:04:13.922Z"
   },
   {
    "duration": 495,
    "start_time": "2022-01-06T01:04:48.908Z"
   },
   {
    "duration": 381,
    "start_time": "2022-01-06T01:04:55.060Z"
   },
   {
    "duration": 9,
    "start_time": "2022-01-06T01:05:04.004Z"
   },
   {
    "duration": 118,
    "start_time": "2022-01-06T01:05:17.351Z"
   },
   {
    "duration": 35,
    "start_time": "2022-01-06T01:05:17.473Z"
   },
   {
    "duration": 22,
    "start_time": "2022-01-06T01:05:17.511Z"
   },
   {
    "duration": 35,
    "start_time": "2022-01-06T01:05:17.536Z"
   },
   {
    "duration": 31,
    "start_time": "2022-01-06T01:05:17.573Z"
   },
   {
    "duration": 15,
    "start_time": "2022-01-06T01:05:17.606Z"
   },
   {
    "duration": 49,
    "start_time": "2022-01-06T01:05:17.624Z"
   },
   {
    "duration": 11,
    "start_time": "2022-01-06T01:05:17.676Z"
   },
   {
    "duration": 3801,
    "start_time": "2022-01-06T01:05:17.690Z"
   },
   {
    "duration": 10,
    "start_time": "2022-01-06T01:05:21.493Z"
   },
   {
    "duration": 8,
    "start_time": "2022-01-06T01:06:04.254Z"
   },
   {
    "duration": 8,
    "start_time": "2022-01-06T01:06:48.419Z"
   },
   {
    "duration": 7,
    "start_time": "2022-01-06T01:08:33.358Z"
   },
   {
    "duration": 117,
    "start_time": "2022-01-06T01:10:48.117Z"
   },
   {
    "duration": 125,
    "start_time": "2022-01-06T01:10:52.869Z"
   },
   {
    "duration": 116,
    "start_time": "2022-01-06T01:11:02.515Z"
   },
   {
    "duration": 9,
    "start_time": "2022-01-06T01:11:24.286Z"
   },
   {
    "duration": 7,
    "start_time": "2022-01-06T01:11:35.849Z"
   },
   {
    "duration": 320,
    "start_time": "2022-01-06T01:14:01.506Z"
   },
   {
    "duration": 334,
    "start_time": "2022-01-06T01:14:28.772Z"
   },
   {
    "duration": 9,
    "start_time": "2022-01-06T01:23:24.278Z"
   },
   {
    "duration": 8,
    "start_time": "2022-01-06T01:23:32.827Z"
   },
   {
    "duration": 8,
    "start_time": "2022-01-06T01:23:55.600Z"
   },
   {
    "duration": 104,
    "start_time": "2022-01-06T01:27:07.814Z"
   },
   {
    "duration": 121,
    "start_time": "2022-01-06T01:27:53.235Z"
   },
   {
    "duration": 102,
    "start_time": "2022-01-06T01:28:11.340Z"
   },
   {
    "duration": 116,
    "start_time": "2022-01-06T01:28:35.395Z"
   },
   {
    "duration": 121,
    "start_time": "2022-01-06T01:29:01.554Z"
   },
   {
    "duration": 35,
    "start_time": "2022-01-06T01:29:01.677Z"
   },
   {
    "duration": 22,
    "start_time": "2022-01-06T01:29:01.715Z"
   },
   {
    "duration": 33,
    "start_time": "2022-01-06T01:29:01.740Z"
   },
   {
    "duration": 44,
    "start_time": "2022-01-06T01:29:01.775Z"
   },
   {
    "duration": 10,
    "start_time": "2022-01-06T01:29:01.822Z"
   },
   {
    "duration": 20,
    "start_time": "2022-01-06T01:29:01.867Z"
   },
   {
    "duration": 8,
    "start_time": "2022-01-06T01:29:01.890Z"
   },
   {
    "duration": 19,
    "start_time": "2022-01-06T01:29:01.900Z"
   },
   {
    "duration": 121,
    "start_time": "2022-01-06T01:29:01.921Z"
   },
   {
    "duration": 633,
    "start_time": "2022-01-06T01:29:01.411Z"
   },
   {
    "duration": 3709,
    "start_time": "2022-01-06T01:29:36.691Z"
   },
   {
    "duration": 10,
    "start_time": "2022-01-06T01:29:48.210Z"
   },
   {
    "duration": 156,
    "start_time": "2022-01-06T01:32:09.740Z"
   },
   {
    "duration": 106,
    "start_time": "2022-01-06T01:32:16.274Z"
   },
   {
    "duration": 7,
    "start_time": "2022-01-06T01:32:21.494Z"
   },
   {
    "duration": 2901,
    "start_time": "2022-01-06T01:35:05.479Z"
   },
   {
    "duration": 1972,
    "start_time": "2022-01-06T01:35:20.633Z"
   },
   {
    "duration": 33,
    "start_time": "2022-01-06T01:37:34.362Z"
   },
   {
    "duration": 34,
    "start_time": "2022-01-06T01:37:50.676Z"
   },
   {
    "duration": 32,
    "start_time": "2022-01-06T01:39:35.454Z"
   },
   {
    "duration": 32,
    "start_time": "2022-01-06T01:39:38.522Z"
   },
   {
    "duration": 19,
    "start_time": "2022-01-06T01:42:34.170Z"
   },
   {
    "duration": 36,
    "start_time": "2022-01-06T01:42:41.863Z"
   },
   {
    "duration": 6,
    "start_time": "2022-01-06T01:51:27.129Z"
   },
   {
    "duration": 34,
    "start_time": "2022-01-06T01:51:43.345Z"
   },
   {
    "duration": 19,
    "start_time": "2022-01-06T01:53:03.840Z"
   },
   {
    "duration": 19,
    "start_time": "2022-01-06T01:58:28.577Z"
   },
   {
    "duration": 300,
    "start_time": "2022-01-06T01:58:37.268Z"
   },
   {
    "duration": 20,
    "start_time": "2022-01-06T01:58:41.718Z"
   },
   {
    "duration": 107,
    "start_time": "2022-01-06T01:58:53.944Z"
   },
   {
    "duration": 44,
    "start_time": "2022-01-06T01:58:54.054Z"
   },
   {
    "duration": 14,
    "start_time": "2022-01-06T01:58:54.101Z"
   },
   {
    "duration": 9,
    "start_time": "2022-01-06T01:58:54.118Z"
   },
   {
    "duration": 70,
    "start_time": "2022-01-06T01:58:54.129Z"
   },
   {
    "duration": 9,
    "start_time": "2022-01-06T01:58:54.202Z"
   },
   {
    "duration": 22,
    "start_time": "2022-01-06T01:58:54.214Z"
   },
   {
    "duration": 8,
    "start_time": "2022-01-06T01:58:54.269Z"
   },
   {
    "duration": 8,
    "start_time": "2022-01-06T01:58:54.279Z"
   },
   {
    "duration": 3695,
    "start_time": "2022-01-06T01:58:54.290Z"
   },
   {
    "duration": 7,
    "start_time": "2022-01-06T01:58:57.988Z"
   },
   {
    "duration": 36,
    "start_time": "2022-01-06T01:58:57.997Z"
   },
   {
    "duration": 58,
    "start_time": "2022-01-06T01:58:58.036Z"
   },
   {
    "duration": 18,
    "start_time": "2022-01-06T01:58:58.097Z"
   },
   {
    "duration": 308,
    "start_time": "2022-01-06T01:59:13.312Z"
   },
   {
    "duration": 655,
    "start_time": "2022-01-06T01:59:33.381Z"
   },
   {
    "duration": 1950,
    "start_time": "2022-01-06T02:00:08.906Z"
   },
   {
    "duration": 33,
    "start_time": "2022-01-06T02:00:14.656Z"
   },
   {
    "duration": 18,
    "start_time": "2022-01-06T02:01:06.383Z"
   },
   {
    "duration": 19,
    "start_time": "2022-01-06T02:02:15.133Z"
   },
   {
    "duration": 101,
    "start_time": "2022-01-06T02:02:21.389Z"
   },
   {
    "duration": 33,
    "start_time": "2022-01-06T02:02:21.493Z"
   },
   {
    "duration": 39,
    "start_time": "2022-01-06T02:02:21.529Z"
   },
   {
    "duration": 9,
    "start_time": "2022-01-06T02:02:21.571Z"
   },
   {
    "duration": 32,
    "start_time": "2022-01-06T02:02:21.582Z"
   },
   {
    "duration": 11,
    "start_time": "2022-01-06T02:02:21.616Z"
   },
   {
    "duration": 58,
    "start_time": "2022-01-06T02:02:21.629Z"
   },
   {
    "duration": 8,
    "start_time": "2022-01-06T02:02:21.690Z"
   },
   {
    "duration": 17,
    "start_time": "2022-01-06T02:02:21.701Z"
   },
   {
    "duration": 3702,
    "start_time": "2022-01-06T02:02:21.720Z"
   },
   {
    "duration": 7,
    "start_time": "2022-01-06T02:02:25.424Z"
   },
   {
    "duration": 54,
    "start_time": "2022-01-06T02:02:25.433Z"
   },
   {
    "duration": 33,
    "start_time": "2022-01-06T02:02:25.489Z"
   },
   {
    "duration": 46,
    "start_time": "2022-01-06T02:02:25.525Z"
   },
   {
    "duration": 20,
    "start_time": "2022-01-06T02:03:42.701Z"
   },
   {
    "duration": 364,
    "start_time": "2022-01-06T02:03:49.254Z"
   },
   {
    "duration": 2291,
    "start_time": "2022-01-06T02:04:30.332Z"
   },
   {
    "duration": 106,
    "start_time": "2022-01-06T02:05:27.696Z"
   },
   {
    "duration": 35,
    "start_time": "2022-01-06T02:05:27.806Z"
   },
   {
    "duration": 15,
    "start_time": "2022-01-06T02:05:27.869Z"
   },
   {
    "duration": 12,
    "start_time": "2022-01-06T02:05:27.888Z"
   },
   {
    "duration": 39,
    "start_time": "2022-01-06T02:05:27.903Z"
   },
   {
    "duration": 11,
    "start_time": "2022-01-06T02:05:27.967Z"
   },
   {
    "duration": 29,
    "start_time": "2022-01-06T02:05:27.980Z"
   },
   {
    "duration": 7,
    "start_time": "2022-01-06T02:05:28.012Z"
   },
   {
    "duration": 9,
    "start_time": "2022-01-06T02:05:28.022Z"
   },
   {
    "duration": 3824,
    "start_time": "2022-01-06T02:05:28.034Z"
   },
   {
    "duration": 11,
    "start_time": "2022-01-06T02:05:31.861Z"
   },
   {
    "duration": 37,
    "start_time": "2022-01-06T02:05:31.874Z"
   },
   {
    "duration": 56,
    "start_time": "2022-01-06T02:05:31.913Z"
   },
   {
    "duration": 18,
    "start_time": "2022-01-06T02:05:31.971Z"
   },
   {
    "duration": 355,
    "start_time": "2022-01-06T02:05:41.211Z"
   },
   {
    "duration": 20,
    "start_time": "2022-01-06T02:05:52.212Z"
   },
   {
    "duration": 781,
    "start_time": "2022-01-07T13:07:02.438Z"
   },
   {
    "duration": 901,
    "start_time": "2022-01-07T13:07:13.850Z"
   },
   {
    "duration": 37,
    "start_time": "2022-01-07T13:07:14.754Z"
   },
   {
    "duration": 29,
    "start_time": "2022-01-07T13:07:14.795Z"
   },
   {
    "duration": 8,
    "start_time": "2022-01-07T13:07:14.827Z"
   },
   {
    "duration": 35,
    "start_time": "2022-01-07T13:07:14.837Z"
   },
   {
    "duration": 47,
    "start_time": "2022-01-07T13:07:14.874Z"
   },
   {
    "duration": 19,
    "start_time": "2022-01-07T13:07:14.924Z"
   },
   {
    "duration": 8,
    "start_time": "2022-01-07T13:07:14.946Z"
   },
   {
    "duration": 9,
    "start_time": "2022-01-07T13:07:14.957Z"
   },
   {
    "duration": 3609,
    "start_time": "2022-01-07T13:07:14.968Z"
   },
   {
    "duration": 7,
    "start_time": "2022-01-07T13:07:18.579Z"
   },
   {
    "duration": 49,
    "start_time": "2022-01-07T13:07:18.587Z"
   },
   {
    "duration": 41,
    "start_time": "2022-01-07T13:07:18.638Z"
   },
   {
    "duration": 38,
    "start_time": "2022-01-07T13:07:18.682Z"
   },
   {
    "duration": 18,
    "start_time": "2022-01-07T13:13:34.493Z"
   },
   {
    "duration": 37,
    "start_time": "2022-01-07T13:16:15.325Z"
   },
   {
    "duration": 37,
    "start_time": "2022-01-07T13:16:19.393Z"
   },
   {
    "duration": 34,
    "start_time": "2022-01-07T13:16:38.577Z"
   },
   {
    "duration": 36,
    "start_time": "2022-01-07T13:16:41.416Z"
   },
   {
    "duration": 16,
    "start_time": "2022-01-07T13:16:45.912Z"
   },
   {
    "duration": 109,
    "start_time": "2022-01-07T13:16:51.517Z"
   },
   {
    "duration": 34,
    "start_time": "2022-01-07T13:16:57.451Z"
   },
   {
    "duration": 38,
    "start_time": "2022-01-07T13:22:29.517Z"
   },
   {
    "duration": 98,
    "start_time": "2022-01-07T13:22:35.164Z"
   },
   {
    "duration": 57,
    "start_time": "2022-01-07T13:22:35.264Z"
   },
   {
    "duration": 17,
    "start_time": "2022-01-07T13:22:35.325Z"
   },
   {
    "duration": 9,
    "start_time": "2022-01-07T13:22:35.345Z"
   },
   {
    "duration": 66,
    "start_time": "2022-01-07T13:22:35.357Z"
   },
   {
    "duration": 9,
    "start_time": "2022-01-07T13:22:35.425Z"
   },
   {
    "duration": 21,
    "start_time": "2022-01-07T13:22:35.437Z"
   },
   {
    "duration": 7,
    "start_time": "2022-01-07T13:22:35.462Z"
   },
   {
    "duration": 46,
    "start_time": "2022-01-07T13:22:35.472Z"
   },
   {
    "duration": 3627,
    "start_time": "2022-01-07T13:22:35.521Z"
   },
   {
    "duration": 7,
    "start_time": "2022-01-07T13:22:39.150Z"
   },
   {
    "duration": 31,
    "start_time": "2022-01-07T13:22:39.160Z"
   },
   {
    "duration": 53,
    "start_time": "2022-01-07T13:22:39.193Z"
   },
   {
    "duration": 19,
    "start_time": "2022-01-07T13:22:39.248Z"
   },
   {
    "duration": 11,
    "start_time": "2022-01-07T13:28:19.432Z"
   },
   {
    "duration": 33,
    "start_time": "2022-01-07T13:28:29.517Z"
   },
   {
    "duration": 115,
    "start_time": "2022-01-07T13:37:45.361Z"
   },
   {
    "duration": 40,
    "start_time": "2022-01-07T13:37:45.479Z"
   },
   {
    "duration": 36,
    "start_time": "2022-01-07T13:37:45.521Z"
   },
   {
    "duration": 14,
    "start_time": "2022-01-07T13:37:45.561Z"
   },
   {
    "duration": 40,
    "start_time": "2022-01-07T13:37:45.578Z"
   },
   {
    "duration": 54,
    "start_time": "2022-01-07T13:37:45.621Z"
   },
   {
    "duration": 10,
    "start_time": "2022-01-07T13:37:45.677Z"
   },
   {
    "duration": 48,
    "start_time": "2022-01-07T13:37:45.692Z"
   },
   {
    "duration": 12,
    "start_time": "2022-01-07T13:37:45.743Z"
   },
   {
    "duration": 18,
    "start_time": "2022-01-07T13:37:45.758Z"
   },
   {
    "duration": 3611,
    "start_time": "2022-01-07T13:37:45.778Z"
   },
   {
    "duration": 6,
    "start_time": "2022-01-07T13:37:49.391Z"
   },
   {
    "duration": 42,
    "start_time": "2022-01-07T13:37:49.399Z"
   },
   {
    "duration": 32,
    "start_time": "2022-01-07T13:37:49.444Z"
   },
   {
    "duration": 47,
    "start_time": "2022-01-07T13:37:49.478Z"
   },
   {
    "duration": 19,
    "start_time": "2022-01-07T13:43:38.324Z"
   },
   {
    "duration": 19,
    "start_time": "2022-01-07T13:43:54.986Z"
   },
   {
    "duration": 923,
    "start_time": "2022-01-07T15:32:17.875Z"
   },
   {
    "duration": 37,
    "start_time": "2022-01-07T15:32:18.801Z"
   },
   {
    "duration": 37,
    "start_time": "2022-01-07T15:32:18.842Z"
   },
   {
    "duration": 38,
    "start_time": "2022-01-07T15:32:18.883Z"
   },
   {
    "duration": 10,
    "start_time": "2022-01-07T15:32:18.924Z"
   },
   {
    "duration": 31,
    "start_time": "2022-01-07T15:32:18.936Z"
   },
   {
    "duration": 51,
    "start_time": "2022-01-07T15:32:18.969Z"
   },
   {
    "duration": 26,
    "start_time": "2022-01-07T15:32:19.023Z"
   },
   {
    "duration": 8,
    "start_time": "2022-01-07T15:32:19.051Z"
   },
   {
    "duration": 7,
    "start_time": "2022-01-07T15:32:19.061Z"
   },
   {
    "duration": 3779,
    "start_time": "2022-01-07T15:32:19.070Z"
   },
   {
    "duration": 6,
    "start_time": "2022-01-07T15:32:22.852Z"
   },
   {
    "duration": 32,
    "start_time": "2022-01-07T15:32:22.860Z"
   },
   {
    "duration": 50,
    "start_time": "2022-01-07T15:32:22.894Z"
   },
   {
    "duration": 18,
    "start_time": "2022-01-07T15:32:22.947Z"
   },
   {
    "duration": 99,
    "start_time": "2022-01-07T15:39:03.962Z"
   },
   {
    "duration": 32,
    "start_time": "2022-01-07T15:39:04.064Z"
   },
   {
    "duration": 36,
    "start_time": "2022-01-07T15:39:04.118Z"
   },
   {
    "duration": 13,
    "start_time": "2022-01-07T15:39:04.158Z"
   },
   {
    "duration": 42,
    "start_time": "2022-01-07T15:39:04.174Z"
   },
   {
    "duration": 30,
    "start_time": "2022-01-07T15:39:04.219Z"
   },
   {
    "duration": 12,
    "start_time": "2022-01-07T15:39:04.251Z"
   },
   {
    "duration": 19,
    "start_time": "2022-01-07T15:39:04.266Z"
   },
   {
    "duration": 7,
    "start_time": "2022-01-07T15:39:04.318Z"
   },
   {
    "duration": 7,
    "start_time": "2022-01-07T15:39:04.327Z"
   },
   {
    "duration": 425,
    "start_time": "2022-01-07T15:39:04.337Z"
   },
   {
    "duration": 682,
    "start_time": "2022-01-07T15:39:04.082Z"
   },
   {
    "duration": 666,
    "start_time": "2022-01-07T15:39:04.099Z"
   },
   {
    "duration": 664,
    "start_time": "2022-01-07T15:39:04.103Z"
   },
   {
    "duration": 660,
    "start_time": "2022-01-07T15:39:04.108Z"
   },
   {
    "duration": 349,
    "start_time": "2022-01-07T15:40:21.087Z"
   },
   {
    "duration": 119,
    "start_time": "2022-01-07T15:43:15.759Z"
   },
   {
    "duration": 11837,
    "start_time": "2022-01-07T15:43:29.018Z"
   },
   {
    "duration": 661,
    "start_time": "2022-01-07T15:43:40.196Z"
   },
   {
    "duration": 9038,
    "start_time": "2022-01-07T15:44:41.812Z"
   },
   {
    "duration": 98,
    "start_time": "2022-01-07T15:45:16.601Z"
   },
   {
    "duration": 131,
    "start_time": "2022-01-07T15:45:16.701Z"
   },
   {
    "duration": 57,
    "start_time": "2022-01-07T15:45:16.835Z"
   },
   {
    "duration": 39,
    "start_time": "2022-01-07T15:45:16.895Z"
   },
   {
    "duration": 8,
    "start_time": "2022-01-07T15:45:16.937Z"
   },
   {
    "duration": 44,
    "start_time": "2022-01-07T15:45:16.947Z"
   },
   {
    "duration": 10,
    "start_time": "2022-01-07T15:45:16.993Z"
   },
   {
    "duration": 34,
    "start_time": "2022-01-07T15:45:17.005Z"
   },
   {
    "duration": 9,
    "start_time": "2022-01-07T15:45:17.043Z"
   },
   {
    "duration": 15,
    "start_time": "2022-01-07T15:45:17.054Z"
   },
   {
    "duration": 8517,
    "start_time": "2022-01-07T15:45:17.072Z"
   },
   {
    "duration": 670,
    "start_time": "2022-01-07T15:45:24.921Z"
   },
   {
    "duration": 663,
    "start_time": "2022-01-07T15:45:24.929Z"
   },
   {
    "duration": 660,
    "start_time": "2022-01-07T15:45:24.933Z"
   },
   {
    "duration": 657,
    "start_time": "2022-01-07T15:45:24.938Z"
   },
   {
    "duration": 8905,
    "start_time": "2022-01-07T15:46:56.577Z"
   },
   {
    "duration": 9434,
    "start_time": "2022-01-07T15:47:54.410Z"
   },
   {
    "duration": 11381,
    "start_time": "2022-01-07T15:48:13.167Z"
   },
   {
    "duration": 9456,
    "start_time": "2022-01-07T15:54:55.898Z"
   },
   {
    "duration": 360,
    "start_time": "2022-01-07T15:57:17.744Z"
   },
   {
    "duration": 10622,
    "start_time": "2022-01-07T15:58:22.902Z"
   },
   {
    "duration": 9206,
    "start_time": "2022-01-07T15:59:20.353Z"
   },
   {
    "duration": 10630,
    "start_time": "2022-01-07T16:00:14.682Z"
   },
   {
    "duration": 8738,
    "start_time": "2022-01-07T16:01:50.132Z"
   },
   {
    "duration": 9550,
    "start_time": "2022-01-07T16:02:40.451Z"
   },
   {
    "duration": 144,
    "start_time": "2022-01-07T16:05:42.429Z"
   },
   {
    "duration": 115,
    "start_time": "2022-01-07T16:06:07.090Z"
   },
   {
    "duration": 114,
    "start_time": "2022-01-07T16:06:14.425Z"
   },
   {
    "duration": 8939,
    "start_time": "2022-01-07T16:06:21.244Z"
   },
   {
    "duration": 101,
    "start_time": "2022-01-07T16:06:42.839Z"
   },
   {
    "duration": 33,
    "start_time": "2022-01-07T16:06:42.943Z"
   },
   {
    "duration": 59,
    "start_time": "2022-01-07T16:06:42.980Z"
   },
   {
    "duration": 14,
    "start_time": "2022-01-07T16:06:43.042Z"
   },
   {
    "duration": 11,
    "start_time": "2022-01-07T16:06:43.059Z"
   },
   {
    "duration": 75,
    "start_time": "2022-01-07T16:06:43.073Z"
   },
   {
    "duration": 13,
    "start_time": "2022-01-07T16:06:43.152Z"
   },
   {
    "duration": 51,
    "start_time": "2022-01-07T16:06:43.168Z"
   },
   {
    "duration": 7,
    "start_time": "2022-01-07T16:06:43.223Z"
   },
   {
    "duration": 17,
    "start_time": "2022-01-07T16:06:43.233Z"
   },
   {
    "duration": 10502,
    "start_time": "2022-01-07T16:06:43.253Z"
   },
   {
    "duration": 686,
    "start_time": "2022-01-07T16:06:53.072Z"
   },
   {
    "duration": 677,
    "start_time": "2022-01-07T16:06:53.083Z"
   },
   {
    "duration": 666,
    "start_time": "2022-01-07T16:06:53.096Z"
   },
   {
    "duration": 663,
    "start_time": "2022-01-07T16:06:53.101Z"
   },
   {
    "duration": 3804,
    "start_time": "2022-01-07T16:08:13.826Z"
   },
   {
    "duration": 722,
    "start_time": "2022-01-07T16:08:33.139Z"
   },
   {
    "duration": 10803,
    "start_time": "2022-01-07T16:08:52.118Z"
   },
   {
    "duration": 2004,
    "start_time": "2022-01-07T16:09:35.593Z"
   },
   {
    "duration": 1913,
    "start_time": "2022-01-07T16:09:49.322Z"
   },
   {
    "duration": 102,
    "start_time": "2022-01-07T16:09:53.866Z"
   },
   {
    "duration": 30,
    "start_time": "2022-01-07T16:09:53.970Z"
   },
   {
    "duration": 36,
    "start_time": "2022-01-07T16:09:54.019Z"
   },
   {
    "duration": 13,
    "start_time": "2022-01-07T16:09:54.058Z"
   },
   {
    "duration": 7,
    "start_time": "2022-01-07T16:09:54.074Z"
   },
   {
    "duration": 35,
    "start_time": "2022-01-07T16:09:54.116Z"
   },
   {
    "duration": 10,
    "start_time": "2022-01-07T16:09:54.153Z"
   },
   {
    "duration": 28,
    "start_time": "2022-01-07T16:09:54.165Z"
   },
   {
    "duration": 8,
    "start_time": "2022-01-07T16:09:54.219Z"
   },
   {
    "duration": 10,
    "start_time": "2022-01-07T16:09:54.229Z"
   },
   {
    "duration": 3663,
    "start_time": "2022-01-07T16:09:54.242Z"
   },
   {
    "duration": 12,
    "start_time": "2022-01-07T16:09:57.908Z"
   },
   {
    "duration": 35,
    "start_time": "2022-01-07T16:09:57.922Z"
   },
   {
    "duration": 42,
    "start_time": "2022-01-07T16:09:57.959Z"
   },
   {
    "duration": 27,
    "start_time": "2022-01-07T16:09:58.003Z"
   },
   {
    "duration": 11,
    "start_time": "2022-01-07T16:14:34.910Z"
   },
   {
    "duration": 29,
    "start_time": "2022-01-07T16:14:58.507Z"
   },
   {
    "duration": 360,
    "start_time": "2022-01-07T17:06:24.897Z"
   },
   {
    "duration": 112,
    "start_time": "2022-01-07T17:06:47.223Z"
   },
   {
    "duration": 399,
    "start_time": "2022-01-07T17:06:54.375Z"
   },
   {
    "duration": 6,
    "start_time": "2022-01-07T17:09:09.254Z"
   },
   {
    "duration": 398,
    "start_time": "2022-01-07T17:25:13.644Z"
   },
   {
    "duration": 147,
    "start_time": "2022-01-07T17:26:30.381Z"
   },
   {
    "duration": 162,
    "start_time": "2022-01-07T17:26:37.959Z"
   },
   {
    "duration": 130,
    "start_time": "2022-01-07T17:26:45.149Z"
   },
   {
    "duration": 351,
    "start_time": "2022-01-07T17:26:58.845Z"
   },
   {
    "duration": 428,
    "start_time": "2022-01-07T17:27:03.568Z"
   },
   {
    "duration": 6,
    "start_time": "2022-01-07T17:27:23.412Z"
   },
   {
    "duration": 6,
    "start_time": "2022-01-07T17:27:37.959Z"
   },
   {
    "duration": 32,
    "start_time": "2022-01-07T17:28:11.800Z"
   },
   {
    "duration": 33,
    "start_time": "2022-01-07T17:28:23.870Z"
   },
   {
    "duration": 108,
    "start_time": "2022-01-07T17:29:13.682Z"
   },
   {
    "duration": 29,
    "start_time": "2022-01-07T17:29:20.649Z"
   },
   {
    "duration": 28,
    "start_time": "2022-01-07T17:29:27.950Z"
   },
   {
    "duration": 28,
    "start_time": "2022-01-07T17:29:47.439Z"
   },
   {
    "duration": 130,
    "start_time": "2022-01-07T17:30:00.176Z"
   },
   {
    "duration": 47,
    "start_time": "2022-01-07T17:30:00.317Z"
   },
   {
    "duration": 51,
    "start_time": "2022-01-07T17:30:00.367Z"
   },
   {
    "duration": 28,
    "start_time": "2022-01-07T17:30:00.422Z"
   },
   {
    "duration": 13,
    "start_time": "2022-01-07T17:30:00.453Z"
   },
   {
    "duration": 47,
    "start_time": "2022-01-07T17:30:00.469Z"
   },
   {
    "duration": 32,
    "start_time": "2022-01-07T17:30:00.519Z"
   },
   {
    "duration": 10,
    "start_time": "2022-01-07T17:30:00.556Z"
   },
   {
    "duration": 60,
    "start_time": "2022-01-07T17:30:00.569Z"
   },
   {
    "duration": 8,
    "start_time": "2022-01-07T17:30:00.632Z"
   },
   {
    "duration": 10,
    "start_time": "2022-01-07T17:30:00.642Z"
   },
   {
    "duration": 4062,
    "start_time": "2022-01-07T17:30:00.655Z"
   },
   {
    "duration": 8,
    "start_time": "2022-01-07T17:30:04.719Z"
   },
   {
    "duration": 37,
    "start_time": "2022-01-07T17:30:04.729Z"
   },
   {
    "duration": 76,
    "start_time": "2022-01-07T17:30:04.769Z"
   },
   {
    "duration": 27,
    "start_time": "2022-01-07T17:30:04.848Z"
   },
   {
    "duration": 363,
    "start_time": "2022-01-07T17:31:26.763Z"
   },
   {
    "duration": 346,
    "start_time": "2022-01-07T17:32:14.121Z"
   },
   {
    "duration": 140,
    "start_time": "2022-01-07T17:33:02.613Z"
   },
   {
    "duration": 11,
    "start_time": "2022-01-07T17:34:41.059Z"
   },
   {
    "duration": 29,
    "start_time": "2022-01-07T17:34:57.123Z"
   },
   {
    "duration": 338,
    "start_time": "2022-01-07T17:36:26.862Z"
   },
   {
    "duration": 566,
    "start_time": "2022-01-07T17:36:37.534Z"
   },
   {
    "duration": 13,
    "start_time": "2022-01-07T17:36:48.845Z"
   },
   {
    "duration": 367,
    "start_time": "2022-01-07T17:36:58.981Z"
   },
   {
    "duration": 34,
    "start_time": "2022-01-07T17:39:14.580Z"
   },
   {
    "duration": 319,
    "start_time": "2022-01-07T17:39:22.064Z"
   },
   {
    "duration": 30,
    "start_time": "2022-01-07T17:39:34.183Z"
   },
   {
    "duration": 33,
    "start_time": "2022-01-07T17:39:49.177Z"
   },
   {
    "duration": 30,
    "start_time": "2022-01-07T17:40:03.060Z"
   },
   {
    "duration": 137,
    "start_time": "2022-01-07T17:57:42.350Z"
   },
   {
    "duration": 97,
    "start_time": "2022-01-07T17:59:49.636Z"
   },
   {
    "duration": 32,
    "start_time": "2022-01-07T17:59:49.735Z"
   },
   {
    "duration": 54,
    "start_time": "2022-01-07T17:59:49.770Z"
   },
   {
    "duration": 151,
    "start_time": "2022-01-07T17:59:49.826Z"
   },
   {
    "duration": 53,
    "start_time": "2022-01-07T17:59:49.979Z"
   },
   {
    "duration": 14,
    "start_time": "2022-01-07T17:59:50.035Z"
   },
   {
    "duration": 8,
    "start_time": "2022-01-07T17:59:50.051Z"
   },
   {
    "duration": 59,
    "start_time": "2022-01-07T17:59:50.061Z"
   },
   {
    "duration": 9,
    "start_time": "2022-01-07T17:59:50.124Z"
   },
   {
    "duration": 19,
    "start_time": "2022-01-07T17:59:50.136Z"
   },
   {
    "duration": 8,
    "start_time": "2022-01-07T17:59:50.157Z"
   },
   {
    "duration": 7,
    "start_time": "2022-01-07T17:59:50.167Z"
   },
   {
    "duration": 3729,
    "start_time": "2022-01-07T17:59:50.176Z"
   },
   {
    "duration": 6,
    "start_time": "2022-01-07T17:59:53.907Z"
   },
   {
    "duration": 35,
    "start_time": "2022-01-07T17:59:53.917Z"
   },
   {
    "duration": 33,
    "start_time": "2022-01-07T17:59:53.954Z"
   },
   {
    "duration": 44,
    "start_time": "2022-01-07T17:59:53.989Z"
   },
   {
    "duration": 133,
    "start_time": "2022-01-07T18:01:28.549Z"
   },
   {
    "duration": 337,
    "start_time": "2022-01-07T18:03:44.463Z"
   },
   {
    "duration": 332,
    "start_time": "2022-01-07T18:04:38.604Z"
   },
   {
    "duration": 9,
    "start_time": "2022-01-07T18:04:51.818Z"
   },
   {
    "duration": 24,
    "start_time": "2022-01-07T18:34:26.114Z"
   },
   {
    "duration": 23,
    "start_time": "2022-01-07T18:34:37.363Z"
   },
   {
    "duration": 25,
    "start_time": "2022-01-07T18:34:45.847Z"
   },
   {
    "duration": 409,
    "start_time": "2022-01-07T18:35:15.454Z"
   },
   {
    "duration": 44,
    "start_time": "2022-01-07T18:35:24.422Z"
   },
   {
    "duration": 23,
    "start_time": "2022-01-07T18:36:13.452Z"
   },
   {
    "duration": 24,
    "start_time": "2022-01-07T18:36:21.341Z"
   },
   {
    "duration": 347,
    "start_time": "2022-01-07T18:45:28.087Z"
   },
   {
    "duration": 47,
    "start_time": "2022-01-07T18:45:36.757Z"
   },
   {
    "duration": 27,
    "start_time": "2022-01-07T18:46:04.234Z"
   },
   {
    "duration": 26,
    "start_time": "2022-01-07T18:46:19.634Z"
   },
   {
    "duration": 383,
    "start_time": "2022-01-07T18:49:56.529Z"
   },
   {
    "duration": 349,
    "start_time": "2022-01-07T18:50:10.164Z"
   },
   {
    "duration": 22,
    "start_time": "2022-01-07T18:50:20.650Z"
   },
   {
    "duration": 97,
    "start_time": "2022-01-07T18:50:25.439Z"
   },
   {
    "duration": 32,
    "start_time": "2022-01-07T18:50:25.538Z"
   },
   {
    "duration": 58,
    "start_time": "2022-01-07T18:50:25.573Z"
   },
   {
    "duration": 12,
    "start_time": "2022-01-07T18:50:25.634Z"
   },
   {
    "duration": 9,
    "start_time": "2022-01-07T18:50:25.649Z"
   },
   {
    "duration": 62,
    "start_time": "2022-01-07T18:50:25.661Z"
   },
   {
    "duration": 9,
    "start_time": "2022-01-07T18:50:25.726Z"
   },
   {
    "duration": 26,
    "start_time": "2022-01-07T18:50:25.739Z"
   },
   {
    "duration": 7,
    "start_time": "2022-01-07T18:50:25.767Z"
   },
   {
    "duration": 7,
    "start_time": "2022-01-07T18:50:25.776Z"
   },
   {
    "duration": 3632,
    "start_time": "2022-01-07T18:50:25.817Z"
   },
   {
    "duration": 7,
    "start_time": "2022-01-07T18:50:29.451Z"
   },
   {
    "duration": 33,
    "start_time": "2022-01-07T18:50:29.460Z"
   },
   {
    "duration": 53,
    "start_time": "2022-01-07T18:50:29.495Z"
   },
   {
    "duration": 13,
    "start_time": "2022-01-07T18:50:29.550Z"
   },
   {
    "duration": 56,
    "start_time": "2022-01-07T18:50:29.565Z"
   },
   {
    "duration": 28,
    "start_time": "2022-01-07T18:50:29.623Z"
   },
   {
    "duration": 153,
    "start_time": "2022-01-07T18:50:29.654Z"
   },
   {
    "duration": 428,
    "start_time": "2022-01-07T18:51:20.429Z"
   },
   {
    "duration": 99,
    "start_time": "2022-01-07T18:51:32.866Z"
   },
   {
    "duration": 49,
    "start_time": "2022-01-07T18:51:32.968Z"
   },
   {
    "duration": 35,
    "start_time": "2022-01-07T18:51:33.020Z"
   },
   {
    "duration": 39,
    "start_time": "2022-01-07T18:51:33.058Z"
   },
   {
    "duration": 16,
    "start_time": "2022-01-07T18:51:33.099Z"
   },
   {
    "duration": 46,
    "start_time": "2022-01-07T18:51:33.117Z"
   },
   {
    "duration": 14,
    "start_time": "2022-01-07T18:51:33.166Z"
   },
   {
    "duration": 21,
    "start_time": "2022-01-07T18:51:33.184Z"
   },
   {
    "duration": 16,
    "start_time": "2022-01-07T18:51:33.207Z"
   },
   {
    "duration": 15,
    "start_time": "2022-01-07T18:51:33.225Z"
   },
   {
    "duration": 3649,
    "start_time": "2022-01-07T18:51:33.243Z"
   },
   {
    "duration": 7,
    "start_time": "2022-01-07T18:51:36.894Z"
   },
   {
    "duration": 33,
    "start_time": "2022-01-07T18:51:36.916Z"
   },
   {
    "duration": 33,
    "start_time": "2022-01-07T18:51:36.951Z"
   },
   {
    "duration": 37,
    "start_time": "2022-01-07T18:51:36.987Z"
   },
   {
    "duration": 32,
    "start_time": "2022-01-07T18:51:37.027Z"
   },
   {
    "duration": 57,
    "start_time": "2022-01-07T18:51:37.061Z"
   },
   {
    "duration": 144,
    "start_time": "2022-01-07T18:51:37.120Z"
   },
   {
    "duration": 3,
    "start_time": "2022-01-07T18:52:34.879Z"
   },
   {
    "duration": 100,
    "start_time": "2022-01-07T18:52:39.430Z"
   },
   {
    "duration": 31,
    "start_time": "2022-01-07T18:52:39.534Z"
   },
   {
    "duration": 55,
    "start_time": "2022-01-07T18:52:39.569Z"
   },
   {
    "duration": 14,
    "start_time": "2022-01-07T18:52:39.627Z"
   },
   {
    "duration": 7,
    "start_time": "2022-01-07T18:52:39.644Z"
   },
   {
    "duration": 34,
    "start_time": "2022-01-07T18:52:39.654Z"
   },
   {
    "duration": 9,
    "start_time": "2022-01-07T18:52:39.717Z"
   },
   {
    "duration": 19,
    "start_time": "2022-01-07T18:52:39.728Z"
   },
   {
    "duration": 8,
    "start_time": "2022-01-07T18:52:39.752Z"
   },
   {
    "duration": 7,
    "start_time": "2022-01-07T18:52:39.762Z"
   },
   {
    "duration": 3689,
    "start_time": "2022-01-07T18:52:39.771Z"
   },
   {
    "duration": 7,
    "start_time": "2022-01-07T18:52:43.462Z"
   },
   {
    "duration": 51,
    "start_time": "2022-01-07T18:52:43.471Z"
   },
   {
    "duration": 31,
    "start_time": "2022-01-07T18:52:43.524Z"
   },
   {
    "duration": 12,
    "start_time": "2022-01-07T18:52:43.557Z"
   },
   {
    "duration": 63,
    "start_time": "2022-01-07T18:52:43.571Z"
   },
   {
    "duration": 380,
    "start_time": "2022-01-07T18:52:43.636Z"
   },
   {
    "duration": 927,
    "start_time": "2022-01-07T18:52:43.091Z"
   },
   {
    "duration": 921,
    "start_time": "2022-01-07T18:52:43.099Z"
   },
   {
    "duration": 374,
    "start_time": "2022-01-07T18:53:04.870Z"
   },
   {
    "duration": 337,
    "start_time": "2022-01-07T18:54:00.135Z"
   },
   {
    "duration": 339,
    "start_time": "2022-01-07T18:54:08.312Z"
   },
   {
    "duration": 13215,
    "start_time": "2022-01-07T18:54:42.676Z"
   },
   {
    "duration": 98,
    "start_time": "2022-01-07T18:55:09.686Z"
   },
   {
    "duration": 53,
    "start_time": "2022-01-07T18:55:09.787Z"
   },
   {
    "duration": 35,
    "start_time": "2022-01-07T18:55:09.843Z"
   },
   {
    "duration": 37,
    "start_time": "2022-01-07T18:55:09.881Z"
   },
   {
    "duration": 8,
    "start_time": "2022-01-07T18:55:09.920Z"
   },
   {
    "duration": 31,
    "start_time": "2022-01-07T18:55:09.930Z"
   },
   {
    "duration": 10,
    "start_time": "2022-01-07T18:55:09.963Z"
   },
   {
    "duration": 52,
    "start_time": "2022-01-07T18:55:09.976Z"
   },
   {
    "duration": 7,
    "start_time": "2022-01-07T18:55:10.030Z"
   },
   {
    "duration": 9,
    "start_time": "2022-01-07T18:55:10.039Z"
   },
   {
    "duration": 3737,
    "start_time": "2022-01-07T18:55:10.050Z"
   },
   {
    "duration": 7,
    "start_time": "2022-01-07T18:55:13.789Z"
   },
   {
    "duration": 49,
    "start_time": "2022-01-07T18:55:13.798Z"
   },
   {
    "duration": 31,
    "start_time": "2022-01-07T18:55:13.850Z"
   },
   {
    "duration": 9,
    "start_time": "2022-01-07T18:55:13.883Z"
   },
   {
    "duration": 27,
    "start_time": "2022-01-07T18:55:13.917Z"
   },
   {
    "duration": 8427,
    "start_time": "2022-01-07T18:55:13.946Z"
   },
   {
    "duration": 893,
    "start_time": "2022-01-07T18:55:21.482Z"
   },
   {
    "duration": 879,
    "start_time": "2022-01-07T18:55:21.498Z"
   },
   {
    "duration": 254,
    "start_time": "2022-01-07T18:55:54.264Z"
   },
   {
    "duration": 324,
    "start_time": "2022-01-07T18:55:59.489Z"
   },
   {
    "duration": 8,
    "start_time": "2022-01-07T18:56:25.857Z"
   },
   {
    "duration": 117,
    "start_time": "2022-01-07T18:57:21.980Z"
   },
   {
    "duration": 43,
    "start_time": "2022-01-07T18:57:27.993Z"
   },
   {
    "duration": 331,
    "start_time": "2022-01-07T18:58:03.068Z"
   },
   {
    "duration": 605,
    "start_time": "2022-01-07T18:58:17.971Z"
   },
   {
    "duration": 46,
    "start_time": "2022-01-07T18:58:28.989Z"
   },
   {
    "duration": 29,
    "start_time": "2022-01-07T19:00:28.283Z"
   },
   {
    "duration": 383,
    "start_time": "2022-01-07T19:06:33.425Z"
   },
   {
    "duration": 28,
    "start_time": "2022-01-07T19:08:48.642Z"
   },
   {
    "duration": 131,
    "start_time": "2022-01-07T19:13:21.450Z"
   },
   {
    "duration": 169,
    "start_time": "2022-01-07T19:33:43.801Z"
   },
   {
    "duration": 187,
    "start_time": "2022-01-07T19:36:16.597Z"
   },
   {
    "duration": 168,
    "start_time": "2022-01-07T19:36:47.926Z"
   },
   {
    "duration": 177,
    "start_time": "2022-01-07T19:40:51.327Z"
   },
   {
    "duration": 188,
    "start_time": "2022-01-07T19:50:53.756Z"
   },
   {
    "duration": 335,
    "start_time": "2022-01-07T19:51:14.459Z"
   },
   {
    "duration": 345,
    "start_time": "2022-01-07T19:51:28.601Z"
   },
   {
    "duration": 5,
    "start_time": "2022-01-07T19:51:35.298Z"
   },
   {
    "duration": 182,
    "start_time": "2022-01-07T19:51:45.498Z"
   },
   {
    "duration": 6,
    "start_time": "2022-01-07T20:25:01.032Z"
   },
   {
    "duration": 14,
    "start_time": "2022-01-07T20:26:09.479Z"
   },
   {
    "duration": 171,
    "start_time": "2022-01-07T20:28:08.205Z"
   },
   {
    "duration": 338,
    "start_time": "2022-01-07T20:28:39.829Z"
   },
   {
    "duration": 394,
    "start_time": "2022-01-07T20:34:29.473Z"
   },
   {
    "duration": 335,
    "start_time": "2022-01-07T20:34:52.557Z"
   },
   {
    "duration": 385,
    "start_time": "2022-01-07T20:35:27.219Z"
   },
   {
    "duration": 382,
    "start_time": "2022-01-07T20:36:20.399Z"
   },
   {
    "duration": 371,
    "start_time": "2022-01-07T20:43:39.159Z"
   },
   {
    "duration": 566,
    "start_time": "2022-01-07T20:45:38.805Z"
   },
   {
    "duration": 326,
    "start_time": "2022-01-07T20:46:37.379Z"
   },
   {
    "duration": 99,
    "start_time": "2022-01-07T20:46:40.753Z"
   },
   {
    "duration": 33,
    "start_time": "2022-01-07T20:46:40.854Z"
   },
   {
    "duration": 56,
    "start_time": "2022-01-07T20:46:40.890Z"
   },
   {
    "duration": 14,
    "start_time": "2022-01-07T20:46:40.949Z"
   },
   {
    "duration": 9,
    "start_time": "2022-01-07T20:46:40.965Z"
   },
   {
    "duration": 63,
    "start_time": "2022-01-07T20:46:40.976Z"
   },
   {
    "duration": 12,
    "start_time": "2022-01-07T20:46:41.042Z"
   },
   {
    "duration": 18,
    "start_time": "2022-01-07T20:46:41.058Z"
   },
   {
    "duration": 40,
    "start_time": "2022-01-07T20:46:41.078Z"
   },
   {
    "duration": 7,
    "start_time": "2022-01-07T20:46:41.120Z"
   },
   {
    "duration": 3749,
    "start_time": "2022-01-07T20:46:41.129Z"
   },
   {
    "duration": 6,
    "start_time": "2022-01-07T20:46:44.881Z"
   },
   {
    "duration": 48,
    "start_time": "2022-01-07T20:46:44.889Z"
   },
   {
    "duration": 33,
    "start_time": "2022-01-07T20:46:44.939Z"
   },
   {
    "duration": 9,
    "start_time": "2022-01-07T20:46:44.974Z"
   },
   {
    "duration": 56,
    "start_time": "2022-01-07T20:46:44.986Z"
   },
   {
    "duration": 31,
    "start_time": "2022-01-07T20:46:45.045Z"
   },
   {
    "duration": 210,
    "start_time": "2022-01-07T20:46:45.078Z"
   },
   {
    "duration": 33,
    "start_time": "2022-01-07T20:46:45.290Z"
   },
   {
    "duration": 206,
    "start_time": "2022-01-07T20:46:45.325Z"
   },
   {
    "duration": 11,
    "start_time": "2022-01-07T20:47:13.386Z"
   },
   {
    "duration": 176,
    "start_time": "2022-01-07T20:47:17.690Z"
   },
   {
    "duration": 100,
    "start_time": "2022-01-07T20:47:42.886Z"
   },
   {
    "duration": 40,
    "start_time": "2022-01-07T20:47:42.989Z"
   },
   {
    "duration": 36,
    "start_time": "2022-01-07T20:47:43.032Z"
   },
   {
    "duration": 13,
    "start_time": "2022-01-07T20:47:43.070Z"
   },
   {
    "duration": 38,
    "start_time": "2022-01-07T20:47:43.085Z"
   },
   {
    "duration": 29,
    "start_time": "2022-01-07T20:47:43.126Z"
   },
   {
    "duration": 9,
    "start_time": "2022-01-07T20:47:43.158Z"
   },
   {
    "duration": 56,
    "start_time": "2022-01-07T20:47:43.170Z"
   },
   {
    "duration": 7,
    "start_time": "2022-01-07T20:47:43.230Z"
   },
   {
    "duration": 7,
    "start_time": "2022-01-07T20:47:43.239Z"
   },
   {
    "duration": 3839,
    "start_time": "2022-01-07T20:47:43.249Z"
   },
   {
    "duration": 8,
    "start_time": "2022-01-07T20:47:47.091Z"
   },
   {
    "duration": 32,
    "start_time": "2022-01-07T20:47:47.118Z"
   },
   {
    "duration": 34,
    "start_time": "2022-01-07T20:47:47.153Z"
   },
   {
    "duration": 12,
    "start_time": "2022-01-07T20:47:47.218Z"
   },
   {
    "duration": 30,
    "start_time": "2022-01-07T20:47:47.233Z"
   },
   {
    "duration": 72,
    "start_time": "2022-01-07T20:47:47.266Z"
   },
   {
    "duration": 199,
    "start_time": "2022-01-07T20:47:47.341Z"
   },
   {
    "duration": 11,
    "start_time": "2022-01-07T20:47:47.542Z"
   },
   {
    "duration": 199,
    "start_time": "2022-01-07T20:47:47.555Z"
   },
   {
    "duration": 8,
    "start_time": "2022-01-07T20:48:27.453Z"
   },
   {
    "duration": 175,
    "start_time": "2022-01-07T20:48:30.104Z"
   },
   {
    "duration": 106,
    "start_time": "2022-01-07T20:50:20.384Z"
   },
   {
    "duration": 45,
    "start_time": "2022-01-07T20:50:20.493Z"
   },
   {
    "duration": 36,
    "start_time": "2022-01-07T20:50:20.542Z"
   },
   {
    "duration": 42,
    "start_time": "2022-01-07T20:50:20.581Z"
   },
   {
    "duration": 8,
    "start_time": "2022-01-07T20:50:20.625Z"
   },
   {
    "duration": 33,
    "start_time": "2022-01-07T20:50:20.635Z"
   },
   {
    "duration": 9,
    "start_time": "2022-01-07T20:50:20.670Z"
   },
   {
    "duration": 19,
    "start_time": "2022-01-07T20:50:20.717Z"
   },
   {
    "duration": 6,
    "start_time": "2022-01-07T20:50:20.739Z"
   },
   {
    "duration": 7,
    "start_time": "2022-01-07T20:50:20.747Z"
   },
   {
    "duration": 3816,
    "start_time": "2022-01-07T20:50:20.757Z"
   },
   {
    "duration": 8,
    "start_time": "2022-01-07T20:50:24.576Z"
   },
   {
    "duration": 50,
    "start_time": "2022-01-07T20:50:24.587Z"
   },
   {
    "duration": 35,
    "start_time": "2022-01-07T20:50:24.640Z"
   },
   {
    "duration": 45,
    "start_time": "2022-01-07T20:50:24.678Z"
   },
   {
    "duration": 30,
    "start_time": "2022-01-07T20:50:24.726Z"
   },
   {
    "duration": 67,
    "start_time": "2022-01-07T20:50:24.758Z"
   },
   {
    "duration": 194,
    "start_time": "2022-01-07T20:50:24.827Z"
   },
   {
    "duration": 201,
    "start_time": "2022-01-07T20:50:25.024Z"
   },
   {
    "duration": 13,
    "start_time": "2022-01-07T20:52:30.454Z"
   },
   {
    "duration": 175,
    "start_time": "2022-01-07T20:52:34.906Z"
   },
   {
    "duration": 12,
    "start_time": "2022-01-07T20:53:54.208Z"
   },
   {
    "duration": 178,
    "start_time": "2022-01-07T20:53:57.043Z"
   },
   {
    "duration": 14,
    "start_time": "2022-01-07T20:54:03.610Z"
   },
   {
    "duration": 172,
    "start_time": "2022-01-07T20:54:09.091Z"
   },
   {
    "duration": 9,
    "start_time": "2022-01-07T20:54:31.766Z"
   },
   {
    "duration": 286,
    "start_time": "2022-01-07T20:54:35.743Z"
   },
   {
    "duration": 173,
    "start_time": "2022-01-07T20:54:49.155Z"
   },
   {
    "duration": 109,
    "start_time": "2022-01-07T20:55:00.320Z"
   },
   {
    "duration": 31,
    "start_time": "2022-01-07T20:55:00.431Z"
   },
   {
    "duration": 66,
    "start_time": "2022-01-07T20:55:00.465Z"
   },
   {
    "duration": 13,
    "start_time": "2022-01-07T20:55:00.533Z"
   },
   {
    "duration": 8,
    "start_time": "2022-01-07T20:55:00.548Z"
   },
   {
    "duration": 61,
    "start_time": "2022-01-07T20:55:00.558Z"
   },
   {
    "duration": 9,
    "start_time": "2022-01-07T20:55:00.621Z"
   },
   {
    "duration": 22,
    "start_time": "2022-01-07T20:55:00.633Z"
   },
   {
    "duration": 6,
    "start_time": "2022-01-07T20:55:00.658Z"
   },
   {
    "duration": 8,
    "start_time": "2022-01-07T20:55:00.666Z"
   },
   {
    "duration": 3599,
    "start_time": "2022-01-07T20:55:00.676Z"
   },
   {
    "duration": 6,
    "start_time": "2022-01-07T20:55:04.278Z"
   },
   {
    "duration": 50,
    "start_time": "2022-01-07T20:55:04.286Z"
   },
   {
    "duration": 31,
    "start_time": "2022-01-07T20:55:04.339Z"
   },
   {
    "duration": 9,
    "start_time": "2022-01-07T20:55:04.373Z"
   },
   {
    "duration": 55,
    "start_time": "2022-01-07T20:55:04.385Z"
   },
   {
    "duration": 28,
    "start_time": "2022-01-07T20:55:04.443Z"
   },
   {
    "duration": 206,
    "start_time": "2022-01-07T20:55:04.473Z"
   },
   {
    "duration": 8,
    "start_time": "2022-01-07T20:55:04.682Z"
   },
   {
    "duration": 209,
    "start_time": "2022-01-07T20:55:04.692Z"
   },
   {
    "duration": 105,
    "start_time": "2022-01-07T20:57:01.086Z"
   },
   {
    "duration": 35,
    "start_time": "2022-01-07T20:57:01.218Z"
   },
   {
    "duration": 60,
    "start_time": "2022-01-07T20:57:01.257Z"
   },
   {
    "duration": 30,
    "start_time": "2022-01-07T20:57:01.321Z"
   },
   {
    "duration": 29,
    "start_time": "2022-01-07T20:57:01.354Z"
   },
   {
    "duration": 79,
    "start_time": "2022-01-07T20:57:01.386Z"
   },
   {
    "duration": 19,
    "start_time": "2022-01-07T20:57:01.468Z"
   },
   {
    "duration": 25,
    "start_time": "2022-01-07T20:57:01.493Z"
   },
   {
    "duration": 18,
    "start_time": "2022-01-07T20:57:01.521Z"
   },
   {
    "duration": 23,
    "start_time": "2022-01-07T20:57:01.542Z"
   },
   {
    "duration": 3990,
    "start_time": "2022-01-07T20:57:01.567Z"
   },
   {
    "duration": 7,
    "start_time": "2022-01-07T20:57:05.559Z"
   },
   {
    "duration": 50,
    "start_time": "2022-01-07T20:57:05.569Z"
   },
   {
    "duration": 32,
    "start_time": "2022-01-07T20:57:05.621Z"
   },
   {
    "duration": 8,
    "start_time": "2022-01-07T20:57:05.656Z"
   },
   {
    "duration": 64,
    "start_time": "2022-01-07T20:57:05.666Z"
   },
   {
    "duration": 33,
    "start_time": "2022-01-07T20:57:05.732Z"
   },
   {
    "duration": 196,
    "start_time": "2022-01-07T20:57:05.767Z"
   },
   {
    "duration": 89,
    "start_time": "2022-01-07T20:57:05.965Z"
   },
   {
    "duration": 181,
    "start_time": "2022-01-07T20:57:06.056Z"
   },
   {
    "duration": 99,
    "start_time": "2022-01-07T20:57:31.476Z"
   },
   {
    "duration": 48,
    "start_time": "2022-01-07T20:57:31.578Z"
   },
   {
    "duration": 37,
    "start_time": "2022-01-07T20:57:31.629Z"
   },
   {
    "duration": 15,
    "start_time": "2022-01-07T20:57:31.669Z"
   },
   {
    "duration": 36,
    "start_time": "2022-01-07T20:57:31.686Z"
   },
   {
    "duration": 36,
    "start_time": "2022-01-07T20:57:31.724Z"
   },
   {
    "duration": 10,
    "start_time": "2022-01-07T20:57:31.763Z"
   },
   {
    "duration": 52,
    "start_time": "2022-01-07T20:57:31.778Z"
   },
   {
    "duration": 9,
    "start_time": "2022-01-07T20:57:31.833Z"
   },
   {
    "duration": 27,
    "start_time": "2022-01-07T20:57:31.844Z"
   },
   {
    "duration": 3629,
    "start_time": "2022-01-07T20:57:31.874Z"
   },
   {
    "duration": 17,
    "start_time": "2022-01-07T20:57:35.506Z"
   },
   {
    "duration": 35,
    "start_time": "2022-01-07T20:57:35.526Z"
   },
   {
    "duration": 59,
    "start_time": "2022-01-07T20:57:35.563Z"
   },
   {
    "duration": 10,
    "start_time": "2022-01-07T20:57:35.625Z"
   },
   {
    "duration": 31,
    "start_time": "2022-01-07T20:57:35.638Z"
   },
   {
    "duration": 73,
    "start_time": "2022-01-07T20:57:35.672Z"
   },
   {
    "duration": 201,
    "start_time": "2022-01-07T20:57:35.748Z"
   },
   {
    "duration": 331,
    "start_time": "2022-01-07T20:57:35.952Z"
   },
   {
    "duration": 1201,
    "start_time": "2022-01-07T20:57:35.085Z"
   },
   {
    "duration": 323,
    "start_time": "2022-01-07T20:58:06.695Z"
   },
   {
    "duration": 100,
    "start_time": "2022-01-07T20:58:12.690Z"
   },
   {
    "duration": 31,
    "start_time": "2022-01-07T20:58:12.817Z"
   },
   {
    "duration": 36,
    "start_time": "2022-01-07T20:58:12.851Z"
   },
   {
    "duration": 34,
    "start_time": "2022-01-07T20:58:12.891Z"
   },
   {
    "duration": 8,
    "start_time": "2022-01-07T20:58:12.927Z"
   },
   {
    "duration": 30,
    "start_time": "2022-01-07T20:58:12.937Z"
   },
   {
    "duration": 48,
    "start_time": "2022-01-07T20:58:12.970Z"
   },
   {
    "duration": 20,
    "start_time": "2022-01-07T20:58:13.024Z"
   },
   {
    "duration": 7,
    "start_time": "2022-01-07T20:58:13.046Z"
   },
   {
    "duration": 6,
    "start_time": "2022-01-07T20:58:13.056Z"
   },
   {
    "duration": 3646,
    "start_time": "2022-01-07T20:58:13.065Z"
   },
   {
    "duration": 7,
    "start_time": "2022-01-07T20:58:16.713Z"
   },
   {
    "duration": 38,
    "start_time": "2022-01-07T20:58:16.722Z"
   },
   {
    "duration": 56,
    "start_time": "2022-01-07T20:58:16.763Z"
   },
   {
    "duration": 13,
    "start_time": "2022-01-07T20:58:16.821Z"
   },
   {
    "duration": 29,
    "start_time": "2022-01-07T20:58:16.837Z"
   },
   {
    "duration": 74,
    "start_time": "2022-01-07T20:58:16.869Z"
   },
   {
    "duration": 198,
    "start_time": "2022-01-07T20:58:16.946Z"
   },
   {
    "duration": 7,
    "start_time": "2022-01-07T20:58:17.147Z"
   },
   {
    "duration": 199,
    "start_time": "2022-01-07T20:58:17.156Z"
   },
   {
    "duration": 30,
    "start_time": "2022-01-07T21:49:10.242Z"
   },
   {
    "duration": 14,
    "start_time": "2022-01-07T21:51:03.641Z"
   },
   {
    "duration": 25,
    "start_time": "2022-01-07T21:51:18.332Z"
   },
   {
    "duration": 14,
    "start_time": "2022-01-07T21:51:31.162Z"
   },
   {
    "duration": 118,
    "start_time": "2022-01-07T21:51:56.476Z"
   },
   {
    "duration": 11,
    "start_time": "2022-01-07T21:52:01.676Z"
   },
   {
    "duration": 9,
    "start_time": "2022-01-07T21:52:15.690Z"
   },
   {
    "duration": 6,
    "start_time": "2022-01-07T21:52:51.238Z"
   },
   {
    "duration": 347,
    "start_time": "2022-01-07T21:53:01.640Z"
   },
   {
    "duration": 9,
    "start_time": "2022-01-07T21:53:06.912Z"
   },
   {
    "duration": 403,
    "start_time": "2022-01-07T21:54:00.601Z"
   },
   {
    "duration": 11,
    "start_time": "2022-01-07T21:56:05.447Z"
   },
   {
    "duration": 103,
    "start_time": "2022-01-07T22:08:24.460Z"
   },
   {
    "duration": 50,
    "start_time": "2022-01-07T22:08:24.566Z"
   },
   {
    "duration": 149,
    "start_time": "2022-01-07T22:08:24.620Z"
   },
   {
    "duration": 530,
    "start_time": "2022-01-07T22:08:24.243Z"
   },
   {
    "duration": 527,
    "start_time": "2022-01-07T22:08:24.247Z"
   },
   {
    "duration": 523,
    "start_time": "2022-01-07T22:08:24.252Z"
   },
   {
    "duration": 520,
    "start_time": "2022-01-07T22:08:24.257Z"
   },
   {
    "duration": 517,
    "start_time": "2022-01-07T22:08:24.261Z"
   },
   {
    "duration": 514,
    "start_time": "2022-01-07T22:08:24.265Z"
   },
   {
    "duration": 512,
    "start_time": "2022-01-07T22:08:24.269Z"
   },
   {
    "duration": 510,
    "start_time": "2022-01-07T22:08:24.272Z"
   },
   {
    "duration": 508,
    "start_time": "2022-01-07T22:08:24.276Z"
   },
   {
    "duration": 499,
    "start_time": "2022-01-07T22:08:24.286Z"
   },
   {
    "duration": 497,
    "start_time": "2022-01-07T22:08:24.289Z"
   },
   {
    "duration": 496,
    "start_time": "2022-01-07T22:08:24.292Z"
   },
   {
    "duration": 493,
    "start_time": "2022-01-07T22:08:24.296Z"
   },
   {
    "duration": 491,
    "start_time": "2022-01-07T22:08:24.300Z"
   },
   {
    "duration": 488,
    "start_time": "2022-01-07T22:08:24.304Z"
   },
   {
    "duration": 486,
    "start_time": "2022-01-07T22:08:24.307Z"
   },
   {
    "duration": 484,
    "start_time": "2022-01-07T22:08:24.311Z"
   },
   {
    "duration": 481,
    "start_time": "2022-01-07T22:08:24.315Z"
   },
   {
    "duration": 100,
    "start_time": "2022-01-07T22:08:38.964Z"
   },
   {
    "duration": 52,
    "start_time": "2022-01-07T22:08:39.066Z"
   },
   {
    "duration": 112,
    "start_time": "2022-01-07T22:08:39.121Z"
   },
   {
    "duration": 523,
    "start_time": "2022-01-07T22:08:38.713Z"
   },
   {
    "duration": 519,
    "start_time": "2022-01-07T22:08:38.718Z"
   },
   {
    "duration": 517,
    "start_time": "2022-01-07T22:08:38.722Z"
   },
   {
    "duration": 514,
    "start_time": "2022-01-07T22:08:38.726Z"
   },
   {
    "duration": 511,
    "start_time": "2022-01-07T22:08:38.730Z"
   },
   {
    "duration": 508,
    "start_time": "2022-01-07T22:08:38.734Z"
   },
   {
    "duration": 506,
    "start_time": "2022-01-07T22:08:38.738Z"
   },
   {
    "duration": 503,
    "start_time": "2022-01-07T22:08:38.742Z"
   },
   {
    "duration": 499,
    "start_time": "2022-01-07T22:08:38.747Z"
   },
   {
    "duration": 491,
    "start_time": "2022-01-07T22:08:38.756Z"
   },
   {
    "duration": 489,
    "start_time": "2022-01-07T22:08:38.760Z"
   },
   {
    "duration": 487,
    "start_time": "2022-01-07T22:08:38.763Z"
   },
   {
    "duration": 484,
    "start_time": "2022-01-07T22:08:38.767Z"
   },
   {
    "duration": 482,
    "start_time": "2022-01-07T22:08:38.770Z"
   },
   {
    "duration": 474,
    "start_time": "2022-01-07T22:08:38.780Z"
   },
   {
    "duration": 471,
    "start_time": "2022-01-07T22:08:38.784Z"
   },
   {
    "duration": 467,
    "start_time": "2022-01-07T22:08:38.789Z"
   },
   {
    "duration": 466,
    "start_time": "2022-01-07T22:08:38.792Z"
   },
   {
    "duration": 121,
    "start_time": "2022-01-07T22:09:45.995Z"
   },
   {
    "duration": 33,
    "start_time": "2022-01-07T22:09:46.119Z"
   },
   {
    "duration": 30,
    "start_time": "2022-01-07T22:09:46.155Z"
   },
   {
    "duration": 44,
    "start_time": "2022-01-07T22:09:46.188Z"
   },
   {
    "duration": 10,
    "start_time": "2022-01-07T22:09:46.234Z"
   },
   {
    "duration": 37,
    "start_time": "2022-01-07T22:09:46.246Z"
   },
   {
    "duration": 10,
    "start_time": "2022-01-07T22:09:46.318Z"
   },
   {
    "duration": 21,
    "start_time": "2022-01-07T22:09:46.333Z"
   },
   {
    "duration": 9,
    "start_time": "2022-01-07T22:09:46.357Z"
   },
   {
    "duration": 7,
    "start_time": "2022-01-07T22:09:46.369Z"
   },
   {
    "duration": 3678,
    "start_time": "2022-01-07T22:09:46.421Z"
   },
   {
    "duration": 7,
    "start_time": "2022-01-07T22:09:50.101Z"
   },
   {
    "duration": 33,
    "start_time": "2022-01-07T22:09:50.118Z"
   },
   {
    "duration": 34,
    "start_time": "2022-01-07T22:09:50.154Z"
   },
   {
    "duration": 8,
    "start_time": "2022-01-07T22:09:50.218Z"
   },
   {
    "duration": 31,
    "start_time": "2022-01-07T22:09:50.229Z"
   },
   {
    "duration": 68,
    "start_time": "2022-01-07T22:09:50.262Z"
   },
   {
    "duration": 216,
    "start_time": "2022-01-07T22:09:50.332Z"
   },
   {
    "duration": 8,
    "start_time": "2022-01-07T22:09:50.551Z"
   },
   {
    "duration": 211,
    "start_time": "2022-01-07T22:09:50.561Z"
   },
   {
    "duration": 8,
    "start_time": "2022-01-07T22:09:50.774Z"
   },
   {
    "duration": 7,
    "start_time": "2022-01-07T22:11:15.836Z"
   },
   {
    "duration": 101,
    "start_time": "2022-01-07T22:11:25.450Z"
   },
   {
    "duration": 41,
    "start_time": "2022-01-07T22:11:25.553Z"
   },
   {
    "duration": 48,
    "start_time": "2022-01-07T22:11:25.597Z"
   },
   {
    "duration": 14,
    "start_time": "2022-01-07T22:11:25.648Z"
   },
   {
    "duration": 8,
    "start_time": "2022-01-07T22:11:25.664Z"
   },
   {
    "duration": 68,
    "start_time": "2022-01-07T22:11:25.674Z"
   },
   {
    "duration": 9,
    "start_time": "2022-01-07T22:11:25.744Z"
   },
   {
    "duration": 20,
    "start_time": "2022-01-07T22:11:25.757Z"
   },
   {
    "duration": 40,
    "start_time": "2022-01-07T22:11:25.779Z"
   },
   {
    "duration": 8,
    "start_time": "2022-01-07T22:11:25.822Z"
   },
   {
    "duration": 3707,
    "start_time": "2022-01-07T22:11:25.832Z"
   },
   {
    "duration": 6,
    "start_time": "2022-01-07T22:11:29.542Z"
   },
   {
    "duration": 43,
    "start_time": "2022-01-07T22:11:29.550Z"
   },
   {
    "duration": 50,
    "start_time": "2022-01-07T22:11:29.595Z"
   },
   {
    "duration": 9,
    "start_time": "2022-01-07T22:11:29.648Z"
   },
   {
    "duration": 30,
    "start_time": "2022-01-07T22:11:29.659Z"
   },
   {
    "duration": 60,
    "start_time": "2022-01-07T22:11:29.691Z"
   },
   {
    "duration": 349,
    "start_time": "2022-01-07T22:11:29.754Z"
   },
   {
    "duration": 17,
    "start_time": "2022-01-07T22:11:30.106Z"
   },
   {
    "duration": 316,
    "start_time": "2022-01-07T22:11:30.126Z"
   },
   {
    "duration": 10,
    "start_time": "2022-01-07T22:11:30.444Z"
   },
   {
    "duration": 9,
    "start_time": "2022-01-07T22:11:39.137Z"
   },
   {
    "duration": 112,
    "start_time": "2022-01-07T22:11:43.712Z"
   },
   {
    "duration": 32,
    "start_time": "2022-01-07T22:11:43.827Z"
   },
   {
    "duration": 62,
    "start_time": "2022-01-07T22:11:43.862Z"
   },
   {
    "duration": 26,
    "start_time": "2022-01-07T22:11:43.927Z"
   },
   {
    "duration": 11,
    "start_time": "2022-01-07T22:11:43.956Z"
   },
   {
    "duration": 53,
    "start_time": "2022-01-07T22:11:43.970Z"
   },
   {
    "duration": 12,
    "start_time": "2022-01-07T22:11:44.026Z"
   },
   {
    "duration": 22,
    "start_time": "2022-01-07T22:11:44.041Z"
   },
   {
    "duration": 49,
    "start_time": "2022-01-07T22:11:44.069Z"
   },
   {
    "duration": 10,
    "start_time": "2022-01-07T22:11:44.121Z"
   },
   {
    "duration": 3750,
    "start_time": "2022-01-07T22:11:44.134Z"
   },
   {
    "duration": 8,
    "start_time": "2022-01-07T22:11:47.887Z"
   },
   {
    "duration": 50,
    "start_time": "2022-01-07T22:11:47.898Z"
   },
   {
    "duration": 46,
    "start_time": "2022-01-07T22:11:47.951Z"
   },
   {
    "duration": 30,
    "start_time": "2022-01-07T22:11:47.999Z"
   },
   {
    "duration": 30,
    "start_time": "2022-01-07T22:11:48.032Z"
   },
   {
    "duration": 55,
    "start_time": "2022-01-07T22:11:48.064Z"
   },
   {
    "duration": 215,
    "start_time": "2022-01-07T22:11:48.121Z"
   },
   {
    "duration": 8,
    "start_time": "2022-01-07T22:11:48.338Z"
   },
   {
    "duration": 210,
    "start_time": "2022-01-07T22:11:48.349Z"
   },
   {
    "duration": 9,
    "start_time": "2022-01-07T22:11:48.561Z"
   },
   {
    "duration": 13,
    "start_time": "2022-01-07T22:12:12.323Z"
   },
   {
    "duration": 8,
    "start_time": "2022-01-07T22:12:22.557Z"
   },
   {
    "duration": 9,
    "start_time": "2022-01-07T22:12:43.328Z"
   },
   {
    "duration": 8,
    "start_time": "2022-01-07T22:13:14.384Z"
   },
   {
    "duration": 10,
    "start_time": "2022-01-07T22:16:21.692Z"
   },
   {
    "duration": 11,
    "start_time": "2022-01-07T22:16:37.729Z"
   },
   {
    "duration": 11,
    "start_time": "2022-01-07T22:16:44.182Z"
   },
   {
    "duration": 98,
    "start_time": "2022-01-07T22:16:46.470Z"
   },
   {
    "duration": 33,
    "start_time": "2022-01-07T22:16:46.571Z"
   },
   {
    "duration": 39,
    "start_time": "2022-01-07T22:16:46.607Z"
   },
   {
    "duration": 13,
    "start_time": "2022-01-07T22:16:46.649Z"
   },
   {
    "duration": 9,
    "start_time": "2022-01-07T22:16:46.665Z"
   },
   {
    "duration": 72,
    "start_time": "2022-01-07T22:16:46.676Z"
   },
   {
    "duration": 10,
    "start_time": "2022-01-07T22:16:46.750Z"
   },
   {
    "duration": 22,
    "start_time": "2022-01-07T22:16:46.764Z"
   },
   {
    "duration": 8,
    "start_time": "2022-01-07T22:16:46.818Z"
   },
   {
    "duration": 8,
    "start_time": "2022-01-07T22:16:46.828Z"
   },
   {
    "duration": 3545,
    "start_time": "2022-01-07T22:16:46.839Z"
   },
   {
    "duration": 8,
    "start_time": "2022-01-07T22:16:50.387Z"
   },
   {
    "duration": 51,
    "start_time": "2022-01-07T22:16:50.397Z"
   },
   {
    "duration": 36,
    "start_time": "2022-01-07T22:16:50.451Z"
   },
   {
    "duration": 34,
    "start_time": "2022-01-07T22:16:50.489Z"
   },
   {
    "duration": 29,
    "start_time": "2022-01-07T22:16:50.525Z"
   },
   {
    "duration": 30,
    "start_time": "2022-01-07T22:16:50.557Z"
   },
   {
    "duration": 232,
    "start_time": "2022-01-07T22:16:50.590Z"
   },
   {
    "duration": 8,
    "start_time": "2022-01-07T22:16:50.824Z"
   },
   {
    "duration": 210,
    "start_time": "2022-01-07T22:16:50.834Z"
   },
   {
    "duration": 9,
    "start_time": "2022-01-07T22:16:51.046Z"
   },
   {
    "duration": 15,
    "start_time": "2022-01-07T22:17:59.648Z"
   },
   {
    "duration": 137,
    "start_time": "2022-01-07T22:18:04.103Z"
   },
   {
    "duration": 44,
    "start_time": "2022-01-07T22:18:04.243Z"
   },
   {
    "duration": 52,
    "start_time": "2022-01-07T22:18:04.291Z"
   },
   {
    "duration": 20,
    "start_time": "2022-01-07T22:18:04.346Z"
   },
   {
    "duration": 12,
    "start_time": "2022-01-07T22:18:04.368Z"
   },
   {
    "duration": 73,
    "start_time": "2022-01-07T22:18:04.382Z"
   },
   {
    "duration": 11,
    "start_time": "2022-01-07T22:18:04.458Z"
   },
   {
    "duration": 48,
    "start_time": "2022-01-07T22:18:04.473Z"
   },
   {
    "duration": 8,
    "start_time": "2022-01-07T22:18:04.524Z"
   },
   {
    "duration": 8,
    "start_time": "2022-01-07T22:18:04.535Z"
   },
   {
    "duration": 3841,
    "start_time": "2022-01-07T22:18:04.546Z"
   },
   {
    "duration": 7,
    "start_time": "2022-01-07T22:18:08.390Z"
   },
   {
    "duration": 49,
    "start_time": "2022-01-07T22:18:08.399Z"
   },
   {
    "duration": 34,
    "start_time": "2022-01-07T22:18:08.451Z"
   },
   {
    "duration": 35,
    "start_time": "2022-01-07T22:18:08.487Z"
   },
   {
    "duration": 29,
    "start_time": "2022-01-07T22:18:08.524Z"
   },
   {
    "duration": 30,
    "start_time": "2022-01-07T22:18:08.555Z"
   },
   {
    "duration": 201,
    "start_time": "2022-01-07T22:18:08.618Z"
   },
   {
    "duration": 7,
    "start_time": "2022-01-07T22:18:08.822Z"
   },
   {
    "duration": 263,
    "start_time": "2022-01-07T22:18:08.831Z"
   },
   {
    "duration": 8,
    "start_time": "2022-01-07T22:18:09.097Z"
   },
   {
    "duration": 98,
    "start_time": "2022-01-07T22:24:31.871Z"
   },
   {
    "duration": 58,
    "start_time": "2022-01-07T22:24:31.971Z"
   },
   {
    "duration": 37,
    "start_time": "2022-01-07T22:24:32.032Z"
   },
   {
    "duration": 13,
    "start_time": "2022-01-07T22:24:32.072Z"
   },
   {
    "duration": 7,
    "start_time": "2022-01-07T22:24:32.118Z"
   },
   {
    "duration": 8778,
    "start_time": "2022-01-07T22:24:32.127Z"
   },
   {
    "duration": 514,
    "start_time": "2022-01-07T22:24:40.394Z"
   },
   {
    "duration": 511,
    "start_time": "2022-01-07T22:24:40.398Z"
   },
   {
    "duration": 510,
    "start_time": "2022-01-07T22:24:40.401Z"
   },
   {
    "duration": 508,
    "start_time": "2022-01-07T22:24:40.404Z"
   },
   {
    "duration": 506,
    "start_time": "2022-01-07T22:24:40.408Z"
   },
   {
    "duration": 503,
    "start_time": "2022-01-07T22:24:40.412Z"
   },
   {
    "duration": 496,
    "start_time": "2022-01-07T22:24:40.421Z"
   },
   {
    "duration": 493,
    "start_time": "2022-01-07T22:24:40.425Z"
   },
   {
    "duration": 490,
    "start_time": "2022-01-07T22:24:40.429Z"
   },
   {
    "duration": 490,
    "start_time": "2022-01-07T22:24:40.431Z"
   },
   {
    "duration": 487,
    "start_time": "2022-01-07T22:24:40.435Z"
   },
   {
    "duration": 485,
    "start_time": "2022-01-07T22:24:40.438Z"
   },
   {
    "duration": 484,
    "start_time": "2022-01-07T22:24:40.441Z"
   },
   {
    "duration": 482,
    "start_time": "2022-01-07T22:24:40.444Z"
   },
   {
    "duration": 479,
    "start_time": "2022-01-07T22:24:40.448Z"
   },
   {
    "duration": 32,
    "start_time": "2022-01-07T22:25:38.840Z"
   },
   {
    "duration": 108,
    "start_time": "2022-01-07T22:25:42.019Z"
   },
   {
    "duration": 32,
    "start_time": "2022-01-07T22:25:42.130Z"
   },
   {
    "duration": 64,
    "start_time": "2022-01-07T22:25:42.165Z"
   },
   {
    "duration": 12,
    "start_time": "2022-01-07T22:25:42.232Z"
   },
   {
    "duration": 7,
    "start_time": "2022-01-07T22:25:42.246Z"
   },
   {
    "duration": 61,
    "start_time": "2022-01-07T22:25:42.256Z"
   },
   {
    "duration": 10,
    "start_time": "2022-01-07T22:25:42.319Z"
   },
   {
    "duration": 19,
    "start_time": "2022-01-07T22:25:42.333Z"
   },
   {
    "duration": 7,
    "start_time": "2022-01-07T22:25:42.355Z"
   },
   {
    "duration": 14,
    "start_time": "2022-01-07T22:25:42.364Z"
   },
   {
    "duration": 3750,
    "start_time": "2022-01-07T22:25:42.381Z"
   },
   {
    "duration": 7,
    "start_time": "2022-01-07T22:25:46.133Z"
   },
   {
    "duration": 33,
    "start_time": "2022-01-07T22:25:46.142Z"
   },
   {
    "duration": 61,
    "start_time": "2022-01-07T22:25:46.178Z"
   },
   {
    "duration": 12,
    "start_time": "2022-01-07T22:25:46.242Z"
   },
   {
    "duration": 27,
    "start_time": "2022-01-07T22:25:46.257Z"
   },
   {
    "duration": 60,
    "start_time": "2022-01-07T22:25:46.287Z"
   },
   {
    "duration": 202,
    "start_time": "2022-01-07T22:25:46.350Z"
   },
   {
    "duration": 8,
    "start_time": "2022-01-07T22:25:46.554Z"
   },
   {
    "duration": 195,
    "start_time": "2022-01-07T22:25:46.564Z"
   },
   {
    "duration": 9,
    "start_time": "2022-01-07T22:25:46.762Z"
   },
   {
    "duration": 98,
    "start_time": "2022-01-07T22:33:12.148Z"
   },
   {
    "duration": 30,
    "start_time": "2022-01-07T22:33:12.249Z"
   },
   {
    "duration": 59,
    "start_time": "2022-01-07T22:33:12.282Z"
   },
   {
    "duration": 12,
    "start_time": "2022-01-07T22:33:12.344Z"
   },
   {
    "duration": 6,
    "start_time": "2022-01-07T22:33:12.359Z"
   },
   {
    "duration": 57,
    "start_time": "2022-01-07T22:33:12.368Z"
   },
   {
    "duration": 9,
    "start_time": "2022-01-07T22:33:12.428Z"
   },
   {
    "duration": 18,
    "start_time": "2022-01-07T22:33:12.440Z"
   },
   {
    "duration": 7,
    "start_time": "2022-01-07T22:33:12.461Z"
   },
   {
    "duration": 50,
    "start_time": "2022-01-07T22:33:12.471Z"
   },
   {
    "duration": 3627,
    "start_time": "2022-01-07T22:33:12.524Z"
   },
   {
    "duration": 8,
    "start_time": "2022-01-07T22:33:16.154Z"
   },
   {
    "duration": 53,
    "start_time": "2022-01-07T22:33:16.164Z"
   },
   {
    "duration": 33,
    "start_time": "2022-01-07T22:33:16.220Z"
   },
   {
    "duration": 11,
    "start_time": "2022-01-07T22:33:16.256Z"
   },
   {
    "duration": 61,
    "start_time": "2022-01-07T22:33:16.270Z"
   },
   {
    "duration": 30,
    "start_time": "2022-01-07T22:33:16.334Z"
   },
   {
    "duration": 202,
    "start_time": "2022-01-07T22:33:16.367Z"
   },
   {
    "duration": 8,
    "start_time": "2022-01-07T22:33:16.572Z"
   },
   {
    "duration": 195,
    "start_time": "2022-01-07T22:33:16.583Z"
   },
   {
    "duration": 9,
    "start_time": "2022-01-07T22:33:16.781Z"
   },
   {
    "duration": 31,
    "start_time": "2022-01-07T22:46:05.287Z"
   },
   {
    "duration": 612,
    "start_time": "2022-01-07T22:46:56.651Z"
   },
   {
    "duration": 608,
    "start_time": "2022-01-07T22:46:56.656Z"
   },
   {
    "duration": 605,
    "start_time": "2022-01-07T22:46:56.660Z"
   },
   {
    "duration": 596,
    "start_time": "2022-01-07T22:46:56.671Z"
   },
   {
    "duration": 593,
    "start_time": "2022-01-07T22:46:56.675Z"
   },
   {
    "duration": 588,
    "start_time": "2022-01-07T22:46:56.681Z"
   },
   {
    "duration": 576,
    "start_time": "2022-01-07T22:46:56.694Z"
   },
   {
    "duration": 567,
    "start_time": "2022-01-07T22:46:56.704Z"
   },
   {
    "duration": 564,
    "start_time": "2022-01-07T22:46:56.709Z"
   },
   {
    "duration": 555,
    "start_time": "2022-01-07T22:46:56.719Z"
   },
   {
    "duration": 552,
    "start_time": "2022-01-07T22:46:56.723Z"
   },
   {
    "duration": 548,
    "start_time": "2022-01-07T22:46:56.728Z"
   },
   {
    "duration": 541,
    "start_time": "2022-01-07T22:46:56.737Z"
   },
   {
    "duration": 537,
    "start_time": "2022-01-07T22:46:56.742Z"
   },
   {
    "duration": 526,
    "start_time": "2022-01-07T22:46:56.754Z"
   },
   {
    "duration": 523,
    "start_time": "2022-01-07T22:46:56.758Z"
   },
   {
    "duration": 515,
    "start_time": "2022-01-07T22:46:56.768Z"
   },
   {
    "duration": 512,
    "start_time": "2022-01-07T22:46:56.772Z"
   },
   {
    "duration": 506,
    "start_time": "2022-01-07T22:46:56.779Z"
   },
   {
    "duration": 497,
    "start_time": "2022-01-07T22:46:56.789Z"
   },
   {
    "duration": 108,
    "start_time": "2022-01-07T22:47:16.614Z"
   },
   {
    "duration": 30,
    "start_time": "2022-01-07T22:47:16.724Z"
   },
   {
    "duration": 25,
    "start_time": "2022-01-07T22:47:16.757Z"
   },
   {
    "duration": 10,
    "start_time": "2022-01-07T22:47:16.785Z"
   },
   {
    "duration": 54,
    "start_time": "2022-01-07T22:47:16.797Z"
   },
   {
    "duration": 11,
    "start_time": "2022-01-07T22:47:16.854Z"
   },
   {
    "duration": 65,
    "start_time": "2022-01-07T22:47:16.868Z"
   },
   {
    "duration": 10,
    "start_time": "2022-01-07T22:47:16.939Z"
   },
   {
    "duration": 7,
    "start_time": "2022-01-07T22:47:16.953Z"
   },
   {
    "duration": 3577,
    "start_time": "2022-01-07T22:47:16.963Z"
   },
   {
    "duration": 8,
    "start_time": "2022-01-07T22:47:20.543Z"
   },
   {
    "duration": 36,
    "start_time": "2022-01-07T22:47:20.554Z"
   },
   {
    "duration": 58,
    "start_time": "2022-01-07T22:47:20.592Z"
   },
   {
    "duration": 11,
    "start_time": "2022-01-07T22:47:20.652Z"
   },
   {
    "duration": 59,
    "start_time": "2022-01-07T22:47:20.665Z"
   },
   {
    "duration": 31,
    "start_time": "2022-01-07T22:47:20.726Z"
   },
   {
    "duration": 216,
    "start_time": "2022-01-07T22:47:20.759Z"
   },
   {
    "duration": 12,
    "start_time": "2022-01-07T22:47:20.977Z"
   },
   {
    "duration": 199,
    "start_time": "2022-01-07T22:47:20.992Z"
   },
   {
    "duration": 25,
    "start_time": "2022-01-07T22:47:21.194Z"
   },
   {
    "duration": 9164,
    "start_time": "2022-01-07T22:49:59.023Z"
   },
   {
    "duration": 106,
    "start_time": "2022-01-07T22:50:13.822Z"
   },
   {
    "duration": 30,
    "start_time": "2022-01-07T22:50:13.930Z"
   },
   {
    "duration": 16,
    "start_time": "2022-01-07T22:50:13.964Z"
   },
   {
    "duration": 35,
    "start_time": "2022-01-07T22:50:13.982Z"
   },
   {
    "duration": 35,
    "start_time": "2022-01-07T22:50:14.020Z"
   },
   {
    "duration": 8,
    "start_time": "2022-01-07T22:50:14.058Z"
   },
   {
    "duration": 56,
    "start_time": "2022-01-07T22:50:14.069Z"
   },
   {
    "duration": 8,
    "start_time": "2022-01-07T22:50:14.128Z"
   },
   {
    "duration": 8,
    "start_time": "2022-01-07T22:50:14.138Z"
   },
   {
    "duration": 3495,
    "start_time": "2022-01-07T22:50:14.149Z"
   },
   {
    "duration": 7,
    "start_time": "2022-01-07T22:50:17.646Z"
   },
   {
    "duration": 36,
    "start_time": "2022-01-07T22:50:17.655Z"
   },
   {
    "duration": 64,
    "start_time": "2022-01-07T22:50:17.693Z"
   },
   {
    "duration": 9,
    "start_time": "2022-01-07T22:50:17.760Z"
   },
   {
    "duration": 57,
    "start_time": "2022-01-07T22:50:17.772Z"
   },
   {
    "duration": 30,
    "start_time": "2022-01-07T22:50:17.831Z"
   },
   {
    "duration": 213,
    "start_time": "2022-01-07T22:50:17.863Z"
   },
   {
    "duration": 11,
    "start_time": "2022-01-07T22:50:18.078Z"
   },
   {
    "duration": 178,
    "start_time": "2022-01-07T22:50:18.091Z"
   },
   {
    "duration": 10,
    "start_time": "2022-01-07T22:50:18.271Z"
   },
   {
    "duration": 597,
    "start_time": "2022-01-07T22:51:38.448Z"
   },
   {
    "duration": 595,
    "start_time": "2022-01-07T22:51:38.452Z"
   },
   {
    "duration": 585,
    "start_time": "2022-01-07T22:51:38.463Z"
   },
   {
    "duration": 581,
    "start_time": "2022-01-07T22:51:38.469Z"
   },
   {
    "duration": 569,
    "start_time": "2022-01-07T22:51:38.482Z"
   },
   {
    "duration": 557,
    "start_time": "2022-01-07T22:51:38.495Z"
   },
   {
    "duration": 550,
    "start_time": "2022-01-07T22:51:38.504Z"
   },
   {
    "duration": 542,
    "start_time": "2022-01-07T22:51:38.513Z"
   },
   {
    "duration": 538,
    "start_time": "2022-01-07T22:51:38.518Z"
   },
   {
    "duration": 529,
    "start_time": "2022-01-07T22:51:38.529Z"
   },
   {
    "duration": 525,
    "start_time": "2022-01-07T22:51:38.534Z"
   },
   {
    "duration": 515,
    "start_time": "2022-01-07T22:51:38.546Z"
   },
   {
    "duration": 509,
    "start_time": "2022-01-07T22:51:38.553Z"
   },
   {
    "duration": 500,
    "start_time": "2022-01-07T22:51:38.563Z"
   },
   {
    "duration": 493,
    "start_time": "2022-01-07T22:51:38.571Z"
   },
   {
    "duration": 481,
    "start_time": "2022-01-07T22:51:38.585Z"
   },
   {
    "duration": 470,
    "start_time": "2022-01-07T22:51:38.598Z"
   },
   {
    "duration": 465,
    "start_time": "2022-01-07T22:51:38.604Z"
   },
   {
    "duration": 454,
    "start_time": "2022-01-07T22:51:38.617Z"
   },
   {
    "duration": 443,
    "start_time": "2022-01-07T22:51:38.629Z"
   },
   {
    "duration": 97,
    "start_time": "2022-01-07T22:51:48.341Z"
   },
   {
    "duration": 28,
    "start_time": "2022-01-07T22:51:48.441Z"
   },
   {
    "duration": 13,
    "start_time": "2022-01-07T22:51:48.472Z"
   },
   {
    "duration": 30,
    "start_time": "2022-01-07T22:51:48.488Z"
   },
   {
    "duration": 10,
    "start_time": "2022-01-07T22:51:48.521Z"
   },
   {
    "duration": 9,
    "start_time": "2022-01-07T22:51:48.533Z"
   },
   {
    "duration": 19,
    "start_time": "2022-01-07T22:51:48.545Z"
   },
   {
    "duration": 7,
    "start_time": "2022-01-07T22:51:48.567Z"
   },
   {
    "duration": 7,
    "start_time": "2022-01-07T22:51:48.617Z"
   },
   {
    "duration": 3549,
    "start_time": "2022-01-07T22:51:48.626Z"
   },
   {
    "duration": 7,
    "start_time": "2022-01-07T22:51:52.177Z"
   },
   {
    "duration": 54,
    "start_time": "2022-01-07T22:51:52.187Z"
   },
   {
    "duration": 36,
    "start_time": "2022-01-07T22:51:52.243Z"
   },
   {
    "duration": 8,
    "start_time": "2022-01-07T22:51:52.281Z"
   },
   {
    "duration": 30,
    "start_time": "2022-01-07T22:51:52.317Z"
   },
   {
    "duration": 31,
    "start_time": "2022-01-07T22:51:52.349Z"
   },
   {
    "duration": 244,
    "start_time": "2022-01-07T22:51:52.383Z"
   },
   {
    "duration": 10,
    "start_time": "2022-01-07T22:51:52.629Z"
   },
   {
    "duration": 186,
    "start_time": "2022-01-07T22:51:52.641Z"
   },
   {
    "duration": 9,
    "start_time": "2022-01-07T22:51:52.829Z"
   },
   {
    "duration": 112,
    "start_time": "2022-01-07T22:52:29.016Z"
   },
   {
    "duration": 31,
    "start_time": "2022-01-07T22:52:29.130Z"
   },
   {
    "duration": 13,
    "start_time": "2022-01-07T22:52:29.164Z"
   },
   {
    "duration": 40,
    "start_time": "2022-01-07T22:52:29.180Z"
   },
   {
    "duration": 9,
    "start_time": "2022-01-07T22:52:29.223Z"
   },
   {
    "duration": 13,
    "start_time": "2022-01-07T22:52:29.234Z"
   },
   {
    "duration": 19,
    "start_time": "2022-01-07T22:52:29.249Z"
   },
   {
    "duration": 7,
    "start_time": "2022-01-07T22:52:29.272Z"
   },
   {
    "duration": 6,
    "start_time": "2022-01-07T22:52:29.318Z"
   },
   {
    "duration": 3534,
    "start_time": "2022-01-07T22:52:29.327Z"
   },
   {
    "duration": 7,
    "start_time": "2022-01-07T22:52:32.864Z"
   },
   {
    "duration": 50,
    "start_time": "2022-01-07T22:52:32.873Z"
   },
   {
    "duration": 35,
    "start_time": "2022-01-07T22:52:32.925Z"
   },
   {
    "duration": 8,
    "start_time": "2022-01-07T22:52:32.962Z"
   },
   {
    "duration": 66,
    "start_time": "2022-01-07T22:52:32.973Z"
   },
   {
    "duration": 31,
    "start_time": "2022-01-07T22:52:33.041Z"
   },
   {
    "duration": 209,
    "start_time": "2022-01-07T22:52:33.074Z"
   },
   {
    "duration": 10,
    "start_time": "2022-01-07T22:52:33.285Z"
   },
   {
    "duration": 188,
    "start_time": "2022-01-07T22:52:33.298Z"
   },
   {
    "duration": 10,
    "start_time": "2022-01-07T22:52:33.489Z"
   },
   {
    "duration": 21,
    "start_time": "2022-01-07T22:55:19.382Z"
   },
   {
    "duration": 97,
    "start_time": "2022-01-07T22:55:23.371Z"
   },
   {
    "duration": 29,
    "start_time": "2022-01-07T22:55:23.471Z"
   },
   {
    "duration": 25,
    "start_time": "2022-01-07T22:55:23.503Z"
   },
   {
    "duration": 8,
    "start_time": "2022-01-07T22:55:23.531Z"
   },
   {
    "duration": 8,
    "start_time": "2022-01-07T22:55:23.542Z"
   },
   {
    "duration": 9,
    "start_time": "2022-01-07T22:55:23.552Z"
   },
   {
    "duration": 63,
    "start_time": "2022-01-07T22:55:23.564Z"
   },
   {
    "duration": 7,
    "start_time": "2022-01-07T22:55:23.631Z"
   },
   {
    "duration": 7,
    "start_time": "2022-01-07T22:55:23.641Z"
   },
   {
    "duration": 3617,
    "start_time": "2022-01-07T22:55:23.651Z"
   },
   {
    "duration": 6,
    "start_time": "2022-01-07T22:55:27.270Z"
   },
   {
    "duration": 48,
    "start_time": "2022-01-07T22:55:27.278Z"
   },
   {
    "duration": 40,
    "start_time": "2022-01-07T22:55:27.328Z"
   },
   {
    "duration": 9,
    "start_time": "2022-01-07T22:55:27.370Z"
   },
   {
    "duration": 57,
    "start_time": "2022-01-07T22:55:27.381Z"
   },
   {
    "duration": 29,
    "start_time": "2022-01-07T22:55:27.441Z"
   },
   {
    "duration": 222,
    "start_time": "2022-01-07T22:55:27.473Z"
   },
   {
    "duration": 22,
    "start_time": "2022-01-07T22:55:27.698Z"
   },
   {
    "duration": 170,
    "start_time": "2022-01-07T22:55:27.723Z"
   },
   {
    "duration": 9,
    "start_time": "2022-01-07T22:55:27.895Z"
   },
   {
    "duration": 341,
    "start_time": "2022-01-07T22:56:29.297Z"
   },
   {
    "duration": 98,
    "start_time": "2022-01-07T22:56:33.003Z"
   },
   {
    "duration": 39,
    "start_time": "2022-01-07T22:56:33.103Z"
   },
   {
    "duration": 15,
    "start_time": "2022-01-07T22:56:33.145Z"
   },
   {
    "duration": 9,
    "start_time": "2022-01-07T22:56:33.163Z"
   },
   {
    "duration": 44,
    "start_time": "2022-01-07T22:56:33.174Z"
   },
   {
    "duration": 9,
    "start_time": "2022-01-07T22:56:33.221Z"
   },
   {
    "duration": 349,
    "start_time": "2022-01-07T22:56:33.232Z"
   },
   {
    "duration": 624,
    "start_time": "2022-01-07T22:56:32.960Z"
   },
   {
    "duration": 622,
    "start_time": "2022-01-07T22:56:32.964Z"
   },
   {
    "duration": 619,
    "start_time": "2022-01-07T22:56:32.968Z"
   },
   {
    "duration": 617,
    "start_time": "2022-01-07T22:56:32.971Z"
   },
   {
    "duration": 615,
    "start_time": "2022-01-07T22:56:32.974Z"
   },
   {
    "duration": 613,
    "start_time": "2022-01-07T22:56:32.978Z"
   },
   {
    "duration": 612,
    "start_time": "2022-01-07T22:56:32.981Z"
   },
   {
    "duration": 611,
    "start_time": "2022-01-07T22:56:32.984Z"
   },
   {
    "duration": 609,
    "start_time": "2022-01-07T22:56:32.987Z"
   },
   {
    "duration": 607,
    "start_time": "2022-01-07T22:56:32.990Z"
   },
   {
    "duration": 606,
    "start_time": "2022-01-07T22:56:32.993Z"
   },
   {
    "duration": 605,
    "start_time": "2022-01-07T22:56:32.996Z"
   },
   {
    "duration": 603,
    "start_time": "2022-01-07T22:56:33.000Z"
   },
   {
    "duration": 116,
    "start_time": "2022-01-07T22:57:52.709Z"
   },
   {
    "duration": 31,
    "start_time": "2022-01-07T22:57:52.827Z"
   },
   {
    "duration": 16,
    "start_time": "2022-01-07T22:57:52.861Z"
   },
   {
    "duration": 41,
    "start_time": "2022-01-07T22:57:52.881Z"
   },
   {
    "duration": 11,
    "start_time": "2022-01-07T22:57:52.925Z"
   },
   {
    "duration": 14,
    "start_time": "2022-01-07T22:57:52.939Z"
   },
   {
    "duration": 369,
    "start_time": "2022-01-07T22:57:52.956Z"
   },
   {
    "duration": 625,
    "start_time": "2022-01-07T22:57:52.703Z"
   },
   {
    "duration": 615,
    "start_time": "2022-01-07T22:57:52.714Z"
   },
   {
    "duration": 613,
    "start_time": "2022-01-07T22:57:52.718Z"
   },
   {
    "duration": 610,
    "start_time": "2022-01-07T22:57:52.722Z"
   },
   {
    "duration": 607,
    "start_time": "2022-01-07T22:57:52.726Z"
   },
   {
    "duration": 606,
    "start_time": "2022-01-07T22:57:52.729Z"
   },
   {
    "duration": 604,
    "start_time": "2022-01-07T22:57:52.732Z"
   },
   {
    "duration": 601,
    "start_time": "2022-01-07T22:57:52.736Z"
   },
   {
    "duration": 599,
    "start_time": "2022-01-07T22:57:52.739Z"
   },
   {
    "duration": 596,
    "start_time": "2022-01-07T22:57:52.743Z"
   },
   {
    "duration": 594,
    "start_time": "2022-01-07T22:57:52.746Z"
   },
   {
    "duration": 592,
    "start_time": "2022-01-07T22:57:52.750Z"
   },
   {
    "duration": 589,
    "start_time": "2022-01-07T22:57:52.754Z"
   },
   {
    "duration": 98,
    "start_time": "2022-01-07T22:57:57.437Z"
   },
   {
    "duration": 30,
    "start_time": "2022-01-07T22:57:57.537Z"
   },
   {
    "duration": 14,
    "start_time": "2022-01-07T22:57:57.570Z"
   },
   {
    "duration": 35,
    "start_time": "2022-01-07T22:57:57.588Z"
   },
   {
    "duration": 8,
    "start_time": "2022-01-07T22:57:57.626Z"
   },
   {
    "duration": 9,
    "start_time": "2022-01-07T22:57:57.637Z"
   },
   {
    "duration": 353,
    "start_time": "2022-01-07T22:57:57.648Z"
   },
   {
    "duration": 620,
    "start_time": "2022-01-07T22:57:57.384Z"
   },
   {
    "duration": 608,
    "start_time": "2022-01-07T22:57:57.398Z"
   },
   {
    "duration": 606,
    "start_time": "2022-01-07T22:57:57.401Z"
   },
   {
    "duration": 603,
    "start_time": "2022-01-07T22:57:57.405Z"
   },
   {
    "duration": 601,
    "start_time": "2022-01-07T22:57:57.409Z"
   },
   {
    "duration": 593,
    "start_time": "2022-01-07T22:57:57.418Z"
   },
   {
    "duration": 591,
    "start_time": "2022-01-07T22:57:57.422Z"
   },
   {
    "duration": 589,
    "start_time": "2022-01-07T22:57:57.425Z"
   },
   {
    "duration": 586,
    "start_time": "2022-01-07T22:57:57.429Z"
   },
   {
    "duration": 585,
    "start_time": "2022-01-07T22:57:57.432Z"
   },
   {
    "duration": 583,
    "start_time": "2022-01-07T22:57:57.435Z"
   },
   {
    "duration": 581,
    "start_time": "2022-01-07T22:57:57.439Z"
   },
   {
    "duration": 579,
    "start_time": "2022-01-07T22:57:57.442Z"
   },
   {
    "duration": 26,
    "start_time": "2022-01-07T22:58:29.023Z"
   },
   {
    "duration": 26,
    "start_time": "2022-01-07T22:58:49.539Z"
   },
   {
    "duration": 33,
    "start_time": "2022-01-07T22:59:08.967Z"
   },
   {
    "duration": 18,
    "start_time": "2022-01-07T23:03:21.771Z"
   },
   {
    "duration": 8,
    "start_time": "2022-01-07T23:12:41.890Z"
   },
   {
    "duration": 9,
    "start_time": "2022-01-07T23:23:07.530Z"
   },
   {
    "duration": 10,
    "start_time": "2022-01-07T23:30:14.461Z"
   },
   {
    "duration": 7,
    "start_time": "2022-01-07T23:30:16.368Z"
   },
   {
    "duration": 114,
    "start_time": "2022-01-07T23:30:18.672Z"
   },
   {
    "duration": 20163,
    "start_time": "2022-01-07T23:31:00.882Z"
   },
   {
    "duration": 8,
    "start_time": "2022-01-07T23:32:19.578Z"
   },
   {
    "duration": 8,
    "start_time": "2022-01-07T23:35:26.531Z"
   },
   {
    "duration": 9,
    "start_time": "2022-01-07T23:35:42.551Z"
   },
   {
    "duration": 33,
    "start_time": "2022-01-07T23:37:07.105Z"
   },
   {
    "duration": 34,
    "start_time": "2022-01-07T23:37:12.105Z"
   },
   {
    "duration": 11,
    "start_time": "2022-01-07T23:39:50.605Z"
   },
   {
    "duration": 18,
    "start_time": "2022-01-07T23:40:15.838Z"
   },
   {
    "duration": 13,
    "start_time": "2022-01-07T23:42:25.256Z"
   },
   {
    "duration": 10,
    "start_time": "2022-01-07T23:42:50.161Z"
   },
   {
    "duration": 11,
    "start_time": "2022-01-07T23:43:05.486Z"
   },
   {
    "duration": 13,
    "start_time": "2022-01-07T23:43:15.833Z"
   },
   {
    "duration": 15,
    "start_time": "2022-01-07T23:43:31.422Z"
   },
   {
    "duration": 13,
    "start_time": "2022-01-07T23:43:59.276Z"
   },
   {
    "duration": 29,
    "start_time": "2022-01-07T23:44:27.216Z"
   },
   {
    "duration": 12,
    "start_time": "2022-01-07T23:45:07.790Z"
   },
   {
    "duration": 15,
    "start_time": "2022-01-07T23:45:14.242Z"
   },
   {
    "duration": 117,
    "start_time": "2022-01-07T23:47:18.721Z"
   },
   {
    "duration": 34403,
    "start_time": "2022-01-07T23:47:56.101Z"
   },
   {
    "duration": 8,
    "start_time": "2022-01-07T23:48:37.380Z"
   },
   {
    "duration": 33,
    "start_time": "2022-01-07T23:48:38.991Z"
   },
   {
    "duration": 10,
    "start_time": "2022-01-07T23:49:08.076Z"
   },
   {
    "duration": 16,
    "start_time": "2022-01-07T23:49:14.543Z"
   },
   {
    "duration": 36,
    "start_time": "2022-01-07T23:49:41.770Z"
   },
   {
    "duration": 25,
    "start_time": "2022-01-07T23:49:51.201Z"
   },
   {
    "duration": 30,
    "start_time": "2022-01-07T23:50:24.300Z"
   },
   {
    "duration": 185,
    "start_time": "2022-01-07T23:50:32.194Z"
   },
   {
    "duration": 11,
    "start_time": "2022-01-08T00:06:30.969Z"
   },
   {
    "duration": 119,
    "start_time": "2022-01-08T00:06:38.236Z"
   },
   {
    "duration": 10,
    "start_time": "2022-01-08T00:09:23.898Z"
   },
   {
    "duration": 89,
    "start_time": "2022-01-08T00:10:28.520Z"
   },
   {
    "duration": 5,
    "start_time": "2022-01-08T00:43:49.853Z"
   },
   {
    "duration": 308,
    "start_time": "2022-01-09T19:10:17.077Z"
   },
   {
    "duration": 878,
    "start_time": "2022-01-09T19:10:24.852Z"
   },
   {
    "duration": 39,
    "start_time": "2022-01-09T19:10:25.733Z"
   },
   {
    "duration": 19,
    "start_time": "2022-01-09T19:10:25.775Z"
   },
   {
    "duration": 10,
    "start_time": "2022-01-09T19:10:25.797Z"
   },
   {
    "duration": 13,
    "start_time": "2022-01-09T19:10:25.810Z"
   },
   {
    "duration": 43,
    "start_time": "2022-01-09T19:10:25.825Z"
   },
   {
    "duration": 30,
    "start_time": "2022-01-09T19:10:25.870Z"
   },
   {
    "duration": 10,
    "start_time": "2022-01-09T19:10:25.902Z"
   },
   {
    "duration": 15,
    "start_time": "2022-01-09T19:10:25.916Z"
   },
   {
    "duration": 44172,
    "start_time": "2022-01-09T19:10:25.934Z"
   },
   {
    "duration": 9,
    "start_time": "2022-01-09T19:11:10.108Z"
   },
   {
    "duration": 61,
    "start_time": "2022-01-09T19:11:10.120Z"
   },
   {
    "duration": 35,
    "start_time": "2022-01-09T19:11:10.184Z"
   },
   {
    "duration": 9,
    "start_time": "2022-01-09T19:11:10.221Z"
   },
   {
    "duration": 66,
    "start_time": "2022-01-09T19:11:10.232Z"
   },
   {
    "duration": 40,
    "start_time": "2022-01-09T19:11:10.301Z"
   },
   {
    "duration": 201,
    "start_time": "2022-01-09T19:11:10.363Z"
   },
   {
    "duration": 10,
    "start_time": "2022-01-09T19:11:10.566Z"
   },
   {
    "duration": 109,
    "start_time": "2022-01-09T19:11:10.578Z"
   },
   {
    "duration": 17,
    "start_time": "2022-01-09T19:12:19.860Z"
   },
   {
    "duration": 22,
    "start_time": "2022-01-09T19:12:29.169Z"
   },
   {
    "duration": 117,
    "start_time": "2022-01-09T19:12:37.148Z"
   },
   {
    "duration": 30,
    "start_time": "2022-01-09T19:12:37.268Z"
   },
   {
    "duration": 13,
    "start_time": "2022-01-09T19:12:37.301Z"
   },
   {
    "duration": 8,
    "start_time": "2022-01-09T19:12:37.317Z"
   },
   {
    "duration": 10,
    "start_time": "2022-01-09T19:12:37.363Z"
   },
   {
    "duration": 9,
    "start_time": "2022-01-09T19:12:37.375Z"
   },
   {
    "duration": 19,
    "start_time": "2022-01-09T19:12:37.387Z"
   },
   {
    "duration": 9,
    "start_time": "2022-01-09T19:12:37.409Z"
   },
   {
    "duration": 48,
    "start_time": "2022-01-09T19:12:37.421Z"
   },
   {
    "duration": 45333,
    "start_time": "2022-01-09T19:12:37.472Z"
   },
   {
    "duration": 8,
    "start_time": "2022-01-09T19:13:22.808Z"
   },
   {
    "duration": 57,
    "start_time": "2022-01-09T19:13:22.818Z"
   },
   {
    "duration": 37,
    "start_time": "2022-01-09T19:13:22.878Z"
   },
   {
    "duration": 11,
    "start_time": "2022-01-09T19:13:22.917Z"
   },
   {
    "duration": 58,
    "start_time": "2022-01-09T19:13:22.931Z"
   },
   {
    "duration": 34,
    "start_time": "2022-01-09T19:13:22.992Z"
   },
   {
    "duration": 237,
    "start_time": "2022-01-09T19:13:23.028Z"
   },
   {
    "duration": 9,
    "start_time": "2022-01-09T19:13:23.268Z"
   },
   {
    "duration": 111,
    "start_time": "2022-01-09T19:13:23.280Z"
   },
   {
    "duration": 305,
    "start_time": "2022-01-09T19:35:09.969Z"
   },
   {
    "duration": 7,
    "start_time": "2022-01-09T19:35:22.385Z"
   },
   {
    "duration": 255,
    "start_time": "2022-01-09T19:35:36.982Z"
   },
   {
    "duration": 8,
    "start_time": "2022-01-09T19:35:44.009Z"
   },
   {
    "duration": 402,
    "start_time": "2022-01-09T19:36:16.095Z"
   },
   {
    "duration": 241,
    "start_time": "2022-01-09T19:36:22.984Z"
   },
   {
    "duration": 9,
    "start_time": "2022-01-09T19:36:27.652Z"
   },
   {
    "duration": 8,
    "start_time": "2022-01-09T19:36:44.049Z"
   },
   {
    "duration": 96,
    "start_time": "2022-01-09T19:49:07.737Z"
   },
   {
    "duration": 260,
    "start_time": "2022-01-09T19:49:16.495Z"
   },
   {
    "duration": 15,
    "start_time": "2022-01-09T19:49:25.410Z"
   },
   {
    "duration": 4505,
    "start_time": "2022-01-09T19:52:04.132Z"
   },
   {
    "duration": 4834,
    "start_time": "2022-01-09T19:53:26.119Z"
   },
   {
    "duration": 4504,
    "start_time": "2022-01-09T19:53:40.145Z"
   },
   {
    "duration": 4536,
    "start_time": "2022-01-09T19:58:53.700Z"
   },
   {
    "duration": 4699,
    "start_time": "2022-01-09T19:59:52.121Z"
   },
   {
    "duration": 83,
    "start_time": "2022-01-09T20:00:01.684Z"
   },
   {
    "duration": 4613,
    "start_time": "2022-01-09T20:00:09.756Z"
   },
   {
    "duration": 4670,
    "start_time": "2022-01-09T20:01:01.965Z"
   },
   {
    "duration": 5027,
    "start_time": "2022-01-09T20:02:11.776Z"
   },
   {
    "duration": 4642,
    "start_time": "2022-01-09T20:02:27.248Z"
   },
   {
    "duration": 4652,
    "start_time": "2022-01-09T20:02:46.087Z"
   },
   {
    "duration": 4697,
    "start_time": "2022-01-09T20:04:16.277Z"
   },
   {
    "duration": 4949,
    "start_time": "2022-01-09T20:14:11.201Z"
   },
   {
    "duration": 129,
    "start_time": "2022-01-09T20:16:04.536Z"
   },
   {
    "duration": 87,
    "start_time": "2022-01-09T20:16:24.773Z"
   },
   {
    "duration": 93,
    "start_time": "2022-01-09T20:16:50.217Z"
   },
   {
    "duration": 101,
    "start_time": "2022-01-09T20:17:01.222Z"
   },
   {
    "duration": 86,
    "start_time": "2022-01-09T20:17:25.836Z"
   },
   {
    "duration": 157,
    "start_time": "2022-01-09T20:17:35.582Z"
   },
   {
    "duration": 132,
    "start_time": "2022-01-09T20:17:49.258Z"
   },
   {
    "duration": 83,
    "start_time": "2022-01-09T20:18:16.239Z"
   },
   {
    "duration": 4626,
    "start_time": "2022-01-09T20:19:01.188Z"
   },
   {
    "duration": 90,
    "start_time": "2022-01-09T20:19:27.809Z"
   },
   {
    "duration": 77,
    "start_time": "2022-01-09T20:19:37.307Z"
   },
   {
    "duration": 5627,
    "start_time": "2022-01-09T20:20:34.974Z"
   },
   {
    "duration": 5212,
    "start_time": "2022-01-09T20:22:39.714Z"
   },
   {
    "duration": 37,
    "start_time": "2022-01-09T20:45:41.584Z"
   },
   {
    "duration": 241,
    "start_time": "2022-01-09T20:46:19.785Z"
   },
   {
    "duration": 410,
    "start_time": "2022-01-09T20:47:33.976Z"
   },
   {
    "duration": 341,
    "start_time": "2022-01-09T20:48:52.781Z"
   },
   {
    "duration": 9,
    "start_time": "2022-01-09T20:49:05.145Z"
   },
   {
    "duration": 108,
    "start_time": "2022-01-09T20:49:10.314Z"
   },
   {
    "duration": 46,
    "start_time": "2022-01-09T20:49:10.424Z"
   },
   {
    "duration": 13,
    "start_time": "2022-01-09T20:49:10.473Z"
   },
   {
    "duration": 9,
    "start_time": "2022-01-09T20:49:10.489Z"
   },
   {
    "duration": 9,
    "start_time": "2022-01-09T20:49:10.501Z"
   },
   {
    "duration": 54,
    "start_time": "2022-01-09T20:49:10.513Z"
   },
   {
    "duration": 21,
    "start_time": "2022-01-09T20:49:10.570Z"
   },
   {
    "duration": 10,
    "start_time": "2022-01-09T20:49:10.594Z"
   },
   {
    "duration": 7,
    "start_time": "2022-01-09T20:49:10.607Z"
   },
   {
    "duration": 44924,
    "start_time": "2022-01-09T20:49:10.617Z"
   },
   {
    "duration": 8,
    "start_time": "2022-01-09T20:49:55.543Z"
   },
   {
    "duration": 35,
    "start_time": "2022-01-09T20:49:55.563Z"
   },
   {
    "duration": 64,
    "start_time": "2022-01-09T20:49:55.601Z"
   },
   {
    "duration": 10,
    "start_time": "2022-01-09T20:49:55.667Z"
   },
   {
    "duration": 29,
    "start_time": "2022-01-09T20:49:55.679Z"
   },
   {
    "duration": 59,
    "start_time": "2022-01-09T20:49:55.710Z"
   },
   {
    "duration": 197,
    "start_time": "2022-01-09T20:49:55.771Z"
   },
   {
    "duration": 10,
    "start_time": "2022-01-09T20:49:55.970Z"
   },
   {
    "duration": 107,
    "start_time": "2022-01-09T20:49:55.982Z"
   },
   {
    "duration": 7,
    "start_time": "2022-01-09T20:49:56.092Z"
   },
   {
    "duration": 10,
    "start_time": "2022-01-09T20:49:56.102Z"
   },
   {
    "duration": 4726,
    "start_time": "2022-01-09T20:49:56.115Z"
   },
   {
    "duration": 49,
    "start_time": "2022-01-09T20:50:36.638Z"
   },
   {
    "duration": 9,
    "start_time": "2022-01-09T20:50:49.172Z"
   },
   {
    "duration": 265,
    "start_time": "2022-01-09T20:58:24.273Z"
   },
   {
    "duration": 294,
    "start_time": "2022-01-09T20:58:43.819Z"
   },
   {
    "duration": 1281,
    "start_time": "2022-01-09T20:59:08.012Z"
   },
   {
    "duration": 990,
    "start_time": "2022-01-09T20:59:53.198Z"
   },
   {
    "duration": 5108,
    "start_time": "2022-01-09T21:00:47.405Z"
   },
   {
    "duration": 105,
    "start_time": "2022-01-09T21:00:55.165Z"
   },
   {
    "duration": 30,
    "start_time": "2022-01-09T21:00:55.273Z"
   },
   {
    "duration": 14,
    "start_time": "2022-01-09T21:00:55.306Z"
   },
   {
    "duration": 9,
    "start_time": "2022-01-09T21:00:55.323Z"
   },
   {
    "duration": 10,
    "start_time": "2022-01-09T21:00:55.363Z"
   },
   {
    "duration": 9,
    "start_time": "2022-01-09T21:00:55.375Z"
   },
   {
    "duration": 27,
    "start_time": "2022-01-09T21:00:55.386Z"
   },
   {
    "duration": 10,
    "start_time": "2022-01-09T21:00:55.560Z"
   },
   {
    "duration": 7,
    "start_time": "2022-01-09T21:00:55.573Z"
   },
   {
    "duration": 44182,
    "start_time": "2022-01-09T21:00:55.604Z"
   },
   {
    "duration": 9,
    "start_time": "2022-01-09T21:01:39.789Z"
   },
   {
    "duration": 60,
    "start_time": "2022-01-09T21:01:39.802Z"
   },
   {
    "duration": 34,
    "start_time": "2022-01-09T21:01:39.865Z"
   },
   {
    "duration": 10,
    "start_time": "2022-01-09T21:01:39.902Z"
   },
   {
    "duration": 61,
    "start_time": "2022-01-09T21:01:39.914Z"
   },
   {
    "duration": 29,
    "start_time": "2022-01-09T21:01:39.978Z"
   },
   {
    "duration": 214,
    "start_time": "2022-01-09T21:01:40.009Z"
   },
   {
    "duration": 10,
    "start_time": "2022-01-09T21:01:40.227Z"
   },
   {
    "duration": 103,
    "start_time": "2022-01-09T21:01:40.239Z"
   },
   {
    "duration": 19,
    "start_time": "2022-01-09T21:01:40.345Z"
   },
   {
    "duration": 4621,
    "start_time": "2022-01-09T21:01:40.367Z"
   },
   {
    "duration": 923,
    "start_time": "2022-01-09T21:25:38.862Z"
   },
   {
    "duration": 32,
    "start_time": "2022-01-09T21:25:39.788Z"
   },
   {
    "duration": 16,
    "start_time": "2022-01-09T21:25:39.823Z"
   },
   {
    "duration": 11,
    "start_time": "2022-01-09T21:25:39.864Z"
   },
   {
    "duration": 9,
    "start_time": "2022-01-09T21:25:39.877Z"
   },
   {
    "duration": 11,
    "start_time": "2022-01-09T21:25:39.889Z"
   },
   {
    "duration": 19,
    "start_time": "2022-01-09T21:25:39.902Z"
   },
   {
    "duration": 10,
    "start_time": "2022-01-09T21:25:39.965Z"
   },
   {
    "duration": 10,
    "start_time": "2022-01-09T21:25:39.977Z"
   },
   {
    "duration": 46505,
    "start_time": "2022-01-09T21:25:39.990Z"
   },
   {
    "duration": 9,
    "start_time": "2022-01-09T21:26:26.498Z"
   },
   {
    "duration": 57,
    "start_time": "2022-01-09T21:26:26.510Z"
   },
   {
    "duration": 36,
    "start_time": "2022-01-09T21:26:26.569Z"
   },
   {
    "duration": 10,
    "start_time": "2022-01-09T21:26:26.608Z"
   },
   {
    "duration": 67,
    "start_time": "2022-01-09T21:26:26.620Z"
   },
   {
    "duration": 32,
    "start_time": "2022-01-09T21:26:26.690Z"
   },
   {
    "duration": 221,
    "start_time": "2022-01-09T21:26:26.725Z"
   },
   {
    "duration": 20,
    "start_time": "2022-01-09T21:26:26.949Z"
   },
   {
    "duration": 102,
    "start_time": "2022-01-09T21:26:26.971Z"
   },
   {
    "duration": 7,
    "start_time": "2022-01-09T21:26:27.076Z"
   },
   {
    "duration": 4616,
    "start_time": "2022-01-09T21:26:27.087Z"
   },
   {
    "duration": 5483,
    "start_time": "2022-01-09T21:40:48.188Z"
   },
   {
    "duration": 82,
    "start_time": "2022-01-09T21:46:33.648Z"
   },
   {
    "duration": 4,
    "start_time": "2022-01-09T21:46:39.279Z"
   },
   {
    "duration": 1239,
    "start_time": "2022-01-09T21:48:36.287Z"
   },
   {
    "duration": 1155,
    "start_time": "2022-01-09T21:49:00.952Z"
   },
   {
    "duration": 2489,
    "start_time": "2022-01-09T21:50:40.752Z"
   },
   {
    "duration": 5407,
    "start_time": "2022-01-09T21:51:46.144Z"
   },
   {
    "duration": 25,
    "start_time": "2022-01-09T21:52:10.655Z"
   },
   {
    "duration": 105,
    "start_time": "2022-01-09T21:53:23.264Z"
   },
   {
    "duration": 29,
    "start_time": "2022-01-09T21:53:23.372Z"
   },
   {
    "duration": 20,
    "start_time": "2022-01-09T21:53:23.405Z"
   },
   {
    "duration": 37,
    "start_time": "2022-01-09T21:53:23.429Z"
   },
   {
    "duration": 11,
    "start_time": "2022-01-09T21:53:23.470Z"
   },
   {
    "duration": 13,
    "start_time": "2022-01-09T21:53:23.484Z"
   },
   {
    "duration": 65,
    "start_time": "2022-01-09T21:53:23.502Z"
   },
   {
    "duration": 10,
    "start_time": "2022-01-09T21:53:23.570Z"
   },
   {
    "duration": 8,
    "start_time": "2022-01-09T21:53:23.582Z"
   },
   {
    "duration": 45077,
    "start_time": "2022-01-09T21:53:23.593Z"
   },
   {
    "duration": 9,
    "start_time": "2022-01-09T21:54:08.673Z"
   },
   {
    "duration": 38,
    "start_time": "2022-01-09T21:54:08.685Z"
   },
   {
    "duration": 59,
    "start_time": "2022-01-09T21:54:08.726Z"
   },
   {
    "duration": 9,
    "start_time": "2022-01-09T21:54:08.788Z"
   },
   {
    "duration": 29,
    "start_time": "2022-01-09T21:54:08.800Z"
   },
   {
    "duration": 31,
    "start_time": "2022-01-09T21:54:08.862Z"
   },
   {
    "duration": 211,
    "start_time": "2022-01-09T21:54:08.895Z"
   },
   {
    "duration": 10,
    "start_time": "2022-01-09T21:54:09.108Z"
   },
   {
    "duration": 116,
    "start_time": "2022-01-09T21:54:09.121Z"
   },
   {
    "duration": 25,
    "start_time": "2022-01-09T21:54:09.240Z"
   },
   {
    "duration": 4582,
    "start_time": "2022-01-09T21:54:09.268Z"
   },
   {
    "duration": 5621,
    "start_time": "2022-01-09T21:54:13.865Z"
   },
   {
    "duration": 25,
    "start_time": "2022-01-09T21:54:19.488Z"
   },
   {
    "duration": 13,
    "start_time": "2022-01-09T21:55:48.309Z"
   },
   {
    "duration": 5291,
    "start_time": "2022-01-09T21:57:48.915Z"
   },
   {
    "duration": 10,
    "start_time": "2022-01-09T21:57:54.209Z"
   },
   {
    "duration": 24,
    "start_time": "2022-01-09T21:58:27.888Z"
   },
   {
    "duration": 7,
    "start_time": "2022-01-09T22:00:02.546Z"
   },
   {
    "duration": 1113,
    "start_time": "2022-01-09T22:02:18.253Z"
   },
   {
    "duration": 1132,
    "start_time": "2022-01-09T22:03:21.326Z"
   },
   {
    "duration": 5323,
    "start_time": "2022-01-09T22:03:38.717Z"
   },
   {
    "duration": 90,
    "start_time": "2022-01-09T22:04:02.140Z"
   },
   {
    "duration": 5357,
    "start_time": "2022-01-09T22:04:21.849Z"
   },
   {
    "duration": 6,
    "start_time": "2022-01-09T22:04:48.680Z"
   },
   {
    "duration": 31,
    "start_time": "2022-01-09T22:04:51.262Z"
   },
   {
    "duration": 5125,
    "start_time": "2022-01-09T22:06:24.943Z"
   },
   {
    "duration": 24,
    "start_time": "2022-01-09T22:06:35.964Z"
   },
   {
    "duration": 78,
    "start_time": "2022-01-09T22:09:07.209Z"
   },
   {
    "duration": 5113,
    "start_time": "2022-01-09T22:09:45.240Z"
   },
   {
    "duration": 5135,
    "start_time": "2022-01-09T22:10:26.398Z"
   },
   {
    "duration": 6,
    "start_time": "2022-01-09T22:10:31.536Z"
   },
   {
    "duration": 37,
    "start_time": "2022-01-09T22:10:31.546Z"
   },
   {
    "duration": 517,
    "start_time": "2022-01-09T22:10:42.961Z"
   },
   {
    "duration": 5545,
    "start_time": "2022-01-09T22:11:40.276Z"
   },
   {
    "duration": 617,
    "start_time": "2022-01-09T22:11:56.363Z"
   },
   {
    "duration": 5710,
    "start_time": "2022-01-09T22:12:07.464Z"
   },
   {
    "duration": 27,
    "start_time": "2022-01-09T22:12:24.500Z"
   },
   {
    "duration": 5428,
    "start_time": "2022-01-09T22:13:01.057Z"
   },
   {
    "duration": 25,
    "start_time": "2022-01-09T22:13:08.566Z"
   },
   {
    "duration": 5144,
    "start_time": "2022-01-09T22:13:22.163Z"
   },
   {
    "duration": 26,
    "start_time": "2022-01-09T22:13:28.429Z"
   },
   {
    "duration": 114,
    "start_time": "2022-01-09T22:13:36.170Z"
   },
   {
    "duration": 33,
    "start_time": "2022-01-09T22:13:36.288Z"
   },
   {
    "duration": 49,
    "start_time": "2022-01-09T22:13:36.325Z"
   },
   {
    "duration": 12,
    "start_time": "2022-01-09T22:13:36.377Z"
   },
   {
    "duration": 11,
    "start_time": "2022-01-09T22:13:36.392Z"
   },
   {
    "duration": 58,
    "start_time": "2022-01-09T22:13:36.406Z"
   },
   {
    "duration": 23,
    "start_time": "2022-01-09T22:13:36.468Z"
   },
   {
    "duration": 11,
    "start_time": "2022-01-09T22:13:36.497Z"
   },
   {
    "duration": 7,
    "start_time": "2022-01-09T22:13:36.512Z"
   },
   {
    "duration": 45599,
    "start_time": "2022-01-09T22:13:36.522Z"
   },
   {
    "duration": 8,
    "start_time": "2022-01-09T22:14:22.123Z"
   },
   {
    "duration": 51,
    "start_time": "2022-01-09T22:14:22.133Z"
   },
   {
    "duration": 42,
    "start_time": "2022-01-09T22:14:22.186Z"
   },
   {
    "duration": 9,
    "start_time": "2022-01-09T22:14:22.230Z"
   },
   {
    "duration": 30,
    "start_time": "2022-01-09T22:14:22.263Z"
   },
   {
    "duration": 30,
    "start_time": "2022-01-09T22:14:22.295Z"
   },
   {
    "duration": 223,
    "start_time": "2022-01-09T22:14:22.327Z"
   },
   {
    "duration": 18,
    "start_time": "2022-01-09T22:14:22.553Z"
   },
   {
    "duration": 101,
    "start_time": "2022-01-09T22:14:22.573Z"
   },
   {
    "duration": 7,
    "start_time": "2022-01-09T22:14:22.677Z"
   },
   {
    "duration": 4687,
    "start_time": "2022-01-09T22:14:22.686Z"
   },
   {
    "duration": 5171,
    "start_time": "2022-01-09T22:14:27.376Z"
   },
   {
    "duration": 29,
    "start_time": "2022-01-09T22:14:32.551Z"
   },
   {
    "duration": 979,
    "start_time": "2022-01-09T22:14:58.521Z"
   },
   {
    "duration": 26,
    "start_time": "2022-01-09T22:14:59.892Z"
   },
   {
    "duration": 5483,
    "start_time": "2022-01-09T22:15:26.093Z"
   },
   {
    "duration": 22,
    "start_time": "2022-01-09T22:15:33.438Z"
   },
   {
    "duration": 19,
    "start_time": "2022-01-09T22:15:39.887Z"
   },
   {
    "duration": 24,
    "start_time": "2022-01-09T22:15:41.167Z"
   },
   {
    "duration": 5162,
    "start_time": "2022-01-09T22:16:03.665Z"
   },
   {
    "duration": 33,
    "start_time": "2022-01-09T22:16:08.830Z"
   },
   {
    "duration": 1312,
    "start_time": "2022-01-09T22:17:56.620Z"
   },
   {
    "duration": 5615,
    "start_time": "2022-01-09T22:19:16.632Z"
   },
   {
    "duration": 22,
    "start_time": "2022-01-09T22:19:39.727Z"
   },
   {
    "duration": 1118,
    "start_time": "2022-01-09T22:20:09.158Z"
   },
   {
    "duration": 1296,
    "start_time": "2022-01-09T22:22:28.234Z"
   },
   {
    "duration": 1399,
    "start_time": "2022-01-09T22:23:08.040Z"
   },
   {
    "duration": 1415,
    "start_time": "2022-01-09T22:24:07.900Z"
   },
   {
    "duration": 1153,
    "start_time": "2022-01-09T22:24:18.197Z"
   },
   {
    "duration": 23,
    "start_time": "2022-01-09T22:27:48.433Z"
   },
   {
    "duration": 21,
    "start_time": "2022-01-09T22:27:53.291Z"
   },
   {
    "duration": 105,
    "start_time": "2022-01-09T22:27:57.851Z"
   },
   {
    "duration": 31,
    "start_time": "2022-01-09T22:27:57.959Z"
   },
   {
    "duration": 15,
    "start_time": "2022-01-09T22:27:57.993Z"
   },
   {
    "duration": 11,
    "start_time": "2022-01-09T22:27:58.012Z"
   },
   {
    "duration": 12,
    "start_time": "2022-01-09T22:27:58.062Z"
   },
   {
    "duration": 11,
    "start_time": "2022-01-09T22:27:58.077Z"
   },
   {
    "duration": 18,
    "start_time": "2022-01-09T22:27:58.091Z"
   },
   {
    "duration": 51,
    "start_time": "2022-01-09T22:27:58.112Z"
   },
   {
    "duration": 8,
    "start_time": "2022-01-09T22:27:58.166Z"
   },
   {
    "duration": 45926,
    "start_time": "2022-01-09T22:27:58.177Z"
   },
   {
    "duration": 9,
    "start_time": "2022-01-09T22:28:44.106Z"
   },
   {
    "duration": 61,
    "start_time": "2022-01-09T22:28:44.117Z"
   },
   {
    "duration": 52,
    "start_time": "2022-01-09T22:28:44.182Z"
   },
   {
    "duration": 12,
    "start_time": "2022-01-09T22:28:44.264Z"
   },
   {
    "duration": 31,
    "start_time": "2022-01-09T22:28:44.280Z"
   },
   {
    "duration": 65,
    "start_time": "2022-01-09T22:28:44.313Z"
   },
   {
    "duration": 208,
    "start_time": "2022-01-09T22:28:44.381Z"
   },
   {
    "duration": 11,
    "start_time": "2022-01-09T22:28:44.591Z"
   },
   {
    "duration": 105,
    "start_time": "2022-01-09T22:28:44.604Z"
   },
   {
    "duration": 8,
    "start_time": "2022-01-09T22:28:44.712Z"
   },
   {
    "duration": 4569,
    "start_time": "2022-01-09T22:28:44.722Z"
   },
   {
    "duration": 23,
    "start_time": "2022-01-09T22:28:49.293Z"
   },
   {
    "duration": 1247,
    "start_time": "2022-01-09T22:37:17.408Z"
   },
   {
    "duration": 1129,
    "start_time": "2022-01-09T22:37:51.107Z"
   },
   {
    "duration": 1120,
    "start_time": "2022-01-09T22:38:12.459Z"
   },
   {
    "duration": 1121,
    "start_time": "2022-01-09T22:38:35.078Z"
   },
   {
    "duration": 1424,
    "start_time": "2022-01-09T22:39:59.159Z"
   },
   {
    "duration": 5351,
    "start_time": "2022-01-09T22:40:41.578Z"
   },
   {
    "duration": 24,
    "start_time": "2022-01-09T22:41:23.672Z"
   },
   {
    "duration": 1119,
    "start_time": "2022-01-09T22:48:17.069Z"
   },
   {
    "duration": 1129,
    "start_time": "2022-01-09T22:48:50.383Z"
   },
   {
    "duration": 1373,
    "start_time": "2022-01-09T22:49:03.577Z"
   },
   {
    "duration": 5666,
    "start_time": "2022-01-09T22:49:55.175Z"
   },
   {
    "duration": 374,
    "start_time": "2022-01-09T22:50:35.370Z"
   },
   {
    "duration": 24,
    "start_time": "2022-01-09T22:50:40.804Z"
   },
   {
    "duration": 452,
    "start_time": "2022-01-09T22:52:14.538Z"
   },
   {
    "duration": 24,
    "start_time": "2022-01-09T22:52:19.701Z"
   },
   {
    "duration": 248,
    "start_time": "2022-01-09T22:53:05.167Z"
   },
   {
    "duration": 262,
    "start_time": "2022-01-09T22:53:19.426Z"
   },
   {
    "duration": 302,
    "start_time": "2022-01-09T22:53:24.929Z"
   },
   {
    "duration": 9,
    "start_time": "2022-01-09T22:53:41.226Z"
   },
   {
    "duration": 313,
    "start_time": "2022-01-09T22:53:50.103Z"
   },
   {
    "duration": 10,
    "start_time": "2022-01-09T22:53:54.696Z"
   },
   {
    "duration": 353,
    "start_time": "2022-01-09T23:00:31.852Z"
   },
   {
    "duration": 10,
    "start_time": "2022-01-09T23:00:35.635Z"
   },
   {
    "duration": 368,
    "start_time": "2022-01-09T23:02:10.844Z"
   },
   {
    "duration": 1189,
    "start_time": "2022-01-09T23:06:26.528Z"
   },
   {
    "duration": 14,
    "start_time": "2022-01-09T23:06:53.270Z"
   },
   {
    "duration": 1035,
    "start_time": "2022-01-09T23:07:14.035Z"
   },
   {
    "duration": 14,
    "start_time": "2022-01-09T23:07:16.773Z"
   },
   {
    "duration": 882,
    "start_time": "2022-01-09T23:07:36.904Z"
   },
   {
    "duration": 13,
    "start_time": "2022-01-09T23:07:39.621Z"
   },
   {
    "duration": 111,
    "start_time": "2022-01-09T23:11:24.574Z"
   },
   {
    "duration": 29,
    "start_time": "2022-01-09T23:11:24.688Z"
   },
   {
    "duration": 17,
    "start_time": "2022-01-09T23:11:24.721Z"
   },
   {
    "duration": 28,
    "start_time": "2022-01-09T23:11:24.741Z"
   },
   {
    "duration": 7,
    "start_time": "2022-01-09T23:11:24.772Z"
   },
   {
    "duration": 9,
    "start_time": "2022-01-09T23:11:24.782Z"
   },
   {
    "duration": 19,
    "start_time": "2022-01-09T23:11:24.793Z"
   },
   {
    "duration": 50,
    "start_time": "2022-01-09T23:11:24.815Z"
   },
   {
    "duration": 7,
    "start_time": "2022-01-09T23:11:24.868Z"
   },
   {
    "duration": 45205,
    "start_time": "2022-01-09T23:11:24.877Z"
   },
   {
    "duration": 10,
    "start_time": "2022-01-09T23:12:10.084Z"
   },
   {
    "duration": 42,
    "start_time": "2022-01-09T23:12:10.099Z"
   },
   {
    "duration": 37,
    "start_time": "2022-01-09T23:12:10.166Z"
   },
   {
    "duration": 18,
    "start_time": "2022-01-09T23:12:10.206Z"
   },
   {
    "duration": 59,
    "start_time": "2022-01-09T23:12:10.227Z"
   },
   {
    "duration": 31,
    "start_time": "2022-01-09T23:12:10.288Z"
   },
   {
    "duration": 222,
    "start_time": "2022-01-09T23:12:10.321Z"
   },
   {
    "duration": 24,
    "start_time": "2022-01-09T23:12:10.545Z"
   },
   {
    "duration": 99,
    "start_time": "2022-01-09T23:12:10.572Z"
   },
   {
    "duration": 7,
    "start_time": "2022-01-09T23:12:10.673Z"
   },
   {
    "duration": 4715,
    "start_time": "2022-01-09T23:12:10.683Z"
   },
   {
    "duration": 969,
    "start_time": "2022-01-09T23:12:15.401Z"
   },
   {
    "duration": 13,
    "start_time": "2022-01-09T23:12:16.374Z"
   },
   {
    "duration": 15,
    "start_time": "2022-01-09T23:12:29.016Z"
   },
   {
    "duration": 836,
    "start_time": "2022-01-09T23:13:28.590Z"
   },
   {
    "duration": 14,
    "start_time": "2022-01-09T23:13:32.532Z"
   },
   {
    "duration": 14,
    "start_time": "2022-01-09T23:13:47.098Z"
   },
   {
    "duration": 825,
    "start_time": "2022-01-09T23:15:33.968Z"
   },
   {
    "duration": 12,
    "start_time": "2022-01-09T23:15:38.294Z"
   },
   {
    "duration": 23,
    "start_time": "2022-01-09T23:19:35.527Z"
   },
   {
    "duration": 113,
    "start_time": "2022-01-09T23:20:38.431Z"
   },
   {
    "duration": 34,
    "start_time": "2022-01-09T23:20:38.564Z"
   },
   {
    "duration": 13,
    "start_time": "2022-01-09T23:20:38.602Z"
   },
   {
    "duration": 51,
    "start_time": "2022-01-09T23:20:38.619Z"
   },
   {
    "duration": 9,
    "start_time": "2022-01-09T23:20:38.672Z"
   },
   {
    "duration": 10,
    "start_time": "2022-01-09T23:20:38.683Z"
   },
   {
    "duration": 19,
    "start_time": "2022-01-09T23:20:38.696Z"
   },
   {
    "duration": 51,
    "start_time": "2022-01-09T23:20:38.719Z"
   },
   {
    "duration": 8,
    "start_time": "2022-01-09T23:20:38.773Z"
   },
   {
    "duration": 44627,
    "start_time": "2022-01-09T23:20:38.783Z"
   },
   {
    "duration": 8,
    "start_time": "2022-01-09T23:21:23.413Z"
   },
   {
    "duration": 51,
    "start_time": "2022-01-09T23:21:23.423Z"
   },
   {
    "duration": 35,
    "start_time": "2022-01-09T23:21:23.476Z"
   },
   {
    "duration": 10,
    "start_time": "2022-01-09T23:21:23.514Z"
   },
   {
    "duration": 62,
    "start_time": "2022-01-09T23:21:23.527Z"
   },
   {
    "duration": 30,
    "start_time": "2022-01-09T23:21:23.591Z"
   },
   {
    "duration": 218,
    "start_time": "2022-01-09T23:21:23.624Z"
   },
   {
    "duration": 23,
    "start_time": "2022-01-09T23:21:23.845Z"
   },
   {
    "duration": 99,
    "start_time": "2022-01-09T23:21:23.871Z"
   },
   {
    "duration": 7,
    "start_time": "2022-01-09T23:21:23.973Z"
   },
   {
    "duration": 11027,
    "start_time": "2022-01-09T23:21:23.983Z"
   },
   {
    "duration": 715,
    "start_time": "2022-01-09T23:21:34.299Z"
   },
   {
    "duration": 695,
    "start_time": "2022-01-09T23:21:34.321Z"
   },
   {
    "duration": 12503,
    "start_time": "2022-01-09T23:21:55.727Z"
   },
   {
    "duration": 4522,
    "start_time": "2022-01-09T23:22:38.085Z"
   },
   {
    "duration": 847,
    "start_time": "2022-01-09T23:23:47.706Z"
   },
   {
    "duration": 29,
    "start_time": "2022-01-09T23:23:48.879Z"
   },
   {
    "duration": 241,
    "start_time": "2022-01-09T23:24:21.194Z"
   },
   {
    "duration": 248,
    "start_time": "2022-01-09T23:24:27.959Z"
   },
   {
    "duration": 43,
    "start_time": "2022-01-09T23:24:35.087Z"
   },
   {
    "duration": 618,
    "start_time": "2022-01-09T23:24:58.873Z"
   },
   {
    "duration": 56,
    "start_time": "2022-01-09T23:25:51.202Z"
   },
   {
    "duration": 127,
    "start_time": "2022-01-10T00:14:31.787Z"
   },
   {
    "duration": 243,
    "start_time": "2022-01-10T00:14:43.359Z"
   },
   {
    "duration": 429,
    "start_time": "2022-01-10T00:14:57.682Z"
   },
   {
    "duration": 342,
    "start_time": "2022-01-10T00:16:08.997Z"
   },
   {
    "duration": 259,
    "start_time": "2022-01-10T00:16:47.027Z"
   },
   {
    "duration": 335,
    "start_time": "2022-01-10T00:18:16.566Z"
   },
   {
    "duration": 202,
    "start_time": "2022-01-10T00:18:48.280Z"
   },
   {
    "duration": 52,
    "start_time": "2022-01-10T00:18:48.493Z"
   },
   {
    "duration": 15,
    "start_time": "2022-01-10T00:18:48.549Z"
   },
   {
    "duration": 12,
    "start_time": "2022-01-10T00:18:48.567Z"
   },
   {
    "duration": 12,
    "start_time": "2022-01-10T00:18:48.582Z"
   },
   {
    "duration": 12,
    "start_time": "2022-01-10T00:18:48.597Z"
   },
   {
    "duration": 23,
    "start_time": "2022-01-10T00:18:48.665Z"
   },
   {
    "duration": 10,
    "start_time": "2022-01-10T00:18:48.692Z"
   },
   {
    "duration": 8,
    "start_time": "2022-01-10T00:18:48.706Z"
   },
   {
    "duration": 45113,
    "start_time": "2022-01-10T00:18:48.717Z"
   },
   {
    "duration": 11,
    "start_time": "2022-01-10T00:19:33.833Z"
   },
   {
    "duration": 38,
    "start_time": "2022-01-10T00:19:33.863Z"
   },
   {
    "duration": 61,
    "start_time": "2022-01-10T00:19:33.904Z"
   },
   {
    "duration": 11,
    "start_time": "2022-01-10T00:19:33.967Z"
   },
   {
    "duration": 29,
    "start_time": "2022-01-10T00:19:33.980Z"
   },
   {
    "duration": 63,
    "start_time": "2022-01-10T00:19:34.012Z"
   },
   {
    "duration": 209,
    "start_time": "2022-01-10T00:19:34.077Z"
   },
   {
    "duration": 10,
    "start_time": "2022-01-10T00:19:34.289Z"
   },
   {
    "duration": 107,
    "start_time": "2022-01-10T00:19:34.302Z"
   },
   {
    "duration": 8,
    "start_time": "2022-01-10T00:19:34.412Z"
   },
   {
    "duration": 4519,
    "start_time": "2022-01-10T00:19:34.423Z"
   },
   {
    "duration": 843,
    "start_time": "2022-01-10T00:19:38.944Z"
   },
   {
    "duration": 264,
    "start_time": "2022-01-10T00:19:39.792Z"
   },
   {
    "duration": 14,
    "start_time": "2022-01-10T00:20:12.302Z"
   },
   {
    "duration": 19,
    "start_time": "2022-01-10T00:20:37.818Z"
   },
   {
    "duration": 82,
    "start_time": "2022-01-10T00:21:32.378Z"
   },
   {
    "duration": 276,
    "start_time": "2022-01-10T00:21:38.411Z"
   },
   {
    "duration": 1162,
    "start_time": "2022-01-10T00:24:02.507Z"
   },
   {
    "duration": 35,
    "start_time": "2022-01-10T00:24:26.464Z"
   },
   {
    "duration": 1267,
    "start_time": "2022-01-10T00:26:22.622Z"
   },
   {
    "duration": 33,
    "start_time": "2022-01-10T00:26:27.046Z"
   },
   {
    "duration": 7748,
    "start_time": "2022-01-10T00:30:09.233Z"
   },
   {
    "duration": 6137,
    "start_time": "2022-01-10T00:30:18.122Z"
   },
   {
    "duration": 29,
    "start_time": "2022-01-10T00:32:49.556Z"
   },
   {
    "duration": 6338,
    "start_time": "2022-01-10T00:33:05.705Z"
   },
   {
    "duration": 7505,
    "start_time": "2022-01-10T00:34:12.640Z"
   },
   {
    "duration": 8345,
    "start_time": "2022-01-10T00:34:32.511Z"
   },
   {
    "duration": 6621,
    "start_time": "2022-01-10T00:35:04.620Z"
   },
   {
    "duration": 30,
    "start_time": "2022-01-10T00:35:33.007Z"
   },
   {
    "duration": 26,
    "start_time": "2022-01-10T00:35:44.114Z"
   },
   {
    "duration": 28,
    "start_time": "2022-01-10T00:35:53.514Z"
   },
   {
    "duration": 6627,
    "start_time": "2022-01-10T00:36:36.566Z"
   },
   {
    "duration": 7408,
    "start_time": "2022-01-10T00:36:59.410Z"
   },
   {
    "duration": 263,
    "start_time": "2022-01-10T00:38:35.927Z"
   },
   {
    "duration": 289,
    "start_time": "2022-01-10T00:38:45.843Z"
   },
   {
    "duration": 23,
    "start_time": "2022-01-10T00:39:35.853Z"
   },
   {
    "duration": 29,
    "start_time": "2022-01-10T00:39:51.154Z"
   },
   {
    "duration": 6645,
    "start_time": "2022-01-10T00:40:17.647Z"
   },
   {
    "duration": 6411,
    "start_time": "2022-01-10T00:41:20.423Z"
   },
   {
    "duration": 23,
    "start_time": "2022-01-10T00:41:33.906Z"
   },
   {
    "duration": 9,
    "start_time": "2022-01-10T00:41:52.625Z"
   },
   {
    "duration": 6,
    "start_time": "2022-01-10T00:42:11.179Z"
   },
   {
    "duration": 7272,
    "start_time": "2022-01-10T00:42:26.274Z"
   },
   {
    "duration": 34,
    "start_time": "2022-01-10T00:46:57.372Z"
   },
   {
    "duration": 13,
    "start_time": "2022-01-10T00:47:19.864Z"
   },
   {
    "duration": 28,
    "start_time": "2022-01-10T00:47:32.402Z"
   },
   {
    "duration": 10,
    "start_time": "2022-01-10T00:47:35.180Z"
   },
   {
    "duration": 7602,
    "start_time": "2022-01-10T00:48:51.762Z"
   },
   {
    "duration": 771,
    "start_time": "2022-01-10T00:48:58.596Z"
   },
   {
    "duration": 1161,
    "start_time": "2022-01-10T00:49:00.122Z"
   },
   {
    "duration": 26,
    "start_time": "2022-01-10T00:49:03.592Z"
   },
   {
    "duration": 11,
    "start_time": "2022-01-10T00:49:07.111Z"
   },
   {
    "duration": 123,
    "start_time": "2022-01-10T00:51:51.040Z"
   },
   {
    "duration": 31,
    "start_time": "2022-01-10T00:51:51.165Z"
   },
   {
    "duration": 15,
    "start_time": "2022-01-10T00:51:51.199Z"
   },
   {
    "duration": 10,
    "start_time": "2022-01-10T00:51:51.217Z"
   },
   {
    "duration": 39,
    "start_time": "2022-01-10T00:51:51.229Z"
   },
   {
    "duration": 9,
    "start_time": "2022-01-10T00:51:51.271Z"
   },
   {
    "duration": 20,
    "start_time": "2022-01-10T00:51:51.282Z"
   },
   {
    "duration": 11,
    "start_time": "2022-01-10T00:51:51.307Z"
   },
   {
    "duration": 46,
    "start_time": "2022-01-10T00:51:51.320Z"
   },
   {
    "duration": 44732,
    "start_time": "2022-01-10T00:51:51.369Z"
   },
   {
    "duration": 9,
    "start_time": "2022-01-10T00:52:36.103Z"
   },
   {
    "duration": 54,
    "start_time": "2022-01-10T00:52:36.115Z"
   },
   {
    "duration": 35,
    "start_time": "2022-01-10T00:52:36.172Z"
   },
   {
    "duration": 10,
    "start_time": "2022-01-10T00:52:36.209Z"
   },
   {
    "duration": 59,
    "start_time": "2022-01-10T00:52:36.222Z"
   },
   {
    "duration": 28,
    "start_time": "2022-01-10T00:52:36.284Z"
   },
   {
    "duration": 230,
    "start_time": "2022-01-10T00:52:36.314Z"
   },
   {
    "duration": 13,
    "start_time": "2022-01-10T00:52:36.562Z"
   },
   {
    "duration": 116,
    "start_time": "2022-01-10T00:52:36.578Z"
   },
   {
    "duration": 7,
    "start_time": "2022-01-10T00:52:36.696Z"
   },
   {
    "duration": 4622,
    "start_time": "2022-01-10T00:52:36.706Z"
   },
   {
    "duration": 1190,
    "start_time": "2022-01-10T00:52:41.331Z"
   },
   {
    "duration": 44,
    "start_time": "2022-01-10T00:52:42.524Z"
   },
   {
    "duration": 11,
    "start_time": "2022-01-10T00:52:42.571Z"
   },
   {
    "duration": 26,
    "start_time": "2022-01-10T00:55:08.859Z"
   },
   {
    "duration": 9,
    "start_time": "2022-01-10T00:55:13.348Z"
   },
   {
    "duration": 25,
    "start_time": "2022-01-10T00:56:12.135Z"
   },
   {
    "duration": 9,
    "start_time": "2022-01-10T00:56:29.572Z"
   },
   {
    "duration": 28,
    "start_time": "2022-01-10T00:56:54.475Z"
   },
   {
    "duration": 251,
    "start_time": "2022-01-10T00:57:21.687Z"
   },
   {
    "duration": 25,
    "start_time": "2022-01-10T00:57:26.675Z"
   },
   {
    "duration": 11,
    "start_time": "2022-01-10T00:57:30.251Z"
   },
   {
    "duration": 23,
    "start_time": "2022-01-10T00:58:02.420Z"
   },
   {
    "duration": 10,
    "start_time": "2022-01-10T00:58:07.338Z"
   },
   {
    "duration": 24,
    "start_time": "2022-01-10T00:58:24.907Z"
   },
   {
    "duration": 11,
    "start_time": "2022-01-10T00:58:28.196Z"
   },
   {
    "duration": 27,
    "start_time": "2022-01-10T00:58:35.609Z"
   },
   {
    "duration": 22,
    "start_time": "2022-01-10T00:58:36.989Z"
   },
   {
    "duration": 25,
    "start_time": "2022-01-10T01:00:30.472Z"
   },
   {
    "duration": 27,
    "start_time": "2022-01-10T01:00:36.005Z"
   },
   {
    "duration": 11,
    "start_time": "2022-01-10T01:00:36.911Z"
   },
   {
    "duration": 6,
    "start_time": "2022-01-10T01:01:42.452Z"
   },
   {
    "duration": 6,
    "start_time": "2022-01-10T01:02:23.284Z"
   },
   {
    "duration": 264,
    "start_time": "2022-01-10T01:04:38.624Z"
   },
   {
    "duration": 13,
    "start_time": "2022-01-10T01:04:59.075Z"
   },
   {
    "duration": 13,
    "start_time": "2022-01-10T01:05:37.454Z"
   },
   {
    "duration": 290,
    "start_time": "2022-01-10T01:17:48.597Z"
   },
   {
    "duration": 28,
    "start_time": "2022-01-10T01:17:59.144Z"
   },
   {
    "duration": 10,
    "start_time": "2022-01-10T01:18:10.633Z"
   },
   {
    "duration": 12,
    "start_time": "2022-01-10T01:18:25.839Z"
   },
   {
    "duration": 27,
    "start_time": "2022-01-10T01:18:45.849Z"
   },
   {
    "duration": 11,
    "start_time": "2022-01-10T01:18:46.670Z"
   },
   {
    "duration": 1638,
    "start_time": "2022-01-10T01:22:31.318Z"
   },
   {
    "duration": 101,
    "start_time": "2022-01-10T01:22:37.898Z"
   },
   {
    "duration": 29,
    "start_time": "2022-01-10T01:22:38.001Z"
   },
   {
    "duration": 30,
    "start_time": "2022-01-10T01:22:38.033Z"
   },
   {
    "duration": 9,
    "start_time": "2022-01-10T01:22:38.066Z"
   },
   {
    "duration": 9,
    "start_time": "2022-01-10T01:22:38.077Z"
   },
   {
    "duration": 9,
    "start_time": "2022-01-10T01:22:38.088Z"
   },
   {
    "duration": 45,
    "start_time": "2022-01-10T01:22:38.117Z"
   },
   {
    "duration": 9,
    "start_time": "2022-01-10T01:22:38.165Z"
   },
   {
    "duration": 8,
    "start_time": "2022-01-10T01:22:38.177Z"
   },
   {
    "duration": 45097,
    "start_time": "2022-01-10T01:22:38.187Z"
   },
   {
    "duration": 11,
    "start_time": "2022-01-10T01:23:23.286Z"
   },
   {
    "duration": 63,
    "start_time": "2022-01-10T01:23:23.302Z"
   },
   {
    "duration": 36,
    "start_time": "2022-01-10T01:23:23.368Z"
   },
   {
    "duration": 13,
    "start_time": "2022-01-10T01:23:23.408Z"
   },
   {
    "duration": 64,
    "start_time": "2022-01-10T01:23:23.424Z"
   },
   {
    "duration": 31,
    "start_time": "2022-01-10T01:23:23.491Z"
   },
   {
    "duration": 216,
    "start_time": "2022-01-10T01:23:23.526Z"
   },
   {
    "duration": 23,
    "start_time": "2022-01-10T01:23:23.745Z"
   },
   {
    "duration": 102,
    "start_time": "2022-01-10T01:23:23.771Z"
   },
   {
    "duration": 8,
    "start_time": "2022-01-10T01:23:23.875Z"
   },
   {
    "duration": 4538,
    "start_time": "2022-01-10T01:23:23.885Z"
   },
   {
    "duration": 1818,
    "start_time": "2022-01-10T01:23:28.426Z"
   },
   {
    "duration": 33,
    "start_time": "2022-01-10T01:23:30.247Z"
   },
   {
    "duration": 11,
    "start_time": "2022-01-10T01:23:30.282Z"
   },
   {
    "duration": 30,
    "start_time": "2022-01-10T01:23:30.295Z"
   },
   {
    "duration": 38,
    "start_time": "2022-01-10T01:23:30.327Z"
   },
   {
    "duration": 34,
    "start_time": "2022-01-10T01:23:30.367Z"
   },
   {
    "duration": 13,
    "start_time": "2022-01-10T01:23:30.404Z"
   },
   {
    "duration": 1665,
    "start_time": "2022-01-10T01:25:05.799Z"
   },
   {
    "duration": 25,
    "start_time": "2022-01-10T01:25:07.588Z"
   },
   {
    "duration": 20,
    "start_time": "2022-01-10T01:25:07.907Z"
   },
   {
    "duration": 26,
    "start_time": "2022-01-10T01:25:08.709Z"
   },
   {
    "duration": 13,
    "start_time": "2022-01-10T01:25:08.785Z"
   },
   {
    "duration": 26,
    "start_time": "2022-01-10T01:25:10.122Z"
   },
   {
    "duration": 13,
    "start_time": "2022-01-10T01:25:10.316Z"
   },
   {
    "duration": 28,
    "start_time": "2022-01-10T01:31:36.266Z"
   },
   {
    "duration": 12,
    "start_time": "2022-01-10T01:31:36.475Z"
   },
   {
    "duration": 28,
    "start_time": "2022-01-10T01:35:37.747Z"
   },
   {
    "duration": 12,
    "start_time": "2022-01-10T01:35:52.239Z"
   },
   {
    "duration": 28,
    "start_time": "2022-01-10T01:38:57.200Z"
   },
   {
    "duration": 13,
    "start_time": "2022-01-10T01:38:58.869Z"
   },
   {
    "duration": 28,
    "start_time": "2022-01-10T01:52:13.980Z"
   },
   {
    "duration": 12,
    "start_time": "2022-01-10T01:52:38.365Z"
   },
   {
    "duration": 105,
    "start_time": "2022-01-10T01:54:14.206Z"
   },
   {
    "duration": 32,
    "start_time": "2022-01-10T01:54:14.313Z"
   },
   {
    "duration": 26,
    "start_time": "2022-01-10T01:54:14.348Z"
   },
   {
    "duration": 11,
    "start_time": "2022-01-10T01:54:14.377Z"
   },
   {
    "duration": 10,
    "start_time": "2022-01-10T01:54:15.661Z"
   },
   {
    "duration": 11,
    "start_time": "2022-01-10T01:54:15.674Z"
   },
   {
    "duration": 20,
    "start_time": "2022-01-10T01:54:15.688Z"
   },
   {
    "duration": 10,
    "start_time": "2022-01-10T01:54:15.710Z"
   },
   {
    "duration": 45,
    "start_time": "2022-01-10T01:54:15.723Z"
   },
   {
    "duration": 44703,
    "start_time": "2022-01-10T01:54:15.772Z"
   },
   {
    "duration": 8,
    "start_time": "2022-01-10T01:55:00.478Z"
   },
   {
    "duration": 40,
    "start_time": "2022-01-10T01:55:00.489Z"
   },
   {
    "duration": 58,
    "start_time": "2022-01-10T01:55:00.532Z"
   },
   {
    "duration": 10,
    "start_time": "2022-01-10T01:55:00.593Z"
   },
   {
    "duration": 29,
    "start_time": "2022-01-10T01:55:00.607Z"
   },
   {
    "duration": 31,
    "start_time": "2022-01-10T01:55:00.664Z"
   },
   {
    "duration": 214,
    "start_time": "2022-01-10T01:55:00.697Z"
   },
   {
    "duration": 10,
    "start_time": "2022-01-10T01:55:00.913Z"
   },
   {
    "duration": 111,
    "start_time": "2022-01-10T01:55:00.925Z"
   },
   {
    "duration": 7,
    "start_time": "2022-01-10T01:55:01.038Z"
   },
   {
    "duration": 4528,
    "start_time": "2022-01-10T01:55:01.047Z"
   },
   {
    "duration": 1746,
    "start_time": "2022-01-10T01:55:05.577Z"
   },
   {
    "duration": 39,
    "start_time": "2022-01-10T01:55:07.325Z"
   },
   {
    "duration": 12,
    "start_time": "2022-01-10T01:55:07.367Z"
   },
   {
    "duration": 29,
    "start_time": "2022-01-10T01:55:07.381Z"
   },
   {
    "duration": 12,
    "start_time": "2022-01-10T01:55:07.412Z"
   },
   {
    "duration": 63,
    "start_time": "2022-01-10T01:55:07.426Z"
   },
   {
    "duration": 12,
    "start_time": "2022-01-10T01:55:07.491Z"
   },
   {
    "duration": 26,
    "start_time": "2022-01-10T01:55:07.506Z"
   },
   {
    "duration": 36,
    "start_time": "2022-01-10T01:55:07.537Z"
   },
   {
    "duration": 4741,
    "start_time": "2022-01-10T03:01:33.658Z"
   },
   {
    "duration": 1127,
    "start_time": "2022-01-11T12:48:42.343Z"
   },
   {
    "duration": 32,
    "start_time": "2022-01-11T12:48:43.473Z"
   },
   {
    "duration": 18,
    "start_time": "2022-01-11T12:48:43.508Z"
   },
   {
    "duration": 34,
    "start_time": "2022-01-11T12:48:43.528Z"
   },
   {
    "duration": 12,
    "start_time": "2022-01-11T12:48:43.566Z"
   },
   {
    "duration": 11,
    "start_time": "2022-01-11T12:48:43.582Z"
   },
   {
    "duration": 19,
    "start_time": "2022-01-11T12:48:43.596Z"
   },
   {
    "duration": 47,
    "start_time": "2022-01-11T12:48:43.617Z"
   },
   {
    "duration": 13,
    "start_time": "2022-01-11T12:48:43.671Z"
   },
   {
    "duration": 56446,
    "start_time": "2022-01-11T12:48:43.687Z"
   },
   {
    "duration": 24,
    "start_time": "2022-01-11T12:49:40.136Z"
   },
   {
    "duration": 56,
    "start_time": "2022-01-11T12:49:40.163Z"
   },
   {
    "duration": 63,
    "start_time": "2022-01-11T12:49:40.222Z"
   },
   {
    "duration": 9,
    "start_time": "2022-01-11T12:49:40.288Z"
   },
   {
    "duration": 31,
    "start_time": "2022-01-11T12:49:40.300Z"
   },
   {
    "duration": 61,
    "start_time": "2022-01-11T12:49:40.333Z"
   },
   {
    "duration": 243,
    "start_time": "2022-01-11T12:49:40.397Z"
   },
   {
    "duration": 24,
    "start_time": "2022-01-11T12:49:40.643Z"
   },
   {
    "duration": 111,
    "start_time": "2022-01-11T12:49:40.671Z"
   },
   {
    "duration": 8,
    "start_time": "2022-01-11T12:49:40.785Z"
   },
   {
    "duration": 5992,
    "start_time": "2022-01-11T12:49:40.795Z"
   },
   {
    "duration": 2044,
    "start_time": "2022-01-11T12:49:46.792Z"
   },
   {
    "duration": 55,
    "start_time": "2022-01-11T12:49:48.838Z"
   },
   {
    "duration": 11,
    "start_time": "2022-01-11T12:49:48.895Z"
   },
   {
    "duration": 27,
    "start_time": "2022-01-11T12:49:48.908Z"
   },
   {
    "duration": 33,
    "start_time": "2022-01-11T12:49:48.938Z"
   },
   {
    "duration": 29,
    "start_time": "2022-01-11T12:49:48.977Z"
   },
   {
    "duration": 11,
    "start_time": "2022-01-11T12:49:49.009Z"
   },
   {
    "duration": 65,
    "start_time": "2022-01-11T12:49:49.023Z"
   },
   {
    "duration": 18,
    "start_time": "2022-01-11T12:49:49.091Z"
   },
   {
    "duration": 149,
    "start_time": "2022-01-11T18:22:30.558Z"
   },
   {
    "duration": 699,
    "start_time": "2022-01-11T18:29:03.859Z"
   },
   {
    "duration": 851,
    "start_time": "2022-01-11T18:29:15.600Z"
   },
   {
    "duration": 29,
    "start_time": "2022-01-11T18:29:16.454Z"
   },
   {
    "duration": 14,
    "start_time": "2022-01-11T18:29:16.486Z"
   },
   {
    "duration": 7,
    "start_time": "2022-01-11T18:29:16.503Z"
   },
   {
    "duration": 9,
    "start_time": "2022-01-11T18:29:16.512Z"
   },
   {
    "duration": 9,
    "start_time": "2022-01-11T18:29:16.564Z"
   },
   {
    "duration": 10,
    "start_time": "2022-01-11T18:29:16.576Z"
   },
   {
    "duration": 19,
    "start_time": "2022-01-11T18:29:16.590Z"
   },
   {
    "duration": 54,
    "start_time": "2022-01-11T18:29:16.612Z"
   },
   {
    "duration": 7,
    "start_time": "2022-01-11T18:29:16.668Z"
   },
   {
    "duration": 47326,
    "start_time": "2022-01-11T18:29:16.678Z"
   },
   {
    "duration": 8,
    "start_time": "2022-01-11T18:30:04.007Z"
   },
   {
    "duration": 53,
    "start_time": "2022-01-11T18:30:04.018Z"
   },
   {
    "duration": 35,
    "start_time": "2022-01-11T18:30:04.074Z"
   },
   {
    "duration": 10,
    "start_time": "2022-01-11T18:30:04.111Z"
   },
   {
    "duration": 66,
    "start_time": "2022-01-11T18:30:04.123Z"
   },
   {
    "duration": 42,
    "start_time": "2022-01-11T18:30:04.192Z"
   },
   {
    "duration": 291,
    "start_time": "2022-01-11T18:30:04.237Z"
   },
   {
    "duration": 9,
    "start_time": "2022-01-11T18:30:04.531Z"
   },
   {
    "duration": 102,
    "start_time": "2022-01-11T18:30:04.542Z"
   },
   {
    "duration": 20,
    "start_time": "2022-01-11T18:30:04.646Z"
   },
   {
    "duration": 4459,
    "start_time": "2022-01-11T18:30:04.669Z"
   },
   {
    "duration": 2010,
    "start_time": "2022-01-11T18:30:09.133Z"
   },
   {
    "duration": 50,
    "start_time": "2022-01-11T18:30:11.146Z"
   },
   {
    "duration": 13,
    "start_time": "2022-01-11T18:30:11.198Z"
   },
   {
    "duration": 50,
    "start_time": "2022-01-11T18:30:11.214Z"
   },
   {
    "duration": 14,
    "start_time": "2022-01-11T18:30:11.267Z"
   },
   {
    "duration": 28,
    "start_time": "2022-01-11T18:30:11.284Z"
   },
   {
    "duration": 48,
    "start_time": "2022-01-11T18:30:11.315Z"
   },
   {
    "duration": 29,
    "start_time": "2022-01-11T18:30:11.365Z"
   },
   {
    "duration": 20,
    "start_time": "2022-01-11T18:30:11.397Z"
   },
   {
    "duration": 7,
    "start_time": "2022-01-11T18:31:13.446Z"
   },
   {
    "duration": 7551,
    "start_time": "2022-01-11T18:33:36.489Z"
   },
   {
    "duration": 1044,
    "start_time": "2022-01-11T18:34:51.219Z"
   },
   {
    "duration": 36,
    "start_time": "2022-01-11T18:34:52.266Z"
   },
   {
    "duration": 13,
    "start_time": "2022-01-11T18:34:52.309Z"
   },
   {
    "duration": 44,
    "start_time": "2022-01-11T18:34:52.325Z"
   },
   {
    "duration": 11,
    "start_time": "2022-01-11T18:34:52.372Z"
   },
   {
    "duration": 175,
    "start_time": "2022-01-11T18:34:52.386Z"
   },
   {
    "duration": 103,
    "start_time": "2022-01-11T18:34:52.462Z"
   },
   {
    "duration": 101,
    "start_time": "2022-01-11T18:34:52.466Z"
   },
   {
    "duration": 97,
    "start_time": "2022-01-11T18:34:52.471Z"
   },
   {
    "duration": 95,
    "start_time": "2022-01-11T18:34:52.475Z"
   },
   {
    "duration": 93,
    "start_time": "2022-01-11T18:34:52.478Z"
   },
   {
    "duration": 92,
    "start_time": "2022-01-11T18:34:52.481Z"
   },
   {
    "duration": 90,
    "start_time": "2022-01-11T18:34:52.485Z"
   },
   {
    "duration": 72,
    "start_time": "2022-01-11T18:34:52.505Z"
   },
   {
    "duration": 70,
    "start_time": "2022-01-11T18:34:52.509Z"
   },
   {
    "duration": 69,
    "start_time": "2022-01-11T18:34:52.511Z"
   },
   {
    "duration": 68,
    "start_time": "2022-01-11T18:34:52.514Z"
   },
   {
    "duration": 66,
    "start_time": "2022-01-11T18:34:52.517Z"
   },
   {
    "duration": 65,
    "start_time": "2022-01-11T18:34:52.520Z"
   },
   {
    "duration": 63,
    "start_time": "2022-01-11T18:34:52.523Z"
   },
   {
    "duration": 60,
    "start_time": "2022-01-11T18:34:52.527Z"
   },
   {
    "duration": 53,
    "start_time": "2022-01-11T18:34:52.536Z"
   },
   {
    "duration": 50,
    "start_time": "2022-01-11T18:34:52.540Z"
   },
   {
    "duration": 49,
    "start_time": "2022-01-11T18:34:52.543Z"
   },
   {
    "duration": 47,
    "start_time": "2022-01-11T18:34:52.546Z"
   },
   {
    "duration": 45,
    "start_time": "2022-01-11T18:34:52.549Z"
   },
   {
    "duration": 43,
    "start_time": "2022-01-11T18:34:52.552Z"
   },
   {
    "duration": 41,
    "start_time": "2022-01-11T18:34:52.555Z"
   },
   {
    "duration": 40,
    "start_time": "2022-01-11T18:34:52.558Z"
   },
   {
    "duration": 27,
    "start_time": "2022-01-11T18:34:52.572Z"
   },
   {
    "duration": 25,
    "start_time": "2022-01-11T18:34:52.576Z"
   },
   {
    "duration": 856,
    "start_time": "2022-01-11T18:37:46.472Z"
   },
   {
    "duration": 43,
    "start_time": "2022-01-11T18:37:47.331Z"
   },
   {
    "duration": 13,
    "start_time": "2022-01-11T18:37:47.378Z"
   },
   {
    "duration": 9,
    "start_time": "2022-01-11T18:37:47.394Z"
   },
   {
    "duration": 8,
    "start_time": "2022-01-11T18:37:47.406Z"
   },
   {
    "duration": 50,
    "start_time": "2022-01-11T18:37:47.416Z"
   },
   {
    "duration": 20,
    "start_time": "2022-01-11T18:37:47.468Z"
   },
   {
    "duration": 9,
    "start_time": "2022-01-11T18:37:47.492Z"
   },
   {
    "duration": 6,
    "start_time": "2022-01-11T18:37:47.504Z"
   },
   {
    "duration": 45841,
    "start_time": "2022-01-11T18:37:47.513Z"
   },
   {
    "duration": 9,
    "start_time": "2022-01-11T18:38:33.357Z"
   },
   {
    "duration": 39,
    "start_time": "2022-01-11T18:38:33.369Z"
   },
   {
    "duration": 55,
    "start_time": "2022-01-11T18:38:33.410Z"
   },
   {
    "duration": 12,
    "start_time": "2022-01-11T18:38:33.467Z"
   },
   {
    "duration": 30,
    "start_time": "2022-01-11T18:38:33.481Z"
   },
   {
    "duration": 66,
    "start_time": "2022-01-11T18:38:33.514Z"
   },
   {
    "duration": 210,
    "start_time": "2022-01-11T18:38:33.583Z"
   },
   {
    "duration": 10,
    "start_time": "2022-01-11T18:38:33.795Z"
   },
   {
    "duration": 102,
    "start_time": "2022-01-11T18:38:33.807Z"
   },
   {
    "duration": 7,
    "start_time": "2022-01-11T18:38:33.912Z"
   },
   {
    "duration": 4516,
    "start_time": "2022-01-11T18:38:33.921Z"
   },
   {
    "duration": 1812,
    "start_time": "2022-01-11T18:38:38.440Z"
   },
   {
    "duration": 41,
    "start_time": "2022-01-11T18:38:40.256Z"
   },
   {
    "duration": 12,
    "start_time": "2022-01-11T18:38:40.300Z"
   },
   {
    "duration": 52,
    "start_time": "2022-01-11T18:38:40.314Z"
   },
   {
    "duration": 12,
    "start_time": "2022-01-11T18:38:40.368Z"
   },
   {
    "duration": 29,
    "start_time": "2022-01-11T18:38:40.382Z"
   },
   {
    "duration": 11,
    "start_time": "2022-01-11T18:38:40.414Z"
   },
   {
    "duration": 59,
    "start_time": "2022-01-11T18:38:40.427Z"
   },
   {
    "duration": 11,
    "start_time": "2022-01-11T18:38:40.489Z"
   },
   {
    "duration": 9,
    "start_time": "2022-01-11T18:59:34.219Z"
   },
   {
    "duration": 7,
    "start_time": "2022-01-11T18:59:46.406Z"
   },
   {
    "duration": 149,
    "start_time": "2022-01-11T19:00:35.066Z"
   },
   {
    "duration": 10,
    "start_time": "2022-01-11T19:06:21.062Z"
   },
   {
    "duration": 6,
    "start_time": "2022-01-11T19:06:30.759Z"
   },
   {
    "duration": 962,
    "start_time": "2022-01-11T19:29:52.839Z"
   },
   {
    "duration": 32,
    "start_time": "2022-01-11T19:29:53.805Z"
   },
   {
    "duration": 15,
    "start_time": "2022-01-11T19:29:53.862Z"
   },
   {
    "duration": 10,
    "start_time": "2022-01-11T19:29:53.880Z"
   },
   {
    "duration": 11,
    "start_time": "2022-01-11T19:29:53.892Z"
   },
   {
    "duration": 60,
    "start_time": "2022-01-11T19:29:53.905Z"
   },
   {
    "duration": 22,
    "start_time": "2022-01-11T19:29:53.967Z"
   },
   {
    "duration": 9,
    "start_time": "2022-01-11T19:29:53.993Z"
   },
   {
    "duration": 7,
    "start_time": "2022-01-11T19:29:54.005Z"
   },
   {
    "duration": 48211,
    "start_time": "2022-01-11T19:29:54.015Z"
   },
   {
    "duration": 12,
    "start_time": "2022-01-11T19:30:42.229Z"
   },
   {
    "duration": 51,
    "start_time": "2022-01-11T19:30:42.244Z"
   },
   {
    "duration": 34,
    "start_time": "2022-01-11T19:30:42.298Z"
   },
   {
    "duration": 35,
    "start_time": "2022-01-11T19:30:42.335Z"
   },
   {
    "duration": 30,
    "start_time": "2022-01-11T19:30:42.372Z"
   },
   {
    "duration": 29,
    "start_time": "2022-01-11T19:30:42.405Z"
   },
   {
    "duration": 204,
    "start_time": "2022-01-11T19:30:42.463Z"
   },
   {
    "duration": 12,
    "start_time": "2022-01-11T19:30:42.670Z"
   },
   {
    "duration": 114,
    "start_time": "2022-01-11T19:30:42.686Z"
   },
   {
    "duration": 6,
    "start_time": "2022-01-11T19:30:42.803Z"
   },
   {
    "duration": 4593,
    "start_time": "2022-01-11T19:30:42.812Z"
   },
   {
    "duration": 1963,
    "start_time": "2022-01-11T19:30:47.409Z"
   },
   {
    "duration": 41,
    "start_time": "2022-01-11T19:30:49.379Z"
   },
   {
    "duration": 12,
    "start_time": "2022-01-11T19:30:49.423Z"
   },
   {
    "duration": 50,
    "start_time": "2022-01-11T19:30:49.438Z"
   },
   {
    "duration": 12,
    "start_time": "2022-01-11T19:30:49.491Z"
   },
   {
    "duration": 63,
    "start_time": "2022-01-11T19:30:49.506Z"
   },
   {
    "duration": 11,
    "start_time": "2022-01-11T19:30:49.572Z"
   },
   {
    "duration": 27,
    "start_time": "2022-01-11T19:30:49.585Z"
   },
   {
    "duration": 50,
    "start_time": "2022-01-11T19:30:49.614Z"
   },
   {
    "duration": 382,
    "start_time": "2022-01-11T23:33:51.996Z"
   },
   {
    "duration": 957,
    "start_time": "2022-01-11T23:33:56.820Z"
   },
   {
    "duration": 28,
    "start_time": "2022-01-11T23:33:57.780Z"
   },
   {
    "duration": 25,
    "start_time": "2022-01-11T23:33:57.812Z"
   },
   {
    "duration": 10,
    "start_time": "2022-01-11T23:33:57.840Z"
   },
   {
    "duration": 9,
    "start_time": "2022-01-11T23:33:57.853Z"
   },
   {
    "duration": 59,
    "start_time": "2022-01-11T23:33:57.865Z"
   },
   {
    "duration": 19,
    "start_time": "2022-01-11T23:33:57.927Z"
   },
   {
    "duration": 9,
    "start_time": "2022-01-11T23:33:57.949Z"
   },
   {
    "duration": 7,
    "start_time": "2022-01-11T23:33:57.961Z"
   },
   {
    "duration": 43822,
    "start_time": "2022-01-11T23:33:57.971Z"
   },
   {
    "duration": 10,
    "start_time": "2022-01-11T23:34:41.795Z"
   },
   {
    "duration": 35,
    "start_time": "2022-01-11T23:34:41.823Z"
   },
   {
    "duration": 33,
    "start_time": "2022-01-11T23:34:41.860Z"
   },
   {
    "duration": 34,
    "start_time": "2022-01-11T23:34:41.896Z"
   },
   {
    "duration": 31,
    "start_time": "2022-01-11T23:34:41.933Z"
   },
   {
    "duration": 58,
    "start_time": "2022-01-11T23:34:41.966Z"
   },
   {
    "duration": 189,
    "start_time": "2022-01-11T23:34:42.027Z"
   },
   {
    "duration": 15,
    "start_time": "2022-01-11T23:34:42.218Z"
   },
   {
    "duration": 103,
    "start_time": "2022-01-11T23:34:42.235Z"
   },
   {
    "duration": 9,
    "start_time": "2022-01-11T23:34:42.341Z"
   },
   {
    "duration": 4755,
    "start_time": "2022-01-11T23:34:42.352Z"
   },
   {
    "duration": 1730,
    "start_time": "2022-01-11T23:34:47.110Z"
   },
   {
    "duration": 34,
    "start_time": "2022-01-11T23:34:48.844Z"
   },
   {
    "duration": 11,
    "start_time": "2022-01-11T23:34:48.881Z"
   },
   {
    "duration": 49,
    "start_time": "2022-01-11T23:34:48.895Z"
   },
   {
    "duration": 11,
    "start_time": "2022-01-11T23:34:48.947Z"
   },
   {
    "duration": 27,
    "start_time": "2022-01-11T23:34:48.961Z"
   },
   {
    "duration": 39,
    "start_time": "2022-01-11T23:34:48.990Z"
   },
   {
    "duration": 27,
    "start_time": "2022-01-11T23:34:49.031Z"
   },
   {
    "duration": 11,
    "start_time": "2022-01-11T23:34:49.060Z"
   },
   {
    "duration": 20,
    "start_time": "2022-01-11T23:38:47.365Z"
   },
   {
    "duration": 20,
    "start_time": "2022-01-11T23:39:10.949Z"
   },
   {
    "duration": 9297,
    "start_time": "2022-01-11T23:41:46.890Z"
   },
   {
    "duration": 97,
    "start_time": "2022-01-11T23:46:52.113Z"
   },
   {
    "duration": 31,
    "start_time": "2022-01-11T23:46:52.223Z"
   },
   {
    "duration": 13,
    "start_time": "2022-01-11T23:46:52.257Z"
   },
   {
    "duration": 10,
    "start_time": "2022-01-11T23:46:52.273Z"
   },
   {
    "duration": 45,
    "start_time": "2022-01-11T23:46:52.285Z"
   },
   {
    "duration": 9,
    "start_time": "2022-01-11T23:46:52.333Z"
   },
   {
    "duration": 20,
    "start_time": "2022-01-11T23:46:52.344Z"
   },
   {
    "duration": 9,
    "start_time": "2022-01-11T23:46:52.366Z"
   },
   {
    "duration": 49,
    "start_time": "2022-01-11T23:46:52.379Z"
   },
   {
    "duration": 9,
    "start_time": "2022-01-11T23:46:52.431Z"
   },
   {
    "duration": 35,
    "start_time": "2022-01-11T23:46:52.442Z"
   },
   {
    "duration": 77,
    "start_time": "2022-01-11T23:46:52.479Z"
   },
   {
    "duration": 323,
    "start_time": "2022-01-11T23:46:52.558Z"
   },
   {
    "duration": 261,
    "start_time": "2022-01-11T23:46:52.623Z"
   },
   {
    "duration": 255,
    "start_time": "2022-01-11T23:46:52.631Z"
   },
   {
    "duration": 249,
    "start_time": "2022-01-11T23:46:52.638Z"
   },
   {
    "duration": 244,
    "start_time": "2022-01-11T23:46:52.645Z"
   },
   {
    "duration": 236,
    "start_time": "2022-01-11T23:46:52.655Z"
   },
   {
    "duration": 231,
    "start_time": "2022-01-11T23:46:52.661Z"
   },
   {
    "duration": 226,
    "start_time": "2022-01-11T23:46:52.668Z"
   },
   {
    "duration": 221,
    "start_time": "2022-01-11T23:46:52.674Z"
   },
   {
    "duration": 214,
    "start_time": "2022-01-11T23:46:52.683Z"
   },
   {
    "duration": 207,
    "start_time": "2022-01-11T23:46:52.691Z"
   },
   {
    "duration": 203,
    "start_time": "2022-01-11T23:46:52.697Z"
   },
   {
    "duration": 199,
    "start_time": "2022-01-11T23:46:52.703Z"
   },
   {
    "duration": 193,
    "start_time": "2022-01-11T23:46:52.710Z"
   },
   {
    "duration": 188,
    "start_time": "2022-01-11T23:46:52.717Z"
   },
   {
    "duration": 169,
    "start_time": "2022-01-11T23:46:52.738Z"
   },
   {
    "duration": 154,
    "start_time": "2022-01-11T23:46:52.754Z"
   },
   {
    "duration": 12,
    "start_time": "2022-01-11T23:50:33.413Z"
   },
   {
    "duration": 16,
    "start_time": "2022-01-11T23:52:39.922Z"
   },
   {
    "duration": 8,
    "start_time": "2022-01-11T23:52:51.481Z"
   },
   {
    "duration": 36,
    "start_time": "2022-01-11T23:53:04.352Z"
   },
   {
    "duration": 105,
    "start_time": "2022-01-11T23:56:05.889Z"
   },
   {
    "duration": 40,
    "start_time": "2022-01-11T23:56:05.997Z"
   },
   {
    "duration": 12,
    "start_time": "2022-01-11T23:56:06.040Z"
   },
   {
    "duration": 11,
    "start_time": "2022-01-11T23:56:06.055Z"
   },
   {
    "duration": 8,
    "start_time": "2022-01-11T23:56:06.070Z"
   },
   {
    "duration": 48,
    "start_time": "2022-01-11T23:56:06.081Z"
   },
   {
    "duration": 19,
    "start_time": "2022-01-11T23:56:06.132Z"
   },
   {
    "duration": 9,
    "start_time": "2022-01-11T23:56:06.154Z"
   },
   {
    "duration": 17,
    "start_time": "2022-01-11T23:56:06.166Z"
   },
   {
    "duration": 45,
    "start_time": "2022-01-11T23:56:06.186Z"
   },
   {
    "duration": 49,
    "start_time": "2022-01-11T23:56:06.234Z"
   },
   {
    "duration": 73,
    "start_time": "2022-01-11T23:56:06.286Z"
   },
   {
    "duration": 12,
    "start_time": "2022-01-11T23:56:06.361Z"
   },
   {
    "duration": 63,
    "start_time": "2022-01-11T23:56:06.375Z"
   },
   {
    "duration": 48,
    "start_time": "2022-01-11T23:56:06.440Z"
   },
   {
    "duration": 273,
    "start_time": "2022-01-11T23:56:06.492Z"
   },
   {
    "duration": 12,
    "start_time": "2022-01-11T23:56:06.768Z"
   },
   {
    "duration": 119,
    "start_time": "2022-01-11T23:56:06.785Z"
   },
   {
    "duration": 20,
    "start_time": "2022-01-11T23:56:06.907Z"
   },
   {
    "duration": 5363,
    "start_time": "2022-01-11T23:56:06.930Z"
   },
   {
    "duration": 1659,
    "start_time": "2022-01-11T23:56:12.295Z"
   },
   {
    "duration": 29,
    "start_time": "2022-01-11T23:56:13.956Z"
   },
   {
    "duration": 12,
    "start_time": "2022-01-11T23:56:13.987Z"
   },
   {
    "duration": 35,
    "start_time": "2022-01-11T23:56:14.023Z"
   },
   {
    "duration": 16,
    "start_time": "2022-01-11T23:56:14.061Z"
   },
   {
    "duration": 57,
    "start_time": "2022-01-11T23:56:14.080Z"
   },
   {
    "duration": 12,
    "start_time": "2022-01-11T23:56:14.139Z"
   },
   {
    "duration": 32,
    "start_time": "2022-01-11T23:56:14.153Z"
   },
   {
    "duration": 36,
    "start_time": "2022-01-11T23:56:14.188Z"
   },
   {
    "duration": 15,
    "start_time": "2022-01-12T00:00:05.365Z"
   },
   {
    "duration": 17,
    "start_time": "2022-01-12T00:00:10.385Z"
   },
   {
    "duration": 149,
    "start_time": "2022-01-12T00:02:18.271Z"
   },
   {
    "duration": 143,
    "start_time": "2022-01-12T00:02:32.277Z"
   },
   {
    "duration": 141,
    "start_time": "2022-01-12T00:02:49.400Z"
   },
   {
    "duration": 140,
    "start_time": "2022-01-12T00:03:45.458Z"
   },
   {
    "duration": 8,
    "start_time": "2022-01-12T00:06:19.152Z"
   },
   {
    "duration": 126,
    "start_time": "2022-01-12T00:09:12.870Z"
   },
   {
    "duration": 96,
    "start_time": "2022-01-12T00:09:16.840Z"
   },
   {
    "duration": 29,
    "start_time": "2022-01-12T00:09:16.939Z"
   },
   {
    "duration": 18,
    "start_time": "2022-01-12T00:09:16.971Z"
   },
   {
    "duration": 37,
    "start_time": "2022-01-12T00:09:16.992Z"
   },
   {
    "duration": 10,
    "start_time": "2022-01-12T00:09:17.031Z"
   },
   {
    "duration": 15,
    "start_time": "2022-01-12T00:09:17.043Z"
   },
   {
    "duration": 19,
    "start_time": "2022-01-12T00:09:17.060Z"
   },
   {
    "duration": 47,
    "start_time": "2022-01-12T00:09:17.082Z"
   },
   {
    "duration": 16,
    "start_time": "2022-01-12T00:09:17.133Z"
   },
   {
    "duration": 8,
    "start_time": "2022-01-12T00:09:17.152Z"
   },
   {
    "duration": 21,
    "start_time": "2022-01-12T00:09:17.163Z"
   },
   {
    "duration": 51,
    "start_time": "2022-01-12T00:09:17.186Z"
   },
   {
    "duration": 9,
    "start_time": "2022-01-12T00:09:17.239Z"
   },
   {
    "duration": 30,
    "start_time": "2022-01-12T00:09:17.250Z"
   },
   {
    "duration": 63,
    "start_time": "2022-01-12T00:09:17.282Z"
   },
   {
    "duration": 210,
    "start_time": "2022-01-12T00:09:17.347Z"
   },
   {
    "duration": 9,
    "start_time": "2022-01-12T00:09:17.560Z"
   },
   {
    "duration": 112,
    "start_time": "2022-01-12T00:09:17.571Z"
   },
   {
    "duration": 6,
    "start_time": "2022-01-12T00:09:17.685Z"
   },
   {
    "duration": 4639,
    "start_time": "2022-01-12T00:09:17.694Z"
   },
   {
    "duration": 1784,
    "start_time": "2022-01-12T00:09:22.336Z"
   },
   {
    "duration": 32,
    "start_time": "2022-01-12T00:09:24.124Z"
   },
   {
    "duration": 10,
    "start_time": "2022-01-12T00:09:24.159Z"
   },
   {
    "duration": 56,
    "start_time": "2022-01-12T00:09:24.171Z"
   },
   {
    "duration": 12,
    "start_time": "2022-01-12T00:09:24.229Z"
   },
   {
    "duration": 28,
    "start_time": "2022-01-12T00:09:24.243Z"
   },
   {
    "duration": 11,
    "start_time": "2022-01-12T00:09:24.275Z"
   },
   {
    "duration": 56,
    "start_time": "2022-01-12T00:09:24.288Z"
   },
   {
    "duration": 11,
    "start_time": "2022-01-12T00:09:24.347Z"
   },
   {
    "duration": 22,
    "start_time": "2022-01-12T00:22:15.380Z"
   },
   {
    "duration": 14,
    "start_time": "2022-01-12T00:25:18.469Z"
   },
   {
    "duration": 587,
    "start_time": "2022-01-12T00:25:59.095Z"
   },
   {
    "duration": 622,
    "start_time": "2022-01-12T00:26:19.425Z"
   },
   {
    "duration": 28,
    "start_time": "2022-01-12T00:29:09.412Z"
   },
   {
    "duration": 13,
    "start_time": "2022-01-12T00:29:11.453Z"
   },
   {
    "duration": 109,
    "start_time": "2022-01-12T00:31:09.652Z"
   },
   {
    "duration": 124,
    "start_time": "2022-01-12T00:31:36.147Z"
   },
   {
    "duration": 53,
    "start_time": "2022-01-12T00:31:36.274Z"
   },
   {
    "duration": 15,
    "start_time": "2022-01-12T00:31:36.330Z"
   },
   {
    "duration": 10,
    "start_time": "2022-01-12T00:31:36.349Z"
   },
   {
    "duration": 8,
    "start_time": "2022-01-12T00:31:36.362Z"
   },
   {
    "duration": 60,
    "start_time": "2022-01-12T00:31:36.372Z"
   },
   {
    "duration": 18,
    "start_time": "2022-01-12T00:31:36.434Z"
   },
   {
    "duration": 8,
    "start_time": "2022-01-12T00:31:36.454Z"
   },
   {
    "duration": 15,
    "start_time": "2022-01-12T00:31:36.466Z"
   },
   {
    "duration": 43,
    "start_time": "2022-01-12T00:31:36.484Z"
   },
   {
    "duration": 22,
    "start_time": "2022-01-12T00:31:36.530Z"
   },
   {
    "duration": 21,
    "start_time": "2022-01-12T00:31:36.554Z"
   },
   {
    "duration": 11,
    "start_time": "2022-01-12T00:31:36.577Z"
   },
   {
    "duration": 58,
    "start_time": "2022-01-12T00:31:36.591Z"
   },
   {
    "duration": 30,
    "start_time": "2022-01-12T00:31:36.651Z"
   },
   {
    "duration": 227,
    "start_time": "2022-01-12T00:31:36.684Z"
   },
   {
    "duration": 9,
    "start_time": "2022-01-12T00:31:36.923Z"
   },
   {
    "duration": 102,
    "start_time": "2022-01-12T00:31:36.935Z"
   },
   {
    "duration": 6,
    "start_time": "2022-01-12T00:31:37.040Z"
   },
   {
    "duration": 4591,
    "start_time": "2022-01-12T00:31:37.049Z"
   },
   {
    "duration": 714,
    "start_time": "2022-01-12T00:31:41.643Z"
   },
   {
    "duration": 606,
    "start_time": "2022-01-12T00:31:42.360Z"
   },
   {
    "duration": 29,
    "start_time": "2022-01-12T00:31:42.968Z"
   },
   {
    "duration": 28,
    "start_time": "2022-01-12T00:31:43.000Z"
   },
   {
    "duration": 30,
    "start_time": "2022-01-12T00:31:43.031Z"
   },
   {
    "duration": 13,
    "start_time": "2022-01-12T00:31:43.064Z"
   },
   {
    "duration": 60,
    "start_time": "2022-01-12T00:31:43.084Z"
   },
   {
    "duration": 13,
    "start_time": "2022-01-12T00:31:43.147Z"
   },
   {
    "duration": 27,
    "start_time": "2022-01-12T00:31:43.162Z"
   },
   {
    "duration": 43,
    "start_time": "2022-01-12T00:31:43.192Z"
   },
   {
    "duration": 129,
    "start_time": "2022-01-12T01:12:01.362Z"
   },
   {
    "duration": 48,
    "start_time": "2022-01-12T01:12:01.494Z"
   },
   {
    "duration": 12,
    "start_time": "2022-01-12T01:12:01.545Z"
   },
   {
    "duration": 12,
    "start_time": "2022-01-12T01:12:01.560Z"
   },
   {
    "duration": 8,
    "start_time": "2022-01-12T01:12:01.575Z"
   },
   {
    "duration": 44,
    "start_time": "2022-01-12T01:12:01.585Z"
   },
   {
    "duration": 19,
    "start_time": "2022-01-12T01:12:01.632Z"
   },
   {
    "duration": 9,
    "start_time": "2022-01-12T01:12:01.653Z"
   },
   {
    "duration": 15,
    "start_time": "2022-01-12T01:12:01.666Z"
   },
   {
    "duration": 43,
    "start_time": "2022-01-12T01:12:01.683Z"
   },
   {
    "duration": 21,
    "start_time": "2022-01-12T01:12:01.729Z"
   },
   {
    "duration": 19,
    "start_time": "2022-01-12T01:12:01.753Z"
   },
   {
    "duration": 49,
    "start_time": "2022-01-12T01:12:01.774Z"
   },
   {
    "duration": 29,
    "start_time": "2022-01-12T01:12:01.825Z"
   },
   {
    "duration": 31,
    "start_time": "2022-01-12T01:12:01.857Z"
   },
   {
    "duration": 236,
    "start_time": "2022-01-12T01:12:01.891Z"
   },
   {
    "duration": 10,
    "start_time": "2022-01-12T01:12:02.129Z"
   },
   {
    "duration": 102,
    "start_time": "2022-01-12T01:12:02.141Z"
   },
   {
    "duration": 8,
    "start_time": "2022-01-12T01:12:02.245Z"
   },
   {
    "duration": 4799,
    "start_time": "2022-01-12T01:12:02.255Z"
   },
   {
    "duration": 713,
    "start_time": "2022-01-12T01:12:07.056Z"
   },
   {
    "duration": 617,
    "start_time": "2022-01-12T01:12:07.772Z"
   },
   {
    "duration": 39,
    "start_time": "2022-01-12T01:12:08.393Z"
   },
   {
    "duration": 11,
    "start_time": "2022-01-12T01:12:08.435Z"
   },
   {
    "duration": 27,
    "start_time": "2022-01-12T01:12:08.449Z"
   },
   {
    "duration": 11,
    "start_time": "2022-01-12T01:12:08.478Z"
   },
   {
    "duration": 55,
    "start_time": "2022-01-12T01:12:08.492Z"
   },
   {
    "duration": 12,
    "start_time": "2022-01-12T01:12:08.550Z"
   },
   {
    "duration": 29,
    "start_time": "2022-01-12T01:12:08.564Z"
   },
   {
    "duration": 37,
    "start_time": "2022-01-12T01:12:08.596Z"
   },
   {
    "duration": 130,
    "start_time": "2022-01-12T01:54:35.978Z"
   },
   {
    "duration": 29,
    "start_time": "2022-01-12T01:54:36.123Z"
   },
   {
    "duration": 15,
    "start_time": "2022-01-12T01:54:36.156Z"
   },
   {
    "duration": 16,
    "start_time": "2022-01-12T01:54:36.174Z"
   },
   {
    "duration": 40,
    "start_time": "2022-01-12T01:54:36.193Z"
   },
   {
    "duration": 17,
    "start_time": "2022-01-12T01:54:36.236Z"
   },
   {
    "duration": 19,
    "start_time": "2022-01-12T01:54:36.255Z"
   },
   {
    "duration": 9,
    "start_time": "2022-01-12T01:54:36.276Z"
   },
   {
    "duration": 17,
    "start_time": "2022-01-12T01:54:36.324Z"
   },
   {
    "duration": 8,
    "start_time": "2022-01-12T01:54:36.344Z"
   },
   {
    "duration": 18,
    "start_time": "2022-01-12T01:54:36.354Z"
   },
   {
    "duration": 53,
    "start_time": "2022-01-12T01:54:36.375Z"
   },
   {
    "duration": 9,
    "start_time": "2022-01-12T01:54:36.431Z"
   },
   {
    "duration": 29,
    "start_time": "2022-01-12T01:54:36.443Z"
   },
   {
    "duration": 65,
    "start_time": "2022-01-12T01:54:36.474Z"
   },
   {
    "duration": 207,
    "start_time": "2022-01-12T01:54:36.542Z"
   },
   {
    "duration": 9,
    "start_time": "2022-01-12T01:54:36.751Z"
   },
   {
    "duration": 96,
    "start_time": "2022-01-12T01:54:36.763Z"
   },
   {
    "duration": 7,
    "start_time": "2022-01-12T01:54:36.862Z"
   },
   {
    "duration": 4415,
    "start_time": "2022-01-12T01:54:36.874Z"
   },
   {
    "duration": 691,
    "start_time": "2022-01-12T01:54:41.292Z"
   },
   {
    "duration": 594,
    "start_time": "2022-01-12T01:54:41.986Z"
   },
   {
    "duration": 41,
    "start_time": "2022-01-12T01:54:42.582Z"
   },
   {
    "duration": 11,
    "start_time": "2022-01-12T01:54:42.625Z"
   },
   {
    "duration": 27,
    "start_time": "2022-01-12T01:54:42.638Z"
   },
   {
    "duration": 11,
    "start_time": "2022-01-12T01:54:42.667Z"
   },
   {
    "duration": 61,
    "start_time": "2022-01-12T01:54:42.681Z"
   },
   {
    "duration": 11,
    "start_time": "2022-01-12T01:54:42.744Z"
   },
   {
    "duration": 26,
    "start_time": "2022-01-12T01:54:42.757Z"
   },
   {
    "duration": 40,
    "start_time": "2022-01-12T01:54:42.785Z"
   },
   {
    "duration": 122,
    "start_time": "2022-01-12T02:02:07.417Z"
   },
   {
    "duration": 31,
    "start_time": "2022-01-12T02:02:07.543Z"
   },
   {
    "duration": 47,
    "start_time": "2022-01-12T02:02:07.578Z"
   },
   {
    "duration": 11,
    "start_time": "2022-01-12T02:02:07.628Z"
   },
   {
    "duration": 10,
    "start_time": "2022-01-12T02:02:07.642Z"
   },
   {
    "duration": 11,
    "start_time": "2022-01-12T02:02:07.655Z"
   },
   {
    "duration": 66,
    "start_time": "2022-01-12T02:02:07.669Z"
   },
   {
    "duration": 11,
    "start_time": "2022-01-12T02:02:07.738Z"
   },
   {
    "duration": 17,
    "start_time": "2022-01-12T02:02:07.754Z"
   },
   {
    "duration": 7,
    "start_time": "2022-01-12T02:02:07.774Z"
   },
   {
    "duration": 19,
    "start_time": "2022-01-12T02:02:07.824Z"
   },
   {
    "duration": 20,
    "start_time": "2022-01-12T02:02:07.846Z"
   },
   {
    "duration": 9,
    "start_time": "2022-01-12T02:02:07.868Z"
   },
   {
    "duration": 66,
    "start_time": "2022-01-12T02:02:07.880Z"
   },
   {
    "duration": 32,
    "start_time": "2022-01-12T02:02:07.948Z"
   },
   {
    "duration": 228,
    "start_time": "2022-01-12T02:02:07.983Z"
   },
   {
    "duration": 18,
    "start_time": "2022-01-12T02:02:08.213Z"
   },
   {
    "duration": 108,
    "start_time": "2022-01-12T02:02:08.233Z"
   },
   {
    "duration": 7,
    "start_time": "2022-01-12T02:02:08.343Z"
   },
   {
    "duration": 4759,
    "start_time": "2022-01-12T02:02:08.352Z"
   },
   {
    "duration": 754,
    "start_time": "2022-01-12T02:02:13.125Z"
   },
   {
    "duration": 756,
    "start_time": "2022-01-12T02:02:13.881Z"
   },
   {
    "duration": 26,
    "start_time": "2022-01-12T02:02:14.639Z"
   },
   {
    "duration": 10,
    "start_time": "2022-01-12T02:02:14.668Z"
   },
   {
    "duration": 50,
    "start_time": "2022-01-12T02:02:14.680Z"
   },
   {
    "duration": 12,
    "start_time": "2022-01-12T02:02:14.732Z"
   },
   {
    "duration": 25,
    "start_time": "2022-01-12T02:02:14.746Z"
   },
   {
    "duration": 11,
    "start_time": "2022-01-12T02:02:14.773Z"
   },
   {
    "duration": 58,
    "start_time": "2022-01-12T02:02:14.787Z"
   },
   {
    "duration": 12,
    "start_time": "2022-01-12T02:02:14.848Z"
   },
   {
    "duration": 126,
    "start_time": "2022-01-12T02:03:17.049Z"
   },
   {
    "duration": 46,
    "start_time": "2022-01-12T02:03:17.178Z"
   },
   {
    "duration": 15,
    "start_time": "2022-01-12T02:03:17.227Z"
   },
   {
    "duration": 8,
    "start_time": "2022-01-12T02:03:17.245Z"
   },
   {
    "duration": 8,
    "start_time": "2022-01-12T02:03:17.256Z"
   },
   {
    "duration": 8,
    "start_time": "2022-01-12T02:03:17.266Z"
   },
   {
    "duration": 56,
    "start_time": "2022-01-12T02:03:17.277Z"
   },
   {
    "duration": 9,
    "start_time": "2022-01-12T02:03:17.335Z"
   },
   {
    "duration": 16,
    "start_time": "2022-01-12T02:03:17.348Z"
   },
   {
    "duration": 8,
    "start_time": "2022-01-12T02:03:17.366Z"
   },
   {
    "duration": 60,
    "start_time": "2022-01-12T02:03:17.376Z"
   },
   {
    "duration": 28,
    "start_time": "2022-01-12T02:03:17.438Z"
   },
   {
    "duration": 9,
    "start_time": "2022-01-12T02:03:17.469Z"
   },
   {
    "duration": 58,
    "start_time": "2022-01-12T02:03:17.480Z"
   },
   {
    "duration": 29,
    "start_time": "2022-01-12T02:03:17.541Z"
   },
   {
    "duration": 209,
    "start_time": "2022-01-12T02:03:17.572Z"
   },
   {
    "duration": 9,
    "start_time": "2022-01-12T02:03:17.784Z"
   },
   {
    "duration": 98,
    "start_time": "2022-01-12T02:03:17.796Z"
   },
   {
    "duration": 7,
    "start_time": "2022-01-12T02:03:17.896Z"
   },
   {
    "duration": 4559,
    "start_time": "2022-01-12T02:03:17.905Z"
   },
   {
    "duration": 688,
    "start_time": "2022-01-12T02:03:22.466Z"
   },
   {
    "duration": 651,
    "start_time": "2022-01-12T02:03:23.157Z"
   },
   {
    "duration": 36,
    "start_time": "2022-01-12T02:03:23.810Z"
   },
   {
    "duration": 11,
    "start_time": "2022-01-12T02:03:23.848Z"
   },
   {
    "duration": 26,
    "start_time": "2022-01-12T02:03:23.861Z"
   },
   {
    "duration": 35,
    "start_time": "2022-01-12T02:03:23.890Z"
   },
   {
    "duration": 26,
    "start_time": "2022-01-12T02:03:23.928Z"
   },
   {
    "duration": 11,
    "start_time": "2022-01-12T02:03:23.956Z"
   },
   {
    "duration": 59,
    "start_time": "2022-01-12T02:03:23.969Z"
   },
   {
    "duration": 11,
    "start_time": "2022-01-12T02:03:24.030Z"
   },
   {
    "duration": 1104,
    "start_time": "2022-01-12T19:06:06.970Z"
   },
   {
    "duration": 45,
    "start_time": "2022-01-12T19:06:08.078Z"
   },
   {
    "duration": 15,
    "start_time": "2022-01-12T19:06:08.127Z"
   },
   {
    "duration": 8,
    "start_time": "2022-01-12T19:06:08.145Z"
   },
   {
    "duration": 47,
    "start_time": "2022-01-12T19:06:08.155Z"
   },
   {
    "duration": 10,
    "start_time": "2022-01-12T19:06:08.204Z"
   },
   {
    "duration": 20,
    "start_time": "2022-01-12T19:06:08.216Z"
   },
   {
    "duration": 9,
    "start_time": "2022-01-12T19:06:08.240Z"
   },
   {
    "duration": 58,
    "start_time": "2022-01-12T19:06:08.252Z"
   },
   {
    "duration": 8,
    "start_time": "2022-01-12T19:06:08.312Z"
   },
   {
    "duration": 33,
    "start_time": "2022-01-12T19:06:08.323Z"
   },
   {
    "duration": 29,
    "start_time": "2022-01-12T19:06:08.358Z"
   },
   {
    "duration": 21,
    "start_time": "2022-01-12T19:06:08.389Z"
   },
   {
    "duration": 42,
    "start_time": "2022-01-12T19:06:08.412Z"
   },
   {
    "duration": 51,
    "start_time": "2022-01-12T19:06:08.456Z"
   },
   {
    "duration": 229,
    "start_time": "2022-01-12T19:06:08.509Z"
   },
   {
    "duration": 10,
    "start_time": "2022-01-12T19:06:08.740Z"
   },
   {
    "duration": 111,
    "start_time": "2022-01-12T19:06:08.752Z"
   },
   {
    "duration": 7,
    "start_time": "2022-01-12T19:06:08.866Z"
   },
   {
    "duration": 4586,
    "start_time": "2022-01-12T19:06:08.876Z"
   },
   {
    "duration": 823,
    "start_time": "2022-01-12T19:06:13.465Z"
   },
   {
    "duration": 684,
    "start_time": "2022-01-12T19:06:14.291Z"
   },
   {
    "duration": 50,
    "start_time": "2022-01-12T19:06:14.980Z"
   },
   {
    "duration": 14,
    "start_time": "2022-01-12T19:06:15.032Z"
   },
   {
    "duration": 28,
    "start_time": "2022-01-12T19:06:15.048Z"
   },
   {
    "duration": 12,
    "start_time": "2022-01-12T19:06:15.101Z"
   },
   {
    "duration": 27,
    "start_time": "2022-01-12T19:06:15.116Z"
   },
   {
    "duration": 12,
    "start_time": "2022-01-12T19:06:15.146Z"
   },
   {
    "duration": 59,
    "start_time": "2022-01-12T19:06:15.161Z"
   },
   {
    "duration": 12,
    "start_time": "2022-01-12T19:06:15.222Z"
   },
   {
    "duration": 874,
    "start_time": "2022-01-12T19:48:12.120Z"
   },
   {
    "duration": 32,
    "start_time": "2022-01-12T19:48:12.997Z"
   },
   {
    "duration": 17,
    "start_time": "2022-01-12T19:48:13.032Z"
   },
   {
    "duration": 10,
    "start_time": "2022-01-12T19:48:13.052Z"
   },
   {
    "duration": 44,
    "start_time": "2022-01-12T19:48:13.065Z"
   },
   {
    "duration": 12,
    "start_time": "2022-01-12T19:48:13.112Z"
   },
   {
    "duration": 23,
    "start_time": "2022-01-12T19:48:13.126Z"
   },
   {
    "duration": 54,
    "start_time": "2022-01-12T19:48:13.154Z"
   },
   {
    "duration": 19,
    "start_time": "2022-01-12T19:48:13.211Z"
   },
   {
    "duration": 8,
    "start_time": "2022-01-12T19:48:13.232Z"
   },
   {
    "duration": 62,
    "start_time": "2022-01-12T19:48:13.243Z"
   },
   {
    "duration": 29,
    "start_time": "2022-01-12T19:48:13.308Z"
   },
   {
    "duration": 10,
    "start_time": "2022-01-12T19:48:13.339Z"
   },
   {
    "duration": 63,
    "start_time": "2022-01-12T19:48:13.352Z"
   },
   {
    "duration": 33,
    "start_time": "2022-01-12T19:48:13.418Z"
   },
   {
    "duration": 250,
    "start_time": "2022-01-12T19:48:13.453Z"
   },
   {
    "duration": 12,
    "start_time": "2022-01-12T19:48:13.706Z"
   },
   {
    "duration": 123,
    "start_time": "2022-01-12T19:48:13.720Z"
   },
   {
    "duration": 10,
    "start_time": "2022-01-12T19:48:13.846Z"
   },
   {
    "duration": 4962,
    "start_time": "2022-01-12T19:48:13.859Z"
   },
   {
    "duration": 876,
    "start_time": "2022-01-12T19:48:18.824Z"
   },
   {
    "duration": 674,
    "start_time": "2022-01-12T19:48:19.703Z"
   },
   {
    "duration": 45,
    "start_time": "2022-01-12T19:48:20.382Z"
   },
   {
    "duration": 12,
    "start_time": "2022-01-12T19:48:20.429Z"
   },
   {
    "duration": 29,
    "start_time": "2022-01-12T19:48:20.444Z"
   },
   {
    "duration": 36,
    "start_time": "2022-01-12T19:48:20.476Z"
   },
   {
    "duration": 28,
    "start_time": "2022-01-12T19:48:20.515Z"
   },
   {
    "duration": 12,
    "start_time": "2022-01-12T19:48:20.546Z"
   },
   {
    "duration": 63,
    "start_time": "2022-01-12T19:48:20.560Z"
   },
   {
    "duration": 13,
    "start_time": "2022-01-12T19:48:20.626Z"
   },
   {
    "duration": 99,
    "start_time": "2022-01-12T19:54:32.030Z"
   },
   {
    "duration": 933,
    "start_time": "2022-01-12T20:26:47.869Z"
   },
   {
    "duration": 32,
    "start_time": "2022-01-12T20:26:48.804Z"
   },
   {
    "duration": 17,
    "start_time": "2022-01-12T20:26:48.839Z"
   },
   {
    "duration": 10,
    "start_time": "2022-01-12T20:26:48.858Z"
   },
   {
    "duration": 38,
    "start_time": "2022-01-12T20:26:48.870Z"
   },
   {
    "duration": 10,
    "start_time": "2022-01-12T20:26:48.911Z"
   },
   {
    "duration": 20,
    "start_time": "2022-01-12T20:26:48.923Z"
   },
   {
    "duration": 10,
    "start_time": "2022-01-12T20:26:48.947Z"
   },
   {
    "duration": 58,
    "start_time": "2022-01-12T20:26:48.959Z"
   },
   {
    "duration": 9,
    "start_time": "2022-01-12T20:26:49.019Z"
   },
   {
    "duration": 21,
    "start_time": "2022-01-12T20:26:49.030Z"
   },
   {
    "duration": 58,
    "start_time": "2022-01-12T20:26:49.053Z"
   },
   {
    "duration": 11,
    "start_time": "2022-01-12T20:26:49.113Z"
   },
   {
    "duration": 32,
    "start_time": "2022-01-12T20:26:49.127Z"
   },
   {
    "duration": 61,
    "start_time": "2022-01-12T20:26:49.161Z"
   },
   {
    "duration": 233,
    "start_time": "2022-01-12T20:26:49.225Z"
   },
   {
    "duration": 9,
    "start_time": "2022-01-12T20:26:49.461Z"
   },
   {
    "duration": 112,
    "start_time": "2022-01-12T20:26:49.473Z"
   },
   {
    "duration": 16,
    "start_time": "2022-01-12T20:26:49.587Z"
   },
   {
    "duration": 4836,
    "start_time": "2022-01-12T20:26:49.606Z"
   },
   {
    "duration": 761,
    "start_time": "2022-01-12T20:26:54.445Z"
   },
   {
    "duration": 798,
    "start_time": "2022-01-12T20:26:55.208Z"
   },
   {
    "duration": 35,
    "start_time": "2022-01-12T20:26:56.012Z"
   },
   {
    "duration": 11,
    "start_time": "2022-01-12T20:26:56.050Z"
   },
   {
    "duration": 57,
    "start_time": "2022-01-12T20:26:56.064Z"
   },
   {
    "duration": 13,
    "start_time": "2022-01-12T20:26:56.123Z"
   },
   {
    "duration": 28,
    "start_time": "2022-01-12T20:26:56.138Z"
   },
   {
    "duration": 15,
    "start_time": "2022-01-12T20:26:56.201Z"
   },
   {
    "duration": 27,
    "start_time": "2022-01-12T20:26:56.219Z"
   },
   {
    "duration": 11,
    "start_time": "2022-01-12T20:26:56.249Z"
   }
  ],
  "kernelspec": {
   "display_name": "Python 3",
   "language": "python",
   "name": "python3"
  },
  "language_info": {
   "codemirror_mode": {
    "name": "ipython",
    "version": 3
   },
   "file_extension": ".py",
   "mimetype": "text/x-python",
   "name": "python",
   "nbconvert_exporter": "python",
   "pygments_lexer": "ipython3",
   "version": "3.8.8"
  },
  "toc": {
   "base_numbering": 1,
   "nav_menu": {},
   "number_sections": true,
   "sideBar": true,
   "skip_h1_title": true,
   "title_cell": "Table of Contents",
   "title_sidebar": "Contents",
   "toc_cell": false,
   "toc_position": {},
   "toc_section_display": true,
   "toc_window_display": true
  },
  "vscode": {
   "interpreter": {
    "hash": "aee8b7b246df8f9039afb4144a1f6fd8d2ca17a180786b69acc140d282b71a49"
   }
  }
 },
 "nbformat": 4,
 "nbformat_minor": 2
}
