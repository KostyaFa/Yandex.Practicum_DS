{
  "cells": [
    {
      "cell_type": "markdown",
      "metadata": {
        "id": "jYtOCksKZkjz"
      },
      "source": [
        "# Определение стоимости автомобилей"
      ]
    },
    {
      "cell_type": "markdown",
      "metadata": {
        "id": "Vk9vrMe6Zkj1"
      },
      "source": [
        "Сервис по продаже автомобилей с пробегом «Не бит, не крашен» разрабатывает приложение для привлечения новых клиентов. В нём можно быстро узнать рыночную стоимость своего автомобиля. В вашем распоряжении исторические данные: технические характеристики, комплектации и цены автомобилей. Вам нужно построить модель для определения стоимости. \n",
        "\n",
        "Заказчику важны:\n",
        "\n",
        "- качество предсказания;\n",
        "- скорость предсказания;\n",
        "- время обучения."
      ]
    },
    {
      "cell_type": "markdown",
      "metadata": {
        "id": "_t31LnK3Zkj1"
      },
      "source": [
        "# Описание данных"
      ]
    },
    {
      "cell_type": "markdown",
      "metadata": {
        "id": "NV44p8nxZkj1"
      },
      "source": [
        "**Признаки**\n",
        "\n",
        "- *DateCrawled* — дата скачивания анкеты из базы\n",
        "- *VehicleType* — тип автомобильного кузова\n",
        "- *RegistrationYear* — год регистрации автомобиля\n",
        "- *Gearbox* — тип коробки передач\n",
        "- *Power* — мощность (л. с.)\n",
        "- *Model* — модель автомобиля\n",
        "- *Kilometer* — пробег (км)\n",
        "- *RegistrationMonth* — месяц регистрации автомобиля\n",
        "- *FuelType* — тип топлива\n",
        "- *Brand* — марка автомобиля\n",
        "- *NotRepaired* — была машина в ремонте или нет\n",
        "- *DateCreated* — дата создания анкеты\n",
        "- *NumberOfPictures* — количество фотографий автомобиля\n",
        "- *PostalCode* — почтовый индекс владельца анкеты (пользователя)\n",
        "- *LastSeen* — дата последней активности пользователя\n",
        "\n",
        "**Целевой признак**\n",
        "- *Price* — цена (евро)"
      ]
    },
    {
      "cell_type": "markdown",
      "metadata": {
        "id": "jXrgCJ4KZkj2",
        "toc": true
      },
      "source": [
        "<h1>Содержание<span class=\"tocSkip\"></span></h1>\n",
        "<div class=\"toc\"><ul class=\"toc-item\"><li><span><a href=\"#Подготовка-данных\" data-toc-modified-id=\"Подготовка-данных-1\"><span class=\"toc-item-num\">1&nbsp;&nbsp;</span>Подготовка данных</a></span></li><li><span><a href=\"#Обучение-моделей\" data-toc-modified-id=\"Обучение-моделей-2\"><span class=\"toc-item-num\">2&nbsp;&nbsp;</span>Обучение моделей</a></span></li><li><span><a href=\"#Анализ-моделей\" data-toc-modified-id=\"Анализ-моделей-3\"><span class=\"toc-item-num\">3&nbsp;&nbsp;</span>Анализ моделей</a></span></li></ul></div>"
      ]
    },
    {
      "cell_type": "markdown",
      "metadata": {
        "id": "j8em8V45Zkj2"
      },
      "source": [
        "## Подготовка данных"
      ]
    },
    {
      "cell_type": "code",
      "execution_count": 22,
      "metadata": {
        "id": "YXyCtjNLZkj2"
      },
      "outputs": [],
      "source": [
        "# выгрузим необходимые библиотеки\n",
        "\n",
        "import pandas as pd\n",
        "\n",
        "import numpy as np\n",
        "\n",
        "from sklearn.preprocessing import OrdinalEncoder, StandardScaler\n",
        "\n",
        "from sklearn.model_selection import train_test_split, GridSearchCV\n",
        "\n",
        "from sklearn.tree import DecisionTreeRegressor\n",
        "\n",
        "from sklearn.ensemble import RandomForestRegressor\n",
        "\n",
        "from sklearn.linear_model import LinearRegression\n",
        "\n",
        "import lightgbm as lgb\n",
        "\n",
        "from sklearn.metrics import mean_squared_error\n",
        "\n",
        "import time\n",
        "\n",
        "from sklearn.dummy import DummyRegressor"
      ]
    },
    {
      "cell_type": "code",
      "execution_count": 23,
      "metadata": {
        "id": "rjunE1edZkj4"
      },
      "outputs": [],
      "source": [
        "# прочитаем данные \n",
        "\n",
        "def data_reading(path):\n",
        "    data = pd.read_csv(path)\n",
        "    print(f'Информация о данных: \\n')\n",
        "    data.info()\n",
        "    print(f'\\nКоличество дубликатов: {data.duplicated().sum()} \\n')\n",
        "    print(f'\\nДоля дубликатов: {data.duplicated().mean()}\\n')\n",
        "    print(f'\\nКоличество пропусков:\\n\\\n",
        "{data.isna().sum()} \\n')\n",
        "    print(f'\\nДоля пропусков:\\n\\\n",
        "{data.isna().mean()} \\n')\n",
        "    print(f'Первые 5 строк датасета: \\n')\n",
        "    display(data.head(5))\n",
        "    return data"
      ]
    },
    {
      "cell_type": "code",
      "execution_count": 24,
      "metadata": {
        "colab": {
          "base_uri": "https://localhost:8080/",
          "height": 1000
        },
        "id": "l7wR5SEeZkj4",
        "outputId": "bf2d2037-3e4c-440c-abc8-8707953e0fc9"
      },
      "outputs": [
        {
          "name": "stdout",
          "output_type": "stream",
          "text": [
            "Информация о данных: \n",
            "\n",
            "<class 'pandas.core.frame.DataFrame'>\n",
            "RangeIndex: 268039 entries, 0 to 268038\n",
            "Data columns (total 16 columns):\n",
            " #   Column             Non-Null Count   Dtype  \n",
            "---  ------             --------------   -----  \n",
            " 0   DateCrawled        268039 non-null  object \n",
            " 1   Price              268039 non-null  int64  \n",
            " 2   VehicleType        239657 non-null  object \n",
            " 3   RegistrationYear   268039 non-null  int64  \n",
            " 4   Gearbox            253074 non-null  object \n",
            " 5   Power              268038 non-null  float64\n",
            " 6   Model              253033 non-null  object \n",
            " 7   Kilometer          268038 non-null  float64\n",
            " 8   RegistrationMonth  268038 non-null  float64\n",
            " 9   FuelType           243102 non-null  object \n",
            " 10  Brand              268038 non-null  object \n",
            " 11  Repaired           214170 non-null  object \n",
            " 12  DateCreated        268038 non-null  object \n",
            " 13  NumberOfPictures   268038 non-null  float64\n",
            " 14  PostalCode         268038 non-null  float64\n",
            " 15  LastSeen           268038 non-null  object \n",
            "dtypes: float64(5), int64(2), object(9)\n",
            "memory usage: 32.7+ MB\n",
            "\n",
            "Количество дубликатов: 3 \n",
            "\n",
            "\n",
            "Доля дубликатов: 1.1192401105809229e-05\n",
            "\n",
            "\n",
            "Количество пропусков:\n",
            "DateCrawled              0\n",
            "Price                    0\n",
            "VehicleType          28382\n",
            "RegistrationYear         0\n",
            "Gearbox              14965\n",
            "Power                    1\n",
            "Model                15006\n",
            "Kilometer                1\n",
            "RegistrationMonth        1\n",
            "FuelType             24937\n",
            "Brand                    1\n",
            "Repaired             53869\n",
            "DateCreated              1\n",
            "NumberOfPictures         1\n",
            "PostalCode               1\n",
            "LastSeen                 1\n",
            "dtype: int64 \n",
            "\n",
            "\n",
            "Доля пропусков:\n",
            "DateCrawled          0.000000\n",
            "Price                0.000000\n",
            "VehicleType          0.105888\n",
            "RegistrationYear     0.000000\n",
            "Gearbox              0.055831\n",
            "Power                0.000004\n",
            "Model                0.055984\n",
            "Kilometer            0.000004\n",
            "RegistrationMonth    0.000004\n",
            "FuelType             0.093035\n",
            "Brand                0.000004\n",
            "Repaired             0.200974\n",
            "DateCreated          0.000004\n",
            "NumberOfPictures     0.000004\n",
            "PostalCode           0.000004\n",
            "LastSeen             0.000004\n",
            "dtype: float64 \n",
            "\n",
            "Первые 5 строк датасета: \n",
            "\n"
          ]
        },
        {
          "data": {
            "text/html": [
              "\n",
              "  <div id=\"df-d7e237d1-99a2-4810-937b-c975fa7110fa\">\n",
              "    <div class=\"colab-df-container\">\n",
              "      <div>\n",
              "<style scoped>\n",
              "    .dataframe tbody tr th:only-of-type {\n",
              "        vertical-align: middle;\n",
              "    }\n",
              "\n",
              "    .dataframe tbody tr th {\n",
              "        vertical-align: top;\n",
              "    }\n",
              "\n",
              "    .dataframe thead th {\n",
              "        text-align: right;\n",
              "    }\n",
              "</style>\n",
              "<table border=\"1\" class=\"dataframe\">\n",
              "  <thead>\n",
              "    <tr style=\"text-align: right;\">\n",
              "      <th></th>\n",
              "      <th>DateCrawled</th>\n",
              "      <th>Price</th>\n",
              "      <th>VehicleType</th>\n",
              "      <th>RegistrationYear</th>\n",
              "      <th>Gearbox</th>\n",
              "      <th>Power</th>\n",
              "      <th>Model</th>\n",
              "      <th>Kilometer</th>\n",
              "      <th>RegistrationMonth</th>\n",
              "      <th>FuelType</th>\n",
              "      <th>Brand</th>\n",
              "      <th>Repaired</th>\n",
              "      <th>DateCreated</th>\n",
              "      <th>NumberOfPictures</th>\n",
              "      <th>PostalCode</th>\n",
              "      <th>LastSeen</th>\n",
              "    </tr>\n",
              "  </thead>\n",
              "  <tbody>\n",
              "    <tr>\n",
              "      <th>0</th>\n",
              "      <td>2016-03-24 11:52:17</td>\n",
              "      <td>480</td>\n",
              "      <td>NaN</td>\n",
              "      <td>1993</td>\n",
              "      <td>manual</td>\n",
              "      <td>0.0</td>\n",
              "      <td>golf</td>\n",
              "      <td>150000.0</td>\n",
              "      <td>0.0</td>\n",
              "      <td>petrol</td>\n",
              "      <td>volkswagen</td>\n",
              "      <td>NaN</td>\n",
              "      <td>2016-03-24 00:00:00</td>\n",
              "      <td>0.0</td>\n",
              "      <td>70435.0</td>\n",
              "      <td>2016-04-07 03:16:57</td>\n",
              "    </tr>\n",
              "    <tr>\n",
              "      <th>1</th>\n",
              "      <td>2016-03-24 10:58:45</td>\n",
              "      <td>18300</td>\n",
              "      <td>coupe</td>\n",
              "      <td>2011</td>\n",
              "      <td>manual</td>\n",
              "      <td>190.0</td>\n",
              "      <td>NaN</td>\n",
              "      <td>125000.0</td>\n",
              "      <td>5.0</td>\n",
              "      <td>gasoline</td>\n",
              "      <td>audi</td>\n",
              "      <td>yes</td>\n",
              "      <td>2016-03-24 00:00:00</td>\n",
              "      <td>0.0</td>\n",
              "      <td>66954.0</td>\n",
              "      <td>2016-04-07 01:46:50</td>\n",
              "    </tr>\n",
              "    <tr>\n",
              "      <th>2</th>\n",
              "      <td>2016-03-14 12:52:21</td>\n",
              "      <td>9800</td>\n",
              "      <td>suv</td>\n",
              "      <td>2004</td>\n",
              "      <td>auto</td>\n",
              "      <td>163.0</td>\n",
              "      <td>grand</td>\n",
              "      <td>125000.0</td>\n",
              "      <td>8.0</td>\n",
              "      <td>gasoline</td>\n",
              "      <td>jeep</td>\n",
              "      <td>NaN</td>\n",
              "      <td>2016-03-14 00:00:00</td>\n",
              "      <td>0.0</td>\n",
              "      <td>90480.0</td>\n",
              "      <td>2016-04-05 12:47:46</td>\n",
              "    </tr>\n",
              "    <tr>\n",
              "      <th>3</th>\n",
              "      <td>2016-03-17 16:54:04</td>\n",
              "      <td>1500</td>\n",
              "      <td>small</td>\n",
              "      <td>2001</td>\n",
              "      <td>manual</td>\n",
              "      <td>75.0</td>\n",
              "      <td>golf</td>\n",
              "      <td>150000.0</td>\n",
              "      <td>6.0</td>\n",
              "      <td>petrol</td>\n",
              "      <td>volkswagen</td>\n",
              "      <td>no</td>\n",
              "      <td>2016-03-17 00:00:00</td>\n",
              "      <td>0.0</td>\n",
              "      <td>91074.0</td>\n",
              "      <td>2016-03-17 17:40:17</td>\n",
              "    </tr>\n",
              "    <tr>\n",
              "      <th>4</th>\n",
              "      <td>2016-03-31 17:25:20</td>\n",
              "      <td>3600</td>\n",
              "      <td>small</td>\n",
              "      <td>2008</td>\n",
              "      <td>manual</td>\n",
              "      <td>69.0</td>\n",
              "      <td>fabia</td>\n",
              "      <td>90000.0</td>\n",
              "      <td>7.0</td>\n",
              "      <td>gasoline</td>\n",
              "      <td>skoda</td>\n",
              "      <td>no</td>\n",
              "      <td>2016-03-31 00:00:00</td>\n",
              "      <td>0.0</td>\n",
              "      <td>60437.0</td>\n",
              "      <td>2016-04-06 10:17:21</td>\n",
              "    </tr>\n",
              "  </tbody>\n",
              "</table>\n",
              "</div>\n",
              "      <button class=\"colab-df-convert\" onclick=\"convertToInteractive('df-d7e237d1-99a2-4810-937b-c975fa7110fa')\"\n",
              "              title=\"Convert this dataframe to an interactive table.\"\n",
              "              style=\"display:none;\">\n",
              "        \n",
              "  <svg xmlns=\"http://www.w3.org/2000/svg\" height=\"24px\"viewBox=\"0 0 24 24\"\n",
              "       width=\"24px\">\n",
              "    <path d=\"M0 0h24v24H0V0z\" fill=\"none\"/>\n",
              "    <path d=\"M18.56 5.44l.94 2.06.94-2.06 2.06-.94-2.06-.94-.94-2.06-.94 2.06-2.06.94zm-11 1L8.5 8.5l.94-2.06 2.06-.94-2.06-.94L8.5 2.5l-.94 2.06-2.06.94zm10 10l.94 2.06.94-2.06 2.06-.94-2.06-.94-.94-2.06-.94 2.06-2.06.94z\"/><path d=\"M17.41 7.96l-1.37-1.37c-.4-.4-.92-.59-1.43-.59-.52 0-1.04.2-1.43.59L10.3 9.45l-7.72 7.72c-.78.78-.78 2.05 0 2.83L4 21.41c.39.39.9.59 1.41.59.51 0 1.02-.2 1.41-.59l7.78-7.78 2.81-2.81c.8-.78.8-2.07 0-2.86zM5.41 20L4 18.59l7.72-7.72 1.47 1.35L5.41 20z\"/>\n",
              "  </svg>\n",
              "      </button>\n",
              "      \n",
              "  <style>\n",
              "    .colab-df-container {\n",
              "      display:flex;\n",
              "      flex-wrap:wrap;\n",
              "      gap: 12px;\n",
              "    }\n",
              "\n",
              "    .colab-df-convert {\n",
              "      background-color: #E8F0FE;\n",
              "      border: none;\n",
              "      border-radius: 50%;\n",
              "      cursor: pointer;\n",
              "      display: none;\n",
              "      fill: #1967D2;\n",
              "      height: 32px;\n",
              "      padding: 0 0 0 0;\n",
              "      width: 32px;\n",
              "    }\n",
              "\n",
              "    .colab-df-convert:hover {\n",
              "      background-color: #E2EBFA;\n",
              "      box-shadow: 0px 1px 2px rgba(60, 64, 67, 0.3), 0px 1px 3px 1px rgba(60, 64, 67, 0.15);\n",
              "      fill: #174EA6;\n",
              "    }\n",
              "\n",
              "    [theme=dark] .colab-df-convert {\n",
              "      background-color: #3B4455;\n",
              "      fill: #D2E3FC;\n",
              "    }\n",
              "\n",
              "    [theme=dark] .colab-df-convert:hover {\n",
              "      background-color: #434B5C;\n",
              "      box-shadow: 0px 1px 3px 1px rgba(0, 0, 0, 0.15);\n",
              "      filter: drop-shadow(0px 1px 2px rgba(0, 0, 0, 0.3));\n",
              "      fill: #FFFFFF;\n",
              "    }\n",
              "  </style>\n",
              "\n",
              "      <script>\n",
              "        const buttonEl =\n",
              "          document.querySelector('#df-d7e237d1-99a2-4810-937b-c975fa7110fa button.colab-df-convert');\n",
              "        buttonEl.style.display =\n",
              "          google.colab.kernel.accessAllowed ? 'block' : 'none';\n",
              "\n",
              "        async function convertToInteractive(key) {\n",
              "          const element = document.querySelector('#df-d7e237d1-99a2-4810-937b-c975fa7110fa');\n",
              "          const dataTable =\n",
              "            await google.colab.kernel.invokeFunction('convertToInteractive',\n",
              "                                                     [key], {});\n",
              "          if (!dataTable) return;\n",
              "\n",
              "          const docLinkHtml = 'Like what you see? Visit the ' +\n",
              "            '<a target=\"_blank\" href=https://colab.research.google.com/notebooks/data_table.ipynb>data table notebook</a>'\n",
              "            + ' to learn more about interactive tables.';\n",
              "          element.innerHTML = '';\n",
              "          dataTable['output_type'] = 'display_data';\n",
              "          await google.colab.output.renderOutput(dataTable, element);\n",
              "          const docLink = document.createElement('div');\n",
              "          docLink.innerHTML = docLinkHtml;\n",
              "          element.appendChild(docLink);\n",
              "        }\n",
              "      </script>\n",
              "    </div>\n",
              "  </div>\n",
              "  "
            ],
            "text/plain": [
              "           DateCrawled  Price VehicleType  RegistrationYear Gearbox  Power  \\\n",
              "0  2016-03-24 11:52:17    480         NaN              1993  manual    0.0   \n",
              "1  2016-03-24 10:58:45  18300       coupe              2011  manual  190.0   \n",
              "2  2016-03-14 12:52:21   9800         suv              2004    auto  163.0   \n",
              "3  2016-03-17 16:54:04   1500       small              2001  manual   75.0   \n",
              "4  2016-03-31 17:25:20   3600       small              2008  manual   69.0   \n",
              "\n",
              "   Model  Kilometer  RegistrationMonth  FuelType       Brand Repaired  \\\n",
              "0   golf   150000.0                0.0    petrol  volkswagen      NaN   \n",
              "1    NaN   125000.0                5.0  gasoline        audi      yes   \n",
              "2  grand   125000.0                8.0  gasoline        jeep      NaN   \n",
              "3   golf   150000.0                6.0    petrol  volkswagen       no   \n",
              "4  fabia    90000.0                7.0  gasoline       skoda       no   \n",
              "\n",
              "           DateCreated  NumberOfPictures  PostalCode             LastSeen  \n",
              "0  2016-03-24 00:00:00               0.0     70435.0  2016-04-07 03:16:57  \n",
              "1  2016-03-24 00:00:00               0.0     66954.0  2016-04-07 01:46:50  \n",
              "2  2016-03-14 00:00:00               0.0     90480.0  2016-04-05 12:47:46  \n",
              "3  2016-03-17 00:00:00               0.0     91074.0  2016-03-17 17:40:17  \n",
              "4  2016-03-31 00:00:00               0.0     60437.0  2016-04-06 10:17:21  "
            ]
          },
          "metadata": {},
          "output_type": "display_data"
        }
      ],
      "source": [
        "data = data_reading('/content/autos.csv')"
      ]
    },
    {
      "cell_type": "code",
      "execution_count": 25,
      "metadata": {
        "colab": {
          "base_uri": "https://localhost:8080/",
          "height": 661
        },
        "id": "X3gl5wS5Zkj4",
        "outputId": "ba174ab7-d285-434c-839a-9c32999f5a33"
      },
      "outputs": [
        {
          "data": {
            "text/html": [
              "\n",
              "  <div id=\"df-5cdb859e-4ddc-4cca-bd6f-1f9195b7c65d\">\n",
              "    <div class=\"colab-df-container\">\n",
              "      <div>\n",
              "<style scoped>\n",
              "    .dataframe tbody tr th:only-of-type {\n",
              "        vertical-align: middle;\n",
              "    }\n",
              "\n",
              "    .dataframe tbody tr th {\n",
              "        vertical-align: top;\n",
              "    }\n",
              "\n",
              "    .dataframe thead th {\n",
              "        text-align: right;\n",
              "    }\n",
              "</style>\n",
              "<table border=\"1\" class=\"dataframe\">\n",
              "  <thead>\n",
              "    <tr style=\"text-align: right;\">\n",
              "      <th></th>\n",
              "      <th>date_crawled</th>\n",
              "      <th>price</th>\n",
              "      <th>vehicle_type</th>\n",
              "      <th>registration_year</th>\n",
              "      <th>gearbox</th>\n",
              "      <th>power</th>\n",
              "      <th>model</th>\n",
              "      <th>kilometer</th>\n",
              "      <th>registration_month</th>\n",
              "      <th>fuel_type</th>\n",
              "      <th>brand</th>\n",
              "      <th>not_repaired</th>\n",
              "      <th>date_created</th>\n",
              "      <th>number_of_pictures</th>\n",
              "      <th>postal_code</th>\n",
              "      <th>last_seen</th>\n",
              "    </tr>\n",
              "  </thead>\n",
              "  <tbody>\n",
              "    <tr>\n",
              "      <th>0</th>\n",
              "      <td>2016-03-24 11:52:17</td>\n",
              "      <td>480</td>\n",
              "      <td>NaN</td>\n",
              "      <td>1993</td>\n",
              "      <td>manual</td>\n",
              "      <td>0.0</td>\n",
              "      <td>golf</td>\n",
              "      <td>150000.0</td>\n",
              "      <td>0.0</td>\n",
              "      <td>petrol</td>\n",
              "      <td>volkswagen</td>\n",
              "      <td>NaN</td>\n",
              "      <td>2016-03-24 00:00:00</td>\n",
              "      <td>0.0</td>\n",
              "      <td>70435.0</td>\n",
              "      <td>2016-04-07 03:16:57</td>\n",
              "    </tr>\n",
              "    <tr>\n",
              "      <th>1</th>\n",
              "      <td>2016-03-24 10:58:45</td>\n",
              "      <td>18300</td>\n",
              "      <td>coupe</td>\n",
              "      <td>2011</td>\n",
              "      <td>manual</td>\n",
              "      <td>190.0</td>\n",
              "      <td>NaN</td>\n",
              "      <td>125000.0</td>\n",
              "      <td>5.0</td>\n",
              "      <td>gasoline</td>\n",
              "      <td>audi</td>\n",
              "      <td>yes</td>\n",
              "      <td>2016-03-24 00:00:00</td>\n",
              "      <td>0.0</td>\n",
              "      <td>66954.0</td>\n",
              "      <td>2016-04-07 01:46:50</td>\n",
              "    </tr>\n",
              "    <tr>\n",
              "      <th>2</th>\n",
              "      <td>2016-03-14 12:52:21</td>\n",
              "      <td>9800</td>\n",
              "      <td>suv</td>\n",
              "      <td>2004</td>\n",
              "      <td>auto</td>\n",
              "      <td>163.0</td>\n",
              "      <td>grand</td>\n",
              "      <td>125000.0</td>\n",
              "      <td>8.0</td>\n",
              "      <td>gasoline</td>\n",
              "      <td>jeep</td>\n",
              "      <td>NaN</td>\n",
              "      <td>2016-03-14 00:00:00</td>\n",
              "      <td>0.0</td>\n",
              "      <td>90480.0</td>\n",
              "      <td>2016-04-05 12:47:46</td>\n",
              "    </tr>\n",
              "    <tr>\n",
              "      <th>3</th>\n",
              "      <td>2016-03-17 16:54:04</td>\n",
              "      <td>1500</td>\n",
              "      <td>small</td>\n",
              "      <td>2001</td>\n",
              "      <td>manual</td>\n",
              "      <td>75.0</td>\n",
              "      <td>golf</td>\n",
              "      <td>150000.0</td>\n",
              "      <td>6.0</td>\n",
              "      <td>petrol</td>\n",
              "      <td>volkswagen</td>\n",
              "      <td>no</td>\n",
              "      <td>2016-03-17 00:00:00</td>\n",
              "      <td>0.0</td>\n",
              "      <td>91074.0</td>\n",
              "      <td>2016-03-17 17:40:17</td>\n",
              "    </tr>\n",
              "    <tr>\n",
              "      <th>4</th>\n",
              "      <td>2016-03-31 17:25:20</td>\n",
              "      <td>3600</td>\n",
              "      <td>small</td>\n",
              "      <td>2008</td>\n",
              "      <td>manual</td>\n",
              "      <td>69.0</td>\n",
              "      <td>fabia</td>\n",
              "      <td>90000.0</td>\n",
              "      <td>7.0</td>\n",
              "      <td>gasoline</td>\n",
              "      <td>skoda</td>\n",
              "      <td>no</td>\n",
              "      <td>2016-03-31 00:00:00</td>\n",
              "      <td>0.0</td>\n",
              "      <td>60437.0</td>\n",
              "      <td>2016-04-06 10:17:21</td>\n",
              "    </tr>\n",
              "    <tr>\n",
              "      <th>...</th>\n",
              "      <td>...</td>\n",
              "      <td>...</td>\n",
              "      <td>...</td>\n",
              "      <td>...</td>\n",
              "      <td>...</td>\n",
              "      <td>...</td>\n",
              "      <td>...</td>\n",
              "      <td>...</td>\n",
              "      <td>...</td>\n",
              "      <td>...</td>\n",
              "      <td>...</td>\n",
              "      <td>...</td>\n",
              "      <td>...</td>\n",
              "      <td>...</td>\n",
              "      <td>...</td>\n",
              "      <td>...</td>\n",
              "    </tr>\n",
              "    <tr>\n",
              "      <th>268034</th>\n",
              "      <td>2016-04-01 16:53:37</td>\n",
              "      <td>800</td>\n",
              "      <td>small</td>\n",
              "      <td>1998</td>\n",
              "      <td>auto</td>\n",
              "      <td>60.0</td>\n",
              "      <td>fiesta</td>\n",
              "      <td>125000.0</td>\n",
              "      <td>2.0</td>\n",
              "      <td>petrol</td>\n",
              "      <td>ford</td>\n",
              "      <td>no</td>\n",
              "      <td>2016-04-01 00:00:00</td>\n",
              "      <td>0.0</td>\n",
              "      <td>6712.0</td>\n",
              "      <td>2016-04-01 16:53:37</td>\n",
              "    </tr>\n",
              "    <tr>\n",
              "      <th>268035</th>\n",
              "      <td>2016-03-29 01:55:57</td>\n",
              "      <td>399</td>\n",
              "      <td>wagon</td>\n",
              "      <td>1998</td>\n",
              "      <td>auto</td>\n",
              "      <td>101.0</td>\n",
              "      <td>astra</td>\n",
              "      <td>150000.0</td>\n",
              "      <td>3.0</td>\n",
              "      <td>petrol</td>\n",
              "      <td>opel</td>\n",
              "      <td>yes</td>\n",
              "      <td>2016-03-29 00:00:00</td>\n",
              "      <td>0.0</td>\n",
              "      <td>36304.0</td>\n",
              "      <td>2016-04-05 17:26:08</td>\n",
              "    </tr>\n",
              "    <tr>\n",
              "      <th>268036</th>\n",
              "      <td>2016-03-22 16:36:19</td>\n",
              "      <td>899</td>\n",
              "      <td>small</td>\n",
              "      <td>1994</td>\n",
              "      <td>manual</td>\n",
              "      <td>116.0</td>\n",
              "      <td>golf</td>\n",
              "      <td>150000.0</td>\n",
              "      <td>4.0</td>\n",
              "      <td>petrol</td>\n",
              "      <td>volkswagen</td>\n",
              "      <td>yes</td>\n",
              "      <td>2016-03-22 00:00:00</td>\n",
              "      <td>0.0</td>\n",
              "      <td>72459.0</td>\n",
              "      <td>2016-03-22 17:41:52</td>\n",
              "    </tr>\n",
              "    <tr>\n",
              "      <th>268037</th>\n",
              "      <td>2016-03-09 13:43:05</td>\n",
              "      <td>0</td>\n",
              "      <td>NaN</td>\n",
              "      <td>2016</td>\n",
              "      <td>manual</td>\n",
              "      <td>60.0</td>\n",
              "      <td>ibiza</td>\n",
              "      <td>150000.0</td>\n",
              "      <td>4.0</td>\n",
              "      <td>petrol</td>\n",
              "      <td>seat</td>\n",
              "      <td>no</td>\n",
              "      <td>2016-03-09 00:00:00</td>\n",
              "      <td>0.0</td>\n",
              "      <td>93059.0</td>\n",
              "      <td>2016-03-17 07:45:57</td>\n",
              "    </tr>\n",
              "    <tr>\n",
              "      <th>268038</th>\n",
              "      <td>2016-03-14 11:57:32</td>\n",
              "      <td>4999</td>\n",
              "      <td>sedan</td>\n",
              "      <td>2004</td>\n",
              "      <td>man</td>\n",
              "      <td>NaN</td>\n",
              "      <td>NaN</td>\n",
              "      <td>NaN</td>\n",
              "      <td>NaN</td>\n",
              "      <td>NaN</td>\n",
              "      <td>NaN</td>\n",
              "      <td>NaN</td>\n",
              "      <td>NaN</td>\n",
              "      <td>NaN</td>\n",
              "      <td>NaN</td>\n",
              "      <td>NaN</td>\n",
              "    </tr>\n",
              "  </tbody>\n",
              "</table>\n",
              "<p>268039 rows × 16 columns</p>\n",
              "</div>\n",
              "      <button class=\"colab-df-convert\" onclick=\"convertToInteractive('df-5cdb859e-4ddc-4cca-bd6f-1f9195b7c65d')\"\n",
              "              title=\"Convert this dataframe to an interactive table.\"\n",
              "              style=\"display:none;\">\n",
              "        \n",
              "  <svg xmlns=\"http://www.w3.org/2000/svg\" height=\"24px\"viewBox=\"0 0 24 24\"\n",
              "       width=\"24px\">\n",
              "    <path d=\"M0 0h24v24H0V0z\" fill=\"none\"/>\n",
              "    <path d=\"M18.56 5.44l.94 2.06.94-2.06 2.06-.94-2.06-.94-.94-2.06-.94 2.06-2.06.94zm-11 1L8.5 8.5l.94-2.06 2.06-.94-2.06-.94L8.5 2.5l-.94 2.06-2.06.94zm10 10l.94 2.06.94-2.06 2.06-.94-2.06-.94-.94-2.06-.94 2.06-2.06.94z\"/><path d=\"M17.41 7.96l-1.37-1.37c-.4-.4-.92-.59-1.43-.59-.52 0-1.04.2-1.43.59L10.3 9.45l-7.72 7.72c-.78.78-.78 2.05 0 2.83L4 21.41c.39.39.9.59 1.41.59.51 0 1.02-.2 1.41-.59l7.78-7.78 2.81-2.81c.8-.78.8-2.07 0-2.86zM5.41 20L4 18.59l7.72-7.72 1.47 1.35L5.41 20z\"/>\n",
              "  </svg>\n",
              "      </button>\n",
              "      \n",
              "  <style>\n",
              "    .colab-df-container {\n",
              "      display:flex;\n",
              "      flex-wrap:wrap;\n",
              "      gap: 12px;\n",
              "    }\n",
              "\n",
              "    .colab-df-convert {\n",
              "      background-color: #E8F0FE;\n",
              "      border: none;\n",
              "      border-radius: 50%;\n",
              "      cursor: pointer;\n",
              "      display: none;\n",
              "      fill: #1967D2;\n",
              "      height: 32px;\n",
              "      padding: 0 0 0 0;\n",
              "      width: 32px;\n",
              "    }\n",
              "\n",
              "    .colab-df-convert:hover {\n",
              "      background-color: #E2EBFA;\n",
              "      box-shadow: 0px 1px 2px rgba(60, 64, 67, 0.3), 0px 1px 3px 1px rgba(60, 64, 67, 0.15);\n",
              "      fill: #174EA6;\n",
              "    }\n",
              "\n",
              "    [theme=dark] .colab-df-convert {\n",
              "      background-color: #3B4455;\n",
              "      fill: #D2E3FC;\n",
              "    }\n",
              "\n",
              "    [theme=dark] .colab-df-convert:hover {\n",
              "      background-color: #434B5C;\n",
              "      box-shadow: 0px 1px 3px 1px rgba(0, 0, 0, 0.15);\n",
              "      filter: drop-shadow(0px 1px 2px rgba(0, 0, 0, 0.3));\n",
              "      fill: #FFFFFF;\n",
              "    }\n",
              "  </style>\n",
              "\n",
              "      <script>\n",
              "        const buttonEl =\n",
              "          document.querySelector('#df-5cdb859e-4ddc-4cca-bd6f-1f9195b7c65d button.colab-df-convert');\n",
              "        buttonEl.style.display =\n",
              "          google.colab.kernel.accessAllowed ? 'block' : 'none';\n",
              "\n",
              "        async function convertToInteractive(key) {\n",
              "          const element = document.querySelector('#df-5cdb859e-4ddc-4cca-bd6f-1f9195b7c65d');\n",
              "          const dataTable =\n",
              "            await google.colab.kernel.invokeFunction('convertToInteractive',\n",
              "                                                     [key], {});\n",
              "          if (!dataTable) return;\n",
              "\n",
              "          const docLinkHtml = 'Like what you see? Visit the ' +\n",
              "            '<a target=\"_blank\" href=https://colab.research.google.com/notebooks/data_table.ipynb>data table notebook</a>'\n",
              "            + ' to learn more about interactive tables.';\n",
              "          element.innerHTML = '';\n",
              "          dataTable['output_type'] = 'display_data';\n",
              "          await google.colab.output.renderOutput(dataTable, element);\n",
              "          const docLink = document.createElement('div');\n",
              "          docLink.innerHTML = docLinkHtml;\n",
              "          element.appendChild(docLink);\n",
              "        }\n",
              "      </script>\n",
              "    </div>\n",
              "  </div>\n",
              "  "
            ],
            "text/plain": [
              "               date_crawled  price vehicle_type  registration_year gearbox  \\\n",
              "0       2016-03-24 11:52:17    480          NaN               1993  manual   \n",
              "1       2016-03-24 10:58:45  18300        coupe               2011  manual   \n",
              "2       2016-03-14 12:52:21   9800          suv               2004    auto   \n",
              "3       2016-03-17 16:54:04   1500        small               2001  manual   \n",
              "4       2016-03-31 17:25:20   3600        small               2008  manual   \n",
              "...                     ...    ...          ...                ...     ...   \n",
              "268034  2016-04-01 16:53:37    800        small               1998    auto   \n",
              "268035  2016-03-29 01:55:57    399        wagon               1998    auto   \n",
              "268036  2016-03-22 16:36:19    899        small               1994  manual   \n",
              "268037  2016-03-09 13:43:05      0          NaN               2016  manual   \n",
              "268038  2016-03-14 11:57:32   4999        sedan               2004     man   \n",
              "\n",
              "        power   model  kilometer  registration_month fuel_type       brand  \\\n",
              "0         0.0    golf   150000.0                 0.0    petrol  volkswagen   \n",
              "1       190.0     NaN   125000.0                 5.0  gasoline        audi   \n",
              "2       163.0   grand   125000.0                 8.0  gasoline        jeep   \n",
              "3        75.0    golf   150000.0                 6.0    petrol  volkswagen   \n",
              "4        69.0   fabia    90000.0                 7.0  gasoline       skoda   \n",
              "...       ...     ...        ...                 ...       ...         ...   \n",
              "268034   60.0  fiesta   125000.0                 2.0    petrol        ford   \n",
              "268035  101.0   astra   150000.0                 3.0    petrol        opel   \n",
              "268036  116.0    golf   150000.0                 4.0    petrol  volkswagen   \n",
              "268037   60.0   ibiza   150000.0                 4.0    petrol        seat   \n",
              "268038    NaN     NaN        NaN                 NaN       NaN         NaN   \n",
              "\n",
              "       not_repaired         date_created  number_of_pictures  postal_code  \\\n",
              "0               NaN  2016-03-24 00:00:00                 0.0      70435.0   \n",
              "1               yes  2016-03-24 00:00:00                 0.0      66954.0   \n",
              "2               NaN  2016-03-14 00:00:00                 0.0      90480.0   \n",
              "3                no  2016-03-17 00:00:00                 0.0      91074.0   \n",
              "4                no  2016-03-31 00:00:00                 0.0      60437.0   \n",
              "...             ...                  ...                 ...          ...   \n",
              "268034           no  2016-04-01 00:00:00                 0.0       6712.0   \n",
              "268035          yes  2016-03-29 00:00:00                 0.0      36304.0   \n",
              "268036          yes  2016-03-22 00:00:00                 0.0      72459.0   \n",
              "268037           no  2016-03-09 00:00:00                 0.0      93059.0   \n",
              "268038          NaN                  NaN                 NaN          NaN   \n",
              "\n",
              "                  last_seen  \n",
              "0       2016-04-07 03:16:57  \n",
              "1       2016-04-07 01:46:50  \n",
              "2       2016-04-05 12:47:46  \n",
              "3       2016-03-17 17:40:17  \n",
              "4       2016-04-06 10:17:21  \n",
              "...                     ...  \n",
              "268034  2016-04-01 16:53:37  \n",
              "268035  2016-04-05 17:26:08  \n",
              "268036  2016-03-22 17:41:52  \n",
              "268037  2016-03-17 07:45:57  \n",
              "268038                  NaN  \n",
              "\n",
              "[268039 rows x 16 columns]"
            ]
          },
          "execution_count": 25,
          "metadata": {},
          "output_type": "execute_result"
        }
      ],
      "source": [
        "# приведем названия в соответствии с общепринятыми правилами\n",
        "\n",
        "data.columns = [column.lower() for column in data.columns]\n",
        "data.rename(columns={'datecrawled':'date_crawled',\n",
        "                     'registrationmonth':'registration_month',\n",
        "                     'datecreated':'date_created',\n",
        "                     'numberofpictures':'number_of_pictures',\n",
        "                     'postalcode':'postal_code',\n",
        "                     'lastseen':'last_seen',\n",
        "                     'vehicletype':'vehicle_type', \n",
        "                     'registrationyear': 'registration_year', \n",
        "                     'fueltype':'fuel_type', \n",
        "                     'repaired':'not_repaired'}, inplace=True)\n",
        "\n",
        "data"
      ]
    },
    {
      "cell_type": "code",
      "execution_count": 26,
      "metadata": {
        "id": "0S5aEZNeZkj5"
      },
      "outputs": [],
      "source": [
        "# тип данных столбцов с датами - *object*. Заменим его на стандартный *datetime*\n",
        "\n",
        "for column in ['date_crawled', 'date_created', 'last_seen']:\n",
        "    data[column] = pd.to_datetime(data[column], format='%Y-%m-%d %H:%M:%S')"
      ]
    },
    {
      "cell_type": "markdown",
      "metadata": {
        "id": "R6EUnlXTZkj5"
      },
      "source": [
        "Проанализируем столбцы с пропусками"
      ]
    },
    {
      "cell_type": "code",
      "execution_count": 27,
      "metadata": {
        "colab": {
          "base_uri": "https://localhost:8080/"
        },
        "id": "QCHu8p2tZkj5",
        "outputId": "90f42f7c-6c72-4af5-89e7-9a753ffa3e69"
      },
      "outputs": [
        {
          "name": "stdout",
          "output_type": "stream",
          "text": [
            "[nan 'coupe' 'suv' 'small' 'sedan' 'convertible' 'bus' 'wagon' 'other']\n"
          ]
        }
      ],
      "source": [
        "# vehicle_type\n",
        "\n",
        "print(data['vehicle_type'].unique())\n",
        "\n",
        "# в столбце фигурирует показатель other, которым мы можем заполнить пропуски \n",
        "\n",
        "data['vehicle_type'] = data['vehicle_type'].fillna('other')"
      ]
    },
    {
      "cell_type": "code",
      "execution_count": 28,
      "metadata": {
        "colab": {
          "base_uri": "https://localhost:8080/"
        },
        "id": "SwS7POW5Zkj6",
        "outputId": "f161536d-8021-4f2d-fe5a-e7b1c1b90b08"
      },
      "outputs": [
        {
          "name": "stdout",
          "output_type": "stream",
          "text": [
            "manual    202972\n",
            "auto       50101\n",
            "man            1\n",
            "Name: gearbox, dtype: int64\n"
          ]
        }
      ],
      "source": [
        "# gearbox\n",
        "\n",
        "print(data['gearbox'].value_counts())\n",
        "\n",
        "# преобладают авто с ручной каробкой передач, \n",
        "# однако конкретно определить все пропуски в данную категорию будет неправильно \n",
        "# как и в прошлый раз, заполнним данные значением other\n",
        "\n",
        "data['gearbox'] = data['gearbox'].fillna('other')\n"
      ]
    },
    {
      "cell_type": "code",
      "execution_count": 29,
      "metadata": {
        "colab": {
          "base_uri": "https://localhost:8080/"
        },
        "id": "ZhPVeEaPZkj6",
        "outputId": "d7f652b2-4877-447c-c122-6cf4e3406f27"
      },
      "outputs": [
        {
          "name": "stdout",
          "output_type": "stream",
          "text": [
            "['golf' nan 'grand' 'fabia' '3er' '2_reihe' 'other' 'c_max' '3_reihe'\n",
            " 'passat' 'navara' 'ka' 'polo' 'twingo' 'a_klasse' 'scirocco' '5er'\n",
            " 'meriva' 'arosa' 'c4' 'civic' 'transporter' 'punto' 'e_klasse' 'clio'\n",
            " 'kadett' 'kangoo' 'corsa' 'one' 'fortwo' '1er' 'b_klasse' 'signum'\n",
            " 'astra' 'a8' 'jetta' 'fiesta' 'c_klasse' 'micra' 'vito' 'sprinter' '156'\n",
            " 'escort' 'forester' 'xc_reihe' 'scenic' 'a4' 'a1' 'insignia' 'combo'\n",
            " 'focus' 'tt' 'a6' 'jazz' 'omega' 'slk' '7er' '80' '147' '100' 'z_reihe'\n",
            " 'sportage' 'sorento' 'v40' 'ibiza' 'mustang' 'eos' 'touran' 'getz' 'a3'\n",
            " 'almera' 'megane' 'lupo' 'r19' 'zafira' 'caddy' 'mondeo' 'cordoba' 'colt'\n",
            " 'impreza' 'vectra' 'berlingo' 'tiguan' 'i_reihe' 'espace' 'sharan'\n",
            " '6_reihe' 'panda' 'up' 'seicento' 'ceed' '5_reihe' 'yeti' 'octavia' 'mii'\n",
            " 'rx_reihe' '6er' 'modus' 'fox' 'matiz' 'beetle' 'c1' 'rio' 'touareg'\n",
            " 'logan' 'spider' 'cuore' 's_max' 'a2' 'galaxy' 'c3' 'viano' 's_klasse'\n",
            " '1_reihe' 'avensis' 'roomster' 'sl' 'kaefer' 'santa' 'cooper' 'leon'\n",
            " '4_reihe' 'a5' '500' 'laguna' 'ptcruiser' 'clk' 'primera' 'x_reihe'\n",
            " 'exeo' '159' 'transit' 'juke' 'qashqai' 'carisma' 'accord' 'corolla'\n",
            " 'lanos' 'phaeton' 'verso' 'swift' 'rav' 'picanto' 'boxster' 'kalos'\n",
            " 'superb' 'stilo' 'alhambra' 'mx_reihe' 'roadster' 'ypsilon' 'cayenne'\n",
            " 'galant' 'justy' '90' 'sirion' 'crossfire' 'agila' 'duster' 'cr_reihe'\n",
            " 'v50' 'c_reihe' 'v_klasse' 'm_klasse' 'yaris' 'c5' 'aygo' 'cc' 'carnival'\n",
            " 'fusion' '911' 'bora' 'forfour' 'm_reihe' 'cl' 'tigra' '300c' 'spark'\n",
            " 'v70' 'kuga' 'x_type' 'ducato' 's_type' 'x_trail' 'toledo' 'altea'\n",
            " 'voyager' 'calibra' 'bravo' 'antara' 'tucson' 'citigo' 'jimny' 'wrangler'\n",
            " 'lybra' 'q7' 'lancer' 'captiva' 'c2' 'discovery' 'freelander' 'sandero'\n",
            " 'note' '900' 'cherokee' 'clubman' 'samara' 'defender' '601' 'cx_reihe'\n",
            " 'legacy' 'pajero' 'auris' 'niva' 's60' 'nubira' 'vivaro' 'g_klasse'\n",
            " 'lodgy' '850' 'range_rover' 'q3' 'serie_2' 'glk' 'charade' 'croma'\n",
            " 'outlander' 'doblo' 'musa' 'move' '9000' 'v60' '145' 'aveo' '200' 'b_max'\n",
            " 'range_rover_sport' 'terios' 'rangerover' 'q5' 'range_rover_evoque'\n",
            " 'materia' 'delta' 'gl' 'kalina' 'amarok' 'elefantino' 'i3' 'kappa'\n",
            " 'serie_3' 'serie_1']\n"
          ]
        }
      ],
      "source": [
        "# model\n",
        "\n",
        "print(data['model'].unique())\n",
        "\n",
        "# в столбце фигурирует показатель other, которым мы можем заполнить пропуски\n",
        "\n",
        "data['model'] = data['model'].fillna('other')\n"
      ]
    },
    {
      "cell_type": "code",
      "execution_count": 30,
      "metadata": {
        "colab": {
          "base_uri": "https://localhost:8080/"
        },
        "id": "4V4Z7qpBZkj6",
        "outputId": "055b1fad-a74f-43dd-906c-0cbdd046ada4"
      },
      "outputs": [
        {
          "name": "stdout",
          "output_type": "stream",
          "text": [
            "petrol      163795\n",
            "gasoline     74531\n",
            "lpg           3950\n",
            "cng            425\n",
            "hybrid         171\n",
            "other          159\n",
            "electric        71\n",
            "Name: fuel_type, dtype: int64\n"
          ]
        }
      ],
      "source": [
        "# fuel_type\n",
        "\n",
        "print(data['fuel_type'].value_counts())\n",
        "\n",
        "# в столбце фигурирует показатель other, которым мы можем заполнить пропуски\n",
        "\n",
        "data['fuel_type'] = data['fuel_type'].fillna('other')\n"
      ]
    },
    {
      "cell_type": "code",
      "execution_count": 31,
      "metadata": {
        "colab": {
          "base_uri": "https://localhost:8080/"
        },
        "id": "1yRR6R7wZkj6",
        "outputId": "334442ee-2f54-4742-a7ac-de66c48dabd8"
      },
      "outputs": [
        {
          "name": "stdout",
          "output_type": "stream",
          "text": [
            "no     186886\n",
            "yes     27284\n",
            "Name: not_repaired, dtype: int64\n"
          ]
        }
      ],
      "source": [
        "# not_repaired\n",
        "\n",
        "print(data['not_repaired'].value_counts())\n",
        "\n",
        "# преобладают авто, которые не восстанавливались / ремонтировались \n",
        "# однако конкретно определить все пропуски в данную категорию будет неправильно\n",
        "# пропуски в столбце состовляют 20%, поэтому такую значимую часть данных определим отдельным значением other \n",
        "\n",
        "data['not_repaired'] = data['not_repaired'].fillna('other')\n"
      ]
    },
    {
      "cell_type": "markdown",
      "metadata": {
        "id": "kJ38zQAoZkj6"
      },
      "source": [
        "**P.S.** Пропуски были заполнены одним значением - *other* и все это можно было реализовать одной строчкой в коде. Однако в некоторых случаях это было оправдано тем, что такое значение уже фигурировало в столбце. Но в случаях **gearbox** и **not_repaired** значение пропусков было заменено тем же значением (*other*), чтобы не терять часть данных, при этом не изменяя соотношение известных данных."
      ]
    },
    {
      "cell_type": "code",
      "execution_count": 32,
      "metadata": {
        "id": "4viQPzouZkj6"
      },
      "outputs": [],
      "source": [
        "# удалим дубликаты\n",
        "\n",
        "data = data.drop_duplicates()"
      ]
    },
    {
      "cell_type": "markdown",
      "metadata": {
        "id": "Sml0pyjlZkj7"
      },
      "source": [
        "<div class=\"alert alert-success\">\n",
        "<b>1 Комментарий ревьюера ✔️:</b> Здорово, что ты не забыл удалить явные дубликаты!</div>"
      ]
    },
    {
      "cell_type": "code",
      "execution_count": 33,
      "metadata": {
        "id": "xNhJWU0qZkj7"
      },
      "outputs": [],
      "source": [
        "# оценим влиние столбоцов на цену авто\n",
        "# такие признаки, как number_of_pictures, postal_code, date_created, last_seen, registration_month, date_crawled не должны никак повлиять на цену авто\n",
        "# поэтому удалим их\n",
        "\n",
        "data = data.drop(['date_crawled','number_of_pictures','postal_code', 'date_created', 'last_seen', 'registration_month'], axis = 1)"
      ]
    },
    {
      "cell_type": "code",
      "execution_count": 34,
      "metadata": {
        "colab": {
          "base_uri": "https://localhost:8080/",
          "height": 300
        },
        "id": "Z_nhNt8IZkj7",
        "outputId": "0817e225-19cf-4001-e45d-ddf923006768"
      },
      "outputs": [
        {
          "data": {
            "text/html": [
              "\n",
              "  <div id=\"df-b43b855a-f052-4f36-aa1d-5c988a40c1a3\">\n",
              "    <div class=\"colab-df-container\">\n",
              "      <div>\n",
              "<style scoped>\n",
              "    .dataframe tbody tr th:only-of-type {\n",
              "        vertical-align: middle;\n",
              "    }\n",
              "\n",
              "    .dataframe tbody tr th {\n",
              "        vertical-align: top;\n",
              "    }\n",
              "\n",
              "    .dataframe thead th {\n",
              "        text-align: right;\n",
              "    }\n",
              "</style>\n",
              "<table border=\"1\" class=\"dataframe\">\n",
              "  <thead>\n",
              "    <tr style=\"text-align: right;\">\n",
              "      <th></th>\n",
              "      <th>price</th>\n",
              "      <th>registration_year</th>\n",
              "      <th>power</th>\n",
              "      <th>kilometer</th>\n",
              "    </tr>\n",
              "  </thead>\n",
              "  <tbody>\n",
              "    <tr>\n",
              "      <th>count</th>\n",
              "      <td>268036.000000</td>\n",
              "      <td>268036.000000</td>\n",
              "      <td>268035.000000</td>\n",
              "      <td>268035.000000</td>\n",
              "    </tr>\n",
              "    <tr>\n",
              "      <th>mean</th>\n",
              "      <td>4420.953995</td>\n",
              "      <td>2004.211613</td>\n",
              "      <td>110.248553</td>\n",
              "      <td>128133.359449</td>\n",
              "    </tr>\n",
              "    <tr>\n",
              "      <th>std</th>\n",
              "      <td>4520.051223</td>\n",
              "      <td>90.720451</td>\n",
              "      <td>196.255337</td>\n",
              "      <td>37948.946159</td>\n",
              "    </tr>\n",
              "    <tr>\n",
              "      <th>min</th>\n",
              "      <td>0.000000</td>\n",
              "      <td>1000.000000</td>\n",
              "      <td>0.000000</td>\n",
              "      <td>5000.000000</td>\n",
              "    </tr>\n",
              "    <tr>\n",
              "      <th>25%</th>\n",
              "      <td>1050.000000</td>\n",
              "      <td>1999.000000</td>\n",
              "      <td>69.000000</td>\n",
              "      <td>125000.000000</td>\n",
              "    </tr>\n",
              "    <tr>\n",
              "      <th>50%</th>\n",
              "      <td>2700.000000</td>\n",
              "      <td>2003.000000</td>\n",
              "      <td>105.000000</td>\n",
              "      <td>150000.000000</td>\n",
              "    </tr>\n",
              "    <tr>\n",
              "      <th>75%</th>\n",
              "      <td>6400.000000</td>\n",
              "      <td>2008.000000</td>\n",
              "      <td>141.000000</td>\n",
              "      <td>150000.000000</td>\n",
              "    </tr>\n",
              "    <tr>\n",
              "      <th>max</th>\n",
              "      <td>20000.000000</td>\n",
              "      <td>9999.000000</td>\n",
              "      <td>20000.000000</td>\n",
              "      <td>150000.000000</td>\n",
              "    </tr>\n",
              "  </tbody>\n",
              "</table>\n",
              "</div>\n",
              "      <button class=\"colab-df-convert\" onclick=\"convertToInteractive('df-b43b855a-f052-4f36-aa1d-5c988a40c1a3')\"\n",
              "              title=\"Convert this dataframe to an interactive table.\"\n",
              "              style=\"display:none;\">\n",
              "        \n",
              "  <svg xmlns=\"http://www.w3.org/2000/svg\" height=\"24px\"viewBox=\"0 0 24 24\"\n",
              "       width=\"24px\">\n",
              "    <path d=\"M0 0h24v24H0V0z\" fill=\"none\"/>\n",
              "    <path d=\"M18.56 5.44l.94 2.06.94-2.06 2.06-.94-2.06-.94-.94-2.06-.94 2.06-2.06.94zm-11 1L8.5 8.5l.94-2.06 2.06-.94-2.06-.94L8.5 2.5l-.94 2.06-2.06.94zm10 10l.94 2.06.94-2.06 2.06-.94-2.06-.94-.94-2.06-.94 2.06-2.06.94z\"/><path d=\"M17.41 7.96l-1.37-1.37c-.4-.4-.92-.59-1.43-.59-.52 0-1.04.2-1.43.59L10.3 9.45l-7.72 7.72c-.78.78-.78 2.05 0 2.83L4 21.41c.39.39.9.59 1.41.59.51 0 1.02-.2 1.41-.59l7.78-7.78 2.81-2.81c.8-.78.8-2.07 0-2.86zM5.41 20L4 18.59l7.72-7.72 1.47 1.35L5.41 20z\"/>\n",
              "  </svg>\n",
              "      </button>\n",
              "      \n",
              "  <style>\n",
              "    .colab-df-container {\n",
              "      display:flex;\n",
              "      flex-wrap:wrap;\n",
              "      gap: 12px;\n",
              "    }\n",
              "\n",
              "    .colab-df-convert {\n",
              "      background-color: #E8F0FE;\n",
              "      border: none;\n",
              "      border-radius: 50%;\n",
              "      cursor: pointer;\n",
              "      display: none;\n",
              "      fill: #1967D2;\n",
              "      height: 32px;\n",
              "      padding: 0 0 0 0;\n",
              "      width: 32px;\n",
              "    }\n",
              "\n",
              "    .colab-df-convert:hover {\n",
              "      background-color: #E2EBFA;\n",
              "      box-shadow: 0px 1px 2px rgba(60, 64, 67, 0.3), 0px 1px 3px 1px rgba(60, 64, 67, 0.15);\n",
              "      fill: #174EA6;\n",
              "    }\n",
              "\n",
              "    [theme=dark] .colab-df-convert {\n",
              "      background-color: #3B4455;\n",
              "      fill: #D2E3FC;\n",
              "    }\n",
              "\n",
              "    [theme=dark] .colab-df-convert:hover {\n",
              "      background-color: #434B5C;\n",
              "      box-shadow: 0px 1px 3px 1px rgba(0, 0, 0, 0.15);\n",
              "      filter: drop-shadow(0px 1px 2px rgba(0, 0, 0, 0.3));\n",
              "      fill: #FFFFFF;\n",
              "    }\n",
              "  </style>\n",
              "\n",
              "      <script>\n",
              "        const buttonEl =\n",
              "          document.querySelector('#df-b43b855a-f052-4f36-aa1d-5c988a40c1a3 button.colab-df-convert');\n",
              "        buttonEl.style.display =\n",
              "          google.colab.kernel.accessAllowed ? 'block' : 'none';\n",
              "\n",
              "        async function convertToInteractive(key) {\n",
              "          const element = document.querySelector('#df-b43b855a-f052-4f36-aa1d-5c988a40c1a3');\n",
              "          const dataTable =\n",
              "            await google.colab.kernel.invokeFunction('convertToInteractive',\n",
              "                                                     [key], {});\n",
              "          if (!dataTable) return;\n",
              "\n",
              "          const docLinkHtml = 'Like what you see? Visit the ' +\n",
              "            '<a target=\"_blank\" href=https://colab.research.google.com/notebooks/data_table.ipynb>data table notebook</a>'\n",
              "            + ' to learn more about interactive tables.';\n",
              "          element.innerHTML = '';\n",
              "          dataTable['output_type'] = 'display_data';\n",
              "          await google.colab.output.renderOutput(dataTable, element);\n",
              "          const docLink = document.createElement('div');\n",
              "          docLink.innerHTML = docLinkHtml;\n",
              "          element.appendChild(docLink);\n",
              "        }\n",
              "      </script>\n",
              "    </div>\n",
              "  </div>\n",
              "  "
            ],
            "text/plain": [
              "               price  registration_year          power      kilometer\n",
              "count  268036.000000      268036.000000  268035.000000  268035.000000\n",
              "mean     4420.953995        2004.211613     110.248553  128133.359449\n",
              "std      4520.051223          90.720451     196.255337   37948.946159\n",
              "min         0.000000        1000.000000       0.000000    5000.000000\n",
              "25%      1050.000000        1999.000000      69.000000  125000.000000\n",
              "50%      2700.000000        2003.000000     105.000000  150000.000000\n",
              "75%      6400.000000        2008.000000     141.000000  150000.000000\n",
              "max     20000.000000        9999.000000   20000.000000  150000.000000"
            ]
          },
          "execution_count": 34,
          "metadata": {},
          "output_type": "execute_result"
        }
      ],
      "source": [
        "# оценим статистические данные\n",
        "\n",
        "data.describe()"
      ]
    },
    {
      "cell_type": "raw",
      "metadata": {
        "id": "MvoV1CHbZkj7"
      },
      "source": [
        "# значения столбца power ограничим в пределах 30 < power < 1000\n",
        "\n",
        "data = data[(data['power']>30)&(data['power']<1000)].reset_index(drop = True)\n",
        "\n",
        "# значения столбца registration_year ограничим в пределах 1900 < registration_year <= 2022\n",
        "\n",
        "data = data[(data['registration_year']>1900)&(data['registration_year']<=2022)].reset_index(drop = True)\n",
        "\n",
        "# значения столбца price ограничим в пределах 100 < price\n",
        "\n",
        "data = data[(data['price']>=100)].reset_index(drop = True)"
      ]
    },
    {
      "cell_type": "code",
      "execution_count": 35,
      "metadata": {
        "colab": {
          "base_uri": "https://localhost:8080/"
        },
        "id": "Ch3nxKZLZkj7",
        "outputId": "61a7cc38-f93f-4e20-b28a-6d19c99d1fa3"
      },
      "outputs": [
        {
          "data": {
            "text/plain": [
              "price                30345\n",
              "vehicle_type         30345\n",
              "registration_year    30345\n",
              "gearbox              30345\n",
              "power                30345\n",
              "model                30345\n",
              "kilometer            30345\n",
              "fuel_type            30345\n",
              "brand                30345\n",
              "not_repaired         30345\n",
              "dtype: int64"
            ]
          },
          "execution_count": 35,
          "metadata": {},
          "output_type": "execute_result"
        }
      ],
      "source": [
        "# оценим количество значений 0 в столбце power  \n",
        "data[data['power'] == 0].count()"
      ]
    },
    {
      "cell_type": "code",
      "execution_count": 36,
      "metadata": {
        "colab": {
          "base_uri": "https://localhost:8080/"
        },
        "id": "KJQbqwNEZkj7",
        "outputId": "9c473216-4f9d-4e41-ec82-e5fd70011021"
      },
      "outputs": [
        {
          "data": {
            "text/plain": [
              "price                10102\n",
              "vehicle_type         10102\n",
              "registration_year    10102\n",
              "gearbox              10102\n",
              "power                10102\n",
              "model                10102\n",
              "kilometer            10102\n",
              "fuel_type            10102\n",
              "brand                10102\n",
              "not_repaired         10102\n",
              "dtype: int64"
            ]
          },
          "execution_count": 36,
          "metadata": {},
          "output_type": "execute_result"
        }
      ],
      "source": [
        "# оценим количество значений 0 в столбце price\n",
        "data[data['price'] <100].count()"
      ]
    },
    {
      "cell_type": "code",
      "execution_count": 37,
      "metadata": {
        "id": "JQeJsMVtZkj8"
      },
      "outputs": [],
      "source": [
        "# значения 0 в столбцах power медианными значениями для авто той марки, того же класса, той же кпп и типа топлива\n",
        "\n",
        "\n",
        "\n",
        "data['power'] = data['power'].replace(0,np.nan)\n",
        "data['power'] = data['power'].fillna(data.groupby(['brand',\n",
        "                                                   'model', \n",
        "                                                   'fuel_type',\n",
        "                                                   'gearbox'])['power'].transform('median'))\n",
        "\n",
        "# значения столбца power ограничим в пределах 30 < power < 1000\n",
        "\n",
        "data = data[(data['power']>30)&(data['power']<1000)].reset_index(drop = True)\n",
        "\n",
        "\n",
        "# значения столбца registration_year ограничим в пределах 1900 < registration_year <= 2022\n",
        "\n",
        "data = data[(data['registration_year']>1900)&(data['registration_year']<=2022)].reset_index(drop = True)\n",
        "\n",
        "# значения столбца price оставим больше 100\n",
        "\n",
        "data = data[(data['price']>100)].reset_index(drop = True)"
      ]
    },
    {
      "cell_type": "code",
      "execution_count": 38,
      "metadata": {
        "id": "o6UCa9JfZkj8"
      },
      "outputs": [],
      "source": [
        "# для последующего обучения моделей необходимо перевести текстовые значения в числовые (произвести кодировку)\n",
        "# воспользуемся кодировкой Ordinal Encoding\n",
        "\n",
        "data_encoder_col = pd.DataFrame(OrdinalEncoder().fit_transform(data[['vehicle_type',\n",
        "                                                                     'gearbox',\n",
        "                                                                     'model',\n",
        "                                                                     'fuel_type', \n",
        "                                                                     'brand', \n",
        "                                                                     'not_repaired']]), \n",
        "                                columns = ['vehicle_type',\n",
        "                                           'gearbox',\n",
        "                                           'model',\n",
        "                                           'fuel_type', \n",
        "                                           'brand', \n",
        "                                           'not_repaired'])"
      ]
    },
    {
      "cell_type": "code",
      "execution_count": 39,
      "metadata": {
        "id": "7HJXeZX1Zkj9"
      },
      "outputs": [],
      "source": [
        "# заменим исходные значения в data\n",
        "\n",
        "data[['vehicle_type', 'gearbox','model', 'fuel_type','brand','not_repaired']] = data_encoder_col[['vehicle_type',\n",
        "                                                                                                  'gearbox','model',\n",
        "                                                                                                  'fuel_type', \n",
        "                                                                                                  'brand',\n",
        "                                                                                                  'not_repaired']].astype(int)"
      ]
    },
    {
      "cell_type": "code",
      "execution_count": 40,
      "metadata": {
        "colab": {
          "base_uri": "https://localhost:8080/",
          "height": 300
        },
        "id": "EXK3gzjXZkj9",
        "outputId": "d4cee3be-deda-42a6-ca36-eed5d7328427"
      },
      "outputs": [
        {
          "data": {
            "text/html": [
              "\n",
              "  <div id=\"df-56b32443-263c-4ecc-9329-0eaa5d65342b\">\n",
              "    <div class=\"colab-df-container\">\n",
              "      <div>\n",
              "<style scoped>\n",
              "    .dataframe tbody tr th:only-of-type {\n",
              "        vertical-align: middle;\n",
              "    }\n",
              "\n",
              "    .dataframe tbody tr th {\n",
              "        vertical-align: top;\n",
              "    }\n",
              "\n",
              "    .dataframe thead th {\n",
              "        text-align: right;\n",
              "    }\n",
              "</style>\n",
              "<table border=\"1\" class=\"dataframe\">\n",
              "  <thead>\n",
              "    <tr style=\"text-align: right;\">\n",
              "      <th></th>\n",
              "      <th>price</th>\n",
              "      <th>vehicle_type</th>\n",
              "      <th>registration_year</th>\n",
              "      <th>gearbox</th>\n",
              "      <th>power</th>\n",
              "      <th>model</th>\n",
              "      <th>kilometer</th>\n",
              "      <th>fuel_type</th>\n",
              "      <th>brand</th>\n",
              "      <th>not_repaired</th>\n",
              "    </tr>\n",
              "  </thead>\n",
              "  <tbody>\n",
              "    <tr>\n",
              "      <th>count</th>\n",
              "      <td>255702.000000</td>\n",
              "      <td>255702.000000</td>\n",
              "      <td>255702.000000</td>\n",
              "      <td>255702.000000</td>\n",
              "      <td>255702.000000</td>\n",
              "      <td>255702.000000</td>\n",
              "      <td>255702.000000</td>\n",
              "      <td>255702.000000</td>\n",
              "      <td>255702.000000</td>\n",
              "      <td>255702.000000</td>\n",
              "    </tr>\n",
              "    <tr>\n",
              "      <th>mean</th>\n",
              "      <td>4612.733045</td>\n",
              "      <td>4.153088</td>\n",
              "      <td>2003.277902</td>\n",
              "      <td>0.855210</td>\n",
              "      <td>119.248279</td>\n",
              "      <td>111.678462</td>\n",
              "      <td>128711.957669</td>\n",
              "      <td>4.736068</td>\n",
              "      <td>20.834295</td>\n",
              "      <td>0.381123</td>\n",
              "    </tr>\n",
              "    <tr>\n",
              "      <th>std</th>\n",
              "      <td>4523.387388</td>\n",
              "      <td>2.041078</td>\n",
              "      <td>7.179858</td>\n",
              "      <td>0.463051</td>\n",
              "      <td>53.567727</td>\n",
              "      <td>69.859391</td>\n",
              "      <td>36921.207347</td>\n",
              "      <td>1.780871</td>\n",
              "      <td>13.300311</td>\n",
              "      <td>0.656038</td>\n",
              "    </tr>\n",
              "    <tr>\n",
              "      <th>min</th>\n",
              "      <td>101.000000</td>\n",
              "      <td>0.000000</td>\n",
              "      <td>1910.000000</td>\n",
              "      <td>0.000000</td>\n",
              "      <td>31.000000</td>\n",
              "      <td>0.000000</td>\n",
              "      <td>5000.000000</td>\n",
              "      <td>0.000000</td>\n",
              "      <td>0.000000</td>\n",
              "      <td>0.000000</td>\n",
              "    </tr>\n",
              "    <tr>\n",
              "      <th>25%</th>\n",
              "      <td>1200.000000</td>\n",
              "      <td>3.000000</td>\n",
              "      <td>1999.000000</td>\n",
              "      <td>1.000000</td>\n",
              "      <td>75.000000</td>\n",
              "      <td>42.000000</td>\n",
              "      <td>125000.000000</td>\n",
              "      <td>2.000000</td>\n",
              "      <td>9.000000</td>\n",
              "      <td>0.000000</td>\n",
              "    </tr>\n",
              "    <tr>\n",
              "      <th>50%</th>\n",
              "      <td>2900.000000</td>\n",
              "      <td>4.000000</td>\n",
              "      <td>2003.000000</td>\n",
              "      <td>1.000000</td>\n",
              "      <td>110.000000</td>\n",
              "      <td>116.000000</td>\n",
              "      <td>150000.000000</td>\n",
              "      <td>6.000000</td>\n",
              "      <td>24.000000</td>\n",
              "      <td>0.000000</td>\n",
              "    </tr>\n",
              "    <tr>\n",
              "      <th>75%</th>\n",
              "      <td>6599.000000</td>\n",
              "      <td>5.000000</td>\n",
              "      <td>2008.000000</td>\n",
              "      <td>1.000000</td>\n",
              "      <td>145.000000</td>\n",
              "      <td>166.000000</td>\n",
              "      <td>150000.000000</td>\n",
              "      <td>6.000000</td>\n",
              "      <td>33.000000</td>\n",
              "      <td>1.000000</td>\n",
              "    </tr>\n",
              "    <tr>\n",
              "      <th>max</th>\n",
              "      <td>20000.000000</td>\n",
              "      <td>7.000000</td>\n",
              "      <td>2019.000000</td>\n",
              "      <td>2.000000</td>\n",
              "      <td>999.000000</td>\n",
              "      <td>248.000000</td>\n",
              "      <td>150000.000000</td>\n",
              "      <td>6.000000</td>\n",
              "      <td>39.000000</td>\n",
              "      <td>2.000000</td>\n",
              "    </tr>\n",
              "  </tbody>\n",
              "</table>\n",
              "</div>\n",
              "      <button class=\"colab-df-convert\" onclick=\"convertToInteractive('df-56b32443-263c-4ecc-9329-0eaa5d65342b')\"\n",
              "              title=\"Convert this dataframe to an interactive table.\"\n",
              "              style=\"display:none;\">\n",
              "        \n",
              "  <svg xmlns=\"http://www.w3.org/2000/svg\" height=\"24px\"viewBox=\"0 0 24 24\"\n",
              "       width=\"24px\">\n",
              "    <path d=\"M0 0h24v24H0V0z\" fill=\"none\"/>\n",
              "    <path d=\"M18.56 5.44l.94 2.06.94-2.06 2.06-.94-2.06-.94-.94-2.06-.94 2.06-2.06.94zm-11 1L8.5 8.5l.94-2.06 2.06-.94-2.06-.94L8.5 2.5l-.94 2.06-2.06.94zm10 10l.94 2.06.94-2.06 2.06-.94-2.06-.94-.94-2.06-.94 2.06-2.06.94z\"/><path d=\"M17.41 7.96l-1.37-1.37c-.4-.4-.92-.59-1.43-.59-.52 0-1.04.2-1.43.59L10.3 9.45l-7.72 7.72c-.78.78-.78 2.05 0 2.83L4 21.41c.39.39.9.59 1.41.59.51 0 1.02-.2 1.41-.59l7.78-7.78 2.81-2.81c.8-.78.8-2.07 0-2.86zM5.41 20L4 18.59l7.72-7.72 1.47 1.35L5.41 20z\"/>\n",
              "  </svg>\n",
              "      </button>\n",
              "      \n",
              "  <style>\n",
              "    .colab-df-container {\n",
              "      display:flex;\n",
              "      flex-wrap:wrap;\n",
              "      gap: 12px;\n",
              "    }\n",
              "\n",
              "    .colab-df-convert {\n",
              "      background-color: #E8F0FE;\n",
              "      border: none;\n",
              "      border-radius: 50%;\n",
              "      cursor: pointer;\n",
              "      display: none;\n",
              "      fill: #1967D2;\n",
              "      height: 32px;\n",
              "      padding: 0 0 0 0;\n",
              "      width: 32px;\n",
              "    }\n",
              "\n",
              "    .colab-df-convert:hover {\n",
              "      background-color: #E2EBFA;\n",
              "      box-shadow: 0px 1px 2px rgba(60, 64, 67, 0.3), 0px 1px 3px 1px rgba(60, 64, 67, 0.15);\n",
              "      fill: #174EA6;\n",
              "    }\n",
              "\n",
              "    [theme=dark] .colab-df-convert {\n",
              "      background-color: #3B4455;\n",
              "      fill: #D2E3FC;\n",
              "    }\n",
              "\n",
              "    [theme=dark] .colab-df-convert:hover {\n",
              "      background-color: #434B5C;\n",
              "      box-shadow: 0px 1px 3px 1px rgba(0, 0, 0, 0.15);\n",
              "      filter: drop-shadow(0px 1px 2px rgba(0, 0, 0, 0.3));\n",
              "      fill: #FFFFFF;\n",
              "    }\n",
              "  </style>\n",
              "\n",
              "      <script>\n",
              "        const buttonEl =\n",
              "          document.querySelector('#df-56b32443-263c-4ecc-9329-0eaa5d65342b button.colab-df-convert');\n",
              "        buttonEl.style.display =\n",
              "          google.colab.kernel.accessAllowed ? 'block' : 'none';\n",
              "\n",
              "        async function convertToInteractive(key) {\n",
              "          const element = document.querySelector('#df-56b32443-263c-4ecc-9329-0eaa5d65342b');\n",
              "          const dataTable =\n",
              "            await google.colab.kernel.invokeFunction('convertToInteractive',\n",
              "                                                     [key], {});\n",
              "          if (!dataTable) return;\n",
              "\n",
              "          const docLinkHtml = 'Like what you see? Visit the ' +\n",
              "            '<a target=\"_blank\" href=https://colab.research.google.com/notebooks/data_table.ipynb>data table notebook</a>'\n",
              "            + ' to learn more about interactive tables.';\n",
              "          element.innerHTML = '';\n",
              "          dataTable['output_type'] = 'display_data';\n",
              "          await google.colab.output.renderOutput(dataTable, element);\n",
              "          const docLink = document.createElement('div');\n",
              "          docLink.innerHTML = docLinkHtml;\n",
              "          element.appendChild(docLink);\n",
              "        }\n",
              "      </script>\n",
              "    </div>\n",
              "  </div>\n",
              "  "
            ],
            "text/plain": [
              "               price   vehicle_type  registration_year        gearbox  \\\n",
              "count  255702.000000  255702.000000      255702.000000  255702.000000   \n",
              "mean     4612.733045       4.153088        2003.277902       0.855210   \n",
              "std      4523.387388       2.041078           7.179858       0.463051   \n",
              "min       101.000000       0.000000        1910.000000       0.000000   \n",
              "25%      1200.000000       3.000000        1999.000000       1.000000   \n",
              "50%      2900.000000       4.000000        2003.000000       1.000000   \n",
              "75%      6599.000000       5.000000        2008.000000       1.000000   \n",
              "max     20000.000000       7.000000        2019.000000       2.000000   \n",
              "\n",
              "               power          model      kilometer      fuel_type  \\\n",
              "count  255702.000000  255702.000000  255702.000000  255702.000000   \n",
              "mean      119.248279     111.678462  128711.957669       4.736068   \n",
              "std        53.567727      69.859391   36921.207347       1.780871   \n",
              "min        31.000000       0.000000    5000.000000       0.000000   \n",
              "25%        75.000000      42.000000  125000.000000       2.000000   \n",
              "50%       110.000000     116.000000  150000.000000       6.000000   \n",
              "75%       145.000000     166.000000  150000.000000       6.000000   \n",
              "max       999.000000     248.000000  150000.000000       6.000000   \n",
              "\n",
              "               brand   not_repaired  \n",
              "count  255702.000000  255702.000000  \n",
              "mean       20.834295       0.381123  \n",
              "std        13.300311       0.656038  \n",
              "min         0.000000       0.000000  \n",
              "25%         9.000000       0.000000  \n",
              "50%        24.000000       0.000000  \n",
              "75%        33.000000       1.000000  \n",
              "max        39.000000       2.000000  "
            ]
          },
          "execution_count": 40,
          "metadata": {},
          "output_type": "execute_result"
        }
      ],
      "source": [
        "data.describe()"
      ]
    },
    {
      "cell_type": "code",
      "execution_count": 41,
      "metadata": {
        "colab": {
          "base_uri": "https://localhost:8080/"
        },
        "id": "KupkVzw0Zkj9",
        "outputId": "0a092109-b249-4f57-afe1-041d4fde70ad"
      },
      "outputs": [
        {
          "name": "stdout",
          "output_type": "stream",
          "text": [
            "<class 'pandas.core.frame.DataFrame'>\n",
            "RangeIndex: 255702 entries, 0 to 255701\n",
            "Data columns (total 10 columns):\n",
            " #   Column             Non-Null Count   Dtype  \n",
            "---  ------             --------------   -----  \n",
            " 0   price              255702 non-null  int64  \n",
            " 1   vehicle_type       255702 non-null  int64  \n",
            " 2   registration_year  255702 non-null  int64  \n",
            " 3   gearbox            255702 non-null  int64  \n",
            " 4   power              255702 non-null  float64\n",
            " 5   model              255702 non-null  int64  \n",
            " 6   kilometer          255702 non-null  float64\n",
            " 7   fuel_type          255702 non-null  int64  \n",
            " 8   brand              255702 non-null  int64  \n",
            " 9   not_repaired       255702 non-null  int64  \n",
            "dtypes: float64(2), int64(8)\n",
            "memory usage: 19.5 MB\n"
          ]
        }
      ],
      "source": [
        "data.info()"
      ]
    },
    {
      "cell_type": "markdown",
      "metadata": {
        "id": "0q5H96dJZkj9"
      },
      "source": [
        "По итогу предобработки данных было  исключено около ~14%~ 4.5% строк. \n",
        "Отсев строк был обоснован тем, что в исходных данных находились значения, не соответсвующие действительности (стоит отметить, что ограничения которые принимаются, также могут повлиять на эффективность моделей).\n",
        "\n",
        "Кроме того, были удалены дубликаты, а имеющиейся пропуски заполнены значением *other*\n",
        "\n",
        "Ввиду слабого влияния на цену ряда значений, ряд столбцов были исключены из рабочего датасета\n",
        "\n",
        "Также для дальнейшего обучения моделей произведена кодировка текстовых значений."
      ]
    },
    {
      "cell_type": "markdown",
      "metadata": {
        "id": "7_lvpXLnZkj9"
      },
      "source": [
        "## Обучение моделей"
      ]
    },
    {
      "cell_type": "code",
      "execution_count": 42,
      "metadata": {
        "id": "Rzuty-feZkj9"
      },
      "outputs": [],
      "source": [
        "# создаем переменные для признаков и целевого признака\n",
        "\n",
        "features = data.drop(columns = ['price'], axis = 1)\n",
        "target = data['price']"
      ]
    },
    {
      "cell_type": "code",
      "execution_count": 43,
      "metadata": {
        "id": "-lPJ5JetZkj-"
      },
      "outputs": [],
      "source": [
        "# разделим наши выборки на тренировочную, тестовую в пропорции 75/25\n",
        "\n",
        "features_train, features_test, target_train, target_test = train_test_split(features,  \n",
        "                                                                            target, \n",
        "                                                                            test_size = 0.25, \n",
        "                                                                            random_state = 12345)"
      ]
    },
    {
      "cell_type": "code",
      "execution_count": 44,
      "metadata": {
        "id": "yviR0oyTZkj-"
      },
      "outputs": [],
      "source": [
        "scaler = StandardScaler()\n",
        "numeric = list(features.columns)\n",
        "scaler.fit(features_train[numeric])\n",
        "features_train[numeric] = scaler.transform(features_train[numeric])\n",
        "features_test[numeric] = scaler.transform(features_test[numeric])"
      ]
    },
    {
      "cell_type": "code",
      "execution_count": 45,
      "metadata": {
        "colab": {
          "base_uri": "https://localhost:8080/",
          "height": 709
        },
        "id": "_FK_Iv5EZkj-",
        "outputId": "ede32d5b-1585-40e2-b081-ee7a1641d34b"
      },
      "outputs": [
        {
          "data": {
            "text/html": [
              "\n",
              "  <div id=\"df-6bd91238-ded2-4442-8257-3568c03fb80c\">\n",
              "    <div class=\"colab-df-container\">\n",
              "      <div>\n",
              "<style scoped>\n",
              "    .dataframe tbody tr th:only-of-type {\n",
              "        vertical-align: middle;\n",
              "    }\n",
              "\n",
              "    .dataframe tbody tr th {\n",
              "        vertical-align: top;\n",
              "    }\n",
              "\n",
              "    .dataframe thead th {\n",
              "        text-align: right;\n",
              "    }\n",
              "</style>\n",
              "<table border=\"1\" class=\"dataframe\">\n",
              "  <thead>\n",
              "    <tr style=\"text-align: right;\">\n",
              "      <th></th>\n",
              "      <th>vehicle_type</th>\n",
              "      <th>registration_year</th>\n",
              "      <th>gearbox</th>\n",
              "      <th>power</th>\n",
              "      <th>model</th>\n",
              "      <th>kilometer</th>\n",
              "      <th>fuel_type</th>\n",
              "      <th>brand</th>\n",
              "      <th>not_repaired</th>\n",
              "    </tr>\n",
              "  </thead>\n",
              "  <tbody>\n",
              "    <tr>\n",
              "      <th>164884</th>\n",
              "      <td>-1.053926</td>\n",
              "      <td>-1.846393</td>\n",
              "      <td>0.313096</td>\n",
              "      <td>0.087887</td>\n",
              "      <td>-0.396409</td>\n",
              "      <td>0.575867</td>\n",
              "      <td>0.710977</td>\n",
              "      <td>-0.738304</td>\n",
              "      <td>2.467167</td>\n",
              "    </tr>\n",
              "    <tr>\n",
              "      <th>169493</th>\n",
              "      <td>-1.053926</td>\n",
              "      <td>-4.764923</td>\n",
              "      <td>-1.843435</td>\n",
              "      <td>-1.218455</td>\n",
              "      <td>0.247272</td>\n",
              "      <td>-1.320375</td>\n",
              "      <td>0.710977</td>\n",
              "      <td>0.238420</td>\n",
              "      <td>-0.581094</td>\n",
              "    </tr>\n",
              "    <tr>\n",
              "      <th>65114</th>\n",
              "      <td>-2.032766</td>\n",
              "      <td>-0.317640</td>\n",
              "      <td>0.313096</td>\n",
              "      <td>0.479790</td>\n",
              "      <td>0.004103</td>\n",
              "      <td>0.575867</td>\n",
              "      <td>0.710977</td>\n",
              "      <td>-0.813437</td>\n",
              "      <td>0.943037</td>\n",
              "    </tr>\n",
              "    <tr>\n",
              "      <th>76509</th>\n",
              "      <td>-0.075086</td>\n",
              "      <td>0.516226</td>\n",
              "      <td>0.313096</td>\n",
              "      <td>0.386479</td>\n",
              "      <td>0.833736</td>\n",
              "      <td>0.575867</td>\n",
              "      <td>-1.534705</td>\n",
              "      <td>1.290276</td>\n",
              "      <td>-0.581094</td>\n",
              "    </tr>\n",
              "    <tr>\n",
              "      <th>191242</th>\n",
              "      <td>0.414334</td>\n",
              "      <td>-0.456617</td>\n",
              "      <td>0.313096</td>\n",
              "      <td>-1.293104</td>\n",
              "      <td>0.776520</td>\n",
              "      <td>0.575867</td>\n",
              "      <td>0.710977</td>\n",
              "      <td>1.290276</td>\n",
              "      <td>-0.581094</td>\n",
              "    </tr>\n",
              "    <tr>\n",
              "      <th>65604</th>\n",
              "      <td>-2.032766</td>\n",
              "      <td>0.238271</td>\n",
              "      <td>0.313096</td>\n",
              "      <td>-0.192044</td>\n",
              "      <td>-0.925657</td>\n",
              "      <td>0.575867</td>\n",
              "      <td>-1.534705</td>\n",
              "      <td>-0.062111</td>\n",
              "      <td>-0.581094</td>\n",
              "    </tr>\n",
              "    <tr>\n",
              "      <th>158930</th>\n",
              "      <td>-0.075086</td>\n",
              "      <td>0.933159</td>\n",
              "      <td>0.313096</td>\n",
              "      <td>-0.453312</td>\n",
              "      <td>-0.925657</td>\n",
              "      <td>-2.403942</td>\n",
              "      <td>0.710977</td>\n",
              "      <td>-0.062111</td>\n",
              "      <td>-0.581094</td>\n",
              "    </tr>\n",
              "    <tr>\n",
              "      <th>128317</th>\n",
              "      <td>1.393174</td>\n",
              "      <td>0.794181</td>\n",
              "      <td>-1.843435</td>\n",
              "      <td>2.084724</td>\n",
              "      <td>-0.754009</td>\n",
              "      <td>-0.101362</td>\n",
              "      <td>0.710977</td>\n",
              "      <td>-0.062111</td>\n",
              "      <td>-0.581094</td>\n",
              "    </tr>\n",
              "    <tr>\n",
              "      <th>246650</th>\n",
              "      <td>1.393174</td>\n",
              "      <td>-0.456617</td>\n",
              "      <td>0.313096</td>\n",
              "      <td>-0.770567</td>\n",
              "      <td>0.776520</td>\n",
              "      <td>0.575867</td>\n",
              "      <td>0.149556</td>\n",
              "      <td>1.290276</td>\n",
              "      <td>2.467167</td>\n",
              "    </tr>\n",
              "    <tr>\n",
              "      <th>170349</th>\n",
              "      <td>-0.075086</td>\n",
              "      <td>0.655203</td>\n",
              "      <td>0.313096</td>\n",
              "      <td>1.076975</td>\n",
              "      <td>1.835017</td>\n",
              "      <td>0.575867</td>\n",
              "      <td>-1.534705</td>\n",
              "      <td>-1.414498</td>\n",
              "      <td>-0.581094</td>\n",
              "    </tr>\n",
              "  </tbody>\n",
              "</table>\n",
              "</div>\n",
              "      <button class=\"colab-df-convert\" onclick=\"convertToInteractive('df-6bd91238-ded2-4442-8257-3568c03fb80c')\"\n",
              "              title=\"Convert this dataframe to an interactive table.\"\n",
              "              style=\"display:none;\">\n",
              "        \n",
              "  <svg xmlns=\"http://www.w3.org/2000/svg\" height=\"24px\"viewBox=\"0 0 24 24\"\n",
              "       width=\"24px\">\n",
              "    <path d=\"M0 0h24v24H0V0z\" fill=\"none\"/>\n",
              "    <path d=\"M18.56 5.44l.94 2.06.94-2.06 2.06-.94-2.06-.94-.94-2.06-.94 2.06-2.06.94zm-11 1L8.5 8.5l.94-2.06 2.06-.94-2.06-.94L8.5 2.5l-.94 2.06-2.06.94zm10 10l.94 2.06.94-2.06 2.06-.94-2.06-.94-.94-2.06-.94 2.06-2.06.94z\"/><path d=\"M17.41 7.96l-1.37-1.37c-.4-.4-.92-.59-1.43-.59-.52 0-1.04.2-1.43.59L10.3 9.45l-7.72 7.72c-.78.78-.78 2.05 0 2.83L4 21.41c.39.39.9.59 1.41.59.51 0 1.02-.2 1.41-.59l7.78-7.78 2.81-2.81c.8-.78.8-2.07 0-2.86zM5.41 20L4 18.59l7.72-7.72 1.47 1.35L5.41 20z\"/>\n",
              "  </svg>\n",
              "      </button>\n",
              "      \n",
              "  <style>\n",
              "    .colab-df-container {\n",
              "      display:flex;\n",
              "      flex-wrap:wrap;\n",
              "      gap: 12px;\n",
              "    }\n",
              "\n",
              "    .colab-df-convert {\n",
              "      background-color: #E8F0FE;\n",
              "      border: none;\n",
              "      border-radius: 50%;\n",
              "      cursor: pointer;\n",
              "      display: none;\n",
              "      fill: #1967D2;\n",
              "      height: 32px;\n",
              "      padding: 0 0 0 0;\n",
              "      width: 32px;\n",
              "    }\n",
              "\n",
              "    .colab-df-convert:hover {\n",
              "      background-color: #E2EBFA;\n",
              "      box-shadow: 0px 1px 2px rgba(60, 64, 67, 0.3), 0px 1px 3px 1px rgba(60, 64, 67, 0.15);\n",
              "      fill: #174EA6;\n",
              "    }\n",
              "\n",
              "    [theme=dark] .colab-df-convert {\n",
              "      background-color: #3B4455;\n",
              "      fill: #D2E3FC;\n",
              "    }\n",
              "\n",
              "    [theme=dark] .colab-df-convert:hover {\n",
              "      background-color: #434B5C;\n",
              "      box-shadow: 0px 1px 3px 1px rgba(0, 0, 0, 0.15);\n",
              "      filter: drop-shadow(0px 1px 2px rgba(0, 0, 0, 0.3));\n",
              "      fill: #FFFFFF;\n",
              "    }\n",
              "  </style>\n",
              "\n",
              "      <script>\n",
              "        const buttonEl =\n",
              "          document.querySelector('#df-6bd91238-ded2-4442-8257-3568c03fb80c button.colab-df-convert');\n",
              "        buttonEl.style.display =\n",
              "          google.colab.kernel.accessAllowed ? 'block' : 'none';\n",
              "\n",
              "        async function convertToInteractive(key) {\n",
              "          const element = document.querySelector('#df-6bd91238-ded2-4442-8257-3568c03fb80c');\n",
              "          const dataTable =\n",
              "            await google.colab.kernel.invokeFunction('convertToInteractive',\n",
              "                                                     [key], {});\n",
              "          if (!dataTable) return;\n",
              "\n",
              "          const docLinkHtml = 'Like what you see? Visit the ' +\n",
              "            '<a target=\"_blank\" href=https://colab.research.google.com/notebooks/data_table.ipynb>data table notebook</a>'\n",
              "            + ' to learn more about interactive tables.';\n",
              "          element.innerHTML = '';\n",
              "          dataTable['output_type'] = 'display_data';\n",
              "          await google.colab.output.renderOutput(dataTable, element);\n",
              "          const docLink = document.createElement('div');\n",
              "          docLink.innerHTML = docLinkHtml;\n",
              "          element.appendChild(docLink);\n",
              "        }\n",
              "      </script>\n",
              "    </div>\n",
              "  </div>\n",
              "  "
            ],
            "text/plain": [
              "        vehicle_type  registration_year   gearbox     power     model  \\\n",
              "164884     -1.053926          -1.846393  0.313096  0.087887 -0.396409   \n",
              "169493     -1.053926          -4.764923 -1.843435 -1.218455  0.247272   \n",
              "65114      -2.032766          -0.317640  0.313096  0.479790  0.004103   \n",
              "76509      -0.075086           0.516226  0.313096  0.386479  0.833736   \n",
              "191242      0.414334          -0.456617  0.313096 -1.293104  0.776520   \n",
              "65604      -2.032766           0.238271  0.313096 -0.192044 -0.925657   \n",
              "158930     -0.075086           0.933159  0.313096 -0.453312 -0.925657   \n",
              "128317      1.393174           0.794181 -1.843435  2.084724 -0.754009   \n",
              "246650      1.393174          -0.456617  0.313096 -0.770567  0.776520   \n",
              "170349     -0.075086           0.655203  0.313096  1.076975  1.835017   \n",
              "\n",
              "        kilometer  fuel_type     brand  not_repaired  \n",
              "164884   0.575867   0.710977 -0.738304      2.467167  \n",
              "169493  -1.320375   0.710977  0.238420     -0.581094  \n",
              "65114    0.575867   0.710977 -0.813437      0.943037  \n",
              "76509    0.575867  -1.534705  1.290276     -0.581094  \n",
              "191242   0.575867   0.710977  1.290276     -0.581094  \n",
              "65604    0.575867  -1.534705 -0.062111     -0.581094  \n",
              "158930  -2.403942   0.710977 -0.062111     -0.581094  \n",
              "128317  -0.101362   0.710977 -0.062111     -0.581094  \n",
              "246650   0.575867   0.149556  1.290276      2.467167  \n",
              "170349   0.575867  -1.534705 -1.414498     -0.581094  "
            ]
          },
          "metadata": {},
          "output_type": "display_data"
        },
        {
          "data": {
            "text/html": [
              "\n",
              "  <div id=\"df-df21e7c7-4a43-464d-a58e-e3eb0a3c74e9\">\n",
              "    <div class=\"colab-df-container\">\n",
              "      <div>\n",
              "<style scoped>\n",
              "    .dataframe tbody tr th:only-of-type {\n",
              "        vertical-align: middle;\n",
              "    }\n",
              "\n",
              "    .dataframe tbody tr th {\n",
              "        vertical-align: top;\n",
              "    }\n",
              "\n",
              "    .dataframe thead th {\n",
              "        text-align: right;\n",
              "    }\n",
              "</style>\n",
              "<table border=\"1\" class=\"dataframe\">\n",
              "  <thead>\n",
              "    <tr style=\"text-align: right;\">\n",
              "      <th></th>\n",
              "      <th>vehicle_type</th>\n",
              "      <th>registration_year</th>\n",
              "      <th>gearbox</th>\n",
              "      <th>power</th>\n",
              "      <th>model</th>\n",
              "      <th>kilometer</th>\n",
              "      <th>fuel_type</th>\n",
              "      <th>brand</th>\n",
              "      <th>not_repaired</th>\n",
              "    </tr>\n",
              "  </thead>\n",
              "  <tbody>\n",
              "    <tr>\n",
              "      <th>77825</th>\n",
              "      <td>-2.032766</td>\n",
              "      <td>-0.734573</td>\n",
              "      <td>0.313096</td>\n",
              "      <td>0.479790</td>\n",
              "      <td>0.004103</td>\n",
              "      <td>-0.101362</td>\n",
              "      <td>0.710977</td>\n",
              "      <td>-0.813437</td>\n",
              "      <td>-0.581094</td>\n",
              "    </tr>\n",
              "    <tr>\n",
              "      <th>51306</th>\n",
              "      <td>0.903754</td>\n",
              "      <td>1.350091</td>\n",
              "      <td>0.313096</td>\n",
              "      <td>0.311831</td>\n",
              "      <td>1.420201</td>\n",
              "      <td>0.575867</td>\n",
              "      <td>-1.534705</td>\n",
              "      <td>-0.437774</td>\n",
              "      <td>-0.581094</td>\n",
              "    </tr>\n",
              "    <tr>\n",
              "      <th>99002</th>\n",
              "      <td>0.414334</td>\n",
              "      <td>1.211114</td>\n",
              "      <td>0.313096</td>\n",
              "      <td>-0.453312</td>\n",
              "      <td>-1.483514</td>\n",
              "      <td>-1.862158</td>\n",
              "      <td>0.710977</td>\n",
              "      <td>0.313552</td>\n",
              "      <td>-0.581094</td>\n",
              "    </tr>\n",
              "    <tr>\n",
              "      <th>234922</th>\n",
              "      <td>-1.053926</td>\n",
              "      <td>0.516226</td>\n",
              "      <td>0.313096</td>\n",
              "      <td>0.573100</td>\n",
              "      <td>0.776520</td>\n",
              "      <td>0.575867</td>\n",
              "      <td>-1.534705</td>\n",
              "      <td>-1.564763</td>\n",
              "      <td>-0.581094</td>\n",
              "    </tr>\n",
              "    <tr>\n",
              "      <th>42513</th>\n",
              "      <td>0.414334</td>\n",
              "      <td>0.516226</td>\n",
              "      <td>0.313096</td>\n",
              "      <td>-0.826553</td>\n",
              "      <td>0.590568</td>\n",
              "      <td>-0.778591</td>\n",
              "      <td>0.710977</td>\n",
              "      <td>0.463817</td>\n",
              "      <td>2.467167</td>\n",
              "    </tr>\n",
              "    <tr>\n",
              "      <th>29211</th>\n",
              "      <td>-0.075086</td>\n",
              "      <td>-0.039685</td>\n",
              "      <td>0.313096</td>\n",
              "      <td>0.946340</td>\n",
              "      <td>-1.383386</td>\n",
              "      <td>-3.352063</td>\n",
              "      <td>0.710977</td>\n",
              "      <td>-1.414498</td>\n",
              "      <td>0.943037</td>\n",
              "    </tr>\n",
              "    <tr>\n",
              "      <th>115956</th>\n",
              "      <td>0.903754</td>\n",
              "      <td>-0.317640</td>\n",
              "      <td>0.313096</td>\n",
              "      <td>0.815706</td>\n",
              "      <td>0.476136</td>\n",
              "      <td>0.575867</td>\n",
              "      <td>-1.534705</td>\n",
              "      <td>-0.062111</td>\n",
              "      <td>-0.581094</td>\n",
              "    </tr>\n",
              "    <tr>\n",
              "      <th>224963</th>\n",
              "      <td>1.393174</td>\n",
              "      <td>-0.039685</td>\n",
              "      <td>-1.843435</td>\n",
              "      <td>0.218521</td>\n",
              "      <td>0.604872</td>\n",
              "      <td>0.575867</td>\n",
              "      <td>-1.534705</td>\n",
              "      <td>-0.813437</td>\n",
              "      <td>0.943037</td>\n",
              "    </tr>\n",
              "    <tr>\n",
              "      <th>252636</th>\n",
              "      <td>0.414334</td>\n",
              "      <td>0.238271</td>\n",
              "      <td>-1.843435</td>\n",
              "      <td>0.946340</td>\n",
              "      <td>-0.453625</td>\n",
              "      <td>-1.049483</td>\n",
              "      <td>0.710977</td>\n",
              "      <td>0.013022</td>\n",
              "      <td>-0.581094</td>\n",
              "    </tr>\n",
              "    <tr>\n",
              "      <th>162058</th>\n",
              "      <td>1.393174</td>\n",
              "      <td>-0.178662</td>\n",
              "      <td>-1.843435</td>\n",
              "      <td>-0.061409</td>\n",
              "      <td>-1.354778</td>\n",
              "      <td>0.575867</td>\n",
              "      <td>-0.411864</td>\n",
              "      <td>-0.137243</td>\n",
              "      <td>2.467167</td>\n",
              "    </tr>\n",
              "  </tbody>\n",
              "</table>\n",
              "</div>\n",
              "      <button class=\"colab-df-convert\" onclick=\"convertToInteractive('df-df21e7c7-4a43-464d-a58e-e3eb0a3c74e9')\"\n",
              "              title=\"Convert this dataframe to an interactive table.\"\n",
              "              style=\"display:none;\">\n",
              "        \n",
              "  <svg xmlns=\"http://www.w3.org/2000/svg\" height=\"24px\"viewBox=\"0 0 24 24\"\n",
              "       width=\"24px\">\n",
              "    <path d=\"M0 0h24v24H0V0z\" fill=\"none\"/>\n",
              "    <path d=\"M18.56 5.44l.94 2.06.94-2.06 2.06-.94-2.06-.94-.94-2.06-.94 2.06-2.06.94zm-11 1L8.5 8.5l.94-2.06 2.06-.94-2.06-.94L8.5 2.5l-.94 2.06-2.06.94zm10 10l.94 2.06.94-2.06 2.06-.94-2.06-.94-.94-2.06-.94 2.06-2.06.94z\"/><path d=\"M17.41 7.96l-1.37-1.37c-.4-.4-.92-.59-1.43-.59-.52 0-1.04.2-1.43.59L10.3 9.45l-7.72 7.72c-.78.78-.78 2.05 0 2.83L4 21.41c.39.39.9.59 1.41.59.51 0 1.02-.2 1.41-.59l7.78-7.78 2.81-2.81c.8-.78.8-2.07 0-2.86zM5.41 20L4 18.59l7.72-7.72 1.47 1.35L5.41 20z\"/>\n",
              "  </svg>\n",
              "      </button>\n",
              "      \n",
              "  <style>\n",
              "    .colab-df-container {\n",
              "      display:flex;\n",
              "      flex-wrap:wrap;\n",
              "      gap: 12px;\n",
              "    }\n",
              "\n",
              "    .colab-df-convert {\n",
              "      background-color: #E8F0FE;\n",
              "      border: none;\n",
              "      border-radius: 50%;\n",
              "      cursor: pointer;\n",
              "      display: none;\n",
              "      fill: #1967D2;\n",
              "      height: 32px;\n",
              "      padding: 0 0 0 0;\n",
              "      width: 32px;\n",
              "    }\n",
              "\n",
              "    .colab-df-convert:hover {\n",
              "      background-color: #E2EBFA;\n",
              "      box-shadow: 0px 1px 2px rgba(60, 64, 67, 0.3), 0px 1px 3px 1px rgba(60, 64, 67, 0.15);\n",
              "      fill: #174EA6;\n",
              "    }\n",
              "\n",
              "    [theme=dark] .colab-df-convert {\n",
              "      background-color: #3B4455;\n",
              "      fill: #D2E3FC;\n",
              "    }\n",
              "\n",
              "    [theme=dark] .colab-df-convert:hover {\n",
              "      background-color: #434B5C;\n",
              "      box-shadow: 0px 1px 3px 1px rgba(0, 0, 0, 0.15);\n",
              "      filter: drop-shadow(0px 1px 2px rgba(0, 0, 0, 0.3));\n",
              "      fill: #FFFFFF;\n",
              "    }\n",
              "  </style>\n",
              "\n",
              "      <script>\n",
              "        const buttonEl =\n",
              "          document.querySelector('#df-df21e7c7-4a43-464d-a58e-e3eb0a3c74e9 button.colab-df-convert');\n",
              "        buttonEl.style.display =\n",
              "          google.colab.kernel.accessAllowed ? 'block' : 'none';\n",
              "\n",
              "        async function convertToInteractive(key) {\n",
              "          const element = document.querySelector('#df-df21e7c7-4a43-464d-a58e-e3eb0a3c74e9');\n",
              "          const dataTable =\n",
              "            await google.colab.kernel.invokeFunction('convertToInteractive',\n",
              "                                                     [key], {});\n",
              "          if (!dataTable) return;\n",
              "\n",
              "          const docLinkHtml = 'Like what you see? Visit the ' +\n",
              "            '<a target=\"_blank\" href=https://colab.research.google.com/notebooks/data_table.ipynb>data table notebook</a>'\n",
              "            + ' to learn more about interactive tables.';\n",
              "          element.innerHTML = '';\n",
              "          dataTable['output_type'] = 'display_data';\n",
              "          await google.colab.output.renderOutput(dataTable, element);\n",
              "          const docLink = document.createElement('div');\n",
              "          docLink.innerHTML = docLinkHtml;\n",
              "          element.appendChild(docLink);\n",
              "        }\n",
              "      </script>\n",
              "    </div>\n",
              "  </div>\n",
              "  "
            ],
            "text/plain": [
              "        vehicle_type  registration_year   gearbox     power     model  \\\n",
              "77825      -2.032766          -0.734573  0.313096  0.479790  0.004103   \n",
              "51306       0.903754           1.350091  0.313096  0.311831  1.420201   \n",
              "99002       0.414334           1.211114  0.313096 -0.453312 -1.483514   \n",
              "234922     -1.053926           0.516226  0.313096  0.573100  0.776520   \n",
              "42513       0.414334           0.516226  0.313096 -0.826553  0.590568   \n",
              "29211      -0.075086          -0.039685  0.313096  0.946340 -1.383386   \n",
              "115956      0.903754          -0.317640  0.313096  0.815706  0.476136   \n",
              "224963      1.393174          -0.039685 -1.843435  0.218521  0.604872   \n",
              "252636      0.414334           0.238271 -1.843435  0.946340 -0.453625   \n",
              "162058      1.393174          -0.178662 -1.843435 -0.061409 -1.354778   \n",
              "\n",
              "        kilometer  fuel_type     brand  not_repaired  \n",
              "77825   -0.101362   0.710977 -0.813437     -0.581094  \n",
              "51306    0.575867  -1.534705 -0.437774     -0.581094  \n",
              "99002   -1.862158   0.710977  0.313552     -0.581094  \n",
              "234922   0.575867  -1.534705 -1.564763     -0.581094  \n",
              "42513   -0.778591   0.710977  0.463817      2.467167  \n",
              "29211   -3.352063   0.710977 -1.414498      0.943037  \n",
              "115956   0.575867  -1.534705 -0.062111     -0.581094  \n",
              "224963   0.575867  -1.534705 -0.813437      0.943037  \n",
              "252636  -1.049483   0.710977  0.013022     -0.581094  \n",
              "162058   0.575867  -0.411864 -0.137243      2.467167  "
            ]
          },
          "metadata": {},
          "output_type": "display_data"
        }
      ],
      "source": [
        "display(features_train.head(10))\n",
        "display(features_test.head(10))"
      ]
    },
    {
      "cell_type": "code",
      "execution_count": 46,
      "metadata": {
        "colab": {
          "base_uri": "https://localhost:8080/"
        },
        "id": "tMS7MIdjZkj-",
        "outputId": "32c08474-0964-41de-8e40-a4df276ca51c"
      },
      "outputs": [
        {
          "name": "stdout",
          "output_type": "stream",
          "text": [
            "Лучшие параметры модели: {'max_depth': 13}\n",
            "Лучшее значение RMSE: 1961.213324552283\n"
          ]
        }
      ],
      "source": [
        "# дерево решений\n",
        "\n",
        "parameters = {'max_depth': range (1, 20, 2) }\n",
        "model_dt = DecisionTreeRegressor(random_state=12345)\n",
        "grid_searching = GridSearchCV(model_dt, parameters, scoring = 'neg_root_mean_squared_error', cv=5)\n",
        "grid_searching.fit(features_train, target_train)\n",
        "print('Лучшие параметры модели:', grid_searching.best_params_)\n",
        "print('Лучшее значение RMSE:', (-1)*grid_searching.best_score_)"
      ]
    },
    {
      "cell_type": "code",
      "execution_count": 47,
      "metadata": {
        "colab": {
          "base_uri": "https://localhost:8080/"
        },
        "id": "olFnUXIdZkj_",
        "outputId": "0decadce-b188-4e96-e0dc-ec2204e88af4"
      },
      "outputs": [
        {
          "name": "stdout",
          "output_type": "stream",
          "text": [
            "Лучшие параметры модели: {'max_depth': 9, 'n_estimators': 41}\n",
            "Лучшее значение RMSE: 1982.6014662219725\n"
          ]
        }
      ],
      "source": [
        "# случайный лес\n",
        "\n",
        "parameters = {'max_depth': range (1, 10, 2), 'n_estimators': range(1,50, 10) }\n",
        "model_ff = RandomForestRegressor(random_state=12345, n_jobs = -1)\n",
        "grid_searching = GridSearchCV(model_ff, parameters, scoring = 'neg_root_mean_squared_error', cv=5)\n",
        "grid_searching.fit(features_train, target_train)\n",
        "print('Лучшие параметры модели:', grid_searching.best_params_)\n",
        "print('Лучшее значение RMSE:', (-1)*grid_searching.best_score_)"
      ]
    },
    {
      "cell_type": "code",
      "execution_count": 48,
      "metadata": {
        "colab": {
          "base_uri": "https://localhost:8080/"
        },
        "id": "5txJsCNiZkj_",
        "outputId": "684c2099-081b-4ed9-9cf3-25e5f4e878f7"
      },
      "outputs": [
        {
          "name": "stdout",
          "output_type": "stream",
          "text": [
            "Лучшие параметры модели: {'fit_intercept': True}\n",
            "Лучшее значение RMSE: 3031.103076845536\n"
          ]
        }
      ],
      "source": [
        "# линейная регрессия\n",
        "\n",
        "parameters = {'fit_intercept': [True, False] }\n",
        "model_lr = LinearRegression(n_jobs = -1)\n",
        "grid_searching = GridSearchCV(model_lr, parameters, scoring = 'neg_root_mean_squared_error', cv=5)\n",
        "grid_searching.fit(features_train, target_train)\n",
        "print('Лучшие параметры модели:', grid_searching.best_params_)\n",
        "print('Лучшее значение RMSE:', (-1)*grid_searching.best_score_)"
      ]
    },
    {
      "cell_type": "code",
      "execution_count": 58,
      "metadata": {
        "colab": {
          "base_uri": "https://localhost:8080/"
        },
        "id": "e4MyFxG4Zkj_",
        "outputId": "cb11c5e0-e446-4960-8fba-00a677e49c1d"
      },
      "outputs": [
        {
          "name": "stderr",
          "output_type": "stream",
          "text": [
            "/usr/local/lib/python3.8/dist-packages/sklearn/model_selection/_validation.py:378: FitFailedWarning: \n",
            "25 fits failed out of a total of 100.\n",
            "The score on these train-test partitions for these parameters will be set to nan.\n",
            "If these failures are not expected, you can try to debug them by setting error_score='raise'.\n",
            "\n",
            "Below are more details about the failures:\n",
            "--------------------------------------------------------------------------------\n",
            "25 fits failed with the following error:\n",
            "Traceback (most recent call last):\n",
            "  File \"/usr/local/lib/python3.8/dist-packages/sklearn/model_selection/_validation.py\", line 686, in _fit_and_score\n",
            "    estimator.fit(X_train, y_train, **fit_params)\n",
            "  File \"/usr/local/lib/python3.8/dist-packages/lightgbm/sklearn.py\", line 676, in fit\n",
            "    super(LGBMRegressor, self).fit(X, y, sample_weight=sample_weight,\n",
            "  File \"/usr/local/lib/python3.8/dist-packages/lightgbm/sklearn.py\", line 538, in fit\n",
            "    self._Booster = train(params, train_set,\n",
            "  File \"/usr/local/lib/python3.8/dist-packages/lightgbm/engine.py\", line 197, in train\n",
            "    booster = Booster(params=params, train_set=train_set)\n",
            "  File \"/usr/local/lib/python3.8/dist-packages/lightgbm/basic.py\", line 1551, in __init__\n",
            "    _safe_call(_LIB.LGBM_BoosterCreate(\n",
            "  File \"/usr/local/lib/python3.8/dist-packages/lightgbm/basic.py\", line 46, in _safe_call\n",
            "    raise LightGBMError(decode_string(_LIB.LGBM_GetLastError()))\n",
            "lightgbm.basic.LightGBMError: Check failed: config->bagging_freq > 0 && config->bagging_fraction < 1.0f && config->bagging_fraction > 0.0f at /__w/1/s/python-package/compile/src/boosting/rf.hpp, line 28 .\n",
            "\n",
            "\n",
            "  warnings.warn(some_fits_failed_message, FitFailedWarning)\n",
            "/usr/local/lib/python3.8/dist-packages/sklearn/model_selection/_search.py:952: UserWarning: One or more of the test scores are non-finite: [-1.67159020e+03 -1.63491135e+03 -1.65098060e+03 -1.68641513e+03\n",
            " -1.73424188e+03 -1.79832476e+03 -1.66588788e+03 -1.64635827e+03\n",
            " -1.64152368e+03 -1.64982185e+03 -1.65349693e+39 -1.66413742e+39\n",
            " -1.96126442e+39 -1.36690397e+41 -2.01886291e+39             nan\n",
            "             nan             nan             nan             nan]\n",
            "  warnings.warn(\n"
          ]
        },
        {
          "name": "stdout",
          "output_type": "stream",
          "text": [
            "Лучшие параметры модели: {'boosting_type': 'gbdt', 'learning_rate': 0.30000000000000004}\n",
            "Лучшее значение RMSE: 1634.9113517125782\n"
          ]
        }
      ],
      "source": [
        "# модель градиентного бустинга\n",
        "\n",
        "parameters = {'boosting_type': ['gbdt', 'dart', 'goss', 'rf'],\n",
        "             'learning_rate': np.arange(0.1, 1.0, 0.2)}\n",
        "\n",
        "model_lgbm = lgb.LGBMRegressor(max_depth=-1, n_jobs = -1, n_estimators = 245)\n",
        "grid_searching = GridSearchCV(model_lgbm, parameters, scoring = 'neg_root_mean_squared_error', cv=5)\n",
        "grid_searching.fit(features_train, target_train)\n",
        "print('Лучшие параметры модели:', grid_searching.best_params_)\n",
        "print('Лучшее значение RMSE:', (-1)*grid_searching.best_score_)"
      ]
    },
    {
      "cell_type": "markdown",
      "metadata": {
        "id": "LabMBHJcZkj_"
      },
      "source": [
        "С помощью GridSearch были определены гиперпараметры моделей decision_tree_regressor, random_forest_regressor, linear_regression и lgbm_regressor, при которых достигается минимальное значение RMSE "
      ]
    },
    {
      "cell_type": "markdown",
      "metadata": {
        "id": "Nh85rR7CZkj_"
      },
      "source": [
        "## Анализ моделей"
      ]
    },
    {
      "cell_type": "markdown",
      "metadata": {
        "id": "bqXMV8ctZkj_"
      },
      "source": [
        "В проекте необходимо оценить модели по следующим критериям: \n",
        "- качество предсказания;\n",
        "- скорость предсказания;\n",
        "- время обучения.\n",
        "\n",
        "Для этого определим время выполнения обучения, предсказания для моделей с гиперпараметрами, подобранными в предыдущем пункте"
      ]
    },
    {
      "cell_type": "code",
      "execution_count": 59,
      "metadata": {
        "id": "60MWPBs0Zkj_"
      },
      "outputs": [],
      "source": [
        "# создадим переменные для списков, в которых будут содержаться результаты\n",
        "\n",
        "models = ['decision_tree_regressor', 'random_forest_regressor', 'linear_regression', 'lgbm_regressor']\n",
        "\n",
        "time_fit=[]\n",
        "\n",
        "time_predict=[]\n",
        "\n",
        "rmse = []"
      ]
    },
    {
      "cell_type": "code",
      "execution_count": 60,
      "metadata": {
        "colab": {
          "base_uri": "https://localhost:8080/"
        },
        "id": "z7ZrR0xqZkkA",
        "outputId": "4244b598-1f3d-4334-fa2b-66a8c6a0c47a"
      },
      "outputs": [
        {
          "name": "stdout",
          "output_type": "stream",
          "text": [
            "Время обучения модели:  0.7458481788635254\n",
            "Время предсказания моедли 0.014983654022216797\n",
            "Значение метркии rmse 1922.9070869752595\n"
          ]
        }
      ],
      "source": [
        "# дерево решений\n",
        "\n",
        "model_dt = DecisionTreeRegressor(random_state=12345, max_depth = 13)\n",
        "\n",
        "# время обучения\n",
        "\n",
        "start = time.time() \n",
        "model_dt.fit(features_train, target_train)\n",
        "time_fit.append(time.time() - start)\n",
        "\n",
        "# время предсказания\n",
        "\n",
        "start = time.time() \n",
        "model_dt.predict(features_test)\n",
        "time_predict.append(time.time() - start)\n",
        "\n",
        "# результат rmse\n",
        "\n",
        "rmse.append(mean_squared_error(target_test, model_dt.predict(features_test))**0.5)\n",
        "\n",
        "print('Время обучения модели: ', time_fit[-1])\n",
        "print('Время предсказания моедли', time_predict[-1])\n",
        "print('Значение метркии rmse', rmse[-1])"
      ]
    },
    {
      "cell_type": "code",
      "execution_count": 61,
      "metadata": {
        "colab": {
          "base_uri": "https://localhost:8080/"
        },
        "id": "kDEiBCj0ZkkA",
        "outputId": "2ab0428b-f44c-42da-eea1-843228a558fd"
      },
      "outputs": [
        {
          "name": "stdout",
          "output_type": "stream",
          "text": [
            "Время обучения модели:  9.51130747795105\n",
            "Время предсказания моедли 0.1594085693359375\n",
            "Значение метркии rmse 1966.4188966789206\n"
          ]
        }
      ],
      "source": [
        "# случайный лес\n",
        "\n",
        "model_rf = RandomForestRegressor(random_state=12345, n_jobs = -1, max_depth = 9, n_estimators = 41)\n",
        "\n",
        "start = time.time() \n",
        "model_rf.fit(features_train, target_train)\n",
        "time_fit.append(time.time() - start)\n",
        "\n",
        "start = time.time() \n",
        "model_rf.predict(features_test)\n",
        "time_predict.append(time.time() - start)\n",
        "\n",
        "rmse.append(mean_squared_error(target_test, model_rf.predict(features_test))**0.5)\n",
        "\n",
        "print('Время обучения модели: ', time_fit[-1])\n",
        "print('Время предсказания моедли', time_predict[-1])\n",
        "print('Значение метркии rmse', rmse[-1])"
      ]
    },
    {
      "cell_type": "code",
      "execution_count": 62,
      "metadata": {
        "colab": {
          "base_uri": "https://localhost:8080/"
        },
        "id": "QLKaKmsuZkkA",
        "outputId": "eb4c63e0-6aa9-44dd-c9ed-99231ccd2fed"
      },
      "outputs": [
        {
          "name": "stdout",
          "output_type": "stream",
          "text": [
            "Время обучения модели:  0.06755614280700684\n",
            "Время предсказания моедли 0.004341602325439453\n",
            "Значение метркии rmse 2986.958691203651\n"
          ]
        }
      ],
      "source": [
        "# линейная регрессия\n",
        "\n",
        "model_lr = LinearRegression(n_jobs = -1, fit_intercept = True)\n",
        "\n",
        "start = time.time() \n",
        "model_lr.fit(features_train, target_train)\n",
        "time_fit.append(time.time() - start)\n",
        "\n",
        "start = time.time() \n",
        "model_lr.predict(features_test)\n",
        "time_predict.append(time.time() - start)\n",
        "\n",
        "rmse.append(mean_squared_error(target_test, model_lr.predict(features_test))**0.5)\n",
        "\n",
        "print('Время обучения модели: ', time_fit[-1])\n",
        "print('Время предсказания моедли', time_predict[-1])\n",
        "print('Значение метркии rmse', rmse[-1])"
      ]
    },
    {
      "cell_type": "code",
      "execution_count": 64,
      "metadata": {
        "colab": {
          "base_uri": "https://localhost:8080/"
        },
        "id": "AgkIg6bDZkkA",
        "outputId": "449044d6-807a-4516-b615-cd6adca9f5b7"
      },
      "outputs": [
        {
          "name": "stdout",
          "output_type": "stream",
          "text": [
            "Время обучения модели:  2.981786012649536\n",
            "Время предсказания моедли 0.45664262771606445\n",
            "Значение метркии rmse 1621.1491337584168\n"
          ]
        }
      ],
      "source": [
        "# модель градиентного бустинга\n",
        "\n",
        "model_lgbm = lgb.LGBMRegressor(max_depth=-1, \n",
        "                               n_jobs = -1,\n",
        "                               boosting_type = 'gbdt', \n",
        "                               learning_rate = 0.3, \n",
        "                               n_estimators = 245)\n",
        "\n",
        "start = time.time() \n",
        "model_lgbm.fit(features_train, target_train)\n",
        "time_fit.append(time.time() - start)\n",
        "\n",
        "start = time.time() \n",
        "model_lgbm.predict(features_test)\n",
        "time_predict.append(time.time() - start)\n",
        "\n",
        "rmse.append(mean_squared_error(target_test, model_lgbm.predict(features_test))**0.5)\n",
        "\n",
        "print('Время обучения модели: ', time_fit[-1])\n",
        "print('Время предсказания моедли', time_predict[-1])\n",
        "print('Значение метркии rmse', rmse[-1])"
      ]
    },
    {
      "cell_type": "code",
      "execution_count": 65,
      "metadata": {
        "colab": {
          "base_uri": "https://localhost:8080/",
          "height": 175
        },
        "id": "Qqfar2EJZkkA",
        "outputId": "ecd5bf58-8f42-4f10-eb20-aedcc1e77ee7"
      },
      "outputs": [
        {
          "data": {
            "text/html": [
              "<style type=\"text/css\">\n",
              "#T_85768_row2_col0, #T_85768_row2_col1, #T_85768_row3_col2 {\n",
              "  background-color: coral;\n",
              "}\n",
              "</style>\n",
              "<table id=\"T_85768_\" class=\"dataframe\">\n",
              "  <thead>\n",
              "    <tr>\n",
              "      <th class=\"blank level0\" >&nbsp;</th>\n",
              "      <th class=\"col_heading level0 col0\" >time_fit</th>\n",
              "      <th class=\"col_heading level0 col1\" >time_predict</th>\n",
              "      <th class=\"col_heading level0 col2\" >rmse</th>\n",
              "    </tr>\n",
              "  </thead>\n",
              "  <tbody>\n",
              "    <tr>\n",
              "      <th id=\"T_85768_level0_row0\" class=\"row_heading level0 row0\" >decision_tree_regressor</th>\n",
              "      <td id=\"T_85768_row0_col0\" class=\"data row0 col0\" >0.745848</td>\n",
              "      <td id=\"T_85768_row0_col1\" class=\"data row0 col1\" >0.014984</td>\n",
              "      <td id=\"T_85768_row0_col2\" class=\"data row0 col2\" >1922.907087</td>\n",
              "    </tr>\n",
              "    <tr>\n",
              "      <th id=\"T_85768_level0_row1\" class=\"row_heading level0 row1\" >random_forest_regressor</th>\n",
              "      <td id=\"T_85768_row1_col0\" class=\"data row1 col0\" >9.511307</td>\n",
              "      <td id=\"T_85768_row1_col1\" class=\"data row1 col1\" >0.159409</td>\n",
              "      <td id=\"T_85768_row1_col2\" class=\"data row1 col2\" >1966.418897</td>\n",
              "    </tr>\n",
              "    <tr>\n",
              "      <th id=\"T_85768_level0_row2\" class=\"row_heading level0 row2\" >linear_regression</th>\n",
              "      <td id=\"T_85768_row2_col0\" class=\"data row2 col0\" >0.067556</td>\n",
              "      <td id=\"T_85768_row2_col1\" class=\"data row2 col1\" >0.004342</td>\n",
              "      <td id=\"T_85768_row2_col2\" class=\"data row2 col2\" >2986.958691</td>\n",
              "    </tr>\n",
              "    <tr>\n",
              "      <th id=\"T_85768_level0_row3\" class=\"row_heading level0 row3\" >lgbm_regressor</th>\n",
              "      <td id=\"T_85768_row3_col0\" class=\"data row3 col0\" >2.981786</td>\n",
              "      <td id=\"T_85768_row3_col1\" class=\"data row3 col1\" >0.456643</td>\n",
              "      <td id=\"T_85768_row3_col2\" class=\"data row3 col2\" >1621.149134</td>\n",
              "    </tr>\n",
              "  </tbody>\n",
              "</table>\n"
            ],
            "text/plain": [
              "<pandas.io.formats.style.Styler at 0x7fe1770e3b20>"
            ]
          },
          "execution_count": 65,
          "metadata": {},
          "output_type": "execute_result"
        }
      ],
      "source": [
        "# представим результаты в табличном виде\n",
        "\n",
        "pd.DataFrame({'time_fit': time_fit, 'time_predict':time_predict, 'rmse':rmse}, index = models).style.highlight_min(color='coral')"
      ]
    },
    {
      "cell_type": "markdown",
      "metadata": {
        "id": "zi6tz81tZkkA"
      },
      "source": [
        "Из таблицы видно, что быстрее всего с обучением модели и предсказанием результатов справляется линейная регрессия, но при этом она хуже всего предсказывает результат (метрика rmse - наибольшая)\n",
        "\n",
        "Модель градиентного бустинга имеем наилучшую метрику rmse, но при этом проигрывает остальным моделям в предсказании и достаточно долго обучается.\n",
        "\n",
        "Наиболее оптимальной с точки зрения затрат времени на обучения модели, предсказания значений и метрикой rmse является модель Дерева решений.\n",
        "\n",
        "Стоит отметить, что на результаты могут повлиять значения гиперпараметров параметров, разделение данных на тренировочную и тестовую выборки. Также определенное влияние оказывает первичная предобработка датасета."
      ]
    },
    {
      "cell_type": "code",
      "execution_count": 66,
      "metadata": {
        "colab": {
          "base_uri": "https://localhost:8080/"
        },
        "id": "8WmxYQw7ZkkB",
        "outputId": "8b5d7866-1bc0-4fdb-9d2b-5ed430e0182c"
      },
      "outputs": [
        {
          "name": "stdout",
          "output_type": "stream",
          "text": [
            "rmse наивной модели: 4511.507943470774\n"
          ]
        }
      ],
      "source": [
        "# сравним результаты с наивной моделью\n",
        "\n",
        "dummy_model = DummyRegressor(strategy='mean')\n",
        "\n",
        "dummy_model.fit(features_train, target_train)\n",
        "\n",
        "print('rmse наивной модели:', mean_squared_error(target_test, dummy_model.predict(features_test))**0.5)"
      ]
    },
    {
      "cell_type": "markdown",
      "metadata": {
        "id": "Qf5-4pXWZkkB"
      },
      "source": [
        "Значение метрики rmse много хуже значения соответствующей метрики линейной регрессии (худший результат в исследовании), что говорит об адекватности полученных ранее результатов"
      ]
    }
  ],
  "metadata": {
    "ExecuteTimeLog": [
      {
        "duration": 4,
        "start_time": "2022-05-15T11:38:59.480Z"
      },
      {
        "duration": 4,
        "start_time": "2022-05-15T11:39:26.655Z"
      },
      {
        "duration": 7,
        "start_time": "2022-05-15T11:39:57.323Z"
      },
      {
        "duration": 57,
        "start_time": "2022-05-15T11:40:26.216Z"
      },
      {
        "duration": 2690,
        "start_time": "2022-05-15T11:40:49.003Z"
      },
      {
        "duration": 469,
        "start_time": "2022-05-15T11:41:13.109Z"
      },
      {
        "duration": 5,
        "start_time": "2022-05-15T11:41:13.581Z"
      },
      {
        "duration": 2685,
        "start_time": "2022-05-15T11:41:13.593Z"
      },
      {
        "duration": 1275,
        "start_time": "2022-05-17T19:28:31.004Z"
      },
      {
        "duration": 5,
        "start_time": "2022-05-17T19:28:32.281Z"
      },
      {
        "duration": 4054,
        "start_time": "2022-05-17T19:28:32.287Z"
      },
      {
        "duration": 326,
        "start_time": "2022-05-17T19:28:36.343Z"
      },
      {
        "duration": 103,
        "start_time": "2022-05-17T19:29:16.485Z"
      },
      {
        "duration": 144,
        "start_time": "2022-05-17T19:29:21.738Z"
      },
      {
        "duration": 419,
        "start_time": "2022-05-17T19:29:56.248Z"
      },
      {
        "duration": 1315,
        "start_time": "2022-05-17T19:30:57.367Z"
      },
      {
        "duration": 473,
        "start_time": "2022-05-17T19:31:12.839Z"
      },
      {
        "duration": 2104,
        "start_time": "2022-05-17T19:31:20.531Z"
      },
      {
        "duration": 83,
        "start_time": "2022-05-17T19:31:22.636Z"
      },
      {
        "duration": 434,
        "start_time": "2022-05-17T19:31:24.620Z"
      },
      {
        "duration": 1398,
        "start_time": "2022-05-17T19:31:26.161Z"
      },
      {
        "duration": 2221,
        "start_time": "2022-05-17T19:31:46.758Z"
      },
      {
        "duration": 101,
        "start_time": "2022-05-17T19:31:49.929Z"
      },
      {
        "duration": 422,
        "start_time": "2022-05-17T19:31:51.113Z"
      },
      {
        "duration": 6,
        "start_time": "2022-05-17T19:32:38.849Z"
      },
      {
        "duration": 2,
        "start_time": "2022-05-17T19:32:53.627Z"
      },
      {
        "duration": 4,
        "start_time": "2022-05-17T19:32:53.632Z"
      },
      {
        "duration": 1861,
        "start_time": "2022-05-17T19:32:53.639Z"
      },
      {
        "duration": 256,
        "start_time": "2022-05-17T19:32:55.501Z"
      },
      {
        "duration": 95,
        "start_time": "2022-05-17T19:32:55.759Z"
      },
      {
        "duration": 446,
        "start_time": "2022-05-17T19:32:55.855Z"
      },
      {
        "duration": 1445,
        "start_time": "2022-05-17T19:32:56.302Z"
      },
      {
        "duration": 5,
        "start_time": "2022-05-17T19:32:57.749Z"
      },
      {
        "duration": 2,
        "start_time": "2022-05-17T19:41:40.318Z"
      },
      {
        "duration": 10,
        "start_time": "2022-05-17T19:41:40.323Z"
      },
      {
        "duration": 1781,
        "start_time": "2022-05-17T19:41:40.334Z"
      },
      {
        "duration": 207,
        "start_time": "2022-05-17T19:41:42.117Z"
      },
      {
        "duration": 85,
        "start_time": "2022-05-17T19:41:42.326Z"
      },
      {
        "duration": 426,
        "start_time": "2022-05-17T19:41:42.412Z"
      },
      {
        "duration": 1289,
        "start_time": "2022-05-17T19:41:42.841Z"
      },
      {
        "duration": 10,
        "start_time": "2022-05-17T19:41:44.132Z"
      },
      {
        "duration": 42,
        "start_time": "2022-05-17T19:42:00.550Z"
      },
      {
        "duration": 6,
        "start_time": "2022-05-17T19:42:56.174Z"
      },
      {
        "duration": 1076,
        "start_time": "2022-05-17T19:44:40.874Z"
      },
      {
        "duration": 4,
        "start_time": "2022-05-17T19:44:41.952Z"
      },
      {
        "duration": 1904,
        "start_time": "2022-05-17T19:44:41.957Z"
      },
      {
        "duration": 243,
        "start_time": "2022-05-17T19:44:43.863Z"
      },
      {
        "duration": 89,
        "start_time": "2022-05-17T19:44:44.107Z"
      },
      {
        "duration": 6,
        "start_time": "2022-05-17T19:44:44.197Z"
      },
      {
        "duration": 115,
        "start_time": "2022-05-17T19:46:52.617Z"
      },
      {
        "duration": 9,
        "start_time": "2022-05-17T19:46:58.875Z"
      },
      {
        "duration": 9,
        "start_time": "2022-05-17T19:47:03.846Z"
      },
      {
        "duration": 10,
        "start_time": "2022-05-17T19:47:09.984Z"
      },
      {
        "duration": 11,
        "start_time": "2022-05-17T19:47:13.116Z"
      },
      {
        "duration": 9,
        "start_time": "2022-05-17T19:50:01.455Z"
      },
      {
        "duration": 5,
        "start_time": "2022-05-17T19:52:30.588Z"
      },
      {
        "duration": 9,
        "start_time": "2022-05-17T19:56:58.156Z"
      },
      {
        "duration": 8,
        "start_time": "2022-05-17T19:57:30.002Z"
      },
      {
        "duration": 34,
        "start_time": "2022-05-17T19:57:40.596Z"
      },
      {
        "duration": 30,
        "start_time": "2022-05-17T19:57:46.508Z"
      },
      {
        "duration": 81,
        "start_time": "2022-05-17T19:57:57.033Z"
      },
      {
        "duration": 80,
        "start_time": "2022-05-17T19:58:06.450Z"
      },
      {
        "duration": 83,
        "start_time": "2022-05-17T19:58:10.034Z"
      },
      {
        "duration": 5,
        "start_time": "2022-05-17T19:59:13.320Z"
      },
      {
        "duration": 9,
        "start_time": "2022-05-17T19:59:21.184Z"
      },
      {
        "duration": 11,
        "start_time": "2022-05-17T19:59:25.331Z"
      },
      {
        "duration": 4,
        "start_time": "2022-05-17T19:59:29.860Z"
      },
      {
        "duration": 121,
        "start_time": "2022-05-17T19:59:36.908Z"
      },
      {
        "duration": 90,
        "start_time": "2022-05-17T19:59:40.231Z"
      },
      {
        "duration": 127,
        "start_time": "2022-05-17T20:00:06.670Z"
      },
      {
        "duration": 129,
        "start_time": "2022-05-17T20:00:35.129Z"
      },
      {
        "duration": 1063,
        "start_time": "2022-05-17T20:01:27.087Z"
      },
      {
        "duration": 4,
        "start_time": "2022-05-17T20:01:28.152Z"
      },
      {
        "duration": 2092,
        "start_time": "2022-05-17T20:01:28.157Z"
      },
      {
        "duration": 237,
        "start_time": "2022-05-17T20:01:30.251Z"
      },
      {
        "duration": 92,
        "start_time": "2022-05-17T20:01:30.490Z"
      },
      {
        "duration": 146,
        "start_time": "2022-05-17T20:01:30.584Z"
      },
      {
        "duration": 130,
        "start_time": "2022-05-17T20:01:30.741Z"
      },
      {
        "duration": 101,
        "start_time": "2022-05-17T20:03:36.040Z"
      },
      {
        "duration": 3,
        "start_time": "2022-05-17T20:05:10.969Z"
      },
      {
        "duration": 6,
        "start_time": "2022-05-17T20:05:10.974Z"
      },
      {
        "duration": 1819,
        "start_time": "2022-05-17T20:05:10.982Z"
      },
      {
        "duration": 222,
        "start_time": "2022-05-17T20:05:12.803Z"
      },
      {
        "duration": 86,
        "start_time": "2022-05-17T20:05:31.415Z"
      },
      {
        "duration": 19,
        "start_time": "2022-05-17T20:07:22.575Z"
      },
      {
        "duration": 45,
        "start_time": "2022-05-17T20:08:02.256Z"
      },
      {
        "duration": 19,
        "start_time": "2022-05-17T20:08:40.228Z"
      },
      {
        "duration": 50,
        "start_time": "2022-05-17T20:11:01.238Z"
      },
      {
        "duration": 36,
        "start_time": "2022-05-17T20:11:23.093Z"
      },
      {
        "duration": 50,
        "start_time": "2022-05-17T20:11:40.712Z"
      },
      {
        "duration": 6,
        "start_time": "2022-05-17T20:12:30.393Z"
      },
      {
        "duration": 27,
        "start_time": "2022-05-17T20:12:43.583Z"
      },
      {
        "duration": 36,
        "start_time": "2022-05-17T20:13:29.176Z"
      },
      {
        "duration": 33,
        "start_time": "2022-05-17T20:28:19.695Z"
      },
      {
        "duration": 51,
        "start_time": "2022-05-17T20:32:55.579Z"
      },
      {
        "duration": 3,
        "start_time": "2022-05-17T20:41:40.337Z"
      },
      {
        "duration": 33,
        "start_time": "2022-05-17T20:41:40.342Z"
      },
      {
        "duration": 2087,
        "start_time": "2022-05-17T20:41:40.377Z"
      },
      {
        "duration": 4,
        "start_time": "2022-05-17T20:41:42.469Z"
      },
      {
        "duration": 660,
        "start_time": "2022-05-17T20:41:42.475Z"
      },
      {
        "duration": 0,
        "start_time": "2022-05-17T20:41:43.136Z"
      },
      {
        "duration": 0,
        "start_time": "2022-05-17T20:41:43.139Z"
      },
      {
        "duration": 3,
        "start_time": "2022-05-17T20:42:36.062Z"
      },
      {
        "duration": 5,
        "start_time": "2022-05-17T20:42:36.067Z"
      },
      {
        "duration": 2096,
        "start_time": "2022-05-17T20:42:36.074Z"
      },
      {
        "duration": 5,
        "start_time": "2022-05-17T20:42:38.171Z"
      },
      {
        "duration": 244,
        "start_time": "2022-05-17T20:42:38.179Z"
      },
      {
        "duration": 49,
        "start_time": "2022-05-17T20:42:38.425Z"
      },
      {
        "duration": 45,
        "start_time": "2022-05-17T20:42:38.476Z"
      },
      {
        "duration": 49,
        "start_time": "2022-05-17T20:43:07.267Z"
      },
      {
        "duration": 3,
        "start_time": "2022-05-17T20:43:24.375Z"
      },
      {
        "duration": 4,
        "start_time": "2022-05-17T20:43:24.398Z"
      },
      {
        "duration": 2041,
        "start_time": "2022-05-17T20:43:24.404Z"
      },
      {
        "duration": 6,
        "start_time": "2022-05-17T20:43:26.448Z"
      },
      {
        "duration": 250,
        "start_time": "2022-05-17T20:43:26.456Z"
      },
      {
        "duration": 39,
        "start_time": "2022-05-17T20:43:26.708Z"
      },
      {
        "duration": 67,
        "start_time": "2022-05-17T20:43:26.749Z"
      },
      {
        "duration": 25,
        "start_time": "2022-05-17T20:46:41.060Z"
      },
      {
        "duration": 48,
        "start_time": "2022-05-17T20:48:42.767Z"
      },
      {
        "duration": 66,
        "start_time": "2022-05-17T20:50:01.261Z"
      },
      {
        "duration": 2,
        "start_time": "2022-05-17T20:50:12.167Z"
      },
      {
        "duration": 8,
        "start_time": "2022-05-17T20:50:12.171Z"
      },
      {
        "duration": 2040,
        "start_time": "2022-05-17T20:50:12.180Z"
      },
      {
        "duration": 4,
        "start_time": "2022-05-17T20:50:14.222Z"
      },
      {
        "duration": 279,
        "start_time": "2022-05-17T20:50:14.229Z"
      },
      {
        "duration": 50,
        "start_time": "2022-05-17T20:50:14.509Z"
      },
      {
        "duration": 55,
        "start_time": "2022-05-17T20:50:14.563Z"
      },
      {
        "duration": 50,
        "start_time": "2022-05-17T20:50:14.619Z"
      },
      {
        "duration": 34,
        "start_time": "2022-05-17T20:50:14.671Z"
      },
      {
        "duration": 63,
        "start_time": "2022-05-17T20:52:01.699Z"
      },
      {
        "duration": 31,
        "start_time": "2022-05-17T20:53:04.755Z"
      },
      {
        "duration": 50,
        "start_time": "2022-05-17T20:57:13.057Z"
      },
      {
        "duration": 86,
        "start_time": "2022-05-17T21:00:53.734Z"
      },
      {
        "duration": 2473,
        "start_time": "2022-05-17T21:12:40.501Z"
      },
      {
        "duration": 97,
        "start_time": "2022-05-17T21:16:00.144Z"
      },
      {
        "duration": 415,
        "start_time": "2022-05-17T21:16:57.354Z"
      },
      {
        "duration": 592,
        "start_time": "2022-05-17T21:17:48.990Z"
      },
      {
        "duration": 275,
        "start_time": "2022-05-17T21:20:52.157Z"
      },
      {
        "duration": 592,
        "start_time": "2022-05-17T21:21:11.842Z"
      },
      {
        "duration": 10,
        "start_time": "2022-05-17T21:32:46.033Z"
      },
      {
        "duration": 36,
        "start_time": "2022-05-17T21:33:12.669Z"
      },
      {
        "duration": 17,
        "start_time": "2022-05-17T21:33:20.839Z"
      },
      {
        "duration": 18,
        "start_time": "2022-05-17T21:34:40.939Z"
      },
      {
        "duration": 12,
        "start_time": "2022-05-17T21:36:37.480Z"
      },
      {
        "duration": 13,
        "start_time": "2022-05-17T21:37:11.156Z"
      },
      {
        "duration": 15,
        "start_time": "2022-05-17T21:37:44.695Z"
      },
      {
        "duration": 413,
        "start_time": "2022-05-17T21:37:51.297Z"
      },
      {
        "duration": 10,
        "start_time": "2022-05-17T21:38:41.008Z"
      },
      {
        "duration": 13,
        "start_time": "2022-05-17T21:38:46.997Z"
      },
      {
        "duration": 82,
        "start_time": "2022-05-17T21:38:53.121Z"
      },
      {
        "duration": 568,
        "start_time": "2022-05-17T21:42:23.658Z"
      },
      {
        "duration": 12,
        "start_time": "2022-05-17T21:42:35.458Z"
      },
      {
        "duration": 16,
        "start_time": "2022-05-17T21:42:50.572Z"
      },
      {
        "duration": 11,
        "start_time": "2022-05-17T21:42:56.781Z"
      },
      {
        "duration": 175,
        "start_time": "2022-05-17T21:44:15.658Z"
      },
      {
        "duration": 19,
        "start_time": "2022-05-17T21:44:32.151Z"
      },
      {
        "duration": 11,
        "start_time": "2022-05-17T21:45:44.239Z"
      },
      {
        "duration": 10,
        "start_time": "2022-05-17T21:47:58.596Z"
      },
      {
        "duration": 17,
        "start_time": "2022-05-17T21:48:11.165Z"
      },
      {
        "duration": 88,
        "start_time": "2022-05-17T21:48:55.457Z"
      },
      {
        "duration": 95,
        "start_time": "2022-05-17T21:49:46.485Z"
      },
      {
        "duration": 2,
        "start_time": "2022-05-17T21:52:09.018Z"
      },
      {
        "duration": 8,
        "start_time": "2022-05-17T21:52:09.022Z"
      },
      {
        "duration": 1952,
        "start_time": "2022-05-17T21:52:09.031Z"
      },
      {
        "duration": 115,
        "start_time": "2022-05-17T21:52:10.985Z"
      },
      {
        "duration": 232,
        "start_time": "2022-05-17T21:52:11.102Z"
      },
      {
        "duration": 42,
        "start_time": "2022-05-17T21:52:11.336Z"
      },
      {
        "duration": 44,
        "start_time": "2022-05-17T21:52:11.380Z"
      },
      {
        "duration": 42,
        "start_time": "2022-05-17T21:52:11.440Z"
      },
      {
        "duration": 60,
        "start_time": "2022-05-17T21:52:11.484Z"
      },
      {
        "duration": 48,
        "start_time": "2022-05-17T21:52:11.548Z"
      },
      {
        "duration": 289,
        "start_time": "2022-05-17T21:52:11.598Z"
      },
      {
        "duration": 21,
        "start_time": "2022-05-17T21:52:11.889Z"
      },
      {
        "duration": 84,
        "start_time": "2022-05-17T21:52:11.912Z"
      },
      {
        "duration": 52,
        "start_time": "2022-05-17T21:52:11.998Z"
      },
      {
        "duration": 396,
        "start_time": "2022-05-17T21:52:12.053Z"
      },
      {
        "duration": 58,
        "start_time": "2022-05-17T21:54:16.063Z"
      },
      {
        "duration": 392,
        "start_time": "2022-05-17T21:54:22.329Z"
      },
      {
        "duration": 70,
        "start_time": "2022-05-17T21:54:31.153Z"
      },
      {
        "duration": 3,
        "start_time": "2022-05-17T21:55:58.756Z"
      },
      {
        "duration": 6,
        "start_time": "2022-05-17T21:55:58.761Z"
      },
      {
        "duration": 1958,
        "start_time": "2022-05-17T21:55:58.768Z"
      },
      {
        "duration": 4,
        "start_time": "2022-05-17T21:56:00.728Z"
      },
      {
        "duration": 261,
        "start_time": "2022-05-17T21:56:00.742Z"
      },
      {
        "duration": 45,
        "start_time": "2022-05-17T21:56:01.005Z"
      },
      {
        "duration": 51,
        "start_time": "2022-05-17T21:56:01.053Z"
      },
      {
        "duration": 51,
        "start_time": "2022-05-17T21:56:01.106Z"
      },
      {
        "duration": 50,
        "start_time": "2022-05-17T21:56:01.159Z"
      },
      {
        "duration": 64,
        "start_time": "2022-05-17T21:56:01.211Z"
      },
      {
        "duration": 271,
        "start_time": "2022-05-17T21:56:01.277Z"
      },
      {
        "duration": 22,
        "start_time": "2022-05-17T21:56:01.550Z"
      },
      {
        "duration": 83,
        "start_time": "2022-05-17T21:56:01.573Z"
      },
      {
        "duration": 100,
        "start_time": "2022-05-17T21:56:01.658Z"
      },
      {
        "duration": 65,
        "start_time": "2022-05-17T21:56:01.760Z"
      },
      {
        "duration": 405,
        "start_time": "2022-05-17T21:56:01.827Z"
      },
      {
        "duration": 3,
        "start_time": "2022-05-17T21:57:59.278Z"
      },
      {
        "duration": 12,
        "start_time": "2022-05-17T21:57:59.282Z"
      },
      {
        "duration": 1964,
        "start_time": "2022-05-17T21:57:59.296Z"
      },
      {
        "duration": 4,
        "start_time": "2022-05-17T21:58:01.261Z"
      },
      {
        "duration": 245,
        "start_time": "2022-05-17T21:58:01.267Z"
      },
      {
        "duration": 45,
        "start_time": "2022-05-17T21:58:01.514Z"
      },
      {
        "duration": 56,
        "start_time": "2022-05-17T21:58:01.561Z"
      },
      {
        "duration": 49,
        "start_time": "2022-05-17T21:58:01.619Z"
      },
      {
        "duration": 51,
        "start_time": "2022-05-17T21:58:01.670Z"
      },
      {
        "duration": 63,
        "start_time": "2022-05-17T21:58:01.723Z"
      },
      {
        "duration": 321,
        "start_time": "2022-05-17T21:58:01.788Z"
      },
      {
        "duration": 19,
        "start_time": "2022-05-17T21:58:02.111Z"
      },
      {
        "duration": 77,
        "start_time": "2022-05-17T21:58:02.132Z"
      },
      {
        "duration": 109,
        "start_time": "2022-05-17T21:58:02.211Z"
      },
      {
        "duration": 82,
        "start_time": "2022-05-17T21:58:02.321Z"
      },
      {
        "duration": 426,
        "start_time": "2022-05-17T21:58:02.405Z"
      },
      {
        "duration": 89,
        "start_time": "2022-05-17T22:02:44.088Z"
      },
      {
        "duration": 69,
        "start_time": "2022-05-17T22:02:46.321Z"
      },
      {
        "duration": 3,
        "start_time": "2022-05-17T22:02:52.108Z"
      },
      {
        "duration": 8,
        "start_time": "2022-05-17T22:02:52.112Z"
      },
      {
        "duration": 1748,
        "start_time": "2022-05-17T22:02:52.122Z"
      },
      {
        "duration": 4,
        "start_time": "2022-05-17T22:02:53.872Z"
      },
      {
        "duration": 224,
        "start_time": "2022-05-17T22:02:53.878Z"
      },
      {
        "duration": 39,
        "start_time": "2022-05-17T22:02:54.103Z"
      },
      {
        "duration": 44,
        "start_time": "2022-05-17T22:02:54.144Z"
      },
      {
        "duration": 41,
        "start_time": "2022-05-17T22:02:54.190Z"
      },
      {
        "duration": 45,
        "start_time": "2022-05-17T22:02:54.241Z"
      },
      {
        "duration": 63,
        "start_time": "2022-05-17T22:02:54.288Z"
      },
      {
        "duration": 240,
        "start_time": "2022-05-17T22:02:54.354Z"
      },
      {
        "duration": 19,
        "start_time": "2022-05-17T22:02:54.596Z"
      },
      {
        "duration": 80,
        "start_time": "2022-05-17T22:02:54.616Z"
      },
      {
        "duration": 99,
        "start_time": "2022-05-17T22:02:54.698Z"
      },
      {
        "duration": 74,
        "start_time": "2022-05-17T22:02:54.799Z"
      },
      {
        "duration": 405,
        "start_time": "2022-05-17T22:02:54.875Z"
      },
      {
        "duration": 2,
        "start_time": "2022-05-17T22:08:26.731Z"
      },
      {
        "duration": 8,
        "start_time": "2022-05-17T22:08:26.735Z"
      },
      {
        "duration": 1827,
        "start_time": "2022-05-17T22:08:26.744Z"
      },
      {
        "duration": 4,
        "start_time": "2022-05-17T22:08:28.573Z"
      },
      {
        "duration": 227,
        "start_time": "2022-05-17T22:08:28.579Z"
      },
      {
        "duration": 39,
        "start_time": "2022-05-17T22:08:28.807Z"
      },
      {
        "duration": 44,
        "start_time": "2022-05-17T22:08:28.848Z"
      },
      {
        "duration": 53,
        "start_time": "2022-05-17T22:08:28.893Z"
      },
      {
        "duration": 46,
        "start_time": "2022-05-17T22:08:28.948Z"
      },
      {
        "duration": 58,
        "start_time": "2022-05-17T22:08:28.996Z"
      },
      {
        "duration": 253,
        "start_time": "2022-05-17T22:08:29.056Z"
      },
      {
        "duration": 18,
        "start_time": "2022-05-17T22:08:29.311Z"
      },
      {
        "duration": 61,
        "start_time": "2022-05-17T22:08:29.330Z"
      },
      {
        "duration": 101,
        "start_time": "2022-05-17T22:08:29.392Z"
      },
      {
        "duration": 69,
        "start_time": "2022-05-17T22:08:29.494Z"
      },
      {
        "duration": 331,
        "start_time": "2022-05-17T22:08:29.564Z"
      },
      {
        "duration": 51,
        "start_time": "2022-05-17T22:08:49.982Z"
      },
      {
        "duration": 118,
        "start_time": "2022-05-17T22:09:07.538Z"
      },
      {
        "duration": 2,
        "start_time": "2022-05-17T22:11:05.717Z"
      },
      {
        "duration": 6,
        "start_time": "2022-05-17T22:11:05.721Z"
      },
      {
        "duration": 1804,
        "start_time": "2022-05-17T22:11:05.728Z"
      },
      {
        "duration": 9,
        "start_time": "2022-05-17T22:11:07.534Z"
      },
      {
        "duration": 221,
        "start_time": "2022-05-17T22:11:07.545Z"
      },
      {
        "duration": 34,
        "start_time": "2022-05-17T22:11:07.768Z"
      },
      {
        "duration": 55,
        "start_time": "2022-05-17T22:11:07.804Z"
      },
      {
        "duration": 34,
        "start_time": "2022-05-17T22:11:07.861Z"
      },
      {
        "duration": 60,
        "start_time": "2022-05-17T22:11:07.897Z"
      },
      {
        "duration": 45,
        "start_time": "2022-05-17T22:11:07.959Z"
      },
      {
        "duration": 257,
        "start_time": "2022-05-17T22:11:08.006Z"
      },
      {
        "duration": 18,
        "start_time": "2022-05-17T22:11:08.265Z"
      },
      {
        "duration": 73,
        "start_time": "2022-05-17T22:11:08.285Z"
      },
      {
        "duration": 92,
        "start_time": "2022-05-17T22:11:08.360Z"
      },
      {
        "duration": 68,
        "start_time": "2022-05-17T22:11:08.454Z"
      },
      {
        "duration": 65,
        "start_time": "2022-05-17T22:11:08.524Z"
      },
      {
        "duration": 352,
        "start_time": "2022-05-17T22:11:08.591Z"
      },
      {
        "duration": 3,
        "start_time": "2022-05-17T22:11:18.105Z"
      },
      {
        "duration": 8,
        "start_time": "2022-05-17T22:11:18.110Z"
      },
      {
        "duration": 1813,
        "start_time": "2022-05-17T22:11:18.119Z"
      },
      {
        "duration": 5,
        "start_time": "2022-05-17T22:11:19.941Z"
      },
      {
        "duration": 224,
        "start_time": "2022-05-17T22:11:19.948Z"
      },
      {
        "duration": 34,
        "start_time": "2022-05-17T22:11:20.174Z"
      },
      {
        "duration": 58,
        "start_time": "2022-05-17T22:11:20.209Z"
      },
      {
        "duration": 33,
        "start_time": "2022-05-17T22:11:20.269Z"
      },
      {
        "duration": 54,
        "start_time": "2022-05-17T22:11:20.304Z"
      },
      {
        "duration": 45,
        "start_time": "2022-05-17T22:11:20.360Z"
      },
      {
        "duration": 255,
        "start_time": "2022-05-17T22:11:20.408Z"
      },
      {
        "duration": 18,
        "start_time": "2022-05-17T22:11:20.664Z"
      },
      {
        "duration": 68,
        "start_time": "2022-05-17T22:11:20.683Z"
      },
      {
        "duration": 89,
        "start_time": "2022-05-17T22:11:20.752Z"
      },
      {
        "duration": 66,
        "start_time": "2022-05-17T22:11:20.843Z"
      },
      {
        "duration": 61,
        "start_time": "2022-05-17T22:11:20.911Z"
      },
      {
        "duration": 321,
        "start_time": "2022-05-17T22:11:20.973Z"
      },
      {
        "duration": 1430,
        "start_time": "2022-05-21T10:58:19.035Z"
      },
      {
        "duration": 5,
        "start_time": "2022-05-21T10:58:20.467Z"
      },
      {
        "duration": 2311,
        "start_time": "2022-05-21T10:58:20.473Z"
      },
      {
        "duration": 4,
        "start_time": "2022-05-21T10:58:22.786Z"
      },
      {
        "duration": 251,
        "start_time": "2022-05-21T10:58:22.792Z"
      },
      {
        "duration": 34,
        "start_time": "2022-05-21T10:58:23.045Z"
      },
      {
        "duration": 45,
        "start_time": "2022-05-21T10:58:23.081Z"
      },
      {
        "duration": 47,
        "start_time": "2022-05-21T10:58:23.128Z"
      },
      {
        "duration": 44,
        "start_time": "2022-05-21T10:58:23.177Z"
      },
      {
        "duration": 65,
        "start_time": "2022-05-21T10:58:23.223Z"
      },
      {
        "duration": 322,
        "start_time": "2022-05-21T10:58:23.289Z"
      },
      {
        "duration": 113,
        "start_time": "2022-05-21T10:58:23.613Z"
      },
      {
        "duration": 0,
        "start_time": "2022-05-21T10:58:23.728Z"
      },
      {
        "duration": 0,
        "start_time": "2022-05-21T10:58:23.729Z"
      },
      {
        "duration": 0,
        "start_time": "2022-05-21T10:58:23.730Z"
      },
      {
        "duration": 0,
        "start_time": "2022-05-21T10:58:23.731Z"
      },
      {
        "duration": 0,
        "start_time": "2022-05-21T10:58:23.732Z"
      },
      {
        "duration": 2,
        "start_time": "2022-05-21T11:04:29.712Z"
      },
      {
        "duration": 4,
        "start_time": "2022-05-21T11:04:29.912Z"
      },
      {
        "duration": 1849,
        "start_time": "2022-05-21T11:04:29.918Z"
      },
      {
        "duration": 4,
        "start_time": "2022-05-21T11:04:31.770Z"
      },
      {
        "duration": 240,
        "start_time": "2022-05-21T11:04:31.775Z"
      },
      {
        "duration": 40,
        "start_time": "2022-05-21T11:04:32.018Z"
      },
      {
        "duration": 54,
        "start_time": "2022-05-21T11:04:32.060Z"
      },
      {
        "duration": 54,
        "start_time": "2022-05-21T11:04:32.116Z"
      },
      {
        "duration": 3,
        "start_time": "2022-05-21T11:06:31.726Z"
      },
      {
        "duration": 5,
        "start_time": "2022-05-21T11:06:31.884Z"
      },
      {
        "duration": 1961,
        "start_time": "2022-05-21T11:06:31.892Z"
      },
      {
        "duration": 6,
        "start_time": "2022-05-21T11:06:33.855Z"
      },
      {
        "duration": 234,
        "start_time": "2022-05-21T11:06:33.863Z"
      },
      {
        "duration": 36,
        "start_time": "2022-05-21T11:06:34.099Z"
      },
      {
        "duration": 60,
        "start_time": "2022-05-21T11:06:34.137Z"
      },
      {
        "duration": 35,
        "start_time": "2022-05-21T11:06:34.199Z"
      },
      {
        "duration": 44,
        "start_time": "2022-05-21T11:06:34.251Z"
      },
      {
        "duration": 56,
        "start_time": "2022-05-21T11:06:34.297Z"
      },
      {
        "duration": 278,
        "start_time": "2022-05-21T11:06:34.355Z"
      },
      {
        "duration": 26,
        "start_time": "2022-05-21T11:06:34.635Z"
      },
      {
        "duration": 134,
        "start_time": "2022-05-21T11:06:34.662Z"
      },
      {
        "duration": 120,
        "start_time": "2022-05-21T11:06:34.798Z"
      },
      {
        "duration": 67,
        "start_time": "2022-05-21T11:06:34.920Z"
      },
      {
        "duration": 64,
        "start_time": "2022-05-21T11:06:34.988Z"
      },
      {
        "duration": 3,
        "start_time": "2022-05-21T11:06:36.384Z"
      },
      {
        "duration": 4,
        "start_time": "2022-05-21T11:06:36.395Z"
      },
      {
        "duration": 1795,
        "start_time": "2022-05-21T11:06:36.402Z"
      },
      {
        "duration": 4,
        "start_time": "2022-05-21T11:06:38.198Z"
      },
      {
        "duration": 242,
        "start_time": "2022-05-21T11:06:38.205Z"
      },
      {
        "duration": 34,
        "start_time": "2022-05-21T11:06:38.449Z"
      },
      {
        "duration": 45,
        "start_time": "2022-05-21T11:06:38.485Z"
      },
      {
        "duration": 46,
        "start_time": "2022-05-21T11:06:38.532Z"
      },
      {
        "duration": 42,
        "start_time": "2022-05-21T11:06:38.580Z"
      },
      {
        "duration": 61,
        "start_time": "2022-05-21T11:06:38.624Z"
      },
      {
        "duration": 269,
        "start_time": "2022-05-21T11:06:38.686Z"
      },
      {
        "duration": 20,
        "start_time": "2022-05-21T11:06:38.957Z"
      },
      {
        "duration": 76,
        "start_time": "2022-05-21T11:06:38.979Z"
      },
      {
        "duration": 121,
        "start_time": "2022-05-21T11:06:39.057Z"
      },
      {
        "duration": 63,
        "start_time": "2022-05-21T11:06:39.180Z"
      },
      {
        "duration": 57,
        "start_time": "2022-05-21T11:06:39.245Z"
      },
      {
        "duration": 395,
        "start_time": "2022-05-21T11:06:39.304Z"
      },
      {
        "duration": 1277,
        "start_time": "2022-05-21T11:06:44.666Z"
      },
      {
        "duration": 7,
        "start_time": "2022-05-21T11:06:45.945Z"
      },
      {
        "duration": 2080,
        "start_time": "2022-05-21T11:06:45.953Z"
      },
      {
        "duration": 4,
        "start_time": "2022-05-21T11:06:48.035Z"
      },
      {
        "duration": 306,
        "start_time": "2022-05-21T11:06:48.041Z"
      },
      {
        "duration": 36,
        "start_time": "2022-05-21T11:06:48.351Z"
      },
      {
        "duration": 59,
        "start_time": "2022-05-21T11:06:48.389Z"
      },
      {
        "duration": 38,
        "start_time": "2022-05-21T11:06:48.452Z"
      },
      {
        "duration": 60,
        "start_time": "2022-05-21T11:06:48.492Z"
      },
      {
        "duration": 46,
        "start_time": "2022-05-21T11:06:48.554Z"
      },
      {
        "duration": 302,
        "start_time": "2022-05-21T11:06:48.602Z"
      },
      {
        "duration": 20,
        "start_time": "2022-05-21T11:06:48.906Z"
      },
      {
        "duration": 76,
        "start_time": "2022-05-21T11:06:48.927Z"
      },
      {
        "duration": 99,
        "start_time": "2022-05-21T11:06:49.006Z"
      },
      {
        "duration": 74,
        "start_time": "2022-05-21T11:06:49.107Z"
      },
      {
        "duration": 56,
        "start_time": "2022-05-21T11:06:49.183Z"
      },
      {
        "duration": 3,
        "start_time": "2022-05-21T11:06:49.924Z"
      },
      {
        "duration": 9,
        "start_time": "2022-05-21T11:06:49.930Z"
      },
      {
        "duration": 1918,
        "start_time": "2022-05-21T11:06:49.942Z"
      },
      {
        "duration": 6,
        "start_time": "2022-05-21T11:06:51.863Z"
      },
      {
        "duration": 290,
        "start_time": "2022-05-21T11:06:51.871Z"
      },
      {
        "duration": 44,
        "start_time": "2022-05-21T11:06:52.164Z"
      },
      {
        "duration": 61,
        "start_time": "2022-05-21T11:06:52.211Z"
      },
      {
        "duration": 54,
        "start_time": "2022-05-21T11:06:52.274Z"
      },
      {
        "duration": 63,
        "start_time": "2022-05-21T11:06:52.330Z"
      },
      {
        "duration": 89,
        "start_time": "2022-05-21T11:06:52.395Z"
      },
      {
        "duration": 328,
        "start_time": "2022-05-21T11:06:52.486Z"
      },
      {
        "duration": 26,
        "start_time": "2022-05-21T11:06:52.816Z"
      },
      {
        "duration": 96,
        "start_time": "2022-05-21T11:06:52.844Z"
      },
      {
        "duration": 98,
        "start_time": "2022-05-21T11:06:52.942Z"
      },
      {
        "duration": 150,
        "start_time": "2022-05-21T11:06:53.042Z"
      },
      {
        "duration": 66,
        "start_time": "2022-05-21T11:06:53.193Z"
      },
      {
        "duration": 407,
        "start_time": "2022-05-21T11:06:53.260Z"
      },
      {
        "duration": 232,
        "start_time": "2022-05-21T11:59:18.536Z"
      },
      {
        "duration": 146,
        "start_time": "2022-05-21T12:04:45.441Z"
      },
      {
        "duration": 20,
        "start_time": "2022-05-21T12:04:50.306Z"
      },
      {
        "duration": 14,
        "start_time": "2022-05-21T12:05:10.426Z"
      },
      {
        "duration": 341,
        "start_time": "2022-05-21T12:05:20.973Z"
      },
      {
        "duration": 387,
        "start_time": "2022-05-21T12:05:46.174Z"
      },
      {
        "duration": 343,
        "start_time": "2022-05-21T12:08:21.235Z"
      },
      {
        "duration": 374,
        "start_time": "2022-05-21T12:08:29.985Z"
      },
      {
        "duration": 25,
        "start_time": "2022-05-21T12:08:37.871Z"
      },
      {
        "duration": 143,
        "start_time": "2022-05-21T12:08:45.208Z"
      },
      {
        "duration": 3,
        "start_time": "2022-05-21T12:09:26.999Z"
      },
      {
        "duration": 5,
        "start_time": "2022-05-21T12:09:27.007Z"
      },
      {
        "duration": 2063,
        "start_time": "2022-05-21T12:09:27.014Z"
      },
      {
        "duration": 5,
        "start_time": "2022-05-21T12:09:29.079Z"
      },
      {
        "duration": 255,
        "start_time": "2022-05-21T12:09:29.087Z"
      },
      {
        "duration": 39,
        "start_time": "2022-05-21T12:09:29.344Z"
      },
      {
        "duration": 69,
        "start_time": "2022-05-21T12:09:29.384Z"
      },
      {
        "duration": 62,
        "start_time": "2022-05-21T12:09:29.455Z"
      },
      {
        "duration": 85,
        "start_time": "2022-05-21T12:09:29.520Z"
      },
      {
        "duration": 62,
        "start_time": "2022-05-21T12:09:29.607Z"
      },
      {
        "duration": 288,
        "start_time": "2022-05-21T12:09:29.672Z"
      },
      {
        "duration": 24,
        "start_time": "2022-05-21T12:09:29.962Z"
      },
      {
        "duration": 78,
        "start_time": "2022-05-21T12:09:29.988Z"
      },
      {
        "duration": 128,
        "start_time": "2022-05-21T12:09:30.068Z"
      },
      {
        "duration": 73,
        "start_time": "2022-05-21T12:09:30.198Z"
      },
      {
        "duration": 502,
        "start_time": "2022-05-21T12:09:30.273Z"
      },
      {
        "duration": 137,
        "start_time": "2022-05-21T12:09:30.777Z"
      },
      {
        "duration": 493,
        "start_time": "2022-05-21T12:09:30.916Z"
      },
      {
        "duration": 3,
        "start_time": "2022-05-21T12:11:51.172Z"
      },
      {
        "duration": 12,
        "start_time": "2022-05-21T12:11:51.177Z"
      },
      {
        "duration": 1869,
        "start_time": "2022-05-21T12:11:51.191Z"
      },
      {
        "duration": 5,
        "start_time": "2022-05-21T12:11:53.062Z"
      },
      {
        "duration": 254,
        "start_time": "2022-05-21T12:11:53.069Z"
      },
      {
        "duration": 64,
        "start_time": "2022-05-21T12:11:53.325Z"
      },
      {
        "duration": 43,
        "start_time": "2022-05-21T12:11:53.392Z"
      },
      {
        "duration": 43,
        "start_time": "2022-05-21T12:11:53.453Z"
      },
      {
        "duration": 63,
        "start_time": "2022-05-21T12:11:53.497Z"
      },
      {
        "duration": 45,
        "start_time": "2022-05-21T12:11:53.561Z"
      },
      {
        "duration": 276,
        "start_time": "2022-05-21T12:11:53.608Z"
      },
      {
        "duration": 20,
        "start_time": "2022-05-21T12:11:53.885Z"
      },
      {
        "duration": 78,
        "start_time": "2022-05-21T12:11:53.906Z"
      },
      {
        "duration": 97,
        "start_time": "2022-05-21T12:11:53.987Z"
      },
      {
        "duration": 70,
        "start_time": "2022-05-21T12:11:54.086Z"
      },
      {
        "duration": 352,
        "start_time": "2022-05-21T12:11:54.158Z"
      },
      {
        "duration": 0,
        "start_time": "2022-05-21T12:11:54.511Z"
      },
      {
        "duration": 0,
        "start_time": "2022-05-21T12:11:54.512Z"
      },
      {
        "duration": 17,
        "start_time": "2022-05-21T12:12:41.475Z"
      },
      {
        "duration": 352,
        "start_time": "2022-05-21T12:13:01.072Z"
      },
      {
        "duration": 21,
        "start_time": "2022-05-21T12:13:13.905Z"
      },
      {
        "duration": 4,
        "start_time": "2022-05-21T12:14:50.338Z"
      },
      {
        "duration": 4,
        "start_time": "2022-05-21T12:15:04.277Z"
      },
      {
        "duration": 1874,
        "start_time": "2022-05-21T12:15:04.283Z"
      },
      {
        "duration": 5,
        "start_time": "2022-05-21T12:15:06.159Z"
      },
      {
        "duration": 251,
        "start_time": "2022-05-21T12:15:06.166Z"
      },
      {
        "duration": 38,
        "start_time": "2022-05-21T12:15:06.420Z"
      },
      {
        "duration": 45,
        "start_time": "2022-05-21T12:15:06.460Z"
      },
      {
        "duration": 83,
        "start_time": "2022-05-21T12:15:06.507Z"
      },
      {
        "duration": 60,
        "start_time": "2022-05-21T12:15:06.592Z"
      },
      {
        "duration": 49,
        "start_time": "2022-05-21T12:15:06.654Z"
      },
      {
        "duration": 294,
        "start_time": "2022-05-21T12:15:06.705Z"
      },
      {
        "duration": 30,
        "start_time": "2022-05-21T12:15:07.001Z"
      },
      {
        "duration": 73,
        "start_time": "2022-05-21T12:15:07.034Z"
      },
      {
        "duration": 141,
        "start_time": "2022-05-21T12:15:07.109Z"
      },
      {
        "duration": 62,
        "start_time": "2022-05-21T12:15:07.252Z"
      },
      {
        "duration": 342,
        "start_time": "2022-05-21T12:15:07.316Z"
      },
      {
        "duration": 15,
        "start_time": "2022-05-21T12:15:07.660Z"
      },
      {
        "duration": 59,
        "start_time": "2022-05-21T12:15:07.676Z"
      },
      {
        "duration": 357,
        "start_time": "2022-05-21T12:15:07.736Z"
      },
      {
        "duration": 16,
        "start_time": "2022-05-21T12:19:50.995Z"
      },
      {
        "duration": 15,
        "start_time": "2022-05-21T12:20:23.612Z"
      },
      {
        "duration": 35,
        "start_time": "2022-05-21T12:28:07.277Z"
      },
      {
        "duration": 19,
        "start_time": "2022-05-21T12:28:14.517Z"
      },
      {
        "duration": 15,
        "start_time": "2022-05-21T12:28:30.785Z"
      },
      {
        "duration": 2085,
        "start_time": "2022-05-21T12:29:24.732Z"
      },
      {
        "duration": 16,
        "start_time": "2022-05-21T12:29:38.123Z"
      },
      {
        "duration": 395,
        "start_time": "2022-05-21T12:30:05.533Z"
      },
      {
        "duration": 14,
        "start_time": "2022-05-21T12:30:05.930Z"
      },
      {
        "duration": 38,
        "start_time": "2022-05-21T12:31:32.610Z"
      },
      {
        "duration": 38,
        "start_time": "2022-05-21T12:31:37.741Z"
      },
      {
        "duration": 31,
        "start_time": "2022-05-21T12:31:55.408Z"
      },
      {
        "duration": 3,
        "start_time": "2022-05-21T12:33:12.300Z"
      },
      {
        "duration": 8,
        "start_time": "2022-05-21T12:33:12.305Z"
      },
      {
        "duration": 1966,
        "start_time": "2022-05-21T12:33:12.315Z"
      },
      {
        "duration": 7,
        "start_time": "2022-05-21T12:33:14.283Z"
      },
      {
        "duration": 307,
        "start_time": "2022-05-21T12:33:14.292Z"
      },
      {
        "duration": 37,
        "start_time": "2022-05-21T12:33:14.601Z"
      },
      {
        "duration": 67,
        "start_time": "2022-05-21T12:33:14.640Z"
      },
      {
        "duration": 62,
        "start_time": "2022-05-21T12:33:14.709Z"
      },
      {
        "duration": 47,
        "start_time": "2022-05-21T12:33:14.774Z"
      },
      {
        "duration": 64,
        "start_time": "2022-05-21T12:33:14.823Z"
      },
      {
        "duration": 294,
        "start_time": "2022-05-21T12:33:14.889Z"
      },
      {
        "duration": 23,
        "start_time": "2022-05-21T12:33:15.185Z"
      },
      {
        "duration": 85,
        "start_time": "2022-05-21T12:33:15.210Z"
      },
      {
        "duration": 145,
        "start_time": "2022-05-21T12:33:15.297Z"
      },
      {
        "duration": 119,
        "start_time": "2022-05-21T12:33:15.447Z"
      },
      {
        "duration": 1712,
        "start_time": "2022-05-21T12:33:15.567Z"
      },
      {
        "duration": 24,
        "start_time": "2022-05-21T12:33:17.283Z"
      },
      {
        "duration": 78,
        "start_time": "2022-05-21T12:33:17.308Z"
      },
      {
        "duration": 437,
        "start_time": "2022-05-21T12:33:17.388Z"
      },
      {
        "duration": 20,
        "start_time": "2022-05-21T12:34:06.518Z"
      },
      {
        "duration": 1620,
        "start_time": "2022-05-21T12:34:12.912Z"
      },
      {
        "duration": 19,
        "start_time": "2022-05-21T12:34:17.797Z"
      },
      {
        "duration": 325,
        "start_time": "2022-05-21T12:34:53.498Z"
      },
      {
        "duration": 33,
        "start_time": "2022-05-21T12:35:52.825Z"
      },
      {
        "duration": 25,
        "start_time": "2022-05-21T12:35:54.332Z"
      },
      {
        "duration": 4,
        "start_time": "2022-05-21T12:36:46.812Z"
      },
      {
        "duration": 8,
        "start_time": "2022-05-21T12:36:46.818Z"
      },
      {
        "duration": 2050,
        "start_time": "2022-05-21T12:36:46.828Z"
      },
      {
        "duration": 5,
        "start_time": "2022-05-21T12:36:48.880Z"
      },
      {
        "duration": 263,
        "start_time": "2022-05-21T12:36:48.887Z"
      },
      {
        "duration": 44,
        "start_time": "2022-05-21T12:36:49.151Z"
      },
      {
        "duration": 74,
        "start_time": "2022-05-21T12:36:49.196Z"
      },
      {
        "duration": 37,
        "start_time": "2022-05-21T12:36:49.273Z"
      },
      {
        "duration": 84,
        "start_time": "2022-05-21T12:36:49.313Z"
      },
      {
        "duration": 81,
        "start_time": "2022-05-21T12:36:49.400Z"
      },
      {
        "duration": 290,
        "start_time": "2022-05-21T12:36:49.483Z"
      },
      {
        "duration": 22,
        "start_time": "2022-05-21T12:36:49.775Z"
      },
      {
        "duration": 80,
        "start_time": "2022-05-21T12:36:49.799Z"
      },
      {
        "duration": 139,
        "start_time": "2022-05-21T12:36:49.880Z"
      },
      {
        "duration": 72,
        "start_time": "2022-05-21T12:36:50.021Z"
      },
      {
        "duration": 499,
        "start_time": "2022-05-21T12:36:50.095Z"
      },
      {
        "duration": 40,
        "start_time": "2022-05-21T12:36:50.595Z"
      },
      {
        "duration": 30,
        "start_time": "2022-05-21T12:36:50.637Z"
      },
      {
        "duration": 166,
        "start_time": "2022-05-21T12:36:50.668Z"
      },
      {
        "duration": 1090,
        "start_time": "2022-05-21T12:36:50.838Z"
      },
      {
        "duration": 16,
        "start_time": "2022-05-21T12:40:03.924Z"
      },
      {
        "duration": 23,
        "start_time": "2022-05-21T12:40:34.919Z"
      },
      {
        "duration": 3,
        "start_time": "2022-05-21T12:50:17.503Z"
      },
      {
        "duration": 12,
        "start_time": "2022-05-21T12:50:17.508Z"
      },
      {
        "duration": 1858,
        "start_time": "2022-05-21T12:50:17.521Z"
      },
      {
        "duration": 4,
        "start_time": "2022-05-21T12:50:19.381Z"
      },
      {
        "duration": 236,
        "start_time": "2022-05-21T12:50:19.388Z"
      },
      {
        "duration": 40,
        "start_time": "2022-05-21T12:50:19.626Z"
      },
      {
        "duration": 56,
        "start_time": "2022-05-21T12:50:19.667Z"
      },
      {
        "duration": 70,
        "start_time": "2022-05-21T12:50:19.725Z"
      },
      {
        "duration": 44,
        "start_time": "2022-05-21T12:50:19.797Z"
      },
      {
        "duration": 56,
        "start_time": "2022-05-21T12:50:19.852Z"
      },
      {
        "duration": 292,
        "start_time": "2022-05-21T12:50:19.910Z"
      },
      {
        "duration": 21,
        "start_time": "2022-05-21T12:50:20.204Z"
      },
      {
        "duration": 76,
        "start_time": "2022-05-21T12:50:20.227Z"
      },
      {
        "duration": 121,
        "start_time": "2022-05-21T12:50:20.305Z"
      },
      {
        "duration": 442,
        "start_time": "2022-05-21T12:50:20.428Z"
      },
      {
        "duration": 46,
        "start_time": "2022-05-21T12:50:20.872Z"
      },
      {
        "duration": 143,
        "start_time": "2022-05-21T12:50:20.920Z"
      },
      {
        "duration": 13,
        "start_time": "2022-05-21T12:50:21.069Z"
      },
      {
        "duration": 3,
        "start_time": "2022-05-21T12:51:54.689Z"
      },
      {
        "duration": 7,
        "start_time": "2022-05-21T12:51:54.694Z"
      },
      {
        "duration": 1989,
        "start_time": "2022-05-21T12:51:54.702Z"
      },
      {
        "duration": 5,
        "start_time": "2022-05-21T12:51:56.693Z"
      },
      {
        "duration": 260,
        "start_time": "2022-05-21T12:51:56.700Z"
      },
      {
        "duration": 35,
        "start_time": "2022-05-21T12:51:56.963Z"
      },
      {
        "duration": 55,
        "start_time": "2022-05-21T12:51:57.000Z"
      },
      {
        "duration": 40,
        "start_time": "2022-05-21T12:51:57.059Z"
      },
      {
        "duration": 56,
        "start_time": "2022-05-21T12:51:57.101Z"
      },
      {
        "duration": 47,
        "start_time": "2022-05-21T12:51:57.159Z"
      },
      {
        "duration": 303,
        "start_time": "2022-05-21T12:51:57.208Z"
      },
      {
        "duration": 37,
        "start_time": "2022-05-21T12:51:57.551Z"
      },
      {
        "duration": 116,
        "start_time": "2022-05-21T12:51:57.590Z"
      },
      {
        "duration": 119,
        "start_time": "2022-05-21T12:51:57.709Z"
      },
      {
        "duration": 533,
        "start_time": "2022-05-21T12:51:57.829Z"
      },
      {
        "duration": 46,
        "start_time": "2022-05-21T12:51:58.364Z"
      },
      {
        "duration": 136,
        "start_time": "2022-05-21T12:51:58.412Z"
      },
      {
        "duration": 16,
        "start_time": "2022-05-21T12:51:58.552Z"
      },
      {
        "duration": 9,
        "start_time": "2022-05-21T13:18:28.688Z"
      },
      {
        "duration": 19,
        "start_time": "2022-05-21T13:20:10.566Z"
      },
      {
        "duration": 3,
        "start_time": "2022-05-21T13:20:20.113Z"
      },
      {
        "duration": 7,
        "start_time": "2022-05-21T13:20:20.118Z"
      },
      {
        "duration": 1900,
        "start_time": "2022-05-21T13:20:20.126Z"
      },
      {
        "duration": 5,
        "start_time": "2022-05-21T13:20:22.028Z"
      },
      {
        "duration": 236,
        "start_time": "2022-05-21T13:20:22.034Z"
      },
      {
        "duration": 32,
        "start_time": "2022-05-21T13:20:22.272Z"
      },
      {
        "duration": 54,
        "start_time": "2022-05-21T13:20:22.307Z"
      },
      {
        "duration": 34,
        "start_time": "2022-05-21T13:20:22.363Z"
      },
      {
        "duration": 59,
        "start_time": "2022-05-21T13:20:22.399Z"
      },
      {
        "duration": 46,
        "start_time": "2022-05-21T13:20:22.460Z"
      },
      {
        "duration": 289,
        "start_time": "2022-05-21T13:20:22.508Z"
      },
      {
        "duration": 22,
        "start_time": "2022-05-21T13:20:22.799Z"
      },
      {
        "duration": 72,
        "start_time": "2022-05-21T13:20:22.823Z"
      },
      {
        "duration": 138,
        "start_time": "2022-05-21T13:20:22.897Z"
      },
      {
        "duration": 817,
        "start_time": "2022-05-21T13:20:23.037Z"
      },
      {
        "duration": 97,
        "start_time": "2022-05-21T13:20:23.855Z"
      },
      {
        "duration": 234,
        "start_time": "2022-05-21T13:20:23.954Z"
      },
      {
        "duration": 67,
        "start_time": "2022-05-21T13:20:24.189Z"
      },
      {
        "duration": 7,
        "start_time": "2022-05-21T13:20:24.258Z"
      },
      {
        "duration": 11,
        "start_time": "2022-05-21T13:22:23.278Z"
      },
      {
        "duration": 18,
        "start_time": "2022-05-21T13:23:12.100Z"
      },
      {
        "duration": 40,
        "start_time": "2022-05-21T13:25:00.288Z"
      },
      {
        "duration": 46,
        "start_time": "2022-05-21T13:25:40.561Z"
      },
      {
        "duration": 39,
        "start_time": "2022-05-21T13:28:19.697Z"
      },
      {
        "duration": 3,
        "start_time": "2022-05-21T13:28:26.488Z"
      },
      {
        "duration": 13,
        "start_time": "2022-05-21T13:28:26.493Z"
      },
      {
        "duration": 1885,
        "start_time": "2022-05-21T13:28:26.508Z"
      },
      {
        "duration": 4,
        "start_time": "2022-05-21T13:28:28.395Z"
      },
      {
        "duration": 251,
        "start_time": "2022-05-21T13:28:28.401Z"
      },
      {
        "duration": 36,
        "start_time": "2022-05-21T13:28:28.654Z"
      },
      {
        "duration": 71,
        "start_time": "2022-05-21T13:28:28.692Z"
      },
      {
        "duration": 49,
        "start_time": "2022-05-21T13:28:28.765Z"
      },
      {
        "duration": 62,
        "start_time": "2022-05-21T13:28:28.816Z"
      },
      {
        "duration": 48,
        "start_time": "2022-05-21T13:28:28.881Z"
      },
      {
        "duration": 299,
        "start_time": "2022-05-21T13:28:28.931Z"
      },
      {
        "duration": 30,
        "start_time": "2022-05-21T13:28:29.232Z"
      },
      {
        "duration": 62,
        "start_time": "2022-05-21T13:28:29.264Z"
      },
      {
        "duration": 105,
        "start_time": "2022-05-21T13:28:29.327Z"
      },
      {
        "duration": 409,
        "start_time": "2022-05-21T13:28:29.434Z"
      },
      {
        "duration": 49,
        "start_time": "2022-05-21T13:28:29.845Z"
      },
      {
        "duration": 143,
        "start_time": "2022-05-21T13:28:29.896Z"
      },
      {
        "duration": 23,
        "start_time": "2022-05-21T13:28:30.041Z"
      },
      {
        "duration": 8,
        "start_time": "2022-05-21T13:28:30.066Z"
      },
      {
        "duration": 40,
        "start_time": "2022-05-21T13:28:30.076Z"
      },
      {
        "duration": 10,
        "start_time": "2022-05-21T13:28:57.561Z"
      },
      {
        "duration": 3,
        "start_time": "2022-05-21T13:30:03.948Z"
      },
      {
        "duration": 7,
        "start_time": "2022-05-21T13:30:03.954Z"
      },
      {
        "duration": 1885,
        "start_time": "2022-05-21T13:30:03.964Z"
      },
      {
        "duration": 4,
        "start_time": "2022-05-21T13:30:05.852Z"
      },
      {
        "duration": 234,
        "start_time": "2022-05-21T13:30:05.858Z"
      },
      {
        "duration": 39,
        "start_time": "2022-05-21T13:30:06.094Z"
      },
      {
        "duration": 64,
        "start_time": "2022-05-21T13:30:06.135Z"
      },
      {
        "duration": 34,
        "start_time": "2022-05-21T13:30:06.201Z"
      },
      {
        "duration": 59,
        "start_time": "2022-05-21T13:30:06.238Z"
      },
      {
        "duration": 62,
        "start_time": "2022-05-21T13:30:06.300Z"
      },
      {
        "duration": 265,
        "start_time": "2022-05-21T13:30:06.364Z"
      },
      {
        "duration": 24,
        "start_time": "2022-05-21T13:30:06.631Z"
      },
      {
        "duration": 62,
        "start_time": "2022-05-21T13:30:06.657Z"
      },
      {
        "duration": 132,
        "start_time": "2022-05-21T13:30:06.721Z"
      },
      {
        "duration": 418,
        "start_time": "2022-05-21T13:30:06.855Z"
      },
      {
        "duration": 50,
        "start_time": "2022-05-21T13:30:07.275Z"
      },
      {
        "duration": 131,
        "start_time": "2022-05-21T13:30:07.327Z"
      },
      {
        "duration": 13,
        "start_time": "2022-05-21T13:30:07.460Z"
      },
      {
        "duration": 8,
        "start_time": "2022-05-21T13:30:07.474Z"
      },
      {
        "duration": 14,
        "start_time": "2022-05-21T13:30:07.483Z"
      },
      {
        "duration": 72,
        "start_time": "2022-05-21T13:30:07.499Z"
      },
      {
        "duration": 42,
        "start_time": "2022-05-21T13:31:17.101Z"
      },
      {
        "duration": 3,
        "start_time": "2022-05-21T13:39:26.274Z"
      },
      {
        "duration": 9,
        "start_time": "2022-05-21T13:40:45.772Z"
      },
      {
        "duration": 4,
        "start_time": "2022-05-21T13:41:05.371Z"
      },
      {
        "duration": 14,
        "start_time": "2022-05-21T13:41:05.377Z"
      },
      {
        "duration": 1880,
        "start_time": "2022-05-21T13:41:05.393Z"
      },
      {
        "duration": 5,
        "start_time": "2022-05-21T13:41:07.275Z"
      },
      {
        "duration": 254,
        "start_time": "2022-05-21T13:41:07.283Z"
      },
      {
        "duration": 39,
        "start_time": "2022-05-21T13:41:07.539Z"
      },
      {
        "duration": 42,
        "start_time": "2022-05-21T13:41:07.580Z"
      },
      {
        "duration": 59,
        "start_time": "2022-05-21T13:41:07.624Z"
      },
      {
        "duration": 42,
        "start_time": "2022-05-21T13:41:07.686Z"
      },
      {
        "duration": 63,
        "start_time": "2022-05-21T13:41:07.730Z"
      },
      {
        "duration": 271,
        "start_time": "2022-05-21T13:41:07.794Z"
      },
      {
        "duration": 20,
        "start_time": "2022-05-21T13:41:08.067Z"
      },
      {
        "duration": 75,
        "start_time": "2022-05-21T13:41:08.089Z"
      },
      {
        "duration": 107,
        "start_time": "2022-05-21T13:41:08.168Z"
      },
      {
        "duration": 451,
        "start_time": "2022-05-21T13:41:08.277Z"
      },
      {
        "duration": 51,
        "start_time": "2022-05-21T13:41:08.729Z"
      },
      {
        "duration": 127,
        "start_time": "2022-05-21T13:41:08.781Z"
      },
      {
        "duration": 13,
        "start_time": "2022-05-21T13:41:08.910Z"
      },
      {
        "duration": 8,
        "start_time": "2022-05-21T13:41:08.924Z"
      },
      {
        "duration": 33,
        "start_time": "2022-05-21T13:41:08.933Z"
      },
      {
        "duration": 0,
        "start_time": "2022-05-21T13:41:08.967Z"
      },
      {
        "duration": 45,
        "start_time": "2022-05-21T13:41:40.959Z"
      },
      {
        "duration": 56,
        "start_time": "2022-05-21T13:42:07.624Z"
      },
      {
        "duration": 62,
        "start_time": "2022-05-21T13:42:15.359Z"
      },
      {
        "duration": 55,
        "start_time": "2022-05-21T13:42:41.016Z"
      },
      {
        "duration": 59,
        "start_time": "2022-05-21T13:42:45.654Z"
      },
      {
        "duration": 52,
        "start_time": "2022-05-21T13:43:11.757Z"
      },
      {
        "duration": 61,
        "start_time": "2022-05-21T13:43:18.267Z"
      },
      {
        "duration": 3,
        "start_time": "2022-05-21T13:43:42.498Z"
      },
      {
        "duration": 7,
        "start_time": "2022-05-21T13:43:42.504Z"
      },
      {
        "duration": 1802,
        "start_time": "2022-05-21T13:43:42.513Z"
      },
      {
        "duration": 5,
        "start_time": "2022-05-21T13:43:44.317Z"
      },
      {
        "duration": 243,
        "start_time": "2022-05-21T13:43:44.323Z"
      },
      {
        "duration": 33,
        "start_time": "2022-05-21T13:43:44.568Z"
      },
      {
        "duration": 56,
        "start_time": "2022-05-21T13:43:44.603Z"
      },
      {
        "duration": 35,
        "start_time": "2022-05-21T13:43:44.661Z"
      },
      {
        "duration": 60,
        "start_time": "2022-05-21T13:43:44.698Z"
      },
      {
        "duration": 43,
        "start_time": "2022-05-21T13:43:44.759Z"
      },
      {
        "duration": 283,
        "start_time": "2022-05-21T13:43:44.804Z"
      },
      {
        "duration": 22,
        "start_time": "2022-05-21T13:43:45.089Z"
      },
      {
        "duration": 83,
        "start_time": "2022-05-21T13:43:45.112Z"
      },
      {
        "duration": 137,
        "start_time": "2022-05-21T13:43:45.197Z"
      },
      {
        "duration": 435,
        "start_time": "2022-05-21T13:43:45.337Z"
      },
      {
        "duration": 49,
        "start_time": "2022-05-21T13:43:45.774Z"
      },
      {
        "duration": 145,
        "start_time": "2022-05-21T13:43:45.825Z"
      },
      {
        "duration": 16,
        "start_time": "2022-05-21T13:43:45.972Z"
      },
      {
        "duration": 8,
        "start_time": "2022-05-21T13:43:45.990Z"
      },
      {
        "duration": 176,
        "start_time": "2022-05-21T13:43:46.000Z"
      },
      {
        "duration": 0,
        "start_time": "2022-05-21T13:43:46.177Z"
      },
      {
        "duration": 63,
        "start_time": "2022-05-21T13:43:59.163Z"
      },
      {
        "duration": 56,
        "start_time": "2022-05-21T13:44:08.659Z"
      },
      {
        "duration": 62,
        "start_time": "2022-05-21T13:44:12.771Z"
      },
      {
        "duration": 56,
        "start_time": "2022-05-21T13:44:20.159Z"
      },
      {
        "duration": 9,
        "start_time": "2022-05-21T13:45:11.783Z"
      },
      {
        "duration": 10,
        "start_time": "2022-05-21T13:45:17.065Z"
      },
      {
        "duration": 9,
        "start_time": "2022-05-21T13:45:21.583Z"
      },
      {
        "duration": 9,
        "start_time": "2022-05-21T13:45:26.751Z"
      },
      {
        "duration": 8,
        "start_time": "2022-05-21T13:45:34.363Z"
      },
      {
        "duration": 9,
        "start_time": "2022-05-21T13:45:43.676Z"
      },
      {
        "duration": 8,
        "start_time": "2022-05-21T13:45:52.363Z"
      },
      {
        "duration": 6,
        "start_time": "2022-05-21T13:46:02.071Z"
      },
      {
        "duration": 3,
        "start_time": "2022-05-21T13:46:05.965Z"
      },
      {
        "duration": 7,
        "start_time": "2022-05-21T13:46:05.970Z"
      },
      {
        "duration": 1838,
        "start_time": "2022-05-21T13:46:05.978Z"
      },
      {
        "duration": 5,
        "start_time": "2022-05-21T13:46:07.817Z"
      },
      {
        "duration": 259,
        "start_time": "2022-05-21T13:46:07.824Z"
      },
      {
        "duration": 34,
        "start_time": "2022-05-21T13:46:08.085Z"
      },
      {
        "duration": 60,
        "start_time": "2022-05-21T13:46:08.121Z"
      },
      {
        "duration": 36,
        "start_time": "2022-05-21T13:46:08.183Z"
      },
      {
        "duration": 63,
        "start_time": "2022-05-21T13:46:08.221Z"
      },
      {
        "duration": 45,
        "start_time": "2022-05-21T13:46:08.286Z"
      },
      {
        "duration": 281,
        "start_time": "2022-05-21T13:46:08.332Z"
      },
      {
        "duration": 21,
        "start_time": "2022-05-21T13:46:08.615Z"
      },
      {
        "duration": 73,
        "start_time": "2022-05-21T13:46:08.637Z"
      },
      {
        "duration": 109,
        "start_time": "2022-05-21T13:46:08.712Z"
      },
      {
        "duration": 437,
        "start_time": "2022-05-21T13:46:08.823Z"
      },
      {
        "duration": 46,
        "start_time": "2022-05-21T13:46:09.261Z"
      },
      {
        "duration": 125,
        "start_time": "2022-05-21T13:46:09.309Z"
      },
      {
        "duration": 23,
        "start_time": "2022-05-21T13:46:09.435Z"
      },
      {
        "duration": 9,
        "start_time": "2022-05-21T13:46:09.459Z"
      },
      {
        "duration": 13,
        "start_time": "2022-05-21T13:46:09.471Z"
      },
      {
        "duration": 14,
        "start_time": "2022-05-21T13:46:09.485Z"
      },
      {
        "duration": 0,
        "start_time": "2022-05-21T13:46:09.500Z"
      },
      {
        "duration": 0,
        "start_time": "2022-05-21T13:46:09.501Z"
      },
      {
        "duration": 4,
        "start_time": "2022-05-21T13:46:29.063Z"
      },
      {
        "duration": 3,
        "start_time": "2022-05-21T13:46:43.321Z"
      },
      {
        "duration": 3,
        "start_time": "2022-05-21T13:46:54.293Z"
      },
      {
        "duration": 18,
        "start_time": "2022-05-21T13:47:48.115Z"
      },
      {
        "duration": 3,
        "start_time": "2022-05-21T13:48:02.450Z"
      },
      {
        "duration": 9,
        "start_time": "2022-05-21T13:48:02.455Z"
      },
      {
        "duration": 1854,
        "start_time": "2022-05-21T13:48:02.465Z"
      },
      {
        "duration": 5,
        "start_time": "2022-05-21T13:48:04.320Z"
      },
      {
        "duration": 244,
        "start_time": "2022-05-21T13:48:04.327Z"
      },
      {
        "duration": 33,
        "start_time": "2022-05-21T13:48:04.573Z"
      },
      {
        "duration": 57,
        "start_time": "2022-05-21T13:48:04.607Z"
      },
      {
        "duration": 36,
        "start_time": "2022-05-21T13:48:04.665Z"
      },
      {
        "duration": 57,
        "start_time": "2022-05-21T13:48:04.703Z"
      },
      {
        "duration": 43,
        "start_time": "2022-05-21T13:48:04.761Z"
      },
      {
        "duration": 277,
        "start_time": "2022-05-21T13:48:04.806Z"
      },
      {
        "duration": 19,
        "start_time": "2022-05-21T13:48:05.085Z"
      },
      {
        "duration": 76,
        "start_time": "2022-05-21T13:48:05.106Z"
      },
      {
        "duration": 144,
        "start_time": "2022-05-21T13:48:05.186Z"
      },
      {
        "duration": 442,
        "start_time": "2022-05-21T13:48:05.332Z"
      },
      {
        "duration": 46,
        "start_time": "2022-05-21T13:48:05.775Z"
      },
      {
        "duration": 144,
        "start_time": "2022-05-21T13:48:05.823Z"
      },
      {
        "duration": 15,
        "start_time": "2022-05-21T13:48:05.968Z"
      },
      {
        "duration": 8,
        "start_time": "2022-05-21T13:48:05.984Z"
      },
      {
        "duration": 17,
        "start_time": "2022-05-21T13:48:05.994Z"
      },
      {
        "duration": 29,
        "start_time": "2022-05-21T13:48:06.012Z"
      },
      {
        "duration": 0,
        "start_time": "2022-05-21T13:48:06.052Z"
      },
      {
        "duration": 0,
        "start_time": "2022-05-21T13:48:06.053Z"
      },
      {
        "duration": 419,
        "start_time": "2022-05-21T13:49:07.585Z"
      },
      {
        "duration": 17,
        "start_time": "2022-05-21T13:49:23.208Z"
      },
      {
        "duration": 3,
        "start_time": "2022-05-21T13:50:30.602Z"
      },
      {
        "duration": 30,
        "start_time": "2022-05-21T13:50:30.607Z"
      },
      {
        "duration": 2201,
        "start_time": "2022-05-21T13:50:30.639Z"
      },
      {
        "duration": 25,
        "start_time": "2022-05-21T13:50:32.841Z"
      },
      {
        "duration": 293,
        "start_time": "2022-05-21T13:50:32.870Z"
      },
      {
        "duration": 33,
        "start_time": "2022-05-21T13:50:33.168Z"
      },
      {
        "duration": 58,
        "start_time": "2022-05-21T13:50:33.203Z"
      },
      {
        "duration": 41,
        "start_time": "2022-05-21T13:50:33.263Z"
      },
      {
        "duration": 53,
        "start_time": "2022-05-21T13:50:33.306Z"
      },
      {
        "duration": 68,
        "start_time": "2022-05-21T13:50:33.361Z"
      },
      {
        "duration": 273,
        "start_time": "2022-05-21T13:50:33.431Z"
      },
      {
        "duration": 19,
        "start_time": "2022-05-21T13:50:33.705Z"
      },
      {
        "duration": 75,
        "start_time": "2022-05-21T13:50:33.726Z"
      },
      {
        "duration": 114,
        "start_time": "2022-05-21T13:50:33.803Z"
      },
      {
        "duration": 460,
        "start_time": "2022-05-21T13:50:33.919Z"
      },
      {
        "duration": 44,
        "start_time": "2022-05-21T13:50:34.381Z"
      },
      {
        "duration": 148,
        "start_time": "2022-05-21T13:50:34.427Z"
      },
      {
        "duration": 13,
        "start_time": "2022-05-21T13:50:34.576Z"
      },
      {
        "duration": 8,
        "start_time": "2022-05-21T13:50:34.591Z"
      },
      {
        "duration": 12,
        "start_time": "2022-05-21T13:50:34.600Z"
      },
      {
        "duration": 440,
        "start_time": "2022-05-21T13:50:34.614Z"
      },
      {
        "duration": 51,
        "start_time": "2022-05-21T13:50:35.056Z"
      },
      {
        "duration": 126,
        "start_time": "2022-05-21T14:03:53.007Z"
      },
      {
        "duration": 4,
        "start_time": "2022-05-21T14:07:03.846Z"
      },
      {
        "duration": 3,
        "start_time": "2022-05-21T14:07:56.461Z"
      },
      {
        "duration": 14,
        "start_time": "2022-05-21T14:12:57.055Z"
      },
      {
        "duration": 11,
        "start_time": "2022-05-21T14:14:51.397Z"
      },
      {
        "duration": 3,
        "start_time": "2022-05-21T14:15:57.912Z"
      },
      {
        "duration": 16,
        "start_time": "2022-05-21T14:16:35.207Z"
      },
      {
        "duration": 3,
        "start_time": "2022-05-21T14:16:48.080Z"
      },
      {
        "duration": 16373,
        "start_time": "2022-05-21T14:18:32.862Z"
      },
      {
        "duration": 44,
        "start_time": "2022-05-21T14:20:33.740Z"
      },
      {
        "duration": 15584,
        "start_time": "2022-05-21T14:20:42.452Z"
      },
      {
        "duration": 11,
        "start_time": "2022-05-21T14:26:15.550Z"
      },
      {
        "duration": 101298,
        "start_time": "2022-05-21T14:27:03.308Z"
      },
      {
        "duration": 53071,
        "start_time": "2022-05-21T14:28:47.395Z"
      },
      {
        "duration": 0,
        "start_time": "2022-05-21T14:29:40.468Z"
      },
      {
        "duration": 15548,
        "start_time": "2022-05-21T14:29:45.961Z"
      },
      {
        "duration": 253877,
        "start_time": "2022-05-21T14:30:01.511Z"
      },
      {
        "duration": 0,
        "start_time": "2022-05-21T14:34:15.392Z"
      },
      {
        "duration": 207331,
        "start_time": "2022-05-21T14:34:16.968Z"
      },
      {
        "duration": 0,
        "start_time": "2022-05-21T14:37:44.301Z"
      },
      {
        "duration": 13,
        "start_time": "2022-05-21T14:37:54.162Z"
      },
      {
        "duration": 3,
        "start_time": "2022-05-21T14:38:06.252Z"
      },
      {
        "duration": 11,
        "start_time": "2022-05-21T14:38:18.351Z"
      },
      {
        "duration": 4118,
        "start_time": "2022-05-21T14:38:44.556Z"
      },
      {
        "duration": 300812,
        "start_time": "2022-05-21T14:39:33.577Z"
      },
      {
        "duration": 3,
        "start_time": "2022-05-21T14:44:36.674Z"
      },
      {
        "duration": 7,
        "start_time": "2022-05-21T14:44:36.679Z"
      },
      {
        "duration": 1766,
        "start_time": "2022-05-21T14:44:36.688Z"
      },
      {
        "duration": 5,
        "start_time": "2022-05-21T14:44:38.455Z"
      },
      {
        "duration": 239,
        "start_time": "2022-05-21T14:44:38.462Z"
      },
      {
        "duration": 30,
        "start_time": "2022-05-21T14:44:38.703Z"
      },
      {
        "duration": 58,
        "start_time": "2022-05-21T14:44:38.735Z"
      },
      {
        "duration": 39,
        "start_time": "2022-05-21T14:44:38.794Z"
      },
      {
        "duration": 45,
        "start_time": "2022-05-21T14:44:38.835Z"
      },
      {
        "duration": 42,
        "start_time": "2022-05-21T14:44:38.882Z"
      },
      {
        "duration": 262,
        "start_time": "2022-05-21T14:44:38.926Z"
      },
      {
        "duration": 18,
        "start_time": "2022-05-21T14:44:39.189Z"
      },
      {
        "duration": 69,
        "start_time": "2022-05-21T14:44:39.209Z"
      },
      {
        "duration": 109,
        "start_time": "2022-05-21T14:44:39.282Z"
      },
      {
        "duration": 405,
        "start_time": "2022-05-21T14:44:39.393Z"
      },
      {
        "duration": 52,
        "start_time": "2022-05-21T14:44:39.800Z"
      },
      {
        "duration": 132,
        "start_time": "2022-05-21T14:44:39.854Z"
      },
      {
        "duration": 13,
        "start_time": "2022-05-21T14:44:39.988Z"
      },
      {
        "duration": 8,
        "start_time": "2022-05-21T14:44:40.002Z"
      },
      {
        "duration": 14,
        "start_time": "2022-05-21T14:44:40.012Z"
      },
      {
        "duration": 421,
        "start_time": "2022-05-21T14:44:40.028Z"
      },
      {
        "duration": 48,
        "start_time": "2022-05-21T14:44:40.451Z"
      },
      {
        "duration": 15639,
        "start_time": "2022-05-21T14:44:40.501Z"
      },
      {
        "duration": 315762,
        "start_time": "2022-05-21T14:44:56.142Z"
      },
      {
        "duration": 4070,
        "start_time": "2022-05-21T14:50:11.906Z"
      },
      {
        "duration": 210,
        "start_time": "2022-05-21T15:02:33.351Z"
      },
      {
        "duration": 14,
        "start_time": "2022-05-21T15:11:08.873Z"
      },
      {
        "duration": 10,
        "start_time": "2022-05-21T15:11:39.590Z"
      },
      {
        "duration": 11,
        "start_time": "2022-05-21T15:11:51.329Z"
      },
      {
        "duration": 3,
        "start_time": "2022-05-21T15:12:23.217Z"
      },
      {
        "duration": 12,
        "start_time": "2022-05-21T15:12:29.805Z"
      },
      {
        "duration": 3,
        "start_time": "2022-05-21T15:16:22.209Z"
      },
      {
        "duration": 430546,
        "start_time": "2022-05-21T15:16:37.222Z"
      },
      {
        "duration": 48979,
        "start_time": "2022-05-21T15:23:49.981Z"
      },
      {
        "duration": 588561,
        "start_time": "2022-05-21T15:25:14.492Z"
      },
      {
        "duration": 34,
        "start_time": "2022-05-21T15:35:04.926Z"
      },
      {
        "duration": 2791980,
        "start_time": "2022-05-21T15:35:15.681Z"
      },
      {
        "duration": 50,
        "start_time": "2022-05-21T16:38:44.571Z"
      },
      {
        "duration": 11,
        "start_time": "2022-05-21T16:39:13.590Z"
      },
      {
        "duration": 418365,
        "start_time": "2022-05-21T16:39:24.897Z"
      },
      {
        "duration": 426152,
        "start_time": "2022-05-21T16:47:27.603Z"
      },
      {
        "duration": 615762,
        "start_time": "2022-05-21T16:57:41.101Z"
      },
      {
        "duration": 1593948,
        "start_time": "2022-05-21T17:29:07.611Z"
      },
      {
        "duration": 3,
        "start_time": "2022-05-21T23:15:30.317Z"
      },
      {
        "duration": 17,
        "start_time": "2022-05-21T23:15:30.322Z"
      },
      {
        "duration": 1728,
        "start_time": "2022-05-21T23:15:30.340Z"
      },
      {
        "duration": 4,
        "start_time": "2022-05-21T23:15:32.069Z"
      },
      {
        "duration": 232,
        "start_time": "2022-05-21T23:15:32.076Z"
      },
      {
        "duration": 32,
        "start_time": "2022-05-21T23:15:32.310Z"
      },
      {
        "duration": 41,
        "start_time": "2022-05-21T23:15:32.352Z"
      },
      {
        "duration": 38,
        "start_time": "2022-05-21T23:15:32.394Z"
      },
      {
        "duration": 62,
        "start_time": "2022-05-21T23:15:32.433Z"
      },
      {
        "duration": 60,
        "start_time": "2022-05-21T23:15:32.497Z"
      },
      {
        "duration": 270,
        "start_time": "2022-05-21T23:15:32.559Z"
      },
      {
        "duration": 27,
        "start_time": "2022-05-21T23:15:32.831Z"
      },
      {
        "duration": 57,
        "start_time": "2022-05-21T23:15:32.860Z"
      },
      {
        "duration": 114,
        "start_time": "2022-05-21T23:15:32.920Z"
      },
      {
        "duration": 376,
        "start_time": "2022-05-21T23:15:33.036Z"
      },
      {
        "duration": 48,
        "start_time": "2022-05-21T23:15:33.414Z"
      },
      {
        "duration": 127,
        "start_time": "2022-05-21T23:15:33.464Z"
      },
      {
        "duration": 12,
        "start_time": "2022-05-21T23:15:33.592Z"
      },
      {
        "duration": 9,
        "start_time": "2022-05-21T23:15:33.606Z"
      },
      {
        "duration": 16,
        "start_time": "2022-05-21T23:15:33.617Z"
      },
      {
        "duration": 422,
        "start_time": "2022-05-21T23:15:33.635Z"
      },
      {
        "duration": 50,
        "start_time": "2022-05-21T23:15:34.058Z"
      },
      {
        "duration": 14751,
        "start_time": "2022-05-21T23:15:34.109Z"
      },
      {
        "duration": 288981,
        "start_time": "2022-05-21T23:15:48.862Z"
      },
      {
        "duration": 4036,
        "start_time": "2022-05-21T23:20:37.845Z"
      },
      {
        "duration": 3472870,
        "start_time": "2022-05-21T23:20:41.883Z"
      },
      {
        "duration": 4,
        "start_time": "2022-05-22T00:18:34.755Z"
      },
      {
        "duration": 9,
        "start_time": "2022-05-22T00:18:34.760Z"
      },
      {
        "duration": 41,
        "start_time": "2022-05-22T00:36:26.921Z"
      },
      {
        "duration": 2,
        "start_time": "2022-05-22T00:36:55.300Z"
      },
      {
        "duration": 4,
        "start_time": "2022-05-22T00:37:10.249Z"
      },
      {
        "duration": 425,
        "start_time": "2022-05-22T00:38:54.122Z"
      },
      {
        "duration": 3,
        "start_time": "2022-05-22T00:38:59.739Z"
      },
      {
        "duration": 429,
        "start_time": "2022-05-22T00:39:00.730Z"
      },
      {
        "duration": 3,
        "start_time": "2022-05-22T00:39:02.406Z"
      },
      {
        "duration": 4,
        "start_time": "2022-05-22T00:39:03.306Z"
      },
      {
        "duration": 3,
        "start_time": "2022-05-22T00:39:35.515Z"
      },
      {
        "duration": 417,
        "start_time": "2022-05-22T00:39:36.698Z"
      },
      {
        "duration": 447,
        "start_time": "2022-05-22T00:39:48.168Z"
      },
      {
        "duration": 3,
        "start_time": "2022-05-22T00:39:52.834Z"
      },
      {
        "duration": 428,
        "start_time": "2022-05-22T00:39:54.084Z"
      },
      {
        "duration": 4,
        "start_time": "2022-05-22T00:40:02.589Z"
      },
      {
        "duration": 426,
        "start_time": "2022-05-22T00:40:03.702Z"
      },
      {
        "duration": 3,
        "start_time": "2022-05-22T00:41:02.934Z"
      },
      {
        "duration": 5,
        "start_time": "2022-05-22T00:45:19.397Z"
      },
      {
        "duration": 464,
        "start_time": "2022-05-22T00:45:43.964Z"
      },
      {
        "duration": 3,
        "start_time": "2022-05-22T00:46:48.691Z"
      },
      {
        "duration": 444,
        "start_time": "2022-05-22T00:46:50.945Z"
      },
      {
        "duration": 9750,
        "start_time": "2022-05-22T00:49:29.379Z"
      },
      {
        "duration": 86,
        "start_time": "2022-05-22T00:51:38.668Z"
      },
      {
        "duration": 8506,
        "start_time": "2022-05-22T00:54:55.560Z"
      },
      {
        "duration": 16,
        "start_time": "2022-05-22T01:00:02.564Z"
      },
      {
        "duration": 526,
        "start_time": "2022-05-22T01:00:24.044Z"
      },
      {
        "duration": 13,
        "start_time": "2022-05-22T01:03:12.551Z"
      },
      {
        "duration": 9,
        "start_time": "2022-05-22T01:03:28.594Z"
      },
      {
        "duration": 9,
        "start_time": "2022-05-22T01:04:59.538Z"
      },
      {
        "duration": 4,
        "start_time": "2022-05-22T01:05:17.935Z"
      },
      {
        "duration": 4,
        "start_time": "2022-05-22T01:05:45.688Z"
      },
      {
        "duration": 3,
        "start_time": "2022-05-22T01:07:24.228Z"
      },
      {
        "duration": 9,
        "start_time": "2022-05-22T01:09:54.358Z"
      },
      {
        "duration": 41,
        "start_time": "2022-05-22T01:12:09.241Z"
      },
      {
        "duration": 3,
        "start_time": "2022-05-22T01:12:42.881Z"
      },
      {
        "duration": 21,
        "start_time": "2022-05-22T01:12:59.602Z"
      },
      {
        "duration": 9,
        "start_time": "2022-05-22T01:13:07.918Z"
      },
      {
        "duration": 9,
        "start_time": "2022-05-22T01:13:21.976Z"
      },
      {
        "duration": 9834,
        "start_time": "2022-05-22T01:14:01.814Z"
      },
      {
        "duration": 2,
        "start_time": "2022-05-22T01:14:17.333Z"
      },
      {
        "duration": 461,
        "start_time": "2022-05-22T01:14:20.406Z"
      },
      {
        "duration": 10182,
        "start_time": "2022-05-22T01:14:25.331Z"
      },
      {
        "duration": 88,
        "start_time": "2022-05-22T01:14:40.671Z"
      },
      {
        "duration": 8754,
        "start_time": "2022-05-22T01:15:12.912Z"
      },
      {
        "duration": 10,
        "start_time": "2022-05-22T01:15:29.314Z"
      },
      {
        "duration": 1086,
        "start_time": "2022-05-22T01:16:24.678Z"
      },
      {
        "duration": 1112,
        "start_time": "2022-05-22T01:16:31.146Z"
      },
      {
        "duration": 1100,
        "start_time": "2022-05-22T01:16:35.963Z"
      },
      {
        "duration": 1090,
        "start_time": "2022-05-22T01:16:40.475Z"
      },
      {
        "duration": 28,
        "start_time": "2022-05-22T01:25:51.647Z"
      },
      {
        "duration": 10,
        "start_time": "2022-05-22T01:26:02.453Z"
      },
      {
        "duration": 22,
        "start_time": "2022-05-22T01:26:50.863Z"
      },
      {
        "duration": 28,
        "start_time": "2022-05-22T01:26:59.165Z"
      },
      {
        "duration": 27,
        "start_time": "2022-05-22T01:27:07.026Z"
      },
      {
        "duration": 43,
        "start_time": "2022-05-22T01:27:12.150Z"
      },
      {
        "duration": 338,
        "start_time": "2022-05-22T01:27:20.736Z"
      },
      {
        "duration": 12,
        "start_time": "2022-05-22T01:29:10.377Z"
      },
      {
        "duration": 3,
        "start_time": "2022-05-22T01:41:23.352Z"
      },
      {
        "duration": 5,
        "start_time": "2022-05-22T01:43:30.430Z"
      },
      {
        "duration": 5,
        "start_time": "2022-05-22T01:45:25.991Z"
      },
      {
        "duration": 13,
        "start_time": "2022-05-22T01:49:24.320Z"
      },
      {
        "duration": 1326,
        "start_time": "2022-05-22T23:00:04.078Z"
      },
      {
        "duration": 5,
        "start_time": "2022-05-22T23:00:05.406Z"
      },
      {
        "duration": 2441,
        "start_time": "2022-05-22T23:00:05.412Z"
      },
      {
        "duration": 5,
        "start_time": "2022-05-22T23:00:07.856Z"
      },
      {
        "duration": 316,
        "start_time": "2022-05-22T23:00:07.862Z"
      },
      {
        "duration": 34,
        "start_time": "2022-05-22T23:00:08.180Z"
      },
      {
        "duration": 49,
        "start_time": "2022-05-22T23:00:08.226Z"
      },
      {
        "duration": 56,
        "start_time": "2022-05-22T23:00:08.277Z"
      },
      {
        "duration": 48,
        "start_time": "2022-05-22T23:00:08.335Z"
      },
      {
        "duration": 48,
        "start_time": "2022-05-22T23:00:08.585Z"
      },
      {
        "duration": 316,
        "start_time": "2022-05-22T23:00:09.028Z"
      },
      {
        "duration": 21,
        "start_time": "2022-05-22T23:00:09.694Z"
      },
      {
        "duration": 63,
        "start_time": "2022-05-22T23:00:10.464Z"
      },
      {
        "duration": 107,
        "start_time": "2022-05-22T23:00:10.853Z"
      },
      {
        "duration": 4,
        "start_time": "2022-05-22T23:00:20.698Z"
      },
      {
        "duration": 5,
        "start_time": "2022-05-22T23:00:29.082Z"
      },
      {
        "duration": 4,
        "start_time": "2022-05-22T23:00:29.280Z"
      },
      {
        "duration": 2136,
        "start_time": "2022-05-22T23:00:29.741Z"
      },
      {
        "duration": 8,
        "start_time": "2022-05-22T23:00:31.880Z"
      },
      {
        "duration": 282,
        "start_time": "2022-05-22T23:00:31.890Z"
      },
      {
        "duration": 4,
        "start_time": "2022-05-22T23:00:44.387Z"
      },
      {
        "duration": 3,
        "start_time": "2022-05-22T23:00:52.220Z"
      },
      {
        "duration": 35,
        "start_time": "2022-05-26T19:08:31.819Z"
      },
      {
        "duration": 1430,
        "start_time": "2022-05-26T19:15:04.899Z"
      },
      {
        "duration": 4,
        "start_time": "2022-05-26T19:15:06.331Z"
      },
      {
        "duration": 4458,
        "start_time": "2022-05-26T19:15:06.337Z"
      },
      {
        "duration": 4,
        "start_time": "2022-05-26T19:15:10.797Z"
      },
      {
        "duration": 304,
        "start_time": "2022-05-26T19:15:10.803Z"
      },
      {
        "duration": 37,
        "start_time": "2022-05-26T19:15:11.108Z"
      },
      {
        "duration": 65,
        "start_time": "2022-05-26T19:15:11.147Z"
      },
      {
        "duration": 38,
        "start_time": "2022-05-26T19:15:11.214Z"
      },
      {
        "duration": 70,
        "start_time": "2022-05-26T19:15:11.254Z"
      },
      {
        "duration": 63,
        "start_time": "2022-05-26T19:15:11.328Z"
      },
      {
        "duration": 309,
        "start_time": "2022-05-26T19:15:11.393Z"
      },
      {
        "duration": 18,
        "start_time": "2022-05-26T19:15:11.704Z"
      },
      {
        "duration": 76,
        "start_time": "2022-05-26T19:15:11.723Z"
      },
      {
        "duration": 112,
        "start_time": "2022-05-26T19:18:38.833Z"
      },
      {
        "duration": 90,
        "start_time": "2022-05-26T19:19:01.908Z"
      },
      {
        "duration": 94,
        "start_time": "2022-05-26T19:21:00.619Z"
      },
      {
        "duration": 85,
        "start_time": "2022-05-26T19:21:13.887Z"
      },
      {
        "duration": 86,
        "start_time": "2022-05-26T19:21:39.495Z"
      },
      {
        "duration": 10,
        "start_time": "2022-05-26T19:23:45.659Z"
      },
      {
        "duration": 30,
        "start_time": "2022-05-26T19:23:59.163Z"
      },
      {
        "duration": 16,
        "start_time": "2022-05-26T19:26:47.900Z"
      },
      {
        "duration": 109,
        "start_time": "2022-05-26T19:26:58.185Z"
      },
      {
        "duration": 157,
        "start_time": "2022-05-26T19:28:04.551Z"
      },
      {
        "duration": 67,
        "start_time": "2022-05-26T19:28:20.600Z"
      },
      {
        "duration": 10,
        "start_time": "2022-05-26T19:29:50.149Z"
      },
      {
        "duration": 229,
        "start_time": "2022-05-26T19:30:02.190Z"
      },
      {
        "duration": 3,
        "start_time": "2022-05-26T19:30:29.800Z"
      },
      {
        "duration": 6,
        "start_time": "2022-05-26T19:30:29.807Z"
      },
      {
        "duration": 1989,
        "start_time": "2022-05-26T19:30:29.814Z"
      },
      {
        "duration": 5,
        "start_time": "2022-05-26T19:30:31.805Z"
      },
      {
        "duration": 286,
        "start_time": "2022-05-26T19:30:31.812Z"
      },
      {
        "duration": 62,
        "start_time": "2022-05-26T19:30:32.100Z"
      },
      {
        "duration": 122,
        "start_time": "2022-05-26T19:30:32.164Z"
      },
      {
        "duration": 114,
        "start_time": "2022-05-26T19:30:32.287Z"
      },
      {
        "duration": 114,
        "start_time": "2022-05-26T19:30:32.404Z"
      },
      {
        "duration": 106,
        "start_time": "2022-05-26T19:30:32.520Z"
      },
      {
        "duration": 348,
        "start_time": "2022-05-26T19:30:32.628Z"
      },
      {
        "duration": 19,
        "start_time": "2022-05-26T19:30:32.978Z"
      },
      {
        "duration": 57,
        "start_time": "2022-05-26T19:30:32.999Z"
      },
      {
        "duration": 149,
        "start_time": "2022-05-26T19:30:40.517Z"
      },
      {
        "duration": 120,
        "start_time": "2022-05-26T19:34:16.256Z"
      },
      {
        "duration": 86,
        "start_time": "2022-05-26T19:34:25.780Z"
      },
      {
        "duration": 192,
        "start_time": "2022-05-26T19:37:47.240Z"
      },
      {
        "duration": 550,
        "start_time": "2022-05-26T19:38:08.900Z"
      },
      {
        "duration": 53,
        "start_time": "2022-05-26T19:40:14.347Z"
      },
      {
        "duration": 184,
        "start_time": "2022-05-26T19:40:25.113Z"
      },
      {
        "duration": 17,
        "start_time": "2022-05-26T19:40:31.606Z"
      },
      {
        "duration": 116,
        "start_time": "2022-05-26T19:42:34.101Z"
      },
      {
        "duration": 4,
        "start_time": "2022-05-26T19:42:41.198Z"
      },
      {
        "duration": 11,
        "start_time": "2022-05-26T19:42:41.204Z"
      },
      {
        "duration": 2183,
        "start_time": "2022-05-26T19:42:41.217Z"
      },
      {
        "duration": 5,
        "start_time": "2022-05-26T19:42:43.402Z"
      },
      {
        "duration": 258,
        "start_time": "2022-05-26T19:42:43.409Z"
      },
      {
        "duration": 51,
        "start_time": "2022-05-26T19:42:43.669Z"
      },
      {
        "duration": 74,
        "start_time": "2022-05-26T19:42:43.722Z"
      },
      {
        "duration": 41,
        "start_time": "2022-05-26T19:42:43.814Z"
      },
      {
        "duration": 64,
        "start_time": "2022-05-26T19:42:43.858Z"
      },
      {
        "duration": 70,
        "start_time": "2022-05-26T19:42:43.923Z"
      },
      {
        "duration": 284,
        "start_time": "2022-05-26T19:42:43.995Z"
      },
      {
        "duration": 25,
        "start_time": "2022-05-26T19:42:44.281Z"
      },
      {
        "duration": 78,
        "start_time": "2022-05-26T19:42:44.308Z"
      },
      {
        "duration": 219,
        "start_time": "2022-05-26T19:42:44.390Z"
      },
      {
        "duration": 526,
        "start_time": "2022-05-26T19:42:44.611Z"
      },
      {
        "duration": 57,
        "start_time": "2022-05-26T19:42:45.139Z"
      },
      {
        "duration": 158,
        "start_time": "2022-05-26T19:42:45.198Z"
      },
      {
        "duration": 15,
        "start_time": "2022-05-26T19:42:48.867Z"
      },
      {
        "duration": 69,
        "start_time": "2022-05-26T19:46:04.527Z"
      },
      {
        "duration": 4,
        "start_time": "2022-05-26T19:46:27.847Z"
      },
      {
        "duration": 9,
        "start_time": "2022-05-26T19:46:27.853Z"
      },
      {
        "duration": 2172,
        "start_time": "2022-05-26T19:46:27.864Z"
      },
      {
        "duration": 5,
        "start_time": "2022-05-26T19:46:30.038Z"
      },
      {
        "duration": 278,
        "start_time": "2022-05-26T19:46:30.047Z"
      },
      {
        "duration": 39,
        "start_time": "2022-05-26T19:46:30.327Z"
      },
      {
        "duration": 95,
        "start_time": "2022-05-26T19:46:30.368Z"
      },
      {
        "duration": 93,
        "start_time": "2022-05-26T19:46:30.465Z"
      },
      {
        "duration": 92,
        "start_time": "2022-05-26T19:46:30.560Z"
      },
      {
        "duration": 116,
        "start_time": "2022-05-26T19:46:30.654Z"
      },
      {
        "duration": 305,
        "start_time": "2022-05-26T19:46:30.773Z"
      },
      {
        "duration": 24,
        "start_time": "2022-05-26T19:46:31.080Z"
      },
      {
        "duration": 87,
        "start_time": "2022-05-26T19:46:31.106Z"
      },
      {
        "duration": 166,
        "start_time": "2022-05-26T19:46:31.195Z"
      },
      {
        "duration": 37,
        "start_time": "2022-05-26T19:46:31.363Z"
      },
      {
        "duration": 0,
        "start_time": "2022-05-26T19:46:31.402Z"
      },
      {
        "duration": 0,
        "start_time": "2022-05-26T19:46:31.404Z"
      },
      {
        "duration": 0,
        "start_time": "2022-05-26T19:46:31.405Z"
      },
      {
        "duration": 5,
        "start_time": "2022-05-26T19:47:29.045Z"
      },
      {
        "duration": 6,
        "start_time": "2022-05-26T19:47:29.052Z"
      },
      {
        "duration": 2082,
        "start_time": "2022-05-26T19:47:29.060Z"
      },
      {
        "duration": 4,
        "start_time": "2022-05-26T19:47:31.144Z"
      },
      {
        "duration": 268,
        "start_time": "2022-05-26T19:47:31.151Z"
      },
      {
        "duration": 35,
        "start_time": "2022-05-26T19:47:31.421Z"
      },
      {
        "duration": 69,
        "start_time": "2022-05-26T19:47:31.457Z"
      },
      {
        "duration": 37,
        "start_time": "2022-05-26T19:47:31.528Z"
      },
      {
        "duration": 64,
        "start_time": "2022-05-26T19:47:31.567Z"
      },
      {
        "duration": 68,
        "start_time": "2022-05-26T19:47:31.633Z"
      },
      {
        "duration": 277,
        "start_time": "2022-05-26T19:47:31.703Z"
      },
      {
        "duration": 22,
        "start_time": "2022-05-26T19:47:31.985Z"
      },
      {
        "duration": 62,
        "start_time": "2022-05-26T19:47:32.009Z"
      },
      {
        "duration": 174,
        "start_time": "2022-05-26T19:47:32.072Z"
      },
      {
        "duration": 15,
        "start_time": "2022-05-26T19:47:35.968Z"
      },
      {
        "duration": 5,
        "start_time": "2022-05-26T19:48:11.102Z"
      },
      {
        "duration": 5,
        "start_time": "2022-05-26T19:48:17.306Z"
      },
      {
        "duration": 4,
        "start_time": "2022-05-26T19:48:48.316Z"
      },
      {
        "duration": 10,
        "start_time": "2022-05-26T19:49:11.502Z"
      },
      {
        "duration": 5,
        "start_time": "2022-05-26T19:49:15.111Z"
      },
      {
        "duration": 6,
        "start_time": "2022-05-26T19:49:15.118Z"
      },
      {
        "duration": 1888,
        "start_time": "2022-05-26T19:49:15.125Z"
      },
      {
        "duration": 5,
        "start_time": "2022-05-26T19:49:17.015Z"
      },
      {
        "duration": 235,
        "start_time": "2022-05-26T19:49:17.021Z"
      },
      {
        "duration": 39,
        "start_time": "2022-05-26T19:49:17.258Z"
      },
      {
        "duration": 51,
        "start_time": "2022-05-26T19:49:17.298Z"
      },
      {
        "duration": 55,
        "start_time": "2022-05-26T19:49:17.351Z"
      },
      {
        "duration": 50,
        "start_time": "2022-05-26T19:49:17.408Z"
      },
      {
        "duration": 79,
        "start_time": "2022-05-26T19:49:17.460Z"
      },
      {
        "duration": 266,
        "start_time": "2022-05-26T19:49:17.541Z"
      },
      {
        "duration": 19,
        "start_time": "2022-05-26T19:49:17.809Z"
      },
      {
        "duration": 82,
        "start_time": "2022-05-26T19:49:17.830Z"
      },
      {
        "duration": 175,
        "start_time": "2022-05-26T19:49:17.918Z"
      },
      {
        "duration": 4,
        "start_time": "2022-05-26T19:49:22.784Z"
      },
      {
        "duration": 3,
        "start_time": "2022-05-26T19:50:09.831Z"
      },
      {
        "duration": 7,
        "start_time": "2022-05-26T19:50:09.836Z"
      },
      {
        "duration": 1858,
        "start_time": "2022-05-26T19:50:09.845Z"
      },
      {
        "duration": 4,
        "start_time": "2022-05-26T19:50:11.704Z"
      },
      {
        "duration": 255,
        "start_time": "2022-05-26T19:50:11.710Z"
      },
      {
        "duration": 40,
        "start_time": "2022-05-26T19:50:11.966Z"
      },
      {
        "duration": 50,
        "start_time": "2022-05-26T19:50:12.008Z"
      },
      {
        "duration": 55,
        "start_time": "2022-05-26T19:50:12.060Z"
      },
      {
        "duration": 49,
        "start_time": "2022-05-26T19:50:12.117Z"
      },
      {
        "duration": 50,
        "start_time": "2022-05-26T19:50:12.184Z"
      },
      {
        "duration": 286,
        "start_time": "2022-05-26T19:50:12.236Z"
      },
      {
        "duration": 19,
        "start_time": "2022-05-26T19:50:12.524Z"
      },
      {
        "duration": 68,
        "start_time": "2022-05-26T19:50:12.545Z"
      },
      {
        "duration": 179,
        "start_time": "2022-05-26T19:50:20.801Z"
      },
      {
        "duration": 6,
        "start_time": "2022-05-26T19:50:25.308Z"
      },
      {
        "duration": 6,
        "start_time": "2022-05-26T19:50:43.136Z"
      },
      {
        "duration": 429,
        "start_time": "2022-05-26T19:50:48.461Z"
      },
      {
        "duration": 45,
        "start_time": "2022-05-26T19:50:53.169Z"
      },
      {
        "duration": 131,
        "start_time": "2022-05-26T19:50:56.358Z"
      },
      {
        "duration": 16,
        "start_time": "2022-05-26T19:51:00.339Z"
      },
      {
        "duration": 4,
        "start_time": "2022-05-26T19:55:44.802Z"
      },
      {
        "duration": 8,
        "start_time": "2022-05-26T19:55:44.808Z"
      },
      {
        "duration": 1944,
        "start_time": "2022-05-26T19:55:44.818Z"
      },
      {
        "duration": 5,
        "start_time": "2022-05-26T19:55:46.763Z"
      },
      {
        "duration": 244,
        "start_time": "2022-05-26T19:55:46.784Z"
      },
      {
        "duration": 37,
        "start_time": "2022-05-26T19:55:47.029Z"
      },
      {
        "duration": 63,
        "start_time": "2022-05-26T19:55:47.067Z"
      },
      {
        "duration": 53,
        "start_time": "2022-05-26T19:55:47.132Z"
      },
      {
        "duration": 51,
        "start_time": "2022-05-26T19:55:47.187Z"
      },
      {
        "duration": 79,
        "start_time": "2022-05-26T19:55:47.240Z"
      },
      {
        "duration": 356,
        "start_time": "2022-05-26T19:55:47.322Z"
      },
      {
        "duration": 21,
        "start_time": "2022-05-26T19:55:47.680Z"
      },
      {
        "duration": 80,
        "start_time": "2022-05-26T19:55:47.703Z"
      },
      {
        "duration": 219,
        "start_time": "2022-05-26T19:55:47.785Z"
      },
      {
        "duration": 6,
        "start_time": "2022-05-26T19:55:48.006Z"
      },
      {
        "duration": 546,
        "start_time": "2022-05-26T19:55:48.014Z"
      },
      {
        "duration": 45,
        "start_time": "2022-05-26T19:55:48.562Z"
      },
      {
        "duration": 131,
        "start_time": "2022-05-26T19:55:55.506Z"
      },
      {
        "duration": 3,
        "start_time": "2022-05-26T19:56:22.971Z"
      },
      {
        "duration": 7,
        "start_time": "2022-05-26T19:56:22.977Z"
      },
      {
        "duration": 2226,
        "start_time": "2022-05-26T19:56:22.987Z"
      },
      {
        "duration": 5,
        "start_time": "2022-05-26T19:56:25.215Z"
      },
      {
        "duration": 243,
        "start_time": "2022-05-26T19:56:25.222Z"
      },
      {
        "duration": 40,
        "start_time": "2022-05-26T19:56:25.467Z"
      },
      {
        "duration": 51,
        "start_time": "2022-05-26T19:56:25.509Z"
      },
      {
        "duration": 55,
        "start_time": "2022-05-26T19:56:25.562Z"
      },
      {
        "duration": 70,
        "start_time": "2022-05-26T19:56:25.619Z"
      },
      {
        "duration": 48,
        "start_time": "2022-05-26T19:56:25.690Z"
      },
      {
        "duration": 270,
        "start_time": "2022-05-26T19:56:25.741Z"
      },
      {
        "duration": 18,
        "start_time": "2022-05-26T19:56:26.013Z"
      },
      {
        "duration": 69,
        "start_time": "2022-05-26T19:56:26.033Z"
      },
      {
        "duration": 176,
        "start_time": "2022-05-26T19:56:28.554Z"
      },
      {
        "duration": 439,
        "start_time": "2022-05-26T19:56:38.185Z"
      },
      {
        "duration": 47,
        "start_time": "2022-05-26T19:56:42.325Z"
      },
      {
        "duration": 133,
        "start_time": "2022-05-26T19:56:46.413Z"
      },
      {
        "duration": 89,
        "start_time": "2022-05-26T19:57:16.445Z"
      },
      {
        "duration": 9,
        "start_time": "2022-05-26T19:58:26.094Z"
      },
      {
        "duration": 10,
        "start_time": "2022-05-26T19:58:48.351Z"
      },
      {
        "duration": 4,
        "start_time": "2022-05-26T19:59:01.917Z"
      },
      {
        "duration": 13,
        "start_time": "2022-05-26T19:59:01.923Z"
      },
      {
        "duration": 1932,
        "start_time": "2022-05-26T19:59:01.938Z"
      },
      {
        "duration": 5,
        "start_time": "2022-05-26T19:59:03.871Z"
      },
      {
        "duration": 239,
        "start_time": "2022-05-26T19:59:03.884Z"
      },
      {
        "duration": 35,
        "start_time": "2022-05-26T19:59:04.125Z"
      },
      {
        "duration": 62,
        "start_time": "2022-05-26T19:59:04.162Z"
      },
      {
        "duration": 40,
        "start_time": "2022-05-26T19:59:04.226Z"
      },
      {
        "duration": 66,
        "start_time": "2022-05-26T19:59:04.268Z"
      },
      {
        "duration": 59,
        "start_time": "2022-05-26T19:59:04.336Z"
      },
      {
        "duration": 275,
        "start_time": "2022-05-26T19:59:04.397Z"
      },
      {
        "duration": 25,
        "start_time": "2022-05-26T19:59:04.674Z"
      },
      {
        "duration": 64,
        "start_time": "2022-05-26T19:59:04.700Z"
      },
      {
        "duration": 161,
        "start_time": "2022-05-26T19:59:04.765Z"
      },
      {
        "duration": 14,
        "start_time": "2022-05-26T19:59:08.254Z"
      },
      {
        "duration": 9,
        "start_time": "2022-05-26T19:59:32.296Z"
      },
      {
        "duration": 8,
        "start_time": "2022-05-26T19:59:47.666Z"
      },
      {
        "duration": 95,
        "start_time": "2022-05-26T20:00:42.989Z"
      },
      {
        "duration": 4,
        "start_time": "2022-05-26T20:00:47.719Z"
      },
      {
        "duration": 5,
        "start_time": "2022-05-26T20:00:47.725Z"
      },
      {
        "duration": 2024,
        "start_time": "2022-05-26T20:00:47.732Z"
      },
      {
        "duration": 4,
        "start_time": "2022-05-26T20:00:49.758Z"
      },
      {
        "duration": 255,
        "start_time": "2022-05-26T20:00:49.764Z"
      },
      {
        "duration": 37,
        "start_time": "2022-05-26T20:00:50.021Z"
      },
      {
        "duration": 65,
        "start_time": "2022-05-26T20:00:50.060Z"
      },
      {
        "duration": 39,
        "start_time": "2022-05-26T20:00:50.127Z"
      },
      {
        "duration": 66,
        "start_time": "2022-05-26T20:00:50.167Z"
      },
      {
        "duration": 64,
        "start_time": "2022-05-26T20:00:50.235Z"
      },
      {
        "duration": 279,
        "start_time": "2022-05-26T20:00:50.302Z"
      },
      {
        "duration": 24,
        "start_time": "2022-05-26T20:00:50.584Z"
      },
      {
        "duration": 77,
        "start_time": "2022-05-26T20:00:50.610Z"
      },
      {
        "duration": 218,
        "start_time": "2022-05-26T20:01:40.889Z"
      },
      {
        "duration": 495,
        "start_time": "2022-05-26T20:02:01.466Z"
      },
      {
        "duration": 50,
        "start_time": "2022-05-26T20:02:04.891Z"
      },
      {
        "duration": 152,
        "start_time": "2022-05-26T20:02:06.775Z"
      },
      {
        "duration": 6,
        "start_time": "2022-05-26T20:03:18.067Z"
      },
      {
        "duration": 17,
        "start_time": "2022-05-26T20:03:18.079Z"
      },
      {
        "duration": 1924,
        "start_time": "2022-05-26T20:03:18.098Z"
      },
      {
        "duration": 5,
        "start_time": "2022-05-26T20:03:20.025Z"
      },
      {
        "duration": 247,
        "start_time": "2022-05-26T20:03:20.032Z"
      },
      {
        "duration": 46,
        "start_time": "2022-05-26T20:03:20.284Z"
      },
      {
        "duration": 64,
        "start_time": "2022-05-26T20:03:20.331Z"
      },
      {
        "duration": 36,
        "start_time": "2022-05-26T20:03:20.397Z"
      },
      {
        "duration": 69,
        "start_time": "2022-05-26T20:03:20.435Z"
      },
      {
        "duration": 52,
        "start_time": "2022-05-26T20:03:20.506Z"
      },
      {
        "duration": 309,
        "start_time": "2022-05-26T20:03:20.560Z"
      },
      {
        "duration": 29,
        "start_time": "2022-05-26T20:03:20.871Z"
      },
      {
        "duration": 61,
        "start_time": "2022-05-26T20:03:20.901Z"
      },
      {
        "duration": 254,
        "start_time": "2022-05-26T20:03:20.964Z"
      },
      {
        "duration": 524,
        "start_time": "2022-05-26T20:03:21.221Z"
      },
      {
        "duration": 56,
        "start_time": "2022-05-26T20:03:21.746Z"
      },
      {
        "duration": 141,
        "start_time": "2022-05-26T20:03:21.804Z"
      },
      {
        "duration": 14,
        "start_time": "2022-05-26T20:03:21.947Z"
      },
      {
        "duration": 46,
        "start_time": "2022-05-26T20:04:36.870Z"
      },
      {
        "duration": 46,
        "start_time": "2022-05-26T20:04:52.756Z"
      },
      {
        "duration": 4,
        "start_time": "2022-05-26T20:07:59.875Z"
      },
      {
        "duration": 10,
        "start_time": "2022-05-26T20:07:59.881Z"
      },
      {
        "duration": 2158,
        "start_time": "2022-05-26T20:07:59.893Z"
      },
      {
        "duration": 4,
        "start_time": "2022-05-26T20:08:02.053Z"
      },
      {
        "duration": 284,
        "start_time": "2022-05-26T20:08:02.059Z"
      },
      {
        "duration": 40,
        "start_time": "2022-05-26T20:08:02.344Z"
      },
      {
        "duration": 53,
        "start_time": "2022-05-26T20:08:02.385Z"
      },
      {
        "duration": 55,
        "start_time": "2022-05-26T20:08:02.440Z"
      },
      {
        "duration": 53,
        "start_time": "2022-05-26T20:08:02.497Z"
      },
      {
        "duration": 67,
        "start_time": "2022-05-26T20:08:02.552Z"
      },
      {
        "duration": 297,
        "start_time": "2022-05-26T20:08:02.621Z"
      },
      {
        "duration": 19,
        "start_time": "2022-05-26T20:08:02.920Z"
      },
      {
        "duration": 76,
        "start_time": "2022-05-26T20:08:02.941Z"
      },
      {
        "duration": 22,
        "start_time": "2022-05-26T20:08:06.412Z"
      },
      {
        "duration": 28,
        "start_time": "2022-05-26T20:09:18.282Z"
      },
      {
        "duration": 32,
        "start_time": "2022-05-26T20:09:26.744Z"
      },
      {
        "duration": 31,
        "start_time": "2022-05-26T20:09:35.023Z"
      },
      {
        "duration": 21,
        "start_time": "2022-05-26T20:09:39.149Z"
      },
      {
        "duration": 29,
        "start_time": "2022-05-26T20:09:49.025Z"
      },
      {
        "duration": 72,
        "start_time": "2022-05-26T20:10:11.993Z"
      },
      {
        "duration": 24,
        "start_time": "2022-05-26T20:10:15.844Z"
      },
      {
        "duration": 469,
        "start_time": "2022-05-26T20:10:54.371Z"
      },
      {
        "duration": 406,
        "start_time": "2022-05-26T20:11:00.034Z"
      },
      {
        "duration": 4,
        "start_time": "2022-05-26T20:11:04.395Z"
      },
      {
        "duration": 8,
        "start_time": "2022-05-26T20:11:04.401Z"
      },
      {
        "duration": 2152,
        "start_time": "2022-05-26T20:11:04.411Z"
      },
      {
        "duration": 5,
        "start_time": "2022-05-26T20:11:06.564Z"
      },
      {
        "duration": 291,
        "start_time": "2022-05-26T20:11:06.583Z"
      },
      {
        "duration": 47,
        "start_time": "2022-05-26T20:11:06.876Z"
      },
      {
        "duration": 61,
        "start_time": "2022-05-26T20:11:06.925Z"
      },
      {
        "duration": 39,
        "start_time": "2022-05-26T20:11:06.988Z"
      },
      {
        "duration": 115,
        "start_time": "2022-05-26T20:11:07.029Z"
      },
      {
        "duration": 81,
        "start_time": "2022-05-26T20:11:07.146Z"
      },
      {
        "duration": 297,
        "start_time": "2022-05-26T20:11:07.230Z"
      },
      {
        "duration": 21,
        "start_time": "2022-05-26T20:11:07.528Z"
      },
      {
        "duration": 84,
        "start_time": "2022-05-26T20:11:07.551Z"
      },
      {
        "duration": 22,
        "start_time": "2022-05-26T20:11:07.637Z"
      },
      {
        "duration": 420,
        "start_time": "2022-05-26T20:11:07.660Z"
      },
      {
        "duration": 252,
        "start_time": "2022-05-26T20:11:47.722Z"
      },
      {
        "duration": 503,
        "start_time": "2022-05-26T20:12:02.302Z"
      },
      {
        "duration": 49,
        "start_time": "2022-05-26T20:12:05.974Z"
      },
      {
        "duration": 142,
        "start_time": "2022-05-26T20:12:09.990Z"
      },
      {
        "duration": 6,
        "start_time": "2022-05-26T20:12:43.882Z"
      },
      {
        "duration": 6,
        "start_time": "2022-05-26T20:12:52.329Z"
      },
      {
        "duration": 10,
        "start_time": "2022-05-26T20:12:52.338Z"
      },
      {
        "duration": 2061,
        "start_time": "2022-05-26T20:12:52.350Z"
      },
      {
        "duration": 4,
        "start_time": "2022-05-26T20:12:54.413Z"
      },
      {
        "duration": 258,
        "start_time": "2022-05-26T20:12:54.420Z"
      },
      {
        "duration": 41,
        "start_time": "2022-05-26T20:12:54.679Z"
      },
      {
        "duration": 76,
        "start_time": "2022-05-26T20:12:54.722Z"
      },
      {
        "duration": 43,
        "start_time": "2022-05-26T20:12:54.800Z"
      },
      {
        "duration": 67,
        "start_time": "2022-05-26T20:12:54.845Z"
      },
      {
        "duration": 87,
        "start_time": "2022-05-26T20:12:54.915Z"
      },
      {
        "duration": 285,
        "start_time": "2022-05-26T20:12:55.004Z"
      },
      {
        "duration": 19,
        "start_time": "2022-05-26T20:12:55.291Z"
      },
      {
        "duration": 72,
        "start_time": "2022-05-26T20:12:55.312Z"
      },
      {
        "duration": 22,
        "start_time": "2022-05-26T20:12:55.386Z"
      },
      {
        "duration": 14,
        "start_time": "2022-05-26T20:13:00.134Z"
      },
      {
        "duration": 12,
        "start_time": "2022-05-26T20:16:48.710Z"
      },
      {
        "duration": 249,
        "start_time": "2022-05-26T20:16:53.515Z"
      },
      {
        "duration": 241,
        "start_time": "2022-05-26T20:22:07.240Z"
      },
      {
        "duration": 61,
        "start_time": "2022-05-26T20:22:12.692Z"
      },
      {
        "duration": 4,
        "start_time": "2022-05-26T20:22:19.412Z"
      },
      {
        "duration": 12,
        "start_time": "2022-05-26T20:22:19.418Z"
      },
      {
        "duration": 1986,
        "start_time": "2022-05-26T20:22:19.432Z"
      },
      {
        "duration": 4,
        "start_time": "2022-05-26T20:22:21.420Z"
      },
      {
        "duration": 257,
        "start_time": "2022-05-26T20:22:21.426Z"
      },
      {
        "duration": 39,
        "start_time": "2022-05-26T20:22:21.685Z"
      },
      {
        "duration": 64,
        "start_time": "2022-05-26T20:22:21.726Z"
      },
      {
        "duration": 51,
        "start_time": "2022-05-26T20:22:21.792Z"
      },
      {
        "duration": 66,
        "start_time": "2022-05-26T20:22:21.845Z"
      },
      {
        "duration": 49,
        "start_time": "2022-05-26T20:22:21.913Z"
      },
      {
        "duration": 288,
        "start_time": "2022-05-26T20:22:21.965Z"
      },
      {
        "duration": 18,
        "start_time": "2022-05-26T20:22:22.255Z"
      },
      {
        "duration": 66,
        "start_time": "2022-05-26T20:22:22.275Z"
      },
      {
        "duration": 20,
        "start_time": "2022-05-26T20:22:22.343Z"
      },
      {
        "duration": 30,
        "start_time": "2022-05-26T20:22:22.364Z"
      },
      {
        "duration": 269,
        "start_time": "2022-05-26T20:22:22.395Z"
      },
      {
        "duration": 481,
        "start_time": "2022-05-26T20:22:22.666Z"
      },
      {
        "duration": 53,
        "start_time": "2022-05-26T20:22:23.149Z"
      },
      {
        "duration": 142,
        "start_time": "2022-05-26T20:22:23.204Z"
      },
      {
        "duration": 15,
        "start_time": "2022-05-26T20:22:28.269Z"
      },
      {
        "duration": 9,
        "start_time": "2022-05-26T20:22:50.328Z"
      },
      {
        "duration": 4,
        "start_time": "2022-05-26T20:24:50.302Z"
      },
      {
        "duration": 12,
        "start_time": "2022-05-26T20:24:50.308Z"
      },
      {
        "duration": 1928,
        "start_time": "2022-05-26T20:24:50.322Z"
      },
      {
        "duration": 5,
        "start_time": "2022-05-26T20:24:52.251Z"
      },
      {
        "duration": 265,
        "start_time": "2022-05-26T20:24:52.258Z"
      },
      {
        "duration": 36,
        "start_time": "2022-05-26T20:24:52.525Z"
      },
      {
        "duration": 63,
        "start_time": "2022-05-26T20:24:52.563Z"
      },
      {
        "duration": 39,
        "start_time": "2022-05-26T20:24:52.627Z"
      },
      {
        "duration": 63,
        "start_time": "2022-05-26T20:24:52.667Z"
      },
      {
        "duration": 60,
        "start_time": "2022-05-26T20:24:52.731Z"
      },
      {
        "duration": 254,
        "start_time": "2022-05-26T20:24:52.793Z"
      },
      {
        "duration": 18,
        "start_time": "2022-05-26T20:24:53.048Z"
      },
      {
        "duration": 67,
        "start_time": "2022-05-26T20:24:53.067Z"
      },
      {
        "duration": 24,
        "start_time": "2022-05-26T20:24:53.135Z"
      },
      {
        "duration": 33,
        "start_time": "2022-05-26T20:24:53.161Z"
      },
      {
        "duration": 264,
        "start_time": "2022-05-26T20:24:53.195Z"
      },
      {
        "duration": 459,
        "start_time": "2022-05-26T20:24:53.461Z"
      },
      {
        "duration": 52,
        "start_time": "2022-05-26T20:24:53.922Z"
      },
      {
        "duration": 142,
        "start_time": "2022-05-26T20:24:53.975Z"
      },
      {
        "duration": 15,
        "start_time": "2022-05-26T20:24:54.119Z"
      },
      {
        "duration": 4,
        "start_time": "2022-05-26T21:07:19.135Z"
      },
      {
        "duration": 13,
        "start_time": "2022-05-26T21:07:19.141Z"
      },
      {
        "duration": 1992,
        "start_time": "2022-05-26T21:07:19.156Z"
      },
      {
        "duration": 5,
        "start_time": "2022-05-26T21:07:21.150Z"
      },
      {
        "duration": 245,
        "start_time": "2022-05-26T21:07:21.156Z"
      },
      {
        "duration": 35,
        "start_time": "2022-05-26T21:07:21.402Z"
      },
      {
        "duration": 68,
        "start_time": "2022-05-26T21:07:21.438Z"
      },
      {
        "duration": 41,
        "start_time": "2022-05-26T21:07:21.507Z"
      },
      {
        "duration": 66,
        "start_time": "2022-05-26T21:07:21.550Z"
      },
      {
        "duration": 50,
        "start_time": "2022-05-26T21:07:21.618Z"
      },
      {
        "duration": 278,
        "start_time": "2022-05-26T21:07:21.683Z"
      },
      {
        "duration": 33,
        "start_time": "2022-05-26T21:07:21.963Z"
      },
      {
        "duration": 74,
        "start_time": "2022-05-26T21:07:21.999Z"
      },
      {
        "duration": 28,
        "start_time": "2022-05-26T21:07:22.075Z"
      },
      {
        "duration": 15,
        "start_time": "2022-05-26T21:07:22.104Z"
      },
      {
        "duration": 293,
        "start_time": "2022-05-26T21:07:22.120Z"
      },
      {
        "duration": 484,
        "start_time": "2022-05-26T21:07:22.415Z"
      },
      {
        "duration": 45,
        "start_time": "2022-05-26T21:07:22.901Z"
      },
      {
        "duration": 160,
        "start_time": "2022-05-26T21:07:22.948Z"
      },
      {
        "duration": 15,
        "start_time": "2022-05-26T21:07:23.110Z"
      },
      {
        "duration": 64,
        "start_time": "2022-05-26T21:07:23.127Z"
      },
      {
        "duration": 16,
        "start_time": "2022-05-26T21:07:23.193Z"
      },
      {
        "duration": 98,
        "start_time": "2022-05-26T21:07:23.211Z"
      },
      {
        "duration": 1016,
        "start_time": "2022-05-26T21:07:23.310Z"
      },
      {
        "duration": 84,
        "start_time": "2022-05-26T21:07:24.329Z"
      },
      {
        "duration": 21450,
        "start_time": "2022-05-26T21:07:24.415Z"
      },
      {
        "duration": 403802,
        "start_time": "2022-05-26T21:07:45.867Z"
      },
      {
        "duration": 4149,
        "start_time": "2022-05-26T21:14:29.671Z"
      },
      {
        "duration": 4745185,
        "start_time": "2022-05-26T21:14:33.823Z"
      },
      {
        "duration": 0,
        "start_time": "2022-05-26T22:33:39.010Z"
      },
      {
        "duration": 0,
        "start_time": "2022-05-26T22:33:39.011Z"
      },
      {
        "duration": 0,
        "start_time": "2022-05-26T22:33:39.012Z"
      },
      {
        "duration": 0,
        "start_time": "2022-05-26T22:33:39.013Z"
      },
      {
        "duration": 0,
        "start_time": "2022-05-26T22:33:39.014Z"
      },
      {
        "duration": 0,
        "start_time": "2022-05-26T22:33:39.015Z"
      },
      {
        "duration": 0,
        "start_time": "2022-05-26T22:33:39.016Z"
      },
      {
        "duration": 111655,
        "start_time": "2022-05-26T22:33:55.529Z"
      },
      {
        "duration": 1547,
        "start_time": "2022-05-26T22:39:20.300Z"
      },
      {
        "duration": 8335,
        "start_time": "2022-05-26T22:40:19.358Z"
      },
      {
        "duration": 15,
        "start_time": "2022-05-26T22:40:34.082Z"
      },
      {
        "duration": 343525,
        "start_time": "2022-05-26T22:40:42.383Z"
      },
      {
        "duration": 16,
        "start_time": "2022-05-26T22:46:31.679Z"
      },
      {
        "duration": 461024,
        "start_time": "2022-05-26T22:46:46.862Z"
      },
      {
        "duration": 30,
        "start_time": "2022-05-26T22:54:49.369Z"
      },
      {
        "duration": 1006,
        "start_time": "2022-05-26T23:06:13.074Z"
      },
      {
        "duration": 4,
        "start_time": "2022-05-26T23:06:14.083Z"
      },
      {
        "duration": 2155,
        "start_time": "2022-05-26T23:06:14.088Z"
      },
      {
        "duration": 4,
        "start_time": "2022-05-26T23:06:16.245Z"
      },
      {
        "duration": 318,
        "start_time": "2022-05-26T23:06:16.251Z"
      },
      {
        "duration": 39,
        "start_time": "2022-05-26T23:06:16.571Z"
      },
      {
        "duration": 49,
        "start_time": "2022-05-26T23:06:16.612Z"
      },
      {
        "duration": 55,
        "start_time": "2022-05-26T23:06:16.663Z"
      },
      {
        "duration": 63,
        "start_time": "2022-05-26T23:06:16.720Z"
      },
      {
        "duration": 50,
        "start_time": "2022-05-26T23:06:16.786Z"
      },
      {
        "duration": 325,
        "start_time": "2022-05-26T23:06:16.838Z"
      },
      {
        "duration": 30,
        "start_time": "2022-05-26T23:06:17.164Z"
      },
      {
        "duration": 61,
        "start_time": "2022-05-26T23:06:17.196Z"
      },
      {
        "duration": 41,
        "start_time": "2022-05-26T23:06:17.259Z"
      },
      {
        "duration": 15,
        "start_time": "2022-05-26T23:06:17.302Z"
      },
      {
        "duration": 338,
        "start_time": "2022-05-26T23:06:17.319Z"
      },
      {
        "duration": 513,
        "start_time": "2022-05-26T23:06:17.659Z"
      },
      {
        "duration": 56,
        "start_time": "2022-05-26T23:06:18.174Z"
      },
      {
        "duration": 155,
        "start_time": "2022-05-26T23:06:18.232Z"
      },
      {
        "duration": 14,
        "start_time": "2022-05-26T23:06:18.389Z"
      },
      {
        "duration": 26,
        "start_time": "2022-05-26T23:06:18.405Z"
      },
      {
        "duration": 27,
        "start_time": "2022-05-26T23:06:18.433Z"
      },
      {
        "duration": 66,
        "start_time": "2022-05-26T23:06:18.462Z"
      },
      {
        "duration": 499,
        "start_time": "2022-05-26T23:06:18.530Z"
      },
      {
        "duration": 22,
        "start_time": "2022-05-26T23:06:19.031Z"
      },
      {
        "duration": 20129,
        "start_time": "2022-05-26T23:06:19.055Z"
      },
      {
        "duration": 401944,
        "start_time": "2022-05-26T23:06:39.186Z"
      },
      {
        "duration": 4089,
        "start_time": "2022-05-26T23:13:21.133Z"
      },
      {
        "duration": 1039,
        "start_time": "2022-05-27T03:51:35.665Z"
      },
      {
        "duration": 4,
        "start_time": "2022-05-27T03:51:36.706Z"
      },
      {
        "duration": 2503,
        "start_time": "2022-05-27T03:51:36.711Z"
      },
      {
        "duration": 4,
        "start_time": "2022-05-27T03:51:39.215Z"
      },
      {
        "duration": 314,
        "start_time": "2022-05-27T03:51:39.222Z"
      },
      {
        "duration": 47,
        "start_time": "2022-05-27T03:51:39.537Z"
      },
      {
        "duration": 50,
        "start_time": "2022-05-27T03:51:39.586Z"
      },
      {
        "duration": 53,
        "start_time": "2022-05-27T03:51:39.637Z"
      },
      {
        "duration": 45,
        "start_time": "2022-05-27T03:51:39.692Z"
      },
      {
        "duration": 46,
        "start_time": "2022-05-27T03:51:39.762Z"
      },
      {
        "duration": 330,
        "start_time": "2022-05-27T03:51:39.809Z"
      },
      {
        "duration": 30,
        "start_time": "2022-05-27T03:51:40.141Z"
      },
      {
        "duration": 64,
        "start_time": "2022-05-27T03:51:40.173Z"
      },
      {
        "duration": 38,
        "start_time": "2022-05-27T03:51:40.239Z"
      },
      {
        "duration": 14,
        "start_time": "2022-05-27T03:51:40.278Z"
      },
      {
        "duration": 335,
        "start_time": "2022-05-27T03:51:40.294Z"
      },
      {
        "duration": 516,
        "start_time": "2022-05-27T03:51:40.631Z"
      },
      {
        "duration": 60,
        "start_time": "2022-05-27T03:51:41.149Z"
      },
      {
        "duration": 162,
        "start_time": "2022-05-27T03:51:41.211Z"
      },
      {
        "duration": 16,
        "start_time": "2022-05-27T03:51:41.375Z"
      },
      {
        "duration": 10,
        "start_time": "2022-05-27T03:51:41.393Z"
      },
      {
        "duration": 16,
        "start_time": "2022-05-27T03:51:41.404Z"
      },
      {
        "duration": 81,
        "start_time": "2022-05-27T03:51:41.422Z"
      },
      {
        "duration": 525,
        "start_time": "2022-05-27T03:51:41.505Z"
      },
      {
        "duration": 33,
        "start_time": "2022-05-27T03:51:42.032Z"
      },
      {
        "duration": 3,
        "start_time": "2022-05-27T03:51:53.144Z"
      },
      {
        "duration": 630,
        "start_time": "2022-05-27T03:51:56.265Z"
      },
      {
        "duration": 12986,
        "start_time": "2022-05-27T03:52:00.398Z"
      },
      {
        "duration": 89,
        "start_time": "2022-05-27T03:52:13.386Z"
      },
      {
        "duration": 1142,
        "start_time": "2022-05-27T15:53:04.519Z"
      },
      {
        "duration": 5,
        "start_time": "2022-05-27T15:53:05.663Z"
      },
      {
        "duration": 4030,
        "start_time": "2022-05-27T15:53:05.670Z"
      },
      {
        "duration": 5,
        "start_time": "2022-05-27T15:53:09.701Z"
      },
      {
        "duration": 312,
        "start_time": "2022-05-27T15:53:09.708Z"
      },
      {
        "duration": 35,
        "start_time": "2022-05-27T15:53:10.022Z"
      },
      {
        "duration": 66,
        "start_time": "2022-05-27T15:53:10.059Z"
      },
      {
        "duration": 38,
        "start_time": "2022-05-27T15:53:10.126Z"
      },
      {
        "duration": 63,
        "start_time": "2022-05-27T15:53:10.165Z"
      },
      {
        "duration": 65,
        "start_time": "2022-05-27T15:53:10.230Z"
      },
      {
        "duration": 307,
        "start_time": "2022-05-27T15:53:10.296Z"
      },
      {
        "duration": 23,
        "start_time": "2022-05-27T15:53:10.605Z"
      },
      {
        "duration": 83,
        "start_time": "2022-05-27T15:53:10.630Z"
      },
      {
        "duration": 23,
        "start_time": "2022-05-27T15:53:10.716Z"
      },
      {
        "duration": 16,
        "start_time": "2022-05-27T15:53:10.741Z"
      },
      {
        "duration": 320,
        "start_time": "2022-05-27T15:53:10.758Z"
      },
      {
        "duration": 510,
        "start_time": "2022-05-27T15:53:11.081Z"
      },
      {
        "duration": 59,
        "start_time": "2022-05-27T15:53:11.593Z"
      },
      {
        "duration": 167,
        "start_time": "2022-05-27T15:53:11.654Z"
      },
      {
        "duration": 16,
        "start_time": "2022-05-27T15:53:11.823Z"
      },
      {
        "duration": 10,
        "start_time": "2022-05-27T15:53:11.840Z"
      },
      {
        "duration": 82,
        "start_time": "2022-05-27T15:53:11.852Z"
      },
      {
        "duration": 533,
        "start_time": "2022-05-27T15:53:11.936Z"
      },
      {
        "duration": 32,
        "start_time": "2022-05-27T15:53:12.470Z"
      },
      {
        "duration": 19787,
        "start_time": "2022-05-27T15:53:12.505Z"
      },
      {
        "duration": 414364,
        "start_time": "2022-05-27T15:53:32.294Z"
      },
      {
        "duration": 4082,
        "start_time": "2022-05-27T16:00:26.659Z"
      },
      {
        "duration": 2718863,
        "start_time": "2022-05-27T16:00:30.743Z"
      },
      {
        "duration": 3,
        "start_time": "2022-05-27T16:45:49.607Z"
      },
      {
        "duration": 707,
        "start_time": "2022-05-27T16:45:49.611Z"
      },
      {
        "duration": 12982,
        "start_time": "2022-05-27T16:45:50.320Z"
      },
      {
        "duration": 97,
        "start_time": "2022-05-27T16:46:03.303Z"
      },
      {
        "duration": 12402,
        "start_time": "2022-05-27T16:46:03.403Z"
      },
      {
        "duration": 572,
        "start_time": "2022-05-27T16:46:15.807Z"
      },
      {
        "duration": 5,
        "start_time": "2022-05-27T16:46:16.381Z"
      }
    ],
    "colab": {
      "provenance": []
    },
    "kernelspec": {
      "display_name": "Python 3 (ipykernel)",
      "language": "python",
      "name": "python3"
    },
    "language_info": {
      "codemirror_mode": {
        "name": "ipython",
        "version": 3
      },
      "file_extension": ".py",
      "mimetype": "text/x-python",
      "name": "python",
      "nbconvert_exporter": "python",
      "pygments_lexer": "ipython3",
      "version": "3.8.8"
    },
    "toc": {
      "base_numbering": 1,
      "nav_menu": {},
      "number_sections": true,
      "sideBar": true,
      "skip_h1_title": true,
      "title_cell": "Содержание",
      "title_sidebar": "Содержание",
      "toc_cell": true,
      "toc_position": {},
      "toc_section_display": true,
      "toc_window_display": true
    }
  },
  "nbformat": 4,
  "nbformat_minor": 0
}
