{
 "cells": [
  {
   "cell_type": "markdown",
   "metadata": {},
   "source": [
    "# Защита персональных данных клиентов"
   ]
  },
  {
   "cell_type": "markdown",
   "metadata": {},
   "source": [
    "Вам нужно защитить данные клиентов страховой компании «Хоть потоп». Разработайте такой метод преобразования данных, чтобы по ним было сложно восстановить персональную информацию. Обоснуйте корректность его работы.\n",
    "\n",
    "Нужно защитить данные, чтобы при преобразовании качество моделей машинного обучения не ухудшилось. Подбирать наилучшую модель не требуется."
   ]
  },
  {
   "cell_type": "markdown",
   "metadata": {
    "toc": true
   },
   "source": [
    "<h1>Содержание<span class=\"tocSkip\"></span></h1>\n",
    "<div class=\"toc\"><ul class=\"toc-item\"><li><span><a href=\"#Загрузка-данных\" data-toc-modified-id=\"Загрузка-данных-1\"><span class=\"toc-item-num\">1&nbsp;&nbsp;</span>Загрузка данных</a></span></li><li><span><a href=\"#Умножение-матриц\" data-toc-modified-id=\"Умножение-матриц-2\"><span class=\"toc-item-num\">2&nbsp;&nbsp;</span>Умножение матриц</a></span></li><li><span><a href=\"#Алгоритм-преобразования\" data-toc-modified-id=\"Алгоритм-преобразования-3\"><span class=\"toc-item-num\">3&nbsp;&nbsp;</span>Алгоритм преобразования</a></span></li><li><span><a href=\"#Проверка-алгоритма\" data-toc-modified-id=\"Проверка-алгоритма-4\"><span class=\"toc-item-num\">4&nbsp;&nbsp;</span>Проверка алгоритма</a></span></li></ul></div>"
   ]
  },
  {
   "cell_type": "markdown",
   "metadata": {},
   "source": [
    "## Загрузка данных"
   ]
  },
  {
   "cell_type": "code",
   "execution_count": 1,
   "metadata": {},
   "outputs": [],
   "source": [
    "#импортируем библиотеки\n",
    "\n",
    "import pandas as pd\n",
    "\n",
    "import numpy as np\n",
    "\n",
    "from sklearn.model_selection import train_test_split\n",
    "\n",
    "from sklearn.linear_model import LinearRegression\n",
    "\n",
    "from sklearn.metrics import r2_score\n",
    "\n"
   ]
  },
  {
   "cell_type": "code",
   "execution_count": 2,
   "metadata": {},
   "outputs": [],
   "source": [
    "# прочитаем данные \n",
    "\n",
    "def data_reading(path):\n",
    "    data = pd.read_csv(path)\n",
    "    #print(f'Количество строк: {data.shape[0]}; \\n\\\n",
    "#Количество столбцов: {data.shape[1]} \\n')\n",
    "    print(f'Информация о данных: \\n')\n",
    "    data.info()\n",
    "    print(f'\\nКоличество дубликатов: {data.duplicated().sum()} \\n')\n",
    "    print(f'\\nДоля дубликатов: {data.duplicated().mean()}\\n')\n",
    "    print(f'\\nКоличество пропусков:\\n\\\n",
    "{data.isna().sum()} \\n')\n",
    "    print(f'\\nДоля пропусков:\\n\\\n",
    "{data.isna().mean()} \\n')\n",
    "    print(f'Первые 5 строк датасета: \\n')\n",
    "    display(data.head(5))\n",
    "    return data"
   ]
  },
  {
   "cell_type": "code",
   "execution_count": 4,
   "metadata": {
    "scrolled": false
   },
   "outputs": [
    {
     "name": "stdout",
     "output_type": "stream",
     "text": [
      "Информация о данных: \n",
      "\n",
      "<class 'pandas.core.frame.DataFrame'>\n",
      "RangeIndex: 5000 entries, 0 to 4999\n",
      "Data columns (total 5 columns):\n",
      " #   Column             Non-Null Count  Dtype  \n",
      "---  ------             --------------  -----  \n",
      " 0   Пол                5000 non-null   int64  \n",
      " 1   Возраст            5000 non-null   float64\n",
      " 2   Зарплата           5000 non-null   float64\n",
      " 3   Члены семьи        5000 non-null   int64  \n",
      " 4   Страховые выплаты  5000 non-null   int64  \n",
      "dtypes: float64(2), int64(3)\n",
      "memory usage: 195.4 KB\n",
      "\n",
      "Количество дубликатов: 153 \n",
      "\n",
      "\n",
      "Доля дубликатов: 0.0306\n",
      "\n",
      "\n",
      "Количество пропусков:\n",
      "Пол                  0\n",
      "Возраст              0\n",
      "Зарплата             0\n",
      "Члены семьи          0\n",
      "Страховые выплаты    0\n",
      "dtype: int64 \n",
      "\n",
      "\n",
      "Доля пропусков:\n",
      "Пол                  0.0\n",
      "Возраст              0.0\n",
      "Зарплата             0.0\n",
      "Члены семьи          0.0\n",
      "Страховые выплаты    0.0\n",
      "dtype: float64 \n",
      "\n",
      "Первые 5 строк датасета: \n",
      "\n"
     ]
    },
    {
     "data": {
      "text/html": [
       "<div>\n",
       "<style scoped>\n",
       "    .dataframe tbody tr th:only-of-type {\n",
       "        vertical-align: middle;\n",
       "    }\n",
       "\n",
       "    .dataframe tbody tr th {\n",
       "        vertical-align: top;\n",
       "    }\n",
       "\n",
       "    .dataframe thead th {\n",
       "        text-align: right;\n",
       "    }\n",
       "</style>\n",
       "<table border=\"1\" class=\"dataframe\">\n",
       "  <thead>\n",
       "    <tr style=\"text-align: right;\">\n",
       "      <th></th>\n",
       "      <th>Пол</th>\n",
       "      <th>Возраст</th>\n",
       "      <th>Зарплата</th>\n",
       "      <th>Члены семьи</th>\n",
       "      <th>Страховые выплаты</th>\n",
       "    </tr>\n",
       "  </thead>\n",
       "  <tbody>\n",
       "    <tr>\n",
       "      <th>0</th>\n",
       "      <td>1</td>\n",
       "      <td>41.0</td>\n",
       "      <td>49600.0</td>\n",
       "      <td>1</td>\n",
       "      <td>0</td>\n",
       "    </tr>\n",
       "    <tr>\n",
       "      <th>1</th>\n",
       "      <td>0</td>\n",
       "      <td>46.0</td>\n",
       "      <td>38000.0</td>\n",
       "      <td>1</td>\n",
       "      <td>1</td>\n",
       "    </tr>\n",
       "    <tr>\n",
       "      <th>2</th>\n",
       "      <td>0</td>\n",
       "      <td>29.0</td>\n",
       "      <td>21000.0</td>\n",
       "      <td>0</td>\n",
       "      <td>0</td>\n",
       "    </tr>\n",
       "    <tr>\n",
       "      <th>3</th>\n",
       "      <td>0</td>\n",
       "      <td>21.0</td>\n",
       "      <td>41700.0</td>\n",
       "      <td>2</td>\n",
       "      <td>0</td>\n",
       "    </tr>\n",
       "    <tr>\n",
       "      <th>4</th>\n",
       "      <td>1</td>\n",
       "      <td>28.0</td>\n",
       "      <td>26100.0</td>\n",
       "      <td>0</td>\n",
       "      <td>0</td>\n",
       "    </tr>\n",
       "  </tbody>\n",
       "</table>\n",
       "</div>"
      ],
      "text/plain": [
       "   Пол  Возраст  Зарплата  Члены семьи  Страховые выплаты\n",
       "0    1     41.0   49600.0            1                  0\n",
       "1    0     46.0   38000.0            1                  1\n",
       "2    0     29.0   21000.0            0                  0\n",
       "3    0     21.0   41700.0            2                  0\n",
       "4    1     28.0   26100.0            0                  0"
      ]
     },
     "metadata": {},
     "output_type": "display_data"
    }
   ],
   "source": [
    "data = data_reading('insurance.csv')"
   ]
  },
  {
   "cell_type": "markdown",
   "metadata": {},
   "source": [
    "Почистим данные от имеющихся дубликтов"
   ]
  },
  {
   "cell_type": "code",
   "execution_count": 5,
   "metadata": {},
   "outputs": [],
   "source": [
    "data = data.drop_duplicates().reset_index(drop = True)"
   ]
  },
  {
   "cell_type": "code",
   "execution_count": 6,
   "metadata": {},
   "outputs": [],
   "source": [
    "# переименуем названия столбцов в соответствии с общепринятыми правилами\n",
    "\n",
    "data = data.rename(columns = {'Пол':'gender',\n",
    "                              'Возраст':'age', \n",
    "                              'Зарплата':'salary_payments',\n",
    "                              'Члены семьи':'family_members',\n",
    "                              'Страховые выплаты':'insurance_payments'  \n",
    "                             })"
   ]
  },
  {
   "cell_type": "markdown",
   "metadata": {},
   "source": [
    "Исходный датасет имеет размерность 5000 строк и 5 столбцов. \n",
    "\n",
    "В ходе обработки было выявлено 123 дубликата (или 3% от общего числа данных). Существенного влияния на результаты их наличие оказывать не должно, но для упрощения обучения модели они были исключены.\n",
    "\n",
    "Пропуски в данных отсутсвуют, а значит можем приступать к решению поставленных задач."
   ]
  },
  {
   "cell_type": "markdown",
   "metadata": {},
   "source": [
    "## Умножение матриц"
   ]
  },
  {
   "cell_type": "markdown",
   "metadata": {},
   "source": [
    "В этом задании вы можете записывать формулы в *Jupyter Notebook.*\n",
    "\n",
    "Чтобы записать формулу внутри текста, окружите её символами доллара \\\\$; если снаружи —  двойными символами \\\\$\\\\$. Эти формулы записываются на языке вёрстки *LaTeX.* \n",
    "\n",
    "Для примера мы записали формулы линейной регрессии. Можете их скопировать и отредактировать, чтобы решить задачу.\n",
    "\n",
    "Работать в *LaTeX* необязательно."
   ]
  },
  {
   "cell_type": "markdown",
   "metadata": {},
   "source": [
    "Обозначения:\n",
    "\n",
    "- $X$ — матрица признаков (нулевой столбец состоит из единиц)\n",
    "\n",
    "- $y$ — вектор целевого признака\n",
    "\n",
    "- $P$ — матрица, на которую умножаются признаки\n",
    "\n",
    "- $w$ — вектор весов линейной регрессии (нулевой элемент равен сдвигу)"
   ]
  },
  {
   "cell_type": "markdown",
   "metadata": {},
   "source": [
    "Предсказания:\n",
    "\n",
    "$$\n",
    "a = Xw\n",
    "$$\n",
    "\n",
    "Задача обучения:\n",
    "\n",
    "$$\n",
    "w = \\arg\\min_w MSE(Xw, y)\n",
    "$$\n",
    "\n",
    "Формула обучения:\n",
    "\n",
    "$$\n",
    "w = (X^T X)^{-1} X^T y\n",
    "$$"
   ]
  },
  {
   "cell_type": "markdown",
   "metadata": {},
   "source": [
    "**Наша задача** - проверить, изменится ли качество линейной регрессии, определяемое среднеквадратичным отклонением (ошибкой) между предсказанием и целевым признаком. \n",
    "\n",
    "**Обоснование:** \n",
    "\n",
    "Новое предсказание: \n",
    "\n",
    "$$\n",
    "a_1 = XPw_1\n",
    "$$\n",
    "\n",
    "В соответствии с теоретическим материалом (или примером выше):\n",
    "\n",
    "$$\n",
    "w_1 = ((XP)^T (XP))^{-1}(XP)^T y\n",
    "$$\n",
    "\n",
    "Для преобразования будем руководствоваться следущими свойствами матриц:\n",
    "\n",
    "$$\n",
    "AE = A\n",
    "$$\n",
    "\n",
    "$$\n",
    "AA^{-1} = A^{-1}A = E $$ (для обратимых матриц)\n",
    "\n",
    "\n",
    "где $E$ - единичная матрица;\n",
    "\n",
    "$$\n",
    "(AB)^{T} = B^T A^T\n",
    "$$\n",
    "\n",
    "$$\n",
    "(A^{-1})^{T} = (A^{T})^{-1}\n",
    "$$\n",
    "\n",
    "$$\n",
    "(AB)^{-1} = B^{-1} A^{-1}\n",
    "$$\n",
    "\n",
    "C учетом вышесказанного:\n",
    "\n",
    "$$\n",
    "w_1 = (P^TX^T X P)^{-1}P^T X^T y = P^{-1} (X^T X)^{-1} (P^T)^{-1} P^T X^T y = \n",
    "$$\n",
    "\n",
    "$$\n",
    "a_1 = XPw_1 = XPP^{-1} (X^T X)^{-1} (P^T)^{-1} P^T X^T y = X [PP^{-1}] (X^T X)^{-1} [(P P^{-1})^{T}] X^T y = (XE) (X^T X)^{-1} E^T X^T y = (X E) (X^T X)^{-1}  (XE)^T y = X (X^T X)^{-1}  X^T y = Xw = a\n",
    "$$\n",
    "\n",
    "По результатам преобразования можно заметить, что предсказания $a_1$ = $a$, соответственно качество линейной модели **не изменится**\n",
    "\n"
   ]
  },
  {
   "cell_type": "markdown",
   "metadata": {},
   "source": [
    "Проверим наши результаты на практике"
   ]
  },
  {
   "cell_type": "markdown",
   "metadata": {},
   "source": [
    "## Алгоритм преобразования"
   ]
  },
  {
   "cell_type": "markdown",
   "metadata": {},
   "source": [
    "На основании преобразований в прошлом пункте теоретически подтвердилось, что при перемножении матрицы признаков на обратимую матрицу результат предсказания не изменится. \n",
    "\n",
    "На практике это позволит \"зашифровать\" исходные данные (признаки), не искажая эффективность предсказаний модели.\n",
    "\n",
    "Для проверки реализуем следующий алгоритм: \n",
    "\n",
    "1) Создадим случайную квадратную матрицу $P$, размер которой равен количеству столбцов таблицы признаков (ширине матрицы признаков)\n",
    "\n",
    "2) Проверим ее обратимость, перемножив ее с обратной матрицей $P^{-1}$. В случае, если в результате перемножения не получилась единичная матрица, вернемся в пункт 1.\n",
    "\n",
    "3) Обучим модель линейной регрессии на новых данных и посчитаем вектов весов $w$, r2-метрику и сравним результаты с моделью линейной регрессии, обученной на исходных данных. Реузльтат r2 - метрики не должен исказиться."
   ]
  },
  {
   "cell_type": "markdown",
   "metadata": {},
   "source": [
    "## Проверка алгоритма"
   ]
  },
  {
   "cell_type": "code",
   "execution_count": 7,
   "metadata": {},
   "outputs": [],
   "source": [
    "# разделим признаки на тренировочную и тестовую \n",
    "\n",
    "data_train, data_test = train_test_split(data, test_size = 0.25, random_state = 12345)"
   ]
  },
  {
   "cell_type": "code",
   "execution_count": 8,
   "metadata": {},
   "outputs": [],
   "source": [
    "# определим признаки и целевой признак\n",
    "\n",
    "features = data_train.drop('insurance_payments', axis=1)\n",
    "target = data_train['insurance_payments']\n",
    "\n",
    "test_features = data_test.drop('insurance_payments', axis=1)\n",
    "test_target = data_test['insurance_payments']"
   ]
  },
  {
   "cell_type": "code",
   "execution_count": 9,
   "metadata": {},
   "outputs": [
    {
     "name": "stdout",
     "output_type": "stream",
     "text": [
      "Значение вектора веса линейной регрессии: [ 1.45766002e-02  3.64782926e-02  1.79477716e-07 -1.23345013e-02]\n",
      "Значение свободного коэффициента: -0.9767095974777156\n",
      "Значение r2-метрики: 0.42307727492147296\n"
     ]
    }
   ],
   "source": [
    "model = LinearRegression()\n",
    "model.fit(features,target)\n",
    "\n",
    "print('Значение вектора веса линейной регрессии: {}'.format(model.coef_))\n",
    "print('Значение свободного коэффициента: {}'.format(model.intercept_))\n",
    "print('Значение r2-метрики: {}'.format(r2_score(test_target, model.predict(test_features))))"
   ]
  },
  {
   "cell_type": "code",
   "execution_count": 10,
   "metadata": {},
   "outputs": [
    {
     "name": "stdout",
     "output_type": "stream",
     "text": [
      "Обратимая матрица P: \n",
      " [[88 34 57 27]\n",
      " [56 46 12 65]\n",
      " [58 70 46  5]\n",
      " [31 93 32 39]] \n",
      "\n",
      "Обратная матрица P^(-1): \n",
      " [[-0.01512829  0.02302298  0.03529522 -0.03242323]\n",
      " [-0.01686233  0.00632145  0.02026076 -0.00145936]\n",
      " [ 0.04288156 -0.03845012 -0.04972928  0.04077185]\n",
      " [ 0.01705034 -0.00182572 -0.03556578  0.02143953]] \n",
      "\n",
      "Результат перемножения обратимой матрицы P на обратную P^(-1): \n",
      " [[ 1. -0.  0.  0.]\n",
      " [-0.  1.  0.  0.]\n",
      " [-0.  0.  1.  0.]\n",
      " [-0. -0.  0.  1.]] \n",
      "\n"
     ]
    }
   ],
   "source": [
    "# выполним срез с признаками из общего датасета для образования новых значений признаков \n",
    "# (путем перемножения исходной матрицы признаков на обратимую случайную матрицу)\n",
    "new_features = data.drop('insurance_payments', axis=1) \n",
    "\n",
    "# создадим обратимую матрицу с порядком, равным ширине матрицы признаков\n",
    "\n",
    "p = np.random.randint(100, size=(new_features.shape[1], new_features.shape[1]))\n",
    "inv_p = np.linalg.inv(p)\n",
    "\n",
    "print('Обратимая матрица P: \\n', p, '\\n')\n",
    "print('Обратная матрица P^(-1): \\n', inv_p, '\\n')\n",
    "print('Результат перемножения обратимой матрицы P на обратную P^(-1): \\n', np.rint(np.dot(p, inv_p)), '\\n')\n",
    "\n"
   ]
  },
  {
   "cell_type": "code",
   "execution_count": 11,
   "metadata": {},
   "outputs": [],
   "source": [
    "new_features = np.dot(new_features, p)\n",
    "new_data = pd.DataFrame(new_features, columns = data.columns.drop('insurance_payments'))\n",
    "new_data['insurance_payments'] = data['insurance_payments']"
   ]
  },
  {
   "cell_type": "code",
   "execution_count": 12,
   "metadata": {},
   "outputs": [],
   "source": [
    "# определим признаки и целевой признак\n",
    "\n",
    "data_train, data_test = train_test_split(new_data, test_size = 0.25, random_state = 12345)\n",
    "\n",
    "features = data_train.drop('insurance_payments', axis=1)\n",
    "target = data_train['insurance_payments']\n",
    "\n",
    "test_features = data_test.drop('insurance_payments', axis=1)\n",
    "test_target = data_test['insurance_payments']"
   ]
  },
  {
   "cell_type": "code",
   "execution_count": 13,
   "metadata": {},
   "outputs": [
    {
     "name": "stdout",
     "output_type": "stream",
     "text": [
      "Значение вектора веса линейной регрессии: [ 1.01925067e-03  2.80433852e-06 -1.28043665e-03 -8.25154571e-05]\n",
      "Значение свободного коэффициента: -0.9767095974756546\n",
      "Значение r2-метрики: 0.4230772749214621\n"
     ]
    }
   ],
   "source": [
    "model2 = LinearRegression()\n",
    "model2.fit(features, target)\n",
    "\n",
    "print('Значение вектора веса линейной регрессии: {}'.format(model2.coef_))\n",
    "print('Значение свободного коэффициента: {}'.format(model2.intercept_))\n",
    "print('Значение r2-метрики: {}'.format(r2_score(test_target, model2.predict(test_features))))"
   ]
  },
  {
   "attachments": {},
   "cell_type": "markdown",
   "metadata": {},
   "source": [
    "Как можно заметить, выводы полученные при преобразовании в теоретической части были **подтверждены**  практически.\n",
    "\n",
    "При изменении значений в матрице признаков, изменилось значение вектора весов $w$. При этом величина r2-метрики **не изменилась**."
   ]
  }
 ],
 "metadata": {
  "ExecuteTimeLog": [
   {
    "duration": 387,
    "start_time": "2022-04-30T10:14:55.633Z"
   },
   {
    "duration": 17,
    "start_time": "2022-04-30T10:16:28.365Z"
   },
   {
    "duration": 26,
    "start_time": "2022-04-30T10:16:36.184Z"
   },
   {
    "duration": 18,
    "start_time": "2022-04-30T10:16:42.753Z"
   },
   {
    "duration": 59,
    "start_time": "2022-04-30T10:17:39.619Z"
   },
   {
    "duration": 7,
    "start_time": "2022-04-30T10:17:55.180Z"
   },
   {
    "duration": 9,
    "start_time": "2022-04-30T10:17:59.713Z"
   },
   {
    "duration": 7,
    "start_time": "2022-04-30T10:18:08.446Z"
   },
   {
    "duration": 7,
    "start_time": "2022-04-30T10:18:19.351Z"
   },
   {
    "duration": 106,
    "start_time": "2022-04-30T10:33:14.482Z"
   },
   {
    "duration": 4,
    "start_time": "2022-04-30T10:33:18.200Z"
   },
   {
    "duration": 106,
    "start_time": "2022-04-30T10:33:19.057Z"
   },
   {
    "duration": 30,
    "start_time": "2022-04-30T10:33:30.708Z"
   },
   {
    "duration": 5,
    "start_time": "2022-04-30T10:42:57.260Z"
   },
   {
    "duration": 45,
    "start_time": "2022-05-03T10:52:29.100Z"
   },
   {
    "duration": 376,
    "start_time": "2022-05-03T10:52:32.666Z"
   },
   {
    "duration": 4,
    "start_time": "2022-05-03T10:52:33.044Z"
   },
   {
    "duration": 68,
    "start_time": "2022-05-03T10:52:33.049Z"
   },
   {
    "duration": 5,
    "start_time": "2022-05-03T10:52:33.119Z"
   },
   {
    "duration": 107,
    "start_time": "2022-05-03T10:56:01.758Z"
   },
   {
    "duration": 47,
    "start_time": "2022-05-03T10:56:09.993Z"
   },
   {
    "duration": 6,
    "start_time": "2022-05-03T11:00:05.339Z"
   },
   {
    "duration": 4,
    "start_time": "2022-05-03T11:03:07.092Z"
   },
   {
    "duration": 90,
    "start_time": "2022-05-03T11:03:12.890Z"
   },
   {
    "duration": 14,
    "start_time": "2022-05-03T11:03:18.585Z"
   },
   {
    "duration": 19,
    "start_time": "2022-05-03T11:10:00.180Z"
   },
   {
    "duration": 14,
    "start_time": "2022-05-03T11:13:26.780Z"
   },
   {
    "duration": 14,
    "start_time": "2022-05-03T11:13:42.202Z"
   },
   {
    "duration": 4,
    "start_time": "2022-05-03T11:14:09.845Z"
   },
   {
    "duration": 12,
    "start_time": "2022-05-03T11:14:14.777Z"
   },
   {
    "duration": 5,
    "start_time": "2022-05-03T15:18:27.465Z"
   },
   {
    "duration": 4,
    "start_time": "2022-05-03T15:18:47.615Z"
   },
   {
    "duration": 3,
    "start_time": "2022-05-03T15:18:50.332Z"
   },
   {
    "duration": 4,
    "start_time": "2022-05-03T15:18:53.670Z"
   },
   {
    "duration": 6,
    "start_time": "2022-05-03T15:19:41.749Z"
   },
   {
    "duration": 815,
    "start_time": "2022-05-03T15:20:09.014Z"
   },
   {
    "duration": 136,
    "start_time": "2022-05-03T15:21:39.289Z"
   },
   {
    "duration": 4,
    "start_time": "2022-05-03T15:22:05.028Z"
   },
   {
    "duration": 4,
    "start_time": "2022-05-03T15:22:06.713Z"
   },
   {
    "duration": 19,
    "start_time": "2022-05-03T15:22:07.244Z"
   },
   {
    "duration": 15,
    "start_time": "2022-05-03T15:22:50.891Z"
   },
   {
    "duration": 5,
    "start_time": "2022-05-03T15:23:32.133Z"
   },
   {
    "duration": 12,
    "start_time": "2022-05-03T15:23:39.861Z"
   },
   {
    "duration": 3,
    "start_time": "2022-05-03T15:24:09.063Z"
   },
   {
    "duration": 3,
    "start_time": "2022-05-03T15:24:12.523Z"
   },
   {
    "duration": 5,
    "start_time": "2022-05-03T15:24:13.498Z"
   },
   {
    "duration": 13,
    "start_time": "2022-05-03T15:24:14.714Z"
   },
   {
    "duration": 7,
    "start_time": "2022-05-03T15:24:36.088Z"
   },
   {
    "duration": 3,
    "start_time": "2022-05-03T15:25:57.199Z"
   },
   {
    "duration": 3,
    "start_time": "2022-05-03T15:25:59.079Z"
   },
   {
    "duration": 8,
    "start_time": "2022-05-03T15:25:59.949Z"
   },
   {
    "duration": 2,
    "start_time": "2022-05-03T15:26:01.180Z"
   },
   {
    "duration": 212,
    "start_time": "2022-05-03T15:30:29.754Z"
   },
   {
    "duration": 4,
    "start_time": "2022-05-03T15:30:52.965Z"
   },
   {
    "duration": 4,
    "start_time": "2022-05-03T15:32:25.384Z"
   },
   {
    "duration": 8,
    "start_time": "2022-05-03T15:32:35.477Z"
   },
   {
    "duration": 17155,
    "start_time": "2022-05-03T15:32:48.482Z"
   },
   {
    "duration": 17570,
    "start_time": "2022-05-03T15:33:15.145Z"
   },
   {
    "duration": 12044,
    "start_time": "2022-05-03T15:33:54.181Z"
   },
   {
    "duration": 11979,
    "start_time": "2022-05-03T15:35:35.750Z"
   },
   {
    "duration": 159,
    "start_time": "2022-05-03T15:35:53.984Z"
   },
   {
    "duration": 3,
    "start_time": "2022-05-03T15:36:32.977Z"
   },
   {
    "duration": 4,
    "start_time": "2022-05-03T15:36:34.639Z"
   },
   {
    "duration": 4,
    "start_time": "2022-05-03T15:36:36.050Z"
   },
   {
    "duration": 4,
    "start_time": "2022-05-03T15:36:37.728Z"
   },
   {
    "duration": 3,
    "start_time": "2022-05-03T15:36:44.357Z"
   },
   {
    "duration": 9,
    "start_time": "2022-05-03T15:37:17.247Z"
   },
   {
    "duration": 89,
    "start_time": "2022-05-03T15:40:38.771Z"
   },
   {
    "duration": 8,
    "start_time": "2022-05-03T15:41:05.520Z"
   },
   {
    "duration": 5,
    "start_time": "2022-05-03T15:41:14.657Z"
   },
   {
    "duration": 87,
    "start_time": "2022-05-03T15:41:25.535Z"
   },
   {
    "duration": 91,
    "start_time": "2022-05-03T15:41:37.259Z"
   },
   {
    "duration": 8,
    "start_time": "2022-05-03T15:41:43.508Z"
   },
   {
    "duration": 4,
    "start_time": "2022-05-03T15:41:54.139Z"
   },
   {
    "duration": 7,
    "start_time": "2022-05-03T15:42:24.576Z"
   },
   {
    "duration": 8,
    "start_time": "2022-05-03T15:42:28.763Z"
   },
   {
    "duration": 8,
    "start_time": "2022-05-03T15:42:33.355Z"
   },
   {
    "duration": 8,
    "start_time": "2022-05-03T15:42:49.452Z"
   },
   {
    "duration": 4,
    "start_time": "2022-05-03T15:42:55.206Z"
   },
   {
    "duration": 7,
    "start_time": "2022-05-03T15:44:17.169Z"
   },
   {
    "duration": 10,
    "start_time": "2022-05-03T15:44:21.651Z"
   },
   {
    "duration": 95,
    "start_time": "2022-05-03T15:44:27.789Z"
   },
   {
    "duration": 5,
    "start_time": "2022-05-03T15:44:33.719Z"
   },
   {
    "duration": 9,
    "start_time": "2022-05-03T15:46:02.977Z"
   },
   {
    "duration": 4,
    "start_time": "2022-05-03T15:46:24.601Z"
   },
   {
    "duration": 12,
    "start_time": "2022-05-03T15:46:59.588Z"
   },
   {
    "duration": 3,
    "start_time": "2022-05-03T15:47:08.996Z"
   },
   {
    "duration": 5,
    "start_time": "2022-05-03T15:47:09.001Z"
   },
   {
    "duration": 59,
    "start_time": "2022-05-03T15:47:09.008Z"
   },
   {
    "duration": 4,
    "start_time": "2022-05-03T15:47:09.068Z"
   },
   {
    "duration": 5,
    "start_time": "2022-05-03T15:47:09.074Z"
   },
   {
    "duration": 5,
    "start_time": "2022-05-03T15:47:09.080Z"
   },
   {
    "duration": 8,
    "start_time": "2022-05-03T15:47:09.086Z"
   },
   {
    "duration": 8,
    "start_time": "2022-05-03T15:47:09.096Z"
   },
   {
    "duration": 139,
    "start_time": "2022-05-03T15:47:09.105Z"
   },
   {
    "duration": 6,
    "start_time": "2022-05-03T15:47:09.246Z"
   },
   {
    "duration": 5,
    "start_time": "2022-05-03T15:47:09.254Z"
   },
   {
    "duration": 84,
    "start_time": "2022-05-03T15:47:09.261Z"
   },
   {
    "duration": 78,
    "start_time": "2022-05-03T15:47:09.346Z"
   },
   {
    "duration": 9,
    "start_time": "2022-05-03T15:47:09.426Z"
   },
   {
    "duration": 24,
    "start_time": "2022-05-03T17:15:49.773Z"
   },
   {
    "duration": 3,
    "start_time": "2022-05-03T18:43:35.134Z"
   },
   {
    "duration": 5,
    "start_time": "2022-05-03T18:43:40.501Z"
   },
   {
    "duration": 3,
    "start_time": "2022-05-03T18:47:04.921Z"
   },
   {
    "duration": 3,
    "start_time": "2022-05-03T18:47:21.595Z"
   },
   {
    "duration": 12,
    "start_time": "2022-05-03T19:13:18.327Z"
   },
   {
    "duration": 107,
    "start_time": "2022-05-03T19:14:33.445Z"
   },
   {
    "duration": 3,
    "start_time": "2022-05-03T19:15:45.531Z"
   },
   {
    "duration": 96,
    "start_time": "2022-05-03T19:16:24.837Z"
   },
   {
    "duration": 101,
    "start_time": "2022-05-03T19:16:38.202Z"
   },
   {
    "duration": 3,
    "start_time": "2022-05-03T19:16:42.550Z"
   },
   {
    "duration": 5,
    "start_time": "2022-05-03T19:18:49.062Z"
   },
   {
    "duration": 13,
    "start_time": "2022-05-03T19:19:18.637Z"
   },
   {
    "duration": 3,
    "start_time": "2022-05-03T19:23:29.911Z"
   },
   {
    "duration": 13,
    "start_time": "2022-05-03T19:24:56.231Z"
   },
   {
    "duration": 93,
    "start_time": "2022-05-03T19:25:42.066Z"
   },
   {
    "duration": 25,
    "start_time": "2022-05-03T19:25:47.548Z"
   },
   {
    "duration": 8,
    "start_time": "2022-05-03T19:27:16.477Z"
   },
   {
    "duration": 4,
    "start_time": "2022-05-03T19:27:29.247Z"
   },
   {
    "duration": 28,
    "start_time": "2022-05-03T19:29:44.896Z"
   },
   {
    "duration": 4,
    "start_time": "2022-05-03T19:29:49.532Z"
   },
   {
    "duration": 9,
    "start_time": "2022-05-03T19:29:59.644Z"
   },
   {
    "duration": 8,
    "start_time": "2022-05-03T19:30:13.562Z"
   },
   {
    "duration": 27,
    "start_time": "2022-05-03T19:30:20.282Z"
   },
   {
    "duration": 8,
    "start_time": "2022-05-03T19:30:23.763Z"
   },
   {
    "duration": 27,
    "start_time": "2022-05-03T19:38:35.916Z"
   },
   {
    "duration": 8,
    "start_time": "2022-05-03T19:39:06.176Z"
   },
   {
    "duration": 7,
    "start_time": "2022-05-03T19:39:44.216Z"
   },
   {
    "duration": 8,
    "start_time": "2022-05-03T19:40:43.741Z"
   },
   {
    "duration": 4,
    "start_time": "2022-05-03T19:41:30.022Z"
   },
   {
    "duration": 3,
    "start_time": "2022-05-03T19:44:21.550Z"
   },
   {
    "duration": 27,
    "start_time": "2022-05-03T19:44:40.703Z"
   },
   {
    "duration": 8,
    "start_time": "2022-05-03T19:44:58.940Z"
   },
   {
    "duration": 7,
    "start_time": "2022-05-03T19:45:15.527Z"
   },
   {
    "duration": 4,
    "start_time": "2022-05-03T19:46:17.629Z"
   },
   {
    "duration": 4,
    "start_time": "2022-05-03T19:46:25.781Z"
   },
   {
    "duration": 3,
    "start_time": "2022-05-03T19:46:37.445Z"
   },
   {
    "duration": 5,
    "start_time": "2022-05-03T19:47:05.282Z"
   },
   {
    "duration": 8,
    "start_time": "2022-05-03T19:47:18.306Z"
   },
   {
    "duration": 9,
    "start_time": "2022-05-03T19:47:51.600Z"
   },
   {
    "duration": 8,
    "start_time": "2022-05-03T19:48:01.905Z"
   },
   {
    "duration": 27,
    "start_time": "2022-05-03T19:49:28.975Z"
   },
   {
    "duration": 6,
    "start_time": "2022-05-03T19:49:30.773Z"
   },
   {
    "duration": 10,
    "start_time": "2022-05-03T19:49:55.727Z"
   },
   {
    "duration": 8,
    "start_time": "2022-05-03T19:57:10.737Z"
   },
   {
    "duration": 2,
    "start_time": "2022-05-03T19:57:25.822Z"
   },
   {
    "duration": 5,
    "start_time": "2022-05-03T19:57:31.490Z"
   },
   {
    "duration": 4,
    "start_time": "2022-05-03T19:57:49.132Z"
   },
   {
    "duration": 7,
    "start_time": "2022-05-03T19:57:58.760Z"
   },
   {
    "duration": 8,
    "start_time": "2022-05-03T19:58:11.090Z"
   },
   {
    "duration": 8,
    "start_time": "2022-05-03T19:58:24.714Z"
   },
   {
    "duration": 8,
    "start_time": "2022-05-03T19:59:45.688Z"
   },
   {
    "duration": 219,
    "start_time": "2022-05-03T20:00:02.378Z"
   },
   {
    "duration": 94,
    "start_time": "2022-05-03T20:00:16.068Z"
   },
   {
    "duration": 94,
    "start_time": "2022-05-03T20:01:01.039Z"
   },
   {
    "duration": 87,
    "start_time": "2022-05-03T20:01:08.041Z"
   },
   {
    "duration": 6,
    "start_time": "2022-05-03T20:01:22.386Z"
   },
   {
    "duration": 7,
    "start_time": "2022-05-03T20:02:00.965Z"
   },
   {
    "duration": 109,
    "start_time": "2022-05-03T20:03:13.356Z"
   },
   {
    "duration": 12,
    "start_time": "2022-05-03T20:03:29.120Z"
   },
   {
    "duration": 5,
    "start_time": "2022-05-03T20:03:39.879Z"
   },
   {
    "duration": 9,
    "start_time": "2022-05-03T20:03:40.703Z"
   },
   {
    "duration": 25,
    "start_time": "2022-05-03T20:05:47.867Z"
   },
   {
    "duration": 27,
    "start_time": "2022-05-03T20:06:02.147Z"
   },
   {
    "duration": 26,
    "start_time": "2022-05-03T20:06:13.552Z"
   },
   {
    "duration": 30,
    "start_time": "2022-05-03T20:06:40.993Z"
   },
   {
    "duration": 31,
    "start_time": "2022-05-03T20:07:33.919Z"
   },
   {
    "duration": 48,
    "start_time": "2022-05-03T20:10:41.613Z"
   },
   {
    "duration": 16,
    "start_time": "2022-05-03T20:10:51.080Z"
   },
   {
    "duration": 25,
    "start_time": "2022-05-03T20:11:01.894Z"
   },
   {
    "duration": 30,
    "start_time": "2022-05-03T20:11:22.730Z"
   },
   {
    "duration": 30,
    "start_time": "2022-05-03T20:11:30.368Z"
   },
   {
    "duration": 25,
    "start_time": "2022-05-03T20:18:35.569Z"
   },
   {
    "duration": 31,
    "start_time": "2022-05-03T20:18:41.001Z"
   },
   {
    "duration": 25,
    "start_time": "2022-05-03T20:18:50.174Z"
   },
   {
    "duration": 14,
    "start_time": "2022-05-03T20:26:47.903Z"
   },
   {
    "duration": 6,
    "start_time": "2022-05-03T20:26:55.249Z"
   },
   {
    "duration": 12,
    "start_time": "2022-05-03T20:27:02.337Z"
   },
   {
    "duration": 11,
    "start_time": "2022-05-03T20:27:14.297Z"
   },
   {
    "duration": 1570,
    "start_time": "2022-05-03T20:27:22.171Z"
   },
   {
    "duration": 1494,
    "start_time": "2022-05-03T20:27:28.830Z"
   },
   {
    "duration": 16,
    "start_time": "2022-05-03T20:27:42.961Z"
   },
   {
    "duration": 14,
    "start_time": "2022-05-03T20:27:47.304Z"
   },
   {
    "duration": 16,
    "start_time": "2022-05-03T20:27:52.350Z"
   },
   {
    "duration": 3,
    "start_time": "2022-05-03T20:29:48.348Z"
   },
   {
    "duration": 3,
    "start_time": "2022-05-03T20:30:14.727Z"
   },
   {
    "duration": 4,
    "start_time": "2022-05-03T20:30:18.445Z"
   },
   {
    "duration": 4,
    "start_time": "2022-05-03T20:30:19.358Z"
   },
   {
    "duration": 5,
    "start_time": "2022-05-03T20:30:22.311Z"
   },
   {
    "duration": 4,
    "start_time": "2022-05-03T20:31:32.413Z"
   },
   {
    "duration": 3,
    "start_time": "2022-05-03T20:31:33.501Z"
   },
   {
    "duration": 5,
    "start_time": "2022-05-03T20:31:34.244Z"
   },
   {
    "duration": 5,
    "start_time": "2022-05-03T20:31:36.619Z"
   },
   {
    "duration": 3,
    "start_time": "2022-05-03T20:31:37.681Z"
   },
   {
    "duration": 3,
    "start_time": "2022-05-03T20:32:54.560Z"
   },
   {
    "duration": 9,
    "start_time": "2022-05-03T20:34:29.188Z"
   },
   {
    "duration": 5,
    "start_time": "2022-05-03T20:35:01.990Z"
   },
   {
    "duration": 15,
    "start_time": "2022-05-03T20:35:43.749Z"
   },
   {
    "duration": 4,
    "start_time": "2022-05-03T20:35:58.896Z"
   },
   {
    "duration": 11,
    "start_time": "2022-05-03T20:36:07.771Z"
   },
   {
    "duration": 4,
    "start_time": "2022-05-03T20:36:59.317Z"
   },
   {
    "duration": 3,
    "start_time": "2022-05-03T20:37:02.033Z"
   },
   {
    "duration": 10,
    "start_time": "2022-05-03T20:37:02.038Z"
   },
   {
    "duration": 46,
    "start_time": "2022-05-03T20:37:02.050Z"
   },
   {
    "duration": 5,
    "start_time": "2022-05-03T20:37:02.098Z"
   },
   {
    "duration": 8,
    "start_time": "2022-05-03T20:37:02.105Z"
   },
   {
    "duration": 17,
    "start_time": "2022-05-03T20:37:02.114Z"
   },
   {
    "duration": 16,
    "start_time": "2022-05-03T20:37:02.132Z"
   },
   {
    "duration": 19,
    "start_time": "2022-05-03T20:37:02.150Z"
   },
   {
    "duration": 14,
    "start_time": "2022-05-03T20:37:02.171Z"
   },
   {
    "duration": 11,
    "start_time": "2022-05-03T20:37:02.186Z"
   },
   {
    "duration": 7,
    "start_time": "2022-05-03T20:37:02.198Z"
   },
   {
    "duration": 19,
    "start_time": "2022-05-03T20:37:02.207Z"
   },
   {
    "duration": 10,
    "start_time": "2022-05-03T20:37:02.228Z"
   },
   {
    "duration": 86,
    "start_time": "2022-05-03T20:37:02.240Z"
   },
   {
    "duration": 19,
    "start_time": "2022-05-03T20:37:02.328Z"
   },
   {
    "duration": 5,
    "start_time": "2022-05-03T20:37:23.031Z"
   },
   {
    "duration": 3,
    "start_time": "2022-05-03T20:37:39.819Z"
   },
   {
    "duration": 11,
    "start_time": "2022-05-03T20:37:50.181Z"
   },
   {
    "duration": 12,
    "start_time": "2022-05-03T20:41:15.023Z"
   },
   {
    "duration": 6,
    "start_time": "2022-05-03T20:41:21.714Z"
   },
   {
    "duration": 12,
    "start_time": "2022-05-03T20:41:22.335Z"
   },
   {
    "duration": 5,
    "start_time": "2022-05-03T20:43:05.155Z"
   },
   {
    "duration": 6,
    "start_time": "2022-05-03T20:44:27.536Z"
   },
   {
    "duration": 8,
    "start_time": "2022-05-03T20:46:03.978Z"
   },
   {
    "duration": 87,
    "start_time": "2022-05-03T20:53:26.038Z"
   },
   {
    "duration": 8,
    "start_time": "2022-05-03T20:53:31.742Z"
   },
   {
    "duration": 9,
    "start_time": "2022-05-03T20:53:51.172Z"
   },
   {
    "duration": 9,
    "start_time": "2022-05-03T20:56:10.420Z"
   },
   {
    "duration": 8,
    "start_time": "2022-05-03T20:56:16.872Z"
   },
   {
    "duration": 88,
    "start_time": "2022-05-03T20:58:18.246Z"
   },
   {
    "duration": 94,
    "start_time": "2022-05-03T20:58:27.740Z"
   },
   {
    "duration": 11,
    "start_time": "2022-05-03T20:58:32.855Z"
   },
   {
    "duration": 11,
    "start_time": "2022-05-03T20:58:45.521Z"
   },
   {
    "duration": 12,
    "start_time": "2022-05-03T20:59:17.042Z"
   },
   {
    "duration": 12,
    "start_time": "2022-05-03T20:59:22.526Z"
   },
   {
    "duration": 12,
    "start_time": "2022-05-03T20:59:26.976Z"
   },
   {
    "duration": 8,
    "start_time": "2022-05-03T20:59:33.686Z"
   },
   {
    "duration": 8,
    "start_time": "2022-05-03T20:59:56.012Z"
   },
   {
    "duration": 9,
    "start_time": "2022-05-03T21:00:05.763Z"
   },
   {
    "duration": 11,
    "start_time": "2022-05-03T21:01:12.261Z"
   },
   {
    "duration": 12,
    "start_time": "2022-05-03T21:01:31.003Z"
   },
   {
    "duration": 11,
    "start_time": "2022-05-03T21:02:23.430Z"
   },
   {
    "duration": 12,
    "start_time": "2022-05-03T21:03:06.728Z"
   },
   {
    "duration": 125,
    "start_time": "2022-05-03T21:03:25.319Z"
   },
   {
    "duration": 12,
    "start_time": "2022-05-03T21:03:30.634Z"
   },
   {
    "duration": 11,
    "start_time": "2022-05-03T21:03:47.586Z"
   },
   {
    "duration": 12,
    "start_time": "2022-05-03T21:03:58.821Z"
   },
   {
    "duration": 1016,
    "start_time": "2022-05-03T21:04:18.249Z"
   },
   {
    "duration": 7,
    "start_time": "2022-05-03T21:04:19.267Z"
   },
   {
    "duration": 36,
    "start_time": "2022-05-03T21:04:19.275Z"
   },
   {
    "duration": 5,
    "start_time": "2022-05-03T21:04:19.314Z"
   },
   {
    "duration": 4,
    "start_time": "2022-05-03T21:04:19.324Z"
   },
   {
    "duration": 5,
    "start_time": "2022-05-03T21:04:19.330Z"
   },
   {
    "duration": 6,
    "start_time": "2022-05-03T21:04:19.337Z"
   },
   {
    "duration": 10,
    "start_time": "2022-05-03T21:04:19.344Z"
   },
   {
    "duration": 4,
    "start_time": "2022-05-03T21:04:19.356Z"
   },
   {
    "duration": 7,
    "start_time": "2022-05-03T21:04:19.363Z"
   },
   {
    "duration": 5,
    "start_time": "2022-05-03T21:04:19.372Z"
   },
   {
    "duration": 5,
    "start_time": "2022-05-03T21:04:19.424Z"
   },
   {
    "duration": 6,
    "start_time": "2022-05-03T21:04:19.431Z"
   },
   {
    "duration": 85,
    "start_time": "2022-05-03T21:04:19.439Z"
   },
   {
    "duration": 102,
    "start_time": "2022-05-03T21:04:19.526Z"
   },
   {
    "duration": 9,
    "start_time": "2022-05-03T21:04:56.383Z"
   },
   {
    "duration": 9,
    "start_time": "2022-05-03T21:05:41.032Z"
   },
   {
    "duration": 10,
    "start_time": "2022-05-03T21:06:27.360Z"
   },
   {
    "duration": 3,
    "start_time": "2022-05-03T21:08:33.028Z"
   },
   {
    "duration": 4,
    "start_time": "2022-05-03T21:08:45.935Z"
   },
   {
    "duration": 4,
    "start_time": "2022-05-03T21:08:53.164Z"
   },
   {
    "duration": 4,
    "start_time": "2022-05-03T21:09:46.969Z"
   },
   {
    "duration": 4,
    "start_time": "2022-05-03T21:10:16.733Z"
   },
   {
    "duration": 4,
    "start_time": "2022-05-03T21:10:44.643Z"
   },
   {
    "duration": 5,
    "start_time": "2022-05-03T21:12:35.152Z"
   },
   {
    "duration": 6,
    "start_time": "2022-05-03T21:13:03.310Z"
   },
   {
    "duration": 4,
    "start_time": "2022-05-03T21:44:01.799Z"
   },
   {
    "duration": 5,
    "start_time": "2022-05-03T21:44:02.791Z"
   },
   {
    "duration": 9,
    "start_time": "2022-05-03T21:44:03.534Z"
   },
   {
    "duration": 8,
    "start_time": "2022-05-03T21:44:10.873Z"
   },
   {
    "duration": 5,
    "start_time": "2022-05-03T21:44:12.488Z"
   },
   {
    "duration": 8,
    "start_time": "2022-05-03T21:44:13.831Z"
   },
   {
    "duration": 9,
    "start_time": "2022-05-03T21:44:16.102Z"
   },
   {
    "duration": 4,
    "start_time": "2022-05-03T21:55:09.507Z"
   },
   {
    "duration": 5,
    "start_time": "2022-05-03T21:55:09.513Z"
   },
   {
    "duration": 32,
    "start_time": "2022-05-03T21:55:09.520Z"
   },
   {
    "duration": 5,
    "start_time": "2022-05-03T21:55:09.554Z"
   },
   {
    "duration": 4,
    "start_time": "2022-05-03T21:55:09.560Z"
   },
   {
    "duration": 8,
    "start_time": "2022-05-03T21:55:09.566Z"
   },
   {
    "duration": 9,
    "start_time": "2022-05-03T21:55:09.576Z"
   },
   {
    "duration": 19,
    "start_time": "2022-05-03T21:55:09.586Z"
   },
   {
    "duration": 19,
    "start_time": "2022-05-03T21:55:09.608Z"
   },
   {
    "duration": 14,
    "start_time": "2022-05-03T21:55:09.629Z"
   },
   {
    "duration": 84,
    "start_time": "2022-05-03T21:55:09.645Z"
   },
   {
    "duration": 92,
    "start_time": "2022-05-03T21:55:09.731Z"
   },
   {
    "duration": 1535,
    "start_time": "2022-05-04T20:45:22.815Z"
   },
   {
    "duration": 7,
    "start_time": "2022-05-04T20:45:26.852Z"
   },
   {
    "duration": 6,
    "start_time": "2022-05-04T20:45:44.676Z"
   },
   {
    "duration": 54,
    "start_time": "2022-05-04T20:46:16.140Z"
   },
   {
    "duration": 6,
    "start_time": "2022-05-04T20:47:19.225Z"
   },
   {
    "duration": 43,
    "start_time": "2022-05-04T20:47:23.056Z"
   },
   {
    "duration": 5,
    "start_time": "2022-05-04T21:02:30.688Z"
   },
   {
    "duration": 11,
    "start_time": "2022-05-04T21:02:30.696Z"
   },
   {
    "duration": 53,
    "start_time": "2022-05-04T21:02:30.710Z"
   },
   {
    "duration": 9,
    "start_time": "2022-05-04T21:02:30.767Z"
   },
   {
    "duration": 28,
    "start_time": "2022-05-04T21:02:30.779Z"
   },
   {
    "duration": 48,
    "start_time": "2022-05-04T21:02:30.809Z"
   },
   {
    "duration": 16,
    "start_time": "2022-05-04T21:02:30.860Z"
   },
   {
    "duration": 26,
    "start_time": "2022-05-04T21:02:30.879Z"
   },
   {
    "duration": 23,
    "start_time": "2022-05-04T21:02:30.909Z"
   },
   {
    "duration": 93,
    "start_time": "2022-05-04T21:02:30.935Z"
   },
   {
    "duration": 99,
    "start_time": "2022-05-04T21:02:31.031Z"
   },
   {
    "duration": 17,
    "start_time": "2022-05-04T21:02:31.132Z"
   },
   {
    "duration": 18,
    "start_time": "2022-05-04T21:45:18.709Z"
   },
   {
    "duration": 4,
    "start_time": "2022-05-04T22:10:20.989Z"
   },
   {
    "duration": 24,
    "start_time": "2022-05-04T22:10:20.996Z"
   },
   {
    "duration": 55,
    "start_time": "2022-05-04T22:10:21.022Z"
   },
   {
    "duration": 7,
    "start_time": "2022-05-04T22:10:21.079Z"
   },
   {
    "duration": 15,
    "start_time": "2022-05-04T22:10:21.088Z"
   },
   {
    "duration": 16,
    "start_time": "2022-05-04T22:10:21.105Z"
   },
   {
    "duration": 8,
    "start_time": "2022-05-04T22:10:21.123Z"
   },
   {
    "duration": 18,
    "start_time": "2022-05-04T22:10:21.133Z"
   },
   {
    "duration": 15,
    "start_time": "2022-05-04T22:10:21.155Z"
   },
   {
    "duration": 9,
    "start_time": "2022-05-04T22:10:21.224Z"
   },
   {
    "duration": 88,
    "start_time": "2022-05-04T22:10:21.236Z"
   },
   {
    "duration": 13,
    "start_time": "2022-05-04T22:10:21.327Z"
   }
  ],
  "kernelspec": {
   "display_name": "Python 3",
   "language": "python",
   "name": "python3"
  },
  "language_info": {
   "codemirror_mode": {
    "name": "ipython",
    "version": 3
   },
   "file_extension": ".py",
   "mimetype": "text/x-python",
   "name": "python",
   "nbconvert_exporter": "python",
   "pygments_lexer": "ipython3",
   "version": "3.8.8"
  },
  "toc": {
   "base_numbering": 1,
   "nav_menu": {},
   "number_sections": true,
   "sideBar": true,
   "skip_h1_title": true,
   "title_cell": "Содержание",
   "title_sidebar": "Contents",
   "toc_cell": true,
   "toc_position": {},
   "toc_section_display": true,
   "toc_window_display": true
  },
  "vscode": {
   "interpreter": {
    "hash": "aee8b7b246df8f9039afb4144a1f6fd8d2ca17a180786b69acc140d282b71a49"
   }
  }
 },
 "nbformat": 4,
 "nbformat_minor": 2
}
