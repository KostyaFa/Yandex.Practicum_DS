{
 "cells": [
  {
   "cell_type": "markdown",
   "metadata": {
    "toc": true
   },
   "source": [
    "<h1>Содержание<span class=\"tocSkip\"></span></h1>\n",
    "<div class=\"toc\"><ul class=\"toc-item\"><li><span><a href=\"#Подготовка-данных\" data-toc-modified-id=\"Подготовка-данных-1\"><span class=\"toc-item-num\">1&nbsp;&nbsp;</span>Подготовка данных</a></span><ul class=\"toc-item\"><li><span><a href=\"#Откройте-файлы-и-изучите-их.\" data-toc-modified-id=\"Откройте-файлы-и-изучите-их.-1.1\"><span class=\"toc-item-num\">1.1&nbsp;&nbsp;</span>Откройте файлы и изучите их.</a></span></li><li><span><a href=\"#Проверьте,-что-эффективность-обогащения-рассчитана-правильно.\" data-toc-modified-id=\"Проверьте,-что-эффективность-обогащения-рассчитана-правильно.-1.2\"><span class=\"toc-item-num\">1.2&nbsp;&nbsp;</span>Проверьте, что эффективность обогащения рассчитана правильно.</a></span></li><li><span><a href=\"#Проанализируйте-признаки,-недоступные-в-тестовой-выборке.-Что-это-за-параметры?-К-какому-типу-относятся?\" data-toc-modified-id=\"Проанализируйте-признаки,-недоступные-в-тестовой-выборке.-Что-это-за-параметры?-К-какому-типу-относятся?-1.3\"><span class=\"toc-item-num\">1.3&nbsp;&nbsp;</span>Проанализируйте признаки, недоступные в тестовой выборке. Что это за параметры? К какому типу относятся?</a></span></li><li><span><a href=\"#Проведите-предобработку-данных.\" data-toc-modified-id=\"Проведите-предобработку-данных.-1.4\"><span class=\"toc-item-num\">1.4&nbsp;&nbsp;</span>Проведите предобработку данных.</a></span></li></ul></li><li><span><a href=\"#Анализ-данных\" data-toc-modified-id=\"Анализ-данных-2\"><span class=\"toc-item-num\">2&nbsp;&nbsp;</span>Анализ данных</a></span><ul class=\"toc-item\"><li><span><a href=\"#Посмотрите,-как-меняется-концентрация-металлов-(Au,-Ag,-Pb)-на-различных-этапах-очистки\" data-toc-modified-id=\"Посмотрите,-как-меняется-концентрация-металлов-(Au,-Ag,-Pb)-на-различных-этапах-очистки-2.1\"><span class=\"toc-item-num\">2.1&nbsp;&nbsp;</span>Посмотрите, как меняется концентрация металлов (Au, Ag, Pb) на различных этапах очистки</a></span></li><li><span><a href=\"#Сравните-распределения-размеров-гранул-сырья-на-обучающей-и-тестовой-выборках.\" data-toc-modified-id=\"Сравните-распределения-размеров-гранул-сырья-на-обучающей-и-тестовой-выборках.-2.2\"><span class=\"toc-item-num\">2.2&nbsp;&nbsp;</span>Сравните распределения размеров гранул сырья на обучающей и тестовой выборках.</a></span></li><li><span><a href=\"#Исследуйте-суммарную-концентрацию-всех-веществ-на-разных-стадиях:-в-сырье,-в-черновом-и-финальном-концентратах.\" data-toc-modified-id=\"Исследуйте-суммарную-концентрацию-всех-веществ-на-разных-стадиях:-в-сырье,-в-черновом-и-финальном-концентратах.-2.3\"><span class=\"toc-item-num\">2.3&nbsp;&nbsp;</span>Исследуйте суммарную концентрацию всех веществ на разных стадиях: в сырье, в черновом и финальном концентратах.</a></span></li></ul></li><li><span><a href=\"#Модель\" data-toc-modified-id=\"Модель-3\"><span class=\"toc-item-num\">3&nbsp;&nbsp;</span>Модель</a></span><ul class=\"toc-item\"><li><span><a href=\"#Напишите-функцию-для-вычисления-итоговой-sMAPE\" data-toc-modified-id=\"Напишите-функцию-для-вычисления-итоговой-sMAPE-3.1\"><span class=\"toc-item-num\">3.1&nbsp;&nbsp;</span>Напишите функцию для вычисления итоговой sMAPE</a></span></li><li><span><a href=\"#Обучите-разные-модели-и-оцените-их-качество-кросс-валидацией.-Выберите-лучшую-модель-и-проверьте-её-на-тестовой-выборке.\" data-toc-modified-id=\"Обучите-разные-модели-и-оцените-их-качество-кросс-валидацией.-Выберите-лучшую-модель-и-проверьте-её-на-тестовой-выборке.-3.2\"><span class=\"toc-item-num\">3.2&nbsp;&nbsp;</span>Обучите разные модели и оцените их качество кросс-валидацией. Выберите лучшую модель и проверьте её на тестовой выборке.</a></span></li></ul></li><li><span><a href=\"#Выводы\" data-toc-modified-id=\"Выводы-4\"><span class=\"toc-item-num\">4&nbsp;&nbsp;</span>Выводы</a></span></li></ul></div>"
   ]
  },
  {
   "cell_type": "markdown",
   "metadata": {},
   "source": [
    "# Восстановление золота из руды\n",
    "\n",
    "Подготовьте прототип модели машинного обучения для «Цифры». Компания разрабатывает решения для эффективной работы промышленных предприятий.\n",
    "\n",
    "Модель должна предсказать коэффициент восстановления золота из золотосодержащей руды. Используйте данные с параметрами добычи и очистки. \n",
    "\n",
    "Модель поможет оптимизировать производство, чтобы не запускать предприятие с убыточными характеристиками.\n",
    "\n",
    "Вам нужно:\n",
    "\n",
    "1. Подготовить данные;\n",
    "2. Провести исследовательский анализ данных;\n",
    "3. Построить и обучить модель.\n",
    "\n",
    "Чтобы выполнить проект, обращайтесь к библиотекам *pandas*, *matplotlib* и *sklearn.* Вам поможет их документация."
   ]
  },
  {
   "cell_type": "markdown",
   "metadata": {},
   "source": [
    "# Технологический процесс\n",
    "\n",
    "Когда добытая руда проходит первичную обработку, получается дроблёная смесь. Её отправляют на флотацию (обогащение) и двухэтапную очистку.\n",
    "\n",
    "![](https://pictures.s3.yandex.net/resources/viruchka_1576238830.jpg)\n",
    "\n",
    "<b>1. Флотация</b>\n",
    "\n",
    "Во флотационную установку подаётся смесь золотосодержащей руды. После обогащения получается черновой концентрат и «отвальные хвосты», то есть остатки продукта с низкой концентрацией ценных металлов.\n",
    "На стабильность этого процесса влияет непостоянное и неоптимальное физико-химическое состояние флотационной пульпы (смеси твёрдых частиц и жидкости).\n",
    "\n",
    "<b>2. Очистка</b>\n",
    "\n",
    "Черновой концентрат проходит две очистки. На выходе получается финальный концентрат и новые отвальные хвосты."
   ]
  },
  {
   "cell_type": "markdown",
   "metadata": {},
   "source": [
    "# Описание данных\n",
    "\n",
    "<b>Технологический процесс</b>\n",
    "\n",
    "- ***Rougher feed*** — исходное сырье\n",
    "- ***Rougher additions*** (или ***reagent additions***) — флотационные реагенты: Xanthate, Sulphate, Depressant\n",
    "- ***Xanthate***— ксантогенат (промотер, или активатор флотации);\n",
    "- ***Sulphate*** — сульфат (на данном производстве сульфид натрия);\n",
    "- ***Depressant*** — депрессант (силикат натрия).\n",
    "- ***Rougher*** process (англ. «грубый процесс») — флотация\n",
    "- ***Rougher tails*** — отвальные хвосты\n",
    "- ***Float banks*** — флотационная установка\n",
    "- ***Cleaner process*** — очистка\n",
    "- ***Rougher Au*** — черновой концентрат золота\n",
    "- ***Final Au*** — финальный концентрат золота\n",
    "\n",
    "<b>Параметры этапов</b>\n",
    "\n",
    "- ***air amount*** — объём воздуха\n",
    "- ***fluid levels*** — уровень жидкости\n",
    "- ***feed size*** — размер гранул сырья\n",
    "- ***feed rate*** — скорость подачи\n",
    "\n",
    "<b>Наименование признаков</b>\n",
    "\n",
    "Наименование признаков должно быть такое:\n",
    "[этап].[тип_параметра].[название_параметра]\n",
    "\n",
    "**Пример**: rougher.input.feed_ag\n",
    "\n",
    "Возможные значения для блока [этап]:\n",
    "\n",
    "- ***rougher*** — флотация\n",
    "- ***primary_cleaner*** — первичная очистка\n",
    "- ***secondary_cleaner*** — вторичная очистка\n",
    "- ***final*** — финальные характеристики\n",
    "\n",
    "Возможные значения для блока [тип_параметра]:\n",
    "\n",
    "- ***input*** — параметры сырья\n",
    "- ***output*** — параметры продукта\n",
    "- ***state*** — параметры, характеризующие текущее состояние этапа\n",
    "- ***calculation*** — расчётные характеристики"
   ]
  },
  {
   "cell_type": "markdown",
   "metadata": {},
   "source": [
    "# Расчёт эффективности\n",
    "\n",
    "Вам нужно смоделировать процесс восстановления золота из золотосодержащей руды.\n",
    "Эффективность обогащения рассчитывается по формуле\n",
    "\n",
    "![](https://pictures.s3.yandex.net/resources/Recovery_1576238822.jpg)\n",
    "\n",
    "- **C** — доля золота в концентрате после флотации/очистки;\n",
    "- **F** — доля золота в сырье/концентрате до флотации/очистки;\n",
    "- **T** — доля золота в отвальных хвостах после флотации/очистки.\n",
    "\n",
    "Для прогноза коэффициента нужно найти долю золота в концентратах и хвостах. Причём важен не только финальный продукт, но и черновой концентрат."
   ]
  },
  {
   "cell_type": "markdown",
   "metadata": {},
   "source": [
    "# Метрика качества\n",
    "\n",
    "Для решения задачи введём новую метрику качества — **sMAPE** (англ. Symmetric Mean Absolute Percentage Error, «симметричное среднее абсолютное процентное отклонение»).\n",
    "Она похожа на MAE, но выражается не в абсолютных величинах, а в относительных. Почему симметричная? Она одинаково учитывает масштаб и целевого признака, и предсказания.\n",
    "Метрика sMAPE вычисляется так:\n",
    "\n",
    "![](https://pictures.s3.yandex.net/resources/smape_1576238825.jpg)\n",
    "\n",
    "![](https://pictures.s3.yandex.net/resources/y1_1576238832.jpg)\n",
    "\n",
    "- Значение целевого признака для объекта с порядковым номером i в выборке, на которой измеряется качество.\n",
    "\n",
    "![](https://pictures.s3.yandex.net/resources/yi_1_1576238835.jpg)\n",
    "\n",
    "- Значение предсказания для объекта с порядковым номером i, например, в тестовой выборке.\n",
    "\n",
    "![](https://pictures.s3.yandex.net/resources/N_1_1576238819.jpg)\n",
    "\n",
    "- Количество объектов в выборке.\n",
    "\n",
    "![](https://pictures.s3.yandex.net/resources/I_1576238817.jpg)\n",
    "\n",
    "- Суммирование по всем объектам выборки (i меняется от 1 до N).\n",
    "\n",
    "Нужно спрогнозировать сразу две величины:\n",
    "\n",
    "    1. эффективность обогащения чернового концентрата **rougher.output.recovery**;\n",
    "    2. эффективность обогащения финального концентрата **final.output.recovery**.\n",
    "    \n",
    "Итоговая метрика складывается из двух величин:\n",
    "\n",
    "![](https://pictures.s3.yandex.net/resources/_smape_1576238814.jpg)"
   ]
  },
  {
   "cell_type": "markdown",
   "metadata": {},
   "source": [
    "# Описание проекта\n",
    "\n",
    "- **gold_recovery_train_new.csv** — обучающая выборка;\n",
    "- **gold_recovery_test_new.csv** — тестовая выборка;\n",
    "- **gold_recovery_full_new.csv** — исходные данные.\n",
    "\n",
    "Данные индексируются датой и временем получения информации (признак **date**). Соседние по времени параметры часто похожи.\n",
    "Некоторые параметры недоступны, потому что замеряются и/или рассчитываются значительно позже. Из-за этого в тестовой выборке отсутствуют некоторые признаки, которые могут быть в обучающей. Также в тестовом наборе нет целевых признаков."
   ]
  },
  {
   "cell_type": "markdown",
   "metadata": {},
   "source": [
    "## Подготовка данных"
   ]
  },
  {
   "cell_type": "markdown",
   "metadata": {},
   "source": [
    "### Откройте файлы и изучите их."
   ]
  },
  {
   "cell_type": "code",
   "execution_count": 4,
   "metadata": {},
   "outputs": [],
   "source": [
    "# Импортируем библиотеки\n",
    "\n",
    "import pandas as pd\n",
    "\n",
    "from sklearn.metrics import mean_absolute_error as MAE\n",
    "\n",
    "from sklearn.metrics import make_scorer\n",
    "\n",
    "import matplotlib.pyplot as plt\n",
    "\n",
    "from sklearn.model_selection import cross_val_score as CVS, GridSearchCV\n",
    "\n",
    "import numpy as np\n",
    "\n",
    "from sklearn.linear_model import LinearRegression\n",
    "\n",
    "from sklearn.tree import DecisionTreeRegressor\n",
    "\n",
    "from sklearn.ensemble import RandomForestRegressor\n",
    "\n",
    "from sklearn.preprocessing import StandardScaler"
   ]
  },
  {
   "cell_type": "code",
   "execution_count": 5,
   "metadata": {},
   "outputs": [],
   "source": [
    "# У нас три датасета\n",
    "# Для изучения информации в них мы будем выполнять одинаковые действия, поэтому напишем для этого функцию\n",
    "\n",
    "def data_reading(path, index = 'date'):\n",
    "    data = pd.read_csv(path, index_col = index, parse_dates = True)\n",
    "    print(f'Количество строк: {data.shape[0]}; \\n\\\n",
    "Количество столбцов: {data.shape[1]} \\n')\n",
    "    print(f'Информация о данных: \\n')\n",
    "    data.info()\n",
    "    print(f'\\nКоличество дубликатов: {data.duplicated().sum()} \\n')\n",
    "    print(f'\\nКоличество пропусков:\\n\\\n",
    "{data.isna().sum()} \\n')\n",
    "    print(f'Первые 5 строк датасета: \\n')\n",
    "    display(data.head(5))\n",
    "    return data"
   ]
  },
  {
   "cell_type": "code",
   "execution_count": 6,
   "metadata": {
    "scrolled": false
   },
   "outputs": [
    {
     "name": "stdout",
     "output_type": "stream",
     "text": [
      "Количество строк: 14149; \n",
      "Количество столбцов: 86 \n",
      "\n",
      "Информация о данных: \n",
      "\n",
      "<class 'pandas.core.frame.DataFrame'>\n",
      "DatetimeIndex: 14149 entries, 2016-01-15 00:00:00 to 2018-08-18 10:59:59\n",
      "Data columns (total 86 columns):\n",
      " #   Column                                              Non-Null Count  Dtype  \n",
      "---  ------                                              --------------  -----  \n",
      " 0   final.output.concentrate_ag                         14148 non-null  float64\n",
      " 1   final.output.concentrate_pb                         14148 non-null  float64\n",
      " 2   final.output.concentrate_sol                        13938 non-null  float64\n",
      " 3   final.output.concentrate_au                         14149 non-null  float64\n",
      " 4   final.output.recovery                               14149 non-null  float64\n",
      " 5   final.output.tail_ag                                14149 non-null  float64\n",
      " 6   final.output.tail_pb                                14049 non-null  float64\n",
      " 7   final.output.tail_sol                               14144 non-null  float64\n",
      " 8   final.output.tail_au                                14149 non-null  float64\n",
      " 9   primary_cleaner.input.sulfate                       14129 non-null  float64\n",
      " 10  primary_cleaner.input.depressant                    14117 non-null  float64\n",
      " 11  primary_cleaner.input.feed_size                     14149 non-null  float64\n",
      " 12  primary_cleaner.input.xanthate                      14049 non-null  float64\n",
      " 13  primary_cleaner.output.concentrate_ag               14149 non-null  float64\n",
      " 14  primary_cleaner.output.concentrate_pb               14063 non-null  float64\n",
      " 15  primary_cleaner.output.concentrate_sol              13863 non-null  float64\n",
      " 16  primary_cleaner.output.concentrate_au               14149 non-null  float64\n",
      " 17  primary_cleaner.output.tail_ag                      14148 non-null  float64\n",
      " 18  primary_cleaner.output.tail_pb                      14134 non-null  float64\n",
      " 19  primary_cleaner.output.tail_sol                     14103 non-null  float64\n",
      " 20  primary_cleaner.output.tail_au                      14149 non-null  float64\n",
      " 21  primary_cleaner.state.floatbank8_a_air              14145 non-null  float64\n",
      " 22  primary_cleaner.state.floatbank8_a_level            14148 non-null  float64\n",
      " 23  primary_cleaner.state.floatbank8_b_air              14145 non-null  float64\n",
      " 24  primary_cleaner.state.floatbank8_b_level            14148 non-null  float64\n",
      " 25  primary_cleaner.state.floatbank8_c_air              14147 non-null  float64\n",
      " 26  primary_cleaner.state.floatbank8_c_level            14148 non-null  float64\n",
      " 27  primary_cleaner.state.floatbank8_d_air              14146 non-null  float64\n",
      " 28  primary_cleaner.state.floatbank8_d_level            14148 non-null  float64\n",
      " 29  rougher.calculation.sulfate_to_au_concentrate       14148 non-null  float64\n",
      " 30  rougher.calculation.floatbank10_sulfate_to_au_feed  14148 non-null  float64\n",
      " 31  rougher.calculation.floatbank11_sulfate_to_au_feed  14148 non-null  float64\n",
      " 32  rougher.calculation.au_pb_ratio                     14149 non-null  float64\n",
      " 33  rougher.input.feed_ag                               14149 non-null  float64\n",
      " 34  rougher.input.feed_pb                               14049 non-null  float64\n",
      " 35  rougher.input.feed_rate                             14141 non-null  float64\n",
      " 36  rougher.input.feed_size                             14005 non-null  float64\n",
      " 37  rougher.input.feed_sol                              14071 non-null  float64\n",
      " 38  rougher.input.feed_au                               14149 non-null  float64\n",
      " 39  rougher.input.floatbank10_sulfate                   14120 non-null  float64\n",
      " 40  rougher.input.floatbank10_xanthate                  14141 non-null  float64\n",
      " 41  rougher.input.floatbank11_sulfate                   14113 non-null  float64\n",
      " 42  rougher.input.floatbank11_xanthate                  13721 non-null  float64\n",
      " 43  rougher.output.concentrate_ag                       14149 non-null  float64\n",
      " 44  rougher.output.concentrate_pb                       14149 non-null  float64\n",
      " 45  rougher.output.concentrate_sol                      14127 non-null  float64\n",
      " 46  rougher.output.concentrate_au                       14149 non-null  float64\n",
      " 47  rougher.output.recovery                             14149 non-null  float64\n",
      " 48  rougher.output.tail_ag                              14148 non-null  float64\n",
      " 49  rougher.output.tail_pb                              14149 non-null  float64\n",
      " 50  rougher.output.tail_sol                             14149 non-null  float64\n",
      " 51  rougher.output.tail_au                              14149 non-null  float64\n",
      " 52  rougher.state.floatbank10_a_air                     14148 non-null  float64\n",
      " 53  rougher.state.floatbank10_a_level                   14148 non-null  float64\n",
      " 54  rougher.state.floatbank10_b_air                     14148 non-null  float64\n",
      " 55  rougher.state.floatbank10_b_level                   14148 non-null  float64\n",
      " 56  rougher.state.floatbank10_c_air                     14148 non-null  float64\n",
      " 57  rougher.state.floatbank10_c_level                   14148 non-null  float64\n",
      " 58  rougher.state.floatbank10_d_air                     14149 non-null  float64\n",
      " 59  rougher.state.floatbank10_d_level                   14149 non-null  float64\n",
      " 60  rougher.state.floatbank10_e_air                     13713 non-null  float64\n",
      " 61  rougher.state.floatbank10_e_level                   14149 non-null  float64\n",
      " 62  rougher.state.floatbank10_f_air                     14149 non-null  float64\n",
      " 63  rougher.state.floatbank10_f_level                   14149 non-null  float64\n",
      " 64  secondary_cleaner.output.tail_ag                    14147 non-null  float64\n",
      " 65  secondary_cleaner.output.tail_pb                    14139 non-null  float64\n",
      " 66  secondary_cleaner.output.tail_sol                   12544 non-null  float64\n",
      " 67  secondary_cleaner.output.tail_au                    14149 non-null  float64\n",
      " 68  secondary_cleaner.state.floatbank2_a_air            13932 non-null  float64\n",
      " 69  secondary_cleaner.state.floatbank2_a_level          14148 non-null  float64\n",
      " 70  secondary_cleaner.state.floatbank2_b_air            14128 non-null  float64\n",
      " 71  secondary_cleaner.state.floatbank2_b_level          14148 non-null  float64\n",
      " 72  secondary_cleaner.state.floatbank3_a_air            14145 non-null  float64\n",
      " 73  secondary_cleaner.state.floatbank3_a_level          14148 non-null  float64\n",
      " 74  secondary_cleaner.state.floatbank3_b_air            14148 non-null  float64\n",
      " 75  secondary_cleaner.state.floatbank3_b_level          14148 non-null  float64\n",
      " 76  secondary_cleaner.state.floatbank4_a_air            14143 non-null  float64\n",
      " 77  secondary_cleaner.state.floatbank4_a_level          14148 non-null  float64\n",
      " 78  secondary_cleaner.state.floatbank4_b_air            14148 non-null  float64\n",
      " 79  secondary_cleaner.state.floatbank4_b_level          14148 non-null  float64\n",
      " 80  secondary_cleaner.state.floatbank5_a_air            14148 non-null  float64\n",
      " 81  secondary_cleaner.state.floatbank5_a_level          14148 non-null  float64\n",
      " 82  secondary_cleaner.state.floatbank5_b_air            14148 non-null  float64\n",
      " 83  secondary_cleaner.state.floatbank5_b_level          14148 non-null  float64\n",
      " 84  secondary_cleaner.state.floatbank6_a_air            14147 non-null  float64\n",
      " 85  secondary_cleaner.state.floatbank6_a_level          14148 non-null  float64\n",
      "dtypes: float64(86)\n",
      "memory usage: 9.4 MB\n",
      "\n",
      "Количество дубликатов: 0 \n",
      "\n",
      "\n",
      "Количество пропусков:\n",
      "final.output.concentrate_ag                     1\n",
      "final.output.concentrate_pb                     1\n",
      "final.output.concentrate_sol                  211\n",
      "final.output.concentrate_au                     0\n",
      "final.output.recovery                           0\n",
      "                                             ... \n",
      "secondary_cleaner.state.floatbank5_a_level      1\n",
      "secondary_cleaner.state.floatbank5_b_air        1\n",
      "secondary_cleaner.state.floatbank5_b_level      1\n",
      "secondary_cleaner.state.floatbank6_a_air        2\n",
      "secondary_cleaner.state.floatbank6_a_level      1\n",
      "Length: 86, dtype: int64 \n",
      "\n",
      "Первые 5 строк датасета: \n",
      "\n"
     ]
    },
    {
     "data": {
      "text/html": [
       "<div>\n",
       "<style scoped>\n",
       "    .dataframe tbody tr th:only-of-type {\n",
       "        vertical-align: middle;\n",
       "    }\n",
       "\n",
       "    .dataframe tbody tr th {\n",
       "        vertical-align: top;\n",
       "    }\n",
       "\n",
       "    .dataframe thead th {\n",
       "        text-align: right;\n",
       "    }\n",
       "</style>\n",
       "<table border=\"1\" class=\"dataframe\">\n",
       "  <thead>\n",
       "    <tr style=\"text-align: right;\">\n",
       "      <th></th>\n",
       "      <th>final.output.concentrate_ag</th>\n",
       "      <th>final.output.concentrate_pb</th>\n",
       "      <th>final.output.concentrate_sol</th>\n",
       "      <th>final.output.concentrate_au</th>\n",
       "      <th>final.output.recovery</th>\n",
       "      <th>final.output.tail_ag</th>\n",
       "      <th>final.output.tail_pb</th>\n",
       "      <th>final.output.tail_sol</th>\n",
       "      <th>final.output.tail_au</th>\n",
       "      <th>primary_cleaner.input.sulfate</th>\n",
       "      <th>...</th>\n",
       "      <th>secondary_cleaner.state.floatbank4_a_air</th>\n",
       "      <th>secondary_cleaner.state.floatbank4_a_level</th>\n",
       "      <th>secondary_cleaner.state.floatbank4_b_air</th>\n",
       "      <th>secondary_cleaner.state.floatbank4_b_level</th>\n",
       "      <th>secondary_cleaner.state.floatbank5_a_air</th>\n",
       "      <th>secondary_cleaner.state.floatbank5_a_level</th>\n",
       "      <th>secondary_cleaner.state.floatbank5_b_air</th>\n",
       "      <th>secondary_cleaner.state.floatbank5_b_level</th>\n",
       "      <th>secondary_cleaner.state.floatbank6_a_air</th>\n",
       "      <th>secondary_cleaner.state.floatbank6_a_level</th>\n",
       "    </tr>\n",
       "    <tr>\n",
       "      <th>date</th>\n",
       "      <th></th>\n",
       "      <th></th>\n",
       "      <th></th>\n",
       "      <th></th>\n",
       "      <th></th>\n",
       "      <th></th>\n",
       "      <th></th>\n",
       "      <th></th>\n",
       "      <th></th>\n",
       "      <th></th>\n",
       "      <th></th>\n",
       "      <th></th>\n",
       "      <th></th>\n",
       "      <th></th>\n",
       "      <th></th>\n",
       "      <th></th>\n",
       "      <th></th>\n",
       "      <th></th>\n",
       "      <th></th>\n",
       "      <th></th>\n",
       "      <th></th>\n",
       "    </tr>\n",
       "  </thead>\n",
       "  <tbody>\n",
       "    <tr>\n",
       "      <th>2016-01-15 00:00:00</th>\n",
       "      <td>6.055403</td>\n",
       "      <td>9.889648</td>\n",
       "      <td>5.507324</td>\n",
       "      <td>42.192020</td>\n",
       "      <td>70.541216</td>\n",
       "      <td>10.411962</td>\n",
       "      <td>0.895447</td>\n",
       "      <td>16.904297</td>\n",
       "      <td>2.143149</td>\n",
       "      <td>127.092003</td>\n",
       "      <td>...</td>\n",
       "      <td>14.016835</td>\n",
       "      <td>-502.488007</td>\n",
       "      <td>12.099931</td>\n",
       "      <td>-504.715942</td>\n",
       "      <td>9.925633</td>\n",
       "      <td>-498.310211</td>\n",
       "      <td>8.079666</td>\n",
       "      <td>-500.470978</td>\n",
       "      <td>14.151341</td>\n",
       "      <td>-605.841980</td>\n",
       "    </tr>\n",
       "    <tr>\n",
       "      <th>2016-01-15 01:00:00</th>\n",
       "      <td>6.029369</td>\n",
       "      <td>9.968944</td>\n",
       "      <td>5.257781</td>\n",
       "      <td>42.701629</td>\n",
       "      <td>69.266198</td>\n",
       "      <td>10.462676</td>\n",
       "      <td>0.927452</td>\n",
       "      <td>16.634514</td>\n",
       "      <td>2.224930</td>\n",
       "      <td>125.629232</td>\n",
       "      <td>...</td>\n",
       "      <td>13.992281</td>\n",
       "      <td>-505.503262</td>\n",
       "      <td>11.950531</td>\n",
       "      <td>-501.331529</td>\n",
       "      <td>10.039245</td>\n",
       "      <td>-500.169983</td>\n",
       "      <td>7.984757</td>\n",
       "      <td>-500.582168</td>\n",
       "      <td>13.998353</td>\n",
       "      <td>-599.787184</td>\n",
       "    </tr>\n",
       "    <tr>\n",
       "      <th>2016-01-15 02:00:00</th>\n",
       "      <td>6.055926</td>\n",
       "      <td>10.213995</td>\n",
       "      <td>5.383759</td>\n",
       "      <td>42.657501</td>\n",
       "      <td>68.116445</td>\n",
       "      <td>10.507046</td>\n",
       "      <td>0.953716</td>\n",
       "      <td>16.208849</td>\n",
       "      <td>2.257889</td>\n",
       "      <td>123.819808</td>\n",
       "      <td>...</td>\n",
       "      <td>14.015015</td>\n",
       "      <td>-502.520901</td>\n",
       "      <td>11.912783</td>\n",
       "      <td>-501.133383</td>\n",
       "      <td>10.070913</td>\n",
       "      <td>-500.129135</td>\n",
       "      <td>8.013877</td>\n",
       "      <td>-500.517572</td>\n",
       "      <td>14.028663</td>\n",
       "      <td>-601.427363</td>\n",
       "    </tr>\n",
       "    <tr>\n",
       "      <th>2016-01-15 03:00:00</th>\n",
       "      <td>6.047977</td>\n",
       "      <td>9.977019</td>\n",
       "      <td>4.858634</td>\n",
       "      <td>42.689819</td>\n",
       "      <td>68.347543</td>\n",
       "      <td>10.422762</td>\n",
       "      <td>0.883763</td>\n",
       "      <td>16.532835</td>\n",
       "      <td>2.146849</td>\n",
       "      <td>122.270188</td>\n",
       "      <td>...</td>\n",
       "      <td>14.036510</td>\n",
       "      <td>-500.857308</td>\n",
       "      <td>11.999550</td>\n",
       "      <td>-501.193686</td>\n",
       "      <td>9.970366</td>\n",
       "      <td>-499.201640</td>\n",
       "      <td>7.977324</td>\n",
       "      <td>-500.255908</td>\n",
       "      <td>14.005551</td>\n",
       "      <td>-599.996129</td>\n",
       "    </tr>\n",
       "    <tr>\n",
       "      <th>2016-01-15 04:00:00</th>\n",
       "      <td>6.148599</td>\n",
       "      <td>10.142511</td>\n",
       "      <td>4.939416</td>\n",
       "      <td>42.774141</td>\n",
       "      <td>66.927016</td>\n",
       "      <td>10.360302</td>\n",
       "      <td>0.792826</td>\n",
       "      <td>16.525686</td>\n",
       "      <td>2.055292</td>\n",
       "      <td>117.988169</td>\n",
       "      <td>...</td>\n",
       "      <td>14.027298</td>\n",
       "      <td>-499.838632</td>\n",
       "      <td>11.953070</td>\n",
       "      <td>-501.053894</td>\n",
       "      <td>9.925709</td>\n",
       "      <td>-501.686727</td>\n",
       "      <td>7.894242</td>\n",
       "      <td>-500.356035</td>\n",
       "      <td>13.996647</td>\n",
       "      <td>-601.496691</td>\n",
       "    </tr>\n",
       "  </tbody>\n",
       "</table>\n",
       "<p>5 rows × 86 columns</p>\n",
       "</div>"
      ],
      "text/plain": [
       "                     final.output.concentrate_ag  final.output.concentrate_pb  \\\n",
       "date                                                                            \n",
       "2016-01-15 00:00:00                     6.055403                     9.889648   \n",
       "2016-01-15 01:00:00                     6.029369                     9.968944   \n",
       "2016-01-15 02:00:00                     6.055926                    10.213995   \n",
       "2016-01-15 03:00:00                     6.047977                     9.977019   \n",
       "2016-01-15 04:00:00                     6.148599                    10.142511   \n",
       "\n",
       "                     final.output.concentrate_sol  \\\n",
       "date                                                \n",
       "2016-01-15 00:00:00                      5.507324   \n",
       "2016-01-15 01:00:00                      5.257781   \n",
       "2016-01-15 02:00:00                      5.383759   \n",
       "2016-01-15 03:00:00                      4.858634   \n",
       "2016-01-15 04:00:00                      4.939416   \n",
       "\n",
       "                     final.output.concentrate_au  final.output.recovery  \\\n",
       "date                                                                      \n",
       "2016-01-15 00:00:00                    42.192020              70.541216   \n",
       "2016-01-15 01:00:00                    42.701629              69.266198   \n",
       "2016-01-15 02:00:00                    42.657501              68.116445   \n",
       "2016-01-15 03:00:00                    42.689819              68.347543   \n",
       "2016-01-15 04:00:00                    42.774141              66.927016   \n",
       "\n",
       "                     final.output.tail_ag  final.output.tail_pb  \\\n",
       "date                                                              \n",
       "2016-01-15 00:00:00             10.411962              0.895447   \n",
       "2016-01-15 01:00:00             10.462676              0.927452   \n",
       "2016-01-15 02:00:00             10.507046              0.953716   \n",
       "2016-01-15 03:00:00             10.422762              0.883763   \n",
       "2016-01-15 04:00:00             10.360302              0.792826   \n",
       "\n",
       "                     final.output.tail_sol  final.output.tail_au  \\\n",
       "date                                                               \n",
       "2016-01-15 00:00:00              16.904297              2.143149   \n",
       "2016-01-15 01:00:00              16.634514              2.224930   \n",
       "2016-01-15 02:00:00              16.208849              2.257889   \n",
       "2016-01-15 03:00:00              16.532835              2.146849   \n",
       "2016-01-15 04:00:00              16.525686              2.055292   \n",
       "\n",
       "                     primary_cleaner.input.sulfate  ...  \\\n",
       "date                                                ...   \n",
       "2016-01-15 00:00:00                     127.092003  ...   \n",
       "2016-01-15 01:00:00                     125.629232  ...   \n",
       "2016-01-15 02:00:00                     123.819808  ...   \n",
       "2016-01-15 03:00:00                     122.270188  ...   \n",
       "2016-01-15 04:00:00                     117.988169  ...   \n",
       "\n",
       "                     secondary_cleaner.state.floatbank4_a_air  \\\n",
       "date                                                            \n",
       "2016-01-15 00:00:00                                 14.016835   \n",
       "2016-01-15 01:00:00                                 13.992281   \n",
       "2016-01-15 02:00:00                                 14.015015   \n",
       "2016-01-15 03:00:00                                 14.036510   \n",
       "2016-01-15 04:00:00                                 14.027298   \n",
       "\n",
       "                     secondary_cleaner.state.floatbank4_a_level  \\\n",
       "date                                                              \n",
       "2016-01-15 00:00:00                                 -502.488007   \n",
       "2016-01-15 01:00:00                                 -505.503262   \n",
       "2016-01-15 02:00:00                                 -502.520901   \n",
       "2016-01-15 03:00:00                                 -500.857308   \n",
       "2016-01-15 04:00:00                                 -499.838632   \n",
       "\n",
       "                     secondary_cleaner.state.floatbank4_b_air  \\\n",
       "date                                                            \n",
       "2016-01-15 00:00:00                                 12.099931   \n",
       "2016-01-15 01:00:00                                 11.950531   \n",
       "2016-01-15 02:00:00                                 11.912783   \n",
       "2016-01-15 03:00:00                                 11.999550   \n",
       "2016-01-15 04:00:00                                 11.953070   \n",
       "\n",
       "                     secondary_cleaner.state.floatbank4_b_level  \\\n",
       "date                                                              \n",
       "2016-01-15 00:00:00                                 -504.715942   \n",
       "2016-01-15 01:00:00                                 -501.331529   \n",
       "2016-01-15 02:00:00                                 -501.133383   \n",
       "2016-01-15 03:00:00                                 -501.193686   \n",
       "2016-01-15 04:00:00                                 -501.053894   \n",
       "\n",
       "                     secondary_cleaner.state.floatbank5_a_air  \\\n",
       "date                                                            \n",
       "2016-01-15 00:00:00                                  9.925633   \n",
       "2016-01-15 01:00:00                                 10.039245   \n",
       "2016-01-15 02:00:00                                 10.070913   \n",
       "2016-01-15 03:00:00                                  9.970366   \n",
       "2016-01-15 04:00:00                                  9.925709   \n",
       "\n",
       "                     secondary_cleaner.state.floatbank5_a_level  \\\n",
       "date                                                              \n",
       "2016-01-15 00:00:00                                 -498.310211   \n",
       "2016-01-15 01:00:00                                 -500.169983   \n",
       "2016-01-15 02:00:00                                 -500.129135   \n",
       "2016-01-15 03:00:00                                 -499.201640   \n",
       "2016-01-15 04:00:00                                 -501.686727   \n",
       "\n",
       "                     secondary_cleaner.state.floatbank5_b_air  \\\n",
       "date                                                            \n",
       "2016-01-15 00:00:00                                  8.079666   \n",
       "2016-01-15 01:00:00                                  7.984757   \n",
       "2016-01-15 02:00:00                                  8.013877   \n",
       "2016-01-15 03:00:00                                  7.977324   \n",
       "2016-01-15 04:00:00                                  7.894242   \n",
       "\n",
       "                     secondary_cleaner.state.floatbank5_b_level  \\\n",
       "date                                                              \n",
       "2016-01-15 00:00:00                                 -500.470978   \n",
       "2016-01-15 01:00:00                                 -500.582168   \n",
       "2016-01-15 02:00:00                                 -500.517572   \n",
       "2016-01-15 03:00:00                                 -500.255908   \n",
       "2016-01-15 04:00:00                                 -500.356035   \n",
       "\n",
       "                     secondary_cleaner.state.floatbank6_a_air  \\\n",
       "date                                                            \n",
       "2016-01-15 00:00:00                                 14.151341   \n",
       "2016-01-15 01:00:00                                 13.998353   \n",
       "2016-01-15 02:00:00                                 14.028663   \n",
       "2016-01-15 03:00:00                                 14.005551   \n",
       "2016-01-15 04:00:00                                 13.996647   \n",
       "\n",
       "                     secondary_cleaner.state.floatbank6_a_level  \n",
       "date                                                             \n",
       "2016-01-15 00:00:00                                 -605.841980  \n",
       "2016-01-15 01:00:00                                 -599.787184  \n",
       "2016-01-15 02:00:00                                 -601.427363  \n",
       "2016-01-15 03:00:00                                 -599.996129  \n",
       "2016-01-15 04:00:00                                 -601.496691  \n",
       "\n",
       "[5 rows x 86 columns]"
      ]
     },
     "metadata": {},
     "output_type": "display_data"
    }
   ],
   "source": [
    "data_train = data_reading('gold_recovery_train_new.csv')"
   ]
  },
  {
   "cell_type": "code",
   "execution_count": 7,
   "metadata": {
    "scrolled": true
   },
   "outputs": [
    {
     "name": "stdout",
     "output_type": "stream",
     "text": [
      "Количество строк: 5290; \n",
      "Количество столбцов: 52 \n",
      "\n",
      "Информация о данных: \n",
      "\n",
      "<class 'pandas.core.frame.DataFrame'>\n",
      "DatetimeIndex: 5290 entries, 2016-09-01 00:59:59 to 2017-12-31 23:59:59\n",
      "Data columns (total 52 columns):\n",
      " #   Column                                      Non-Null Count  Dtype  \n",
      "---  ------                                      --------------  -----  \n",
      " 0   primary_cleaner.input.sulfate               5286 non-null   float64\n",
      " 1   primary_cleaner.input.depressant            5285 non-null   float64\n",
      " 2   primary_cleaner.input.feed_size             5290 non-null   float64\n",
      " 3   primary_cleaner.input.xanthate              5286 non-null   float64\n",
      " 4   primary_cleaner.state.floatbank8_a_air      5290 non-null   float64\n",
      " 5   primary_cleaner.state.floatbank8_a_level    5290 non-null   float64\n",
      " 6   primary_cleaner.state.floatbank8_b_air      5290 non-null   float64\n",
      " 7   primary_cleaner.state.floatbank8_b_level    5290 non-null   float64\n",
      " 8   primary_cleaner.state.floatbank8_c_air      5290 non-null   float64\n",
      " 9   primary_cleaner.state.floatbank8_c_level    5290 non-null   float64\n",
      " 10  primary_cleaner.state.floatbank8_d_air      5290 non-null   float64\n",
      " 11  primary_cleaner.state.floatbank8_d_level    5290 non-null   float64\n",
      " 12  rougher.input.feed_ag                       5290 non-null   float64\n",
      " 13  rougher.input.feed_pb                       5290 non-null   float64\n",
      " 14  rougher.input.feed_rate                     5287 non-null   float64\n",
      " 15  rougher.input.feed_size                     5289 non-null   float64\n",
      " 16  rougher.input.feed_sol                      5269 non-null   float64\n",
      " 17  rougher.input.feed_au                       5290 non-null   float64\n",
      " 18  rougher.input.floatbank10_sulfate           5285 non-null   float64\n",
      " 19  rougher.input.floatbank10_xanthate          5290 non-null   float64\n",
      " 20  rougher.input.floatbank11_sulfate           5282 non-null   float64\n",
      " 21  rougher.input.floatbank11_xanthate          5265 non-null   float64\n",
      " 22  rougher.state.floatbank10_a_air             5290 non-null   float64\n",
      " 23  rougher.state.floatbank10_a_level           5290 non-null   float64\n",
      " 24  rougher.state.floatbank10_b_air             5290 non-null   float64\n",
      " 25  rougher.state.floatbank10_b_level           5290 non-null   float64\n",
      " 26  rougher.state.floatbank10_c_air             5290 non-null   float64\n",
      " 27  rougher.state.floatbank10_c_level           5290 non-null   float64\n",
      " 28  rougher.state.floatbank10_d_air             5290 non-null   float64\n",
      " 29  rougher.state.floatbank10_d_level           5290 non-null   float64\n",
      " 30  rougher.state.floatbank10_e_air             5290 non-null   float64\n",
      " 31  rougher.state.floatbank10_e_level           5290 non-null   float64\n",
      " 32  rougher.state.floatbank10_f_air             5290 non-null   float64\n",
      " 33  rougher.state.floatbank10_f_level           5290 non-null   float64\n",
      " 34  secondary_cleaner.state.floatbank2_a_air    5287 non-null   float64\n",
      " 35  secondary_cleaner.state.floatbank2_a_level  5290 non-null   float64\n",
      " 36  secondary_cleaner.state.floatbank2_b_air    5288 non-null   float64\n",
      " 37  secondary_cleaner.state.floatbank2_b_level  5290 non-null   float64\n",
      " 38  secondary_cleaner.state.floatbank3_a_air    5281 non-null   float64\n",
      " 39  secondary_cleaner.state.floatbank3_a_level  5290 non-null   float64\n",
      " 40  secondary_cleaner.state.floatbank3_b_air    5290 non-null   float64\n",
      " 41  secondary_cleaner.state.floatbank3_b_level  5290 non-null   float64\n",
      " 42  secondary_cleaner.state.floatbank4_a_air    5290 non-null   float64\n",
      " 43  secondary_cleaner.state.floatbank4_a_level  5290 non-null   float64\n",
      " 44  secondary_cleaner.state.floatbank4_b_air    5290 non-null   float64\n",
      " 45  secondary_cleaner.state.floatbank4_b_level  5290 non-null   float64\n",
      " 46  secondary_cleaner.state.floatbank5_a_air    5290 non-null   float64\n",
      " 47  secondary_cleaner.state.floatbank5_a_level  5290 non-null   float64\n",
      " 48  secondary_cleaner.state.floatbank5_b_air    5290 non-null   float64\n",
      " 49  secondary_cleaner.state.floatbank5_b_level  5290 non-null   float64\n",
      " 50  secondary_cleaner.state.floatbank6_a_air    5290 non-null   float64\n",
      " 51  secondary_cleaner.state.floatbank6_a_level  5290 non-null   float64\n",
      "dtypes: float64(52)\n",
      "memory usage: 2.1 MB\n",
      "\n",
      "Количество дубликатов: 0 \n",
      "\n",
      "\n",
      "Количество пропусков:\n",
      "primary_cleaner.input.sulfate                  4\n",
      "primary_cleaner.input.depressant               5\n",
      "primary_cleaner.input.feed_size                0\n",
      "primary_cleaner.input.xanthate                 4\n",
      "primary_cleaner.state.floatbank8_a_air         0\n",
      "primary_cleaner.state.floatbank8_a_level       0\n",
      "primary_cleaner.state.floatbank8_b_air         0\n",
      "primary_cleaner.state.floatbank8_b_level       0\n",
      "primary_cleaner.state.floatbank8_c_air         0\n",
      "primary_cleaner.state.floatbank8_c_level       0\n",
      "primary_cleaner.state.floatbank8_d_air         0\n",
      "primary_cleaner.state.floatbank8_d_level       0\n",
      "rougher.input.feed_ag                          0\n",
      "rougher.input.feed_pb                          0\n",
      "rougher.input.feed_rate                        3\n",
      "rougher.input.feed_size                        1\n",
      "rougher.input.feed_sol                        21\n",
      "rougher.input.feed_au                          0\n",
      "rougher.input.floatbank10_sulfate              5\n",
      "rougher.input.floatbank10_xanthate             0\n",
      "rougher.input.floatbank11_sulfate              8\n",
      "rougher.input.floatbank11_xanthate            25\n",
      "rougher.state.floatbank10_a_air                0\n",
      "rougher.state.floatbank10_a_level              0\n",
      "rougher.state.floatbank10_b_air                0\n",
      "rougher.state.floatbank10_b_level              0\n",
      "rougher.state.floatbank10_c_air                0\n",
      "rougher.state.floatbank10_c_level              0\n",
      "rougher.state.floatbank10_d_air                0\n",
      "rougher.state.floatbank10_d_level              0\n",
      "rougher.state.floatbank10_e_air                0\n",
      "rougher.state.floatbank10_e_level              0\n",
      "rougher.state.floatbank10_f_air                0\n",
      "rougher.state.floatbank10_f_level              0\n",
      "secondary_cleaner.state.floatbank2_a_air       3\n",
      "secondary_cleaner.state.floatbank2_a_level     0\n",
      "secondary_cleaner.state.floatbank2_b_air       2\n",
      "secondary_cleaner.state.floatbank2_b_level     0\n",
      "secondary_cleaner.state.floatbank3_a_air       9\n",
      "secondary_cleaner.state.floatbank3_a_level     0\n",
      "secondary_cleaner.state.floatbank3_b_air       0\n",
      "secondary_cleaner.state.floatbank3_b_level     0\n",
      "secondary_cleaner.state.floatbank4_a_air       0\n",
      "secondary_cleaner.state.floatbank4_a_level     0\n",
      "secondary_cleaner.state.floatbank4_b_air       0\n",
      "secondary_cleaner.state.floatbank4_b_level     0\n",
      "secondary_cleaner.state.floatbank5_a_air       0\n",
      "secondary_cleaner.state.floatbank5_a_level     0\n",
      "secondary_cleaner.state.floatbank5_b_air       0\n",
      "secondary_cleaner.state.floatbank5_b_level     0\n",
      "secondary_cleaner.state.floatbank6_a_air       0\n",
      "secondary_cleaner.state.floatbank6_a_level     0\n",
      "dtype: int64 \n",
      "\n",
      "Первые 5 строк датасета: \n",
      "\n"
     ]
    },
    {
     "data": {
      "text/html": [
       "<div>\n",
       "<style scoped>\n",
       "    .dataframe tbody tr th:only-of-type {\n",
       "        vertical-align: middle;\n",
       "    }\n",
       "\n",
       "    .dataframe tbody tr th {\n",
       "        vertical-align: top;\n",
       "    }\n",
       "\n",
       "    .dataframe thead th {\n",
       "        text-align: right;\n",
       "    }\n",
       "</style>\n",
       "<table border=\"1\" class=\"dataframe\">\n",
       "  <thead>\n",
       "    <tr style=\"text-align: right;\">\n",
       "      <th></th>\n",
       "      <th>primary_cleaner.input.sulfate</th>\n",
       "      <th>primary_cleaner.input.depressant</th>\n",
       "      <th>primary_cleaner.input.feed_size</th>\n",
       "      <th>primary_cleaner.input.xanthate</th>\n",
       "      <th>primary_cleaner.state.floatbank8_a_air</th>\n",
       "      <th>primary_cleaner.state.floatbank8_a_level</th>\n",
       "      <th>primary_cleaner.state.floatbank8_b_air</th>\n",
       "      <th>primary_cleaner.state.floatbank8_b_level</th>\n",
       "      <th>primary_cleaner.state.floatbank8_c_air</th>\n",
       "      <th>primary_cleaner.state.floatbank8_c_level</th>\n",
       "      <th>...</th>\n",
       "      <th>secondary_cleaner.state.floatbank4_a_air</th>\n",
       "      <th>secondary_cleaner.state.floatbank4_a_level</th>\n",
       "      <th>secondary_cleaner.state.floatbank4_b_air</th>\n",
       "      <th>secondary_cleaner.state.floatbank4_b_level</th>\n",
       "      <th>secondary_cleaner.state.floatbank5_a_air</th>\n",
       "      <th>secondary_cleaner.state.floatbank5_a_level</th>\n",
       "      <th>secondary_cleaner.state.floatbank5_b_air</th>\n",
       "      <th>secondary_cleaner.state.floatbank5_b_level</th>\n",
       "      <th>secondary_cleaner.state.floatbank6_a_air</th>\n",
       "      <th>secondary_cleaner.state.floatbank6_a_level</th>\n",
       "    </tr>\n",
       "    <tr>\n",
       "      <th>date</th>\n",
       "      <th></th>\n",
       "      <th></th>\n",
       "      <th></th>\n",
       "      <th></th>\n",
       "      <th></th>\n",
       "      <th></th>\n",
       "      <th></th>\n",
       "      <th></th>\n",
       "      <th></th>\n",
       "      <th></th>\n",
       "      <th></th>\n",
       "      <th></th>\n",
       "      <th></th>\n",
       "      <th></th>\n",
       "      <th></th>\n",
       "      <th></th>\n",
       "      <th></th>\n",
       "      <th></th>\n",
       "      <th></th>\n",
       "      <th></th>\n",
       "      <th></th>\n",
       "    </tr>\n",
       "  </thead>\n",
       "  <tbody>\n",
       "    <tr>\n",
       "      <th>2016-09-01 00:59:59</th>\n",
       "      <td>210.800909</td>\n",
       "      <td>14.993118</td>\n",
       "      <td>8.080000</td>\n",
       "      <td>1.005021</td>\n",
       "      <td>1398.981301</td>\n",
       "      <td>-500.225577</td>\n",
       "      <td>1399.144926</td>\n",
       "      <td>-499.919735</td>\n",
       "      <td>1400.102998</td>\n",
       "      <td>-500.704369</td>\n",
       "      <td>...</td>\n",
       "      <td>12.023554</td>\n",
       "      <td>-497.795834</td>\n",
       "      <td>8.016656</td>\n",
       "      <td>-501.289139</td>\n",
       "      <td>7.946562</td>\n",
       "      <td>-432.317850</td>\n",
       "      <td>4.872511</td>\n",
       "      <td>-500.037437</td>\n",
       "      <td>26.705889</td>\n",
       "      <td>-499.709414</td>\n",
       "    </tr>\n",
       "    <tr>\n",
       "      <th>2016-09-01 01:59:59</th>\n",
       "      <td>215.392455</td>\n",
       "      <td>14.987471</td>\n",
       "      <td>8.080000</td>\n",
       "      <td>0.990469</td>\n",
       "      <td>1398.777912</td>\n",
       "      <td>-500.057435</td>\n",
       "      <td>1398.055362</td>\n",
       "      <td>-499.778182</td>\n",
       "      <td>1396.151033</td>\n",
       "      <td>-499.240168</td>\n",
       "      <td>...</td>\n",
       "      <td>12.058140</td>\n",
       "      <td>-498.695773</td>\n",
       "      <td>8.130979</td>\n",
       "      <td>-499.634209</td>\n",
       "      <td>7.958270</td>\n",
       "      <td>-525.839648</td>\n",
       "      <td>4.878850</td>\n",
       "      <td>-500.162375</td>\n",
       "      <td>25.019940</td>\n",
       "      <td>-499.819438</td>\n",
       "    </tr>\n",
       "    <tr>\n",
       "      <th>2016-09-01 02:59:59</th>\n",
       "      <td>215.259946</td>\n",
       "      <td>12.884934</td>\n",
       "      <td>7.786667</td>\n",
       "      <td>0.996043</td>\n",
       "      <td>1398.493666</td>\n",
       "      <td>-500.868360</td>\n",
       "      <td>1398.860436</td>\n",
       "      <td>-499.764529</td>\n",
       "      <td>1398.075709</td>\n",
       "      <td>-502.151509</td>\n",
       "      <td>...</td>\n",
       "      <td>11.962366</td>\n",
       "      <td>-498.767484</td>\n",
       "      <td>8.096893</td>\n",
       "      <td>-500.827423</td>\n",
       "      <td>8.071056</td>\n",
       "      <td>-500.801673</td>\n",
       "      <td>4.905125</td>\n",
       "      <td>-499.828510</td>\n",
       "      <td>24.994862</td>\n",
       "      <td>-500.622559</td>\n",
       "    </tr>\n",
       "    <tr>\n",
       "      <th>2016-09-01 03:59:59</th>\n",
       "      <td>215.336236</td>\n",
       "      <td>12.006805</td>\n",
       "      <td>7.640000</td>\n",
       "      <td>0.863514</td>\n",
       "      <td>1399.618111</td>\n",
       "      <td>-498.863574</td>\n",
       "      <td>1397.440120</td>\n",
       "      <td>-499.211024</td>\n",
       "      <td>1400.129303</td>\n",
       "      <td>-498.355873</td>\n",
       "      <td>...</td>\n",
       "      <td>12.033091</td>\n",
       "      <td>-498.350935</td>\n",
       "      <td>8.074946</td>\n",
       "      <td>-499.474407</td>\n",
       "      <td>7.897085</td>\n",
       "      <td>-500.868509</td>\n",
       "      <td>4.931400</td>\n",
       "      <td>-499.963623</td>\n",
       "      <td>24.948919</td>\n",
       "      <td>-498.709987</td>\n",
       "    </tr>\n",
       "    <tr>\n",
       "      <th>2016-09-01 04:59:59</th>\n",
       "      <td>199.099327</td>\n",
       "      <td>10.682530</td>\n",
       "      <td>7.530000</td>\n",
       "      <td>0.805575</td>\n",
       "      <td>1401.268123</td>\n",
       "      <td>-500.808305</td>\n",
       "      <td>1398.128818</td>\n",
       "      <td>-499.504543</td>\n",
       "      <td>1402.172226</td>\n",
       "      <td>-500.810606</td>\n",
       "      <td>...</td>\n",
       "      <td>12.025367</td>\n",
       "      <td>-500.786497</td>\n",
       "      <td>8.054678</td>\n",
       "      <td>-500.397500</td>\n",
       "      <td>8.107890</td>\n",
       "      <td>-509.526725</td>\n",
       "      <td>4.957674</td>\n",
       "      <td>-500.360026</td>\n",
       "      <td>25.003331</td>\n",
       "      <td>-500.856333</td>\n",
       "    </tr>\n",
       "  </tbody>\n",
       "</table>\n",
       "<p>5 rows × 52 columns</p>\n",
       "</div>"
      ],
      "text/plain": [
       "                     primary_cleaner.input.sulfate  \\\n",
       "date                                                 \n",
       "2016-09-01 00:59:59                     210.800909   \n",
       "2016-09-01 01:59:59                     215.392455   \n",
       "2016-09-01 02:59:59                     215.259946   \n",
       "2016-09-01 03:59:59                     215.336236   \n",
       "2016-09-01 04:59:59                     199.099327   \n",
       "\n",
       "                     primary_cleaner.input.depressant  \\\n",
       "date                                                    \n",
       "2016-09-01 00:59:59                         14.993118   \n",
       "2016-09-01 01:59:59                         14.987471   \n",
       "2016-09-01 02:59:59                         12.884934   \n",
       "2016-09-01 03:59:59                         12.006805   \n",
       "2016-09-01 04:59:59                         10.682530   \n",
       "\n",
       "                     primary_cleaner.input.feed_size  \\\n",
       "date                                                   \n",
       "2016-09-01 00:59:59                         8.080000   \n",
       "2016-09-01 01:59:59                         8.080000   \n",
       "2016-09-01 02:59:59                         7.786667   \n",
       "2016-09-01 03:59:59                         7.640000   \n",
       "2016-09-01 04:59:59                         7.530000   \n",
       "\n",
       "                     primary_cleaner.input.xanthate  \\\n",
       "date                                                  \n",
       "2016-09-01 00:59:59                        1.005021   \n",
       "2016-09-01 01:59:59                        0.990469   \n",
       "2016-09-01 02:59:59                        0.996043   \n",
       "2016-09-01 03:59:59                        0.863514   \n",
       "2016-09-01 04:59:59                        0.805575   \n",
       "\n",
       "                     primary_cleaner.state.floatbank8_a_air  \\\n",
       "date                                                          \n",
       "2016-09-01 00:59:59                             1398.981301   \n",
       "2016-09-01 01:59:59                             1398.777912   \n",
       "2016-09-01 02:59:59                             1398.493666   \n",
       "2016-09-01 03:59:59                             1399.618111   \n",
       "2016-09-01 04:59:59                             1401.268123   \n",
       "\n",
       "                     primary_cleaner.state.floatbank8_a_level  \\\n",
       "date                                                            \n",
       "2016-09-01 00:59:59                               -500.225577   \n",
       "2016-09-01 01:59:59                               -500.057435   \n",
       "2016-09-01 02:59:59                               -500.868360   \n",
       "2016-09-01 03:59:59                               -498.863574   \n",
       "2016-09-01 04:59:59                               -500.808305   \n",
       "\n",
       "                     primary_cleaner.state.floatbank8_b_air  \\\n",
       "date                                                          \n",
       "2016-09-01 00:59:59                             1399.144926   \n",
       "2016-09-01 01:59:59                             1398.055362   \n",
       "2016-09-01 02:59:59                             1398.860436   \n",
       "2016-09-01 03:59:59                             1397.440120   \n",
       "2016-09-01 04:59:59                             1398.128818   \n",
       "\n",
       "                     primary_cleaner.state.floatbank8_b_level  \\\n",
       "date                                                            \n",
       "2016-09-01 00:59:59                               -499.919735   \n",
       "2016-09-01 01:59:59                               -499.778182   \n",
       "2016-09-01 02:59:59                               -499.764529   \n",
       "2016-09-01 03:59:59                               -499.211024   \n",
       "2016-09-01 04:59:59                               -499.504543   \n",
       "\n",
       "                     primary_cleaner.state.floatbank8_c_air  \\\n",
       "date                                                          \n",
       "2016-09-01 00:59:59                             1400.102998   \n",
       "2016-09-01 01:59:59                             1396.151033   \n",
       "2016-09-01 02:59:59                             1398.075709   \n",
       "2016-09-01 03:59:59                             1400.129303   \n",
       "2016-09-01 04:59:59                             1402.172226   \n",
       "\n",
       "                     primary_cleaner.state.floatbank8_c_level  ...  \\\n",
       "date                                                           ...   \n",
       "2016-09-01 00:59:59                               -500.704369  ...   \n",
       "2016-09-01 01:59:59                               -499.240168  ...   \n",
       "2016-09-01 02:59:59                               -502.151509  ...   \n",
       "2016-09-01 03:59:59                               -498.355873  ...   \n",
       "2016-09-01 04:59:59                               -500.810606  ...   \n",
       "\n",
       "                     secondary_cleaner.state.floatbank4_a_air  \\\n",
       "date                                                            \n",
       "2016-09-01 00:59:59                                 12.023554   \n",
       "2016-09-01 01:59:59                                 12.058140   \n",
       "2016-09-01 02:59:59                                 11.962366   \n",
       "2016-09-01 03:59:59                                 12.033091   \n",
       "2016-09-01 04:59:59                                 12.025367   \n",
       "\n",
       "                     secondary_cleaner.state.floatbank4_a_level  \\\n",
       "date                                                              \n",
       "2016-09-01 00:59:59                                 -497.795834   \n",
       "2016-09-01 01:59:59                                 -498.695773   \n",
       "2016-09-01 02:59:59                                 -498.767484   \n",
       "2016-09-01 03:59:59                                 -498.350935   \n",
       "2016-09-01 04:59:59                                 -500.786497   \n",
       "\n",
       "                     secondary_cleaner.state.floatbank4_b_air  \\\n",
       "date                                                            \n",
       "2016-09-01 00:59:59                                  8.016656   \n",
       "2016-09-01 01:59:59                                  8.130979   \n",
       "2016-09-01 02:59:59                                  8.096893   \n",
       "2016-09-01 03:59:59                                  8.074946   \n",
       "2016-09-01 04:59:59                                  8.054678   \n",
       "\n",
       "                     secondary_cleaner.state.floatbank4_b_level  \\\n",
       "date                                                              \n",
       "2016-09-01 00:59:59                                 -501.289139   \n",
       "2016-09-01 01:59:59                                 -499.634209   \n",
       "2016-09-01 02:59:59                                 -500.827423   \n",
       "2016-09-01 03:59:59                                 -499.474407   \n",
       "2016-09-01 04:59:59                                 -500.397500   \n",
       "\n",
       "                     secondary_cleaner.state.floatbank5_a_air  \\\n",
       "date                                                            \n",
       "2016-09-01 00:59:59                                  7.946562   \n",
       "2016-09-01 01:59:59                                  7.958270   \n",
       "2016-09-01 02:59:59                                  8.071056   \n",
       "2016-09-01 03:59:59                                  7.897085   \n",
       "2016-09-01 04:59:59                                  8.107890   \n",
       "\n",
       "                     secondary_cleaner.state.floatbank5_a_level  \\\n",
       "date                                                              \n",
       "2016-09-01 00:59:59                                 -432.317850   \n",
       "2016-09-01 01:59:59                                 -525.839648   \n",
       "2016-09-01 02:59:59                                 -500.801673   \n",
       "2016-09-01 03:59:59                                 -500.868509   \n",
       "2016-09-01 04:59:59                                 -509.526725   \n",
       "\n",
       "                     secondary_cleaner.state.floatbank5_b_air  \\\n",
       "date                                                            \n",
       "2016-09-01 00:59:59                                  4.872511   \n",
       "2016-09-01 01:59:59                                  4.878850   \n",
       "2016-09-01 02:59:59                                  4.905125   \n",
       "2016-09-01 03:59:59                                  4.931400   \n",
       "2016-09-01 04:59:59                                  4.957674   \n",
       "\n",
       "                     secondary_cleaner.state.floatbank5_b_level  \\\n",
       "date                                                              \n",
       "2016-09-01 00:59:59                                 -500.037437   \n",
       "2016-09-01 01:59:59                                 -500.162375   \n",
       "2016-09-01 02:59:59                                 -499.828510   \n",
       "2016-09-01 03:59:59                                 -499.963623   \n",
       "2016-09-01 04:59:59                                 -500.360026   \n",
       "\n",
       "                     secondary_cleaner.state.floatbank6_a_air  \\\n",
       "date                                                            \n",
       "2016-09-01 00:59:59                                 26.705889   \n",
       "2016-09-01 01:59:59                                 25.019940   \n",
       "2016-09-01 02:59:59                                 24.994862   \n",
       "2016-09-01 03:59:59                                 24.948919   \n",
       "2016-09-01 04:59:59                                 25.003331   \n",
       "\n",
       "                     secondary_cleaner.state.floatbank6_a_level  \n",
       "date                                                             \n",
       "2016-09-01 00:59:59                                 -499.709414  \n",
       "2016-09-01 01:59:59                                 -499.819438  \n",
       "2016-09-01 02:59:59                                 -500.622559  \n",
       "2016-09-01 03:59:59                                 -498.709987  \n",
       "2016-09-01 04:59:59                                 -500.856333  \n",
       "\n",
       "[5 rows x 52 columns]"
      ]
     },
     "metadata": {},
     "output_type": "display_data"
    }
   ],
   "source": [
    "data_test = data_reading('gold_recovery_test_new.csv')"
   ]
  },
  {
   "cell_type": "code",
   "execution_count": 8,
   "metadata": {
    "scrolled": true
   },
   "outputs": [
    {
     "name": "stdout",
     "output_type": "stream",
     "text": [
      "Количество строк: 19439; \n",
      "Количество столбцов: 86 \n",
      "\n",
      "Информация о данных: \n",
      "\n",
      "<class 'pandas.core.frame.DataFrame'>\n",
      "DatetimeIndex: 19439 entries, 2016-01-15 00:00:00 to 2018-08-18 10:59:59\n",
      "Data columns (total 86 columns):\n",
      " #   Column                                              Non-Null Count  Dtype  \n",
      "---  ------                                              --------------  -----  \n",
      " 0   final.output.concentrate_ag                         19438 non-null  float64\n",
      " 1   final.output.concentrate_pb                         19438 non-null  float64\n",
      " 2   final.output.concentrate_sol                        19228 non-null  float64\n",
      " 3   final.output.concentrate_au                         19439 non-null  float64\n",
      " 4   final.output.recovery                               19439 non-null  float64\n",
      " 5   final.output.tail_ag                                19438 non-null  float64\n",
      " 6   final.output.tail_pb                                19338 non-null  float64\n",
      " 7   final.output.tail_sol                               19433 non-null  float64\n",
      " 8   final.output.tail_au                                19439 non-null  float64\n",
      " 9   primary_cleaner.input.sulfate                       19415 non-null  float64\n",
      " 10  primary_cleaner.input.depressant                    19402 non-null  float64\n",
      " 11  primary_cleaner.input.feed_size                     19439 non-null  float64\n",
      " 12  primary_cleaner.input.xanthate                      19335 non-null  float64\n",
      " 13  primary_cleaner.output.concentrate_ag               19439 non-null  float64\n",
      " 14  primary_cleaner.output.concentrate_pb               19323 non-null  float64\n",
      " 15  primary_cleaner.output.concentrate_sol              19069 non-null  float64\n",
      " 16  primary_cleaner.output.concentrate_au               19439 non-null  float64\n",
      " 17  primary_cleaner.output.tail_ag                      19435 non-null  float64\n",
      " 18  primary_cleaner.output.tail_pb                      19418 non-null  float64\n",
      " 19  primary_cleaner.output.tail_sol                     19377 non-null  float64\n",
      " 20  primary_cleaner.output.tail_au                      19439 non-null  float64\n",
      " 21  primary_cleaner.state.floatbank8_a_air              19435 non-null  float64\n",
      " 22  primary_cleaner.state.floatbank8_a_level            19438 non-null  float64\n",
      " 23  primary_cleaner.state.floatbank8_b_air              19435 non-null  float64\n",
      " 24  primary_cleaner.state.floatbank8_b_level            19438 non-null  float64\n",
      " 25  primary_cleaner.state.floatbank8_c_air              19437 non-null  float64\n",
      " 26  primary_cleaner.state.floatbank8_c_level            19438 non-null  float64\n",
      " 27  primary_cleaner.state.floatbank8_d_air              19436 non-null  float64\n",
      " 28  primary_cleaner.state.floatbank8_d_level            19438 non-null  float64\n",
      " 29  rougher.calculation.sulfate_to_au_concentrate       19437 non-null  float64\n",
      " 30  rougher.calculation.floatbank10_sulfate_to_au_feed  19437 non-null  float64\n",
      " 31  rougher.calculation.floatbank11_sulfate_to_au_feed  19437 non-null  float64\n",
      " 32  rougher.calculation.au_pb_ratio                     19439 non-null  float64\n",
      " 33  rougher.input.feed_ag                               19439 non-null  float64\n",
      " 34  rougher.input.feed_pb                               19339 non-null  float64\n",
      " 35  rougher.input.feed_rate                             19428 non-null  float64\n",
      " 36  rougher.input.feed_size                             19294 non-null  float64\n",
      " 37  rougher.input.feed_sol                              19340 non-null  float64\n",
      " 38  rougher.input.feed_au                               19439 non-null  float64\n",
      " 39  rougher.input.floatbank10_sulfate                   19405 non-null  float64\n",
      " 40  rougher.input.floatbank10_xanthate                  19431 non-null  float64\n",
      " 41  rougher.input.floatbank11_sulfate                   19395 non-null  float64\n",
      " 42  rougher.input.floatbank11_xanthate                  18986 non-null  float64\n",
      " 43  rougher.output.concentrate_ag                       19439 non-null  float64\n",
      " 44  rougher.output.concentrate_pb                       19439 non-null  float64\n",
      " 45  rougher.output.concentrate_sol                      19416 non-null  float64\n",
      " 46  rougher.output.concentrate_au                       19439 non-null  float64\n",
      " 47  rougher.output.recovery                             19439 non-null  float64\n",
      " 48  rougher.output.tail_ag                              19438 non-null  float64\n",
      " 49  rougher.output.tail_pb                              19439 non-null  float64\n",
      " 50  rougher.output.tail_sol                             19439 non-null  float64\n",
      " 51  rougher.output.tail_au                              19439 non-null  float64\n",
      " 52  rougher.state.floatbank10_a_air                     19438 non-null  float64\n",
      " 53  rougher.state.floatbank10_a_level                   19438 non-null  float64\n",
      " 54  rougher.state.floatbank10_b_air                     19438 non-null  float64\n",
      " 55  rougher.state.floatbank10_b_level                   19438 non-null  float64\n",
      " 56  rougher.state.floatbank10_c_air                     19438 non-null  float64\n",
      " 57  rougher.state.floatbank10_c_level                   19438 non-null  float64\n",
      " 58  rougher.state.floatbank10_d_air                     19439 non-null  float64\n",
      " 59  rougher.state.floatbank10_d_level                   19439 non-null  float64\n",
      " 60  rougher.state.floatbank10_e_air                     19003 non-null  float64\n",
      " 61  rougher.state.floatbank10_e_level                   19439 non-null  float64\n",
      " 62  rougher.state.floatbank10_f_air                     19439 non-null  float64\n",
      " 63  rougher.state.floatbank10_f_level                   19439 non-null  float64\n",
      " 64  secondary_cleaner.output.tail_ag                    19437 non-null  float64\n",
      " 65  secondary_cleaner.output.tail_pb                    19427 non-null  float64\n",
      " 66  secondary_cleaner.output.tail_sol                   17691 non-null  float64\n",
      " 67  secondary_cleaner.output.tail_au                    19439 non-null  float64\n",
      " 68  secondary_cleaner.state.floatbank2_a_air            19219 non-null  float64\n",
      " 69  secondary_cleaner.state.floatbank2_a_level          19438 non-null  float64\n",
      " 70  secondary_cleaner.state.floatbank2_b_air            19416 non-null  float64\n",
      " 71  secondary_cleaner.state.floatbank2_b_level          19438 non-null  float64\n",
      " 72  secondary_cleaner.state.floatbank3_a_air            19426 non-null  float64\n",
      " 73  secondary_cleaner.state.floatbank3_a_level          19438 non-null  float64\n",
      " 74  secondary_cleaner.state.floatbank3_b_air            19438 non-null  float64\n",
      " 75  secondary_cleaner.state.floatbank3_b_level          19438 non-null  float64\n",
      " 76  secondary_cleaner.state.floatbank4_a_air            19433 non-null  float64\n",
      " 77  secondary_cleaner.state.floatbank4_a_level          19438 non-null  float64\n",
      " 78  secondary_cleaner.state.floatbank4_b_air            19438 non-null  float64\n",
      " 79  secondary_cleaner.state.floatbank4_b_level          19438 non-null  float64\n",
      " 80  secondary_cleaner.state.floatbank5_a_air            19438 non-null  float64\n",
      " 81  secondary_cleaner.state.floatbank5_a_level          19438 non-null  float64\n",
      " 82  secondary_cleaner.state.floatbank5_b_air            19438 non-null  float64\n",
      " 83  secondary_cleaner.state.floatbank5_b_level          19438 non-null  float64\n",
      " 84  secondary_cleaner.state.floatbank6_a_air            19437 non-null  float64\n",
      " 85  secondary_cleaner.state.floatbank6_a_level          19438 non-null  float64\n",
      "dtypes: float64(86)\n",
      "memory usage: 12.9 MB\n",
      "\n",
      "Количество дубликатов: 0 \n",
      "\n",
      "\n",
      "Количество пропусков:\n",
      "final.output.concentrate_ag                     1\n",
      "final.output.concentrate_pb                     1\n",
      "final.output.concentrate_sol                  211\n",
      "final.output.concentrate_au                     0\n",
      "final.output.recovery                           0\n",
      "                                             ... \n",
      "secondary_cleaner.state.floatbank5_a_level      1\n",
      "secondary_cleaner.state.floatbank5_b_air        1\n",
      "secondary_cleaner.state.floatbank5_b_level      1\n",
      "secondary_cleaner.state.floatbank6_a_air        2\n",
      "secondary_cleaner.state.floatbank6_a_level      1\n",
      "Length: 86, dtype: int64 \n",
      "\n",
      "Первые 5 строк датасета: \n",
      "\n"
     ]
    },
    {
     "data": {
      "text/html": [
       "<div>\n",
       "<style scoped>\n",
       "    .dataframe tbody tr th:only-of-type {\n",
       "        vertical-align: middle;\n",
       "    }\n",
       "\n",
       "    .dataframe tbody tr th {\n",
       "        vertical-align: top;\n",
       "    }\n",
       "\n",
       "    .dataframe thead th {\n",
       "        text-align: right;\n",
       "    }\n",
       "</style>\n",
       "<table border=\"1\" class=\"dataframe\">\n",
       "  <thead>\n",
       "    <tr style=\"text-align: right;\">\n",
       "      <th></th>\n",
       "      <th>final.output.concentrate_ag</th>\n",
       "      <th>final.output.concentrate_pb</th>\n",
       "      <th>final.output.concentrate_sol</th>\n",
       "      <th>final.output.concentrate_au</th>\n",
       "      <th>final.output.recovery</th>\n",
       "      <th>final.output.tail_ag</th>\n",
       "      <th>final.output.tail_pb</th>\n",
       "      <th>final.output.tail_sol</th>\n",
       "      <th>final.output.tail_au</th>\n",
       "      <th>primary_cleaner.input.sulfate</th>\n",
       "      <th>...</th>\n",
       "      <th>secondary_cleaner.state.floatbank4_a_air</th>\n",
       "      <th>secondary_cleaner.state.floatbank4_a_level</th>\n",
       "      <th>secondary_cleaner.state.floatbank4_b_air</th>\n",
       "      <th>secondary_cleaner.state.floatbank4_b_level</th>\n",
       "      <th>secondary_cleaner.state.floatbank5_a_air</th>\n",
       "      <th>secondary_cleaner.state.floatbank5_a_level</th>\n",
       "      <th>secondary_cleaner.state.floatbank5_b_air</th>\n",
       "      <th>secondary_cleaner.state.floatbank5_b_level</th>\n",
       "      <th>secondary_cleaner.state.floatbank6_a_air</th>\n",
       "      <th>secondary_cleaner.state.floatbank6_a_level</th>\n",
       "    </tr>\n",
       "    <tr>\n",
       "      <th>date</th>\n",
       "      <th></th>\n",
       "      <th></th>\n",
       "      <th></th>\n",
       "      <th></th>\n",
       "      <th></th>\n",
       "      <th></th>\n",
       "      <th></th>\n",
       "      <th></th>\n",
       "      <th></th>\n",
       "      <th></th>\n",
       "      <th></th>\n",
       "      <th></th>\n",
       "      <th></th>\n",
       "      <th></th>\n",
       "      <th></th>\n",
       "      <th></th>\n",
       "      <th></th>\n",
       "      <th></th>\n",
       "      <th></th>\n",
       "      <th></th>\n",
       "      <th></th>\n",
       "    </tr>\n",
       "  </thead>\n",
       "  <tbody>\n",
       "    <tr>\n",
       "      <th>2016-01-15 00:00:00</th>\n",
       "      <td>6.055403</td>\n",
       "      <td>9.889648</td>\n",
       "      <td>5.507324</td>\n",
       "      <td>42.192020</td>\n",
       "      <td>70.541216</td>\n",
       "      <td>10.411962</td>\n",
       "      <td>0.895447</td>\n",
       "      <td>16.904297</td>\n",
       "      <td>2.143149</td>\n",
       "      <td>127.092003</td>\n",
       "      <td>...</td>\n",
       "      <td>14.016835</td>\n",
       "      <td>-502.488007</td>\n",
       "      <td>12.099931</td>\n",
       "      <td>-504.715942</td>\n",
       "      <td>9.925633</td>\n",
       "      <td>-498.310211</td>\n",
       "      <td>8.079666</td>\n",
       "      <td>-500.470978</td>\n",
       "      <td>14.151341</td>\n",
       "      <td>-605.841980</td>\n",
       "    </tr>\n",
       "    <tr>\n",
       "      <th>2016-01-15 01:00:00</th>\n",
       "      <td>6.029369</td>\n",
       "      <td>9.968944</td>\n",
       "      <td>5.257781</td>\n",
       "      <td>42.701629</td>\n",
       "      <td>69.266198</td>\n",
       "      <td>10.462676</td>\n",
       "      <td>0.927452</td>\n",
       "      <td>16.634514</td>\n",
       "      <td>2.224930</td>\n",
       "      <td>125.629232</td>\n",
       "      <td>...</td>\n",
       "      <td>13.992281</td>\n",
       "      <td>-505.503262</td>\n",
       "      <td>11.950531</td>\n",
       "      <td>-501.331529</td>\n",
       "      <td>10.039245</td>\n",
       "      <td>-500.169983</td>\n",
       "      <td>7.984757</td>\n",
       "      <td>-500.582168</td>\n",
       "      <td>13.998353</td>\n",
       "      <td>-599.787184</td>\n",
       "    </tr>\n",
       "    <tr>\n",
       "      <th>2016-01-15 02:00:00</th>\n",
       "      <td>6.055926</td>\n",
       "      <td>10.213995</td>\n",
       "      <td>5.383759</td>\n",
       "      <td>42.657501</td>\n",
       "      <td>68.116445</td>\n",
       "      <td>10.507046</td>\n",
       "      <td>0.953716</td>\n",
       "      <td>16.208849</td>\n",
       "      <td>2.257889</td>\n",
       "      <td>123.819808</td>\n",
       "      <td>...</td>\n",
       "      <td>14.015015</td>\n",
       "      <td>-502.520901</td>\n",
       "      <td>11.912783</td>\n",
       "      <td>-501.133383</td>\n",
       "      <td>10.070913</td>\n",
       "      <td>-500.129135</td>\n",
       "      <td>8.013877</td>\n",
       "      <td>-500.517572</td>\n",
       "      <td>14.028663</td>\n",
       "      <td>-601.427363</td>\n",
       "    </tr>\n",
       "    <tr>\n",
       "      <th>2016-01-15 03:00:00</th>\n",
       "      <td>6.047977</td>\n",
       "      <td>9.977019</td>\n",
       "      <td>4.858634</td>\n",
       "      <td>42.689819</td>\n",
       "      <td>68.347543</td>\n",
       "      <td>10.422762</td>\n",
       "      <td>0.883763</td>\n",
       "      <td>16.532835</td>\n",
       "      <td>2.146849</td>\n",
       "      <td>122.270188</td>\n",
       "      <td>...</td>\n",
       "      <td>14.036510</td>\n",
       "      <td>-500.857308</td>\n",
       "      <td>11.999550</td>\n",
       "      <td>-501.193686</td>\n",
       "      <td>9.970366</td>\n",
       "      <td>-499.201640</td>\n",
       "      <td>7.977324</td>\n",
       "      <td>-500.255908</td>\n",
       "      <td>14.005551</td>\n",
       "      <td>-599.996129</td>\n",
       "    </tr>\n",
       "    <tr>\n",
       "      <th>2016-01-15 04:00:00</th>\n",
       "      <td>6.148599</td>\n",
       "      <td>10.142511</td>\n",
       "      <td>4.939416</td>\n",
       "      <td>42.774141</td>\n",
       "      <td>66.927016</td>\n",
       "      <td>10.360302</td>\n",
       "      <td>0.792826</td>\n",
       "      <td>16.525686</td>\n",
       "      <td>2.055292</td>\n",
       "      <td>117.988169</td>\n",
       "      <td>...</td>\n",
       "      <td>14.027298</td>\n",
       "      <td>-499.838632</td>\n",
       "      <td>11.953070</td>\n",
       "      <td>-501.053894</td>\n",
       "      <td>9.925709</td>\n",
       "      <td>-501.686727</td>\n",
       "      <td>7.894242</td>\n",
       "      <td>-500.356035</td>\n",
       "      <td>13.996647</td>\n",
       "      <td>-601.496691</td>\n",
       "    </tr>\n",
       "  </tbody>\n",
       "</table>\n",
       "<p>5 rows × 86 columns</p>\n",
       "</div>"
      ],
      "text/plain": [
       "                     final.output.concentrate_ag  final.output.concentrate_pb  \\\n",
       "date                                                                            \n",
       "2016-01-15 00:00:00                     6.055403                     9.889648   \n",
       "2016-01-15 01:00:00                     6.029369                     9.968944   \n",
       "2016-01-15 02:00:00                     6.055926                    10.213995   \n",
       "2016-01-15 03:00:00                     6.047977                     9.977019   \n",
       "2016-01-15 04:00:00                     6.148599                    10.142511   \n",
       "\n",
       "                     final.output.concentrate_sol  \\\n",
       "date                                                \n",
       "2016-01-15 00:00:00                      5.507324   \n",
       "2016-01-15 01:00:00                      5.257781   \n",
       "2016-01-15 02:00:00                      5.383759   \n",
       "2016-01-15 03:00:00                      4.858634   \n",
       "2016-01-15 04:00:00                      4.939416   \n",
       "\n",
       "                     final.output.concentrate_au  final.output.recovery  \\\n",
       "date                                                                      \n",
       "2016-01-15 00:00:00                    42.192020              70.541216   \n",
       "2016-01-15 01:00:00                    42.701629              69.266198   \n",
       "2016-01-15 02:00:00                    42.657501              68.116445   \n",
       "2016-01-15 03:00:00                    42.689819              68.347543   \n",
       "2016-01-15 04:00:00                    42.774141              66.927016   \n",
       "\n",
       "                     final.output.tail_ag  final.output.tail_pb  \\\n",
       "date                                                              \n",
       "2016-01-15 00:00:00             10.411962              0.895447   \n",
       "2016-01-15 01:00:00             10.462676              0.927452   \n",
       "2016-01-15 02:00:00             10.507046              0.953716   \n",
       "2016-01-15 03:00:00             10.422762              0.883763   \n",
       "2016-01-15 04:00:00             10.360302              0.792826   \n",
       "\n",
       "                     final.output.tail_sol  final.output.tail_au  \\\n",
       "date                                                               \n",
       "2016-01-15 00:00:00              16.904297              2.143149   \n",
       "2016-01-15 01:00:00              16.634514              2.224930   \n",
       "2016-01-15 02:00:00              16.208849              2.257889   \n",
       "2016-01-15 03:00:00              16.532835              2.146849   \n",
       "2016-01-15 04:00:00              16.525686              2.055292   \n",
       "\n",
       "                     primary_cleaner.input.sulfate  ...  \\\n",
       "date                                                ...   \n",
       "2016-01-15 00:00:00                     127.092003  ...   \n",
       "2016-01-15 01:00:00                     125.629232  ...   \n",
       "2016-01-15 02:00:00                     123.819808  ...   \n",
       "2016-01-15 03:00:00                     122.270188  ...   \n",
       "2016-01-15 04:00:00                     117.988169  ...   \n",
       "\n",
       "                     secondary_cleaner.state.floatbank4_a_air  \\\n",
       "date                                                            \n",
       "2016-01-15 00:00:00                                 14.016835   \n",
       "2016-01-15 01:00:00                                 13.992281   \n",
       "2016-01-15 02:00:00                                 14.015015   \n",
       "2016-01-15 03:00:00                                 14.036510   \n",
       "2016-01-15 04:00:00                                 14.027298   \n",
       "\n",
       "                     secondary_cleaner.state.floatbank4_a_level  \\\n",
       "date                                                              \n",
       "2016-01-15 00:00:00                                 -502.488007   \n",
       "2016-01-15 01:00:00                                 -505.503262   \n",
       "2016-01-15 02:00:00                                 -502.520901   \n",
       "2016-01-15 03:00:00                                 -500.857308   \n",
       "2016-01-15 04:00:00                                 -499.838632   \n",
       "\n",
       "                     secondary_cleaner.state.floatbank4_b_air  \\\n",
       "date                                                            \n",
       "2016-01-15 00:00:00                                 12.099931   \n",
       "2016-01-15 01:00:00                                 11.950531   \n",
       "2016-01-15 02:00:00                                 11.912783   \n",
       "2016-01-15 03:00:00                                 11.999550   \n",
       "2016-01-15 04:00:00                                 11.953070   \n",
       "\n",
       "                     secondary_cleaner.state.floatbank4_b_level  \\\n",
       "date                                                              \n",
       "2016-01-15 00:00:00                                 -504.715942   \n",
       "2016-01-15 01:00:00                                 -501.331529   \n",
       "2016-01-15 02:00:00                                 -501.133383   \n",
       "2016-01-15 03:00:00                                 -501.193686   \n",
       "2016-01-15 04:00:00                                 -501.053894   \n",
       "\n",
       "                     secondary_cleaner.state.floatbank5_a_air  \\\n",
       "date                                                            \n",
       "2016-01-15 00:00:00                                  9.925633   \n",
       "2016-01-15 01:00:00                                 10.039245   \n",
       "2016-01-15 02:00:00                                 10.070913   \n",
       "2016-01-15 03:00:00                                  9.970366   \n",
       "2016-01-15 04:00:00                                  9.925709   \n",
       "\n",
       "                     secondary_cleaner.state.floatbank5_a_level  \\\n",
       "date                                                              \n",
       "2016-01-15 00:00:00                                 -498.310211   \n",
       "2016-01-15 01:00:00                                 -500.169983   \n",
       "2016-01-15 02:00:00                                 -500.129135   \n",
       "2016-01-15 03:00:00                                 -499.201640   \n",
       "2016-01-15 04:00:00                                 -501.686727   \n",
       "\n",
       "                     secondary_cleaner.state.floatbank5_b_air  \\\n",
       "date                                                            \n",
       "2016-01-15 00:00:00                                  8.079666   \n",
       "2016-01-15 01:00:00                                  7.984757   \n",
       "2016-01-15 02:00:00                                  8.013877   \n",
       "2016-01-15 03:00:00                                  7.977324   \n",
       "2016-01-15 04:00:00                                  7.894242   \n",
       "\n",
       "                     secondary_cleaner.state.floatbank5_b_level  \\\n",
       "date                                                              \n",
       "2016-01-15 00:00:00                                 -500.470978   \n",
       "2016-01-15 01:00:00                                 -500.582168   \n",
       "2016-01-15 02:00:00                                 -500.517572   \n",
       "2016-01-15 03:00:00                                 -500.255908   \n",
       "2016-01-15 04:00:00                                 -500.356035   \n",
       "\n",
       "                     secondary_cleaner.state.floatbank6_a_air  \\\n",
       "date                                                            \n",
       "2016-01-15 00:00:00                                 14.151341   \n",
       "2016-01-15 01:00:00                                 13.998353   \n",
       "2016-01-15 02:00:00                                 14.028663   \n",
       "2016-01-15 03:00:00                                 14.005551   \n",
       "2016-01-15 04:00:00                                 13.996647   \n",
       "\n",
       "                     secondary_cleaner.state.floatbank6_a_level  \n",
       "date                                                             \n",
       "2016-01-15 00:00:00                                 -605.841980  \n",
       "2016-01-15 01:00:00                                 -599.787184  \n",
       "2016-01-15 02:00:00                                 -601.427363  \n",
       "2016-01-15 03:00:00                                 -599.996129  \n",
       "2016-01-15 04:00:00                                 -601.496691  \n",
       "\n",
       "[5 rows x 86 columns]"
      ]
     },
     "metadata": {},
     "output_type": "display_data"
    }
   ],
   "source": [
    "data_full = data_reading('gold_recovery_full_new.csv')"
   ]
  },
  {
   "cell_type": "markdown",
   "metadata": {},
   "source": [
    "P.S. В качестве индекса удобно выбрать столбец **date**. Соответсвующее действие отметил в функции (присвоил значение по умолчанию) "
   ]
  },
  {
   "cell_type": "markdown",
   "metadata": {},
   "source": [
    "Имеются пропуски в каждом датасете (до 10 %). Анализом этих пропусков займемся позже"
   ]
  },
  {
   "cell_type": "markdown",
   "metadata": {},
   "source": [
    "### Проверьте, что эффективность обогащения рассчитана правильно."
   ]
  },
  {
   "cell_type": "code",
   "execution_count": 9,
   "metadata": {},
   "outputs": [],
   "source": [
    "def recovery_calculaction(C, F, T):\n",
    "    return (C * (F - T) / (F * ( C - T))) * 100"
   ]
  },
  {
   "cell_type": "code",
   "execution_count": 10,
   "metadata": {},
   "outputs": [
    {
     "data": {
      "text/plain": [
       "9.73512347450521e-15"
      ]
     },
     "execution_count": 10,
     "metadata": {},
     "output_type": "execute_result"
    }
   ],
   "source": [
    "# Результаты можно проверить на необработанном датасете. \n",
    "# Если мы исключим пропуски на этом этапе (если требуется), то результат проверки критически не изменится\n",
    "\n",
    "MAE(data_train['rougher.output.recovery'],\n",
    "   recovery_calculaction(data_train['rougher.output.concentrate_au'], \n",
    "             data_train['rougher.input.feed_au'],\n",
    "             data_train['rougher.output.tail_au']))\n"
   ]
  },
  {
   "cell_type": "markdown",
   "metadata": {},
   "source": [
    "Результат получился близким к 0, следовательно ошибки в данных нет"
   ]
  },
  {
   "cell_type": "markdown",
   "metadata": {},
   "source": [
    "### Проанализируйте признаки, недоступные в тестовой выборке. Что это за параметры? К какому типу относятся?"
   ]
  },
  {
   "cell_type": "code",
   "execution_count": 11,
   "metadata": {
    "scrolled": true
   },
   "outputs": [
    {
     "name": "stdout",
     "output_type": "stream",
     "text": [
      "Список столбцов отсутствующих в тестовой выборке:\n",
      "\n"
     ]
    },
    {
     "data": {
      "text/plain": [
       "{'final.output.concentrate_ag',\n",
       " 'final.output.concentrate_au',\n",
       " 'final.output.concentrate_pb',\n",
       " 'final.output.concentrate_sol',\n",
       " 'final.output.recovery',\n",
       " 'final.output.tail_ag',\n",
       " 'final.output.tail_au',\n",
       " 'final.output.tail_pb',\n",
       " 'final.output.tail_sol',\n",
       " 'primary_cleaner.output.concentrate_ag',\n",
       " 'primary_cleaner.output.concentrate_au',\n",
       " 'primary_cleaner.output.concentrate_pb',\n",
       " 'primary_cleaner.output.concentrate_sol',\n",
       " 'primary_cleaner.output.tail_ag',\n",
       " 'primary_cleaner.output.tail_au',\n",
       " 'primary_cleaner.output.tail_pb',\n",
       " 'primary_cleaner.output.tail_sol',\n",
       " 'rougher.calculation.au_pb_ratio',\n",
       " 'rougher.calculation.floatbank10_sulfate_to_au_feed',\n",
       " 'rougher.calculation.floatbank11_sulfate_to_au_feed',\n",
       " 'rougher.calculation.sulfate_to_au_concentrate',\n",
       " 'rougher.output.concentrate_ag',\n",
       " 'rougher.output.concentrate_au',\n",
       " 'rougher.output.concentrate_pb',\n",
       " 'rougher.output.concentrate_sol',\n",
       " 'rougher.output.recovery',\n",
       " 'rougher.output.tail_ag',\n",
       " 'rougher.output.tail_au',\n",
       " 'rougher.output.tail_pb',\n",
       " 'rougher.output.tail_sol',\n",
       " 'secondary_cleaner.output.tail_ag',\n",
       " 'secondary_cleaner.output.tail_au',\n",
       " 'secondary_cleaner.output.tail_pb',\n",
       " 'secondary_cleaner.output.tail_sol'}"
      ]
     },
     "execution_count": 11,
     "metadata": {},
     "output_type": "execute_result"
    }
   ],
   "source": [
    "# Выведем столбцы, которые присутствуют в тренировочных данных и отсутствуют в тестовых\n",
    "\n",
    "print('Список столбцов отсутствующих в тестовой выборке:\\n')\n",
    "set(data_train.columns) - set(data_test.columns)"
   ]
  },
  {
   "cell_type": "code",
   "execution_count": 12,
   "metadata": {
    "scrolled": true
   },
   "outputs": [
    {
     "name": "stdout",
     "output_type": "stream",
     "text": [
      "Типы данных отсутсвующих в тестовой выборке:\n",
      "\n"
     ]
    },
    {
     "data": {
      "text/plain": [
       "final.output.tail_sol                                 float64\n",
       "final.output.tail_pb                                  float64\n",
       "primary_cleaner.output.tail_sol                       float64\n",
       "primary_cleaner.output.concentrate_pb                 float64\n",
       "rougher.output.tail_ag                                float64\n",
       "secondary_cleaner.output.tail_pb                      float64\n",
       "rougher.output.concentrate_pb                         float64\n",
       "rougher.output.tail_au                                float64\n",
       "rougher.output.concentrate_sol                        float64\n",
       "secondary_cleaner.output.tail_au                      float64\n",
       "secondary_cleaner.output.tail_ag                      float64\n",
       "final.output.concentrate_au                           float64\n",
       "rougher.calculation.floatbank11_sulfate_to_au_feed    float64\n",
       "primary_cleaner.output.concentrate_ag                 float64\n",
       "rougher.calculation.sulfate_to_au_concentrate         float64\n",
       "final.output.tail_au                                  float64\n",
       "final.output.tail_ag                                  float64\n",
       "rougher.output.concentrate_ag                         float64\n",
       "rougher.output.recovery                               float64\n",
       "rougher.calculation.au_pb_ratio                       float64\n",
       "primary_cleaner.output.concentrate_sol                float64\n",
       "rougher.calculation.floatbank10_sulfate_to_au_feed    float64\n",
       "final.output.concentrate_sol                          float64\n",
       "rougher.output.concentrate_au                         float64\n",
       "final.output.concentrate_pb                           float64\n",
       "primary_cleaner.output.tail_ag                        float64\n",
       "primary_cleaner.output.tail_pb                        float64\n",
       "primary_cleaner.output.tail_au                        float64\n",
       "rougher.output.tail_pb                                float64\n",
       "primary_cleaner.output.concentrate_au                 float64\n",
       "secondary_cleaner.output.tail_sol                     float64\n",
       "rougher.output.tail_sol                               float64\n",
       "final.output.recovery                                 float64\n",
       "final.output.concentrate_ag                           float64\n",
       "dtype: object"
      ]
     },
     "execution_count": 12,
     "metadata": {},
     "output_type": "execute_result"
    }
   ],
   "source": [
    "print('Типы данных отсутсвующих в тестовой выборке:\\n')\n",
    "data_train[list(set(data_train.columns) - set(data_test.columns))].dtypes"
   ]
  },
  {
   "cell_type": "markdown",
   "metadata": {},
   "source": [
    "Эти данные отсутсвуют в тестовой, а следовательно, обучить модель нужно только по признакам, которые присутствуют только в тестовых данных. Удалим данные из тренировочной выборки"
   ]
  },
  {
   "cell_type": "code",
   "execution_count": 13,
   "metadata": {},
   "outputs": [],
   "source": [
    "# Помним, что в обучающей модели должны присутствовать целевые признаки\n",
    "# Столбцы recovery - целевой признак, поэтому добавим их в обновленный data_train\n",
    "data_train = data_train.drop((list(set(data_train.columns) - set(data_test.columns) - set(data_train[['rougher.output.recovery', 'final.output.recovery']]))), axis = 1)"
   ]
  },
  {
   "cell_type": "markdown",
   "metadata": {},
   "source": [
    "- в тестовой выборке отсутствуют выходные параметры продукта **output** - эти данные появляются или во время, или после измерения целевых признаков\n",
    "\n",
    "-  в тестовой выборке отсутствуют расчётные признаки на этапе флотации **rougher.calculation** \n",
    "\n",
    "Данные признаки не будут участвовать в построении модели."
   ]
  },
  {
   "cell_type": "markdown",
   "metadata": {},
   "source": [
    "### Проведите предобработку данных."
   ]
  },
  {
   "cell_type": "code",
   "execution_count": 14,
   "metadata": {
    "scrolled": true
   },
   "outputs": [
    {
     "name": "stdout",
     "output_type": "stream",
     "text": [
      "Пропуски в следующих столбцах:\n",
      "final.output.recovery                           0\n",
      "primary_cleaner.input.sulfate                  20\n",
      "primary_cleaner.input.depressant               32\n",
      "primary_cleaner.input.feed_size                 0\n",
      "primary_cleaner.input.xanthate                100\n",
      "primary_cleaner.state.floatbank8_a_air          4\n",
      "primary_cleaner.state.floatbank8_a_level        1\n",
      "primary_cleaner.state.floatbank8_b_air          4\n",
      "primary_cleaner.state.floatbank8_b_level        1\n",
      "primary_cleaner.state.floatbank8_c_air          2\n",
      "primary_cleaner.state.floatbank8_c_level        1\n",
      "primary_cleaner.state.floatbank8_d_air          3\n",
      "primary_cleaner.state.floatbank8_d_level        1\n",
      "rougher.input.feed_ag                           0\n",
      "rougher.input.feed_pb                         100\n",
      "rougher.input.feed_rate                         8\n",
      "rougher.input.feed_size                       144\n",
      "rougher.input.feed_sol                         78\n",
      "rougher.input.feed_au                           0\n",
      "rougher.input.floatbank10_sulfate              29\n",
      "rougher.input.floatbank10_xanthate              8\n",
      "rougher.input.floatbank11_sulfate              36\n",
      "rougher.input.floatbank11_xanthate            428\n",
      "rougher.output.recovery                         0\n",
      "rougher.state.floatbank10_a_air                 1\n",
      "rougher.state.floatbank10_a_level               1\n",
      "rougher.state.floatbank10_b_air                 1\n",
      "rougher.state.floatbank10_b_level               1\n",
      "rougher.state.floatbank10_c_air                 1\n",
      "rougher.state.floatbank10_c_level               1\n",
      "rougher.state.floatbank10_d_air                 0\n",
      "rougher.state.floatbank10_d_level               0\n",
      "rougher.state.floatbank10_e_air               436\n",
      "rougher.state.floatbank10_e_level               0\n",
      "rougher.state.floatbank10_f_air                 0\n",
      "rougher.state.floatbank10_f_level               0\n",
      "secondary_cleaner.state.floatbank2_a_air      217\n",
      "secondary_cleaner.state.floatbank2_a_level      1\n",
      "secondary_cleaner.state.floatbank2_b_air       21\n",
      "secondary_cleaner.state.floatbank2_b_level      1\n",
      "secondary_cleaner.state.floatbank3_a_air        4\n",
      "secondary_cleaner.state.floatbank3_a_level      1\n",
      "secondary_cleaner.state.floatbank3_b_air        1\n",
      "secondary_cleaner.state.floatbank3_b_level      1\n",
      "secondary_cleaner.state.floatbank4_a_air        6\n",
      "secondary_cleaner.state.floatbank4_a_level      1\n",
      "secondary_cleaner.state.floatbank4_b_air        1\n",
      "secondary_cleaner.state.floatbank4_b_level      1\n",
      "secondary_cleaner.state.floatbank5_a_air        1\n",
      "secondary_cleaner.state.floatbank5_a_level      1\n",
      "secondary_cleaner.state.floatbank5_b_air        1\n",
      "secondary_cleaner.state.floatbank5_b_level      1\n",
      "secondary_cleaner.state.floatbank6_a_air        2\n",
      "secondary_cleaner.state.floatbank6_a_level      1\n",
      "dtype: int64\n",
      "\n",
      "Пропуски в следующих столбцах после заполнения данных:\n",
      "final.output.recovery                         0\n",
      "primary_cleaner.input.sulfate                 0\n",
      "primary_cleaner.input.depressant              0\n",
      "primary_cleaner.input.feed_size               0\n",
      "primary_cleaner.input.xanthate                0\n",
      "primary_cleaner.state.floatbank8_a_air        0\n",
      "primary_cleaner.state.floatbank8_a_level      0\n",
      "primary_cleaner.state.floatbank8_b_air        0\n",
      "primary_cleaner.state.floatbank8_b_level      0\n",
      "primary_cleaner.state.floatbank8_c_air        0\n",
      "primary_cleaner.state.floatbank8_c_level      0\n",
      "primary_cleaner.state.floatbank8_d_air        0\n",
      "primary_cleaner.state.floatbank8_d_level      0\n",
      "rougher.input.feed_ag                         0\n",
      "rougher.input.feed_pb                         0\n",
      "rougher.input.feed_rate                       0\n",
      "rougher.input.feed_size                       0\n",
      "rougher.input.feed_sol                        0\n",
      "rougher.input.feed_au                         0\n",
      "rougher.input.floatbank10_sulfate             0\n",
      "rougher.input.floatbank10_xanthate            0\n",
      "rougher.input.floatbank11_sulfate             0\n",
      "rougher.input.floatbank11_xanthate            0\n",
      "rougher.output.recovery                       0\n",
      "rougher.state.floatbank10_a_air               0\n",
      "rougher.state.floatbank10_a_level             0\n",
      "rougher.state.floatbank10_b_air               0\n",
      "rougher.state.floatbank10_b_level             0\n",
      "rougher.state.floatbank10_c_air               0\n",
      "rougher.state.floatbank10_c_level             0\n",
      "rougher.state.floatbank10_d_air               0\n",
      "rougher.state.floatbank10_d_level             0\n",
      "rougher.state.floatbank10_e_air               0\n",
      "rougher.state.floatbank10_e_level             0\n",
      "rougher.state.floatbank10_f_air               0\n",
      "rougher.state.floatbank10_f_level             0\n",
      "secondary_cleaner.state.floatbank2_a_air      0\n",
      "secondary_cleaner.state.floatbank2_a_level    0\n",
      "secondary_cleaner.state.floatbank2_b_air      0\n",
      "secondary_cleaner.state.floatbank2_b_level    0\n",
      "secondary_cleaner.state.floatbank3_a_air      0\n",
      "secondary_cleaner.state.floatbank3_a_level    0\n",
      "secondary_cleaner.state.floatbank3_b_air      0\n",
      "secondary_cleaner.state.floatbank3_b_level    0\n",
      "secondary_cleaner.state.floatbank4_a_air      0\n",
      "secondary_cleaner.state.floatbank4_a_level    0\n",
      "secondary_cleaner.state.floatbank4_b_air      0\n",
      "secondary_cleaner.state.floatbank4_b_level    0\n",
      "secondary_cleaner.state.floatbank5_a_air      0\n",
      "secondary_cleaner.state.floatbank5_a_level    0\n",
      "secondary_cleaner.state.floatbank5_b_air      0\n",
      "secondary_cleaner.state.floatbank5_b_level    0\n",
      "secondary_cleaner.state.floatbank6_a_air      0\n",
      "secondary_cleaner.state.floatbank6_a_level    0\n",
      "dtype: int64\n"
     ]
    }
   ],
   "source": [
    "# Для данных обучающей выборки \n",
    "\n",
    "print(f'Пропуски в следующих столбцах:\\n\\\n",
    "{data_train.isna().sum()}')\n",
    "\n",
    "print('')\n",
    "\n",
    "# Заметим, что данные в тсолбцах не сильно отличаются с течением времени,\n",
    "# Поэтому пропуски можно заполнить значениями, близкими соседним известным значениям (здесь - с помощью линейной интерполяции)\n",
    "\n",
    "data_train = data_train.interpolate(method ='linear', axis = 0)\n",
    "\n",
    "print(f'Пропуски в следующих столбцах после заполнения данных:\\n\\\n",
    "{data_train.isna().sum()}')"
   ]
  },
  {
   "cell_type": "code",
   "execution_count": 15,
   "metadata": {
    "scrolled": true
   },
   "outputs": [
    {
     "name": "stdout",
     "output_type": "stream",
     "text": [
      "Пропуски в следующих столбцах:\n",
      "primary_cleaner.input.sulfate                  4\n",
      "primary_cleaner.input.depressant               5\n",
      "primary_cleaner.input.feed_size                0\n",
      "primary_cleaner.input.xanthate                 4\n",
      "primary_cleaner.state.floatbank8_a_air         0\n",
      "primary_cleaner.state.floatbank8_a_level       0\n",
      "primary_cleaner.state.floatbank8_b_air         0\n",
      "primary_cleaner.state.floatbank8_b_level       0\n",
      "primary_cleaner.state.floatbank8_c_air         0\n",
      "primary_cleaner.state.floatbank8_c_level       0\n",
      "primary_cleaner.state.floatbank8_d_air         0\n",
      "primary_cleaner.state.floatbank8_d_level       0\n",
      "rougher.input.feed_ag                          0\n",
      "rougher.input.feed_pb                          0\n",
      "rougher.input.feed_rate                        3\n",
      "rougher.input.feed_size                        1\n",
      "rougher.input.feed_sol                        21\n",
      "rougher.input.feed_au                          0\n",
      "rougher.input.floatbank10_sulfate              5\n",
      "rougher.input.floatbank10_xanthate             0\n",
      "rougher.input.floatbank11_sulfate              8\n",
      "rougher.input.floatbank11_xanthate            25\n",
      "rougher.state.floatbank10_a_air                0\n",
      "rougher.state.floatbank10_a_level              0\n",
      "rougher.state.floatbank10_b_air                0\n",
      "rougher.state.floatbank10_b_level              0\n",
      "rougher.state.floatbank10_c_air                0\n",
      "rougher.state.floatbank10_c_level              0\n",
      "rougher.state.floatbank10_d_air                0\n",
      "rougher.state.floatbank10_d_level              0\n",
      "rougher.state.floatbank10_e_air                0\n",
      "rougher.state.floatbank10_e_level              0\n",
      "rougher.state.floatbank10_f_air                0\n",
      "rougher.state.floatbank10_f_level              0\n",
      "secondary_cleaner.state.floatbank2_a_air       3\n",
      "secondary_cleaner.state.floatbank2_a_level     0\n",
      "secondary_cleaner.state.floatbank2_b_air       2\n",
      "secondary_cleaner.state.floatbank2_b_level     0\n",
      "secondary_cleaner.state.floatbank3_a_air       9\n",
      "secondary_cleaner.state.floatbank3_a_level     0\n",
      "secondary_cleaner.state.floatbank3_b_air       0\n",
      "secondary_cleaner.state.floatbank3_b_level     0\n",
      "secondary_cleaner.state.floatbank4_a_air       0\n",
      "secondary_cleaner.state.floatbank4_a_level     0\n",
      "secondary_cleaner.state.floatbank4_b_air       0\n",
      "secondary_cleaner.state.floatbank4_b_level     0\n",
      "secondary_cleaner.state.floatbank5_a_air       0\n",
      "secondary_cleaner.state.floatbank5_a_level     0\n",
      "secondary_cleaner.state.floatbank5_b_air       0\n",
      "secondary_cleaner.state.floatbank5_b_level     0\n",
      "secondary_cleaner.state.floatbank6_a_air       0\n",
      "secondary_cleaner.state.floatbank6_a_level     0\n",
      "dtype: int64\n",
      "\n",
      "Пропуски в следующих столбцах после заполнения данных:\n",
      "primary_cleaner.input.sulfate                 0\n",
      "primary_cleaner.input.depressant              0\n",
      "primary_cleaner.input.feed_size               0\n",
      "primary_cleaner.input.xanthate                0\n",
      "primary_cleaner.state.floatbank8_a_air        0\n",
      "primary_cleaner.state.floatbank8_a_level      0\n",
      "primary_cleaner.state.floatbank8_b_air        0\n",
      "primary_cleaner.state.floatbank8_b_level      0\n",
      "primary_cleaner.state.floatbank8_c_air        0\n",
      "primary_cleaner.state.floatbank8_c_level      0\n",
      "primary_cleaner.state.floatbank8_d_air        0\n",
      "primary_cleaner.state.floatbank8_d_level      0\n",
      "rougher.input.feed_ag                         0\n",
      "rougher.input.feed_pb                         0\n",
      "rougher.input.feed_rate                       0\n",
      "rougher.input.feed_size                       0\n",
      "rougher.input.feed_sol                        0\n",
      "rougher.input.feed_au                         0\n",
      "rougher.input.floatbank10_sulfate             0\n",
      "rougher.input.floatbank10_xanthate            0\n",
      "rougher.input.floatbank11_sulfate             0\n",
      "rougher.input.floatbank11_xanthate            0\n",
      "rougher.state.floatbank10_a_air               0\n",
      "rougher.state.floatbank10_a_level             0\n",
      "rougher.state.floatbank10_b_air               0\n",
      "rougher.state.floatbank10_b_level             0\n",
      "rougher.state.floatbank10_c_air               0\n",
      "rougher.state.floatbank10_c_level             0\n",
      "rougher.state.floatbank10_d_air               0\n",
      "rougher.state.floatbank10_d_level             0\n",
      "rougher.state.floatbank10_e_air               0\n",
      "rougher.state.floatbank10_e_level             0\n",
      "rougher.state.floatbank10_f_air               0\n",
      "rougher.state.floatbank10_f_level             0\n",
      "secondary_cleaner.state.floatbank2_a_air      0\n",
      "secondary_cleaner.state.floatbank2_a_level    0\n",
      "secondary_cleaner.state.floatbank2_b_air      0\n",
      "secondary_cleaner.state.floatbank2_b_level    0\n",
      "secondary_cleaner.state.floatbank3_a_air      0\n",
      "secondary_cleaner.state.floatbank3_a_level    0\n",
      "secondary_cleaner.state.floatbank3_b_air      0\n",
      "secondary_cleaner.state.floatbank3_b_level    0\n",
      "secondary_cleaner.state.floatbank4_a_air      0\n",
      "secondary_cleaner.state.floatbank4_a_level    0\n",
      "secondary_cleaner.state.floatbank4_b_air      0\n",
      "secondary_cleaner.state.floatbank4_b_level    0\n",
      "secondary_cleaner.state.floatbank5_a_air      0\n",
      "secondary_cleaner.state.floatbank5_a_level    0\n",
      "secondary_cleaner.state.floatbank5_b_air      0\n",
      "secondary_cleaner.state.floatbank5_b_level    0\n",
      "secondary_cleaner.state.floatbank6_a_air      0\n",
      "secondary_cleaner.state.floatbank6_a_level    0\n",
      "dtype: int64\n"
     ]
    }
   ],
   "source": [
    "# Для данных тестовой выборки \n",
    "\n",
    "print(f'Пропуски в следующих столбцах:\\n\\\n",
    "{data_test.isna().sum()}')\n",
    "\n",
    "print('')\n",
    "\n",
    "# Заметим, что данные в тсолбцах не сильно отличаются с течением времени,\n",
    "# Поэтому пропуски можно заполнить значениями, близкими соседним известным значениям (здесь - с помощью линейной интерполяции)\n",
    "\n",
    "data_test = data_test.interpolate(method ='linear', axis = 0)\n",
    "\n",
    "print(f'Пропуски в следующих столбцах после заполнения данных:\\n\\\n",
    "{data_test.isna().sum()}')"
   ]
  },
  {
   "cell_type": "code",
   "execution_count": 16,
   "metadata": {
    "scrolled": true
   },
   "outputs": [
    {
     "name": "stdout",
     "output_type": "stream",
     "text": [
      "Пропуски в следующих столбцах:\n",
      "final.output.concentrate_ag                     1\n",
      "final.output.concentrate_pb                     1\n",
      "final.output.concentrate_sol                  211\n",
      "final.output.concentrate_au                     0\n",
      "final.output.recovery                           0\n",
      "                                             ... \n",
      "secondary_cleaner.state.floatbank5_a_level      1\n",
      "secondary_cleaner.state.floatbank5_b_air        1\n",
      "secondary_cleaner.state.floatbank5_b_level      1\n",
      "secondary_cleaner.state.floatbank6_a_air        2\n",
      "secondary_cleaner.state.floatbank6_a_level      1\n",
      "Length: 86, dtype: int64\n",
      "\n",
      "Пропуски в следующих столбцах после заполнения данных:\n",
      "final.output.concentrate_ag                   0\n",
      "final.output.concentrate_pb                   0\n",
      "final.output.concentrate_sol                  0\n",
      "final.output.concentrate_au                   0\n",
      "final.output.recovery                         0\n",
      "                                             ..\n",
      "secondary_cleaner.state.floatbank5_a_level    0\n",
      "secondary_cleaner.state.floatbank5_b_air      0\n",
      "secondary_cleaner.state.floatbank5_b_level    0\n",
      "secondary_cleaner.state.floatbank6_a_air      0\n",
      "secondary_cleaner.state.floatbank6_a_level    0\n",
      "Length: 86, dtype: int64\n"
     ]
    }
   ],
   "source": [
    "# Для данных полной выборки \n",
    "\n",
    "print(f'Пропуски в следующих столбцах:\\n\\\n",
    "{data_full.isna().sum()}')\n",
    "\n",
    "print('')\n",
    "\n",
    "# Заметим, что данные в столбцах не сильно отличаются с течением времени,\n",
    "# Поэтому пропуски можно заполнить значениями, близкими соседним известным значениям (здесь - с помощью линейной интерполяции)\n",
    "\n",
    "data_full_interpolate = data_full.interpolate(method ='linear', axis = 0)\n",
    "\n",
    "print(f'Пропуски в следующих столбцах после заполнения данных:\\n\\\n",
    "{data_full_interpolate.isna().sum()}')"
   ]
  },
  {
   "cell_type": "markdown",
   "metadata": {},
   "source": [
    "## Анализ данных"
   ]
  },
  {
   "cell_type": "markdown",
   "metadata": {},
   "source": [
    "### Посмотрите, как меняется концентрация металлов (Au, Ag, Pb) на различных этапах очистки"
   ]
  },
  {
   "cell_type": "code",
   "execution_count": 17,
   "metadata": {
    "scrolled": false
   },
   "outputs": [
    {
     "data": {
      "image/png": "[encoded data removed]",
      "text/plain": [
       "<Figure size 1500x1000 with 2 Axes>"
      ]
     },
     "metadata": {},
     "output_type": "display_data"
    }
   ],
   "source": [
    "# Для золота\n",
    "\n",
    "au_cycle = data_full_interpolate[['rougher.input.feed_au','rougher.output.concentrate_au', 'primary_cleaner.output.concentrate_au', 'final.output.concentrate_au']]\n",
    "\n",
    "plt.figure(figsize=(15, 10))\n",
    "plt.suptitle('Концентрация золота на различных этапах очистки', fontsize=20)\n",
    "plt.subplot(2, 1, 1)\n",
    "plt.xlabel('Концентрация, %',fontsize=12)\n",
    "plt.ylabel('Количество', fontsize=12)\n",
    "plt.grid(True)\n",
    "plt.hist(au_cycle, histtype = 'bar', bins = 50, label = list(au_cycle.columns))\n",
    "plt.legend(bbox_to_anchor=(1, 1))\n",
    "plt.subplot(2, 1, 2)\n",
    "plt.boxplot(au_cycle, labels = list(au_cycle.columns))\n",
    "plt.xlabel('' ,fontsize=12)\n",
    "plt.ylabel('Концентрация, %', fontsize=12)\n",
    "plt.grid(True)\n",
    "plt.show()"
   ]
  },
  {
   "cell_type": "code",
   "execution_count": 18,
   "metadata": {},
   "outputs": [
    {
     "data": {
      "image/png": "[encoded data removed]",
      "text/plain": [
       "<Figure size 1500x1000 with 2 Axes>"
      ]
     },
     "metadata": {},
     "output_type": "display_data"
    }
   ],
   "source": [
    "# Для серебра \n",
    "\n",
    "ag_cycle = data_full_interpolate[['rougher.input.feed_ag','rougher.output.concentrate_ag', 'primary_cleaner.output.concentrate_ag', 'final.output.concentrate_ag']]\n",
    "\n",
    "plt.figure(figsize=(15, 10))\n",
    "plt.suptitle('Концентрация серебра на различных этапах очистки', fontsize=20)\n",
    "plt.subplot(2, 1, 1)\n",
    "plt.xlabel('Концентрация, %',fontsize=12)\n",
    "plt.ylabel('Количество', fontsize=12)\n",
    "plt.grid(True)\n",
    "plt.hist(ag_cycle, histtype = 'bar', bins = 50, label = list(ag_cycle.columns))\n",
    "plt.legend(bbox_to_anchor=(1, 1))\n",
    "plt.subplot(2, 1, 2)\n",
    "plt.boxplot(ag_cycle, labels = list(ag_cycle.columns))\n",
    "plt.xlabel('' ,fontsize=12)\n",
    "plt.ylabel('Концентрация, %', fontsize=12)\n",
    "plt.grid(True)\n",
    "plt.show()"
   ]
  },
  {
   "cell_type": "code",
   "execution_count": 19,
   "metadata": {},
   "outputs": [
    {
     "data": {
      "image/png": "[encoded data removed]",
      "text/plain": [
       "<Figure size 1500x1000 with 2 Axes>"
      ]
     },
     "metadata": {},
     "output_type": "display_data"
    }
   ],
   "source": [
    "# Для свинца\n",
    "\n",
    "pb_cycle = data_full_interpolate[['rougher.input.feed_pb','rougher.output.concentrate_pb', 'primary_cleaner.output.concentrate_pb', 'final.output.concentrate_pb']]\n",
    "\n",
    "plt.figure(figsize=(15, 10))\n",
    "plt.suptitle('Концентрация свинца на различных этапах очистки', fontsize=20)\n",
    "plt.subplot(2, 1, 1)\n",
    "plt.xlabel('Концентрация, %',fontsize=12)\n",
    "plt.ylabel('Количество', fontsize=12)\n",
    "plt.grid(True)\n",
    "plt.hist(pb_cycle, histtype = 'bar', bins = 50, label = list(pb_cycle.columns))\n",
    "plt.legend(bbox_to_anchor=(1, 1))\n",
    "plt.subplot(2, 1, 2)\n",
    "plt.boxplot(pb_cycle, labels = list(pb_cycle.columns))\n",
    "plt.xlabel('' ,fontsize=12)\n",
    "plt.ylabel('Концентрация, %', fontsize=12)\n",
    "plt.grid(True)\n",
    "plt.show()"
   ]
  },
  {
   "cell_type": "markdown",
   "metadata": {},
   "source": [
    "**Для золота**\n",
    "\n",
    "- Отчетливо видно, что концентрация золота увеличивается с последующим этапом очистки. Оно и логично - технологический процесс очистки золотой руды подразумевает увеличение концентрации продукта\n",
    "\n",
    "**Для серебра** \n",
    "\n",
    "- После флотации концентрация серебра максимальна, но в последующих процессах она снижается и достигает своего минимума \n",
    "\n",
    "**Для свинца**\n",
    "\n",
    "- Концентрация свинца увеличивается в ходе технологического процесса. После первичной очистки концентрация свинца в руде достигает максимума"
   ]
  },
  {
   "cell_type": "markdown",
   "metadata": {},
   "source": [
    "### Сравните распределения размеров гранул сырья на обучающей и тестовой выборках."
   ]
  },
  {
   "cell_type": "markdown",
   "metadata": {},
   "source": [
    "В данных присутствуют размеры гранул для двух этапов: \n",
    "\n",
    "- флотации \n",
    "\n",
    "- первичной очистки"
   ]
  },
  {
   "cell_type": "code",
   "execution_count": 20,
   "metadata": {},
   "outputs": [
    {
     "data": {
      "text/html": [
       "<div>\n",
       "<style scoped>\n",
       "    .dataframe tbody tr th:only-of-type {\n",
       "        vertical-align: middle;\n",
       "    }\n",
       "\n",
       "    .dataframe tbody tr th {\n",
       "        vertical-align: top;\n",
       "    }\n",
       "\n",
       "    .dataframe thead th {\n",
       "        text-align: right;\n",
       "    }\n",
       "</style>\n",
       "<table border=\"1\" class=\"dataframe\">\n",
       "  <thead>\n",
       "    <tr style=\"text-align: right;\">\n",
       "      <th></th>\n",
       "      <th>primary_cleaner.input.feed_size</th>\n",
       "      <th>rougher.input.feed_size</th>\n",
       "    </tr>\n",
       "    <tr>\n",
       "      <th>date</th>\n",
       "      <th></th>\n",
       "      <th></th>\n",
       "    </tr>\n",
       "  </thead>\n",
       "  <tbody>\n",
       "    <tr>\n",
       "      <th>2016-01-15 00:00:00</th>\n",
       "      <td>7.25</td>\n",
       "      <td>55.486599</td>\n",
       "    </tr>\n",
       "    <tr>\n",
       "      <th>2016-01-15 01:00:00</th>\n",
       "      <td>7.25</td>\n",
       "      <td>57.278666</td>\n",
       "    </tr>\n",
       "    <tr>\n",
       "      <th>2016-01-15 02:00:00</th>\n",
       "      <td>7.25</td>\n",
       "      <td>57.510649</td>\n",
       "    </tr>\n",
       "    <tr>\n",
       "      <th>2016-01-15 03:00:00</th>\n",
       "      <td>7.25</td>\n",
       "      <td>57.792734</td>\n",
       "    </tr>\n",
       "    <tr>\n",
       "      <th>2016-01-15 04:00:00</th>\n",
       "      <td>7.25</td>\n",
       "      <td>56.047189</td>\n",
       "    </tr>\n",
       "    <tr>\n",
       "      <th>...</th>\n",
       "      <td>...</td>\n",
       "      <td>...</td>\n",
       "    </tr>\n",
       "    <tr>\n",
       "      <th>2018-08-18 06:59:59</th>\n",
       "      <td>6.50</td>\n",
       "      <td>85.718304</td>\n",
       "    </tr>\n",
       "    <tr>\n",
       "      <th>2018-08-18 07:59:59</th>\n",
       "      <td>6.50</td>\n",
       "      <td>119.499241</td>\n",
       "    </tr>\n",
       "    <tr>\n",
       "      <th>2018-08-18 08:59:59</th>\n",
       "      <td>6.50</td>\n",
       "      <td>122.262690</td>\n",
       "    </tr>\n",
       "    <tr>\n",
       "      <th>2018-08-18 09:59:59</th>\n",
       "      <td>6.50</td>\n",
       "      <td>123.742430</td>\n",
       "    </tr>\n",
       "    <tr>\n",
       "      <th>2018-08-18 10:59:59</th>\n",
       "      <td>6.50</td>\n",
       "      <td>94.544358</td>\n",
       "    </tr>\n",
       "  </tbody>\n",
       "</table>\n",
       "<p>19439 rows × 2 columns</p>\n",
       "</div>"
      ],
      "text/plain": [
       "                     primary_cleaner.input.feed_size  rougher.input.feed_size\n",
       "date                                                                         \n",
       "2016-01-15 00:00:00                             7.25                55.486599\n",
       "2016-01-15 01:00:00                             7.25                57.278666\n",
       "2016-01-15 02:00:00                             7.25                57.510649\n",
       "2016-01-15 03:00:00                             7.25                57.792734\n",
       "2016-01-15 04:00:00                             7.25                56.047189\n",
       "...                                              ...                      ...\n",
       "2018-08-18 06:59:59                             6.50                85.718304\n",
       "2018-08-18 07:59:59                             6.50               119.499241\n",
       "2018-08-18 08:59:59                             6.50               122.262690\n",
       "2018-08-18 09:59:59                             6.50               123.742430\n",
       "2018-08-18 10:59:59                             6.50                94.544358\n",
       "\n",
       "[19439 rows x 2 columns]"
      ]
     },
     "execution_count": 20,
     "metadata": {},
     "output_type": "execute_result"
    }
   ],
   "source": [
    "data_full[['primary_cleaner.input.feed_size', 'rougher.input.feed_size']]"
   ]
  },
  {
   "cell_type": "code",
   "execution_count": 21,
   "metadata": {},
   "outputs": [
    {
     "data": {
      "image/png": "[encoded data removed]",
      "text/plain": [
       "<Figure size 1000x500 with 1 Axes>"
      ]
     },
     "metadata": {},
     "output_type": "display_data"
    }
   ],
   "source": [
    "plt.figure(figsize = (10,5))\n",
    "data_train['primary_cleaner.input.feed_size'].hist(bins = 100,histtype = 'bar', density = True, label = 'data_train', alpha = 0.5)\n",
    "data_test['primary_cleaner.input.feed_size'].hist(bins = 100, histtype = 'bar', density = True, label = 'data_test', alpha = 0.5)\n",
    "plt.suptitle('Сравнение размеров гранул на этапе первичной очистки')\n",
    "plt.xlabel('Размер гранул')\n",
    "plt.legend()\n",
    "plt.xlim(4,10)\n",
    "plt.show()"
   ]
  },
  {
   "cell_type": "code",
   "execution_count": 22,
   "metadata": {},
   "outputs": [
    {
     "data": {
      "image/png": "[encoded data removed]",
      "text/plain": [
       "<Figure size 1000x500 with 1 Axes>"
      ]
     },
     "metadata": {},
     "output_type": "display_data"
    }
   ],
   "source": [
    "plt.figure(figsize = (10,5))\n",
    "data_train['rougher.input.feed_size'].hist(bins = 100, density = True, histtype = 'bar', label = 'data_train', alpha = 0.5)\n",
    "data_test['rougher.input.feed_size'].hist(bins = 100, density = True, histtype = 'bar', label = 'data_test', alpha = 0.5)\n",
    "plt.suptitle('Сравнение размеров гранул на этапе флотации')\n",
    "plt.xlabel('Размер гранул')\n",
    "plt.legend()\n",
    "plt.xlim(0,150)\n",
    "plt.show()"
   ]
  },
  {
   "cell_type": "markdown",
   "metadata": {},
   "source": [
    "В целом распредления размера гранул для обучающей выборки и тестовой выборки  похожи. (Данные изображены в относительных частотах)"
   ]
  },
  {
   "cell_type": "markdown",
   "metadata": {},
   "source": [
    "### Исследуйте суммарную концентрацию всех веществ на разных стадиях: в сырье, в черновом и финальном концентратах."
   ]
  },
  {
   "cell_type": "code",
   "execution_count": 23,
   "metadata": {},
   "outputs": [],
   "source": [
    "# Cуммарные концентрации всех веществ - концентрации металлов (золото, серебро, свинец) + остальные примеси в разных стадиях\n",
    "# Создадим датасет, в столбцы которых занесем суммы соответсвующих концентраций из data_full\n",
    "data_concentrate = pd.DataFrame()\n",
    "\n",
    "data_concentrate['Сырье'] = data_full_interpolate[['rougher.input.feed_pb', 'rougher.input.feed_ag', 'rougher.input.feed_au', 'rougher.input.feed_sol']].sum(axis=1)\n",
    "data_concentrate['Черновой концентрат'] = data_full_interpolate[['rougher.output.concentrate_pb', 'rougher.output.concentrate_ag', 'rougher.output.concentrate_au', 'rougher.output.concentrate_sol']].sum(axis=1)\n",
    "data_concentrate['Итоговый концентрат'] = data_full_interpolate[['final.output.concentrate_pb', 'final.output.concentrate_ag', 'final.output.concentrate_au', 'final.output.concentrate_sol']].sum(axis=1)\n"
   ]
  },
  {
   "cell_type": "code",
   "execution_count": 24,
   "metadata": {},
   "outputs": [
    {
     "data": {
      "text/html": [
       "<div>\n",
       "<style scoped>\n",
       "    .dataframe tbody tr th:only-of-type {\n",
       "        vertical-align: middle;\n",
       "    }\n",
       "\n",
       "    .dataframe tbody tr th {\n",
       "        vertical-align: top;\n",
       "    }\n",
       "\n",
       "    .dataframe thead th {\n",
       "        text-align: right;\n",
       "    }\n",
       "</style>\n",
       "<table border=\"1\" class=\"dataframe\">\n",
       "  <thead>\n",
       "    <tr style=\"text-align: right;\">\n",
       "      <th></th>\n",
       "      <th>Сырье</th>\n",
       "      <th>Черновой концентрат</th>\n",
       "      <th>Итоговый концентрат</th>\n",
       "    </tr>\n",
       "  </thead>\n",
       "  <tbody>\n",
       "    <tr>\n",
       "      <th>count</th>\n",
       "      <td>19439.000000</td>\n",
       "      <td>19439.000000</td>\n",
       "      <td>19439.000000</td>\n",
       "    </tr>\n",
       "    <tr>\n",
       "      <th>mean</th>\n",
       "      <td>57.317978</td>\n",
       "      <td>68.174574</td>\n",
       "      <td>68.659300</td>\n",
       "    </tr>\n",
       "    <tr>\n",
       "      <th>std</th>\n",
       "      <td>7.210817</td>\n",
       "      <td>12.483822</td>\n",
       "      <td>7.422619</td>\n",
       "    </tr>\n",
       "    <tr>\n",
       "      <th>min</th>\n",
       "      <td>0.040000</td>\n",
       "      <td>0.000000</td>\n",
       "      <td>0.000000</td>\n",
       "    </tr>\n",
       "    <tr>\n",
       "      <th>25%</th>\n",
       "      <td>53.553215</td>\n",
       "      <td>66.014322</td>\n",
       "      <td>67.934878</td>\n",
       "    </tr>\n",
       "    <tr>\n",
       "      <th>50%</th>\n",
       "      <td>57.587755</td>\n",
       "      <td>70.181495</td>\n",
       "      <td>69.599082</td>\n",
       "    </tr>\n",
       "    <tr>\n",
       "      <th>75%</th>\n",
       "      <td>61.952764</td>\n",
       "      <td>74.358248</td>\n",
       "      <td>71.368472</td>\n",
       "    </tr>\n",
       "    <tr>\n",
       "      <th>max</th>\n",
       "      <td>76.978947</td>\n",
       "      <td>88.140119</td>\n",
       "      <td>80.210644</td>\n",
       "    </tr>\n",
       "  </tbody>\n",
       "</table>\n",
       "</div>"
      ],
      "text/plain": [
       "              Сырье  Черновой концентрат  Итоговый концентрат\n",
       "count  19439.000000         19439.000000         19439.000000\n",
       "mean      57.317978            68.174574            68.659300\n",
       "std        7.210817            12.483822             7.422619\n",
       "min        0.040000             0.000000             0.000000\n",
       "25%       53.553215            66.014322            67.934878\n",
       "50%       57.587755            70.181495            69.599082\n",
       "75%       61.952764            74.358248            71.368472\n",
       "max       76.978947            88.140119            80.210644"
      ]
     },
     "execution_count": 24,
     "metadata": {},
     "output_type": "execute_result"
    }
   ],
   "source": [
    "data_concentrate.describe()"
   ]
  },
  {
   "cell_type": "markdown",
   "metadata": {},
   "source": [
    "Заметим, что присутсвуют суммарные концентрации близкие 0 (строчка **min**)"
   ]
  },
  {
   "cell_type": "code",
   "execution_count": 25,
   "metadata": {},
   "outputs": [
    {
     "data": {
      "image/png": "[encoded data removed]",
      "text/plain": [
       "<Figure size 1500x1000 with 2 Axes>"
      ]
     },
     "metadata": {},
     "output_type": "display_data"
    }
   ],
   "source": [
    "plt.figure(figsize=(15, 10))\n",
    "plt.suptitle('Суммарная концентрация веществ на различных этапах очистки', fontsize=20)\n",
    "plt.subplot(2, 1, 1)\n",
    "plt.xlabel('Концентрация, %',fontsize=12)\n",
    "plt.ylabel('Количество', fontsize=12)\n",
    "plt.grid(True)\n",
    "plt.hist(data_concentrate, histtype = 'bar', bins = 100, label = list(data_concentrate.columns))\n",
    "plt.legend(bbox_to_anchor=(1, 1))\n",
    "plt.xlim(20,100)\n",
    "plt.subplot(2, 1, 2)\n",
    "plt.boxplot(data_concentrate, labels = list(data_concentrate.columns))\n",
    "plt.xlabel('' ,fontsize=12)\n",
    "plt.ylabel('Концентрация, %', fontsize=12)\n",
    "plt.grid(True)\n",
    "plt.show()"
   ]
  },
  {
   "cell_type": "code",
   "execution_count": 26,
   "metadata": {},
   "outputs": [],
   "source": [
    "# Во многом средние значение суммарной концентрации почти равны из-за наличия примесей в нашем расчете\n",
    "# Оценим распределение суммарной концентрации металлов \n",
    "data_concentrate_metall = pd.DataFrame()\n",
    "\n",
    "data_concentrate_metall['Сырье'] = data_full_interpolate[['rougher.input.feed_pb', 'rougher.input.feed_ag', 'rougher.input.feed_au']].sum(axis=1)\n",
    "data_concentrate_metall['Черновой концентрат'] = data_full_interpolate[['rougher.output.concentrate_pb', 'rougher.output.concentrate_ag', 'rougher.output.concentrate_au']].sum(axis=1)\n",
    "data_concentrate_metall['Итоговый концентрат'] = data_full_interpolate[['final.output.concentrate_pb', 'final.output.concentrate_ag', 'final.output.concentrate_au']].sum(axis=1)"
   ]
  },
  {
   "cell_type": "code",
   "execution_count": 27,
   "metadata": {},
   "outputs": [
    {
     "data": {
      "text/html": [
       "<div>\n",
       "<style scoped>\n",
       "    .dataframe tbody tr th:only-of-type {\n",
       "        vertical-align: middle;\n",
       "    }\n",
       "\n",
       "    .dataframe tbody tr th {\n",
       "        vertical-align: top;\n",
       "    }\n",
       "\n",
       "    .dataframe thead th {\n",
       "        text-align: right;\n",
       "    }\n",
       "</style>\n",
       "<table border=\"1\" class=\"dataframe\">\n",
       "  <thead>\n",
       "    <tr style=\"text-align: right;\">\n",
       "      <th></th>\n",
       "      <th>Сырье</th>\n",
       "      <th>Черновой концентрат</th>\n",
       "      <th>Итоговый концентрат</th>\n",
       "    </tr>\n",
       "  </thead>\n",
       "  <tbody>\n",
       "    <tr>\n",
       "      <th>count</th>\n",
       "      <td>19439.000000</td>\n",
       "      <td>19439.000000</td>\n",
       "      <td>19439.000000</td>\n",
       "    </tr>\n",
       "    <tr>\n",
       "      <th>mean</th>\n",
       "      <td>20.646498</td>\n",
       "      <td>39.373032</td>\n",
       "      <td>59.223717</td>\n",
       "    </tr>\n",
       "    <tr>\n",
       "      <th>std</th>\n",
       "      <td>4.479096</td>\n",
       "      <td>6.863389</td>\n",
       "      <td>6.095152</td>\n",
       "    </tr>\n",
       "    <tr>\n",
       "      <th>min</th>\n",
       "      <td>0.030000</td>\n",
       "      <td>0.000000</td>\n",
       "      <td>0.000000</td>\n",
       "    </tr>\n",
       "    <tr>\n",
       "      <th>25%</th>\n",
       "      <td>17.252879</td>\n",
       "      <td>38.394639</td>\n",
       "      <td>59.298323</td>\n",
       "    </tr>\n",
       "    <tr>\n",
       "      <th>50%</th>\n",
       "      <td>20.141216</td>\n",
       "      <td>40.312648</td>\n",
       "      <td>60.306921</td>\n",
       "    </tr>\n",
       "    <tr>\n",
       "      <th>75%</th>\n",
       "      <td>23.797381</td>\n",
       "      <td>42.365102</td>\n",
       "      <td>61.096667</td>\n",
       "    </tr>\n",
       "    <tr>\n",
       "      <th>max</th>\n",
       "      <td>33.498784</td>\n",
       "      <td>55.568687</td>\n",
       "      <td>64.968881</td>\n",
       "    </tr>\n",
       "  </tbody>\n",
       "</table>\n",
       "</div>"
      ],
      "text/plain": [
       "              Сырье  Черновой концентрат  Итоговый концентрат\n",
       "count  19439.000000         19439.000000         19439.000000\n",
       "mean      20.646498            39.373032            59.223717\n",
       "std        4.479096             6.863389             6.095152\n",
       "min        0.030000             0.000000             0.000000\n",
       "25%       17.252879            38.394639            59.298323\n",
       "50%       20.141216            40.312648            60.306921\n",
       "75%       23.797381            42.365102            61.096667\n",
       "max       33.498784            55.568687            64.968881"
      ]
     },
     "execution_count": 27,
     "metadata": {},
     "output_type": "execute_result"
    }
   ],
   "source": [
    "data_concentrate_metall.describe()"
   ]
  },
  {
   "cell_type": "code",
   "execution_count": 28,
   "metadata": {},
   "outputs": [
    {
     "data": {
      "image/png": "[encoded data removed]",
      "text/plain": [
       "<Figure size 1500x1000 with 2 Axes>"
      ]
     },
     "metadata": {},
     "output_type": "display_data"
    }
   ],
   "source": [
    "plt.figure(figsize=(15, 10))\n",
    "plt.suptitle('Суммарная концентрация веществ на различных этапах очистки', fontsize=20)\n",
    "plt.subplot(2, 1, 1)\n",
    "plt.xlabel('Концентрация, %',fontsize=12)\n",
    "plt.ylabel('Количество', fontsize=12)\n",
    "plt.grid(True)\n",
    "plt.hist(data_concentrate_metall, histtype = 'bar', bins = 100, label = list(data_concentrate_metall.columns))\n",
    "plt.legend(bbox_to_anchor=(1, 1))\n",
    "plt.xlim(0,70)\n",
    "plt.subplot(2, 1, 2)\n",
    "plt.boxplot(data_concentrate_metall, labels = list(data_concentrate_metall.columns))\n",
    "plt.xlabel('' ,fontsize=12)\n",
    "plt.ylabel('Концентрация, %', fontsize=12)\n",
    "plt.grid(True)\n",
    "plt.show()"
   ]
  },
  {
   "cell_type": "markdown",
   "metadata": {},
   "source": [
    "Суммарная концентрация веществ с достаточно большой погрешностью можно сказать, что располагается в одном плотном диапазоне 40 - 80 % на каждом этапе технологическом процесса.\n",
    "\n",
    "При этом, если рассматривать только суммарные концентрации металлов (без примесей), то мы видим, что их концентрация растет.\n",
    "\n",
    "Касательно выбросов, которые наблюдаются в около 0 значениях. Формально - это выбросы. Однако, наша цель создать модель, которая будет обучаться только по концентрациям исходного сырья (см. пункт 1.3). Поэтому полезно будет отсеять околонулевые значения только этого столбца, чтобы по индексам (**date**) исключить некорректные данные в обучающей выборке и тестовой выборке"
   ]
  },
  {
   "cell_type": "code",
   "execution_count": 29,
   "metadata": {},
   "outputs": [
    {
     "name": "stdout",
     "output_type": "stream",
     "text": [
      "Количество строк в обновленном датасете: 19434\n"
     ]
    }
   ],
   "source": [
    "data_concentrate = data_concentrate[data_concentrate['Сырье']>1]\n",
    "print('Количество строк в обновленном датасете:',data_concentrate.shape[0])"
   ]
  },
  {
   "cell_type": "code",
   "execution_count": 30,
   "metadata": {
    "scrolled": true
   },
   "outputs": [
    {
     "name": "stdout",
     "output_type": "stream",
     "text": [
      "Cумма строк в обновленных обучающей и тестовой выборках: 19434\n"
     ]
    }
   ],
   "source": [
    "data_train = data_train[data_train.index.isin(data_concentrate.index)]\n",
    "data_test = data_test[data_test.index.isin(data_concentrate.index)]\n",
    "\n",
    "print('Cумма строк в обновленных обучающей и тестовой выборках:', data_train.shape[0]+data_test.shape[0])"
   ]
  },
  {
   "cell_type": "markdown",
   "metadata": {},
   "source": [
    "## Модель"
   ]
  },
  {
   "cell_type": "markdown",
   "metadata": {},
   "source": [
    "### Напишите функцию для вычисления итоговой sMAPE"
   ]
  },
  {
   "cell_type": "code",
   "execution_count": 31,
   "metadata": {},
   "outputs": [],
   "source": [
    "# функция для расчета sMAPE\n",
    "\n",
    "def sMAPE(target, prediction):\n",
    "    numerator = abs(target - prediction)\n",
    "    denominator = (abs(target) + abs(prediction))/2\n",
    "    return (numerator/denominator).mean() * 100 "
   ]
  },
  {
   "cell_type": "code",
   "execution_count": 32,
   "metadata": {},
   "outputs": [],
   "source": [
    "# функция для расчета итоговой sMAPE\n",
    "\n",
    "def final_sMAPE_func(feature1, feature2, target1, target2, \n",
    "                     feature_test1, feature_test2, target_test1, target_test2,\n",
    "                     model = LinearRegression()):\n",
    "    model.fit(feature1,target1)\n",
    "    rougher = sMAPE(target_test1, model.predict(feature_test1))\n",
    "    model.fit(feature2,target2)\n",
    "    final = sMAPE(target_test2, model.predict(feature_test2))\n",
    "    return 0.25*rougher + 0.75*final\n",
    "    "
   ]
  },
  {
   "cell_type": "markdown",
   "metadata": {},
   "source": [
    "### Обучите разные модели и оцените их качество кросс-валидацией. Выберите лучшую модель и проверьте её на тестовой выборке. "
   ]
  },
  {
   "cell_type": "code",
   "execution_count": 33,
   "metadata": {},
   "outputs": [],
   "source": [
    "# Признаки и целевой признак\n",
    "\n",
    "# Выборка признаков\n",
    "features_train = data_train.drop(['rougher.output.recovery', 'final.output.recovery'], axis = 1)\n",
    "\n",
    "# Выборка целевого признака для rougher\n",
    "\n",
    "target_train_rougher = data_train['rougher.output.recovery']\n",
    "\n",
    "# Выборка целевого признака для final\n",
    "\n",
    "target_train_final = data_train['final.output.recovery']"
   ]
  },
  {
   "cell_type": "code",
   "execution_count": 34,
   "metadata": {},
   "outputs": [],
   "source": [
    "# тестовая выборка\n",
    "\n",
    "features_test = data_test\n",
    "\n",
    "target_test_rougher = data_full_interpolate['rougher.output.recovery'].loc[data_full_interpolate.index.isin(data_test.index)]\n",
    "\n",
    "target_test_final = data_full_interpolate['final.output.recovery'].loc[data_full_interpolate.index.isin(data_test.index)]"
   ]
  },
  {
   "cell_type": "code",
   "execution_count": 35,
   "metadata": {},
   "outputs": [
    {
     "data": {
      "text/html": [
       "<div>\n",
       "<style scoped>\n",
       "    .dataframe tbody tr th:only-of-type {\n",
       "        vertical-align: middle;\n",
       "    }\n",
       "\n",
       "    .dataframe tbody tr th {\n",
       "        vertical-align: top;\n",
       "    }\n",
       "\n",
       "    .dataframe thead th {\n",
       "        text-align: right;\n",
       "    }\n",
       "</style>\n",
       "<table border=\"1\" class=\"dataframe\">\n",
       "  <thead>\n",
       "    <tr style=\"text-align: right;\">\n",
       "      <th></th>\n",
       "      <th>primary_cleaner.input.sulfate</th>\n",
       "      <th>primary_cleaner.input.depressant</th>\n",
       "      <th>primary_cleaner.input.feed_size</th>\n",
       "      <th>primary_cleaner.input.xanthate</th>\n",
       "      <th>primary_cleaner.state.floatbank8_a_air</th>\n",
       "      <th>primary_cleaner.state.floatbank8_a_level</th>\n",
       "      <th>primary_cleaner.state.floatbank8_b_air</th>\n",
       "      <th>primary_cleaner.state.floatbank8_b_level</th>\n",
       "      <th>primary_cleaner.state.floatbank8_c_air</th>\n",
       "      <th>primary_cleaner.state.floatbank8_c_level</th>\n",
       "      <th>...</th>\n",
       "      <th>secondary_cleaner.state.floatbank4_a_air</th>\n",
       "      <th>secondary_cleaner.state.floatbank4_a_level</th>\n",
       "      <th>secondary_cleaner.state.floatbank4_b_air</th>\n",
       "      <th>secondary_cleaner.state.floatbank4_b_level</th>\n",
       "      <th>secondary_cleaner.state.floatbank5_a_air</th>\n",
       "      <th>secondary_cleaner.state.floatbank5_a_level</th>\n",
       "      <th>secondary_cleaner.state.floatbank5_b_air</th>\n",
       "      <th>secondary_cleaner.state.floatbank5_b_level</th>\n",
       "      <th>secondary_cleaner.state.floatbank6_a_air</th>\n",
       "      <th>secondary_cleaner.state.floatbank6_a_level</th>\n",
       "    </tr>\n",
       "    <tr>\n",
       "      <th>date</th>\n",
       "      <th></th>\n",
       "      <th></th>\n",
       "      <th></th>\n",
       "      <th></th>\n",
       "      <th></th>\n",
       "      <th></th>\n",
       "      <th></th>\n",
       "      <th></th>\n",
       "      <th></th>\n",
       "      <th></th>\n",
       "      <th></th>\n",
       "      <th></th>\n",
       "      <th></th>\n",
       "      <th></th>\n",
       "      <th></th>\n",
       "      <th></th>\n",
       "      <th></th>\n",
       "      <th></th>\n",
       "      <th></th>\n",
       "      <th></th>\n",
       "      <th></th>\n",
       "    </tr>\n",
       "  </thead>\n",
       "  <tbody>\n",
       "    <tr>\n",
       "      <th>2016-01-15 00:00:00</th>\n",
       "      <td>-0.154008</td>\n",
       "      <td>0.377626</td>\n",
       "      <td>-0.117742</td>\n",
       "      <td>0.286096</td>\n",
       "      <td>-0.453360</td>\n",
       "      <td>-0.283967</td>\n",
       "      <td>-0.436008</td>\n",
       "      <td>-0.810376</td>\n",
       "      <td>-0.439240</td>\n",
       "      <td>-0.254395</td>\n",
       "      <td>...</td>\n",
       "      <td>-1.053312</td>\n",
       "      <td>-0.468891</td>\n",
       "      <td>-0.644387</td>\n",
       "      <td>-0.756036</td>\n",
       "      <td>-1.174162</td>\n",
       "      <td>-0.378903</td>\n",
       "      <td>-0.864488</td>\n",
       "      <td>-0.421028</td>\n",
       "      <td>-0.941783</td>\n",
       "      <td>-2.670043</td>\n",
       "    </tr>\n",
       "    <tr>\n",
       "      <th>2016-01-15 01:00:00</th>\n",
       "      <td>-0.190949</td>\n",
       "      <td>0.427394</td>\n",
       "      <td>-0.117742</td>\n",
       "      <td>0.323085</td>\n",
       "      <td>-0.247809</td>\n",
       "      <td>-0.339777</td>\n",
       "      <td>-0.249025</td>\n",
       "      <td>-0.318297</td>\n",
       "      <td>-0.244703</td>\n",
       "      <td>-0.272598</td>\n",
       "      <td>...</td>\n",
       "      <td>-1.057649</td>\n",
       "      <td>-0.528312</td>\n",
       "      <td>-0.672810</td>\n",
       "      <td>-0.698528</td>\n",
       "      <td>-1.154684</td>\n",
       "      <td>-0.427979</td>\n",
       "      <td>-0.880947</td>\n",
       "      <td>-0.423863</td>\n",
       "      <td>-0.968327</td>\n",
       "      <td>-2.506802</td>\n",
       "    </tr>\n",
       "    <tr>\n",
       "      <th>2016-01-15 02:00:00</th>\n",
       "      <td>-0.236644</td>\n",
       "      <td>0.729646</td>\n",
       "      <td>-0.117742</td>\n",
       "      <td>0.292764</td>\n",
       "      <td>-0.050058</td>\n",
       "      <td>-0.314371</td>\n",
       "      <td>-0.062655</td>\n",
       "      <td>-0.340372</td>\n",
       "      <td>-0.050993</td>\n",
       "      <td>-0.316243</td>\n",
       "      <td>...</td>\n",
       "      <td>-1.053633</td>\n",
       "      <td>-0.469539</td>\n",
       "      <td>-0.679992</td>\n",
       "      <td>-0.695161</td>\n",
       "      <td>-1.149254</td>\n",
       "      <td>-0.426901</td>\n",
       "      <td>-0.875897</td>\n",
       "      <td>-0.422216</td>\n",
       "      <td>-0.963068</td>\n",
       "      <td>-2.551022</td>\n",
       "    </tr>\n",
       "    <tr>\n",
       "      <th>2016-01-15 03:00:00</th>\n",
       "      <td>-0.275778</td>\n",
       "      <td>0.731382</td>\n",
       "      <td>-0.117742</td>\n",
       "      <td>0.307325</td>\n",
       "      <td>-0.062422</td>\n",
       "      <td>-0.341088</td>\n",
       "      <td>-0.060577</td>\n",
       "      <td>-0.312679</td>\n",
       "      <td>-0.063649</td>\n",
       "      <td>-0.312255</td>\n",
       "      <td>...</td>\n",
       "      <td>-1.049836</td>\n",
       "      <td>-0.436755</td>\n",
       "      <td>-0.663484</td>\n",
       "      <td>-0.696185</td>\n",
       "      <td>-1.166493</td>\n",
       "      <td>-0.402426</td>\n",
       "      <td>-0.882236</td>\n",
       "      <td>-0.415543</td>\n",
       "      <td>-0.967078</td>\n",
       "      <td>-2.512435</td>\n",
       "    </tr>\n",
       "    <tr>\n",
       "      <th>2016-01-15 04:00:00</th>\n",
       "      <td>-0.383916</td>\n",
       "      <td>0.906646</td>\n",
       "      <td>-0.117742</td>\n",
       "      <td>0.342256</td>\n",
       "      <td>-0.051744</td>\n",
       "      <td>-0.285740</td>\n",
       "      <td>-0.054638</td>\n",
       "      <td>-0.331906</td>\n",
       "      <td>-0.069028</td>\n",
       "      <td>-0.316750</td>\n",
       "      <td>...</td>\n",
       "      <td>-1.051464</td>\n",
       "      <td>-0.416680</td>\n",
       "      <td>-0.672327</td>\n",
       "      <td>-0.693810</td>\n",
       "      <td>-1.174149</td>\n",
       "      <td>-0.468003</td>\n",
       "      <td>-0.896644</td>\n",
       "      <td>-0.418096</td>\n",
       "      <td>-0.968623</td>\n",
       "      <td>-2.552891</td>\n",
       "    </tr>\n",
       "  </tbody>\n",
       "</table>\n",
       "<p>5 rows × 52 columns</p>\n",
       "</div>"
      ],
      "text/plain": [
       "                     primary_cleaner.input.sulfate  \\\n",
       "date                                                 \n",
       "2016-01-15 00:00:00                      -0.154008   \n",
       "2016-01-15 01:00:00                      -0.190949   \n",
       "2016-01-15 02:00:00                      -0.236644   \n",
       "2016-01-15 03:00:00                      -0.275778   \n",
       "2016-01-15 04:00:00                      -0.383916   \n",
       "\n",
       "                     primary_cleaner.input.depressant  \\\n",
       "date                                                    \n",
       "2016-01-15 00:00:00                          0.377626   \n",
       "2016-01-15 01:00:00                          0.427394   \n",
       "2016-01-15 02:00:00                          0.729646   \n",
       "2016-01-15 03:00:00                          0.731382   \n",
       "2016-01-15 04:00:00                          0.906646   \n",
       "\n",
       "                     primary_cleaner.input.feed_size  \\\n",
       "date                                                   \n",
       "2016-01-15 00:00:00                        -0.117742   \n",
       "2016-01-15 01:00:00                        -0.117742   \n",
       "2016-01-15 02:00:00                        -0.117742   \n",
       "2016-01-15 03:00:00                        -0.117742   \n",
       "2016-01-15 04:00:00                        -0.117742   \n",
       "\n",
       "                     primary_cleaner.input.xanthate  \\\n",
       "date                                                  \n",
       "2016-01-15 00:00:00                        0.286096   \n",
       "2016-01-15 01:00:00                        0.323085   \n",
       "2016-01-15 02:00:00                        0.292764   \n",
       "2016-01-15 03:00:00                        0.307325   \n",
       "2016-01-15 04:00:00                        0.342256   \n",
       "\n",
       "                     primary_cleaner.state.floatbank8_a_air  \\\n",
       "date                                                          \n",
       "2016-01-15 00:00:00                               -0.453360   \n",
       "2016-01-15 01:00:00                               -0.247809   \n",
       "2016-01-15 02:00:00                               -0.050058   \n",
       "2016-01-15 03:00:00                               -0.062422   \n",
       "2016-01-15 04:00:00                               -0.051744   \n",
       "\n",
       "                     primary_cleaner.state.floatbank8_a_level  \\\n",
       "date                                                            \n",
       "2016-01-15 00:00:00                                 -0.283967   \n",
       "2016-01-15 01:00:00                                 -0.339777   \n",
       "2016-01-15 02:00:00                                 -0.314371   \n",
       "2016-01-15 03:00:00                                 -0.341088   \n",
       "2016-01-15 04:00:00                                 -0.285740   \n",
       "\n",
       "                     primary_cleaner.state.floatbank8_b_air  \\\n",
       "date                                                          \n",
       "2016-01-15 00:00:00                               -0.436008   \n",
       "2016-01-15 01:00:00                               -0.249025   \n",
       "2016-01-15 02:00:00                               -0.062655   \n",
       "2016-01-15 03:00:00                               -0.060577   \n",
       "2016-01-15 04:00:00                               -0.054638   \n",
       "\n",
       "                     primary_cleaner.state.floatbank8_b_level  \\\n",
       "date                                                            \n",
       "2016-01-15 00:00:00                                 -0.810376   \n",
       "2016-01-15 01:00:00                                 -0.318297   \n",
       "2016-01-15 02:00:00                                 -0.340372   \n",
       "2016-01-15 03:00:00                                 -0.312679   \n",
       "2016-01-15 04:00:00                                 -0.331906   \n",
       "\n",
       "                     primary_cleaner.state.floatbank8_c_air  \\\n",
       "date                                                          \n",
       "2016-01-15 00:00:00                               -0.439240   \n",
       "2016-01-15 01:00:00                               -0.244703   \n",
       "2016-01-15 02:00:00                               -0.050993   \n",
       "2016-01-15 03:00:00                               -0.063649   \n",
       "2016-01-15 04:00:00                               -0.069028   \n",
       "\n",
       "                     primary_cleaner.state.floatbank8_c_level  ...  \\\n",
       "date                                                           ...   \n",
       "2016-01-15 00:00:00                                 -0.254395  ...   \n",
       "2016-01-15 01:00:00                                 -0.272598  ...   \n",
       "2016-01-15 02:00:00                                 -0.316243  ...   \n",
       "2016-01-15 03:00:00                                 -0.312255  ...   \n",
       "2016-01-15 04:00:00                                 -0.316750  ...   \n",
       "\n",
       "                     secondary_cleaner.state.floatbank4_a_air  \\\n",
       "date                                                            \n",
       "2016-01-15 00:00:00                                 -1.053312   \n",
       "2016-01-15 01:00:00                                 -1.057649   \n",
       "2016-01-15 02:00:00                                 -1.053633   \n",
       "2016-01-15 03:00:00                                 -1.049836   \n",
       "2016-01-15 04:00:00                                 -1.051464   \n",
       "\n",
       "                     secondary_cleaner.state.floatbank4_a_level  \\\n",
       "date                                                              \n",
       "2016-01-15 00:00:00                                   -0.468891   \n",
       "2016-01-15 01:00:00                                   -0.528312   \n",
       "2016-01-15 02:00:00                                   -0.469539   \n",
       "2016-01-15 03:00:00                                   -0.436755   \n",
       "2016-01-15 04:00:00                                   -0.416680   \n",
       "\n",
       "                     secondary_cleaner.state.floatbank4_b_air  \\\n",
       "date                                                            \n",
       "2016-01-15 00:00:00                                 -0.644387   \n",
       "2016-01-15 01:00:00                                 -0.672810   \n",
       "2016-01-15 02:00:00                                 -0.679992   \n",
       "2016-01-15 03:00:00                                 -0.663484   \n",
       "2016-01-15 04:00:00                                 -0.672327   \n",
       "\n",
       "                     secondary_cleaner.state.floatbank4_b_level  \\\n",
       "date                                                              \n",
       "2016-01-15 00:00:00                                   -0.756036   \n",
       "2016-01-15 01:00:00                                   -0.698528   \n",
       "2016-01-15 02:00:00                                   -0.695161   \n",
       "2016-01-15 03:00:00                                   -0.696185   \n",
       "2016-01-15 04:00:00                                   -0.693810   \n",
       "\n",
       "                     secondary_cleaner.state.floatbank5_a_air  \\\n",
       "date                                                            \n",
       "2016-01-15 00:00:00                                 -1.174162   \n",
       "2016-01-15 01:00:00                                 -1.154684   \n",
       "2016-01-15 02:00:00                                 -1.149254   \n",
       "2016-01-15 03:00:00                                 -1.166493   \n",
       "2016-01-15 04:00:00                                 -1.174149   \n",
       "\n",
       "                     secondary_cleaner.state.floatbank5_a_level  \\\n",
       "date                                                              \n",
       "2016-01-15 00:00:00                                   -0.378903   \n",
       "2016-01-15 01:00:00                                   -0.427979   \n",
       "2016-01-15 02:00:00                                   -0.426901   \n",
       "2016-01-15 03:00:00                                   -0.402426   \n",
       "2016-01-15 04:00:00                                   -0.468003   \n",
       "\n",
       "                     secondary_cleaner.state.floatbank5_b_air  \\\n",
       "date                                                            \n",
       "2016-01-15 00:00:00                                 -0.864488   \n",
       "2016-01-15 01:00:00                                 -0.880947   \n",
       "2016-01-15 02:00:00                                 -0.875897   \n",
       "2016-01-15 03:00:00                                 -0.882236   \n",
       "2016-01-15 04:00:00                                 -0.896644   \n",
       "\n",
       "                     secondary_cleaner.state.floatbank5_b_level  \\\n",
       "date                                                              \n",
       "2016-01-15 00:00:00                                   -0.421028   \n",
       "2016-01-15 01:00:00                                   -0.423863   \n",
       "2016-01-15 02:00:00                                   -0.422216   \n",
       "2016-01-15 03:00:00                                   -0.415543   \n",
       "2016-01-15 04:00:00                                   -0.418096   \n",
       "\n",
       "                     secondary_cleaner.state.floatbank6_a_air  \\\n",
       "date                                                            \n",
       "2016-01-15 00:00:00                                 -0.941783   \n",
       "2016-01-15 01:00:00                                 -0.968327   \n",
       "2016-01-15 02:00:00                                 -0.963068   \n",
       "2016-01-15 03:00:00                                 -0.967078   \n",
       "2016-01-15 04:00:00                                 -0.968623   \n",
       "\n",
       "                     secondary_cleaner.state.floatbank6_a_level  \n",
       "date                                                             \n",
       "2016-01-15 00:00:00                                   -2.670043  \n",
       "2016-01-15 01:00:00                                   -2.506802  \n",
       "2016-01-15 02:00:00                                   -2.551022  \n",
       "2016-01-15 03:00:00                                   -2.512435  \n",
       "2016-01-15 04:00:00                                   -2.552891  \n",
       "\n",
       "[5 rows x 52 columns]"
      ]
     },
     "metadata": {},
     "output_type": "display_data"
    },
    {
     "data": {
      "text/html": [
       "<div>\n",
       "<style scoped>\n",
       "    .dataframe tbody tr th:only-of-type {\n",
       "        vertical-align: middle;\n",
       "    }\n",
       "\n",
       "    .dataframe tbody tr th {\n",
       "        vertical-align: top;\n",
       "    }\n",
       "\n",
       "    .dataframe thead th {\n",
       "        text-align: right;\n",
       "    }\n",
       "</style>\n",
       "<table border=\"1\" class=\"dataframe\">\n",
       "  <thead>\n",
       "    <tr style=\"text-align: right;\">\n",
       "      <th></th>\n",
       "      <th>primary_cleaner.input.sulfate</th>\n",
       "      <th>primary_cleaner.input.depressant</th>\n",
       "      <th>primary_cleaner.input.feed_size</th>\n",
       "      <th>primary_cleaner.input.xanthate</th>\n",
       "      <th>primary_cleaner.state.floatbank8_a_air</th>\n",
       "      <th>primary_cleaner.state.floatbank8_a_level</th>\n",
       "      <th>primary_cleaner.state.floatbank8_b_air</th>\n",
       "      <th>primary_cleaner.state.floatbank8_b_level</th>\n",
       "      <th>primary_cleaner.state.floatbank8_c_air</th>\n",
       "      <th>primary_cleaner.state.floatbank8_c_level</th>\n",
       "      <th>...</th>\n",
       "      <th>secondary_cleaner.state.floatbank4_a_air</th>\n",
       "      <th>secondary_cleaner.state.floatbank4_a_level</th>\n",
       "      <th>secondary_cleaner.state.floatbank4_b_air</th>\n",
       "      <th>secondary_cleaner.state.floatbank4_b_level</th>\n",
       "      <th>secondary_cleaner.state.floatbank5_a_air</th>\n",
       "      <th>secondary_cleaner.state.floatbank5_a_level</th>\n",
       "      <th>secondary_cleaner.state.floatbank5_b_air</th>\n",
       "      <th>secondary_cleaner.state.floatbank5_b_level</th>\n",
       "      <th>secondary_cleaner.state.floatbank6_a_air</th>\n",
       "      <th>secondary_cleaner.state.floatbank6_a_level</th>\n",
       "    </tr>\n",
       "    <tr>\n",
       "      <th>date</th>\n",
       "      <th></th>\n",
       "      <th></th>\n",
       "      <th></th>\n",
       "      <th></th>\n",
       "      <th></th>\n",
       "      <th></th>\n",
       "      <th></th>\n",
       "      <th></th>\n",
       "      <th></th>\n",
       "      <th></th>\n",
       "      <th></th>\n",
       "      <th></th>\n",
       "      <th></th>\n",
       "      <th></th>\n",
       "      <th></th>\n",
       "      <th></th>\n",
       "      <th></th>\n",
       "      <th></th>\n",
       "      <th></th>\n",
       "      <th></th>\n",
       "      <th></th>\n",
       "    </tr>\n",
       "  </thead>\n",
       "  <tbody>\n",
       "    <tr>\n",
       "      <th>2016-09-01 00:59:59</th>\n",
       "      <td>1.959972</td>\n",
       "      <td>1.819155</td>\n",
       "      <td>1.233724</td>\n",
       "      <td>0.329359</td>\n",
       "      <td>-1.627854</td>\n",
       "      <td>-0.320750</td>\n",
       "      <td>-1.597492</td>\n",
       "      <td>-0.319899</td>\n",
       "      <td>-1.554694</td>\n",
       "      <td>-0.311592</td>\n",
       "      <td>...</td>\n",
       "      <td>-1.405399</td>\n",
       "      <td>-0.376423</td>\n",
       "      <td>-1.421223</td>\n",
       "      <td>-0.697807</td>\n",
       "      <td>-1.513465</td>\n",
       "      <td>1.362513</td>\n",
       "      <td>-1.420673</td>\n",
       "      <td>-0.409971</td>\n",
       "      <td>1.236484</td>\n",
       "      <td>0.191365</td>\n",
       "    </tr>\n",
       "    <tr>\n",
       "      <th>2016-09-01 01:59:59</th>\n",
       "      <td>2.075926</td>\n",
       "      <td>1.817482</td>\n",
       "      <td>1.233724</td>\n",
       "      <td>0.290646</td>\n",
       "      <td>-1.629438</td>\n",
       "      <td>-0.316041</td>\n",
       "      <td>-1.605802</td>\n",
       "      <td>-0.315687</td>\n",
       "      <td>-1.584127</td>\n",
       "      <td>-0.270494</td>\n",
       "      <td>...</td>\n",
       "      <td>-1.399289</td>\n",
       "      <td>-0.394158</td>\n",
       "      <td>-1.399474</td>\n",
       "      <td>-0.669687</td>\n",
       "      <td>-1.511458</td>\n",
       "      <td>-1.105354</td>\n",
       "      <td>-1.419573</td>\n",
       "      <td>-0.413157</td>\n",
       "      <td>0.943965</td>\n",
       "      <td>0.188398</td>\n",
       "    </tr>\n",
       "    <tr>\n",
       "      <th>2016-09-01 02:59:59</th>\n",
       "      <td>2.072580</td>\n",
       "      <td>1.194465</td>\n",
       "      <td>0.756097</td>\n",
       "      <td>0.305474</td>\n",
       "      <td>-1.631652</td>\n",
       "      <td>-0.338751</td>\n",
       "      <td>-1.599662</td>\n",
       "      <td>-0.315281</td>\n",
       "      <td>-1.569793</td>\n",
       "      <td>-0.352211</td>\n",
       "      <td>...</td>\n",
       "      <td>-1.416207</td>\n",
       "      <td>-0.395571</td>\n",
       "      <td>-1.405959</td>\n",
       "      <td>-0.689962</td>\n",
       "      <td>-1.492121</td>\n",
       "      <td>-0.444648</td>\n",
       "      <td>-1.415017</td>\n",
       "      <td>-0.404643</td>\n",
       "      <td>0.939614</td>\n",
       "      <td>0.166746</td>\n",
       "    </tr>\n",
       "    <tr>\n",
       "      <th>2016-09-01 03:59:59</th>\n",
       "      <td>2.074507</td>\n",
       "      <td>0.934260</td>\n",
       "      <td>0.517284</td>\n",
       "      <td>-0.047095</td>\n",
       "      <td>-1.622894</td>\n",
       "      <td>-0.282607</td>\n",
       "      <td>-1.610494</td>\n",
       "      <td>-0.298811</td>\n",
       "      <td>-1.554498</td>\n",
       "      <td>-0.245674</td>\n",
       "      <td>...</td>\n",
       "      <td>-1.403714</td>\n",
       "      <td>-0.387363</td>\n",
       "      <td>-1.410134</td>\n",
       "      <td>-0.666971</td>\n",
       "      <td>-1.521948</td>\n",
       "      <td>-0.446412</td>\n",
       "      <td>-1.410460</td>\n",
       "      <td>-0.408089</td>\n",
       "      <td>0.931642</td>\n",
       "      <td>0.218310</td>\n",
       "    </tr>\n",
       "    <tr>\n",
       "      <th>2016-09-01 04:59:59</th>\n",
       "      <td>1.664461</td>\n",
       "      <td>0.541855</td>\n",
       "      <td>0.338174</td>\n",
       "      <td>-0.201232</td>\n",
       "      <td>-1.610042</td>\n",
       "      <td>-0.337070</td>\n",
       "      <td>-1.605242</td>\n",
       "      <td>-0.307545</td>\n",
       "      <td>-1.539283</td>\n",
       "      <td>-0.314574</td>\n",
       "      <td>...</td>\n",
       "      <td>-1.405078</td>\n",
       "      <td>-0.435360</td>\n",
       "      <td>-1.413990</td>\n",
       "      <td>-0.682657</td>\n",
       "      <td>-1.485806</td>\n",
       "      <td>-0.674886</td>\n",
       "      <td>-1.405904</td>\n",
       "      <td>-0.418198</td>\n",
       "      <td>0.941083</td>\n",
       "      <td>0.160443</td>\n",
       "    </tr>\n",
       "  </tbody>\n",
       "</table>\n",
       "<p>5 rows × 52 columns</p>\n",
       "</div>"
      ],
      "text/plain": [
       "                     primary_cleaner.input.sulfate  \\\n",
       "date                                                 \n",
       "2016-09-01 00:59:59                       1.959972   \n",
       "2016-09-01 01:59:59                       2.075926   \n",
       "2016-09-01 02:59:59                       2.072580   \n",
       "2016-09-01 03:59:59                       2.074507   \n",
       "2016-09-01 04:59:59                       1.664461   \n",
       "\n",
       "                     primary_cleaner.input.depressant  \\\n",
       "date                                                    \n",
       "2016-09-01 00:59:59                          1.819155   \n",
       "2016-09-01 01:59:59                          1.817482   \n",
       "2016-09-01 02:59:59                          1.194465   \n",
       "2016-09-01 03:59:59                          0.934260   \n",
       "2016-09-01 04:59:59                          0.541855   \n",
       "\n",
       "                     primary_cleaner.input.feed_size  \\\n",
       "date                                                   \n",
       "2016-09-01 00:59:59                         1.233724   \n",
       "2016-09-01 01:59:59                         1.233724   \n",
       "2016-09-01 02:59:59                         0.756097   \n",
       "2016-09-01 03:59:59                         0.517284   \n",
       "2016-09-01 04:59:59                         0.338174   \n",
       "\n",
       "                     primary_cleaner.input.xanthate  \\\n",
       "date                                                  \n",
       "2016-09-01 00:59:59                        0.329359   \n",
       "2016-09-01 01:59:59                        0.290646   \n",
       "2016-09-01 02:59:59                        0.305474   \n",
       "2016-09-01 03:59:59                       -0.047095   \n",
       "2016-09-01 04:59:59                       -0.201232   \n",
       "\n",
       "                     primary_cleaner.state.floatbank8_a_air  \\\n",
       "date                                                          \n",
       "2016-09-01 00:59:59                               -1.627854   \n",
       "2016-09-01 01:59:59                               -1.629438   \n",
       "2016-09-01 02:59:59                               -1.631652   \n",
       "2016-09-01 03:59:59                               -1.622894   \n",
       "2016-09-01 04:59:59                               -1.610042   \n",
       "\n",
       "                     primary_cleaner.state.floatbank8_a_level  \\\n",
       "date                                                            \n",
       "2016-09-01 00:59:59                                 -0.320750   \n",
       "2016-09-01 01:59:59                                 -0.316041   \n",
       "2016-09-01 02:59:59                                 -0.338751   \n",
       "2016-09-01 03:59:59                                 -0.282607   \n",
       "2016-09-01 04:59:59                                 -0.337070   \n",
       "\n",
       "                     primary_cleaner.state.floatbank8_b_air  \\\n",
       "date                                                          \n",
       "2016-09-01 00:59:59                               -1.597492   \n",
       "2016-09-01 01:59:59                               -1.605802   \n",
       "2016-09-01 02:59:59                               -1.599662   \n",
       "2016-09-01 03:59:59                               -1.610494   \n",
       "2016-09-01 04:59:59                               -1.605242   \n",
       "\n",
       "                     primary_cleaner.state.floatbank8_b_level  \\\n",
       "date                                                            \n",
       "2016-09-01 00:59:59                                 -0.319899   \n",
       "2016-09-01 01:59:59                                 -0.315687   \n",
       "2016-09-01 02:59:59                                 -0.315281   \n",
       "2016-09-01 03:59:59                                 -0.298811   \n",
       "2016-09-01 04:59:59                                 -0.307545   \n",
       "\n",
       "                     primary_cleaner.state.floatbank8_c_air  \\\n",
       "date                                                          \n",
       "2016-09-01 00:59:59                               -1.554694   \n",
       "2016-09-01 01:59:59                               -1.584127   \n",
       "2016-09-01 02:59:59                               -1.569793   \n",
       "2016-09-01 03:59:59                               -1.554498   \n",
       "2016-09-01 04:59:59                               -1.539283   \n",
       "\n",
       "                     primary_cleaner.state.floatbank8_c_level  ...  \\\n",
       "date                                                           ...   \n",
       "2016-09-01 00:59:59                                 -0.311592  ...   \n",
       "2016-09-01 01:59:59                                 -0.270494  ...   \n",
       "2016-09-01 02:59:59                                 -0.352211  ...   \n",
       "2016-09-01 03:59:59                                 -0.245674  ...   \n",
       "2016-09-01 04:59:59                                 -0.314574  ...   \n",
       "\n",
       "                     secondary_cleaner.state.floatbank4_a_air  \\\n",
       "date                                                            \n",
       "2016-09-01 00:59:59                                 -1.405399   \n",
       "2016-09-01 01:59:59                                 -1.399289   \n",
       "2016-09-01 02:59:59                                 -1.416207   \n",
       "2016-09-01 03:59:59                                 -1.403714   \n",
       "2016-09-01 04:59:59                                 -1.405078   \n",
       "\n",
       "                     secondary_cleaner.state.floatbank4_a_level  \\\n",
       "date                                                              \n",
       "2016-09-01 00:59:59                                   -0.376423   \n",
       "2016-09-01 01:59:59                                   -0.394158   \n",
       "2016-09-01 02:59:59                                   -0.395571   \n",
       "2016-09-01 03:59:59                                   -0.387363   \n",
       "2016-09-01 04:59:59                                   -0.435360   \n",
       "\n",
       "                     secondary_cleaner.state.floatbank4_b_air  \\\n",
       "date                                                            \n",
       "2016-09-01 00:59:59                                 -1.421223   \n",
       "2016-09-01 01:59:59                                 -1.399474   \n",
       "2016-09-01 02:59:59                                 -1.405959   \n",
       "2016-09-01 03:59:59                                 -1.410134   \n",
       "2016-09-01 04:59:59                                 -1.413990   \n",
       "\n",
       "                     secondary_cleaner.state.floatbank4_b_level  \\\n",
       "date                                                              \n",
       "2016-09-01 00:59:59                                   -0.697807   \n",
       "2016-09-01 01:59:59                                   -0.669687   \n",
       "2016-09-01 02:59:59                                   -0.689962   \n",
       "2016-09-01 03:59:59                                   -0.666971   \n",
       "2016-09-01 04:59:59                                   -0.682657   \n",
       "\n",
       "                     secondary_cleaner.state.floatbank5_a_air  \\\n",
       "date                                                            \n",
       "2016-09-01 00:59:59                                 -1.513465   \n",
       "2016-09-01 01:59:59                                 -1.511458   \n",
       "2016-09-01 02:59:59                                 -1.492121   \n",
       "2016-09-01 03:59:59                                 -1.521948   \n",
       "2016-09-01 04:59:59                                 -1.485806   \n",
       "\n",
       "                     secondary_cleaner.state.floatbank5_a_level  \\\n",
       "date                                                              \n",
       "2016-09-01 00:59:59                                    1.362513   \n",
       "2016-09-01 01:59:59                                   -1.105354   \n",
       "2016-09-01 02:59:59                                   -0.444648   \n",
       "2016-09-01 03:59:59                                   -0.446412   \n",
       "2016-09-01 04:59:59                                   -0.674886   \n",
       "\n",
       "                     secondary_cleaner.state.floatbank5_b_air  \\\n",
       "date                                                            \n",
       "2016-09-01 00:59:59                                 -1.420673   \n",
       "2016-09-01 01:59:59                                 -1.419573   \n",
       "2016-09-01 02:59:59                                 -1.415017   \n",
       "2016-09-01 03:59:59                                 -1.410460   \n",
       "2016-09-01 04:59:59                                 -1.405904   \n",
       "\n",
       "                     secondary_cleaner.state.floatbank5_b_level  \\\n",
       "date                                                              \n",
       "2016-09-01 00:59:59                                   -0.409971   \n",
       "2016-09-01 01:59:59                                   -0.413157   \n",
       "2016-09-01 02:59:59                                   -0.404643   \n",
       "2016-09-01 03:59:59                                   -0.408089   \n",
       "2016-09-01 04:59:59                                   -0.418198   \n",
       "\n",
       "                     secondary_cleaner.state.floatbank6_a_air  \\\n",
       "date                                                            \n",
       "2016-09-01 00:59:59                                  1.236484   \n",
       "2016-09-01 01:59:59                                  0.943965   \n",
       "2016-09-01 02:59:59                                  0.939614   \n",
       "2016-09-01 03:59:59                                  0.931642   \n",
       "2016-09-01 04:59:59                                  0.941083   \n",
       "\n",
       "                     secondary_cleaner.state.floatbank6_a_level  \n",
       "date                                                             \n",
       "2016-09-01 00:59:59                                    0.191365  \n",
       "2016-09-01 01:59:59                                    0.188398  \n",
       "2016-09-01 02:59:59                                    0.166746  \n",
       "2016-09-01 03:59:59                                    0.218310  \n",
       "2016-09-01 04:59:59                                    0.160443  \n",
       "\n",
       "[5 rows x 52 columns]"
      ]
     },
     "metadata": {},
     "output_type": "display_data"
    }
   ],
   "source": [
    "# Перед обучением моделей приведем данные к одному масштабу с помощью StandartScaler\n",
    "numeric = features_train.columns\n",
    "scaler = StandardScaler()\n",
    "scaler.fit(features_train[numeric])\n",
    "\n",
    "features_train[numeric] = scaler.transform(features_train[numeric])\n",
    "\n",
    "features_test[numeric] = scaler.transform(features_test[numeric])\n",
    "\n",
    "# Посмотрим на результат\n",
    "display(features_train.head())\n",
    "display(features_test.head())"
   ]
  },
  {
   "cell_type": "code",
   "execution_count": 38,
   "metadata": {},
   "outputs": [
    {
     "name": "stdout",
     "output_type": "stream",
     "text": [
      "Лучшая модель: RandomForestRegressor(n_jobs=-1,\n",
      "                      random_state=RandomState(MT19937) at 0x7FCE48AAF940)\n",
      "Лучший результат final_sMAPE: 11.967797569780746 %\n"
     ]
    }
   ],
   "source": [
    "# Отбор моделей по среднему final_SMAPE после кросс-валидации\n",
    "# Чем ближе к 0, тем лучше модель\n",
    "# На данном этапе модели отбираются с параметрами по умолчанию\n",
    "\n",
    "models = [LinearRegression(n_jobs = -1),\n",
    "          DecisionTreeRegressor(random_state = np.random.RandomState(12345)),\n",
    "          RandomForestRegressor(n_jobs = -1, random_state = np.random.RandomState(12345))]\n",
    "\n",
    "best_model = None\n",
    "best_result = 100\n",
    "\n",
    "\n",
    "for i in models:\n",
    "    rougher  = CVS(i, \n",
    "                   features_train, target_train_rougher, \n",
    "                   scoring = make_scorer(sMAPE, greater_is_better = False),\n",
    "                   cv = 5, n_jobs = -1).mean()\n",
    "    final = CVS(i, \n",
    "                features_train, target_train_final, \n",
    "                scoring = make_scorer(sMAPE, greater_is_better = False), \n",
    "                cv = 5, n_jobs = -1).mean()\n",
    "    final_sMAPE = 0.25*rougher+0.75*final\n",
    "    if abs(final_sMAPE) < best_result:\n",
    "        best_result = abs(final_sMAPE)\n",
    "        best_model = i\n",
    "print('Лучшая модель:', best_model)\n",
    "print('Лучший результат final_sMAPE:', best_result, '%')"
   ]
  },
  {
   "cell_type": "code",
   "execution_count": 39,
   "metadata": {},
   "outputs": [
    {
     "name": "stdout",
     "output_type": "stream",
     "text": [
      "Лучшая модель: RandomForestRegressor(max_depth=5, n_estimators=80, n_jobs=-1,\n",
      "                      random_state=RandomState(MT19937) at 0x7FCE48AAFA40)\n",
      "Лучший результат final_sMAPE: 10.414786637632684 %\n",
      "Лучшие геперпараметры:\n",
      "max_depth: 5\n",
      "n_estimators: 80\n"
     ]
    }
   ],
   "source": [
    "# Подберем наилучшие параметры для RandomForestRegression\n",
    "\n",
    "for depth in range(1,10):\n",
    "    for est in range(20, 100, 20):\n",
    "        model = RandomForestRegressor(n_jobs = -1, random_state = np.random.RandomState(12345),\n",
    "                                      max_depth = depth, n_estimators = est)\n",
    "        rougher  = CVS(model, \n",
    "                   features_train, target_train_rougher, \n",
    "                   scoring = make_scorer(sMAPE, greater_is_better = False), \n",
    "                   cv = 5, n_jobs = -1).mean()\n",
    "        final = CVS(model, \n",
    "                    features_train, target_train_final, \n",
    "                    scoring = make_scorer(sMAPE, greater_is_better = False),\n",
    "                    cv = 5, n_jobs = -1).mean()\n",
    "        final_sMAPE = 0.25*rougher+0.75*final\n",
    "\n",
    "        if abs(final_sMAPE) < best_result:\n",
    "                best_result = abs(final_sMAPE)\n",
    "                best_model = model\n",
    "                best_depth = depth\n",
    "                best_est = est\n",
    "print('Лучшая модель:', best_model)\n",
    "print('Лучший результат final_sMAPE:', best_result, '%')\n",
    "print('Лучшие геперпараметры:')\n",
    "print('max_depth:', best_depth)\n",
    "print('n_estimators:', best_est)      "
   ]
  },
  {
   "cell_type": "code",
   "execution_count": 40,
   "metadata": {},
   "outputs": [
    {
     "name": "stdout",
     "output_type": "stream",
     "text": [
      "Результат final_sMAPE на тестовой выборке: 9.78486171472758 %\n"
     ]
    }
   ],
   "source": [
    "best_model = RandomForestRegressor(n_jobs = -1, random_state = np.random.RandomState(12345), max_depth = 5, n_estimators = 80)\n",
    "\n",
    "# Выше записана лучшая получившаяся модель. Такой результат получился при прогоне прошлого шага при подборе гиперпараметров\n",
    "\n",
    "final_sMAPE = final_sMAPE_func(features_train, features_train, target_train_rougher, target_train_final, \n",
    "                               features_test, features_test, target_test_rougher, target_test_final,\n",
    "                               model = best_model)\n",
    "print('Результат final_sMAPE на тестовой выборке:',final_sMAPE, '%')"
   ]
  },
  {
   "cell_type": "code",
   "execution_count": 41,
   "metadata": {},
   "outputs": [
    {
     "name": "stdout",
     "output_type": "stream",
     "text": [
      "Результат final_sMAPE на наивной модели: 10.296418245853513 %\n"
     ]
    }
   ],
   "source": [
    "# Проверка нашей модели с Dummy моделью\n",
    "\n",
    "from sklearn.dummy import DummyRegressor \n",
    "\n",
    "dummy_model = DummyRegressor()\n",
    "\n",
    "final_sMAPE = final_sMAPE_func(features_train, features_train, target_train_rougher, target_train_final, \n",
    "                               features_test, features_test, target_test_rougher, target_test_final,\n",
    "                               model = DummyRegressor())\n",
    "print('Результат final_sMAPE на наивной модели:',final_sMAPE, '%')"
   ]
  },
  {
   "cell_type": "markdown",
   "metadata": {},
   "source": [
    "## Выводы"
   ]
  },
  {
   "cell_type": "markdown",
   "metadata": {},
   "source": [
    "В ходе работы были проанализированы и подготовлены начальные данные \n",
    "\n",
    "Также, по заданию, мы убедились что **rougher.output.recovery** посчитан правильно: MAE очень близок к 0.\n",
    "\n",
    "Из обучающей выборки были удалены все столбцы - признаки (кроме целевых), которые отсутсвуют в тестовой выборке, так как мы должны обучать модель по тем данным, которые у нас будут участвовать в тесте.\n",
    "\n",
    "Пропуски были заполнены с помощью интерполяции.\n",
    "\n",
    "В ходе **анализа** было установлено:\n",
    "\n",
    "**Для золота**\n",
    "\n",
    "- Отчетливо видно, что концентрация золота увеличивается с последующим этапом очистки. Оно и логично - технологический процесс очистки золотой руды подразумевает увеличение концентрации продукта\n",
    "\n",
    "**Для серебра** \n",
    "\n",
    "- После флотации концентрация серебра максимальна, но в последующих процессах она снижается и достигает своего минимума \n",
    "\n",
    "**Для свинца**\n",
    "\n",
    "- Концентрация свинца увеличивается в ходе технологического процесса. После первичной очистки концентрация свинца в руде достигает максимума\n",
    "\n",
    "Размеры гранул в тренировочной и тестовой выборках отличаются незначительно, и с определенной погрешностью мы считает, что имеющиеся различия данных критически не повлияют на результаты моделей\n",
    "\n",
    "Суммарная концентрация веществ с достаточно большой погрешностью можно сказать, что располагается в одном плотном диапазоне 40 - 80 % на каждом этапе технологическом процесса.\n",
    "\n",
    "При этом, если рассматривать только суммарные концентрации металлов (без примесей), то мы видим, что их концентрация растет.\n",
    "\n",
    "Касательно выбросов, которые наблюдаются в около 0 значениях. Формально - это выбросы. Однако, наша цель создать модель, которая будет обучаться только по концентрациям исходного сырья (см. пункт 1.3). Поэтому полезно будет отсеять околонулевые значения только этого столбца, чтобы по индексам (**date**) исключатся некорректные данные в обучающей выборке и тестовой выборке\n",
    "\n",
    "При создании моделей:\n",
    "\n",
    "Была составлены функции **sMAPE** и **final_sMAPE** - целевой признак, по которому определялась насколько эффективна модель регрессии относительно других. \n",
    "\n",
    "Среди трех моделей (линейной, дерева и случайного леса) с помощью кросс-валидации было показано, что наилучшие результаты показала модель случайного леса (**11,96 %**).\n",
    "\n",
    "После подбора гиперпараметров результат final_sMAPE на тренировочной выборке удалось улучшить до **10,41 %**\n",
    "\n",
    "Реузльтат sMAPE на тестовой выборке показал **9,8 %** \n",
    "\n",
    "Также была сделана проверка адекватности с помощью Dummy модели, результат которой получился **10,29 %**"
   ]
  }
 ],
 "metadata": {
  "ExecuteTimeLog": [
   {
    "duration": 16,
    "start_time": "2022-04-11T09:04:23.874Z"
   },
   {
    "duration": 407,
    "start_time": "2022-04-12T07:31:46.362Z"
   },
   {
    "duration": 4,
    "start_time": "2022-04-12T07:42:46.003Z"
   },
   {
    "duration": 4,
    "start_time": "2022-04-12T07:44:10.686Z"
   },
   {
    "duration": 82,
    "start_time": "2022-04-12T07:44:37.174Z"
   },
   {
    "duration": 3,
    "start_time": "2022-04-12T07:44:59.407Z"
   },
   {
    "duration": 112,
    "start_time": "2022-04-12T07:47:56.647Z"
   },
   {
    "duration": 1414,
    "start_time": "2022-04-12T07:48:54.265Z"
   },
   {
    "duration": 3,
    "start_time": "2022-04-12T07:49:33.167Z"
   },
   {
    "duration": 981,
    "start_time": "2022-04-12T07:49:34.326Z"
   },
   {
    "duration": 3,
    "start_time": "2022-04-12T07:49:47.295Z"
   },
   {
    "duration": 1018,
    "start_time": "2022-04-12T07:49:47.965Z"
   },
   {
    "duration": 4,
    "start_time": "2022-04-12T07:50:19.870Z"
   },
   {
    "duration": 892,
    "start_time": "2022-04-12T07:50:20.702Z"
   },
   {
    "duration": 83,
    "start_time": "2022-04-12T07:52:11.991Z"
   },
   {
    "duration": 3,
    "start_time": "2022-04-12T07:52:20.863Z"
   },
   {
    "duration": 892,
    "start_time": "2022-04-12T07:52:21.975Z"
   },
   {
    "duration": 371,
    "start_time": "2022-04-12T07:53:01.987Z"
   },
   {
    "duration": 106,
    "start_time": "2022-04-12T07:53:02.663Z"
   },
   {
    "duration": 413,
    "start_time": "2022-04-12T07:53:03.351Z"
   },
   {
    "duration": 105,
    "start_time": "2022-04-12T07:53:40.303Z"
   },
   {
    "duration": 371,
    "start_time": "2022-04-12T07:53:40.912Z"
   },
   {
    "duration": 83,
    "start_time": "2022-04-12T07:54:16.018Z"
   },
   {
    "duration": 4,
    "start_time": "2022-04-12T07:54:23.935Z"
   },
   {
    "duration": 556,
    "start_time": "2022-04-12T07:54:24.961Z"
   },
   {
    "duration": 5,
    "start_time": "2022-04-12T07:54:48.704Z"
   },
   {
    "duration": 552,
    "start_time": "2022-04-12T07:54:49.441Z"
   },
   {
    "duration": 109,
    "start_time": "2022-04-12T07:55:23.969Z"
   },
   {
    "duration": 456,
    "start_time": "2022-04-12T07:55:41.861Z"
   },
   {
    "duration": 3,
    "start_time": "2022-04-12T08:01:20.801Z"
   },
   {
    "duration": 382,
    "start_time": "2022-04-12T08:01:21.313Z"
   },
   {
    "duration": 3,
    "start_time": "2022-04-12T08:01:32.881Z"
   },
   {
    "duration": 373,
    "start_time": "2022-04-12T08:01:33.713Z"
   },
   {
    "duration": 3,
    "start_time": "2022-04-12T08:01:40.737Z"
   },
   {
    "duration": 377,
    "start_time": "2022-04-12T08:01:41.321Z"
   },
   {
    "duration": 108,
    "start_time": "2022-04-12T08:01:47.872Z"
   },
   {
    "duration": 425,
    "start_time": "2022-04-12T08:01:48.737Z"
   },
   {
    "duration": 4,
    "start_time": "2022-04-12T08:05:12.761Z"
   },
   {
    "duration": 7,
    "start_time": "2022-04-12T08:05:40.690Z"
   },
   {
    "duration": 6,
    "start_time": "2022-04-12T08:05:44.590Z"
   },
   {
    "duration": 4,
    "start_time": "2022-04-12T08:08:47.705Z"
   },
   {
    "duration": 364,
    "start_time": "2022-04-12T08:08:48.552Z"
   },
   {
    "duration": 98,
    "start_time": "2022-04-12T08:09:04.529Z"
   },
   {
    "duration": 395,
    "start_time": "2022-04-12T08:09:05.143Z"
   },
   {
    "duration": 7,
    "start_time": "2022-04-12T08:21:53.379Z"
   },
   {
    "duration": 7,
    "start_time": "2022-04-12T08:22:09.891Z"
   },
   {
    "duration": 6,
    "start_time": "2022-04-12T08:22:20.150Z"
   },
   {
    "duration": 7,
    "start_time": "2022-04-12T08:22:42.235Z"
   },
   {
    "duration": 7,
    "start_time": "2022-04-12T08:22:52.291Z"
   },
   {
    "duration": 7,
    "start_time": "2022-04-12T08:22:59.787Z"
   },
   {
    "duration": 2,
    "start_time": "2022-04-12T08:23:08.363Z"
   },
   {
    "duration": 2,
    "start_time": "2022-04-12T08:23:14.683Z"
   },
   {
    "duration": 97,
    "start_time": "2022-04-12T08:23:39.675Z"
   },
   {
    "duration": 420,
    "start_time": "2022-04-12T08:23:40.829Z"
   },
   {
    "duration": 7,
    "start_time": "2022-04-12T08:24:01.652Z"
   },
   {
    "duration": 355,
    "start_time": "2022-04-12T08:24:12.918Z"
   },
   {
    "duration": 8,
    "start_time": "2022-04-12T08:24:16.116Z"
   },
   {
    "duration": 3,
    "start_time": "2022-04-12T08:24:26.087Z"
   },
   {
    "duration": 3,
    "start_time": "2022-04-12T08:24:39.789Z"
   },
   {
    "duration": 371,
    "start_time": "2022-04-12T08:24:41.030Z"
   },
   {
    "duration": 26,
    "start_time": "2022-04-12T08:24:45.372Z"
   },
   {
    "duration": 23,
    "start_time": "2022-04-12T08:24:52.631Z"
   },
   {
    "duration": 9,
    "start_time": "2022-04-12T08:25:00.855Z"
   },
   {
    "duration": 8,
    "start_time": "2022-04-12T08:25:57.502Z"
   },
   {
    "duration": 12,
    "start_time": "2022-04-12T08:26:59.637Z"
   },
   {
    "duration": 8,
    "start_time": "2022-04-12T08:27:04.725Z"
   },
   {
    "duration": 10,
    "start_time": "2022-04-12T08:28:50.469Z"
   },
   {
    "duration": 9,
    "start_time": "2022-04-12T08:29:00.435Z"
   },
   {
    "duration": 9,
    "start_time": "2022-04-12T08:35:21.262Z"
   },
   {
    "duration": 424,
    "start_time": "2022-04-12T08:35:35.953Z"
   },
   {
    "duration": 4,
    "start_time": "2022-04-12T08:35:36.379Z"
   },
   {
    "duration": 393,
    "start_time": "2022-04-12T08:35:36.384Z"
   },
   {
    "duration": 10,
    "start_time": "2022-04-12T08:35:36.778Z"
   },
   {
    "duration": 119,
    "start_time": "2022-04-12T08:35:36.790Z"
   },
   {
    "duration": 440,
    "start_time": "2022-04-12T08:35:36.911Z"
   },
   {
    "duration": 10,
    "start_time": "2022-04-12T08:35:37.353Z"
   },
   {
    "duration": 63,
    "start_time": "2022-04-12T08:39:08.365Z"
   },
   {
    "duration": 10,
    "start_time": "2022-04-12T08:39:32.173Z"
   },
   {
    "duration": 9,
    "start_time": "2022-04-12T08:40:04.229Z"
   },
   {
    "duration": 27,
    "start_time": "2022-04-12T08:40:14.342Z"
   },
   {
    "duration": 8,
    "start_time": "2022-04-12T08:40:32.109Z"
   },
   {
    "duration": 10,
    "start_time": "2022-04-12T08:41:40.182Z"
   },
   {
    "duration": 9,
    "start_time": "2022-04-12T08:41:58.709Z"
   },
   {
    "duration": 10,
    "start_time": "2022-04-12T08:42:03.349Z"
   },
   {
    "duration": 8,
    "start_time": "2022-04-12T08:42:09.222Z"
   },
   {
    "duration": 8,
    "start_time": "2022-04-12T08:42:30.782Z"
   },
   {
    "duration": 8,
    "start_time": "2022-04-12T08:42:55.045Z"
   },
   {
    "duration": 11,
    "start_time": "2022-04-12T08:54:09.603Z"
   },
   {
    "duration": 11,
    "start_time": "2022-04-12T08:54:48.911Z"
   },
   {
    "duration": 8,
    "start_time": "2022-04-12T08:54:59.990Z"
   },
   {
    "duration": 10,
    "start_time": "2022-04-12T08:55:11.925Z"
   },
   {
    "duration": 9,
    "start_time": "2022-04-12T08:57:25.695Z"
   },
   {
    "duration": 5,
    "start_time": "2022-04-12T11:02:02.484Z"
   },
   {
    "duration": 8,
    "start_time": "2022-04-12T11:10:29.212Z"
   },
   {
    "duration": 10,
    "start_time": "2022-04-12T11:10:44.308Z"
   },
   {
    "duration": 7,
    "start_time": "2022-04-12T11:11:06.142Z"
   },
   {
    "duration": 5,
    "start_time": "2022-04-12T11:11:38.292Z"
   },
   {
    "duration": 35,
    "start_time": "2022-04-12T11:18:44.605Z"
   },
   {
    "duration": 12,
    "start_time": "2022-04-12T11:20:01.239Z"
   },
   {
    "duration": 8,
    "start_time": "2022-04-12T11:20:24.203Z"
   },
   {
    "duration": 7,
    "start_time": "2022-04-12T11:20:28.356Z"
   },
   {
    "duration": 84,
    "start_time": "2022-04-12T11:20:36.716Z"
   },
   {
    "duration": 5,
    "start_time": "2022-04-12T11:20:40.925Z"
   },
   {
    "duration": 10,
    "start_time": "2022-04-12T11:21:05.845Z"
   },
   {
    "duration": 8,
    "start_time": "2022-04-12T11:21:55.719Z"
   },
   {
    "duration": 8,
    "start_time": "2022-04-12T11:22:14.758Z"
   },
   {
    "duration": 2,
    "start_time": "2022-04-12T11:49:13.023Z"
   },
   {
    "duration": 6,
    "start_time": "2022-04-12T11:49:13.027Z"
   },
   {
    "duration": 373,
    "start_time": "2022-04-12T11:49:13.040Z"
   },
   {
    "duration": 9,
    "start_time": "2022-04-12T11:49:13.415Z"
   },
   {
    "duration": 130,
    "start_time": "2022-04-12T11:49:13.425Z"
   },
   {
    "duration": 454,
    "start_time": "2022-04-12T11:49:13.557Z"
   },
   {
    "duration": 10,
    "start_time": "2022-04-12T11:49:14.012Z"
   },
   {
    "duration": 104,
    "start_time": "2022-04-12T12:17:34.069Z"
   },
   {
    "duration": 82,
    "start_time": "2022-04-12T12:17:42.956Z"
   },
   {
    "duration": 594,
    "start_time": "2022-04-12T12:18:11.175Z"
   },
   {
    "duration": 591,
    "start_time": "2022-04-12T12:20:10.506Z"
   },
   {
    "duration": 9,
    "start_time": "2022-04-12T12:54:36.962Z"
   },
   {
    "duration": 7,
    "start_time": "2022-04-12T12:55:04.201Z"
   },
   {
    "duration": 7,
    "start_time": "2022-04-12T12:55:13.927Z"
   },
   {
    "duration": 2,
    "start_time": "2022-04-12T12:55:27.376Z"
   },
   {
    "duration": 7,
    "start_time": "2022-04-12T12:55:37.439Z"
   },
   {
    "duration": 6,
    "start_time": "2022-04-12T12:55:48.712Z"
   },
   {
    "duration": 2,
    "start_time": "2022-04-12T12:55:57.178Z"
   },
   {
    "duration": 0,
    "start_time": "2022-04-12T12:56:55.401Z"
   },
   {
    "duration": 10899,
    "start_time": "2022-04-12T12:56:57.949Z"
   },
   {
    "duration": 4,
    "start_time": "2022-04-12T12:57:12.015Z"
   },
   {
    "duration": 3,
    "start_time": "2022-04-12T12:57:17.699Z"
   },
   {
    "duration": 4,
    "start_time": "2022-04-12T12:57:32.071Z"
   },
   {
    "duration": 4980,
    "start_time": "2022-04-12T12:57:47.920Z"
   },
   {
    "duration": 4,
    "start_time": "2022-04-12T12:58:01.089Z"
   },
   {
    "duration": 3193,
    "start_time": "2022-04-12T13:01:30.086Z"
   },
   {
    "duration": 4,
    "start_time": "2022-04-12T13:01:46.432Z"
   },
   {
    "duration": 10772,
    "start_time": "2022-04-12T13:02:15.397Z"
   },
   {
    "duration": 0,
    "start_time": "2022-04-12T13:02:26.171Z"
   },
   {
    "duration": 77,
    "start_time": "2022-04-12T13:03:17.105Z"
   },
   {
    "duration": 2352,
    "start_time": "2022-04-12T13:03:24.241Z"
   },
   {
    "duration": 77,
    "start_time": "2022-04-12T13:03:45.569Z"
   },
   {
    "duration": 1517,
    "start_time": "2022-04-12T13:05:01.642Z"
   },
   {
    "duration": 4,
    "start_time": "2022-04-12T13:05:08.751Z"
   },
   {
    "duration": 70,
    "start_time": "2022-04-12T13:05:25.033Z"
   },
   {
    "duration": 84,
    "start_time": "2022-04-12T13:05:34.537Z"
   },
   {
    "duration": 99,
    "start_time": "2022-04-12T13:05:46.257Z"
   },
   {
    "duration": 3909,
    "start_time": "2022-04-12T13:05:51.065Z"
   },
   {
    "duration": 4922,
    "start_time": "2022-04-12T13:07:30.882Z"
   },
   {
    "duration": 35368,
    "start_time": "2022-04-12T13:07:43.585Z"
   },
   {
    "duration": 0,
    "start_time": "2022-04-12T13:08:18.956Z"
   },
   {
    "duration": 27881,
    "start_time": "2022-04-12T13:08:33.716Z"
   },
   {
    "duration": 0,
    "start_time": "2022-04-12T13:09:01.599Z"
   },
   {
    "duration": 0,
    "start_time": "2022-04-12T13:09:01.600Z"
   },
   {
    "duration": 0,
    "start_time": "2022-04-12T13:09:01.601Z"
   },
   {
    "duration": 0,
    "start_time": "2022-04-12T13:09:01.603Z"
   },
   {
    "duration": 0,
    "start_time": "2022-04-12T13:09:01.604Z"
   },
   {
    "duration": 0,
    "start_time": "2022-04-12T13:09:01.604Z"
   },
   {
    "duration": 0,
    "start_time": "2022-04-12T13:09:01.605Z"
   },
   {
    "duration": 0,
    "start_time": "2022-04-12T13:09:01.606Z"
   },
   {
    "duration": 0,
    "start_time": "2022-04-12T13:09:15.862Z"
   },
   {
    "duration": 85,
    "start_time": "2022-04-12T13:10:40.449Z"
   },
   {
    "duration": 6,
    "start_time": "2022-04-12T13:10:48.673Z"
   },
   {
    "duration": 156,
    "start_time": "2022-04-12T13:11:05.298Z"
   },
   {
    "duration": 84,
    "start_time": "2022-04-12T13:11:14.785Z"
   },
   {
    "duration": 3,
    "start_time": "2022-04-12T13:11:45.273Z"
   },
   {
    "duration": 8,
    "start_time": "2022-04-12T13:11:55.065Z"
   },
   {
    "duration": 12723,
    "start_time": "2022-04-12T13:12:31.785Z"
   },
   {
    "duration": 3,
    "start_time": "2022-04-12T13:12:49.738Z"
   },
   {
    "duration": 86,
    "start_time": "2022-04-12T13:13:24.914Z"
   },
   {
    "duration": 93,
    "start_time": "2022-04-12T13:13:32.650Z"
   },
   {
    "duration": 4620,
    "start_time": "2022-04-12T13:15:52.594Z"
   },
   {
    "duration": 4,
    "start_time": "2022-04-12T13:16:05.370Z"
   },
   {
    "duration": 4,
    "start_time": "2022-04-12T13:16:13.594Z"
   },
   {
    "duration": 3,
    "start_time": "2022-04-12T13:16:28.394Z"
   },
   {
    "duration": 2655,
    "start_time": "2022-04-12T13:16:41.690Z"
   },
   {
    "duration": 10729,
    "start_time": "2022-04-12T13:16:49.250Z"
   },
   {
    "duration": 6982,
    "start_time": "2022-04-12T13:17:04.571Z"
   },
   {
    "duration": 1791,
    "start_time": "2022-04-12T13:17:18.970Z"
   },
   {
    "duration": 0,
    "start_time": "2022-04-12T13:17:40.295Z"
   },
   {
    "duration": 5311,
    "start_time": "2022-04-12T13:17:42.139Z"
   },
   {
    "duration": 8726,
    "start_time": "2022-04-12T13:17:58.355Z"
   },
   {
    "duration": 6752,
    "start_time": "2022-04-12T13:18:12.130Z"
   },
   {
    "duration": 13109,
    "start_time": "2022-04-12T13:18:23.212Z"
   },
   {
    "duration": 0,
    "start_time": "2022-04-12T13:19:12.434Z"
   },
   {
    "duration": 0,
    "start_time": "2022-04-12T13:19:25.213Z"
   },
   {
    "duration": 6451,
    "start_time": "2022-04-12T13:19:25.540Z"
   },
   {
    "duration": 3,
    "start_time": "2022-04-12T13:19:36.643Z"
   },
   {
    "duration": 9285,
    "start_time": "2022-04-12T13:19:49.290Z"
   },
   {
    "duration": 3,
    "start_time": "2022-04-12T13:19:58.577Z"
   },
   {
    "duration": 2598,
    "start_time": "2022-04-12T13:21:33.029Z"
   },
   {
    "duration": 1696,
    "start_time": "2022-04-12T13:21:41.578Z"
   },
   {
    "duration": 1511,
    "start_time": "2022-04-12T13:21:45.411Z"
   },
   {
    "duration": 0,
    "start_time": "2022-04-12T13:22:09.264Z"
   },
   {
    "duration": 370,
    "start_time": "2022-04-12T13:45:01.191Z"
   },
   {
    "duration": 5,
    "start_time": "2022-04-12T13:45:01.563Z"
   },
   {
    "duration": 2510,
    "start_time": "2022-04-12T13:45:01.570Z"
   },
   {
    "duration": 10,
    "start_time": "2022-04-12T13:45:04.082Z"
   },
   {
    "duration": 1850,
    "start_time": "2022-04-12T13:45:04.093Z"
   },
   {
    "duration": 590,
    "start_time": "2022-04-12T13:45:05.944Z"
   },
   {
    "duration": 17,
    "start_time": "2022-04-12T13:45:06.536Z"
   },
   {
    "duration": 8,
    "start_time": "2022-04-12T13:48:56.095Z"
   },
   {
    "duration": 10,
    "start_time": "2022-04-12T13:49:09.223Z"
   },
   {
    "duration": 7,
    "start_time": "2022-04-12T13:51:08.911Z"
   },
   {
    "duration": 6,
    "start_time": "2022-04-12T13:51:24.327Z"
   },
   {
    "duration": 4,
    "start_time": "2022-04-12T13:51:40.967Z"
   },
   {
    "duration": 6,
    "start_time": "2022-04-12T13:51:57.391Z"
   },
   {
    "duration": 34,
    "start_time": "2022-04-12T14:01:15.577Z"
   },
   {
    "duration": 7,
    "start_time": "2022-04-12T14:08:14.657Z"
   },
   {
    "duration": 589,
    "start_time": "2022-04-12T14:08:25.434Z"
   },
   {
    "duration": 7,
    "start_time": "2022-04-12T14:08:39.153Z"
   },
   {
    "duration": 7,
    "start_time": "2022-04-12T14:08:56.249Z"
   },
   {
    "duration": 25,
    "start_time": "2022-04-12T14:10:12.379Z"
   },
   {
    "duration": 5,
    "start_time": "2022-04-12T14:10:48.983Z"
   },
   {
    "duration": 12,
    "start_time": "2022-04-12T14:11:29.937Z"
   },
   {
    "duration": 13,
    "start_time": "2022-04-12T14:12:09.780Z"
   },
   {
    "duration": 252,
    "start_time": "2022-04-12T14:31:43.549Z"
   },
   {
    "duration": 4,
    "start_time": "2022-04-12T14:31:48.684Z"
   },
   {
    "duration": 3,
    "start_time": "2022-04-12T19:09:49.785Z"
   },
   {
    "duration": 8,
    "start_time": "2022-04-12T19:09:49.790Z"
   },
   {
    "duration": 416,
    "start_time": "2022-04-12T19:09:49.799Z"
   },
   {
    "duration": 124,
    "start_time": "2022-04-12T19:09:50.216Z"
   },
   {
    "duration": 478,
    "start_time": "2022-04-12T19:09:50.342Z"
   },
   {
    "duration": 12,
    "start_time": "2022-04-12T19:09:50.823Z"
   },
   {
    "duration": 9,
    "start_time": "2022-04-12T19:09:50.837Z"
   },
   {
    "duration": 738,
    "start_time": "2022-04-12T19:16:22.298Z"
   },
   {
    "duration": 2,
    "start_time": "2022-04-12T19:17:01.331Z"
   },
   {
    "duration": 10,
    "start_time": "2022-04-12T19:20:34.426Z"
   },
   {
    "duration": 2,
    "start_time": "2022-04-12T19:21:44.267Z"
   },
   {
    "duration": 7,
    "start_time": "2022-04-12T19:21:44.974Z"
   },
   {
    "duration": 3,
    "start_time": "2022-04-12T19:21:53.479Z"
   },
   {
    "duration": 6,
    "start_time": "2022-04-12T19:21:54.131Z"
   },
   {
    "duration": 3,
    "start_time": "2022-04-12T19:22:02.104Z"
   },
   {
    "duration": 7,
    "start_time": "2022-04-12T19:22:03.026Z"
   },
   {
    "duration": 7,
    "start_time": "2022-04-12T19:27:23.805Z"
   },
   {
    "duration": 7,
    "start_time": "2022-04-12T19:27:27.082Z"
   },
   {
    "duration": 3,
    "start_time": "2022-04-12T19:30:44.193Z"
   },
   {
    "duration": 7,
    "start_time": "2022-04-12T19:30:44.840Z"
   },
   {
    "duration": 9,
    "start_time": "2022-04-12T19:31:02.923Z"
   },
   {
    "duration": 8,
    "start_time": "2022-04-12T19:31:07.142Z"
   },
   {
    "duration": 98,
    "start_time": "2022-04-12T19:32:35.560Z"
   },
   {
    "duration": 7,
    "start_time": "2022-04-12T19:33:29.542Z"
   },
   {
    "duration": 8,
    "start_time": "2022-04-12T19:33:38.293Z"
   },
   {
    "duration": 8,
    "start_time": "2022-04-12T19:33:49.086Z"
   },
   {
    "duration": 9,
    "start_time": "2022-04-12T19:34:30.992Z"
   },
   {
    "duration": 6,
    "start_time": "2022-04-12T19:34:47.594Z"
   },
   {
    "duration": 19,
    "start_time": "2022-04-12T19:35:30.919Z"
   },
   {
    "duration": 5,
    "start_time": "2022-04-12T19:35:44.420Z"
   },
   {
    "duration": 7,
    "start_time": "2022-04-12T19:35:59.010Z"
   },
   {
    "duration": 131,
    "start_time": "2022-04-12T19:43:41.502Z"
   },
   {
    "duration": 7,
    "start_time": "2022-04-12T19:43:49.191Z"
   },
   {
    "duration": 4,
    "start_time": "2022-04-12T19:45:32.545Z"
   },
   {
    "duration": 5,
    "start_time": "2022-04-12T19:45:47.002Z"
   },
   {
    "duration": 4,
    "start_time": "2022-04-12T19:46:12.006Z"
   },
   {
    "duration": 8,
    "start_time": "2022-04-12T19:46:17.747Z"
   },
   {
    "duration": 1159,
    "start_time": "2022-04-13T07:26:11.437Z"
   },
   {
    "duration": 4,
    "start_time": "2022-04-13T07:26:12.598Z"
   },
   {
    "duration": 414,
    "start_time": "2022-04-13T07:26:12.603Z"
   },
   {
    "duration": 111,
    "start_time": "2022-04-13T07:26:13.018Z"
   },
   {
    "duration": 438,
    "start_time": "2022-04-13T07:26:13.131Z"
   },
   {
    "duration": 4,
    "start_time": "2022-04-13T07:26:13.571Z"
   },
   {
    "duration": 26,
    "start_time": "2022-04-13T07:26:13.577Z"
   },
   {
    "duration": 6,
    "start_time": "2022-04-13T07:26:13.605Z"
   },
   {
    "duration": 5,
    "start_time": "2022-04-13T07:26:50.449Z"
   },
   {
    "duration": 88,
    "start_time": "2022-04-13T07:27:26.561Z"
   },
   {
    "duration": 8,
    "start_time": "2022-04-13T07:27:36.699Z"
   },
   {
    "duration": 4,
    "start_time": "2022-04-13T07:27:51.435Z"
   },
   {
    "duration": 5,
    "start_time": "2022-04-13T07:39:02.268Z"
   },
   {
    "duration": 158,
    "start_time": "2022-04-13T07:39:27.451Z"
   },
   {
    "duration": 1253,
    "start_time": "2022-04-13T07:39:45.028Z"
   },
   {
    "duration": 1538,
    "start_time": "2022-04-13T07:40:04.289Z"
   },
   {
    "duration": 1583,
    "start_time": "2022-04-13T07:40:24.069Z"
   },
   {
    "duration": 1272,
    "start_time": "2022-04-13T07:41:45.157Z"
   },
   {
    "duration": 1225,
    "start_time": "2022-04-13T07:42:25.183Z"
   },
   {
    "duration": 11,
    "start_time": "2022-04-13T07:42:39.366Z"
   },
   {
    "duration": 6,
    "start_time": "2022-04-13T07:43:11.332Z"
   },
   {
    "duration": 5,
    "start_time": "2022-04-13T07:43:23.884Z"
   },
   {
    "duration": 5,
    "start_time": "2022-04-13T07:43:34.493Z"
   },
   {
    "duration": 13,
    "start_time": "2022-04-13T07:44:02.038Z"
   },
   {
    "duration": 12,
    "start_time": "2022-04-13T07:44:20.718Z"
   },
   {
    "duration": 12,
    "start_time": "2022-04-13T07:44:29.406Z"
   },
   {
    "duration": 4,
    "start_time": "2022-04-13T07:44:54.575Z"
   },
   {
    "duration": 5,
    "start_time": "2022-04-13T07:45:06.501Z"
   },
   {
    "duration": 5,
    "start_time": "2022-04-13T07:45:15.165Z"
   },
   {
    "duration": 5,
    "start_time": "2022-04-13T07:45:28.205Z"
   },
   {
    "duration": 42,
    "start_time": "2022-04-13T07:46:33.461Z"
   },
   {
    "duration": 16,
    "start_time": "2022-04-13T07:46:52.361Z"
   },
   {
    "duration": 18,
    "start_time": "2022-04-13T07:47:05.486Z"
   },
   {
    "duration": 50,
    "start_time": "2022-04-13T07:47:12.703Z"
   },
   {
    "duration": 8,
    "start_time": "2022-04-13T07:51:43.490Z"
   },
   {
    "duration": 21,
    "start_time": "2022-04-13T07:58:35.831Z"
   },
   {
    "duration": 17,
    "start_time": "2022-04-13T07:58:41.472Z"
   },
   {
    "duration": 13,
    "start_time": "2022-04-13T07:58:44.351Z"
   },
   {
    "duration": 11,
    "start_time": "2022-04-13T07:58:51.024Z"
   },
   {
    "duration": 1181,
    "start_time": "2022-04-15T18:09:16.212Z"
   },
   {
    "duration": 5,
    "start_time": "2022-04-15T18:09:17.395Z"
   },
   {
    "duration": 434,
    "start_time": "2022-04-15T18:09:17.402Z"
   },
   {
    "duration": 113,
    "start_time": "2022-04-15T18:09:17.837Z"
   },
   {
    "duration": 449,
    "start_time": "2022-04-15T18:09:17.952Z"
   },
   {
    "duration": 3,
    "start_time": "2022-04-15T18:09:18.404Z"
   },
   {
    "duration": 24,
    "start_time": "2022-04-15T18:09:18.409Z"
   },
   {
    "duration": 8,
    "start_time": "2022-04-15T18:09:18.434Z"
   },
   {
    "duration": 11,
    "start_time": "2022-04-15T18:09:18.444Z"
   },
   {
    "duration": 3,
    "start_time": "2022-04-15T18:16:58.180Z"
   },
   {
    "duration": 7,
    "start_time": "2022-04-15T18:16:58.185Z"
   },
   {
    "duration": 369,
    "start_time": "2022-04-15T18:16:58.194Z"
   },
   {
    "duration": 109,
    "start_time": "2022-04-15T18:16:58.565Z"
   },
   {
    "duration": 414,
    "start_time": "2022-04-15T18:16:58.677Z"
   },
   {
    "duration": 3,
    "start_time": "2022-04-15T18:16:59.100Z"
   },
   {
    "duration": 9,
    "start_time": "2022-04-15T18:16:59.104Z"
   },
   {
    "duration": 9,
    "start_time": "2022-04-15T18:16:59.114Z"
   },
   {
    "duration": 5,
    "start_time": "2022-04-15T18:16:59.124Z"
   },
   {
    "duration": 3,
    "start_time": "2022-04-15T18:17:52.564Z"
   },
   {
    "duration": 4,
    "start_time": "2022-04-15T18:17:52.569Z"
   },
   {
    "duration": 440,
    "start_time": "2022-04-15T18:17:52.575Z"
   },
   {
    "duration": 113,
    "start_time": "2022-04-15T18:17:53.017Z"
   },
   {
    "duration": 430,
    "start_time": "2022-04-15T18:17:53.132Z"
   },
   {
    "duration": 3,
    "start_time": "2022-04-15T18:17:53.564Z"
   },
   {
    "duration": 10,
    "start_time": "2022-04-15T18:17:53.568Z"
   },
   {
    "duration": 5,
    "start_time": "2022-04-15T18:17:53.579Z"
   },
   {
    "duration": 23,
    "start_time": "2022-04-15T18:17:53.585Z"
   },
   {
    "duration": 6,
    "start_time": "2022-04-15T18:17:53.609Z"
   },
   {
    "duration": 13,
    "start_time": "2022-04-15T18:26:16.035Z"
   },
   {
    "duration": 21,
    "start_time": "2022-04-15T18:35:17.867Z"
   },
   {
    "duration": 4,
    "start_time": "2022-04-15T18:36:06.437Z"
   },
   {
    "duration": 102,
    "start_time": "2022-04-15T18:36:07.954Z"
   },
   {
    "duration": 3,
    "start_time": "2022-04-15T18:36:18.813Z"
   },
   {
    "duration": 353,
    "start_time": "2022-04-15T18:36:19.543Z"
   },
   {
    "duration": 3,
    "start_time": "2022-04-15T18:36:22.645Z"
   },
   {
    "duration": 5,
    "start_time": "2022-04-15T18:36:22.650Z"
   },
   {
    "duration": 368,
    "start_time": "2022-04-15T18:36:22.657Z"
   },
   {
    "duration": 107,
    "start_time": "2022-04-15T18:36:23.027Z"
   },
   {
    "duration": 396,
    "start_time": "2022-04-15T18:36:23.135Z"
   },
   {
    "duration": 3,
    "start_time": "2022-04-15T18:36:23.532Z"
   },
   {
    "duration": 9,
    "start_time": "2022-04-15T18:36:23.536Z"
   },
   {
    "duration": 4,
    "start_time": "2022-04-15T18:36:23.546Z"
   },
   {
    "duration": 11,
    "start_time": "2022-04-15T18:36:23.552Z"
   },
   {
    "duration": 10,
    "start_time": "2022-04-15T18:36:23.564Z"
   },
   {
    "duration": 26,
    "start_time": "2022-04-15T18:36:23.575Z"
   },
   {
    "duration": 4,
    "start_time": "2022-04-15T18:36:23.602Z"
   },
   {
    "duration": 23,
    "start_time": "2022-04-15T18:38:47.322Z"
   },
   {
    "duration": 23,
    "start_time": "2022-04-15T18:39:04.930Z"
   },
   {
    "duration": 14,
    "start_time": "2022-04-15T18:39:16.686Z"
   },
   {
    "duration": 23,
    "start_time": "2022-04-15T18:39:26.035Z"
   },
   {
    "duration": 23,
    "start_time": "2022-04-15T18:39:57.390Z"
   },
   {
    "duration": 22,
    "start_time": "2022-04-15T18:40:05.990Z"
   },
   {
    "duration": 57,
    "start_time": "2022-04-15T18:40:38.699Z"
   },
   {
    "duration": 5,
    "start_time": "2022-04-15T18:52:04.178Z"
   },
   {
    "duration": 12,
    "start_time": "2022-04-15T18:52:12.762Z"
   },
   {
    "duration": 3,
    "start_time": "2022-04-15T19:16:53.002Z"
   },
   {
    "duration": 6,
    "start_time": "2022-04-15T19:16:53.007Z"
   },
   {
    "duration": 378,
    "start_time": "2022-04-15T19:16:53.014Z"
   },
   {
    "duration": 111,
    "start_time": "2022-04-15T19:16:53.393Z"
   },
   {
    "duration": 434,
    "start_time": "2022-04-15T19:16:53.507Z"
   },
   {
    "duration": 2,
    "start_time": "2022-04-15T19:16:53.943Z"
   },
   {
    "duration": 10,
    "start_time": "2022-04-15T19:16:53.946Z"
   },
   {
    "duration": 7,
    "start_time": "2022-04-15T19:16:53.958Z"
   },
   {
    "duration": 33,
    "start_time": "2022-04-15T19:16:53.967Z"
   },
   {
    "duration": 6,
    "start_time": "2022-04-15T19:16:54.001Z"
   },
   {
    "duration": 14,
    "start_time": "2022-04-15T19:16:54.009Z"
   },
   {
    "duration": 39,
    "start_time": "2022-04-15T19:16:54.024Z"
   },
   {
    "duration": 7,
    "start_time": "2022-04-15T19:29:26.793Z"
   },
   {
    "duration": 8,
    "start_time": "2022-04-15T19:30:19.791Z"
   },
   {
    "duration": 6,
    "start_time": "2022-04-15T19:30:25.834Z"
   },
   {
    "duration": 2,
    "start_time": "2022-04-15T19:30:52.391Z"
   },
   {
    "duration": 7,
    "start_time": "2022-04-15T19:31:03.034Z"
   },
   {
    "duration": 2,
    "start_time": "2022-04-15T19:31:07.714Z"
   },
   {
    "duration": 6,
    "start_time": "2022-04-15T19:31:07.718Z"
   },
   {
    "duration": 384,
    "start_time": "2022-04-15T19:31:07.725Z"
   },
   {
    "duration": 103,
    "start_time": "2022-04-15T19:31:08.110Z"
   },
   {
    "duration": 406,
    "start_time": "2022-04-15T19:31:08.215Z"
   },
   {
    "duration": 2,
    "start_time": "2022-04-15T19:31:08.623Z"
   },
   {
    "duration": 7,
    "start_time": "2022-04-15T19:31:08.627Z"
   },
   {
    "duration": 5,
    "start_time": "2022-04-15T19:31:08.636Z"
   },
   {
    "duration": 8,
    "start_time": "2022-04-15T19:31:08.643Z"
   },
   {
    "duration": 6,
    "start_time": "2022-04-15T19:31:08.652Z"
   },
   {
    "duration": 12,
    "start_time": "2022-04-15T19:31:08.660Z"
   },
   {
    "duration": 38,
    "start_time": "2022-04-15T19:31:08.700Z"
   },
   {
    "duration": 4,
    "start_time": "2022-04-15T19:35:15.665Z"
   },
   {
    "duration": 122,
    "start_time": "2022-04-15T19:36:51.176Z"
   },
   {
    "duration": 14,
    "start_time": "2022-04-15T19:41:14.969Z"
   },
   {
    "duration": 146,
    "start_time": "2022-04-15T19:42:14.342Z"
   },
   {
    "duration": 147,
    "start_time": "2022-04-15T19:42:43.013Z"
   },
   {
    "duration": 22,
    "start_time": "2022-04-15T20:16:37.828Z"
   },
   {
    "duration": 8,
    "start_time": "2022-04-15T20:30:05.272Z"
   },
   {
    "duration": 38,
    "start_time": "2022-04-15T20:46:58.763Z"
   },
   {
    "duration": 20,
    "start_time": "2022-04-15T20:47:35.404Z"
   },
   {
    "duration": 6,
    "start_time": "2022-04-15T20:48:04.866Z"
   },
   {
    "duration": 6,
    "start_time": "2022-04-15T20:50:23.963Z"
   },
   {
    "duration": 24,
    "start_time": "2022-04-15T20:51:15.357Z"
   },
   {
    "duration": 2,
    "start_time": "2022-04-15T20:52:21.732Z"
   },
   {
    "duration": 7,
    "start_time": "2022-04-15T20:52:21.736Z"
   },
   {
    "duration": 1036,
    "start_time": "2022-04-15T20:52:21.744Z"
   },
   {
    "duration": 539,
    "start_time": "2022-04-15T20:52:22.782Z"
   },
   {
    "duration": 523,
    "start_time": "2022-04-15T20:52:23.323Z"
   },
   {
    "duration": 2,
    "start_time": "2022-04-15T20:52:23.848Z"
   },
   {
    "duration": 8,
    "start_time": "2022-04-15T20:52:23.852Z"
   },
   {
    "duration": 5,
    "start_time": "2022-04-15T20:52:23.862Z"
   },
   {
    "duration": 35,
    "start_time": "2022-04-15T20:52:23.869Z"
   },
   {
    "duration": 12,
    "start_time": "2022-04-15T20:52:23.906Z"
   },
   {
    "duration": 9,
    "start_time": "2022-04-15T20:52:23.920Z"
   },
   {
    "duration": 25,
    "start_time": "2022-04-15T20:52:23.931Z"
   },
   {
    "duration": 6,
    "start_time": "2022-04-15T20:52:23.958Z"
   },
   {
    "duration": 61,
    "start_time": "2022-04-15T20:52:23.968Z"
   },
   {
    "duration": 6,
    "start_time": "2022-04-15T20:52:24.031Z"
   },
   {
    "duration": 152,
    "start_time": "2022-04-15T20:52:24.038Z"
   },
   {
    "duration": 20,
    "start_time": "2022-04-15T20:53:35.328Z"
   },
   {
    "duration": 8,
    "start_time": "2022-04-15T20:54:06.379Z"
   },
   {
    "duration": 6,
    "start_time": "2022-04-15T20:54:11.106Z"
   },
   {
    "duration": 7,
    "start_time": "2022-04-15T20:54:31.729Z"
   },
   {
    "duration": 12,
    "start_time": "2022-04-15T20:58:32.519Z"
   },
   {
    "duration": 13,
    "start_time": "2022-04-15T20:58:56.191Z"
   },
   {
    "duration": 11,
    "start_time": "2022-04-15T20:59:01.008Z"
   },
   {
    "duration": 16,
    "start_time": "2022-04-15T21:02:13.503Z"
   },
   {
    "duration": 7,
    "start_time": "2022-04-15T21:03:04.296Z"
   },
   {
    "duration": 6,
    "start_time": "2022-04-15T21:03:16.680Z"
   },
   {
    "duration": 25,
    "start_time": "2022-04-15T21:03:48.105Z"
   },
   {
    "duration": 1068,
    "start_time": "2022-04-15T21:04:11.114Z"
   },
   {
    "duration": 4,
    "start_time": "2022-04-15T21:04:12.184Z"
   },
   {
    "duration": 418,
    "start_time": "2022-04-15T21:04:12.189Z"
   },
   {
    "duration": 124,
    "start_time": "2022-04-15T21:04:12.610Z"
   },
   {
    "duration": 432,
    "start_time": "2022-04-15T21:04:12.736Z"
   },
   {
    "duration": 2,
    "start_time": "2022-04-15T21:04:13.170Z"
   },
   {
    "duration": 10,
    "start_time": "2022-04-15T21:04:13.174Z"
   },
   {
    "duration": 16,
    "start_time": "2022-04-15T21:04:13.185Z"
   },
   {
    "duration": 8,
    "start_time": "2022-04-15T21:04:13.203Z"
   },
   {
    "duration": 12,
    "start_time": "2022-04-15T21:04:13.214Z"
   },
   {
    "duration": 8,
    "start_time": "2022-04-15T21:04:13.228Z"
   },
   {
    "duration": 25,
    "start_time": "2022-04-15T21:04:13.238Z"
   },
   {
    "duration": 47,
    "start_time": "2022-04-15T21:04:13.264Z"
   },
   {
    "duration": 6,
    "start_time": "2022-04-15T21:04:13.313Z"
   },
   {
    "duration": 163,
    "start_time": "2022-04-15T21:04:13.321Z"
   },
   {
    "duration": 27,
    "start_time": "2022-04-15T21:04:52.036Z"
   },
   {
    "duration": 27,
    "start_time": "2022-04-15T21:05:07.221Z"
   },
   {
    "duration": 27,
    "start_time": "2022-04-15T21:05:40.213Z"
   },
   {
    "duration": 27,
    "start_time": "2022-04-15T21:05:52.406Z"
   },
   {
    "duration": 6,
    "start_time": "2022-04-15T21:06:27.896Z"
   },
   {
    "duration": 28,
    "start_time": "2022-04-15T21:06:46.484Z"
   },
   {
    "duration": 11,
    "start_time": "2022-04-15T21:06:59.781Z"
   },
   {
    "duration": 20,
    "start_time": "2022-04-15T21:07:00.186Z"
   },
   {
    "duration": 6,
    "start_time": "2022-04-15T21:07:37.279Z"
   },
   {
    "duration": 26,
    "start_time": "2022-04-15T21:09:05.415Z"
   },
   {
    "duration": 4,
    "start_time": "2022-04-15T21:10:00.193Z"
   },
   {
    "duration": 5,
    "start_time": "2022-04-15T21:10:22.935Z"
   },
   {
    "duration": 105,
    "start_time": "2022-04-15T21:10:42.921Z"
   },
   {
    "duration": 13,
    "start_time": "2022-04-15T21:11:21.018Z"
   },
   {
    "duration": 15,
    "start_time": "2022-04-15T21:11:43.732Z"
   },
   {
    "duration": 6,
    "start_time": "2022-04-15T21:13:04.881Z"
   },
   {
    "duration": 6,
    "start_time": "2022-04-15T21:13:31.452Z"
   },
   {
    "duration": 6,
    "start_time": "2022-04-15T21:14:39.404Z"
   },
   {
    "duration": 2814,
    "start_time": "2022-04-15T21:15:00.126Z"
   },
   {
    "duration": 188,
    "start_time": "2022-04-15T21:15:25.216Z"
   },
   {
    "duration": 152,
    "start_time": "2022-04-15T21:15:38.181Z"
   },
   {
    "duration": 8,
    "start_time": "2022-04-15T21:15:43.721Z"
   },
   {
    "duration": 8,
    "start_time": "2022-04-15T21:15:49.238Z"
   },
   {
    "duration": 6,
    "start_time": "2022-04-15T21:15:58.436Z"
   },
   {
    "duration": 8,
    "start_time": "2022-04-15T21:16:50.098Z"
   },
   {
    "duration": 7,
    "start_time": "2022-04-15T21:17:29.069Z"
   },
   {
    "duration": 6,
    "start_time": "2022-04-15T21:18:23.924Z"
   },
   {
    "duration": 7,
    "start_time": "2022-04-15T21:19:23.662Z"
   },
   {
    "duration": 6,
    "start_time": "2022-04-15T21:19:55.270Z"
   },
   {
    "duration": 6,
    "start_time": "2022-04-15T21:20:08.965Z"
   },
   {
    "duration": 7,
    "start_time": "2022-04-15T21:20:12.866Z"
   },
   {
    "duration": 25,
    "start_time": "2022-04-15T21:20:53.526Z"
   },
   {
    "duration": 7,
    "start_time": "2022-04-15T21:21:08.637Z"
   },
   {
    "duration": 7,
    "start_time": "2022-04-15T21:21:55.230Z"
   },
   {
    "duration": 6,
    "start_time": "2022-04-15T21:22:28.256Z"
   },
   {
    "duration": 6,
    "start_time": "2022-04-15T21:24:52.253Z"
   },
   {
    "duration": 8,
    "start_time": "2022-04-15T21:25:09.724Z"
   },
   {
    "duration": 6,
    "start_time": "2022-04-15T21:25:18.424Z"
   },
   {
    "duration": 7,
    "start_time": "2022-04-15T21:25:44.529Z"
   },
   {
    "duration": 22,
    "start_time": "2022-04-15T21:27:10.722Z"
   },
   {
    "duration": 7,
    "start_time": "2022-04-15T21:27:44.340Z"
   },
   {
    "duration": 5,
    "start_time": "2022-04-15T21:29:47.635Z"
   },
   {
    "duration": 6,
    "start_time": "2022-04-15T21:29:59.436Z"
   },
   {
    "duration": 6,
    "start_time": "2022-04-15T21:30:22.755Z"
   },
   {
    "duration": 7,
    "start_time": "2022-04-15T21:30:27.330Z"
   },
   {
    "duration": 6,
    "start_time": "2022-04-15T21:30:47.853Z"
   },
   {
    "duration": 165,
    "start_time": "2022-04-15T21:31:15.335Z"
   },
   {
    "duration": 5,
    "start_time": "2022-04-15T21:31:22.085Z"
   },
   {
    "duration": 162,
    "start_time": "2022-04-15T21:31:27.971Z"
   },
   {
    "duration": 146,
    "start_time": "2022-04-15T21:31:32.257Z"
   },
   {
    "duration": 5,
    "start_time": "2022-04-15T21:31:42.574Z"
   },
   {
    "duration": 3,
    "start_time": "2022-04-15T21:35:34.247Z"
   },
   {
    "duration": 6,
    "start_time": "2022-04-15T21:35:34.252Z"
   },
   {
    "duration": 381,
    "start_time": "2022-04-15T21:35:34.259Z"
   },
   {
    "duration": 110,
    "start_time": "2022-04-15T21:35:34.641Z"
   },
   {
    "duration": 434,
    "start_time": "2022-04-15T21:35:34.753Z"
   },
   {
    "duration": 2,
    "start_time": "2022-04-15T21:35:35.189Z"
   },
   {
    "duration": 11,
    "start_time": "2022-04-15T21:35:35.192Z"
   },
   {
    "duration": 5,
    "start_time": "2022-04-15T21:35:35.204Z"
   },
   {
    "duration": 9,
    "start_time": "2022-04-15T21:35:35.210Z"
   },
   {
    "duration": 14,
    "start_time": "2022-04-15T21:35:35.220Z"
   },
   {
    "duration": 27,
    "start_time": "2022-04-15T21:35:35.236Z"
   },
   {
    "duration": 35,
    "start_time": "2022-04-15T21:35:35.265Z"
   },
   {
    "duration": 6,
    "start_time": "2022-04-15T21:35:35.302Z"
   },
   {
    "duration": 142,
    "start_time": "2022-04-15T21:35:35.310Z"
   },
   {
    "duration": 13,
    "start_time": "2022-04-15T21:36:19.633Z"
   },
   {
    "duration": 3,
    "start_time": "2022-04-15T21:36:30.671Z"
   },
   {
    "duration": 18,
    "start_time": "2022-04-15T21:36:30.676Z"
   },
   {
    "duration": 386,
    "start_time": "2022-04-15T21:36:30.696Z"
   },
   {
    "duration": 106,
    "start_time": "2022-04-15T21:36:31.084Z"
   },
   {
    "duration": 411,
    "start_time": "2022-04-15T21:36:31.200Z"
   },
   {
    "duration": 3,
    "start_time": "2022-04-15T21:36:31.612Z"
   },
   {
    "duration": 9,
    "start_time": "2022-04-15T21:36:31.616Z"
   },
   {
    "duration": 9,
    "start_time": "2022-04-15T21:36:31.626Z"
   },
   {
    "duration": 9,
    "start_time": "2022-04-15T21:36:31.637Z"
   },
   {
    "duration": 6,
    "start_time": "2022-04-15T21:36:31.647Z"
   },
   {
    "duration": 46,
    "start_time": "2022-04-15T21:36:31.655Z"
   },
   {
    "duration": 8,
    "start_time": "2022-04-15T21:36:31.702Z"
   },
   {
    "duration": 8,
    "start_time": "2022-04-15T21:36:31.711Z"
   },
   {
    "duration": 142,
    "start_time": "2022-04-15T21:36:31.721Z"
   },
   {
    "duration": 3,
    "start_time": "2022-04-15T21:39:46.335Z"
   },
   {
    "duration": 3,
    "start_time": "2022-04-15T21:39:48.980Z"
   },
   {
    "duration": 8,
    "start_time": "2022-04-15T21:39:48.985Z"
   },
   {
    "duration": 375,
    "start_time": "2022-04-15T21:39:48.994Z"
   },
   {
    "duration": 1012,
    "start_time": "2022-04-15T21:39:49.371Z"
   },
   {
    "duration": 416,
    "start_time": "2022-04-15T21:39:50.385Z"
   },
   {
    "duration": 3,
    "start_time": "2022-04-15T21:39:50.802Z"
   },
   {
    "duration": 8,
    "start_time": "2022-04-15T21:39:50.807Z"
   },
   {
    "duration": 7,
    "start_time": "2022-04-15T21:39:50.816Z"
   },
   {
    "duration": 10,
    "start_time": "2022-04-15T21:39:50.825Z"
   },
   {
    "duration": 288,
    "start_time": "2022-04-15T21:39:50.837Z"
   },
   {
    "duration": 30,
    "start_time": "2022-04-15T21:39:51.127Z"
   },
   {
    "duration": 126,
    "start_time": "2022-04-15T21:39:51.158Z"
   },
   {
    "duration": 4,
    "start_time": "2022-04-15T21:40:28.320Z"
   },
   {
    "duration": 2,
    "start_time": "2022-04-15T21:40:32.245Z"
   },
   {
    "duration": 11,
    "start_time": "2022-04-15T21:40:32.249Z"
   },
   {
    "duration": 358,
    "start_time": "2022-04-15T21:40:32.261Z"
   },
   {
    "duration": 109,
    "start_time": "2022-04-15T21:40:32.621Z"
   },
   {
    "duration": 405,
    "start_time": "2022-04-15T21:40:32.732Z"
   },
   {
    "duration": 2,
    "start_time": "2022-04-15T21:40:33.139Z"
   },
   {
    "duration": 12,
    "start_time": "2022-04-15T21:40:33.143Z"
   },
   {
    "duration": 4,
    "start_time": "2022-04-15T21:40:33.157Z"
   },
   {
    "duration": 9,
    "start_time": "2022-04-15T21:40:33.163Z"
   },
   {
    "duration": 26,
    "start_time": "2022-04-15T21:40:33.174Z"
   },
   {
    "duration": 28,
    "start_time": "2022-04-15T21:40:33.203Z"
   },
   {
    "duration": 132,
    "start_time": "2022-04-15T21:40:33.232Z"
   },
   {
    "duration": 3,
    "start_time": "2022-04-15T21:40:52.582Z"
   },
   {
    "duration": 5,
    "start_time": "2022-04-15T21:40:52.587Z"
   },
   {
    "duration": 365,
    "start_time": "2022-04-15T21:40:52.594Z"
   },
   {
    "duration": 102,
    "start_time": "2022-04-15T21:40:52.961Z"
   },
   {
    "duration": 397,
    "start_time": "2022-04-15T21:40:53.065Z"
   },
   {
    "duration": 3,
    "start_time": "2022-04-15T21:40:53.464Z"
   },
   {
    "duration": 11,
    "start_time": "2022-04-15T21:40:53.469Z"
   },
   {
    "duration": 19,
    "start_time": "2022-04-15T21:40:53.482Z"
   },
   {
    "duration": 7,
    "start_time": "2022-04-15T21:40:53.504Z"
   },
   {
    "duration": 8,
    "start_time": "2022-04-15T21:40:53.512Z"
   },
   {
    "duration": 26,
    "start_time": "2022-04-15T21:40:53.521Z"
   },
   {
    "duration": 145,
    "start_time": "2022-04-15T21:40:53.549Z"
   },
   {
    "duration": 3,
    "start_time": "2022-04-15T21:48:02.376Z"
   },
   {
    "duration": 8,
    "start_time": "2022-04-15T21:48:02.381Z"
   },
   {
    "duration": 391,
    "start_time": "2022-04-15T21:48:02.391Z"
   },
   {
    "duration": 107,
    "start_time": "2022-04-15T21:48:02.784Z"
   },
   {
    "duration": 430,
    "start_time": "2022-04-15T21:48:02.901Z"
   },
   {
    "duration": 3,
    "start_time": "2022-04-15T21:48:03.333Z"
   },
   {
    "duration": 12,
    "start_time": "2022-04-15T21:48:03.338Z"
   },
   {
    "duration": 8,
    "start_time": "2022-04-15T21:48:03.351Z"
   },
   {
    "duration": 11,
    "start_time": "2022-04-15T21:48:03.361Z"
   },
   {
    "duration": 7,
    "start_time": "2022-04-15T21:48:03.374Z"
   },
   {
    "duration": 24,
    "start_time": "2022-04-15T21:48:03.401Z"
   },
   {
    "duration": 11,
    "start_time": "2022-04-15T21:48:03.427Z"
   },
   {
    "duration": 144,
    "start_time": "2022-04-15T21:48:03.439Z"
   },
   {
    "duration": 14,
    "start_time": "2022-04-15T21:53:23.457Z"
   },
   {
    "duration": 3,
    "start_time": "2022-04-15T21:53:31.993Z"
   },
   {
    "duration": 8,
    "start_time": "2022-04-15T21:53:31.999Z"
   },
   {
    "duration": 377,
    "start_time": "2022-04-15T21:53:32.009Z"
   },
   {
    "duration": 104,
    "start_time": "2022-04-15T21:53:32.388Z"
   },
   {
    "duration": 419,
    "start_time": "2022-04-15T21:53:32.500Z"
   },
   {
    "duration": 3,
    "start_time": "2022-04-15T21:53:32.921Z"
   },
   {
    "duration": 9,
    "start_time": "2022-04-15T21:53:32.925Z"
   },
   {
    "duration": 5,
    "start_time": "2022-04-15T21:53:32.936Z"
   },
   {
    "duration": 11,
    "start_time": "2022-04-15T21:53:32.943Z"
   },
   {
    "duration": 10,
    "start_time": "2022-04-15T21:53:32.956Z"
   },
   {
    "duration": 50,
    "start_time": "2022-04-15T21:53:32.968Z"
   },
   {
    "duration": 12,
    "start_time": "2022-04-15T21:53:33.019Z"
   },
   {
    "duration": 257,
    "start_time": "2022-04-15T21:53:33.033Z"
   },
   {
    "duration": 7,
    "start_time": "2022-04-15T21:55:30.148Z"
   },
   {
    "duration": 3,
    "start_time": "2022-04-15T21:56:50.790Z"
   },
   {
    "duration": 6,
    "start_time": "2022-04-15T21:56:50.794Z"
   },
   {
    "duration": 387,
    "start_time": "2022-04-15T21:56:50.802Z"
   },
   {
    "duration": 100,
    "start_time": "2022-04-15T21:56:51.201Z"
   },
   {
    "duration": 412,
    "start_time": "2022-04-15T21:56:51.303Z"
   },
   {
    "duration": 3,
    "start_time": "2022-04-15T21:56:51.716Z"
   },
   {
    "duration": 9,
    "start_time": "2022-04-15T21:56:51.720Z"
   },
   {
    "duration": 4,
    "start_time": "2022-04-15T21:56:51.731Z"
   },
   {
    "duration": 7,
    "start_time": "2022-04-15T21:56:51.737Z"
   },
   {
    "duration": 8,
    "start_time": "2022-04-15T21:56:51.746Z"
   },
   {
    "duration": 16,
    "start_time": "2022-04-15T21:56:51.755Z"
   },
   {
    "duration": 6,
    "start_time": "2022-04-15T21:56:51.799Z"
   },
   {
    "duration": 11,
    "start_time": "2022-04-15T21:56:51.807Z"
   },
   {
    "duration": 147,
    "start_time": "2022-04-15T21:56:51.820Z"
   },
   {
    "duration": 3,
    "start_time": "2022-04-15T21:57:45.998Z"
   },
   {
    "duration": 5,
    "start_time": "2022-04-15T21:57:46.003Z"
   },
   {
    "duration": 380,
    "start_time": "2022-04-15T21:57:46.010Z"
   },
   {
    "duration": 101,
    "start_time": "2022-04-15T21:57:46.391Z"
   },
   {
    "duration": 426,
    "start_time": "2022-04-15T21:57:46.494Z"
   },
   {
    "duration": 3,
    "start_time": "2022-04-15T21:57:46.921Z"
   },
   {
    "duration": 13,
    "start_time": "2022-04-15T21:57:46.926Z"
   },
   {
    "duration": 6,
    "start_time": "2022-04-15T21:57:46.941Z"
   },
   {
    "duration": 9,
    "start_time": "2022-04-15T21:57:46.949Z"
   },
   {
    "duration": 6,
    "start_time": "2022-04-15T21:57:46.960Z"
   },
   {
    "duration": 52,
    "start_time": "2022-04-15T21:57:46.969Z"
   },
   {
    "duration": 6,
    "start_time": "2022-04-15T21:57:47.023Z"
   },
   {
    "duration": 14,
    "start_time": "2022-04-15T21:57:47.030Z"
   },
   {
    "duration": 145,
    "start_time": "2022-04-15T21:57:47.045Z"
   },
   {
    "duration": 46,
    "start_time": "2022-04-15T22:38:10.156Z"
   },
   {
    "duration": 5,
    "start_time": "2022-04-15T22:41:36.250Z"
   },
   {
    "duration": 675,
    "start_time": "2022-04-15T22:43:41.494Z"
   },
   {
    "duration": 1169,
    "start_time": "2022-04-16T15:01:30.464Z"
   },
   {
    "duration": 5,
    "start_time": "2022-04-16T15:01:31.635Z"
   },
   {
    "duration": 391,
    "start_time": "2022-04-16T15:01:31.641Z"
   },
   {
    "duration": 113,
    "start_time": "2022-04-16T15:01:32.034Z"
   },
   {
    "duration": 427,
    "start_time": "2022-04-16T15:01:32.149Z"
   },
   {
    "duration": 3,
    "start_time": "2022-04-16T15:01:32.578Z"
   },
   {
    "duration": 14,
    "start_time": "2022-04-16T15:01:32.583Z"
   },
   {
    "duration": 6,
    "start_time": "2022-04-16T15:01:32.599Z"
   },
   {
    "duration": 17,
    "start_time": "2022-04-16T15:01:32.606Z"
   },
   {
    "duration": 30,
    "start_time": "2022-04-16T15:01:32.626Z"
   },
   {
    "duration": 38,
    "start_time": "2022-04-16T15:01:32.658Z"
   },
   {
    "duration": 10,
    "start_time": "2022-04-16T15:01:32.698Z"
   },
   {
    "duration": 65,
    "start_time": "2022-04-16T15:01:32.709Z"
   },
   {
    "duration": 227,
    "start_time": "2022-04-16T15:01:32.776Z"
   },
   {
    "duration": 8,
    "start_time": "2022-04-16T15:01:33.006Z"
   },
   {
    "duration": 741,
    "start_time": "2022-04-16T15:01:33.016Z"
   },
   {
    "duration": 441,
    "start_time": "2022-04-16T15:01:50.342Z"
   },
   {
    "duration": 185,
    "start_time": "2022-04-16T15:02:00.233Z"
   },
   {
    "duration": 0,
    "start_time": "2022-04-16T15:02:40.343Z"
   },
   {
    "duration": 48,
    "start_time": "2022-04-16T15:02:51.283Z"
   },
   {
    "duration": 1271,
    "start_time": "2022-04-16T15:02:55.733Z"
   },
   {
    "duration": 4,
    "start_time": "2022-04-16T15:02:57.006Z"
   },
   {
    "duration": 575,
    "start_time": "2022-04-16T15:02:57.012Z"
   },
   {
    "duration": 117,
    "start_time": "2022-04-16T15:02:57.590Z"
   },
   {
    "duration": 452,
    "start_time": "2022-04-16T15:02:57.709Z"
   },
   {
    "duration": 2,
    "start_time": "2022-04-16T15:02:58.163Z"
   },
   {
    "duration": 16,
    "start_time": "2022-04-16T15:02:58.167Z"
   },
   {
    "duration": 20,
    "start_time": "2022-04-16T15:02:58.185Z"
   },
   {
    "duration": 17,
    "start_time": "2022-04-16T15:02:58.208Z"
   },
   {
    "duration": 10,
    "start_time": "2022-04-16T15:02:58.227Z"
   },
   {
    "duration": 39,
    "start_time": "2022-04-16T15:02:58.238Z"
   },
   {
    "duration": 12,
    "start_time": "2022-04-16T15:02:58.279Z"
   },
   {
    "duration": 69,
    "start_time": "2022-04-16T15:02:58.293Z"
   },
   {
    "duration": 167,
    "start_time": "2022-04-16T15:02:58.364Z"
   },
   {
    "duration": 7,
    "start_time": "2022-04-16T15:02:58.533Z"
   },
   {
    "duration": 727,
    "start_time": "2022-04-16T15:02:58.542Z"
   },
   {
    "duration": 442,
    "start_time": "2022-04-16T15:03:06.247Z"
   },
   {
    "duration": 7,
    "start_time": "2022-04-16T15:09:00.701Z"
   },
   {
    "duration": 450,
    "start_time": "2022-04-16T15:09:01.606Z"
   },
   {
    "duration": 210,
    "start_time": "2022-04-16T15:09:07.809Z"
   },
   {
    "duration": 207,
    "start_time": "2022-04-16T15:09:27.115Z"
   },
   {
    "duration": 759,
    "start_time": "2022-04-16T15:09:41.224Z"
   },
   {
    "duration": 288,
    "start_time": "2022-04-16T15:10:31.895Z"
   },
   {
    "duration": 531,
    "start_time": "2022-04-16T15:10:41.797Z"
   },
   {
    "duration": 799,
    "start_time": "2022-04-16T15:10:47.750Z"
   },
   {
    "duration": 829,
    "start_time": "2022-04-16T15:11:33.156Z"
   },
   {
    "duration": 1304,
    "start_time": "2022-04-16T15:11:40.175Z"
   },
   {
    "duration": 967,
    "start_time": "2022-04-16T15:12:43.205Z"
   },
   {
    "duration": 696,
    "start_time": "2022-04-16T15:12:58.276Z"
   },
   {
    "duration": 866,
    "start_time": "2022-04-16T15:13:02.444Z"
   },
   {
    "duration": 735,
    "start_time": "2022-04-16T15:13:44.537Z"
   },
   {
    "duration": 1100,
    "start_time": "2022-04-16T15:13:50.737Z"
   },
   {
    "duration": 9,
    "start_time": "2022-04-16T15:19:15.909Z"
   },
   {
    "duration": 3,
    "start_time": "2022-04-16T15:19:57.549Z"
   },
   {
    "duration": 731,
    "start_time": "2022-04-16T15:20:11.037Z"
   },
   {
    "duration": 519,
    "start_time": "2022-04-16T15:21:18.816Z"
   },
   {
    "duration": 346,
    "start_time": "2022-04-16T15:21:52.275Z"
   },
   {
    "duration": 126,
    "start_time": "2022-04-16T15:22:22.198Z"
   },
   {
    "duration": 686,
    "start_time": "2022-04-16T15:23:08.845Z"
   },
   {
    "duration": 146,
    "start_time": "2022-04-16T15:23:21.213Z"
   },
   {
    "duration": 231,
    "start_time": "2022-04-16T15:23:34.914Z"
   },
   {
    "duration": 209,
    "start_time": "2022-04-16T15:23:57.302Z"
   },
   {
    "duration": 250,
    "start_time": "2022-04-16T15:24:24.740Z"
   },
   {
    "duration": 151,
    "start_time": "2022-04-16T15:24:35.276Z"
   },
   {
    "duration": 252,
    "start_time": "2022-04-16T15:24:39.293Z"
   },
   {
    "duration": 166,
    "start_time": "2022-04-16T15:25:03.600Z"
   },
   {
    "duration": 161,
    "start_time": "2022-04-16T15:25:12.051Z"
   },
   {
    "duration": 252,
    "start_time": "2022-04-16T15:25:17.470Z"
   },
   {
    "duration": 360,
    "start_time": "2022-04-16T15:25:23.374Z"
   },
   {
    "duration": 458,
    "start_time": "2022-04-16T15:29:29.943Z"
   },
   {
    "duration": 301,
    "start_time": "2022-04-16T15:29:38.543Z"
   },
   {
    "duration": 198,
    "start_time": "2022-04-16T15:30:10.400Z"
   },
   {
    "duration": 196,
    "start_time": "2022-04-16T15:30:23.886Z"
   },
   {
    "duration": 581,
    "start_time": "2022-04-16T15:30:36.989Z"
   },
   {
    "duration": 876,
    "start_time": "2022-04-16T15:34:04.683Z"
   },
   {
    "duration": 759,
    "start_time": "2022-04-16T15:34:28.353Z"
   },
   {
    "duration": 842,
    "start_time": "2022-04-16T15:34:37.829Z"
   },
   {
    "duration": 609,
    "start_time": "2022-04-16T15:34:46.656Z"
   },
   {
    "duration": 891,
    "start_time": "2022-04-16T15:34:53.777Z"
   },
   {
    "duration": 135,
    "start_time": "2022-04-16T15:38:50.870Z"
   },
   {
    "duration": 706,
    "start_time": "2022-04-16T15:39:31.508Z"
   },
   {
    "duration": 1189,
    "start_time": "2022-04-16T15:40:04.708Z"
   },
   {
    "duration": 684,
    "start_time": "2022-04-16T15:40:27.883Z"
   },
   {
    "duration": 908,
    "start_time": "2022-04-16T15:40:50.936Z"
   },
   {
    "duration": 670,
    "start_time": "2022-04-16T15:41:22.727Z"
   },
   {
    "duration": 896,
    "start_time": "2022-04-16T15:41:35.647Z"
   },
   {
    "duration": 646,
    "start_time": "2022-04-16T15:41:44.683Z"
   },
   {
    "duration": 869,
    "start_time": "2022-04-16T15:43:06.802Z"
   },
   {
    "duration": 665,
    "start_time": "2022-04-16T15:43:15.669Z"
   },
   {
    "duration": 875,
    "start_time": "2022-04-16T15:43:43.486Z"
   },
   {
    "duration": 621,
    "start_time": "2022-04-16T15:45:46.319Z"
   },
   {
    "duration": 868,
    "start_time": "2022-04-16T15:45:53.594Z"
   },
   {
    "duration": 629,
    "start_time": "2022-04-16T15:46:12.885Z"
   },
   {
    "duration": 1021,
    "start_time": "2022-04-16T15:47:18.773Z"
   },
   {
    "duration": 4,
    "start_time": "2022-04-16T15:54:07.792Z"
   },
   {
    "duration": 4,
    "start_time": "2022-04-16T15:54:23.164Z"
   },
   {
    "duration": 9,
    "start_time": "2022-04-16T15:54:34.047Z"
   },
   {
    "duration": 4,
    "start_time": "2022-04-16T15:55:07.422Z"
   },
   {
    "duration": 5,
    "start_time": "2022-04-16T15:55:15.609Z"
   },
   {
    "duration": 4,
    "start_time": "2022-04-16T15:55:35.146Z"
   },
   {
    "duration": 5,
    "start_time": "2022-04-16T15:55:48.082Z"
   },
   {
    "duration": 708,
    "start_time": "2022-04-16T15:56:08.502Z"
   },
   {
    "duration": 369,
    "start_time": "2022-04-16T15:56:37.377Z"
   },
   {
    "duration": 803,
    "start_time": "2022-04-16T15:56:48.045Z"
   },
   {
    "duration": 543,
    "start_time": "2022-04-16T15:57:45.847Z"
   },
   {
    "duration": 915,
    "start_time": "2022-04-16T15:57:58.127Z"
   },
   {
    "duration": 864,
    "start_time": "2022-04-16T16:00:12.390Z"
   },
   {
    "duration": 15,
    "start_time": "2022-04-16T16:01:41.530Z"
   },
   {
    "duration": 13,
    "start_time": "2022-04-16T16:01:50.427Z"
   },
   {
    "duration": 1147,
    "start_time": "2022-04-16T16:01:58.729Z"
   },
   {
    "duration": 702,
    "start_time": "2022-04-16T16:02:14.083Z"
   },
   {
    "duration": 956,
    "start_time": "2022-04-16T16:02:22.157Z"
   },
   {
    "duration": 742,
    "start_time": "2022-04-16T16:02:40.604Z"
   },
   {
    "duration": 1011,
    "start_time": "2022-04-16T16:02:52.966Z"
   },
   {
    "duration": 804,
    "start_time": "2022-04-16T16:04:49.033Z"
   },
   {
    "duration": 1132,
    "start_time": "2022-04-16T16:05:26.053Z"
   },
   {
    "duration": 920,
    "start_time": "2022-04-16T16:06:40.873Z"
   },
   {
    "duration": 949,
    "start_time": "2022-04-16T16:07:02.811Z"
   },
   {
    "duration": 881,
    "start_time": "2022-04-16T16:08:58.623Z"
   },
   {
    "duration": 1095,
    "start_time": "2022-04-16T16:09:11.123Z"
   },
   {
    "duration": 928,
    "start_time": "2022-04-16T16:09:56.233Z"
   },
   {
    "duration": 1121,
    "start_time": "2022-04-16T16:10:57.228Z"
   },
   {
    "duration": 873,
    "start_time": "2022-04-16T16:11:15.433Z"
   },
   {
    "duration": 1669,
    "start_time": "2022-04-16T16:14:02.188Z"
   },
   {
    "duration": 836,
    "start_time": "2022-04-16T16:16:12.364Z"
   },
   {
    "duration": 4,
    "start_time": "2022-04-16T16:16:45.041Z"
   },
   {
    "duration": 11,
    "start_time": "2022-04-16T16:16:45.047Z"
   },
   {
    "duration": 409,
    "start_time": "2022-04-16T16:16:45.060Z"
   },
   {
    "duration": 116,
    "start_time": "2022-04-16T16:16:45.471Z"
   },
   {
    "duration": 444,
    "start_time": "2022-04-16T16:16:45.589Z"
   },
   {
    "duration": 3,
    "start_time": "2022-04-16T16:16:46.035Z"
   },
   {
    "duration": 16,
    "start_time": "2022-04-16T16:16:46.040Z"
   },
   {
    "duration": 11,
    "start_time": "2022-04-16T16:16:46.057Z"
   },
   {
    "duration": 10,
    "start_time": "2022-04-16T16:16:46.070Z"
   },
   {
    "duration": 9,
    "start_time": "2022-04-16T16:16:46.082Z"
   },
   {
    "duration": 30,
    "start_time": "2022-04-16T16:16:46.093Z"
   },
   {
    "duration": 42,
    "start_time": "2022-04-16T16:16:46.125Z"
   },
   {
    "duration": 57,
    "start_time": "2022-04-16T16:16:46.168Z"
   },
   {
    "duration": 152,
    "start_time": "2022-04-16T16:16:46.227Z"
   },
   {
    "duration": 1806,
    "start_time": "2022-04-16T16:16:46.381Z"
   },
   {
    "duration": 1238,
    "start_time": "2022-04-16T16:16:48.189Z"
   },
   {
    "duration": 869,
    "start_time": "2022-04-16T16:16:49.429Z"
   },
   {
    "duration": 3,
    "start_time": "2022-04-16T16:17:49.709Z"
   },
   {
    "duration": 7,
    "start_time": "2022-04-16T16:17:49.714Z"
   },
   {
    "duration": 405,
    "start_time": "2022-04-16T16:17:49.723Z"
   },
   {
    "duration": 118,
    "start_time": "2022-04-16T16:17:50.130Z"
   },
   {
    "duration": 450,
    "start_time": "2022-04-16T16:17:50.256Z"
   },
   {
    "duration": 3,
    "start_time": "2022-04-16T16:17:50.708Z"
   },
   {
    "duration": 11,
    "start_time": "2022-04-16T16:17:50.712Z"
   },
   {
    "duration": 5,
    "start_time": "2022-04-16T16:17:50.725Z"
   },
   {
    "duration": 27,
    "start_time": "2022-04-16T16:17:50.732Z"
   },
   {
    "duration": 7,
    "start_time": "2022-04-16T16:17:50.761Z"
   },
   {
    "duration": 33,
    "start_time": "2022-04-16T16:17:50.771Z"
   },
   {
    "duration": 54,
    "start_time": "2022-04-16T16:17:50.805Z"
   },
   {
    "duration": 52,
    "start_time": "2022-04-16T16:17:50.861Z"
   },
   {
    "duration": 154,
    "start_time": "2022-04-16T16:17:50.915Z"
   },
   {
    "duration": 982,
    "start_time": "2022-04-16T16:17:51.072Z"
   },
   {
    "duration": 1837,
    "start_time": "2022-04-16T16:17:52.057Z"
   },
   {
    "duration": 873,
    "start_time": "2022-04-16T16:17:53.896Z"
   },
   {
    "duration": 585,
    "start_time": "2022-04-16T16:20:01.330Z"
   },
   {
    "duration": 794,
    "start_time": "2022-04-16T16:20:19.769Z"
   },
   {
    "duration": 717,
    "start_time": "2022-04-16T16:22:36.214Z"
   },
   {
    "duration": 635,
    "start_time": "2022-04-16T16:22:42.998Z"
   },
   {
    "duration": 586,
    "start_time": "2022-04-16T16:22:49.266Z"
   },
   {
    "duration": 1106,
    "start_time": "2022-04-16T16:22:54.284Z"
   },
   {
    "duration": 995,
    "start_time": "2022-04-16T16:24:03.653Z"
   },
   {
    "duration": 593,
    "start_time": "2022-04-16T16:24:17.519Z"
   },
   {
    "duration": 833,
    "start_time": "2022-04-16T16:24:42.907Z"
   },
   {
    "duration": 610,
    "start_time": "2022-04-16T16:24:57.011Z"
   },
   {
    "duration": 735,
    "start_time": "2022-04-16T16:25:10.830Z"
   },
   {
    "duration": 3,
    "start_time": "2022-04-16T16:31:04.809Z"
   },
   {
    "duration": 11,
    "start_time": "2022-04-16T17:09:27.800Z"
   },
   {
    "duration": 112,
    "start_time": "2022-04-16T17:11:40.119Z"
   },
   {
    "duration": 192,
    "start_time": "2022-04-16T17:11:49.404Z"
   },
   {
    "duration": 412,
    "start_time": "2022-04-16T17:12:19.099Z"
   },
   {
    "duration": 878,
    "start_time": "2022-04-16T17:12:54.902Z"
   },
   {
    "duration": 319,
    "start_time": "2022-04-16T17:15:26.776Z"
   },
   {
    "duration": 218,
    "start_time": "2022-04-16T17:15:45.357Z"
   },
   {
    "duration": 364,
    "start_time": "2022-04-16T17:17:08.540Z"
   },
   {
    "duration": 328,
    "start_time": "2022-04-16T17:17:21.861Z"
   },
   {
    "duration": 553,
    "start_time": "2022-04-16T17:19:21.088Z"
   },
   {
    "duration": 328,
    "start_time": "2022-04-16T17:20:04.296Z"
   },
   {
    "duration": 390,
    "start_time": "2022-04-16T17:20:18.934Z"
   },
   {
    "duration": 297,
    "start_time": "2022-04-16T17:21:47.651Z"
   },
   {
    "duration": 328,
    "start_time": "2022-04-16T17:22:16.744Z"
   },
   {
    "duration": 279,
    "start_time": "2022-04-16T17:22:57.309Z"
   },
   {
    "duration": 731,
    "start_time": "2022-04-16T17:23:15.936Z"
   },
   {
    "duration": 407,
    "start_time": "2022-04-16T17:23:37.994Z"
   },
   {
    "duration": 427,
    "start_time": "2022-04-16T17:23:54.727Z"
   },
   {
    "duration": 409,
    "start_time": "2022-04-16T17:28:28.438Z"
   },
   {
    "duration": 3,
    "start_time": "2022-04-16T18:35:57.264Z"
   },
   {
    "duration": 6,
    "start_time": "2022-04-16T18:35:57.269Z"
   },
   {
    "duration": 398,
    "start_time": "2022-04-16T18:35:57.277Z"
   },
   {
    "duration": 114,
    "start_time": "2022-04-16T18:35:57.677Z"
   },
   {
    "duration": 443,
    "start_time": "2022-04-16T18:35:57.794Z"
   },
   {
    "duration": 3,
    "start_time": "2022-04-16T18:35:58.239Z"
   },
   {
    "duration": 9,
    "start_time": "2022-04-16T18:35:58.255Z"
   },
   {
    "duration": 7,
    "start_time": "2022-04-16T18:35:58.266Z"
   },
   {
    "duration": 10,
    "start_time": "2022-04-16T18:35:58.276Z"
   },
   {
    "duration": 8,
    "start_time": "2022-04-16T18:35:58.288Z"
   },
   {
    "duration": 62,
    "start_time": "2022-04-16T18:35:58.300Z"
   },
   {
    "duration": 13,
    "start_time": "2022-04-16T18:35:58.364Z"
   },
   {
    "duration": 101,
    "start_time": "2022-04-16T18:35:58.379Z"
   },
   {
    "duration": 218,
    "start_time": "2022-04-16T18:35:58.482Z"
   },
   {
    "duration": 1084,
    "start_time": "2022-04-16T18:35:58.702Z"
   },
   {
    "duration": 1444,
    "start_time": "2022-04-16T18:35:59.788Z"
   },
   {
    "duration": 131,
    "start_time": "2022-04-16T18:36:01.234Z"
   },
   {
    "duration": 0,
    "start_time": "2022-04-16T18:36:01.368Z"
   },
   {
    "duration": 0,
    "start_time": "2022-04-16T18:36:01.370Z"
   },
   {
    "duration": 0,
    "start_time": "2022-04-16T18:36:01.371Z"
   },
   {
    "duration": 882,
    "start_time": "2022-04-16T18:36:27.625Z"
   },
   {
    "duration": 3,
    "start_time": "2022-04-16T18:36:58.728Z"
   },
   {
    "duration": 5,
    "start_time": "2022-04-16T18:36:58.733Z"
   },
   {
    "duration": 484,
    "start_time": "2022-04-16T18:36:58.740Z"
   },
   {
    "duration": 162,
    "start_time": "2022-04-16T18:36:59.226Z"
   },
   {
    "duration": 601,
    "start_time": "2022-04-16T18:36:59.390Z"
   },
   {
    "duration": 3,
    "start_time": "2022-04-16T18:36:59.993Z"
   },
   {
    "duration": 27,
    "start_time": "2022-04-16T18:36:59.998Z"
   },
   {
    "duration": 14,
    "start_time": "2022-04-16T18:37:00.027Z"
   },
   {
    "duration": 31,
    "start_time": "2022-04-16T18:37:00.044Z"
   },
   {
    "duration": 23,
    "start_time": "2022-04-16T18:37:00.077Z"
   },
   {
    "duration": 49,
    "start_time": "2022-04-16T18:37:00.102Z"
   },
   {
    "duration": 18,
    "start_time": "2022-04-16T18:37:00.153Z"
   },
   {
    "duration": 73,
    "start_time": "2022-04-16T18:37:00.174Z"
   },
   {
    "duration": 153,
    "start_time": "2022-04-16T18:37:00.250Z"
   },
   {
    "duration": 624,
    "start_time": "2022-04-16T18:37:00.404Z"
   },
   {
    "duration": 1648,
    "start_time": "2022-04-16T18:37:01.031Z"
   },
   {
    "duration": 115,
    "start_time": "2022-04-16T18:37:02.681Z"
   },
   {
    "duration": 0,
    "start_time": "2022-04-16T18:37:02.798Z"
   },
   {
    "duration": 0,
    "start_time": "2022-04-16T18:37:02.800Z"
   },
   {
    "duration": 0,
    "start_time": "2022-04-16T18:37:02.801Z"
   },
   {
    "duration": 625,
    "start_time": "2022-04-16T18:37:30.139Z"
   },
   {
    "duration": 3,
    "start_time": "2022-04-16T18:38:12.826Z"
   },
   {
    "duration": 22,
    "start_time": "2022-04-16T18:38:12.834Z"
   },
   {
    "duration": 398,
    "start_time": "2022-04-16T18:38:12.858Z"
   },
   {
    "duration": 111,
    "start_time": "2022-04-16T18:38:13.257Z"
   },
   {
    "duration": 433,
    "start_time": "2022-04-16T18:38:13.370Z"
   },
   {
    "duration": 3,
    "start_time": "2022-04-16T18:38:13.804Z"
   },
   {
    "duration": 17,
    "start_time": "2022-04-16T18:38:13.809Z"
   },
   {
    "duration": 6,
    "start_time": "2022-04-16T18:38:13.828Z"
   },
   {
    "duration": 27,
    "start_time": "2022-04-16T18:38:13.836Z"
   },
   {
    "duration": 9,
    "start_time": "2022-04-16T18:38:13.865Z"
   },
   {
    "duration": 31,
    "start_time": "2022-04-16T18:38:13.877Z"
   },
   {
    "duration": 12,
    "start_time": "2022-04-16T18:38:13.909Z"
   },
   {
    "duration": 79,
    "start_time": "2022-04-16T18:38:13.923Z"
   },
   {
    "duration": 141,
    "start_time": "2022-04-16T18:38:14.004Z"
   },
   {
    "duration": 921,
    "start_time": "2022-04-16T18:38:14.147Z"
   },
   {
    "duration": 1088,
    "start_time": "2022-04-16T18:38:15.070Z"
   },
   {
    "duration": 927,
    "start_time": "2022-04-16T18:38:16.160Z"
   },
   {
    "duration": 12,
    "start_time": "2022-04-16T18:38:17.089Z"
   },
   {
    "duration": 656,
    "start_time": "2022-04-16T18:38:17.103Z"
   },
   {
    "duration": 660,
    "start_time": "2022-04-16T18:38:17.761Z"
   },
   {
    "duration": 4,
    "start_time": "2022-04-16T18:39:12.650Z"
   },
   {
    "duration": 7,
    "start_time": "2022-04-16T18:39:12.656Z"
   },
   {
    "duration": 971,
    "start_time": "2022-04-16T18:39:12.665Z"
   },
   {
    "duration": 168,
    "start_time": "2022-04-16T18:39:13.639Z"
   },
   {
    "duration": 638,
    "start_time": "2022-04-16T18:39:13.809Z"
   },
   {
    "duration": 4,
    "start_time": "2022-04-16T18:39:14.454Z"
   },
   {
    "duration": 12,
    "start_time": "2022-04-16T18:39:14.460Z"
   },
   {
    "duration": 6,
    "start_time": "2022-04-16T18:39:14.474Z"
   },
   {
    "duration": 9,
    "start_time": "2022-04-16T18:39:14.484Z"
   },
   {
    "duration": 11,
    "start_time": "2022-04-16T18:39:14.494Z"
   },
   {
    "duration": 64,
    "start_time": "2022-04-16T18:39:14.507Z"
   },
   {
    "duration": 13,
    "start_time": "2022-04-16T18:39:14.573Z"
   },
   {
    "duration": 68,
    "start_time": "2022-04-16T18:39:14.588Z"
   },
   {
    "duration": 140,
    "start_time": "2022-04-16T18:39:14.657Z"
   },
   {
    "duration": 609,
    "start_time": "2022-04-16T18:39:14.799Z"
   },
   {
    "duration": 1152,
    "start_time": "2022-04-16T18:39:15.410Z"
   },
   {
    "duration": 852,
    "start_time": "2022-04-16T18:39:16.564Z"
   },
   {
    "duration": 11,
    "start_time": "2022-04-16T18:39:17.418Z"
   },
   {
    "duration": 403,
    "start_time": "2022-04-16T18:39:17.430Z"
   },
   {
    "duration": 681,
    "start_time": "2022-04-16T18:39:17.834Z"
   },
   {
    "duration": 19,
    "start_time": "2022-04-16T18:56:06.482Z"
   },
   {
    "duration": 5,
    "start_time": "2022-04-16T18:56:27.494Z"
   },
   {
    "duration": 10,
    "start_time": "2022-04-16T18:56:34.178Z"
   },
   {
    "duration": 13,
    "start_time": "2022-04-16T18:56:52.117Z"
   },
   {
    "duration": 23,
    "start_time": "2022-04-16T18:57:19.438Z"
   },
   {
    "duration": 97,
    "start_time": "2022-04-16T18:57:28.591Z"
   },
   {
    "duration": 11,
    "start_time": "2022-04-16T18:57:44.877Z"
   },
   {
    "duration": 94,
    "start_time": "2022-04-16T18:57:52.996Z"
   },
   {
    "duration": 54,
    "start_time": "2022-04-16T19:00:57.920Z"
   },
   {
    "duration": 13,
    "start_time": "2022-04-16T19:01:09.371Z"
   },
   {
    "duration": 58,
    "start_time": "2022-04-16T19:04:47.936Z"
   },
   {
    "duration": 16,
    "start_time": "2022-04-16T19:04:51.554Z"
   },
   {
    "duration": 91,
    "start_time": "2022-04-16T19:05:38.751Z"
   },
   {
    "duration": 14,
    "start_time": "2022-04-16T19:05:39.948Z"
   },
   {
    "duration": 62,
    "start_time": "2022-04-16T19:07:08.980Z"
   },
   {
    "duration": 13,
    "start_time": "2022-04-16T19:07:09.450Z"
   },
   {
    "duration": 32,
    "start_time": "2022-04-16T19:08:13.365Z"
   },
   {
    "duration": 59,
    "start_time": "2022-04-16T19:12:21.430Z"
   },
   {
    "duration": 23,
    "start_time": "2022-04-16T19:12:22.733Z"
   },
   {
    "duration": 3,
    "start_time": "2022-04-16T19:22:35.720Z"
   },
   {
    "duration": 7,
    "start_time": "2022-04-16T19:22:35.726Z"
   },
   {
    "duration": 420,
    "start_time": "2022-04-16T19:22:35.734Z"
   },
   {
    "duration": 108,
    "start_time": "2022-04-16T19:22:36.156Z"
   },
   {
    "duration": 417,
    "start_time": "2022-04-16T19:22:36.266Z"
   },
   {
    "duration": 3,
    "start_time": "2022-04-16T19:22:36.685Z"
   },
   {
    "duration": 10,
    "start_time": "2022-04-16T19:22:36.690Z"
   },
   {
    "duration": 8,
    "start_time": "2022-04-16T19:22:36.702Z"
   },
   {
    "duration": 15,
    "start_time": "2022-04-16T19:22:36.711Z"
   },
   {
    "duration": 7,
    "start_time": "2022-04-16T19:22:36.755Z"
   },
   {
    "duration": 33,
    "start_time": "2022-04-16T19:22:36.766Z"
   },
   {
    "duration": 15,
    "start_time": "2022-04-16T19:22:36.801Z"
   },
   {
    "duration": 77,
    "start_time": "2022-04-16T19:22:36.819Z"
   },
   {
    "duration": 226,
    "start_time": "2022-04-16T19:22:36.899Z"
   },
   {
    "duration": 852,
    "start_time": "2022-04-16T19:22:37.127Z"
   },
   {
    "duration": 595,
    "start_time": "2022-04-16T19:22:37.981Z"
   },
   {
    "duration": 581,
    "start_time": "2022-04-16T19:22:38.578Z"
   },
   {
    "duration": 11,
    "start_time": "2022-04-16T19:22:39.161Z"
   },
   {
    "duration": 402,
    "start_time": "2022-04-16T19:22:39.174Z"
   },
   {
    "duration": 431,
    "start_time": "2022-04-16T19:22:39.578Z"
   },
   {
    "duration": 383,
    "start_time": "2022-04-16T19:22:40.011Z"
   },
   {
    "duration": 20,
    "start_time": "2022-04-16T19:22:40.396Z"
   },
   {
    "duration": 588,
    "start_time": "2022-04-16T19:22:40.418Z"
   },
   {
    "duration": 1471,
    "start_time": "2022-04-16T19:23:09.865Z"
   },
   {
    "duration": 60,
    "start_time": "2022-04-16T19:23:51.098Z"
   },
   {
    "duration": 21,
    "start_time": "2022-04-16T19:23:53.015Z"
   },
   {
    "duration": 1551,
    "start_time": "2022-04-16T19:24:07.986Z"
   },
   {
    "duration": 60,
    "start_time": "2022-04-16T19:25:49.293Z"
   },
   {
    "duration": 21,
    "start_time": "2022-04-16T19:25:50.074Z"
   },
   {
    "duration": 965,
    "start_time": "2022-04-16T19:25:56.594Z"
   },
   {
    "duration": 487,
    "start_time": "2022-04-16T19:26:47.888Z"
   },
   {
    "duration": 29,
    "start_time": "2022-04-16T19:26:48.754Z"
   },
   {
    "duration": 875,
    "start_time": "2022-04-16T19:26:51.939Z"
   },
   {
    "duration": 57,
    "start_time": "2022-04-16T19:31:22.997Z"
   },
   {
    "duration": 18,
    "start_time": "2022-04-16T19:31:24.032Z"
   },
   {
    "duration": 635,
    "start_time": "2022-04-16T19:31:26.845Z"
   },
   {
    "duration": 924,
    "start_time": "2022-04-16T19:34:44.261Z"
   },
   {
    "duration": 668,
    "start_time": "2022-04-16T19:35:10.730Z"
   },
   {
    "duration": 3,
    "start_time": "2022-04-16T19:35:46.274Z"
   },
   {
    "duration": 14,
    "start_time": "2022-04-16T19:35:46.279Z"
   },
   {
    "duration": 420,
    "start_time": "2022-04-16T19:35:46.295Z"
   },
   {
    "duration": 111,
    "start_time": "2022-04-16T19:35:46.717Z"
   },
   {
    "duration": 450,
    "start_time": "2022-04-16T19:35:46.830Z"
   },
   {
    "duration": 3,
    "start_time": "2022-04-16T19:35:47.282Z"
   },
   {
    "duration": 15,
    "start_time": "2022-04-16T19:35:47.286Z"
   },
   {
    "duration": 7,
    "start_time": "2022-04-16T19:35:47.303Z"
   },
   {
    "duration": 10,
    "start_time": "2022-04-16T19:35:47.311Z"
   },
   {
    "duration": 6,
    "start_time": "2022-04-16T19:35:47.355Z"
   },
   {
    "duration": 30,
    "start_time": "2022-04-16T19:35:47.365Z"
   },
   {
    "duration": 13,
    "start_time": "2022-04-16T19:35:47.397Z"
   },
   {
    "duration": 69,
    "start_time": "2022-04-16T19:35:47.412Z"
   },
   {
    "duration": 140,
    "start_time": "2022-04-16T19:35:47.483Z"
   },
   {
    "duration": 747,
    "start_time": "2022-04-16T19:35:47.625Z"
   },
   {
    "duration": 971,
    "start_time": "2022-04-16T19:35:48.374Z"
   },
   {
    "duration": 658,
    "start_time": "2022-04-16T19:35:49.347Z"
   },
   {
    "duration": 16,
    "start_time": "2022-04-16T19:35:50.008Z"
   },
   {
    "duration": 669,
    "start_time": "2022-04-16T19:35:50.026Z"
   },
   {
    "duration": 721,
    "start_time": "2022-04-16T19:35:50.697Z"
   },
   {
    "duration": 104,
    "start_time": "2022-04-16T19:35:51.421Z"
   },
   {
    "duration": 35,
    "start_time": "2022-04-16T19:35:51.528Z"
   },
   {
    "duration": 1828,
    "start_time": "2022-04-16T19:35:51.565Z"
   },
   {
    "duration": 3,
    "start_time": "2022-04-16T19:36:43.835Z"
   },
   {
    "duration": 7,
    "start_time": "2022-04-16T19:36:43.843Z"
   },
   {
    "duration": 383,
    "start_time": "2022-04-16T19:36:43.852Z"
   },
   {
    "duration": 118,
    "start_time": "2022-04-16T19:36:44.237Z"
   },
   {
    "duration": 652,
    "start_time": "2022-04-16T19:36:44.357Z"
   },
   {
    "duration": 4,
    "start_time": "2022-04-16T19:36:45.011Z"
   },
   {
    "duration": 28,
    "start_time": "2022-04-16T19:36:45.017Z"
   },
   {
    "duration": 13,
    "start_time": "2022-04-16T19:36:45.048Z"
   },
   {
    "duration": 12,
    "start_time": "2022-04-16T19:36:45.063Z"
   },
   {
    "duration": 11,
    "start_time": "2022-04-16T19:36:45.078Z"
   },
   {
    "duration": 32,
    "start_time": "2022-04-16T19:36:45.092Z"
   },
   {
    "duration": 39,
    "start_time": "2022-04-16T19:36:45.126Z"
   },
   {
    "duration": 53,
    "start_time": "2022-04-16T19:36:45.167Z"
   },
   {
    "duration": 165,
    "start_time": "2022-04-16T19:36:45.222Z"
   },
   {
    "duration": 1004,
    "start_time": "2022-04-16T19:36:45.389Z"
   },
   {
    "duration": 1270,
    "start_time": "2022-04-16T19:36:46.395Z"
   },
   {
    "duration": 1557,
    "start_time": "2022-04-16T19:36:47.667Z"
   },
   {
    "duration": 16,
    "start_time": "2022-04-16T19:36:49.226Z"
   },
   {
    "duration": 459,
    "start_time": "2022-04-16T19:36:49.257Z"
   },
   {
    "duration": 767,
    "start_time": "2022-04-16T19:36:49.718Z"
   },
   {
    "duration": 68,
    "start_time": "2022-04-16T19:36:50.487Z"
   },
   {
    "duration": 27,
    "start_time": "2022-04-16T19:36:50.556Z"
   },
   {
    "duration": 1131,
    "start_time": "2022-04-16T19:36:50.585Z"
   },
   {
    "duration": 1078,
    "start_time": "2022-04-16T19:40:50.519Z"
   },
   {
    "duration": 3,
    "start_time": "2022-04-16T19:41:25.832Z"
   },
   {
    "duration": 10,
    "start_time": "2022-04-16T19:41:25.838Z"
   },
   {
    "duration": 954,
    "start_time": "2022-04-16T19:41:25.850Z"
   },
   {
    "duration": 166,
    "start_time": "2022-04-16T19:41:26.806Z"
   },
   {
    "duration": 426,
    "start_time": "2022-04-16T19:41:26.974Z"
   },
   {
    "duration": 2,
    "start_time": "2022-04-16T19:41:27.402Z"
   },
   {
    "duration": 12,
    "start_time": "2022-04-16T19:41:27.406Z"
   },
   {
    "duration": 11,
    "start_time": "2022-04-16T19:41:27.420Z"
   },
   {
    "duration": 27,
    "start_time": "2022-04-16T19:41:27.433Z"
   },
   {
    "duration": 14,
    "start_time": "2022-04-16T19:41:27.463Z"
   },
   {
    "duration": 37,
    "start_time": "2022-04-16T19:41:27.479Z"
   },
   {
    "duration": 16,
    "start_time": "2022-04-16T19:41:27.518Z"
   },
   {
    "duration": 67,
    "start_time": "2022-04-16T19:41:27.537Z"
   },
   {
    "duration": 183,
    "start_time": "2022-04-16T19:41:27.606Z"
   },
   {
    "duration": 606,
    "start_time": "2022-04-16T19:41:27.791Z"
   },
   {
    "duration": 949,
    "start_time": "2022-04-16T19:41:28.399Z"
   },
   {
    "duration": 954,
    "start_time": "2022-04-16T19:41:29.351Z"
   },
   {
    "duration": 17,
    "start_time": "2022-04-16T19:41:30.307Z"
   },
   {
    "duration": 428,
    "start_time": "2022-04-16T19:41:30.326Z"
   },
   {
    "duration": 780,
    "start_time": "2022-04-16T19:41:30.756Z"
   },
   {
    "duration": 99,
    "start_time": "2022-04-16T19:41:31.538Z"
   },
   {
    "duration": 32,
    "start_time": "2022-04-16T19:41:31.639Z"
   },
   {
    "duration": 1144,
    "start_time": "2022-04-16T19:41:31.673Z"
   },
   {
    "duration": 12,
    "start_time": "2022-04-16T19:54:46.035Z"
   },
   {
    "duration": 13,
    "start_time": "2022-04-16T19:55:25.167Z"
   },
   {
    "duration": 14,
    "start_time": "2022-04-16T19:55:31.895Z"
   },
   {
    "duration": 10,
    "start_time": "2022-04-16T19:55:47.898Z"
   },
   {
    "duration": 549,
    "start_time": "2022-04-16T19:58:30.351Z"
   },
   {
    "duration": 19,
    "start_time": "2022-04-16T19:59:14.709Z"
   },
   {
    "duration": 12,
    "start_time": "2022-04-16T20:01:51.909Z"
   },
   {
    "duration": 12,
    "start_time": "2022-04-16T20:03:11.143Z"
   },
   {
    "duration": 13,
    "start_time": "2022-04-16T20:04:12.568Z"
   },
   {
    "duration": 14,
    "start_time": "2022-04-16T20:06:02.873Z"
   },
   {
    "duration": 13,
    "start_time": "2022-04-16T20:07:07.236Z"
   },
   {
    "duration": 655,
    "start_time": "2022-04-16T20:14:30.341Z"
   },
   {
    "duration": 313,
    "start_time": "2022-04-16T20:27:54.665Z"
   },
   {
    "duration": 772,
    "start_time": "2022-04-16T20:28:58.352Z"
   },
   {
    "duration": 1937,
    "start_time": "2022-04-16T20:29:08.959Z"
   },
   {
    "duration": 4,
    "start_time": "2022-04-16T20:29:10.899Z"
   },
   {
    "duration": 487,
    "start_time": "2022-04-16T20:29:10.906Z"
   },
   {
    "duration": 128,
    "start_time": "2022-04-16T20:29:11.395Z"
   },
   {
    "duration": 519,
    "start_time": "2022-04-16T20:29:11.525Z"
   },
   {
    "duration": 16,
    "start_time": "2022-04-16T20:29:12.046Z"
   },
   {
    "duration": 21,
    "start_time": "2022-04-16T20:29:12.066Z"
   },
   {
    "duration": 6,
    "start_time": "2022-04-16T20:29:12.089Z"
   },
   {
    "duration": 11,
    "start_time": "2022-04-16T20:29:12.098Z"
   },
   {
    "duration": 10,
    "start_time": "2022-04-16T20:29:12.111Z"
   },
   {
    "duration": 78,
    "start_time": "2022-04-16T20:29:12.123Z"
   },
   {
    "duration": 16,
    "start_time": "2022-04-16T20:29:12.203Z"
   },
   {
    "duration": 107,
    "start_time": "2022-04-16T20:29:12.221Z"
   },
   {
    "duration": 222,
    "start_time": "2022-04-16T20:29:12.333Z"
   },
   {
    "duration": 1000,
    "start_time": "2022-04-16T20:29:12.557Z"
   },
   {
    "duration": 1356,
    "start_time": "2022-04-16T20:29:13.561Z"
   },
   {
    "duration": 1153,
    "start_time": "2022-04-16T20:29:14.919Z"
   },
   {
    "duration": 20,
    "start_time": "2022-04-16T20:29:16.074Z"
   },
   {
    "duration": 484,
    "start_time": "2022-04-16T20:29:16.096Z"
   },
   {
    "duration": 447,
    "start_time": "2022-04-16T20:29:16.581Z"
   },
   {
    "duration": 236,
    "start_time": "2022-04-16T20:29:17.030Z"
   },
   {
    "duration": 20,
    "start_time": "2022-04-16T20:29:17.269Z"
   },
   {
    "duration": 1032,
    "start_time": "2022-04-16T20:29:17.291Z"
   },
   {
    "duration": 125,
    "start_time": "2022-04-16T20:29:18.325Z"
   },
   {
    "duration": 865,
    "start_time": "2022-04-16T20:29:18.455Z"
   },
   {
    "duration": 676,
    "start_time": "2022-04-16T20:29:33.629Z"
   },
   {
    "duration": 853,
    "start_time": "2022-04-16T20:30:03.418Z"
   },
   {
    "duration": 10,
    "start_time": "2022-04-16T20:43:07.125Z"
   },
   {
    "duration": 9,
    "start_time": "2022-04-16T20:43:26.972Z"
   },
   {
    "duration": 12,
    "start_time": "2022-04-16T20:43:39.267Z"
   },
   {
    "duration": 13,
    "start_time": "2022-04-16T20:44:07.456Z"
   },
   {
    "duration": 5,
    "start_time": "2022-04-16T20:46:18.940Z"
   },
   {
    "duration": 111,
    "start_time": "2022-04-16T20:49:41.579Z"
   },
   {
    "duration": 6,
    "start_time": "2022-04-16T20:52:24.764Z"
   },
   {
    "duration": 10,
    "start_time": "2022-04-16T20:52:40.083Z"
   },
   {
    "duration": 16,
    "start_time": "2022-04-16T20:53:09.706Z"
   },
   {
    "duration": 5,
    "start_time": "2022-04-16T20:53:58.868Z"
   },
   {
    "duration": 115,
    "start_time": "2022-04-16T20:54:07.003Z"
   },
   {
    "duration": 12,
    "start_time": "2022-04-16T20:54:12.852Z"
   },
   {
    "duration": 6,
    "start_time": "2022-04-16T20:54:18.869Z"
   },
   {
    "duration": 131,
    "start_time": "2022-04-16T20:54:52.179Z"
   },
   {
    "duration": 14,
    "start_time": "2022-04-16T20:54:58.917Z"
   },
   {
    "duration": 171,
    "start_time": "2022-04-16T20:55:05.881Z"
   },
   {
    "duration": 5,
    "start_time": "2022-04-16T20:55:13.749Z"
   },
   {
    "duration": 24,
    "start_time": "2022-04-16T20:55:18.301Z"
   },
   {
    "duration": 32,
    "start_time": "2022-04-16T20:58:53.889Z"
   },
   {
    "duration": 145,
    "start_time": "2022-04-16T20:58:53.945Z"
   },
   {
    "duration": 5,
    "start_time": "2022-04-16T20:59:22.570Z"
   },
   {
    "duration": 29,
    "start_time": "2022-04-16T20:59:54.111Z"
   },
   {
    "duration": 5,
    "start_time": "2022-04-16T21:00:15.631Z"
   },
   {
    "duration": 275,
    "start_time": "2022-04-16T21:00:29.104Z"
   },
   {
    "duration": 43,
    "start_time": "2022-04-16T21:00:37.437Z"
   },
   {
    "duration": 9,
    "start_time": "2022-04-16T21:01:45.402Z"
   },
   {
    "duration": 47,
    "start_time": "2022-04-16T21:02:03.089Z"
   },
   {
    "duration": 11,
    "start_time": "2022-04-16T21:03:03.301Z"
   },
   {
    "duration": 32,
    "start_time": "2022-04-16T21:04:28.771Z"
   },
   {
    "duration": 36,
    "start_time": "2022-04-16T21:04:49.776Z"
   },
   {
    "duration": 5,
    "start_time": "2022-04-16T21:07:09.018Z"
   },
   {
    "duration": 8,
    "start_time": "2022-04-16T21:07:24.975Z"
   },
   {
    "duration": 5,
    "start_time": "2022-04-16T21:07:51.163Z"
   },
   {
    "duration": 12,
    "start_time": "2022-04-16T21:08:03.383Z"
   },
   {
    "duration": 212,
    "start_time": "2022-04-16T21:08:48.094Z"
   },
   {
    "duration": 17,
    "start_time": "2022-04-16T21:08:57.555Z"
   },
   {
    "duration": 14,
    "start_time": "2022-04-16T21:12:28.843Z"
   },
   {
    "duration": 26,
    "start_time": "2022-04-16T21:12:48.011Z"
   },
   {
    "duration": 14,
    "start_time": "2022-04-16T21:14:13.633Z"
   },
   {
    "duration": 31,
    "start_time": "2022-04-16T21:14:24.135Z"
   },
   {
    "duration": 28,
    "start_time": "2022-04-16T21:15:05.641Z"
   },
   {
    "duration": 15,
    "start_time": "2022-04-16T21:20:23.119Z"
   },
   {
    "duration": 9,
    "start_time": "2022-04-16T21:21:27.192Z"
   },
   {
    "duration": 3,
    "start_time": "2022-04-16T21:22:53.116Z"
   },
   {
    "duration": 7,
    "start_time": "2022-04-16T21:22:53.121Z"
   },
   {
    "duration": 462,
    "start_time": "2022-04-16T21:22:53.130Z"
   },
   {
    "duration": 124,
    "start_time": "2022-04-16T21:22:53.594Z"
   },
   {
    "duration": 484,
    "start_time": "2022-04-16T21:22:53.721Z"
   },
   {
    "duration": 3,
    "start_time": "2022-04-16T21:22:54.207Z"
   },
   {
    "duration": 10,
    "start_time": "2022-04-16T21:22:54.212Z"
   },
   {
    "duration": 30,
    "start_time": "2022-04-16T21:22:54.224Z"
   },
   {
    "duration": 11,
    "start_time": "2022-04-16T21:22:54.256Z"
   },
   {
    "duration": 8,
    "start_time": "2022-04-16T21:22:54.270Z"
   },
   {
    "duration": 30,
    "start_time": "2022-04-16T21:22:54.281Z"
   },
   {
    "duration": 13,
    "start_time": "2022-04-16T21:22:54.313Z"
   },
   {
    "duration": 60,
    "start_time": "2022-04-16T21:22:54.354Z"
   },
   {
    "duration": 157,
    "start_time": "2022-04-16T21:22:54.415Z"
   },
   {
    "duration": 617,
    "start_time": "2022-04-16T21:22:54.574Z"
   },
   {
    "duration": 587,
    "start_time": "2022-04-16T21:22:55.193Z"
   },
   {
    "duration": 720,
    "start_time": "2022-04-16T21:22:55.782Z"
   },
   {
    "duration": 11,
    "start_time": "2022-04-16T21:22:56.504Z"
   },
   {
    "duration": 409,
    "start_time": "2022-04-16T21:22:56.517Z"
   },
   {
    "duration": 415,
    "start_time": "2022-04-16T21:22:56.928Z"
   },
   {
    "duration": 67,
    "start_time": "2022-04-16T21:22:57.345Z"
   },
   {
    "duration": 18,
    "start_time": "2022-04-16T21:22:57.414Z"
   },
   {
    "duration": 795,
    "start_time": "2022-04-16T21:22:57.433Z"
   },
   {
    "duration": 68,
    "start_time": "2022-04-16T21:22:58.230Z"
   },
   {
    "duration": 819,
    "start_time": "2022-04-16T21:22:58.299Z"
   },
   {
    "duration": 7,
    "start_time": "2022-04-16T21:22:59.120Z"
   },
   {
    "duration": 27,
    "start_time": "2022-04-16T21:22:59.128Z"
   },
   {
    "duration": 3,
    "start_time": "2022-04-16T21:23:26.089Z"
   },
   {
    "duration": 5,
    "start_time": "2022-04-16T21:23:26.095Z"
   },
   {
    "duration": 428,
    "start_time": "2022-04-16T21:23:26.102Z"
   },
   {
    "duration": 118,
    "start_time": "2022-04-16T21:23:26.532Z"
   },
   {
    "duration": 471,
    "start_time": "2022-04-16T21:23:26.655Z"
   },
   {
    "duration": 4,
    "start_time": "2022-04-16T21:23:27.128Z"
   },
   {
    "duration": 21,
    "start_time": "2022-04-16T21:23:27.134Z"
   },
   {
    "duration": 5,
    "start_time": "2022-04-16T21:23:27.157Z"
   },
   {
    "duration": 11,
    "start_time": "2022-04-16T21:23:27.164Z"
   },
   {
    "duration": 9,
    "start_time": "2022-04-16T21:23:27.177Z"
   },
   {
    "duration": 68,
    "start_time": "2022-04-16T21:23:27.188Z"
   },
   {
    "duration": 13,
    "start_time": "2022-04-16T21:23:27.258Z"
   },
   {
    "duration": 56,
    "start_time": "2022-04-16T21:23:27.273Z"
   },
   {
    "duration": 169,
    "start_time": "2022-04-16T21:23:27.330Z"
   },
   {
    "duration": 625,
    "start_time": "2022-04-16T21:23:27.501Z"
   },
   {
    "duration": 582,
    "start_time": "2022-04-16T21:23:28.128Z"
   },
   {
    "duration": 737,
    "start_time": "2022-04-16T21:23:28.711Z"
   },
   {
    "duration": 12,
    "start_time": "2022-04-16T21:23:29.454Z"
   },
   {
    "duration": 408,
    "start_time": "2022-04-16T21:23:29.467Z"
   },
   {
    "duration": 422,
    "start_time": "2022-04-16T21:23:29.877Z"
   },
   {
    "duration": 206,
    "start_time": "2022-04-16T21:23:30.301Z"
   },
   {
    "duration": 18,
    "start_time": "2022-04-16T21:23:30.509Z"
   },
   {
    "duration": 683,
    "start_time": "2022-04-16T21:23:30.529Z"
   },
   {
    "duration": 72,
    "start_time": "2022-04-16T21:23:31.215Z"
   },
   {
    "duration": 843,
    "start_time": "2022-04-16T21:23:31.289Z"
   },
   {
    "duration": 7,
    "start_time": "2022-04-16T21:23:32.134Z"
   },
   {
    "duration": 48,
    "start_time": "2022-04-16T21:23:32.143Z"
   },
   {
    "duration": 20,
    "start_time": "2022-04-16T21:26:32.641Z"
   },
   {
    "duration": 4,
    "start_time": "2022-04-16T21:45:42.786Z"
   },
   {
    "duration": 4,
    "start_time": "2022-04-16T21:51:14.110Z"
   },
   {
    "duration": 14,
    "start_time": "2022-04-16T21:51:35.048Z"
   },
   {
    "duration": 4,
    "start_time": "2022-04-16T21:52:06.976Z"
   },
   {
    "duration": 22,
    "start_time": "2022-04-16T21:52:10.002Z"
   },
   {
    "duration": 4,
    "start_time": "2022-04-16T21:52:27.852Z"
   },
   {
    "duration": 13,
    "start_time": "2022-04-16T21:52:28.458Z"
   },
   {
    "duration": 9,
    "start_time": "2022-04-16T21:53:04.093Z"
   },
   {
    "duration": 10,
    "start_time": "2022-04-16T21:53:08.489Z"
   },
   {
    "duration": 10,
    "start_time": "2022-04-16T21:53:30.950Z"
   },
   {
    "duration": 8,
    "start_time": "2022-04-16T21:53:37.206Z"
   },
   {
    "duration": 4,
    "start_time": "2022-04-16T21:54:58.690Z"
   },
   {
    "duration": 4,
    "start_time": "2022-04-16T21:56:07.338Z"
   },
   {
    "duration": 3,
    "start_time": "2022-04-16T21:56:36.011Z"
   },
   {
    "duration": 5,
    "start_time": "2022-04-16T21:56:40.912Z"
   },
   {
    "duration": 13,
    "start_time": "2022-04-16T21:57:09.042Z"
   },
   {
    "duration": 3,
    "start_time": "2022-04-16T21:57:26.580Z"
   },
   {
    "duration": 12,
    "start_time": "2022-04-16T21:57:29.707Z"
   },
   {
    "duration": 13,
    "start_time": "2022-04-16T22:06:26.399Z"
   },
   {
    "duration": 3,
    "start_time": "2022-04-16T22:06:33.106Z"
   },
   {
    "duration": 3,
    "start_time": "2022-04-16T22:07:15.718Z"
   },
   {
    "duration": 4,
    "start_time": "2022-04-16T22:10:00.773Z"
   },
   {
    "duration": 12,
    "start_time": "2022-04-16T22:17:33.885Z"
   },
   {
    "duration": 10,
    "start_time": "2022-04-16T22:28:16.887Z"
   },
   {
    "duration": 7,
    "start_time": "2022-04-16T22:28:39.317Z"
   },
   {
    "duration": 5,
    "start_time": "2022-04-16T22:43:12.283Z"
   },
   {
    "duration": 3,
    "start_time": "2022-04-16T22:45:39.000Z"
   },
   {
    "duration": 5,
    "start_time": "2022-04-16T22:49:24.909Z"
   },
   {
    "duration": 5,
    "start_time": "2022-04-16T22:50:19.126Z"
   },
   {
    "duration": 1054,
    "start_time": "2022-04-16T22:54:54.113Z"
   },
   {
    "duration": 12,
    "start_time": "2022-04-16T22:57:11.277Z"
   },
   {
    "duration": 13,
    "start_time": "2022-04-16T22:57:43.306Z"
   },
   {
    "duration": 59,
    "start_time": "2022-04-16T22:58:46.969Z"
   },
   {
    "duration": 57,
    "start_time": "2022-04-16T22:59:08.560Z"
   },
   {
    "duration": 166,
    "start_time": "2022-04-16T22:59:16.826Z"
   },
   {
    "duration": 60,
    "start_time": "2022-04-16T22:59:31.023Z"
   },
   {
    "duration": 53,
    "start_time": "2022-04-16T22:59:52.551Z"
   },
   {
    "duration": 5,
    "start_time": "2022-04-16T23:00:01.665Z"
   },
   {
    "duration": 4,
    "start_time": "2022-04-16T23:00:53.398Z"
   },
   {
    "duration": 5,
    "start_time": "2022-04-16T23:01:01.148Z"
   },
   {
    "duration": 4,
    "start_time": "2022-04-16T23:01:07.699Z"
   },
   {
    "duration": 58,
    "start_time": "2022-04-16T23:02:09.596Z"
   },
   {
    "duration": 7,
    "start_time": "2022-04-16T23:02:32.835Z"
   },
   {
    "duration": 20,
    "start_time": "2022-04-16T23:03:10.277Z"
   },
   {
    "duration": 14,
    "start_time": "2022-04-16T23:04:01.503Z"
   },
   {
    "duration": 12,
    "start_time": "2022-04-16T23:04:21.042Z"
   },
   {
    "duration": 21,
    "start_time": "2022-04-16T23:04:35.662Z"
   },
   {
    "duration": 23,
    "start_time": "2022-04-16T23:05:07.585Z"
   },
   {
    "duration": 7,
    "start_time": "2022-04-16T23:05:38.848Z"
   },
   {
    "duration": 112,
    "start_time": "2022-04-16T23:06:47.273Z"
   },
   {
    "duration": 112,
    "start_time": "2022-04-16T23:06:56.047Z"
   },
   {
    "duration": 59,
    "start_time": "2022-04-16T23:07:09.099Z"
   },
   {
    "duration": 17,
    "start_time": "2022-04-16T23:07:19.964Z"
   },
   {
    "duration": 10,
    "start_time": "2022-04-16T23:07:47.752Z"
   },
   {
    "duration": 4,
    "start_time": "2022-04-16T23:08:09.674Z"
   },
   {
    "duration": 9,
    "start_time": "2022-04-16T23:08:50.191Z"
   },
   {
    "duration": 4,
    "start_time": "2022-04-16T23:08:51.992Z"
   },
   {
    "duration": 56,
    "start_time": "2022-04-16T23:09:19.122Z"
   },
   {
    "duration": 7,
    "start_time": "2022-04-16T23:11:18.304Z"
   },
   {
    "duration": 3,
    "start_time": "2022-04-16T23:11:36.974Z"
   },
   {
    "duration": 5,
    "start_time": "2022-04-16T23:11:36.981Z"
   },
   {
    "duration": 403,
    "start_time": "2022-04-16T23:11:36.988Z"
   },
   {
    "duration": 106,
    "start_time": "2022-04-16T23:11:37.392Z"
   },
   {
    "duration": 434,
    "start_time": "2022-04-16T23:11:37.501Z"
   },
   {
    "duration": 3,
    "start_time": "2022-04-16T23:11:37.937Z"
   },
   {
    "duration": 19,
    "start_time": "2022-04-16T23:11:37.941Z"
   },
   {
    "duration": 9,
    "start_time": "2022-04-16T23:11:37.962Z"
   },
   {
    "duration": 15,
    "start_time": "2022-04-16T23:11:37.973Z"
   },
   {
    "duration": 6,
    "start_time": "2022-04-16T23:11:37.990Z"
   },
   {
    "duration": 29,
    "start_time": "2022-04-16T23:11:37.999Z"
   },
   {
    "duration": 33,
    "start_time": "2022-04-16T23:11:38.030Z"
   },
   {
    "duration": 53,
    "start_time": "2022-04-16T23:11:38.065Z"
   },
   {
    "duration": 137,
    "start_time": "2022-04-16T23:11:38.120Z"
   },
   {
    "duration": 576,
    "start_time": "2022-04-16T23:11:38.259Z"
   },
   {
    "duration": 682,
    "start_time": "2022-04-16T23:11:38.837Z"
   },
   {
    "duration": 731,
    "start_time": "2022-04-16T23:11:39.520Z"
   },
   {
    "duration": 11,
    "start_time": "2022-04-16T23:11:40.253Z"
   },
   {
    "duration": 388,
    "start_time": "2022-04-16T23:11:40.266Z"
   },
   {
    "duration": 504,
    "start_time": "2022-04-16T23:11:40.656Z"
   },
   {
    "duration": 60,
    "start_time": "2022-04-16T23:11:41.161Z"
   },
   {
    "duration": 16,
    "start_time": "2022-04-16T23:11:41.223Z"
   },
   {
    "duration": 632,
    "start_time": "2022-04-16T23:11:41.254Z"
   },
   {
    "duration": 171,
    "start_time": "2022-04-16T23:11:41.888Z"
   },
   {
    "duration": 17,
    "start_time": "2022-04-16T23:11:42.060Z"
   },
   {
    "duration": 664,
    "start_time": "2022-04-16T23:11:42.079Z"
   },
   {
    "duration": 11,
    "start_time": "2022-04-16T23:11:42.744Z"
   },
   {
    "duration": 9,
    "start_time": "2022-04-16T23:11:42.756Z"
   },
   {
    "duration": 3,
    "start_time": "2022-04-16T23:11:42.769Z"
   },
   {
    "duration": 7,
    "start_time": "2022-04-16T23:11:42.773Z"
   },
   {
    "duration": 7,
    "start_time": "2022-04-16T23:11:42.781Z"
   },
   {
    "duration": 9,
    "start_time": "2022-04-16T23:11:42.789Z"
   },
   {
    "duration": 85,
    "start_time": "2022-04-16T23:11:42.799Z"
   },
   {
    "duration": 20,
    "start_time": "2022-04-16T23:16:02.596Z"
   },
   {
    "duration": 12,
    "start_time": "2022-04-16T23:18:13.675Z"
   },
   {
    "duration": 3,
    "start_time": "2022-04-16T23:18:33.207Z"
   },
   {
    "duration": 3,
    "start_time": "2022-04-16T23:19:27.008Z"
   },
   {
    "duration": 11,
    "start_time": "2022-04-16T23:24:41.573Z"
   },
   {
    "duration": 3,
    "start_time": "2022-04-16T23:24:51.208Z"
   },
   {
    "duration": 318,
    "start_time": "2022-04-16T23:25:00.044Z"
   },
   {
    "duration": 295,
    "start_time": "2022-04-16T23:25:34.668Z"
   },
   {
    "duration": 471,
    "start_time": "2022-04-16T23:25:54.990Z"
   },
   {
    "duration": 115,
    "start_time": "2022-04-16T23:26:48.833Z"
   },
   {
    "duration": 10,
    "start_time": "2022-04-16T23:26:53.435Z"
   },
   {
    "duration": 3,
    "start_time": "2022-04-16T23:28:13.239Z"
   },
   {
    "duration": 987,
    "start_time": "2022-04-16T23:28:20.769Z"
   },
   {
    "duration": 3,
    "start_time": "2022-04-16T23:29:07.448Z"
   },
   {
    "duration": 5,
    "start_time": "2022-04-16T23:29:08.678Z"
   },
   {
    "duration": 883,
    "start_time": "2022-04-16T23:29:15.077Z"
   },
   {
    "duration": 2004,
    "start_time": "2022-04-16T23:31:17.852Z"
   },
   {
    "duration": 801,
    "start_time": "2022-04-16T23:31:32.962Z"
   },
   {
    "duration": 459,
    "start_time": "2022-04-16T23:33:23.603Z"
   },
   {
    "duration": 599,
    "start_time": "2022-04-16T23:33:37.856Z"
   },
   {
    "duration": 1281,
    "start_time": "2022-04-16T23:34:18.482Z"
   },
   {
    "duration": 2327,
    "start_time": "2022-04-16T23:35:23.330Z"
   },
   {
    "duration": 1924,
    "start_time": "2022-04-16T23:35:38.232Z"
   },
   {
    "duration": 22,
    "start_time": "2022-04-16T23:41:19.644Z"
   },
   {
    "duration": 4376,
    "start_time": "2022-04-16T23:42:05.284Z"
   },
   {
    "duration": 11,
    "start_time": "2022-04-16T23:43:13.295Z"
   },
   {
    "duration": 102941,
    "start_time": "2022-04-16T23:43:42.643Z"
   },
   {
    "duration": 3,
    "start_time": "2022-04-16T23:45:53.620Z"
   },
   {
    "duration": 11,
    "start_time": "2022-04-16T23:45:53.625Z"
   },
   {
    "duration": 418,
    "start_time": "2022-04-16T23:45:53.638Z"
   },
   {
    "duration": 108,
    "start_time": "2022-04-16T23:45:54.057Z"
   },
   {
    "duration": 438,
    "start_time": "2022-04-16T23:45:54.168Z"
   },
   {
    "duration": 2,
    "start_time": "2022-04-16T23:45:54.608Z"
   },
   {
    "duration": 20,
    "start_time": "2022-04-16T23:45:54.612Z"
   },
   {
    "duration": 9,
    "start_time": "2022-04-16T23:45:54.634Z"
   },
   {
    "duration": 22,
    "start_time": "2022-04-16T23:45:54.645Z"
   },
   {
    "duration": 16,
    "start_time": "2022-04-16T23:45:54.669Z"
   },
   {
    "duration": 40,
    "start_time": "2022-04-16T23:45:54.688Z"
   },
   {
    "duration": 12,
    "start_time": "2022-04-16T23:45:54.730Z"
   },
   {
    "duration": 56,
    "start_time": "2022-04-16T23:45:54.744Z"
   },
   {
    "duration": 136,
    "start_time": "2022-04-16T23:45:54.802Z"
   },
   {
    "duration": 695,
    "start_time": "2022-04-16T23:45:54.939Z"
   },
   {
    "duration": 642,
    "start_time": "2022-04-16T23:45:55.635Z"
   },
   {
    "duration": 551,
    "start_time": "2022-04-16T23:45:56.278Z"
   },
   {
    "duration": 11,
    "start_time": "2022-04-16T23:45:56.830Z"
   },
   {
    "duration": 495,
    "start_time": "2022-04-16T23:45:56.854Z"
   },
   {
    "duration": 388,
    "start_time": "2022-04-16T23:45:57.350Z"
   },
   {
    "duration": 65,
    "start_time": "2022-04-16T23:45:57.740Z"
   },
   {
    "duration": 17,
    "start_time": "2022-04-16T23:45:57.807Z"
   },
   {
    "duration": 747,
    "start_time": "2022-04-16T23:45:57.826Z"
   },
   {
    "duration": 58,
    "start_time": "2022-04-16T23:45:58.575Z"
   },
   {
    "duration": 32,
    "start_time": "2022-04-16T23:45:58.635Z"
   },
   {
    "duration": 665,
    "start_time": "2022-04-16T23:45:58.669Z"
   },
   {
    "duration": 5,
    "start_time": "2022-04-16T23:45:59.335Z"
   },
   {
    "duration": 8,
    "start_time": "2022-04-16T23:45:59.355Z"
   },
   {
    "duration": 4,
    "start_time": "2022-04-16T23:45:59.366Z"
   },
   {
    "duration": 13,
    "start_time": "2022-04-16T23:45:59.372Z"
   },
   {
    "duration": 11,
    "start_time": "2022-04-16T23:45:59.387Z"
   },
   {
    "duration": 2256,
    "start_time": "2022-04-16T23:45:59.400Z"
   },
   {
    "duration": 4603,
    "start_time": "2022-04-16T23:46:01.659Z"
   },
   {
    "duration": 244283,
    "start_time": "2022-04-16T23:46:06.264Z"
   },
   {
    "duration": 1566,
    "start_time": "2022-04-17T00:05:06.595Z"
   },
   {
    "duration": 1787,
    "start_time": "2022-04-17T00:05:18.768Z"
   },
   {
    "duration": 4176,
    "start_time": "2022-04-17T00:05:44.659Z"
   },
   {
    "duration": 247804,
    "start_time": "2022-04-17T00:05:48.837Z"
   },
   {
    "duration": 4,
    "start_time": "2022-04-17T00:21:59.093Z"
   },
   {
    "duration": 8,
    "start_time": "2022-04-17T00:21:59.099Z"
   },
   {
    "duration": 386,
    "start_time": "2022-04-17T00:21:59.109Z"
   },
   {
    "duration": 106,
    "start_time": "2022-04-17T00:21:59.497Z"
   },
   {
    "duration": 458,
    "start_time": "2022-04-17T00:21:59.605Z"
   },
   {
    "duration": 3,
    "start_time": "2022-04-17T00:22:00.065Z"
   },
   {
    "duration": 13,
    "start_time": "2022-04-17T00:22:00.069Z"
   },
   {
    "duration": 15,
    "start_time": "2022-04-17T00:22:00.083Z"
   },
   {
    "duration": 18,
    "start_time": "2022-04-17T00:22:00.099Z"
   },
   {
    "duration": 15,
    "start_time": "2022-04-17T00:22:00.118Z"
   },
   {
    "duration": 35,
    "start_time": "2022-04-17T00:22:00.135Z"
   },
   {
    "duration": 12,
    "start_time": "2022-04-17T00:22:00.172Z"
   },
   {
    "duration": 55,
    "start_time": "2022-04-17T00:22:00.186Z"
   },
   {
    "duration": 128,
    "start_time": "2022-04-17T00:22:00.243Z"
   },
   {
    "duration": 672,
    "start_time": "2022-04-17T00:22:00.373Z"
   },
   {
    "duration": 560,
    "start_time": "2022-04-17T00:22:01.047Z"
   },
   {
    "duration": 700,
    "start_time": "2022-04-17T00:22:01.608Z"
   },
   {
    "duration": 10,
    "start_time": "2022-04-17T00:22:02.310Z"
   },
   {
    "duration": 383,
    "start_time": "2022-04-17T00:22:02.322Z"
   },
   {
    "duration": 376,
    "start_time": "2022-04-17T00:22:02.707Z"
   },
   {
    "duration": 69,
    "start_time": "2022-04-17T00:22:03.085Z"
   },
   {
    "duration": 17,
    "start_time": "2022-04-17T00:22:03.156Z"
   },
   {
    "duration": 766,
    "start_time": "2022-04-17T00:22:03.175Z"
   },
   {
    "duration": 63,
    "start_time": "2022-04-17T00:22:03.942Z"
   },
   {
    "duration": 18,
    "start_time": "2022-04-17T00:22:04.007Z"
   },
   {
    "duration": 788,
    "start_time": "2022-04-17T00:22:04.027Z"
   },
   {
    "duration": 6,
    "start_time": "2022-04-17T00:22:04.817Z"
   },
   {
    "duration": 10,
    "start_time": "2022-04-17T00:22:04.825Z"
   },
   {
    "duration": 3,
    "start_time": "2022-04-17T00:22:04.856Z"
   },
   {
    "duration": 11,
    "start_time": "2022-04-17T00:22:04.861Z"
   },
   {
    "duration": 10,
    "start_time": "2022-04-17T00:22:04.874Z"
   },
   {
    "duration": 2470,
    "start_time": "2022-04-17T00:22:04.886Z"
   },
   {
    "duration": 6587,
    "start_time": "2022-04-17T00:22:07.358Z"
   },
   {
    "duration": 382270,
    "start_time": "2022-04-17T00:22:13.946Z"
   },
   {
    "duration": 11,
    "start_time": "2022-04-17T00:38:49.068Z"
   },
   {
    "duration": 3,
    "start_time": "2022-04-17T00:39:50.767Z"
   },
   {
    "duration": 11,
    "start_time": "2022-04-17T00:39:58.368Z"
   },
   {
    "duration": 11,
    "start_time": "2022-04-17T00:44:07.429Z"
   },
   {
    "duration": 100,
    "start_time": "2022-04-17T00:46:42.034Z"
   },
   {
    "duration": 0,
    "start_time": "2022-04-17T00:47:53.454Z"
   },
   {
    "duration": 305643,
    "start_time": "2022-04-17T00:47:54.854Z"
   },
   {
    "duration": 5480,
    "start_time": "2022-04-17T00:59:54.663Z"
   },
   {
    "duration": 1761,
    "start_time": "2022-04-17T01:02:57.152Z"
   },
   {
    "duration": 6,
    "start_time": "2022-04-17T01:04:26.903Z"
   },
   {
    "duration": 7,
    "start_time": "2022-04-17T01:05:37.053Z"
   },
   {
    "duration": 8,
    "start_time": "2022-04-17T01:09:13.801Z"
   },
   {
    "duration": 8,
    "start_time": "2022-04-17T01:09:31.603Z"
   },
   {
    "duration": 5559,
    "start_time": "2022-04-17T01:10:10.415Z"
   },
   {
    "duration": 9,
    "start_time": "2022-04-17T01:12:40.627Z"
   },
   {
    "duration": 397400,
    "start_time": "2022-04-17T01:13:33.190Z"
   },
   {
    "duration": 8371,
    "start_time": "2022-04-17T01:22:14.128Z"
   },
   {
    "duration": 8352,
    "start_time": "2022-04-17T01:22:44.943Z"
   },
   {
    "duration": 8152,
    "start_time": "2022-04-17T01:23:40.988Z"
   },
   {
    "duration": 8447,
    "start_time": "2022-04-17T01:23:59.407Z"
   },
   {
    "duration": 346,
    "start_time": "2022-04-17T01:25:28.012Z"
   },
   {
    "duration": 2616,
    "start_time": "2022-04-17T01:25:45.740Z"
   },
   {
    "duration": 2330,
    "start_time": "2022-04-17T01:26:41.925Z"
   },
   {
    "duration": 6792,
    "start_time": "2022-04-17T01:26:44.257Z"
   },
   {
    "duration": 382329,
    "start_time": "2022-04-17T01:26:51.054Z"
   },
   {
    "duration": 3337,
    "start_time": "2022-04-17T01:33:51.626Z"
   },
   {
    "duration": 4136,
    "start_time": "2022-04-17T01:34:05.123Z"
   },
   {
    "duration": 9602,
    "start_time": "2022-04-17T01:34:12.059Z"
   },
   {
    "duration": 4079,
    "start_time": "2022-04-17T01:34:32.378Z"
   },
   {
    "duration": 576946,
    "start_time": "2022-04-17T01:34:54.748Z"
   },
   {
    "duration": 9807,
    "start_time": "2022-04-17T01:46:53.275Z"
   },
   {
    "duration": 14,
    "start_time": "2022-04-17T01:47:08.059Z"
   },
   {
    "duration": 4194,
    "start_time": "2022-04-17T01:47:18.261Z"
   },
   {
    "duration": 593567,
    "start_time": "2022-04-17T01:47:23.669Z"
   },
   {
    "duration": 8665,
    "start_time": "2022-04-17T01:57:17.237Z"
   },
   {
    "duration": 3,
    "start_time": "2022-04-17T01:57:25.904Z"
   },
   {
    "duration": 9,
    "start_time": "2022-04-17T02:01:31.616Z"
   },
   {
    "duration": 3,
    "start_time": "2022-04-17T02:17:56.030Z"
   },
   {
    "duration": 7,
    "start_time": "2022-04-17T02:17:56.035Z"
   },
   {
    "duration": 390,
    "start_time": "2022-04-17T02:17:56.044Z"
   },
   {
    "duration": 112,
    "start_time": "2022-04-17T02:17:56.436Z"
   },
   {
    "duration": 436,
    "start_time": "2022-04-17T02:17:56.554Z"
   },
   {
    "duration": 3,
    "start_time": "2022-04-17T02:17:56.991Z"
   },
   {
    "duration": 9,
    "start_time": "2022-04-17T02:17:56.995Z"
   },
   {
    "duration": 5,
    "start_time": "2022-04-17T02:17:57.006Z"
   },
   {
    "duration": 9,
    "start_time": "2022-04-17T02:17:57.013Z"
   },
   {
    "duration": 33,
    "start_time": "2022-04-17T02:17:57.023Z"
   },
   {
    "duration": 29,
    "start_time": "2022-04-17T02:17:57.057Z"
   },
   {
    "duration": 11,
    "start_time": "2022-04-17T02:17:57.088Z"
   },
   {
    "duration": 79,
    "start_time": "2022-04-17T02:17:57.101Z"
   },
   {
    "duration": 134,
    "start_time": "2022-04-17T02:17:57.183Z"
   },
   {
    "duration": 563,
    "start_time": "2022-04-17T02:17:57.318Z"
   },
   {
    "duration": 671,
    "start_time": "2022-04-17T02:17:57.883Z"
   },
   {
    "duration": 566,
    "start_time": "2022-04-17T02:17:58.556Z"
   },
   {
    "duration": 11,
    "start_time": "2022-04-17T02:17:59.123Z"
   },
   {
    "duration": 376,
    "start_time": "2022-04-17T02:17:59.135Z"
   },
   {
    "duration": 525,
    "start_time": "2022-04-17T02:17:59.512Z"
   },
   {
    "duration": 63,
    "start_time": "2022-04-17T02:18:00.055Z"
   },
   {
    "duration": 43,
    "start_time": "2022-04-17T02:18:00.120Z"
   },
   {
    "duration": 673,
    "start_time": "2022-04-17T02:18:00.165Z"
   },
   {
    "duration": 200,
    "start_time": "2022-04-17T02:18:00.840Z"
   },
   {
    "duration": 20,
    "start_time": "2022-04-17T02:18:01.042Z"
   },
   {
    "duration": 783,
    "start_time": "2022-04-17T02:18:01.064Z"
   },
   {
    "duration": 9,
    "start_time": "2022-04-17T02:18:01.848Z"
   },
   {
    "duration": 37,
    "start_time": "2022-04-17T02:18:01.859Z"
   },
   {
    "duration": 30,
    "start_time": "2022-04-17T02:18:01.897Z"
   },
   {
    "duration": 20,
    "start_time": "2022-04-17T02:18:01.929Z"
   },
   {
    "duration": 23,
    "start_time": "2022-04-17T02:18:01.951Z"
   },
   {
    "duration": 4579,
    "start_time": "2022-04-17T02:18:01.976Z"
   },
   {
    "duration": 14775,
    "start_time": "2022-04-17T02:18:06.557Z"
   },
   {
    "duration": 1422,
    "start_time": "2022-04-17T02:21:04.433Z"
   },
   {
    "duration": 5,
    "start_time": "2022-04-17T02:21:05.857Z"
   },
   {
    "duration": 406,
    "start_time": "2022-04-17T02:21:05.864Z"
   },
   {
    "duration": 112,
    "start_time": "2022-04-17T02:21:06.272Z"
   },
   {
    "duration": 443,
    "start_time": "2022-04-17T02:21:06.385Z"
   },
   {
    "duration": 2,
    "start_time": "2022-04-17T02:21:06.830Z"
   },
   {
    "duration": 21,
    "start_time": "2022-04-17T02:21:06.834Z"
   },
   {
    "duration": 5,
    "start_time": "2022-04-17T02:21:06.857Z"
   },
   {
    "duration": 24,
    "start_time": "2022-04-17T02:21:06.863Z"
   },
   {
    "duration": 24,
    "start_time": "2022-04-17T02:21:06.889Z"
   },
   {
    "duration": 40,
    "start_time": "2022-04-17T02:21:06.914Z"
   },
   {
    "duration": 12,
    "start_time": "2022-04-17T02:21:06.955Z"
   },
   {
    "duration": 73,
    "start_time": "2022-04-17T02:21:06.968Z"
   },
   {
    "duration": 144,
    "start_time": "2022-04-17T02:21:07.043Z"
   },
   {
    "duration": 559,
    "start_time": "2022-04-17T02:21:07.188Z"
   },
   {
    "duration": 627,
    "start_time": "2022-04-17T02:21:07.748Z"
   },
   {
    "duration": 557,
    "start_time": "2022-04-17T02:21:08.377Z"
   },
   {
    "duration": 19,
    "start_time": "2022-04-17T02:21:08.935Z"
   },
   {
    "duration": 373,
    "start_time": "2022-04-17T02:21:08.956Z"
   },
   {
    "duration": 496,
    "start_time": "2022-04-17T02:21:09.331Z"
   },
   {
    "duration": 62,
    "start_time": "2022-04-17T02:21:09.829Z"
   },
   {
    "duration": 16,
    "start_time": "2022-04-17T02:21:09.893Z"
   },
   {
    "duration": 637,
    "start_time": "2022-04-17T02:21:09.911Z"
   },
   {
    "duration": 153,
    "start_time": "2022-04-17T02:21:10.554Z"
   },
   {
    "duration": 16,
    "start_time": "2022-04-17T02:21:10.709Z"
   },
   {
    "duration": 672,
    "start_time": "2022-04-17T02:21:10.726Z"
   },
   {
    "duration": 5,
    "start_time": "2022-04-17T02:21:11.400Z"
   },
   {
    "duration": 27,
    "start_time": "2022-04-17T02:21:11.408Z"
   },
   {
    "duration": 8,
    "start_time": "2022-04-17T02:21:11.436Z"
   },
   {
    "duration": 20,
    "start_time": "2022-04-17T02:21:11.445Z"
   },
   {
    "duration": 19,
    "start_time": "2022-04-17T02:21:11.466Z"
   },
   {
    "duration": 4175,
    "start_time": "2022-04-17T02:21:11.487Z"
   },
   {
    "duration": 14541,
    "start_time": "2022-04-17T02:21:15.664Z"
   },
   {
    "duration": 900372,
    "start_time": "2022-04-17T02:21:30.207Z"
   },
   {
    "duration": 741275,
    "start_time": "2022-04-17T02:36:30.581Z"
   },
   {
    "duration": 10348,
    "start_time": "2022-04-17T02:48:51.857Z"
   },
   {
    "duration": 458,
    "start_time": "2022-04-17T02:49:02.207Z"
   },
   {
    "duration": 1624,
    "start_time": "2022-04-17T08:28:26.993Z"
   },
   {
    "duration": 4,
    "start_time": "2022-04-17T08:28:28.619Z"
   },
   {
    "duration": 408,
    "start_time": "2022-04-17T08:28:28.625Z"
   },
   {
    "duration": 119,
    "start_time": "2022-04-17T08:28:29.035Z"
   },
   {
    "duration": 553,
    "start_time": "2022-04-17T08:28:29.156Z"
   },
   {
    "duration": 2,
    "start_time": "2022-04-17T08:28:29.711Z"
   },
   {
    "duration": 14,
    "start_time": "2022-04-17T08:28:29.715Z"
   },
   {
    "duration": 5,
    "start_time": "2022-04-17T08:28:29.731Z"
   },
   {
    "duration": 63,
    "start_time": "2022-04-17T08:28:29.737Z"
   },
   {
    "duration": 8,
    "start_time": "2022-04-17T08:28:29.803Z"
   },
   {
    "duration": 88,
    "start_time": "2022-04-17T08:28:29.812Z"
   },
   {
    "duration": 13,
    "start_time": "2022-04-17T08:28:29.901Z"
   },
   {
    "duration": 111,
    "start_time": "2022-04-17T08:28:29.915Z"
   },
   {
    "duration": 321,
    "start_time": "2022-04-17T08:28:30.028Z"
   },
   {
    "duration": 1089,
    "start_time": "2022-04-17T08:28:30.393Z"
   },
   {
    "duration": 657,
    "start_time": "2022-04-17T08:28:31.484Z"
   },
   {
    "duration": 617,
    "start_time": "2022-04-17T08:28:32.142Z"
   },
   {
    "duration": 12,
    "start_time": "2022-04-17T08:28:32.760Z"
   },
   {
    "duration": 426,
    "start_time": "2022-04-17T08:28:32.773Z"
   },
   {
    "duration": 540,
    "start_time": "2022-04-17T08:28:33.201Z"
   },
   {
    "duration": 69,
    "start_time": "2022-04-17T08:28:33.743Z"
   },
   {
    "duration": 19,
    "start_time": "2022-04-17T08:28:33.814Z"
   },
   {
    "duration": 698,
    "start_time": "2022-04-17T08:28:33.835Z"
   },
   {
    "duration": 152,
    "start_time": "2022-04-17T08:28:34.535Z"
   },
   {
    "duration": 22,
    "start_time": "2022-04-17T08:28:34.688Z"
   },
   {
    "duration": 708,
    "start_time": "2022-04-17T08:28:34.711Z"
   },
   {
    "duration": 6,
    "start_time": "2022-04-17T08:28:35.421Z"
   },
   {
    "duration": 10,
    "start_time": "2022-04-17T08:28:35.431Z"
   },
   {
    "duration": 4,
    "start_time": "2022-04-17T08:28:35.442Z"
   },
   {
    "duration": 12,
    "start_time": "2022-04-17T08:28:35.448Z"
   },
   {
    "duration": 156,
    "start_time": "2022-04-17T08:28:35.461Z"
   },
   {
    "duration": 0,
    "start_time": "2022-04-17T08:28:35.619Z"
   },
   {
    "duration": 0,
    "start_time": "2022-04-17T08:28:35.620Z"
   },
   {
    "duration": 0,
    "start_time": "2022-04-17T08:28:35.622Z"
   },
   {
    "duration": 0,
    "start_time": "2022-04-17T08:28:35.623Z"
   },
   {
    "duration": 0,
    "start_time": "2022-04-17T08:28:35.624Z"
   },
   {
    "duration": 0,
    "start_time": "2022-04-17T08:28:35.626Z"
   },
   {
    "duration": 18,
    "start_time": "2022-04-17T08:29:09.839Z"
   },
   {
    "duration": 9,
    "start_time": "2022-04-17T08:31:10.412Z"
   },
   {
    "duration": 11,
    "start_time": "2022-04-17T08:31:17.502Z"
   },
   {
    "duration": 4192,
    "start_time": "2022-04-17T08:31:23.502Z"
   },
   {
    "duration": 10830,
    "start_time": "2022-04-17T08:31:30.071Z"
   },
   {
    "duration": 633800,
    "start_time": "2022-04-17T08:31:44.794Z"
   },
   {
    "duration": 17,
    "start_time": "2022-04-17T08:42:18.596Z"
   },
   {
    "duration": 32055,
    "start_time": "2022-04-17T08:42:45.747Z"
   },
   {
    "duration": 0,
    "start_time": "2022-04-17T08:43:17.805Z"
   },
   {
    "duration": 3386,
    "start_time": "2022-04-17T08:43:23.117Z"
   },
   {
    "duration": 12,
    "start_time": "2022-04-17T08:43:29.359Z"
   },
   {
    "duration": 11600,
    "start_time": "2022-04-17T08:43:48.815Z"
   },
   {
    "duration": 11,
    "start_time": "2022-04-17T08:44:41.760Z"
   },
   {
    "duration": 10540,
    "start_time": "2022-04-17T08:46:26.171Z"
   },
   {
    "duration": 8721,
    "start_time": "2022-04-17T08:47:04.754Z"
   },
   {
    "duration": 318,
    "start_time": "2022-04-17T08:47:13.476Z"
   },
   {
    "duration": 112,
    "start_time": "2022-04-17T08:47:32.713Z"
   },
   {
    "duration": 29,
    "start_time": "2022-04-17T08:47:45.219Z"
   },
   {
    "duration": 29,
    "start_time": "2022-04-17T08:48:15.914Z"
   },
   {
    "duration": 26,
    "start_time": "2022-04-17T08:48:21.955Z"
   },
   {
    "duration": 15,
    "start_time": "2022-04-17T08:50:43.885Z"
   },
   {
    "duration": 24,
    "start_time": "2022-04-17T08:51:48.767Z"
   },
   {
    "duration": 4,
    "start_time": "2022-04-17T08:51:59.880Z"
   },
   {
    "duration": 16,
    "start_time": "2022-04-17T08:52:36.030Z"
   },
   {
    "duration": 20,
    "start_time": "2022-04-17T08:52:45.962Z"
   },
   {
    "duration": 18,
    "start_time": "2022-04-17T08:52:52.398Z"
   },
   {
    "duration": 11,
    "start_time": "2022-04-17T08:53:48.660Z"
   },
   {
    "duration": 24,
    "start_time": "2022-04-17T08:54:13.566Z"
   },
   {
    "duration": 98,
    "start_time": "2022-04-17T08:55:09.427Z"
   },
   {
    "duration": 87,
    "start_time": "2022-04-17T08:55:52.886Z"
   },
   {
    "duration": 98282,
    "start_time": "2022-04-17T09:04:15.795Z"
   },
   {
    "duration": 0,
    "start_time": "2022-04-17T09:05:54.093Z"
   },
   {
    "duration": 0,
    "start_time": "2022-04-17T09:05:54.094Z"
   },
   {
    "duration": 0,
    "start_time": "2022-04-17T09:05:54.095Z"
   },
   {
    "duration": 1463,
    "start_time": "2022-04-17T09:06:01.108Z"
   },
   {
    "duration": 5,
    "start_time": "2022-04-17T09:06:02.573Z"
   },
   {
    "duration": 413,
    "start_time": "2022-04-17T09:06:02.579Z"
   },
   {
    "duration": 132,
    "start_time": "2022-04-17T09:06:02.995Z"
   },
   {
    "duration": 463,
    "start_time": "2022-04-17T09:06:03.129Z"
   },
   {
    "duration": 2,
    "start_time": "2022-04-17T09:06:03.594Z"
   },
   {
    "duration": 13,
    "start_time": "2022-04-17T09:06:03.598Z"
   },
   {
    "duration": 5,
    "start_time": "2022-04-17T09:06:03.613Z"
   },
   {
    "duration": 9,
    "start_time": "2022-04-17T09:06:03.619Z"
   },
   {
    "duration": 8,
    "start_time": "2022-04-17T09:06:03.631Z"
   },
   {
    "duration": 33,
    "start_time": "2022-04-17T09:06:03.640Z"
   },
   {
    "duration": 17,
    "start_time": "2022-04-17T09:06:03.675Z"
   },
   {
    "duration": 57,
    "start_time": "2022-04-17T09:06:03.694Z"
   },
   {
    "duration": 228,
    "start_time": "2022-04-17T09:06:03.753Z"
   },
   {
    "duration": 702,
    "start_time": "2022-04-17T09:06:03.993Z"
   },
   {
    "duration": 654,
    "start_time": "2022-04-17T09:06:04.698Z"
   },
   {
    "duration": 606,
    "start_time": "2022-04-17T09:06:05.354Z"
   },
   {
    "duration": 13,
    "start_time": "2022-04-17T09:06:05.962Z"
   },
   {
    "duration": 425,
    "start_time": "2022-04-17T09:06:05.977Z"
   },
   {
    "duration": 514,
    "start_time": "2022-04-17T09:06:06.405Z"
   },
   {
    "duration": 58,
    "start_time": "2022-04-17T09:06:06.921Z"
   },
   {
    "duration": 19,
    "start_time": "2022-04-17T09:06:06.992Z"
   },
   {
    "duration": 709,
    "start_time": "2022-04-17T09:06:07.014Z"
   },
   {
    "duration": 159,
    "start_time": "2022-04-17T09:06:07.725Z"
   },
   {
    "duration": 22,
    "start_time": "2022-04-17T09:06:07.886Z"
   },
   {
    "duration": 878,
    "start_time": "2022-04-17T09:06:07.910Z"
   },
   {
    "duration": 6,
    "start_time": "2022-04-17T09:06:08.790Z"
   },
   {
    "duration": 10,
    "start_time": "2022-04-17T09:06:08.801Z"
   },
   {
    "duration": 4,
    "start_time": "2022-04-17T09:06:08.812Z"
   },
   {
    "duration": 10,
    "start_time": "2022-04-17T09:06:08.818Z"
   },
   {
    "duration": 17,
    "start_time": "2022-04-17T09:06:08.829Z"
   },
   {
    "duration": 4649,
    "start_time": "2022-04-17T09:06:08.848Z"
   },
   {
    "duration": 11108,
    "start_time": "2022-04-17T09:06:13.499Z"
   },
   {
    "duration": 631284,
    "start_time": "2022-04-17T09:06:24.609Z"
   },
   {
    "duration": 1467,
    "start_time": "2022-04-17T09:43:41.038Z"
   },
   {
    "duration": 5,
    "start_time": "2022-04-17T09:43:42.507Z"
   },
   {
    "duration": 436,
    "start_time": "2022-04-17T09:43:42.514Z"
   },
   {
    "duration": 127,
    "start_time": "2022-04-17T09:43:42.952Z"
   },
   {
    "duration": 500,
    "start_time": "2022-04-17T09:43:43.081Z"
   },
   {
    "duration": 4,
    "start_time": "2022-04-17T09:43:43.582Z"
   },
   {
    "duration": 14,
    "start_time": "2022-04-17T09:43:43.593Z"
   },
   {
    "duration": 6,
    "start_time": "2022-04-17T09:43:43.608Z"
   },
   {
    "duration": 20,
    "start_time": "2022-04-17T09:43:43.615Z"
   },
   {
    "duration": 25,
    "start_time": "2022-04-17T09:43:43.638Z"
   },
   {
    "duration": 42,
    "start_time": "2022-04-17T09:43:43.665Z"
   },
   {
    "duration": 12,
    "start_time": "2022-04-17T09:43:43.709Z"
   },
   {
    "duration": 72,
    "start_time": "2022-04-17T09:43:43.723Z"
   },
   {
    "duration": 189,
    "start_time": "2022-04-17T09:43:43.796Z"
   },
   {
    "duration": 703,
    "start_time": "2022-04-17T09:43:43.987Z"
   },
   {
    "duration": 715,
    "start_time": "2022-04-17T09:43:44.692Z"
   },
   {
    "duration": 844,
    "start_time": "2022-04-17T09:43:45.409Z"
   },
   {
    "duration": 11,
    "start_time": "2022-04-17T09:43:46.255Z"
   },
   {
    "duration": 430,
    "start_time": "2022-04-17T09:43:46.268Z"
   },
   {
    "duration": 512,
    "start_time": "2022-04-17T09:43:46.699Z"
   },
   {
    "duration": 60,
    "start_time": "2022-04-17T09:43:47.212Z"
   },
   {
    "duration": 30,
    "start_time": "2022-04-17T09:43:47.274Z"
   },
   {
    "duration": 699,
    "start_time": "2022-04-17T09:43:47.305Z"
   },
   {
    "duration": 152,
    "start_time": "2022-04-17T09:43:48.006Z"
   },
   {
    "duration": 17,
    "start_time": "2022-04-17T09:43:48.160Z"
   },
   {
    "duration": 744,
    "start_time": "2022-04-17T09:43:48.179Z"
   },
   {
    "duration": 6,
    "start_time": "2022-04-17T09:43:48.924Z"
   },
   {
    "duration": 10,
    "start_time": "2022-04-17T09:43:48.934Z"
   },
   {
    "duration": 3,
    "start_time": "2022-04-17T09:43:48.946Z"
   },
   {
    "duration": 42,
    "start_time": "2022-04-17T09:43:48.952Z"
   },
   {
    "duration": 13,
    "start_time": "2022-04-17T09:43:48.996Z"
   },
   {
    "duration": 4083,
    "start_time": "2022-04-17T09:43:49.011Z"
   },
   {
    "duration": 11512,
    "start_time": "2022-04-17T09:43:53.097Z"
   },
   {
    "duration": 684238,
    "start_time": "2022-04-17T09:44:04.611Z"
   },
   {
    "duration": 2005918,
    "start_time": "2022-04-17T09:55:28.851Z"
   },
   {
    "duration": 6588,
    "start_time": "2022-04-17T10:28:54.772Z"
   },
   {
    "duration": 0,
    "start_time": "2022-04-17T10:29:01.362Z"
   },
   {
    "duration": 482,
    "start_time": "2022-04-17T10:29:07.321Z"
   },
   {
    "duration": 5,
    "start_time": "2022-04-17T10:29:30.393Z"
   },
   {
    "duration": 20,
    "start_time": "2022-04-17T10:29:30.405Z"
   },
   {
    "duration": 453,
    "start_time": "2022-04-17T10:29:30.428Z"
   },
   {
    "duration": 181,
    "start_time": "2022-04-17T10:29:30.884Z"
   },
   {
    "duration": 487,
    "start_time": "2022-04-17T10:29:31.067Z"
   },
   {
    "duration": 3,
    "start_time": "2022-04-17T10:29:31.556Z"
   },
   {
    "duration": 15,
    "start_time": "2022-04-17T10:29:31.561Z"
   },
   {
    "duration": 18,
    "start_time": "2022-04-17T10:29:31.578Z"
   },
   {
    "duration": 19,
    "start_time": "2022-04-17T10:29:31.598Z"
   },
   {
    "duration": 7,
    "start_time": "2022-04-17T10:29:31.618Z"
   },
   {
    "duration": 34,
    "start_time": "2022-04-17T10:29:31.627Z"
   },
   {
    "duration": 0,
    "start_time": "2022-04-17T10:29:31.663Z"
   },
   {
    "duration": 0,
    "start_time": "2022-04-17T10:29:31.697Z"
   },
   {
    "duration": 0,
    "start_time": "2022-04-17T10:29:31.698Z"
   },
   {
    "duration": 0,
    "start_time": "2022-04-17T10:29:31.699Z"
   },
   {
    "duration": 0,
    "start_time": "2022-04-17T10:29:31.700Z"
   },
   {
    "duration": 0,
    "start_time": "2022-04-17T10:29:31.702Z"
   },
   {
    "duration": 0,
    "start_time": "2022-04-17T10:29:31.703Z"
   },
   {
    "duration": 0,
    "start_time": "2022-04-17T10:29:31.705Z"
   },
   {
    "duration": 0,
    "start_time": "2022-04-17T10:29:31.706Z"
   },
   {
    "duration": 0,
    "start_time": "2022-04-17T10:29:31.707Z"
   },
   {
    "duration": 0,
    "start_time": "2022-04-17T10:29:31.708Z"
   },
   {
    "duration": 0,
    "start_time": "2022-04-17T10:29:31.709Z"
   },
   {
    "duration": 0,
    "start_time": "2022-04-17T10:29:31.711Z"
   },
   {
    "duration": 0,
    "start_time": "2022-04-17T10:29:31.712Z"
   },
   {
    "duration": 0,
    "start_time": "2022-04-17T10:29:31.715Z"
   },
   {
    "duration": 0,
    "start_time": "2022-04-17T10:29:31.716Z"
   },
   {
    "duration": 0,
    "start_time": "2022-04-17T10:29:31.717Z"
   },
   {
    "duration": 0,
    "start_time": "2022-04-17T10:29:31.718Z"
   },
   {
    "duration": 0,
    "start_time": "2022-04-17T10:29:31.719Z"
   },
   {
    "duration": 4,
    "start_time": "2022-04-17T10:29:57.178Z"
   },
   {
    "duration": 6,
    "start_time": "2022-04-17T10:29:57.184Z"
   },
   {
    "duration": 448,
    "start_time": "2022-04-17T10:29:57.191Z"
   },
   {
    "duration": 121,
    "start_time": "2022-04-17T10:29:57.642Z"
   },
   {
    "duration": 491,
    "start_time": "2022-04-17T10:29:57.765Z"
   },
   {
    "duration": 3,
    "start_time": "2022-04-17T10:29:58.258Z"
   },
   {
    "duration": 9,
    "start_time": "2022-04-17T10:29:58.262Z"
   },
   {
    "duration": 29,
    "start_time": "2022-04-17T10:29:58.273Z"
   },
   {
    "duration": 13,
    "start_time": "2022-04-17T10:29:58.304Z"
   },
   {
    "duration": 7,
    "start_time": "2022-04-17T10:29:58.319Z"
   },
   {
    "duration": 32,
    "start_time": "2022-04-17T10:29:58.329Z"
   },
   {
    "duration": 0,
    "start_time": "2022-04-17T10:29:58.363Z"
   },
   {
    "duration": 0,
    "start_time": "2022-04-17T10:29:58.365Z"
   },
   {
    "duration": 0,
    "start_time": "2022-04-17T10:29:58.366Z"
   },
   {
    "duration": 0,
    "start_time": "2022-04-17T10:29:58.392Z"
   },
   {
    "duration": 0,
    "start_time": "2022-04-17T10:29:58.393Z"
   },
   {
    "duration": 0,
    "start_time": "2022-04-17T10:29:58.396Z"
   },
   {
    "duration": 0,
    "start_time": "2022-04-17T10:29:58.397Z"
   },
   {
    "duration": 0,
    "start_time": "2022-04-17T10:29:58.398Z"
   },
   {
    "duration": 0,
    "start_time": "2022-04-17T10:29:58.400Z"
   },
   {
    "duration": 0,
    "start_time": "2022-04-17T10:29:58.401Z"
   },
   {
    "duration": 0,
    "start_time": "2022-04-17T10:29:58.402Z"
   },
   {
    "duration": 0,
    "start_time": "2022-04-17T10:29:58.408Z"
   },
   {
    "duration": 0,
    "start_time": "2022-04-17T10:29:58.409Z"
   },
   {
    "duration": 0,
    "start_time": "2022-04-17T10:29:58.411Z"
   },
   {
    "duration": 0,
    "start_time": "2022-04-17T10:29:58.412Z"
   },
   {
    "duration": 0,
    "start_time": "2022-04-17T10:29:58.414Z"
   },
   {
    "duration": 0,
    "start_time": "2022-04-17T10:29:58.415Z"
   },
   {
    "duration": 0,
    "start_time": "2022-04-17T10:29:58.417Z"
   },
   {
    "duration": 14,
    "start_time": "2022-04-17T10:30:08.362Z"
   },
   {
    "duration": 59,
    "start_time": "2022-04-17T10:30:15.039Z"
   },
   {
    "duration": 4,
    "start_time": "2022-04-17T10:30:27.074Z"
   },
   {
    "duration": 11,
    "start_time": "2022-04-17T10:30:27.080Z"
   },
   {
    "duration": 439,
    "start_time": "2022-04-17T10:30:27.093Z"
   },
   {
    "duration": 123,
    "start_time": "2022-04-17T10:30:27.534Z"
   },
   {
    "duration": 480,
    "start_time": "2022-04-17T10:30:27.659Z"
   },
   {
    "duration": 3,
    "start_time": "2022-04-17T10:30:28.141Z"
   },
   {
    "duration": 10,
    "start_time": "2022-04-17T10:30:28.145Z"
   },
   {
    "duration": 5,
    "start_time": "2022-04-17T10:30:28.157Z"
   },
   {
    "duration": 44,
    "start_time": "2022-04-17T10:30:28.163Z"
   },
   {
    "duration": 10,
    "start_time": "2022-04-17T10:30:28.209Z"
   },
   {
    "duration": 36,
    "start_time": "2022-04-17T10:30:28.222Z"
   },
   {
    "duration": 0,
    "start_time": "2022-04-17T10:30:28.261Z"
   },
   {
    "duration": 0,
    "start_time": "2022-04-17T10:30:28.262Z"
   },
   {
    "duration": 0,
    "start_time": "2022-04-17T10:30:28.264Z"
   },
   {
    "duration": 0,
    "start_time": "2022-04-17T10:30:28.265Z"
   },
   {
    "duration": 0,
    "start_time": "2022-04-17T10:30:28.267Z"
   },
   {
    "duration": 0,
    "start_time": "2022-04-17T10:30:28.294Z"
   },
   {
    "duration": 0,
    "start_time": "2022-04-17T10:30:28.301Z"
   },
   {
    "duration": 0,
    "start_time": "2022-04-17T10:30:28.303Z"
   },
   {
    "duration": 0,
    "start_time": "2022-04-17T10:30:28.304Z"
   },
   {
    "duration": 0,
    "start_time": "2022-04-17T10:30:28.305Z"
   },
   {
    "duration": 0,
    "start_time": "2022-04-17T10:30:28.306Z"
   },
   {
    "duration": 0,
    "start_time": "2022-04-17T10:30:28.307Z"
   },
   {
    "duration": 0,
    "start_time": "2022-04-17T10:30:28.308Z"
   },
   {
    "duration": 0,
    "start_time": "2022-04-17T10:30:28.309Z"
   },
   {
    "duration": 0,
    "start_time": "2022-04-17T10:30:28.311Z"
   },
   {
    "duration": 0,
    "start_time": "2022-04-17T10:30:28.312Z"
   },
   {
    "duration": 0,
    "start_time": "2022-04-17T10:30:28.313Z"
   },
   {
    "duration": 0,
    "start_time": "2022-04-17T10:30:28.314Z"
   },
   {
    "duration": 0,
    "start_time": "2022-04-17T10:30:28.315Z"
   },
   {
    "duration": 0,
    "start_time": "2022-04-17T10:30:28.316Z"
   },
   {
    "duration": 0,
    "start_time": "2022-04-17T10:30:28.317Z"
   },
   {
    "duration": 0,
    "start_time": "2022-04-17T10:30:28.318Z"
   },
   {
    "duration": 0,
    "start_time": "2022-04-17T10:30:28.319Z"
   },
   {
    "duration": 0,
    "start_time": "2022-04-17T10:30:28.320Z"
   },
   {
    "duration": 0,
    "start_time": "2022-04-17T10:30:28.321Z"
   },
   {
    "duration": 13,
    "start_time": "2022-04-17T10:30:43.361Z"
   },
   {
    "duration": 1500,
    "start_time": "2022-04-17T10:30:56.408Z"
   },
   {
    "duration": 4,
    "start_time": "2022-04-17T10:30:57.911Z"
   },
   {
    "duration": 469,
    "start_time": "2022-04-17T10:30:57.917Z"
   },
   {
    "duration": 130,
    "start_time": "2022-04-17T10:30:58.388Z"
   },
   {
    "duration": 488,
    "start_time": "2022-04-17T10:30:58.520Z"
   },
   {
    "duration": 4,
    "start_time": "2022-04-17T10:30:59.010Z"
   },
   {
    "duration": 13,
    "start_time": "2022-04-17T10:30:59.015Z"
   },
   {
    "duration": 11,
    "start_time": "2022-04-17T10:30:59.030Z"
   },
   {
    "duration": 14,
    "start_time": "2022-04-17T10:30:59.043Z"
   },
   {
    "duration": 34,
    "start_time": "2022-04-17T10:30:59.059Z"
   },
   {
    "duration": 142,
    "start_time": "2022-04-17T10:30:59.103Z"
   },
   {
    "duration": 0,
    "start_time": "2022-04-17T10:30:59.248Z"
   },
   {
    "duration": 0,
    "start_time": "2022-04-17T10:30:59.249Z"
   },
   {
    "duration": 0,
    "start_time": "2022-04-17T10:30:59.250Z"
   },
   {
    "duration": 0,
    "start_time": "2022-04-17T10:30:59.251Z"
   },
   {
    "duration": 0,
    "start_time": "2022-04-17T10:30:59.252Z"
   },
   {
    "duration": 0,
    "start_time": "2022-04-17T10:30:59.253Z"
   },
   {
    "duration": 0,
    "start_time": "2022-04-17T10:30:59.254Z"
   },
   {
    "duration": 0,
    "start_time": "2022-04-17T10:30:59.256Z"
   },
   {
    "duration": 0,
    "start_time": "2022-04-17T10:30:59.257Z"
   },
   {
    "duration": 0,
    "start_time": "2022-04-17T10:30:59.258Z"
   },
   {
    "duration": 0,
    "start_time": "2022-04-17T10:30:59.259Z"
   },
   {
    "duration": 0,
    "start_time": "2022-04-17T10:30:59.260Z"
   },
   {
    "duration": 0,
    "start_time": "2022-04-17T10:30:59.261Z"
   },
   {
    "duration": 0,
    "start_time": "2022-04-17T10:30:59.262Z"
   },
   {
    "duration": 0,
    "start_time": "2022-04-17T10:30:59.264Z"
   },
   {
    "duration": 0,
    "start_time": "2022-04-17T10:30:59.265Z"
   },
   {
    "duration": 0,
    "start_time": "2022-04-17T10:30:59.293Z"
   },
   {
    "duration": 0,
    "start_time": "2022-04-17T10:30:59.294Z"
   },
   {
    "duration": 0,
    "start_time": "2022-04-17T10:30:59.296Z"
   },
   {
    "duration": 0,
    "start_time": "2022-04-17T10:30:59.297Z"
   },
   {
    "duration": 0,
    "start_time": "2022-04-17T10:30:59.298Z"
   },
   {
    "duration": 0,
    "start_time": "2022-04-17T10:30:59.299Z"
   },
   {
    "duration": 0,
    "start_time": "2022-04-17T10:30:59.299Z"
   },
   {
    "duration": 0,
    "start_time": "2022-04-17T10:30:59.301Z"
   },
   {
    "duration": 0,
    "start_time": "2022-04-17T10:30:59.303Z"
   },
   {
    "duration": 4,
    "start_time": "2022-04-17T10:31:27.758Z"
   },
   {
    "duration": 5,
    "start_time": "2022-04-17T10:31:27.764Z"
   },
   {
    "duration": 458,
    "start_time": "2022-04-17T10:31:27.771Z"
   },
   {
    "duration": 124,
    "start_time": "2022-04-17T10:31:28.230Z"
   },
   {
    "duration": 549,
    "start_time": "2022-04-17T10:31:28.357Z"
   },
   {
    "duration": 4,
    "start_time": "2022-04-17T10:31:28.908Z"
   },
   {
    "duration": 10,
    "start_time": "2022-04-17T10:31:28.913Z"
   },
   {
    "duration": 6,
    "start_time": "2022-04-17T10:31:28.924Z"
   },
   {
    "duration": 10,
    "start_time": "2022-04-17T10:31:28.931Z"
   },
   {
    "duration": 12,
    "start_time": "2022-04-17T10:31:28.945Z"
   },
   {
    "duration": 59,
    "start_time": "2022-04-17T10:31:28.959Z"
   },
   {
    "duration": 13,
    "start_time": "2022-04-17T10:31:29.021Z"
   },
   {
    "duration": 83,
    "start_time": "2022-04-17T10:31:29.036Z"
   },
   {
    "duration": 690,
    "start_time": "2022-04-17T10:31:29.120Z"
   },
   {
    "duration": 1077,
    "start_time": "2022-04-17T10:31:29.812Z"
   },
   {
    "duration": 1086,
    "start_time": "2022-04-17T10:31:30.894Z"
   },
   {
    "duration": 24,
    "start_time": "2022-04-17T10:31:31.982Z"
   },
   {
    "duration": 1527,
    "start_time": "2022-04-17T10:31:32.008Z"
   },
   {
    "duration": 979,
    "start_time": "2022-04-17T10:31:33.536Z"
   },
   {
    "duration": 115,
    "start_time": "2022-04-17T10:31:34.518Z"
   },
   {
    "duration": 28,
    "start_time": "2022-04-17T10:31:34.635Z"
   },
   {
    "duration": 1868,
    "start_time": "2022-04-17T10:31:34.665Z"
   },
   {
    "duration": 500,
    "start_time": "2022-04-17T10:31:36.535Z"
   },
   {
    "duration": 78,
    "start_time": "2022-04-17T10:31:37.037Z"
   },
   {
    "duration": 1715,
    "start_time": "2022-04-17T10:31:37.120Z"
   },
   {
    "duration": 58,
    "start_time": "2022-04-17T10:31:38.837Z"
   },
   {
    "duration": 23,
    "start_time": "2022-04-17T10:31:38.899Z"
   },
   {
    "duration": 0,
    "start_time": "2022-04-17T10:31:38.924Z"
   },
   {
    "duration": 0,
    "start_time": "2022-04-17T10:31:38.925Z"
   },
   {
    "duration": 0,
    "start_time": "2022-04-17T10:31:38.926Z"
   },
   {
    "duration": 0,
    "start_time": "2022-04-17T10:31:38.927Z"
   },
   {
    "duration": 0,
    "start_time": "2022-04-17T10:31:38.929Z"
   },
   {
    "duration": 0,
    "start_time": "2022-04-17T10:31:38.930Z"
   },
   {
    "duration": 0,
    "start_time": "2022-04-17T10:31:38.932Z"
   },
   {
    "duration": 0,
    "start_time": "2022-04-17T10:31:38.933Z"
   },
   {
    "duration": 0,
    "start_time": "2022-04-17T10:31:38.934Z"
   },
   {
    "duration": 17,
    "start_time": "2022-04-17T10:32:06.893Z"
   },
   {
    "duration": 9,
    "start_time": "2022-04-17T10:32:19.328Z"
   },
   {
    "duration": 3,
    "start_time": "2022-04-17T10:32:23.781Z"
   },
   {
    "duration": 6,
    "start_time": "2022-04-17T10:32:24.584Z"
   },
   {
    "duration": 5,
    "start_time": "2022-04-17T10:32:29.713Z"
   },
   {
    "duration": 9562,
    "start_time": "2022-04-17T10:33:28.134Z"
   },
   {
    "duration": 23560,
    "start_time": "2022-04-17T10:33:37.698Z"
   },
   {
    "duration": 0,
    "start_time": "2022-04-17T10:42:43.869Z"
   },
   {
    "duration": 0,
    "start_time": "2022-04-17T10:42:43.870Z"
   },
   {
    "duration": 0,
    "start_time": "2022-04-17T10:42:43.871Z"
   },
   {
    "duration": 0,
    "start_time": "2022-04-17T10:42:43.872Z"
   },
   {
    "duration": 0,
    "start_time": "2022-04-17T10:42:43.872Z"
   },
   {
    "duration": 0,
    "start_time": "2022-04-17T10:42:43.874Z"
   },
   {
    "duration": 0,
    "start_time": "2022-04-17T10:42:43.874Z"
   },
   {
    "duration": 0,
    "start_time": "2022-04-17T10:42:43.892Z"
   },
   {
    "duration": 0,
    "start_time": "2022-04-17T10:42:43.893Z"
   },
   {
    "duration": 0,
    "start_time": "2022-04-17T10:42:43.894Z"
   },
   {
    "duration": 0,
    "start_time": "2022-04-17T10:42:43.895Z"
   },
   {
    "duration": 0,
    "start_time": "2022-04-17T10:42:43.896Z"
   },
   {
    "duration": 0,
    "start_time": "2022-04-17T10:42:43.897Z"
   },
   {
    "duration": 0,
    "start_time": "2022-04-17T10:42:43.898Z"
   },
   {
    "duration": 0,
    "start_time": "2022-04-17T10:42:43.899Z"
   },
   {
    "duration": 0,
    "start_time": "2022-04-17T10:42:43.901Z"
   },
   {
    "duration": 0,
    "start_time": "2022-04-17T10:42:43.902Z"
   },
   {
    "duration": 0,
    "start_time": "2022-04-17T10:42:43.903Z"
   },
   {
    "duration": 0,
    "start_time": "2022-04-17T10:42:43.904Z"
   },
   {
    "duration": 0,
    "start_time": "2022-04-17T10:42:43.905Z"
   },
   {
    "duration": 0,
    "start_time": "2022-04-17T10:42:43.907Z"
   },
   {
    "duration": 0,
    "start_time": "2022-04-17T10:42:43.908Z"
   },
   {
    "duration": 0,
    "start_time": "2022-04-17T10:42:43.909Z"
   },
   {
    "duration": 0,
    "start_time": "2022-04-17T10:42:43.910Z"
   },
   {
    "duration": 0,
    "start_time": "2022-04-17T10:42:43.911Z"
   },
   {
    "duration": 0,
    "start_time": "2022-04-17T10:42:43.912Z"
   },
   {
    "duration": 0,
    "start_time": "2022-04-17T10:42:43.913Z"
   },
   {
    "duration": 0,
    "start_time": "2022-04-17T10:42:43.915Z"
   },
   {
    "duration": 0,
    "start_time": "2022-04-17T10:42:43.916Z"
   },
   {
    "duration": 0,
    "start_time": "2022-04-17T10:42:43.917Z"
   },
   {
    "duration": 0,
    "start_time": "2022-04-17T10:42:43.918Z"
   },
   {
    "duration": 0,
    "start_time": "2022-04-17T10:42:43.919Z"
   },
   {
    "duration": 0,
    "start_time": "2022-04-17T10:42:43.921Z"
   },
   {
    "duration": 0,
    "start_time": "2022-04-17T10:42:43.922Z"
   },
   {
    "duration": 4,
    "start_time": "2022-04-17T10:42:48.055Z"
   },
   {
    "duration": 5,
    "start_time": "2022-04-17T10:42:48.061Z"
   },
   {
    "duration": 428,
    "start_time": "2022-04-17T10:42:48.068Z"
   },
   {
    "duration": 116,
    "start_time": "2022-04-17T10:42:48.497Z"
   },
   {
    "duration": 437,
    "start_time": "2022-04-17T10:42:48.616Z"
   },
   {
    "duration": 3,
    "start_time": "2022-04-17T10:42:49.056Z"
   },
   {
    "duration": 10,
    "start_time": "2022-04-17T10:42:49.060Z"
   },
   {
    "duration": 22,
    "start_time": "2022-04-17T10:42:49.072Z"
   },
   {
    "duration": 17,
    "start_time": "2022-04-17T10:42:49.096Z"
   },
   {
    "duration": 8,
    "start_time": "2022-04-17T10:42:49.115Z"
   },
   {
    "duration": 33,
    "start_time": "2022-04-17T10:42:49.126Z"
   },
   {
    "duration": 34,
    "start_time": "2022-04-17T10:42:49.161Z"
   },
   {
    "duration": 55,
    "start_time": "2022-04-17T10:42:49.197Z"
   },
   {
    "duration": 732,
    "start_time": "2022-04-17T10:42:49.254Z"
   },
   {
    "duration": 594,
    "start_time": "2022-04-17T10:42:49.987Z"
   },
   {
    "duration": 613,
    "start_time": "2022-04-17T10:42:50.583Z"
   },
   {
    "duration": 13,
    "start_time": "2022-04-17T10:42:51.197Z"
   },
   {
    "duration": 543,
    "start_time": "2022-04-17T10:42:51.211Z"
   },
   {
    "duration": 431,
    "start_time": "2022-04-17T10:42:51.755Z"
   },
   {
    "duration": 61,
    "start_time": "2022-04-17T10:42:52.187Z"
   },
   {
    "duration": 18,
    "start_time": "2022-04-17T10:42:52.249Z"
   },
   {
    "duration": 806,
    "start_time": "2022-04-17T10:42:52.269Z"
   },
   {
    "duration": 67,
    "start_time": "2022-04-17T10:42:53.077Z"
   },
   {
    "duration": 18,
    "start_time": "2022-04-17T10:42:53.145Z"
   },
   {
    "duration": 746,
    "start_time": "2022-04-17T10:42:53.165Z"
   },
   {
    "duration": 5,
    "start_time": "2022-04-17T10:42:53.912Z"
   },
   {
    "duration": 8,
    "start_time": "2022-04-17T10:42:53.919Z"
   },
   {
    "duration": 3,
    "start_time": "2022-04-17T10:42:53.929Z"
   },
   {
    "duration": 6,
    "start_time": "2022-04-17T10:42:53.934Z"
   },
   {
    "duration": 10,
    "start_time": "2022-04-17T10:42:53.941Z"
   },
   {
    "duration": 56,
    "start_time": "2022-04-17T10:42:53.952Z"
   },
   {
    "duration": 3184,
    "start_time": "2022-04-17T10:42:54.010Z"
   },
   {
    "duration": 12628,
    "start_time": "2022-04-17T10:42:57.197Z"
   },
   {
    "duration": 668098,
    "start_time": "2022-04-17T10:43:22.421Z"
   },
   {
    "duration": 10,
    "start_time": "2022-04-17T10:54:54.364Z"
   },
   {
    "duration": 1147,
    "start_time": "2022-04-17T10:55:43.449Z"
   },
   {
    "duration": 28,
    "start_time": "2022-04-17T10:56:07.622Z"
   },
   {
    "duration": 20,
    "start_time": "2022-04-17T10:56:29.895Z"
   },
   {
    "duration": 23,
    "start_time": "2022-04-17T10:57:07.668Z"
   },
   {
    "duration": 28,
    "start_time": "2022-04-17T10:57:17.469Z"
   },
   {
    "duration": 143,
    "start_time": "2022-04-17T10:57:26.973Z"
   },
   {
    "duration": 118,
    "start_time": "2022-04-17T10:57:44.539Z"
   },
   {
    "duration": 98,
    "start_time": "2022-04-17T11:03:06.227Z"
   },
   {
    "duration": 6,
    "start_time": "2022-04-17T11:07:05.766Z"
   },
   {
    "duration": 112,
    "start_time": "2022-04-17T11:13:50.957Z"
   },
   {
    "duration": 625737,
    "start_time": "2022-04-17T11:14:00.537Z"
   },
   {
    "duration": 3,
    "start_time": "2022-04-17T11:25:11.208Z"
   },
   {
    "duration": 5,
    "start_time": "2022-04-17T11:26:01.442Z"
   },
   {
    "duration": 109,
    "start_time": "2022-04-17T11:33:28.417Z"
   },
   {
    "duration": 12,
    "start_time": "2022-04-17T11:33:40.610Z"
   },
   {
    "duration": 4,
    "start_time": "2022-04-17T11:34:45.957Z"
   },
   {
    "duration": 173,
    "start_time": "2022-04-17T11:37:14.272Z"
   },
   {
    "duration": 9,
    "start_time": "2022-04-17T11:37:20.407Z"
   },
   {
    "duration": 3,
    "start_time": "2022-04-17T11:37:55.191Z"
   },
   {
    "duration": 9,
    "start_time": "2022-04-17T11:37:55.196Z"
   },
   {
    "duration": 616,
    "start_time": "2022-04-17T11:37:55.208Z"
   },
   {
    "duration": 192,
    "start_time": "2022-04-17T11:37:55.826Z"
   },
   {
    "duration": 713,
    "start_time": "2022-04-17T11:37:56.022Z"
   },
   {
    "duration": 4,
    "start_time": "2022-04-17T11:37:56.738Z"
   },
   {
    "duration": 8,
    "start_time": "2022-04-17T11:37:56.743Z"
   },
   {
    "duration": 8,
    "start_time": "2022-04-17T11:37:56.753Z"
   },
   {
    "duration": 31,
    "start_time": "2022-04-17T11:37:56.763Z"
   },
   {
    "duration": 8,
    "start_time": "2022-04-17T11:37:56.796Z"
   },
   {
    "duration": 31,
    "start_time": "2022-04-17T11:37:56.807Z"
   },
   {
    "duration": 13,
    "start_time": "2022-04-17T11:37:56.840Z"
   },
   {
    "duration": 82,
    "start_time": "2022-04-17T11:37:56.855Z"
   },
   {
    "duration": 757,
    "start_time": "2022-04-17T11:37:56.939Z"
   },
   {
    "duration": 611,
    "start_time": "2022-04-17T11:37:57.698Z"
   },
   {
    "duration": 726,
    "start_time": "2022-04-17T11:37:58.311Z"
   },
   {
    "duration": 12,
    "start_time": "2022-04-17T11:37:59.038Z"
   },
   {
    "duration": 438,
    "start_time": "2022-04-17T11:37:59.052Z"
   },
   {
    "duration": 443,
    "start_time": "2022-04-17T11:37:59.491Z"
   },
   {
    "duration": 116,
    "start_time": "2022-04-17T11:37:59.936Z"
   },
   {
    "duration": 18,
    "start_time": "2022-04-17T11:38:00.055Z"
   },
   {
    "duration": 843,
    "start_time": "2022-04-17T11:38:00.075Z"
   },
   {
    "duration": 59,
    "start_time": "2022-04-17T11:38:00.920Z"
   },
   {
    "duration": 27,
    "start_time": "2022-04-17T11:38:00.981Z"
   },
   {
    "duration": 913,
    "start_time": "2022-04-17T11:38:01.009Z"
   },
   {
    "duration": 6,
    "start_time": "2022-04-17T11:38:01.924Z"
   },
   {
    "duration": 19,
    "start_time": "2022-04-17T11:38:01.931Z"
   },
   {
    "duration": 20,
    "start_time": "2022-04-17T11:38:01.952Z"
   },
   {
    "duration": 19,
    "start_time": "2022-04-17T11:38:01.975Z"
   },
   {
    "duration": 24,
    "start_time": "2022-04-17T11:38:01.996Z"
   },
   {
    "duration": 0,
    "start_time": "2022-04-17T11:38:02.022Z"
   },
   {
    "duration": 0,
    "start_time": "2022-04-17T11:38:02.023Z"
   },
   {
    "duration": 4,
    "start_time": "2022-04-17T11:38:09.273Z"
   },
   {
    "duration": 5,
    "start_time": "2022-04-17T11:38:09.281Z"
   },
   {
    "duration": 439,
    "start_time": "2022-04-17T11:38:09.288Z"
   },
   {
    "duration": 190,
    "start_time": "2022-04-17T11:38:09.731Z"
   },
   {
    "duration": 569,
    "start_time": "2022-04-17T11:38:09.924Z"
   },
   {
    "duration": 3,
    "start_time": "2022-04-17T11:38:10.494Z"
   },
   {
    "duration": 10,
    "start_time": "2022-04-17T11:38:10.499Z"
   },
   {
    "duration": 6,
    "start_time": "2022-04-17T11:38:10.510Z"
   },
   {
    "duration": 9,
    "start_time": "2022-04-17T11:38:10.518Z"
   },
   {
    "duration": 7,
    "start_time": "2022-04-17T11:38:10.529Z"
   },
   {
    "duration": 72,
    "start_time": "2022-04-17T11:38:10.538Z"
   },
   {
    "duration": 15,
    "start_time": "2022-04-17T11:38:10.612Z"
   },
   {
    "duration": 73,
    "start_time": "2022-04-17T11:38:10.629Z"
   },
   {
    "duration": 654,
    "start_time": "2022-04-17T11:38:10.704Z"
   },
   {
    "duration": 619,
    "start_time": "2022-04-17T11:38:11.360Z"
   },
   {
    "duration": 780,
    "start_time": "2022-04-17T11:38:11.981Z"
   },
   {
    "duration": 12,
    "start_time": "2022-04-17T11:38:12.764Z"
   },
   {
    "duration": 437,
    "start_time": "2022-04-17T11:38:12.793Z"
   },
   {
    "duration": 440,
    "start_time": "2022-04-17T11:38:13.232Z"
   },
   {
    "duration": 69,
    "start_time": "2022-04-17T11:38:13.674Z"
   },
   {
    "duration": 20,
    "start_time": "2022-04-17T11:38:13.745Z"
   },
   {
    "duration": 839,
    "start_time": "2022-04-17T11:38:13.767Z"
   },
   {
    "duration": 58,
    "start_time": "2022-04-17T11:38:14.608Z"
   },
   {
    "duration": 35,
    "start_time": "2022-04-17T11:38:14.669Z"
   },
   {
    "duration": 866,
    "start_time": "2022-04-17T11:38:14.706Z"
   },
   {
    "duration": 6,
    "start_time": "2022-04-17T11:38:15.574Z"
   },
   {
    "duration": 10,
    "start_time": "2022-04-17T11:38:15.592Z"
   },
   {
    "duration": 4,
    "start_time": "2022-04-17T11:38:15.604Z"
   },
   {
    "duration": 4,
    "start_time": "2022-04-17T11:38:15.611Z"
   },
   {
    "duration": 11,
    "start_time": "2022-04-17T11:38:15.617Z"
   },
   {
    "duration": 10,
    "start_time": "2022-04-17T11:38:15.631Z"
   },
   {
    "duration": 90,
    "start_time": "2022-04-17T11:38:15.643Z"
   },
   {
    "duration": 10,
    "start_time": "2022-04-17T11:38:52.437Z"
   },
   {
    "duration": 10,
    "start_time": "2022-04-17T11:39:06.815Z"
   },
   {
    "duration": 9,
    "start_time": "2022-04-17T11:39:20.782Z"
   },
   {
    "duration": 424,
    "start_time": "2022-04-17T11:39:49.569Z"
   },
   {
    "duration": 555,
    "start_time": "2022-04-17T11:39:59.741Z"
   },
   {
    "duration": 3709,
    "start_time": "2022-04-17T11:41:00.188Z"
   },
   {
    "duration": 2959,
    "start_time": "2022-04-17T11:41:11.140Z"
   },
   {
    "duration": 464,
    "start_time": "2022-04-17T11:41:36.529Z"
   },
   {
    "duration": 327,
    "start_time": "2022-04-17T11:41:58.368Z"
   },
   {
    "duration": 124,
    "start_time": "2022-04-17T11:54:36.292Z"
   },
   {
    "duration": 128,
    "start_time": "2022-04-17T11:54:42.302Z"
   },
   {
    "duration": 127,
    "start_time": "2022-04-17T11:54:50.969Z"
   },
   {
    "duration": 1717,
    "start_time": "2022-04-17T12:12:44.676Z"
   },
   {
    "duration": 5,
    "start_time": "2022-04-17T12:12:46.395Z"
   },
   {
    "duration": 451,
    "start_time": "2022-04-17T12:12:46.401Z"
   },
   {
    "duration": 130,
    "start_time": "2022-04-17T12:12:46.855Z"
   },
   {
    "duration": 495,
    "start_time": "2022-04-17T12:12:46.992Z"
   },
   {
    "duration": 3,
    "start_time": "2022-04-17T12:12:47.489Z"
   },
   {
    "duration": 20,
    "start_time": "2022-04-17T12:12:47.494Z"
   },
   {
    "duration": 5,
    "start_time": "2022-04-17T12:12:47.516Z"
   },
   {
    "duration": 16,
    "start_time": "2022-04-17T12:12:47.523Z"
   },
   {
    "duration": 19,
    "start_time": "2022-04-17T12:12:47.542Z"
   },
   {
    "duration": 63,
    "start_time": "2022-04-17T12:12:47.563Z"
   },
   {
    "duration": 15,
    "start_time": "2022-04-17T12:12:47.628Z"
   },
   {
    "duration": 91,
    "start_time": "2022-04-17T12:12:47.645Z"
   },
   {
    "duration": 693,
    "start_time": "2022-04-17T12:12:47.738Z"
   },
   {
    "duration": 706,
    "start_time": "2022-04-17T12:12:48.434Z"
   },
   {
    "duration": 700,
    "start_time": "2022-04-17T12:12:49.142Z"
   },
   {
    "duration": 13,
    "start_time": "2022-04-17T12:12:49.844Z"
   },
   {
    "duration": 449,
    "start_time": "2022-04-17T12:12:49.859Z"
   },
   {
    "duration": 566,
    "start_time": "2022-04-17T12:12:50.310Z"
   },
   {
    "duration": 73,
    "start_time": "2022-04-17T12:12:50.879Z"
   },
   {
    "duration": 19,
    "start_time": "2022-04-17T12:12:50.954Z"
   },
   {
    "duration": 765,
    "start_time": "2022-04-17T12:12:50.974Z"
   },
   {
    "duration": 173,
    "start_time": "2022-04-17T12:12:51.741Z"
   },
   {
    "duration": 23,
    "start_time": "2022-04-17T12:12:51.916Z"
   },
   {
    "duration": 892,
    "start_time": "2022-04-17T12:12:51.941Z"
   },
   {
    "duration": 5,
    "start_time": "2022-04-17T12:12:52.835Z"
   },
   {
    "duration": 11,
    "start_time": "2022-04-17T12:12:52.842Z"
   },
   {
    "duration": 3,
    "start_time": "2022-04-17T12:12:52.857Z"
   },
   {
    "duration": 33,
    "start_time": "2022-04-17T12:12:52.862Z"
   },
   {
    "duration": 10,
    "start_time": "2022-04-17T12:12:52.897Z"
   },
   {
    "duration": 8,
    "start_time": "2022-04-17T12:12:52.909Z"
   },
   {
    "duration": 86,
    "start_time": "2022-04-17T12:12:52.919Z"
   },
   {
    "duration": 788,
    "start_time": "2022-04-17T12:12:53.008Z"
   },
   {
    "duration": 3895,
    "start_time": "2022-04-17T12:12:53.799Z"
   },
   {
    "duration": 165971,
    "start_time": "2022-04-17T12:12:57.697Z"
   },
   {
    "duration": 0,
    "start_time": "2022-04-17T12:15:43.671Z"
   },
   {
    "duration": 0,
    "start_time": "2022-04-17T12:15:43.672Z"
   },
   {
    "duration": 0,
    "start_time": "2022-04-17T12:15:43.673Z"
   },
   {
    "duration": 0,
    "start_time": "2022-04-17T12:15:43.675Z"
   },
   {
    "duration": 4,
    "start_time": "2022-04-17T12:15:50.530Z"
   },
   {
    "duration": 6,
    "start_time": "2022-04-17T12:15:50.537Z"
   },
   {
    "duration": 658,
    "start_time": "2022-04-17T12:15:50.545Z"
   },
   {
    "duration": 190,
    "start_time": "2022-04-17T12:15:51.206Z"
   },
   {
    "duration": 739,
    "start_time": "2022-04-17T12:15:51.399Z"
   },
   {
    "duration": 3,
    "start_time": "2022-04-17T12:15:52.141Z"
   },
   {
    "duration": 9,
    "start_time": "2022-04-17T12:15:52.146Z"
   },
   {
    "duration": 10,
    "start_time": "2022-04-17T12:15:52.156Z"
   },
   {
    "duration": 10,
    "start_time": "2022-04-17T12:15:52.192Z"
   },
   {
    "duration": 9,
    "start_time": "2022-04-17T12:15:52.205Z"
   },
   {
    "duration": 50,
    "start_time": "2022-04-17T12:15:52.217Z"
   },
   {
    "duration": 44,
    "start_time": "2022-04-17T12:15:52.270Z"
   },
   {
    "duration": 111,
    "start_time": "2022-04-17T12:15:52.317Z"
   },
   {
    "duration": 683,
    "start_time": "2022-04-17T12:15:52.431Z"
   },
   {
    "duration": 742,
    "start_time": "2022-04-17T12:15:53.116Z"
   },
   {
    "duration": 671,
    "start_time": "2022-04-17T12:15:53.860Z"
   },
   {
    "duration": 12,
    "start_time": "2022-04-17T12:15:54.533Z"
   },
   {
    "duration": 446,
    "start_time": "2022-04-17T12:15:54.547Z"
   },
   {
    "duration": 877,
    "start_time": "2022-04-17T12:15:54.995Z"
   },
   {
    "duration": 119,
    "start_time": "2022-04-17T12:15:55.874Z"
   },
   {
    "duration": 25,
    "start_time": "2022-04-17T12:15:55.995Z"
   },
   {
    "duration": 1182,
    "start_time": "2022-04-17T12:15:56.022Z"
   },
   {
    "duration": 181,
    "start_time": "2022-04-17T12:15:57.207Z"
   },
   {
    "duration": 21,
    "start_time": "2022-04-17T12:15:57.391Z"
   },
   {
    "duration": 794,
    "start_time": "2022-04-17T12:15:57.414Z"
   },
   {
    "duration": 6,
    "start_time": "2022-04-17T12:15:58.212Z"
   },
   {
    "duration": 15,
    "start_time": "2022-04-17T12:15:58.221Z"
   },
   {
    "duration": 6,
    "start_time": "2022-04-17T12:15:58.238Z"
   },
   {
    "duration": 16,
    "start_time": "2022-04-17T12:15:58.246Z"
   },
   {
    "duration": 29,
    "start_time": "2022-04-17T12:15:58.264Z"
   },
   {
    "duration": 15,
    "start_time": "2022-04-17T12:15:58.295Z"
   },
   {
    "duration": 110,
    "start_time": "2022-04-17T12:15:58.312Z"
   },
   {
    "duration": 680711,
    "start_time": "2022-04-17T12:15:58.425Z"
   },
   {
    "duration": 1573,
    "start_time": "2022-04-17T13:03:28.962Z"
   },
   {
    "duration": 4,
    "start_time": "2022-04-17T13:03:30.537Z"
   },
   {
    "duration": 487,
    "start_time": "2022-04-17T13:03:30.543Z"
   },
   {
    "duration": 139,
    "start_time": "2022-04-17T13:03:31.032Z"
   },
   {
    "duration": 545,
    "start_time": "2022-04-17T13:03:31.174Z"
   },
   {
    "duration": 4,
    "start_time": "2022-04-17T13:03:31.722Z"
   },
   {
    "duration": 24,
    "start_time": "2022-04-17T13:03:31.729Z"
   },
   {
    "duration": 5,
    "start_time": "2022-04-17T13:03:31.755Z"
   },
   {
    "duration": 37,
    "start_time": "2022-04-17T13:03:31.762Z"
   },
   {
    "duration": 7,
    "start_time": "2022-04-17T13:03:31.801Z"
   },
   {
    "duration": 65,
    "start_time": "2022-04-17T13:03:31.810Z"
   },
   {
    "duration": 16,
    "start_time": "2022-04-17T13:03:31.877Z"
   },
   {
    "duration": 109,
    "start_time": "2022-04-17T13:03:31.898Z"
   },
   {
    "duration": 1381,
    "start_time": "2022-04-17T13:03:32.012Z"
   },
   {
    "duration": 776,
    "start_time": "2022-04-17T13:03:33.394Z"
   },
   {
    "duration": 1308,
    "start_time": "2022-04-17T13:03:34.173Z"
   },
   {
    "duration": 27,
    "start_time": "2022-04-17T13:03:35.484Z"
   },
   {
    "duration": 940,
    "start_time": "2022-04-17T13:03:35.514Z"
   },
   {
    "duration": 620,
    "start_time": "2022-04-17T13:03:36.456Z"
   },
   {
    "duration": 82,
    "start_time": "2022-04-17T13:03:37.079Z"
   },
   {
    "duration": 36,
    "start_time": "2022-04-17T13:03:37.163Z"
   },
   {
    "duration": 776,
    "start_time": "2022-04-17T13:03:37.201Z"
   },
   {
    "duration": 186,
    "start_time": "2022-04-17T13:03:37.979Z"
   },
   {
    "duration": 18,
    "start_time": "2022-04-17T13:03:38.167Z"
   },
   {
    "duration": 936,
    "start_time": "2022-04-17T13:03:38.193Z"
   },
   {
    "duration": 7,
    "start_time": "2022-04-17T13:03:39.131Z"
   },
   {
    "duration": 23,
    "start_time": "2022-04-17T13:03:39.140Z"
   },
   {
    "duration": 19,
    "start_time": "2022-04-17T13:03:39.165Z"
   },
   {
    "duration": 35,
    "start_time": "2022-04-17T13:03:39.187Z"
   },
   {
    "duration": 26,
    "start_time": "2022-04-17T13:03:39.224Z"
   },
   {
    "duration": 20,
    "start_time": "2022-04-17T13:03:39.252Z"
   },
   {
    "duration": 89,
    "start_time": "2022-04-17T13:03:39.274Z"
   },
   {
    "duration": 1837,
    "start_time": "2022-04-17T13:17:17.868Z"
   },
   {
    "duration": 7,
    "start_time": "2022-04-17T13:17:19.707Z"
   },
   {
    "duration": 598,
    "start_time": "2022-04-17T13:17:19.716Z"
   },
   {
    "duration": 203,
    "start_time": "2022-04-17T13:17:20.318Z"
   },
   {
    "duration": 779,
    "start_time": "2022-04-17T13:17:20.524Z"
   },
   {
    "duration": 4,
    "start_time": "2022-04-17T13:17:21.307Z"
   },
   {
    "duration": 24,
    "start_time": "2022-04-17T13:17:21.313Z"
   },
   {
    "duration": 7,
    "start_time": "2022-04-17T13:17:21.339Z"
   },
   {
    "duration": 13,
    "start_time": "2022-04-17T13:17:21.348Z"
   },
   {
    "duration": 16,
    "start_time": "2022-04-17T13:17:21.398Z"
   },
   {
    "duration": 63,
    "start_time": "2022-04-17T13:17:21.417Z"
   },
   {
    "duration": 25,
    "start_time": "2022-04-17T13:17:21.482Z"
   },
   {
    "duration": 69,
    "start_time": "2022-04-17T13:17:21.510Z"
   },
   {
    "duration": 920,
    "start_time": "2022-04-17T13:17:21.593Z"
   },
   {
    "duration": 1040,
    "start_time": "2022-04-17T13:17:22.515Z"
   },
   {
    "duration": 853,
    "start_time": "2022-04-17T13:17:23.557Z"
   },
   {
    "duration": 13,
    "start_time": "2022-04-17T13:17:24.413Z"
   },
   {
    "duration": 539,
    "start_time": "2022-04-17T13:17:24.428Z"
   },
   {
    "duration": 1238,
    "start_time": "2022-04-17T13:17:24.969Z"
   },
   {
    "duration": 181,
    "start_time": "2022-04-17T13:17:26.212Z"
   },
   {
    "duration": 25,
    "start_time": "2022-04-17T13:17:26.394Z"
   },
   {
    "duration": 2091,
    "start_time": "2022-04-17T13:17:26.421Z"
   },
   {
    "duration": 284,
    "start_time": "2022-04-17T13:17:28.515Z"
   },
   {
    "duration": 25,
    "start_time": "2022-04-17T13:17:28.803Z"
   },
   {
    "duration": 1011,
    "start_time": "2022-04-17T13:17:28.831Z"
   },
   {
    "duration": 9,
    "start_time": "2022-04-17T13:17:29.844Z"
   },
   {
    "duration": 14,
    "start_time": "2022-04-17T13:17:29.855Z"
   },
   {
    "duration": 3,
    "start_time": "2022-04-17T13:17:29.903Z"
   },
   {
    "duration": 8,
    "start_time": "2022-04-17T13:17:29.912Z"
   },
   {
    "duration": 8,
    "start_time": "2022-04-17T13:17:29.922Z"
   },
   {
    "duration": 8,
    "start_time": "2022-04-17T13:17:29.932Z"
   },
   {
    "duration": 94,
    "start_time": "2022-04-17T13:17:29.942Z"
   },
   {
    "duration": 682818,
    "start_time": "2022-04-17T13:17:30.038Z"
   },
   {
    "duration": 3564995,
    "start_time": "2022-04-17T13:28:52.858Z"
   },
   {
    "duration": 40110,
    "start_time": "2022-04-17T14:28:17.855Z"
   },
   {
    "duration": 111,
    "start_time": "2022-04-17T14:33:26.565Z"
   },
   {
    "duration": 9,
    "start_time": "2022-04-17T14:33:34.582Z"
   },
   {
    "duration": 38089,
    "start_time": "2022-04-17T15:01:09.360Z"
   },
   {
    "duration": 7,
    "start_time": "2022-04-17T15:01:47.451Z"
   },
   {
    "duration": 6,
    "start_time": "2022-04-17T15:03:55.920Z"
   },
   {
    "duration": 37897,
    "start_time": "2022-04-17T15:05:52.546Z"
   },
   {
    "duration": 39094,
    "start_time": "2022-04-17T15:22:07.266Z"
   },
   {
    "duration": 4,
    "start_time": "2022-04-17T15:23:30.874Z"
   },
   {
    "duration": 130,
    "start_time": "2022-04-17T15:27:00.528Z"
   },
   {
    "duration": 127,
    "start_time": "2022-04-17T15:27:18.806Z"
   },
   {
    "duration": 125,
    "start_time": "2022-04-17T15:27:31.177Z"
   },
   {
    "duration": 20048,
    "start_time": "2022-04-17T15:28:22.987Z"
   },
   {
    "duration": 0,
    "start_time": "2022-04-17T15:28:43.037Z"
   },
   {
    "duration": 42251,
    "start_time": "2022-04-17T15:29:13.866Z"
   },
   {
    "duration": 40713,
    "start_time": "2022-04-17T15:29:56.119Z"
   },
   {
    "duration": 9,
    "start_time": "2022-04-17T15:30:36.834Z"
   },
   {
    "duration": 41191,
    "start_time": "2022-04-17T15:30:36.846Z"
   },
   {
    "duration": 1477,
    "start_time": "2022-04-17T15:32:27.108Z"
   },
   {
    "duration": 4,
    "start_time": "2022-04-17T15:32:28.587Z"
   },
   {
    "duration": 451,
    "start_time": "2022-04-17T15:32:28.593Z"
   },
   {
    "duration": 128,
    "start_time": "2022-04-17T15:32:29.046Z"
   },
   {
    "duration": 476,
    "start_time": "2022-04-17T15:32:29.176Z"
   },
   {
    "duration": 4,
    "start_time": "2022-04-17T15:32:29.653Z"
   },
   {
    "duration": 11,
    "start_time": "2022-04-17T15:32:29.659Z"
   },
   {
    "duration": 27,
    "start_time": "2022-04-17T15:32:29.672Z"
   },
   {
    "duration": 21,
    "start_time": "2022-04-17T15:32:29.702Z"
   },
   {
    "duration": 8,
    "start_time": "2022-04-17T15:32:29.727Z"
   },
   {
    "duration": 34,
    "start_time": "2022-04-17T15:32:29.737Z"
   },
   {
    "duration": 35,
    "start_time": "2022-04-17T15:32:29.773Z"
   },
   {
    "duration": 57,
    "start_time": "2022-04-17T15:32:29.810Z"
   },
   {
    "duration": 778,
    "start_time": "2022-04-17T15:32:29.869Z"
   },
   {
    "duration": 706,
    "start_time": "2022-04-17T15:32:30.649Z"
   },
   {
    "duration": 632,
    "start_time": "2022-04-17T15:32:31.357Z"
   },
   {
    "duration": 18,
    "start_time": "2022-04-17T15:32:31.991Z"
   },
   {
    "duration": 439,
    "start_time": "2022-04-17T15:32:32.011Z"
   },
   {
    "duration": 559,
    "start_time": "2022-04-17T15:32:32.452Z"
   },
   {
    "duration": 62,
    "start_time": "2022-04-17T15:32:33.013Z"
   },
   {
    "duration": 30,
    "start_time": "2022-04-17T15:32:33.077Z"
   },
   {
    "duration": 767,
    "start_time": "2022-04-17T15:32:33.109Z"
   },
   {
    "duration": 168,
    "start_time": "2022-04-17T15:32:33.878Z"
   },
   {
    "duration": 19,
    "start_time": "2022-04-17T15:32:34.048Z"
   },
   {
    "duration": 990,
    "start_time": "2022-04-17T15:32:34.068Z"
   },
   {
    "duration": 6,
    "start_time": "2022-04-17T15:32:35.059Z"
   },
   {
    "duration": 34,
    "start_time": "2022-04-17T15:32:35.066Z"
   },
   {
    "duration": 3,
    "start_time": "2022-04-17T15:32:35.105Z"
   },
   {
    "duration": 7,
    "start_time": "2022-04-17T15:32:35.109Z"
   },
   {
    "duration": 10,
    "start_time": "2022-04-17T15:32:35.118Z"
   },
   {
    "duration": 11,
    "start_time": "2022-04-17T15:32:35.130Z"
   },
   {
    "duration": 84,
    "start_time": "2022-04-17T15:32:35.142Z"
   },
   {
    "duration": 638956,
    "start_time": "2022-04-17T15:32:35.228Z"
   },
   {
    "duration": 39729,
    "start_time": "2022-04-17T15:43:14.186Z"
   },
   {
    "duration": 8,
    "start_time": "2022-04-17T15:43:53.917Z"
   },
   {
    "duration": 4,
    "start_time": "2022-04-17T15:46:48.390Z"
   },
   {
    "duration": 38188,
    "start_time": "2022-04-17T15:46:49.705Z"
   },
   {
    "duration": 35996,
    "start_time": "2022-04-17T15:49:32.881Z"
   },
   {
    "duration": 8037,
    "start_time": "2022-04-18T10:13:03.794Z"
   },
   {
    "duration": 82,
    "start_time": "2022-04-18T10:39:19.339Z"
   },
   {
    "duration": 197,
    "start_time": "2022-04-18T13:47:32.611Z"
   },
   {
    "duration": 1688,
    "start_time": "2022-04-20T07:08:30.889Z"
   },
   {
    "duration": 4,
    "start_time": "2022-04-20T07:08:32.579Z"
   },
   {
    "duration": 436,
    "start_time": "2022-04-20T07:08:32.585Z"
   },
   {
    "duration": 119,
    "start_time": "2022-04-20T07:08:33.023Z"
   },
   {
    "duration": 501,
    "start_time": "2022-04-20T07:08:33.144Z"
   },
   {
    "duration": 2,
    "start_time": "2022-04-20T07:08:33.647Z"
   },
   {
    "duration": 27,
    "start_time": "2022-04-20T07:08:33.651Z"
   },
   {
    "duration": 26,
    "start_time": "2022-04-20T07:08:33.679Z"
   },
   {
    "duration": 20,
    "start_time": "2022-04-20T07:08:33.706Z"
   },
   {
    "duration": 38,
    "start_time": "2022-04-20T07:08:33.727Z"
   },
   {
    "duration": 63,
    "start_time": "2022-04-20T07:08:33.769Z"
   },
   {
    "duration": 13,
    "start_time": "2022-04-20T07:08:33.833Z"
   },
   {
    "duration": 63,
    "start_time": "2022-04-20T07:08:33.847Z"
   },
   {
    "duration": 669,
    "start_time": "2022-04-20T07:08:33.913Z"
   },
   {
    "duration": 714,
    "start_time": "2022-04-20T07:08:34.583Z"
   },
   {
    "duration": 642,
    "start_time": "2022-04-20T07:08:35.299Z"
   },
   {
    "duration": 12,
    "start_time": "2022-04-20T07:08:35.942Z"
   },
   {
    "duration": 432,
    "start_time": "2022-04-20T07:08:35.955Z"
   },
   {
    "duration": 548,
    "start_time": "2022-04-20T07:08:36.389Z"
   },
   {
    "duration": 70,
    "start_time": "2022-04-20T07:08:36.939Z"
   },
   {
    "duration": 20,
    "start_time": "2022-04-20T07:08:37.010Z"
   },
   {
    "duration": 760,
    "start_time": "2022-04-20T07:08:37.032Z"
   },
   {
    "duration": 157,
    "start_time": "2022-04-20T07:08:37.794Z"
   },
   {
    "duration": 19,
    "start_time": "2022-04-20T07:08:37.953Z"
   },
   {
    "duration": 773,
    "start_time": "2022-04-20T07:08:37.974Z"
   },
   {
    "duration": 6,
    "start_time": "2022-04-20T07:08:38.748Z"
   },
   {
    "duration": 10,
    "start_time": "2022-04-20T07:08:38.755Z"
   },
   {
    "duration": 3,
    "start_time": "2022-04-20T07:08:38.767Z"
   },
   {
    "duration": 22,
    "start_time": "2022-04-20T07:08:38.771Z"
   },
   {
    "duration": 7,
    "start_time": "2022-04-20T07:08:38.794Z"
   },
   {
    "duration": 10,
    "start_time": "2022-04-20T07:08:38.803Z"
   },
   {
    "duration": 82,
    "start_time": "2022-04-20T07:08:38.815Z"
   },
   {
    "duration": 656587,
    "start_time": "2022-04-20T07:08:38.899Z"
   },
   {
    "duration": 3404656,
    "start_time": "2022-04-20T07:19:35.488Z"
   },
   {
    "duration": 39812,
    "start_time": "2022-04-20T08:16:20.146Z"
   },
   {
    "duration": 8,
    "start_time": "2022-04-20T08:16:59.959Z"
   },
   {
    "duration": 121,
    "start_time": "2022-04-20T08:21:29.104Z"
   },
   {
    "duration": 15,
    "start_time": "2022-04-20T08:21:40.016Z"
   },
   {
    "duration": 11,
    "start_time": "2022-04-20T08:22:38.768Z"
   },
   {
    "duration": 522355,
    "start_time": "2022-04-20T08:23:24.425Z"
   },
   {
    "duration": 4,
    "start_time": "2022-04-20T08:33:02.098Z"
   },
   {
    "duration": 28565,
    "start_time": "2022-04-20T08:33:42.975Z"
   },
   {
    "duration": 42091,
    "start_time": "2022-04-20T08:34:20.543Z"
   },
   {
    "duration": 41914,
    "start_time": "2022-04-20T08:35:39.651Z"
   },
   {
    "duration": 139343,
    "start_time": "2022-04-20T08:37:26.611Z"
   },
   {
    "duration": 15670,
    "start_time": "2022-04-20T08:39:52.792Z"
   },
   {
    "duration": 114766,
    "start_time": "2022-04-20T08:40:09.468Z"
   },
   {
    "duration": 11,
    "start_time": "2022-04-20T08:42:24.424Z"
   },
   {
    "duration": 129605,
    "start_time": "2022-04-20T08:43:08.461Z"
   },
   {
    "duration": 10,
    "start_time": "2022-04-20T08:45:48.449Z"
   },
   {
    "duration": 0,
    "start_time": "2022-04-20T08:48:37.546Z"
   },
   {
    "duration": 38556,
    "start_time": "2022-04-20T08:48:38.437Z"
   },
   {
    "duration": 769449,
    "start_time": "2022-04-20T08:49:17.729Z"
   },
   {
    "duration": 709710,
    "start_time": "2022-04-20T09:03:36.719Z"
   },
   {
    "duration": 2512062,
    "start_time": "2022-04-20T09:21:06.995Z"
   },
   {
    "duration": 3,
    "start_time": "2022-04-20T10:09:11.990Z"
   },
   {
    "duration": 4864746,
    "start_time": "2022-04-20T10:09:14.059Z"
   },
   {
    "duration": 5,
    "start_time": "2022-04-20T11:36:22.223Z"
   },
   {
    "duration": 131753,
    "start_time": "2022-04-20T11:36:24.532Z"
   },
   {
    "duration": 0,
    "start_time": "2022-04-20T11:38:36.293Z"
   },
   {
    "duration": 4,
    "start_time": "2022-04-20T11:38:37.778Z"
   },
   {
    "duration": 25474,
    "start_time": "2022-04-20T11:38:59.679Z"
   },
   {
    "duration": 18,
    "start_time": "2022-04-20T11:44:44.720Z"
   },
   {
    "duration": 9,
    "start_time": "2022-04-20T12:09:09.550Z"
   },
   {
    "duration": 3,
    "start_time": "2022-04-20T12:09:36.040Z"
   },
   {
    "duration": 17,
    "start_time": "2022-04-20T12:10:58.639Z"
   },
   {
    "duration": 12,
    "start_time": "2022-04-20T12:12:11.577Z"
   },
   {
    "duration": 111,
    "start_time": "2022-04-20T12:12:21.384Z"
   },
   {
    "duration": 156,
    "start_time": "2022-04-20T12:13:37.336Z"
   },
   {
    "duration": 43,
    "start_time": "2022-04-20T12:13:49.659Z"
   },
   {
    "duration": 81,
    "start_time": "2022-04-20T12:14:17.415Z"
   },
   {
    "duration": 493,
    "start_time": "2022-04-20T12:16:23.202Z"
   },
   {
    "duration": 705480,
    "start_time": "2022-04-20T12:24:05.336Z"
   },
   {
    "duration": 1547,
    "start_time": "2022-04-20T12:36:12.047Z"
   },
   {
    "duration": 6,
    "start_time": "2022-04-20T12:36:13.596Z"
   },
   {
    "duration": 448,
    "start_time": "2022-04-20T12:36:13.604Z"
   },
   {
    "duration": 129,
    "start_time": "2022-04-20T12:36:14.054Z"
   },
   {
    "duration": 721,
    "start_time": "2022-04-20T12:36:14.185Z"
   },
   {
    "duration": 4,
    "start_time": "2022-04-20T12:36:14.908Z"
   },
   {
    "duration": 17,
    "start_time": "2022-04-20T12:36:14.914Z"
   },
   {
    "duration": 7,
    "start_time": "2022-04-20T12:36:14.933Z"
   },
   {
    "duration": 11,
    "start_time": "2022-04-20T12:36:14.942Z"
   },
   {
    "duration": 36,
    "start_time": "2022-04-20T12:36:14.956Z"
   },
   {
    "duration": 41,
    "start_time": "2022-04-20T12:36:14.995Z"
   },
   {
    "duration": 16,
    "start_time": "2022-04-20T12:36:15.038Z"
   },
   {
    "duration": 83,
    "start_time": "2022-04-20T12:36:15.056Z"
   },
   {
    "duration": 1067,
    "start_time": "2022-04-20T12:36:15.141Z"
   },
   {
    "duration": 1187,
    "start_time": "2022-04-20T12:36:16.210Z"
   },
   {
    "duration": 965,
    "start_time": "2022-04-20T12:36:17.399Z"
   },
   {
    "duration": 26,
    "start_time": "2022-04-20T12:36:18.366Z"
   },
   {
    "duration": 466,
    "start_time": "2022-04-20T12:36:18.395Z"
   },
   {
    "duration": 580,
    "start_time": "2022-04-20T12:36:18.863Z"
   },
   {
    "duration": 76,
    "start_time": "2022-04-20T12:36:19.445Z"
   },
   {
    "duration": 22,
    "start_time": "2022-04-20T12:36:19.523Z"
   },
   {
    "duration": 786,
    "start_time": "2022-04-20T12:36:19.547Z"
   },
   {
    "duration": 228,
    "start_time": "2022-04-20T12:36:20.336Z"
   },
   {
    "duration": 34,
    "start_time": "2022-04-20T12:36:20.566Z"
   },
   {
    "duration": 2178,
    "start_time": "2022-04-20T12:36:20.602Z"
   },
   {
    "duration": 7,
    "start_time": "2022-04-20T12:36:22.793Z"
   },
   {
    "duration": 20,
    "start_time": "2022-04-20T12:36:22.802Z"
   },
   {
    "duration": 4,
    "start_time": "2022-04-20T12:36:22.826Z"
   },
   {
    "duration": 9,
    "start_time": "2022-04-20T12:36:22.832Z"
   },
   {
    "duration": 9,
    "start_time": "2022-04-20T12:36:22.843Z"
   },
   {
    "duration": 13,
    "start_time": "2022-04-20T12:36:22.854Z"
   },
   {
    "duration": 72,
    "start_time": "2022-04-20T12:36:22.894Z"
   },
   {
    "duration": 2284404,
    "start_time": "2022-04-20T12:36:22.968Z"
   },
   {
    "duration": 0,
    "start_time": "2022-04-20T13:14:27.374Z"
   },
   {
    "duration": 0,
    "start_time": "2022-04-20T13:14:27.375Z"
   },
   {
    "duration": 0,
    "start_time": "2022-04-20T13:14:27.376Z"
   },
   {
    "duration": 0,
    "start_time": "2022-04-20T13:14:27.377Z"
   },
   {
    "duration": 4,
    "start_time": "2022-04-20T13:29:00.485Z"
   },
   {
    "duration": 26,
    "start_time": "2022-04-20T13:29:00.491Z"
   },
   {
    "duration": 461,
    "start_time": "2022-04-20T13:29:00.519Z"
   },
   {
    "duration": 120,
    "start_time": "2022-04-20T13:29:00.993Z"
   },
   {
    "duration": 488,
    "start_time": "2022-04-20T13:29:01.117Z"
   },
   {
    "duration": 3,
    "start_time": "2022-04-20T13:29:01.607Z"
   },
   {
    "duration": 25,
    "start_time": "2022-04-20T13:29:01.612Z"
   },
   {
    "duration": 58,
    "start_time": "2022-04-20T13:29:01.639Z"
   },
   {
    "duration": 24,
    "start_time": "2022-04-20T13:29:01.698Z"
   },
   {
    "duration": 21,
    "start_time": "2022-04-20T13:29:01.724Z"
   },
   {
    "duration": 56,
    "start_time": "2022-04-20T13:29:01.748Z"
   },
   {
    "duration": 18,
    "start_time": "2022-04-20T13:29:01.807Z"
   },
   {
    "duration": 99,
    "start_time": "2022-04-20T13:29:01.827Z"
   },
   {
    "duration": 1097,
    "start_time": "2022-04-20T13:29:01.928Z"
   },
   {
    "duration": 987,
    "start_time": "2022-04-20T13:29:03.028Z"
   },
   {
    "duration": 1180,
    "start_time": "2022-04-20T13:29:04.017Z"
   },
   {
    "duration": 15,
    "start_time": "2022-04-20T13:29:05.199Z"
   },
   {
    "duration": 455,
    "start_time": "2022-04-20T13:29:05.215Z"
   },
   {
    "duration": 660,
    "start_time": "2022-04-20T13:29:05.672Z"
   },
   {
    "duration": 466,
    "start_time": "2022-04-20T13:29:06.334Z"
   },
   {
    "duration": 20,
    "start_time": "2022-04-20T13:29:06.802Z"
   },
   {
    "duration": 1806,
    "start_time": "2022-04-20T13:29:06.824Z"
   },
   {
    "duration": 204,
    "start_time": "2022-04-20T13:29:08.633Z"
   },
   {
    "duration": 82,
    "start_time": "2022-04-20T13:29:08.839Z"
   },
   {
    "duration": 3086,
    "start_time": "2022-04-20T13:29:08.923Z"
   },
   {
    "duration": 6,
    "start_time": "2022-04-20T13:29:12.012Z"
   },
   {
    "duration": 28,
    "start_time": "2022-04-20T13:29:12.020Z"
   },
   {
    "duration": 4,
    "start_time": "2022-04-20T13:29:12.094Z"
   },
   {
    "duration": 16,
    "start_time": "2022-04-20T13:29:12.103Z"
   },
   {
    "duration": 12,
    "start_time": "2022-04-20T13:29:12.121Z"
   },
   {
    "duration": 62,
    "start_time": "2022-04-20T13:29:12.135Z"
   },
   {
    "duration": 207,
    "start_time": "2022-04-20T13:29:12.199Z"
   },
   {
    "duration": 1942,
    "start_time": "2022-04-20T13:30:52.739Z"
   },
   {
    "duration": 10,
    "start_time": "2022-04-20T13:30:54.684Z"
   },
   {
    "duration": 626,
    "start_time": "2022-04-20T13:30:54.696Z"
   },
   {
    "duration": 188,
    "start_time": "2022-04-20T13:30:55.325Z"
   },
   {
    "duration": 717,
    "start_time": "2022-04-20T13:30:55.514Z"
   },
   {
    "duration": 3,
    "start_time": "2022-04-20T13:30:56.233Z"
   },
   {
    "duration": 18,
    "start_time": "2022-04-20T13:30:56.238Z"
   },
   {
    "duration": 7,
    "start_time": "2022-04-20T13:30:56.258Z"
   },
   {
    "duration": 32,
    "start_time": "2022-04-20T13:30:56.267Z"
   },
   {
    "duration": 6,
    "start_time": "2022-04-20T13:30:56.302Z"
   },
   {
    "duration": 35,
    "start_time": "2022-04-20T13:30:56.310Z"
   },
   {
    "duration": 13,
    "start_time": "2022-04-20T13:30:56.346Z"
   },
   {
    "duration": 59,
    "start_time": "2022-04-20T13:30:56.393Z"
   },
   {
    "duration": 731,
    "start_time": "2022-04-20T13:30:56.454Z"
   },
   {
    "duration": 735,
    "start_time": "2022-04-20T13:30:57.187Z"
   },
   {
    "duration": 677,
    "start_time": "2022-04-20T13:30:57.924Z"
   },
   {
    "duration": 13,
    "start_time": "2022-04-20T13:30:58.603Z"
   },
   {
    "duration": 483,
    "start_time": "2022-04-20T13:30:58.619Z"
   },
   {
    "duration": 578,
    "start_time": "2022-04-20T13:30:59.104Z"
   },
   {
    "duration": 70,
    "start_time": "2022-04-20T13:30:59.684Z"
   },
   {
    "duration": 19,
    "start_time": "2022-04-20T13:30:59.756Z"
   },
   {
    "duration": 1192,
    "start_time": "2022-04-20T13:30:59.777Z"
   },
   {
    "duration": 173,
    "start_time": "2022-04-20T13:31:00.971Z"
   },
   {
    "duration": 20,
    "start_time": "2022-04-20T13:31:01.146Z"
   },
   {
    "duration": 811,
    "start_time": "2022-04-20T13:31:01.167Z"
   },
   {
    "duration": 15,
    "start_time": "2022-04-20T13:31:01.979Z"
   },
   {
    "duration": 19,
    "start_time": "2022-04-20T13:31:01.996Z"
   },
   {
    "duration": 50,
    "start_time": "2022-04-20T13:31:02.018Z"
   },
   {
    "duration": 32,
    "start_time": "2022-04-20T13:31:02.070Z"
   },
   {
    "duration": 27,
    "start_time": "2022-04-20T13:31:02.104Z"
   },
   {
    "duration": 20,
    "start_time": "2022-04-20T13:31:02.133Z"
   },
   {
    "duration": 83,
    "start_time": "2022-04-20T13:31:02.155Z"
   },
   {
    "duration": 1841390,
    "start_time": "2022-04-20T13:31:02.240Z"
   },
   {
    "duration": 0,
    "start_time": "2022-04-20T14:01:43.633Z"
   },
   {
    "duration": 0,
    "start_time": "2022-04-20T14:01:43.634Z"
   },
   {
    "duration": 0,
    "start_time": "2022-04-20T14:01:43.636Z"
   },
   {
    "duration": 47,
    "start_time": "2022-04-20T20:58:22.300Z"
   },
   {
    "duration": 1742,
    "start_time": "2022-04-20T20:58:42.648Z"
   },
   {
    "duration": 4,
    "start_time": "2022-04-20T20:58:44.393Z"
   },
   {
    "duration": 441,
    "start_time": "2022-04-20T20:58:44.399Z"
   },
   {
    "duration": 129,
    "start_time": "2022-04-20T20:58:44.842Z"
   },
   {
    "duration": 674,
    "start_time": "2022-04-20T20:58:44.973Z"
   },
   {
    "duration": 3,
    "start_time": "2022-04-20T20:58:45.648Z"
   },
   {
    "duration": 19,
    "start_time": "2022-04-20T20:58:45.653Z"
   },
   {
    "duration": 15,
    "start_time": "2022-04-20T20:58:45.674Z"
   },
   {
    "duration": 16,
    "start_time": "2022-04-20T20:58:45.690Z"
   },
   {
    "duration": 13,
    "start_time": "2022-04-20T20:58:45.709Z"
   },
   {
    "duration": 56,
    "start_time": "2022-04-20T20:58:45.723Z"
   },
   {
    "duration": 14,
    "start_time": "2022-04-20T20:58:45.780Z"
   },
   {
    "duration": 75,
    "start_time": "2022-04-20T20:58:45.795Z"
   },
   {
    "duration": 909,
    "start_time": "2022-04-20T20:58:45.872Z"
   },
   {
    "duration": 915,
    "start_time": "2022-04-20T20:58:46.783Z"
   },
   {
    "duration": 583,
    "start_time": "2022-04-20T20:58:47.699Z"
   },
   {
    "duration": 11,
    "start_time": "2022-04-20T20:58:48.283Z"
   },
   {
    "duration": 395,
    "start_time": "2022-04-20T20:58:48.296Z"
   },
   {
    "duration": 498,
    "start_time": "2022-04-20T20:58:48.693Z"
   },
   {
    "duration": 61,
    "start_time": "2022-04-20T20:58:49.193Z"
   },
   {
    "duration": 17,
    "start_time": "2022-04-20T20:58:49.256Z"
   },
   {
    "duration": 643,
    "start_time": "2022-04-20T20:58:49.274Z"
   },
   {
    "duration": 153,
    "start_time": "2022-04-20T20:58:49.918Z"
   },
   {
    "duration": 16,
    "start_time": "2022-04-20T20:58:50.073Z"
   },
   {
    "duration": 714,
    "start_time": "2022-04-20T20:58:50.092Z"
   },
   {
    "duration": 6,
    "start_time": "2022-04-20T20:58:50.807Z"
   },
   {
    "duration": 23,
    "start_time": "2022-04-20T20:58:50.814Z"
   },
   {
    "duration": 7,
    "start_time": "2022-04-20T20:58:50.839Z"
   },
   {
    "duration": 18,
    "start_time": "2022-04-20T20:58:50.848Z"
   },
   {
    "duration": 30,
    "start_time": "2022-04-20T20:58:50.867Z"
   },
   {
    "duration": 19,
    "start_time": "2022-04-20T20:58:50.899Z"
   },
   {
    "duration": 65,
    "start_time": "2022-04-20T20:58:52.260Z"
   },
   {
    "duration": 34670,
    "start_time": "2022-04-20T20:59:11.168Z"
   },
   {
    "duration": 8,
    "start_time": "2022-04-20T20:59:45.840Z"
   },
   {
    "duration": 84,
    "start_time": "2022-04-20T20:59:45.849Z"
   },
   {
    "duration": 12,
    "start_time": "2022-04-20T21:00:13.378Z"
   },
   {
    "duration": 197,
    "start_time": "2022-04-20T21:04:37.824Z"
   },
   {
    "duration": 12,
    "start_time": "2022-04-20T21:04:52.460Z"
   },
   {
    "duration": 4,
    "start_time": "2022-04-20T21:05:34.917Z"
   },
   {
    "duration": 16,
    "start_time": "2022-04-20T21:07:18.344Z"
   },
   {
    "duration": 17,
    "start_time": "2022-04-20T21:08:09.104Z"
   },
   {
    "duration": 20310,
    "start_time": "2022-04-20T21:08:26.968Z"
   },
   {
    "duration": 102398,
    "start_time": "2022-04-20T21:09:08.075Z"
   },
   {
    "duration": 101949,
    "start_time": "2022-04-20T21:11:37.639Z"
   },
   {
    "duration": 13,
    "start_time": "2022-04-20T21:38:13.310Z"
   },
   {
    "duration": 14,
    "start_time": "2022-04-20T21:38:53.618Z"
   },
   {
    "duration": 200,
    "start_time": "2022-04-20T21:39:12.412Z"
   },
   {
    "duration": 14,
    "start_time": "2022-04-20T21:39:22.145Z"
   },
   {
    "duration": 143714,
    "start_time": "2022-04-20T21:48:23.179Z"
   },
   {
    "duration": 143556,
    "start_time": "2022-04-20T21:51:46.813Z"
   },
   {
    "duration": 46,
    "start_time": "2022-04-20T21:55:16.967Z"
   },
   {
    "duration": 156,
    "start_time": "2022-04-20T21:55:35.403Z"
   },
   {
    "duration": 4,
    "start_time": "2022-04-20T21:55:51.251Z"
   },
   {
    "duration": 3,
    "start_time": "2022-04-20T21:55:55.616Z"
   },
   {
    "duration": 5,
    "start_time": "2022-04-20T21:56:02.912Z"
   },
   {
    "duration": 1249,
    "start_time": "2022-04-20T21:56:23.391Z"
   },
   {
    "duration": 2,
    "start_time": "2022-04-20T21:56:33.257Z"
   },
   {
    "duration": 6,
    "start_time": "2022-04-20T21:56:38.279Z"
   },
   {
    "duration": 74,
    "start_time": "2022-04-20T21:56:55.020Z"
   },
   {
    "duration": 14,
    "start_time": "2022-04-20T21:57:13.065Z"
   },
   {
    "duration": 308,
    "start_time": "2022-04-20T21:57:19.095Z"
   },
   {
    "duration": 3,
    "start_time": "2022-04-20T21:57:42.072Z"
   },
   {
    "duration": 2,
    "start_time": "2022-04-20T21:57:42.858Z"
   },
   {
    "duration": 3,
    "start_time": "2022-04-20T21:57:46.888Z"
   },
   {
    "duration": 363,
    "start_time": "2022-04-20T21:57:48.141Z"
   },
   {
    "duration": 277,
    "start_time": "2022-04-20T21:58:37.251Z"
   },
   {
    "duration": 274,
    "start_time": "2022-04-20T21:59:10.356Z"
   },
   {
    "duration": 5,
    "start_time": "2022-04-20T21:59:19.946Z"
   },
   {
    "duration": 5,
    "start_time": "2022-04-20T21:59:21.593Z"
   },
   {
    "duration": 5,
    "start_time": "2022-04-20T21:59:31.310Z"
   },
   {
    "duration": 9,
    "start_time": "2022-04-20T22:00:55.256Z"
   },
   {
    "duration": 9,
    "start_time": "2022-04-20T22:05:52.585Z"
   },
   {
    "duration": 10,
    "start_time": "2022-04-20T22:06:30.591Z"
   },
   {
    "duration": 12,
    "start_time": "2022-04-20T22:06:53.150Z"
   },
   {
    "duration": 143012,
    "start_time": "2022-04-20T22:07:27.459Z"
   },
   {
    "duration": 3,
    "start_time": "2022-04-20T22:12:37.018Z"
   },
   {
    "duration": 103086,
    "start_time": "2022-04-20T22:13:10.468Z"
   },
   {
    "duration": 3,
    "start_time": "2022-04-20T22:16:59.499Z"
   },
   {
    "duration": 77249,
    "start_time": "2022-04-20T22:17:01.984Z"
   },
   {
    "duration": 10,
    "start_time": "2022-04-20T22:21:41.567Z"
   },
   {
    "duration": 9,
    "start_time": "2022-04-20T22:22:31.206Z"
   },
   {
    "duration": 3,
    "start_time": "2022-04-20T22:23:12.490Z"
   },
   {
    "duration": 3,
    "start_time": "2022-04-20T22:23:42.153Z"
   },
   {
    "duration": 76659,
    "start_time": "2022-04-20T22:23:43.896Z"
   },
   {
    "duration": 210072,
    "start_time": "2022-04-20T22:25:19.163Z"
   },
   {
    "duration": 76845,
    "start_time": "2022-04-20T22:28:53.943Z"
   },
   {
    "duration": 1492,
    "start_time": "2022-04-21T06:41:29.321Z"
   },
   {
    "duration": 9,
    "start_time": "2022-04-21T06:41:30.815Z"
   },
   {
    "duration": 381,
    "start_time": "2022-04-21T06:41:30.825Z"
   },
   {
    "duration": 110,
    "start_time": "2022-04-21T06:41:31.207Z"
   },
   {
    "duration": 400,
    "start_time": "2022-04-21T06:41:31.323Z"
   },
   {
    "duration": 3,
    "start_time": "2022-04-21T06:41:31.725Z"
   },
   {
    "duration": 14,
    "start_time": "2022-04-21T06:41:31.729Z"
   },
   {
    "duration": 5,
    "start_time": "2022-04-21T06:41:31.744Z"
   },
   {
    "duration": 10,
    "start_time": "2022-04-21T06:41:31.750Z"
   },
   {
    "duration": 11,
    "start_time": "2022-04-21T06:41:31.761Z"
   },
   {
    "duration": 51,
    "start_time": "2022-04-21T06:41:31.774Z"
   },
   {
    "duration": 11,
    "start_time": "2022-04-21T06:41:31.827Z"
   },
   {
    "duration": 49,
    "start_time": "2022-04-21T06:41:31.840Z"
   },
   {
    "duration": 582,
    "start_time": "2022-04-21T06:41:31.892Z"
   },
   {
    "duration": 617,
    "start_time": "2022-04-21T06:41:32.476Z"
   },
   {
    "duration": 542,
    "start_time": "2022-04-21T06:41:33.094Z"
   },
   {
    "duration": 11,
    "start_time": "2022-04-21T06:41:33.638Z"
   },
   {
    "duration": 381,
    "start_time": "2022-04-21T06:41:33.650Z"
   },
   {
    "duration": 494,
    "start_time": "2022-04-21T06:41:34.033Z"
   },
   {
    "duration": 56,
    "start_time": "2022-04-21T06:41:34.529Z"
   },
   {
    "duration": 17,
    "start_time": "2022-04-21T06:41:34.587Z"
   },
   {
    "duration": 645,
    "start_time": "2022-04-21T06:41:34.606Z"
   },
   {
    "duration": 142,
    "start_time": "2022-04-21T06:41:35.252Z"
   },
   {
    "duration": 15,
    "start_time": "2022-04-21T06:41:35.395Z"
   },
   {
    "duration": 654,
    "start_time": "2022-04-21T06:41:35.412Z"
   },
   {
    "duration": 5,
    "start_time": "2022-04-21T06:41:36.067Z"
   },
   {
    "duration": 13,
    "start_time": "2022-04-21T06:41:36.073Z"
   },
   {
    "duration": 3,
    "start_time": "2022-04-21T06:41:36.087Z"
   },
   {
    "duration": 5,
    "start_time": "2022-04-21T06:41:36.092Z"
   },
   {
    "duration": 26,
    "start_time": "2022-04-21T06:41:36.098Z"
   },
   {
    "duration": 5,
    "start_time": "2022-04-21T06:41:36.125Z"
   },
   {
    "duration": 62,
    "start_time": "2022-04-21T06:41:36.131Z"
   },
   {
    "duration": 112,
    "start_time": "2022-04-21T06:41:36.195Z"
   },
   {
    "duration": 0,
    "start_time": "2022-04-21T06:41:36.308Z"
   },
   {
    "duration": 0,
    "start_time": "2022-04-21T06:41:36.309Z"
   },
   {
    "duration": 0,
    "start_time": "2022-04-21T06:41:36.310Z"
   }
  ],
  "kernelspec": {
   "display_name": "Python 3",
   "language": "python",
   "name": "python3"
  },
  "language_info": {
   "codemirror_mode": {
    "name": "ipython",
    "version": 3
   },
   "file_extension": ".py",
   "mimetype": "text/x-python",
   "name": "python",
   "nbconvert_exporter": "python",
   "pygments_lexer": "ipython3",
   "version": "3.8.8"
  },
  "toc": {
   "base_numbering": 1,
   "nav_menu": {},
   "number_sections": true,
   "sideBar": true,
   "skip_h1_title": true,
   "title_cell": "Содержание",
   "title_sidebar": "Contents",
   "toc_cell": true,
   "toc_position": {
    "height": "calc(100% - 180px)",
    "left": "10px",
    "top": "150px",
    "width": "165px"
   },
   "toc_section_display": true,
   "toc_window_display": true
  },
  "vscode": {
   "interpreter": {
    "hash": "aee8b7b246df8f9039afb4144a1f6fd8d2ca17a180786b69acc140d282b71a49"
   }
  }
 },
 "nbformat": 4,
 "nbformat_minor": 2
}
