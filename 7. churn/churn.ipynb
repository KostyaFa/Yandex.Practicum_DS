{
 "cells": [
  {
   "cell_type": "markdown",
   "metadata": {
    "toc": true
   },
   "source": [
    "<h1>Содержание<span class=\"tocSkip\"></span></h1>\n",
    "<div class=\"toc\"><ul class=\"toc-item\"><li><span><a href=\"#Комментарий-ревьюра\" data-toc-modified-id=\"Комментарий-ревьюра-1\"><span class=\"toc-item-num\">1&nbsp;&nbsp;</span>Комментарий ревьюра</a></span></li><li><span><a href=\"#Подготовка-данных\" data-toc-modified-id=\"Подготовка-данных-2\"><span class=\"toc-item-num\">2&nbsp;&nbsp;</span>Подготовка данных</a></span></li><li><span><a href=\"#Исследование-задачи\" data-toc-modified-id=\"Исследование-задачи-3\"><span class=\"toc-item-num\">3&nbsp;&nbsp;</span>Исследование задачи</a></span><ul class=\"toc-item\"><li><span><a href=\"#Изучение-моделей-(без-учета-дисбаланса)\" data-toc-modified-id=\"Изучение-моделей-(без-учета-дисбаланса)-3.1\"><span class=\"toc-item-num\">3.1&nbsp;&nbsp;</span>Изучение моделей (без учета дисбаланса)</a></span></li><li><span><a href=\"#Выявление-лучшей-модели-(без-учета-дисбаланса)\" data-toc-modified-id=\"Выявление-лучшей-модели-(без-учета-дисбаланса)-3.2\"><span class=\"toc-item-num\">3.2&nbsp;&nbsp;</span>Выявление лучшей модели (без учета дисбаланса)</a></span></li></ul></li><li><span><a href=\"#Борьба-с-дисбалансом\" data-toc-modified-id=\"Борьба-с-дисбалансом-4\"><span class=\"toc-item-num\">4&nbsp;&nbsp;</span>Борьба с дисбалансом</a></span><ul class=\"toc-item\"><li><span><a href=\"#Взвешивание-классов\" data-toc-modified-id=\"Взвешивание-классов-4.1\"><span class=\"toc-item-num\">4.1&nbsp;&nbsp;</span>Взвешивание классов</a></span></li><li><span><a href=\"#Масштабирование-выборки\" data-toc-modified-id=\"Масштабирование-выборки-4.2\"><span class=\"toc-item-num\">4.2&nbsp;&nbsp;</span>Масштабирование выборки</a></span><ul class=\"toc-item\"><li><span><a href=\"#Увеличение-выбоки\" data-toc-modified-id=\"Увеличение-выбоки-4.2.1\"><span class=\"toc-item-num\">4.2.1&nbsp;&nbsp;</span>Увеличение выбоки</a></span></li><li><span><a href=\"#Уменьшение-выборки\" data-toc-modified-id=\"Уменьшение-выборки-4.2.2\"><span class=\"toc-item-num\">4.2.2&nbsp;&nbsp;</span>Уменьшение выборки</a></span></li></ul></li><li><span><a href=\"#Определение-лучшей-модели\" data-toc-modified-id=\"Определение-лучшей-модели-4.3\"><span class=\"toc-item-num\">4.3&nbsp;&nbsp;</span>Определение лучшей модели</a></span></li></ul></li><li><span><a href=\"#Тестирование-модели\" data-toc-modified-id=\"Тестирование-модели-5\"><span class=\"toc-item-num\">5&nbsp;&nbsp;</span>Тестирование модели</a></span></li></ul></div>"
   ]
  },
  {
   "cell_type": "markdown",
   "metadata": {},
   "source": [
    "# Отток клиентов"
   ]
  },
  {
   "cell_type": "markdown",
   "metadata": {},
   "source": [
    "Из «Бета-Банка» стали уходить клиенты. Каждый месяц. Немного, но заметно. Банковские маркетологи посчитали: сохранять текущих клиентов дешевле, чем привлекать новых.\n",
    "\n",
    "Нужно спрогнозировать, уйдёт клиент из банка в ближайшее время или нет. Вам предоставлены исторические данные о поведении клиентов и расторжении договоров с банком. \n",
    "\n",
    "Постройте модель с предельно большим значением *F1*-меры. Чтобы сдать проект успешно, нужно довести метрику до 0.59. Проверьте *F1*-меру на тестовой выборке самостоятельно.\n",
    "\n",
    "Дополнительно измеряйте *AUC-ROC*, сравнивайте её значение с *F1*-мерой.\n",
    "\n",
    "Источник данных: [https://www.kaggle.com/barelydedicated/bank-customer-churn-modeling](https://www.kaggle.com/barelydedicated/bank-customer-churn-modeling)"
   ]
  },
  {
   "cell_type": "markdown",
   "metadata": {},
   "source": [
    "**Признаки**\n",
    "\n",
    "- ***RowNumber*** — индекс строки в данных\n",
    "- ***CustomerId*** — уникальный идентификатор клиента\n",
    "- ***Surname*** — фамилия\n",
    "- ***CreditScore*** — кредитный рейтинг\n",
    "- ***Geography*** — страна проживания\n",
    "- ***Gender*** — пол\n",
    "- ***Age*** — возраст\n",
    "- ***Tenure*** — сколько лет человек является клиентом банка\n",
    "- ***Balance*** — баланс на счёте\n",
    "- ***NumOfProducts*** — количество продуктов банка, используемых клиентом\n",
    "- ***HasCrCard*** — наличие кредитной карты\n",
    "- ***IsActiveMember*** — активность клиента\n",
    "- ***EstimatedSalary*** — предполагаемая зарплата\n",
    "\n",
    "**Целевой признак**\n",
    "\n",
    "- ***Exited*** — факт ухода клиента"
   ]
  },
  {
   "cell_type": "markdown",
   "metadata": {},
   "source": [
    "## Подготовка данных"
   ]
  },
  {
   "cell_type": "code",
   "execution_count": 12,
   "metadata": {},
   "outputs": [],
   "source": [
    "# Импортируем библиотеки\n",
    "\n",
    "import pandas as pd\n",
    "\n",
    "import numpy as np\n",
    "\n",
    "import matplotlib.pyplot as plt\n",
    "\n",
    "from sklearn.model_selection import train_test_split\n",
    "\n",
    "from sklearn.metrics import f1_score, roc_auc_score, accuracy_score, roc_curve\n",
    "\n",
    "from sklearn.utils import shuffle\n",
    "\n",
    "from sklearn.ensemble import RandomForestClassifier\n",
    "\n",
    "from sklearn.tree import DecisionTreeClassifier\n",
    "\n",
    "from sklearn.linear_model import LogisticRegression\n",
    "\n",
    "from sklearn.preprocessing import StandardScaler"
   ]
  },
  {
   "cell_type": "code",
   "execution_count": 13,
   "metadata": {},
   "outputs": [],
   "source": [
    "import warnings\n",
    "warnings.filterwarnings('ignore')"
   ]
  },
  {
   "cell_type": "code",
   "execution_count": 14,
   "metadata": {},
   "outputs": [
    {
     "name": "stdout",
     "output_type": "stream",
     "text": [
      "<class 'pandas.core.frame.DataFrame'>\n",
      "RangeIndex: 10000 entries, 0 to 9999\n",
      "Data columns (total 14 columns):\n",
      " #   Column           Non-Null Count  Dtype  \n",
      "---  ------           --------------  -----  \n",
      " 0   RowNumber        10000 non-null  int64  \n",
      " 1   CustomerId       10000 non-null  int64  \n",
      " 2   Surname          10000 non-null  object \n",
      " 3   CreditScore      10000 non-null  int64  \n",
      " 4   Geography        10000 non-null  object \n",
      " 5   Gender           10000 non-null  object \n",
      " 6   Age              10000 non-null  int64  \n",
      " 7   Tenure           9091 non-null   float64\n",
      " 8   Balance          10000 non-null  float64\n",
      " 9   NumOfProducts    10000 non-null  int64  \n",
      " 10  HasCrCard        10000 non-null  int64  \n",
      " 11  IsActiveMember   10000 non-null  int64  \n",
      " 12  EstimatedSalary  10000 non-null  float64\n",
      " 13  Exited           10000 non-null  int64  \n",
      "dtypes: float64(3), int64(8), object(3)\n",
      "memory usage: 1.1+ MB\n"
     ]
    },
    {
     "data": {
      "text/html": [
       "<div>\n",
       "<style scoped>\n",
       "    .dataframe tbody tr th:only-of-type {\n",
       "        vertical-align: middle;\n",
       "    }\n",
       "\n",
       "    .dataframe tbody tr th {\n",
       "        vertical-align: top;\n",
       "    }\n",
       "\n",
       "    .dataframe thead th {\n",
       "        text-align: right;\n",
       "    }\n",
       "</style>\n",
       "<table border=\"1\" class=\"dataframe\">\n",
       "  <thead>\n",
       "    <tr style=\"text-align: right;\">\n",
       "      <th></th>\n",
       "      <th>RowNumber</th>\n",
       "      <th>CustomerId</th>\n",
       "      <th>Surname</th>\n",
       "      <th>CreditScore</th>\n",
       "      <th>Geography</th>\n",
       "      <th>Gender</th>\n",
       "      <th>Age</th>\n",
       "      <th>Tenure</th>\n",
       "      <th>Balance</th>\n",
       "      <th>NumOfProducts</th>\n",
       "      <th>HasCrCard</th>\n",
       "      <th>IsActiveMember</th>\n",
       "      <th>EstimatedSalary</th>\n",
       "      <th>Exited</th>\n",
       "    </tr>\n",
       "  </thead>\n",
       "  <tbody>\n",
       "    <tr>\n",
       "      <th>0</th>\n",
       "      <td>1</td>\n",
       "      <td>15634602</td>\n",
       "      <td>Hargrave</td>\n",
       "      <td>619</td>\n",
       "      <td>France</td>\n",
       "      <td>Female</td>\n",
       "      <td>42</td>\n",
       "      <td>2.0</td>\n",
       "      <td>0.00</td>\n",
       "      <td>1</td>\n",
       "      <td>1</td>\n",
       "      <td>1</td>\n",
       "      <td>101348.88</td>\n",
       "      <td>1</td>\n",
       "    </tr>\n",
       "    <tr>\n",
       "      <th>1</th>\n",
       "      <td>2</td>\n",
       "      <td>15647311</td>\n",
       "      <td>Hill</td>\n",
       "      <td>608</td>\n",
       "      <td>Spain</td>\n",
       "      <td>Female</td>\n",
       "      <td>41</td>\n",
       "      <td>1.0</td>\n",
       "      <td>83807.86</td>\n",
       "      <td>1</td>\n",
       "      <td>0</td>\n",
       "      <td>1</td>\n",
       "      <td>112542.58</td>\n",
       "      <td>0</td>\n",
       "    </tr>\n",
       "    <tr>\n",
       "      <th>2</th>\n",
       "      <td>3</td>\n",
       "      <td>15619304</td>\n",
       "      <td>Onio</td>\n",
       "      <td>502</td>\n",
       "      <td>France</td>\n",
       "      <td>Female</td>\n",
       "      <td>42</td>\n",
       "      <td>8.0</td>\n",
       "      <td>159660.80</td>\n",
       "      <td>3</td>\n",
       "      <td>1</td>\n",
       "      <td>0</td>\n",
       "      <td>113931.57</td>\n",
       "      <td>1</td>\n",
       "    </tr>\n",
       "    <tr>\n",
       "      <th>3</th>\n",
       "      <td>4</td>\n",
       "      <td>15701354</td>\n",
       "      <td>Boni</td>\n",
       "      <td>699</td>\n",
       "      <td>France</td>\n",
       "      <td>Female</td>\n",
       "      <td>39</td>\n",
       "      <td>1.0</td>\n",
       "      <td>0.00</td>\n",
       "      <td>2</td>\n",
       "      <td>0</td>\n",
       "      <td>0</td>\n",
       "      <td>93826.63</td>\n",
       "      <td>0</td>\n",
       "    </tr>\n",
       "    <tr>\n",
       "      <th>4</th>\n",
       "      <td>5</td>\n",
       "      <td>15737888</td>\n",
       "      <td>Mitchell</td>\n",
       "      <td>850</td>\n",
       "      <td>Spain</td>\n",
       "      <td>Female</td>\n",
       "      <td>43</td>\n",
       "      <td>2.0</td>\n",
       "      <td>125510.82</td>\n",
       "      <td>1</td>\n",
       "      <td>1</td>\n",
       "      <td>1</td>\n",
       "      <td>79084.10</td>\n",
       "      <td>0</td>\n",
       "    </tr>\n",
       "    <tr>\n",
       "      <th>5</th>\n",
       "      <td>6</td>\n",
       "      <td>15574012</td>\n",
       "      <td>Chu</td>\n",
       "      <td>645</td>\n",
       "      <td>Spain</td>\n",
       "      <td>Male</td>\n",
       "      <td>44</td>\n",
       "      <td>8.0</td>\n",
       "      <td>113755.78</td>\n",
       "      <td>2</td>\n",
       "      <td>1</td>\n",
       "      <td>0</td>\n",
       "      <td>149756.71</td>\n",
       "      <td>1</td>\n",
       "    </tr>\n",
       "    <tr>\n",
       "      <th>6</th>\n",
       "      <td>7</td>\n",
       "      <td>15592531</td>\n",
       "      <td>Bartlett</td>\n",
       "      <td>822</td>\n",
       "      <td>France</td>\n",
       "      <td>Male</td>\n",
       "      <td>50</td>\n",
       "      <td>7.0</td>\n",
       "      <td>0.00</td>\n",
       "      <td>2</td>\n",
       "      <td>1</td>\n",
       "      <td>1</td>\n",
       "      <td>10062.80</td>\n",
       "      <td>0</td>\n",
       "    </tr>\n",
       "    <tr>\n",
       "      <th>7</th>\n",
       "      <td>8</td>\n",
       "      <td>15656148</td>\n",
       "      <td>Obinna</td>\n",
       "      <td>376</td>\n",
       "      <td>Germany</td>\n",
       "      <td>Female</td>\n",
       "      <td>29</td>\n",
       "      <td>4.0</td>\n",
       "      <td>115046.74</td>\n",
       "      <td>4</td>\n",
       "      <td>1</td>\n",
       "      <td>0</td>\n",
       "      <td>119346.88</td>\n",
       "      <td>1</td>\n",
       "    </tr>\n",
       "    <tr>\n",
       "      <th>8</th>\n",
       "      <td>9</td>\n",
       "      <td>15792365</td>\n",
       "      <td>He</td>\n",
       "      <td>501</td>\n",
       "      <td>France</td>\n",
       "      <td>Male</td>\n",
       "      <td>44</td>\n",
       "      <td>4.0</td>\n",
       "      <td>142051.07</td>\n",
       "      <td>2</td>\n",
       "      <td>0</td>\n",
       "      <td>1</td>\n",
       "      <td>74940.50</td>\n",
       "      <td>0</td>\n",
       "    </tr>\n",
       "    <tr>\n",
       "      <th>9</th>\n",
       "      <td>10</td>\n",
       "      <td>15592389</td>\n",
       "      <td>H?</td>\n",
       "      <td>684</td>\n",
       "      <td>France</td>\n",
       "      <td>Male</td>\n",
       "      <td>27</td>\n",
       "      <td>2.0</td>\n",
       "      <td>134603.88</td>\n",
       "      <td>1</td>\n",
       "      <td>1</td>\n",
       "      <td>1</td>\n",
       "      <td>71725.73</td>\n",
       "      <td>0</td>\n",
       "    </tr>\n",
       "  </tbody>\n",
       "</table>\n",
       "</div>"
      ],
      "text/plain": [
       "   RowNumber  CustomerId   Surname  CreditScore Geography  Gender  Age  \\\n",
       "0          1    15634602  Hargrave          619    France  Female   42   \n",
       "1          2    15647311      Hill          608     Spain  Female   41   \n",
       "2          3    15619304      Onio          502    France  Female   42   \n",
       "3          4    15701354      Boni          699    France  Female   39   \n",
       "4          5    15737888  Mitchell          850     Spain  Female   43   \n",
       "5          6    15574012       Chu          645     Spain    Male   44   \n",
       "6          7    15592531  Bartlett          822    France    Male   50   \n",
       "7          8    15656148    Obinna          376   Germany  Female   29   \n",
       "8          9    15792365        He          501    France    Male   44   \n",
       "9         10    15592389        H?          684    France    Male   27   \n",
       "\n",
       "   Tenure    Balance  NumOfProducts  HasCrCard  IsActiveMember  \\\n",
       "0     2.0       0.00              1          1               1   \n",
       "1     1.0   83807.86              1          0               1   \n",
       "2     8.0  159660.80              3          1               0   \n",
       "3     1.0       0.00              2          0               0   \n",
       "4     2.0  125510.82              1          1               1   \n",
       "5     8.0  113755.78              2          1               0   \n",
       "6     7.0       0.00              2          1               1   \n",
       "7     4.0  115046.74              4          1               0   \n",
       "8     4.0  142051.07              2          0               1   \n",
       "9     2.0  134603.88              1          1               1   \n",
       "\n",
       "   EstimatedSalary  Exited  \n",
       "0        101348.88       1  \n",
       "1        112542.58       0  \n",
       "2        113931.57       1  \n",
       "3         93826.63       0  \n",
       "4         79084.10       0  \n",
       "5        149756.71       1  \n",
       "6         10062.80       0  \n",
       "7        119346.88       1  \n",
       "8         74940.50       0  \n",
       "9         71725.73       0  "
      ]
     },
     "metadata": {},
     "output_type": "display_data"
    },
    {
     "name": "stdout",
     "output_type": "stream",
     "text": [
      "Количество дублирующихся строк: 0\n"
     ]
    }
   ],
   "source": [
    "# Создаем переменную и сохраняем в нее датафрейм. Узнаем информацию о таблице\n",
    "\n",
    "data = pd.read_csv('Churn.csv')\n",
    "\n",
    "# Общая информация о датасете\n",
    "data.info()\n",
    "\n",
    "# Изучим содержимое таблицы (первых 10 строк)\n",
    "display(data.head(10))\n",
    "\n",
    "# Наличие дублирующихся строк\n",
    "print(f'Количество дублирующихся строк: {data.duplicated().sum()}')"
   ]
  },
  {
   "cell_type": "code",
   "execution_count": 15,
   "metadata": {},
   "outputs": [
    {
     "data": {
      "text/html": [
       "<div>\n",
       "<style scoped>\n",
       "    .dataframe tbody tr th:only-of-type {\n",
       "        vertical-align: middle;\n",
       "    }\n",
       "\n",
       "    .dataframe tbody tr th {\n",
       "        vertical-align: top;\n",
       "    }\n",
       "\n",
       "    .dataframe thead th {\n",
       "        text-align: right;\n",
       "    }\n",
       "</style>\n",
       "<table border=\"1\" class=\"dataframe\">\n",
       "  <thead>\n",
       "    <tr style=\"text-align: right;\">\n",
       "      <th></th>\n",
       "      <th>RowNumber</th>\n",
       "      <th>CustomerId</th>\n",
       "      <th>CreditScore</th>\n",
       "      <th>Age</th>\n",
       "      <th>Tenure</th>\n",
       "      <th>Balance</th>\n",
       "      <th>NumOfProducts</th>\n",
       "      <th>HasCrCard</th>\n",
       "      <th>IsActiveMember</th>\n",
       "      <th>EstimatedSalary</th>\n",
       "      <th>Exited</th>\n",
       "    </tr>\n",
       "  </thead>\n",
       "  <tbody>\n",
       "    <tr>\n",
       "      <th>RowNumber</th>\n",
       "      <td>1.000000</td>\n",
       "      <td>0.004202</td>\n",
       "      <td>0.005840</td>\n",
       "      <td>0.000783</td>\n",
       "      <td>-0.007322</td>\n",
       "      <td>-0.009067</td>\n",
       "      <td>0.007246</td>\n",
       "      <td>0.000599</td>\n",
       "      <td>0.012044</td>\n",
       "      <td>-0.005988</td>\n",
       "      <td>-0.016571</td>\n",
       "    </tr>\n",
       "    <tr>\n",
       "      <th>CustomerId</th>\n",
       "      <td>0.004202</td>\n",
       "      <td>1.000000</td>\n",
       "      <td>0.005308</td>\n",
       "      <td>0.009497</td>\n",
       "      <td>-0.021418</td>\n",
       "      <td>-0.012419</td>\n",
       "      <td>0.016972</td>\n",
       "      <td>-0.014025</td>\n",
       "      <td>0.001665</td>\n",
       "      <td>0.015271</td>\n",
       "      <td>-0.006248</td>\n",
       "    </tr>\n",
       "    <tr>\n",
       "      <th>CreditScore</th>\n",
       "      <td>0.005840</td>\n",
       "      <td>0.005308</td>\n",
       "      <td>1.000000</td>\n",
       "      <td>-0.003965</td>\n",
       "      <td>-0.000062</td>\n",
       "      <td>0.006268</td>\n",
       "      <td>0.012238</td>\n",
       "      <td>-0.005458</td>\n",
       "      <td>0.025651</td>\n",
       "      <td>-0.001384</td>\n",
       "      <td>-0.027094</td>\n",
       "    </tr>\n",
       "    <tr>\n",
       "      <th>Age</th>\n",
       "      <td>0.000783</td>\n",
       "      <td>0.009497</td>\n",
       "      <td>-0.003965</td>\n",
       "      <td>1.000000</td>\n",
       "      <td>-0.013134</td>\n",
       "      <td>0.028308</td>\n",
       "      <td>-0.030680</td>\n",
       "      <td>-0.011721</td>\n",
       "      <td>0.085472</td>\n",
       "      <td>-0.007201</td>\n",
       "      <td>0.285323</td>\n",
       "    </tr>\n",
       "    <tr>\n",
       "      <th>Tenure</th>\n",
       "      <td>-0.007322</td>\n",
       "      <td>-0.021418</td>\n",
       "      <td>-0.000062</td>\n",
       "      <td>-0.013134</td>\n",
       "      <td>1.000000</td>\n",
       "      <td>-0.007911</td>\n",
       "      <td>0.011979</td>\n",
       "      <td>0.027232</td>\n",
       "      <td>-0.032178</td>\n",
       "      <td>0.010520</td>\n",
       "      <td>-0.016761</td>\n",
       "    </tr>\n",
       "    <tr>\n",
       "      <th>Balance</th>\n",
       "      <td>-0.009067</td>\n",
       "      <td>-0.012419</td>\n",
       "      <td>0.006268</td>\n",
       "      <td>0.028308</td>\n",
       "      <td>-0.007911</td>\n",
       "      <td>1.000000</td>\n",
       "      <td>-0.304180</td>\n",
       "      <td>-0.014858</td>\n",
       "      <td>-0.010084</td>\n",
       "      <td>0.012797</td>\n",
       "      <td>0.118533</td>\n",
       "    </tr>\n",
       "    <tr>\n",
       "      <th>NumOfProducts</th>\n",
       "      <td>0.007246</td>\n",
       "      <td>0.016972</td>\n",
       "      <td>0.012238</td>\n",
       "      <td>-0.030680</td>\n",
       "      <td>0.011979</td>\n",
       "      <td>-0.304180</td>\n",
       "      <td>1.000000</td>\n",
       "      <td>0.003183</td>\n",
       "      <td>0.009612</td>\n",
       "      <td>0.014204</td>\n",
       "      <td>-0.047820</td>\n",
       "    </tr>\n",
       "    <tr>\n",
       "      <th>HasCrCard</th>\n",
       "      <td>0.000599</td>\n",
       "      <td>-0.014025</td>\n",
       "      <td>-0.005458</td>\n",
       "      <td>-0.011721</td>\n",
       "      <td>0.027232</td>\n",
       "      <td>-0.014858</td>\n",
       "      <td>0.003183</td>\n",
       "      <td>1.000000</td>\n",
       "      <td>-0.011866</td>\n",
       "      <td>-0.009933</td>\n",
       "      <td>-0.007138</td>\n",
       "    </tr>\n",
       "    <tr>\n",
       "      <th>IsActiveMember</th>\n",
       "      <td>0.012044</td>\n",
       "      <td>0.001665</td>\n",
       "      <td>0.025651</td>\n",
       "      <td>0.085472</td>\n",
       "      <td>-0.032178</td>\n",
       "      <td>-0.010084</td>\n",
       "      <td>0.009612</td>\n",
       "      <td>-0.011866</td>\n",
       "      <td>1.000000</td>\n",
       "      <td>-0.011421</td>\n",
       "      <td>-0.156128</td>\n",
       "    </tr>\n",
       "    <tr>\n",
       "      <th>EstimatedSalary</th>\n",
       "      <td>-0.005988</td>\n",
       "      <td>0.015271</td>\n",
       "      <td>-0.001384</td>\n",
       "      <td>-0.007201</td>\n",
       "      <td>0.010520</td>\n",
       "      <td>0.012797</td>\n",
       "      <td>0.014204</td>\n",
       "      <td>-0.009933</td>\n",
       "      <td>-0.011421</td>\n",
       "      <td>1.000000</td>\n",
       "      <td>0.012097</td>\n",
       "    </tr>\n",
       "    <tr>\n",
       "      <th>Exited</th>\n",
       "      <td>-0.016571</td>\n",
       "      <td>-0.006248</td>\n",
       "      <td>-0.027094</td>\n",
       "      <td>0.285323</td>\n",
       "      <td>-0.016761</td>\n",
       "      <td>0.118533</td>\n",
       "      <td>-0.047820</td>\n",
       "      <td>-0.007138</td>\n",
       "      <td>-0.156128</td>\n",
       "      <td>0.012097</td>\n",
       "      <td>1.000000</td>\n",
       "    </tr>\n",
       "  </tbody>\n",
       "</table>\n",
       "</div>"
      ],
      "text/plain": [
       "                 RowNumber  CustomerId  CreditScore       Age    Tenure  \\\n",
       "RowNumber         1.000000    0.004202     0.005840  0.000783 -0.007322   \n",
       "CustomerId        0.004202    1.000000     0.005308  0.009497 -0.021418   \n",
       "CreditScore       0.005840    0.005308     1.000000 -0.003965 -0.000062   \n",
       "Age               0.000783    0.009497    -0.003965  1.000000 -0.013134   \n",
       "Tenure           -0.007322   -0.021418    -0.000062 -0.013134  1.000000   \n",
       "Balance          -0.009067   -0.012419     0.006268  0.028308 -0.007911   \n",
       "NumOfProducts     0.007246    0.016972     0.012238 -0.030680  0.011979   \n",
       "HasCrCard         0.000599   -0.014025    -0.005458 -0.011721  0.027232   \n",
       "IsActiveMember    0.012044    0.001665     0.025651  0.085472 -0.032178   \n",
       "EstimatedSalary  -0.005988    0.015271    -0.001384 -0.007201  0.010520   \n",
       "Exited           -0.016571   -0.006248    -0.027094  0.285323 -0.016761   \n",
       "\n",
       "                  Balance  NumOfProducts  HasCrCard  IsActiveMember  \\\n",
       "RowNumber       -0.009067       0.007246   0.000599        0.012044   \n",
       "CustomerId      -0.012419       0.016972  -0.014025        0.001665   \n",
       "CreditScore      0.006268       0.012238  -0.005458        0.025651   \n",
       "Age              0.028308      -0.030680  -0.011721        0.085472   \n",
       "Tenure          -0.007911       0.011979   0.027232       -0.032178   \n",
       "Balance          1.000000      -0.304180  -0.014858       -0.010084   \n",
       "NumOfProducts   -0.304180       1.000000   0.003183        0.009612   \n",
       "HasCrCard       -0.014858       0.003183   1.000000       -0.011866   \n",
       "IsActiveMember  -0.010084       0.009612  -0.011866        1.000000   \n",
       "EstimatedSalary  0.012797       0.014204  -0.009933       -0.011421   \n",
       "Exited           0.118533      -0.047820  -0.007138       -0.156128   \n",
       "\n",
       "                 EstimatedSalary    Exited  \n",
       "RowNumber              -0.005988 -0.016571  \n",
       "CustomerId              0.015271 -0.006248  \n",
       "CreditScore            -0.001384 -0.027094  \n",
       "Age                    -0.007201  0.285323  \n",
       "Tenure                  0.010520 -0.016761  \n",
       "Balance                 0.012797  0.118533  \n",
       "NumOfProducts           0.014204 -0.047820  \n",
       "HasCrCard              -0.009933 -0.007138  \n",
       "IsActiveMember         -0.011421 -0.156128  \n",
       "EstimatedSalary         1.000000  0.012097  \n",
       "Exited                  0.012097  1.000000  "
      ]
     },
     "execution_count": 15,
     "metadata": {},
     "output_type": "execute_result"
    }
   ],
   "source": [
    "# Изучим, нет ли сильной корелляции между некторыми столбцами\n",
    "data.corr()"
   ]
  },
  {
   "cell_type": "code",
   "execution_count": 16,
   "metadata": {},
   "outputs": [],
   "source": [
    "# Столбцы RowNumber, CustomerId и Surname навряд ли будут влиять на значение целевой ячейки, можно исключить\n",
    "\n",
    "data = data.drop(columns = ['RowNumber','CustomerId', 'Surname'], axis = 1)"
   ]
  },
  {
   "cell_type": "code",
   "execution_count": 18,
   "metadata": {
    "scrolled": true
   },
   "outputs": [
    {
     "name": "stdout",
     "output_type": "stream",
     "text": [
      "Доля пропусков в столбце: 0.0909\n",
      "\n",
      "_____________________________________________\n",
      "\n",
      "Доля пропусков в столбце: 0.0\n"
     ]
    }
   ],
   "source": [
    "# Пропуски в Tenure заполним можно заполнить любым числом, например медианой\n",
    "\n",
    "print(f'Доля пропусков в столбце: {data[\"Tenure\"].isna().sum()/data.shape[0]}')\n",
    "print('')\n",
    "print('_____________________________________________')\n",
    "print('')\n",
    "\n",
    "data = data.fillna(data['Tenure'].median())\n",
    "\n",
    "#data = data.dropna()\n",
    "\n",
    "print(f'Доля пропусков в столбце: {data[\"Tenure\"].isna().sum() / data.shape[0]}')\n"
   ]
  },
  {
   "cell_type": "code",
   "execution_count": 19,
   "metadata": {},
   "outputs": [
    {
     "data": {
      "text/html": [
       "<div>\n",
       "<style scoped>\n",
       "    .dataframe tbody tr th:only-of-type {\n",
       "        vertical-align: middle;\n",
       "    }\n",
       "\n",
       "    .dataframe tbody tr th {\n",
       "        vertical-align: top;\n",
       "    }\n",
       "\n",
       "    .dataframe thead th {\n",
       "        text-align: right;\n",
       "    }\n",
       "</style>\n",
       "<table border=\"1\" class=\"dataframe\">\n",
       "  <thead>\n",
       "    <tr style=\"text-align: right;\">\n",
       "      <th></th>\n",
       "      <th>CreditScore</th>\n",
       "      <th>Age</th>\n",
       "      <th>Tenure</th>\n",
       "      <th>Balance</th>\n",
       "      <th>NumOfProducts</th>\n",
       "      <th>HasCrCard</th>\n",
       "      <th>IsActiveMember</th>\n",
       "      <th>EstimatedSalary</th>\n",
       "      <th>Exited</th>\n",
       "      <th>Geography_Germany</th>\n",
       "      <th>Geography_Spain</th>\n",
       "      <th>Gender_Male</th>\n",
       "    </tr>\n",
       "  </thead>\n",
       "  <tbody>\n",
       "    <tr>\n",
       "      <th>0</th>\n",
       "      <td>619</td>\n",
       "      <td>42</td>\n",
       "      <td>2.0</td>\n",
       "      <td>0.00</td>\n",
       "      <td>1</td>\n",
       "      <td>1</td>\n",
       "      <td>1</td>\n",
       "      <td>101348.88</td>\n",
       "      <td>1</td>\n",
       "      <td>0</td>\n",
       "      <td>0</td>\n",
       "      <td>0</td>\n",
       "    </tr>\n",
       "    <tr>\n",
       "      <th>1</th>\n",
       "      <td>608</td>\n",
       "      <td>41</td>\n",
       "      <td>1.0</td>\n",
       "      <td>83807.86</td>\n",
       "      <td>1</td>\n",
       "      <td>0</td>\n",
       "      <td>1</td>\n",
       "      <td>112542.58</td>\n",
       "      <td>0</td>\n",
       "      <td>0</td>\n",
       "      <td>1</td>\n",
       "      <td>0</td>\n",
       "    </tr>\n",
       "    <tr>\n",
       "      <th>2</th>\n",
       "      <td>502</td>\n",
       "      <td>42</td>\n",
       "      <td>8.0</td>\n",
       "      <td>159660.80</td>\n",
       "      <td>3</td>\n",
       "      <td>1</td>\n",
       "      <td>0</td>\n",
       "      <td>113931.57</td>\n",
       "      <td>1</td>\n",
       "      <td>0</td>\n",
       "      <td>0</td>\n",
       "      <td>0</td>\n",
       "    </tr>\n",
       "    <tr>\n",
       "      <th>3</th>\n",
       "      <td>699</td>\n",
       "      <td>39</td>\n",
       "      <td>1.0</td>\n",
       "      <td>0.00</td>\n",
       "      <td>2</td>\n",
       "      <td>0</td>\n",
       "      <td>0</td>\n",
       "      <td>93826.63</td>\n",
       "      <td>0</td>\n",
       "      <td>0</td>\n",
       "      <td>0</td>\n",
       "      <td>0</td>\n",
       "    </tr>\n",
       "    <tr>\n",
       "      <th>4</th>\n",
       "      <td>850</td>\n",
       "      <td>43</td>\n",
       "      <td>2.0</td>\n",
       "      <td>125510.82</td>\n",
       "      <td>1</td>\n",
       "      <td>1</td>\n",
       "      <td>1</td>\n",
       "      <td>79084.10</td>\n",
       "      <td>0</td>\n",
       "      <td>0</td>\n",
       "      <td>1</td>\n",
       "      <td>0</td>\n",
       "    </tr>\n",
       "  </tbody>\n",
       "</table>\n",
       "</div>"
      ],
      "text/plain": [
       "   CreditScore  Age  Tenure    Balance  NumOfProducts  HasCrCard  \\\n",
       "0          619   42     2.0       0.00              1          1   \n",
       "1          608   41     1.0   83807.86              1          0   \n",
       "2          502   42     8.0  159660.80              3          1   \n",
       "3          699   39     1.0       0.00              2          0   \n",
       "4          850   43     2.0  125510.82              1          1   \n",
       "\n",
       "   IsActiveMember  EstimatedSalary  Exited  Geography_Germany  \\\n",
       "0               1        101348.88       1                  0   \n",
       "1               1        112542.58       0                  0   \n",
       "2               0        113931.57       1                  0   \n",
       "3               0         93826.63       0                  0   \n",
       "4               1         79084.10       0                  0   \n",
       "\n",
       "   Geography_Spain  Gender_Male  \n",
       "0                0            0  \n",
       "1                1            0  \n",
       "2                0            0  \n",
       "3                0            0  \n",
       "4                1            0  "
      ]
     },
     "metadata": {},
     "output_type": "display_data"
    }
   ],
   "source": [
    "# Прямое кодирование (с помощью техники O-H-E)\n",
    "data_ohe = pd.get_dummies(data, drop_first = True)\n",
    "\n",
    "# Изучим полученный датасет  \n",
    "display(data_ohe.head())"
   ]
  },
  {
   "cell_type": "code",
   "execution_count": 20,
   "metadata": {},
   "outputs": [],
   "source": [
    "# создаем переменные для признаков и целевого признака\n",
    "\n",
    "features = data_ohe.drop(columns = ['Exited'], axis = 1)\n",
    "\n",
    "target = data_ohe['Exited']"
   ]
  },
  {
   "cell_type": "code",
   "execution_count": 21,
   "metadata": {},
   "outputs": [
    {
     "name": "stdout",
     "output_type": "stream",
     "text": [
      "Количество строк в target_train по классам: [3984 1016]\n",
      "Количество строк в target_valid по классам: [1987  513]\n",
      "Количество строк в target_test по классам: [1992  508]\n"
     ]
    }
   ],
   "source": [
    "# разделим наши выборки на тренировочную, валидационную и тестовую в пропорци 50/25/25\n",
    "\n",
    "features_train, features_valid_test, target_train, target_valid_test = train_test_split(features, \n",
    "                                                                                        target, \n",
    "                                                                                        test_size = 0.5, \n",
    "                                                                                        random_state = 12345)\n",
    "\n",
    "features_test, features_valid, target_test, target_valid = train_test_split(features_valid_test,  \n",
    "                                                                            target_valid_test, \n",
    "                                                                            test_size = 0.5, \n",
    "                                                                            random_state = 12345)\n",
    "\n",
    "print(f\"Количество строк в target_train по классам: {np.bincount(target_train)}\")\n",
    "print(f\"Количество строк в target_valid по классам: {np.bincount(target_valid)}\")\n",
    "print(f\"Количество строк в target_test по классам: {np.bincount(target_test)}\")"
   ]
  },
  {
   "cell_type": "code",
   "execution_count": 23,
   "metadata": {},
   "outputs": [
    {
     "data": {
      "text/html": [
       "<div>\n",
       "<style scoped>\n",
       "    .dataframe tbody tr th:only-of-type {\n",
       "        vertical-align: middle;\n",
       "    }\n",
       "\n",
       "    .dataframe tbody tr th {\n",
       "        vertical-align: top;\n",
       "    }\n",
       "\n",
       "    .dataframe thead th {\n",
       "        text-align: right;\n",
       "    }\n",
       "</style>\n",
       "<table border=\"1\" class=\"dataframe\">\n",
       "  <thead>\n",
       "    <tr style=\"text-align: right;\">\n",
       "      <th></th>\n",
       "      <th>CreditScore</th>\n",
       "      <th>Age</th>\n",
       "      <th>Tenure</th>\n",
       "      <th>Balance</th>\n",
       "      <th>NumOfProducts</th>\n",
       "      <th>HasCrCard</th>\n",
       "      <th>IsActiveMember</th>\n",
       "      <th>EstimatedSalary</th>\n",
       "      <th>Geography_Germany</th>\n",
       "      <th>Geography_Spain</th>\n",
       "      <th>Gender_Male</th>\n",
       "    </tr>\n",
       "  </thead>\n",
       "  <tbody>\n",
       "    <tr>\n",
       "      <th>5460</th>\n",
       "      <td>0.111187</td>\n",
       "      <td>0.193128</td>\n",
       "      <td>0.004225</td>\n",
       "      <td>0.740076</td>\n",
       "      <td>0.809174</td>\n",
       "      <td>0</td>\n",
       "      <td>1</td>\n",
       "      <td>0.368972</td>\n",
       "      <td>1</td>\n",
       "      <td>0</td>\n",
       "      <td>1</td>\n",
       "    </tr>\n",
       "    <tr>\n",
       "      <th>3610</th>\n",
       "      <td>-0.726970</td>\n",
       "      <td>1.626818</td>\n",
       "      <td>-1.452695</td>\n",
       "      <td>0.880243</td>\n",
       "      <td>-0.929489</td>\n",
       "      <td>1</td>\n",
       "      <td>0</td>\n",
       "      <td>0.129920</td>\n",
       "      <td>0</td>\n",
       "      <td>0</td>\n",
       "      <td>0</td>\n",
       "    </tr>\n",
       "    <tr>\n",
       "      <th>3892</th>\n",
       "      <td>-1.047746</td>\n",
       "      <td>0.575445</td>\n",
       "      <td>0.368455</td>\n",
       "      <td>0.766921</td>\n",
       "      <td>-0.929489</td>\n",
       "      <td>1</td>\n",
       "      <td>1</td>\n",
       "      <td>0.816963</td>\n",
       "      <td>1</td>\n",
       "      <td>0</td>\n",
       "      <td>1</td>\n",
       "    </tr>\n",
       "    <tr>\n",
       "      <th>4734</th>\n",
       "      <td>-0.623494</td>\n",
       "      <td>1.435659</td>\n",
       "      <td>-0.360005</td>\n",
       "      <td>-1.208445</td>\n",
       "      <td>0.809174</td>\n",
       "      <td>1</td>\n",
       "      <td>1</td>\n",
       "      <td>-0.098170</td>\n",
       "      <td>0</td>\n",
       "      <td>0</td>\n",
       "      <td>0</td>\n",
       "    </tr>\n",
       "    <tr>\n",
       "      <th>6102</th>\n",
       "      <td>-0.085418</td>\n",
       "      <td>-0.284769</td>\n",
       "      <td>0.368455</td>\n",
       "      <td>-1.208445</td>\n",
       "      <td>0.809174</td>\n",
       "      <td>1</td>\n",
       "      <td>1</td>\n",
       "      <td>-0.026458</td>\n",
       "      <td>0</td>\n",
       "      <td>1</td>\n",
       "      <td>0</td>\n",
       "    </tr>\n",
       "  </tbody>\n",
       "</table>\n",
       "</div>"
      ],
      "text/plain": [
       "      CreditScore       Age    Tenure   Balance  NumOfProducts  HasCrCard  \\\n",
       "5460     0.111187  0.193128  0.004225  0.740076       0.809174          0   \n",
       "3610    -0.726970  1.626818 -1.452695  0.880243      -0.929489          1   \n",
       "3892    -1.047746  0.575445  0.368455  0.766921      -0.929489          1   \n",
       "4734    -0.623494  1.435659 -0.360005 -1.208445       0.809174          1   \n",
       "6102    -0.085418 -0.284769  0.368455 -1.208445       0.809174          1   \n",
       "\n",
       "      IsActiveMember  EstimatedSalary  Geography_Germany  Geography_Spain  \\\n",
       "5460               1         0.368972                  1                0   \n",
       "3610               0         0.129920                  0                0   \n",
       "3892               1         0.816963                  1                0   \n",
       "4734               1        -0.098170                  0                0   \n",
       "6102               1        -0.026458                  0                1   \n",
       "\n",
       "      Gender_Male  \n",
       "5460            1  \n",
       "3610            0  \n",
       "3892            1  \n",
       "4734            0  \n",
       "6102            0  "
      ]
     },
     "metadata": {},
     "output_type": "display_data"
    },
    {
     "data": {
      "text/html": [
       "<div>\n",
       "<style scoped>\n",
       "    .dataframe tbody tr th:only-of-type {\n",
       "        vertical-align: middle;\n",
       "    }\n",
       "\n",
       "    .dataframe tbody tr th {\n",
       "        vertical-align: top;\n",
       "    }\n",
       "\n",
       "    .dataframe thead th {\n",
       "        text-align: right;\n",
       "    }\n",
       "</style>\n",
       "<table border=\"1\" class=\"dataframe\">\n",
       "  <thead>\n",
       "    <tr style=\"text-align: right;\">\n",
       "      <th></th>\n",
       "      <th>CreditScore</th>\n",
       "      <th>Age</th>\n",
       "      <th>Tenure</th>\n",
       "      <th>Balance</th>\n",
       "      <th>NumOfProducts</th>\n",
       "      <th>HasCrCard</th>\n",
       "      <th>IsActiveMember</th>\n",
       "      <th>EstimatedSalary</th>\n",
       "      <th>Geography_Germany</th>\n",
       "      <th>Geography_Spain</th>\n",
       "      <th>Gender_Male</th>\n",
       "    </tr>\n",
       "  </thead>\n",
       "  <tbody>\n",
       "    <tr>\n",
       "      <th>6120</th>\n",
       "      <td>0.669959</td>\n",
       "      <td>0.097548</td>\n",
       "      <td>0.732685</td>\n",
       "      <td>-1.208445</td>\n",
       "      <td>-0.929489</td>\n",
       "      <td>1</td>\n",
       "      <td>1</td>\n",
       "      <td>0.729660</td>\n",
       "      <td>0</td>\n",
       "      <td>0</td>\n",
       "      <td>1</td>\n",
       "    </tr>\n",
       "    <tr>\n",
       "      <th>3673</th>\n",
       "      <td>1.176992</td>\n",
       "      <td>-1.431721</td>\n",
       "      <td>0.732685</td>\n",
       "      <td>0.352067</td>\n",
       "      <td>-0.929489</td>\n",
       "      <td>1</td>\n",
       "      <td>0</td>\n",
       "      <td>-1.264493</td>\n",
       "      <td>0</td>\n",
       "      <td>0</td>\n",
       "      <td>1</td>\n",
       "    </tr>\n",
       "    <tr>\n",
       "      <th>4835</th>\n",
       "      <td>-0.923575</td>\n",
       "      <td>-0.475928</td>\n",
       "      <td>-0.360005</td>\n",
       "      <td>0.145265</td>\n",
       "      <td>0.809174</td>\n",
       "      <td>1</td>\n",
       "      <td>1</td>\n",
       "      <td>-1.223159</td>\n",
       "      <td>0</td>\n",
       "      <td>1</td>\n",
       "      <td>1</td>\n",
       "    </tr>\n",
       "    <tr>\n",
       "      <th>7247</th>\n",
       "      <td>-0.706275</td>\n",
       "      <td>0.097548</td>\n",
       "      <td>-0.724235</td>\n",
       "      <td>0.542889</td>\n",
       "      <td>-0.929489</td>\n",
       "      <td>1</td>\n",
       "      <td>1</td>\n",
       "      <td>1.607293</td>\n",
       "      <td>1</td>\n",
       "      <td>0</td>\n",
       "      <td>0</td>\n",
       "    </tr>\n",
       "    <tr>\n",
       "      <th>4943</th>\n",
       "      <td>-1.265046</td>\n",
       "      <td>0.384286</td>\n",
       "      <td>0.732685</td>\n",
       "      <td>0.341339</td>\n",
       "      <td>0.809174</td>\n",
       "      <td>1</td>\n",
       "      <td>1</td>\n",
       "      <td>1.051191</td>\n",
       "      <td>0</td>\n",
       "      <td>1</td>\n",
       "      <td>1</td>\n",
       "    </tr>\n",
       "  </tbody>\n",
       "</table>\n",
       "</div>"
      ],
      "text/plain": [
       "      CreditScore       Age    Tenure   Balance  NumOfProducts  HasCrCard  \\\n",
       "6120     0.669959  0.097548  0.732685 -1.208445      -0.929489          1   \n",
       "3673     1.176992 -1.431721  0.732685  0.352067      -0.929489          1   \n",
       "4835    -0.923575 -0.475928 -0.360005  0.145265       0.809174          1   \n",
       "7247    -0.706275  0.097548 -0.724235  0.542889      -0.929489          1   \n",
       "4943    -1.265046  0.384286  0.732685  0.341339       0.809174          1   \n",
       "\n",
       "      IsActiveMember  EstimatedSalary  Geography_Germany  Geography_Spain  \\\n",
       "6120               1         0.729660                  0                0   \n",
       "3673               0        -1.264493                  0                0   \n",
       "4835               1        -1.223159                  0                1   \n",
       "7247               1         1.607293                  1                0   \n",
       "4943               1         1.051191                  0                1   \n",
       "\n",
       "      Gender_Male  \n",
       "6120            1  \n",
       "3673            1  \n",
       "4835            1  \n",
       "7247            0  \n",
       "4943            1  "
      ]
     },
     "metadata": {},
     "output_type": "display_data"
    },
    {
     "data": {
      "text/html": [
       "<div>\n",
       "<style scoped>\n",
       "    .dataframe tbody tr th:only-of-type {\n",
       "        vertical-align: middle;\n",
       "    }\n",
       "\n",
       "    .dataframe tbody tr th {\n",
       "        vertical-align: top;\n",
       "    }\n",
       "\n",
       "    .dataframe thead th {\n",
       "        text-align: right;\n",
       "    }\n",
       "</style>\n",
       "<table border=\"1\" class=\"dataframe\">\n",
       "  <thead>\n",
       "    <tr style=\"text-align: right;\">\n",
       "      <th></th>\n",
       "      <th>CreditScore</th>\n",
       "      <th>Age</th>\n",
       "      <th>Tenure</th>\n",
       "      <th>Balance</th>\n",
       "      <th>NumOfProducts</th>\n",
       "      <th>HasCrCard</th>\n",
       "      <th>IsActiveMember</th>\n",
       "      <th>EstimatedSalary</th>\n",
       "      <th>Geography_Germany</th>\n",
       "      <th>Geography_Spain</th>\n",
       "      <th>Gender_Male</th>\n",
       "    </tr>\n",
       "  </thead>\n",
       "  <tbody>\n",
       "    <tr>\n",
       "      <th>4492</th>\n",
       "      <td>-0.623494</td>\n",
       "      <td>-0.667086</td>\n",
       "      <td>-1.816925</td>\n",
       "      <td>0.822924</td>\n",
       "      <td>-0.929489</td>\n",
       "      <td>1</td>\n",
       "      <td>0</td>\n",
       "      <td>0.021934</td>\n",
       "      <td>0</td>\n",
       "      <td>0</td>\n",
       "      <td>0</td>\n",
       "    </tr>\n",
       "    <tr>\n",
       "      <th>5970</th>\n",
       "      <td>-1.865208</td>\n",
       "      <td>-0.380348</td>\n",
       "      <td>-1.452695</td>\n",
       "      <td>0.325435</td>\n",
       "      <td>-0.929489</td>\n",
       "      <td>0</td>\n",
       "      <td>0</td>\n",
       "      <td>-1.628119</td>\n",
       "      <td>0</td>\n",
       "      <td>0</td>\n",
       "      <td>1</td>\n",
       "    </tr>\n",
       "    <tr>\n",
       "      <th>7940</th>\n",
       "      <td>1.352902</td>\n",
       "      <td>-0.953824</td>\n",
       "      <td>0.368455</td>\n",
       "      <td>0.361786</td>\n",
       "      <td>-0.929489</td>\n",
       "      <td>0</td>\n",
       "      <td>0</td>\n",
       "      <td>0.221934</td>\n",
       "      <td>0</td>\n",
       "      <td>1</td>\n",
       "      <td>0</td>\n",
       "    </tr>\n",
       "    <tr>\n",
       "      <th>9789</th>\n",
       "      <td>-0.416541</td>\n",
       "      <td>0.575445</td>\n",
       "      <td>-1.452695</td>\n",
       "      <td>-1.208445</td>\n",
       "      <td>0.809174</td>\n",
       "      <td>1</td>\n",
       "      <td>1</td>\n",
       "      <td>1.744859</td>\n",
       "      <td>0</td>\n",
       "      <td>0</td>\n",
       "      <td>0</td>\n",
       "    </tr>\n",
       "    <tr>\n",
       "      <th>4903</th>\n",
       "      <td>0.452659</td>\n",
       "      <td>0.288707</td>\n",
       "      <td>-0.724235</td>\n",
       "      <td>1.285614</td>\n",
       "      <td>0.809174</td>\n",
       "      <td>0</td>\n",
       "      <td>0</td>\n",
       "      <td>-0.184016</td>\n",
       "      <td>0</td>\n",
       "      <td>0</td>\n",
       "      <td>1</td>\n",
       "    </tr>\n",
       "  </tbody>\n",
       "</table>\n",
       "</div>"
      ],
      "text/plain": [
       "      CreditScore       Age    Tenure   Balance  NumOfProducts  HasCrCard  \\\n",
       "4492    -0.623494 -0.667086 -1.816925  0.822924      -0.929489          1   \n",
       "5970    -1.865208 -0.380348 -1.452695  0.325435      -0.929489          0   \n",
       "7940     1.352902 -0.953824  0.368455  0.361786      -0.929489          0   \n",
       "9789    -0.416541  0.575445 -1.452695 -1.208445       0.809174          1   \n",
       "4903     0.452659  0.288707 -0.724235  1.285614       0.809174          0   \n",
       "\n",
       "      IsActiveMember  EstimatedSalary  Geography_Germany  Geography_Spain  \\\n",
       "4492               0         0.021934                  0                0   \n",
       "5970               0        -1.628119                  0                0   \n",
       "7940               0         0.221934                  0                1   \n",
       "9789               1         1.744859                  0                0   \n",
       "4903               0        -0.184016                  0                0   \n",
       "\n",
       "      Gender_Male  \n",
       "4492            0  \n",
       "5970            1  \n",
       "7940            0  \n",
       "9789            0  \n",
       "4903            1  "
      ]
     },
     "metadata": {},
     "output_type": "display_data"
    }
   ],
   "source": [
    "scaler = StandardScaler()\n",
    "\n",
    "# Выберем столбцы с количественным показателем\n",
    "numeric = ['CreditScore','Age','Tenure','Balance','NumOfProducts', 'EstimatedSalary']\n",
    "\n",
    "scaler.fit(features_train[numeric])\n",
    "\n",
    "features_train[numeric] = scaler.transform(features_train[numeric])\n",
    "\n",
    "\n",
    "features_valid[numeric] = scaler.transform(features_valid[numeric])\n",
    "\n",
    "\n",
    "features_test[numeric] = scaler.transform(features_test[numeric])\n",
    "\n",
    "# Посмотрим на результат\n",
    "display(features_train.head())\n",
    "display(features_valid.head())\n",
    "display(features_test.head())"
   ]
  },
  {
   "cell_type": "markdown",
   "metadata": {},
   "source": [
    "## Исследование задачи"
   ]
  },
  {
   "cell_type": "code",
   "execution_count": 24,
   "metadata": {},
   "outputs": [
    {
     "data": {
      "text/plain": [
       "0    3981\n",
       "1    1019\n",
       "Name: Exited, dtype: int64"
      ]
     },
     "execution_count": 24,
     "metadata": {},
     "output_type": "execute_result"
    }
   ],
   "source": [
    "# Узнаем соотношение значений в целевом столбце Exited\n",
    "\n",
    "target_train.value_counts()"
   ]
  },
  {
   "cell_type": "markdown",
   "metadata": {},
   "source": [
    "Соотношение значений классов 4:1"
   ]
  },
  {
   "cell_type": "markdown",
   "metadata": {},
   "source": [
    "### Изучение моделей (без учета дисбаланса)"
   ]
  },
  {
   "cell_type": "code",
   "execution_count": 25,
   "metadata": {
    "scrolled": true
   },
   "outputs": [
    {
     "name": "stdout",
     "output_type": "stream",
     "text": [
      "max_depth = 1 : 0.0\n",
      "max_depth = 2 : 0.522673031026253\n",
      "max_depth = 3 : 0.4180451127819549\n",
      "max_depth = 4 : 0.5300896286811779\n",
      "max_depth = 5 : 0.5260347129506008\n",
      "max_depth = 6 : 0.5696821515892421\n",
      "max_depth = 7 : 0.5777262180974477\n",
      "max_depth = 8 : 0.5526613816534541\n",
      "max_depth = 9 : 0.5367483296213809\n",
      "max_depth = 10 : 0.5360602798708287\n",
      "max_depth = 11 : 0.5201698513800426\n",
      "max_depth = 12 : 0.5046923879040668\n",
      "max_depth = 13 : 0.49521785334750273\n",
      "max_depth = 14 : 0.4784394250513347\n",
      "max_depth = 15 : 0.47983453981385726\n",
      "max_depth = 16 : 0.4715447154471545\n",
      "max_depth = 17 : 0.47910295616717635\n",
      "max_depth = 18 : 0.4869739478957916\n",
      "max_depth = 19 : 0.4768611670020121\n",
      "max_depth = 20 : 0.4676616915422886\n",
      "max_depth = 21 : 0.4758144126357354\n",
      "max_depth = 22 : 0.4822834645669291\n",
      "max_depth = 23 : 0.4822834645669291\n",
      "max_depth = 24 : 0.4822834645669291\n",
      "max_depth = 25 : 0.4822834645669291\n",
      "max_depth = 26 : 0.4822834645669291\n",
      "max_depth = 27 : 0.4822834645669291\n",
      "max_depth = 28 : 0.4822834645669291\n",
      "max_depth = 29 : 0.4822834645669291\n",
      "max_depth = 30 : 0.4822834645669291\n",
      "max_depth = 31 : 0.4822834645669291\n",
      "max_depth = 32 : 0.4822834645669291\n",
      "max_depth = 33 : 0.4822834645669291\n",
      "max_depth = 34 : 0.4822834645669291\n",
      "max_depth = 35 : 0.4822834645669291\n",
      "max_depth = 36 : 0.4822834645669291\n",
      "max_depth = 37 : 0.4822834645669291\n",
      "max_depth = 38 : 0.4822834645669291\n",
      "max_depth = 39 : 0.4822834645669291\n",
      "max_depth = 40 : 0.4822834645669291\n",
      "max_depth = 41 : 0.4822834645669291\n",
      "max_depth = 42 : 0.4822834645669291\n",
      "max_depth = 43 : 0.4822834645669291\n",
      "max_depth = 44 : 0.4822834645669291\n",
      "max_depth = 45 : 0.4822834645669291\n",
      "max_depth = 46 : 0.4822834645669291\n",
      "max_depth = 47 : 0.4822834645669291\n",
      "max_depth = 48 : 0.4822834645669291\n",
      "max_depth = 49 : 0.4822834645669291\n",
      "F1 наилучшей модели 'Дерево решений' на валидационной выборке: 0.5777262180974477\n",
      "Лучший max_depth: 7\n"
     ]
    }
   ],
   "source": [
    "# Дерево решений, \n",
    "# пройдемся циклом for, изменяя параметр depth от 1 до 49 с целью найти наибольшую точность такой модели\n",
    "best_model1 = None\n",
    "best_result1 = 0\n",
    "for depth in range(1,50):\n",
    "    model1 = DecisionTreeClassifier(random_state=12345, max_depth=depth) \n",
    "    model1.fit(features_train, target_train) \n",
    "    predicted_valid = model1.predict(features_valid) \n",
    "    probabilities_valid = model1.predict_proba(features_valid)\n",
    "    probabilities_one_valid = probabilities_valid[:, 1]\n",
    "    result = f1_score(target_valid, predicted_valid)\n",
    "    print(\"max_depth =\", depth, \": \", end='')\n",
    "    print(result) \n",
    "    if result > best_result1:\n",
    "        best_model1 = model1 \n",
    "        best_depth = depth\n",
    "        best_result1 = result \n",
    "print(\"F1 наилучшей модели 'Дерево решений' на валидационной выборке:\", best_result1)\n",
    "print('Лучший max_depth:', best_depth)"
   ]
  },
  {
   "cell_type": "code",
   "execution_count": 26,
   "metadata": {
    "scrolled": true
   },
   "outputs": [
    {
     "name": "stdout",
     "output_type": "stream",
     "text": [
      "est_ = 1 : 0.5187319884726225\n",
      "est_ = 2 : 0.4049586776859504\n",
      "est_ = 3 : 0.5289617486338798\n",
      "est_ = 4 : 0.4824902723735408\n",
      "est_ = 5 : 0.5560538116591929\n",
      "est_ = 6 : 0.5298507462686568\n",
      "est_ = 7 : 0.5768799102132436\n",
      "est_ = 8 : 0.5518925518925519\n",
      "est_ = 9 : 0.5838084378563283\n",
      "est_ = 10 : 0.5710872162485066\n",
      "est_ = 11 : 0.5944700460829494\n",
      "est_ = 12 : 0.573127229488704\n",
      "est_ = 13 : 0.5897142857142856\n",
      "est_ = 14 : 0.5785714285714285\n",
      "est_ = 15 : 0.5914844649021865\n",
      "est_ = 16 : 0.5738095238095238\n",
      "est_ = 17 : 0.5816091954022988\n",
      "est_ = 18 : 0.574095682613769\n",
      "est_ = 19 : 0.5864833906071019\n",
      "est_ = 20 : 0.5817757009345795\n",
      "est_ = 21 : 0.5894495412844037\n",
      "est_ = 22 : 0.5791324736225089\n",
      "est_ = 23 : 0.5909617612977983\n",
      "est_ = 24 : 0.5922444183313748\n",
      "est_ = 25 : 0.5878300803673937\n",
      "est_ = 26 : 0.5851938895417156\n",
      "est_ = 27 : 0.5925925925925927\n",
      "est_ = 28 : 0.5828437132784958\n",
      "est_ = 29 : 0.5905420991926182\n",
      "est_ = 30 : 0.5804935370152762\n",
      "est_ = 31 : 0.5856481481481481\n",
      "est_ = 32 : 0.5889281507656066\n",
      "est_ = 33 : 0.5908558030480656\n",
      "est_ = 34 : 0.5871121718377088\n",
      "est_ = 35 : 0.5905882352941176\n",
      "est_ = 36 : 0.5857142857142856\n",
      "est_ = 37 : 0.5926800472255017\n",
      "est_ = 38 : 0.5885167464114833\n",
      "est_ = 39 : 0.5952941176470589\n",
      "est_ = 40 : 0.5921521997621879\n",
      "est_ = 41 : 0.5971896955503512\n",
      "est_ = 42 : 0.5873959571938169\n",
      "est_ = 43 : 0.5945945945945946\n",
      "est_ = 44 : 0.5928571428571427\n",
      "est_ = 45 : 0.5962441314553991\n",
      "est_ = 46 : 0.5988165680473373\n",
      "est_ = 47 : 0.6039952996474736\n",
      "est_ = 48 : 0.5985748218527317\n",
      "est_ = 49 : 0.6014150943396226\n",
      "est_ = 50 : 0.6009501187648455\n",
      "est_ = 51 : 0.6011834319526627\n",
      "est_ = 52 : 0.5971223021582734\n",
      "est_ = 53 : 0.5961995249406176\n",
      "est_ = 54 : 0.5940119760479042\n",
      "est_ = 55 : 0.5954922894424673\n",
      "est_ = 56 : 0.5949820788530465\n",
      "est_ = 57 : 0.6004728132387707\n",
      "est_ = 58 : 0.5925925925925926\n",
      "est_ = 59 : 0.6004728132387707\n",
      "est_ = 60 : 0.5918854415274463\n",
      "est_ = 61 : 0.5966981132075472\n",
      "est_ = 62 : 0.5933014354066986\n",
      "est_ = 63 : 0.5943396226415095\n",
      "est_ = 64 : 0.5928571428571427\n",
      "est_ = 65 : 0.5940828402366863\n",
      "est_ = 66 : 0.5945303210463734\n",
      "est_ = 67 : 0.5974025974025974\n",
      "est_ = 68 : 0.5914489311163896\n",
      "est_ = 69 : 0.5936395759717314\n",
      "est_ = 70 : 0.5935637663885579\n",
      "est_ = 71 : 0.5905882352941176\n",
      "est_ = 72 : 0.5914489311163896\n",
      "est_ = 73 : 0.5955451348182884\n",
      "est_ = 74 : 0.5992865636147443\n",
      "est_ = 75 : 0.5969447708578144\n",
      "est_ = 76 : 0.5883748517200474\n",
      "est_ = 77 : 0.5945945945945946\n",
      "est_ = 78 : 0.5940828402366863\n",
      "est_ = 79 : 0.5966981132075472\n",
      "est_ = 80 : 0.5940828402366863\n",
      "est_ = 81 : 0.5962441314553991\n",
      "est_ = 82 : 0.5904761904761905\n",
      "est_ = 83 : 0.5926800472255017\n",
      "est_ = 84 : 0.5894988066825776\n",
      "est_ = 85 : 0.5947867298578198\n",
      "est_ = 86 : 0.5921521997621879\n",
      "est_ = 87 : 0.5957446808510638\n",
      "est_ = 88 : 0.5969084423305588\n",
      "est_ = 89 : 0.5974025974025974\n",
      "est_ = 90 : 0.5969084423305588\n",
      "est_ = 91 : 0.5954922894424673\n",
      "est_ = 92 : 0.5928571428571427\n",
      "est_ = 93 : 0.5947867298578198\n",
      "est_ = 94 : 0.5961995249406176\n",
      "est_ = 95 : 0.5933806146572105\n",
      "est_ = 96 : 0.5938242280285035\n",
      "est_ = 97 : 0.5971563981042655\n",
      "est_ = 98 : 0.5959475566150179\n",
      "est_ = 99 : 0.5961995249406176\n",
      "F1 наилучшей модели 'Случайный лес' на валидационной выборке: 0.6039952996474736\n",
      "Лучший n_estimators: 47\n"
     ]
    }
   ],
   "source": [
    "# Случайный лес, \n",
    "# пройдемся циклом for, изменяя параметр est от 1 до 49 с целью найти наибольшую точность такой модели\n",
    "\n",
    "best_model2 = None\n",
    "best_result2 = 0\n",
    "for est in range(1, 100):\n",
    "    model2 = RandomForestClassifier(random_state=12345, n_estimators=est) \n",
    "    model2.fit(features_train, target_train) \n",
    "    predicted_valid = model2.predict(features_valid) \n",
    "    probabilities_valid = model2.predict_proba(features_valid)\n",
    "    probabilities_one_valid = probabilities_valid[:, 1]\n",
    "    result = f1_score(target_valid, predicted_valid)\n",
    "    print(\"est_ =\", est, \": \", end='')\n",
    "    print(result)\n",
    "    if result > best_result2:\n",
    "        best_model2 = model2 \n",
    "        best_est = est\n",
    "        best_result2 = result \n",
    "print(\"F1 наилучшей модели 'Случайный лес' на валидационной выборке:\", best_result2)\n",
    "print('Лучший n_estimators:', best_est)"
   ]
  },
  {
   "cell_type": "code",
   "execution_count": 27,
   "metadata": {
    "scrolled": true
   },
   "outputs": [
    {
     "name": "stdout",
     "output_type": "stream",
     "text": [
      "iter_ = 100 : 0.3298969072164949\n",
      "iter_ = 200 : 0.3298969072164949\n",
      "iter_ = 300 : 0.3298969072164949\n",
      "iter_ = 400 : 0.3298969072164949\n",
      "iter_ = 500 : 0.3298969072164949\n",
      "iter_ = 600 : 0.3298969072164949\n",
      "iter_ = 700 : 0.3298969072164949\n",
      "iter_ = 800 : 0.3298969072164949\n",
      "iter_ = 900 : 0.3298969072164949\n",
      "iter_ = 100 : 0.3304093567251462\n",
      "iter_ = 200 : 0.3304093567251462\n",
      "iter_ = 300 : 0.3304093567251462\n",
      "iter_ = 400 : 0.3304093567251462\n",
      "iter_ = 500 : 0.3304093567251462\n",
      "iter_ = 600 : 0.3304093567251462\n",
      "iter_ = 700 : 0.3304093567251462\n",
      "iter_ = 800 : 0.3304093567251462\n",
      "iter_ = 900 : 0.3304093567251462\n",
      "iter_ = 100 : 0.32848837209302323\n",
      "iter_ = 200 : 0.32848837209302323\n",
      "iter_ = 300 : 0.32848837209302323\n",
      "iter_ = 400 : 0.32848837209302323\n",
      "iter_ = 500 : 0.32848837209302323\n",
      "iter_ = 600 : 0.32848837209302323\n",
      "iter_ = 700 : 0.32848837209302323\n",
      "iter_ = 800 : 0.32848837209302323\n",
      "iter_ = 900 : 0.32848837209302323\n",
      "iter_ = 100 : 0.32848837209302323\n",
      "iter_ = 200 : 0.32848837209302323\n",
      "iter_ = 300 : 0.32848837209302323\n",
      "iter_ = 400 : 0.32848837209302323\n",
      "iter_ = 500 : 0.32848837209302323\n",
      "iter_ = 600 : 0.32848837209302323\n",
      "iter_ = 700 : 0.32848837209302323\n",
      "iter_ = 800 : 0.32848837209302323\n",
      "iter_ = 900 : 0.32848837209302323\n",
      "iter_ = 100 : 0.32801161103047893\n",
      "iter_ = 200 : 0.32801161103047893\n",
      "iter_ = 300 : 0.32801161103047893\n",
      "iter_ = 400 : 0.32801161103047893\n",
      "iter_ = 500 : 0.32801161103047893\n",
      "iter_ = 600 : 0.32801161103047893\n",
      "iter_ = 700 : 0.32801161103047893\n",
      "iter_ = 800 : 0.32801161103047893\n",
      "iter_ = 900 : 0.32801161103047893\n",
      "iter_ = 100 : 0.32753623188405795\n",
      "iter_ = 200 : 0.32753623188405795\n",
      "iter_ = 300 : 0.32753623188405795\n",
      "iter_ = 400 : 0.32753623188405795\n",
      "iter_ = 500 : 0.32753623188405795\n",
      "iter_ = 600 : 0.32753623188405795\n",
      "iter_ = 700 : 0.32753623188405795\n",
      "iter_ = 800 : 0.32753623188405795\n",
      "iter_ = 900 : 0.32753623188405795\n",
      "iter_ = 100 : 0.32753623188405795\n",
      "iter_ = 200 : 0.32753623188405795\n",
      "iter_ = 300 : 0.32753623188405795\n",
      "iter_ = 400 : 0.32753623188405795\n",
      "iter_ = 500 : 0.32753623188405795\n",
      "iter_ = 600 : 0.32753623188405795\n",
      "iter_ = 700 : 0.32753623188405795\n",
      "iter_ = 800 : 0.32753623188405795\n",
      "iter_ = 900 : 0.32753623188405795\n",
      "iter_ = 100 : 0.3299565846599131\n",
      "iter_ = 200 : 0.3299565846599131\n",
      "iter_ = 300 : 0.3299565846599131\n",
      "iter_ = 400 : 0.3299565846599131\n",
      "iter_ = 500 : 0.3299565846599131\n",
      "iter_ = 600 : 0.3299565846599131\n",
      "iter_ = 700 : 0.3299565846599131\n",
      "iter_ = 800 : 0.3299565846599131\n",
      "iter_ = 900 : 0.3299565846599131\n",
      "iter_ = 100 : 0.3299565846599131\n",
      "iter_ = 200 : 0.3299565846599131\n",
      "iter_ = 300 : 0.3299565846599131\n",
      "iter_ = 400 : 0.3299565846599131\n",
      "iter_ = 500 : 0.3299565846599131\n",
      "iter_ = 600 : 0.3299565846599131\n",
      "iter_ = 700 : 0.3299565846599131\n",
      "iter_ = 800 : 0.3299565846599131\n",
      "iter_ = 900 : 0.3299565846599131\n",
      "F1 наилучшей модели 'Логистической регрессии' на валидационной выборке: 0.3304093567251462\n",
      "Лучший С: 0.2\n"
     ]
    }
   ],
   "source": [
    "# Логистическая регрессия, \n",
    "# пройдемся двойным циклом for, изменяя параметр solve одним, и max_iter вторым для поиска наилучшего \n",
    "\n",
    "best_model3 = None\n",
    "best_result3 = 0\n",
    "for C_parametr in np.arange(0.1, 1.0, 0.1):\n",
    "    for iter in range(100, 1000, 100):\n",
    "        model3 = LogisticRegression(random_state=12345, solver='newton-cg', max_iter=iter, C = C_parametr) \n",
    "        model3.fit(features_train, target_train)\n",
    "        predicted_valid = model3.predict(features_valid) \n",
    "        probabilities_valid = model3.predict_proba(features_valid)\n",
    "        probabilities_one_valid = probabilities_valid[:, 1]\n",
    "        result = f1_score(target_valid, predicted_valid)\n",
    "        print(\"iter_ =\", iter, \": \", end='')\n",
    "        print(result)\n",
    "        if result > best_result3:\n",
    "            best_model3 = model3\n",
    "            best_C = C_parametr\n",
    "            best_result3 = result\n",
    "print(\"F1 наилучшей модели 'Логистической регрессии' на валидационной выборке:\", best_result3)\n",
    "print('Лучший С:', best_C)"
   ]
  },
  {
   "cell_type": "markdown",
   "metadata": {},
   "source": [
    "### Выявление лучшей модели (без учета дисбаланса)"
   ]
  },
  {
   "cell_type": "code",
   "execution_count": 28,
   "metadata": {},
   "outputs": [
    {
     "name": "stdout",
     "output_type": "stream",
     "text": [
      "F1 для модели Дерево решений :  0.5777262180974477\n",
      "AUC-ROC для модели Дерево решений :  0.7962900833712413\n",
      "\n",
      "F1 для модели Случайный лес :  0.6039952996474736\n",
      "AUC-ROC для модели Случайный лес :  0.844051670631792\n",
      "\n",
      "F1 для модели Логистическая регрессия :  0.3304093567251462\n",
      "AUC-ROC для модели Логистическая регрессия :  0.7780246867287864\n",
      "\n"
     ]
    }
   ],
   "source": [
    "models = [best_model1, \n",
    "          best_model2, \n",
    "          best_model3]\n",
    "\n",
    "models_name = ['Дерево решений',\n",
    "               'Случайный лес', \n",
    "               'Логистическая регрессия']\n",
    "\n",
    "for x in range(len(models)):\n",
    "   \n",
    "    predicted_valid = models[x].predict(features_valid) \n",
    "    probabilities_valid = models[x].predict_proba(features_valid)\n",
    "    probabilities_one_valid = probabilities_valid[:, 1]\n",
    "    print('F1 для модели', models_name[x], ': ', f1_score(target_valid, predicted_valid))\n",
    "    print('AUC-ROC для модели', models_name[x], ': ', roc_auc_score(target_valid, probabilities_one_valid))\n",
    "    print('')"
   ]
  },
  {
   "cell_type": "markdown",
   "metadata": {},
   "source": [
    "При своих наилучших гиперпараметрах модель случайного леса показала наилучшие результаты метрик F1 и AUC-ROC (без учета дисбаланса)"
   ]
  },
  {
   "attachments": {},
   "cell_type": "markdown",
   "metadata": {},
   "source": [
    "Метрики Дерева решений и Случайного леса оказались относительно высокими. \n",
    "\n",
    "При этом целевое значение F1 0,6 достигнуто у модели Случайного леса"
   ]
  },
  {
   "cell_type": "markdown",
   "metadata": {},
   "source": [
    "## Борьба с дисбалансом"
   ]
  },
  {
   "cell_type": "markdown",
   "metadata": {},
   "source": [
    "### Взвешивание классов"
   ]
  },
  {
   "cell_type": "code",
   "execution_count": 29,
   "metadata": {
    "scrolled": true
   },
   "outputs": [
    {
     "name": "stdout",
     "output_type": "stream",
     "text": [
      "max_depth = 1 : 0.48452929558920343\n",
      "max_depth = 2 : 0.5003232062055591\n",
      "max_depth = 3 : 0.5003232062055591\n",
      "max_depth = 4 : 0.5417574437182281\n",
      "max_depth = 5 : 0.5491289198606271\n",
      "max_depth = 6 : 0.5601888276947286\n",
      "max_depth = 7 : 0.5539143279172821\n",
      "max_depth = 8 : 0.5381294964028777\n",
      "max_depth = 9 : 0.5508406725380305\n",
      "max_depth = 10 : 0.5441055234954657\n",
      "max_depth = 11 : 0.5415224913494809\n",
      "max_depth = 12 : 0.5285961871750434\n",
      "max_depth = 13 : 0.5278022947925861\n",
      "max_depth = 14 : 0.5168949771689497\n",
      "max_depth = 15 : 0.5150943396226415\n",
      "max_depth = 16 : 0.5227492739593418\n",
      "max_depth = 17 : 0.49806201550387597\n",
      "max_depth = 18 : 0.5094152626362736\n",
      "max_depth = 19 : 0.5044687189672294\n",
      "max_depth = 20 : 0.49900199600798406\n",
      "max_depth = 21 : 0.5005025125628141\n",
      "max_depth = 22 : 0.49544994944388265\n",
      "max_depth = 23 : 0.49544994944388265\n",
      "max_depth = 24 : 0.49544994944388265\n",
      "max_depth = 25 : 0.49544994944388265\n",
      "max_depth = 26 : 0.49544994944388265\n",
      "max_depth = 27 : 0.49544994944388265\n",
      "max_depth = 28 : 0.49544994944388265\n",
      "max_depth = 29 : 0.49544994944388265\n",
      "max_depth = 30 : 0.49544994944388265\n",
      "max_depth = 31 : 0.49544994944388265\n",
      "max_depth = 32 : 0.49544994944388265\n",
      "max_depth = 33 : 0.49544994944388265\n",
      "max_depth = 34 : 0.49544994944388265\n",
      "max_depth = 35 : 0.49544994944388265\n",
      "max_depth = 36 : 0.49544994944388265\n",
      "max_depth = 37 : 0.49544994944388265\n",
      "max_depth = 38 : 0.49544994944388265\n",
      "max_depth = 39 : 0.49544994944388265\n",
      "max_depth = 40 : 0.49544994944388265\n",
      "max_depth = 41 : 0.49544994944388265\n",
      "max_depth = 42 : 0.49544994944388265\n",
      "max_depth = 43 : 0.49544994944388265\n",
      "max_depth = 44 : 0.49544994944388265\n",
      "max_depth = 45 : 0.49544994944388265\n",
      "max_depth = 46 : 0.49544994944388265\n",
      "max_depth = 47 : 0.49544994944388265\n",
      "max_depth = 48 : 0.49544994944388265\n",
      "max_depth = 49 : 0.49544994944388265\n",
      "F1 наилучшей модели 'Дерево решений' на валидационной выборке: 0.5601888276947286\n",
      "Лучший max_depth: 6\n"
     ]
    }
   ],
   "source": [
    "# Дерево решений, \n",
    "# пройдемся циклом for, изменяя параметр depth от 1 до 49 с целью найти наибольшую точность такой модели\n",
    "\n",
    "best_model1_cwb = None\n",
    "best_result1_cwb = 0\n",
    "for depth in range(1,50):\n",
    "    model1 = DecisionTreeClassifier(random_state=12345, max_depth=depth, class_weight = 'balanced') \n",
    "    model1.fit(features_train, target_train) \n",
    "    predicted_valid = model1.predict(features_valid) \n",
    "    probabilities_valid = model1.predict_proba(features_valid)\n",
    "    probabilities_one_valid = probabilities_valid[:, 1]\n",
    "    result = f1_score(target_valid, predicted_valid)\n",
    "    print(\"max_depth =\", depth, \": \", end='')\n",
    "    print(result) \n",
    "    if result > best_result1_cwb:\n",
    "        best_model1_cwb = model1 \n",
    "        best_depth = depth\n",
    "        best_result1_cwb = result \n",
    "print(\"F1 наилучшей модели 'Дерево решений' на валидационной выборке:\", best_result1_cwb)\n",
    "print('Лучший max_depth:', best_depth)"
   ]
  },
  {
   "cell_type": "code",
   "execution_count": 30,
   "metadata": {
    "scrolled": true
   },
   "outputs": [
    {
     "name": "stdout",
     "output_type": "stream",
     "text": [
      "est_ = 1 : 0.496969696969697\n",
      "est_ = 2 : 0.44617380025940334\n",
      "est_ = 3 : 0.535675082327113\n",
      "est_ = 4 : 0.4666666666666666\n",
      "est_ = 5 : 0.5507900677200902\n",
      "est_ = 6 : 0.5308641975308641\n",
      "est_ = 7 : 0.5617214043035107\n",
      "est_ = 8 : 0.5378973105134475\n",
      "est_ = 9 : 0.5688073394495412\n",
      "est_ = 10 : 0.538083538083538\n",
      "est_ = 11 : 0.5650644783118406\n",
      "est_ = 12 : 0.5389369592088998\n",
      "est_ = 13 : 0.5660818713450293\n",
      "est_ = 14 : 0.5585365853658537\n",
      "est_ = 15 : 0.5697538100820633\n",
      "est_ = 16 : 0.5496932515337424\n",
      "est_ = 17 : 0.5764705882352942\n",
      "est_ = 18 : 0.5599022004889975\n",
      "est_ = 19 : 0.5788849347568209\n",
      "est_ = 20 : 0.5595092024539877\n",
      "est_ = 21 : 0.5744934445768772\n",
      "est_ = 22 : 0.553921568627451\n",
      "est_ = 23 : 0.5778834720570749\n",
      "est_ = 24 : 0.5637910085054677\n",
      "est_ = 25 : 0.5683453237410071\n",
      "est_ = 26 : 0.5532435740514076\n",
      "est_ = 27 : 0.5710872162485066\n",
      "est_ = 28 : 0.5602923264311814\n",
      "est_ = 29 : 0.5649038461538463\n",
      "est_ = 30 : 0.5634146341463415\n",
      "est_ = 31 : 0.5700598802395209\n",
      "est_ = 32 : 0.5634146341463415\n",
      "est_ = 33 : 0.5721153846153847\n",
      "est_ = 34 : 0.5738705738705738\n",
      "est_ = 35 : 0.5841346153846154\n",
      "est_ = 36 : 0.5819070904645477\n",
      "est_ = 37 : 0.5906362545018007\n",
      "est_ = 38 : 0.586374695863747\n",
      "est_ = 39 : 0.5842424242424242\n",
      "est_ = 40 : 0.5735294117647058\n",
      "est_ = 41 : 0.585956416464891\n",
      "est_ = 42 : 0.5777233782129744\n",
      "est_ = 43 : 0.5804111245465539\n",
      "est_ = 44 : 0.5840490797546013\n",
      "est_ = 45 : 0.5839416058394161\n",
      "est_ = 46 : 0.5836385836385836\n",
      "est_ = 47 : 0.5917874396135265\n",
      "est_ = 48 : 0.587088915956151\n",
      "est_ = 49 : 0.5958986731001207\n",
      "est_ = 50 : 0.584652862362972\n",
      "est_ = 51 : 0.5879518072289156\n",
      "est_ = 52 : 0.5856622114216281\n",
      "est_ = 53 : 0.585956416464891\n",
      "est_ = 54 : 0.5770171149144255\n",
      "est_ = 55 : 0.5825242718446603\n",
      "est_ = 56 : 0.5794621026894865\n",
      "est_ = 57 : 0.5873786407766991\n",
      "est_ = 58 : 0.5714285714285714\n",
      "est_ = 59 : 0.5787545787545788\n",
      "est_ = 60 : 0.5714285714285714\n",
      "est_ = 61 : 0.5819070904645477\n",
      "est_ = 62 : 0.5773955773955773\n",
      "est_ = 63 : 0.5895249695493301\n",
      "est_ = 64 : 0.5865030674846626\n",
      "est_ = 65 : 0.5873786407766991\n",
      "est_ = 66 : 0.5840490797546013\n",
      "est_ = 67 : 0.587088915956151\n",
      "est_ = 68 : 0.5808823529411764\n",
      "est_ = 69 : 0.586374695863747\n",
      "est_ = 70 : 0.5773955773955773\n",
      "est_ = 71 : 0.5797807551766139\n",
      "est_ = 72 : 0.5766871165644173\n",
      "est_ = 73 : 0.583232077764277\n",
      "est_ = 74 : 0.5791411042944785\n",
      "est_ = 75 : 0.584652862362972\n",
      "est_ = 76 : 0.5811965811965811\n",
      "est_ = 77 : 0.5856622114216281\n",
      "est_ = 78 : 0.5794621026894865\n",
      "est_ = 79 : 0.5808019441069259\n",
      "est_ = 80 : 0.5714285714285714\n",
      "est_ = 81 : 0.5790754257907543\n",
      "est_ = 82 : 0.5745721271393643\n",
      "est_ = 83 : 0.578048780487805\n",
      "est_ = 84 : 0.5735294117647058\n",
      "est_ = 85 : 0.5787545787545788\n",
      "est_ = 86 : 0.5752753977968176\n",
      "est_ = 87 : 0.5790754257907543\n",
      "est_ = 88 : 0.5759803921568628\n",
      "est_ = 89 : 0.578048780487805\n",
      "est_ = 90 : 0.5752753977968176\n",
      "est_ = 91 : 0.5787545787545788\n",
      "est_ = 92 : 0.5752753977968176\n",
      "est_ = 93 : 0.5842424242424242\n",
      "est_ = 94 : 0.5787545787545788\n",
      "est_ = 95 : 0.5849514563106796\n",
      "est_ = 96 : 0.5819070904645477\n",
      "est_ = 97 : 0.586374695863747\n",
      "est_ = 98 : 0.5836385836385836\n",
      "est_ = 99 : 0.5880923450789793\n",
      "F1 наилучшей модели 'Случайный лес' на валидационной выборке: 0.5958986731001207\n",
      "Лучший n_estimators: 49\n"
     ]
    }
   ],
   "source": [
    "# Случайный лес, \n",
    "# пройдемся циклом for, изменяя параметр est от 1 до 49 с целью найти наибольшую точность такой модели\n",
    "\n",
    "best_model2_cwb = None\n",
    "best_result2_cwb = 0\n",
    "for est in range(1, 100):\n",
    "    model2 = RandomForestClassifier(random_state=12345, n_estimators=est, class_weight = 'balanced') \n",
    "    model2.fit(features_train, target_train) \n",
    "    predicted_valid = model2.predict(features_valid) \n",
    "    probabilities_valid = model2.predict_proba(features_valid)\n",
    "    probabilities_one_valid = probabilities_valid[:, 1]\n",
    "    result = f1_score(target_valid, predicted_valid)\n",
    "    print(\"est_ =\", est, \": \", end='')\n",
    "    print(result)\n",
    "    if result > best_result2_cwb:\n",
    "        best_model2_cwb = model2 \n",
    "        best_est = est\n",
    "        best_result2_cwb = result \n",
    "print(\"F1 наилучшей модели 'Случайный лес' на валидационной выборке:\", best_result2_cwb)\n",
    "print('Лучший n_estimators:', best_est)"
   ]
  },
  {
   "cell_type": "code",
   "execution_count": 31,
   "metadata": {
    "scrolled": true
   },
   "outputs": [
    {
     "name": "stdout",
     "output_type": "stream",
     "text": [
      "iter_ = 100 : 0.5080027835768963\n",
      "iter_ = 200 : 0.5080027835768963\n",
      "iter_ = 300 : 0.5080027835768963\n",
      "iter_ = 400 : 0.5080027835768963\n",
      "iter_ = 500 : 0.5080027835768963\n",
      "iter_ = 600 : 0.5080027835768963\n",
      "iter_ = 700 : 0.5080027835768963\n",
      "iter_ = 800 : 0.5080027835768963\n",
      "iter_ = 900 : 0.5080027835768963\n",
      "iter_ = 100 : 0.506276150627615\n",
      "iter_ = 200 : 0.506276150627615\n",
      "iter_ = 300 : 0.506276150627615\n",
      "iter_ = 400 : 0.506276150627615\n",
      "iter_ = 500 : 0.506276150627615\n",
      "iter_ = 600 : 0.506276150627615\n",
      "iter_ = 700 : 0.506276150627615\n",
      "iter_ = 800 : 0.506276150627615\n",
      "iter_ = 900 : 0.506276150627615\n",
      "iter_ = 100 : 0.5052337752965805\n",
      "iter_ = 200 : 0.5052337752965805\n",
      "iter_ = 300 : 0.5052337752965805\n",
      "iter_ = 400 : 0.5052337752965805\n",
      "iter_ = 500 : 0.5052337752965805\n",
      "iter_ = 600 : 0.5052337752965805\n",
      "iter_ = 700 : 0.5052337752965805\n",
      "iter_ = 800 : 0.5052337752965805\n",
      "iter_ = 900 : 0.5052337752965805\n",
      "iter_ = 100 : 0.5041899441340782\n",
      "iter_ = 200 : 0.5041899441340782\n",
      "iter_ = 300 : 0.5041899441340782\n",
      "iter_ = 400 : 0.5041899441340782\n",
      "iter_ = 500 : 0.5041899441340782\n",
      "iter_ = 600 : 0.5041899441340782\n",
      "iter_ = 700 : 0.5041899441340782\n",
      "iter_ = 800 : 0.5041899441340782\n",
      "iter_ = 900 : 0.5041899441340782\n",
      "iter_ = 100 : 0.5038381018841591\n",
      "iter_ = 200 : 0.5038381018841591\n",
      "iter_ = 300 : 0.5038381018841591\n",
      "iter_ = 400 : 0.5038381018841591\n",
      "iter_ = 500 : 0.5038381018841591\n",
      "iter_ = 600 : 0.5038381018841591\n",
      "iter_ = 700 : 0.5038381018841591\n",
      "iter_ = 800 : 0.5038381018841591\n",
      "iter_ = 900 : 0.5038381018841591\n",
      "iter_ = 100 : 0.5041899441340782\n",
      "iter_ = 200 : 0.5041899441340782\n",
      "iter_ = 300 : 0.5041899441340782\n",
      "iter_ = 400 : 0.5041899441340782\n",
      "iter_ = 500 : 0.5041899441340782\n",
      "iter_ = 600 : 0.5041899441340782\n",
      "iter_ = 700 : 0.5041899441340782\n",
      "iter_ = 800 : 0.5041899441340782\n",
      "iter_ = 900 : 0.5041899441340782\n",
      "iter_ = 100 : 0.5041899441340782\n",
      "iter_ = 200 : 0.5041899441340782\n",
      "iter_ = 300 : 0.5041899441340782\n",
      "iter_ = 400 : 0.5041899441340782\n",
      "iter_ = 500 : 0.5041899441340782\n",
      "iter_ = 600 : 0.5041899441340782\n",
      "iter_ = 700 : 0.5041899441340782\n",
      "iter_ = 800 : 0.5041899441340782\n",
      "iter_ = 900 : 0.5041899441340782\n",
      "iter_ = 100 : 0.5045422781271838\n",
      "iter_ = 200 : 0.5045422781271838\n",
      "iter_ = 300 : 0.5045422781271838\n",
      "iter_ = 400 : 0.5045422781271838\n",
      "iter_ = 500 : 0.5045422781271838\n",
      "iter_ = 600 : 0.5045422781271838\n",
      "iter_ = 700 : 0.5045422781271838\n",
      "iter_ = 800 : 0.5045422781271838\n",
      "iter_ = 900 : 0.5045422781271838\n",
      "iter_ = 100 : 0.5045422781271838\n",
      "iter_ = 200 : 0.5045422781271838\n",
      "iter_ = 300 : 0.5045422781271838\n",
      "iter_ = 400 : 0.5045422781271838\n",
      "iter_ = 500 : 0.5045422781271838\n",
      "iter_ = 600 : 0.5045422781271838\n",
      "iter_ = 700 : 0.5045422781271838\n",
      "iter_ = 800 : 0.5045422781271838\n",
      "iter_ = 900 : 0.5045422781271838\n",
      "F1 наилучшей модели 'Логистической регрессии' на валидационной выборке: 0.5080027835768963\n",
      "Лучший С: 0.1\n"
     ]
    }
   ],
   "source": [
    "# Логистическая регрессия, \n",
    "# пройдемся двойным циклом for, изменяя параметр solve одним, и max_iter вторым для поиска наилучшего \n",
    "\n",
    "best_model3_cwb = None\n",
    "best_result3_cwb = 0\n",
    "for C_parametr in np.arange(0.1, 1.0, 0.1):\n",
    "    for iter in range(100, 1000, 100):\n",
    "        model3 = LogisticRegression(random_state=12345, solver='newton-cg', max_iter=iter, class_weight = 'balanced', C = C_parametr) \n",
    "        model3.fit(features_train, target_train)\n",
    "        predicted_valid = model3.predict(features_valid) \n",
    "        probabilities_valid = model3.predict_proba(features_valid)\n",
    "        probabilities_one_valid = probabilities_valid[:, 1]\n",
    "        result = f1_score(target_valid, predicted_valid)\n",
    "        print(\"iter_ =\", iter, \": \", end='')\n",
    "        print(result)\n",
    "        if result > best_result3_cwb:\n",
    "            best_model3_cwb = model3\n",
    "            best_C = C_parametr\n",
    "            best_result3_cwb = result\n",
    "print(\"F1 наилучшей модели 'Логистической регрессии' на валидационной выборке:\", best_result3_cwb)\n",
    "print('Лучший С:', best_C)"
   ]
  },
  {
   "cell_type": "code",
   "execution_count": 32,
   "metadata": {},
   "outputs": [
    {
     "name": "stdout",
     "output_type": "stream",
     "text": [
      "F1 для модели Дерево решений :  0.5601888276947286\n",
      "AUC-ROC для модели Дерево решений :  0.8242296621634289\n",
      "\n",
      "F1 для модели Случайный лес :  0.5958986731001207\n",
      "AUC-ROC для модели Случайный лес :  0.8492533690408409\n",
      "\n",
      "F1 для модели Логистическая регрессия :  0.5080027835768963\n",
      "AUC-ROC для модели Логистическая регрессия :  0.7827986252477998\n",
      "\n"
     ]
    }
   ],
   "source": [
    "models = [best_model1_cwb, \n",
    "          best_model2_cwb, \n",
    "          best_model3_cwb]\n",
    "\n",
    "models_name = ['Дерево решений',\n",
    "               'Случайный лес', \n",
    "               'Логистическая регрессия']\n",
    "\n",
    "for x in range(len(models)):\n",
    "   \n",
    "    predicted_valid = models[x].predict(features_valid) \n",
    "    probabilities_valid = models[x].predict_proba(features_valid)\n",
    "    probabilities_one_valid = probabilities_valid[:, 1]\n",
    "    print('F1 для модели', models_name[x], ': ', f1_score(target_valid, predicted_valid))\n",
    "    print('AUC-ROC для модели', models_name[x], ': ', roc_auc_score(target_valid, probabilities_one_valid))\n",
    "    print('')"
   ]
  },
  {
   "cell_type": "markdown",
   "metadata": {},
   "source": [
    "Хорошие результаты показала модель Дерева решений.\n",
    "Значительное улучшение F1 метрики у модели Логистической регрессии. \n",
    "При этом у модели случайного леса значение F1 уменьшилось.\n",
    "\n",
    "Целевое значение метрики F1 не было достигнуто."
   ]
  },
  {
   "cell_type": "markdown",
   "metadata": {},
   "source": [
    "### Масштабирование выборки"
   ]
  },
  {
   "cell_type": "markdown",
   "metadata": {},
   "source": [
    "#### Увеличение выбоки"
   ]
  },
  {
   "cell_type": "code",
   "execution_count": 33,
   "metadata": {},
   "outputs": [],
   "source": [
    "def upsample(features, target, repeat):\n",
    "    features_zeros = features[target == 0]\n",
    "    features_ones = features[target == 1]\n",
    "    target_zeros = target[target == 0]\n",
    "    target_ones = target[target == 1]\n",
    "\n",
    "    features_upsampled = pd.concat([features_zeros] + [features_ones] * repeat)\n",
    "    target_upsampled = pd.concat([target_zeros] + [target_ones] * repeat)\n",
    "    \n",
    "    features_upsampled, target_upsampled = shuffle(\n",
    "        features_upsampled, target_upsampled, random_state=12345)\n",
    "    \n",
    "    return features_upsampled, target_upsampled\n",
    "\n",
    "features_upsampled, target_upsampled = upsample(features_train, target_train, 4)"
   ]
  },
  {
   "cell_type": "code",
   "execution_count": 34,
   "metadata": {},
   "outputs": [
    {
     "data": {
      "text/plain": [
       "1    4076\n",
       "0    3981\n",
       "Name: Exited, dtype: int64"
      ]
     },
     "execution_count": 34,
     "metadata": {},
     "output_type": "execute_result"
    }
   ],
   "source": [
    "# Оценим соотношение в тренировочной выборке\n",
    "target_upsampled.value_counts()"
   ]
  },
  {
   "cell_type": "code",
   "execution_count": 35,
   "metadata": {
    "scrolled": true
   },
   "outputs": [
    {
     "name": "stdout",
     "output_type": "stream",
     "text": [
      "max_depth = 1 : 0.48452929558920343\n",
      "max_depth = 2 : 0.5003232062055591\n",
      "max_depth = 3 : 0.5003232062055591\n",
      "max_depth = 4 : 0.5417574437182281\n",
      "max_depth = 5 : 0.5491289198606271\n",
      "max_depth = 6 : 0.5625\n",
      "max_depth = 7 : 0.5524079320113314\n",
      "max_depth = 8 : 0.5310492505353318\n",
      "max_depth = 9 : 0.5299401197604791\n",
      "max_depth = 10 : 0.5434782608695652\n",
      "max_depth = 11 : 0.5352591333899746\n",
      "max_depth = 12 : 0.5240101095197978\n",
      "max_depth = 13 : 0.5166809238665526\n",
      "max_depth = 14 : 0.5173951828724354\n",
      "max_depth = 15 : 0.5046382189239331\n",
      "max_depth = 16 : 0.49666983824928634\n",
      "max_depth = 17 : 0.49905123339658447\n",
      "max_depth = 18 : 0.4911242603550296\n",
      "max_depth = 19 : 0.4886251236399604\n",
      "max_depth = 20 : 0.5029585798816569\n",
      "max_depth = 21 : 0.49502982107355864\n",
      "max_depth = 22 : 0.48906560636182905\n",
      "max_depth = 23 : 0.4945598417408506\n",
      "max_depth = 24 : 0.4945598417408506\n",
      "max_depth = 25 : 0.4945598417408506\n",
      "max_depth = 26 : 0.4945598417408506\n",
      "max_depth = 27 : 0.4945598417408506\n",
      "max_depth = 28 : 0.4945598417408506\n",
      "max_depth = 29 : 0.4945598417408506\n",
      "max_depth = 30 : 0.4945598417408506\n",
      "max_depth = 31 : 0.4945598417408506\n",
      "max_depth = 32 : 0.4945598417408506\n",
      "max_depth = 33 : 0.4945598417408506\n",
      "max_depth = 34 : 0.4945598417408506\n",
      "max_depth = 35 : 0.4945598417408506\n",
      "max_depth = 36 : 0.4945598417408506\n",
      "max_depth = 37 : 0.4945598417408506\n",
      "max_depth = 38 : 0.4945598417408506\n",
      "max_depth = 39 : 0.4945598417408506\n",
      "max_depth = 40 : 0.4945598417408506\n",
      "max_depth = 41 : 0.4945598417408506\n",
      "max_depth = 42 : 0.4945598417408506\n",
      "max_depth = 43 : 0.4945598417408506\n",
      "max_depth = 44 : 0.4945598417408506\n",
      "max_depth = 45 : 0.4945598417408506\n",
      "max_depth = 46 : 0.4945598417408506\n",
      "max_depth = 47 : 0.4945598417408506\n",
      "max_depth = 48 : 0.4945598417408506\n",
      "max_depth = 49 : 0.4945598417408506\n",
      "F1 наилучшей модели 'Дерево решений' на валидационной выборке: 0.5625\n",
      "Лучший max_depth: 6\n"
     ]
    }
   ],
   "source": [
    "# Дерево решений, \n",
    "# пройдемся циклом for, изменяя параметр depth от 1 до 49 с целью найти наибольшую точность такой модели\n",
    "best_model1_up = None\n",
    "best_result1_up = 0\n",
    "for depth in range(1,50):\n",
    "    model1 = DecisionTreeClassifier(random_state=12345, max_depth=depth) \n",
    "    model1.fit(features_upsampled, target_upsampled) \n",
    "    predicted_valid = model1.predict(features_valid) \n",
    "    probabilities_valid = model1.predict_proba(features_valid)\n",
    "    probabilities_one_valid = probabilities_valid[:, 1]\n",
    "    result = f1_score(target_valid, predicted_valid)\n",
    "    print(\"max_depth =\", depth, \": \", end='')\n",
    "    print(result) \n",
    "    if result > best_result1_up:\n",
    "        best_model1_up = model1 \n",
    "        best_depth = depth\n",
    "        best_result1_up = result \n",
    "print(\"F1 наилучшей модели 'Дерево решений' на валидационной выборке:\", best_result1_up)\n",
    "print('Лучший max_depth:', best_depth)"
   ]
  },
  {
   "cell_type": "code",
   "execution_count": 36,
   "metadata": {
    "scrolled": true
   },
   "outputs": [
    {
     "name": "stdout",
     "output_type": "stream",
     "text": [
      "est_ = 1 : 0.4924977934686673\n",
      "est_ = 2 : 0.460984393757503\n",
      "est_ = 3 : 0.5583173996175909\n",
      "est_ = 4 : 0.5498281786941581\n",
      "est_ = 5 : 0.5834165834165835\n",
      "est_ = 6 : 0.5698569856985699\n",
      "est_ = 7 : 0.5794205794205796\n",
      "est_ = 8 : 0.5757250268528464\n",
      "est_ = 9 : 0.5786290322580645\n",
      "est_ = 10 : 0.5877287405812702\n",
      "est_ = 11 : 0.5916919959473151\n",
      "est_ = 12 : 0.5892291446673706\n",
      "est_ = 13 : 0.5995975855130785\n",
      "est_ = 14 : 0.5884816753926702\n",
      "est_ = 15 : 0.5903614457831325\n",
      "est_ = 16 : 0.5932914046121595\n",
      "est_ = 17 : 0.5969543147208122\n",
      "est_ = 18 : 0.5920502092050209\n",
      "est_ = 19 : 0.5949238578680204\n",
      "est_ = 20 : 0.5795574288724974\n",
      "est_ = 21 : 0.5894308943089431\n",
      "est_ = 22 : 0.592436974789916\n",
      "est_ = 23 : 0.5940390544707091\n",
      "est_ = 24 : 0.5945378151260504\n",
      "est_ = 25 : 0.5995850622406639\n",
      "est_ = 26 : 0.6029723991507431\n",
      "est_ = 27 : 0.6068821689259645\n",
      "est_ = 28 : 0.5982905982905983\n",
      "est_ = 29 : 0.6029106029106029\n",
      "est_ = 30 : 0.5993623804463337\n",
      "est_ = 31 : 0.6043613707165109\n",
      "est_ = 32 : 0.5961538461538463\n",
      "est_ = 33 : 0.6004140786749483\n",
      "est_ = 34 : 0.5987261146496816\n",
      "est_ = 35 : 0.5991649269311065\n",
      "est_ = 36 : 0.598941798941799\n",
      "est_ = 37 : 0.6006256517205423\n",
      "est_ = 38 : 0.6014877789585547\n",
      "est_ = 39 : 0.605427974947808\n",
      "est_ = 40 : 0.6002120890774125\n",
      "est_ = 41 : 0.604989604989605\n",
      "est_ = 42 : 0.6021052631578947\n",
      "est_ = 43 : 0.6002076843198338\n",
      "est_ = 44 : 0.5972660357518402\n",
      "est_ = 45 : 0.5989637305699482\n",
      "est_ = 46 : 0.5945378151260504\n",
      "est_ = 47 : 0.599375650364204\n",
      "est_ = 48 : 0.5928270042194094\n",
      "est_ = 49 : 0.5958333333333334\n",
      "est_ = 50 : 0.5930599369085174\n",
      "est_ = 51 : 0.5958333333333334\n",
      "est_ = 52 : 0.5951629863301786\n",
      "est_ = 53 : 0.5956112852664577\n",
      "est_ = 54 : 0.5968253968253968\n",
      "est_ = 55 : 0.5991649269311065\n",
      "est_ = 56 : 0.5997888067581837\n",
      "est_ = 57 : 0.600418410041841\n",
      "est_ = 58 : 0.6036131774707758\n",
      "est_ = 59 : 0.6016771488469601\n",
      "est_ = 60 : 0.6023329798515377\n",
      "est_ = 61 : 0.6052356020942409\n",
      "est_ = 62 : 0.6063157894736841\n",
      "est_ = 63 : 0.604602510460251\n",
      "est_ = 64 : 0.60695468914647\n",
      "est_ = 65 : 0.6047966631908238\n",
      "est_ = 66 : 0.6000000000000001\n",
      "est_ = 67 : 0.605427974947808\n",
      "est_ = 68 : 0.6006322444678609\n",
      "est_ = 69 : 0.6031413612565445\n",
      "est_ = 70 : 0.5955649419218585\n",
      "est_ = 71 : 0.6002076843198338\n",
      "est_ = 72 : 0.6002098635886673\n",
      "est_ = 73 : 0.6002076843198338\n",
      "est_ = 74 : 0.5964172813487882\n",
      "est_ = 75 : 0.5985401459854014\n",
      "est_ = 76 : 0.6000000000000001\n",
      "est_ = 77 : 0.5991649269311065\n",
      "est_ = 78 : 0.5972660357518402\n",
      "est_ = 79 : 0.5964546402502606\n",
      "est_ = 80 : 0.5972660357518402\n",
      "est_ = 81 : 0.5964546402502606\n",
      "est_ = 82 : 0.6025369978858351\n",
      "est_ = 83 : 0.6025104602510459\n",
      "est_ = 84 : 0.6033755274261604\n",
      "est_ = 85 : 0.5989528795811518\n",
      "est_ = 86 : 0.5991561181434598\n",
      "est_ = 87 : 0.600418410041841\n",
      "est_ = 88 : 0.5974576271186441\n",
      "est_ = 89 : 0.6027397260273972\n",
      "est_ = 90 : 0.5997888067581837\n",
      "est_ = 91 : 0.6027397260273972\n",
      "est_ = 92 : 0.6004228329809724\n",
      "est_ = 93 : 0.6058700209643606\n",
      "est_ = 94 : 0.6027397260273972\n",
      "est_ = 95 : 0.6008403361344539\n",
      "est_ = 96 : 0.6027397260273972\n",
      "est_ = 97 : 0.6021052631578947\n",
      "est_ = 98 : 0.6004228329809724\n",
      "est_ = 99 : 0.6010471204188481\n",
      "F1 наилучшей модели 'Случайный лес' на валидационной выборке: 0.60695468914647\n",
      "Лучший n_estimators: 64\n"
     ]
    }
   ],
   "source": [
    "# Случайный лес, \n",
    "# пройдемся циклом for, изменяя параметр est от 1 до 49 с целью найти наибольшую точность такой модели\n",
    "\n",
    "best_model2_up = None\n",
    "best_result2_up = 0\n",
    "for est in range(1, 100):\n",
    "    model2 = RandomForestClassifier(random_state=12345, n_estimators=est) \n",
    "    model2.fit(features_upsampled, target_upsampled) \n",
    "    predicted_valid = model2.predict(features_valid) \n",
    "    probabilities_valid = model2.predict_proba(features_valid)\n",
    "    probabilities_one_valid = probabilities_valid[:, 1]\n",
    "    result = f1_score(target_valid, predicted_valid)\n",
    "    print(\"est_ =\", est, \": \", end='')\n",
    "    print(result)\n",
    "    if result > best_result2_up:\n",
    "        best_model2_up = model2 \n",
    "        best_est = est\n",
    "        best_result2_up = result \n",
    "print(\"F1 наилучшей модели 'Случайный лес' на валидационной выборке:\", best_result2_up)\n",
    "print('Лучший n_estimators:', best_est)"
   ]
  },
  {
   "cell_type": "code",
   "execution_count": 37,
   "metadata": {
    "scrolled": true
   },
   "outputs": [
    {
     "name": "stdout",
     "output_type": "stream",
     "text": [
      "iter_ = 100 : 0.5041208791208791\n",
      "iter_ = 200 : 0.5041208791208791\n",
      "iter_ = 300 : 0.5041208791208791\n",
      "iter_ = 400 : 0.5041208791208791\n",
      "iter_ = 500 : 0.5041208791208791\n",
      "iter_ = 600 : 0.5041208791208791\n",
      "iter_ = 700 : 0.5041208791208791\n",
      "iter_ = 800 : 0.5041208791208791\n",
      "iter_ = 900 : 0.5041208791208791\n",
      "iter_ = 100 : 0.5037748798901853\n",
      "iter_ = 200 : 0.5037748798901853\n",
      "iter_ = 300 : 0.5037748798901853\n",
      "iter_ = 400 : 0.5037748798901853\n",
      "iter_ = 500 : 0.5037748798901853\n",
      "iter_ = 600 : 0.5037748798901853\n",
      "iter_ = 700 : 0.5037748798901853\n",
      "iter_ = 800 : 0.5037748798901853\n",
      "iter_ = 900 : 0.5037748798901853\n",
      "iter_ = 100 : 0.5048143053645117\n",
      "iter_ = 200 : 0.5048143053645117\n",
      "iter_ = 300 : 0.5048143053645117\n",
      "iter_ = 400 : 0.5048143053645117\n",
      "iter_ = 500 : 0.5048143053645117\n",
      "iter_ = 600 : 0.5048143053645117\n",
      "iter_ = 700 : 0.5048143053645117\n",
      "iter_ = 800 : 0.5048143053645117\n",
      "iter_ = 900 : 0.5048143053645117\n",
      "iter_ = 100 : 0.5048143053645117\n",
      "iter_ = 200 : 0.5048143053645117\n",
      "iter_ = 300 : 0.5048143053645117\n",
      "iter_ = 400 : 0.5048143053645117\n",
      "iter_ = 500 : 0.5048143053645117\n",
      "iter_ = 600 : 0.5048143053645117\n",
      "iter_ = 700 : 0.5048143053645117\n",
      "iter_ = 800 : 0.5048143053645117\n",
      "iter_ = 900 : 0.5048143053645117\n",
      "iter_ = 100 : 0.5048143053645117\n",
      "iter_ = 200 : 0.5048143053645117\n",
      "iter_ = 300 : 0.5048143053645117\n",
      "iter_ = 400 : 0.5048143053645117\n",
      "iter_ = 500 : 0.5048143053645117\n",
      "iter_ = 600 : 0.5048143053645117\n",
      "iter_ = 700 : 0.5048143053645117\n",
      "iter_ = 800 : 0.5048143053645117\n",
      "iter_ = 900 : 0.5048143053645117\n",
      "iter_ = 100 : 0.5044673539518901\n",
      "iter_ = 200 : 0.5044673539518901\n",
      "iter_ = 300 : 0.5044673539518901\n",
      "iter_ = 400 : 0.5044673539518901\n",
      "iter_ = 500 : 0.5044673539518901\n",
      "iter_ = 600 : 0.5044673539518901\n",
      "iter_ = 700 : 0.5044673539518901\n",
      "iter_ = 800 : 0.5044673539518901\n",
      "iter_ = 900 : 0.5044673539518901\n",
      "iter_ = 100 : 0.5044673539518901\n",
      "iter_ = 200 : 0.5044673539518901\n",
      "iter_ = 300 : 0.5044673539518901\n",
      "iter_ = 400 : 0.5044673539518901\n",
      "iter_ = 500 : 0.5044673539518901\n",
      "iter_ = 600 : 0.5044673539518901\n",
      "iter_ = 700 : 0.5044673539518901\n",
      "iter_ = 800 : 0.5044673539518901\n",
      "iter_ = 900 : 0.5044673539518901\n",
      "iter_ = 100 : 0.5037748798901853\n",
      "iter_ = 200 : 0.5037748798901853\n",
      "iter_ = 300 : 0.5037748798901853\n",
      "iter_ = 400 : 0.5037748798901853\n",
      "iter_ = 500 : 0.5037748798901853\n",
      "iter_ = 600 : 0.5037748798901853\n",
      "iter_ = 700 : 0.5037748798901853\n",
      "iter_ = 800 : 0.5037748798901853\n",
      "iter_ = 900 : 0.5037748798901853\n",
      "iter_ = 100 : 0.5037748798901853\n",
      "iter_ = 200 : 0.5037748798901853\n",
      "iter_ = 300 : 0.5037748798901853\n",
      "iter_ = 400 : 0.5037748798901853\n",
      "iter_ = 500 : 0.5037748798901853\n",
      "iter_ = 600 : 0.5037748798901853\n",
      "iter_ = 700 : 0.5037748798901853\n",
      "iter_ = 800 : 0.5037748798901853\n",
      "iter_ = 900 : 0.5037748798901853\n",
      "F1 наилучшей модели 'Логистической регрессии' на валидационной выборке: 0.5048143053645117\n",
      "Лучший С: 0.30000000000000004\n"
     ]
    }
   ],
   "source": [
    "# Логистическая регрессия, \n",
    "# пройдемся двойным циклом for, изменяя параметр solve одним, и max_iter вторым для поиска наилучшего \n",
    "\n",
    "best_model3_up = None\n",
    "best_result3_up = 0\n",
    "for C_parametr in np.arange(0.1, 1.0, 0.1):\n",
    "    for iter in range(100, 1000, 100):\n",
    "        model3 = LogisticRegression(random_state=12345, solver='newton-cg', max_iter=iter, C = C_parametr) \n",
    "        model3.fit(features_upsampled, target_upsampled)\n",
    "        predicted_valid = model3.predict(features_valid) \n",
    "        probabilities_valid = model3.predict_proba(features_valid)\n",
    "        probabilities_one_valid = probabilities_valid[:, 1]\n",
    "        result = f1_score(target_valid, predicted_valid)\n",
    "        print(\"iter_ =\", iter, \": \", end='')\n",
    "        print(result)\n",
    "        if result > best_result3_up:\n",
    "            best_model3_up = model3\n",
    "            best_C = C_parametr\n",
    "            best_result3_up = result\n",
    "print(\"F1 наилучшей модели 'Логистической регрессии' на валидационной выборке:\", best_result3_up)\n",
    "print('Лучший С:', best_C)"
   ]
  },
  {
   "cell_type": "code",
   "execution_count": 38,
   "metadata": {},
   "outputs": [
    {
     "name": "stdout",
     "output_type": "stream",
     "text": [
      "F1 для модели Дерево решений :  0.5625\n",
      "AUC-ROC для модели Дерево решений :  0.8209812525717398\n",
      "\n",
      "F1 для модели Случайный лес :  0.60695468914647\n",
      "AUC-ROC для модели Случайный лес :  0.8481274773810241\n",
      "\n",
      "F1 для модели Логистическая регрессия :  0.5048143053645117\n",
      "AUC-ROC для модели Логистическая регрессия :  0.7825529223351841\n",
      "\n"
     ]
    }
   ],
   "source": [
    "models = [best_model1_up, \n",
    "          best_model2_up, \n",
    "          best_model3_up]\n",
    "\n",
    "models_name = ['Дерево решений',\n",
    "               'Случайный лес', \n",
    "               'Логистическая регрессия']\n",
    "\n",
    "for x in range(len(models)):\n",
    "  \n",
    "    predicted_valid = models[x].predict(features_valid) \n",
    "    probabilities_valid = models[x].predict_proba(features_valid)\n",
    "    probabilities_one_valid = probabilities_valid[:, 1]\n",
    "    print('F1 для модели', models_name[x], ': ', f1_score(target_valid, predicted_valid))\n",
    "    print('AUC-ROC для модели', models_name[x], ': ', roc_auc_score(target_valid, probabilities_one_valid))\n",
    "    print('')"
   ]
  },
  {
   "cell_type": "markdown",
   "metadata": {},
   "source": [
    "Лучшее значение F1 меры у  модели Случайного леса. При этом целевое значение было достигнуто\n",
    "\n",
    "Значения метрик остальных моделей показывают примерно те же значения, что и при использовании подхода \"взвешивание классов\""
   ]
  },
  {
   "cell_type": "markdown",
   "metadata": {},
   "source": [
    "#### Уменьшение выборки"
   ]
  },
  {
   "cell_type": "code",
   "execution_count": 39,
   "metadata": {},
   "outputs": [],
   "source": [
    "def downsample(features, target, fraction):\n",
    "    features_zeros = features[target == 0]\n",
    "    features_ones = features[target == 1]\n",
    "    target_zeros = target[target == 0]\n",
    "    target_ones = target[target == 1]\n",
    "\n",
    "    features_downsampled = pd.concat(\n",
    "        [features_zeros.sample(frac=fraction, random_state=12345)] + [features_ones])\n",
    "    target_downsampled = pd.concat(\n",
    "        [target_zeros.sample(frac=fraction, random_state=12345)] + [target_ones])\n",
    "    \n",
    "    features_downsampled, target_downsampled = shuffle(\n",
    "        features_downsampled, target_downsampled, random_state=12345)\n",
    "    \n",
    "    return features_downsampled, target_downsampled\n",
    "\n",
    "features_downsampled, target_downsampled = downsample(features_train, target_train, 0.25)"
   ]
  },
  {
   "cell_type": "code",
   "execution_count": 40,
   "metadata": {},
   "outputs": [
    {
     "data": {
      "text/plain": [
       "1    1019\n",
       "0     995\n",
       "Name: Exited, dtype: int64"
      ]
     },
     "execution_count": 40,
     "metadata": {},
     "output_type": "execute_result"
    }
   ],
   "source": [
    "# Оценим соотношение в тренировочной выборке\n",
    "target_downsampled.value_counts()"
   ]
  },
  {
   "cell_type": "code",
   "execution_count": 41,
   "metadata": {
    "scrolled": true
   },
   "outputs": [
    {
     "name": "stdout",
     "output_type": "stream",
     "text": [
      "max_depth = 1 : 0.48452929558920343\n",
      "max_depth = 2 : 0.5003232062055591\n",
      "max_depth = 3 : 0.5003232062055591\n",
      "max_depth = 4 : 0.5470208183776023\n",
      "max_depth = 5 : 0.5653450807635829\n",
      "max_depth = 6 : 0.5637491385251551\n",
      "max_depth = 7 : 0.5521835677276092\n",
      "max_depth = 8 : 0.5294985250737464\n",
      "max_depth = 9 : 0.5262357414448668\n",
      "max_depth = 10 : 0.5018181818181818\n",
      "max_depth = 11 : 0.49339819318971506\n",
      "max_depth = 12 : 0.47885304659498207\n",
      "max_depth = 13 : 0.47124824684431976\n",
      "max_depth = 14 : 0.4727021423635107\n",
      "max_depth = 15 : 0.4649243466299863\n",
      "max_depth = 16 : 0.4625668449197861\n",
      "max_depth = 17 : 0.46898432174505794\n",
      "max_depth = 18 : 0.46435845213849286\n",
      "max_depth = 19 : 0.46435845213849286\n",
      "max_depth = 20 : 0.46435845213849286\n",
      "max_depth = 21 : 0.46435845213849286\n",
      "max_depth = 22 : 0.46435845213849286\n",
      "max_depth = 23 : 0.46435845213849286\n",
      "max_depth = 24 : 0.46435845213849286\n",
      "max_depth = 25 : 0.46435845213849286\n",
      "max_depth = 26 : 0.46435845213849286\n",
      "max_depth = 27 : 0.46435845213849286\n",
      "max_depth = 28 : 0.46435845213849286\n",
      "max_depth = 29 : 0.46435845213849286\n",
      "max_depth = 30 : 0.46435845213849286\n",
      "max_depth = 31 : 0.46435845213849286\n",
      "max_depth = 32 : 0.46435845213849286\n",
      "max_depth = 33 : 0.46435845213849286\n",
      "max_depth = 34 : 0.46435845213849286\n",
      "max_depth = 35 : 0.46435845213849286\n",
      "max_depth = 36 : 0.46435845213849286\n",
      "max_depth = 37 : 0.46435845213849286\n",
      "max_depth = 38 : 0.46435845213849286\n",
      "max_depth = 39 : 0.46435845213849286\n",
      "max_depth = 40 : 0.46435845213849286\n",
      "max_depth = 41 : 0.46435845213849286\n",
      "max_depth = 42 : 0.46435845213849286\n",
      "max_depth = 43 : 0.46435845213849286\n",
      "max_depth = 44 : 0.46435845213849286\n",
      "max_depth = 45 : 0.46435845213849286\n",
      "max_depth = 46 : 0.46435845213849286\n",
      "max_depth = 47 : 0.46435845213849286\n",
      "max_depth = 48 : 0.46435845213849286\n",
      "max_depth = 49 : 0.46435845213849286\n",
      "F1 наилучшей модели 'Дерево решений' на валидационной выборке: 0.5653450807635829\n",
      "Лучший max_depth: 5\n"
     ]
    }
   ],
   "source": [
    "# Дерево решений, \n",
    "# пройдемся циклом for, изменяя параметр depth от 1 до 49 с целью найти наибольшую точность такой модели\n",
    "best_model1_down = None\n",
    "best_result1_down = 0\n",
    "for depth in range(1,50):\n",
    "    model1 = DecisionTreeClassifier(random_state=12345, max_depth=depth) \n",
    "    model1.fit(features_downsampled, target_downsampled) \n",
    "    predicted_valid = model1.predict(features_valid) \n",
    "    probabilities_valid = model1.predict_proba(features_valid)\n",
    "    probabilities_one_valid = probabilities_valid[:, 1]\n",
    "    result = f1_score(target_valid, predicted_valid)\n",
    "    print(\"max_depth =\", depth, \": \", end='')\n",
    "    print(result) \n",
    "    if result > best_result1_down:\n",
    "        best_model1_down = model1 \n",
    "        best_depth = depth\n",
    "        best_result1_down = result \n",
    "print(\"F1 наилучшей модели 'Дерево решений' на валидационной выборке:\", best_result1_down)\n",
    "print('Лучший max_depth:', best_depth)"
   ]
  },
  {
   "cell_type": "code",
   "execution_count": 42,
   "metadata": {
    "scrolled": true
   },
   "outputs": [
    {
     "name": "stdout",
     "output_type": "stream",
     "text": [
      "est_ = 1 : 0.47426710097719865\n",
      "est_ = 2 : 0.48405253283302063\n",
      "est_ = 3 : 0.5034770514603616\n",
      "est_ = 4 : 0.5306465155331654\n",
      "est_ = 5 : 0.5145631067961165\n",
      "est_ = 6 : 0.5408406026962728\n",
      "est_ = 7 : 0.5267605633802818\n",
      "est_ = 8 : 0.5559055118110235\n",
      "est_ = 9 : 0.5437454808387563\n",
      "est_ = 10 : 0.5700934579439252\n",
      "est_ = 11 : 0.5493562231759656\n",
      "est_ = 12 : 0.5747303543913714\n",
      "est_ = 13 : 0.5505376344086022\n",
      "est_ = 14 : 0.5658389766741911\n",
      "est_ = 15 : 0.5564229950319375\n",
      "est_ = 16 : 0.5665171898355755\n",
      "est_ = 17 : 0.5565836298932384\n",
      "est_ = 18 : 0.5731432858214555\n",
      "est_ = 19 : 0.5663082437275985\n",
      "est_ = 20 : 0.5784753363228698\n",
      "est_ = 21 : 0.5677233429394812\n",
      "est_ = 22 : 0.5742128935532234\n",
      "est_ = 23 : 0.5640287769784172\n",
      "est_ = 24 : 0.5710037174721189\n",
      "est_ = 25 : 0.563400576368876\n",
      "est_ = 26 : 0.5739776951672864\n",
      "est_ = 27 : 0.5666906993511175\n",
      "est_ = 28 : 0.572068707991038\n",
      "est_ = 29 : 0.5636232925952551\n",
      "est_ = 30 : 0.5771513353115727\n",
      "est_ = 31 : 0.5666666666666667\n",
      "est_ = 32 : 0.5731254639940608\n",
      "est_ = 33 : 0.5677045619116582\n",
      "est_ = 34 : 0.5722757598220904\n",
      "est_ = 35 : 0.5662563359884142\n",
      "est_ = 36 : 0.5693215339233039\n",
      "est_ = 37 : 0.5666666666666667\n",
      "est_ = 38 : 0.5699404761904763\n",
      "est_ = 39 : 0.5660377358490566\n",
      "est_ = 40 : 0.5776444111027756\n",
      "est_ = 41 : 0.5716385011021308\n",
      "est_ = 42 : 0.5774436090225563\n",
      "est_ = 43 : 0.5720588235294117\n",
      "est_ = 44 : 0.5765765765765766\n",
      "est_ = 45 : 0.5720620842572062\n",
      "est_ = 46 : 0.5787490580256216\n",
      "est_ = 47 : 0.5746102449888641\n",
      "est_ = 48 : 0.5822021116138764\n",
      "est_ = 49 : 0.5788690476190476\n",
      "est_ = 50 : 0.5822592873388932\n",
      "est_ = 51 : 0.5771812080536913\n",
      "est_ = 52 : 0.5863636363636364\n",
      "est_ = 53 : 0.5814648729446935\n",
      "est_ = 54 : 0.5863636363636364\n",
      "est_ = 55 : 0.5816554809843401\n",
      "est_ = 56 : 0.5871698113207547\n",
      "est_ = 57 : 0.5826538176426983\n",
      "est_ = 58 : 0.585843373493976\n",
      "est_ = 59 : 0.585003711952487\n",
      "est_ = 60 : 0.5927601809954752\n",
      "est_ = 61 : 0.5891126025354213\n",
      "est_ = 62 : 0.5895691609977325\n",
      "est_ = 63 : 0.5869242199108469\n",
      "est_ = 64 : 0.5901886792452831\n",
      "est_ = 65 : 0.5850746268656716\n",
      "est_ = 66 : 0.5886792452830188\n",
      "est_ = 67 : 0.5842026825633383\n",
      "est_ = 68 : 0.588855421686747\n",
      "est_ = 69 : 0.5874439461883408\n",
      "est_ = 70 : 0.5891238670694865\n",
      "est_ = 71 : 0.5868263473053893\n",
      "est_ = 72 : 0.5885022692889562\n",
      "est_ = 73 : 0.5857677902621723\n",
      "est_ = 74 : 0.5876993166287016\n",
      "est_ = 75 : 0.589299171062547\n",
      "est_ = 76 : 0.5898407884761182\n",
      "est_ = 77 : 0.5853293413173651\n",
      "est_ = 78 : 0.5885022692889562\n",
      "est_ = 79 : 0.5871833084947838\n",
      "est_ = 80 : 0.5899172310007526\n",
      "est_ = 81 : 0.5865671641791045\n",
      "est_ = 82 : 0.5864661654135338\n",
      "est_ = 83 : 0.5842026825633383\n",
      "est_ = 84 : 0.5871698113207547\n",
      "est_ = 85 : 0.5848214285714286\n",
      "est_ = 86 : 0.5866466616654163\n",
      "est_ = 87 : 0.5822222222222222\n",
      "est_ = 88 : 0.585146286571643\n",
      "est_ = 89 : 0.5845697329376855\n",
      "est_ = 90 : 0.5870870870870871\n",
      "est_ = 91 : 0.5827123695976154\n",
      "est_ = 92 : 0.588855421686747\n",
      "est_ = 93 : 0.5852568875651526\n",
      "est_ = 94 : 0.5871698113207547\n",
      "est_ = 95 : 0.5835820895522387\n",
      "est_ = 96 : 0.5852187028657617\n",
      "est_ = 97 : 0.5823353293413174\n",
      "est_ = 98 : 0.586284853051997\n",
      "est_ = 99 : 0.582089552238806\n",
      "F1 наилучшей модели 'Случайный лес' на валидационной выборке: 0.5927601809954752\n",
      "Лучший n_estimators: 60\n"
     ]
    }
   ],
   "source": [
    "# Случайный лес, \n",
    "# пройдемся циклом for, изменяя параметр est от 1 до 49 с целью найти наибольшую точность такой модели\n",
    "\n",
    "best_model2_down = None\n",
    "best_result2_down = 0\n",
    "for est in range(1, 100):\n",
    "    model2 = RandomForestClassifier(random_state=12345, n_estimators=est) \n",
    "    model2.fit(features_downsampled, target_downsampled) \n",
    "    predicted_valid = model2.predict(features_valid) \n",
    "    probabilities_valid = model2.predict_proba(features_valid)\n",
    "    probabilities_one_valid = probabilities_valid[:, 1]\n",
    "    result = f1_score(target_valid, predicted_valid)\n",
    "    print(\"est_ =\", est, \": \", end='')\n",
    "    print(result)\n",
    "    if result > best_result2_down:\n",
    "        best_model2_down = model2 \n",
    "        best_est = est\n",
    "        best_result2_down = result \n",
    "print(\"F1 наилучшей модели 'Случайный лес' на валидационной выборке:\", best_result2_down)\n",
    "print('Лучший n_estimators:', best_est)"
   ]
  },
  {
   "cell_type": "code",
   "execution_count": 43,
   "metadata": {
    "scrolled": true
   },
   "outputs": [
    {
     "name": "stdout",
     "output_type": "stream",
     "text": [
      "iter_ = 100 : 0.5059565522074282\n",
      "iter_ = 200 : 0.5059565522074282\n",
      "iter_ = 300 : 0.5059565522074282\n",
      "iter_ = 400 : 0.5059565522074282\n",
      "iter_ = 500 : 0.5059565522074282\n",
      "iter_ = 600 : 0.5059565522074282\n",
      "iter_ = 700 : 0.5059565522074282\n",
      "iter_ = 800 : 0.5059565522074282\n",
      "iter_ = 900 : 0.5059565522074282\n",
      "iter_ = 100 : 0.5070224719101123\n",
      "iter_ = 200 : 0.5070224719101123\n",
      "iter_ = 300 : 0.5070224719101123\n",
      "iter_ = 400 : 0.5070224719101123\n",
      "iter_ = 500 : 0.5070224719101123\n",
      "iter_ = 600 : 0.5070224719101123\n",
      "iter_ = 700 : 0.5070224719101123\n",
      "iter_ = 800 : 0.5070224719101123\n",
      "iter_ = 900 : 0.5070224719101123\n",
      "iter_ = 100 : 0.5073580939032937\n",
      "iter_ = 200 : 0.5073580939032937\n",
      "iter_ = 300 : 0.5073580939032937\n",
      "iter_ = 400 : 0.5073580939032937\n",
      "iter_ = 500 : 0.5073580939032937\n",
      "iter_ = 600 : 0.5073580939032937\n",
      "iter_ = 700 : 0.5073580939032937\n",
      "iter_ = 800 : 0.5073580939032937\n",
      "iter_ = 900 : 0.5073580939032937\n",
      "iter_ = 100 : 0.5070028011204483\n",
      "iter_ = 200 : 0.5070028011204483\n",
      "iter_ = 300 : 0.5070028011204483\n",
      "iter_ = 400 : 0.5070028011204483\n",
      "iter_ = 500 : 0.5070028011204483\n",
      "iter_ = 600 : 0.5070028011204483\n",
      "iter_ = 700 : 0.5070028011204483\n",
      "iter_ = 800 : 0.5070028011204483\n",
      "iter_ = 900 : 0.5070028011204483\n",
      "iter_ = 100 : 0.5080475857242827\n",
      "iter_ = 200 : 0.5080475857242827\n",
      "iter_ = 300 : 0.5080475857242827\n",
      "iter_ = 400 : 0.5080475857242827\n",
      "iter_ = 500 : 0.5080475857242827\n",
      "iter_ = 600 : 0.5080475857242827\n",
      "iter_ = 700 : 0.5080475857242827\n",
      "iter_ = 800 : 0.5080475857242827\n",
      "iter_ = 900 : 0.5080475857242827\n",
      "iter_ = 100 : 0.5076923076923078\n",
      "iter_ = 200 : 0.5076923076923078\n",
      "iter_ = 300 : 0.5076923076923078\n",
      "iter_ = 400 : 0.5076923076923078\n",
      "iter_ = 500 : 0.5076923076923078\n",
      "iter_ = 600 : 0.5076923076923078\n",
      "iter_ = 700 : 0.5076923076923078\n",
      "iter_ = 800 : 0.5076923076923078\n",
      "iter_ = 900 : 0.5076923076923078\n",
      "iter_ = 100 : 0.5066480055983205\n",
      "iter_ = 200 : 0.5066480055983205\n",
      "iter_ = 300 : 0.5066480055983205\n",
      "iter_ = 400 : 0.5066480055983205\n",
      "iter_ = 500 : 0.5066480055983205\n",
      "iter_ = 600 : 0.5066480055983205\n",
      "iter_ = 700 : 0.5066480055983205\n",
      "iter_ = 800 : 0.5066480055983205\n",
      "iter_ = 900 : 0.5066480055983205\n",
      "iter_ = 100 : 0.5066480055983205\n",
      "iter_ = 200 : 0.5066480055983205\n",
      "iter_ = 300 : 0.5066480055983205\n",
      "iter_ = 400 : 0.5066480055983205\n",
      "iter_ = 500 : 0.5066480055983205\n",
      "iter_ = 600 : 0.5066480055983205\n",
      "iter_ = 700 : 0.5066480055983205\n",
      "iter_ = 800 : 0.5066480055983205\n",
      "iter_ = 900 : 0.5066480055983205\n",
      "iter_ = 100 : 0.5066480055983205\n",
      "iter_ = 200 : 0.5066480055983205\n",
      "iter_ = 300 : 0.5066480055983205\n",
      "iter_ = 400 : 0.5066480055983205\n",
      "iter_ = 500 : 0.5066480055983205\n",
      "iter_ = 600 : 0.5066480055983205\n",
      "iter_ = 700 : 0.5066480055983205\n",
      "iter_ = 800 : 0.5066480055983205\n",
      "iter_ = 900 : 0.5066480055983205\n",
      "F1 наилучшей модели 'Логистической регрессии' на валидационной выборке: 0.5080475857242827\n",
      "Лучший С: 0.5\n"
     ]
    }
   ],
   "source": [
    "# Логистическая регрессия, \n",
    "# пройдемся двойным циклом for, изменяя параметр solve одним, и max_iter вторым для поиска наилучшего \n",
    "\n",
    "best_model3_down = None\n",
    "best_result3_down = 0\n",
    "for C_parametr in np.arange(0.1, 1.0, 0.1):\n",
    "    for iter in range(100, 1000, 100):\n",
    "        model3 = LogisticRegression(random_state=12345, solver='newton-cg', max_iter=iter, C = C_parametr) \n",
    "        model3.fit(features_downsampled, target_downsampled)\n",
    "        predicted_valid = model3.predict(features_valid) \n",
    "        probabilities_valid = model3.predict_proba(features_valid)\n",
    "        probabilities_one_valid = probabilities_valid[:, 1]\n",
    "        result = f1_score(target_valid, predicted_valid)\n",
    "        print(\"iter_ =\", iter, \": \", end='')\n",
    "        print(result)\n",
    "        if result > best_result3_down:\n",
    "            best_model3_down = model3\n",
    "            best_C = C_parametr\n",
    "            best_result3_down = result\n",
    "print(\"F1 наилучшей модели 'Логистической регрессии' на валидационной выборке:\", best_result3_down)\n",
    "print('Лучший С:', best_C)"
   ]
  },
  {
   "cell_type": "code",
   "execution_count": 44,
   "metadata": {},
   "outputs": [
    {
     "name": "stdout",
     "output_type": "stream",
     "text": [
      "F1 для модели Дерево решений :  0.5653450807635829\n",
      "AUC-ROC для модели Дерево решений :  0.8320645261239427\n",
      "\n",
      "F1 для модели Случайный лес :  0.5927601809954752\n",
      "AUC-ROC для модели Случайный лес :  0.8491596269657467\n",
      "\n",
      "F1 для модели Логистическая регрессия :  0.5080475857242827\n",
      "AUC-ROC для модели Логистическая регрессия :  0.780440271990164\n",
      "\n"
     ]
    }
   ],
   "source": [
    "models = [best_model1_down, \n",
    "          best_model2_down, \n",
    "          best_model3_down]\n",
    "\n",
    "models_name = ['Дерево решений',\n",
    "               'Случайный лес', \n",
    "               'Логистическая регрессия']\n",
    "\n",
    "for x in range(len(models)):\n",
    "    \n",
    "    predicted_valid = models[x].predict(features_valid) \n",
    "    probabilities_valid = models[x].predict_proba(features_valid)\n",
    "    probabilities_one_valid = probabilities_valid[:, 1]\n",
    "    print('F1 для модели', models_name[x], ': ', f1_score(target_valid, predicted_valid))\n",
    "    print('AUC-ROC для модели', models_name[x], ': ', roc_auc_score(target_valid, probabilities_one_valid))\n",
    "    print('')"
   ]
  },
  {
   "attachments": {},
   "cell_type": "markdown",
   "metadata": {},
   "source": [
    "Модель Логистической регрессии показали лучшие результаты, чем ранее. "
   ]
  },
  {
   "cell_type": "markdown",
   "metadata": {},
   "source": [
    "### Определение лучшей модели"
   ]
  },
  {
   "cell_type": "code",
   "execution_count": 45,
   "metadata": {},
   "outputs": [
    {
     "name": "stdout",
     "output_type": "stream",
     "text": [
      "F1 для модели Случайный лес с взвешенным классом :  0.5958986731001207\n",
      "AUC-ROC для модели Случайный лес с взвешенным классом :  0.8492533690408409\n",
      "\n",
      "F1 для модели Случайный лес с увеличенной выборкой :  0.60695468914647\n",
      "AUC-ROC для модели Случайный лес с увеличенной выборкой :  0.8481274773810241\n",
      "\n",
      "F1 для модели Случайный лес с уменьшенной выборкой :  0.5927601809954752\n",
      "AUC-ROC для модели Случайный лес с уменьшенной выборкой :  0.8491596269657467\n",
      "\n"
     ]
    }
   ],
   "source": [
    "models = [best_model1_cwb, \n",
    "          best_model2_cwb, \n",
    "          best_model3_cwb,\n",
    "          best_model1_up, \n",
    "          best_model2_up, \n",
    "          best_model3_up,\n",
    "          best_model1_down, \n",
    "          best_model2_down, \n",
    "          best_model3_down]\n",
    "\n",
    "models_name = ['Дерево решений с взвешенным классом',\n",
    "               'Случайный лес с взвешенным классом', \n",
    "               'Логистическая регрессия с взвешенным классом',\n",
    "               'Дерево решений с увеличенной выборкой',\n",
    "               'Случайный лес с увеличенной выборкой', \n",
    "               'Логистическая регрессия с увеличенной выборкой',\n",
    "               'Дерево решений с уменьшенной выборкой',\n",
    "               'Случайный лес с уменьшенной выборкой', \n",
    "               'Логистическая регрессия с уменьшенной выборкой']\n",
    "\n",
    "result = [best_result1_cwb,\n",
    "          best_result2_cwb,\n",
    "          best_result3_cwb,\n",
    "          best_result1_up,\n",
    "          best_result2_up,\n",
    "          best_result3_up,\n",
    "          best_result1_down,\n",
    "          best_result2_down,\n",
    "          best_result3_down]\n",
    "\n",
    "best_result = 0\n",
    "\n",
    "for x in range(len(models)):\n",
    "    if result[x] >= 0.59:\n",
    "        \n",
    "        predicted_valid = models[x].predict(features_valid) \n",
    "        probabilities_valid = models[x].predict_proba(features_valid)\n",
    "        probabilities_one_valid = probabilities_valid[:, 1]\n",
    "        print('F1 для модели', models_name[x], ': ', f1_score(target_valid, predicted_valid))\n",
    "        print('AUC-ROC для модели', models_name[x], ': ', roc_auc_score(target_valid, probabilities_one_valid))\n",
    "        print('')\n",
    "    \n",
    "        if result[x] >= best_result:\n",
    "            best_result = result[x]\n",
    "            best_model_name = models_name[x]\n",
    "            best_model = models[x]\n",
    "    else:\n",
    "        continue\n",
    "    \n",
    "        "
   ]
  },
  {
   "cell_type": "code",
   "execution_count": 46,
   "metadata": {},
   "outputs": [
    {
     "name": "stdout",
     "output_type": "stream",
     "text": [
      "Среди подходящих моделей лучшие показатели метрки F1 у модели: Случайный лес с увеличенной выборкой\n"
     ]
    }
   ],
   "source": [
    "print('Среди подходящих моделей лучшие показатели метрки F1 у модели:',  best_model_name)"
   ]
  },
  {
   "cell_type": "code",
   "execution_count": 47,
   "metadata": {},
   "outputs": [
    {
     "data": {
      "image/png": "[encoded data removed]",
      "text/plain": [
       "<Figure size 640x480 with 1 Axes>"
      ]
     },
     "metadata": {},
     "output_type": "display_data"
    }
   ],
   "source": [
    "fpr, tpr, thresholds = roc_curve(target_valid, best_model.predict_proba(features_valid)[:, 1]) \n",
    "plt.figure()\n",
    "\n",
    "plt.plot(fpr,tpr)\n",
    "\n",
    "plt.plot([0, 1], [0, 1], linestyle='--')\n",
    "\n",
    "plt.xlim([0,1])\n",
    "plt.ylim([0,1])\n",
    "plt.xlabel(\"False Positive Rate\")\n",
    "plt.ylabel(\"True Positive Rate\")\n",
    "\n",
    "plt.title(\"ROC-кривая\")\n",
    "\n",
    "plt.show()"
   ]
  },
  {
   "cell_type": "markdown",
   "metadata": {},
   "source": [
    "Наилучшие показатели были достигнуты у модели Случайного леса - F1 мера достигает значения 0,606 на валидационной метрике, а AUC-ROC - 0,85. \n",
    "\n",
    "Также представлена ROC-кривая, отражающая отличия предсказания модели в отличии от случайной модели, то есть насколько качество нашей модели лучше модели, предсказывающей значения 50/50"
   ]
  },
  {
   "cell_type": "markdown",
   "metadata": {},
   "source": [
    "## Тестирование модели"
   ]
  },
  {
   "cell_type": "code",
   "execution_count": 48,
   "metadata": {},
   "outputs": [
    {
     "name": "stdout",
     "output_type": "stream",
     "text": [
      "F1 для модели Случайный лес с увеличенной выборкой :  0.6004319654427647\n",
      "AUC-ROC для модели Случайный лес с увеличенной выборкой :  0.8447216797790451\n"
     ]
    }
   ],
   "source": [
    "predicted_test = best_model.predict(features_test) \n",
    "probabilities_test = best_model.predict_proba(features_test)\n",
    "probabilities_one_test = probabilities_test[:, 1]\n",
    "print('F1 для модели', best_model_name, ': ', f1_score(target_test, predicted_test))\n",
    "print('AUC-ROC для модели', best_model_name, ': ', roc_auc_score(target_test, probabilities_one_test))"
   ]
  },
  {
   "cell_type": "markdown",
   "metadata": {},
   "source": [
    "Наша модель на тестовой выборке показала F1 меру 0,6, AUC-ROC - 0,845. \n",
    "\n",
    "Цель достигнута"
   ]
  },
  {
   "cell_type": "code",
   "execution_count": 49,
   "metadata": {},
   "outputs": [
    {
     "name": "stdout",
     "output_type": "stream",
     "text": [
      "f1 наивной модели 0.0\n",
      "f1 лучшей модели 0.6004319654427647\n"
     ]
    }
   ],
   "source": [
    "# импортируем DummyClassifier\n",
    "from sklearn.dummy import DummyClassifier\n",
    "# создаем наивную модель\n",
    "dummy_model = DummyClassifier(strategy = 'most_frequent', random_state=12345)\n",
    "# обучение наивной модели произведем по всей выборке\n",
    "dummy_model.fit(features_train, target_train)\n",
    "dummy_predict = dummy_model.predict(features_test)\n",
    "# оценим accuracy нашей наивной модели по тестовой выборке и сравним с лучшей нашей моделью\n",
    "dummy_result1 = f1_score(target_test, dummy_predict)\n",
    "print('f1 наивной модели', dummy_result1)\n",
    "print('f1 лучшей модели', f1_score(target_test, best_model.predict(features_test)))"
   ]
  },
  {
   "attachments": {},
   "cell_type": "markdown",
   "metadata": {},
   "source": [
    "результаты f1-меры для наивной модели показывает значние 0, то есть об адекватности такой модели нечего говорить)\n",
    "\n",
    "Ниже вывел основные показатели модели dummy и нашей лучшей модели. По результатам таблицы видно, как наша модель превосходит dummy"
   ]
  },
  {
   "cell_type": "code",
   "execution_count": 50,
   "metadata": {},
   "outputs": [
    {
     "name": "stdout",
     "output_type": "stream",
     "text": [
      "              precision    recall  f1-score   support\n",
      "\n",
      "           0       0.80      1.00      0.89      1991\n",
      "           1       0.00      0.00      0.00       509\n",
      "\n",
      "    accuracy                           0.80      2500\n",
      "   macro avg       0.40      0.50      0.44      2500\n",
      "weighted avg       0.63      0.80      0.71      2500\n",
      "\n",
      "________________________________________________\n",
      "\n",
      "              precision    recall  f1-score   support\n",
      "\n",
      "           0       0.89      0.93      0.91      1991\n",
      "           1       0.67      0.55      0.60       509\n",
      "\n",
      "    accuracy                           0.85      2500\n",
      "   macro avg       0.78      0.74      0.75      2500\n",
      "weighted avg       0.84      0.85      0.85      2500\n",
      "\n"
     ]
    }
   ],
   "source": [
    "from sklearn.metrics import classification_report\n",
    "print(classification_report(target_test, dummy_predict))\n",
    "print('________________________________________________')\n",
    "print('')\n",
    "print(classification_report(target_test, best_model.predict(features_test)))"
   ]
  }
 ],
 "metadata": {
  "ExecuteTimeLog": [
   {
    "duration": 380,
    "start_time": "2022-03-24T13:23:23.915Z"
   },
   {
    "duration": 30,
    "start_time": "2022-03-24T13:24:00.534Z"
   },
   {
    "duration": 27,
    "start_time": "2022-03-24T13:25:23.045Z"
   },
   {
    "duration": 35,
    "start_time": "2022-03-24T13:25:59.485Z"
   },
   {
    "duration": 453,
    "start_time": "2022-03-25T11:07:53.182Z"
   },
   {
    "duration": 113,
    "start_time": "2022-03-25T11:07:53.637Z"
   },
   {
    "duration": 55,
    "start_time": "2022-03-25T11:08:16.629Z"
   },
   {
    "duration": 13,
    "start_time": "2022-03-25T11:09:28.605Z"
   },
   {
    "duration": 12,
    "start_time": "2022-03-25T11:09:33.509Z"
   },
   {
    "duration": 53,
    "start_time": "2022-03-25T11:11:24.888Z"
   },
   {
    "duration": 61,
    "start_time": "2022-03-25T11:12:51.312Z"
   },
   {
    "duration": 33,
    "start_time": "2022-03-25T11:16:57.205Z"
   },
   {
    "duration": 7,
    "start_time": "2022-03-25T11:17:22.774Z"
   },
   {
    "duration": 31,
    "start_time": "2022-03-25T11:17:33.773Z"
   },
   {
    "duration": 5,
    "start_time": "2022-03-25T11:17:52.557Z"
   },
   {
    "duration": 17,
    "start_time": "2022-03-25T11:18:50.190Z"
   },
   {
    "duration": 25,
    "start_time": "2022-03-25T11:18:59.894Z"
   },
   {
    "duration": 24,
    "start_time": "2022-03-25T11:20:39.982Z"
   },
   {
    "duration": 2,
    "start_time": "2022-03-25T11:26:41.233Z"
   },
   {
    "duration": 17,
    "start_time": "2022-03-25T11:37:16.922Z"
   },
   {
    "duration": 14,
    "start_time": "2022-03-25T11:37:31.547Z"
   },
   {
    "duration": 9,
    "start_time": "2022-03-25T11:38:01.733Z"
   },
   {
    "duration": 8,
    "start_time": "2022-03-25T11:38:12.239Z"
   },
   {
    "duration": 13,
    "start_time": "2022-03-25T11:38:20.366Z"
   },
   {
    "duration": 14,
    "start_time": "2022-03-25T11:38:32.281Z"
   },
   {
    "duration": 16,
    "start_time": "2022-03-25T11:38:58.356Z"
   },
   {
    "duration": 5,
    "start_time": "2022-03-25T11:41:05.571Z"
   },
   {
    "duration": 14,
    "start_time": "2022-03-25T11:41:15.082Z"
   },
   {
    "duration": 12,
    "start_time": "2022-03-25T11:41:18.340Z"
   },
   {
    "duration": 3,
    "start_time": "2022-03-25T11:41:21.790Z"
   },
   {
    "duration": 62,
    "start_time": "2022-03-25T11:41:21.803Z"
   },
   {
    "duration": 20,
    "start_time": "2022-03-25T11:41:21.868Z"
   },
   {
    "duration": 14,
    "start_time": "2022-03-25T11:41:21.890Z"
   },
   {
    "duration": 12,
    "start_time": "2022-03-25T11:41:30.274Z"
   },
   {
    "duration": 3,
    "start_time": "2022-03-25T11:41:45.166Z"
   },
   {
    "duration": 81,
    "start_time": "2022-03-25T11:41:45.172Z"
   },
   {
    "duration": 19,
    "start_time": "2022-03-25T11:41:45.256Z"
   },
   {
    "duration": 42,
    "start_time": "2022-03-25T11:41:45.278Z"
   },
   {
    "duration": 200,
    "start_time": "2022-03-25T12:08:12.128Z"
   },
   {
    "duration": 129,
    "start_time": "2022-03-25T12:08:20.445Z"
   },
   {
    "duration": 4,
    "start_time": "2022-03-25T12:08:37.320Z"
   },
   {
    "duration": 5,
    "start_time": "2022-03-25T12:08:51.974Z"
   },
   {
    "duration": 28,
    "start_time": "2022-03-25T13:18:44.882Z"
   },
   {
    "duration": 19,
    "start_time": "2022-03-25T13:18:51.923Z"
   },
   {
    "duration": 8,
    "start_time": "2022-03-25T13:20:32.292Z"
   },
   {
    "duration": 24,
    "start_time": "2022-03-25T13:25:39.507Z"
   },
   {
    "duration": 10,
    "start_time": "2022-03-25T13:26:03.581Z"
   },
   {
    "duration": 3,
    "start_time": "2022-03-25T13:44:00.447Z"
   },
   {
    "duration": 516,
    "start_time": "2022-03-25T13:44:00.454Z"
   },
   {
    "duration": 827,
    "start_time": "2022-03-25T13:44:00.972Z"
   },
   {
    "duration": 365,
    "start_time": "2022-03-25T13:44:01.801Z"
   },
   {
    "duration": 740,
    "start_time": "2022-03-25T13:44:02.169Z"
   },
   {
    "duration": 419,
    "start_time": "2022-03-29T07:40:02.944Z"
   },
   {
    "duration": 59,
    "start_time": "2022-03-29T07:40:03.365Z"
   },
   {
    "duration": 17,
    "start_time": "2022-03-29T07:40:03.426Z"
   },
   {
    "duration": 5,
    "start_time": "2022-03-29T07:40:03.445Z"
   },
   {
    "duration": 8,
    "start_time": "2022-03-29T07:40:03.463Z"
   },
   {
    "duration": 8,
    "start_time": "2022-03-29T08:00:55.482Z"
   },
   {
    "duration": 2,
    "start_time": "2022-03-29T08:00:58.815Z"
   },
   {
    "duration": 53,
    "start_time": "2022-03-29T08:00:58.821Z"
   },
   {
    "duration": 17,
    "start_time": "2022-03-29T08:00:58.875Z"
   },
   {
    "duration": 4,
    "start_time": "2022-03-29T08:00:58.893Z"
   },
   {
    "duration": 9,
    "start_time": "2022-03-29T08:00:58.899Z"
   },
   {
    "duration": 48,
    "start_time": "2022-03-29T08:35:24.600Z"
   },
   {
    "duration": 411,
    "start_time": "2022-03-29T08:35:31.505Z"
   },
   {
    "duration": 55,
    "start_time": "2022-03-29T08:35:31.918Z"
   },
   {
    "duration": 17,
    "start_time": "2022-03-29T08:35:31.975Z"
   },
   {
    "duration": 16,
    "start_time": "2022-03-29T08:35:31.994Z"
   },
   {
    "duration": 23,
    "start_time": "2022-03-29T08:35:32.011Z"
   },
   {
    "duration": 33,
    "start_time": "2022-03-29T08:35:32.036Z"
   },
   {
    "duration": 26,
    "start_time": "2022-03-29T08:40:15.799Z"
   },
   {
    "duration": 27,
    "start_time": "2022-03-29T08:40:31.287Z"
   },
   {
    "duration": 24,
    "start_time": "2022-03-29T08:40:38.815Z"
   },
   {
    "duration": 26,
    "start_time": "2022-03-29T08:42:43.919Z"
   },
   {
    "duration": 20,
    "start_time": "2022-03-29T08:42:52.022Z"
   },
   {
    "duration": 417,
    "start_time": "2022-03-29T12:11:01.494Z"
   },
   {
    "duration": 59,
    "start_time": "2022-03-29T12:11:01.913Z"
   },
   {
    "duration": 18,
    "start_time": "2022-03-29T12:11:01.974Z"
   },
   {
    "duration": 16,
    "start_time": "2022-03-29T12:11:01.993Z"
   },
   {
    "duration": 20,
    "start_time": "2022-03-29T12:11:02.010Z"
   },
   {
    "duration": 23,
    "start_time": "2022-03-29T12:11:02.031Z"
   },
   {
    "duration": 6,
    "start_time": "2022-03-29T12:25:48.577Z"
   },
   {
    "duration": 699,
    "start_time": "2022-03-29T12:29:25.615Z"
   },
   {
    "duration": 10,
    "start_time": "2022-03-29T12:29:29.739Z"
   },
   {
    "duration": 4,
    "start_time": "2022-03-29T12:30:05.986Z"
   },
   {
    "duration": 4,
    "start_time": "2022-03-29T12:30:29.637Z"
   },
   {
    "duration": 4,
    "start_time": "2022-03-29T12:30:45.763Z"
   },
   {
    "duration": 3,
    "start_time": "2022-03-29T12:44:34.049Z"
   },
   {
    "duration": 58,
    "start_time": "2022-03-29T12:44:34.054Z"
   },
   {
    "duration": 18,
    "start_time": "2022-03-29T12:44:34.114Z"
   },
   {
    "duration": 6,
    "start_time": "2022-03-29T12:44:34.134Z"
   },
   {
    "duration": 9,
    "start_time": "2022-03-29T12:44:34.142Z"
   },
   {
    "duration": 18,
    "start_time": "2022-03-29T12:44:34.152Z"
   },
   {
    "duration": 5,
    "start_time": "2022-03-29T12:44:34.172Z"
   },
   {
    "duration": 9,
    "start_time": "2022-03-29T12:44:34.209Z"
   },
   {
    "duration": 4,
    "start_time": "2022-03-29T12:44:34.220Z"
   },
   {
    "duration": 7,
    "start_time": "2022-03-29T12:44:34.226Z"
   },
   {
    "duration": 5,
    "start_time": "2022-03-29T12:44:34.235Z"
   },
   {
    "duration": 1587,
    "start_time": "2022-03-29T13:04:50.528Z"
   },
   {
    "duration": 1039,
    "start_time": "2022-03-29T13:07:20.267Z"
   },
   {
    "duration": 58,
    "start_time": "2022-03-29T13:07:21.308Z"
   },
   {
    "duration": 18,
    "start_time": "2022-03-29T13:07:21.368Z"
   },
   {
    "duration": 4,
    "start_time": "2022-03-29T13:07:21.388Z"
   },
   {
    "duration": 26,
    "start_time": "2022-03-29T13:07:21.394Z"
   },
   {
    "duration": 19,
    "start_time": "2022-03-29T13:07:21.422Z"
   },
   {
    "duration": 5,
    "start_time": "2022-03-29T13:07:21.443Z"
   },
   {
    "duration": 8,
    "start_time": "2022-03-29T13:07:21.449Z"
   },
   {
    "duration": 95697,
    "start_time": "2022-03-29T13:07:21.459Z"
   },
   {
    "duration": 6,
    "start_time": "2022-03-29T13:09:14.762Z"
   },
   {
    "duration": 907,
    "start_time": "2022-03-29T13:09:44.090Z"
   },
   {
    "duration": 0,
    "start_time": "2022-03-29T13:11:35.336Z"
   },
   {
    "duration": 195,
    "start_time": "2022-03-29T13:11:40.579Z"
   },
   {
    "duration": 10,
    "start_time": "2022-03-29T13:13:53.249Z"
   },
   {
    "duration": 11,
    "start_time": "2022-03-29T13:16:53.892Z"
   },
   {
    "duration": 140,
    "start_time": "2022-03-29T13:17:00.132Z"
   },
   {
    "duration": 152,
    "start_time": "2022-03-29T13:18:30.908Z"
   },
   {
    "duration": 149,
    "start_time": "2022-03-29T13:18:39.093Z"
   },
   {
    "duration": 174,
    "start_time": "2022-03-29T13:18:57.805Z"
   },
   {
    "duration": 111,
    "start_time": "2022-03-29T13:19:02.964Z"
   },
   {
    "duration": 89,
    "start_time": "2022-03-29T13:19:10.876Z"
   },
   {
    "duration": 87,
    "start_time": "2022-03-29T13:19:16.437Z"
   },
   {
    "duration": 116,
    "start_time": "2022-03-29T13:19:20.452Z"
   },
   {
    "duration": 83,
    "start_time": "2022-03-29T13:19:27.005Z"
   },
   {
    "duration": 95,
    "start_time": "2022-03-29T13:19:39.548Z"
   },
   {
    "duration": 147,
    "start_time": "2022-03-29T13:19:44.733Z"
   },
   {
    "duration": 133,
    "start_time": "2022-03-29T13:19:50.117Z"
   },
   {
    "duration": 148,
    "start_time": "2022-03-29T13:19:53.964Z"
   },
   {
    "duration": 145,
    "start_time": "2022-03-29T13:20:00.565Z"
   },
   {
    "duration": 148,
    "start_time": "2022-03-29T13:20:06.469Z"
   },
   {
    "duration": 165,
    "start_time": "2022-03-29T13:20:12.509Z"
   },
   {
    "duration": 138,
    "start_time": "2022-03-29T13:20:31.853Z"
   },
   {
    "duration": 139,
    "start_time": "2022-03-29T13:21:34.140Z"
   },
   {
    "duration": 132,
    "start_time": "2022-03-29T13:21:47.324Z"
   },
   {
    "duration": 144,
    "start_time": "2022-03-29T13:22:15.733Z"
   },
   {
    "duration": 142,
    "start_time": "2022-03-29T13:22:27.950Z"
   },
   {
    "duration": 120,
    "start_time": "2022-03-29T13:22:40.501Z"
   },
   {
    "duration": 136,
    "start_time": "2022-03-29T13:22:49.437Z"
   },
   {
    "duration": 5,
    "start_time": "2022-03-29T13:24:22.677Z"
   },
   {
    "duration": 5,
    "start_time": "2022-03-29T13:25:24.908Z"
   },
   {
    "duration": 11,
    "start_time": "2022-03-29T13:34:58.767Z"
   },
   {
    "duration": 3,
    "start_time": "2022-03-29T13:35:16.822Z"
   },
   {
    "duration": 8,
    "start_time": "2022-03-29T13:35:24.062Z"
   },
   {
    "duration": 90,
    "start_time": "2022-03-29T13:36:36.191Z"
   },
   {
    "duration": 87,
    "start_time": "2022-03-29T13:36:40.430Z"
   },
   {
    "duration": 11,
    "start_time": "2022-03-29T13:36:44.903Z"
   },
   {
    "duration": 10,
    "start_time": "2022-03-29T13:36:48.839Z"
   },
   {
    "duration": 8,
    "start_time": "2022-03-29T13:36:59.080Z"
   },
   {
    "duration": 8,
    "start_time": "2022-03-29T13:37:13.223Z"
   },
   {
    "duration": 10,
    "start_time": "2022-03-29T13:37:27.710Z"
   },
   {
    "duration": 9,
    "start_time": "2022-03-29T13:37:31.089Z"
   },
   {
    "duration": 4,
    "start_time": "2022-03-29T13:37:35.687Z"
   },
   {
    "duration": 10,
    "start_time": "2022-03-29T13:37:40.326Z"
   },
   {
    "duration": 10,
    "start_time": "2022-03-29T13:37:44.982Z"
   },
   {
    "duration": 10,
    "start_time": "2022-03-29T13:38:18.527Z"
   },
   {
    "duration": 5,
    "start_time": "2022-03-29T13:38:25.447Z"
   },
   {
    "duration": 7,
    "start_time": "2022-03-29T13:40:00.031Z"
   },
   {
    "duration": 6,
    "start_time": "2022-03-29T13:40:57.670Z"
   },
   {
    "duration": 1286,
    "start_time": "2022-03-29T14:35:54.032Z"
   },
   {
    "duration": 4,
    "start_time": "2022-03-29T14:35:59.247Z"
   },
   {
    "duration": 5,
    "start_time": "2022-03-29T14:35:59.253Z"
   },
   {
    "duration": 72,
    "start_time": "2022-03-29T14:35:59.260Z"
   },
   {
    "duration": 20,
    "start_time": "2022-03-29T14:35:59.334Z"
   },
   {
    "duration": 4,
    "start_time": "2022-03-29T14:35:59.356Z"
   },
   {
    "duration": 39,
    "start_time": "2022-03-29T14:35:59.362Z"
   },
   {
    "duration": 22,
    "start_time": "2022-03-29T14:35:59.403Z"
   },
   {
    "duration": 7,
    "start_time": "2022-03-29T14:35:59.427Z"
   },
   {
    "duration": 8,
    "start_time": "2022-03-29T14:35:59.437Z"
   },
   {
    "duration": 6,
    "start_time": "2022-03-29T14:35:59.447Z"
   },
   {
    "duration": 40,
    "start_time": "2022-03-29T14:36:53.362Z"
   },
   {
    "duration": 14,
    "start_time": "2022-03-29T14:39:09.945Z"
   },
   {
    "duration": 4203,
    "start_time": "2022-03-29T14:44:41.901Z"
   },
   {
    "duration": 2875,
    "start_time": "2022-03-29T14:45:28.052Z"
   },
   {
    "duration": 162,
    "start_time": "2022-03-29T14:45:47.692Z"
   },
   {
    "duration": 2555,
    "start_time": "2022-03-29T14:48:30.571Z"
   },
   {
    "duration": 2346,
    "start_time": "2022-03-29T14:49:05.768Z"
   },
   {
    "duration": 1724,
    "start_time": "2022-03-29T14:49:45.796Z"
   },
   {
    "duration": 2637,
    "start_time": "2022-03-29T14:52:44.167Z"
   },
   {
    "duration": 2085,
    "start_time": "2022-03-29T14:55:32.141Z"
   },
   {
    "duration": 2344,
    "start_time": "2022-03-29T14:56:17.160Z"
   },
   {
    "duration": 2277,
    "start_time": "2022-03-29T14:57:27.146Z"
   },
   {
    "duration": 1090,
    "start_time": "2022-03-29T18:19:17.672Z"
   },
   {
    "duration": 3,
    "start_time": "2022-03-29T18:19:18.764Z"
   },
   {
    "duration": 62,
    "start_time": "2022-03-29T18:19:18.768Z"
   },
   {
    "duration": 18,
    "start_time": "2022-03-29T18:19:18.832Z"
   },
   {
    "duration": 4,
    "start_time": "2022-03-29T18:19:18.852Z"
   },
   {
    "duration": 10,
    "start_time": "2022-03-29T18:19:18.857Z"
   },
   {
    "duration": 41,
    "start_time": "2022-03-29T18:19:18.868Z"
   },
   {
    "duration": 5,
    "start_time": "2022-03-29T18:19:18.911Z"
   },
   {
    "duration": 10,
    "start_time": "2022-03-29T18:19:18.917Z"
   },
   {
    "duration": 4,
    "start_time": "2022-03-29T18:19:18.929Z"
   },
   {
    "duration": 1475,
    "start_time": "2022-03-29T18:19:18.935Z"
   },
   {
    "duration": 4,
    "start_time": "2022-03-29T18:21:08.644Z"
   },
   {
    "duration": 120,
    "start_time": "2022-03-29T18:21:15.205Z"
   },
   {
    "duration": 9,
    "start_time": "2022-03-29T18:21:46.949Z"
   },
   {
    "duration": 3,
    "start_time": "2022-03-29T18:21:49.984Z"
   },
   {
    "duration": 9,
    "start_time": "2022-03-29T18:22:04.938Z"
   },
   {
    "duration": 9,
    "start_time": "2022-03-29T18:22:10.248Z"
   },
   {
    "duration": 122,
    "start_time": "2022-03-29T18:22:16.156Z"
   },
   {
    "duration": 1559,
    "start_time": "2022-03-29T18:23:59.259Z"
   },
   {
    "duration": 1549,
    "start_time": "2022-03-29T18:24:23.461Z"
   },
   {
    "duration": 1347,
    "start_time": "2022-03-29T18:24:34.167Z"
   },
   {
    "duration": 1390,
    "start_time": "2022-03-29T18:24:54.120Z"
   },
   {
    "duration": 1414,
    "start_time": "2022-03-29T18:25:32.196Z"
   },
   {
    "duration": 1323,
    "start_time": "2022-03-29T18:25:59.793Z"
   },
   {
    "duration": 4,
    "start_time": "2022-03-29T18:27:50.373Z"
   },
   {
    "duration": 1494,
    "start_time": "2022-03-29T18:28:10.718Z"
   },
   {
    "duration": 1602,
    "start_time": "2022-03-29T18:32:05.108Z"
   },
   {
    "duration": 1547,
    "start_time": "2022-03-29T18:33:46.367Z"
   },
   {
    "duration": 1496,
    "start_time": "2022-03-29T18:34:34.617Z"
   },
   {
    "duration": 3,
    "start_time": "2022-03-29T18:34:43.464Z"
   },
   {
    "duration": 4,
    "start_time": "2022-03-29T18:34:43.469Z"
   },
   {
    "duration": 51,
    "start_time": "2022-03-29T18:34:43.475Z"
   },
   {
    "duration": 19,
    "start_time": "2022-03-29T18:34:43.528Z"
   },
   {
    "duration": 5,
    "start_time": "2022-03-29T18:34:43.550Z"
   },
   {
    "duration": 10,
    "start_time": "2022-03-29T18:34:43.556Z"
   },
   {
    "duration": 48,
    "start_time": "2022-03-29T18:34:43.568Z"
   },
   {
    "duration": 6,
    "start_time": "2022-03-29T18:34:43.618Z"
   },
   {
    "duration": 8,
    "start_time": "2022-03-29T18:34:43.626Z"
   },
   {
    "duration": 5,
    "start_time": "2022-03-29T18:34:43.635Z"
   },
   {
    "duration": 1668,
    "start_time": "2022-03-29T18:34:43.642Z"
   },
   {
    "duration": 96,
    "start_time": "2022-03-29T18:34:45.313Z"
   },
   {
    "duration": 1720,
    "start_time": "2022-03-29T18:35:28.197Z"
   },
   {
    "duration": 2,
    "start_time": "2022-03-29T18:35:59.900Z"
   },
   {
    "duration": 3,
    "start_time": "2022-03-29T18:36:06.985Z"
   },
   {
    "duration": 4,
    "start_time": "2022-03-29T18:36:30.756Z"
   },
   {
    "duration": 4,
    "start_time": "2022-03-29T18:37:09.217Z"
   },
   {
    "duration": 1584,
    "start_time": "2022-03-29T18:37:35.525Z"
   },
   {
    "duration": 1324,
    "start_time": "2022-03-29T18:37:50.089Z"
   },
   {
    "duration": 4,
    "start_time": "2022-03-29T18:51:30.253Z"
   },
   {
    "duration": 3,
    "start_time": "2022-03-29T18:54:36.939Z"
   },
   {
    "duration": 11,
    "start_time": "2022-03-29T18:54:36.945Z"
   },
   {
    "duration": 59,
    "start_time": "2022-03-29T18:54:36.957Z"
   },
   {
    "duration": 19,
    "start_time": "2022-03-29T18:54:37.018Z"
   },
   {
    "duration": 3,
    "start_time": "2022-03-29T18:54:37.039Z"
   },
   {
    "duration": 14,
    "start_time": "2022-03-29T18:54:37.044Z"
   },
   {
    "duration": 19,
    "start_time": "2022-03-29T18:54:37.060Z"
   },
   {
    "duration": 31,
    "start_time": "2022-03-29T18:54:37.081Z"
   },
   {
    "duration": 7,
    "start_time": "2022-03-29T18:54:37.115Z"
   },
   {
    "duration": 5,
    "start_time": "2022-03-29T18:54:37.124Z"
   },
   {
    "duration": 44,
    "start_time": "2022-03-29T18:54:37.131Z"
   },
   {
    "duration": 1562,
    "start_time": "2022-03-29T18:55:08.552Z"
   },
   {
    "duration": 1527,
    "start_time": "2022-03-29T18:58:17.486Z"
   },
   {
    "duration": 1403,
    "start_time": "2022-03-29T19:07:08.979Z"
   },
   {
    "duration": 9588,
    "start_time": "2022-03-29T19:10:12.622Z"
   },
   {
    "duration": 1460,
    "start_time": "2022-03-29T19:10:40.763Z"
   },
   {
    "duration": 1512,
    "start_time": "2022-03-29T19:11:07.097Z"
   },
   {
    "duration": 89,
    "start_time": "2022-03-29T19:11:50.924Z"
   },
   {
    "duration": 1471,
    "start_time": "2022-03-29T19:12:02.027Z"
   },
   {
    "duration": 36724,
    "start_time": "2022-03-29T19:13:26.277Z"
   },
   {
    "duration": 241316,
    "start_time": "2022-03-29T19:15:42.107Z"
   },
   {
    "duration": 50598,
    "start_time": "2022-03-29T19:20:59.513Z"
   },
   {
    "duration": 4,
    "start_time": "2022-03-29T19:23:43.432Z"
   },
   {
    "duration": 6,
    "start_time": "2022-03-29T19:23:43.438Z"
   },
   {
    "duration": 66,
    "start_time": "2022-03-29T19:23:43.447Z"
   },
   {
    "duration": 19,
    "start_time": "2022-03-29T19:23:43.514Z"
   },
   {
    "duration": 3,
    "start_time": "2022-03-29T19:23:43.536Z"
   },
   {
    "duration": 10,
    "start_time": "2022-03-29T19:23:43.541Z"
   },
   {
    "duration": 19,
    "start_time": "2022-03-29T19:23:43.552Z"
   },
   {
    "duration": 37,
    "start_time": "2022-03-29T19:23:43.572Z"
   },
   {
    "duration": 8,
    "start_time": "2022-03-29T19:23:43.612Z"
   },
   {
    "duration": 7,
    "start_time": "2022-03-29T19:23:43.622Z"
   },
   {
    "duration": 1624,
    "start_time": "2022-03-29T19:23:43.632Z"
   },
   {
    "duration": 39332,
    "start_time": "2022-03-29T19:23:45.257Z"
   },
   {
    "duration": 290638,
    "start_time": "2022-03-29T19:24:24.591Z"
   },
   {
    "duration": 21985,
    "start_time": "2022-03-29T19:29:15.232Z"
   },
   {
    "duration": 1255,
    "start_time": "2022-03-30T06:08:30.510Z"
   },
   {
    "duration": 2,
    "start_time": "2022-03-30T06:08:31.767Z"
   },
   {
    "duration": 92,
    "start_time": "2022-03-30T06:08:31.771Z"
   },
   {
    "duration": 19,
    "start_time": "2022-03-30T06:08:31.866Z"
   },
   {
    "duration": 15,
    "start_time": "2022-03-30T06:08:31.886Z"
   },
   {
    "duration": 22,
    "start_time": "2022-03-30T06:08:31.903Z"
   },
   {
    "duration": 28,
    "start_time": "2022-03-30T06:08:31.931Z"
   },
   {
    "duration": 5,
    "start_time": "2022-03-30T06:08:31.961Z"
   },
   {
    "duration": 28,
    "start_time": "2022-03-30T06:08:31.968Z"
   },
   {
    "duration": 7,
    "start_time": "2022-03-30T06:08:31.999Z"
   },
   {
    "duration": 1626,
    "start_time": "2022-03-30T06:08:32.007Z"
   },
   {
    "duration": 39703,
    "start_time": "2022-03-30T06:08:33.634Z"
   },
   {
    "duration": 206894,
    "start_time": "2022-03-30T06:09:13.339Z"
   },
   {
    "duration": 21496,
    "start_time": "2022-03-30T06:12:40.237Z"
   },
   {
    "duration": 1689,
    "start_time": "2022-03-30T06:13:01.735Z"
   },
   {
    "duration": 39128,
    "start_time": "2022-03-30T06:13:03.426Z"
   },
   {
    "duration": 161490,
    "start_time": "2022-03-30T06:13:42.556Z"
   },
   {
    "duration": 15003,
    "start_time": "2022-03-30T06:55:24.530Z"
   },
   {
    "duration": 4,
    "start_time": "2022-03-30T07:00:07.959Z"
   },
   {
    "duration": 13,
    "start_time": "2022-03-30T07:02:48.872Z"
   },
   {
    "duration": 1945,
    "start_time": "2022-03-30T07:07:35.792Z"
   },
   {
    "duration": 53781,
    "start_time": "2022-03-30T07:07:40.745Z"
   },
   {
    "duration": 221012,
    "start_time": "2022-03-30T07:08:34.531Z"
   },
   {
    "duration": 18492,
    "start_time": "2022-03-30T07:12:15.545Z"
   },
   {
    "duration": 12,
    "start_time": "2022-03-30T07:15:51.104Z"
   },
   {
    "duration": 12,
    "start_time": "2022-03-30T07:16:38.392Z"
   },
   {
    "duration": 797,
    "start_time": "2022-03-30T07:17:17.847Z"
   },
   {
    "duration": 22649,
    "start_time": "2022-03-30T07:18:34.216Z"
   },
   {
    "duration": 95196,
    "start_time": "2022-03-30T07:18:56.867Z"
   },
   {
    "duration": 4,
    "start_time": "2022-03-30T07:31:36.360Z"
   },
   {
    "duration": 5,
    "start_time": "2022-03-30T07:31:36.366Z"
   },
   {
    "duration": 73,
    "start_time": "2022-03-30T07:31:36.376Z"
   },
   {
    "duration": 20,
    "start_time": "2022-03-30T07:31:36.452Z"
   },
   {
    "duration": 5,
    "start_time": "2022-03-30T07:31:36.474Z"
   },
   {
    "duration": 12,
    "start_time": "2022-03-30T07:31:36.480Z"
   },
   {
    "duration": 49,
    "start_time": "2022-03-30T07:31:36.495Z"
   },
   {
    "duration": 5,
    "start_time": "2022-03-30T07:31:36.546Z"
   },
   {
    "duration": 11,
    "start_time": "2022-03-30T07:31:36.552Z"
   },
   {
    "duration": 13,
    "start_time": "2022-03-30T07:31:36.564Z"
   },
   {
    "duration": 1739,
    "start_time": "2022-03-30T07:31:36.579Z"
   },
   {
    "duration": 41127,
    "start_time": "2022-03-30T07:31:38.320Z"
   },
   {
    "duration": 225990,
    "start_time": "2022-03-30T07:32:19.449Z"
   },
   {
    "duration": 17599,
    "start_time": "2022-03-30T07:36:05.443Z"
   },
   {
    "duration": 1684,
    "start_time": "2022-03-30T07:36:23.132Z"
   },
   {
    "duration": 39410,
    "start_time": "2022-03-30T07:36:24.820Z"
   },
   {
    "duration": 169802,
    "start_time": "2022-03-30T07:37:04.232Z"
   },
   {
    "duration": 14397,
    "start_time": "2022-03-30T07:39:54.036Z"
   },
   {
    "duration": 100,
    "start_time": "2022-03-30T07:40:08.436Z"
   },
   {
    "duration": 1892,
    "start_time": "2022-03-30T07:40:08.539Z"
   },
   {
    "duration": 54457,
    "start_time": "2022-03-30T07:40:10.433Z"
   },
   {
    "duration": 210053,
    "start_time": "2022-03-30T07:41:04.892Z"
   },
   {
    "duration": 21787,
    "start_time": "2022-03-30T07:44:34.947Z"
   },
   {
    "duration": 101,
    "start_time": "2022-03-30T07:44:56.736Z"
   },
   {
    "duration": 869,
    "start_time": "2022-03-30T07:44:56.839Z"
   },
   {
    "duration": 22295,
    "start_time": "2022-03-30T07:44:57.710Z"
   },
   {
    "duration": 79640,
    "start_time": "2022-03-30T07:45:20.007Z"
   },
   {
    "duration": 18999,
    "start_time": "2022-03-30T07:46:39.734Z"
   },
   {
    "duration": 104,
    "start_time": "2022-03-30T07:54:52.395Z"
   },
   {
    "duration": 128992,
    "start_time": "2022-03-30T07:56:31.860Z"
   },
   {
    "duration": 160,
    "start_time": "2022-03-30T08:15:44.188Z"
   },
   {
    "duration": 360,
    "start_time": "2022-03-30T08:15:54.420Z"
   },
   {
    "duration": 383,
    "start_time": "2022-03-30T08:16:18.667Z"
   },
   {
    "duration": 8235,
    "start_time": "2022-03-30T08:20:11.604Z"
   },
   {
    "duration": 59,
    "start_time": "2022-03-30T08:23:38.435Z"
   },
   {
    "duration": 9,
    "start_time": "2022-03-30T08:27:52.061Z"
   },
   {
    "duration": 57,
    "start_time": "2022-03-30T08:27:54.668Z"
   },
   {
    "duration": 9,
    "start_time": "2022-03-30T08:27:56.530Z"
   },
   {
    "duration": 59,
    "start_time": "2022-03-30T08:28:40.692Z"
   },
   {
    "duration": 3,
    "start_time": "2022-03-30T08:28:41.603Z"
   },
   {
    "duration": 1630,
    "start_time": "2022-03-30T08:41:01.541Z"
   },
   {
    "duration": 4,
    "start_time": "2022-03-30T08:41:03.174Z"
   },
   {
    "duration": 100,
    "start_time": "2022-03-30T08:41:03.181Z"
   },
   {
    "duration": 26,
    "start_time": "2022-03-30T08:41:03.284Z"
   },
   {
    "duration": 6,
    "start_time": "2022-03-30T08:41:03.312Z"
   },
   {
    "duration": 12,
    "start_time": "2022-03-30T08:41:03.343Z"
   },
   {
    "duration": 27,
    "start_time": "2022-03-30T08:41:03.357Z"
   },
   {
    "duration": 7,
    "start_time": "2022-03-30T08:41:03.386Z"
   },
   {
    "duration": 48,
    "start_time": "2022-03-30T08:41:03.395Z"
   },
   {
    "duration": 7,
    "start_time": "2022-03-30T08:41:03.447Z"
   },
   {
    "duration": 2112,
    "start_time": "2022-03-30T08:41:03.457Z"
   },
   {
    "duration": 51826,
    "start_time": "2022-03-30T08:41:05.572Z"
   },
   {
    "duration": 213354,
    "start_time": "2022-03-30T08:41:57.400Z"
   },
   {
    "duration": 400,
    "start_time": "2022-03-30T08:45:30.845Z"
   },
   {
    "duration": 2158,
    "start_time": "2022-03-30T08:45:31.248Z"
   },
   {
    "duration": 51512,
    "start_time": "2022-03-30T08:45:33.408Z"
   },
   {
    "duration": 181222,
    "start_time": "2022-03-30T08:46:24.923Z"
   },
   {
    "duration": 300,
    "start_time": "2022-03-30T08:49:26.149Z"
   },
   {
    "duration": 23,
    "start_time": "2022-03-30T08:49:26.544Z"
   },
   {
    "duration": 2664,
    "start_time": "2022-03-30T08:49:26.569Z"
   },
   {
    "duration": 74312,
    "start_time": "2022-03-30T08:49:29.243Z"
   },
   {
    "duration": 96818,
    "start_time": "2022-03-30T08:50:43.558Z"
   },
   {
    "duration": 0,
    "start_time": "2022-03-30T08:52:20.379Z"
   },
   {
    "duration": 0,
    "start_time": "2022-03-30T08:52:20.381Z"
   },
   {
    "duration": 0,
    "start_time": "2022-03-30T08:52:20.383Z"
   },
   {
    "duration": 0,
    "start_time": "2022-03-30T08:52:20.384Z"
   },
   {
    "duration": 0,
    "start_time": "2022-03-30T08:52:20.386Z"
   },
   {
    "duration": 0,
    "start_time": "2022-03-30T08:52:20.387Z"
   },
   {
    "duration": 0,
    "start_time": "2022-03-30T08:52:20.388Z"
   },
   {
    "duration": 0,
    "start_time": "2022-03-30T08:52:20.390Z"
   },
   {
    "duration": 5,
    "start_time": "2022-03-30T08:52:47.614Z"
   },
   {
    "duration": 5,
    "start_time": "2022-03-30T08:52:47.622Z"
   },
   {
    "duration": 77,
    "start_time": "2022-03-30T08:52:47.629Z"
   },
   {
    "duration": 54,
    "start_time": "2022-03-30T08:52:47.708Z"
   },
   {
    "duration": 6,
    "start_time": "2022-03-30T08:52:47.765Z"
   },
   {
    "duration": 12,
    "start_time": "2022-03-30T08:52:47.775Z"
   },
   {
    "duration": 55,
    "start_time": "2022-03-30T08:52:47.790Z"
   },
   {
    "duration": 6,
    "start_time": "2022-03-30T08:52:47.848Z"
   },
   {
    "duration": 11,
    "start_time": "2022-03-30T08:52:47.856Z"
   },
   {
    "duration": 9,
    "start_time": "2022-03-30T08:52:47.869Z"
   },
   {
    "duration": 2121,
    "start_time": "2022-03-30T08:52:47.880Z"
   },
   {
    "duration": 55972,
    "start_time": "2022-03-30T08:52:50.003Z"
   },
   {
    "duration": 155871,
    "start_time": "2022-03-30T08:53:45.978Z"
   },
   {
    "duration": 394,
    "start_time": "2022-03-30T08:56:21.856Z"
   },
   {
    "duration": 2230,
    "start_time": "2022-03-30T08:56:22.252Z"
   },
   {
    "duration": 54115,
    "start_time": "2022-03-30T08:56:24.484Z"
   },
   {
    "duration": 186874,
    "start_time": "2022-03-30T08:57:18.601Z"
   },
   {
    "duration": 296,
    "start_time": "2022-03-30T09:00:25.550Z"
   },
   {
    "duration": 107,
    "start_time": "2022-03-30T09:00:25.850Z"
   },
   {
    "duration": 2558,
    "start_time": "2022-03-30T09:00:25.959Z"
   },
   {
    "duration": 77714,
    "start_time": "2022-03-30T09:00:28.519Z"
   },
   {
    "duration": 299009,
    "start_time": "2022-03-30T09:01:46.243Z"
   },
   {
    "duration": 203,
    "start_time": "2022-03-30T09:06:45.258Z"
   },
   {
    "duration": 18,
    "start_time": "2022-03-30T09:06:45.544Z"
   },
   {
    "duration": 1144,
    "start_time": "2022-03-30T09:06:45.564Z"
   },
   {
    "duration": 28657,
    "start_time": "2022-03-30T09:06:46.711Z"
   },
   {
    "duration": 230389,
    "start_time": "2022-03-30T09:07:15.371Z"
   },
   {
    "duration": 316,
    "start_time": "2022-03-30T09:11:05.846Z"
   },
   {
    "duration": 104,
    "start_time": "2022-03-30T09:11:06.247Z"
   },
   {
    "duration": 5,
    "start_time": "2022-03-30T09:11:06.358Z"
   },
   {
    "duration": 67,
    "start_time": "2022-03-30T09:14:56.535Z"
   },
   {
    "duration": 4,
    "start_time": "2022-03-30T09:14:59.279Z"
   },
   {
    "duration": 51,
    "start_time": "2022-03-30T10:17:09.532Z"
   },
   {
    "duration": 35,
    "start_time": "2022-03-30T10:19:44.885Z"
   },
   {
    "duration": 8,
    "start_time": "2022-03-30T11:01:20.995Z"
   },
   {
    "duration": 5,
    "start_time": "2022-03-30T11:24:59.190Z"
   },
   {
    "duration": 5,
    "start_time": "2022-03-30T11:24:59.199Z"
   },
   {
    "duration": 103,
    "start_time": "2022-03-30T11:24:59.206Z"
   },
   {
    "duration": 36,
    "start_time": "2022-03-30T11:24:59.312Z"
   },
   {
    "duration": 6,
    "start_time": "2022-03-30T11:24:59.351Z"
   },
   {
    "duration": 13,
    "start_time": "2022-03-30T11:24:59.359Z"
   },
   {
    "duration": 27,
    "start_time": "2022-03-30T11:24:59.374Z"
   },
   {
    "duration": 40,
    "start_time": "2022-03-30T11:24:59.403Z"
   },
   {
    "duration": 11,
    "start_time": "2022-03-30T11:24:59.445Z"
   },
   {
    "duration": 8,
    "start_time": "2022-03-30T11:24:59.458Z"
   },
   {
    "duration": 2392,
    "start_time": "2022-03-30T11:24:59.468Z"
   },
   {
    "duration": 58818,
    "start_time": "2022-03-30T11:25:01.862Z"
   },
   {
    "duration": 1844,
    "start_time": "2022-03-30T11:40:17.545Z"
   },
   {
    "duration": 2,
    "start_time": "2022-03-30T11:40:19.391Z"
   },
   {
    "duration": 78,
    "start_time": "2022-03-30T11:40:19.395Z"
   },
   {
    "duration": 18,
    "start_time": "2022-03-30T11:40:19.475Z"
   },
   {
    "duration": 3,
    "start_time": "2022-03-30T11:40:19.495Z"
   },
   {
    "duration": 11,
    "start_time": "2022-03-30T11:40:19.499Z"
   },
   {
    "duration": 17,
    "start_time": "2022-03-30T11:40:19.512Z"
   },
   {
    "duration": 5,
    "start_time": "2022-03-30T11:40:19.530Z"
   },
   {
    "duration": 8,
    "start_time": "2022-03-30T11:40:19.537Z"
   },
   {
    "duration": 33,
    "start_time": "2022-03-30T11:40:19.548Z"
   },
   {
    "duration": 1392,
    "start_time": "2022-03-30T11:40:19.583Z"
   },
   {
    "duration": 32892,
    "start_time": "2022-03-30T11:40:20.977Z"
   },
   {
    "duration": 135211,
    "start_time": "2022-03-30T11:40:53.871Z"
   },
   {
    "duration": 298,
    "start_time": "2022-03-30T11:43:09.085Z"
   },
   {
    "duration": 1525,
    "start_time": "2022-03-30T11:43:09.385Z"
   },
   {
    "duration": 33444,
    "start_time": "2022-03-30T11:43:10.912Z"
   },
   {
    "duration": 111229,
    "start_time": "2022-03-30T11:43:44.358Z"
   },
   {
    "duration": 308,
    "start_time": "2022-03-30T11:45:35.681Z"
   },
   {
    "duration": 104,
    "start_time": "2022-03-30T11:45:35.990Z"
   },
   {
    "duration": 4,
    "start_time": "2022-03-30T11:45:36.095Z"
   },
   {
    "duration": 1589,
    "start_time": "2022-03-30T11:45:36.101Z"
   },
   {
    "duration": 44391,
    "start_time": "2022-03-30T11:45:37.691Z"
   },
   {
    "duration": 155828,
    "start_time": "2022-03-30T11:46:22.084Z"
   },
   {
    "duration": 268,
    "start_time": "2022-03-30T11:48:57.914Z"
   },
   {
    "duration": 96,
    "start_time": "2022-03-30T11:48:58.185Z"
   },
   {
    "duration": 698,
    "start_time": "2022-03-30T11:48:58.283Z"
   },
   {
    "duration": 119536,
    "start_time": "2022-03-30T11:49:17.456Z"
   },
   {
    "duration": 189,
    "start_time": "2022-03-30T11:51:16.998Z"
   },
   {
    "duration": 65752,
    "start_time": "2022-03-30T11:56:43.733Z"
   },
   {
    "duration": 203,
    "start_time": "2022-03-30T11:57:49.487Z"
   },
   {
    "duration": 43,
    "start_time": "2022-03-30T11:59:54.632Z"
   },
   {
    "duration": 3,
    "start_time": "2022-03-30T11:59:57.053Z"
   },
   {
    "duration": 36,
    "start_time": "2022-03-30T12:00:00.496Z"
   },
   {
    "duration": 8,
    "start_time": "2022-03-30T12:00:00.910Z"
   },
   {
    "duration": 14,
    "start_time": "2022-03-30T12:00:43.631Z"
   },
   {
    "duration": 10,
    "start_time": "2022-03-30T12:01:18.891Z"
   },
   {
    "duration": 13,
    "start_time": "2022-03-30T12:01:29.854Z"
   },
   {
    "duration": 371,
    "start_time": "2022-03-30T12:03:44.503Z"
   },
   {
    "duration": 106,
    "start_time": "2022-03-30T12:03:51.184Z"
   },
   {
    "duration": 22,
    "start_time": "2022-03-30T12:04:07.270Z"
   },
   {
    "duration": 97,
    "start_time": "2022-03-30T12:04:40.856Z"
   },
   {
    "duration": 174,
    "start_time": "2022-03-30T12:10:44.119Z"
   },
   {
    "duration": 5,
    "start_time": "2022-03-30T12:11:24.744Z"
   },
   {
    "duration": 5,
    "start_time": "2022-03-30T12:16:14.946Z"
   },
   {
    "duration": 12,
    "start_time": "2022-03-30T12:16:23.416Z"
   },
   {
    "duration": 5,
    "start_time": "2022-03-30T12:16:24.192Z"
   },
   {
    "duration": 10,
    "start_time": "2022-03-30T12:16:29.241Z"
   },
   {
    "duration": 5,
    "start_time": "2022-03-30T12:16:30.408Z"
   },
   {
    "duration": 5,
    "start_time": "2022-03-30T13:24:51.380Z"
   },
   {
    "duration": 1666,
    "start_time": "2022-03-30T13:53:39.049Z"
   },
   {
    "duration": 3,
    "start_time": "2022-03-30T13:53:40.717Z"
   },
   {
    "duration": 68,
    "start_time": "2022-03-30T13:53:40.721Z"
   },
   {
    "duration": 16,
    "start_time": "2022-03-30T13:53:40.790Z"
   },
   {
    "duration": 4,
    "start_time": "2022-03-30T13:53:40.808Z"
   },
   {
    "duration": 12,
    "start_time": "2022-03-30T13:53:40.813Z"
   },
   {
    "duration": 16,
    "start_time": "2022-03-30T13:53:40.826Z"
   },
   {
    "duration": 4,
    "start_time": "2022-03-30T13:53:40.843Z"
   },
   {
    "duration": 33,
    "start_time": "2022-03-30T13:53:40.848Z"
   },
   {
    "duration": 5,
    "start_time": "2022-03-30T13:53:40.882Z"
   },
   {
    "duration": 1340,
    "start_time": "2022-03-30T13:53:40.889Z"
   },
   {
    "duration": 33244,
    "start_time": "2022-03-30T13:53:42.230Z"
   },
   {
    "duration": 133911,
    "start_time": "2022-03-30T13:54:15.476Z"
   },
   {
    "duration": 205,
    "start_time": "2022-03-30T13:56:29.484Z"
   },
   {
    "duration": 1541,
    "start_time": "2022-03-30T13:56:29.690Z"
   },
   {
    "duration": 32965,
    "start_time": "2022-03-30T13:56:31.233Z"
   },
   {
    "duration": 104799,
    "start_time": "2022-03-30T13:57:04.199Z"
   },
   {
    "duration": 288,
    "start_time": "2022-03-30T13:58:49.001Z"
   },
   {
    "duration": 107,
    "start_time": "2022-03-30T13:58:49.380Z"
   },
   {
    "duration": 6,
    "start_time": "2022-03-30T13:58:49.489Z"
   },
   {
    "duration": 1569,
    "start_time": "2022-03-30T13:58:49.497Z"
   },
   {
    "duration": 46087,
    "start_time": "2022-03-30T13:58:51.067Z"
   },
   {
    "duration": 155926,
    "start_time": "2022-03-30T13:59:37.155Z"
   },
   {
    "duration": 209,
    "start_time": "2022-03-30T14:02:13.083Z"
   },
   {
    "duration": 100,
    "start_time": "2022-03-30T14:02:13.294Z"
   },
   {
    "duration": 5,
    "start_time": "2022-03-30T14:02:13.481Z"
   },
   {
    "duration": 684,
    "start_time": "2022-03-30T14:02:13.487Z"
   },
   {
    "duration": 18191,
    "start_time": "2022-03-30T14:02:14.173Z"
   },
   {
    "duration": 56718,
    "start_time": "2022-03-30T14:02:32.365Z"
   },
   {
    "duration": 204,
    "start_time": "2022-03-30T14:03:29.085Z"
   },
   {
    "duration": 236,
    "start_time": "2022-03-30T14:03:29.291Z"
   },
   {
    "duration": 3,
    "start_time": "2022-03-30T14:03:29.528Z"
   },
   {
    "duration": 196,
    "start_time": "2022-03-30T14:03:29.533Z"
   },
   {
    "duration": 36,
    "start_time": "2022-03-30T14:03:29.730Z"
   },
   {
    "duration": 2048,
    "start_time": "2022-03-30T20:06:07.695Z"
   },
   {
    "duration": 3,
    "start_time": "2022-03-30T20:06:09.747Z"
   },
   {
    "duration": 84,
    "start_time": "2022-03-30T20:06:09.752Z"
   },
   {
    "duration": 44,
    "start_time": "2022-03-30T20:06:09.838Z"
   },
   {
    "duration": 6,
    "start_time": "2022-03-30T20:06:09.885Z"
   },
   {
    "duration": 14,
    "start_time": "2022-03-30T20:06:09.893Z"
   },
   {
    "duration": 68,
    "start_time": "2022-03-30T20:06:09.909Z"
   },
   {
    "duration": 7,
    "start_time": "2022-03-30T20:06:09.980Z"
   },
   {
    "duration": 11,
    "start_time": "2022-03-30T20:06:09.989Z"
   },
   {
    "duration": 8,
    "start_time": "2022-03-30T20:06:10.002Z"
   },
   {
    "duration": 2199,
    "start_time": "2022-03-30T20:06:10.012Z"
   },
   {
    "duration": 54437,
    "start_time": "2022-03-30T20:06:12.213Z"
   },
   {
    "duration": 359024,
    "start_time": "2022-03-30T20:07:06.652Z"
   },
   {
    "duration": 283,
    "start_time": "2022-03-30T20:13:05.689Z"
   },
   {
    "duration": 2255,
    "start_time": "2022-03-30T20:13:05.976Z"
   },
   {
    "duration": 52440,
    "start_time": "2022-03-30T20:13:08.233Z"
   },
   {
    "duration": 182694,
    "start_time": "2022-03-30T20:14:00.676Z"
   },
   {
    "duration": 300,
    "start_time": "2022-03-30T20:17:03.374Z"
   },
   {
    "duration": 110,
    "start_time": "2022-03-30T20:17:03.677Z"
   },
   {
    "duration": 8,
    "start_time": "2022-03-30T20:17:03.789Z"
   },
   {
    "duration": 2557,
    "start_time": "2022-03-30T20:17:03.800Z"
   },
   {
    "duration": 73490,
    "start_time": "2022-03-30T20:17:06.359Z"
   },
   {
    "duration": 235728,
    "start_time": "2022-03-30T20:18:19.851Z"
   },
   {
    "duration": 386,
    "start_time": "2022-03-30T20:22:15.582Z"
   },
   {
    "duration": 107,
    "start_time": "2022-03-30T20:22:15.971Z"
   },
   {
    "duration": 9,
    "start_time": "2022-03-30T20:22:16.081Z"
   },
   {
    "duration": 1174,
    "start_time": "2022-03-30T20:22:16.093Z"
   },
   {
    "duration": 28644,
    "start_time": "2022-03-30T20:22:17.269Z"
   },
   {
    "duration": 106864,
    "start_time": "2022-03-30T20:22:45.916Z"
   },
   {
    "duration": 303,
    "start_time": "2022-03-30T20:24:32.869Z"
   },
   {
    "duration": 154,
    "start_time": "2022-03-30T20:24:33.175Z"
   },
   {
    "duration": 5,
    "start_time": "2022-03-30T20:24:33.331Z"
   },
   {
    "duration": 434,
    "start_time": "2022-03-30T20:24:33.338Z"
   },
   {
    "duration": 53,
    "start_time": "2022-03-30T20:24:33.774Z"
   },
   {
    "duration": 1331,
    "start_time": "2022-03-30T21:11:25.905Z"
   },
   {
    "duration": 1248,
    "start_time": "2022-03-30T21:11:35.441Z"
   },
   {
    "duration": 4,
    "start_time": "2022-03-30T21:11:36.692Z"
   },
   {
    "duration": 96,
    "start_time": "2022-03-30T21:11:36.698Z"
   },
   {
    "duration": 29,
    "start_time": "2022-03-30T21:11:36.797Z"
   },
   {
    "duration": 6,
    "start_time": "2022-03-30T21:11:36.829Z"
   },
   {
    "duration": 42,
    "start_time": "2022-03-30T21:11:36.837Z"
   },
   {
    "duration": 28,
    "start_time": "2022-03-30T21:11:36.881Z"
   },
   {
    "duration": 7,
    "start_time": "2022-03-30T21:11:36.912Z"
   },
   {
    "duration": 54,
    "start_time": "2022-03-30T21:11:36.922Z"
   },
   {
    "duration": 7,
    "start_time": "2022-03-30T21:11:36.982Z"
   },
   {
    "duration": 2165,
    "start_time": "2022-03-30T21:11:36.992Z"
   },
   {
    "duration": 56043,
    "start_time": "2022-03-30T21:11:39.167Z"
   },
   {
    "duration": 215660,
    "start_time": "2022-03-30T21:12:35.213Z"
   },
   {
    "duration": 318,
    "start_time": "2022-03-30T21:16:10.875Z"
   },
   {
    "duration": 2172,
    "start_time": "2022-03-30T21:16:11.268Z"
   },
   {
    "duration": 52776,
    "start_time": "2022-03-30T21:16:13.443Z"
   },
   {
    "duration": 287758,
    "start_time": "2022-03-30T21:17:06.223Z"
   },
   {
    "duration": 308,
    "start_time": "2022-03-30T21:21:54.068Z"
   },
   {
    "duration": 105,
    "start_time": "2022-03-30T21:21:54.378Z"
   },
   {
    "duration": 8,
    "start_time": "2022-03-30T21:21:54.488Z"
   },
   {
    "duration": 2618,
    "start_time": "2022-03-30T21:21:54.499Z"
   },
   {
    "duration": 74108,
    "start_time": "2022-03-30T21:21:57.119Z"
   },
   {
    "duration": 333046,
    "start_time": "2022-03-30T21:23:11.229Z"
   },
   {
    "duration": 295,
    "start_time": "2022-03-30T21:28:44.278Z"
   },
   {
    "duration": 111,
    "start_time": "2022-03-30T21:28:44.576Z"
   },
   {
    "duration": 9,
    "start_time": "2022-03-30T21:28:44.690Z"
   },
   {
    "duration": 1213,
    "start_time": "2022-03-30T21:28:44.701Z"
   },
   {
    "duration": 27391,
    "start_time": "2022-03-30T21:28:45.919Z"
   },
   {
    "duration": 94759,
    "start_time": "2022-03-30T21:29:13.312Z"
   },
   {
    "duration": 298,
    "start_time": "2022-03-30T21:30:48.074Z"
   },
   {
    "duration": 64,
    "start_time": "2022-03-30T21:30:48.468Z"
   },
   {
    "duration": 5,
    "start_time": "2022-03-30T21:30:48.534Z"
   },
   {
    "duration": 236,
    "start_time": "2022-03-30T21:30:48.541Z"
   },
   {
    "duration": 51,
    "start_time": "2022-03-30T21:30:48.779Z"
   },
   {
    "duration": 11,
    "start_time": "2022-03-30T21:30:48.832Z"
   },
   {
    "duration": 34,
    "start_time": "2022-03-30T21:33:48.594Z"
   },
   {
    "duration": 39,
    "start_time": "2022-03-30T21:34:09.582Z"
   },
   {
    "duration": 15,
    "start_time": "2022-03-30T21:34:49.892Z"
   },
   {
    "duration": 68,
    "start_time": "2022-03-30T21:36:40.530Z"
   },
   {
    "duration": 14,
    "start_time": "2022-03-30T21:36:51.499Z"
   },
   {
    "duration": 19,
    "start_time": "2022-03-30T21:37:07.872Z"
   },
   {
    "duration": 35,
    "start_time": "2022-03-30T21:37:13.872Z"
   },
   {
    "duration": 17,
    "start_time": "2022-03-30T21:37:29.059Z"
   },
   {
    "duration": 18,
    "start_time": "2022-03-30T21:37:41.516Z"
   },
   {
    "duration": 5,
    "start_time": "2022-03-30T21:44:55.969Z"
   },
   {
    "duration": 26,
    "start_time": "2022-03-30T21:46:45.193Z"
   },
   {
    "duration": 16,
    "start_time": "2022-03-30T21:47:26.985Z"
   },
   {
    "duration": 10,
    "start_time": "2022-03-30T21:47:42.840Z"
   },
   {
    "duration": 7,
    "start_time": "2022-03-30T21:50:11.037Z"
   },
   {
    "duration": 7,
    "start_time": "2022-03-30T21:50:41.927Z"
   },
   {
    "duration": 16,
    "start_time": "2022-03-30T21:50:54.739Z"
   },
   {
    "duration": 15,
    "start_time": "2022-03-30T21:52:18.595Z"
   },
   {
    "duration": 11,
    "start_time": "2022-03-30T21:52:23.867Z"
   },
   {
    "duration": 11,
    "start_time": "2022-03-30T21:53:27.849Z"
   },
   {
    "duration": 11,
    "start_time": "2022-03-30T21:53:52.719Z"
   },
   {
    "duration": 121,
    "start_time": "2022-03-30T21:54:56.168Z"
   },
   {
    "duration": 20,
    "start_time": "2022-03-30T21:55:04.818Z"
   },
   {
    "duration": 15,
    "start_time": "2022-03-30T21:55:56.780Z"
   },
   {
    "duration": 16,
    "start_time": "2022-03-30T21:57:07.811Z"
   },
   {
    "duration": 12,
    "start_time": "2022-03-30T21:57:54.056Z"
   },
   {
    "duration": 15,
    "start_time": "2022-03-30T21:59:27.992Z"
   },
   {
    "duration": 13,
    "start_time": "2022-03-30T21:59:43.619Z"
   },
   {
    "duration": 14,
    "start_time": "2022-03-30T21:59:54.430Z"
   },
   {
    "duration": 14,
    "start_time": "2022-03-30T22:00:01.318Z"
   },
   {
    "duration": 6,
    "start_time": "2022-03-30T22:00:21.073Z"
   },
   {
    "duration": 14,
    "start_time": "2022-03-30T22:00:28.689Z"
   },
   {
    "duration": 10,
    "start_time": "2022-03-30T22:01:09.115Z"
   },
   {
    "duration": 27,
    "start_time": "2022-03-30T22:01:27.187Z"
   },
   {
    "duration": 11,
    "start_time": "2022-03-30T22:02:24.607Z"
   },
   {
    "duration": 6,
    "start_time": "2022-03-30T22:02:29.285Z"
   },
   {
    "duration": 6,
    "start_time": "2022-03-30T22:02:29.294Z"
   },
   {
    "duration": 70,
    "start_time": "2022-03-30T22:02:29.303Z"
   },
   {
    "duration": 27,
    "start_time": "2022-03-30T22:02:29.376Z"
   },
   {
    "duration": 5,
    "start_time": "2022-03-30T22:02:29.406Z"
   },
   {
    "duration": 13,
    "start_time": "2022-03-30T22:02:29.413Z"
   },
   {
    "duration": 62,
    "start_time": "2022-03-30T22:02:29.428Z"
   },
   {
    "duration": 6,
    "start_time": "2022-03-30T22:02:29.492Z"
   },
   {
    "duration": 11,
    "start_time": "2022-03-30T22:02:29.500Z"
   },
   {
    "duration": 18,
    "start_time": "2022-03-30T22:02:29.514Z"
   },
   {
    "duration": 19,
    "start_time": "2022-03-30T22:04:12.769Z"
   },
   {
    "duration": 19,
    "start_time": "2022-03-30T22:04:18.338Z"
   },
   {
    "duration": 26,
    "start_time": "2022-03-30T22:04:28.092Z"
   },
   {
    "duration": 21,
    "start_time": "2022-03-30T22:04:35.158Z"
   },
   {
    "duration": 1436,
    "start_time": "2022-03-31T07:28:51.591Z"
   },
   {
    "duration": 3,
    "start_time": "2022-03-31T07:28:53.029Z"
   },
   {
    "duration": 66,
    "start_time": "2022-03-31T07:28:53.033Z"
   },
   {
    "duration": 18,
    "start_time": "2022-03-31T07:28:53.102Z"
   },
   {
    "duration": 4,
    "start_time": "2022-03-31T07:28:53.122Z"
   },
   {
    "duration": 15,
    "start_time": "2022-03-31T07:28:53.128Z"
   },
   {
    "duration": 19,
    "start_time": "2022-03-31T07:28:53.144Z"
   },
   {
    "duration": 5,
    "start_time": "2022-03-31T07:28:53.164Z"
   },
   {
    "duration": 8,
    "start_time": "2022-03-31T07:28:53.171Z"
   },
   {
    "duration": 127,
    "start_time": "2022-03-31T07:29:03.034Z"
   },
   {
    "duration": 36,
    "start_time": "2022-03-31T07:29:11.179Z"
   },
   {
    "duration": 4,
    "start_time": "2022-03-31T08:16:07.907Z"
   },
   {
    "duration": 16,
    "start_time": "2022-03-31T08:16:07.913Z"
   },
   {
    "duration": 90,
    "start_time": "2022-03-31T08:16:07.931Z"
   },
   {
    "duration": 17,
    "start_time": "2022-03-31T08:16:08.023Z"
   },
   {
    "duration": 17,
    "start_time": "2022-03-31T08:16:08.042Z"
   },
   {
    "duration": 39,
    "start_time": "2022-03-31T08:16:08.060Z"
   },
   {
    "duration": 50,
    "start_time": "2022-03-31T08:16:08.101Z"
   },
   {
    "duration": 34,
    "start_time": "2022-03-31T08:16:08.152Z"
   },
   {
    "duration": 38,
    "start_time": "2022-03-31T08:16:08.188Z"
   },
   {
    "duration": 41,
    "start_time": "2022-03-31T08:16:08.227Z"
   },
   {
    "duration": 27,
    "start_time": "2022-03-31T08:16:08.270Z"
   },
   {
    "duration": 1505,
    "start_time": "2022-03-31T08:16:08.298Z"
   },
   {
    "duration": 35833,
    "start_time": "2022-03-31T08:16:09.805Z"
   },
   {
    "duration": 11,
    "start_time": "2022-03-31T08:16:45.640Z"
   },
   {
    "duration": 0,
    "start_time": "2022-03-31T08:16:45.653Z"
   },
   {
    "duration": 0,
    "start_time": "2022-03-31T08:16:45.655Z"
   },
   {
    "duration": 0,
    "start_time": "2022-03-31T08:16:45.656Z"
   },
   {
    "duration": 0,
    "start_time": "2022-03-31T08:16:45.656Z"
   },
   {
    "duration": 0,
    "start_time": "2022-03-31T08:16:45.658Z"
   },
   {
    "duration": 0,
    "start_time": "2022-03-31T08:16:45.659Z"
   },
   {
    "duration": 0,
    "start_time": "2022-03-31T08:16:45.660Z"
   },
   {
    "duration": 0,
    "start_time": "2022-03-31T08:16:45.661Z"
   },
   {
    "duration": 0,
    "start_time": "2022-03-31T08:16:45.662Z"
   },
   {
    "duration": 0,
    "start_time": "2022-03-31T08:16:45.663Z"
   },
   {
    "duration": 0,
    "start_time": "2022-03-31T08:16:45.664Z"
   },
   {
    "duration": 0,
    "start_time": "2022-03-31T08:16:45.665Z"
   },
   {
    "duration": 0,
    "start_time": "2022-03-31T08:16:45.666Z"
   },
   {
    "duration": 0,
    "start_time": "2022-03-31T08:16:45.667Z"
   },
   {
    "duration": 0,
    "start_time": "2022-03-31T08:16:45.668Z"
   },
   {
    "duration": 0,
    "start_time": "2022-03-31T08:16:45.669Z"
   },
   {
    "duration": 0,
    "start_time": "2022-03-31T08:16:45.670Z"
   },
   {
    "duration": 0,
    "start_time": "2022-03-31T08:16:45.672Z"
   },
   {
    "duration": 0,
    "start_time": "2022-03-31T08:16:45.673Z"
   },
   {
    "duration": 0,
    "start_time": "2022-03-31T08:16:45.674Z"
   },
   {
    "duration": 0,
    "start_time": "2022-03-31T08:16:45.675Z"
   },
   {
    "duration": 12,
    "start_time": "2022-03-31T08:18:04.146Z"
   },
   {
    "duration": 12,
    "start_time": "2022-03-31T08:18:52.459Z"
   },
   {
    "duration": 12,
    "start_time": "2022-03-31T08:22:25.054Z"
   },
   {
    "duration": 9,
    "start_time": "2022-03-31T08:23:06.027Z"
   },
   {
    "duration": 10,
    "start_time": "2022-03-31T08:23:27.117Z"
   },
   {
    "duration": 9,
    "start_time": "2022-03-31T08:23:36.766Z"
   },
   {
    "duration": 9,
    "start_time": "2022-03-31T08:23:44.317Z"
   },
   {
    "duration": 9,
    "start_time": "2022-03-31T08:23:57.774Z"
   },
   {
    "duration": 10,
    "start_time": "2022-03-31T08:24:05.485Z"
   },
   {
    "duration": 10,
    "start_time": "2022-03-31T08:28:50.751Z"
   },
   {
    "duration": 11,
    "start_time": "2022-03-31T08:30:49.664Z"
   },
   {
    "duration": 10,
    "start_time": "2022-03-31T08:31:06.633Z"
   },
   {
    "duration": 4,
    "start_time": "2022-03-31T08:36:13.297Z"
   },
   {
    "duration": 4,
    "start_time": "2022-03-31T08:36:27.504Z"
   },
   {
    "duration": 10,
    "start_time": "2022-03-31T08:36:49.226Z"
   },
   {
    "duration": 107,
    "start_time": "2022-03-31T08:55:44.854Z"
   },
   {
    "duration": 92,
    "start_time": "2022-03-31T08:55:57.958Z"
   },
   {
    "duration": 11,
    "start_time": "2022-03-31T08:56:09.264Z"
   },
   {
    "duration": 8,
    "start_time": "2022-03-31T08:56:35.175Z"
   },
   {
    "duration": 91,
    "start_time": "2022-03-31T08:57:16.567Z"
   },
   {
    "duration": 5,
    "start_time": "2022-03-31T08:57:25.734Z"
   },
   {
    "duration": 4,
    "start_time": "2022-03-31T09:05:09.946Z"
   },
   {
    "duration": 4,
    "start_time": "2022-03-31T09:06:55.359Z"
   },
   {
    "duration": 4,
    "start_time": "2022-03-31T09:11:04.709Z"
   },
   {
    "duration": 29,
    "start_time": "2022-03-31T09:11:04.715Z"
   },
   {
    "duration": 90,
    "start_time": "2022-03-31T09:11:04.746Z"
   },
   {
    "duration": 18,
    "start_time": "2022-03-31T09:11:04.837Z"
   },
   {
    "duration": 24,
    "start_time": "2022-03-31T09:11:04.857Z"
   },
   {
    "duration": 46,
    "start_time": "2022-03-31T09:11:04.883Z"
   },
   {
    "duration": 33,
    "start_time": "2022-03-31T09:11:04.931Z"
   },
   {
    "duration": 26,
    "start_time": "2022-03-31T09:11:04.965Z"
   },
   {
    "duration": 35,
    "start_time": "2022-03-31T09:11:04.993Z"
   },
   {
    "duration": 62,
    "start_time": "2022-03-31T09:11:05.031Z"
   },
   {
    "duration": 21,
    "start_time": "2022-03-31T09:11:05.095Z"
   },
   {
    "duration": 1447,
    "start_time": "2022-03-31T09:11:05.118Z"
   },
   {
    "duration": 35167,
    "start_time": "2022-03-31T09:11:06.567Z"
   },
   {
    "duration": 47205,
    "start_time": "2022-03-31T09:11:41.739Z"
   },
   {
    "duration": 4,
    "start_time": "2022-03-31T09:14:29.388Z"
   },
   {
    "duration": 10,
    "start_time": "2022-03-31T09:14:29.394Z"
   },
   {
    "duration": 59,
    "start_time": "2022-03-31T09:14:29.405Z"
   },
   {
    "duration": 18,
    "start_time": "2022-03-31T09:14:29.465Z"
   },
   {
    "duration": 5,
    "start_time": "2022-03-31T09:14:29.485Z"
   },
   {
    "duration": 10,
    "start_time": "2022-03-31T09:14:29.491Z"
   },
   {
    "duration": 43,
    "start_time": "2022-03-31T09:14:29.502Z"
   },
   {
    "duration": 5,
    "start_time": "2022-03-31T09:14:29.547Z"
   },
   {
    "duration": 9,
    "start_time": "2022-03-31T09:14:29.553Z"
   },
   {
    "duration": 28,
    "start_time": "2022-03-31T09:14:29.564Z"
   },
   {
    "duration": 5,
    "start_time": "2022-03-31T09:14:29.594Z"
   },
   {
    "duration": 1537,
    "start_time": "2022-03-31T09:14:29.601Z"
   },
   {
    "duration": 36152,
    "start_time": "2022-03-31T09:14:31.140Z"
   },
   {
    "duration": 46454,
    "start_time": "2022-03-31T09:15:07.295Z"
   },
   {
    "duration": 295,
    "start_time": "2022-03-31T09:15:53.844Z"
   },
   {
    "duration": 1522,
    "start_time": "2022-03-31T09:15:54.141Z"
   },
   {
    "duration": 35546,
    "start_time": "2022-03-31T09:15:55.665Z"
   },
   {
    "duration": 42925,
    "start_time": "2022-03-31T09:16:31.213Z"
   },
   {
    "duration": 205,
    "start_time": "2022-03-31T09:17:14.146Z"
   },
   {
    "duration": 105,
    "start_time": "2022-03-31T09:17:14.439Z"
   },
   {
    "duration": 12,
    "start_time": "2022-03-31T09:17:14.546Z"
   },
   {
    "duration": 1731,
    "start_time": "2022-03-31T09:17:14.560Z"
   },
   {
    "duration": 47620,
    "start_time": "2022-03-31T09:17:16.292Z"
   },
   {
    "duration": 52932,
    "start_time": "2022-03-31T09:18:03.914Z"
   },
   {
    "duration": 291,
    "start_time": "2022-03-31T09:18:56.848Z"
   },
   {
    "duration": 104,
    "start_time": "2022-03-31T09:18:57.141Z"
   },
   {
    "duration": 18,
    "start_time": "2022-03-31T09:18:57.247Z"
   },
   {
    "duration": 715,
    "start_time": "2022-03-31T09:18:57.267Z"
   },
   {
    "duration": 19682,
    "start_time": "2022-03-31T09:18:57.983Z"
   },
   {
    "duration": 27176,
    "start_time": "2022-03-31T09:19:17.667Z"
   },
   {
    "duration": 200,
    "start_time": "2022-03-31T09:19:44.937Z"
   },
   {
    "duration": 141,
    "start_time": "2022-03-31T09:19:45.140Z"
   },
   {
    "duration": 4,
    "start_time": "2022-03-31T09:19:45.283Z"
   },
   {
    "duration": 180,
    "start_time": "2022-03-31T09:19:45.289Z"
   },
   {
    "duration": 47,
    "start_time": "2022-03-31T09:19:45.471Z"
   },
   {
    "duration": 34,
    "start_time": "2022-03-31T09:30:22.910Z"
   },
   {
    "duration": 9,
    "start_time": "2022-03-31T09:49:03.720Z"
   },
   {
    "duration": 10,
    "start_time": "2022-03-31T09:49:38.102Z"
   },
   {
    "duration": 4,
    "start_time": "2022-03-31T09:52:07.118Z"
   },
   {
    "duration": 4,
    "start_time": "2022-03-31T09:52:33.602Z"
   },
   {
    "duration": 1635,
    "start_time": "2022-03-31T10:36:53.822Z"
   },
   {
    "duration": 3,
    "start_time": "2022-03-31T10:36:55.459Z"
   },
   {
    "duration": 74,
    "start_time": "2022-03-31T10:36:55.464Z"
   },
   {
    "duration": 24,
    "start_time": "2022-03-31T10:36:55.540Z"
   },
   {
    "duration": 5,
    "start_time": "2022-03-31T10:36:55.566Z"
   },
   {
    "duration": 11,
    "start_time": "2022-03-31T10:36:55.573Z"
   },
   {
    "duration": 18,
    "start_time": "2022-03-31T10:36:55.586Z"
   },
   {
    "duration": 32,
    "start_time": "2022-03-31T10:36:55.606Z"
   },
   {
    "duration": 13,
    "start_time": "2022-03-31T10:36:55.641Z"
   },
   {
    "duration": 14,
    "start_time": "2022-03-31T10:37:00.073Z"
   },
   {
    "duration": 15,
    "start_time": "2022-03-31T10:51:45.014Z"
   },
   {
    "duration": 13,
    "start_time": "2022-03-31T10:51:55.000Z"
   },
   {
    "duration": 114,
    "start_time": "2022-03-31T10:56:24.323Z"
   },
   {
    "duration": 14,
    "start_time": "2022-03-31T10:56:34.492Z"
   },
   {
    "duration": 14,
    "start_time": "2022-03-31T11:00:41.880Z"
   },
   {
    "duration": 10,
    "start_time": "2022-03-31T11:00:53.676Z"
   },
   {
    "duration": 28,
    "start_time": "2022-03-31T11:03:18.806Z"
   },
   {
    "duration": 13,
    "start_time": "2022-03-31T11:03:38.918Z"
   },
   {
    "duration": 4,
    "start_time": "2022-03-31T11:35:32.539Z"
   },
   {
    "duration": 26,
    "start_time": "2022-03-31T11:35:32.545Z"
   },
   {
    "duration": 87,
    "start_time": "2022-03-31T11:35:32.573Z"
   },
   {
    "duration": 17,
    "start_time": "2022-03-31T11:35:32.662Z"
   },
   {
    "duration": 24,
    "start_time": "2022-03-31T11:35:32.681Z"
   },
   {
    "duration": 38,
    "start_time": "2022-03-31T11:35:32.706Z"
   },
   {
    "duration": 31,
    "start_time": "2022-03-31T11:35:32.746Z"
   },
   {
    "duration": 8,
    "start_time": "2022-03-31T11:35:32.779Z"
   },
   {
    "duration": 34,
    "start_time": "2022-03-31T11:35:32.788Z"
   },
   {
    "duration": 47,
    "start_time": "2022-03-31T11:35:32.824Z"
   },
   {
    "duration": 63,
    "start_time": "2022-03-31T11:35:32.874Z"
   },
   {
    "duration": 6,
    "start_time": "2022-03-31T11:35:32.938Z"
   },
   {
    "duration": 1539,
    "start_time": "2022-03-31T11:35:32.946Z"
   },
   {
    "duration": 37082,
    "start_time": "2022-03-31T11:35:34.487Z"
   },
   {
    "duration": 41567,
    "start_time": "2022-03-31T11:36:11.571Z"
   },
   {
    "duration": 193,
    "start_time": "2022-03-31T11:36:53.146Z"
   },
   {
    "duration": 1573,
    "start_time": "2022-03-31T11:36:53.341Z"
   },
   {
    "duration": 37180,
    "start_time": "2022-03-31T11:36:54.915Z"
   },
   {
    "duration": 47543,
    "start_time": "2022-03-31T11:37:32.097Z"
   },
   {
    "duration": 198,
    "start_time": "2022-03-31T11:38:19.642Z"
   },
   {
    "duration": 102,
    "start_time": "2022-03-31T11:38:19.843Z"
   },
   {
    "duration": 10,
    "start_time": "2022-03-31T11:38:19.947Z"
   },
   {
    "duration": 1854,
    "start_time": "2022-03-31T11:38:19.959Z"
   },
   {
    "duration": 52339,
    "start_time": "2022-03-31T11:38:21.814Z"
   },
   {
    "duration": 64783,
    "start_time": "2022-03-31T11:39:14.155Z"
   },
   {
    "duration": 206,
    "start_time": "2022-03-31T11:40:18.947Z"
   },
   {
    "duration": 103,
    "start_time": "2022-03-31T11:40:19.239Z"
   },
   {
    "duration": 6,
    "start_time": "2022-03-31T11:40:19.344Z"
   },
   {
    "duration": 777,
    "start_time": "2022-03-31T11:40:19.353Z"
   },
   {
    "duration": 20536,
    "start_time": "2022-03-31T11:40:20.132Z"
   },
   {
    "duration": 34276,
    "start_time": "2022-03-31T11:40:40.670Z"
   },
   {
    "duration": 298,
    "start_time": "2022-03-31T11:41:15.039Z"
   },
   {
    "duration": 98,
    "start_time": "2022-03-31T11:41:15.341Z"
   },
   {
    "duration": 47,
    "start_time": "2022-03-31T11:41:15.441Z"
   },
   {
    "duration": 0,
    "start_time": "2022-03-31T11:41:15.489Z"
   },
   {
    "duration": 0,
    "start_time": "2022-03-31T11:41:15.491Z"
   },
   {
    "duration": 4,
    "start_time": "2022-03-31T11:56:09.223Z"
   },
   {
    "duration": 20,
    "start_time": "2022-03-31T11:56:09.234Z"
   },
   {
    "duration": 70,
    "start_time": "2022-03-31T11:56:09.256Z"
   },
   {
    "duration": 17,
    "start_time": "2022-03-31T11:56:09.328Z"
   },
   {
    "duration": 13,
    "start_time": "2022-03-31T11:56:09.346Z"
   },
   {
    "duration": 22,
    "start_time": "2022-03-31T11:56:09.361Z"
   },
   {
    "duration": 29,
    "start_time": "2022-03-31T11:56:09.385Z"
   },
   {
    "duration": 8,
    "start_time": "2022-03-31T11:56:09.415Z"
   },
   {
    "duration": 13,
    "start_time": "2022-03-31T11:56:09.424Z"
   },
   {
    "duration": 16,
    "start_time": "2022-03-31T11:56:09.438Z"
   },
   {
    "duration": 24,
    "start_time": "2022-03-31T11:56:09.455Z"
   },
   {
    "duration": 5,
    "start_time": "2022-03-31T11:56:09.481Z"
   },
   {
    "duration": 1510,
    "start_time": "2022-03-31T11:56:09.488Z"
   },
   {
    "duration": 33577,
    "start_time": "2022-03-31T11:56:11.000Z"
   },
   {
    "duration": 46366,
    "start_time": "2022-03-31T11:56:44.580Z"
   },
   {
    "duration": 202,
    "start_time": "2022-03-31T11:57:31.040Z"
   },
   {
    "duration": 2458,
    "start_time": "2022-03-31T11:57:31.245Z"
   },
   {
    "duration": 33017,
    "start_time": "2022-03-31T11:57:33.704Z"
   },
   {
    "duration": 47516,
    "start_time": "2022-03-31T11:58:06.723Z"
   },
   {
    "duration": 121,
    "start_time": "2022-03-31T11:58:54.241Z"
   },
   {
    "duration": 104,
    "start_time": "2022-03-31T11:58:54.444Z"
   },
   {
    "duration": 5,
    "start_time": "2022-03-31T11:58:54.549Z"
   },
   {
    "duration": 1685,
    "start_time": "2022-03-31T11:58:54.556Z"
   },
   {
    "duration": 45103,
    "start_time": "2022-03-31T11:58:56.243Z"
   },
   {
    "duration": 60492,
    "start_time": "2022-03-31T11:59:41.347Z"
   },
   {
    "duration": 205,
    "start_time": "2022-03-31T12:00:41.841Z"
   },
   {
    "duration": 98,
    "start_time": "2022-03-31T12:00:42.048Z"
   },
   {
    "duration": 48,
    "start_time": "2022-03-31T12:00:42.147Z"
   },
   {
    "duration": 838,
    "start_time": "2022-03-31T12:00:42.196Z"
   },
   {
    "duration": 17929,
    "start_time": "2022-03-31T12:00:43.038Z"
   },
   {
    "duration": 29875,
    "start_time": "2022-03-31T12:01:00.969Z"
   },
   {
    "duration": 217,
    "start_time": "2022-03-31T12:01:30.847Z"
   },
   {
    "duration": 99,
    "start_time": "2022-03-31T12:01:31.139Z"
   },
   {
    "duration": 24,
    "start_time": "2022-03-31T12:01:31.240Z"
   },
   {
    "duration": 0,
    "start_time": "2022-03-31T12:01:31.266Z"
   },
   {
    "duration": 0,
    "start_time": "2022-03-31T12:01:31.267Z"
   },
   {
    "duration": 14,
    "start_time": "2022-03-31T12:05:18.853Z"
   },
   {
    "duration": 16,
    "start_time": "2022-03-31T12:15:30.600Z"
   },
   {
    "duration": 16,
    "start_time": "2022-03-31T12:16:13.488Z"
   },
   {
    "duration": 16,
    "start_time": "2022-03-31T12:17:10.646Z"
   },
   {
    "duration": 34,
    "start_time": "2022-03-31T12:17:37.130Z"
   },
   {
    "duration": 20,
    "start_time": "2022-03-31T12:17:38.018Z"
   },
   {
    "duration": 31,
    "start_time": "2022-03-31T12:17:53.666Z"
   },
   {
    "duration": 17,
    "start_time": "2022-03-31T12:17:54.499Z"
   },
   {
    "duration": 32,
    "start_time": "2022-03-31T12:18:06.666Z"
   },
   {
    "duration": 17,
    "start_time": "2022-03-31T12:18:08.299Z"
   },
   {
    "duration": 15,
    "start_time": "2022-03-31T12:19:03.859Z"
   },
   {
    "duration": 21,
    "start_time": "2022-03-31T12:27:52.396Z"
   },
   {
    "duration": 4,
    "start_time": "2022-03-31T12:28:09.703Z"
   },
   {
    "duration": 5,
    "start_time": "2022-03-31T12:28:09.709Z"
   },
   {
    "duration": 55,
    "start_time": "2022-03-31T12:28:09.716Z"
   },
   {
    "duration": 18,
    "start_time": "2022-03-31T12:28:09.772Z"
   },
   {
    "duration": 4,
    "start_time": "2022-03-31T12:28:09.792Z"
   },
   {
    "duration": 15,
    "start_time": "2022-03-31T12:28:09.797Z"
   },
   {
    "duration": 37,
    "start_time": "2022-03-31T12:28:09.813Z"
   },
   {
    "duration": 5,
    "start_time": "2022-03-31T12:28:09.852Z"
   },
   {
    "duration": 10,
    "start_time": "2022-03-31T12:28:09.858Z"
   },
   {
    "duration": 13,
    "start_time": "2022-03-31T12:28:09.871Z"
   },
   {
    "duration": 59,
    "start_time": "2022-03-31T12:28:09.885Z"
   },
   {
    "duration": 24,
    "start_time": "2022-03-31T12:28:18.877Z"
   },
   {
    "duration": 15,
    "start_time": "2022-03-31T12:28:21.461Z"
   },
   {
    "duration": 24,
    "start_time": "2022-03-31T12:28:29.997Z"
   },
   {
    "duration": 21,
    "start_time": "2022-03-31T12:29:15.461Z"
   },
   {
    "duration": 21,
    "start_time": "2022-03-31T12:29:42.437Z"
   },
   {
    "duration": 22,
    "start_time": "2022-03-31T12:30:23.653Z"
   },
   {
    "duration": 16,
    "start_time": "2022-03-31T12:30:42.053Z"
   },
   {
    "duration": 31,
    "start_time": "2022-03-31T12:30:51.580Z"
   },
   {
    "duration": 28,
    "start_time": "2022-03-31T12:31:17.151Z"
   },
   {
    "duration": 51,
    "start_time": "2022-03-31T12:32:16.237Z"
   },
   {
    "duration": 4,
    "start_time": "2022-03-31T12:32:32.136Z"
   },
   {
    "duration": 6,
    "start_time": "2022-03-31T12:32:32.142Z"
   },
   {
    "duration": 57,
    "start_time": "2022-03-31T12:32:32.150Z"
   },
   {
    "duration": 43,
    "start_time": "2022-03-31T12:32:32.208Z"
   },
   {
    "duration": 4,
    "start_time": "2022-03-31T12:32:32.253Z"
   },
   {
    "duration": 17,
    "start_time": "2022-03-31T12:32:32.259Z"
   },
   {
    "duration": 25,
    "start_time": "2022-03-31T12:32:32.278Z"
   },
   {
    "duration": 12,
    "start_time": "2022-03-31T12:32:32.305Z"
   },
   {
    "duration": 24,
    "start_time": "2022-03-31T12:32:32.319Z"
   },
   {
    "duration": 19,
    "start_time": "2022-03-31T12:32:32.345Z"
   },
   {
    "duration": 61,
    "start_time": "2022-03-31T12:32:32.367Z"
   },
   {
    "duration": 11,
    "start_time": "2022-03-31T12:32:32.430Z"
   },
   {
    "duration": 1509,
    "start_time": "2022-03-31T12:32:32.443Z"
   },
   {
    "duration": 36478,
    "start_time": "2022-03-31T12:32:33.954Z"
   },
   {
    "duration": 44209,
    "start_time": "2022-03-31T12:33:10.434Z"
   },
   {
    "duration": 302,
    "start_time": "2022-03-31T12:33:54.645Z"
   },
   {
    "duration": 1513,
    "start_time": "2022-03-31T12:33:55.040Z"
   },
   {
    "duration": 35070,
    "start_time": "2022-03-31T12:33:56.555Z"
   },
   {
    "duration": 44913,
    "start_time": "2022-03-31T12:34:31.627Z"
   },
   {
    "duration": 200,
    "start_time": "2022-03-31T12:35:16.543Z"
   },
   {
    "duration": 101,
    "start_time": "2022-03-31T12:35:16.748Z"
   },
   {
    "duration": 28,
    "start_time": "2022-03-31T12:35:16.851Z"
   },
   {
    "duration": 45,
    "start_time": "2022-03-31T12:35:16.881Z"
   },
   {
    "duration": 1795,
    "start_time": "2022-03-31T12:35:16.928Z"
   },
   {
    "duration": 37794,
    "start_time": "2022-03-31T12:35:18.725Z"
   },
   {
    "duration": 0,
    "start_time": "2022-03-31T12:35:56.521Z"
   },
   {
    "duration": 0,
    "start_time": "2022-03-31T12:35:56.522Z"
   },
   {
    "duration": 0,
    "start_time": "2022-03-31T12:35:56.523Z"
   },
   {
    "duration": 0,
    "start_time": "2022-03-31T12:35:56.523Z"
   },
   {
    "duration": 0,
    "start_time": "2022-03-31T12:35:56.524Z"
   },
   {
    "duration": 0,
    "start_time": "2022-03-31T12:35:56.538Z"
   },
   {
    "duration": 0,
    "start_time": "2022-03-31T12:35:56.539Z"
   },
   {
    "duration": 0,
    "start_time": "2022-03-31T12:35:56.540Z"
   },
   {
    "duration": 0,
    "start_time": "2022-03-31T12:35:56.541Z"
   },
   {
    "duration": 0,
    "start_time": "2022-03-31T12:35:56.542Z"
   },
   {
    "duration": 0,
    "start_time": "2022-03-31T12:35:56.543Z"
   },
   {
    "duration": 0,
    "start_time": "2022-03-31T12:35:56.544Z"
   },
   {
    "duration": 0,
    "start_time": "2022-03-31T12:35:56.545Z"
   },
   {
    "duration": 48,
    "start_time": "2022-03-31T12:35:59.854Z"
   },
   {
    "duration": 4,
    "start_time": "2022-03-31T12:36:15.106Z"
   },
   {
    "duration": 24,
    "start_time": "2022-03-31T12:36:15.112Z"
   },
   {
    "duration": 67,
    "start_time": "2022-03-31T12:36:15.138Z"
   },
   {
    "duration": 17,
    "start_time": "2022-03-31T12:36:15.207Z"
   },
   {
    "duration": 16,
    "start_time": "2022-03-31T12:36:15.226Z"
   },
   {
    "duration": 34,
    "start_time": "2022-03-31T12:36:15.243Z"
   },
   {
    "duration": 26,
    "start_time": "2022-03-31T12:36:15.279Z"
   },
   {
    "duration": 21,
    "start_time": "2022-03-31T12:36:15.307Z"
   },
   {
    "duration": 30,
    "start_time": "2022-03-31T12:36:15.330Z"
   },
   {
    "duration": 35,
    "start_time": "2022-03-31T12:36:15.361Z"
   },
   {
    "duration": 66,
    "start_time": "2022-03-31T12:36:15.398Z"
   },
   {
    "duration": 4,
    "start_time": "2022-03-31T12:37:04.633Z"
   },
   {
    "duration": 12,
    "start_time": "2022-03-31T12:37:04.639Z"
   },
   {
    "duration": 52,
    "start_time": "2022-03-31T12:37:04.653Z"
   },
   {
    "duration": 19,
    "start_time": "2022-03-31T12:37:04.706Z"
   },
   {
    "duration": 13,
    "start_time": "2022-03-31T12:37:04.727Z"
   },
   {
    "duration": 12,
    "start_time": "2022-03-31T12:37:04.742Z"
   },
   {
    "duration": 20,
    "start_time": "2022-03-31T12:37:04.756Z"
   },
   {
    "duration": 5,
    "start_time": "2022-03-31T12:37:04.777Z"
   },
   {
    "duration": 12,
    "start_time": "2022-03-31T12:37:04.784Z"
   },
   {
    "duration": 40,
    "start_time": "2022-03-31T12:37:04.798Z"
   },
   {
    "duration": 48,
    "start_time": "2022-03-31T12:37:06.929Z"
   },
   {
    "duration": 4,
    "start_time": "2022-03-31T12:37:52.017Z"
   },
   {
    "duration": 8,
    "start_time": "2022-03-31T12:37:52.023Z"
   },
   {
    "duration": 52,
    "start_time": "2022-03-31T12:37:52.033Z"
   },
   {
    "duration": 17,
    "start_time": "2022-03-31T12:37:52.086Z"
   },
   {
    "duration": 4,
    "start_time": "2022-03-31T12:37:52.105Z"
   },
   {
    "duration": 33,
    "start_time": "2022-03-31T12:37:52.111Z"
   },
   {
    "duration": 18,
    "start_time": "2022-03-31T12:37:52.146Z"
   },
   {
    "duration": 5,
    "start_time": "2022-03-31T12:37:52.165Z"
   },
   {
    "duration": 9,
    "start_time": "2022-03-31T12:37:52.172Z"
   },
   {
    "duration": 13,
    "start_time": "2022-03-31T12:37:52.182Z"
   },
   {
    "duration": 89,
    "start_time": "2022-03-31T12:37:52.197Z"
   },
   {
    "duration": 5,
    "start_time": "2022-03-31T12:37:52.287Z"
   },
   {
    "duration": 1490,
    "start_time": "2022-03-31T12:37:52.294Z"
   },
   {
    "duration": 37459,
    "start_time": "2022-03-31T12:37:53.786Z"
   },
   {
    "duration": 43696,
    "start_time": "2022-03-31T12:38:31.246Z"
   },
   {
    "duration": 197,
    "start_time": "2022-03-31T12:39:14.947Z"
   },
   {
    "duration": 1597,
    "start_time": "2022-03-31T12:39:15.147Z"
   },
   {
    "duration": 35957,
    "start_time": "2022-03-31T12:39:16.746Z"
   },
   {
    "duration": 47635,
    "start_time": "2022-03-31T12:39:52.704Z"
   },
   {
    "duration": 201,
    "start_time": "2022-03-31T12:40:40.341Z"
   },
   {
    "duration": 106,
    "start_time": "2022-03-31T12:40:40.544Z"
   },
   {
    "duration": 11,
    "start_time": "2022-03-31T12:40:40.651Z"
   },
   {
    "duration": 13,
    "start_time": "2022-03-31T12:40:40.664Z"
   },
   {
    "duration": 1847,
    "start_time": "2022-03-31T12:40:40.678Z"
   },
   {
    "duration": 49046,
    "start_time": "2022-03-31T12:40:42.526Z"
   },
   {
    "duration": 65070,
    "start_time": "2022-03-31T12:41:31.574Z"
   },
   {
    "duration": 391,
    "start_time": "2022-03-31T12:42:36.646Z"
   },
   {
    "duration": 99,
    "start_time": "2022-03-31T12:42:37.044Z"
   },
   {
    "duration": 5,
    "start_time": "2022-03-31T12:42:37.147Z"
   },
   {
    "duration": 793,
    "start_time": "2022-03-31T12:42:37.155Z"
   },
   {
    "duration": 20147,
    "start_time": "2022-03-31T12:42:37.951Z"
   },
   {
    "duration": 34147,
    "start_time": "2022-03-31T12:42:58.100Z"
   },
   {
    "duration": 208,
    "start_time": "2022-03-31T12:43:32.340Z"
   },
   {
    "duration": 93,
    "start_time": "2022-03-31T12:43:32.550Z"
   },
   {
    "duration": 128,
    "start_time": "2022-03-31T12:43:32.646Z"
   },
   {
    "duration": 0,
    "start_time": "2022-03-31T12:43:32.775Z"
   },
   {
    "duration": 0,
    "start_time": "2022-03-31T12:43:32.777Z"
   },
   {
    "duration": 17,
    "start_time": "2022-03-31T12:46:54.048Z"
   },
   {
    "duration": 12,
    "start_time": "2022-03-31T12:47:01.200Z"
   },
   {
    "duration": 4,
    "start_time": "2022-03-31T12:48:03.779Z"
   },
   {
    "duration": 11,
    "start_time": "2022-03-31T12:48:03.785Z"
   },
   {
    "duration": 60,
    "start_time": "2022-03-31T12:48:03.798Z"
   },
   {
    "duration": 18,
    "start_time": "2022-03-31T12:48:03.860Z"
   },
   {
    "duration": 4,
    "start_time": "2022-03-31T12:48:03.880Z"
   },
   {
    "duration": 14,
    "start_time": "2022-03-31T12:48:03.886Z"
   },
   {
    "duration": 48,
    "start_time": "2022-03-31T12:48:03.902Z"
   },
   {
    "duration": 5,
    "start_time": "2022-03-31T12:48:03.952Z"
   },
   {
    "duration": 22,
    "start_time": "2022-03-31T12:48:03.958Z"
   },
   {
    "duration": 23,
    "start_time": "2022-03-31T12:48:03.982Z"
   },
   {
    "duration": 64,
    "start_time": "2022-03-31T12:48:04.008Z"
   },
   {
    "duration": 5,
    "start_time": "2022-03-31T12:48:04.074Z"
   },
   {
    "duration": 1495,
    "start_time": "2022-03-31T12:48:04.080Z"
   },
   {
    "duration": 0,
    "start_time": "2022-03-31T12:48:43.666Z"
   },
   {
    "duration": 0,
    "start_time": "2022-03-31T12:48:43.666Z"
   },
   {
    "duration": 0,
    "start_time": "2022-03-31T12:48:43.667Z"
   },
   {
    "duration": 0,
    "start_time": "2022-03-31T12:48:43.668Z"
   },
   {
    "duration": 0,
    "start_time": "2022-03-31T12:48:43.669Z"
   },
   {
    "duration": 0,
    "start_time": "2022-03-31T12:48:43.670Z"
   },
   {
    "duration": 0,
    "start_time": "2022-03-31T12:48:43.671Z"
   },
   {
    "duration": 0,
    "start_time": "2022-03-31T12:48:43.672Z"
   },
   {
    "duration": 0,
    "start_time": "2022-03-31T12:48:43.673Z"
   },
   {
    "duration": 0,
    "start_time": "2022-03-31T12:48:43.674Z"
   },
   {
    "duration": 0,
    "start_time": "2022-03-31T12:48:43.675Z"
   },
   {
    "duration": 0,
    "start_time": "2022-03-31T12:48:43.676Z"
   },
   {
    "duration": 0,
    "start_time": "2022-03-31T12:48:43.677Z"
   },
   {
    "duration": 0,
    "start_time": "2022-03-31T12:48:43.738Z"
   },
   {
    "duration": 0,
    "start_time": "2022-03-31T12:48:43.739Z"
   },
   {
    "duration": 0,
    "start_time": "2022-03-31T12:48:43.740Z"
   },
   {
    "duration": 0,
    "start_time": "2022-03-31T12:48:43.741Z"
   },
   {
    "duration": 0,
    "start_time": "2022-03-31T12:48:43.742Z"
   },
   {
    "duration": 0,
    "start_time": "2022-03-31T12:48:43.743Z"
   },
   {
    "duration": 0,
    "start_time": "2022-03-31T12:48:43.744Z"
   },
   {
    "duration": 0,
    "start_time": "2022-03-31T12:48:43.745Z"
   },
   {
    "duration": 0,
    "start_time": "2022-03-31T12:48:43.746Z"
   },
   {
    "duration": 0,
    "start_time": "2022-03-31T12:48:43.747Z"
   },
   {
    "duration": 0,
    "start_time": "2022-03-31T12:48:43.748Z"
   },
   {
    "duration": 0,
    "start_time": "2022-03-31T12:48:43.749Z"
   },
   {
    "duration": 0,
    "start_time": "2022-03-31T12:48:43.750Z"
   },
   {
    "duration": 0,
    "start_time": "2022-03-31T12:48:43.752Z"
   },
   {
    "duration": 0,
    "start_time": "2022-03-31T12:48:43.753Z"
   },
   {
    "duration": 1,
    "start_time": "2022-03-31T12:48:43.753Z"
   },
   {
    "duration": 0,
    "start_time": "2022-03-31T12:48:43.755Z"
   },
   {
    "duration": 0,
    "start_time": "2022-03-31T12:48:43.755Z"
   },
   {
    "duration": 0,
    "start_time": "2022-03-31T12:48:43.756Z"
   },
   {
    "duration": 0,
    "start_time": "2022-03-31T12:48:43.757Z"
   },
   {
    "duration": 0,
    "start_time": "2022-03-31T12:48:43.758Z"
   },
   {
    "duration": 0,
    "start_time": "2022-03-31T12:48:43.759Z"
   },
   {
    "duration": 0,
    "start_time": "2022-03-31T12:48:43.760Z"
   },
   {
    "duration": 4,
    "start_time": "2022-03-31T12:48:46.129Z"
   },
   {
    "duration": 5,
    "start_time": "2022-03-31T12:48:46.136Z"
   },
   {
    "duration": 51,
    "start_time": "2022-03-31T12:48:46.142Z"
   },
   {
    "duration": 19,
    "start_time": "2022-03-31T12:48:46.195Z"
   },
   {
    "duration": 5,
    "start_time": "2022-03-31T12:48:46.238Z"
   },
   {
    "duration": 10,
    "start_time": "2022-03-31T12:48:46.245Z"
   },
   {
    "duration": 21,
    "start_time": "2022-03-31T12:48:46.258Z"
   },
   {
    "duration": 6,
    "start_time": "2022-03-31T12:48:46.281Z"
   },
   {
    "duration": 53,
    "start_time": "2022-03-31T12:48:46.290Z"
   },
   {
    "duration": 15,
    "start_time": "2022-03-31T12:48:46.345Z"
   },
   {
    "duration": 76,
    "start_time": "2022-03-31T12:48:46.363Z"
   },
   {
    "duration": 5,
    "start_time": "2022-03-31T12:48:46.441Z"
   },
   {
    "duration": 1392,
    "start_time": "2022-03-31T12:48:46.448Z"
   },
   {
    "duration": 32927,
    "start_time": "2022-03-31T12:48:47.841Z"
   },
   {
    "duration": 43068,
    "start_time": "2022-03-31T12:49:20.770Z"
   },
   {
    "duration": 200,
    "start_time": "2022-03-31T12:50:03.847Z"
   },
   {
    "duration": 1382,
    "start_time": "2022-03-31T12:50:04.139Z"
   },
   {
    "duration": 31919,
    "start_time": "2022-03-31T12:50:05.523Z"
   },
   {
    "duration": 48901,
    "start_time": "2022-03-31T12:50:37.443Z"
   },
   {
    "duration": 303,
    "start_time": "2022-03-31T12:51:26.346Z"
   },
   {
    "duration": 12,
    "start_time": "2022-03-31T12:51:26.737Z"
   },
   {
    "duration": 6,
    "start_time": "2022-03-31T12:51:26.751Z"
   },
   {
    "duration": 1534,
    "start_time": "2022-03-31T12:51:26.759Z"
   },
   {
    "duration": 41772,
    "start_time": "2022-03-31T12:51:28.296Z"
   },
   {
    "duration": 58274,
    "start_time": "2022-03-31T12:52:10.070Z"
   },
   {
    "duration": 397,
    "start_time": "2022-03-31T12:53:08.347Z"
   },
   {
    "duration": 102,
    "start_time": "2022-03-31T12:53:08.746Z"
   },
   {
    "duration": 5,
    "start_time": "2022-03-31T12:53:08.850Z"
   },
   {
    "duration": 714,
    "start_time": "2022-03-31T12:53:08.857Z"
   },
   {
    "duration": 18804,
    "start_time": "2022-03-31T12:53:09.573Z"
   },
   {
    "duration": 27365,
    "start_time": "2022-03-31T12:53:28.379Z"
   },
   {
    "duration": 393,
    "start_time": "2022-03-31T12:53:55.746Z"
   },
   {
    "duration": 244,
    "start_time": "2022-03-31T12:53:56.142Z"
   },
   {
    "duration": 3,
    "start_time": "2022-03-31T12:53:56.387Z"
   },
   {
    "duration": 165,
    "start_time": "2022-03-31T12:53:56.392Z"
   },
   {
    "duration": 92,
    "start_time": "2022-03-31T12:53:56.559Z"
   },
   {
    "duration": 5,
    "start_time": "2022-03-31T12:56:20.307Z"
   },
   {
    "duration": 8,
    "start_time": "2022-03-31T12:56:20.314Z"
   },
   {
    "duration": 54,
    "start_time": "2022-03-31T12:56:20.324Z"
   },
   {
    "duration": 17,
    "start_time": "2022-03-31T12:56:20.380Z"
   },
   {
    "duration": 4,
    "start_time": "2022-03-31T12:56:20.399Z"
   },
   {
    "duration": 41,
    "start_time": "2022-03-31T12:56:20.405Z"
   },
   {
    "duration": 18,
    "start_time": "2022-03-31T12:56:20.448Z"
   },
   {
    "duration": 5,
    "start_time": "2022-03-31T12:56:20.467Z"
   },
   {
    "duration": 12,
    "start_time": "2022-03-31T12:56:20.474Z"
   },
   {
    "duration": 51,
    "start_time": "2022-03-31T12:56:20.488Z"
   },
   {
    "duration": 49,
    "start_time": "2022-03-31T12:56:20.541Z"
   },
   {
    "duration": 5,
    "start_time": "2022-03-31T12:56:20.592Z"
   },
   {
    "duration": 1724,
    "start_time": "2022-03-31T12:56:20.598Z"
   },
   {
    "duration": 40183,
    "start_time": "2022-03-31T12:56:22.324Z"
   },
   {
    "duration": 47137,
    "start_time": "2022-03-31T12:57:02.509Z"
   },
   {
    "duration": 207,
    "start_time": "2022-03-31T12:57:49.740Z"
   },
   {
    "duration": 1715,
    "start_time": "2022-03-31T12:57:50.042Z"
   },
   {
    "duration": 39914,
    "start_time": "2022-03-31T12:57:51.759Z"
   },
   {
    "duration": 51671,
    "start_time": "2022-03-31T12:58:31.675Z"
   },
   {
    "duration": 389,
    "start_time": "2022-03-31T12:59:23.348Z"
   },
   {
    "duration": 98,
    "start_time": "2022-03-31T12:59:23.740Z"
   },
   {
    "duration": 11,
    "start_time": "2022-03-31T12:59:23.840Z"
   },
   {
    "duration": 2050,
    "start_time": "2022-03-31T12:59:23.853Z"
   },
   {
    "duration": 54450,
    "start_time": "2022-03-31T12:59:25.906Z"
   },
   {
    "duration": 69580,
    "start_time": "2022-03-31T13:00:20.358Z"
   },
   {
    "duration": 199,
    "start_time": "2022-03-31T13:01:29.946Z"
   },
   {
    "duration": 103,
    "start_time": "2022-03-31T13:01:30.147Z"
   },
   {
    "duration": 6,
    "start_time": "2022-03-31T13:01:30.252Z"
   },
   {
    "duration": 836,
    "start_time": "2022-03-31T13:01:30.260Z"
   },
   {
    "duration": 21046,
    "start_time": "2022-03-31T13:01:31.098Z"
   },
   {
    "duration": 35097,
    "start_time": "2022-03-31T13:01:52.146Z"
   },
   {
    "duration": 292,
    "start_time": "2022-03-31T13:02:27.246Z"
   },
   {
    "duration": 127,
    "start_time": "2022-03-31T13:02:27.541Z"
   },
   {
    "duration": 3,
    "start_time": "2022-03-31T13:02:27.670Z"
   },
   {
    "duration": 159,
    "start_time": "2022-03-31T13:02:27.674Z"
   },
   {
    "duration": 41,
    "start_time": "2022-03-31T13:02:27.835Z"
   },
   {
    "duration": 4,
    "start_time": "2022-03-31T13:10:15.080Z"
   },
   {
    "duration": 8,
    "start_time": "2022-03-31T13:10:15.086Z"
   },
   {
    "duration": 53,
    "start_time": "2022-03-31T13:10:15.096Z"
   },
   {
    "duration": 19,
    "start_time": "2022-03-31T13:10:15.150Z"
   },
   {
    "duration": 4,
    "start_time": "2022-03-31T13:10:15.172Z"
   },
   {
    "duration": 14,
    "start_time": "2022-03-31T13:10:15.177Z"
   },
   {
    "duration": 46,
    "start_time": "2022-03-31T13:10:15.193Z"
   },
   {
    "duration": 6,
    "start_time": "2022-03-31T13:10:15.241Z"
   },
   {
    "duration": 14,
    "start_time": "2022-03-31T13:10:15.248Z"
   },
   {
    "duration": 113,
    "start_time": "2022-03-31T13:10:15.263Z"
   },
   {
    "duration": 64,
    "start_time": "2022-03-31T13:10:15.378Z"
   },
   {
    "duration": 4,
    "start_time": "2022-03-31T13:10:15.444Z"
   },
   {
    "duration": 1289,
    "start_time": "2022-03-31T13:10:15.450Z"
   },
   {
    "duration": 32328,
    "start_time": "2022-03-31T13:10:16.742Z"
   },
   {
    "duration": 42476,
    "start_time": "2022-03-31T13:10:49.071Z"
   },
   {
    "duration": 208,
    "start_time": "2022-03-31T13:11:31.639Z"
   },
   {
    "duration": 1361,
    "start_time": "2022-03-31T13:11:31.939Z"
   },
   {
    "duration": 31665,
    "start_time": "2022-03-31T13:11:33.301Z"
   },
   {
    "duration": 43178,
    "start_time": "2022-03-31T13:12:04.968Z"
   },
   {
    "duration": 297,
    "start_time": "2022-03-31T13:12:48.240Z"
   },
   {
    "duration": 12,
    "start_time": "2022-03-31T13:12:48.540Z"
   },
   {
    "duration": 84,
    "start_time": "2022-03-31T13:12:48.554Z"
   },
   {
    "duration": 1560,
    "start_time": "2022-03-31T13:12:48.640Z"
   },
   {
    "duration": 41428,
    "start_time": "2022-03-31T13:12:50.202Z"
   },
   {
    "duration": 57013,
    "start_time": "2022-03-31T13:13:31.632Z"
   },
   {
    "duration": 300,
    "start_time": "2022-03-31T13:14:28.647Z"
   },
   {
    "duration": 13,
    "start_time": "2022-03-31T13:14:29.040Z"
   },
   {
    "duration": 91,
    "start_time": "2022-03-31T13:14:29.054Z"
   },
   {
    "duration": 673,
    "start_time": "2022-03-31T13:14:29.146Z"
   },
   {
    "duration": 18907,
    "start_time": "2022-03-31T13:14:29.820Z"
   },
   {
    "duration": 28313,
    "start_time": "2022-03-31T13:14:48.729Z"
   },
   {
    "duration": 395,
    "start_time": "2022-03-31T13:15:17.044Z"
   },
   {
    "duration": 168,
    "start_time": "2022-03-31T13:15:17.441Z"
   },
   {
    "duration": 3,
    "start_time": "2022-03-31T13:15:17.611Z"
   },
   {
    "duration": 165,
    "start_time": "2022-03-31T13:15:17.615Z"
   },
   {
    "duration": 94,
    "start_time": "2022-03-31T13:15:17.782Z"
   },
   {
    "duration": 3,
    "start_time": "2022-03-31T13:25:37.402Z"
   },
   {
    "duration": 8,
    "start_time": "2022-03-31T13:25:37.408Z"
   },
   {
    "duration": 55,
    "start_time": "2022-03-31T13:25:37.418Z"
   },
   {
    "duration": 18,
    "start_time": "2022-03-31T13:25:37.475Z"
   },
   {
    "duration": 4,
    "start_time": "2022-03-31T13:25:37.494Z"
   },
   {
    "duration": 10,
    "start_time": "2022-03-31T13:25:37.500Z"
   },
   {
    "duration": 18,
    "start_time": "2022-03-31T13:25:37.538Z"
   },
   {
    "duration": 5,
    "start_time": "2022-03-31T13:25:37.558Z"
   },
   {
    "duration": 16,
    "start_time": "2022-03-31T13:25:37.565Z"
   },
   {
    "duration": 12,
    "start_time": "2022-03-31T13:25:37.583Z"
   },
   {
    "duration": 74,
    "start_time": "2022-03-31T13:25:37.597Z"
   },
   {
    "duration": 5,
    "start_time": "2022-03-31T13:25:37.673Z"
   },
   {
    "duration": 1819,
    "start_time": "2022-03-31T13:25:37.679Z"
   },
   {
    "duration": 44713,
    "start_time": "2022-03-31T13:25:39.500Z"
   },
   {
    "duration": 55322,
    "start_time": "2022-03-31T13:26:24.215Z"
   },
   {
    "duration": 297,
    "start_time": "2022-03-31T13:27:19.540Z"
   },
   {
    "duration": 1897,
    "start_time": "2022-03-31T13:27:19.840Z"
   },
   {
    "duration": 43496,
    "start_time": "2022-03-31T13:27:21.739Z"
   },
   {
    "duration": 54208,
    "start_time": "2022-03-31T13:28:05.238Z"
   },
   {
    "duration": 212,
    "start_time": "2022-03-31T13:28:59.448Z"
   },
   {
    "duration": 81,
    "start_time": "2022-03-31T13:28:59.662Z"
   },
   {
    "duration": 105,
    "start_time": "2022-03-31T13:28:59.746Z"
   },
   {
    "duration": 2243,
    "start_time": "2022-03-31T13:28:59.852Z"
   },
   {
    "duration": 60573,
    "start_time": "2022-03-31T13:29:02.099Z"
   },
   {
    "duration": 67269,
    "start_time": "2022-03-31T13:30:02.674Z"
   },
   {
    "duration": 298,
    "start_time": "2022-03-31T13:31:09.946Z"
   },
   {
    "duration": 101,
    "start_time": "2022-03-31T13:31:10.246Z"
   },
   {
    "duration": 30,
    "start_time": "2022-03-31T13:31:10.349Z"
   },
   {
    "duration": 914,
    "start_time": "2022-03-31T13:31:10.380Z"
   },
   {
    "duration": 22035,
    "start_time": "2022-03-31T13:31:11.296Z"
   },
   {
    "duration": 34817,
    "start_time": "2022-03-31T13:31:33.332Z"
   },
   {
    "duration": 199,
    "start_time": "2022-03-31T13:32:08.241Z"
   },
   {
    "duration": 170,
    "start_time": "2022-03-31T13:32:08.443Z"
   },
   {
    "duration": 4,
    "start_time": "2022-03-31T13:32:08.615Z"
   },
   {
    "duration": 142,
    "start_time": "2022-03-31T13:32:08.637Z"
   },
   {
    "duration": 59,
    "start_time": "2022-03-31T13:32:08.782Z"
   },
   {
    "duration": 4,
    "start_time": "2022-03-31T13:34:40.448Z"
   },
   {
    "duration": 5,
    "start_time": "2022-03-31T13:34:40.454Z"
   },
   {
    "duration": 55,
    "start_time": "2022-03-31T13:34:40.461Z"
   },
   {
    "duration": 34,
    "start_time": "2022-03-31T13:34:40.518Z"
   },
   {
    "duration": 5,
    "start_time": "2022-03-31T13:34:40.554Z"
   },
   {
    "duration": 11,
    "start_time": "2022-03-31T13:34:40.561Z"
   },
   {
    "duration": 18,
    "start_time": "2022-03-31T13:34:40.573Z"
   },
   {
    "duration": 5,
    "start_time": "2022-03-31T13:34:40.592Z"
   },
   {
    "duration": 43,
    "start_time": "2022-03-31T13:34:40.599Z"
   },
   {
    "duration": 17,
    "start_time": "2022-03-31T13:34:40.644Z"
   },
   {
    "duration": 72,
    "start_time": "2022-03-31T13:34:40.665Z"
   },
   {
    "duration": 5,
    "start_time": "2022-03-31T13:34:40.739Z"
   },
   {
    "duration": 1543,
    "start_time": "2022-03-31T13:34:40.746Z"
   },
   {
    "duration": 37749,
    "start_time": "2022-03-31T13:34:42.291Z"
   },
   {
    "duration": 49302,
    "start_time": "2022-03-31T13:35:20.042Z"
   },
   {
    "duration": 294,
    "start_time": "2022-03-31T13:36:09.346Z"
   },
   {
    "duration": 1569,
    "start_time": "2022-03-31T13:36:09.642Z"
   },
   {
    "duration": 35824,
    "start_time": "2022-03-31T13:36:11.213Z"
   },
   {
    "duration": 49599,
    "start_time": "2022-03-31T13:36:47.039Z"
   },
   {
    "duration": 109,
    "start_time": "2022-03-31T13:37:36.737Z"
   },
   {
    "duration": 12,
    "start_time": "2022-03-31T13:37:36.939Z"
   },
   {
    "duration": 4,
    "start_time": "2022-03-31T13:37:36.953Z"
   },
   {
    "duration": 1750,
    "start_time": "2022-03-31T13:37:36.959Z"
   },
   {
    "duration": 49063,
    "start_time": "2022-03-31T13:37:38.710Z"
   },
   {
    "duration": 59771,
    "start_time": "2022-03-31T13:38:27.774Z"
   },
   {
    "duration": 392,
    "start_time": "2022-03-31T13:39:27.547Z"
   },
   {
    "duration": 99,
    "start_time": "2022-03-31T13:39:27.941Z"
   },
   {
    "duration": 12,
    "start_time": "2022-03-31T13:39:28.042Z"
   },
   {
    "duration": 738,
    "start_time": "2022-03-31T13:39:28.057Z"
   },
   {
    "duration": 19762,
    "start_time": "2022-03-31T13:39:28.797Z"
   },
   {
    "duration": 31686,
    "start_time": "2022-03-31T13:39:48.561Z"
   },
   {
    "duration": 294,
    "start_time": "2022-03-31T13:40:20.345Z"
   },
   {
    "duration": 98,
    "start_time": "2022-03-31T13:40:20.641Z"
   },
   {
    "duration": 26,
    "start_time": "2022-03-31T13:40:20.740Z"
   },
   {
    "duration": 146,
    "start_time": "2022-03-31T13:40:20.768Z"
   },
   {
    "duration": 67,
    "start_time": "2022-03-31T13:40:20.916Z"
   },
   {
    "duration": 6,
    "start_time": "2022-03-31T13:41:16.349Z"
   },
   {
    "duration": 4,
    "start_time": "2022-03-31T13:41:17.356Z"
   },
   {
    "duration": 136,
    "start_time": "2022-03-31T13:41:18.629Z"
   },
   {
    "duration": 1378,
    "start_time": "2022-03-31T13:42:50.782Z"
   },
   {
    "duration": 3,
    "start_time": "2022-03-31T13:42:52.162Z"
   },
   {
    "duration": 70,
    "start_time": "2022-03-31T13:42:52.166Z"
   },
   {
    "duration": 18,
    "start_time": "2022-03-31T13:42:52.238Z"
   },
   {
    "duration": 4,
    "start_time": "2022-03-31T13:42:52.257Z"
   },
   {
    "duration": 20,
    "start_time": "2022-03-31T13:42:52.263Z"
   },
   {
    "duration": 19,
    "start_time": "2022-03-31T13:42:52.284Z"
   },
   {
    "duration": 6,
    "start_time": "2022-03-31T13:42:52.305Z"
   },
   {
    "duration": 11,
    "start_time": "2022-03-31T13:42:52.337Z"
   },
   {
    "duration": 15,
    "start_time": "2022-03-31T13:42:52.352Z"
   },
   {
    "duration": 78,
    "start_time": "2022-03-31T13:42:52.369Z"
   },
   {
    "duration": 6,
    "start_time": "2022-03-31T13:42:52.449Z"
   },
   {
    "duration": 1489,
    "start_time": "2022-03-31T13:42:52.457Z"
   },
   {
    "duration": 36064,
    "start_time": "2022-03-31T13:42:53.947Z"
   },
   {
    "duration": 47434,
    "start_time": "2022-03-31T13:43:30.013Z"
   },
   {
    "duration": 199,
    "start_time": "2022-03-31T13:44:17.540Z"
   },
   {
    "duration": 1593,
    "start_time": "2022-03-31T13:44:17.741Z"
   },
   {
    "duration": 35775,
    "start_time": "2022-03-31T13:44:19.338Z"
   },
   {
    "duration": 46423,
    "start_time": "2022-03-31T13:44:55.117Z"
   },
   {
    "duration": 200,
    "start_time": "2022-03-31T13:45:41.542Z"
   },
   {
    "duration": 101,
    "start_time": "2022-03-31T13:45:41.745Z"
   },
   {
    "duration": 5,
    "start_time": "2022-03-31T13:45:41.848Z"
   },
   {
    "duration": 1796,
    "start_time": "2022-03-31T13:45:41.855Z"
   },
   {
    "duration": 48536,
    "start_time": "2022-03-31T13:45:43.654Z"
   },
   {
    "duration": 64552,
    "start_time": "2022-03-31T13:46:32.192Z"
   },
   {
    "duration": 392,
    "start_time": "2022-03-31T13:47:36.746Z"
   },
   {
    "duration": 101,
    "start_time": "2022-03-31T13:47:37.141Z"
   },
   {
    "duration": 5,
    "start_time": "2022-03-31T13:47:37.246Z"
   },
   {
    "duration": 742,
    "start_time": "2022-03-31T13:47:37.252Z"
   },
   {
    "duration": 19728,
    "start_time": "2022-03-31T13:47:37.996Z"
   },
   {
    "duration": 30519,
    "start_time": "2022-03-31T13:47:57.725Z"
   },
   {
    "duration": 392,
    "start_time": "2022-03-31T13:48:28.247Z"
   },
   {
    "duration": 97,
    "start_time": "2022-03-31T13:48:28.642Z"
   },
   {
    "duration": 156,
    "start_time": "2022-03-31T13:48:28.741Z"
   },
   {
    "duration": 0,
    "start_time": "2022-03-31T13:48:28.899Z"
   },
   {
    "duration": 0,
    "start_time": "2022-03-31T13:48:28.900Z"
   },
   {
    "duration": 1428,
    "start_time": "2022-03-31T13:49:15.024Z"
   },
   {
    "duration": 3,
    "start_time": "2022-03-31T13:49:16.454Z"
   },
   {
    "duration": 70,
    "start_time": "2022-03-31T13:49:16.458Z"
   },
   {
    "duration": 18,
    "start_time": "2022-03-31T13:49:16.530Z"
   },
   {
    "duration": 5,
    "start_time": "2022-03-31T13:49:16.550Z"
   },
   {
    "duration": 12,
    "start_time": "2022-03-31T13:49:16.556Z"
   },
   {
    "duration": 40,
    "start_time": "2022-03-31T13:49:16.569Z"
   },
   {
    "duration": 13,
    "start_time": "2022-03-31T13:49:16.611Z"
   },
   {
    "duration": 26,
    "start_time": "2022-03-31T13:49:16.626Z"
   },
   {
    "duration": 23,
    "start_time": "2022-03-31T13:49:16.655Z"
   },
   {
    "duration": 52,
    "start_time": "2022-03-31T13:49:16.680Z"
   },
   {
    "duration": 6,
    "start_time": "2022-03-31T13:49:16.734Z"
   },
   {
    "duration": 1275,
    "start_time": "2022-03-31T13:49:16.741Z"
   },
   {
    "duration": 32411,
    "start_time": "2022-03-31T13:49:18.018Z"
   },
   {
    "duration": 37807,
    "start_time": "2022-03-31T13:49:50.431Z"
   },
   {
    "duration": 203,
    "start_time": "2022-03-31T13:50:28.243Z"
   },
   {
    "duration": 1459,
    "start_time": "2022-03-31T13:50:28.538Z"
   },
   {
    "duration": 32096,
    "start_time": "2022-03-31T13:50:29.999Z"
   },
   {
    "duration": 41750,
    "start_time": "2022-03-31T13:51:02.097Z"
   },
   {
    "duration": 207,
    "start_time": "2022-03-31T13:51:43.940Z"
   },
   {
    "duration": 14,
    "start_time": "2022-03-31T13:51:44.239Z"
   },
   {
    "duration": 86,
    "start_time": "2022-03-31T13:51:44.255Z"
   },
   {
    "duration": 1565,
    "start_time": "2022-03-31T13:51:44.343Z"
   },
   {
    "duration": 43652,
    "start_time": "2022-03-31T13:51:45.910Z"
   },
   {
    "duration": 57775,
    "start_time": "2022-03-31T13:52:29.564Z"
   },
   {
    "duration": 296,
    "start_time": "2022-03-31T13:53:27.341Z"
   },
   {
    "duration": 106,
    "start_time": "2022-03-31T13:53:27.640Z"
   },
   {
    "duration": 5,
    "start_time": "2022-03-31T13:53:27.750Z"
   },
   {
    "duration": 727,
    "start_time": "2022-03-31T13:53:27.757Z"
   },
   {
    "duration": 19375,
    "start_time": "2022-03-31T13:53:28.486Z"
   },
   {
    "duration": 29781,
    "start_time": "2022-03-31T13:53:47.863Z"
   },
   {
    "duration": 202,
    "start_time": "2022-03-31T13:54:17.646Z"
   },
   {
    "duration": 258,
    "start_time": "2022-03-31T13:54:17.938Z"
   },
   {
    "duration": 5,
    "start_time": "2022-03-31T13:54:18.198Z"
   },
   {
    "duration": 196,
    "start_time": "2022-03-31T13:54:18.204Z"
   },
   {
    "duration": 94,
    "start_time": "2022-03-31T13:54:18.402Z"
   },
   {
    "duration": 3,
    "start_time": "2022-03-31T13:59:41.275Z"
   },
   {
    "duration": 6,
    "start_time": "2022-03-31T13:59:41.280Z"
   },
   {
    "duration": 55,
    "start_time": "2022-03-31T13:59:41.288Z"
   },
   {
    "duration": 18,
    "start_time": "2022-03-31T13:59:41.345Z"
   },
   {
    "duration": 4,
    "start_time": "2022-03-31T13:59:41.365Z"
   },
   {
    "duration": 11,
    "start_time": "2022-03-31T13:59:49.623Z"
   },
   {
    "duration": 4,
    "start_time": "2022-03-31T13:59:58.474Z"
   },
   {
    "duration": 23,
    "start_time": "2022-03-31T13:59:58.480Z"
   },
   {
    "duration": 59,
    "start_time": "2022-03-31T13:59:58.505Z"
   },
   {
    "duration": 20,
    "start_time": "2022-03-31T13:59:58.566Z"
   },
   {
    "duration": 4,
    "start_time": "2022-03-31T13:59:58.589Z"
   },
   {
    "duration": 44,
    "start_time": "2022-03-31T13:59:58.596Z"
   },
   {
    "duration": 21,
    "start_time": "2022-03-31T13:59:58.642Z"
   },
   {
    "duration": 6,
    "start_time": "2022-03-31T13:59:58.664Z"
   },
   {
    "duration": 11,
    "start_time": "2022-03-31T13:59:58.671Z"
   },
   {
    "duration": 24,
    "start_time": "2022-03-31T13:59:58.683Z"
   },
   {
    "duration": 74,
    "start_time": "2022-03-31T13:59:58.710Z"
   },
   {
    "duration": 6,
    "start_time": "2022-03-31T13:59:58.785Z"
   },
   {
    "duration": 1223,
    "start_time": "2022-03-31T13:59:58.793Z"
   },
   {
    "duration": 29503,
    "start_time": "2022-03-31T14:00:00.019Z"
   },
   {
    "duration": 40323,
    "start_time": "2022-03-31T14:00:29.524Z"
   },
   {
    "duration": 207,
    "start_time": "2022-03-31T14:01:09.940Z"
   },
   {
    "duration": 1234,
    "start_time": "2022-03-31T14:01:10.239Z"
   },
   {
    "duration": 29794,
    "start_time": "2022-03-31T14:01:11.475Z"
   },
   {
    "duration": 42470,
    "start_time": "2022-03-31T14:01:41.271Z"
   },
   {
    "duration": 201,
    "start_time": "2022-03-31T14:02:23.746Z"
   },
   {
    "duration": 12,
    "start_time": "2022-03-31T14:02:24.039Z"
   },
   {
    "duration": 19,
    "start_time": "2022-03-31T14:02:24.053Z"
   },
   {
    "duration": 1426,
    "start_time": "2022-03-31T14:02:24.074Z"
   },
   {
    "duration": 38452,
    "start_time": "2022-03-31T14:02:25.502Z"
   },
   {
    "duration": 47587,
    "start_time": "2022-03-31T14:03:03.956Z"
   },
   {
    "duration": 201,
    "start_time": "2022-03-31T14:03:51.637Z"
   },
   {
    "duration": 103,
    "start_time": "2022-03-31T14:03:51.841Z"
   },
   {
    "duration": 11,
    "start_time": "2022-03-31T14:03:51.946Z"
   },
   {
    "duration": 715,
    "start_time": "2022-03-31T14:03:51.960Z"
   },
   {
    "duration": 19199,
    "start_time": "2022-03-31T14:03:52.677Z"
   },
   {
    "duration": 36461,
    "start_time": "2022-03-31T14:04:11.878Z"
   },
   {
    "duration": 296,
    "start_time": "2022-03-31T14:04:48.342Z"
   },
   {
    "duration": 197,
    "start_time": "2022-03-31T14:04:48.641Z"
   },
   {
    "duration": 3,
    "start_time": "2022-03-31T14:04:48.840Z"
   },
   {
    "duration": 169,
    "start_time": "2022-03-31T14:04:48.845Z"
   },
   {
    "duration": 110,
    "start_time": "2022-03-31T14:04:49.016Z"
   },
   {
    "duration": 9,
    "start_time": "2022-03-31T14:19:22.060Z"
   },
   {
    "duration": 125,
    "start_time": "2022-03-31T14:20:46.388Z"
   },
   {
    "duration": 55,
    "start_time": "2022-03-31T14:20:54.925Z"
   },
   {
    "duration": 110,
    "start_time": "2022-03-31T14:31:47.352Z"
   },
   {
    "duration": 14,
    "start_time": "2022-03-31T14:32:39.871Z"
   },
   {
    "duration": 56,
    "start_time": "2022-03-31T14:32:49.063Z"
   },
   {
    "duration": 59,
    "start_time": "2022-03-31T14:36:53.440Z"
   },
   {
    "duration": 68,
    "start_time": "2022-03-31T14:38:03.098Z"
   },
   {
    "duration": 55,
    "start_time": "2022-03-31T14:38:27.033Z"
   },
   {
    "duration": 10,
    "start_time": "2022-03-31T14:43:02.474Z"
   },
   {
    "duration": 62,
    "start_time": "2022-03-31T14:44:10.242Z"
   },
   {
    "duration": 60,
    "start_time": "2022-03-31T14:44:57.331Z"
   },
   {
    "duration": 54,
    "start_time": "2022-03-31T14:45:36.836Z"
   },
   {
    "duration": 63,
    "start_time": "2022-03-31T14:45:38.946Z"
   },
   {
    "duration": 56,
    "start_time": "2022-03-31T14:45:48.987Z"
   },
   {
    "duration": 55,
    "start_time": "2022-03-31T14:48:48.436Z"
   },
   {
    "duration": 58,
    "start_time": "2022-03-31T14:52:09.292Z"
   },
   {
    "duration": 60,
    "start_time": "2022-03-31T14:52:17.916Z"
   }
  ],
  "kernelspec": {
   "display_name": "Python 3",
   "language": "python",
   "name": "python3"
  },
  "language_info": {
   "codemirror_mode": {
    "name": "ipython",
    "version": 3
   },
   "file_extension": ".py",
   "mimetype": "text/x-python",
   "name": "python",
   "nbconvert_exporter": "python",
   "pygments_lexer": "ipython3",
   "version": "3.8.8"
  },
  "toc": {
   "base_numbering": 1,
   "nav_menu": {},
   "number_sections": true,
   "sideBar": true,
   "skip_h1_title": true,
   "title_cell": "Содержание",
   "title_sidebar": "Contents",
   "toc_cell": true,
   "toc_position": {
    "height": "calc(100% - 180px)",
    "left": "10px",
    "top": "150px",
    "width": "346.667px"
   },
   "toc_section_display": true,
   "toc_window_display": true
  },
  "vscode": {
   "interpreter": {
    "hash": "aee8b7b246df8f9039afb4144a1f6fd8d2ca17a180786b69acc140d282b71a49"
   }
  }
 },
 "nbformat": 4,
 "nbformat_minor": 2
}
