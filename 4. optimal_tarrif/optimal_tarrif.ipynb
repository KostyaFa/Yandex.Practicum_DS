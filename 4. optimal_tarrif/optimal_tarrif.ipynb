{
 "cells": [
  {
   "cell_type": "markdown",
   "metadata": {},
   "source": [
    "# Определение перспективного тарифа для телеком-компании"
   ]
  },
  {
   "cell_type": "markdown",
   "metadata": {},
   "source": [
    "# Описание проекта\n",
    "\n",
    "\n",
    "Вы аналитик компании «Мегалайн» — федерального оператора сотовой связи. Клиентам предлагают два тарифных плана: «Смарт» и «Ультра». Чтобы скорректировать рекламный бюджет, коммерческий департамент хочет понять, какой тариф приносит больше денег.\n",
    "\n",
    "\n",
    "Вам предстоит сделать предварительный анализ тарифов на небольшой выборке клиентов. В вашем распоряжении данные 500 пользователей «Мегалайна»: кто они, откуда, каким тарифом пользуются, сколько звонков и сообщений каждый отправил за 2018 год. \n",
    "\n",
    "Нужно проанализировать поведение клиентов и сделать вывод — какой тариф лучше."
   ]
  },
  {
   "cell_type": "markdown",
   "metadata": {},
   "source": [
    "# Описание тарифов\n",
    "\n",
    "**Тариф «Смарт»**\n",
    "\n",
    "Ежемесячная плата: 550 рублей\n",
    "Включено 500 минут разговора, 50 сообщений и 15 Гб интернет-трафик\n",
    "Стоимость услуг сверх тарифного пакета:\n",
    "\n",
    "- минута разговора: 3 рубля\n",
    "- сообщение: 3 рубля\n",
    "- 1 Гб интернет-трафика: 200 рублей\n",
    "\n",
    "\n",
    "**Тариф «Ультра»**\n",
    "\n",
    "Ежемесячная плата: 1950 рублей\n",
    "Включено 3000 минут разговора, 1000 сообщений и 30 Гб интернет-трафика\n",
    "Стоимость услуг сверх тарифного пакета:\n",
    "- минута разговора: 1 рубль\n",
    "- сообщение: 1 рубль\n",
    "- 1 Гб интернет-трафика: 150 рублей"
   ]
  },
  {
   "cell_type": "markdown",
   "metadata": {},
   "source": [
    "***Примечание:***\n",
    "\n",
    "«Мегалайн» всегда округляет секунды до минут, а мегабайты — до гигабайт. Каждый звонок округляется отдельно: даже если он длился всего 1 секунду, будет засчитан как 1 минута.\n",
    "Для веб-трафика отдельные сессии не считаются. Вместо этого общая сумма за месяц округляется в бо́льшую сторону. Если абонент использует 1025 мегабайт в этом месяце, с него возьмут плату за 2 гигабайта."
   ]
  },
  {
   "cell_type": "markdown",
   "metadata": {},
   "source": [
    "# Описание данных\n",
    "\n",
    "Таблица ***users*** (информация о пользователях):\n",
    "\n",
    "- **user_id** — уникальный идентификатор пользователя\n",
    "- **first_name** — имя пользователя\n",
    "- **last_name** — фамилия пользователя\n",
    "- **age** — возраст пользователя (годы)\n",
    "- **reg_date** — дата подключения тарифа (день, месяц, год)\n",
    "- **churn_date** — дата прекращения пользования тарифом (если значение пропущено, то тариф ещё действовал на момент выгрузки данных)\n",
    "- **city** — город проживания пользователя\n",
    "- **tariff** — название тарифного плана\n",
    "\n",
    "Таблица ***calls*** (информация о звонках):\n",
    "\n",
    "- **id** — уникальный номер звонка\n",
    "- **call_date** — дата звонка\n",
    "- **duration** — длительность звонка в минутах\n",
    "- **user_id** — идентификатор пользователя, сделавшего звонок\n",
    "\n",
    "Таблица ***messages*** (информация о сообщениях):\n",
    "\n",
    "- **id** — уникальный номер сообщения\n",
    "- **message_date** — дата сообщения\n",
    "- **user_id** — идентификатор пользователя, отправившего сообщение\n",
    "\n",
    "Таблица ***internet*** (информация об интернет-сессиях):\n",
    "\n",
    "- **id** — уникальный номер сессии\n",
    "- **mb_used** — объём потраченного за сессию интернет-трафика (в мегабайтах)\n",
    "- **session_date** — дата интернет-сессии\n",
    "- **user_id** — идентификатор пользователя\n",
    "\n",
    "Таблица ***tariffs*** (информация о тарифах):\n",
    "\n",
    "- **tariff_name** — название тарифа\n",
    "- **rub_monthly_fee** — ежемесячная абонентская плата в рублях\n",
    "- **minutes_included** — количество минут разговора в месяц, включённых в абонентскую плату\n",
    "- **messages_included** — количество сообщений в месяц, включённых в абонентскую плату\n",
    "- **mb_per_month_included** — объём интернет-трафика, включённого в абонентскую плату (в мегабайтах)\n",
    "- **rub_per_minute** — стоимость минуты разговора сверх тарифного пакета (например, если в тарифе 100 минут разговора в месяц, то со 101 минуты будет взиматься плата)\n",
    "- **rub_per_message** — стоимость отправки сообщения сверх тарифного пакета\n",
    "- **rub_per_gb** — стоимость дополнительного гигабайта интернет-трафика сверх тарифного пакета (1 гигабайт = 1024 мегабайта)"
   ]
  },
  {
   "cell_type": "markdown",
   "metadata": {},
   "source": [
    "## Откройте файл с данными и изучите общую информацию"
   ]
  },
  {
   "cell_type": "code",
   "execution_count": 1,
   "metadata": {},
   "outputs": [],
   "source": [
    "#импортируем библиотеки\n",
    "\n",
    "import pandas as pd\n",
    "\n",
    "import numpy as np\n",
    "\n",
    "import matplotlib.pyplot as plt\n",
    "\n",
    "from scipy import stats as st"
   ]
  },
  {
   "cell_type": "code",
   "execution_count": 2,
   "metadata": {},
   "outputs": [
    {
     "name": "stdout",
     "output_type": "stream",
     "text": [
      "<class 'pandas.core.frame.DataFrame'>\n",
      "RangeIndex: 500 entries, 0 to 499\n",
      "Data columns (total 8 columns):\n",
      " #   Column      Non-Null Count  Dtype \n",
      "---  ------      --------------  ----- \n",
      " 0   user_id     500 non-null    int64 \n",
      " 1   age         500 non-null    int64 \n",
      " 2   churn_date  38 non-null     object\n",
      " 3   city        500 non-null    object\n",
      " 4   first_name  500 non-null    object\n",
      " 5   last_name   500 non-null    object\n",
      " 6   reg_date    500 non-null    object\n",
      " 7   tariff      500 non-null    object\n",
      "dtypes: int64(2), object(6)\n",
      "memory usage: 31.4+ KB\n",
      "\n",
      "<class 'pandas.core.frame.DataFrame'>\n",
      "RangeIndex: 202607 entries, 0 to 202606\n",
      "Data columns (total 4 columns):\n",
      " #   Column     Non-Null Count   Dtype  \n",
      "---  ------     --------------   -----  \n",
      " 0   id         202607 non-null  object \n",
      " 1   call_date  202607 non-null  object \n",
      " 2   duration   202607 non-null  float64\n",
      " 3   user_id    202607 non-null  int64  \n",
      "dtypes: float64(1), int64(1), object(2)\n",
      "memory usage: 6.2+ MB\n",
      "\n",
      "<class 'pandas.core.frame.DataFrame'>\n",
      "RangeIndex: 123036 entries, 0 to 123035\n",
      "Data columns (total 3 columns):\n",
      " #   Column        Non-Null Count   Dtype \n",
      "---  ------        --------------   ----- \n",
      " 0   id            123036 non-null  object\n",
      " 1   message_date  123036 non-null  object\n",
      " 2   user_id       123036 non-null  int64 \n",
      "dtypes: int64(1), object(2)\n",
      "memory usage: 2.8+ MB\n",
      "\n",
      "<class 'pandas.core.frame.DataFrame'>\n",
      "RangeIndex: 149396 entries, 0 to 149395\n",
      "Data columns (total 5 columns):\n",
      " #   Column        Non-Null Count   Dtype  \n",
      "---  ------        --------------   -----  \n",
      " 0   Unnamed: 0    149396 non-null  int64  \n",
      " 1   id            149396 non-null  object \n",
      " 2   mb_used       149396 non-null  float64\n",
      " 3   session_date  149396 non-null  object \n",
      " 4   user_id       149396 non-null  int64  \n",
      "dtypes: float64(1), int64(2), object(2)\n",
      "memory usage: 5.7+ MB\n",
      "\n",
      "<class 'pandas.core.frame.DataFrame'>\n",
      "RangeIndex: 2 entries, 0 to 1\n",
      "Data columns (total 8 columns):\n",
      " #   Column                 Non-Null Count  Dtype \n",
      "---  ------                 --------------  ----- \n",
      " 0   messages_included      2 non-null      int64 \n",
      " 1   mb_per_month_included  2 non-null      int64 \n",
      " 2   minutes_included       2 non-null      int64 \n",
      " 3   rub_monthly_fee        2 non-null      int64 \n",
      " 4   rub_per_gb             2 non-null      int64 \n",
      " 5   rub_per_message        2 non-null      int64 \n",
      " 6   rub_per_minute         2 non-null      int64 \n",
      " 7   tariff_name            2 non-null      object\n",
      "dtypes: int64(7), object(1)\n",
      "memory usage: 256.0+ bytes\n",
      "\n"
     ]
    }
   ],
   "source": [
    "# добавим соответсвующие датасеты\n",
    "\n",
    "users = pd.read_csv('users.csv') # датасет пользователей\n",
    "users.info()\n",
    "print()\n",
    "\n",
    "calls = pd.read_csv('calls.csv') # датасет звонков\n",
    "calls.info()\n",
    "print()\n",
    "\n",
    "messages = pd.read_csv('messages.csv') # датасет сообщений\n",
    "messages.info()\n",
    "print()\n",
    "\n",
    "internet = pd.read_csv('internet.csv') # датасет интернета\n",
    "internet.info()\n",
    "print()\n",
    "\n",
    "tariffs = pd.read_csv('tariffs.csv') # датасет тарифов   \n",
    "tariffs.info()\n",
    "print()"
   ]
  },
  {
   "cell_type": "markdown",
   "metadata": {},
   "source": [
    "Как говорилось в описании, таблицы содержат информацию по 500 клиентам.\n",
    "\n",
    "Связаны датасеты посредством столбцов **user_id** и **id**.\n",
    "\n",
    "Пропуски в датасете отсутствуют, так как значения в столбце **churn_date** могут быть пустыми, если клиент пользовался тарифом во время сбора данных.\n",
    "\n",
    "В датасете **internet** есть неизвестный столбец **Unnamed:0**"
   ]
  },
  {
   "cell_type": "markdown",
   "metadata": {},
   "source": [
    "<div class=\"alert alert\">\n",
    "<font size=\"4\"><b>❌ Комментарий ревьюера</b></font>\n",
    "    <br /> \n",
    "    <font size=\"3\", color = \"black\">\n",
    "<br />\n",
    "Стоит посмотреть на распределение ключевых данных в таблицах (как минимум в таблице звонков и интернета)"
   ]
  },
  {
   "cell_type": "markdown",
   "metadata": {},
   "source": [
    "<div class=\"alert alert-info\">\n",
    "<font size=\"4\"><b>Комментарий студента</b></font>\n",
    "\n",
    "Не совсем понятно для чего делать это в самом начале?\n",
    "\n",
    "Тем более, что проект вроде как предполагает данное действие несколько позже)\n",
    "    \n",
    "Если все-таки считаешь это уместным, то было бы неплохо конкретики по распределению данных в зависимости от *чего*, *временные рамки*, *разбросы*? или еще какие вводные, потому что я не совсем понял твое замечание\n",
    "    \n",
    "По заданию, мы позже уже работаем с обработанными данными за месяц\n",
    "    \n",
    "Ниже я, конечно, показал гистограммы распределения длительности звонков и использования интернет-трафика в мб за сессию (не исключив нулевые значения), но повторюсь, смысла искать и смотреть распредления в самом начале я не вижу (и(или) не понимаю) (тут разве что я могу подметить, что 0-ых значений в этих столбцах очень много)\n"
   ]
  },
  {
   "cell_type": "code",
   "execution_count": 3,
   "metadata": {},
   "outputs": [
    {
     "data": {
      "image/png": "[encoded data removed]",
      "text/plain": [
       "<Figure size 800x500 with 1 Axes>"
      ]
     },
     "metadata": {},
     "output_type": "display_data"
    }
   ],
   "source": [
    "plt.figure(figsize=(8,5))\n",
    "plt.hist(calls['duration'], bins = 20, alpha =0.3)\n",
    "plt.xlabel('Минуты')\n",
    "plt.ylabel('Количество звонков')\n",
    "plt.title('Распределение количества минут в зависимости от тарифа')\n",
    "plt.show()"
   ]
  },
  {
   "cell_type": "code",
   "execution_count": 4,
   "metadata": {},
   "outputs": [
    {
     "data": {
      "image/png": "[encoded data removed]",
      "text/plain": [
       "<Figure size 800x500 with 1 Axes>"
      ]
     },
     "metadata": {},
     "output_type": "display_data"
    }
   ],
   "source": [
    "plt.figure(figsize=(8,5))\n",
    "plt.hist(internet['mb_used'], bins = 20, alpha =0.3)\n",
    "plt.xlabel('Веб-трафик')\n",
    "plt.ylabel('Количество сессий')\n",
    "plt.title('Распределение количества интернет-трафика (в мб) за сессию')\n",
    "plt.show()"
   ]
  },
  {
   "cell_type": "markdown",
   "metadata": {},
   "source": [
    "<div class=\"alert alert-success\">\n",
    "<font size=\"4\"><b>Комментарий ревьюера V2</b></font>\n",
    "    <br /> \n",
    "    <font size=\"3\", color = \"black\">\n",
    "<br />\n",
    "0-е значения сигнализируют нам, что клиенты пытались, но не смогли воспользоваться услугами, происходит обрыв сессий и звонков, возможно надо бить тревогу и бежать к технарям, после детального и глубокого анализа: город, время, клиент у кого произошел обрыв ...\n",
    "        \n",
    "Эту информацию тяжело отследить на агрегированных данных\n",
    "        \n",
    "Это на твое усмотрение — как вариант для глубого анализа"
   ]
  },
  {
   "cell_type": "markdown",
   "metadata": {},
   "source": [
    "## Подготовте данные"
   ]
  },
  {
   "cell_type": "code",
   "execution_count": 5,
   "metadata": {},
   "outputs": [
    {
     "data": {
      "text/html": [
       "<div>\n",
       "<style scoped>\n",
       "    .dataframe tbody tr th:only-of-type {\n",
       "        vertical-align: middle;\n",
       "    }\n",
       "\n",
       "    .dataframe tbody tr th {\n",
       "        vertical-align: top;\n",
       "    }\n",
       "\n",
       "    .dataframe thead th {\n",
       "        text-align: right;\n",
       "    }\n",
       "</style>\n",
       "<table border=\"1\" class=\"dataframe\">\n",
       "  <thead>\n",
       "    <tr style=\"text-align: right;\">\n",
       "      <th></th>\n",
       "      <th>user_id</th>\n",
       "      <th>age</th>\n",
       "      <th>churn_date</th>\n",
       "      <th>city</th>\n",
       "      <th>first_name</th>\n",
       "      <th>last_name</th>\n",
       "      <th>reg_date</th>\n",
       "      <th>tariff</th>\n",
       "    </tr>\n",
       "  </thead>\n",
       "  <tbody>\n",
       "    <tr>\n",
       "      <th>0</th>\n",
       "      <td>1000</td>\n",
       "      <td>52</td>\n",
       "      <td>NaN</td>\n",
       "      <td>Краснодар</td>\n",
       "      <td>Рафаил</td>\n",
       "      <td>Верещагин</td>\n",
       "      <td>2018-05-25</td>\n",
       "      <td>ultra</td>\n",
       "    </tr>\n",
       "    <tr>\n",
       "      <th>1</th>\n",
       "      <td>1001</td>\n",
       "      <td>41</td>\n",
       "      <td>NaN</td>\n",
       "      <td>Москва</td>\n",
       "      <td>Иван</td>\n",
       "      <td>Ежов</td>\n",
       "      <td>2018-11-01</td>\n",
       "      <td>smart</td>\n",
       "    </tr>\n",
       "    <tr>\n",
       "      <th>2</th>\n",
       "      <td>1002</td>\n",
       "      <td>59</td>\n",
       "      <td>NaN</td>\n",
       "      <td>Стерлитамак</td>\n",
       "      <td>Евгений</td>\n",
       "      <td>Абрамович</td>\n",
       "      <td>2018-06-17</td>\n",
       "      <td>smart</td>\n",
       "    </tr>\n",
       "    <tr>\n",
       "      <th>3</th>\n",
       "      <td>1003</td>\n",
       "      <td>23</td>\n",
       "      <td>NaN</td>\n",
       "      <td>Москва</td>\n",
       "      <td>Белла</td>\n",
       "      <td>Белякова</td>\n",
       "      <td>2018-08-17</td>\n",
       "      <td>ultra</td>\n",
       "    </tr>\n",
       "    <tr>\n",
       "      <th>4</th>\n",
       "      <td>1004</td>\n",
       "      <td>68</td>\n",
       "      <td>NaN</td>\n",
       "      <td>Новокузнецк</td>\n",
       "      <td>Татьяна</td>\n",
       "      <td>Авдеенко</td>\n",
       "      <td>2018-05-14</td>\n",
       "      <td>ultra</td>\n",
       "    </tr>\n",
       "  </tbody>\n",
       "</table>\n",
       "</div>"
      ],
      "text/plain": [
       "   user_id  age churn_date         city first_name  last_name    reg_date  \\\n",
       "0     1000   52        NaN    Краснодар     Рафаил  Верещагин  2018-05-25   \n",
       "1     1001   41        NaN       Москва       Иван       Ежов  2018-11-01   \n",
       "2     1002   59        NaN  Стерлитамак    Евгений  Абрамович  2018-06-17   \n",
       "3     1003   23        NaN       Москва      Белла   Белякова  2018-08-17   \n",
       "4     1004   68        NaN  Новокузнецк    Татьяна   Авдеенко  2018-05-14   \n",
       "\n",
       "  tariff  \n",
       "0  ultra  \n",
       "1  smart  \n",
       "2  smart  \n",
       "3  ultra  \n",
       "4  ultra  "
      ]
     },
     "metadata": {},
     "output_type": "display_data"
    },
    {
     "name": "stdout",
     "output_type": "stream",
     "text": [
      " количество дупликатов в датасете users равно 0\n"
     ]
    },
    {
     "data": {
      "text/plain": [
       "user_id                int64\n",
       "age                    int64\n",
       "churn_date    datetime64[ns]\n",
       "city                  object\n",
       "first_name            object\n",
       "last_name             object\n",
       "reg_date      datetime64[ns]\n",
       "tariff                object\n",
       "dtype: object"
      ]
     },
     "execution_count": 5,
     "metadata": {},
     "output_type": "execute_result"
    }
   ],
   "source": [
    "#изучим датасет users\n",
    "\n",
    "display(users.head())\n",
    "\n",
    "#проверим на дупликаты\n",
    "\n",
    "print(f' количество дупликатов в датасете users равно {users.duplicated().sum()}')\n",
    "\n",
    "#необходимо перевести столбцы churn_date, reg_date во временной тип данных\n",
    "                                                                                        \n",
    "users['churn_date'] = pd.to_datetime(users['churn_date'], format = '%Y-%m-%d')\n",
    "users['reg_date'] = pd.to_datetime(users['reg_date'], format = '%Y-%m-%d')\n",
    "\n",
    "#проверим, правмльно ли все заменилось\n",
    "users.dtypes"
   ]
  },
  {
   "cell_type": "code",
   "execution_count": 6,
   "metadata": {},
   "outputs": [
    {
     "data": {
      "text/html": [
       "<div>\n",
       "<style scoped>\n",
       "    .dataframe tbody tr th:only-of-type {\n",
       "        vertical-align: middle;\n",
       "    }\n",
       "\n",
       "    .dataframe tbody tr th {\n",
       "        vertical-align: top;\n",
       "    }\n",
       "\n",
       "    .dataframe thead th {\n",
       "        text-align: right;\n",
       "    }\n",
       "</style>\n",
       "<table border=\"1\" class=\"dataframe\">\n",
       "  <thead>\n",
       "    <tr style=\"text-align: right;\">\n",
       "      <th></th>\n",
       "      <th>id</th>\n",
       "      <th>call_date</th>\n",
       "      <th>duration</th>\n",
       "      <th>user_id</th>\n",
       "    </tr>\n",
       "  </thead>\n",
       "  <tbody>\n",
       "    <tr>\n",
       "      <th>0</th>\n",
       "      <td>1000_0</td>\n",
       "      <td>2018-07-25</td>\n",
       "      <td>0.00</td>\n",
       "      <td>1000</td>\n",
       "    </tr>\n",
       "    <tr>\n",
       "      <th>1</th>\n",
       "      <td>1000_1</td>\n",
       "      <td>2018-08-17</td>\n",
       "      <td>0.00</td>\n",
       "      <td>1000</td>\n",
       "    </tr>\n",
       "    <tr>\n",
       "      <th>2</th>\n",
       "      <td>1000_2</td>\n",
       "      <td>2018-06-11</td>\n",
       "      <td>2.85</td>\n",
       "      <td>1000</td>\n",
       "    </tr>\n",
       "    <tr>\n",
       "      <th>3</th>\n",
       "      <td>1000_3</td>\n",
       "      <td>2018-09-21</td>\n",
       "      <td>13.80</td>\n",
       "      <td>1000</td>\n",
       "    </tr>\n",
       "    <tr>\n",
       "      <th>4</th>\n",
       "      <td>1000_4</td>\n",
       "      <td>2018-12-15</td>\n",
       "      <td>5.18</td>\n",
       "      <td>1000</td>\n",
       "    </tr>\n",
       "  </tbody>\n",
       "</table>\n",
       "</div>"
      ],
      "text/plain": [
       "       id   call_date  duration  user_id\n",
       "0  1000_0  2018-07-25      0.00     1000\n",
       "1  1000_1  2018-08-17      0.00     1000\n",
       "2  1000_2  2018-06-11      2.85     1000\n",
       "3  1000_3  2018-09-21     13.80     1000\n",
       "4  1000_4  2018-12-15      5.18     1000"
      ]
     },
     "metadata": {},
     "output_type": "display_data"
    },
    {
     "name": "stdout",
     "output_type": "stream",
     "text": [
      " количество дупликатов в датасете users равно 0\n"
     ]
    },
    {
     "data": {
      "text/plain": [
       "id                   object\n",
       "call_date    datetime64[ns]\n",
       "duration              int64\n",
       "user_id               int64\n",
       "dtype: object"
      ]
     },
     "execution_count": 6,
     "metadata": {},
     "output_type": "execute_result"
    }
   ],
   "source": [
    "#изучим датасет calls\n",
    "\n",
    "display(calls.head())\n",
    "\n",
    "#проверим на дупликаты\n",
    "\n",
    "print(f' количество дупликатов в датасете users равно {calls.duplicated().sum()}')\n",
    "\n",
    "#необходимо перевести столбцы call_date во временной тип данных\n",
    "#значение столбца duration необходимо округлить в большую сторону в связи с особенностями расчета\n",
    "                                                                                        \n",
    "calls['call_date'] = pd.to_datetime(calls['call_date'], format = '%Y-%m-%d')\n",
    "\n",
    "#calls['duration'] = calls['duration'].astype(int) заменяет значения неверно\n",
    "#воспользуемся сначала методом np.ceil\n",
    "\n",
    "calls['duration'] = np.ceil(calls['duration']).astype(int)\n",
    "\n",
    "#проверим, правильно ли все заменилось\n",
    "calls.dtypes"
   ]
  },
  {
   "cell_type": "code",
   "execution_count": 7,
   "metadata": {},
   "outputs": [
    {
     "data": {
      "text/html": [
       "<div>\n",
       "<style scoped>\n",
       "    .dataframe tbody tr th:only-of-type {\n",
       "        vertical-align: middle;\n",
       "    }\n",
       "\n",
       "    .dataframe tbody tr th {\n",
       "        vertical-align: top;\n",
       "    }\n",
       "\n",
       "    .dataframe thead th {\n",
       "        text-align: right;\n",
       "    }\n",
       "</style>\n",
       "<table border=\"1\" class=\"dataframe\">\n",
       "  <thead>\n",
       "    <tr style=\"text-align: right;\">\n",
       "      <th></th>\n",
       "      <th>id</th>\n",
       "      <th>message_date</th>\n",
       "      <th>user_id</th>\n",
       "    </tr>\n",
       "  </thead>\n",
       "  <tbody>\n",
       "    <tr>\n",
       "      <th>0</th>\n",
       "      <td>1000_0</td>\n",
       "      <td>2018-06-27</td>\n",
       "      <td>1000</td>\n",
       "    </tr>\n",
       "    <tr>\n",
       "      <th>1</th>\n",
       "      <td>1000_1</td>\n",
       "      <td>2018-10-08</td>\n",
       "      <td>1000</td>\n",
       "    </tr>\n",
       "    <tr>\n",
       "      <th>2</th>\n",
       "      <td>1000_2</td>\n",
       "      <td>2018-08-04</td>\n",
       "      <td>1000</td>\n",
       "    </tr>\n",
       "    <tr>\n",
       "      <th>3</th>\n",
       "      <td>1000_3</td>\n",
       "      <td>2018-06-16</td>\n",
       "      <td>1000</td>\n",
       "    </tr>\n",
       "    <tr>\n",
       "      <th>4</th>\n",
       "      <td>1000_4</td>\n",
       "      <td>2018-12-05</td>\n",
       "      <td>1000</td>\n",
       "    </tr>\n",
       "  </tbody>\n",
       "</table>\n",
       "</div>"
      ],
      "text/plain": [
       "       id message_date  user_id\n",
       "0  1000_0   2018-06-27     1000\n",
       "1  1000_1   2018-10-08     1000\n",
       "2  1000_2   2018-08-04     1000\n",
       "3  1000_3   2018-06-16     1000\n",
       "4  1000_4   2018-12-05     1000"
      ]
     },
     "metadata": {},
     "output_type": "display_data"
    },
    {
     "name": "stdout",
     "output_type": "stream",
     "text": [
      " количество дупликатов в датасете users равно 0\n"
     ]
    },
    {
     "data": {
      "text/plain": [
       "id                      object\n",
       "message_date    datetime64[ns]\n",
       "user_id                  int64\n",
       "dtype: object"
      ]
     },
     "execution_count": 7,
     "metadata": {},
     "output_type": "execute_result"
    }
   ],
   "source": [
    "#изучим датасет messages\n",
    "\n",
    "display(messages.head())\n",
    "\n",
    "#проверим на дупликаты\n",
    "\n",
    "print(f' количество дупликатов в датасете users равно {messages.duplicated().sum()}')\n",
    "\n",
    "#необходимо перевести столбцы message_date во временной тип данных\n",
    "                                                                                        \n",
    "messages['message_date'] = pd.to_datetime(messages['message_date'], format = '%Y-%m-%d')\n",
    "\n",
    "#проверим, правмльно ли все заменилось\n",
    "messages.dtypes"
   ]
  },
  {
   "cell_type": "code",
   "execution_count": 8,
   "metadata": {},
   "outputs": [
    {
     "data": {
      "text/html": [
       "<div>\n",
       "<style scoped>\n",
       "    .dataframe tbody tr th:only-of-type {\n",
       "        vertical-align: middle;\n",
       "    }\n",
       "\n",
       "    .dataframe tbody tr th {\n",
       "        vertical-align: top;\n",
       "    }\n",
       "\n",
       "    .dataframe thead th {\n",
       "        text-align: right;\n",
       "    }\n",
       "</style>\n",
       "<table border=\"1\" class=\"dataframe\">\n",
       "  <thead>\n",
       "    <tr style=\"text-align: right;\">\n",
       "      <th></th>\n",
       "      <th>Unnamed: 0</th>\n",
       "      <th>id</th>\n",
       "      <th>mb_used</th>\n",
       "      <th>session_date</th>\n",
       "      <th>user_id</th>\n",
       "    </tr>\n",
       "  </thead>\n",
       "  <tbody>\n",
       "    <tr>\n",
       "      <th>0</th>\n",
       "      <td>0</td>\n",
       "      <td>1000_0</td>\n",
       "      <td>112.95</td>\n",
       "      <td>2018-11-25</td>\n",
       "      <td>1000</td>\n",
       "    </tr>\n",
       "    <tr>\n",
       "      <th>1</th>\n",
       "      <td>1</td>\n",
       "      <td>1000_1</td>\n",
       "      <td>1052.81</td>\n",
       "      <td>2018-09-07</td>\n",
       "      <td>1000</td>\n",
       "    </tr>\n",
       "    <tr>\n",
       "      <th>2</th>\n",
       "      <td>2</td>\n",
       "      <td>1000_2</td>\n",
       "      <td>1197.26</td>\n",
       "      <td>2018-06-25</td>\n",
       "      <td>1000</td>\n",
       "    </tr>\n",
       "    <tr>\n",
       "      <th>3</th>\n",
       "      <td>3</td>\n",
       "      <td>1000_3</td>\n",
       "      <td>550.27</td>\n",
       "      <td>2018-08-22</td>\n",
       "      <td>1000</td>\n",
       "    </tr>\n",
       "    <tr>\n",
       "      <th>4</th>\n",
       "      <td>4</td>\n",
       "      <td>1000_4</td>\n",
       "      <td>302.56</td>\n",
       "      <td>2018-09-24</td>\n",
       "      <td>1000</td>\n",
       "    </tr>\n",
       "  </tbody>\n",
       "</table>\n",
       "</div>"
      ],
      "text/plain": [
       "   Unnamed: 0      id  mb_used session_date  user_id\n",
       "0           0  1000_0   112.95   2018-11-25     1000\n",
       "1           1  1000_1  1052.81   2018-09-07     1000\n",
       "2           2  1000_2  1197.26   2018-06-25     1000\n",
       "3           3  1000_3   550.27   2018-08-22     1000\n",
       "4           4  1000_4   302.56   2018-09-24     1000"
      ]
     },
     "metadata": {},
     "output_type": "display_data"
    },
    {
     "name": "stdout",
     "output_type": "stream",
     "text": [
      " количество дупликатов в датасете users равно 0\n"
     ]
    },
    {
     "data": {
      "text/plain": [
       "id                      object\n",
       "mb_used                float64\n",
       "session_date    datetime64[ns]\n",
       "user_id                  int64\n",
       "dtype: object"
      ]
     },
     "execution_count": 8,
     "metadata": {},
     "output_type": "execute_result"
    }
   ],
   "source": [
    "#изучим датасет internet\n",
    "\n",
    "display(internet.head())\n",
    "\n",
    "#содержимое неизвестного столбца повторяет нумерацию строк таблицы, не имеет смысла его оставлять\n",
    "del(internet['Unnamed: 0'])\n",
    "\n",
    "#проверим на дупликаты\n",
    "\n",
    "print(f' количество дупликатов в датасете users равно {internet.duplicated().sum()}')\n",
    "\n",
    "#необходимо перевести столбцы session_date во временной тип данных\n",
    "#значение столбца mb_used сначала не будем округлять в большую сторону в связи с особенностями расчета, \n",
    "#сделаем это после компоновки расчетной таблицы \n",
    "                                                                                        \n",
    "internet['session_date'] = pd.to_datetime(internet['session_date'], format = '%Y-%m-%d')\n",
    "\n",
    "\n",
    "\n",
    "#проверим, правмльно ли все заменилось\n",
    "internet.dtypes"
   ]
  },
  {
   "cell_type": "code",
   "execution_count": 9,
   "metadata": {},
   "outputs": [
    {
     "data": {
      "text/html": [
       "<div>\n",
       "<style scoped>\n",
       "    .dataframe tbody tr th:only-of-type {\n",
       "        vertical-align: middle;\n",
       "    }\n",
       "\n",
       "    .dataframe tbody tr th {\n",
       "        vertical-align: top;\n",
       "    }\n",
       "\n",
       "    .dataframe thead th {\n",
       "        text-align: right;\n",
       "    }\n",
       "</style>\n",
       "<table border=\"1\" class=\"dataframe\">\n",
       "  <thead>\n",
       "    <tr style=\"text-align: right;\">\n",
       "      <th></th>\n",
       "      <th>messages_included</th>\n",
       "      <th>mb_per_month_included</th>\n",
       "      <th>minutes_included</th>\n",
       "      <th>rub_monthly_fee</th>\n",
       "      <th>rub_per_gb</th>\n",
       "      <th>rub_per_message</th>\n",
       "      <th>rub_per_minute</th>\n",
       "      <th>tariff_name</th>\n",
       "    </tr>\n",
       "  </thead>\n",
       "  <tbody>\n",
       "    <tr>\n",
       "      <th>0</th>\n",
       "      <td>50</td>\n",
       "      <td>15360</td>\n",
       "      <td>500</td>\n",
       "      <td>550</td>\n",
       "      <td>200</td>\n",
       "      <td>3</td>\n",
       "      <td>3</td>\n",
       "      <td>smart</td>\n",
       "    </tr>\n",
       "    <tr>\n",
       "      <th>1</th>\n",
       "      <td>1000</td>\n",
       "      <td>30720</td>\n",
       "      <td>3000</td>\n",
       "      <td>1950</td>\n",
       "      <td>150</td>\n",
       "      <td>1</td>\n",
       "      <td>1</td>\n",
       "      <td>ultra</td>\n",
       "    </tr>\n",
       "  </tbody>\n",
       "</table>\n",
       "</div>"
      ],
      "text/plain": [
       "   messages_included  mb_per_month_included  minutes_included  \\\n",
       "0                 50                  15360               500   \n",
       "1               1000                  30720              3000   \n",
       "\n",
       "   rub_monthly_fee  rub_per_gb  rub_per_message  rub_per_minute tariff_name  \n",
       "0              550         200                3               3       smart  \n",
       "1             1950         150                1               1       ultra  "
      ]
     },
     "metadata": {},
     "output_type": "display_data"
    },
    {
     "data": {
      "text/plain": [
       "messages_included         int64\n",
       "mb_per_month_included     int64\n",
       "minutes_included          int64\n",
       "rub_monthly_fee           int64\n",
       "rub_per_gb                int64\n",
       "rub_per_message           int64\n",
       "rub_per_minute            int64\n",
       "tariff_name              object\n",
       "dtype: object"
      ]
     },
     "execution_count": 9,
     "metadata": {},
     "output_type": "execute_result"
    }
   ],
   "source": [
    "#изучим датасет tariffs\n",
    "\n",
    "display(tariffs.head())\n",
    "\n",
    "#проверим типы данных \n",
    "tariffs.dtypes"
   ]
  },
  {
   "attachments": {},
   "cell_type": "markdown",
   "metadata": {},
   "source": [
    "Типы данных таблиц в порядке\n",
    "\n",
    "Ненужные данные были исключены"
   ]
  },
  {
   "cell_type": "code",
   "execution_count": 10,
   "metadata": {},
   "outputs": [
    {
     "name": "stderr",
     "output_type": "stream",
     "text": [
      "/var/folders/wd/gl0hh07s1f73kj7kynty4z6r0000gn/T/ipykernel_14762/2682229136.py:9: FutureWarning: merging between different levels is deprecated and will be removed in a future version. (1 levels on the left, 2 on the right)\n",
      "  new_table = pd.merge(new_table ,\n",
      "/var/folders/wd/gl0hh07s1f73kj7kynty4z6r0000gn/T/ipykernel_14762/2682229136.py:9: PerformanceWarning: dropping on a non-lexsorted multi-index without a level parameter may impact performance.\n",
      "  new_table = pd.merge(new_table ,\n"
     ]
    },
    {
     "data": {
      "text/html": [
       "<div>\n",
       "<style scoped>\n",
       "    .dataframe tbody tr th:only-of-type {\n",
       "        vertical-align: middle;\n",
       "    }\n",
       "\n",
       "    .dataframe tbody tr th {\n",
       "        vertical-align: top;\n",
       "    }\n",
       "\n",
       "    .dataframe thead th {\n",
       "        text-align: right;\n",
       "    }\n",
       "</style>\n",
       "<table border=\"1\" class=\"dataframe\">\n",
       "  <thead>\n",
       "    <tr style=\"text-align: right;\">\n",
       "      <th></th>\n",
       "      <th>user_id</th>\n",
       "      <th>months</th>\n",
       "      <th>calls_count</th>\n",
       "      <th>calls_minutes</th>\n",
       "    </tr>\n",
       "  </thead>\n",
       "  <tbody>\n",
       "    <tr>\n",
       "      <th>0</th>\n",
       "      <td>1000</td>\n",
       "      <td>5.0</td>\n",
       "      <td>22.0</td>\n",
       "      <td>159.0</td>\n",
       "    </tr>\n",
       "    <tr>\n",
       "      <th>1</th>\n",
       "      <td>1000</td>\n",
       "      <td>6.0</td>\n",
       "      <td>43.0</td>\n",
       "      <td>172.0</td>\n",
       "    </tr>\n",
       "    <tr>\n",
       "      <th>2</th>\n",
       "      <td>1000</td>\n",
       "      <td>7.0</td>\n",
       "      <td>47.0</td>\n",
       "      <td>340.0</td>\n",
       "    </tr>\n",
       "    <tr>\n",
       "      <th>3</th>\n",
       "      <td>1000</td>\n",
       "      <td>8.0</td>\n",
       "      <td>52.0</td>\n",
       "      <td>408.0</td>\n",
       "    </tr>\n",
       "    <tr>\n",
       "      <th>4</th>\n",
       "      <td>1000</td>\n",
       "      <td>9.0</td>\n",
       "      <td>58.0</td>\n",
       "      <td>466.0</td>\n",
       "    </tr>\n",
       "    <tr>\n",
       "      <th>...</th>\n",
       "      <td>...</td>\n",
       "      <td>...</td>\n",
       "      <td>...</td>\n",
       "      <td>...</td>\n",
       "    </tr>\n",
       "    <tr>\n",
       "      <th>3177</th>\n",
       "      <td>1498</td>\n",
       "      <td>10.0</td>\n",
       "      <td>41.0</td>\n",
       "      <td>247.0</td>\n",
       "    </tr>\n",
       "    <tr>\n",
       "      <th>3178</th>\n",
       "      <td>1499</td>\n",
       "      <td>9.0</td>\n",
       "      <td>9.0</td>\n",
       "      <td>70.0</td>\n",
       "    </tr>\n",
       "    <tr>\n",
       "      <th>3179</th>\n",
       "      <td>1499</td>\n",
       "      <td>10.0</td>\n",
       "      <td>68.0</td>\n",
       "      <td>449.0</td>\n",
       "    </tr>\n",
       "    <tr>\n",
       "      <th>3180</th>\n",
       "      <td>1499</td>\n",
       "      <td>11.0</td>\n",
       "      <td>74.0</td>\n",
       "      <td>612.0</td>\n",
       "    </tr>\n",
       "    <tr>\n",
       "      <th>3181</th>\n",
       "      <td>1499</td>\n",
       "      <td>12.0</td>\n",
       "      <td>69.0</td>\n",
       "      <td>492.0</td>\n",
       "    </tr>\n",
       "  </tbody>\n",
       "</table>\n",
       "<p>3182 rows × 4 columns</p>\n",
       "</div>"
      ],
      "text/plain": [
       "      user_id  months  calls_count  calls_minutes\n",
       "0        1000     5.0         22.0          159.0\n",
       "1        1000     6.0         43.0          172.0\n",
       "2        1000     7.0         47.0          340.0\n",
       "3        1000     8.0         52.0          408.0\n",
       "4        1000     9.0         58.0          466.0\n",
       "...       ...     ...          ...            ...\n",
       "3177     1498    10.0         41.0          247.0\n",
       "3178     1499     9.0          9.0           70.0\n",
       "3179     1499    10.0         68.0          449.0\n",
       "3180     1499    11.0         74.0          612.0\n",
       "3181     1499    12.0         69.0          492.0\n",
       "\n",
       "[3182 rows x 4 columns]"
      ]
     },
     "metadata": {},
     "output_type": "display_data"
    },
    {
     "name": "stdout",
     "output_type": "stream",
     "text": [
      "<class 'pandas.core.frame.DataFrame'>\n",
      "RangeIndex: 3182 entries, 0 to 3181\n",
      "Data columns (total 4 columns):\n",
      " #   Column         Non-Null Count  Dtype  \n",
      "---  ------         --------------  -----  \n",
      " 0   user_id        3182 non-null   int64  \n",
      " 1   months         3174 non-null   float64\n",
      " 2   calls_count    3174 non-null   float64\n",
      " 3   calls_minutes  3174 non-null   float64\n",
      "dtypes: float64(3), int64(1)\n",
      "memory usage: 99.6 KB\n"
     ]
    }
   ],
   "source": [
    "#посчитаем для каждого пользователя количество звонков и израсходованных минут за каждый месяц\n",
    "\n",
    "new_table = users['user_id'] #в новую таблицу запишем user_id\n",
    "\n",
    "#в таблице calls создадим столбец с названием месяцев, чтобы создать сводную таблицу,\n",
    "#найти нужные нам параметры и присоединить их по user_id к таблице new_table\n",
    "calls['months'] = calls['call_date'].dt.month\n",
    "\n",
    "new_table = pd.merge(new_table ,\n",
    "                     calls.pivot_table(index = ['user_id', 'months'],\n",
    "                                       values = ['duration'], \n",
    "                                       aggfunc = ('count', 'sum'))\\\n",
    "                     .reset_index(),\n",
    "                     on = 'user_id',\n",
    "                     how = 'outer').reset_index(drop = True)\n",
    "\n",
    "#приведем в порядок названия столбцов\n",
    "#new_table.columns = ['user_id','months', 'calls_count', 'calls_minutes']\n",
    "new_table = new_table.rename(columns = {('months', ''):\"months\",\n",
    "                                        ('duration', 'count'): 'calls_count', \n",
    "                                        ('duration', 'sum') : 'calls_minutes'})\n",
    "\n",
    "#проверим результат\n",
    "display(new_table)\n",
    "#узнаем информацию о датасете\n",
    "new_table.info()"
   ]
  },
  {
   "cell_type": "code",
   "execution_count": 11,
   "metadata": {},
   "outputs": [
    {
     "data": {
      "text/plain": [
       "user_id          0\n",
       "months           8\n",
       "calls_count      8\n",
       "calls_minutes    8\n",
       "dtype: int64"
      ]
     },
     "execution_count": 11,
     "metadata": {},
     "output_type": "execute_result"
    }
   ],
   "source": [
    "#узнаем про пропуски\n",
    "new_table.isna().sum()"
   ]
  },
  {
   "cell_type": "code",
   "execution_count": 12,
   "metadata": {},
   "outputs": [
    {
     "data": {
      "text/html": [
       "<div>\n",
       "<style scoped>\n",
       "    .dataframe tbody tr th:only-of-type {\n",
       "        vertical-align: middle;\n",
       "    }\n",
       "\n",
       "    .dataframe tbody tr th {\n",
       "        vertical-align: top;\n",
       "    }\n",
       "\n",
       "    .dataframe thead th {\n",
       "        text-align: right;\n",
       "    }\n",
       "</style>\n",
       "<table border=\"1\" class=\"dataframe\">\n",
       "  <thead>\n",
       "    <tr style=\"text-align: right;\">\n",
       "      <th></th>\n",
       "      <th>user_id</th>\n",
       "      <th>months</th>\n",
       "      <th>calls_count</th>\n",
       "      <th>calls_minutes</th>\n",
       "    </tr>\n",
       "  </thead>\n",
       "  <tbody>\n",
       "    <tr>\n",
       "      <th>570</th>\n",
       "      <td>1091</td>\n",
       "      <td>NaN</td>\n",
       "      <td>NaN</td>\n",
       "      <td>NaN</td>\n",
       "    </tr>\n",
       "    <tr>\n",
       "      <th>664</th>\n",
       "      <td>1106</td>\n",
       "      <td>NaN</td>\n",
       "      <td>NaN</td>\n",
       "      <td>NaN</td>\n",
       "    </tr>\n",
       "    <tr>\n",
       "      <th>812</th>\n",
       "      <td>1128</td>\n",
       "      <td>NaN</td>\n",
       "      <td>NaN</td>\n",
       "      <td>NaN</td>\n",
       "    </tr>\n",
       "    <tr>\n",
       "      <th>1460</th>\n",
       "      <td>1231</td>\n",
       "      <td>NaN</td>\n",
       "      <td>NaN</td>\n",
       "      <td>NaN</td>\n",
       "    </tr>\n",
       "    <tr>\n",
       "      <th>2061</th>\n",
       "      <td>1328</td>\n",
       "      <td>NaN</td>\n",
       "      <td>NaN</td>\n",
       "      <td>NaN</td>\n",
       "    </tr>\n",
       "    <tr>\n",
       "      <th>2311</th>\n",
       "      <td>1371</td>\n",
       "      <td>NaN</td>\n",
       "      <td>NaN</td>\n",
       "      <td>NaN</td>\n",
       "    </tr>\n",
       "    <tr>\n",
       "      <th>3022</th>\n",
       "      <td>1473</td>\n",
       "      <td>NaN</td>\n",
       "      <td>NaN</td>\n",
       "      <td>NaN</td>\n",
       "    </tr>\n",
       "    <tr>\n",
       "      <th>3121</th>\n",
       "      <td>1489</td>\n",
       "      <td>NaN</td>\n",
       "      <td>NaN</td>\n",
       "      <td>NaN</td>\n",
       "    </tr>\n",
       "  </tbody>\n",
       "</table>\n",
       "</div>"
      ],
      "text/plain": [
       "      user_id  months  calls_count  calls_minutes\n",
       "570      1091     NaN          NaN            NaN\n",
       "664      1106     NaN          NaN            NaN\n",
       "812      1128     NaN          NaN            NaN\n",
       "1460     1231     NaN          NaN            NaN\n",
       "2061     1328     NaN          NaN            NaN\n",
       "2311     1371     NaN          NaN            NaN\n",
       "3022     1473     NaN          NaN            NaN\n",
       "3121     1489     NaN          NaN            NaN"
      ]
     },
     "execution_count": 12,
     "metadata": {},
     "output_type": "execute_result"
    }
   ],
   "source": [
    "new_table[new_table['months'].isna()]"
   ]
  },
  {
   "cell_type": "markdown",
   "metadata": {},
   "source": [
    "Получается, данные пользователи никому не звонили за все время использования тарифа"
   ]
  },
  {
   "cell_type": "code",
   "execution_count": 13,
   "metadata": {},
   "outputs": [
    {
     "data": {
      "text/html": [
       "<div>\n",
       "<style scoped>\n",
       "    .dataframe tbody tr th:only-of-type {\n",
       "        vertical-align: middle;\n",
       "    }\n",
       "\n",
       "    .dataframe tbody tr th {\n",
       "        vertical-align: top;\n",
       "    }\n",
       "\n",
       "    .dataframe thead th {\n",
       "        text-align: right;\n",
       "    }\n",
       "</style>\n",
       "<table border=\"1\" class=\"dataframe\">\n",
       "  <thead>\n",
       "    <tr style=\"text-align: right;\">\n",
       "      <th></th>\n",
       "      <th>user_id</th>\n",
       "      <th>months</th>\n",
       "      <th>calls_count</th>\n",
       "      <th>calls_minutes</th>\n",
       "      <th>messages_count</th>\n",
       "    </tr>\n",
       "  </thead>\n",
       "  <tbody>\n",
       "    <tr>\n",
       "      <th>0</th>\n",
       "      <td>1000</td>\n",
       "      <td>5.0</td>\n",
       "      <td>22.0</td>\n",
       "      <td>159.0</td>\n",
       "      <td>22.0</td>\n",
       "    </tr>\n",
       "    <tr>\n",
       "      <th>1</th>\n",
       "      <td>1000</td>\n",
       "      <td>6.0</td>\n",
       "      <td>43.0</td>\n",
       "      <td>172.0</td>\n",
       "      <td>60.0</td>\n",
       "    </tr>\n",
       "    <tr>\n",
       "      <th>2</th>\n",
       "      <td>1000</td>\n",
       "      <td>7.0</td>\n",
       "      <td>47.0</td>\n",
       "      <td>340.0</td>\n",
       "      <td>75.0</td>\n",
       "    </tr>\n",
       "    <tr>\n",
       "      <th>3</th>\n",
       "      <td>1000</td>\n",
       "      <td>8.0</td>\n",
       "      <td>52.0</td>\n",
       "      <td>408.0</td>\n",
       "      <td>81.0</td>\n",
       "    </tr>\n",
       "    <tr>\n",
       "      <th>4</th>\n",
       "      <td>1000</td>\n",
       "      <td>9.0</td>\n",
       "      <td>58.0</td>\n",
       "      <td>466.0</td>\n",
       "      <td>57.0</td>\n",
       "    </tr>\n",
       "    <tr>\n",
       "      <th>...</th>\n",
       "      <td>...</td>\n",
       "      <td>...</td>\n",
       "      <td>...</td>\n",
       "      <td>...</td>\n",
       "      <td>...</td>\n",
       "    </tr>\n",
       "    <tr>\n",
       "      <th>3216</th>\n",
       "      <td>1489</td>\n",
       "      <td>8.0</td>\n",
       "      <td>NaN</td>\n",
       "      <td>NaN</td>\n",
       "      <td>17.0</td>\n",
       "    </tr>\n",
       "    <tr>\n",
       "      <th>3217</th>\n",
       "      <td>1489</td>\n",
       "      <td>9.0</td>\n",
       "      <td>NaN</td>\n",
       "      <td>NaN</td>\n",
       "      <td>32.0</td>\n",
       "    </tr>\n",
       "    <tr>\n",
       "      <th>3218</th>\n",
       "      <td>1489</td>\n",
       "      <td>10.0</td>\n",
       "      <td>NaN</td>\n",
       "      <td>NaN</td>\n",
       "      <td>21.0</td>\n",
       "    </tr>\n",
       "    <tr>\n",
       "      <th>3219</th>\n",
       "      <td>1489</td>\n",
       "      <td>11.0</td>\n",
       "      <td>NaN</td>\n",
       "      <td>NaN</td>\n",
       "      <td>20.0</td>\n",
       "    </tr>\n",
       "    <tr>\n",
       "      <th>3220</th>\n",
       "      <td>1489</td>\n",
       "      <td>12.0</td>\n",
       "      <td>NaN</td>\n",
       "      <td>NaN</td>\n",
       "      <td>35.0</td>\n",
       "    </tr>\n",
       "  </tbody>\n",
       "</table>\n",
       "<p>3221 rows × 5 columns</p>\n",
       "</div>"
      ],
      "text/plain": [
       "      user_id  months  calls_count  calls_minutes  messages_count\n",
       "0        1000     5.0         22.0          159.0            22.0\n",
       "1        1000     6.0         43.0          172.0            60.0\n",
       "2        1000     7.0         47.0          340.0            75.0\n",
       "3        1000     8.0         52.0          408.0            81.0\n",
       "4        1000     9.0         58.0          466.0            57.0\n",
       "...       ...     ...          ...            ...             ...\n",
       "3216     1489     8.0          NaN            NaN            17.0\n",
       "3217     1489     9.0          NaN            NaN            32.0\n",
       "3218     1489    10.0          NaN            NaN            21.0\n",
       "3219     1489    11.0          NaN            NaN            20.0\n",
       "3220     1489    12.0          NaN            NaN            35.0\n",
       "\n",
       "[3221 rows x 5 columns]"
      ]
     },
     "metadata": {},
     "output_type": "display_data"
    },
    {
     "name": "stdout",
     "output_type": "stream",
     "text": [
      "<class 'pandas.core.frame.DataFrame'>\n",
      "RangeIndex: 3221 entries, 0 to 3220\n",
      "Data columns (total 5 columns):\n",
      " #   Column          Non-Null Count  Dtype  \n",
      "---  ------          --------------  -----  \n",
      " 0   user_id         3221 non-null   int64  \n",
      " 1   months          3213 non-null   float64\n",
      " 2   calls_count     3174 non-null   float64\n",
      " 3   calls_minutes   3174 non-null   float64\n",
      " 4   messages_count  2717 non-null   float64\n",
      "dtypes: float64(4), int64(1)\n",
      "memory usage: 125.9 KB\n"
     ]
    }
   ],
   "source": [
    "#посчитаем для каждого пользователя количество сообщений за каждый месяц\n",
    "\n",
    "#в таблице messages создадим столбец с названием месяцев, чтобы создать сводную таблицу,\n",
    "#найти нужные нам параметры и присоединить их по user_id к таблице new_table\n",
    "messages['months'] = messages['message_date'].dt.month\n",
    "\n",
    "new_table = pd.merge(new_table ,\n",
    "                     messages.groupby(['user_id', 'months'])['id']\\\n",
    "                     .count().reset_index(),\n",
    "                     on = ['user_id', 'months'],\n",
    "                     how = 'outer').reset_index(drop = True)\n",
    "\n",
    "#приведем в порядок названия столбцов\n",
    "#new_table.columns = ['user_id','months', 'calls_count', 'calls_minutes', 'messages_count']\n",
    "new_table = new_table.rename(columns = {'id':'messages_count'})\n",
    "\n",
    "#проверим результат\n",
    "display(new_table)\n",
    "#узнаем информацию о датасете\n",
    "new_table.info()"
   ]
  },
  {
   "cell_type": "code",
   "execution_count": 14,
   "metadata": {},
   "outputs": [
    {
     "data": {
      "text/html": [
       "<div>\n",
       "<style scoped>\n",
       "    .dataframe tbody tr th:only-of-type {\n",
       "        vertical-align: middle;\n",
       "    }\n",
       "\n",
       "    .dataframe tbody tr th {\n",
       "        vertical-align: top;\n",
       "    }\n",
       "\n",
       "    .dataframe thead th {\n",
       "        text-align: right;\n",
       "    }\n",
       "</style>\n",
       "<table border=\"1\" class=\"dataframe\">\n",
       "  <thead>\n",
       "    <tr style=\"text-align: right;\">\n",
       "      <th></th>\n",
       "      <th>user_id</th>\n",
       "      <th>months</th>\n",
       "      <th>calls_count</th>\n",
       "      <th>calls_minutes</th>\n",
       "      <th>messages_count</th>\n",
       "    </tr>\n",
       "  </thead>\n",
       "  <tbody>\n",
       "    <tr>\n",
       "      <th>3022</th>\n",
       "      <td>1473</td>\n",
       "      <td>NaN</td>\n",
       "      <td>NaN</td>\n",
       "      <td>NaN</td>\n",
       "      <td>NaN</td>\n",
       "    </tr>\n",
       "    <tr>\n",
       "      <th>3211</th>\n",
       "      <td>1473</td>\n",
       "      <td>8.0</td>\n",
       "      <td>NaN</td>\n",
       "      <td>NaN</td>\n",
       "      <td>17.0</td>\n",
       "    </tr>\n",
       "    <tr>\n",
       "      <th>3212</th>\n",
       "      <td>1473</td>\n",
       "      <td>9.0</td>\n",
       "      <td>NaN</td>\n",
       "      <td>NaN</td>\n",
       "      <td>19.0</td>\n",
       "    </tr>\n",
       "    <tr>\n",
       "      <th>3213</th>\n",
       "      <td>1473</td>\n",
       "      <td>10.0</td>\n",
       "      <td>NaN</td>\n",
       "      <td>NaN</td>\n",
       "      <td>20.0</td>\n",
       "    </tr>\n",
       "    <tr>\n",
       "      <th>3214</th>\n",
       "      <td>1473</td>\n",
       "      <td>11.0</td>\n",
       "      <td>NaN</td>\n",
       "      <td>NaN</td>\n",
       "      <td>14.0</td>\n",
       "    </tr>\n",
       "    <tr>\n",
       "      <th>3215</th>\n",
       "      <td>1473</td>\n",
       "      <td>12.0</td>\n",
       "      <td>NaN</td>\n",
       "      <td>NaN</td>\n",
       "      <td>20.0</td>\n",
       "    </tr>\n",
       "  </tbody>\n",
       "</table>\n",
       "</div>"
      ],
      "text/plain": [
       "      user_id  months  calls_count  calls_minutes  messages_count\n",
       "3022     1473     NaN          NaN            NaN             NaN\n",
       "3211     1473     8.0          NaN            NaN            17.0\n",
       "3212     1473     9.0          NaN            NaN            19.0\n",
       "3213     1473    10.0          NaN            NaN            20.0\n",
       "3214     1473    11.0          NaN            NaN            14.0\n",
       "3215     1473    12.0          NaN            NaN            20.0"
      ]
     },
     "execution_count": 14,
     "metadata": {},
     "output_type": "execute_result"
    }
   ],
   "source": [
    "# проверить\n",
    "\n",
    "new_table[new_table['user_id'] == 1473] "
   ]
  },
  {
   "cell_type": "code",
   "execution_count": 15,
   "metadata": {},
   "outputs": [
    {
     "data": {
      "text/plain": [
       "user_id             0\n",
       "months              8\n",
       "calls_count        47\n",
       "calls_minutes      47\n",
       "messages_count    504\n",
       "dtype: int64"
      ]
     },
     "execution_count": 15,
     "metadata": {},
     "output_type": "execute_result"
    }
   ],
   "source": [
    "#узнаем про пропуски\n",
    "new_table.isna().sum()"
   ]
  },
  {
   "attachments": {},
   "cell_type": "markdown",
   "metadata": {},
   "source": [
    "Появились новые пропуски в связи с тем, что  данных по этим клиентам или не появилось, или они данные для новых столбоцов отсутсвуют в уже имеющихся "
   ]
  },
  {
   "cell_type": "code",
   "execution_count": 16,
   "metadata": {},
   "outputs": [
    {
     "data": {
      "text/html": [
       "<div>\n",
       "<style scoped>\n",
       "    .dataframe tbody tr th:only-of-type {\n",
       "        vertical-align: middle;\n",
       "    }\n",
       "\n",
       "    .dataframe tbody tr th {\n",
       "        vertical-align: top;\n",
       "    }\n",
       "\n",
       "    .dataframe thead th {\n",
       "        text-align: right;\n",
       "    }\n",
       "</style>\n",
       "<table border=\"1\" class=\"dataframe\">\n",
       "  <thead>\n",
       "    <tr style=\"text-align: right;\">\n",
       "      <th></th>\n",
       "      <th>user_id</th>\n",
       "      <th>months</th>\n",
       "      <th>calls_count</th>\n",
       "      <th>calls_minutes</th>\n",
       "      <th>messages_count</th>\n",
       "      <th>internet_mb_count</th>\n",
       "      <th>internet_gb_round</th>\n",
       "    </tr>\n",
       "  </thead>\n",
       "  <tbody>\n",
       "    <tr>\n",
       "      <th>0</th>\n",
       "      <td>1000</td>\n",
       "      <td>5.0</td>\n",
       "      <td>22.0</td>\n",
       "      <td>159.0</td>\n",
       "      <td>22.0</td>\n",
       "      <td>2254.0</td>\n",
       "      <td>3.0</td>\n",
       "    </tr>\n",
       "    <tr>\n",
       "      <th>1</th>\n",
       "      <td>1000</td>\n",
       "      <td>6.0</td>\n",
       "      <td>43.0</td>\n",
       "      <td>172.0</td>\n",
       "      <td>60.0</td>\n",
       "      <td>23234.0</td>\n",
       "      <td>23.0</td>\n",
       "    </tr>\n",
       "    <tr>\n",
       "      <th>2</th>\n",
       "      <td>1000</td>\n",
       "      <td>7.0</td>\n",
       "      <td>47.0</td>\n",
       "      <td>340.0</td>\n",
       "      <td>75.0</td>\n",
       "      <td>14004.0</td>\n",
       "      <td>14.0</td>\n",
       "    </tr>\n",
       "    <tr>\n",
       "      <th>3</th>\n",
       "      <td>1000</td>\n",
       "      <td>8.0</td>\n",
       "      <td>52.0</td>\n",
       "      <td>408.0</td>\n",
       "      <td>81.0</td>\n",
       "      <td>14056.0</td>\n",
       "      <td>14.0</td>\n",
       "    </tr>\n",
       "    <tr>\n",
       "      <th>4</th>\n",
       "      <td>1000</td>\n",
       "      <td>9.0</td>\n",
       "      <td>58.0</td>\n",
       "      <td>466.0</td>\n",
       "      <td>57.0</td>\n",
       "      <td>14569.0</td>\n",
       "      <td>15.0</td>\n",
       "    </tr>\n",
       "    <tr>\n",
       "      <th>...</th>\n",
       "      <td>...</td>\n",
       "      <td>...</td>\n",
       "      <td>...</td>\n",
       "      <td>...</td>\n",
       "      <td>...</td>\n",
       "      <td>...</td>\n",
       "      <td>...</td>\n",
       "    </tr>\n",
       "    <tr>\n",
       "      <th>3217</th>\n",
       "      <td>1489</td>\n",
       "      <td>9.0</td>\n",
       "      <td>NaN</td>\n",
       "      <td>NaN</td>\n",
       "      <td>32.0</td>\n",
       "      <td>17207.0</td>\n",
       "      <td>17.0</td>\n",
       "    </tr>\n",
       "    <tr>\n",
       "      <th>3218</th>\n",
       "      <td>1489</td>\n",
       "      <td>10.0</td>\n",
       "      <td>NaN</td>\n",
       "      <td>NaN</td>\n",
       "      <td>21.0</td>\n",
       "      <td>19560.0</td>\n",
       "      <td>20.0</td>\n",
       "    </tr>\n",
       "    <tr>\n",
       "      <th>3219</th>\n",
       "      <td>1489</td>\n",
       "      <td>11.0</td>\n",
       "      <td>NaN</td>\n",
       "      <td>NaN</td>\n",
       "      <td>20.0</td>\n",
       "      <td>17492.0</td>\n",
       "      <td>18.0</td>\n",
       "    </tr>\n",
       "    <tr>\n",
       "      <th>3220</th>\n",
       "      <td>1489</td>\n",
       "      <td>12.0</td>\n",
       "      <td>NaN</td>\n",
       "      <td>NaN</td>\n",
       "      <td>35.0</td>\n",
       "      <td>17323.0</td>\n",
       "      <td>17.0</td>\n",
       "    </tr>\n",
       "    <tr>\n",
       "      <th>3221</th>\n",
       "      <td>1476</td>\n",
       "      <td>4.0</td>\n",
       "      <td>NaN</td>\n",
       "      <td>NaN</td>\n",
       "      <td>NaN</td>\n",
       "      <td>531.0</td>\n",
       "      <td>1.0</td>\n",
       "    </tr>\n",
       "  </tbody>\n",
       "</table>\n",
       "<p>3222 rows × 7 columns</p>\n",
       "</div>"
      ],
      "text/plain": [
       "      user_id  months  calls_count  calls_minutes  messages_count  \\\n",
       "0        1000     5.0         22.0          159.0            22.0   \n",
       "1        1000     6.0         43.0          172.0            60.0   \n",
       "2        1000     7.0         47.0          340.0            75.0   \n",
       "3        1000     8.0         52.0          408.0            81.0   \n",
       "4        1000     9.0         58.0          466.0            57.0   \n",
       "...       ...     ...          ...            ...             ...   \n",
       "3217     1489     9.0          NaN            NaN            32.0   \n",
       "3218     1489    10.0          NaN            NaN            21.0   \n",
       "3219     1489    11.0          NaN            NaN            20.0   \n",
       "3220     1489    12.0          NaN            NaN            35.0   \n",
       "3221     1476     4.0          NaN            NaN             NaN   \n",
       "\n",
       "      internet_mb_count  internet_gb_round  \n",
       "0                2254.0                3.0  \n",
       "1               23234.0               23.0  \n",
       "2               14004.0               14.0  \n",
       "3               14056.0               14.0  \n",
       "4               14569.0               15.0  \n",
       "...                 ...                ...  \n",
       "3217            17207.0               17.0  \n",
       "3218            19560.0               20.0  \n",
       "3219            17492.0               18.0  \n",
       "3220            17323.0               17.0  \n",
       "3221              531.0                1.0  \n",
       "\n",
       "[3222 rows x 7 columns]"
      ]
     },
     "metadata": {},
     "output_type": "display_data"
    },
    {
     "name": "stdout",
     "output_type": "stream",
     "text": [
      "<class 'pandas.core.frame.DataFrame'>\n",
      "RangeIndex: 3222 entries, 0 to 3221\n",
      "Data columns (total 7 columns):\n",
      " #   Column             Non-Null Count  Dtype  \n",
      "---  ------             --------------  -----  \n",
      " 0   user_id            3222 non-null   int64  \n",
      " 1   months             3214 non-null   float64\n",
      " 2   calls_count        3174 non-null   float64\n",
      " 3   calls_minutes      3174 non-null   float64\n",
      " 4   messages_count     2717 non-null   float64\n",
      " 5   internet_mb_count  3203 non-null   float64\n",
      " 6   internet_gb_round  3203 non-null   float64\n",
      "dtypes: float64(6), int64(1)\n",
      "memory usage: 176.3 KB\n"
     ]
    }
   ],
   "source": [
    "#посчитаем для каждого пользователя количество интернет-трафика за каждый месяц\n",
    "\n",
    "#в таблице internet создадим столбец с названием месяцев, чтобы создать сводную таблицу,\n",
    "#найти нужные нам параметры и присоединить их по user_id к таблице new_table\n",
    "internet['months'] = internet['session_date'].dt.month\n",
    "\n",
    "new_table = pd.merge(new_table ,\n",
    "                     np.ceil(internet.groupby(['user_id', 'months'])['mb_used']\\\n",
    "                             .sum().reset_index()).astype(int),\n",
    "                     on = ['user_id', 'months'],\n",
    "                     how = 'outer').reset_index(drop = True)\n",
    "\n",
    "#приведем в порядок названия столбцов\n",
    "\n",
    "new_table = new_table.rename(columns = {'mb_used': 'internet_mb_count'})\n",
    "\n",
    "\n",
    "#добавим столбец с округлением в верхнюю сторону по гб\n",
    "new_table['internet_gb_round'] = np.ceil(np.array((new_table['internet_mb_count']) / 1024))\n",
    "#проверим результат\n",
    "display(new_table)\n",
    "#узнаем информацию о датасете\n",
    "new_table.info()"
   ]
  },
  {
   "cell_type": "code",
   "execution_count": 17,
   "metadata": {},
   "outputs": [
    {
     "data": {
      "text/html": [
       "<div>\n",
       "<style scoped>\n",
       "    .dataframe tbody tr th:only-of-type {\n",
       "        vertical-align: middle;\n",
       "    }\n",
       "\n",
       "    .dataframe tbody tr th {\n",
       "        vertical-align: top;\n",
       "    }\n",
       "\n",
       "    .dataframe thead th {\n",
       "        text-align: right;\n",
       "    }\n",
       "</style>\n",
       "<table border=\"1\" class=\"dataframe\">\n",
       "  <thead>\n",
       "    <tr style=\"text-align: right;\">\n",
       "      <th></th>\n",
       "      <th>user_id</th>\n",
       "      <th>months</th>\n",
       "      <th>calls_count</th>\n",
       "      <th>calls_minutes</th>\n",
       "      <th>messages_count</th>\n",
       "      <th>internet_mb_count</th>\n",
       "      <th>internet_gb_round</th>\n",
       "    </tr>\n",
       "  </thead>\n",
       "  <tbody>\n",
       "    <tr>\n",
       "      <th>3022</th>\n",
       "      <td>1473</td>\n",
       "      <td>NaN</td>\n",
       "      <td>NaN</td>\n",
       "      <td>NaN</td>\n",
       "      <td>NaN</td>\n",
       "      <td>NaN</td>\n",
       "      <td>NaN</td>\n",
       "    </tr>\n",
       "    <tr>\n",
       "      <th>3211</th>\n",
       "      <td>1473</td>\n",
       "      <td>8.0</td>\n",
       "      <td>NaN</td>\n",
       "      <td>NaN</td>\n",
       "      <td>17.0</td>\n",
       "      <td>12906.0</td>\n",
       "      <td>13.0</td>\n",
       "    </tr>\n",
       "    <tr>\n",
       "      <th>3212</th>\n",
       "      <td>1473</td>\n",
       "      <td>9.0</td>\n",
       "      <td>NaN</td>\n",
       "      <td>NaN</td>\n",
       "      <td>19.0</td>\n",
       "      <td>17290.0</td>\n",
       "      <td>17.0</td>\n",
       "    </tr>\n",
       "    <tr>\n",
       "      <th>3213</th>\n",
       "      <td>1473</td>\n",
       "      <td>10.0</td>\n",
       "      <td>NaN</td>\n",
       "      <td>NaN</td>\n",
       "      <td>20.0</td>\n",
       "      <td>13689.0</td>\n",
       "      <td>14.0</td>\n",
       "    </tr>\n",
       "    <tr>\n",
       "      <th>3214</th>\n",
       "      <td>1473</td>\n",
       "      <td>11.0</td>\n",
       "      <td>NaN</td>\n",
       "      <td>NaN</td>\n",
       "      <td>14.0</td>\n",
       "      <td>21674.0</td>\n",
       "      <td>22.0</td>\n",
       "    </tr>\n",
       "    <tr>\n",
       "      <th>3215</th>\n",
       "      <td>1473</td>\n",
       "      <td>12.0</td>\n",
       "      <td>NaN</td>\n",
       "      <td>NaN</td>\n",
       "      <td>20.0</td>\n",
       "      <td>18419.0</td>\n",
       "      <td>18.0</td>\n",
       "    </tr>\n",
       "  </tbody>\n",
       "</table>\n",
       "</div>"
      ],
      "text/plain": [
       "      user_id  months  calls_count  calls_minutes  messages_count  \\\n",
       "3022     1473     NaN          NaN            NaN             NaN   \n",
       "3211     1473     8.0          NaN            NaN            17.0   \n",
       "3212     1473     9.0          NaN            NaN            19.0   \n",
       "3213     1473    10.0          NaN            NaN            20.0   \n",
       "3214     1473    11.0          NaN            NaN            14.0   \n",
       "3215     1473    12.0          NaN            NaN            20.0   \n",
       "\n",
       "      internet_mb_count  internet_gb_round  \n",
       "3022                NaN                NaN  \n",
       "3211            12906.0               13.0  \n",
       "3212            17290.0               17.0  \n",
       "3213            13689.0               14.0  \n",
       "3214            21674.0               22.0  \n",
       "3215            18419.0               18.0  "
      ]
     },
     "execution_count": 17,
     "metadata": {},
     "output_type": "execute_result"
    }
   ],
   "source": [
    "# проверить\n",
    "\n",
    "new_table[new_table['user_id'] == 1473] "
   ]
  },
  {
   "cell_type": "code",
   "execution_count": 18,
   "metadata": {},
   "outputs": [
    {
     "data": {
      "text/plain": [
       "user_id                0\n",
       "months                 8\n",
       "calls_count           48\n",
       "calls_minutes         48\n",
       "messages_count       505\n",
       "internet_mb_count     19\n",
       "internet_gb_round     19\n",
       "dtype: int64"
      ]
     },
     "execution_count": 18,
     "metadata": {},
     "output_type": "execute_result"
    }
   ],
   "source": [
    "#узнаем про пропуски\n",
    "new_table.isna().sum()"
   ]
  },
  {
   "cell_type": "code",
   "execution_count": 19,
   "metadata": {},
   "outputs": [
    {
     "data": {
      "text/html": [
       "<div>\n",
       "<style scoped>\n",
       "    .dataframe tbody tr th:only-of-type {\n",
       "        vertical-align: middle;\n",
       "    }\n",
       "\n",
       "    .dataframe tbody tr th {\n",
       "        vertical-align: top;\n",
       "    }\n",
       "\n",
       "    .dataframe thead th {\n",
       "        text-align: right;\n",
       "    }\n",
       "</style>\n",
       "<table border=\"1\" class=\"dataframe\">\n",
       "  <thead>\n",
       "    <tr style=\"text-align: right;\">\n",
       "      <th></th>\n",
       "      <th>user_id</th>\n",
       "      <th>months</th>\n",
       "      <th>calls_count</th>\n",
       "      <th>calls_minutes</th>\n",
       "      <th>messages_count</th>\n",
       "      <th>internet_mb_count</th>\n",
       "      <th>internet_gb_round</th>\n",
       "      <th>tariff</th>\n",
       "      <th>reg_date</th>\n",
       "      <th>churn_date</th>\n",
       "      <th>city</th>\n",
       "    </tr>\n",
       "  </thead>\n",
       "  <tbody>\n",
       "    <tr>\n",
       "      <th>0</th>\n",
       "      <td>1000</td>\n",
       "      <td>5.0</td>\n",
       "      <td>22.0</td>\n",
       "      <td>159.0</td>\n",
       "      <td>22.0</td>\n",
       "      <td>2254.0</td>\n",
       "      <td>3.0</td>\n",
       "      <td>ultra</td>\n",
       "      <td>2018-05-25</td>\n",
       "      <td>NaT</td>\n",
       "      <td>Краснодар</td>\n",
       "    </tr>\n",
       "    <tr>\n",
       "      <th>1</th>\n",
       "      <td>1000</td>\n",
       "      <td>6.0</td>\n",
       "      <td>43.0</td>\n",
       "      <td>172.0</td>\n",
       "      <td>60.0</td>\n",
       "      <td>23234.0</td>\n",
       "      <td>23.0</td>\n",
       "      <td>ultra</td>\n",
       "      <td>2018-05-25</td>\n",
       "      <td>NaT</td>\n",
       "      <td>Краснодар</td>\n",
       "    </tr>\n",
       "    <tr>\n",
       "      <th>2</th>\n",
       "      <td>1000</td>\n",
       "      <td>7.0</td>\n",
       "      <td>47.0</td>\n",
       "      <td>340.0</td>\n",
       "      <td>75.0</td>\n",
       "      <td>14004.0</td>\n",
       "      <td>14.0</td>\n",
       "      <td>ultra</td>\n",
       "      <td>2018-05-25</td>\n",
       "      <td>NaT</td>\n",
       "      <td>Краснодар</td>\n",
       "    </tr>\n",
       "    <tr>\n",
       "      <th>3</th>\n",
       "      <td>1000</td>\n",
       "      <td>8.0</td>\n",
       "      <td>52.0</td>\n",
       "      <td>408.0</td>\n",
       "      <td>81.0</td>\n",
       "      <td>14056.0</td>\n",
       "      <td>14.0</td>\n",
       "      <td>ultra</td>\n",
       "      <td>2018-05-25</td>\n",
       "      <td>NaT</td>\n",
       "      <td>Краснодар</td>\n",
       "    </tr>\n",
       "    <tr>\n",
       "      <th>4</th>\n",
       "      <td>1000</td>\n",
       "      <td>9.0</td>\n",
       "      <td>58.0</td>\n",
       "      <td>466.0</td>\n",
       "      <td>57.0</td>\n",
       "      <td>14569.0</td>\n",
       "      <td>15.0</td>\n",
       "      <td>ultra</td>\n",
       "      <td>2018-05-25</td>\n",
       "      <td>NaT</td>\n",
       "      <td>Краснодар</td>\n",
       "    </tr>\n",
       "    <tr>\n",
       "      <th>...</th>\n",
       "      <td>...</td>\n",
       "      <td>...</td>\n",
       "      <td>...</td>\n",
       "      <td>...</td>\n",
       "      <td>...</td>\n",
       "      <td>...</td>\n",
       "      <td>...</td>\n",
       "      <td>...</td>\n",
       "      <td>...</td>\n",
       "      <td>...</td>\n",
       "      <td>...</td>\n",
       "    </tr>\n",
       "    <tr>\n",
       "      <th>3177</th>\n",
       "      <td>1498</td>\n",
       "      <td>10.0</td>\n",
       "      <td>41.0</td>\n",
       "      <td>247.0</td>\n",
       "      <td>42.0</td>\n",
       "      <td>20580.0</td>\n",
       "      <td>21.0</td>\n",
       "      <td>smart</td>\n",
       "      <td>2018-07-19</td>\n",
       "      <td>2018-10-25</td>\n",
       "      <td>Владикавказ</td>\n",
       "    </tr>\n",
       "    <tr>\n",
       "      <th>3178</th>\n",
       "      <td>1499</td>\n",
       "      <td>9.0</td>\n",
       "      <td>9.0</td>\n",
       "      <td>70.0</td>\n",
       "      <td>11.0</td>\n",
       "      <td>1846.0</td>\n",
       "      <td>2.0</td>\n",
       "      <td>smart</td>\n",
       "      <td>2018-09-27</td>\n",
       "      <td>NaT</td>\n",
       "      <td>Пермь</td>\n",
       "    </tr>\n",
       "    <tr>\n",
       "      <th>3179</th>\n",
       "      <td>1499</td>\n",
       "      <td>10.0</td>\n",
       "      <td>68.0</td>\n",
       "      <td>449.0</td>\n",
       "      <td>48.0</td>\n",
       "      <td>17789.0</td>\n",
       "      <td>18.0</td>\n",
       "      <td>smart</td>\n",
       "      <td>2018-09-27</td>\n",
       "      <td>NaT</td>\n",
       "      <td>Пермь</td>\n",
       "    </tr>\n",
       "    <tr>\n",
       "      <th>3180</th>\n",
       "      <td>1499</td>\n",
       "      <td>11.0</td>\n",
       "      <td>74.0</td>\n",
       "      <td>612.0</td>\n",
       "      <td>59.0</td>\n",
       "      <td>17964.0</td>\n",
       "      <td>18.0</td>\n",
       "      <td>smart</td>\n",
       "      <td>2018-09-27</td>\n",
       "      <td>NaT</td>\n",
       "      <td>Пермь</td>\n",
       "    </tr>\n",
       "    <tr>\n",
       "      <th>3181</th>\n",
       "      <td>1499</td>\n",
       "      <td>12.0</td>\n",
       "      <td>69.0</td>\n",
       "      <td>492.0</td>\n",
       "      <td>66.0</td>\n",
       "      <td>13056.0</td>\n",
       "      <td>13.0</td>\n",
       "      <td>smart</td>\n",
       "      <td>2018-09-27</td>\n",
       "      <td>NaT</td>\n",
       "      <td>Пермь</td>\n",
       "    </tr>\n",
       "  </tbody>\n",
       "</table>\n",
       "<p>3222 rows × 11 columns</p>\n",
       "</div>"
      ],
      "text/plain": [
       "      user_id  months  calls_count  calls_minutes  messages_count  \\\n",
       "0        1000     5.0         22.0          159.0            22.0   \n",
       "1        1000     6.0         43.0          172.0            60.0   \n",
       "2        1000     7.0         47.0          340.0            75.0   \n",
       "3        1000     8.0         52.0          408.0            81.0   \n",
       "4        1000     9.0         58.0          466.0            57.0   \n",
       "...       ...     ...          ...            ...             ...   \n",
       "3177     1498    10.0         41.0          247.0            42.0   \n",
       "3178     1499     9.0          9.0           70.0            11.0   \n",
       "3179     1499    10.0         68.0          449.0            48.0   \n",
       "3180     1499    11.0         74.0          612.0            59.0   \n",
       "3181     1499    12.0         69.0          492.0            66.0   \n",
       "\n",
       "      internet_mb_count  internet_gb_round tariff   reg_date churn_date  \\\n",
       "0                2254.0                3.0  ultra 2018-05-25        NaT   \n",
       "1               23234.0               23.0  ultra 2018-05-25        NaT   \n",
       "2               14004.0               14.0  ultra 2018-05-25        NaT   \n",
       "3               14056.0               14.0  ultra 2018-05-25        NaT   \n",
       "4               14569.0               15.0  ultra 2018-05-25        NaT   \n",
       "...                 ...                ...    ...        ...        ...   \n",
       "3177            20580.0               21.0  smart 2018-07-19 2018-10-25   \n",
       "3178             1846.0                2.0  smart 2018-09-27        NaT   \n",
       "3179            17789.0               18.0  smart 2018-09-27        NaT   \n",
       "3180            17964.0               18.0  smart 2018-09-27        NaT   \n",
       "3181            13056.0               13.0  smart 2018-09-27        NaT   \n",
       "\n",
       "             city  \n",
       "0       Краснодар  \n",
       "1       Краснодар  \n",
       "2       Краснодар  \n",
       "3       Краснодар  \n",
       "4       Краснодар  \n",
       "...           ...  \n",
       "3177  Владикавказ  \n",
       "3178        Пермь  \n",
       "3179        Пермь  \n",
       "3180        Пермь  \n",
       "3181        Пермь  \n",
       "\n",
       "[3222 rows x 11 columns]"
      ]
     },
     "metadata": {},
     "output_type": "display_data"
    },
    {
     "name": "stdout",
     "output_type": "stream",
     "text": [
      "<class 'pandas.core.frame.DataFrame'>\n",
      "RangeIndex: 3222 entries, 0 to 3221\n",
      "Data columns (total 12 columns):\n",
      " #   Column             Non-Null Count  Dtype         \n",
      "---  ------             --------------  -----         \n",
      " 0   user_id            3222 non-null   int64         \n",
      " 1   months             3214 non-null   float64       \n",
      " 2   months_name        3214 non-null   object        \n",
      " 3   calls_count        3174 non-null   float64       \n",
      " 4   calls_minutes      3174 non-null   float64       \n",
      " 5   messages_count     2717 non-null   float64       \n",
      " 6   internet_mb_count  3203 non-null   float64       \n",
      " 7   internet_gb_round  3203 non-null   float64       \n",
      " 8   tariff             3222 non-null   object        \n",
      " 9   reg_date           3222 non-null   datetime64[ns]\n",
      " 10  churn_date         189 non-null    datetime64[ns]\n",
      " 11  city               3222 non-null   object        \n",
      "dtypes: datetime64[ns](2), float64(6), int64(1), object(3)\n",
      "memory usage: 302.2+ KB\n"
     ]
    }
   ],
   "source": [
    "#для подсчета выручки объедним добавим информацию о тарифе в new_table\n",
    "new_table = pd.merge(new_table,\n",
    "                    users[['user_id', 'tariff', 'reg_date', 'churn_date', 'city']],\n",
    "                    on = 'user_id', \n",
    "                    how = 'left').reset_index(drop = True)\n",
    "\n",
    "#отсортируем датасет по user_id и months и проверим результат\n",
    "display(new_table.sort_values(['user_id', 'months'], ascending = True))\n",
    "\n",
    "\n",
    "#создадим столбец months_name, который заполним названиями месяцев заполним названиями месяцев\n",
    "new_table['months_name'] = pd.to_datetime(new_table['months'], format = '%m').dt.month_name()\n",
    "\n",
    "#перенесем столбец months_name на место следующего после months\n",
    "new_table = new_table.reindex(columns = ['user_id',\n",
    "                                         'months',\n",
    "                                         'months_name',                                                                \n",
    "                                         'calls_count',\n",
    "                                         'calls_minutes',\n",
    "                                         'messages_count',\n",
    "                                         'internet_mb_count',\n",
    "                                         'internet_gb_round',\n",
    "                                         'tariff', \n",
    "                                         'reg_date',\n",
    "                                         'churn_date',\n",
    "                                         'city'])\n",
    "\n",
    "#узнаем информацию о датасете\n",
    "new_table.info()"
   ]
  },
  {
   "cell_type": "code",
   "execution_count": 20,
   "metadata": {},
   "outputs": [
    {
     "data": {
      "text/html": [
       "<div>\n",
       "<style scoped>\n",
       "    .dataframe tbody tr th:only-of-type {\n",
       "        vertical-align: middle;\n",
       "    }\n",
       "\n",
       "    .dataframe tbody tr th {\n",
       "        vertical-align: top;\n",
       "    }\n",
       "\n",
       "    .dataframe thead th {\n",
       "        text-align: right;\n",
       "    }\n",
       "</style>\n",
       "<table border=\"1\" class=\"dataframe\">\n",
       "  <thead>\n",
       "    <tr style=\"text-align: right;\">\n",
       "      <th></th>\n",
       "      <th>user_id</th>\n",
       "      <th>months</th>\n",
       "      <th>months_name</th>\n",
       "      <th>calls_count</th>\n",
       "      <th>calls_minutes</th>\n",
       "      <th>messages_count</th>\n",
       "      <th>internet_mb_count</th>\n",
       "      <th>internet_gb_round</th>\n",
       "      <th>tariff</th>\n",
       "      <th>reg_date</th>\n",
       "      <th>churn_date</th>\n",
       "      <th>city</th>\n",
       "    </tr>\n",
       "  </thead>\n",
       "  <tbody>\n",
       "    <tr>\n",
       "      <th>3022</th>\n",
       "      <td>1473</td>\n",
       "      <td>NaN</td>\n",
       "      <td>NaN</td>\n",
       "      <td>NaN</td>\n",
       "      <td>NaN</td>\n",
       "      <td>NaN</td>\n",
       "      <td>NaN</td>\n",
       "      <td>NaN</td>\n",
       "      <td>ultra</td>\n",
       "      <td>2018-08-05</td>\n",
       "      <td>NaT</td>\n",
       "      <td>Красноярск</td>\n",
       "    </tr>\n",
       "    <tr>\n",
       "      <th>3211</th>\n",
       "      <td>1473</td>\n",
       "      <td>8.0</td>\n",
       "      <td>August</td>\n",
       "      <td>NaN</td>\n",
       "      <td>NaN</td>\n",
       "      <td>17.0</td>\n",
       "      <td>12906.0</td>\n",
       "      <td>13.0</td>\n",
       "      <td>ultra</td>\n",
       "      <td>2018-08-05</td>\n",
       "      <td>NaT</td>\n",
       "      <td>Красноярск</td>\n",
       "    </tr>\n",
       "    <tr>\n",
       "      <th>3212</th>\n",
       "      <td>1473</td>\n",
       "      <td>9.0</td>\n",
       "      <td>September</td>\n",
       "      <td>NaN</td>\n",
       "      <td>NaN</td>\n",
       "      <td>19.0</td>\n",
       "      <td>17290.0</td>\n",
       "      <td>17.0</td>\n",
       "      <td>ultra</td>\n",
       "      <td>2018-08-05</td>\n",
       "      <td>NaT</td>\n",
       "      <td>Красноярск</td>\n",
       "    </tr>\n",
       "    <tr>\n",
       "      <th>3213</th>\n",
       "      <td>1473</td>\n",
       "      <td>10.0</td>\n",
       "      <td>October</td>\n",
       "      <td>NaN</td>\n",
       "      <td>NaN</td>\n",
       "      <td>20.0</td>\n",
       "      <td>13689.0</td>\n",
       "      <td>14.0</td>\n",
       "      <td>ultra</td>\n",
       "      <td>2018-08-05</td>\n",
       "      <td>NaT</td>\n",
       "      <td>Красноярск</td>\n",
       "    </tr>\n",
       "    <tr>\n",
       "      <th>3214</th>\n",
       "      <td>1473</td>\n",
       "      <td>11.0</td>\n",
       "      <td>November</td>\n",
       "      <td>NaN</td>\n",
       "      <td>NaN</td>\n",
       "      <td>14.0</td>\n",
       "      <td>21674.0</td>\n",
       "      <td>22.0</td>\n",
       "      <td>ultra</td>\n",
       "      <td>2018-08-05</td>\n",
       "      <td>NaT</td>\n",
       "      <td>Красноярск</td>\n",
       "    </tr>\n",
       "    <tr>\n",
       "      <th>3215</th>\n",
       "      <td>1473</td>\n",
       "      <td>12.0</td>\n",
       "      <td>December</td>\n",
       "      <td>NaN</td>\n",
       "      <td>NaN</td>\n",
       "      <td>20.0</td>\n",
       "      <td>18419.0</td>\n",
       "      <td>18.0</td>\n",
       "      <td>ultra</td>\n",
       "      <td>2018-08-05</td>\n",
       "      <td>NaT</td>\n",
       "      <td>Красноярск</td>\n",
       "    </tr>\n",
       "  </tbody>\n",
       "</table>\n",
       "</div>"
      ],
      "text/plain": [
       "      user_id  months months_name  calls_count  calls_minutes  messages_count  \\\n",
       "3022     1473     NaN         NaN          NaN            NaN             NaN   \n",
       "3211     1473     8.0      August          NaN            NaN            17.0   \n",
       "3212     1473     9.0   September          NaN            NaN            19.0   \n",
       "3213     1473    10.0     October          NaN            NaN            20.0   \n",
       "3214     1473    11.0    November          NaN            NaN            14.0   \n",
       "3215     1473    12.0    December          NaN            NaN            20.0   \n",
       "\n",
       "      internet_mb_count  internet_gb_round tariff   reg_date churn_date  \\\n",
       "3022                NaN                NaN  ultra 2018-08-05        NaT   \n",
       "3211            12906.0               13.0  ultra 2018-08-05        NaT   \n",
       "3212            17290.0               17.0  ultra 2018-08-05        NaT   \n",
       "3213            13689.0               14.0  ultra 2018-08-05        NaT   \n",
       "3214            21674.0               22.0  ultra 2018-08-05        NaT   \n",
       "3215            18419.0               18.0  ultra 2018-08-05        NaT   \n",
       "\n",
       "            city  \n",
       "3022  Красноярск  \n",
       "3211  Красноярск  \n",
       "3212  Красноярск  \n",
       "3213  Красноярск  \n",
       "3214  Красноярск  \n",
       "3215  Красноярск  "
      ]
     },
     "execution_count": 20,
     "metadata": {},
     "output_type": "execute_result"
    }
   ],
   "source": [
    "# проверить\n",
    "\n",
    "new_table[new_table['user_id'] == 1473] "
   ]
  },
  {
   "cell_type": "code",
   "execution_count": 21,
   "metadata": {},
   "outputs": [
    {
     "data": {
      "text/html": [
       "<div>\n",
       "<style scoped>\n",
       "    .dataframe tbody tr th:only-of-type {\n",
       "        vertical-align: middle;\n",
       "    }\n",
       "\n",
       "    .dataframe tbody tr th {\n",
       "        vertical-align: top;\n",
       "    }\n",
       "\n",
       "    .dataframe thead th {\n",
       "        text-align: right;\n",
       "    }\n",
       "</style>\n",
       "<table border=\"1\" class=\"dataframe\">\n",
       "  <thead>\n",
       "    <tr style=\"text-align: right;\">\n",
       "      <th></th>\n",
       "      <th>user_id</th>\n",
       "      <th>months</th>\n",
       "      <th>months_name</th>\n",
       "      <th>calls_count</th>\n",
       "      <th>calls_minutes</th>\n",
       "      <th>messages_count</th>\n",
       "      <th>internet_mb_count</th>\n",
       "      <th>internet_gb_round</th>\n",
       "      <th>tariff</th>\n",
       "      <th>reg_date</th>\n",
       "      <th>churn_date</th>\n",
       "      <th>city</th>\n",
       "      <th>messages_included</th>\n",
       "      <th>mb_per_month_included</th>\n",
       "      <th>minutes_included</th>\n",
       "      <th>rub_monthly_fee</th>\n",
       "      <th>rub_per_gb</th>\n",
       "      <th>rub_per_message</th>\n",
       "      <th>rub_per_minute</th>\n",
       "    </tr>\n",
       "  </thead>\n",
       "  <tbody>\n",
       "    <tr>\n",
       "      <th>0</th>\n",
       "      <td>1000</td>\n",
       "      <td>5.0</td>\n",
       "      <td>May</td>\n",
       "      <td>22.0</td>\n",
       "      <td>159.0</td>\n",
       "      <td>22.0</td>\n",
       "      <td>2254.0</td>\n",
       "      <td>3.0</td>\n",
       "      <td>ultra</td>\n",
       "      <td>2018-05-25</td>\n",
       "      <td>NaT</td>\n",
       "      <td>Краснодар</td>\n",
       "      <td>1000</td>\n",
       "      <td>30720</td>\n",
       "      <td>3000</td>\n",
       "      <td>1950</td>\n",
       "      <td>150</td>\n",
       "      <td>1</td>\n",
       "      <td>1</td>\n",
       "    </tr>\n",
       "    <tr>\n",
       "      <th>1</th>\n",
       "      <td>1000</td>\n",
       "      <td>6.0</td>\n",
       "      <td>June</td>\n",
       "      <td>43.0</td>\n",
       "      <td>172.0</td>\n",
       "      <td>60.0</td>\n",
       "      <td>23234.0</td>\n",
       "      <td>23.0</td>\n",
       "      <td>ultra</td>\n",
       "      <td>2018-05-25</td>\n",
       "      <td>NaT</td>\n",
       "      <td>Краснодар</td>\n",
       "      <td>1000</td>\n",
       "      <td>30720</td>\n",
       "      <td>3000</td>\n",
       "      <td>1950</td>\n",
       "      <td>150</td>\n",
       "      <td>1</td>\n",
       "      <td>1</td>\n",
       "    </tr>\n",
       "    <tr>\n",
       "      <th>2</th>\n",
       "      <td>1000</td>\n",
       "      <td>7.0</td>\n",
       "      <td>July</td>\n",
       "      <td>47.0</td>\n",
       "      <td>340.0</td>\n",
       "      <td>75.0</td>\n",
       "      <td>14004.0</td>\n",
       "      <td>14.0</td>\n",
       "      <td>ultra</td>\n",
       "      <td>2018-05-25</td>\n",
       "      <td>NaT</td>\n",
       "      <td>Краснодар</td>\n",
       "      <td>1000</td>\n",
       "      <td>30720</td>\n",
       "      <td>3000</td>\n",
       "      <td>1950</td>\n",
       "      <td>150</td>\n",
       "      <td>1</td>\n",
       "      <td>1</td>\n",
       "    </tr>\n",
       "    <tr>\n",
       "      <th>3</th>\n",
       "      <td>1000</td>\n",
       "      <td>8.0</td>\n",
       "      <td>August</td>\n",
       "      <td>52.0</td>\n",
       "      <td>408.0</td>\n",
       "      <td>81.0</td>\n",
       "      <td>14056.0</td>\n",
       "      <td>14.0</td>\n",
       "      <td>ultra</td>\n",
       "      <td>2018-05-25</td>\n",
       "      <td>NaT</td>\n",
       "      <td>Краснодар</td>\n",
       "      <td>1000</td>\n",
       "      <td>30720</td>\n",
       "      <td>3000</td>\n",
       "      <td>1950</td>\n",
       "      <td>150</td>\n",
       "      <td>1</td>\n",
       "      <td>1</td>\n",
       "    </tr>\n",
       "    <tr>\n",
       "      <th>4</th>\n",
       "      <td>1000</td>\n",
       "      <td>9.0</td>\n",
       "      <td>September</td>\n",
       "      <td>58.0</td>\n",
       "      <td>466.0</td>\n",
       "      <td>57.0</td>\n",
       "      <td>14569.0</td>\n",
       "      <td>15.0</td>\n",
       "      <td>ultra</td>\n",
       "      <td>2018-05-25</td>\n",
       "      <td>NaT</td>\n",
       "      <td>Краснодар</td>\n",
       "      <td>1000</td>\n",
       "      <td>30720</td>\n",
       "      <td>3000</td>\n",
       "      <td>1950</td>\n",
       "      <td>150</td>\n",
       "      <td>1</td>\n",
       "      <td>1</td>\n",
       "    </tr>\n",
       "    <tr>\n",
       "      <th>...</th>\n",
       "      <td>...</td>\n",
       "      <td>...</td>\n",
       "      <td>...</td>\n",
       "      <td>...</td>\n",
       "      <td>...</td>\n",
       "      <td>...</td>\n",
       "      <td>...</td>\n",
       "      <td>...</td>\n",
       "      <td>...</td>\n",
       "      <td>...</td>\n",
       "      <td>...</td>\n",
       "      <td>...</td>\n",
       "      <td>...</td>\n",
       "      <td>...</td>\n",
       "      <td>...</td>\n",
       "      <td>...</td>\n",
       "      <td>...</td>\n",
       "      <td>...</td>\n",
       "      <td>...</td>\n",
       "    </tr>\n",
       "    <tr>\n",
       "      <th>3217</th>\n",
       "      <td>1489</td>\n",
       "      <td>8.0</td>\n",
       "      <td>August</td>\n",
       "      <td>NaN</td>\n",
       "      <td>NaN</td>\n",
       "      <td>17.0</td>\n",
       "      <td>11051.0</td>\n",
       "      <td>11.0</td>\n",
       "      <td>smart</td>\n",
       "      <td>2018-08-15</td>\n",
       "      <td>NaT</td>\n",
       "      <td>Санкт-Петербург</td>\n",
       "      <td>50</td>\n",
       "      <td>15360</td>\n",
       "      <td>500</td>\n",
       "      <td>550</td>\n",
       "      <td>200</td>\n",
       "      <td>3</td>\n",
       "      <td>3</td>\n",
       "    </tr>\n",
       "    <tr>\n",
       "      <th>3218</th>\n",
       "      <td>1489</td>\n",
       "      <td>9.0</td>\n",
       "      <td>September</td>\n",
       "      <td>NaN</td>\n",
       "      <td>NaN</td>\n",
       "      <td>32.0</td>\n",
       "      <td>17207.0</td>\n",
       "      <td>17.0</td>\n",
       "      <td>smart</td>\n",
       "      <td>2018-08-15</td>\n",
       "      <td>NaT</td>\n",
       "      <td>Санкт-Петербург</td>\n",
       "      <td>50</td>\n",
       "      <td>15360</td>\n",
       "      <td>500</td>\n",
       "      <td>550</td>\n",
       "      <td>200</td>\n",
       "      <td>3</td>\n",
       "      <td>3</td>\n",
       "    </tr>\n",
       "    <tr>\n",
       "      <th>3219</th>\n",
       "      <td>1489</td>\n",
       "      <td>10.0</td>\n",
       "      <td>October</td>\n",
       "      <td>NaN</td>\n",
       "      <td>NaN</td>\n",
       "      <td>21.0</td>\n",
       "      <td>19560.0</td>\n",
       "      <td>20.0</td>\n",
       "      <td>smart</td>\n",
       "      <td>2018-08-15</td>\n",
       "      <td>NaT</td>\n",
       "      <td>Санкт-Петербург</td>\n",
       "      <td>50</td>\n",
       "      <td>15360</td>\n",
       "      <td>500</td>\n",
       "      <td>550</td>\n",
       "      <td>200</td>\n",
       "      <td>3</td>\n",
       "      <td>3</td>\n",
       "    </tr>\n",
       "    <tr>\n",
       "      <th>3220</th>\n",
       "      <td>1489</td>\n",
       "      <td>11.0</td>\n",
       "      <td>November</td>\n",
       "      <td>NaN</td>\n",
       "      <td>NaN</td>\n",
       "      <td>20.0</td>\n",
       "      <td>17492.0</td>\n",
       "      <td>18.0</td>\n",
       "      <td>smart</td>\n",
       "      <td>2018-08-15</td>\n",
       "      <td>NaT</td>\n",
       "      <td>Санкт-Петербург</td>\n",
       "      <td>50</td>\n",
       "      <td>15360</td>\n",
       "      <td>500</td>\n",
       "      <td>550</td>\n",
       "      <td>200</td>\n",
       "      <td>3</td>\n",
       "      <td>3</td>\n",
       "    </tr>\n",
       "    <tr>\n",
       "      <th>3221</th>\n",
       "      <td>1489</td>\n",
       "      <td>12.0</td>\n",
       "      <td>December</td>\n",
       "      <td>NaN</td>\n",
       "      <td>NaN</td>\n",
       "      <td>35.0</td>\n",
       "      <td>17323.0</td>\n",
       "      <td>17.0</td>\n",
       "      <td>smart</td>\n",
       "      <td>2018-08-15</td>\n",
       "      <td>NaT</td>\n",
       "      <td>Санкт-Петербург</td>\n",
       "      <td>50</td>\n",
       "      <td>15360</td>\n",
       "      <td>500</td>\n",
       "      <td>550</td>\n",
       "      <td>200</td>\n",
       "      <td>3</td>\n",
       "      <td>3</td>\n",
       "    </tr>\n",
       "  </tbody>\n",
       "</table>\n",
       "<p>3222 rows × 19 columns</p>\n",
       "</div>"
      ],
      "text/plain": [
       "      user_id  months months_name  calls_count  calls_minutes  messages_count  \\\n",
       "0        1000     5.0         May         22.0          159.0            22.0   \n",
       "1        1000     6.0        June         43.0          172.0            60.0   \n",
       "2        1000     7.0        July         47.0          340.0            75.0   \n",
       "3        1000     8.0      August         52.0          408.0            81.0   \n",
       "4        1000     9.0   September         58.0          466.0            57.0   \n",
       "...       ...     ...         ...          ...            ...             ...   \n",
       "3217     1489     8.0      August          NaN            NaN            17.0   \n",
       "3218     1489     9.0   September          NaN            NaN            32.0   \n",
       "3219     1489    10.0     October          NaN            NaN            21.0   \n",
       "3220     1489    11.0    November          NaN            NaN            20.0   \n",
       "3221     1489    12.0    December          NaN            NaN            35.0   \n",
       "\n",
       "      internet_mb_count  internet_gb_round tariff   reg_date churn_date  \\\n",
       "0                2254.0                3.0  ultra 2018-05-25        NaT   \n",
       "1               23234.0               23.0  ultra 2018-05-25        NaT   \n",
       "2               14004.0               14.0  ultra 2018-05-25        NaT   \n",
       "3               14056.0               14.0  ultra 2018-05-25        NaT   \n",
       "4               14569.0               15.0  ultra 2018-05-25        NaT   \n",
       "...                 ...                ...    ...        ...        ...   \n",
       "3217            11051.0               11.0  smart 2018-08-15        NaT   \n",
       "3218            17207.0               17.0  smart 2018-08-15        NaT   \n",
       "3219            19560.0               20.0  smart 2018-08-15        NaT   \n",
       "3220            17492.0               18.0  smart 2018-08-15        NaT   \n",
       "3221            17323.0               17.0  smart 2018-08-15        NaT   \n",
       "\n",
       "                 city  messages_included  mb_per_month_included  \\\n",
       "0           Краснодар               1000                  30720   \n",
       "1           Краснодар               1000                  30720   \n",
       "2           Краснодар               1000                  30720   \n",
       "3           Краснодар               1000                  30720   \n",
       "4           Краснодар               1000                  30720   \n",
       "...               ...                ...                    ...   \n",
       "3217  Санкт-Петербург                 50                  15360   \n",
       "3218  Санкт-Петербург                 50                  15360   \n",
       "3219  Санкт-Петербург                 50                  15360   \n",
       "3220  Санкт-Петербург                 50                  15360   \n",
       "3221  Санкт-Петербург                 50                  15360   \n",
       "\n",
       "      minutes_included  rub_monthly_fee  rub_per_gb  rub_per_message  \\\n",
       "0                 3000             1950         150                1   \n",
       "1                 3000             1950         150                1   \n",
       "2                 3000             1950         150                1   \n",
       "3                 3000             1950         150                1   \n",
       "4                 3000             1950         150                1   \n",
       "...                ...              ...         ...              ...   \n",
       "3217               500              550         200                3   \n",
       "3218               500              550         200                3   \n",
       "3219               500              550         200                3   \n",
       "3220               500              550         200                3   \n",
       "3221               500              550         200                3   \n",
       "\n",
       "      rub_per_minute  \n",
       "0                  1  \n",
       "1                  1  \n",
       "2                  1  \n",
       "3                  1  \n",
       "4                  1  \n",
       "...              ...  \n",
       "3217               3  \n",
       "3218               3  \n",
       "3219               3  \n",
       "3220               3  \n",
       "3221               3  \n",
       "\n",
       "[3222 rows x 19 columns]"
      ]
     },
     "metadata": {},
     "output_type": "display_data"
    }
   ],
   "source": [
    "#такжу добавим данные из таблицы  tariff в датасет new_table\n",
    "#переименуем столбец в датасете tariffs \n",
    "tariffs = tariffs.rename(columns = {'tariff_name':'tariff'})\n",
    "\n",
    "new_table = pd.merge(new_table,\n",
    "                    tariffs,\n",
    "                    on = 'tariff', \n",
    "                    how = 'outer').reset_index(drop = True)\n",
    "\n",
    "#изучим результат\n",
    "display(new_table)"
   ]
  },
  {
   "cell_type": "code",
   "execution_count": 22,
   "metadata": {},
   "outputs": [
    {
     "data": {
      "text/plain": [
       "user_id                     0\n",
       "months                      8\n",
       "months_name                 8\n",
       "calls_count                48\n",
       "calls_minutes              48\n",
       "messages_count            505\n",
       "internet_mb_count          19\n",
       "internet_gb_round          19\n",
       "tariff                      0\n",
       "reg_date                    0\n",
       "churn_date               3033\n",
       "city                        0\n",
       "messages_included           0\n",
       "mb_per_month_included       0\n",
       "minutes_included            0\n",
       "rub_monthly_fee             0\n",
       "rub_per_gb                  0\n",
       "rub_per_message             0\n",
       "rub_per_minute              0\n",
       "dtype: int64"
      ]
     },
     "execution_count": 22,
     "metadata": {},
     "output_type": "execute_result"
    }
   ],
   "source": [
    "#изучим пропуски\n",
    "\n",
    "new_table.isna().sum()"
   ]
  },
  {
   "cell_type": "code",
   "execution_count": 23,
   "metadata": {},
   "outputs": [
    {
     "name": "stdout",
     "output_type": "stream",
     "text": [
      "<class 'pandas.core.frame.DataFrame'>\n",
      "RangeIndex: 3222 entries, 0 to 3221\n",
      "Data columns (total 19 columns):\n",
      " #   Column                 Non-Null Count  Dtype         \n",
      "---  ------                 --------------  -----         \n",
      " 0   user_id                3222 non-null   int64         \n",
      " 1   months                 3214 non-null   float64       \n",
      " 2   months_name            3214 non-null   object        \n",
      " 3   calls_count            3222 non-null   float64       \n",
      " 4   calls_minutes          3222 non-null   float64       \n",
      " 5   messages_count         3222 non-null   float64       \n",
      " 6   internet_mb_count      3222 non-null   float64       \n",
      " 7   internet_gb_round      3203 non-null   float64       \n",
      " 8   tariff                 3222 non-null   object        \n",
      " 9   reg_date               3222 non-null   datetime64[ns]\n",
      " 10  churn_date             189 non-null    datetime64[ns]\n",
      " 11  city                   3222 non-null   object        \n",
      " 12  messages_included      3222 non-null   int64         \n",
      " 13  mb_per_month_included  3222 non-null   int64         \n",
      " 14  minutes_included       3222 non-null   int64         \n",
      " 15  rub_monthly_fee        3222 non-null   int64         \n",
      " 16  rub_per_gb             3222 non-null   int64         \n",
      " 17  rub_per_message        3222 non-null   int64         \n",
      " 18  rub_per_minute         3222 non-null   int64         \n",
      "dtypes: datetime64[ns](2), float64(6), int64(8), object(3)\n",
      "memory usage: 478.4+ KB\n"
     ]
    }
   ],
   "source": [
    "#пропуски в столбцах (кроме months и months_name) означают лишь то, что клиенты данными этими услугами не пользовались,\n",
    "#поэтому логично будет их заполнить 0\n",
    "new_table[['calls_count', 'calls_minutes', 'messages_count', 'internet_mb_count']] = \\\n",
    "new_table[['calls_count', 'calls_minutes', 'messages_count', 'internet_mb_count']].fillna(0)\n",
    "new_table.info()"
   ]
  },
  {
   "cell_type": "code",
   "execution_count": 24,
   "metadata": {},
   "outputs": [
    {
     "name": "stdout",
     "output_type": "stream",
     "text": [
      "user_id                 0\n",
      "months                  2\n",
      "months_name             2\n",
      "calls_count             0\n",
      "calls_minutes           0\n",
      "messages_count          0\n",
      "internet_mb_count       0\n",
      "internet_gb_round      13\n",
      "tariff                  0\n",
      "reg_date                0\n",
      "churn_date           3027\n",
      "city                    0\n",
      "revenue                 0\n",
      "dtype: int64\n"
     ]
    },
    {
     "data": {
      "text/html": [
       "<div>\n",
       "<style scoped>\n",
       "    .dataframe tbody tr th:only-of-type {\n",
       "        vertical-align: middle;\n",
       "    }\n",
       "\n",
       "    .dataframe tbody tr th {\n",
       "        vertical-align: top;\n",
       "    }\n",
       "\n",
       "    .dataframe thead th {\n",
       "        text-align: right;\n",
       "    }\n",
       "</style>\n",
       "<table border=\"1\" class=\"dataframe\">\n",
       "  <thead>\n",
       "    <tr style=\"text-align: right;\">\n",
       "      <th></th>\n",
       "      <th>user_id</th>\n",
       "      <th>months</th>\n",
       "      <th>months_name</th>\n",
       "      <th>calls_count</th>\n",
       "      <th>calls_minutes</th>\n",
       "      <th>messages_count</th>\n",
       "      <th>internet_mb_count</th>\n",
       "      <th>internet_gb_round</th>\n",
       "      <th>tariff</th>\n",
       "      <th>reg_date</th>\n",
       "      <th>churn_date</th>\n",
       "      <th>city</th>\n",
       "      <th>revenue</th>\n",
       "    </tr>\n",
       "  </thead>\n",
       "  <tbody>\n",
       "    <tr>\n",
       "      <th>0</th>\n",
       "      <td>1000</td>\n",
       "      <td>5.0</td>\n",
       "      <td>May</td>\n",
       "      <td>22.0</td>\n",
       "      <td>159.0</td>\n",
       "      <td>22.0</td>\n",
       "      <td>2254.0</td>\n",
       "      <td>3.0</td>\n",
       "      <td>ultra</td>\n",
       "      <td>2018-05-25</td>\n",
       "      <td>NaT</td>\n",
       "      <td>Краснодар</td>\n",
       "      <td>1950.0</td>\n",
       "    </tr>\n",
       "    <tr>\n",
       "      <th>1</th>\n",
       "      <td>1000</td>\n",
       "      <td>6.0</td>\n",
       "      <td>June</td>\n",
       "      <td>43.0</td>\n",
       "      <td>172.0</td>\n",
       "      <td>60.0</td>\n",
       "      <td>23234.0</td>\n",
       "      <td>23.0</td>\n",
       "      <td>ultra</td>\n",
       "      <td>2018-05-25</td>\n",
       "      <td>NaT</td>\n",
       "      <td>Краснодар</td>\n",
       "      <td>1950.0</td>\n",
       "    </tr>\n",
       "    <tr>\n",
       "      <th>2</th>\n",
       "      <td>1000</td>\n",
       "      <td>7.0</td>\n",
       "      <td>July</td>\n",
       "      <td>47.0</td>\n",
       "      <td>340.0</td>\n",
       "      <td>75.0</td>\n",
       "      <td>14004.0</td>\n",
       "      <td>14.0</td>\n",
       "      <td>ultra</td>\n",
       "      <td>2018-05-25</td>\n",
       "      <td>NaT</td>\n",
       "      <td>Краснодар</td>\n",
       "      <td>1950.0</td>\n",
       "    </tr>\n",
       "    <tr>\n",
       "      <th>3</th>\n",
       "      <td>1000</td>\n",
       "      <td>8.0</td>\n",
       "      <td>August</td>\n",
       "      <td>52.0</td>\n",
       "      <td>408.0</td>\n",
       "      <td>81.0</td>\n",
       "      <td>14056.0</td>\n",
       "      <td>14.0</td>\n",
       "      <td>ultra</td>\n",
       "      <td>2018-05-25</td>\n",
       "      <td>NaT</td>\n",
       "      <td>Краснодар</td>\n",
       "      <td>1950.0</td>\n",
       "    </tr>\n",
       "    <tr>\n",
       "      <th>4</th>\n",
       "      <td>1000</td>\n",
       "      <td>9.0</td>\n",
       "      <td>September</td>\n",
       "      <td>58.0</td>\n",
       "      <td>466.0</td>\n",
       "      <td>57.0</td>\n",
       "      <td>14569.0</td>\n",
       "      <td>15.0</td>\n",
       "      <td>ultra</td>\n",
       "      <td>2018-05-25</td>\n",
       "      <td>NaT</td>\n",
       "      <td>Краснодар</td>\n",
       "      <td>1950.0</td>\n",
       "    </tr>\n",
       "    <tr>\n",
       "      <th>...</th>\n",
       "      <td>...</td>\n",
       "      <td>...</td>\n",
       "      <td>...</td>\n",
       "      <td>...</td>\n",
       "      <td>...</td>\n",
       "      <td>...</td>\n",
       "      <td>...</td>\n",
       "      <td>...</td>\n",
       "      <td>...</td>\n",
       "      <td>...</td>\n",
       "      <td>...</td>\n",
       "      <td>...</td>\n",
       "      <td>...</td>\n",
       "    </tr>\n",
       "    <tr>\n",
       "      <th>3217</th>\n",
       "      <td>1489</td>\n",
       "      <td>8.0</td>\n",
       "      <td>August</td>\n",
       "      <td>0.0</td>\n",
       "      <td>0.0</td>\n",
       "      <td>17.0</td>\n",
       "      <td>11051.0</td>\n",
       "      <td>11.0</td>\n",
       "      <td>smart</td>\n",
       "      <td>2018-08-15</td>\n",
       "      <td>NaT</td>\n",
       "      <td>Санкт-Петербург</td>\n",
       "      <td>550.0</td>\n",
       "    </tr>\n",
       "    <tr>\n",
       "      <th>3218</th>\n",
       "      <td>1489</td>\n",
       "      <td>9.0</td>\n",
       "      <td>September</td>\n",
       "      <td>0.0</td>\n",
       "      <td>0.0</td>\n",
       "      <td>32.0</td>\n",
       "      <td>17207.0</td>\n",
       "      <td>17.0</td>\n",
       "      <td>smart</td>\n",
       "      <td>2018-08-15</td>\n",
       "      <td>NaT</td>\n",
       "      <td>Санкт-Петербург</td>\n",
       "      <td>950.0</td>\n",
       "    </tr>\n",
       "    <tr>\n",
       "      <th>3219</th>\n",
       "      <td>1489</td>\n",
       "      <td>10.0</td>\n",
       "      <td>October</td>\n",
       "      <td>0.0</td>\n",
       "      <td>0.0</td>\n",
       "      <td>21.0</td>\n",
       "      <td>19560.0</td>\n",
       "      <td>20.0</td>\n",
       "      <td>smart</td>\n",
       "      <td>2018-08-15</td>\n",
       "      <td>NaT</td>\n",
       "      <td>Санкт-Петербург</td>\n",
       "      <td>1550.0</td>\n",
       "    </tr>\n",
       "    <tr>\n",
       "      <th>3220</th>\n",
       "      <td>1489</td>\n",
       "      <td>11.0</td>\n",
       "      <td>November</td>\n",
       "      <td>0.0</td>\n",
       "      <td>0.0</td>\n",
       "      <td>20.0</td>\n",
       "      <td>17492.0</td>\n",
       "      <td>18.0</td>\n",
       "      <td>smart</td>\n",
       "      <td>2018-08-15</td>\n",
       "      <td>NaT</td>\n",
       "      <td>Санкт-Петербург</td>\n",
       "      <td>1150.0</td>\n",
       "    </tr>\n",
       "    <tr>\n",
       "      <th>3221</th>\n",
       "      <td>1489</td>\n",
       "      <td>12.0</td>\n",
       "      <td>December</td>\n",
       "      <td>0.0</td>\n",
       "      <td>0.0</td>\n",
       "      <td>35.0</td>\n",
       "      <td>17323.0</td>\n",
       "      <td>17.0</td>\n",
       "      <td>smart</td>\n",
       "      <td>2018-08-15</td>\n",
       "      <td>NaT</td>\n",
       "      <td>Санкт-Петербург</td>\n",
       "      <td>950.0</td>\n",
       "    </tr>\n",
       "  </tbody>\n",
       "</table>\n",
       "<p>3216 rows × 13 columns</p>\n",
       "</div>"
      ],
      "text/plain": [
       "      user_id  months months_name  calls_count  calls_minutes  messages_count  \\\n",
       "0        1000     5.0         May         22.0          159.0            22.0   \n",
       "1        1000     6.0        June         43.0          172.0            60.0   \n",
       "2        1000     7.0        July         47.0          340.0            75.0   \n",
       "3        1000     8.0      August         52.0          408.0            81.0   \n",
       "4        1000     9.0   September         58.0          466.0            57.0   \n",
       "...       ...     ...         ...          ...            ...             ...   \n",
       "3217     1489     8.0      August          0.0            0.0            17.0   \n",
       "3218     1489     9.0   September          0.0            0.0            32.0   \n",
       "3219     1489    10.0     October          0.0            0.0            21.0   \n",
       "3220     1489    11.0    November          0.0            0.0            20.0   \n",
       "3221     1489    12.0    December          0.0            0.0            35.0   \n",
       "\n",
       "      internet_mb_count  internet_gb_round tariff   reg_date churn_date  \\\n",
       "0                2254.0                3.0  ultra 2018-05-25        NaT   \n",
       "1               23234.0               23.0  ultra 2018-05-25        NaT   \n",
       "2               14004.0               14.0  ultra 2018-05-25        NaT   \n",
       "3               14056.0               14.0  ultra 2018-05-25        NaT   \n",
       "4               14569.0               15.0  ultra 2018-05-25        NaT   \n",
       "...                 ...                ...    ...        ...        ...   \n",
       "3217            11051.0               11.0  smart 2018-08-15        NaT   \n",
       "3218            17207.0               17.0  smart 2018-08-15        NaT   \n",
       "3219            19560.0               20.0  smart 2018-08-15        NaT   \n",
       "3220            17492.0               18.0  smart 2018-08-15        NaT   \n",
       "3221            17323.0               17.0  smart 2018-08-15        NaT   \n",
       "\n",
       "                 city  revenue  \n",
       "0           Краснодар   1950.0  \n",
       "1           Краснодар   1950.0  \n",
       "2           Краснодар   1950.0  \n",
       "3           Краснодар   1950.0  \n",
       "4           Краснодар   1950.0  \n",
       "...               ...      ...  \n",
       "3217  Санкт-Петербург    550.0  \n",
       "3218  Санкт-Петербург    950.0  \n",
       "3219  Санкт-Петербург   1550.0  \n",
       "3220  Санкт-Петербург   1150.0  \n",
       "3221  Санкт-Петербург    950.0  \n",
       "\n",
       "[3216 rows x 13 columns]"
      ]
     },
     "metadata": {},
     "output_type": "display_data"
    }
   ],
   "source": [
    "#создадим функцию, которая будет проверять, превысил ли клиент тариф клиента и считает выручку от клиента\n",
    "#в случае превышения клиентом лимита в той или иной категории, взымается дополнительная плата\n",
    "def revenue(data):\n",
    "    call = (data['calls_minutes']-data['minutes_included'])*data['rub_per_minute']\n",
    "    message = (data['messages_count']-data['messages_included'])*data['rub_per_message']\n",
    "    mb = np.ceil((data['internet_mb_count']-data['mb_per_month_included'])/1024)*data['rub_per_gb']\n",
    "    total = 0\n",
    "    for item in [call, message, mb]:\n",
    "        if item < 0:\n",
    "            item = 0\n",
    "            total += item\n",
    "        else:\n",
    "            total +=item\n",
    "    total += data['rub_monthly_fee']\n",
    "    return total\n",
    "\n",
    "new_table['revenue'] = new_table.apply(revenue, axis = 1)    \n",
    "\n",
    "\n",
    "#удалим строки с NaN, искажающее значение выручки с клиента\n",
    "new_table = new_table.drop(index = \n",
    "                           new_table[(new_table['user_id'].isin(\n",
    "                               new_table[(new_table['user_id'].isin(new_table[new_table['months'].isna()]['user_id'])) & \n",
    "                                    (new_table['months'].isna()==False)]['user_id'].unique())\n",
    "                                     )& (new_table['months'].isna())].index )\n",
    "\n",
    "\n",
    "\n",
    "#также удалим столбцы, которые нам больше не пригодятся в исследовании\n",
    "new_table = new_table.drop(columns= ['messages_included',\n",
    "                                     'mb_per_month_included',\n",
    "                                     'minutes_included', \n",
    "                                     'rub_monthly_fee',\n",
    "                                     'rub_per_gb',  \n",
    "                                     'rub_per_message',\n",
    "                                     'rub_per_minute'])\n",
    "\n",
    "#изучим пропуски\n",
    "print(new_table.isna().sum())\n",
    "\n",
    "#изучим результат\n",
    "display(new_table)"
   ]
  },
  {
   "cell_type": "code",
   "execution_count": 25,
   "metadata": {},
   "outputs": [
    {
     "data": {
      "text/html": [
       "<div>\n",
       "<style scoped>\n",
       "    .dataframe tbody tr th:only-of-type {\n",
       "        vertical-align: middle;\n",
       "    }\n",
       "\n",
       "    .dataframe tbody tr th {\n",
       "        vertical-align: top;\n",
       "    }\n",
       "\n",
       "    .dataframe thead th {\n",
       "        text-align: right;\n",
       "    }\n",
       "</style>\n",
       "<table border=\"1\" class=\"dataframe\">\n",
       "  <thead>\n",
       "    <tr style=\"text-align: right;\">\n",
       "      <th></th>\n",
       "      <th>user_id</th>\n",
       "      <th>months</th>\n",
       "      <th>months_name</th>\n",
       "      <th>calls_count</th>\n",
       "      <th>calls_minutes</th>\n",
       "      <th>messages_count</th>\n",
       "      <th>internet_mb_count</th>\n",
       "      <th>internet_gb_round</th>\n",
       "      <th>tariff</th>\n",
       "      <th>reg_date</th>\n",
       "      <th>churn_date</th>\n",
       "      <th>city</th>\n",
       "      <th>revenue</th>\n",
       "    </tr>\n",
       "  </thead>\n",
       "  <tbody>\n",
       "    <tr>\n",
       "      <th>50</th>\n",
       "      <td>1024</td>\n",
       "      <td>11.0</td>\n",
       "      <td>November</td>\n",
       "      <td>157.0</td>\n",
       "      <td>1146.0</td>\n",
       "      <td>0.0</td>\n",
       "      <td>43108.0</td>\n",
       "      <td>43.0</td>\n",
       "      <td>ultra</td>\n",
       "      <td>2018-10-31</td>\n",
       "      <td>NaT</td>\n",
       "      <td>Санкт-Петербург</td>\n",
       "      <td>3900.0</td>\n",
       "    </tr>\n",
       "    <tr>\n",
       "      <th>51</th>\n",
       "      <td>1024</td>\n",
       "      <td>12.0</td>\n",
       "      <td>December</td>\n",
       "      <td>136.0</td>\n",
       "      <td>949.0</td>\n",
       "      <td>0.0</td>\n",
       "      <td>35949.0</td>\n",
       "      <td>36.0</td>\n",
       "      <td>ultra</td>\n",
       "      <td>2018-10-31</td>\n",
       "      <td>NaT</td>\n",
       "      <td>Санкт-Петербург</td>\n",
       "      <td>2850.0</td>\n",
       "    </tr>\n",
       "    <tr>\n",
       "      <th>78</th>\n",
       "      <td>1050</td>\n",
       "      <td>7.0</td>\n",
       "      <td>July</td>\n",
       "      <td>35.0</td>\n",
       "      <td>209.0</td>\n",
       "      <td>52.0</td>\n",
       "      <td>35178.0</td>\n",
       "      <td>35.0</td>\n",
       "      <td>ultra</td>\n",
       "      <td>2018-06-16</td>\n",
       "      <td>2018-10-03</td>\n",
       "      <td>Тюмень</td>\n",
       "      <td>2700.0</td>\n",
       "    </tr>\n",
       "    <tr>\n",
       "      <th>97</th>\n",
       "      <td>1060</td>\n",
       "      <td>12.0</td>\n",
       "      <td>December</td>\n",
       "      <td>184.0</td>\n",
       "      <td>1233.0</td>\n",
       "      <td>52.0</td>\n",
       "      <td>43932.0</td>\n",
       "      <td>43.0</td>\n",
       "      <td>ultra</td>\n",
       "      <td>2018-11-24</td>\n",
       "      <td>NaT</td>\n",
       "      <td>Калуга</td>\n",
       "      <td>3900.0</td>\n",
       "    </tr>\n",
       "    <tr>\n",
       "      <th>213</th>\n",
       "      <td>1124</td>\n",
       "      <td>10.0</td>\n",
       "      <td>October</td>\n",
       "      <td>152.0</td>\n",
       "      <td>1225.0</td>\n",
       "      <td>121.0</td>\n",
       "      <td>49746.0</td>\n",
       "      <td>49.0</td>\n",
       "      <td>ultra</td>\n",
       "      <td>2018-09-24</td>\n",
       "      <td>NaT</td>\n",
       "      <td>Махачкала</td>\n",
       "      <td>4800.0</td>\n",
       "    </tr>\n",
       "    <tr>\n",
       "      <th>...</th>\n",
       "      <td>...</td>\n",
       "      <td>...</td>\n",
       "      <td>...</td>\n",
       "      <td>...</td>\n",
       "      <td>...</td>\n",
       "      <td>...</td>\n",
       "      <td>...</td>\n",
       "      <td>...</td>\n",
       "      <td>...</td>\n",
       "      <td>...</td>\n",
       "      <td>...</td>\n",
       "      <td>...</td>\n",
       "      <td>...</td>\n",
       "    </tr>\n",
       "    <tr>\n",
       "      <th>2385</th>\n",
       "      <td>1306</td>\n",
       "      <td>12.0</td>\n",
       "      <td>December</td>\n",
       "      <td>66.0</td>\n",
       "      <td>484.0</td>\n",
       "      <td>0.0</td>\n",
       "      <td>34913.0</td>\n",
       "      <td>35.0</td>\n",
       "      <td>smart</td>\n",
       "      <td>2018-11-30</td>\n",
       "      <td>NaT</td>\n",
       "      <td>Чита</td>\n",
       "      <td>4550.0</td>\n",
       "    </tr>\n",
       "    <tr>\n",
       "      <th>2690</th>\n",
       "      <td>1386</td>\n",
       "      <td>9.0</td>\n",
       "      <td>September</td>\n",
       "      <td>69.0</td>\n",
       "      <td>352.0</td>\n",
       "      <td>53.0</td>\n",
       "      <td>31015.0</td>\n",
       "      <td>31.0</td>\n",
       "      <td>smart</td>\n",
       "      <td>2018-08-13</td>\n",
       "      <td>NaT</td>\n",
       "      <td>Новосибирск</td>\n",
       "      <td>3759.0</td>\n",
       "    </tr>\n",
       "    <tr>\n",
       "      <th>3048</th>\n",
       "      <td>1464</td>\n",
       "      <td>12.0</td>\n",
       "      <td>December</td>\n",
       "      <td>84.0</td>\n",
       "      <td>555.0</td>\n",
       "      <td>29.0</td>\n",
       "      <td>31565.0</td>\n",
       "      <td>31.0</td>\n",
       "      <td>smart</td>\n",
       "      <td>2018-02-17</td>\n",
       "      <td>NaT</td>\n",
       "      <td>Саранск</td>\n",
       "      <td>3915.0</td>\n",
       "    </tr>\n",
       "    <tr>\n",
       "      <th>3162</th>\n",
       "      <td>1486</td>\n",
       "      <td>11.0</td>\n",
       "      <td>November</td>\n",
       "      <td>108.0</td>\n",
       "      <td>764.0</td>\n",
       "      <td>96.0</td>\n",
       "      <td>36267.0</td>\n",
       "      <td>36.0</td>\n",
       "      <td>smart</td>\n",
       "      <td>2018-10-31</td>\n",
       "      <td>NaT</td>\n",
       "      <td>Нижний Новгород</td>\n",
       "      <td>5680.0</td>\n",
       "    </tr>\n",
       "    <tr>\n",
       "      <th>3163</th>\n",
       "      <td>1486</td>\n",
       "      <td>12.0</td>\n",
       "      <td>December</td>\n",
       "      <td>133.0</td>\n",
       "      <td>1007.0</td>\n",
       "      <td>83.0</td>\n",
       "      <td>38553.0</td>\n",
       "      <td>38.0</td>\n",
       "      <td>smart</td>\n",
       "      <td>2018-10-31</td>\n",
       "      <td>NaT</td>\n",
       "      <td>Нижний Новгород</td>\n",
       "      <td>6770.0</td>\n",
       "    </tr>\n",
       "  </tbody>\n",
       "</table>\n",
       "<p>152 rows × 13 columns</p>\n",
       "</div>"
      ],
      "text/plain": [
       "      user_id  months months_name  calls_count  calls_minutes  messages_count  \\\n",
       "50       1024    11.0    November        157.0         1146.0             0.0   \n",
       "51       1024    12.0    December        136.0          949.0             0.0   \n",
       "78       1050     7.0        July         35.0          209.0            52.0   \n",
       "97       1060    12.0    December        184.0         1233.0            52.0   \n",
       "213      1124    10.0     October        152.0         1225.0           121.0   \n",
       "...       ...     ...         ...          ...            ...             ...   \n",
       "2385     1306    12.0    December         66.0          484.0             0.0   \n",
       "2690     1386     9.0   September         69.0          352.0            53.0   \n",
       "3048     1464    12.0    December         84.0          555.0            29.0   \n",
       "3162     1486    11.0    November        108.0          764.0            96.0   \n",
       "3163     1486    12.0    December        133.0         1007.0            83.0   \n",
       "\n",
       "      internet_mb_count  internet_gb_round tariff   reg_date churn_date  \\\n",
       "50              43108.0               43.0  ultra 2018-10-31        NaT   \n",
       "51              35949.0               36.0  ultra 2018-10-31        NaT   \n",
       "78              35178.0               35.0  ultra 2018-06-16 2018-10-03   \n",
       "97              43932.0               43.0  ultra 2018-11-24        NaT   \n",
       "213             49746.0               49.0  ultra 2018-09-24        NaT   \n",
       "...                 ...                ...    ...        ...        ...   \n",
       "2385            34913.0               35.0  smart 2018-11-30        NaT   \n",
       "2690            31015.0               31.0  smart 2018-08-13        NaT   \n",
       "3048            31565.0               31.0  smart 2018-02-17        NaT   \n",
       "3162            36267.0               36.0  smart 2018-10-31        NaT   \n",
       "3163            38553.0               38.0  smart 2018-10-31        NaT   \n",
       "\n",
       "                 city  revenue  \n",
       "50    Санкт-Петербург   3900.0  \n",
       "51    Санкт-Петербург   2850.0  \n",
       "78             Тюмень   2700.0  \n",
       "97             Калуга   3900.0  \n",
       "213         Махачкала   4800.0  \n",
       "...               ...      ...  \n",
       "2385             Чита   4550.0  \n",
       "2690      Новосибирск   3759.0  \n",
       "3048          Саранск   3915.0  \n",
       "3162  Нижний Новгород   5680.0  \n",
       "3163  Нижний Новгород   6770.0  \n",
       "\n",
       "[152 rows x 13 columns]"
      ]
     },
     "execution_count": 25,
     "metadata": {},
     "output_type": "execute_result"
    }
   ],
   "source": [
    "new_table[new_table['internet_gb_round']>30]"
   ]
  },
  {
   "cell_type": "code",
   "execution_count": 26,
   "metadata": {
    "scrolled": false
   },
   "outputs": [
    {
     "data": {
      "text/html": [
       "<div>\n",
       "<style scoped>\n",
       "    .dataframe tbody tr th:only-of-type {\n",
       "        vertical-align: middle;\n",
       "    }\n",
       "\n",
       "    .dataframe tbody tr th {\n",
       "        vertical-align: top;\n",
       "    }\n",
       "\n",
       "    .dataframe thead th {\n",
       "        text-align: right;\n",
       "    }\n",
       "</style>\n",
       "<table border=\"1\" class=\"dataframe\">\n",
       "  <thead>\n",
       "    <tr style=\"text-align: right;\">\n",
       "      <th></th>\n",
       "      <th>user_id</th>\n",
       "      <th>months</th>\n",
       "      <th>months_name</th>\n",
       "      <th>calls_count</th>\n",
       "      <th>calls_minutes</th>\n",
       "      <th>messages_count</th>\n",
       "      <th>internet_mb_count</th>\n",
       "      <th>internet_gb_round</th>\n",
       "      <th>tariff</th>\n",
       "      <th>reg_date</th>\n",
       "      <th>churn_date</th>\n",
       "      <th>city</th>\n",
       "      <th>revenue</th>\n",
       "    </tr>\n",
       "  </thead>\n",
       "  <tbody>\n",
       "    <tr>\n",
       "      <th>228</th>\n",
       "      <td>1128</td>\n",
       "      <td>NaN</td>\n",
       "      <td>NaN</td>\n",
       "      <td>0.0</td>\n",
       "      <td>0.0</td>\n",
       "      <td>0.0</td>\n",
       "      <td>0.0</td>\n",
       "      <td>NaN</td>\n",
       "      <td>ultra</td>\n",
       "      <td>2018-12-15</td>\n",
       "      <td>2018-12-23</td>\n",
       "      <td>Волжский</td>\n",
       "      <td>1950.0</td>\n",
       "    </tr>\n",
       "    <tr>\n",
       "      <th>2624</th>\n",
       "      <td>1371</td>\n",
       "      <td>NaN</td>\n",
       "      <td>NaN</td>\n",
       "      <td>0.0</td>\n",
       "      <td>0.0</td>\n",
       "      <td>0.0</td>\n",
       "      <td>0.0</td>\n",
       "      <td>NaN</td>\n",
       "      <td>smart</td>\n",
       "      <td>2018-12-25</td>\n",
       "      <td>2018-12-30</td>\n",
       "      <td>Омск</td>\n",
       "      <td>550.0</td>\n",
       "    </tr>\n",
       "  </tbody>\n",
       "</table>\n",
       "</div>"
      ],
      "text/plain": [
       "      user_id  months months_name  calls_count  calls_minutes  messages_count  \\\n",
       "228      1128     NaN         NaN          0.0            0.0             0.0   \n",
       "2624     1371     NaN         NaN          0.0            0.0             0.0   \n",
       "\n",
       "      internet_mb_count  internet_gb_round tariff   reg_date churn_date  \\\n",
       "228                 0.0                NaN  ultra 2018-12-15 2018-12-23   \n",
       "2624                0.0                NaN  smart 2018-12-25 2018-12-30   \n",
       "\n",
       "          city  revenue  \n",
       "228   Волжский   1950.0  \n",
       "2624      Омск    550.0  "
      ]
     },
     "metadata": {},
     "output_type": "display_data"
    }
   ],
   "source": [
    "display(new_table[new_table['months'].isna()])"
   ]
  },
  {
   "cell_type": "markdown",
   "metadata": {},
   "source": [
    "<div class=\"alert alert-info\">\n",
    "<font size=\"4\"><b>Комментарий студента</b></font>\n",
    "\n",
    "Теперь лишних данных по месяцам точно нет)\n",
    "    \n",
    "Осталось 2 абонента, которые не пользовались услугами "
   ]
  },
  {
   "attachments": {},
   "cell_type": "markdown",
   "metadata": {},
   "source": [
    "\n",
    "\n",
    "Для двух пользователей известна дата прекращения использования тарифа, но их месяцы совпадают, то есть разовую оплату на подключение он все-таки совершил.\n",
    "\n",
    "Следовательно, можно считать, что столбец **revenue** заполнен корректно и отражает помесячную оплату пользователей"
   ]
  },
  {
   "cell_type": "markdown",
   "metadata": {},
   "source": [
    "Необходимые данные собраны в полном объеме, можно приступать к анализу и исседованию"
   ]
  },
  {
   "cell_type": "markdown",
   "metadata": {},
   "source": [
    "## Проанализируйте данные"
   ]
  },
  {
   "cell_type": "code",
   "execution_count": 29,
   "metadata": {},
   "outputs": [
    {
     "data": {
      "text/html": [
       "<div>\n",
       "<style scoped>\n",
       "    .dataframe tbody tr th:only-of-type {\n",
       "        vertical-align: middle;\n",
       "    }\n",
       "\n",
       "    .dataframe tbody tr th {\n",
       "        vertical-align: top;\n",
       "    }\n",
       "\n",
       "    .dataframe thead th {\n",
       "        text-align: right;\n",
       "    }\n",
       "</style>\n",
       "<table border=\"1\" class=\"dataframe\">\n",
       "  <thead>\n",
       "    <tr style=\"text-align: right;\">\n",
       "      <th></th>\n",
       "      <th>0</th>\n",
       "      <th>1</th>\n",
       "    </tr>\n",
       "  </thead>\n",
       "  <tbody>\n",
       "    <tr>\n",
       "      <th>tariff</th>\n",
       "      <td>smart</td>\n",
       "      <td>ultra</td>\n",
       "    </tr>\n",
       "    <tr>\n",
       "      <th>mean_calls</th>\n",
       "      <td>417.748</td>\n",
       "      <td>526.089</td>\n",
       "    </tr>\n",
       "    <tr>\n",
       "      <th>mean_mb</th>\n",
       "      <td>16201.604</td>\n",
       "      <td>19449.557</td>\n",
       "    </tr>\n",
       "    <tr>\n",
       "      <th>mean_messages</th>\n",
       "      <td>33.369</td>\n",
       "      <td>49.313</td>\n",
       "    </tr>\n",
       "    <tr>\n",
       "      <th>var_calls</th>\n",
       "      <td>36281.394</td>\n",
       "      <td>101052.494</td>\n",
       "    </tr>\n",
       "    <tr>\n",
       "      <th>var_mb</th>\n",
       "      <td>34564913.525</td>\n",
       "      <td>102032544.734</td>\n",
       "    </tr>\n",
       "    <tr>\n",
       "      <th>var_messages</th>\n",
       "      <td>796.955</td>\n",
       "      <td>2285.417</td>\n",
       "    </tr>\n",
       "    <tr>\n",
       "      <th>std_calls</th>\n",
       "      <td>190.477</td>\n",
       "      <td>317.888</td>\n",
       "    </tr>\n",
       "    <tr>\n",
       "      <th>std_mb</th>\n",
       "      <td>5879.193</td>\n",
       "      <td>10101.116</td>\n",
       "    </tr>\n",
       "    <tr>\n",
       "      <th>std_messages</th>\n",
       "      <td>28.23</td>\n",
       "      <td>47.806</td>\n",
       "    </tr>\n",
       "  </tbody>\n",
       "</table>\n",
       "</div>"
      ],
      "text/plain": [
       "                          0              1\n",
       "tariff                smart          ultra\n",
       "mean_calls          417.748        526.089\n",
       "mean_mb           16201.604      19449.557\n",
       "mean_messages        33.369         49.313\n",
       "var_calls         36281.394     101052.494\n",
       "var_mb         34564913.525  102032544.734\n",
       "var_messages        796.955       2285.417\n",
       "std_calls           190.477        317.888\n",
       "std_mb             5879.193      10101.116\n",
       "std_messages          28.23         47.806"
      ]
     },
     "execution_count": 29,
     "metadata": {},
     "output_type": "execute_result"
    }
   ],
   "source": [
    "#для оценки поведения пользователей разных тарифов нужно среднюю, среднеквадратичное отклонение, дисперсию\n",
    "#и построить соответствующие гистограммы\n",
    "\n",
    "tariff_metric = \\\n",
    "new_table.pivot_table(index = 'tariff', \n",
    "                      values = ['calls_minutes', 'messages_count', 'internet_mb_count'], \n",
    "                      aggfunc = ['mean', 'var', 'std']).reset_index().round(3)\n",
    "tariff_metric.columns = ['tariff',\n",
    "                         'mean_calls', 'mean_mb', 'mean_messages', \n",
    "                         'var_calls', 'var_mb', 'var_messages',\n",
    "                         'std_calls', 'std_mb', 'std_messages']\n",
    "#узнаем результаты\n",
    "tariff_metric.T"
   ]
  },
  {
   "cell_type": "markdown",
   "metadata": {},
   "source": [
    "По результатам расчета средних величин можно заключить следующее:\n",
    "- среднему пользователю  тарифа **smart** не хватает лимита интернет-трафика тарифа, в связи с чем пользователь будет доплачивать за дополнительный гб \n",
    "\n",
    "- значения тарифа **ultra** имеют большие отклонения от нормальной величины, чем в противоположном тарифе. "
   ]
  },
  {
   "cell_type": "code",
   "execution_count": 31,
   "metadata": {},
   "outputs": [
    {
     "data": {
      "image/png": "[encoded data removed]",
      "text/plain": [
       "<Figure size 800x500 with 1 Axes>"
      ]
     },
     "metadata": {},
     "output_type": "display_data"
    }
   ],
   "source": [
    "#Построим гистограммы распределения\n",
    "\n",
    "#для звонков\n",
    "plt.figure(figsize=(8,5))\n",
    "plt.hist(new_table[(new_table['tariff']=='smart')&(new_table['calls_minutes']!=0)]['calls_minutes'], bins = 10, alpha =0.3, label = 'smart')\n",
    "plt.hist(new_table[(new_table['tariff']=='ultra')&(new_table['calls_minutes']!=0)]['calls_minutes'], bins = 10, alpha = 0.3,  color = 'red', label = 'ultra')\n",
    "plt.xlabel('Минуты')\n",
    "plt.ylabel('Количество абонентов')\n",
    "plt.legend()\n",
    "plt.title('Распределение количества минут в зависимости от тарифа')\n",
    "plt.show()"
   ]
  },
  {
   "cell_type": "markdown",
   "metadata": {},
   "source": [
    "Распределение количества минут у 2 тарифов похожи.\n",
    "\n",
    "Пик клиентов тарифа **ultra** находится правее, что говорит о том, что клиенты тарифа в среднем больше разговаривают по телефону, чем клиенты другого тарифа\n",
    "\n",
    "Также можно увеидеть, что клиенты тарифа **ultra** не превышают лимит по минутам, установленный тарифом"
   ]
  },
  {
   "cell_type": "code",
   "execution_count": 32,
   "metadata": {},
   "outputs": [
    {
     "data": {
      "image/png": "[encoded data removed]",
      "text/plain": [
       "<Figure size 800x500 with 1 Axes>"
      ]
     },
     "metadata": {},
     "output_type": "display_data"
    }
   ],
   "source": [
    "#для сообщений\n",
    "\n",
    "plt.figure(figsize=(8,5))\n",
    "plt.hist(new_table[(new_table['tariff']=='smart')&(new_table['messages_count']!=0)]['messages_count'], bins = 20, alpha =0.3, label = 'smart')\n",
    "plt.hist(new_table[(new_table['tariff']=='ultra')&(new_table['messages_count']!=0)]['messages_count'], bins = 20,alpha = 0.3,  color = 'red', label = 'ultra')\n",
    "plt.xlabel('Количество сообщений')\n",
    "plt.ylabel('Количество абонентов')\n",
    "plt.legend()\n",
    "plt.title('Распределение количества сообщений в зависимости от тарифа')\n",
    "plt.show()"
   ]
  },
  {
   "cell_type": "markdown",
   "metadata": {},
   "source": [
    "Распределение количества сообщений у 2 тарифов похожи\n",
    "\n",
    "Также можно увеидеть, что клиенты тарифа **ultra** не превышают лимит по количеству сообщений, установленный тарифом"
   ]
  },
  {
   "cell_type": "code",
   "execution_count": 33,
   "metadata": {},
   "outputs": [
    {
     "data": {
      "image/png": "[encoded data removed]",
      "text/plain": [
       "<Figure size 800x500 with 1 Axes>"
      ]
     },
     "metadata": {},
     "output_type": "display_data"
    }
   ],
   "source": [
    "#для интернет трафика\n",
    "\n",
    "plt.figure(figsize=(8,5))\n",
    "plt.hist(new_table[(new_table['tariff']=='smart')&(new_table['internet_mb_count']!=0)]['internet_mb_count'], bins = 10, alpha =0.3, label = 'smart')\n",
    "plt.hist(new_table[(new_table['tariff']=='ultra')&(new_table['internet_mb_count']!=0)]['internet_mb_count'], bins = 10, alpha = 0.3,  color = 'red', label = 'ultra')\n",
    "plt.xlabel('Количество мегабайт')\n",
    "plt.ylabel('Количество абонентов')\n",
    "plt.legend()\n",
    "plt.title('Распределение количества использованного интернет-трафика в зависимости от тарифа')\n",
    "plt.show()"
   ]
  },
  {
   "cell_type": "markdown",
   "metadata": {},
   "source": [
    "Распределение количества сообщений у 2 тарифов похожи, при этом для обоих тарифов справедливо, что большая доля клиентов чаще всего использует одно и то же количество интернет-трафика (15..20 гб)\n",
    "\n",
    "Клиенты обоих тарифов превышают лимиты по интернет-трафику, установленные тарифом"
   ]
  },
  {
   "cell_type": "markdown",
   "metadata": {},
   "source": [
    "## Проверьте гипотезы"
   ]
  },
  {
   "cell_type": "markdown",
   "metadata": {},
   "source": [
    "Для проверки нулевых гипотез будем выдвигать альтернативную с отличным от первончального условия. \n",
    "Нулевые гипотезы выдвигаются так, чтобы использовать равенство.\n",
    "Для сравнения применим t-тест для сравнения независимых выборок"
   ]
  },
  {
   "cell_type": "markdown",
   "metadata": {},
   "source": [
    "**Гипотеза**\n",
    "\n",
    "- H0 - Среднемесячные выручки тарифа **smart** и тарифа **ultra** одинаковы \n",
    "\n",
    "- H1 - Среднемесячные выручки тарифа **smart** и тарифа **ultra** различны"
   ]
  },
  {
   "cell_type": "code",
   "execution_count": 34,
   "metadata": {},
   "outputs": [
    {
     "name": "stdout",
     "output_type": "stream",
     "text": [
      "Среднемесячная выручка от клиентов smart 1289.6417040358745\n",
      "Среднемесячная выручка от клиентов ultra 2070.030425963489\n",
      "Дисперсия среднемесячной выручки от клиентов smart 669730.763894807\n",
      "Дисперсия среднемесячной выручки от клиентов ultra 141387.7148093615\n",
      "p-значение 1.927011394420941e-250\n",
      "Отвергаем нулевую гипотезу\n"
     ]
    }
   ],
   "source": [
    "#создаем соответствующие выборки\n",
    "smart_revenue = new_table[(new_table['tariff']=='smart')]['revenue'].astype(float)\n",
    "ultra_revenue = new_table[(new_table['tariff']=='ultra')]['revenue'].astype(float)\n",
    "print('Среднемесячная выручка от клиентов smart', smart_revenue.mean())\n",
    "print('Среднемесячная выручка от клиентов ultra', ultra_revenue.mean())\n",
    "\n",
    "print('Дисперсия среднемесячной выручки от клиентов smart', smart_revenue.var())\n",
    "print('Дисперсия среднемесячной выручки от клиентов ultra', ultra_revenue.var())\n",
    "\n",
    "#зададим критическое отклонение (далее оно будет использоваться для всех экспериментов)\n",
    "alpha = .05\n",
    "\n",
    "#результат t-теста для независимых выборок \n",
    "results = st.ttest_ind(smart_revenue, ultra_revenue, equal_var = False)\n",
    "\n",
    "#расчитаем значение параметра P и сравними полученное значение с принятым отклонением\n",
    "print('p-значение', results.pvalue)\n",
    "if results.pvalue < alpha:\n",
    "    print('Отвергаем нулевую гипотезу')\n",
    "else:\n",
    "    print('Не отвергаем нулевую гипотезу')\n"
   ]
  },
  {
   "attachments": {},
   "cell_type": "markdown",
   "metadata": {},
   "source": [
    "Альтернативная гипотеза, что среднемесячных выручек тарифов в случайных выборках различны имеет относительно большую вероятность, а нулевую гипотезу об их равенстве стоит отклонить"
   ]
  },
  {
   "cell_type": "code",
   "execution_count": 40,
   "metadata": {},
   "outputs": [
    {
     "data": {
      "image/png": "[encoded data removed]",
      "text/plain": [
       "<Figure size 640x480 with 1 Axes>"
      ]
     },
     "metadata": {},
     "output_type": "display_data"
    }
   ],
   "source": [
    "plt.hist(smart_revenue, bins = 50)\n",
    "plt.hist(ultra_revenue, bins = 25)\n",
    "plt.title('Распределение выручки в заивсимости от тарифа')\n",
    "plt.show()"
   ]
  },
  {
   "cell_type": "markdown",
   "metadata": {},
   "source": [
    "**Гипотеза**\n",
    "\n",
    "- H0 - средняя выручка пользователей из Москвы равна выручке пользователей из других регионов. \n",
    "\n",
    "- H1 - средняя выручка пользователей из Москвы отличается от выручки пользователей из других регионов."
   ]
  },
  {
   "cell_type": "code",
   "execution_count": 41,
   "metadata": {},
   "outputs": [
    {
     "name": "stdout",
     "output_type": "stream",
     "text": [
      "Среднемесячная выручка от клиентов в городе Москва 1546.7135842880523\n",
      "Среднемесячная выручка от клиентов в других городах 1524.7251439539348\n",
      "Дисперсия среднемесячной выручки от клиентов в городе Москва 565636.467011886\n",
      "Дисперсия среднемесячной выручки от клиентов в других городах 654069.574962777\n",
      "p-значение 0.5216952110000278\n",
      "Не отвергаем нулевую гипотезу\n"
     ]
    }
   ],
   "source": [
    "#создаем соответствующие выборки\n",
    "moscow_revenue = new_table[(new_table['city']=='Москва')]['revenue'].astype(float)\n",
    "other_city_revenue = new_table[(new_table['city']!='Москва')]['revenue'].astype(float)\n",
    "print('Среднемесячная выручка от клиентов в городе Москва', moscow_revenue.mean())\n",
    "print('Среднемесячная выручка от клиентов в других городах', other_city_revenue.mean())\n",
    "\n",
    "print('Дисперсия среднемесячной выручки от клиентов в городе Москва', moscow_revenue.var())\n",
    "print('Дисперсия среднемесячной выручки от клиентов в других городах', other_city_revenue.var())\n",
    "\n",
    "#зададим критическое отклонение (далее оно будет использоваться для всех экспериментов)\n",
    "alpha = .05\n",
    "\n",
    "#результат t-теста для независимых выборок \n",
    "results = st.ttest_ind(moscow_revenue, other_city_revenue, equal_var = False)\n",
    "\n",
    "#расчитаем значение параметра P и сравними полученное значение с принятым отклонением\n",
    "print('p-значение', results.pvalue)\n",
    "\n",
    "if results.pvalue < alpha:\n",
    "    print('Отвергаем нулевую гипотезу')\n",
    "else:\n",
    "    print('Не отвергаем нулевую гипотезу')\n"
   ]
  },
  {
   "cell_type": "markdown",
   "metadata": {},
   "source": [
    "Нулевая гипотеза о равенстве выручки в Москве и дргуих регионах не отклонена, следовательно с определенной погрешностью можно утверждать, что средняя выручка пользователей из Москвы не отличается от выручки пользователей из других регионов."
   ]
  },
  {
   "cell_type": "markdown",
   "metadata": {},
   "source": [
    "<div class=\"alert alert-info\">\n",
    "<font size=\"4\"><b>Комментарий студента</b></font>\n",
    "    \n",
    "Касательно твоего замечания можно сказать так:\n",
    "    \n",
    "0,36..вероятность получения правильного вывода при верной нулевой гипотезе"
   ]
  },
  {
   "cell_type": "markdown",
   "metadata": {},
   "source": [
    "## Напишите общий вывод"
   ]
  },
  {
   "cell_type": "markdown",
   "metadata": {},
   "source": [
    "В ходе исследования были получены следующие результаты:\n",
    "\n",
    "\n",
    "*По результатам расчета средних и статистических величин* \n",
    "- среднему пользователю  тарифа **smart** не хватает лимита интернет-трафика тарифа, в связи с чем пользователь будет доплачивать за дополнительный гб;\n",
    "- значения тарифа **ultra** имеют большие отклонения от нормальной величины, чем в противоположном тарифе. \n",
    "\n",
    "*По построению гистограммы распределения количества минут в зависимости от тарифа* \n",
    "- пик клиентов тарифа **ultra** находится правее, что говорит о том, что клиенты тарифа в среднем больше разговаривают по телефону, чем клиенты другого тарифа;\n",
    "- также можно отметить, что клиенты тарифа **ultra** не превышают лимит по минутам, установленный тарифом\n",
    "\n",
    "*По построению гистограммы распределения количества сообщений в зависимости от тарифа*\n",
    "- клиенты тарифа ultra не превышают лимит по количеству сообщений, установленный тарифом\n",
    "\n",
    "*По построению гистограммы распределения использованного интернет-трафика в зависимости от тарифа*\n",
    "- большая доля клиентов обоих тарифов чаще всего использует одно и то же количество интернет-трафика (15..20 гб);\n",
    "- клиенты обоих тарифов превышают лимиты по интернет-трафику, установленные тарифом\n",
    "\n",
    "Анализ гипотиз показал:\n",
    "\n",
    "- что средняя выручка пользователей тарифов «Ультра» и «Смарт» различаются, так как была опровергнута нулевая гипотеза об их равенстве\n",
    "- что средняя выручка пользователей из Москвы почти не отличается от выручки пользователей из других регионов, так как не была опровергнута нулевая гипотеза об их равенстве\n",
    "\n",
    "Резюмируя полученные рультаты:\n",
    "\n",
    "- общая картина поведения клиентов для двух тарифов в целом похожа: больше предпочитают звонки и интернет. кто-то больше, кто-то меньше, но с определенной погрешностью, их пики распределены в одном диапазоне\n",
    "- в большинстве случаев клиенту тарифа smart не хватает лимитов, установленных тарифом, в связи с чем он переплачивает за доп. объем услуг (в 640 случаях из 2231 клиент платит больше стоимости тарифы, в 349 из них - переплата или, равна или выше стоимости альтернативного тарифа **ultra**)\n",
    "- клиентам тарифа **ultra** в большинстве случаев достаточно лимитов внутри тарифа (в 122 из 991 случая клиенты платят выше стоимости тарифа). Однако, стоит отметить, что в 145 случаях из 991 клиенты используют услуги в количестве ниже лимита, установленного дешевым тарифом **smart**.\n",
    "- за год доля клиентов, которая отказалась от использования тарифа **ultra**  больше (15 из 149), чем аналогичный показатель у тарифа **smart** (23 из 351)\n",
    "\n",
    "Безусловно, оба тарифа имеют место быть: с одной стороны каждый новый клиент тарифа **ultra** будет приносить в среднем ~ в 2 раза больше месячной выручки , чем новый клиент тарифа **smart**. С другой стороны, тариф **smart** расчитан на массового пользователя, в связи с чем годовая выручка тарифа **smart** больше,чем выручка альтернативного тарифа. \n",
    "\n",
    "Не смотря на все плюсы условий тарифа **ultra**, ключевым фактором все же остается его стоимость: клиенты тарифа **smart**, пусть даже и с переплатой по стоимости тарифа, могут за меньшие затраты получить необходимые для себя условия. Кроме того, клиенты тарифа **ultra** со временем чаще отказываются от использования данного тарифа.\n",
    "\n",
    "Также, компания может произвести оптимизацию тарифов, что может сказаться на их стоимости. Например, из исследования видно, что клиенты в основном разговаривают по телефону или \"серфят\" в интернете, а сообщениями посредством смс пользуются гораздо реже. Поэтому лимиты по сообщениям, заложенные в тарифы, можно уменьшить. Для клиентов тарифа **ultra** остается большой запас минут, что также можно сократить. Такие мероприятия помогут снизить определенные затраты, заложенные на поддержание тариф и снизить их стоимость, что сделает их более привлекательными и конкурентными.\n"
   ]
  }
 ],
 "metadata": {
  "ExecuteTimeLog": [
   {
    "duration": 3,
    "start_time": "2022-02-14T20:40:12.573Z"
   },
   {
    "duration": 1247,
    "start_time": "2022-02-14T20:40:25.069Z"
   },
   {
    "duration": 2,
    "start_time": "2022-02-14T20:41:29.634Z"
   },
   {
    "duration": 69,
    "start_time": "2022-02-14T20:43:07.839Z"
   },
   {
    "duration": 1822,
    "start_time": "2022-02-14T20:44:45.243Z"
   },
   {
    "duration": 2189,
    "start_time": "2022-02-14T20:47:08.579Z"
   },
   {
    "duration": 1518,
    "start_time": "2022-02-14T20:48:03.621Z"
   },
   {
    "duration": 564,
    "start_time": "2022-02-14T20:50:33.166Z"
   },
   {
    "duration": 3,
    "start_time": "2022-02-14T20:50:56.756Z"
   },
   {
    "duration": 546,
    "start_time": "2022-02-14T20:50:58.956Z"
   },
   {
    "duration": 1784,
    "start_time": "2022-02-14T20:52:01.154Z"
   },
   {
    "duration": 1768,
    "start_time": "2022-02-14T20:52:27.234Z"
   },
   {
    "duration": 1878,
    "start_time": "2022-02-14T20:52:49.180Z"
   },
   {
    "duration": 2317,
    "start_time": "2022-02-14T20:53:26.158Z"
   },
   {
    "duration": 407,
    "start_time": "2022-02-14T20:55:05.472Z"
   },
   {
    "duration": 2407,
    "start_time": "2022-02-14T20:55:33.085Z"
   },
   {
    "duration": 423,
    "start_time": "2022-02-14T20:55:41.522Z"
   },
   {
    "duration": 435,
    "start_time": "2022-02-14T20:55:48.186Z"
   },
   {
    "duration": 423,
    "start_time": "2022-02-14T20:57:54.096Z"
   },
   {
    "duration": 468,
    "start_time": "2022-02-14T21:01:49.903Z"
   },
   {
    "duration": 472,
    "start_time": "2022-02-14T21:04:07.212Z"
   },
   {
    "duration": 414,
    "start_time": "2022-02-14T21:05:26.865Z"
   },
   {
    "duration": 3,
    "start_time": "2022-02-14T21:07:44.376Z"
   },
   {
    "duration": 460,
    "start_time": "2022-02-14T21:08:15.836Z"
   },
   {
    "duration": 338,
    "start_time": "2022-02-14T21:08:38.779Z"
   },
   {
    "duration": 378,
    "start_time": "2022-02-14T21:09:22.881Z"
   },
   {
    "duration": 215,
    "start_time": "2022-02-14T21:11:10.073Z"
   },
   {
    "duration": 56,
    "start_time": "2022-02-14T21:11:18.640Z"
   },
   {
    "duration": 77,
    "start_time": "2022-02-14T21:13:26.804Z"
   },
   {
    "duration": 77,
    "start_time": "2022-02-14T21:13:36.936Z"
   },
   {
    "duration": 56,
    "start_time": "2022-02-14T21:15:43.366Z"
   },
   {
    "duration": 249,
    "start_time": "2022-02-14T21:16:01.934Z"
   },
   {
    "duration": 127,
    "start_time": "2022-02-14T21:16:07.572Z"
   },
   {
    "duration": 227,
    "start_time": "2022-02-14T21:16:25.338Z"
   },
   {
    "duration": 225,
    "start_time": "2022-02-14T21:16:33.824Z"
   },
   {
    "duration": 55,
    "start_time": "2022-02-14T21:16:41.560Z"
   },
   {
    "duration": 70,
    "start_time": "2022-02-14T21:19:24.936Z"
   },
   {
    "duration": 219,
    "start_time": "2022-02-14T21:19:32.907Z"
   },
   {
    "duration": 755,
    "start_time": "2022-02-14T21:19:44.990Z"
   },
   {
    "duration": 56,
    "start_time": "2022-02-14T21:19:58.071Z"
   },
   {
    "duration": 3,
    "start_time": "2022-02-14T21:20:23.626Z"
   },
   {
    "duration": 55,
    "start_time": "2022-02-14T21:25:41.242Z"
   },
   {
    "duration": 69,
    "start_time": "2022-02-14T21:26:35.479Z"
   },
   {
    "duration": 241,
    "start_time": "2022-02-14T21:26:46.524Z"
   },
   {
    "duration": 56,
    "start_time": "2022-02-14T21:27:13.015Z"
   },
   {
    "duration": 242,
    "start_time": "2022-02-14T21:27:30.836Z"
   },
   {
    "duration": 54,
    "start_time": "2022-02-14T21:27:40.739Z"
   },
   {
    "duration": 69,
    "start_time": "2022-02-14T21:28:21.545Z"
   },
   {
    "duration": 74,
    "start_time": "2022-02-14T21:28:38.699Z"
   },
   {
    "duration": 56,
    "start_time": "2022-02-14T21:28:51.518Z"
   },
   {
    "duration": 55,
    "start_time": "2022-02-14T21:29:13.672Z"
   },
   {
    "duration": 55,
    "start_time": "2022-02-14T21:29:35.259Z"
   },
   {
    "duration": 71,
    "start_time": "2022-02-14T21:29:47.646Z"
   },
   {
    "duration": 69,
    "start_time": "2022-02-14T21:30:00.617Z"
   },
   {
    "duration": 80,
    "start_time": "2022-02-14T21:30:31.606Z"
   },
   {
    "duration": 68,
    "start_time": "2022-02-14T21:30:42.374Z"
   },
   {
    "duration": 55,
    "start_time": "2022-02-14T21:30:52.446Z"
   },
   {
    "duration": 79,
    "start_time": "2022-02-14T21:31:41.577Z"
   },
   {
    "duration": 54,
    "start_time": "2022-02-14T21:32:06.011Z"
   },
   {
    "duration": 77,
    "start_time": "2022-02-14T21:32:15.612Z"
   },
   {
    "duration": 66,
    "start_time": "2022-02-14T21:32:20.345Z"
   },
   {
    "duration": 101,
    "start_time": "2022-02-14T21:32:27.898Z"
   },
   {
    "duration": 77,
    "start_time": "2022-02-14T21:32:51.164Z"
   },
   {
    "duration": 56,
    "start_time": "2022-02-14T21:33:03.806Z"
   },
   {
    "duration": 562,
    "start_time": "2022-02-14T21:35:09.170Z"
   },
   {
    "duration": 1315,
    "start_time": "2022-02-14T21:35:25.526Z"
   },
   {
    "duration": 53,
    "start_time": "2022-02-14T21:35:58.492Z"
   },
   {
    "duration": 58,
    "start_time": "2022-02-14T21:37:01.697Z"
   },
   {
    "duration": 54,
    "start_time": "2022-02-14T21:37:15.676Z"
   },
   {
    "duration": 570,
    "start_time": "2022-02-14T21:39:17.286Z"
   },
   {
    "duration": 501,
    "start_time": "2022-02-14T21:39:37.840Z"
   },
   {
    "duration": 486,
    "start_time": "2022-02-14T21:40:20.242Z"
   },
   {
    "duration": 3,
    "start_time": "2022-02-15T18:14:05.848Z"
   },
   {
    "duration": 2,
    "start_time": "2022-02-15T18:15:00.196Z"
   },
   {
    "duration": 282,
    "start_time": "2022-02-15T18:15:11.912Z"
   },
   {
    "duration": 316,
    "start_time": "2022-02-15T18:15:18.534Z"
   },
   {
    "duration": 605,
    "start_time": "2022-02-15T18:15:22.588Z"
   },
   {
    "duration": 424,
    "start_time": "2022-02-15T18:15:23.195Z"
   },
   {
    "duration": 253,
    "start_time": "2022-02-15T18:15:23.621Z"
   },
   {
    "duration": 17,
    "start_time": "2022-02-15T18:15:39.089Z"
   },
   {
    "duration": 249,
    "start_time": "2022-02-15T18:17:08.739Z"
   },
   {
    "duration": 235,
    "start_time": "2022-02-15T18:17:15.395Z"
   },
   {
    "duration": 313,
    "start_time": "2022-02-15T18:17:21.232Z"
   },
   {
    "duration": 241,
    "start_time": "2022-02-15T18:17:26.813Z"
   },
   {
    "duration": 234,
    "start_time": "2022-02-15T18:17:32.580Z"
   },
   {
    "duration": 244,
    "start_time": "2022-02-15T18:17:38.416Z"
   },
   {
    "duration": 251,
    "start_time": "2022-02-15T18:17:46.918Z"
   },
   {
    "duration": 220,
    "start_time": "2022-02-15T18:17:57.659Z"
   },
   {
    "duration": 7,
    "start_time": "2022-02-15T18:18:02.006Z"
   },
   {
    "duration": 7,
    "start_time": "2022-02-15T18:18:09.741Z"
   },
   {
    "duration": 5,
    "start_time": "2022-02-15T18:19:07.119Z"
   },
   {
    "duration": 12,
    "start_time": "2022-02-15T18:19:28.124Z"
   },
   {
    "duration": 4,
    "start_time": "2022-02-15T18:20:49.194Z"
   },
   {
    "duration": 1641,
    "start_time": "2022-02-15T18:24:44.154Z"
   },
   {
    "duration": 18,
    "start_time": "2022-02-15T18:26:30.419Z"
   },
   {
    "duration": 14,
    "start_time": "2022-02-15T18:27:49.725Z"
   },
   {
    "duration": 17,
    "start_time": "2022-02-15T18:28:54.485Z"
   },
   {
    "duration": 20,
    "start_time": "2022-02-15T18:29:11.256Z"
   },
   {
    "duration": 229,
    "start_time": "2022-02-15T18:29:33.125Z"
   },
   {
    "duration": 20,
    "start_time": "2022-02-15T18:29:38.961Z"
   },
   {
    "duration": 30,
    "start_time": "2022-02-15T18:30:42.242Z"
   },
   {
    "duration": 24,
    "start_time": "2022-02-15T18:32:20.263Z"
   },
   {
    "duration": 26,
    "start_time": "2022-02-15T18:32:29.040Z"
   },
   {
    "duration": 19,
    "start_time": "2022-02-15T18:32:55.837Z"
   },
   {
    "duration": 19,
    "start_time": "2022-02-15T18:33:20.397Z"
   },
   {
    "duration": 21,
    "start_time": "2022-02-15T18:33:39.880Z"
   },
   {
    "duration": 16,
    "start_time": "2022-02-15T18:34:12.071Z"
   },
   {
    "duration": 98,
    "start_time": "2022-02-15T18:34:34.960Z"
   },
   {
    "duration": 3,
    "start_time": "2022-02-15T18:43:32.402Z"
   },
   {
    "duration": 3,
    "start_time": "2022-02-15T18:43:38.359Z"
   },
   {
    "duration": 342,
    "start_time": "2022-02-15T18:44:39.221Z"
   },
   {
    "duration": 420,
    "start_time": "2022-02-15T18:45:25.884Z"
   },
   {
    "duration": 104,
    "start_time": "2022-02-15T18:45:56.709Z"
   },
   {
    "duration": 92,
    "start_time": "2022-02-15T18:46:29.787Z"
   },
   {
    "duration": 3,
    "start_time": "2022-02-15T18:53:18.341Z"
   },
   {
    "duration": 390,
    "start_time": "2022-02-15T18:53:18.345Z"
   },
   {
    "duration": 17,
    "start_time": "2022-02-15T18:53:18.737Z"
   },
   {
    "duration": 117,
    "start_time": "2022-02-15T18:53:18.755Z"
   },
   {
    "duration": 4,
    "start_time": "2022-02-15T18:53:18.873Z"
   },
   {
    "duration": 989,
    "start_time": "2022-02-15T18:58:24.616Z"
   },
   {
    "duration": 1108,
    "start_time": "2022-02-15T18:58:41.845Z"
   },
   {
    "duration": -293,
    "start_time": "2022-02-15T18:58:43.248Z"
   },
   {
    "duration": 1125,
    "start_time": "2022-02-15T18:59:28.511Z"
   },
   {
    "duration": 98,
    "start_time": "2022-02-15T19:01:38.098Z"
   },
   {
    "duration": 68,
    "start_time": "2022-02-15T19:01:54.751Z"
   },
   {
    "duration": 998,
    "start_time": "2022-02-15T19:02:01.339Z"
   },
   {
    "duration": 1959,
    "start_time": "2022-02-15T19:09:04.847Z"
   },
   {
    "duration": 1110,
    "start_time": "2022-02-15T19:09:48.789Z"
   },
   {
    "duration": 226,
    "start_time": "2022-02-15T19:10:26.862Z"
   },
   {
    "duration": 5,
    "start_time": "2022-02-15T19:10:37.265Z"
   },
   {
    "duration": 232,
    "start_time": "2022-02-15T19:11:04.820Z"
   },
   {
    "duration": 7,
    "start_time": "2022-02-15T19:11:19.208Z"
   },
   {
    "duration": 5,
    "start_time": "2022-02-15T19:12:46.375Z"
   },
   {
    "duration": 962,
    "start_time": "2022-02-15T19:22:14.696Z"
   },
   {
    "duration": 1145,
    "start_time": "2022-02-15T19:22:39.976Z"
   },
   {
    "duration": 1121,
    "start_time": "2022-02-15T19:22:58.409Z"
   },
   {
    "duration": 1156,
    "start_time": "2022-02-15T19:27:13.453Z"
   },
   {
    "duration": 1152,
    "start_time": "2022-02-15T19:27:32.983Z"
   },
   {
    "duration": 85,
    "start_time": "2022-02-15T19:28:17.274Z"
   },
   {
    "duration": 118,
    "start_time": "2022-02-15T19:30:30.303Z"
   },
   {
    "duration": 87,
    "start_time": "2022-02-15T19:31:45.051Z"
   },
   {
    "duration": 1137,
    "start_time": "2022-02-15T19:31:54.553Z"
   },
   {
    "duration": 2,
    "start_time": "2022-02-15T19:34:29.320Z"
   },
   {
    "duration": 1027,
    "start_time": "2022-02-15T19:35:22.966Z"
   },
   {
    "duration": 1139,
    "start_time": "2022-02-15T19:35:33.385Z"
   },
   {
    "duration": 3794,
    "start_time": "2022-02-15T19:35:39.251Z"
   },
   {
    "duration": 1215,
    "start_time": "2022-02-15T19:36:01.707Z"
   },
   {
    "duration": 2,
    "start_time": "2022-02-15T19:37:31.292Z"
   },
   {
    "duration": 312,
    "start_time": "2022-02-15T19:37:46.882Z"
   },
   {
    "duration": 325,
    "start_time": "2022-02-15T19:37:58.147Z"
   },
   {
    "duration": 308,
    "start_time": "2022-02-15T19:40:19.862Z"
   },
   {
    "duration": 68,
    "start_time": "2022-02-15T19:43:18.722Z"
   },
   {
    "duration": 471,
    "start_time": "2022-02-15T19:43:23.984Z"
   },
   {
    "duration": 1137,
    "start_time": "2022-02-15T19:43:53.324Z"
   },
   {
    "duration": 1165,
    "start_time": "2022-02-15T19:44:13.329Z"
   },
   {
    "duration": 1175,
    "start_time": "2022-02-15T19:45:50.349Z"
   },
   {
    "duration": 102,
    "start_time": "2022-02-15T19:46:55.338Z"
   },
   {
    "duration": 101,
    "start_time": "2022-02-15T19:47:13.683Z"
   },
   {
    "duration": 2,
    "start_time": "2022-02-15T19:47:24.510Z"
   },
   {
    "duration": 405,
    "start_time": "2022-02-15T19:47:24.514Z"
   },
   {
    "duration": 23,
    "start_time": "2022-02-15T19:47:24.921Z"
   },
   {
    "duration": 115,
    "start_time": "2022-02-15T19:47:24.945Z"
   },
   {
    "duration": 6,
    "start_time": "2022-02-15T19:47:25.061Z"
   },
   {
    "duration": 7,
    "start_time": "2022-02-15T19:47:25.069Z"
   },
   {
    "duration": 6,
    "start_time": "2022-02-15T19:50:05.853Z"
   },
   {
    "duration": 4,
    "start_time": "2022-02-15T19:50:18.029Z"
   },
   {
    "duration": 4,
    "start_time": "2022-02-15T19:50:39.110Z"
   },
   {
    "duration": 7,
    "start_time": "2022-02-15T19:51:10.754Z"
   },
   {
    "duration": 7,
    "start_time": "2022-02-15T19:52:17.547Z"
   },
   {
    "duration": 14,
    "start_time": "2022-02-15T19:54:06.921Z"
   },
   {
    "duration": 17,
    "start_time": "2022-02-15T19:55:52.949Z"
   },
   {
    "duration": 38,
    "start_time": "2022-02-15T19:57:18.146Z"
   },
   {
    "duration": 5,
    "start_time": "2022-02-15T19:57:25.247Z"
   },
   {
    "duration": 36,
    "start_time": "2022-02-15T19:57:53.672Z"
   },
   {
    "duration": 6,
    "start_time": "2022-02-15T19:58:02.522Z"
   },
   {
    "duration": 5,
    "start_time": "2022-02-15T19:58:07.490Z"
   },
   {
    "duration": 2,
    "start_time": "2022-02-15T19:58:25.297Z"
   },
   {
    "duration": 407,
    "start_time": "2022-02-15T19:58:25.301Z"
   },
   {
    "duration": 17,
    "start_time": "2022-02-15T19:58:25.710Z"
   },
   {
    "duration": 112,
    "start_time": "2022-02-15T19:58:25.729Z"
   },
   {
    "duration": 35,
    "start_time": "2022-02-15T19:58:25.842Z"
   },
   {
    "duration": 5,
    "start_time": "2022-02-15T19:58:25.878Z"
   },
   {
    "duration": 79,
    "start_time": "2022-02-15T19:58:25.884Z"
   },
   {
    "duration": 79,
    "start_time": "2022-02-15T20:02:17.730Z"
   },
   {
    "duration": 78,
    "start_time": "2022-02-15T20:02:43.168Z"
   },
   {
    "duration": 97,
    "start_time": "2022-02-15T20:03:11.920Z"
   },
   {
    "duration": 83,
    "start_time": "2022-02-15T20:03:31.063Z"
   },
   {
    "duration": 86,
    "start_time": "2022-02-15T20:03:46.759Z"
   },
   {
    "duration": 2,
    "start_time": "2022-02-15T20:03:55.200Z"
   },
   {
    "duration": 381,
    "start_time": "2022-02-15T20:03:55.204Z"
   },
   {
    "duration": 17,
    "start_time": "2022-02-15T20:03:55.587Z"
   },
   {
    "duration": 109,
    "start_time": "2022-02-15T20:03:55.612Z"
   },
   {
    "duration": 4,
    "start_time": "2022-02-15T20:03:55.722Z"
   },
   {
    "duration": 73,
    "start_time": "2022-02-15T20:05:42.423Z"
   },
   {
    "duration": 55,
    "start_time": "2022-02-15T20:06:02.852Z"
   },
   {
    "duration": 56,
    "start_time": "2022-02-15T20:07:06.526Z"
   },
   {
    "duration": 85,
    "start_time": "2022-02-15T20:07:50.705Z"
   },
   {
    "duration": 230,
    "start_time": "2022-02-15T20:10:53.076Z"
   },
   {
    "duration": 84,
    "start_time": "2022-02-15T20:11:02.111Z"
   },
   {
    "duration": 78,
    "start_time": "2022-02-15T20:12:10.243Z"
   },
   {
    "duration": 117,
    "start_time": "2022-02-15T20:13:05.869Z"
   },
   {
    "duration": 90,
    "start_time": "2022-02-15T20:13:10.788Z"
   },
   {
    "duration": 77,
    "start_time": "2022-02-15T20:13:30.958Z"
   },
   {
    "duration": 5594,
    "start_time": "2022-02-15T20:13:48.052Z"
   },
   {
    "duration": -138,
    "start_time": "2022-02-15T20:14:44.205Z"
   },
   {
    "duration": -162,
    "start_time": "2022-02-15T20:14:44.230Z"
   },
   {
    "duration": -164,
    "start_time": "2022-02-15T20:14:44.233Z"
   },
   {
    "duration": -167,
    "start_time": "2022-02-15T20:14:44.237Z"
   },
   {
    "duration": -170,
    "start_time": "2022-02-15T20:14:44.241Z"
   },
   {
    "duration": -179,
    "start_time": "2022-02-15T20:14:44.251Z"
   },
   {
    "duration": 3,
    "start_time": "2022-02-15T20:14:56.293Z"
   },
   {
    "duration": 386,
    "start_time": "2022-02-15T20:14:56.298Z"
   },
   {
    "duration": 17,
    "start_time": "2022-02-15T20:14:56.686Z"
   },
   {
    "duration": 122,
    "start_time": "2022-02-15T20:14:56.712Z"
   },
   {
    "duration": 77,
    "start_time": "2022-02-15T20:14:56.836Z"
   },
   {
    "duration": 50,
    "start_time": "2022-02-15T20:14:56.915Z"
   },
   {
    "duration": 5468,
    "start_time": "2022-02-15T20:19:37.054Z"
   },
   {
    "duration": 5844,
    "start_time": "2022-02-15T20:19:53.643Z"
   },
   {
    "duration": 3,
    "start_time": "2022-02-15T20:20:11.917Z"
   },
   {
    "duration": 386,
    "start_time": "2022-02-15T20:20:11.922Z"
   },
   {
    "duration": 19,
    "start_time": "2022-02-15T20:20:12.310Z"
   },
   {
    "duration": 125,
    "start_time": "2022-02-15T20:20:12.331Z"
   },
   {
    "duration": 66,
    "start_time": "2022-02-15T20:20:12.458Z"
   },
   {
    "duration": 61,
    "start_time": "2022-02-15T20:20:12.526Z"
   },
   {
    "duration": 43,
    "start_time": "2022-02-15T20:21:30.313Z"
   },
   {
    "duration": 9,
    "start_time": "2022-02-15T20:22:08.976Z"
   },
   {
    "duration": 10,
    "start_time": "2022-02-15T20:22:21.191Z"
   },
   {
    "duration": 4,
    "start_time": "2022-02-15T20:28:23.201Z"
   },
   {
    "duration": 5567,
    "start_time": "2022-02-15T20:31:52.916Z"
   },
   {
    "duration": 246,
    "start_time": "2022-02-15T20:33:28.220Z"
   },
   {
    "duration": 249,
    "start_time": "2022-02-15T20:33:45.841Z"
   },
   {
    "duration": 243,
    "start_time": "2022-02-15T20:33:51.923Z"
   },
   {
    "duration": 260,
    "start_time": "2022-02-15T20:34:01.044Z"
   },
   {
    "duration": 5,
    "start_time": "2022-02-15T20:34:35.184Z"
   },
   {
    "duration": 5,
    "start_time": "2022-02-15T20:34:47.304Z"
   },
   {
    "duration": 5,
    "start_time": "2022-02-15T20:37:37.756Z"
   },
   {
    "duration": 15,
    "start_time": "2022-02-15T20:37:47.441Z"
   },
   {
    "duration": 73,
    "start_time": "2022-02-15T20:37:55.037Z"
   },
   {
    "duration": 292,
    "start_time": "2022-02-15T20:38:48.124Z"
   },
   {
    "duration": 319,
    "start_time": "2022-02-15T20:40:15.858Z"
   },
   {
    "duration": 71,
    "start_time": "2022-02-15T20:41:07.381Z"
   },
   {
    "duration": 290,
    "start_time": "2022-02-15T20:42:10.510Z"
   },
   {
    "duration": 85,
    "start_time": "2022-02-15T20:42:21.069Z"
   },
   {
    "duration": 82,
    "start_time": "2022-02-15T20:43:57.010Z"
   },
   {
    "duration": 346,
    "start_time": "2022-02-15T20:44:05.992Z"
   },
   {
    "duration": 82,
    "start_time": "2022-02-15T20:44:18.345Z"
   },
   {
    "duration": 109,
    "start_time": "2022-02-15T20:44:23.949Z"
   },
   {
    "duration": 97,
    "start_time": "2022-02-15T20:45:52.076Z"
   },
   {
    "duration": 334,
    "start_time": "2022-02-15T20:50:56.114Z"
   },
   {
    "duration": 65,
    "start_time": "2022-02-15T20:54:35.496Z"
   },
   {
    "duration": 311,
    "start_time": "2022-02-15T20:54:48.864Z"
   },
   {
    "duration": 36,
    "start_time": "2022-02-15T20:55:29.457Z"
   },
   {
    "duration": 37,
    "start_time": "2022-02-15T20:55:42.426Z"
   },
   {
    "duration": 101,
    "start_time": "2022-02-15T20:55:54.895Z"
   },
   {
    "duration": 35,
    "start_time": "2022-02-15T20:56:01.628Z"
   },
   {
    "duration": 41,
    "start_time": "2022-02-15T20:56:14.565Z"
   },
   {
    "duration": 232,
    "start_time": "2022-02-15T20:56:38.322Z"
   },
   {
    "duration": 114,
    "start_time": "2022-02-15T20:56:52.274Z"
   },
   {
    "duration": 86,
    "start_time": "2022-02-15T20:56:59.825Z"
   },
   {
    "duration": 211,
    "start_time": "2022-02-15T20:57:05.365Z"
   },
   {
    "duration": 74,
    "start_time": "2022-02-15T20:58:54.133Z"
   },
   {
    "duration": 78,
    "start_time": "2022-02-15T20:59:00.669Z"
   },
   {
    "duration": 224,
    "start_time": "2022-02-15T20:59:04.455Z"
   },
   {
    "duration": 80,
    "start_time": "2022-02-15T20:59:24.924Z"
   },
   {
    "duration": 608,
    "start_time": "2022-02-15T20:59:34.156Z"
   },
   {
    "duration": 211,
    "start_time": "2022-02-15T20:59:49.678Z"
   },
   {
    "duration": 77,
    "start_time": "2022-02-15T21:00:27.403Z"
   },
   {
    "duration": 3894,
    "start_time": "2022-02-15T21:00:57.385Z"
   },
   {
    "duration": 42,
    "start_time": "2022-02-15T21:01:18.843Z"
   },
   {
    "duration": 244,
    "start_time": "2022-02-15T21:05:53.174Z"
   },
   {
    "duration": 259,
    "start_time": "2022-02-15T21:06:20.996Z"
   },
   {
    "duration": 105,
    "start_time": "2022-02-15T21:06:26.765Z"
   },
   {
    "duration": 38,
    "start_time": "2022-02-15T21:06:31.966Z"
   },
   {
    "duration": 72,
    "start_time": "2022-02-15T21:06:40.549Z"
   },
   {
    "duration": 37,
    "start_time": "2022-02-15T21:06:45.005Z"
   },
   {
    "duration": 36,
    "start_time": "2022-02-15T21:06:55.485Z"
   },
   {
    "duration": 40,
    "start_time": "2022-02-15T21:07:02.488Z"
   },
   {
    "duration": 75,
    "start_time": "2022-02-15T21:07:07.055Z"
   },
   {
    "duration": 35,
    "start_time": "2022-02-15T21:07:12.840Z"
   },
   {
    "duration": 34,
    "start_time": "2022-02-15T21:07:28.728Z"
   },
   {
    "duration": 36,
    "start_time": "2022-02-15T21:07:45.175Z"
   },
   {
    "duration": 268,
    "start_time": "2022-02-15T21:07:52.960Z"
   },
   {
    "duration": 43,
    "start_time": "2022-02-15T21:08:04.369Z"
   },
   {
    "duration": 62,
    "start_time": "2022-02-15T21:17:22.655Z"
   },
   {
    "duration": 223,
    "start_time": "2022-02-15T21:17:41.360Z"
   },
   {
    "duration": 63,
    "start_time": "2022-02-15T21:17:48.094Z"
   },
   {
    "duration": 62,
    "start_time": "2022-02-15T21:23:50.623Z"
   },
   {
    "duration": 2,
    "start_time": "2022-02-15T21:24:02.425Z"
   },
   {
    "duration": 3,
    "start_time": "2022-02-15T21:24:22.469Z"
   },
   {
    "duration": 230,
    "start_time": "2022-02-15T21:24:42.517Z"
   },
   {
    "duration": 3,
    "start_time": "2022-02-15T21:24:47.569Z"
   },
   {
    "duration": 371,
    "start_time": "2022-02-15T21:24:47.573Z"
   },
   {
    "duration": 18,
    "start_time": "2022-02-15T21:24:47.946Z"
   },
   {
    "duration": 114,
    "start_time": "2022-02-15T21:24:47.966Z"
   },
   {
    "duration": 68,
    "start_time": "2022-02-15T21:24:48.082Z"
   },
   {
    "duration": 71,
    "start_time": "2022-02-15T21:24:48.152Z"
   },
   {
    "duration": 10,
    "start_time": "2022-02-15T21:24:48.225Z"
   },
   {
    "duration": 211,
    "start_time": "2022-02-15T21:24:48.237Z"
   },
   {
    "duration": 7,
    "start_time": "2022-02-15T21:24:48.443Z"
   },
   {
    "duration": 6,
    "start_time": "2022-02-15T21:24:48.446Z"
   },
   {
    "duration": 58,
    "start_time": "2022-02-15T21:25:11.363Z"
   },
   {
    "duration": 4,
    "start_time": "2022-02-15T21:25:15.207Z"
   },
   {
    "duration": 64,
    "start_time": "2022-02-15T21:26:33.059Z"
   },
   {
    "duration": 17,
    "start_time": "2022-02-15T21:26:41.344Z"
   },
   {
    "duration": 74,
    "start_time": "2022-02-15T21:27:12.103Z"
   },
   {
    "duration": 254,
    "start_time": "2022-02-15T21:27:19.741Z"
   },
   {
    "duration": 3,
    "start_time": "2022-02-15T21:28:05.228Z"
   },
   {
    "duration": 412,
    "start_time": "2022-02-15T21:28:05.233Z"
   },
   {
    "duration": 18,
    "start_time": "2022-02-15T21:28:05.647Z"
   },
   {
    "duration": 132,
    "start_time": "2022-02-15T21:28:05.667Z"
   },
   {
    "duration": 67,
    "start_time": "2022-02-15T21:28:05.800Z"
   },
   {
    "duration": 83,
    "start_time": "2022-02-15T21:28:05.869Z"
   },
   {
    "duration": 10,
    "start_time": "2022-02-15T21:28:05.954Z"
   },
   {
    "duration": 673,
    "start_time": "2022-02-15T21:28:05.966Z"
   },
   {
    "duration": 14,
    "start_time": "2022-02-15T21:28:06.627Z"
   },
   {
    "duration": 12,
    "start_time": "2022-02-15T21:28:06.630Z"
   },
   {
    "duration": 77,
    "start_time": "2022-02-15T21:33:24.598Z"
   },
   {
    "duration": 71,
    "start_time": "2022-02-15T21:33:29.231Z"
   },
   {
    "duration": 106,
    "start_time": "2022-02-15T21:33:44.152Z"
   },
   {
    "duration": 77,
    "start_time": "2022-02-15T21:33:58.655Z"
   },
   {
    "duration": 259,
    "start_time": "2022-02-15T21:34:10.140Z"
   },
   {
    "duration": 224,
    "start_time": "2022-02-15T21:34:48.732Z"
   },
   {
    "duration": 237,
    "start_time": "2022-02-15T21:35:32.333Z"
   },
   {
    "duration": 224,
    "start_time": "2022-02-15T21:35:54.080Z"
   },
   {
    "duration": 268,
    "start_time": "2022-02-15T21:36:12.916Z"
   },
   {
    "duration": 2,
    "start_time": "2022-02-15T21:36:26.300Z"
   },
   {
    "duration": 431,
    "start_time": "2022-02-15T21:36:26.304Z"
   },
   {
    "duration": 18,
    "start_time": "2022-02-15T21:36:26.736Z"
   },
   {
    "duration": 122,
    "start_time": "2022-02-15T21:36:26.756Z"
   },
   {
    "duration": 65,
    "start_time": "2022-02-15T21:36:26.880Z"
   },
   {
    "duration": 78,
    "start_time": "2022-02-15T21:36:26.947Z"
   },
   {
    "duration": 9,
    "start_time": "2022-02-15T21:36:27.027Z"
   },
   {
    "duration": 227,
    "start_time": "2022-02-15T21:36:27.038Z"
   },
   {
    "duration": 39,
    "start_time": "2022-02-15T21:36:27.228Z"
   },
   {
    "duration": 38,
    "start_time": "2022-02-15T21:36:27.230Z"
   },
   {
    "duration": 113,
    "start_time": "2022-02-15T21:36:41.106Z"
   },
   {
    "duration": 328,
    "start_time": "2022-02-15T21:37:26.450Z"
   },
   {
    "duration": 101,
    "start_time": "2022-02-15T21:37:39.521Z"
   },
   {
    "duration": 325,
    "start_time": "2022-02-15T21:37:56.822Z"
   },
   {
    "duration": 344,
    "start_time": "2022-02-15T21:38:15.428Z"
   },
   {
    "duration": 102,
    "start_time": "2022-02-15T21:38:20.669Z"
   },
   {
    "duration": 2,
    "start_time": "2022-02-15T21:39:11.012Z"
   },
   {
    "duration": 3,
    "start_time": "2022-02-15T21:39:20.169Z"
   },
   {
    "duration": 387,
    "start_time": "2022-02-15T21:39:20.173Z"
   },
   {
    "duration": 17,
    "start_time": "2022-02-15T21:39:20.562Z"
   },
   {
    "duration": 118,
    "start_time": "2022-02-15T21:39:20.581Z"
   },
   {
    "duration": 55,
    "start_time": "2022-02-15T21:39:20.712Z"
   },
   {
    "duration": 83,
    "start_time": "2022-02-15T21:39:20.769Z"
   },
   {
    "duration": 9,
    "start_time": "2022-02-15T21:39:20.854Z"
   },
   {
    "duration": 2,
    "start_time": "2022-02-15T21:39:20.865Z"
   },
   {
    "duration": 16,
    "start_time": "2022-02-15T21:39:20.869Z"
   },
   {
    "duration": 288,
    "start_time": "2022-02-15T21:39:20.887Z"
   },
   {
    "duration": 63,
    "start_time": "2022-02-15T21:40:13.087Z"
   },
   {
    "duration": 15,
    "start_time": "2022-02-15T21:40:42.510Z"
   },
   {
    "duration": 20,
    "start_time": "2022-02-15T21:40:56.681Z"
   },
   {
    "duration": 49,
    "start_time": "2022-02-15T21:41:12.334Z"
   },
   {
    "duration": 20,
    "start_time": "2022-02-15T21:41:20.554Z"
   },
   {
    "duration": 56,
    "start_time": "2022-02-15T21:42:56.117Z"
   },
   {
    "duration": 112,
    "start_time": "2022-02-15T21:43:10.543Z"
   },
   {
    "duration": 105,
    "start_time": "2022-02-15T21:44:19.892Z"
   },
   {
    "duration": 3,
    "start_time": "2022-02-15T21:44:27.024Z"
   },
   {
    "duration": 383,
    "start_time": "2022-02-15T21:44:27.029Z"
   },
   {
    "duration": 17,
    "start_time": "2022-02-15T21:44:27.414Z"
   },
   {
    "duration": 117,
    "start_time": "2022-02-15T21:44:27.432Z"
   },
   {
    "duration": 66,
    "start_time": "2022-02-15T21:44:27.551Z"
   },
   {
    "duration": 66,
    "start_time": "2022-02-15T21:44:27.619Z"
   },
   {
    "duration": 30,
    "start_time": "2022-02-15T21:44:27.687Z"
   },
   {
    "duration": 117,
    "start_time": "2022-02-15T21:44:27.719Z"
   },
   {
    "duration": 76,
    "start_time": "2022-02-15T21:44:27.838Z"
   },
   {
    "duration": 97,
    "start_time": "2022-02-15T21:45:13.251Z"
   },
   {
    "duration": 71,
    "start_time": "2022-02-15T21:48:57.602Z"
   },
   {
    "duration": 249,
    "start_time": "2022-02-15T21:49:04.751Z"
   },
   {
    "duration": 287,
    "start_time": "2022-02-15T21:49:22.641Z"
   },
   {
    "duration": 43,
    "start_time": "2022-02-15T21:49:35.525Z"
   },
   {
    "duration": 40,
    "start_time": "2022-02-15T21:55:23.435Z"
   },
   {
    "duration": 38,
    "start_time": "2022-02-15T21:55:40.186Z"
   },
   {
    "duration": 37,
    "start_time": "2022-02-15T21:55:52.956Z"
   },
   {
    "duration": 42,
    "start_time": "2022-02-15T21:56:15.746Z"
   },
   {
    "duration": 46,
    "start_time": "2022-02-15T21:56:39.069Z"
   },
   {
    "duration": 2920,
    "start_time": "2022-02-15T21:57:37.819Z"
   },
   {
    "duration": 3,
    "start_time": "2022-02-15T21:57:45.465Z"
   },
   {
    "duration": 376,
    "start_time": "2022-02-15T21:57:45.469Z"
   },
   {
    "duration": 17,
    "start_time": "2022-02-15T21:57:45.847Z"
   },
   {
    "duration": 118,
    "start_time": "2022-02-15T21:57:45.866Z"
   },
   {
    "duration": 86,
    "start_time": "2022-02-15T21:57:45.985Z"
   },
   {
    "duration": 76,
    "start_time": "2022-02-15T21:57:46.073Z"
   },
   {
    "duration": 9,
    "start_time": "2022-02-15T21:57:46.151Z"
   },
   {
    "duration": 2859,
    "start_time": "2022-02-15T21:57:46.162Z"
   },
   {
    "duration": 76,
    "start_time": "2022-02-15T21:57:48.946Z"
   },
   {
    "duration": 58,
    "start_time": "2022-02-15T21:58:13.838Z"
   },
   {
    "duration": 3,
    "start_time": "2022-02-15T21:58:22.749Z"
   },
   {
    "duration": 382,
    "start_time": "2022-02-15T21:58:22.754Z"
   },
   {
    "duration": 18,
    "start_time": "2022-02-15T21:58:23.138Z"
   },
   {
    "duration": 120,
    "start_time": "2022-02-15T21:58:23.157Z"
   },
   {
    "duration": 66,
    "start_time": "2022-02-15T21:58:23.279Z"
   },
   {
    "duration": 78,
    "start_time": "2022-02-15T21:58:23.347Z"
   },
   {
    "duration": 8,
    "start_time": "2022-02-15T21:58:23.427Z"
   },
   {
    "duration": 75,
    "start_time": "2022-02-15T21:58:23.437Z"
   },
   {
    "duration": 253,
    "start_time": "2022-02-15T21:58:23.514Z"
   },
   {
    "duration": 59,
    "start_time": "2022-02-15T21:58:51.230Z"
   },
   {
    "duration": 2,
    "start_time": "2022-02-15T21:59:09.468Z"
   },
   {
    "duration": 6,
    "start_time": "2022-02-15T21:59:22.663Z"
   },
   {
    "duration": 3,
    "start_time": "2022-02-15T21:59:26.890Z"
   },
   {
    "duration": 383,
    "start_time": "2022-02-15T21:59:26.895Z"
   },
   {
    "duration": 17,
    "start_time": "2022-02-15T21:59:27.280Z"
   },
   {
    "duration": 114,
    "start_time": "2022-02-15T21:59:27.298Z"
   },
   {
    "duration": 56,
    "start_time": "2022-02-15T21:59:27.414Z"
   },
   {
    "duration": 85,
    "start_time": "2022-02-15T21:59:27.472Z"
   },
   {
    "duration": 9,
    "start_time": "2022-02-15T21:59:27.559Z"
   },
   {
    "duration": 5,
    "start_time": "2022-02-15T21:59:27.569Z"
   },
   {
    "duration": 235,
    "start_time": "2022-02-15T21:59:27.576Z"
   },
   {
    "duration": 5,
    "start_time": "2022-02-15T21:59:40.491Z"
   },
   {
    "duration": 5,
    "start_time": "2022-02-15T21:59:57.283Z"
   },
   {
    "duration": 239,
    "start_time": "2022-02-15T22:00:22.266Z"
   },
   {
    "duration": 63,
    "start_time": "2022-02-15T22:01:04.342Z"
   },
   {
    "duration": 57,
    "start_time": "2022-02-15T22:01:09.844Z"
   },
   {
    "duration": 98,
    "start_time": "2022-02-15T22:03:32.277Z"
   },
   {
    "duration": 100,
    "start_time": "2022-02-15T22:04:30.353Z"
   },
   {
    "duration": 283,
    "start_time": "2022-02-15T22:06:02.345Z"
   },
   {
    "duration": 111,
    "start_time": "2022-02-15T22:06:21.694Z"
   },
   {
    "duration": 107,
    "start_time": "2022-02-15T22:08:46.992Z"
   },
   {
    "duration": 2,
    "start_time": "2022-02-15T22:08:58.231Z"
   },
   {
    "duration": 371,
    "start_time": "2022-02-15T22:08:58.237Z"
   },
   {
    "duration": 18,
    "start_time": "2022-02-15T22:08:58.610Z"
   },
   {
    "duration": 110,
    "start_time": "2022-02-15T22:08:58.629Z"
   },
   {
    "duration": 53,
    "start_time": "2022-02-15T22:08:58.741Z"
   },
   {
    "duration": 75,
    "start_time": "2022-02-15T22:08:58.795Z"
   },
   {
    "duration": 9,
    "start_time": "2022-02-15T22:08:58.872Z"
   },
   {
    "duration": 167,
    "start_time": "2022-02-15T22:08:58.883Z"
   },
   {
    "duration": 109,
    "start_time": "2022-02-15T22:10:06.177Z"
   },
   {
    "duration": 110,
    "start_time": "2022-02-15T22:10:14.994Z"
   },
   {
    "duration": 103,
    "start_time": "2022-02-15T22:10:43.067Z"
   },
   {
    "duration": 128,
    "start_time": "2022-02-15T22:10:52.669Z"
   },
   {
    "duration": 2,
    "start_time": "2022-02-15T22:11:08.126Z"
   },
   {
    "duration": 387,
    "start_time": "2022-02-15T22:11:08.130Z"
   },
   {
    "duration": 18,
    "start_time": "2022-02-15T22:11:08.519Z"
   },
   {
    "duration": 135,
    "start_time": "2022-02-15T22:11:08.539Z"
   },
   {
    "duration": 73,
    "start_time": "2022-02-15T22:11:08.676Z"
   },
   {
    "duration": 73,
    "start_time": "2022-02-15T22:11:08.750Z"
   },
   {
    "duration": 9,
    "start_time": "2022-02-15T22:11:08.825Z"
   },
   {
    "duration": 135,
    "start_time": "2022-02-15T22:11:08.835Z"
   },
   {
    "duration": 110,
    "start_time": "2022-02-15T22:14:11.013Z"
   },
   {
    "duration": 120,
    "start_time": "2022-02-15T22:14:19.899Z"
   },
   {
    "duration": 110,
    "start_time": "2022-02-15T22:14:33.852Z"
   },
   {
    "duration": 117,
    "start_time": "2022-02-15T22:14:51.610Z"
   },
   {
    "duration": 118,
    "start_time": "2022-02-15T22:15:06.741Z"
   },
   {
    "duration": 2,
    "start_time": "2022-02-15T22:15:26.462Z"
   },
   {
    "duration": 361,
    "start_time": "2022-02-15T22:15:26.466Z"
   },
   {
    "duration": 17,
    "start_time": "2022-02-15T22:15:26.829Z"
   },
   {
    "duration": 119,
    "start_time": "2022-02-15T22:15:26.848Z"
   },
   {
    "duration": 66,
    "start_time": "2022-02-15T22:15:26.969Z"
   },
   {
    "duration": 76,
    "start_time": "2022-02-15T22:15:27.037Z"
   },
   {
    "duration": 10,
    "start_time": "2022-02-15T22:15:27.115Z"
   },
   {
    "duration": 137,
    "start_time": "2022-02-15T22:15:27.127Z"
   },
   {
    "duration": 354,
    "start_time": "2022-02-15T22:17:05.401Z"
   },
   {
    "duration": 84,
    "start_time": "2022-02-15T22:17:16.437Z"
   },
   {
    "duration": 327,
    "start_time": "2022-02-15T22:17:23.988Z"
   },
   {
    "duration": 324,
    "start_time": "2022-02-15T22:18:33.988Z"
   },
   {
    "duration": 109,
    "start_time": "2022-02-15T22:18:56.277Z"
   },
   {
    "duration": 114,
    "start_time": "2022-02-15T22:19:12.779Z"
   },
   {
    "duration": 109,
    "start_time": "2022-02-15T22:22:04.049Z"
   },
   {
    "duration": 4,
    "start_time": "2022-02-15T22:22:21.133Z"
   },
   {
    "duration": 76,
    "start_time": "2022-02-15T22:23:07.713Z"
   },
   {
    "duration": 109,
    "start_time": "2022-02-15T22:23:19.447Z"
   },
   {
    "duration": 333,
    "start_time": "2022-02-15T22:23:40.388Z"
   },
   {
    "duration": 109,
    "start_time": "2022-02-15T22:23:50.939Z"
   },
   {
    "duration": 44,
    "start_time": "2022-02-15T22:29:43.446Z"
   },
   {
    "duration": 46,
    "start_time": "2022-02-15T22:31:18.917Z"
   },
   {
    "duration": 49,
    "start_time": "2022-02-15T22:31:39.065Z"
   },
   {
    "duration": 110,
    "start_time": "2022-02-15T22:31:55.377Z"
   },
   {
    "duration": 2,
    "start_time": "2022-02-15T22:33:17.410Z"
   },
   {
    "duration": 368,
    "start_time": "2022-02-15T22:33:17.416Z"
   },
   {
    "duration": 16,
    "start_time": "2022-02-15T22:33:17.786Z"
   },
   {
    "duration": 109,
    "start_time": "2022-02-15T22:33:17.804Z"
   },
   {
    "duration": 56,
    "start_time": "2022-02-15T22:33:17.915Z"
   },
   {
    "duration": 86,
    "start_time": "2022-02-15T22:33:17.972Z"
   },
   {
    "duration": 11,
    "start_time": "2022-02-15T22:33:18.060Z"
   },
   {
    "duration": 126,
    "start_time": "2022-02-15T22:33:18.073Z"
   },
   {
    "duration": 50,
    "start_time": "2022-02-15T22:33:18.200Z"
   },
   {
    "duration": 4,
    "start_time": "2022-02-15T22:33:18.252Z"
   },
   {
    "duration": 256,
    "start_time": "2022-02-15T22:36:01.999Z"
   },
   {
    "duration": 259,
    "start_time": "2022-02-15T22:36:16.981Z"
   },
   {
    "duration": 37,
    "start_time": "2022-02-15T22:36:48.055Z"
   },
   {
    "duration": 45,
    "start_time": "2022-02-15T22:37:02.361Z"
   },
   {
    "duration": 333,
    "start_time": "2022-02-15T22:37:32.016Z"
   },
   {
    "duration": 990,
    "start_time": "2022-02-15T22:37:42.217Z"
   },
   {
    "duration": 1006,
    "start_time": "2022-02-15T22:38:23.345Z"
   },
   {
    "duration": 71,
    "start_time": "2022-02-15T22:38:52.942Z"
   },
   {
    "duration": 103,
    "start_time": "2022-02-15T22:40:00.497Z"
   },
   {
    "duration": 104,
    "start_time": "2022-02-15T22:40:48.008Z"
   },
   {
    "duration": 104,
    "start_time": "2022-02-15T22:41:15.348Z"
   },
   {
    "duration": 326,
    "start_time": "2022-02-15T22:42:11.393Z"
   },
   {
    "duration": 112,
    "start_time": "2022-02-15T22:42:28.330Z"
   },
   {
    "duration": 8,
    "start_time": "2022-02-15T22:43:50.731Z"
   },
   {
    "duration": 103,
    "start_time": "2022-02-15T22:43:58.982Z"
   },
   {
    "duration": 30,
    "start_time": "2022-02-15T22:47:38.045Z"
   },
   {
    "duration": 270,
    "start_time": "2022-02-15T22:49:15.119Z"
   },
   {
    "duration": 64,
    "start_time": "2022-02-15T22:49:22.606Z"
   },
   {
    "duration": 54,
    "start_time": "2022-02-15T22:49:48.947Z"
   },
   {
    "duration": 56,
    "start_time": "2022-02-15T22:50:07.465Z"
   },
   {
    "duration": 341,
    "start_time": "2022-02-15T22:51:23.815Z"
   },
   {
    "duration": 102,
    "start_time": "2022-02-15T22:51:49.319Z"
   },
   {
    "duration": 8,
    "start_time": "2022-02-15T22:51:54.702Z"
   },
   {
    "duration": 298,
    "start_time": "2022-02-15T22:51:59.270Z"
   },
   {
    "duration": 72,
    "start_time": "2022-02-15T22:52:07.705Z"
   },
   {
    "duration": 4,
    "start_time": "2022-02-15T22:52:15.422Z"
   },
   {
    "duration": 12,
    "start_time": "2022-02-15T22:52:35.312Z"
   },
   {
    "duration": 1028,
    "start_time": "2022-02-15T22:53:26.923Z"
   },
   {
    "duration": 3,
    "start_time": "2022-02-15T22:54:14.700Z"
   },
   {
    "duration": 363,
    "start_time": "2022-02-15T22:54:14.706Z"
   },
   {
    "duration": 17,
    "start_time": "2022-02-15T22:54:15.071Z"
   },
   {
    "duration": 112,
    "start_time": "2022-02-15T22:54:15.090Z"
   },
   {
    "duration": 60,
    "start_time": "2022-02-15T22:54:15.203Z"
   },
   {
    "duration": 79,
    "start_time": "2022-02-15T22:54:15.264Z"
   },
   {
    "duration": 9,
    "start_time": "2022-02-15T22:54:15.345Z"
   },
   {
    "duration": 125,
    "start_time": "2022-02-15T22:54:15.355Z"
   },
   {
    "duration": 8,
    "start_time": "2022-02-15T22:54:15.482Z"
   },
   {
    "duration": 102,
    "start_time": "2022-02-15T22:54:15.491Z"
   },
   {
    "duration": 22,
    "start_time": "2022-02-15T22:54:15.594Z"
   },
   {
    "duration": 6,
    "start_time": "2022-02-15T22:55:08.713Z"
   },
   {
    "duration": 8,
    "start_time": "2022-02-15T22:55:25.369Z"
   },
   {
    "duration": 13,
    "start_time": "2022-02-15T22:55:46.986Z"
   },
   {
    "duration": 516,
    "start_time": "2022-02-15T23:00:21.452Z"
   },
   {
    "duration": 399,
    "start_time": "2022-02-15T23:00:21.969Z"
   },
   {
    "duration": 23,
    "start_time": "2022-02-15T23:00:22.370Z"
   },
   {
    "duration": 134,
    "start_time": "2022-02-15T23:00:22.395Z"
   },
   {
    "duration": 62,
    "start_time": "2022-02-15T23:00:22.531Z"
   },
   {
    "duration": 90,
    "start_time": "2022-02-15T23:00:22.594Z"
   },
   {
    "duration": 9,
    "start_time": "2022-02-15T23:00:22.685Z"
   },
   {
    "duration": 155,
    "start_time": "2022-02-15T23:00:22.696Z"
   },
   {
    "duration": 8,
    "start_time": "2022-02-15T23:00:22.852Z"
   },
   {
    "duration": 104,
    "start_time": "2022-02-15T23:00:22.861Z"
   },
   {
    "duration": 11,
    "start_time": "2022-02-15T23:00:22.967Z"
   },
   {
    "duration": 117,
    "start_time": "2022-02-15T23:01:23.626Z"
   },
   {
    "duration": 86,
    "start_time": "2022-02-15T23:01:45.379Z"
   },
   {
    "duration": 6,
    "start_time": "2022-02-15T23:02:24.371Z"
   },
   {
    "duration": 4,
    "start_time": "2022-02-15T23:04:09.145Z"
   },
   {
    "duration": 336,
    "start_time": "2022-02-16T08:17:43.721Z"
   },
   {
    "duration": 782,
    "start_time": "2022-02-16T08:17:52.209Z"
   },
   {
    "duration": 571,
    "start_time": "2022-02-16T08:17:52.994Z"
   },
   {
    "duration": 38,
    "start_time": "2022-02-16T08:17:53.568Z"
   },
   {
    "duration": 208,
    "start_time": "2022-02-16T08:17:53.609Z"
   },
   {
    "duration": 112,
    "start_time": "2022-02-16T08:17:53.820Z"
   },
   {
    "duration": 131,
    "start_time": "2022-02-16T08:17:53.935Z"
   },
   {
    "duration": 15,
    "start_time": "2022-02-16T08:17:54.069Z"
   },
   {
    "duration": 237,
    "start_time": "2022-02-16T08:17:54.087Z"
   },
   {
    "duration": 5,
    "start_time": "2022-02-16T08:17:54.333Z"
   },
   {
    "duration": 133,
    "start_time": "2022-02-16T08:17:54.340Z"
   },
   {
    "duration": 8,
    "start_time": "2022-02-16T08:17:54.475Z"
   },
   {
    "duration": 853,
    "start_time": "2022-02-16T08:17:54.485Z"
   },
   {
    "duration": 464,
    "start_time": "2022-02-16T08:18:32.917Z"
   },
   {
    "duration": 3,
    "start_time": "2022-02-16T08:18:35.903Z"
   },
   {
    "duration": 576,
    "start_time": "2022-02-16T08:18:35.909Z"
   },
   {
    "duration": 29,
    "start_time": "2022-02-16T08:18:36.488Z"
   },
   {
    "duration": 163,
    "start_time": "2022-02-16T08:18:36.532Z"
   },
   {
    "duration": 99,
    "start_time": "2022-02-16T08:18:36.697Z"
   },
   {
    "duration": 111,
    "start_time": "2022-02-16T08:18:36.799Z"
   },
   {
    "duration": 30,
    "start_time": "2022-02-16T08:18:36.913Z"
   },
   {
    "duration": 211,
    "start_time": "2022-02-16T08:18:36.946Z"
   },
   {
    "duration": 5,
    "start_time": "2022-02-16T08:18:37.160Z"
   },
   {
    "duration": 139,
    "start_time": "2022-02-16T08:18:37.167Z"
   },
   {
    "duration": 23,
    "start_time": "2022-02-16T08:18:37.309Z"
   },
   {
    "duration": 397,
    "start_time": "2022-02-16T08:18:37.335Z"
   },
   {
    "duration": 3,
    "start_time": "2022-02-16T08:19:01.789Z"
   },
   {
    "duration": 584,
    "start_time": "2022-02-16T08:19:01.795Z"
   },
   {
    "duration": 29,
    "start_time": "2022-02-16T08:19:02.382Z"
   },
   {
    "duration": 176,
    "start_time": "2022-02-16T08:19:02.433Z"
   },
   {
    "duration": 103,
    "start_time": "2022-02-16T08:19:02.611Z"
   },
   {
    "duration": 127,
    "start_time": "2022-02-16T08:19:02.716Z"
   },
   {
    "duration": 14,
    "start_time": "2022-02-16T08:19:02.846Z"
   },
   {
    "duration": 215,
    "start_time": "2022-02-16T08:19:02.862Z"
   },
   {
    "duration": 7,
    "start_time": "2022-02-16T08:19:03.080Z"
   },
   {
    "duration": 143,
    "start_time": "2022-02-16T08:19:03.090Z"
   },
   {
    "duration": 7,
    "start_time": "2022-02-16T08:19:03.236Z"
   },
   {
    "duration": 801,
    "start_time": "2022-02-16T08:19:03.245Z"
   },
   {
    "duration": 4,
    "start_time": "2022-02-16T08:20:35.669Z"
   },
   {
    "duration": 860,
    "start_time": "2022-02-16T08:20:35.677Z"
   },
   {
    "duration": 31,
    "start_time": "2022-02-16T08:20:36.541Z"
   },
   {
    "duration": 193,
    "start_time": "2022-02-16T08:20:36.575Z"
   },
   {
    "duration": 109,
    "start_time": "2022-02-16T08:20:36.771Z"
   },
   {
    "duration": 122,
    "start_time": "2022-02-16T08:20:36.883Z"
   },
   {
    "duration": 26,
    "start_time": "2022-02-16T08:20:37.008Z"
   },
   {
    "duration": 208,
    "start_time": "2022-02-16T08:20:37.037Z"
   },
   {
    "duration": 6,
    "start_time": "2022-02-16T08:20:37.247Z"
   },
   {
    "duration": 192,
    "start_time": "2022-02-16T08:20:37.256Z"
   },
   {
    "duration": 10,
    "start_time": "2022-02-16T08:20:37.451Z"
   },
   {
    "duration": 218,
    "start_time": "2022-02-16T08:20:37.464Z"
   },
   {
    "duration": 10,
    "start_time": "2022-02-16T08:23:20.091Z"
   },
   {
    "duration": 293,
    "start_time": "2022-02-16T08:24:15.726Z"
   },
   {
    "duration": 103,
    "start_time": "2022-02-16T08:24:26.230Z"
   },
   {
    "duration": 15,
    "start_time": "2022-02-16T08:24:35.322Z"
   },
   {
    "duration": 478,
    "start_time": "2022-02-16T08:35:48.302Z"
   },
   {
    "duration": 293,
    "start_time": "2022-02-16T08:35:57.496Z"
   },
   {
    "duration": 268,
    "start_time": "2022-02-16T08:36:13.998Z"
   },
   {
    "duration": 423,
    "start_time": "2022-02-16T08:36:43.896Z"
   },
   {
    "duration": 35,
    "start_time": "2022-02-16T08:38:19.157Z"
   },
   {
    "duration": 38,
    "start_time": "2022-02-16T08:38:26.872Z"
   },
   {
    "duration": 12,
    "start_time": "2022-02-16T08:39:12.222Z"
   },
   {
    "duration": 16,
    "start_time": "2022-02-16T08:39:26.630Z"
   },
   {
    "duration": 3,
    "start_time": "2022-02-16T08:40:12.018Z"
   },
   {
    "duration": 560,
    "start_time": "2022-02-16T08:40:12.024Z"
   },
   {
    "duration": 28,
    "start_time": "2022-02-16T08:40:12.587Z"
   },
   {
    "duration": 183,
    "start_time": "2022-02-16T08:40:12.618Z"
   },
   {
    "duration": 100,
    "start_time": "2022-02-16T08:40:12.804Z"
   },
   {
    "duration": 127,
    "start_time": "2022-02-16T08:40:12.906Z"
   },
   {
    "duration": 22,
    "start_time": "2022-02-16T08:40:13.038Z"
   },
   {
    "duration": 396,
    "start_time": "2022-02-16T08:40:13.063Z"
   },
   {
    "duration": 7,
    "start_time": "2022-02-16T08:40:13.462Z"
   },
   {
    "duration": 139,
    "start_time": "2022-02-16T08:40:13.472Z"
   },
   {
    "duration": 23,
    "start_time": "2022-02-16T08:40:13.614Z"
   },
   {
    "duration": 142,
    "start_time": "2022-02-16T08:40:13.640Z"
   },
   {
    "duration": 7,
    "start_time": "2022-02-16T08:40:13.785Z"
   },
   {
    "duration": 33,
    "start_time": "2022-02-16T08:40:13.794Z"
   },
   {
    "duration": 26,
    "start_time": "2022-02-16T08:40:13.829Z"
   },
   {
    "duration": 40,
    "start_time": "2022-02-16T08:40:13.857Z"
   },
   {
    "duration": 23,
    "start_time": "2022-02-16T08:40:13.899Z"
   },
   {
    "duration": 14,
    "start_time": "2022-02-16T08:40:32.869Z"
   },
   {
    "duration": 22,
    "start_time": "2022-02-16T08:40:35.463Z"
   },
   {
    "duration": 3,
    "start_time": "2022-02-16T08:40:41.425Z"
   },
   {
    "duration": 545,
    "start_time": "2022-02-16T08:40:41.430Z"
   },
   {
    "duration": 29,
    "start_time": "2022-02-16T08:40:41.978Z"
   },
   {
    "duration": 178,
    "start_time": "2022-02-16T08:40:42.010Z"
   },
   {
    "duration": 100,
    "start_time": "2022-02-16T08:40:42.190Z"
   },
   {
    "duration": 117,
    "start_time": "2022-02-16T08:40:42.293Z"
   },
   {
    "duration": 26,
    "start_time": "2022-02-16T08:40:42.413Z"
   },
   {
    "duration": 198,
    "start_time": "2022-02-16T08:40:42.442Z"
   },
   {
    "duration": 5,
    "start_time": "2022-02-16T08:40:42.643Z"
   },
   {
    "duration": 137,
    "start_time": "2022-02-16T08:40:42.650Z"
   },
   {
    "duration": 9,
    "start_time": "2022-02-16T08:40:42.790Z"
   },
   {
    "duration": 152,
    "start_time": "2022-02-16T08:40:42.802Z"
   },
   {
    "duration": 8,
    "start_time": "2022-02-16T08:40:42.958Z"
   },
   {
    "duration": 16,
    "start_time": "2022-02-16T08:40:42.969Z"
   },
   {
    "duration": 49,
    "start_time": "2022-02-16T08:40:42.988Z"
   },
   {
    "duration": 29,
    "start_time": "2022-02-16T08:40:43.040Z"
   },
   {
    "duration": 39,
    "start_time": "2022-02-16T08:42:06.245Z"
   },
   {
    "duration": 4,
    "start_time": "2022-02-16T08:42:13.258Z"
   },
   {
    "duration": 555,
    "start_time": "2022-02-16T08:42:13.264Z"
   },
   {
    "duration": 32,
    "start_time": "2022-02-16T08:42:13.821Z"
   },
   {
    "duration": 184,
    "start_time": "2022-02-16T08:42:13.856Z"
   },
   {
    "duration": 111,
    "start_time": "2022-02-16T08:42:14.043Z"
   },
   {
    "duration": 138,
    "start_time": "2022-02-16T08:42:14.157Z"
   },
   {
    "duration": 18,
    "start_time": "2022-02-16T08:42:14.299Z"
   },
   {
    "duration": 199,
    "start_time": "2022-02-16T08:42:14.333Z"
   },
   {
    "duration": 6,
    "start_time": "2022-02-16T08:42:14.535Z"
   },
   {
    "duration": 134,
    "start_time": "2022-02-16T08:42:14.543Z"
   },
   {
    "duration": 9,
    "start_time": "2022-02-16T08:42:14.680Z"
   },
   {
    "duration": 219,
    "start_time": "2022-02-16T08:42:14.693Z"
   },
   {
    "duration": 19,
    "start_time": "2022-02-16T08:42:14.914Z"
   },
   {
    "duration": 13,
    "start_time": "2022-02-16T08:42:14.936Z"
   },
   {
    "duration": 34,
    "start_time": "2022-02-16T08:42:14.952Z"
   },
   {
    "duration": 16,
    "start_time": "2022-02-16T08:43:07.249Z"
   },
   {
    "duration": 4,
    "start_time": "2022-02-16T08:43:58.338Z"
   },
   {
    "duration": 537,
    "start_time": "2022-02-16T08:43:58.345Z"
   },
   {
    "duration": 28,
    "start_time": "2022-02-16T08:43:58.885Z"
   },
   {
    "duration": 164,
    "start_time": "2022-02-16T08:43:58.932Z"
   },
   {
    "duration": 98,
    "start_time": "2022-02-16T08:43:59.098Z"
   },
   {
    "duration": 114,
    "start_time": "2022-02-16T08:43:59.198Z"
   },
   {
    "duration": 17,
    "start_time": "2022-02-16T08:43:59.333Z"
   },
   {
    "duration": 204,
    "start_time": "2022-02-16T08:43:59.353Z"
   },
   {
    "duration": 7,
    "start_time": "2022-02-16T08:43:59.560Z"
   },
   {
    "duration": 195,
    "start_time": "2022-02-16T08:43:59.570Z"
   },
   {
    "duration": 9,
    "start_time": "2022-02-16T08:43:59.768Z"
   },
   {
    "duration": 156,
    "start_time": "2022-02-16T08:43:59.780Z"
   },
   {
    "duration": 7,
    "start_time": "2022-02-16T08:43:59.938Z"
   },
   {
    "duration": 16,
    "start_time": "2022-02-16T08:43:59.947Z"
   },
   {
    "duration": 72,
    "start_time": "2022-02-16T08:43:59.965Z"
   },
   {
    "duration": 17,
    "start_time": "2022-02-16T08:44:03.534Z"
   },
   {
    "duration": 48,
    "start_time": "2022-02-16T08:44:51.465Z"
   },
   {
    "duration": 29,
    "start_time": "2022-02-16T08:45:11.297Z"
   },
   {
    "duration": 23,
    "start_time": "2022-02-16T08:45:17.359Z"
   },
   {
    "duration": 4,
    "start_time": "2022-02-16T08:45:19.945Z"
   },
   {
    "duration": 553,
    "start_time": "2022-02-16T08:45:19.952Z"
   },
   {
    "duration": 34,
    "start_time": "2022-02-16T08:45:20.509Z"
   },
   {
    "duration": 173,
    "start_time": "2022-02-16T08:45:20.545Z"
   },
   {
    "duration": 99,
    "start_time": "2022-02-16T08:45:20.721Z"
   },
   {
    "duration": 112,
    "start_time": "2022-02-16T08:45:20.833Z"
   },
   {
    "duration": 16,
    "start_time": "2022-02-16T08:45:20.948Z"
   },
   {
    "duration": 210,
    "start_time": "2022-02-16T08:45:20.967Z"
   },
   {
    "duration": 6,
    "start_time": "2022-02-16T08:45:21.180Z"
   },
   {
    "duration": 139,
    "start_time": "2022-02-16T08:45:21.188Z"
   },
   {
    "duration": 8,
    "start_time": "2022-02-16T08:45:21.333Z"
   },
   {
    "duration": 153,
    "start_time": "2022-02-16T08:45:21.343Z"
   },
   {
    "duration": 8,
    "start_time": "2022-02-16T08:45:21.499Z"
   },
   {
    "duration": 37,
    "start_time": "2022-02-16T08:45:21.510Z"
   },
   {
    "duration": 57,
    "start_time": "2022-02-16T08:45:21.549Z"
   },
   {
    "duration": 25,
    "start_time": "2022-02-16T08:45:28.495Z"
   },
   {
    "duration": 102,
    "start_time": "2022-02-16T08:55:05.728Z"
   },
   {
    "duration": 7389,
    "start_time": "2022-02-16T08:55:13.072Z"
   },
   {
    "duration": 8,
    "start_time": "2022-02-16T08:55:30.281Z"
   },
   {
    "duration": 324,
    "start_time": "2022-02-16T08:55:55.603Z"
   },
   {
    "duration": 327,
    "start_time": "2022-02-16T08:56:09.170Z"
   },
   {
    "duration": 34,
    "start_time": "2022-02-16T08:56:21.954Z"
   },
   {
    "duration": 7285,
    "start_time": "2022-02-16T08:56:45.064Z"
   },
   {
    "duration": 23,
    "start_time": "2022-02-16T08:56:56.137Z"
   },
   {
    "duration": 28,
    "start_time": "2022-02-16T08:57:09.449Z"
   },
   {
    "duration": 54,
    "start_time": "2022-02-16T11:01:13.146Z"
   },
   {
    "duration": 61,
    "start_time": "2022-02-16T11:01:43.249Z"
   },
   {
    "duration": 314,
    "start_time": "2022-02-16T11:03:25.178Z"
   },
   {
    "duration": 341,
    "start_time": "2022-02-16T11:03:42.609Z"
   },
   {
    "duration": 320,
    "start_time": "2022-02-16T11:03:49.241Z"
   },
   {
    "duration": 93,
    "start_time": "2022-02-16T11:04:42.137Z"
   },
   {
    "duration": 87,
    "start_time": "2022-02-16T11:04:52.977Z"
   },
   {
    "duration": 2063,
    "start_time": "2022-02-16T11:04:59.544Z"
   },
   {
    "duration": 100,
    "start_time": "2022-02-16T11:05:57.097Z"
   },
   {
    "duration": 4,
    "start_time": "2022-02-16T11:06:30.228Z"
   },
   {
    "duration": 585,
    "start_time": "2022-02-16T11:06:30.235Z"
   },
   {
    "duration": 33,
    "start_time": "2022-02-16T11:06:30.823Z"
   },
   {
    "duration": 206,
    "start_time": "2022-02-16T11:06:30.858Z"
   },
   {
    "duration": 116,
    "start_time": "2022-02-16T11:06:31.067Z"
   },
   {
    "duration": 125,
    "start_time": "2022-02-16T11:06:31.186Z"
   },
   {
    "duration": 24,
    "start_time": "2022-02-16T11:06:31.314Z"
   },
   {
    "duration": 127,
    "start_time": "2022-02-16T11:06:31.344Z"
   },
   {
    "duration": 7,
    "start_time": "2022-02-16T11:06:31.474Z"
   },
   {
    "duration": 97,
    "start_time": "2022-02-16T11:06:31.484Z"
   },
   {
    "duration": 7,
    "start_time": "2022-02-16T11:06:31.584Z"
   },
   {
    "duration": 116,
    "start_time": "2022-02-16T11:06:31.594Z"
   },
   {
    "duration": 27,
    "start_time": "2022-02-16T11:06:31.713Z"
   },
   {
    "duration": 23,
    "start_time": "2022-02-16T11:06:31.743Z"
   },
   {
    "duration": 74,
    "start_time": "2022-02-16T11:06:31.769Z"
   },
   {
    "duration": 3,
    "start_time": "2022-02-16T11:06:31.846Z"
   },
   {
    "duration": 105,
    "start_time": "2022-02-16T11:07:09.292Z"
   },
   {
    "duration": 296,
    "start_time": "2022-02-16T11:07:27.408Z"
   },
   {
    "duration": 61,
    "start_time": "2022-02-16T11:08:29.482Z"
   },
   {
    "duration": 38,
    "start_time": "2022-02-16T11:08:47.048Z"
   },
   {
    "duration": 341,
    "start_time": "2022-02-16T11:09:22.179Z"
   },
   {
    "duration": 362,
    "start_time": "2022-02-16T11:09:30.523Z"
   },
   {
    "duration": 89,
    "start_time": "2022-02-16T11:10:12.756Z"
   },
   {
    "duration": 3,
    "start_time": "2022-02-16T11:10:14.173Z"
   },
   {
    "duration": 556,
    "start_time": "2022-02-16T11:10:14.179Z"
   },
   {
    "duration": 28,
    "start_time": "2022-02-16T11:10:14.738Z"
   },
   {
    "duration": 188,
    "start_time": "2022-02-16T11:10:14.769Z"
   },
   {
    "duration": 103,
    "start_time": "2022-02-16T11:10:14.960Z"
   },
   {
    "duration": 117,
    "start_time": "2022-02-16T11:10:15.066Z"
   },
   {
    "duration": 14,
    "start_time": "2022-02-16T11:10:15.187Z"
   },
   {
    "duration": 115,
    "start_time": "2022-02-16T11:10:15.204Z"
   },
   {
    "duration": 5,
    "start_time": "2022-02-16T11:10:15.333Z"
   },
   {
    "duration": 76,
    "start_time": "2022-02-16T11:10:15.340Z"
   },
   {
    "duration": 17,
    "start_time": "2022-02-16T11:10:15.419Z"
   },
   {
    "duration": 72,
    "start_time": "2022-02-16T11:10:15.439Z"
   },
   {
    "duration": 21,
    "start_time": "2022-02-16T11:10:15.513Z"
   },
   {
    "duration": 17,
    "start_time": "2022-02-16T11:10:15.537Z"
   },
   {
    "duration": 82,
    "start_time": "2022-02-16T11:10:15.557Z"
   },
   {
    "duration": 25,
    "start_time": "2022-02-16T11:10:15.641Z"
   },
   {
    "duration": 6,
    "start_time": "2022-02-16T11:10:15.669Z"
   },
   {
    "duration": 7,
    "start_time": "2022-02-16T11:10:30.666Z"
   },
   {
    "duration": 289,
    "start_time": "2022-02-16T11:11:01.505Z"
   },
   {
    "duration": 370,
    "start_time": "2022-02-16T11:11:13.889Z"
   },
   {
    "duration": 294,
    "start_time": "2022-02-16T11:11:49.545Z"
   },
   {
    "duration": 10,
    "start_time": "2022-02-16T11:12:01.193Z"
   },
   {
    "duration": 11,
    "start_time": "2022-02-16T11:12:56.026Z"
   },
   {
    "duration": 26,
    "start_time": "2022-02-16T11:13:09.893Z"
   },
   {
    "duration": 11,
    "start_time": "2022-02-16T11:13:18.009Z"
   },
   {
    "duration": 8,
    "start_time": "2022-02-16T11:13:53.826Z"
   },
   {
    "duration": 11,
    "start_time": "2022-02-16T11:14:17.569Z"
   },
   {
    "duration": 30,
    "start_time": "2022-02-16T11:14:24.570Z"
   },
   {
    "duration": 1959,
    "start_time": "2022-02-16T11:17:27.972Z"
   },
   {
    "duration": 4,
    "start_time": "2022-02-16T11:17:54.711Z"
   },
   {
    "duration": 576,
    "start_time": "2022-02-16T11:17:54.717Z"
   },
   {
    "duration": 38,
    "start_time": "2022-02-16T11:17:55.296Z"
   },
   {
    "duration": 179,
    "start_time": "2022-02-16T11:17:55.337Z"
   },
   {
    "duration": 99,
    "start_time": "2022-02-16T11:17:55.518Z"
   },
   {
    "duration": 130,
    "start_time": "2022-02-16T11:17:55.619Z"
   },
   {
    "duration": 14,
    "start_time": "2022-02-16T11:17:55.752Z"
   },
   {
    "duration": 119,
    "start_time": "2022-02-16T11:17:55.769Z"
   },
   {
    "duration": 6,
    "start_time": "2022-02-16T11:17:55.890Z"
   },
   {
    "duration": 104,
    "start_time": "2022-02-16T11:17:55.898Z"
   },
   {
    "duration": 28,
    "start_time": "2022-02-16T11:17:56.004Z"
   },
   {
    "duration": 68,
    "start_time": "2022-02-16T11:17:56.034Z"
   },
   {
    "duration": 28,
    "start_time": "2022-02-16T11:17:56.105Z"
   },
   {
    "duration": 15,
    "start_time": "2022-02-16T11:17:56.136Z"
   },
   {
    "duration": 46,
    "start_time": "2022-02-16T11:17:56.154Z"
   },
   {
    "duration": 57,
    "start_time": "2022-02-16T11:17:56.202Z"
   },
   {
    "duration": 3,
    "start_time": "2022-02-16T11:17:56.261Z"
   },
   {
    "duration": 25,
    "start_time": "2022-02-16T11:37:42.422Z"
   },
   {
    "duration": 297,
    "start_time": "2022-02-16T11:39:15.429Z"
   },
   {
    "duration": 13,
    "start_time": "2022-02-16T11:40:07.285Z"
   },
   {
    "duration": 298,
    "start_time": "2022-02-16T11:40:27.150Z"
   },
   {
    "duration": 5,
    "start_time": "2022-02-16T11:40:42.806Z"
   },
   {
    "duration": 337,
    "start_time": "2022-02-16T11:40:44.525Z"
   },
   {
    "duration": 5,
    "start_time": "2022-02-16T11:41:07.684Z"
   },
   {
    "duration": 315,
    "start_time": "2022-02-16T11:41:09.785Z"
   },
   {
    "duration": 3,
    "start_time": "2022-02-16T11:41:13.377Z"
   },
   {
    "duration": 564,
    "start_time": "2022-02-16T11:41:13.383Z"
   },
   {
    "duration": 27,
    "start_time": "2022-02-16T11:41:13.950Z"
   },
   {
    "duration": 181,
    "start_time": "2022-02-16T11:41:13.980Z"
   },
   {
    "duration": 111,
    "start_time": "2022-02-16T11:41:14.164Z"
   },
   {
    "duration": 116,
    "start_time": "2022-02-16T11:41:14.277Z"
   },
   {
    "duration": 14,
    "start_time": "2022-02-16T11:41:14.397Z"
   },
   {
    "duration": 119,
    "start_time": "2022-02-16T11:41:14.414Z"
   },
   {
    "duration": 6,
    "start_time": "2022-02-16T11:41:14.535Z"
   },
   {
    "duration": 68,
    "start_time": "2022-02-16T11:41:14.543Z"
   },
   {
    "duration": 8,
    "start_time": "2022-02-16T11:41:14.632Z"
   },
   {
    "duration": 96,
    "start_time": "2022-02-16T11:41:14.642Z"
   },
   {
    "duration": 7,
    "start_time": "2022-02-16T11:41:14.741Z"
   },
   {
    "duration": 16,
    "start_time": "2022-02-16T11:41:14.751Z"
   },
   {
    "duration": 78,
    "start_time": "2022-02-16T11:41:14.770Z"
   },
   {
    "duration": 25,
    "start_time": "2022-02-16T11:41:14.851Z"
   },
   {
    "duration": 10,
    "start_time": "2022-02-16T11:41:14.880Z"
   },
   {
    "duration": 294,
    "start_time": "2022-02-16T11:41:14.893Z"
   },
   {
    "duration": 13,
    "start_time": "2022-02-16T11:42:03.616Z"
   },
   {
    "duration": 14,
    "start_time": "2022-02-16T11:42:18.830Z"
   },
   {
    "duration": 13,
    "start_time": "2022-02-16T11:42:22.581Z"
   },
   {
    "duration": 16,
    "start_time": "2022-02-16T11:43:37.320Z"
   },
   {
    "duration": 54,
    "start_time": "2022-02-16T11:43:46.181Z"
   },
   {
    "duration": 4,
    "start_time": "2022-02-16T11:44:10.682Z"
   },
   {
    "duration": 644,
    "start_time": "2022-02-16T11:44:10.689Z"
   },
   {
    "duration": 27,
    "start_time": "2022-02-16T11:44:11.336Z"
   },
   {
    "duration": 196,
    "start_time": "2022-02-16T11:44:11.366Z"
   },
   {
    "duration": 99,
    "start_time": "2022-02-16T11:44:11.565Z"
   },
   {
    "duration": 119,
    "start_time": "2022-02-16T11:44:11.666Z"
   },
   {
    "duration": 14,
    "start_time": "2022-02-16T11:44:11.789Z"
   },
   {
    "duration": 110,
    "start_time": "2022-02-16T11:44:11.805Z"
   },
   {
    "duration": 5,
    "start_time": "2022-02-16T11:44:11.932Z"
   },
   {
    "duration": 63,
    "start_time": "2022-02-16T11:44:11.939Z"
   },
   {
    "duration": 29,
    "start_time": "2022-02-16T11:44:12.004Z"
   },
   {
    "duration": 68,
    "start_time": "2022-02-16T11:44:12.035Z"
   },
   {
    "duration": 27,
    "start_time": "2022-02-16T11:44:12.106Z"
   },
   {
    "duration": 14,
    "start_time": "2022-02-16T11:44:12.135Z"
   },
   {
    "duration": 45,
    "start_time": "2022-02-16T11:44:12.152Z"
   },
   {
    "duration": 53,
    "start_time": "2022-02-16T11:44:12.200Z"
   },
   {
    "duration": 42,
    "start_time": "2022-02-16T11:44:12.256Z"
   },
   {
    "duration": 7527,
    "start_time": "2022-02-16T11:47:48.377Z"
   },
   {
    "duration": 5,
    "start_time": "2022-02-16T11:49:51.784Z"
   },
   {
    "duration": 543,
    "start_time": "2022-02-16T11:49:51.792Z"
   },
   {
    "duration": 27,
    "start_time": "2022-02-16T11:49:52.338Z"
   },
   {
    "duration": 195,
    "start_time": "2022-02-16T11:49:52.368Z"
   },
   {
    "duration": 112,
    "start_time": "2022-02-16T11:49:52.565Z"
   },
   {
    "duration": 116,
    "start_time": "2022-02-16T11:49:52.680Z"
   },
   {
    "duration": 14,
    "start_time": "2022-02-16T11:49:52.798Z"
   },
   {
    "duration": 106,
    "start_time": "2022-02-16T11:49:52.833Z"
   },
   {
    "duration": 6,
    "start_time": "2022-02-16T11:49:52.941Z"
   },
   {
    "duration": 90,
    "start_time": "2022-02-16T11:49:52.949Z"
   },
   {
    "duration": 9,
    "start_time": "2022-02-16T11:49:53.041Z"
   },
   {
    "duration": 93,
    "start_time": "2022-02-16T11:49:53.053Z"
   },
   {
    "duration": 16,
    "start_time": "2022-02-16T11:49:53.149Z"
   },
   {
    "duration": 21,
    "start_time": "2022-02-16T11:49:53.167Z"
   },
   {
    "duration": 105,
    "start_time": "2022-02-16T11:49:53.191Z"
   },
   {
    "duration": 34,
    "start_time": "2022-02-16T11:49:53.298Z"
   },
   {
    "duration": 315,
    "start_time": "2022-02-16T11:49:53.335Z"
   },
   {
    "duration": 404,
    "start_time": "2022-02-16T11:52:51.258Z"
   },
   {
    "duration": 359,
    "start_time": "2022-02-16T11:53:10.153Z"
   },
   {
    "duration": 26,
    "start_time": "2022-02-16T11:54:47.856Z"
   },
   {
    "duration": 34,
    "start_time": "2022-02-16T11:55:10.921Z"
   },
   {
    "duration": 315,
    "start_time": "2022-02-16T11:55:45.746Z"
   },
   {
    "duration": 339,
    "start_time": "2022-02-16T11:55:54.834Z"
   },
   {
    "duration": 174,
    "start_time": "2022-02-16T11:56:25.065Z"
   },
   {
    "duration": 378,
    "start_time": "2022-02-16T11:56:33.305Z"
   },
   {
    "duration": 28,
    "start_time": "2022-02-16T11:57:19.999Z"
   },
   {
    "duration": 31,
    "start_time": "2022-02-16T11:57:33.481Z"
   },
   {
    "duration": 24,
    "start_time": "2022-02-16T11:57:47.786Z"
   },
   {
    "duration": 372,
    "start_time": "2022-02-16T11:58:08.035Z"
   },
   {
    "duration": 3,
    "start_time": "2022-02-16T11:58:15.630Z"
   },
   {
    "duration": 644,
    "start_time": "2022-02-16T11:58:15.636Z"
   },
   {
    "duration": 28,
    "start_time": "2022-02-16T11:58:16.283Z"
   },
   {
    "duration": 182,
    "start_time": "2022-02-16T11:58:16.314Z"
   },
   {
    "duration": 103,
    "start_time": "2022-02-16T11:58:16.499Z"
   },
   {
    "duration": 109,
    "start_time": "2022-02-16T11:58:16.604Z"
   },
   {
    "duration": 27,
    "start_time": "2022-02-16T11:58:16.717Z"
   },
   {
    "duration": 109,
    "start_time": "2022-02-16T11:58:16.747Z"
   },
   {
    "duration": 6,
    "start_time": "2022-02-16T11:58:16.858Z"
   },
   {
    "duration": 81,
    "start_time": "2022-02-16T11:58:16.866Z"
   },
   {
    "duration": 7,
    "start_time": "2022-02-16T11:58:16.949Z"
   },
   {
    "duration": 88,
    "start_time": "2022-02-16T11:58:16.959Z"
   },
   {
    "duration": 95,
    "start_time": "2022-02-16T11:58:17.049Z"
   },
   {
    "duration": 966,
    "start_time": "2022-02-16T11:58:16.182Z"
   },
   {
    "duration": 966,
    "start_time": "2022-02-16T11:58:16.184Z"
   },
   {
    "duration": 966,
    "start_time": "2022-02-16T11:58:16.186Z"
   },
   {
    "duration": 966,
    "start_time": "2022-02-16T11:58:16.188Z"
   },
   {
    "duration": 968,
    "start_time": "2022-02-16T11:58:16.189Z"
   },
   {
    "duration": 968,
    "start_time": "2022-02-16T11:58:16.191Z"
   },
   {
    "duration": 4,
    "start_time": "2022-02-16T11:58:39.462Z"
   },
   {
    "duration": 576,
    "start_time": "2022-02-16T11:58:39.471Z"
   },
   {
    "duration": 30,
    "start_time": "2022-02-16T11:58:40.050Z"
   },
   {
    "duration": 200,
    "start_time": "2022-02-16T11:58:40.083Z"
   },
   {
    "duration": 108,
    "start_time": "2022-02-16T11:58:40.286Z"
   },
   {
    "duration": 113,
    "start_time": "2022-02-16T11:58:40.397Z"
   },
   {
    "duration": 27,
    "start_time": "2022-02-16T11:58:40.513Z"
   },
   {
    "duration": 111,
    "start_time": "2022-02-16T11:58:40.542Z"
   },
   {
    "duration": 6,
    "start_time": "2022-02-16T11:58:40.657Z"
   },
   {
    "duration": 86,
    "start_time": "2022-02-16T11:58:40.666Z"
   },
   {
    "duration": 8,
    "start_time": "2022-02-16T11:58:40.754Z"
   },
   {
    "duration": 97,
    "start_time": "2022-02-16T11:58:40.765Z"
   },
   {
    "duration": 7,
    "start_time": "2022-02-16T11:58:40.865Z"
   },
   {
    "duration": 28,
    "start_time": "2022-02-16T11:58:40.875Z"
   },
   {
    "duration": 46,
    "start_time": "2022-02-16T11:58:40.905Z"
   },
   {
    "duration": 52,
    "start_time": "2022-02-16T11:58:40.954Z"
   },
   {
    "duration": 56,
    "start_time": "2022-02-16T11:58:41.008Z"
   },
   {
    "duration": 72,
    "start_time": "2022-02-16T11:58:41.067Z"
   },
   {
    "duration": 3,
    "start_time": "2022-02-16T12:02:05.431Z"
   },
   {
    "duration": 513,
    "start_time": "2022-02-16T12:02:05.437Z"
   },
   {
    "duration": 28,
    "start_time": "2022-02-16T12:02:05.952Z"
   },
   {
    "duration": 185,
    "start_time": "2022-02-16T12:02:05.983Z"
   },
   {
    "duration": 109,
    "start_time": "2022-02-16T12:02:06.171Z"
   },
   {
    "duration": 114,
    "start_time": "2022-02-16T12:02:06.283Z"
   },
   {
    "duration": 32,
    "start_time": "2022-02-16T12:02:06.402Z"
   },
   {
    "duration": 105,
    "start_time": "2022-02-16T12:02:06.437Z"
   },
   {
    "duration": 6,
    "start_time": "2022-02-16T12:02:06.545Z"
   },
   {
    "duration": 90,
    "start_time": "2022-02-16T12:02:06.553Z"
   },
   {
    "duration": 7,
    "start_time": "2022-02-16T12:02:06.645Z"
   },
   {
    "duration": 87,
    "start_time": "2022-02-16T12:02:06.654Z"
   },
   {
    "duration": 6,
    "start_time": "2022-02-16T12:02:06.743Z"
   },
   {
    "duration": 17,
    "start_time": "2022-02-16T12:02:06.752Z"
   },
   {
    "duration": 26,
    "start_time": "2022-02-16T12:02:06.771Z"
   },
   {
    "duration": 76,
    "start_time": "2022-02-16T12:02:06.800Z"
   },
   {
    "duration": 24,
    "start_time": "2022-02-16T12:02:06.878Z"
   },
   {
    "duration": 68,
    "start_time": "2022-02-16T12:02:06.904Z"
   },
   {
    "duration": 39,
    "start_time": "2022-02-16T12:04:06.763Z"
   },
   {
    "duration": 3,
    "start_time": "2022-02-16T12:04:31.375Z"
   },
   {
    "duration": 565,
    "start_time": "2022-02-16T12:04:31.381Z"
   },
   {
    "duration": 30,
    "start_time": "2022-02-16T12:04:31.950Z"
   },
   {
    "duration": 191,
    "start_time": "2022-02-16T12:04:31.984Z"
   },
   {
    "duration": 106,
    "start_time": "2022-02-16T12:04:32.177Z"
   },
   {
    "duration": 119,
    "start_time": "2022-02-16T12:04:32.285Z"
   },
   {
    "duration": 25,
    "start_time": "2022-02-16T12:04:32.408Z"
   },
   {
    "duration": 110,
    "start_time": "2022-02-16T12:04:32.436Z"
   },
   {
    "duration": 5,
    "start_time": "2022-02-16T12:04:32.548Z"
   },
   {
    "duration": 85,
    "start_time": "2022-02-16T12:04:32.556Z"
   },
   {
    "duration": 7,
    "start_time": "2022-02-16T12:04:32.644Z"
   },
   {
    "duration": 91,
    "start_time": "2022-02-16T12:04:32.653Z"
   },
   {
    "duration": 7,
    "start_time": "2022-02-16T12:04:32.746Z"
   },
   {
    "duration": 22,
    "start_time": "2022-02-16T12:04:32.755Z"
   },
   {
    "duration": 30,
    "start_time": "2022-02-16T12:04:32.779Z"
   },
   {
    "duration": 51,
    "start_time": "2022-02-16T12:04:32.832Z"
   },
   {
    "duration": 50,
    "start_time": "2022-02-16T12:04:32.885Z"
   },
   {
    "duration": 44,
    "start_time": "2022-02-16T12:04:32.937Z"
   },
   {
    "duration": 53,
    "start_time": "2022-02-16T12:04:32.985Z"
   },
   {
    "duration": 3,
    "start_time": "2022-02-16T12:04:44.358Z"
   },
   {
    "duration": 662,
    "start_time": "2022-02-16T12:04:44.364Z"
   },
   {
    "duration": 32,
    "start_time": "2022-02-16T12:04:45.028Z"
   },
   {
    "duration": 202,
    "start_time": "2022-02-16T12:04:45.063Z"
   },
   {
    "duration": 101,
    "start_time": "2022-02-16T12:04:45.267Z"
   },
   {
    "duration": 119,
    "start_time": "2022-02-16T12:04:45.370Z"
   },
   {
    "duration": 16,
    "start_time": "2022-02-16T12:04:45.492Z"
   },
   {
    "duration": 108,
    "start_time": "2022-02-16T12:04:45.512Z"
   },
   {
    "duration": 13,
    "start_time": "2022-02-16T12:04:45.622Z"
   },
   {
    "duration": 67,
    "start_time": "2022-02-16T12:04:45.638Z"
   },
   {
    "duration": 27,
    "start_time": "2022-02-16T12:04:45.707Z"
   },
   {
    "duration": 66,
    "start_time": "2022-02-16T12:04:45.736Z"
   },
   {
    "duration": 31,
    "start_time": "2022-02-16T12:04:45.805Z"
   },
   {
    "duration": 17,
    "start_time": "2022-02-16T12:04:45.838Z"
   },
   {
    "duration": 32,
    "start_time": "2022-02-16T12:04:45.857Z"
   },
   {
    "duration": 70,
    "start_time": "2022-02-16T12:04:45.891Z"
   },
   {
    "duration": 24,
    "start_time": "2022-02-16T12:04:45.964Z"
   },
   {
    "duration": 64,
    "start_time": "2022-02-16T12:04:45.990Z"
   },
   {
    "duration": 34,
    "start_time": "2022-02-16T12:04:46.057Z"
   },
   {
    "duration": 9,
    "start_time": "2022-02-16T12:05:47.027Z"
   },
   {
    "duration": 4,
    "start_time": "2022-02-16T12:08:10.714Z"
   },
   {
    "duration": 3,
    "start_time": "2022-02-16T12:08:16.981Z"
   },
   {
    "duration": 304,
    "start_time": "2022-02-16T12:46:20.631Z"
   },
   {
    "duration": 13,
    "start_time": "2022-02-16T12:46:47.200Z"
   },
   {
    "duration": 5,
    "start_time": "2022-02-16T12:46:58.960Z"
   },
   {
    "duration": 3,
    "start_time": "2022-02-16T12:47:02.129Z"
   },
   {
    "duration": 523,
    "start_time": "2022-02-16T12:47:02.135Z"
   },
   {
    "duration": 30,
    "start_time": "2022-02-16T12:47:02.662Z"
   },
   {
    "duration": 185,
    "start_time": "2022-02-16T12:47:02.695Z"
   },
   {
    "duration": 103,
    "start_time": "2022-02-16T12:47:02.882Z"
   },
   {
    "duration": 120,
    "start_time": "2022-02-16T12:47:02.987Z"
   },
   {
    "duration": 22,
    "start_time": "2022-02-16T12:47:03.111Z"
   },
   {
    "duration": 108,
    "start_time": "2022-02-16T12:47:03.136Z"
   },
   {
    "duration": 6,
    "start_time": "2022-02-16T12:47:03.246Z"
   },
   {
    "duration": 91,
    "start_time": "2022-02-16T12:47:03.255Z"
   },
   {
    "duration": 8,
    "start_time": "2022-02-16T12:47:03.349Z"
   },
   {
    "duration": 90,
    "start_time": "2022-02-16T12:47:03.360Z"
   },
   {
    "duration": 7,
    "start_time": "2022-02-16T12:47:03.452Z"
   },
   {
    "duration": 13,
    "start_time": "2022-02-16T12:47:03.462Z"
   },
   {
    "duration": 60,
    "start_time": "2022-02-16T12:47:03.478Z"
   },
   {
    "duration": 45,
    "start_time": "2022-02-16T12:47:03.541Z"
   },
   {
    "duration": 52,
    "start_time": "2022-02-16T12:47:03.589Z"
   },
   {
    "duration": 44,
    "start_time": "2022-02-16T12:47:03.643Z"
   },
   {
    "duration": 8,
    "start_time": "2022-02-16T12:47:03.691Z"
   },
   {
    "duration": 36,
    "start_time": "2022-02-16T12:47:03.701Z"
   },
   {
    "duration": 324,
    "start_time": "2022-02-16T12:48:07.763Z"
   },
   {
    "duration": 11,
    "start_time": "2022-02-16T12:48:15.676Z"
   },
   {
    "duration": 2885,
    "start_time": "2022-02-16T12:48:38.790Z"
   },
   {
    "duration": 3,
    "start_time": "2022-02-16T12:49:01.393Z"
   },
   {
    "duration": 533,
    "start_time": "2022-02-16T12:49:01.399Z"
   },
   {
    "duration": 28,
    "start_time": "2022-02-16T12:49:01.936Z"
   },
   {
    "duration": 184,
    "start_time": "2022-02-16T12:49:01.967Z"
   },
   {
    "duration": 103,
    "start_time": "2022-02-16T12:49:02.153Z"
   },
   {
    "duration": 119,
    "start_time": "2022-02-16T12:49:02.259Z"
   },
   {
    "duration": 16,
    "start_time": "2022-02-16T12:49:02.382Z"
   },
   {
    "duration": 116,
    "start_time": "2022-02-16T12:49:02.401Z"
   },
   {
    "duration": 15,
    "start_time": "2022-02-16T12:49:02.519Z"
   },
   {
    "duration": 70,
    "start_time": "2022-02-16T12:49:02.537Z"
   },
   {
    "duration": 24,
    "start_time": "2022-02-16T12:49:02.610Z"
   },
   {
    "duration": 71,
    "start_time": "2022-02-16T12:49:02.636Z"
   },
   {
    "duration": 25,
    "start_time": "2022-02-16T12:49:02.709Z"
   },
   {
    "duration": 19,
    "start_time": "2022-02-16T12:49:02.736Z"
   },
   {
    "duration": 27,
    "start_time": "2022-02-16T12:49:02.757Z"
   },
   {
    "duration": 71,
    "start_time": "2022-02-16T12:49:02.786Z"
   },
   {
    "duration": 24,
    "start_time": "2022-02-16T12:49:02.860Z"
   },
   {
    "duration": 66,
    "start_time": "2022-02-16T12:49:02.886Z"
   },
   {
    "duration": 8,
    "start_time": "2022-02-16T12:49:02.956Z"
   },
   {
    "duration": 25,
    "start_time": "2022-02-16T12:49:02.966Z"
   },
   {
    "duration": 3119,
    "start_time": "2022-02-16T12:49:24.972Z"
   },
   {
    "duration": 4,
    "start_time": "2022-02-16T12:49:30.832Z"
   },
   {
    "duration": 530,
    "start_time": "2022-02-16T12:49:30.839Z"
   },
   {
    "duration": 27,
    "start_time": "2022-02-16T12:49:31.372Z"
   },
   {
    "duration": 180,
    "start_time": "2022-02-16T12:49:31.401Z"
   },
   {
    "duration": 99,
    "start_time": "2022-02-16T12:49:31.583Z"
   },
   {
    "duration": 113,
    "start_time": "2022-02-16T12:49:31.685Z"
   },
   {
    "duration": 14,
    "start_time": "2022-02-16T12:49:31.801Z"
   },
   {
    "duration": 106,
    "start_time": "2022-02-16T12:49:31.833Z"
   },
   {
    "duration": 6,
    "start_time": "2022-02-16T12:49:31.941Z"
   },
   {
    "duration": 115,
    "start_time": "2022-02-16T12:49:31.950Z"
   },
   {
    "duration": 53,
    "start_time": "2022-02-16T12:49:32.068Z"
   },
   {
    "duration": 72,
    "start_time": "2022-02-16T12:49:32.124Z"
   },
   {
    "duration": 7,
    "start_time": "2022-02-16T12:49:32.199Z"
   },
   {
    "duration": 28,
    "start_time": "2022-02-16T12:49:32.209Z"
   },
   {
    "duration": 36,
    "start_time": "2022-02-16T12:49:32.239Z"
   },
   {
    "duration": 68,
    "start_time": "2022-02-16T12:49:32.278Z"
   },
   {
    "duration": 25,
    "start_time": "2022-02-16T12:49:32.349Z"
   },
   {
    "duration": 71,
    "start_time": "2022-02-16T12:49:32.377Z"
   },
   {
    "duration": 8,
    "start_time": "2022-02-16T12:49:32.452Z"
   },
   {
    "duration": 33,
    "start_time": "2022-02-16T12:49:32.462Z"
   },
   {
    "duration": 338,
    "start_time": "2022-02-16T12:51:43.996Z"
   },
   {
    "duration": 326,
    "start_time": "2022-02-16T12:51:53.018Z"
   },
   {
    "duration": 6,
    "start_time": "2022-02-16T12:52:28.725Z"
   },
   {
    "duration": 5,
    "start_time": "2022-02-16T12:52:41.682Z"
   },
   {
    "duration": 546,
    "start_time": "2022-02-16T12:52:41.690Z"
   },
   {
    "duration": 31,
    "start_time": "2022-02-16T12:52:42.239Z"
   },
   {
    "duration": 200,
    "start_time": "2022-02-16T12:52:42.274Z"
   },
   {
    "duration": 103,
    "start_time": "2022-02-16T12:52:42.476Z"
   },
   {
    "duration": 110,
    "start_time": "2022-02-16T12:52:42.581Z"
   },
   {
    "duration": 13,
    "start_time": "2022-02-16T12:52:42.694Z"
   },
   {
    "duration": 121,
    "start_time": "2022-02-16T12:52:42.711Z"
   },
   {
    "duration": 7,
    "start_time": "2022-02-16T12:52:42.835Z"
   },
   {
    "duration": 95,
    "start_time": "2022-02-16T12:52:42.845Z"
   },
   {
    "duration": 8,
    "start_time": "2022-02-16T12:52:42.942Z"
   },
   {
    "duration": 87,
    "start_time": "2022-02-16T12:52:42.953Z"
   },
   {
    "duration": 8,
    "start_time": "2022-02-16T12:52:43.043Z"
   },
   {
    "duration": 19,
    "start_time": "2022-02-16T12:52:43.054Z"
   },
   {
    "duration": 63,
    "start_time": "2022-02-16T12:52:43.076Z"
   },
   {
    "duration": 49,
    "start_time": "2022-02-16T12:52:43.141Z"
   },
   {
    "duration": 53,
    "start_time": "2022-02-16T12:52:43.193Z"
   },
   {
    "duration": 57,
    "start_time": "2022-02-16T12:52:43.249Z"
   },
   {
    "duration": 26,
    "start_time": "2022-02-16T12:52:43.309Z"
   },
   {
    "duration": 28,
    "start_time": "2022-02-16T12:52:43.338Z"
   },
   {
    "duration": 14,
    "start_time": "2022-02-16T12:52:43.369Z"
   },
   {
    "duration": 22,
    "start_time": "2022-02-16T12:55:48.787Z"
   },
   {
    "duration": 5,
    "start_time": "2022-02-16T13:00:40.789Z"
   },
   {
    "duration": 6,
    "start_time": "2022-02-16T13:00:44.965Z"
   },
   {
    "duration": 310,
    "start_time": "2022-02-16T13:22:03.295Z"
   },
   {
    "duration": 11,
    "start_time": "2022-02-16T13:22:15.465Z"
   },
   {
    "duration": 10,
    "start_time": "2022-02-16T13:22:37.384Z"
   },
   {
    "duration": 10,
    "start_time": "2022-02-16T13:23:18.816Z"
   },
   {
    "duration": 9,
    "start_time": "2022-02-16T13:23:45.384Z"
   },
   {
    "duration": 5,
    "start_time": "2022-02-16T14:12:32.519Z"
   },
   {
    "duration": 7,
    "start_time": "2022-02-16T14:13:45.143Z"
   },
   {
    "duration": 1298,
    "start_time": "2022-02-16T14:18:16.232Z"
   },
   {
    "duration": 271,
    "start_time": "2022-02-16T14:19:05.355Z"
   },
   {
    "duration": 10,
    "start_time": "2022-02-16T14:19:38.335Z"
   },
   {
    "duration": 7,
    "start_time": "2022-02-16T14:19:43.199Z"
   },
   {
    "duration": 5,
    "start_time": "2022-02-16T14:20:06.616Z"
   },
   {
    "duration": 4,
    "start_time": "2022-02-16T14:20:42.334Z"
   },
   {
    "duration": 548,
    "start_time": "2022-02-16T14:20:42.340Z"
   },
   {
    "duration": 30,
    "start_time": "2022-02-16T14:20:42.891Z"
   },
   {
    "duration": 174,
    "start_time": "2022-02-16T14:20:42.933Z"
   },
   {
    "duration": 101,
    "start_time": "2022-02-16T14:20:43.109Z"
   },
   {
    "duration": 123,
    "start_time": "2022-02-16T14:20:43.213Z"
   },
   {
    "duration": 15,
    "start_time": "2022-02-16T14:20:43.340Z"
   },
   {
    "duration": 119,
    "start_time": "2022-02-16T14:20:43.358Z"
   },
   {
    "duration": 5,
    "start_time": "2022-02-16T14:20:43.479Z"
   },
   {
    "duration": 85,
    "start_time": "2022-02-16T14:20:43.486Z"
   },
   {
    "duration": 6,
    "start_time": "2022-02-16T14:20:43.573Z"
   },
   {
    "duration": 89,
    "start_time": "2022-02-16T14:20:43.582Z"
   },
   {
    "duration": 7,
    "start_time": "2022-02-16T14:20:43.674Z"
   },
   {
    "duration": 15,
    "start_time": "2022-02-16T14:20:43.683Z"
   },
   {
    "duration": 53,
    "start_time": "2022-02-16T14:20:43.701Z"
   },
   {
    "duration": 45,
    "start_time": "2022-02-16T14:20:43.757Z"
   },
   {
    "duration": 24,
    "start_time": "2022-02-16T14:20:43.832Z"
   },
   {
    "duration": 40,
    "start_time": "2022-02-16T14:20:43.858Z"
   },
   {
    "duration": 32,
    "start_time": "2022-02-16T14:20:43.902Z"
   },
   {
    "duration": 26,
    "start_time": "2022-02-16T14:20:43.936Z"
   },
   {
    "duration": 8,
    "start_time": "2022-02-16T14:20:43.965Z"
   },
   {
    "duration": 15,
    "start_time": "2022-02-16T14:20:43.976Z"
   },
   {
    "duration": 43,
    "start_time": "2022-02-16T14:20:43.993Z"
   },
   {
    "duration": 7,
    "start_time": "2022-02-16T14:20:44.039Z"
   },
   {
    "duration": 7,
    "start_time": "2022-02-16T14:21:13.736Z"
   },
   {
    "duration": 42,
    "start_time": "2022-02-16T14:21:25.529Z"
   },
   {
    "duration": 10,
    "start_time": "2022-02-16T14:22:34.209Z"
   },
   {
    "duration": 6,
    "start_time": "2022-02-16T14:22:37.912Z"
   },
   {
    "duration": 13,
    "start_time": "2022-02-16T14:23:22.849Z"
   },
   {
    "duration": 12,
    "start_time": "2022-02-16T14:24:37.656Z"
   },
   {
    "duration": 6,
    "start_time": "2022-02-16T14:24:42.768Z"
   },
   {
    "duration": 4,
    "start_time": "2022-02-16T14:24:50.926Z"
   },
   {
    "duration": 604,
    "start_time": "2022-02-16T14:24:50.933Z"
   },
   {
    "duration": 30,
    "start_time": "2022-02-16T14:24:51.541Z"
   },
   {
    "duration": 207,
    "start_time": "2022-02-16T14:24:51.573Z"
   },
   {
    "duration": 108,
    "start_time": "2022-02-16T14:24:51.783Z"
   },
   {
    "duration": 128,
    "start_time": "2022-02-16T14:24:51.893Z"
   },
   {
    "duration": 16,
    "start_time": "2022-02-16T14:24:52.032Z"
   },
   {
    "duration": 139,
    "start_time": "2022-02-16T14:24:52.052Z"
   },
   {
    "duration": 7,
    "start_time": "2022-02-16T14:24:52.194Z"
   },
   {
    "duration": 89,
    "start_time": "2022-02-16T14:24:52.204Z"
   },
   {
    "duration": 9,
    "start_time": "2022-02-16T14:24:52.295Z"
   },
   {
    "duration": 107,
    "start_time": "2022-02-16T14:24:52.307Z"
   },
   {
    "duration": 20,
    "start_time": "2022-02-16T14:24:52.416Z"
   },
   {
    "duration": 21,
    "start_time": "2022-02-16T14:24:52.439Z"
   },
   {
    "duration": 30,
    "start_time": "2022-02-16T14:24:52.463Z"
   },
   {
    "duration": 104,
    "start_time": "2022-02-16T14:24:52.495Z"
   },
   {
    "duration": 61,
    "start_time": "2022-02-16T14:24:52.602Z"
   },
   {
    "duration": 74,
    "start_time": "2022-02-16T14:24:52.666Z"
   },
   {
    "duration": 9,
    "start_time": "2022-02-16T14:24:52.746Z"
   },
   {
    "duration": 30,
    "start_time": "2022-02-16T14:24:52.758Z"
   },
   {
    "duration": 42,
    "start_time": "2022-02-16T14:24:52.791Z"
   },
   {
    "duration": 20,
    "start_time": "2022-02-16T14:24:52.835Z"
   },
   {
    "duration": 13,
    "start_time": "2022-02-16T14:24:52.857Z"
   },
   {
    "duration": 5,
    "start_time": "2022-02-16T14:24:52.873Z"
   },
   {
    "duration": 75,
    "start_time": "2022-02-16T14:24:52.880Z"
   },
   {
    "duration": 12,
    "start_time": "2022-02-16T14:27:34.905Z"
   },
   {
    "duration": 6,
    "start_time": "2022-02-16T14:27:37.017Z"
   },
   {
    "duration": 40,
    "start_time": "2022-02-16T14:27:38.138Z"
   },
   {
    "duration": 12,
    "start_time": "2022-02-16T14:28:56.295Z"
   },
   {
    "duration": 14,
    "start_time": "2022-02-16T14:29:18.569Z"
   },
   {
    "duration": 6,
    "start_time": "2022-02-16T14:29:27.401Z"
   },
   {
    "duration": 14,
    "start_time": "2022-02-16T14:30:13.145Z"
   },
   {
    "duration": 12,
    "start_time": "2022-02-16T14:30:42.177Z"
   },
   {
    "duration": 5,
    "start_time": "2022-02-16T14:30:45.321Z"
   },
   {
    "duration": 91,
    "start_time": "2022-02-16T14:31:01.458Z"
   },
   {
    "duration": 12,
    "start_time": "2022-02-16T14:31:05.722Z"
   },
   {
    "duration": 753,
    "start_time": "2022-02-16T14:32:31.540Z"
   },
   {
    "duration": 562,
    "start_time": "2022-02-16T14:32:32.296Z"
   },
   {
    "duration": 39,
    "start_time": "2022-02-16T14:32:32.861Z"
   },
   {
    "duration": 197,
    "start_time": "2022-02-16T14:32:32.902Z"
   },
   {
    "duration": 103,
    "start_time": "2022-02-16T14:32:33.102Z"
   },
   {
    "duration": 124,
    "start_time": "2022-02-16T14:32:33.207Z"
   },
   {
    "duration": 14,
    "start_time": "2022-02-16T14:32:33.334Z"
   },
   {
    "duration": 136,
    "start_time": "2022-02-16T14:32:33.352Z"
   },
   {
    "duration": 6,
    "start_time": "2022-02-16T14:32:33.491Z"
   },
   {
    "duration": 92,
    "start_time": "2022-02-16T14:32:33.501Z"
   },
   {
    "duration": 9,
    "start_time": "2022-02-16T14:32:33.596Z"
   },
   {
    "duration": 90,
    "start_time": "2022-02-16T14:32:33.608Z"
   },
   {
    "duration": 31,
    "start_time": "2022-02-16T14:32:33.701Z"
   },
   {
    "duration": 14,
    "start_time": "2022-02-16T14:32:33.734Z"
   },
   {
    "duration": 26,
    "start_time": "2022-02-16T14:32:33.750Z"
   },
   {
    "duration": 83,
    "start_time": "2022-02-16T14:32:33.778Z"
   },
   {
    "duration": 24,
    "start_time": "2022-02-16T14:32:33.864Z"
   },
   {
    "duration": 62,
    "start_time": "2022-02-16T14:32:33.890Z"
   },
   {
    "duration": 9,
    "start_time": "2022-02-16T14:32:33.954Z"
   },
   {
    "duration": 31,
    "start_time": "2022-02-16T14:32:33.965Z"
   },
   {
    "duration": 43,
    "start_time": "2022-02-16T14:32:33.999Z"
   },
   {
    "duration": 14,
    "start_time": "2022-02-16T14:32:34.044Z"
   },
   {
    "duration": 610,
    "start_time": "2022-02-16T20:15:31.477Z"
   },
   {
    "duration": 516,
    "start_time": "2022-02-16T20:15:32.089Z"
   },
   {
    "duration": 24,
    "start_time": "2022-02-16T20:15:32.607Z"
   },
   {
    "duration": 125,
    "start_time": "2022-02-16T20:15:32.633Z"
   },
   {
    "duration": 54,
    "start_time": "2022-02-16T20:15:32.760Z"
   },
   {
    "duration": 84,
    "start_time": "2022-02-16T20:15:32.816Z"
   },
   {
    "duration": 9,
    "start_time": "2022-02-16T20:15:32.901Z"
   },
   {
    "duration": 80,
    "start_time": "2022-02-16T20:15:32.912Z"
   },
   {
    "duration": 4,
    "start_time": "2022-02-16T20:15:32.995Z"
   },
   {
    "duration": 59,
    "start_time": "2022-02-16T20:15:33.001Z"
   },
   {
    "duration": 6,
    "start_time": "2022-02-16T20:15:33.062Z"
   },
   {
    "duration": 43,
    "start_time": "2022-02-16T20:15:33.069Z"
   },
   {
    "duration": 5,
    "start_time": "2022-02-16T20:15:33.114Z"
   },
   {
    "duration": 8,
    "start_time": "2022-02-16T20:15:33.146Z"
   },
   {
    "duration": 18,
    "start_time": "2022-02-16T20:15:33.155Z"
   },
   {
    "duration": 25,
    "start_time": "2022-02-16T20:15:33.174Z"
   },
   {
    "duration": 13,
    "start_time": "2022-02-16T20:15:33.201Z"
   },
   {
    "duration": 47,
    "start_time": "2022-02-16T20:15:33.215Z"
   },
   {
    "duration": 5,
    "start_time": "2022-02-16T20:15:33.263Z"
   },
   {
    "duration": 16,
    "start_time": "2022-02-16T20:15:33.270Z"
   },
   {
    "duration": 7,
    "start_time": "2022-02-16T20:15:33.288Z"
   },
   {
    "duration": 94,
    "start_time": "2022-02-16T20:15:33.296Z"
   },
   {
    "duration": 4,
    "start_time": "2022-02-16T20:17:12.556Z"
   },
   {
    "duration": 198,
    "start_time": "2022-02-16T20:18:01.993Z"
   },
   {
    "duration": 222,
    "start_time": "2022-02-16T20:18:22.840Z"
   },
   {
    "duration": 220,
    "start_time": "2022-02-16T20:20:14.607Z"
   },
   {
    "duration": 216,
    "start_time": "2022-02-16T20:20:57.312Z"
   },
   {
    "duration": 206,
    "start_time": "2022-02-16T20:22:15.705Z"
   },
   {
    "duration": 208,
    "start_time": "2022-02-16T20:22:33.983Z"
   },
   {
    "duration": 514,
    "start_time": "2022-02-16T20:22:45.917Z"
   },
   {
    "duration": 214,
    "start_time": "2022-02-16T20:22:52.818Z"
   },
   {
    "duration": 612,
    "start_time": "2022-02-16T20:24:58.422Z"
   },
   {
    "duration": 462,
    "start_time": "2022-02-16T20:24:59.036Z"
   },
   {
    "duration": 28,
    "start_time": "2022-02-16T20:24:59.500Z"
   },
   {
    "duration": 138,
    "start_time": "2022-02-16T20:24:59.530Z"
   },
   {
    "duration": 61,
    "start_time": "2022-02-16T20:24:59.670Z"
   },
   {
    "duration": 86,
    "start_time": "2022-02-16T20:24:59.732Z"
   },
   {
    "duration": 26,
    "start_time": "2022-02-16T20:24:59.820Z"
   },
   {
    "duration": 74,
    "start_time": "2022-02-16T20:24:59.848Z"
   },
   {
    "duration": 4,
    "start_time": "2022-02-16T20:24:59.945Z"
   },
   {
    "duration": 43,
    "start_time": "2022-02-16T20:24:59.951Z"
   },
   {
    "duration": 5,
    "start_time": "2022-02-16T20:24:59.996Z"
   },
   {
    "duration": 67,
    "start_time": "2022-02-16T20:25:00.002Z"
   },
   {
    "duration": 4,
    "start_time": "2022-02-16T20:25:00.071Z"
   },
   {
    "duration": 19,
    "start_time": "2022-02-16T20:25:00.077Z"
   },
   {
    "duration": 21,
    "start_time": "2022-02-16T20:25:00.097Z"
   },
   {
    "duration": 44,
    "start_time": "2022-02-16T20:25:00.120Z"
   },
   {
    "duration": 15,
    "start_time": "2022-02-16T20:25:00.166Z"
   },
   {
    "duration": 24,
    "start_time": "2022-02-16T20:25:00.182Z"
   },
   {
    "duration": 5,
    "start_time": "2022-02-16T20:25:00.208Z"
   },
   {
    "duration": 41,
    "start_time": "2022-02-16T20:25:00.215Z"
   },
   {
    "duration": 8,
    "start_time": "2022-02-16T20:25:00.257Z"
   },
   {
    "duration": 241,
    "start_time": "2022-02-16T20:25:00.267Z"
   },
   {
    "duration": 340,
    "start_time": "2022-02-16T20:30:38.400Z"
   },
   {
    "duration": 11,
    "start_time": "2022-02-16T20:30:56.235Z"
   },
   {
    "duration": 12,
    "start_time": "2022-02-16T20:31:52.194Z"
   },
   {
    "duration": 232,
    "start_time": "2022-02-16T20:32:03.552Z"
   },
   {
    "duration": 529,
    "start_time": "2022-02-16T20:32:12.683Z"
   },
   {
    "duration": 421,
    "start_time": "2022-02-16T20:32:13.213Z"
   },
   {
    "duration": 25,
    "start_time": "2022-02-16T20:32:13.639Z"
   },
   {
    "duration": 127,
    "start_time": "2022-02-16T20:32:13.665Z"
   },
   {
    "duration": 71,
    "start_time": "2022-02-16T20:32:13.794Z"
   },
   {
    "duration": 84,
    "start_time": "2022-02-16T20:32:13.867Z"
   },
   {
    "duration": 9,
    "start_time": "2022-02-16T20:32:13.954Z"
   },
   {
    "duration": 87,
    "start_time": "2022-02-16T20:32:13.965Z"
   },
   {
    "duration": 4,
    "start_time": "2022-02-16T20:32:14.054Z"
   },
   {
    "duration": 40,
    "start_time": "2022-02-16T20:32:14.060Z"
   },
   {
    "duration": 4,
    "start_time": "2022-02-16T20:32:14.102Z"
   },
   {
    "duration": 75,
    "start_time": "2022-02-16T20:32:14.108Z"
   },
   {
    "duration": 5,
    "start_time": "2022-02-16T20:32:14.185Z"
   },
   {
    "duration": 18,
    "start_time": "2022-02-16T20:32:14.191Z"
   },
   {
    "duration": 43,
    "start_time": "2022-02-16T20:32:14.210Z"
   },
   {
    "duration": 16,
    "start_time": "2022-02-16T20:32:14.254Z"
   },
   {
    "duration": 24,
    "start_time": "2022-02-16T20:32:14.271Z"
   },
   {
    "duration": 6,
    "start_time": "2022-02-16T20:32:14.296Z"
   },
   {
    "duration": 44,
    "start_time": "2022-02-16T20:32:14.303Z"
   },
   {
    "duration": 7,
    "start_time": "2022-02-16T20:32:14.348Z"
   },
   {
    "duration": 218,
    "start_time": "2022-02-16T20:32:14.357Z"
   },
   {
    "duration": 579,
    "start_time": "2022-02-16T20:33:01.429Z"
   },
   {
    "duration": 486,
    "start_time": "2022-02-16T20:33:19.817Z"
   },
   {
    "duration": 3,
    "start_time": "2022-02-16T20:33:35.361Z"
   },
   {
    "duration": 415,
    "start_time": "2022-02-16T20:33:35.365Z"
   },
   {
    "duration": 21,
    "start_time": "2022-02-16T20:33:35.782Z"
   },
   {
    "duration": 108,
    "start_time": "2022-02-16T20:33:35.804Z"
   },
   {
    "duration": 74,
    "start_time": "2022-02-16T20:33:35.914Z"
   },
   {
    "duration": 96,
    "start_time": "2022-02-16T20:33:35.990Z"
   },
   {
    "duration": 12,
    "start_time": "2022-02-16T20:33:36.089Z"
   },
   {
    "duration": 117,
    "start_time": "2022-02-16T20:33:36.103Z"
   },
   {
    "duration": 11,
    "start_time": "2022-02-16T20:33:36.226Z"
   },
   {
    "duration": 195,
    "start_time": "2022-02-16T20:33:36.242Z"
   },
   {
    "duration": 120,
    "start_time": "2022-02-16T20:33:36.442Z"
   },
   {
    "duration": 165,
    "start_time": "2022-02-16T20:33:36.568Z"
   },
   {
    "duration": 5,
    "start_time": "2022-02-16T20:33:36.735Z"
   },
   {
    "duration": 17,
    "start_time": "2022-02-16T20:33:36.742Z"
   },
   {
    "duration": 34,
    "start_time": "2022-02-16T20:33:36.760Z"
   },
   {
    "duration": 15,
    "start_time": "2022-02-16T20:33:36.796Z"
   },
   {
    "duration": 34,
    "start_time": "2022-02-16T20:33:36.813Z"
   },
   {
    "duration": 5,
    "start_time": "2022-02-16T20:33:36.848Z"
   },
   {
    "duration": 19,
    "start_time": "2022-02-16T20:33:36.856Z"
   },
   {
    "duration": 8,
    "start_time": "2022-02-16T20:33:36.876Z"
   },
   {
    "duration": 631,
    "start_time": "2022-02-16T20:33:36.886Z"
   },
   {
    "duration": 216,
    "start_time": "2022-02-16T20:33:56.321Z"
   },
   {
    "duration": 206,
    "start_time": "2022-02-16T20:34:13.541Z"
   },
   {
    "duration": 212,
    "start_time": "2022-02-16T20:34:59.281Z"
   },
   {
    "duration": 2,
    "start_time": "2022-02-16T20:37:51.516Z"
   },
   {
    "duration": 406,
    "start_time": "2022-02-16T20:37:51.521Z"
   },
   {
    "duration": 16,
    "start_time": "2022-02-16T20:37:51.928Z"
   },
   {
    "duration": 101,
    "start_time": "2022-02-16T20:37:51.946Z"
   },
   {
    "duration": 53,
    "start_time": "2022-02-16T20:37:52.048Z"
   },
   {
    "duration": 79,
    "start_time": "2022-02-16T20:37:52.103Z"
   },
   {
    "duration": 8,
    "start_time": "2022-02-16T20:37:52.183Z"
   },
   {
    "duration": 67,
    "start_time": "2022-02-16T20:37:52.193Z"
   },
   {
    "duration": 3,
    "start_time": "2022-02-16T20:37:52.261Z"
   },
   {
    "duration": 42,
    "start_time": "2022-02-16T20:37:52.267Z"
   },
   {
    "duration": 5,
    "start_time": "2022-02-16T20:37:52.311Z"
   },
   {
    "duration": 66,
    "start_time": "2022-02-16T20:37:52.318Z"
   },
   {
    "duration": 5,
    "start_time": "2022-02-16T20:37:52.386Z"
   },
   {
    "duration": 16,
    "start_time": "2022-02-16T20:37:52.393Z"
   },
   {
    "duration": 47,
    "start_time": "2022-02-16T20:37:52.411Z"
   },
   {
    "duration": 13,
    "start_time": "2022-02-16T20:37:52.460Z"
   },
   {
    "duration": 21,
    "start_time": "2022-02-16T20:37:52.475Z"
   },
   {
    "duration": 4,
    "start_time": "2022-02-16T20:37:52.498Z"
   },
   {
    "duration": 43,
    "start_time": "2022-02-16T20:37:52.504Z"
   },
   {
    "duration": 8,
    "start_time": "2022-02-16T20:37:52.548Z"
   },
   {
    "duration": 217,
    "start_time": "2022-02-16T20:37:52.557Z"
   },
   {
    "duration": 103,
    "start_time": "2022-02-16T20:41:14.730Z"
   },
   {
    "duration": 203,
    "start_time": "2022-02-16T20:41:27.494Z"
   },
   {
    "duration": 18,
    "start_time": "2022-02-16T20:42:04.251Z"
   },
   {
    "duration": 594,
    "start_time": "2022-02-16T20:42:43.454Z"
   },
   {
    "duration": 421,
    "start_time": "2022-02-16T20:42:44.050Z"
   },
   {
    "duration": 22,
    "start_time": "2022-02-16T20:42:44.472Z"
   },
   {
    "duration": 112,
    "start_time": "2022-02-16T20:42:44.496Z"
   },
   {
    "duration": 67,
    "start_time": "2022-02-16T20:42:44.609Z"
   },
   {
    "duration": 70,
    "start_time": "2022-02-16T20:42:44.677Z"
   },
   {
    "duration": 10,
    "start_time": "2022-02-16T20:42:44.748Z"
   },
   {
    "duration": 87,
    "start_time": "2022-02-16T20:42:44.761Z"
   },
   {
    "duration": 3,
    "start_time": "2022-02-16T20:42:44.850Z"
   },
   {
    "duration": 44,
    "start_time": "2022-02-16T20:42:44.854Z"
   },
   {
    "duration": 4,
    "start_time": "2022-02-16T20:42:44.900Z"
   },
   {
    "duration": 59,
    "start_time": "2022-02-16T20:42:44.905Z"
   },
   {
    "duration": 4,
    "start_time": "2022-02-16T20:42:44.966Z"
   },
   {
    "duration": 19,
    "start_time": "2022-02-16T20:42:44.972Z"
   },
   {
    "duration": 28,
    "start_time": "2022-02-16T20:42:44.993Z"
   },
   {
    "duration": 35,
    "start_time": "2022-02-16T20:42:45.023Z"
   },
   {
    "duration": 22,
    "start_time": "2022-02-16T20:42:45.059Z"
   },
   {
    "duration": 6,
    "start_time": "2022-02-16T20:42:45.083Z"
   },
   {
    "duration": 19,
    "start_time": "2022-02-16T20:42:45.090Z"
   },
   {
    "duration": 36,
    "start_time": "2022-02-16T20:42:45.111Z"
   },
   {
    "duration": 213,
    "start_time": "2022-02-16T20:42:45.148Z"
   },
   {
    "duration": 12,
    "start_time": "2022-02-16T20:42:45.363Z"
   },
   {
    "duration": 8,
    "start_time": "2022-02-16T20:43:31.577Z"
   },
   {
    "duration": 8,
    "start_time": "2022-02-16T20:44:20.266Z"
   },
   {
    "duration": 8,
    "start_time": "2022-02-16T20:44:58.018Z"
   },
   {
    "duration": 745,
    "start_time": "2022-02-16T20:45:12.941Z"
   },
   {
    "duration": 99,
    "start_time": "2022-02-16T20:45:20.461Z"
   },
   {
    "duration": 713,
    "start_time": "2022-02-16T20:45:25.073Z"
   },
   {
    "duration": 7,
    "start_time": "2022-02-16T20:45:37.914Z"
   },
   {
    "duration": 8,
    "start_time": "2022-02-16T20:45:53.498Z"
   },
   {
    "duration": 8,
    "start_time": "2022-02-16T20:46:11.033Z"
   },
   {
    "duration": 12,
    "start_time": "2022-02-16T20:46:27.312Z"
   },
   {
    "duration": 8,
    "start_time": "2022-02-16T20:48:08.136Z"
   },
   {
    "duration": 2,
    "start_time": "2022-02-16T20:49:15.210Z"
   },
   {
    "duration": 415,
    "start_time": "2022-02-16T20:49:15.214Z"
   },
   {
    "duration": 17,
    "start_time": "2022-02-16T20:49:15.631Z"
   },
   {
    "duration": 106,
    "start_time": "2022-02-16T20:49:15.650Z"
   },
   {
    "duration": 54,
    "start_time": "2022-02-16T20:49:15.758Z"
   },
   {
    "duration": 79,
    "start_time": "2022-02-16T20:49:15.814Z"
   },
   {
    "duration": 10,
    "start_time": "2022-02-16T20:49:15.896Z"
   },
   {
    "duration": 77,
    "start_time": "2022-02-16T20:49:15.908Z"
   },
   {
    "duration": 5,
    "start_time": "2022-02-16T20:49:15.987Z"
   },
   {
    "duration": 52,
    "start_time": "2022-02-16T20:49:15.994Z"
   },
   {
    "duration": 4,
    "start_time": "2022-02-16T20:49:16.048Z"
   },
   {
    "duration": 40,
    "start_time": "2022-02-16T20:49:16.053Z"
   },
   {
    "duration": 5,
    "start_time": "2022-02-16T20:49:16.094Z"
   },
   {
    "duration": 16,
    "start_time": "2022-02-16T20:49:16.100Z"
   },
   {
    "duration": 51,
    "start_time": "2022-02-16T20:49:16.117Z"
   },
   {
    "duration": 14,
    "start_time": "2022-02-16T20:49:16.169Z"
   },
   {
    "duration": 22,
    "start_time": "2022-02-16T20:49:16.184Z"
   },
   {
    "duration": 5,
    "start_time": "2022-02-16T20:49:16.207Z"
   },
   {
    "duration": 42,
    "start_time": "2022-02-16T20:49:16.214Z"
   },
   {
    "duration": 6,
    "start_time": "2022-02-16T20:49:16.258Z"
   },
   {
    "duration": 214,
    "start_time": "2022-02-16T20:49:16.265Z"
   },
   {
    "duration": 12,
    "start_time": "2022-02-16T20:49:16.480Z"
   },
   {
    "duration": 204,
    "start_time": "2022-02-16T20:50:15.021Z"
   },
   {
    "duration": 2,
    "start_time": "2022-02-16T20:50:20.625Z"
   },
   {
    "duration": 438,
    "start_time": "2022-02-16T20:50:20.629Z"
   },
   {
    "duration": 24,
    "start_time": "2022-02-16T20:50:21.069Z"
   },
   {
    "duration": 127,
    "start_time": "2022-02-16T20:50:21.095Z"
   },
   {
    "duration": 62,
    "start_time": "2022-02-16T20:50:21.224Z"
   },
   {
    "duration": 67,
    "start_time": "2022-02-16T20:50:21.288Z"
   },
   {
    "duration": 9,
    "start_time": "2022-02-16T20:50:21.357Z"
   },
   {
    "duration": 80,
    "start_time": "2022-02-16T20:50:21.367Z"
   },
   {
    "duration": 4,
    "start_time": "2022-02-16T20:50:21.450Z"
   },
   {
    "duration": 46,
    "start_time": "2022-02-16T20:50:21.456Z"
   },
   {
    "duration": 5,
    "start_time": "2022-02-16T20:50:21.503Z"
   },
   {
    "duration": 63,
    "start_time": "2022-02-16T20:50:21.509Z"
   },
   {
    "duration": 5,
    "start_time": "2022-02-16T20:50:21.574Z"
   },
   {
    "duration": 20,
    "start_time": "2022-02-16T20:50:21.581Z"
   },
   {
    "duration": 50,
    "start_time": "2022-02-16T20:50:21.602Z"
   },
   {
    "duration": 14,
    "start_time": "2022-02-16T20:50:21.654Z"
   },
   {
    "duration": 20,
    "start_time": "2022-02-16T20:50:21.670Z"
   },
   {
    "duration": 6,
    "start_time": "2022-02-16T20:50:21.692Z"
   },
   {
    "duration": 49,
    "start_time": "2022-02-16T20:50:21.699Z"
   },
   {
    "duration": 8,
    "start_time": "2022-02-16T20:50:21.749Z"
   },
   {
    "duration": 219,
    "start_time": "2022-02-16T20:50:21.759Z"
   },
   {
    "duration": 11,
    "start_time": "2022-02-16T20:50:21.980Z"
   },
   {
    "duration": 11,
    "start_time": "2022-02-16T20:50:38.445Z"
   },
   {
    "duration": 360,
    "start_time": "2022-02-16T20:51:33.403Z"
   },
   {
    "duration": 16,
    "start_time": "2022-02-16T20:51:44.322Z"
   },
   {
    "duration": 199,
    "start_time": "2022-02-16T20:51:56.298Z"
   },
   {
    "duration": 197,
    "start_time": "2022-02-16T20:52:06.627Z"
   },
   {
    "duration": 2,
    "start_time": "2022-02-16T20:52:11.079Z"
   },
   {
    "duration": 413,
    "start_time": "2022-02-16T20:52:11.083Z"
   },
   {
    "duration": 16,
    "start_time": "2022-02-16T20:52:11.498Z"
   },
   {
    "duration": 96,
    "start_time": "2022-02-16T20:52:11.515Z"
   },
   {
    "duration": 61,
    "start_time": "2022-02-16T20:52:11.613Z"
   },
   {
    "duration": 59,
    "start_time": "2022-02-16T20:52:11.675Z"
   },
   {
    "duration": 9,
    "start_time": "2022-02-16T20:52:11.746Z"
   },
   {
    "duration": 61,
    "start_time": "2022-02-16T20:52:11.757Z"
   },
   {
    "duration": 3,
    "start_time": "2022-02-16T20:52:11.820Z"
   },
   {
    "duration": 63,
    "start_time": "2022-02-16T20:52:11.825Z"
   },
   {
    "duration": 5,
    "start_time": "2022-02-16T20:52:11.890Z"
   },
   {
    "duration": 61,
    "start_time": "2022-02-16T20:52:11.897Z"
   },
   {
    "duration": 6,
    "start_time": "2022-02-16T20:52:11.960Z"
   },
   {
    "duration": 21,
    "start_time": "2022-02-16T20:52:11.967Z"
   },
   {
    "duration": 26,
    "start_time": "2022-02-16T20:52:11.990Z"
   },
   {
    "duration": 34,
    "start_time": "2022-02-16T20:52:12.017Z"
   },
   {
    "duration": 29,
    "start_time": "2022-02-16T20:52:12.052Z"
   },
   {
    "duration": 7,
    "start_time": "2022-02-16T20:52:12.082Z"
   },
   {
    "duration": 35,
    "start_time": "2022-02-16T20:52:12.090Z"
   },
   {
    "duration": 7,
    "start_time": "2022-02-16T20:52:12.126Z"
   },
   {
    "duration": 208,
    "start_time": "2022-02-16T20:52:12.134Z"
   },
   {
    "duration": 17,
    "start_time": "2022-02-16T20:52:12.344Z"
   },
   {
    "duration": 14,
    "start_time": "2022-02-16T20:52:12.364Z"
   },
   {
    "duration": 277,
    "start_time": "2022-02-16T20:52:39.855Z"
   },
   {
    "duration": 6,
    "start_time": "2022-02-16T20:52:44.621Z"
   },
   {
    "duration": 5,
    "start_time": "2022-02-16T20:53:00.173Z"
   },
   {
    "duration": 552,
    "start_time": "2022-02-16T20:53:11.566Z"
   },
   {
    "duration": 409,
    "start_time": "2022-02-16T20:53:12.120Z"
   },
   {
    "duration": 23,
    "start_time": "2022-02-16T20:53:12.531Z"
   },
   {
    "duration": 121,
    "start_time": "2022-02-16T20:53:12.555Z"
   },
   {
    "duration": 56,
    "start_time": "2022-02-16T20:53:12.678Z"
   },
   {
    "duration": 74,
    "start_time": "2022-02-16T20:53:12.736Z"
   },
   {
    "duration": 10,
    "start_time": "2022-02-16T20:53:12.812Z"
   },
   {
    "duration": 71,
    "start_time": "2022-02-16T20:53:12.847Z"
   },
   {
    "duration": 5,
    "start_time": "2022-02-16T20:53:12.920Z"
   },
   {
    "duration": 40,
    "start_time": "2022-02-16T20:53:12.946Z"
   },
   {
    "duration": 6,
    "start_time": "2022-02-16T20:53:12.988Z"
   },
   {
    "duration": 61,
    "start_time": "2022-02-16T20:53:12.996Z"
   },
   {
    "duration": 5,
    "start_time": "2022-02-16T20:53:13.058Z"
   },
   {
    "duration": 20,
    "start_time": "2022-02-16T20:53:13.064Z"
   },
   {
    "duration": 26,
    "start_time": "2022-02-16T20:53:13.085Z"
   },
   {
    "duration": 38,
    "start_time": "2022-02-16T20:53:13.113Z"
   },
   {
    "duration": 24,
    "start_time": "2022-02-16T20:53:13.152Z"
   },
   {
    "duration": 5,
    "start_time": "2022-02-16T20:53:13.177Z"
   },
   {
    "duration": 19,
    "start_time": "2022-02-16T20:53:13.183Z"
   },
   {
    "duration": 7,
    "start_time": "2022-02-16T20:53:13.203Z"
   },
   {
    "duration": 224,
    "start_time": "2022-02-16T20:53:13.212Z"
   },
   {
    "duration": 20,
    "start_time": "2022-02-16T20:53:13.437Z"
   },
   {
    "duration": 9,
    "start_time": "2022-02-16T20:53:13.459Z"
   },
   {
    "duration": 14,
    "start_time": "2022-02-16T20:53:35.936Z"
   },
   {
    "duration": 5,
    "start_time": "2022-02-16T20:53:57.923Z"
   },
   {
    "duration": 339,
    "start_time": "2022-02-16T21:00:44.410Z"
   },
   {
    "duration": 6,
    "start_time": "2022-02-16T21:01:36.538Z"
   },
   {
    "duration": 271,
    "start_time": "2022-02-16T21:01:48.858Z"
   },
   {
    "duration": 6,
    "start_time": "2022-02-16T21:01:54.740Z"
   },
   {
    "duration": 6,
    "start_time": "2022-02-16T21:01:59.163Z"
   },
   {
    "duration": 9,
    "start_time": "2022-02-16T21:02:31.510Z"
   },
   {
    "duration": 17,
    "start_time": "2022-02-16T21:02:35.952Z"
   },
   {
    "duration": 210,
    "start_time": "2022-02-16T21:04:25.603Z"
   },
   {
    "duration": 3,
    "start_time": "2022-02-16T21:06:00.196Z"
   },
   {
    "duration": 462,
    "start_time": "2022-02-16T21:06:00.200Z"
   },
   {
    "duration": 22,
    "start_time": "2022-02-16T21:06:00.664Z"
   },
   {
    "duration": 130,
    "start_time": "2022-02-16T21:06:00.689Z"
   },
   {
    "duration": 74,
    "start_time": "2022-02-16T21:06:00.821Z"
   },
   {
    "duration": 89,
    "start_time": "2022-02-16T21:06:00.897Z"
   },
   {
    "duration": 10,
    "start_time": "2022-02-16T21:06:00.988Z"
   },
   {
    "duration": 89,
    "start_time": "2022-02-16T21:06:01.000Z"
   },
   {
    "duration": 4,
    "start_time": "2022-02-16T21:06:01.091Z"
   },
   {
    "duration": 60,
    "start_time": "2022-02-16T21:06:01.097Z"
   },
   {
    "duration": 6,
    "start_time": "2022-02-16T21:06:01.158Z"
   },
   {
    "duration": 63,
    "start_time": "2022-02-16T21:06:01.165Z"
   },
   {
    "duration": 5,
    "start_time": "2022-02-16T21:06:01.230Z"
   },
   {
    "duration": 34,
    "start_time": "2022-02-16T21:06:01.236Z"
   },
   {
    "duration": 28,
    "start_time": "2022-02-16T21:06:01.271Z"
   },
   {
    "duration": 14,
    "start_time": "2022-02-16T21:06:01.300Z"
   },
   {
    "duration": 43,
    "start_time": "2022-02-16T21:06:01.316Z"
   },
   {
    "duration": 6,
    "start_time": "2022-02-16T21:06:01.361Z"
   },
   {
    "duration": 36,
    "start_time": "2022-02-16T21:06:01.368Z"
   },
   {
    "duration": 26,
    "start_time": "2022-02-16T21:06:01.406Z"
   },
   {
    "duration": 225,
    "start_time": "2022-02-16T21:06:01.434Z"
   },
   {
    "duration": 17,
    "start_time": "2022-02-16T21:06:01.661Z"
   },
   {
    "duration": 22,
    "start_time": "2022-02-16T21:06:01.679Z"
   },
   {
    "duration": 6,
    "start_time": "2022-02-16T21:06:23.752Z"
   },
   {
    "duration": 232,
    "start_time": "2022-02-16T21:07:31.471Z"
   },
   {
    "duration": 6,
    "start_time": "2022-02-16T21:08:08.467Z"
   },
   {
    "duration": 14,
    "start_time": "2022-02-16T21:15:06.581Z"
   },
   {
    "duration": 576,
    "start_time": "2022-02-16T21:15:20.598Z"
   },
   {
    "duration": 408,
    "start_time": "2022-02-16T21:15:21.175Z"
   },
   {
    "duration": 22,
    "start_time": "2022-02-16T21:15:21.585Z"
   },
   {
    "duration": 112,
    "start_time": "2022-02-16T21:15:21.609Z"
   },
   {
    "duration": 70,
    "start_time": "2022-02-16T21:15:21.723Z"
   },
   {
    "duration": 76,
    "start_time": "2022-02-16T21:15:21.794Z"
   },
   {
    "duration": 9,
    "start_time": "2022-02-16T21:15:21.871Z"
   },
   {
    "duration": 85,
    "start_time": "2022-02-16T21:15:21.882Z"
   },
   {
    "duration": 4,
    "start_time": "2022-02-16T21:15:21.969Z"
   },
   {
    "duration": 38,
    "start_time": "2022-02-16T21:15:21.975Z"
   },
   {
    "duration": 5,
    "start_time": "2022-02-16T21:15:22.014Z"
   },
   {
    "duration": 43,
    "start_time": "2022-02-16T21:15:22.046Z"
   },
   {
    "duration": 5,
    "start_time": "2022-02-16T21:15:22.090Z"
   },
   {
    "duration": 15,
    "start_time": "2022-02-16T21:15:22.096Z"
   },
   {
    "duration": 47,
    "start_time": "2022-02-16T21:15:22.112Z"
   },
   {
    "duration": 14,
    "start_time": "2022-02-16T21:15:22.160Z"
   },
   {
    "duration": 21,
    "start_time": "2022-02-16T21:15:22.175Z"
   },
   {
    "duration": 4,
    "start_time": "2022-02-16T21:15:22.198Z"
   },
   {
    "duration": 48,
    "start_time": "2022-02-16T21:15:22.204Z"
   },
   {
    "duration": 5,
    "start_time": "2022-02-16T21:15:22.254Z"
   },
   {
    "duration": 222,
    "start_time": "2022-02-16T21:15:22.261Z"
   },
   {
    "duration": 5,
    "start_time": "2022-02-16T21:15:22.485Z"
   },
   {
    "duration": 3,
    "start_time": "2022-02-16T21:16:21.175Z"
   },
   {
    "duration": 409,
    "start_time": "2022-02-16T21:16:21.179Z"
   },
   {
    "duration": 16,
    "start_time": "2022-02-16T21:16:21.590Z"
   },
   {
    "duration": 113,
    "start_time": "2022-02-16T21:16:21.607Z"
   },
   {
    "duration": 62,
    "start_time": "2022-02-16T21:16:21.722Z"
   },
   {
    "duration": 70,
    "start_time": "2022-02-16T21:16:21.785Z"
   },
   {
    "duration": 9,
    "start_time": "2022-02-16T21:16:21.857Z"
   },
   {
    "duration": 57,
    "start_time": "2022-02-16T21:16:21.867Z"
   },
   {
    "duration": 20,
    "start_time": "2022-02-16T21:16:21.927Z"
   },
   {
    "duration": 40,
    "start_time": "2022-02-16T21:16:21.949Z"
   },
   {
    "duration": 4,
    "start_time": "2022-02-16T21:16:21.990Z"
   },
   {
    "duration": 59,
    "start_time": "2022-02-16T21:16:21.996Z"
   },
   {
    "duration": 4,
    "start_time": "2022-02-16T21:16:22.057Z"
   },
   {
    "duration": 16,
    "start_time": "2022-02-16T21:16:22.062Z"
   },
   {
    "duration": 25,
    "start_time": "2022-02-16T21:16:22.079Z"
   },
   {
    "duration": 40,
    "start_time": "2022-02-16T21:16:22.106Z"
   },
   {
    "duration": 22,
    "start_time": "2022-02-16T21:16:22.148Z"
   },
   {
    "duration": 5,
    "start_time": "2022-02-16T21:16:22.172Z"
   },
   {
    "duration": 19,
    "start_time": "2022-02-16T21:16:22.178Z"
   },
   {
    "duration": 5,
    "start_time": "2022-02-16T21:16:22.199Z"
   },
   {
    "duration": 241,
    "start_time": "2022-02-16T21:16:22.206Z"
   },
   {
    "duration": 5,
    "start_time": "2022-02-16T21:16:22.448Z"
   },
   {
    "duration": 342,
    "start_time": "2022-02-16T21:18:53.612Z"
   },
   {
    "duration": 378,
    "start_time": "2022-02-16T21:19:17.835Z"
   },
   {
    "duration": 3,
    "start_time": "2022-02-16T21:19:32.257Z"
   },
   {
    "duration": 408,
    "start_time": "2022-02-16T21:19:32.262Z"
   },
   {
    "duration": 19,
    "start_time": "2022-02-16T21:19:32.672Z"
   },
   {
    "duration": 113,
    "start_time": "2022-02-16T21:19:32.692Z"
   },
   {
    "duration": 69,
    "start_time": "2022-02-16T21:19:32.806Z"
   },
   {
    "duration": 59,
    "start_time": "2022-02-16T21:19:32.876Z"
   },
   {
    "duration": 10,
    "start_time": "2022-02-16T21:19:32.945Z"
   },
   {
    "duration": 57,
    "start_time": "2022-02-16T21:19:32.958Z"
   },
   {
    "duration": 4,
    "start_time": "2022-02-16T21:19:33.017Z"
   },
   {
    "duration": 39,
    "start_time": "2022-02-16T21:19:33.046Z"
   },
   {
    "duration": 6,
    "start_time": "2022-02-16T21:19:33.087Z"
   },
   {
    "duration": 64,
    "start_time": "2022-02-16T21:19:33.094Z"
   },
   {
    "duration": 6,
    "start_time": "2022-02-16T21:19:33.159Z"
   },
   {
    "duration": 23,
    "start_time": "2022-02-16T21:19:33.166Z"
   },
   {
    "duration": 61,
    "start_time": "2022-02-16T21:19:33.190Z"
   },
   {
    "duration": 15,
    "start_time": "2022-02-16T21:19:33.253Z"
   },
   {
    "duration": 28,
    "start_time": "2022-02-16T21:19:33.269Z"
   },
   {
    "duration": 5,
    "start_time": "2022-02-16T21:19:33.298Z"
   },
   {
    "duration": 358,
    "start_time": "2022-02-16T21:19:33.305Z"
   },
   {
    "duration": -32,
    "start_time": "2022-02-16T21:19:33.697Z"
   },
   {
    "duration": -34,
    "start_time": "2022-02-16T21:19:33.700Z"
   },
   {
    "duration": -36,
    "start_time": "2022-02-16T21:19:33.703Z"
   },
   {
    "duration": 302,
    "start_time": "2022-02-16T21:19:51.322Z"
   },
   {
    "duration": 2,
    "start_time": "2022-02-16T21:20:32.915Z"
   },
   {
    "duration": 412,
    "start_time": "2022-02-16T21:20:32.919Z"
   },
   {
    "duration": 16,
    "start_time": "2022-02-16T21:20:33.333Z"
   },
   {
    "duration": 111,
    "start_time": "2022-02-16T21:20:33.350Z"
   },
   {
    "duration": 54,
    "start_time": "2022-02-16T21:20:33.463Z"
   },
   {
    "duration": 76,
    "start_time": "2022-02-16T21:20:33.518Z"
   },
   {
    "duration": 9,
    "start_time": "2022-02-16T21:20:33.596Z"
   },
   {
    "duration": 72,
    "start_time": "2022-02-16T21:20:33.607Z"
   },
   {
    "duration": 4,
    "start_time": "2022-02-16T21:20:33.680Z"
   },
   {
    "duration": 38,
    "start_time": "2022-02-16T21:20:33.685Z"
   },
   {
    "duration": 21,
    "start_time": "2022-02-16T21:20:33.725Z"
   },
   {
    "duration": 39,
    "start_time": "2022-02-16T21:20:33.747Z"
   },
   {
    "duration": 4,
    "start_time": "2022-02-16T21:20:33.788Z"
   },
   {
    "duration": 17,
    "start_time": "2022-02-16T21:20:33.793Z"
   },
   {
    "duration": 46,
    "start_time": "2022-02-16T21:20:33.811Z"
   },
   {
    "duration": 12,
    "start_time": "2022-02-16T21:20:33.858Z"
   },
   {
    "duration": 23,
    "start_time": "2022-02-16T21:20:33.872Z"
   },
   {
    "duration": 4,
    "start_time": "2022-02-16T21:20:33.896Z"
   },
   {
    "duration": 17,
    "start_time": "2022-02-16T21:20:33.903Z"
   },
   {
    "duration": 6,
    "start_time": "2022-02-16T21:20:33.946Z"
   },
   {
    "duration": 220,
    "start_time": "2022-02-16T21:20:33.953Z"
   },
   {
    "duration": 6,
    "start_time": "2022-02-16T21:20:34.174Z"
   },
   {
    "duration": 14,
    "start_time": "2022-02-16T21:20:51.684Z"
   },
   {
    "duration": 15,
    "start_time": "2022-02-16T21:21:05.889Z"
   },
   {
    "duration": 32,
    "start_time": "2022-02-16T21:21:44.665Z"
   },
   {
    "duration": 3,
    "start_time": "2022-02-16T21:22:01.738Z"
   },
   {
    "duration": 425,
    "start_time": "2022-02-16T21:22:01.743Z"
   },
   {
    "duration": 18,
    "start_time": "2022-02-16T21:22:02.170Z"
   },
   {
    "duration": 107,
    "start_time": "2022-02-16T21:22:02.190Z"
   },
   {
    "duration": 63,
    "start_time": "2022-02-16T21:22:02.299Z"
   },
   {
    "duration": 61,
    "start_time": "2022-02-16T21:22:02.364Z"
   },
   {
    "duration": 26,
    "start_time": "2022-02-16T21:22:02.426Z"
   },
   {
    "duration": 57,
    "start_time": "2022-02-16T21:22:02.453Z"
   },
   {
    "duration": 3,
    "start_time": "2022-02-16T21:22:02.512Z"
   },
   {
    "duration": 59,
    "start_time": "2022-02-16T21:22:02.517Z"
   },
   {
    "duration": 4,
    "start_time": "2022-02-16T21:22:02.578Z"
   },
   {
    "duration": 42,
    "start_time": "2022-02-16T21:22:02.584Z"
   },
   {
    "duration": 22,
    "start_time": "2022-02-16T21:22:02.627Z"
   },
   {
    "duration": 17,
    "start_time": "2022-02-16T21:22:02.650Z"
   },
   {
    "duration": 27,
    "start_time": "2022-02-16T21:22:02.669Z"
   },
   {
    "duration": 14,
    "start_time": "2022-02-16T21:22:02.698Z"
   },
   {
    "duration": 51,
    "start_time": "2022-02-16T21:22:02.714Z"
   },
   {
    "duration": 6,
    "start_time": "2022-02-16T21:22:02.767Z"
   },
   {
    "duration": 34,
    "start_time": "2022-02-16T21:22:02.774Z"
   },
   {
    "duration": 6,
    "start_time": "2022-02-16T21:22:02.809Z"
   },
   {
    "duration": 340,
    "start_time": "2022-02-16T21:22:02.816Z"
   },
   {
    "duration": 5,
    "start_time": "2022-02-16T21:22:03.157Z"
   },
   {
    "duration": 21,
    "start_time": "2022-02-16T21:22:22.357Z"
   },
   {
    "duration": 296,
    "start_time": "2022-02-16T21:23:18.035Z"
   },
   {
    "duration": 19,
    "start_time": "2022-02-16T21:23:49.297Z"
   },
   {
    "duration": 19,
    "start_time": "2022-02-16T21:24:02.458Z"
   },
   {
    "duration": 6,
    "start_time": "2022-02-16T21:24:12.213Z"
   },
   {
    "duration": 6,
    "start_time": "2022-02-16T21:24:15.413Z"
   },
   {
    "duration": 2,
    "start_time": "2022-02-16T21:25:19.797Z"
   },
   {
    "duration": 405,
    "start_time": "2022-02-16T21:25:19.801Z"
   },
   {
    "duration": 16,
    "start_time": "2022-02-16T21:25:20.208Z"
   },
   {
    "duration": 101,
    "start_time": "2022-02-16T21:25:20.226Z"
   },
   {
    "duration": 63,
    "start_time": "2022-02-16T21:25:20.328Z"
   },
   {
    "duration": 66,
    "start_time": "2022-02-16T21:25:20.392Z"
   },
   {
    "duration": 10,
    "start_time": "2022-02-16T21:25:20.461Z"
   },
   {
    "duration": 77,
    "start_time": "2022-02-16T21:25:20.473Z"
   },
   {
    "duration": 4,
    "start_time": "2022-02-16T21:25:20.551Z"
   },
   {
    "duration": 41,
    "start_time": "2022-02-16T21:25:20.556Z"
   },
   {
    "duration": 5,
    "start_time": "2022-02-16T21:25:20.598Z"
   },
   {
    "duration": 62,
    "start_time": "2022-02-16T21:25:20.604Z"
   },
   {
    "duration": 4,
    "start_time": "2022-02-16T21:25:20.668Z"
   },
   {
    "duration": 18,
    "start_time": "2022-02-16T21:25:20.674Z"
   },
   {
    "duration": 57,
    "start_time": "2022-02-16T21:25:20.694Z"
   },
   {
    "duration": 15,
    "start_time": "2022-02-16T21:25:20.753Z"
   },
   {
    "duration": 22,
    "start_time": "2022-02-16T21:25:20.769Z"
   },
   {
    "duration": 5,
    "start_time": "2022-02-16T21:25:20.792Z"
   },
   {
    "duration": 48,
    "start_time": "2022-02-16T21:25:20.799Z"
   },
   {
    "duration": 6,
    "start_time": "2022-02-16T21:25:20.849Z"
   },
   {
    "duration": 264,
    "start_time": "2022-02-16T21:25:20.857Z"
   },
   {
    "duration": 6,
    "start_time": "2022-02-16T21:25:21.123Z"
   },
   {
    "duration": 16,
    "start_time": "2022-02-16T21:25:21.130Z"
   },
   {
    "duration": 332,
    "start_time": "2022-02-17T12:46:41.920Z"
   },
   {
    "duration": 772,
    "start_time": "2022-02-17T12:46:46.277Z"
   },
   {
    "duration": 563,
    "start_time": "2022-02-17T12:46:47.051Z"
   },
   {
    "duration": 38,
    "start_time": "2022-02-17T12:46:47.618Z"
   },
   {
    "duration": 208,
    "start_time": "2022-02-17T12:46:47.659Z"
   },
   {
    "duration": 105,
    "start_time": "2022-02-17T12:46:47.869Z"
   },
   {
    "duration": 121,
    "start_time": "2022-02-17T12:46:47.992Z"
   },
   {
    "duration": 13,
    "start_time": "2022-02-17T12:46:48.116Z"
   },
   {
    "duration": 140,
    "start_time": "2022-02-17T12:46:48.133Z"
   },
   {
    "duration": 23,
    "start_time": "2022-02-17T12:46:48.276Z"
   },
   {
    "duration": 63,
    "start_time": "2022-02-17T12:46:48.302Z"
   },
   {
    "duration": 31,
    "start_time": "2022-02-17T12:46:48.368Z"
   },
   {
    "duration": 91,
    "start_time": "2022-02-17T12:46:48.402Z"
   },
   {
    "duration": 7,
    "start_time": "2022-02-17T12:46:48.496Z"
   },
   {
    "duration": 25,
    "start_time": "2022-02-17T12:46:48.506Z"
   },
   {
    "duration": 81,
    "start_time": "2022-02-17T12:46:48.534Z"
   },
   {
    "duration": 41,
    "start_time": "2022-02-17T12:46:48.618Z"
   },
   {
    "duration": 32,
    "start_time": "2022-02-17T12:46:48.661Z"
   },
   {
    "duration": 43,
    "start_time": "2022-02-17T12:46:48.696Z"
   },
   {
    "duration": 11,
    "start_time": "2022-02-17T12:46:48.741Z"
   },
   {
    "duration": 443,
    "start_time": "2022-02-17T12:46:48.754Z"
   },
   {
    "duration": 8,
    "start_time": "2022-02-17T12:46:49.199Z"
   },
   {
    "duration": 9,
    "start_time": "2022-02-17T12:46:49.209Z"
   },
   {
    "duration": 7551,
    "start_time": "2022-02-17T12:51:06.740Z"
   },
   {
    "duration": 722,
    "start_time": "2022-02-17T12:51:13.573Z"
   },
   {
    "duration": 1989,
    "start_time": "2022-02-17T12:51:38.976Z"
   },
   {
    "duration": 4,
    "start_time": "2022-02-17T12:51:54.509Z"
   },
   {
    "duration": 562,
    "start_time": "2022-02-17T12:51:54.516Z"
   },
   {
    "duration": 35,
    "start_time": "2022-02-17T12:51:55.082Z"
   },
   {
    "duration": 194,
    "start_time": "2022-02-17T12:51:55.121Z"
   },
   {
    "duration": 103,
    "start_time": "2022-02-17T12:51:55.317Z"
   },
   {
    "duration": 123,
    "start_time": "2022-02-17T12:51:55.423Z"
   },
   {
    "duration": 16,
    "start_time": "2022-02-17T12:51:55.551Z"
   },
   {
    "duration": 113,
    "start_time": "2022-02-17T12:51:55.595Z"
   },
   {
    "duration": 9,
    "start_time": "2022-02-17T12:51:55.711Z"
   },
   {
    "duration": 91,
    "start_time": "2022-02-17T12:51:55.722Z"
   },
   {
    "duration": 9,
    "start_time": "2022-02-17T12:51:55.816Z"
   },
   {
    "duration": 99,
    "start_time": "2022-02-17T12:51:55.828Z"
   },
   {
    "duration": 8,
    "start_time": "2022-02-17T12:51:55.930Z"
   },
   {
    "duration": 54,
    "start_time": "2022-02-17T12:51:55.941Z"
   },
   {
    "duration": 48,
    "start_time": "2022-02-17T12:51:55.997Z"
   },
   {
    "duration": 65,
    "start_time": "2022-02-17T12:51:56.047Z"
   },
   {
    "duration": 8,
    "start_time": "2022-02-17T12:51:56.114Z"
   },
   {
    "duration": 92,
    "start_time": "2022-02-17T12:51:56.126Z"
   },
   {
    "duration": 14,
    "start_time": "2022-02-17T12:51:56.224Z"
   },
   {
    "duration": 793,
    "start_time": "2022-02-17T12:51:56.241Z"
   },
   {
    "duration": 2663,
    "start_time": "2022-02-17T12:51:57.037Z"
   },
   {
    "duration": 724,
    "start_time": "2022-02-17T12:51:58.979Z"
   },
   {
    "duration": 7107,
    "start_time": "2022-02-17T12:52:37.118Z"
   },
   {
    "duration": 30,
    "start_time": "2022-02-17T12:54:44.243Z"
   },
   {
    "duration": 8,
    "start_time": "2022-02-17T12:54:52.245Z"
   },
   {
    "duration": 347,
    "start_time": "2022-02-17T12:56:26.818Z"
   },
   {
    "duration": 4,
    "start_time": "2022-02-17T12:57:56.422Z"
   },
   {
    "duration": 587,
    "start_time": "2022-02-17T12:57:56.428Z"
   },
   {
    "duration": 33,
    "start_time": "2022-02-17T12:57:57.018Z"
   },
   {
    "duration": 200,
    "start_time": "2022-02-17T12:57:57.055Z"
   },
   {
    "duration": 106,
    "start_time": "2022-02-17T12:57:57.258Z"
   },
   {
    "duration": 128,
    "start_time": "2022-02-17T12:57:57.366Z"
   },
   {
    "duration": 17,
    "start_time": "2022-02-17T12:57:57.499Z"
   },
   {
    "duration": 118,
    "start_time": "2022-02-17T12:57:57.520Z"
   },
   {
    "duration": 6,
    "start_time": "2022-02-17T12:57:57.640Z"
   },
   {
    "duration": 91,
    "start_time": "2022-02-17T12:57:57.648Z"
   },
   {
    "duration": 8,
    "start_time": "2022-02-17T12:57:57.741Z"
   },
   {
    "duration": 123,
    "start_time": "2022-02-17T12:57:57.751Z"
   },
   {
    "duration": 20,
    "start_time": "2022-02-17T12:57:57.877Z"
   },
   {
    "duration": 51,
    "start_time": "2022-02-17T12:57:57.900Z"
   },
   {
    "duration": 65,
    "start_time": "2022-02-17T12:57:57.954Z"
   },
   {
    "duration": 40,
    "start_time": "2022-02-17T12:57:58.022Z"
   },
   {
    "duration": 35,
    "start_time": "2022-02-17T12:57:58.064Z"
   },
   {
    "duration": 305,
    "start_time": "2022-02-17T12:57:58.102Z"
   },
   {
    "duration": 738,
    "start_time": "2022-02-17T12:57:57.672Z"
   },
   {
    "duration": 737,
    "start_time": "2022-02-17T12:57:57.675Z"
   },
   {
    "duration": 736,
    "start_time": "2022-02-17T12:57:57.678Z"
   },
   {
    "duration": 735,
    "start_time": "2022-02-17T12:57:57.680Z"
   },
   {
    "duration": 740,
    "start_time": "2022-02-17T12:58:29.646Z"
   },
   {
    "duration": 592,
    "start_time": "2022-02-17T12:58:30.389Z"
   },
   {
    "duration": 41,
    "start_time": "2022-02-17T12:58:30.984Z"
   },
   {
    "duration": 213,
    "start_time": "2022-02-17T12:58:31.028Z"
   },
   {
    "duration": 110,
    "start_time": "2022-02-17T12:58:31.244Z"
   },
   {
    "duration": 127,
    "start_time": "2022-02-17T12:58:31.356Z"
   },
   {
    "duration": 15,
    "start_time": "2022-02-17T12:58:31.493Z"
   },
   {
    "duration": 133,
    "start_time": "2022-02-17T12:58:31.511Z"
   },
   {
    "duration": 8,
    "start_time": "2022-02-17T12:58:31.647Z"
   },
   {
    "duration": 92,
    "start_time": "2022-02-17T12:58:31.657Z"
   },
   {
    "duration": 8,
    "start_time": "2022-02-17T12:58:31.751Z"
   },
   {
    "duration": 91,
    "start_time": "2022-02-17T12:58:31.762Z"
   },
   {
    "duration": 6,
    "start_time": "2022-02-17T12:58:31.856Z"
   },
   {
    "duration": 46,
    "start_time": "2022-02-17T12:58:31.865Z"
   },
   {
    "duration": 45,
    "start_time": "2022-02-17T12:58:31.914Z"
   },
   {
    "duration": 61,
    "start_time": "2022-02-17T12:58:31.961Z"
   },
   {
    "duration": 9,
    "start_time": "2022-02-17T12:58:32.024Z"
   },
   {
    "duration": 66,
    "start_time": "2022-02-17T12:58:32.035Z"
   },
   {
    "duration": 12,
    "start_time": "2022-02-17T12:58:32.104Z"
   },
   {
    "duration": 447,
    "start_time": "2022-02-17T12:58:32.119Z"
   },
   {
    "duration": 24,
    "start_time": "2022-02-17T12:58:32.569Z"
   },
   {
    "duration": 10,
    "start_time": "2022-02-17T12:58:32.596Z"
   },
   {
    "duration": 3,
    "start_time": "2022-02-17T12:59:26.873Z"
   },
   {
    "duration": 581,
    "start_time": "2022-02-17T12:59:26.879Z"
   },
   {
    "duration": 52,
    "start_time": "2022-02-17T12:59:27.464Z"
   },
   {
    "duration": 202,
    "start_time": "2022-02-17T12:59:27.519Z"
   },
   {
    "duration": 114,
    "start_time": "2022-02-17T12:59:27.724Z"
   },
   {
    "duration": 131,
    "start_time": "2022-02-17T12:59:27.841Z"
   },
   {
    "duration": 28,
    "start_time": "2022-02-17T12:59:27.977Z"
   },
   {
    "duration": 122,
    "start_time": "2022-02-17T12:59:28.008Z"
   },
   {
    "duration": 7,
    "start_time": "2022-02-17T12:59:28.133Z"
   },
   {
    "duration": 96,
    "start_time": "2022-02-17T12:59:28.143Z"
   },
   {
    "duration": 9,
    "start_time": "2022-02-17T12:59:28.241Z"
   },
   {
    "duration": 93,
    "start_time": "2022-02-17T12:59:28.254Z"
   },
   {
    "duration": 7,
    "start_time": "2022-02-17T12:59:28.349Z"
   },
   {
    "duration": 54,
    "start_time": "2022-02-17T12:59:28.359Z"
   },
   {
    "duration": 46,
    "start_time": "2022-02-17T12:59:28.415Z"
   },
   {
    "duration": 84,
    "start_time": "2022-02-17T12:59:28.464Z"
   },
   {
    "duration": 11,
    "start_time": "2022-02-17T12:59:28.551Z"
   },
   {
    "duration": 67,
    "start_time": "2022-02-17T12:59:28.565Z"
   },
   {
    "duration": 11,
    "start_time": "2022-02-17T12:59:28.637Z"
   },
   {
    "duration": 816,
    "start_time": "2022-02-17T12:59:28.651Z"
   },
   {
    "duration": 3,
    "start_time": "2022-02-17T13:02:54.294Z"
   },
   {
    "duration": 3,
    "start_time": "2022-02-17T13:03:34.147Z"
   },
   {
    "duration": 148,
    "start_time": "2022-02-17T13:06:12.394Z"
   },
   {
    "duration": 92,
    "start_time": "2022-02-17T13:06:18.851Z"
   },
   {
    "duration": 23,
    "start_time": "2022-02-17T13:06:42.401Z"
   },
   {
    "duration": 35,
    "start_time": "2022-02-17T13:06:58.925Z"
   },
   {
    "duration": 42,
    "start_time": "2022-02-17T13:08:04.140Z"
   },
   {
    "duration": 95,
    "start_time": "2022-02-17T13:09:45.711Z"
   },
   {
    "duration": 47,
    "start_time": "2022-02-17T13:09:53.361Z"
   },
   {
    "duration": 4,
    "start_time": "2022-02-17T13:16:54.286Z"
   },
   {
    "duration": 574,
    "start_time": "2022-02-17T13:16:54.293Z"
   },
   {
    "duration": 35,
    "start_time": "2022-02-17T13:16:54.870Z"
   },
   {
    "duration": 189,
    "start_time": "2022-02-17T13:16:54.908Z"
   },
   {
    "duration": 120,
    "start_time": "2022-02-17T13:16:55.100Z"
   },
   {
    "duration": 134,
    "start_time": "2022-02-17T13:16:55.223Z"
   },
   {
    "duration": 15,
    "start_time": "2022-02-17T13:16:55.360Z"
   },
   {
    "duration": 120,
    "start_time": "2022-02-17T13:16:55.378Z"
   },
   {
    "duration": 7,
    "start_time": "2022-02-17T13:16:55.502Z"
   },
   {
    "duration": 104,
    "start_time": "2022-02-17T13:16:55.512Z"
   },
   {
    "duration": 9,
    "start_time": "2022-02-17T13:16:55.618Z"
   },
   {
    "duration": 101,
    "start_time": "2022-02-17T13:16:55.631Z"
   },
   {
    "duration": 11,
    "start_time": "2022-02-17T13:16:55.735Z"
   },
   {
    "duration": 55,
    "start_time": "2022-02-17T13:16:55.749Z"
   },
   {
    "duration": 50,
    "start_time": "2022-02-17T13:16:55.807Z"
   },
   {
    "duration": 70,
    "start_time": "2022-02-17T13:16:55.859Z"
   },
   {
    "duration": 10,
    "start_time": "2022-02-17T13:16:55.932Z"
   },
   {
    "duration": 71,
    "start_time": "2022-02-17T13:16:55.944Z"
   },
   {
    "duration": 13,
    "start_time": "2022-02-17T13:16:56.017Z"
   },
   {
    "duration": 483,
    "start_time": "2022-02-17T13:16:56.032Z"
   },
   {
    "duration": 85,
    "start_time": "2022-02-17T13:16:56.517Z"
   },
   {
    "duration": 784,
    "start_time": "2022-02-17T13:16:55.820Z"
   },
   {
    "duration": 44,
    "start_time": "2022-02-17T13:17:08.323Z"
   },
   {
    "duration": 3,
    "start_time": "2022-02-17T13:17:13.892Z"
   },
   {
    "duration": 22,
    "start_time": "2022-02-17T13:17:35.495Z"
   },
   {
    "duration": 6,
    "start_time": "2022-02-17T13:17:47.499Z"
   },
   {
    "duration": 2173,
    "start_time": "2022-02-17T13:18:50.995Z"
   },
   {
    "duration": 1883,
    "start_time": "2022-02-17T13:31:12.565Z"
   },
   {
    "duration": 4,
    "start_time": "2022-02-17T13:31:15.077Z"
   },
   {
    "duration": 574,
    "start_time": "2022-02-17T13:31:15.084Z"
   },
   {
    "duration": 39,
    "start_time": "2022-02-17T13:31:15.662Z"
   },
   {
    "duration": 182,
    "start_time": "2022-02-17T13:31:15.704Z"
   },
   {
    "duration": 102,
    "start_time": "2022-02-17T13:31:15.893Z"
   },
   {
    "duration": 112,
    "start_time": "2022-02-17T13:31:15.998Z"
   },
   {
    "duration": 15,
    "start_time": "2022-02-17T13:31:16.113Z"
   },
   {
    "duration": 120,
    "start_time": "2022-02-17T13:31:16.131Z"
   },
   {
    "duration": 7,
    "start_time": "2022-02-17T13:31:16.254Z"
   },
   {
    "duration": 89,
    "start_time": "2022-02-17T13:31:16.263Z"
   },
   {
    "duration": 7,
    "start_time": "2022-02-17T13:31:16.355Z"
   },
   {
    "duration": 85,
    "start_time": "2022-02-17T13:31:16.364Z"
   },
   {
    "duration": 7,
    "start_time": "2022-02-17T13:31:16.452Z"
   },
   {
    "duration": 54,
    "start_time": "2022-02-17T13:31:16.461Z"
   },
   {
    "duration": 54,
    "start_time": "2022-02-17T13:31:16.517Z"
   },
   {
    "duration": 56,
    "start_time": "2022-02-17T13:31:16.573Z"
   },
   {
    "duration": 8,
    "start_time": "2022-02-17T13:31:16.631Z"
   },
   {
    "duration": 79,
    "start_time": "2022-02-17T13:31:16.641Z"
   },
   {
    "duration": 12,
    "start_time": "2022-02-17T13:31:16.722Z"
   },
   {
    "duration": 460,
    "start_time": "2022-02-17T13:31:16.736Z"
   },
   {
    "duration": 43,
    "start_time": "2022-02-17T13:31:17.198Z"
   },
   {
    "duration": 5,
    "start_time": "2022-02-17T13:31:17.243Z"
   },
   {
    "duration": 4,
    "start_time": "2022-02-17T13:35:27.123Z"
   },
   {
    "duration": 701,
    "start_time": "2022-02-17T13:35:27.129Z"
   },
   {
    "duration": 30,
    "start_time": "2022-02-17T13:35:27.834Z"
   },
   {
    "duration": 209,
    "start_time": "2022-02-17T13:35:27.867Z"
   },
   {
    "duration": 120,
    "start_time": "2022-02-17T13:35:28.079Z"
   },
   {
    "duration": 171,
    "start_time": "2022-02-17T13:35:28.203Z"
   },
   {
    "duration": 33,
    "start_time": "2022-02-17T13:35:28.376Z"
   },
   {
    "duration": 119,
    "start_time": "2022-02-17T13:35:28.412Z"
   },
   {
    "duration": 9,
    "start_time": "2022-02-17T13:35:28.535Z"
   },
   {
    "duration": 118,
    "start_time": "2022-02-17T13:35:28.547Z"
   },
   {
    "duration": 8,
    "start_time": "2022-02-17T13:35:28.667Z"
   },
   {
    "duration": 106,
    "start_time": "2022-02-17T13:35:28.677Z"
   },
   {
    "duration": 11,
    "start_time": "2022-02-17T13:35:28.795Z"
   },
   {
    "duration": 40,
    "start_time": "2022-02-17T13:35:28.810Z"
   },
   {
    "duration": 87,
    "start_time": "2022-02-17T13:35:28.853Z"
   },
   {
    "duration": 78,
    "start_time": "2022-02-17T13:35:28.943Z"
   },
   {
    "duration": 13,
    "start_time": "2022-02-17T13:35:29.025Z"
   },
   {
    "duration": 103,
    "start_time": "2022-02-17T13:35:29.040Z"
   },
   {
    "duration": 15,
    "start_time": "2022-02-17T13:35:29.146Z"
   },
   {
    "duration": 500,
    "start_time": "2022-02-17T13:35:29.164Z"
   },
   {
    "duration": 75,
    "start_time": "2022-02-17T13:35:29.668Z"
   },
   {
    "duration": 4,
    "start_time": "2022-02-17T13:39:00.512Z"
   },
   {
    "duration": 573,
    "start_time": "2022-02-17T13:39:00.519Z"
   },
   {
    "duration": 29,
    "start_time": "2022-02-17T13:39:01.095Z"
   },
   {
    "duration": 187,
    "start_time": "2022-02-17T13:39:01.127Z"
   },
   {
    "duration": 105,
    "start_time": "2022-02-17T13:39:01.316Z"
   },
   {
    "duration": 120,
    "start_time": "2022-02-17T13:39:01.423Z"
   },
   {
    "duration": 15,
    "start_time": "2022-02-17T13:39:01.545Z"
   },
   {
    "duration": 119,
    "start_time": "2022-02-17T13:39:01.562Z"
   },
   {
    "duration": 7,
    "start_time": "2022-02-17T13:39:01.692Z"
   },
   {
    "duration": 89,
    "start_time": "2022-02-17T13:39:01.702Z"
   },
   {
    "duration": 7,
    "start_time": "2022-02-17T13:39:01.794Z"
   },
   {
    "duration": 98,
    "start_time": "2022-02-17T13:39:01.803Z"
   },
   {
    "duration": 9,
    "start_time": "2022-02-17T13:39:01.904Z"
   },
   {
    "duration": 32,
    "start_time": "2022-02-17T13:39:01.916Z"
   },
   {
    "duration": 84,
    "start_time": "2022-02-17T13:39:01.952Z"
   },
   {
    "duration": 58,
    "start_time": "2022-02-17T13:39:02.039Z"
   },
   {
    "duration": 8,
    "start_time": "2022-02-17T13:39:02.099Z"
   },
   {
    "duration": 61,
    "start_time": "2022-02-17T13:39:02.109Z"
   },
   {
    "duration": 23,
    "start_time": "2022-02-17T13:39:02.172Z"
   },
   {
    "duration": 409,
    "start_time": "2022-02-17T13:39:02.197Z"
   },
   {
    "duration": 31,
    "start_time": "2022-02-17T13:39:02.608Z"
   },
   {
    "duration": 4,
    "start_time": "2022-02-17T13:39:50.607Z"
   },
   {
    "duration": 604,
    "start_time": "2022-02-17T13:39:50.614Z"
   },
   {
    "duration": 28,
    "start_time": "2022-02-17T13:39:51.221Z"
   },
   {
    "duration": 200,
    "start_time": "2022-02-17T13:39:51.252Z"
   },
   {
    "duration": 121,
    "start_time": "2022-02-17T13:39:51.455Z"
   },
   {
    "duration": 132,
    "start_time": "2022-02-17T13:39:51.578Z"
   },
   {
    "duration": 29,
    "start_time": "2022-02-17T13:39:51.713Z"
   },
   {
    "duration": 113,
    "start_time": "2022-02-17T13:39:51.746Z"
   },
   {
    "duration": 7,
    "start_time": "2022-02-17T13:39:51.862Z"
   },
   {
    "duration": 136,
    "start_time": "2022-02-17T13:39:51.871Z"
   },
   {
    "duration": 11,
    "start_time": "2022-02-17T13:39:52.010Z"
   },
   {
    "duration": 109,
    "start_time": "2022-02-17T13:39:52.025Z"
   },
   {
    "duration": 8,
    "start_time": "2022-02-17T13:39:52.137Z"
   },
   {
    "duration": 56,
    "start_time": "2022-02-17T13:39:52.148Z"
   },
   {
    "duration": 57,
    "start_time": "2022-02-17T13:39:52.207Z"
   },
   {
    "duration": 73,
    "start_time": "2022-02-17T13:39:52.267Z"
   },
   {
    "duration": 8,
    "start_time": "2022-02-17T13:39:52.343Z"
   },
   {
    "duration": 93,
    "start_time": "2022-02-17T13:39:52.353Z"
   },
   {
    "duration": 11,
    "start_time": "2022-02-17T13:39:52.448Z"
   },
   {
    "duration": 524,
    "start_time": "2022-02-17T13:39:52.461Z"
   },
   {
    "duration": 49,
    "start_time": "2022-02-17T13:39:52.994Z"
   },
   {
    "duration": 57,
    "start_time": "2022-02-17T13:41:54.416Z"
   },
   {
    "duration": 40,
    "start_time": "2022-02-17T13:45:22.265Z"
   },
   {
    "duration": 47,
    "start_time": "2022-02-17T13:45:43.044Z"
   },
   {
    "duration": 20,
    "start_time": "2022-02-17T13:46:10.664Z"
   },
   {
    "duration": 309,
    "start_time": "2022-02-17T13:47:37.870Z"
   },
   {
    "duration": 41,
    "start_time": "2022-02-17T13:50:10.751Z"
   },
   {
    "duration": 284,
    "start_time": "2022-02-17T13:51:48.331Z"
   },
   {
    "duration": 55,
    "start_time": "2022-02-17T13:52:03.660Z"
   },
   {
    "duration": 4,
    "start_time": "2022-02-17T13:52:20.230Z"
   },
   {
    "duration": 18,
    "start_time": "2022-02-17T13:52:35.351Z"
   },
   {
    "duration": 16,
    "start_time": "2022-02-17T13:53:32.332Z"
   },
   {
    "duration": 36,
    "start_time": "2022-02-17T13:54:31.194Z"
   },
   {
    "duration": 1176,
    "start_time": "2022-02-17T13:54:32.858Z"
   },
   {
    "duration": 18,
    "start_time": "2022-02-17T13:54:48.340Z"
   },
   {
    "duration": 40,
    "start_time": "2022-02-17T13:55:05.065Z"
   },
   {
    "duration": 18,
    "start_time": "2022-02-17T13:55:06.132Z"
   },
   {
    "duration": 16,
    "start_time": "2022-02-17T13:58:06.067Z"
   },
   {
    "duration": 16,
    "start_time": "2022-02-17T13:58:35.247Z"
   },
   {
    "duration": 31,
    "start_time": "2022-02-17T14:00:16.036Z"
   },
   {
    "duration": 46,
    "start_time": "2022-02-17T14:00:36.390Z"
   },
   {
    "duration": 96,
    "start_time": "2022-02-17T14:00:58.627Z"
   },
   {
    "duration": 149,
    "start_time": "2022-02-17T14:01:09.112Z"
   },
   {
    "duration": 93,
    "start_time": "2022-02-17T14:01:15.397Z"
   },
   {
    "duration": 35,
    "start_time": "2022-02-17T14:02:28.491Z"
   },
   {
    "duration": 56,
    "start_time": "2022-02-17T14:03:32.694Z"
   },
   {
    "duration": 94,
    "start_time": "2022-02-17T14:05:17.332Z"
   },
   {
    "duration": 356,
    "start_time": "2022-02-17T14:05:24.061Z"
   },
   {
    "duration": 332,
    "start_time": "2022-02-17T14:05:36.225Z"
   },
   {
    "duration": 72,
    "start_time": "2022-02-17T14:06:15.102Z"
   },
   {
    "duration": 37,
    "start_time": "2022-02-17T14:06:50.785Z"
   },
   {
    "duration": 41,
    "start_time": "2022-02-17T14:07:04.286Z"
   },
   {
    "duration": 108,
    "start_time": "2022-02-17T14:08:12.587Z"
   },
   {
    "duration": 53,
    "start_time": "2022-02-17T14:08:17.006Z"
   },
   {
    "duration": 7454,
    "start_time": "2022-02-17T14:08:34.507Z"
   },
   {
    "duration": 70,
    "start_time": "2022-02-17T14:08:46.777Z"
   },
   {
    "duration": 302,
    "start_time": "2022-02-17T14:12:16.057Z"
   },
   {
    "duration": 95,
    "start_time": "2022-02-17T14:12:20.207Z"
   },
   {
    "duration": 39,
    "start_time": "2022-02-17T14:12:26.993Z"
   },
   {
    "duration": 67,
    "start_time": "2022-02-17T14:12:30.598Z"
   },
   {
    "duration": 67,
    "start_time": "2022-02-17T14:19:07.983Z"
   },
   {
    "duration": 12,
    "start_time": "2022-02-17T14:19:28.016Z"
   },
   {
    "duration": 60,
    "start_time": "2022-02-17T14:30:21.242Z"
   },
   {
    "duration": 55,
    "start_time": "2022-02-17T14:30:43.547Z"
   },
   {
    "duration": 7,
    "start_time": "2022-02-17T14:31:40.268Z"
   },
   {
    "duration": 25,
    "start_time": "2022-02-17T14:32:02.000Z"
   },
   {
    "duration": 21,
    "start_time": "2022-02-17T14:32:07.348Z"
   },
   {
    "duration": 28,
    "start_time": "2022-02-17T14:39:36.878Z"
   },
   {
    "duration": 52,
    "start_time": "2022-02-17T14:39:56.283Z"
   },
   {
    "duration": 51,
    "start_time": "2022-02-17T14:40:15.136Z"
   },
   {
    "duration": 21,
    "start_time": "2022-02-17T14:40:18.889Z"
   },
   {
    "duration": 66,
    "start_time": "2022-02-17T14:44:05.904Z"
   },
   {
    "duration": 98,
    "start_time": "2022-02-17T14:45:40.258Z"
   },
   {
    "duration": 88,
    "start_time": "2022-02-17T14:47:15.178Z"
   },
   {
    "duration": 91,
    "start_time": "2022-02-17T14:52:43.218Z"
   },
   {
    "duration": 92,
    "start_time": "2022-02-17T14:52:56.753Z"
   },
   {
    "duration": 93,
    "start_time": "2022-02-17T14:53:07.052Z"
   },
   {
    "duration": 445,
    "start_time": "2022-02-17T14:54:03.735Z"
   },
   {
    "duration": 496,
    "start_time": "2022-02-17T14:54:44.644Z"
   },
   {
    "duration": 96,
    "start_time": "2022-02-17T14:55:20.267Z"
   },
   {
    "duration": 95,
    "start_time": "2022-02-17T15:13:55.808Z"
   },
   {
    "duration": 98,
    "start_time": "2022-02-17T15:14:01.576Z"
   },
   {
    "duration": 187,
    "start_time": "2022-02-17T15:14:13.679Z"
   },
   {
    "duration": 97,
    "start_time": "2022-02-17T15:14:35.772Z"
   },
   {
    "duration": 92,
    "start_time": "2022-02-17T15:14:40.515Z"
   },
   {
    "duration": 180,
    "start_time": "2022-02-17T15:14:46.500Z"
   },
   {
    "duration": 106,
    "start_time": "2022-02-17T15:14:57.895Z"
   },
   {
    "duration": 177,
    "start_time": "2022-02-17T15:15:11.024Z"
   },
   {
    "duration": 121,
    "start_time": "2022-02-17T15:15:28.689Z"
   },
   {
    "duration": 107,
    "start_time": "2022-02-17T15:15:38.964Z"
   },
   {
    "duration": 173,
    "start_time": "2022-02-17T15:15:51.267Z"
   },
   {
    "duration": 165,
    "start_time": "2022-02-17T15:16:05.679Z"
   },
   {
    "duration": 244,
    "start_time": "2022-02-17T15:16:25.467Z"
   },
   {
    "duration": 179,
    "start_time": "2022-02-17T15:16:42.738Z"
   },
   {
    "duration": 91,
    "start_time": "2022-02-17T15:17:20.755Z"
   },
   {
    "duration": 172,
    "start_time": "2022-02-17T15:17:35.223Z"
   },
   {
    "duration": 181,
    "start_time": "2022-02-17T15:18:06.735Z"
   },
   {
    "duration": 211,
    "start_time": "2022-02-17T15:19:33.950Z"
   },
   {
    "duration": 203,
    "start_time": "2022-02-17T15:20:32.498Z"
   },
   {
    "duration": 371,
    "start_time": "2022-02-17T15:22:21.904Z"
   },
   {
    "duration": 214,
    "start_time": "2022-02-17T15:22:41.536Z"
   },
   {
    "duration": 223,
    "start_time": "2022-02-17T15:25:06.821Z"
   },
   {
    "duration": 201,
    "start_time": "2022-02-17T15:26:07.852Z"
   },
   {
    "duration": 207,
    "start_time": "2022-02-17T15:26:32.276Z"
   },
   {
    "duration": 15,
    "start_time": "2022-02-17T15:27:40.204Z"
   },
   {
    "duration": 985,
    "start_time": "2022-02-17T15:27:51.970Z"
   },
   {
    "duration": 328,
    "start_time": "2022-02-17T15:28:09.811Z"
   },
   {
    "duration": 501,
    "start_time": "2022-02-17T15:28:36.418Z"
   },
   {
    "duration": 311,
    "start_time": "2022-02-17T15:29:54.585Z"
   },
   {
    "duration": 306,
    "start_time": "2022-02-17T15:31:00.414Z"
   },
   {
    "duration": 4,
    "start_time": "2022-02-17T15:31:28.956Z"
   },
   {
    "duration": 623,
    "start_time": "2022-02-17T15:31:28.962Z"
   },
   {
    "duration": 30,
    "start_time": "2022-02-17T15:31:29.588Z"
   },
   {
    "duration": 192,
    "start_time": "2022-02-17T15:31:29.621Z"
   },
   {
    "duration": 98,
    "start_time": "2022-02-17T15:31:29.815Z"
   },
   {
    "duration": 124,
    "start_time": "2022-02-17T15:31:29.915Z"
   },
   {
    "duration": 14,
    "start_time": "2022-02-17T15:31:30.041Z"
   },
   {
    "duration": 118,
    "start_time": "2022-02-17T15:31:30.059Z"
   },
   {
    "duration": 8,
    "start_time": "2022-02-17T15:31:30.192Z"
   },
   {
    "duration": 74,
    "start_time": "2022-02-17T15:31:30.202Z"
   },
   {
    "duration": 9,
    "start_time": "2022-02-17T15:31:30.294Z"
   },
   {
    "duration": 94,
    "start_time": "2022-02-17T15:31:30.305Z"
   },
   {
    "duration": 7,
    "start_time": "2022-02-17T15:31:30.402Z"
   },
   {
    "duration": 46,
    "start_time": "2022-02-17T15:31:30.411Z"
   },
   {
    "duration": 72,
    "start_time": "2022-02-17T15:31:30.461Z"
   },
   {
    "duration": 65,
    "start_time": "2022-02-17T15:31:30.537Z"
   },
   {
    "duration": 9,
    "start_time": "2022-02-17T15:31:30.605Z"
   },
   {
    "duration": 62,
    "start_time": "2022-02-17T15:31:30.616Z"
   },
   {
    "duration": 21,
    "start_time": "2022-02-17T15:31:30.680Z"
   },
   {
    "duration": 453,
    "start_time": "2022-02-17T15:31:30.703Z"
   },
   {
    "duration": 217,
    "start_time": "2022-02-17T15:31:31.159Z"
   },
   {
    "duration": 226,
    "start_time": "2022-02-17T15:31:31.378Z"
   },
   {
    "duration": 521,
    "start_time": "2022-02-17T15:31:31.609Z"
   },
   {
    "duration": 529,
    "start_time": "2022-02-17T15:32:10.638Z"
   },
   {
    "duration": 520,
    "start_time": "2022-02-17T15:32:21.784Z"
   },
   {
    "duration": 571,
    "start_time": "2022-02-17T15:32:38.801Z"
   },
   {
    "duration": 569,
    "start_time": "2022-02-17T15:32:49.603Z"
   },
   {
    "duration": 535,
    "start_time": "2022-02-17T15:33:05.329Z"
   },
   {
    "duration": 530,
    "start_time": "2022-02-17T15:33:14.475Z"
   },
   {
    "duration": 328,
    "start_time": "2022-02-17T15:40:17.385Z"
   },
   {
    "duration": 107,
    "start_time": "2022-02-17T15:40:32.805Z"
   },
   {
    "duration": 94,
    "start_time": "2022-02-17T15:40:39.621Z"
   },
   {
    "duration": 91,
    "start_time": "2022-02-17T15:41:28.299Z"
   },
   {
    "duration": 92,
    "start_time": "2022-02-17T15:41:37.567Z"
   },
   {
    "duration": 299,
    "start_time": "2022-02-17T15:41:43.268Z"
   },
   {
    "duration": 282,
    "start_time": "2022-02-17T15:41:51.950Z"
   },
   {
    "duration": 371,
    "start_time": "2022-02-17T15:42:03.461Z"
   },
   {
    "duration": 1176,
    "start_time": "2022-02-17T15:43:01.069Z"
   },
   {
    "duration": 302,
    "start_time": "2022-02-17T15:43:21.273Z"
   },
   {
    "duration": 315,
    "start_time": "2022-02-17T15:43:52.931Z"
   },
   {
    "duration": 8528,
    "start_time": "2022-02-17T15:44:48.261Z"
   },
   {
    "duration": 4,
    "start_time": "2022-02-17T15:45:26.441Z"
   },
   {
    "duration": 561,
    "start_time": "2022-02-17T15:45:26.448Z"
   },
   {
    "duration": 29,
    "start_time": "2022-02-17T15:45:27.012Z"
   },
   {
    "duration": 183,
    "start_time": "2022-02-17T15:45:27.043Z"
   },
   {
    "duration": 96,
    "start_time": "2022-02-17T15:45:27.229Z"
   },
   {
    "duration": 127,
    "start_time": "2022-02-17T15:45:27.328Z"
   },
   {
    "duration": 37,
    "start_time": "2022-02-17T15:45:27.458Z"
   },
   {
    "duration": 104,
    "start_time": "2022-02-17T15:45:27.497Z"
   },
   {
    "duration": 7,
    "start_time": "2022-02-17T15:45:27.606Z"
   },
   {
    "duration": 95,
    "start_time": "2022-02-17T15:45:27.616Z"
   },
   {
    "duration": 7,
    "start_time": "2022-02-17T15:45:27.714Z"
   },
   {
    "duration": 94,
    "start_time": "2022-02-17T15:45:27.723Z"
   },
   {
    "duration": 6,
    "start_time": "2022-02-17T15:45:27.820Z"
   },
   {
    "duration": 31,
    "start_time": "2022-02-17T15:45:27.829Z"
   },
   {
    "duration": 75,
    "start_time": "2022-02-17T15:45:27.862Z"
   },
   {
    "duration": 64,
    "start_time": "2022-02-17T15:45:27.940Z"
   },
   {
    "duration": 8,
    "start_time": "2022-02-17T15:45:28.006Z"
   },
   {
    "duration": 46,
    "start_time": "2022-02-17T15:45:28.017Z"
   },
   {
    "duration": 36,
    "start_time": "2022-02-17T15:45:28.065Z"
   },
   {
    "duration": 458,
    "start_time": "2022-02-17T15:45:28.104Z"
   },
   {
    "duration": 230,
    "start_time": "2022-02-17T15:45:28.565Z"
   },
   {
    "duration": 221,
    "start_time": "2022-02-17T15:45:28.797Z"
   },
   {
    "duration": 7493,
    "start_time": "2022-02-17T15:45:29.021Z"
   },
   {
    "duration": 313,
    "start_time": "2022-02-17T15:45:57.139Z"
   },
   {
    "duration": 195,
    "start_time": "2022-02-17T15:46:13.347Z"
   },
   {
    "duration": 7485,
    "start_time": "2022-02-17T15:46:18.229Z"
   },
   {
    "duration": 5,
    "start_time": "2022-02-17T15:46:30.517Z"
   },
   {
    "duration": 598,
    "start_time": "2022-02-17T15:46:30.526Z"
   },
   {
    "duration": 28,
    "start_time": "2022-02-17T15:46:31.128Z"
   },
   {
    "duration": 189,
    "start_time": "2022-02-17T15:46:31.159Z"
   },
   {
    "duration": 109,
    "start_time": "2022-02-17T15:46:31.351Z"
   },
   {
    "duration": 111,
    "start_time": "2022-02-17T15:46:31.463Z"
   },
   {
    "duration": 26,
    "start_time": "2022-02-17T15:46:31.577Z"
   },
   {
    "duration": 115,
    "start_time": "2022-02-17T15:46:31.607Z"
   },
   {
    "duration": 6,
    "start_time": "2022-02-17T15:46:31.725Z"
   },
   {
    "duration": 90,
    "start_time": "2022-02-17T15:46:31.733Z"
   },
   {
    "duration": 7,
    "start_time": "2022-02-17T15:46:31.826Z"
   },
   {
    "duration": 92,
    "start_time": "2022-02-17T15:46:31.836Z"
   },
   {
    "duration": 8,
    "start_time": "2022-02-17T15:46:31.931Z"
   },
   {
    "duration": 52,
    "start_time": "2022-02-17T15:46:31.943Z"
   },
   {
    "duration": 51,
    "start_time": "2022-02-17T15:46:31.998Z"
   },
   {
    "duration": 74,
    "start_time": "2022-02-17T15:46:32.051Z"
   },
   {
    "duration": 9,
    "start_time": "2022-02-17T15:46:32.127Z"
   },
   {
    "duration": 75,
    "start_time": "2022-02-17T15:46:32.139Z"
   },
   {
    "duration": 13,
    "start_time": "2022-02-17T15:46:32.217Z"
   },
   {
    "duration": 466,
    "start_time": "2022-02-17T15:46:32.233Z"
   },
   {
    "duration": 227,
    "start_time": "2022-02-17T15:46:32.702Z"
   },
   {
    "duration": 228,
    "start_time": "2022-02-17T15:46:32.932Z"
   },
   {
    "duration": 7431,
    "start_time": "2022-02-17T15:46:33.165Z"
   },
   {
    "duration": 298,
    "start_time": "2022-02-17T15:47:20.010Z"
   },
   {
    "duration": 204,
    "start_time": "2022-02-17T15:47:33.864Z"
   },
   {
    "duration": 1084,
    "start_time": "2022-02-17T15:47:54.147Z"
   },
   {
    "duration": 1075,
    "start_time": "2022-02-17T15:47:54.157Z"
   },
   {
    "duration": 206,
    "start_time": "2022-02-17T15:48:13.606Z"
   },
   {
    "duration": 668,
    "start_time": "2022-02-17T15:48:14.834Z"
   },
   {
    "duration": 377,
    "start_time": "2022-02-17T15:48:45.647Z"
   },
   {
    "duration": 121,
    "start_time": "2022-02-17T15:48:58.845Z"
   },
   {
    "duration": 518,
    "start_time": "2022-02-17T15:49:03.881Z"
   },
   {
    "duration": 889,
    "start_time": "2022-02-17T15:50:03.781Z"
   },
   {
    "duration": 587,
    "start_time": "2022-02-17T15:50:04.673Z"
   },
   {
    "duration": 44,
    "start_time": "2022-02-17T15:50:05.265Z"
   },
   {
    "duration": 212,
    "start_time": "2022-02-17T15:50:05.312Z"
   },
   {
    "duration": 118,
    "start_time": "2022-02-17T15:50:05.527Z"
   },
   {
    "duration": 123,
    "start_time": "2022-02-17T15:50:05.648Z"
   },
   {
    "duration": 23,
    "start_time": "2022-02-17T15:50:05.773Z"
   },
   {
    "duration": 130,
    "start_time": "2022-02-17T15:50:05.800Z"
   },
   {
    "duration": 7,
    "start_time": "2022-02-17T15:50:05.934Z"
   },
   {
    "duration": 95,
    "start_time": "2022-02-17T15:50:05.944Z"
   },
   {
    "duration": 9,
    "start_time": "2022-02-17T15:50:06.042Z"
   },
   {
    "duration": 97,
    "start_time": "2022-02-17T15:50:06.054Z"
   },
   {
    "duration": 6,
    "start_time": "2022-02-17T15:50:06.153Z"
   },
   {
    "duration": 44,
    "start_time": "2022-02-17T15:50:06.162Z"
   },
   {
    "duration": 53,
    "start_time": "2022-02-17T15:50:06.208Z"
   },
   {
    "duration": 66,
    "start_time": "2022-02-17T15:50:06.264Z"
   },
   {
    "duration": 8,
    "start_time": "2022-02-17T15:50:06.333Z"
   },
   {
    "duration": 71,
    "start_time": "2022-02-17T15:50:06.343Z"
   },
   {
    "duration": 10,
    "start_time": "2022-02-17T15:50:06.417Z"
   },
   {
    "duration": 454,
    "start_time": "2022-02-17T15:50:06.429Z"
   },
   {
    "duration": 207,
    "start_time": "2022-02-17T15:50:06.893Z"
   },
   {
    "duration": 222,
    "start_time": "2022-02-17T15:50:07.103Z"
   },
   {
    "duration": 408,
    "start_time": "2022-02-17T15:50:07.329Z"
   },
   {
    "duration": 109,
    "start_time": "2022-02-17T15:51:05.680Z"
   },
   {
    "duration": 392,
    "start_time": "2022-02-17T15:51:12.194Z"
   },
   {
    "duration": 1020,
    "start_time": "2022-02-17T15:51:17.614Z"
   },
   {
    "duration": 432,
    "start_time": "2022-02-17T15:51:21.672Z"
   },
   {
    "duration": 569,
    "start_time": "2022-02-17T15:51:27.981Z"
   },
   {
    "duration": 273,
    "start_time": "2022-02-17T15:51:46.282Z"
   },
   {
    "duration": 526,
    "start_time": "2022-02-17T15:52:14.726Z"
   },
   {
    "duration": 652,
    "start_time": "2022-02-17T15:53:39.558Z"
   },
   {
    "duration": 1092,
    "start_time": "2022-02-17T15:55:20.435Z"
   },
   {
    "duration": 6768,
    "start_time": "2022-02-17T15:55:37.420Z"
   },
   {
    "duration": 4,
    "start_time": "2022-02-17T15:56:30.799Z"
   },
   {
    "duration": 587,
    "start_time": "2022-02-17T15:56:30.806Z"
   },
   {
    "duration": 28,
    "start_time": "2022-02-17T15:56:31.396Z"
   },
   {
    "duration": 190,
    "start_time": "2022-02-17T15:56:31.427Z"
   },
   {
    "duration": 104,
    "start_time": "2022-02-17T15:56:31.620Z"
   },
   {
    "duration": 121,
    "start_time": "2022-02-17T15:56:31.727Z"
   },
   {
    "duration": 15,
    "start_time": "2022-02-17T15:56:31.851Z"
   },
   {
    "duration": 123,
    "start_time": "2022-02-17T15:56:31.870Z"
   },
   {
    "duration": 8,
    "start_time": "2022-02-17T15:56:31.996Z"
   },
   {
    "duration": 68,
    "start_time": "2022-02-17T15:56:32.006Z"
   },
   {
    "duration": 8,
    "start_time": "2022-02-17T15:56:32.093Z"
   },
   {
    "duration": 65,
    "start_time": "2022-02-17T15:56:32.104Z"
   },
   {
    "duration": 7,
    "start_time": "2022-02-17T15:56:32.193Z"
   },
   {
    "duration": 28,
    "start_time": "2022-02-17T15:56:32.202Z"
   },
   {
    "duration": 78,
    "start_time": "2022-02-17T15:56:32.233Z"
   },
   {
    "duration": 43,
    "start_time": "2022-02-17T15:56:32.314Z"
   },
   {
    "duration": 35,
    "start_time": "2022-02-17T15:56:32.360Z"
   },
   {
    "duration": 45,
    "start_time": "2022-02-17T15:56:32.398Z"
   },
   {
    "duration": 11,
    "start_time": "2022-02-17T15:56:32.445Z"
   },
   {
    "duration": 465,
    "start_time": "2022-02-17T15:56:32.459Z"
   },
   {
    "duration": 215,
    "start_time": "2022-02-17T15:56:32.927Z"
   },
   {
    "duration": 217,
    "start_time": "2022-02-17T15:56:33.145Z"
   },
   {
    "duration": 7196,
    "start_time": "2022-02-17T15:56:33.366Z"
   },
   {
    "duration": 634,
    "start_time": "2022-02-17T15:57:03.787Z"
   },
   {
    "duration": 610,
    "start_time": "2022-02-17T15:57:20.725Z"
   },
   {
    "duration": 384,
    "start_time": "2022-02-17T15:57:27.275Z"
   },
   {
    "duration": 387,
    "start_time": "2022-02-17T15:57:58.262Z"
   },
   {
    "duration": 444,
    "start_time": "2022-02-17T15:58:22.686Z"
   },
   {
    "duration": 389,
    "start_time": "2022-02-17T15:58:36.125Z"
   },
   {
    "duration": 677,
    "start_time": "2022-02-17T16:00:37.551Z"
   },
   {
    "duration": 387,
    "start_time": "2022-02-17T16:00:44.568Z"
   },
   {
    "duration": 617,
    "start_time": "2022-02-17T16:03:16.900Z"
   },
   {
    "duration": 389,
    "start_time": "2022-02-17T16:03:24.203Z"
   },
   {
    "duration": 390,
    "start_time": "2022-02-17T16:03:38.089Z"
   },
   {
    "duration": 678,
    "start_time": "2022-02-17T16:04:05.205Z"
   },
   {
    "duration": 668,
    "start_time": "2022-02-17T16:05:11.778Z"
   },
   {
    "duration": 258,
    "start_time": "2022-02-17T16:05:45.653Z"
   },
   {
    "duration": 266,
    "start_time": "2022-02-17T16:06:49.389Z"
   },
   {
    "duration": 364,
    "start_time": "2022-02-17T16:07:12.871Z"
   },
   {
    "duration": 271,
    "start_time": "2022-02-17T16:07:21.789Z"
   },
   {
    "duration": 269,
    "start_time": "2022-02-17T16:07:38.890Z"
   },
   {
    "duration": 548,
    "start_time": "2022-02-17T16:09:42.358Z"
   },
   {
    "duration": 416,
    "start_time": "2022-02-17T16:09:53.070Z"
   },
   {
    "duration": 302,
    "start_time": "2022-02-17T16:10:33.986Z"
   },
   {
    "duration": 401,
    "start_time": "2022-02-17T16:11:00.279Z"
   },
   {
    "duration": 630,
    "start_time": "2022-02-17T16:11:13.890Z"
   },
   {
    "duration": 381,
    "start_time": "2022-02-17T16:13:59.072Z"
   },
   {
    "duration": 290,
    "start_time": "2022-02-17T16:15:31.110Z"
   },
   {
    "duration": 415,
    "start_time": "2022-02-17T16:15:53.714Z"
   },
   {
    "duration": 384,
    "start_time": "2022-02-17T16:16:08.177Z"
   },
   {
    "duration": 250,
    "start_time": "2022-02-17T16:16:19.878Z"
   },
   {
    "duration": 7264,
    "start_time": "2022-02-17T16:17:14.483Z"
   },
   {
    "duration": 373,
    "start_time": "2022-02-17T16:17:32.155Z"
   },
   {
    "duration": 94,
    "start_time": "2022-02-17T16:18:39.081Z"
   },
   {
    "duration": 489,
    "start_time": "2022-02-17T16:18:46.712Z"
   },
   {
    "duration": 359,
    "start_time": "2022-02-17T16:19:02.295Z"
   },
   {
    "duration": 304,
    "start_time": "2022-02-17T16:22:16.864Z"
   },
   {
    "duration": 367,
    "start_time": "2022-02-17T16:22:33.187Z"
   },
   {
    "duration": 332,
    "start_time": "2022-02-17T16:24:51.652Z"
   },
   {
    "duration": 657,
    "start_time": "2022-02-17T16:24:58.954Z"
   },
   {
    "duration": 768,
    "start_time": "2022-02-17T16:25:43.669Z"
   },
   {
    "duration": 354,
    "start_time": "2022-02-17T16:25:50.531Z"
   },
   {
    "duration": 511,
    "start_time": "2022-02-17T16:26:13.153Z"
   },
   {
    "duration": 556,
    "start_time": "2022-02-17T16:26:45.875Z"
   },
   {
    "duration": 420,
    "start_time": "2022-02-17T16:27:13.145Z"
   },
   {
    "duration": 494,
    "start_time": "2022-02-17T18:57:48.143Z"
   },
   {
    "duration": 757,
    "start_time": "2022-02-17T18:58:30.368Z"
   },
   {
    "duration": 287,
    "start_time": "2022-02-17T18:59:01.676Z"
   },
   {
    "duration": 703,
    "start_time": "2022-02-17T18:59:10.778Z"
   },
   {
    "duration": 396,
    "start_time": "2022-02-17T19:00:34.728Z"
   },
   {
    "duration": 402,
    "start_time": "2022-02-17T19:02:44.978Z"
   },
   {
    "duration": 395,
    "start_time": "2022-02-17T19:02:59.484Z"
   },
   {
    "duration": 392,
    "start_time": "2022-02-17T19:03:18.931Z"
   },
   {
    "duration": 400,
    "start_time": "2022-02-17T19:03:27.531Z"
   },
   {
    "duration": 398,
    "start_time": "2022-02-17T19:03:34.891Z"
   },
   {
    "duration": 482,
    "start_time": "2022-02-17T19:03:43.523Z"
   },
   {
    "duration": 566,
    "start_time": "2022-02-17T19:03:49.795Z"
   },
   {
    "duration": 387,
    "start_time": "2022-02-17T19:03:59.726Z"
   },
   {
    "duration": 674,
    "start_time": "2022-02-17T19:06:06.533Z"
   },
   {
    "duration": 478,
    "start_time": "2022-02-17T19:06:19.874Z"
   },
   {
    "duration": 633,
    "start_time": "2022-02-17T19:06:46.179Z"
   },
   {
    "duration": 628,
    "start_time": "2022-02-17T19:06:56.132Z"
   },
   {
    "duration": 823,
    "start_time": "2022-02-17T19:08:00.841Z"
   },
   {
    "duration": 436,
    "start_time": "2022-02-17T19:08:20.065Z"
   },
   {
    "duration": 638,
    "start_time": "2022-02-17T19:08:51.846Z"
   },
   {
    "duration": 277,
    "start_time": "2022-02-17T19:29:01.575Z"
   },
   {
    "duration": 652,
    "start_time": "2022-02-17T19:29:03.071Z"
   },
   {
    "duration": 517,
    "start_time": "2022-02-17T19:29:47.445Z"
   },
   {
    "duration": 680,
    "start_time": "2022-02-17T19:30:38.143Z"
   },
   {
    "duration": 405,
    "start_time": "2022-02-17T19:30:49.098Z"
   },
   {
    "duration": 111,
    "start_time": "2022-02-17T19:31:10.042Z"
   },
   {
    "duration": 1141,
    "start_time": "2022-02-17T19:31:14.494Z"
   },
   {
    "duration": 931,
    "start_time": "2022-02-17T19:31:30.547Z"
   },
   {
    "duration": 1031,
    "start_time": "2022-02-17T19:31:46.974Z"
   },
   {
    "duration": 23,
    "start_time": "2022-02-17T19:36:13.515Z"
   },
   {
    "duration": 55,
    "start_time": "2022-02-17T19:37:51.156Z"
   },
   {
    "duration": 150,
    "start_time": "2022-02-17T19:38:02.539Z"
   },
   {
    "duration": 64,
    "start_time": "2022-02-17T19:38:27.604Z"
   },
   {
    "duration": 48,
    "start_time": "2022-02-17T19:41:05.836Z"
   },
   {
    "duration": 65,
    "start_time": "2022-02-17T19:41:17.390Z"
   },
   {
    "duration": 59,
    "start_time": "2022-02-17T19:44:30.169Z"
   },
   {
    "duration": 1162,
    "start_time": "2022-02-17T19:44:50.352Z"
   },
   {
    "duration": 50,
    "start_time": "2022-02-17T19:45:07.094Z"
   },
   {
    "duration": 257,
    "start_time": "2022-02-17T19:49:12.276Z"
   },
   {
    "duration": 305,
    "start_time": "2022-02-17T19:49:23.974Z"
   },
   {
    "duration": 290,
    "start_time": "2022-02-17T19:49:36.350Z"
   },
   {
    "duration": 271,
    "start_time": "2022-02-17T19:49:57.602Z"
   },
   {
    "duration": 267,
    "start_time": "2022-02-17T19:50:06.238Z"
   },
   {
    "duration": 524,
    "start_time": "2022-02-17T19:50:20.417Z"
   },
   {
    "duration": 6598,
    "start_time": "2022-02-17T20:00:04.185Z"
   },
   {
    "duration": 281,
    "start_time": "2022-02-17T20:00:16.828Z"
   },
   {
    "duration": 87,
    "start_time": "2022-02-17T20:00:44.509Z"
   },
   {
    "duration": 357,
    "start_time": "2022-02-17T20:00:50.343Z"
   },
   {
    "duration": 371,
    "start_time": "2022-02-17T20:01:08.500Z"
   },
   {
    "duration": 367,
    "start_time": "2022-02-17T20:01:43.472Z"
   },
   {
    "duration": 3,
    "start_time": "2022-02-17T20:02:45.709Z"
   },
   {
    "duration": 567,
    "start_time": "2022-02-17T20:02:45.715Z"
   },
   {
    "duration": 33,
    "start_time": "2022-02-17T20:02:46.285Z"
   },
   {
    "duration": 188,
    "start_time": "2022-02-17T20:02:46.321Z"
   },
   {
    "duration": 102,
    "start_time": "2022-02-17T20:02:46.511Z"
   },
   {
    "duration": 116,
    "start_time": "2022-02-17T20:02:46.616Z"
   },
   {
    "duration": 14,
    "start_time": "2022-02-17T20:02:46.735Z"
   },
   {
    "duration": 115,
    "start_time": "2022-02-17T20:02:46.752Z"
   },
   {
    "duration": 8,
    "start_time": "2022-02-17T20:02:46.871Z"
   },
   {
    "duration": 65,
    "start_time": "2022-02-17T20:02:46.895Z"
   },
   {
    "duration": 34,
    "start_time": "2022-02-17T20:02:46.964Z"
   },
   {
    "duration": 68,
    "start_time": "2022-02-17T20:02:47.001Z"
   },
   {
    "duration": 7,
    "start_time": "2022-02-17T20:02:47.094Z"
   },
   {
    "duration": 28,
    "start_time": "2022-02-17T20:02:47.104Z"
   },
   {
    "duration": 81,
    "start_time": "2022-02-17T20:02:47.134Z"
   },
   {
    "duration": 45,
    "start_time": "2022-02-17T20:02:47.218Z"
   },
   {
    "duration": 34,
    "start_time": "2022-02-17T20:02:47.265Z"
   },
   {
    "duration": 44,
    "start_time": "2022-02-17T20:02:47.301Z"
   },
   {
    "duration": 12,
    "start_time": "2022-02-17T20:02:47.349Z"
   },
   {
    "duration": 465,
    "start_time": "2022-02-17T20:02:47.364Z"
   },
   {
    "duration": 75,
    "start_time": "2022-02-17T20:02:47.833Z"
   },
   {
    "duration": 376,
    "start_time": "2022-02-17T20:02:47.911Z"
   },
   {
    "duration": 1028,
    "start_time": "2022-02-17T20:02:48.294Z"
   },
   {
    "duration": 514,
    "start_time": "2022-02-17T20:03:13.853Z"
   },
   {
    "duration": 357,
    "start_time": "2022-02-17T20:03:31.719Z"
   },
   {
    "duration": 389,
    "start_time": "2022-02-17T20:03:41.769Z"
   },
   {
    "duration": 4,
    "start_time": "2022-02-17T20:05:10.226Z"
   },
   {
    "duration": 592,
    "start_time": "2022-02-17T20:05:10.233Z"
   },
   {
    "duration": 30,
    "start_time": "2022-02-17T20:05:10.828Z"
   },
   {
    "duration": 180,
    "start_time": "2022-02-17T20:05:10.861Z"
   },
   {
    "duration": 116,
    "start_time": "2022-02-17T20:05:11.044Z"
   },
   {
    "duration": 113,
    "start_time": "2022-02-17T20:05:11.163Z"
   },
   {
    "duration": 24,
    "start_time": "2022-02-17T20:05:11.279Z"
   },
   {
    "duration": 124,
    "start_time": "2022-02-17T20:05:11.305Z"
   },
   {
    "duration": 7,
    "start_time": "2022-02-17T20:05:11.433Z"
   },
   {
    "duration": 90,
    "start_time": "2022-02-17T20:05:11.443Z"
   },
   {
    "duration": 7,
    "start_time": "2022-02-17T20:05:11.536Z"
   },
   {
    "duration": 94,
    "start_time": "2022-02-17T20:05:11.545Z"
   },
   {
    "duration": 8,
    "start_time": "2022-02-17T20:05:11.642Z"
   },
   {
    "duration": 50,
    "start_time": "2022-02-17T20:05:11.652Z"
   },
   {
    "duration": 50,
    "start_time": "2022-02-17T20:05:11.705Z"
   },
   {
    "duration": 71,
    "start_time": "2022-02-17T20:05:11.758Z"
   },
   {
    "duration": 8,
    "start_time": "2022-02-17T20:05:11.832Z"
   },
   {
    "duration": 66,
    "start_time": "2022-02-17T20:05:11.843Z"
   },
   {
    "duration": 11,
    "start_time": "2022-02-17T20:05:11.912Z"
   },
   {
    "duration": 458,
    "start_time": "2022-02-17T20:05:11.926Z"
   },
   {
    "duration": 51,
    "start_time": "2022-02-17T20:05:12.394Z"
   },
   {
    "duration": 424,
    "start_time": "2022-02-17T20:05:12.447Z"
   },
   {
    "duration": 1040,
    "start_time": "2022-02-17T20:05:12.874Z"
   },
   {
    "duration": 4,
    "start_time": "2022-02-17T20:05:37.174Z"
   },
   {
    "duration": 581,
    "start_time": "2022-02-17T20:05:37.185Z"
   },
   {
    "duration": 38,
    "start_time": "2022-02-17T20:05:37.768Z"
   },
   {
    "duration": 185,
    "start_time": "2022-02-17T20:05:37.809Z"
   },
   {
    "duration": 99,
    "start_time": "2022-02-17T20:05:37.996Z"
   },
   {
    "duration": 118,
    "start_time": "2022-02-17T20:05:38.097Z"
   },
   {
    "duration": 15,
    "start_time": "2022-02-17T20:05:38.217Z"
   },
   {
    "duration": 121,
    "start_time": "2022-02-17T20:05:38.234Z"
   },
   {
    "duration": 7,
    "start_time": "2022-02-17T20:05:38.357Z"
   },
   {
    "duration": 86,
    "start_time": "2022-02-17T20:05:38.368Z"
   },
   {
    "duration": 7,
    "start_time": "2022-02-17T20:05:38.457Z"
   },
   {
    "duration": 92,
    "start_time": "2022-02-17T20:05:38.467Z"
   },
   {
    "duration": 6,
    "start_time": "2022-02-17T20:05:38.562Z"
   },
   {
    "duration": 26,
    "start_time": "2022-02-17T20:05:38.594Z"
   },
   {
    "duration": 83,
    "start_time": "2022-02-17T20:05:38.623Z"
   },
   {
    "duration": 45,
    "start_time": "2022-02-17T20:05:38.708Z"
   },
   {
    "duration": 9,
    "start_time": "2022-02-17T20:05:38.755Z"
   },
   {
    "duration": 67,
    "start_time": "2022-02-17T20:05:38.766Z"
   },
   {
    "duration": 12,
    "start_time": "2022-02-17T20:05:38.835Z"
   },
   {
    "duration": 463,
    "start_time": "2022-02-17T20:05:38.850Z"
   },
   {
    "duration": 52,
    "start_time": "2022-02-17T20:05:39.316Z"
   },
   {
    "duration": 422,
    "start_time": "2022-02-17T20:05:39.371Z"
   },
   {
    "duration": 4,
    "start_time": "2022-02-17T20:06:24.525Z"
   },
   {
    "duration": 570,
    "start_time": "2022-02-17T20:06:24.532Z"
   },
   {
    "duration": 32,
    "start_time": "2022-02-17T20:06:25.105Z"
   },
   {
    "duration": 201,
    "start_time": "2022-02-17T20:06:25.140Z"
   },
   {
    "duration": 112,
    "start_time": "2022-02-17T20:06:25.344Z"
   },
   {
    "duration": 143,
    "start_time": "2022-02-17T20:06:25.459Z"
   },
   {
    "duration": 17,
    "start_time": "2022-02-17T20:06:25.605Z"
   },
   {
    "duration": 132,
    "start_time": "2022-02-17T20:06:25.625Z"
   },
   {
    "duration": 7,
    "start_time": "2022-02-17T20:06:25.763Z"
   },
   {
    "duration": 86,
    "start_time": "2022-02-17T20:06:25.773Z"
   },
   {
    "duration": 7,
    "start_time": "2022-02-17T20:06:25.862Z"
   },
   {
    "duration": 70,
    "start_time": "2022-02-17T20:06:25.894Z"
   },
   {
    "duration": 32,
    "start_time": "2022-02-17T20:06:25.966Z"
   },
   {
    "duration": 28,
    "start_time": "2022-02-17T20:06:26.000Z"
   },
   {
    "duration": 73,
    "start_time": "2022-02-17T20:06:26.030Z"
   },
   {
    "duration": 44,
    "start_time": "2022-02-17T20:06:26.105Z"
   },
   {
    "duration": 8,
    "start_time": "2022-02-17T20:06:26.151Z"
   },
   {
    "duration": 61,
    "start_time": "2022-02-17T20:06:26.162Z"
   },
   {
    "duration": 14,
    "start_time": "2022-02-17T20:06:26.225Z"
   },
   {
    "duration": 467,
    "start_time": "2022-02-17T20:06:26.242Z"
   },
   {
    "duration": 53,
    "start_time": "2022-02-17T20:06:26.711Z"
   },
   {
    "duration": 387,
    "start_time": "2022-02-17T20:06:26.793Z"
   },
   {
    "duration": 4,
    "start_time": "2022-02-17T20:08:02.289Z"
   },
   {
    "duration": 604,
    "start_time": "2022-02-17T20:08:02.296Z"
   },
   {
    "duration": 37,
    "start_time": "2022-02-17T20:08:02.904Z"
   },
   {
    "duration": 197,
    "start_time": "2022-02-17T20:08:02.944Z"
   },
   {
    "duration": 107,
    "start_time": "2022-02-17T20:08:03.143Z"
   },
   {
    "duration": 125,
    "start_time": "2022-02-17T20:08:03.252Z"
   },
   {
    "duration": 24,
    "start_time": "2022-02-17T20:08:03.381Z"
   },
   {
    "duration": 111,
    "start_time": "2022-02-17T20:08:03.408Z"
   },
   {
    "duration": 8,
    "start_time": "2022-02-17T20:08:03.522Z"
   },
   {
    "duration": 93,
    "start_time": "2022-02-17T20:08:03.533Z"
   },
   {
    "duration": 7,
    "start_time": "2022-02-17T20:08:03.629Z"
   },
   {
    "duration": 88,
    "start_time": "2022-02-17T20:08:03.638Z"
   },
   {
    "duration": 7,
    "start_time": "2022-02-17T20:08:03.729Z"
   },
   {
    "duration": 55,
    "start_time": "2022-02-17T20:08:03.739Z"
   },
   {
    "duration": 48,
    "start_time": "2022-02-17T20:08:03.797Z"
   },
   {
    "duration": 72,
    "start_time": "2022-02-17T20:08:03.848Z"
   },
   {
    "duration": 9,
    "start_time": "2022-02-17T20:08:03.922Z"
   },
   {
    "duration": 25,
    "start_time": "2022-02-17T20:08:03.934Z"
   },
   {
    "duration": 36,
    "start_time": "2022-02-17T20:08:03.963Z"
   },
   {
    "duration": 467,
    "start_time": "2022-02-17T20:08:04.001Z"
   },
   {
    "duration": 65,
    "start_time": "2022-02-17T20:08:04.471Z"
   },
   {
    "duration": 495,
    "start_time": "2022-02-17T20:08:04.539Z"
   },
   {
    "duration": 59,
    "start_time": "2022-02-17T20:11:03.795Z"
   },
   {
    "duration": 4,
    "start_time": "2022-02-17T20:12:14.347Z"
   },
   {
    "duration": 531,
    "start_time": "2022-02-17T20:12:14.354Z"
   },
   {
    "duration": 29,
    "start_time": "2022-02-17T20:12:14.888Z"
   },
   {
    "duration": 178,
    "start_time": "2022-02-17T20:12:14.920Z"
   },
   {
    "duration": 105,
    "start_time": "2022-02-17T20:12:15.100Z"
   },
   {
    "duration": 113,
    "start_time": "2022-02-17T20:12:15.207Z"
   },
   {
    "duration": 15,
    "start_time": "2022-02-17T20:12:15.323Z"
   },
   {
    "duration": 118,
    "start_time": "2022-02-17T20:12:15.342Z"
   },
   {
    "duration": 8,
    "start_time": "2022-02-17T20:12:15.463Z"
   },
   {
    "duration": 81,
    "start_time": "2022-02-17T20:12:15.473Z"
   },
   {
    "duration": 7,
    "start_time": "2022-02-17T20:12:15.557Z"
   },
   {
    "duration": 71,
    "start_time": "2022-02-17T20:12:15.594Z"
   },
   {
    "duration": 28,
    "start_time": "2022-02-17T20:12:15.667Z"
   },
   {
    "duration": 31,
    "start_time": "2022-02-17T20:12:15.698Z"
   },
   {
    "duration": 75,
    "start_time": "2022-02-17T20:12:15.732Z"
   },
   {
    "duration": 40,
    "start_time": "2022-02-17T20:12:15.810Z"
   },
   {
    "duration": 8,
    "start_time": "2022-02-17T20:12:15.853Z"
   },
   {
    "duration": 39,
    "start_time": "2022-02-17T20:12:15.863Z"
   },
   {
    "duration": 435,
    "start_time": "2022-02-17T20:12:15.905Z"
   },
   {
    "duration": 67,
    "start_time": "2022-02-17T20:12:16.343Z"
   },
   {
    "duration": 401,
    "start_time": "2022-02-17T20:12:16.412Z"
   },
   {
    "duration": 454,
    "start_time": "2022-02-17T20:13:17.743Z"
   },
   {
    "duration": 439,
    "start_time": "2022-02-17T20:14:37.587Z"
   },
   {
    "duration": 704,
    "start_time": "2022-02-17T20:14:51.209Z"
   },
   {
    "duration": 501,
    "start_time": "2022-02-17T20:14:59.929Z"
   },
   {
    "duration": 426,
    "start_time": "2022-02-17T20:15:13.032Z"
   },
   {
    "duration": 416,
    "start_time": "2022-02-17T20:15:20.118Z"
   },
   {
    "duration": 406,
    "start_time": "2022-02-17T20:16:32.535Z"
   },
   {
    "duration": 537,
    "start_time": "2022-02-17T20:18:27.670Z"
   },
   {
    "duration": 425,
    "start_time": "2022-02-17T20:18:31.903Z"
   },
   {
    "duration": 426,
    "start_time": "2022-02-17T20:18:45.044Z"
   },
   {
    "duration": 471,
    "start_time": "2022-02-17T20:19:08.022Z"
   },
   {
    "duration": 1110,
    "start_time": "2022-02-17T20:19:18.635Z"
   },
   {
    "duration": 678,
    "start_time": "2022-02-17T20:19:30.615Z"
   },
   {
    "duration": 526,
    "start_time": "2022-02-17T20:19:38.921Z"
   },
   {
    "duration": 481,
    "start_time": "2022-02-17T20:19:47.222Z"
   },
   {
    "duration": 661,
    "start_time": "2022-02-17T20:27:42.926Z"
   },
   {
    "duration": 417,
    "start_time": "2022-02-17T20:27:58.705Z"
   },
   {
    "duration": 1134,
    "start_time": "2022-02-17T20:33:24.932Z"
   },
   {
    "duration": 60,
    "start_time": "2022-02-17T20:34:00.791Z"
   },
   {
    "duration": 51,
    "start_time": "2022-02-17T20:34:19.125Z"
   },
   {
    "duration": 298,
    "start_time": "2022-02-17T20:37:31.888Z"
   },
   {
    "duration": 313,
    "start_time": "2022-02-17T20:37:40.405Z"
   },
   {
    "duration": 339,
    "start_time": "2022-02-17T20:37:47.512Z"
   },
   {
    "duration": 296,
    "start_time": "2022-02-17T20:37:52.738Z"
   },
   {
    "duration": 58,
    "start_time": "2022-02-17T20:37:59.107Z"
   },
   {
    "duration": 49,
    "start_time": "2022-02-17T21:33:26.765Z"
   },
   {
    "duration": 50,
    "start_time": "2022-02-17T21:33:39.759Z"
   },
   {
    "duration": 53,
    "start_time": "2022-02-17T21:33:50.435Z"
   },
   {
    "duration": 881,
    "start_time": "2022-02-17T21:46:43.381Z"
   },
   {
    "duration": 564,
    "start_time": "2022-02-17T21:46:44.264Z"
   },
   {
    "duration": 36,
    "start_time": "2022-02-17T21:46:44.832Z"
   },
   {
    "duration": 232,
    "start_time": "2022-02-17T21:46:44.871Z"
   },
   {
    "duration": 120,
    "start_time": "2022-02-17T21:46:45.106Z"
   },
   {
    "duration": 142,
    "start_time": "2022-02-17T21:46:45.229Z"
   },
   {
    "duration": 26,
    "start_time": "2022-02-17T21:46:45.375Z"
   },
   {
    "duration": 137,
    "start_time": "2022-02-17T21:46:45.406Z"
   },
   {
    "duration": 10,
    "start_time": "2022-02-17T21:46:45.548Z"
   },
   {
    "duration": 95,
    "start_time": "2022-02-17T21:46:45.561Z"
   },
   {
    "duration": 10,
    "start_time": "2022-02-17T21:46:45.659Z"
   },
   {
    "duration": 72,
    "start_time": "2022-02-17T21:46:45.695Z"
   },
   {
    "duration": 27,
    "start_time": "2022-02-17T21:46:45.769Z"
   },
   {
    "duration": 29,
    "start_time": "2022-02-17T21:46:45.798Z"
   },
   {
    "duration": 73,
    "start_time": "2022-02-17T21:46:45.829Z"
   },
   {
    "duration": 40,
    "start_time": "2022-02-17T21:46:45.905Z"
   },
   {
    "duration": 8,
    "start_time": "2022-02-17T21:46:45.947Z"
   },
   {
    "duration": 43,
    "start_time": "2022-02-17T21:46:45.957Z"
   },
   {
    "duration": 414,
    "start_time": "2022-02-17T21:46:46.002Z"
   },
   {
    "duration": 49,
    "start_time": "2022-02-17T21:46:46.418Z"
   },
   {
    "duration": 429,
    "start_time": "2022-02-17T21:46:46.470Z"
   },
   {
    "duration": 484,
    "start_time": "2022-02-17T21:46:46.903Z"
   },
   {
    "duration": 417,
    "start_time": "2022-02-17T21:46:47.394Z"
   },
   {
    "duration": 7557,
    "start_time": "2022-02-17T22:05:33.114Z"
   },
   {
    "duration": 4,
    "start_time": "2022-02-17T22:05:47.824Z"
   },
   {
    "duration": 578,
    "start_time": "2022-02-17T22:05:47.830Z"
   },
   {
    "duration": 30,
    "start_time": "2022-02-17T22:05:48.412Z"
   },
   {
    "duration": 193,
    "start_time": "2022-02-17T22:05:48.444Z"
   },
   {
    "duration": 106,
    "start_time": "2022-02-17T22:05:48.640Z"
   },
   {
    "duration": 123,
    "start_time": "2022-02-17T22:05:48.748Z"
   },
   {
    "duration": 29,
    "start_time": "2022-02-17T22:05:48.874Z"
   },
   {
    "duration": 115,
    "start_time": "2022-02-17T22:05:48.906Z"
   },
   {
    "duration": 7,
    "start_time": "2022-02-17T22:05:49.027Z"
   },
   {
    "duration": 93,
    "start_time": "2022-02-17T22:05:49.038Z"
   },
   {
    "duration": 7,
    "start_time": "2022-02-17T22:05:49.133Z"
   },
   {
    "duration": 90,
    "start_time": "2022-02-17T22:05:49.142Z"
   },
   {
    "duration": 7,
    "start_time": "2022-02-17T22:05:49.234Z"
   },
   {
    "duration": 50,
    "start_time": "2022-02-17T22:05:49.243Z"
   },
   {
    "duration": 44,
    "start_time": "2022-02-17T22:05:49.295Z"
   },
   {
    "duration": 64,
    "start_time": "2022-02-17T22:05:49.341Z"
   },
   {
    "duration": 7,
    "start_time": "2022-02-17T22:05:49.408Z"
   },
   {
    "duration": 10,
    "start_time": "2022-02-17T22:05:49.418Z"
   },
   {
    "duration": 482,
    "start_time": "2022-02-17T22:05:49.430Z"
   },
   {
    "duration": 700,
    "start_time": "2022-02-17T22:05:49.214Z"
   },
   {
    "duration": 690,
    "start_time": "2022-02-17T22:05:49.226Z"
   },
   {
    "duration": 687,
    "start_time": "2022-02-17T22:05:49.230Z"
   },
   {
    "duration": 677,
    "start_time": "2022-02-17T22:05:49.242Z"
   },
   {
    "duration": 674,
    "start_time": "2022-02-17T22:05:49.246Z"
   },
   {
    "duration": 473,
    "start_time": "2022-02-17T22:06:46.316Z"
   },
   {
    "duration": 13,
    "start_time": "2022-02-17T22:15:42.024Z"
   },
   {
    "duration": 14,
    "start_time": "2022-02-17T22:19:05.934Z"
   },
   {
    "duration": 414,
    "start_time": "2022-02-17T22:19:15.581Z"
   },
   {
    "duration": 58,
    "start_time": "2022-02-17T22:20:19.032Z"
   },
   {
    "duration": 4,
    "start_time": "2022-02-17T22:20:47.370Z"
   },
   {
    "duration": 568,
    "start_time": "2022-02-17T22:20:47.376Z"
   },
   {
    "duration": 31,
    "start_time": "2022-02-17T22:20:47.947Z"
   },
   {
    "duration": 175,
    "start_time": "2022-02-17T22:20:47.994Z"
   },
   {
    "duration": 101,
    "start_time": "2022-02-17T22:20:48.171Z"
   },
   {
    "duration": 127,
    "start_time": "2022-02-17T22:20:48.274Z"
   },
   {
    "duration": 14,
    "start_time": "2022-02-17T22:20:48.404Z"
   },
   {
    "duration": 115,
    "start_time": "2022-02-17T22:20:48.422Z"
   },
   {
    "duration": 7,
    "start_time": "2022-02-17T22:20:48.540Z"
   },
   {
    "duration": 89,
    "start_time": "2022-02-17T22:20:48.549Z"
   },
   {
    "duration": 8,
    "start_time": "2022-02-17T22:20:48.640Z"
   },
   {
    "duration": 90,
    "start_time": "2022-02-17T22:20:48.650Z"
   },
   {
    "duration": 8,
    "start_time": "2022-02-17T22:20:48.742Z"
   },
   {
    "duration": 50,
    "start_time": "2022-02-17T22:20:48.752Z"
   },
   {
    "duration": 48,
    "start_time": "2022-02-17T22:20:48.805Z"
   },
   {
    "duration": 68,
    "start_time": "2022-02-17T22:20:48.855Z"
   },
   {
    "duration": 7,
    "start_time": "2022-02-17T22:20:48.926Z"
   },
   {
    "duration": 14,
    "start_time": "2022-02-17T22:20:48.935Z"
   },
   {
    "duration": 442,
    "start_time": "2022-02-17T22:20:48.951Z"
   },
   {
    "duration": 50,
    "start_time": "2022-02-17T22:20:49.395Z"
   },
   {
    "duration": 440,
    "start_time": "2022-02-17T22:20:49.447Z"
   },
   {
    "duration": 470,
    "start_time": "2022-02-17T22:20:49.893Z"
   },
   {
    "duration": 430,
    "start_time": "2022-02-17T22:20:50.367Z"
   },
   {
    "duration": 6502,
    "start_time": "2022-02-17T22:20:50.800Z"
   },
   {
    "duration": 4,
    "start_time": "2022-02-17T22:22:20.671Z"
   },
   {
    "duration": 594,
    "start_time": "2022-02-17T22:22:20.677Z"
   },
   {
    "duration": 33,
    "start_time": "2022-02-17T22:22:21.274Z"
   },
   {
    "duration": 199,
    "start_time": "2022-02-17T22:22:21.310Z"
   },
   {
    "duration": 104,
    "start_time": "2022-02-17T22:22:21.511Z"
   },
   {
    "duration": 129,
    "start_time": "2022-02-17T22:22:21.618Z"
   },
   {
    "duration": 17,
    "start_time": "2022-02-17T22:22:21.751Z"
   },
   {
    "duration": 111,
    "start_time": "2022-02-17T22:22:21.795Z"
   },
   {
    "duration": 8,
    "start_time": "2022-02-17T22:22:21.909Z"
   },
   {
    "duration": 91,
    "start_time": "2022-02-17T22:22:21.920Z"
   },
   {
    "duration": 8,
    "start_time": "2022-02-17T22:22:22.014Z"
   },
   {
    "duration": 93,
    "start_time": "2022-02-17T22:22:22.024Z"
   },
   {
    "duration": 8,
    "start_time": "2022-02-17T22:22:22.119Z"
   },
   {
    "duration": 28,
    "start_time": "2022-02-17T22:22:22.129Z"
   },
   {
    "duration": 75,
    "start_time": "2022-02-17T22:22:22.160Z"
   },
   {
    "duration": 63,
    "start_time": "2022-02-17T22:22:22.238Z"
   },
   {
    "duration": 9,
    "start_time": "2022-02-17T22:22:22.303Z"
   },
   {
    "duration": 31,
    "start_time": "2022-02-17T22:22:22.314Z"
   },
   {
    "duration": 454,
    "start_time": "2022-02-17T22:22:22.350Z"
   },
   {
    "duration": 50,
    "start_time": "2022-02-17T22:22:22.807Z"
   },
   {
    "duration": 443,
    "start_time": "2022-02-17T22:22:22.859Z"
   },
   {
    "duration": 475,
    "start_time": "2022-02-17T22:22:23.304Z"
   },
   {
    "duration": 418,
    "start_time": "2022-02-17T22:22:23.782Z"
   },
   {
    "duration": 6466,
    "start_time": "2022-02-17T22:22:24.202Z"
   },
   {
    "duration": 22,
    "start_time": "2022-02-17T22:24:39.466Z"
   },
   {
    "duration": 294,
    "start_time": "2022-02-17T22:33:02.446Z"
   },
   {
    "duration": 550,
    "start_time": "2022-02-17T22:33:44.737Z"
   },
   {
    "duration": 5,
    "start_time": "2022-02-17T22:33:48.011Z"
   },
   {
    "duration": 570,
    "start_time": "2022-02-17T22:33:48.018Z"
   },
   {
    "duration": 30,
    "start_time": "2022-02-17T22:33:48.591Z"
   },
   {
    "duration": 203,
    "start_time": "2022-02-17T22:33:48.625Z"
   },
   {
    "duration": 111,
    "start_time": "2022-02-17T22:33:48.831Z"
   },
   {
    "duration": 123,
    "start_time": "2022-02-17T22:33:48.945Z"
   },
   {
    "duration": 23,
    "start_time": "2022-02-17T22:33:49.072Z"
   },
   {
    "duration": 113,
    "start_time": "2022-02-17T22:33:49.098Z"
   },
   {
    "duration": 7,
    "start_time": "2022-02-17T22:33:49.214Z"
   },
   {
    "duration": 89,
    "start_time": "2022-02-17T22:33:49.223Z"
   },
   {
    "duration": 8,
    "start_time": "2022-02-17T22:33:49.315Z"
   },
   {
    "duration": 99,
    "start_time": "2022-02-17T22:33:49.327Z"
   },
   {
    "duration": 8,
    "start_time": "2022-02-17T22:33:49.429Z"
   },
   {
    "duration": 25,
    "start_time": "2022-02-17T22:33:49.439Z"
   },
   {
    "duration": 50,
    "start_time": "2022-02-17T22:33:49.493Z"
   },
   {
    "duration": 69,
    "start_time": "2022-02-17T22:33:49.546Z"
   },
   {
    "duration": 8,
    "start_time": "2022-02-17T22:33:49.617Z"
   },
   {
    "duration": 17,
    "start_time": "2022-02-17T22:33:49.628Z"
   },
   {
    "duration": 471,
    "start_time": "2022-02-17T22:33:49.650Z"
   },
   {
    "duration": 22,
    "start_time": "2022-02-17T22:33:50.124Z"
   },
   {
    "duration": 78,
    "start_time": "2022-02-17T22:33:50.149Z"
   },
   {
    "duration": 424,
    "start_time": "2022-02-17T22:33:50.230Z"
   },
   {
    "duration": 477,
    "start_time": "2022-02-17T22:33:50.656Z"
   },
   {
    "duration": 458,
    "start_time": "2022-02-17T22:33:51.135Z"
   },
   {
    "duration": 16,
    "start_time": "2022-02-17T22:33:51.596Z"
   },
   {
    "duration": 16,
    "start_time": "2022-02-17T22:34:31.643Z"
   },
   {
    "duration": 661,
    "start_time": "2022-02-17T22:41:06.486Z"
   },
   {
    "duration": 492,
    "start_time": "2022-02-17T22:42:32.399Z"
   },
   {
    "duration": 392,
    "start_time": "2022-02-17T22:43:32.460Z"
   },
   {
    "duration": 395,
    "start_time": "2022-02-17T22:44:32.055Z"
   },
   {
    "duration": 16,
    "start_time": "2022-02-17T22:44:41.268Z"
   },
   {
    "duration": 14,
    "start_time": "2022-02-17T22:45:22.536Z"
   },
   {
    "duration": 104,
    "start_time": "2022-02-17T22:45:51.942Z"
   },
   {
    "duration": 25,
    "start_time": "2022-02-17T22:46:42.054Z"
   },
   {
    "duration": 23,
    "start_time": "2022-02-17T22:47:23.477Z"
   },
   {
    "duration": 25,
    "start_time": "2022-02-17T22:47:59.386Z"
   },
   {
    "duration": 23,
    "start_time": "2022-02-17T22:48:19.657Z"
   },
   {
    "duration": 359,
    "start_time": "2022-02-17T22:48:36.097Z"
   },
   {
    "duration": 24,
    "start_time": "2022-02-17T22:49:00.386Z"
   },
   {
    "duration": 27,
    "start_time": "2022-02-17T22:50:25.922Z"
   },
   {
    "duration": 23,
    "start_time": "2022-02-17T22:51:01.027Z"
   },
   {
    "duration": 24,
    "start_time": "2022-02-17T22:51:27.103Z"
   },
   {
    "duration": 25,
    "start_time": "2022-02-17T22:52:31.845Z"
   },
   {
    "duration": 20,
    "start_time": "2022-02-17T22:52:38.280Z"
   },
   {
    "duration": 17,
    "start_time": "2022-02-17T22:53:33.766Z"
   },
   {
    "duration": 6,
    "start_time": "2022-02-17T22:54:56.643Z"
   },
   {
    "duration": 7,
    "start_time": "2022-02-17T22:55:02.606Z"
   },
   {
    "duration": 20,
    "start_time": "2022-02-17T23:06:34.794Z"
   },
   {
    "duration": 23,
    "start_time": "2022-02-17T23:06:52.023Z"
   },
   {
    "duration": 16,
    "start_time": "2022-02-17T23:07:03.701Z"
   },
   {
    "duration": 4,
    "start_time": "2022-02-17T23:09:02.403Z"
   },
   {
    "duration": 570,
    "start_time": "2022-02-17T23:09:02.411Z"
   },
   {
    "duration": 31,
    "start_time": "2022-02-17T23:09:02.993Z"
   },
   {
    "duration": 192,
    "start_time": "2022-02-17T23:09:03.028Z"
   },
   {
    "duration": 108,
    "start_time": "2022-02-17T23:09:03.223Z"
   },
   {
    "duration": 121,
    "start_time": "2022-02-17T23:09:03.334Z"
   },
   {
    "duration": 14,
    "start_time": "2022-02-17T23:09:03.457Z"
   },
   {
    "duration": 107,
    "start_time": "2022-02-17T23:09:03.475Z"
   },
   {
    "duration": 7,
    "start_time": "2022-02-17T23:09:03.594Z"
   },
   {
    "duration": 95,
    "start_time": "2022-02-17T23:09:03.603Z"
   },
   {
    "duration": 8,
    "start_time": "2022-02-17T23:09:03.700Z"
   },
   {
    "duration": 92,
    "start_time": "2022-02-17T23:09:03.711Z"
   },
   {
    "duration": 6,
    "start_time": "2022-02-17T23:09:03.806Z"
   },
   {
    "duration": 25,
    "start_time": "2022-02-17T23:09:03.814Z"
   },
   {
    "duration": 82,
    "start_time": "2022-02-17T23:09:03.841Z"
   },
   {
    "duration": 43,
    "start_time": "2022-02-17T23:09:03.926Z"
   },
   {
    "duration": 30,
    "start_time": "2022-02-17T23:09:03.971Z"
   },
   {
    "duration": 18,
    "start_time": "2022-02-17T23:09:04.004Z"
   },
   {
    "duration": 445,
    "start_time": "2022-02-17T23:09:04.025Z"
   },
   {
    "duration": 28,
    "start_time": "2022-02-17T23:09:04.473Z"
   },
   {
    "duration": 55,
    "start_time": "2022-02-17T23:09:04.504Z"
   },
   {
    "duration": 440,
    "start_time": "2022-02-17T23:09:04.562Z"
   },
   {
    "duration": 490,
    "start_time": "2022-02-17T23:09:05.006Z"
   },
   {
    "duration": 421,
    "start_time": "2022-02-17T23:09:05.499Z"
   },
   {
    "duration": 23,
    "start_time": "2022-02-17T23:09:05.923Z"
   },
   {
    "duration": 7,
    "start_time": "2022-02-17T23:09:05.949Z"
   },
   {
    "duration": 19,
    "start_time": "2022-02-17T23:09:30.783Z"
   },
   {
    "duration": 20,
    "start_time": "2022-02-17T23:09:34.983Z"
   },
   {
    "duration": 17,
    "start_time": "2022-02-17T23:09:52.822Z"
   },
   {
    "duration": 17,
    "start_time": "2022-02-17T23:09:58.189Z"
   },
   {
    "duration": 19,
    "start_time": "2022-02-17T23:10:05.026Z"
   },
   {
    "duration": 18,
    "start_time": "2022-02-17T23:10:11.594Z"
   },
   {
    "duration": 18,
    "start_time": "2022-02-17T23:10:16.729Z"
   },
   {
    "duration": 20,
    "start_time": "2022-02-17T23:10:22.592Z"
   },
   {
    "duration": 18,
    "start_time": "2022-02-17T23:10:39.116Z"
   },
   {
    "duration": 19,
    "start_time": "2022-02-17T23:10:45.817Z"
   },
   {
    "duration": 19,
    "start_time": "2022-02-17T23:10:54.534Z"
   },
   {
    "duration": 24,
    "start_time": "2022-02-17T23:11:08.855Z"
   },
   {
    "duration": 20,
    "start_time": "2022-02-17T23:11:21.954Z"
   },
   {
    "duration": 340,
    "start_time": "2022-02-17T23:11:30.226Z"
   },
   {
    "duration": 16,
    "start_time": "2022-02-17T23:11:43.128Z"
   },
   {
    "duration": 17,
    "start_time": "2022-02-17T23:11:51.915Z"
   },
   {
    "duration": 1089,
    "start_time": "2022-02-18T08:33:58.362Z"
   },
   {
    "duration": 483,
    "start_time": "2022-02-18T08:33:59.453Z"
   },
   {
    "duration": 24,
    "start_time": "2022-02-18T08:33:59.938Z"
   },
   {
    "duration": 160,
    "start_time": "2022-02-18T08:33:59.964Z"
   },
   {
    "duration": 85,
    "start_time": "2022-02-18T08:34:00.125Z"
   },
   {
    "duration": 92,
    "start_time": "2022-02-18T08:34:00.212Z"
   },
   {
    "duration": 10,
    "start_time": "2022-02-18T08:34:00.305Z"
   },
   {
    "duration": 101,
    "start_time": "2022-02-18T08:34:00.317Z"
   },
   {
    "duration": 6,
    "start_time": "2022-02-18T08:34:00.420Z"
   },
   {
    "duration": 69,
    "start_time": "2022-02-18T08:34:00.428Z"
   },
   {
    "duration": 6,
    "start_time": "2022-02-18T08:34:00.499Z"
   },
   {
    "duration": 70,
    "start_time": "2022-02-18T08:34:00.507Z"
   },
   {
    "duration": 6,
    "start_time": "2022-02-18T08:34:00.579Z"
   },
   {
    "duration": 24,
    "start_time": "2022-02-18T08:34:00.587Z"
   },
   {
    "duration": 57,
    "start_time": "2022-02-18T08:34:00.613Z"
   },
   {
    "duration": 29,
    "start_time": "2022-02-18T08:34:00.672Z"
   },
   {
    "duration": 6,
    "start_time": "2022-02-18T08:34:00.703Z"
   },
   {
    "duration": 14,
    "start_time": "2022-02-18T08:34:00.711Z"
   },
   {
    "duration": 273,
    "start_time": "2022-02-18T08:34:00.727Z"
   },
   {
    "duration": 16,
    "start_time": "2022-02-18T08:34:01.002Z"
   },
   {
    "duration": 49,
    "start_time": "2022-02-18T08:34:01.020Z"
   },
   {
    "duration": 272,
    "start_time": "2022-02-18T08:34:01.071Z"
   },
   {
    "duration": 319,
    "start_time": "2022-02-18T08:34:01.345Z"
   },
   {
    "duration": 283,
    "start_time": "2022-02-18T08:34:01.666Z"
   },
   {
    "duration": 15,
    "start_time": "2022-02-18T08:34:01.951Z"
   },
   {
    "duration": 39,
    "start_time": "2022-02-18T08:34:01.968Z"
   },
   {
    "duration": 3,
    "start_time": "2022-02-18T09:53:57.894Z"
   },
   {
    "duration": 444,
    "start_time": "2022-02-18T09:53:57.927Z"
   },
   {
    "duration": 20,
    "start_time": "2022-02-18T09:53:58.373Z"
   },
   {
    "duration": 151,
    "start_time": "2022-02-18T09:53:58.396Z"
   },
   {
    "duration": 67,
    "start_time": "2022-02-18T09:53:58.549Z"
   },
   {
    "duration": 94,
    "start_time": "2022-02-18T09:53:58.618Z"
   },
   {
    "duration": 11,
    "start_time": "2022-02-18T09:53:58.715Z"
   },
   {
    "duration": 87,
    "start_time": "2022-02-18T09:53:58.728Z"
   },
   {
    "duration": 6,
    "start_time": "2022-02-18T09:53:58.818Z"
   },
   {
    "duration": 66,
    "start_time": "2022-02-18T09:53:58.826Z"
   },
   {
    "duration": 6,
    "start_time": "2022-02-18T09:53:58.893Z"
   },
   {
    "duration": 58,
    "start_time": "2022-02-18T09:53:58.901Z"
   },
   {
    "duration": 5,
    "start_time": "2022-02-18T09:53:58.961Z"
   },
   {
    "duration": 20,
    "start_time": "2022-02-18T09:53:58.968Z"
   },
   {
    "duration": 35,
    "start_time": "2022-02-18T09:53:58.990Z"
   },
   {
    "duration": 60,
    "start_time": "2022-02-18T09:53:59.026Z"
   },
   {
    "duration": 5,
    "start_time": "2022-02-18T09:53:59.088Z"
   },
   {
    "duration": 11,
    "start_time": "2022-02-18T09:53:59.095Z"
   },
   {
    "duration": 264,
    "start_time": "2022-02-18T09:53:59.108Z"
   },
   {
    "duration": 15,
    "start_time": "2022-02-18T09:53:59.374Z"
   },
   {
    "duration": 33,
    "start_time": "2022-02-18T09:53:59.390Z"
   },
   {
    "duration": 285,
    "start_time": "2022-02-18T09:53:59.425Z"
   },
   {
    "duration": 324,
    "start_time": "2022-02-18T09:53:59.712Z"
   },
   {
    "duration": 287,
    "start_time": "2022-02-18T09:54:00.039Z"
   },
   {
    "duration": 12,
    "start_time": "2022-02-18T09:54:00.328Z"
   },
   {
    "duration": 20,
    "start_time": "2022-02-18T09:54:00.342Z"
   },
   {
    "duration": 12,
    "start_time": "2022-02-18T09:57:48.026Z"
   },
   {
    "duration": 12,
    "start_time": "2022-02-18T09:58:58.059Z"
   },
   {
    "duration": 3,
    "start_time": "2022-02-18T09:59:51.985Z"
   },
   {
    "duration": 445,
    "start_time": "2022-02-18T09:59:51.990Z"
   },
   {
    "duration": 22,
    "start_time": "2022-02-18T09:59:52.438Z"
   },
   {
    "duration": 136,
    "start_time": "2022-02-18T09:59:52.462Z"
   },
   {
    "duration": 74,
    "start_time": "2022-02-18T09:59:52.599Z"
   },
   {
    "duration": 97,
    "start_time": "2022-02-18T09:59:52.675Z"
   },
   {
    "duration": 16,
    "start_time": "2022-02-18T09:59:52.775Z"
   },
   {
    "duration": 110,
    "start_time": "2022-02-18T09:59:52.793Z"
   },
   {
    "duration": 5,
    "start_time": "2022-02-18T09:59:52.905Z"
   },
   {
    "duration": 67,
    "start_time": "2022-02-18T09:59:52.912Z"
   },
   {
    "duration": 6,
    "start_time": "2022-02-18T09:59:52.981Z"
   },
   {
    "duration": 53,
    "start_time": "2022-02-18T09:59:52.988Z"
   },
   {
    "duration": 22,
    "start_time": "2022-02-18T09:59:53.042Z"
   },
   {
    "duration": 26,
    "start_time": "2022-02-18T09:59:53.066Z"
   },
   {
    "duration": 36,
    "start_time": "2022-02-18T09:59:53.094Z"
   },
   {
    "duration": 58,
    "start_time": "2022-02-18T09:59:53.132Z"
   },
   {
    "duration": 7,
    "start_time": "2022-02-18T09:59:53.191Z"
   },
   {
    "duration": 23,
    "start_time": "2022-02-18T09:59:53.200Z"
   },
   {
    "duration": 271,
    "start_time": "2022-02-18T09:59:53.226Z"
   },
   {
    "duration": 16,
    "start_time": "2022-02-18T09:59:53.499Z"
   },
   {
    "duration": 50,
    "start_time": "2022-02-18T09:59:53.517Z"
   },
   {
    "duration": 343,
    "start_time": "2022-02-18T09:59:53.569Z"
   },
   {
    "duration": 319,
    "start_time": "2022-02-18T09:59:53.914Z"
   },
   {
    "duration": 278,
    "start_time": "2022-02-18T09:59:54.235Z"
   },
   {
    "duration": 12,
    "start_time": "2022-02-18T09:59:54.515Z"
   },
   {
    "duration": 5,
    "start_time": "2022-02-18T09:59:54.528Z"
   },
   {
    "duration": 32,
    "start_time": "2022-02-18T09:59:54.535Z"
   },
   {
    "duration": 13,
    "start_time": "2022-02-18T10:00:22.113Z"
   },
   {
    "duration": 14,
    "start_time": "2022-02-18T10:00:32.451Z"
   },
   {
    "duration": 13,
    "start_time": "2022-02-18T10:00:54.810Z"
   },
   {
    "duration": 14,
    "start_time": "2022-02-18T10:01:05.634Z"
   },
   {
    "duration": 14,
    "start_time": "2022-02-18T10:01:40.242Z"
   },
   {
    "duration": 16,
    "start_time": "2022-02-18T10:01:52.157Z"
   },
   {
    "duration": 179,
    "start_time": "2022-02-18T10:16:10.870Z"
   },
   {
    "duration": 202,
    "start_time": "2022-02-18T10:16:33.237Z"
   },
   {
    "duration": 207,
    "start_time": "2022-02-18T10:16:59.178Z"
   },
   {
    "duration": 10,
    "start_time": "2022-02-18T10:18:27.253Z"
   },
   {
    "duration": 10,
    "start_time": "2022-02-18T10:18:45.830Z"
   },
   {
    "duration": 5,
    "start_time": "2022-02-18T10:18:55.244Z"
   },
   {
    "duration": 5,
    "start_time": "2022-02-18T10:19:07.597Z"
   },
   {
    "duration": 5,
    "start_time": "2022-02-18T10:19:13.254Z"
   },
   {
    "duration": 200,
    "start_time": "2022-02-18T10:57:03.869Z"
   },
   {
    "duration": 258,
    "start_time": "2022-02-18T10:57:56.370Z"
   },
   {
    "duration": 359,
    "start_time": "2022-02-18T10:58:02.166Z"
   },
   {
    "duration": 501,
    "start_time": "2022-02-18T10:58:22.601Z"
   },
   {
    "duration": 5635,
    "start_time": "2022-02-18T10:58:39.281Z"
   },
   {
    "duration": 3130,
    "start_time": "2022-02-18T10:59:06.474Z"
   },
   {
    "duration": 534,
    "start_time": "2022-02-18T11:04:19.584Z"
   },
   {
    "duration": 348,
    "start_time": "2022-02-18T11:04:37.104Z"
   },
   {
    "duration": 6,
    "start_time": "2022-02-18T11:18:33.049Z"
   },
   {
    "duration": 48,
    "start_time": "2022-02-18T11:19:08.705Z"
   },
   {
    "duration": 10,
    "start_time": "2022-02-18T11:19:17.041Z"
   },
   {
    "duration": 6,
    "start_time": "2022-02-18T11:19:26.737Z"
   },
   {
    "duration": 272,
    "start_time": "2022-02-18T11:20:38.657Z"
   },
   {
    "duration": 347,
    "start_time": "2022-02-18T11:20:55.577Z"
   },
   {
    "duration": 582,
    "start_time": "2022-02-18T11:21:01.249Z"
   },
   {
    "duration": 38,
    "start_time": "2022-02-18T11:26:39.368Z"
   },
   {
    "duration": 10,
    "start_time": "2022-02-18T11:27:02.499Z"
   },
   {
    "duration": 9,
    "start_time": "2022-02-18T11:27:49.442Z"
   },
   {
    "duration": 11,
    "start_time": "2022-02-18T11:29:16.866Z"
   },
   {
    "duration": 10,
    "start_time": "2022-02-18T11:31:16.175Z"
   },
   {
    "duration": 7,
    "start_time": "2022-02-18T11:36:18.676Z"
   },
   {
    "duration": 20,
    "start_time": "2022-02-18T11:36:29.595Z"
   },
   {
    "duration": 8,
    "start_time": "2022-02-18T11:36:48.472Z"
   },
   {
    "duration": 12,
    "start_time": "2022-02-18T11:37:02.349Z"
   },
   {
    "duration": 8,
    "start_time": "2022-02-18T11:37:19.420Z"
   },
   {
    "duration": 12,
    "start_time": "2022-02-18T11:43:41.677Z"
   },
   {
    "duration": 51,
    "start_time": "2022-02-18T12:06:32.527Z"
   },
   {
    "duration": 8,
    "start_time": "2022-02-18T12:06:39.588Z"
   },
   {
    "duration": 224,
    "start_time": "2022-02-18T12:07:20.932Z"
   },
   {
    "duration": 3,
    "start_time": "2022-02-18T12:07:25.074Z"
   },
   {
    "duration": 442,
    "start_time": "2022-02-18T12:07:25.079Z"
   },
   {
    "duration": 23,
    "start_time": "2022-02-18T12:07:25.523Z"
   },
   {
    "duration": 143,
    "start_time": "2022-02-18T12:07:25.548Z"
   },
   {
    "duration": 84,
    "start_time": "2022-02-18T12:07:25.693Z"
   },
   {
    "duration": 67,
    "start_time": "2022-02-18T12:07:25.779Z"
   },
   {
    "duration": 11,
    "start_time": "2022-02-18T12:07:25.860Z"
   },
   {
    "duration": 73,
    "start_time": "2022-02-18T12:07:25.872Z"
   },
   {
    "duration": 6,
    "start_time": "2022-02-18T12:07:25.959Z"
   },
   {
    "duration": 52,
    "start_time": "2022-02-18T12:07:25.967Z"
   },
   {
    "duration": 6,
    "start_time": "2022-02-18T12:07:26.021Z"
   },
   {
    "duration": 71,
    "start_time": "2022-02-18T12:07:26.029Z"
   },
   {
    "duration": 6,
    "start_time": "2022-02-18T12:07:26.102Z"
   },
   {
    "duration": 20,
    "start_time": "2022-02-18T12:07:26.109Z"
   },
   {
    "duration": 59,
    "start_time": "2022-02-18T12:07:26.131Z"
   },
   {
    "duration": 30,
    "start_time": "2022-02-18T12:07:26.192Z"
   },
   {
    "duration": 7,
    "start_time": "2022-02-18T12:07:26.224Z"
   },
   {
    "duration": 12,
    "start_time": "2022-02-18T12:07:26.260Z"
   },
   {
    "duration": 260,
    "start_time": "2022-02-18T12:07:26.276Z"
   },
   {
    "duration": 24,
    "start_time": "2022-02-18T12:07:26.539Z"
   },
   {
    "duration": 32,
    "start_time": "2022-02-18T12:07:26.564Z"
   },
   {
    "duration": 290,
    "start_time": "2022-02-18T12:07:26.597Z"
   },
   {
    "duration": 332,
    "start_time": "2022-02-18T12:07:26.888Z"
   },
   {
    "duration": 287,
    "start_time": "2022-02-18T12:07:27.222Z"
   },
   {
    "duration": 12,
    "start_time": "2022-02-18T12:07:27.511Z"
   },
   {
    "duration": 5,
    "start_time": "2022-02-18T12:07:27.525Z"
   },
   {
    "duration": 318,
    "start_time": "2022-02-18T12:07:27.531Z"
   },
   {
    "duration": 13,
    "start_time": "2022-02-18T12:07:27.851Z"
   },
   {
    "duration": 9,
    "start_time": "2022-02-18T12:07:27.866Z"
   },
   {
    "duration": 154,
    "start_time": "2022-02-18T12:07:27.877Z"
   },
   {
    "duration": -16,
    "start_time": "2022-02-18T12:07:28.049Z"
   },
   {
    "duration": 7,
    "start_time": "2022-02-18T12:07:41.744Z"
   },
   {
    "duration": 198,
    "start_time": "2022-02-18T12:07:58.506Z"
   },
   {
    "duration": 8,
    "start_time": "2022-02-18T12:08:12.194Z"
   },
   {
    "duration": 7,
    "start_time": "2022-02-18T12:08:35.898Z"
   },
   {
    "duration": 7,
    "start_time": "2022-02-18T12:09:20.907Z"
   },
   {
    "duration": 16,
    "start_time": "2022-02-18T12:09:27.851Z"
   },
   {
    "duration": 8,
    "start_time": "2022-02-18T12:09:41.139Z"
   },
   {
    "duration": 10,
    "start_time": "2022-02-18T12:10:11.130Z"
   },
   {
    "duration": 8,
    "start_time": "2022-02-18T12:10:20.290Z"
   },
   {
    "duration": 6,
    "start_time": "2022-02-18T12:10:24.930Z"
   },
   {
    "duration": 9,
    "start_time": "2022-02-18T12:10:40.797Z"
   },
   {
    "duration": 9,
    "start_time": "2022-02-18T12:10:45.970Z"
   },
   {
    "duration": 147,
    "start_time": "2022-02-18T12:10:54.642Z"
   },
   {
    "duration": 219,
    "start_time": "2022-02-18T12:11:11.465Z"
   },
   {
    "duration": 139,
    "start_time": "2022-02-18T12:12:54.072Z"
   },
   {
    "duration": 13,
    "start_time": "2022-02-18T12:12:58.570Z"
   },
   {
    "duration": 137,
    "start_time": "2022-02-18T12:13:11.122Z"
   },
   {
    "duration": 144,
    "start_time": "2022-02-18T12:13:13.363Z"
   },
   {
    "duration": 136,
    "start_time": "2022-02-18T12:13:17.531Z"
   },
   {
    "duration": 175,
    "start_time": "2022-02-18T12:13:21.523Z"
   },
   {
    "duration": 6,
    "start_time": "2022-02-18T12:24:24.038Z"
   },
   {
    "duration": 6,
    "start_time": "2022-02-18T12:24:50.132Z"
   },
   {
    "duration": 10,
    "start_time": "2022-02-18T12:26:10.691Z"
   },
   {
    "duration": 9,
    "start_time": "2022-02-18T12:34:20.902Z"
   },
   {
    "duration": 9,
    "start_time": "2022-02-18T13:05:21.717Z"
   },
   {
    "duration": 43,
    "start_time": "2022-02-18T13:06:10.182Z"
   },
   {
    "duration": 10,
    "start_time": "2022-02-18T13:06:17.142Z"
   },
   {
    "duration": 11,
    "start_time": "2022-02-18T13:08:28.654Z"
   },
   {
    "duration": 9,
    "start_time": "2022-02-18T13:08:38.462Z"
   },
   {
    "duration": 12,
    "start_time": "2022-02-18T13:13:22.824Z"
   },
   {
    "duration": 1164,
    "start_time": "2022-02-18T13:13:41.833Z"
   },
   {
    "duration": 9,
    "start_time": "2022-02-18T13:13:50.440Z"
   },
   {
    "duration": 10,
    "start_time": "2022-02-18T13:14:47.576Z"
   },
   {
    "duration": 11,
    "start_time": "2022-02-18T13:16:25.210Z"
   },
   {
    "duration": 44,
    "start_time": "2022-02-18T13:23:26.984Z"
   },
   {
    "duration": 8,
    "start_time": "2022-02-18T13:23:31.535Z"
   },
   {
    "duration": 7,
    "start_time": "2022-02-18T13:23:51.144Z"
   },
   {
    "duration": 8,
    "start_time": "2022-02-18T13:24:48.080Z"
   },
   {
    "duration": 10,
    "start_time": "2022-02-18T13:25:58.523Z"
   },
   {
    "duration": 8,
    "start_time": "2022-02-18T13:26:05.767Z"
   },
   {
    "duration": 7,
    "start_time": "2022-02-18T13:26:08.760Z"
   },
   {
    "duration": 18,
    "start_time": "2022-02-18T13:45:22.682Z"
   },
   {
    "duration": 8,
    "start_time": "2022-02-18T13:56:46.021Z"
   },
   {
    "duration": 307,
    "start_time": "2022-02-18T17:30:44.784Z"
   },
   {
    "duration": 1115,
    "start_time": "2022-02-18T17:30:50.292Z"
   },
   {
    "duration": 435,
    "start_time": "2022-02-18T17:30:51.410Z"
   },
   {
    "duration": 25,
    "start_time": "2022-02-18T17:30:51.847Z"
   },
   {
    "duration": 165,
    "start_time": "2022-02-18T17:30:51.875Z"
   },
   {
    "duration": 77,
    "start_time": "2022-02-18T17:30:52.042Z"
   },
   {
    "duration": 75,
    "start_time": "2022-02-18T17:30:52.121Z"
   },
   {
    "duration": 29,
    "start_time": "2022-02-18T17:30:52.197Z"
   },
   {
    "duration": 96,
    "start_time": "2022-02-18T17:30:52.229Z"
   },
   {
    "duration": 5,
    "start_time": "2022-02-18T17:30:52.327Z"
   },
   {
    "duration": 49,
    "start_time": "2022-02-18T17:30:52.333Z"
   },
   {
    "duration": 5,
    "start_time": "2022-02-18T17:30:52.384Z"
   },
   {
    "duration": 52,
    "start_time": "2022-02-18T17:30:52.419Z"
   },
   {
    "duration": 6,
    "start_time": "2022-02-18T17:30:52.473Z"
   },
   {
    "duration": 41,
    "start_time": "2022-02-18T17:30:52.480Z"
   },
   {
    "duration": 39,
    "start_time": "2022-02-18T17:30:52.523Z"
   },
   {
    "duration": 56,
    "start_time": "2022-02-18T17:30:52.564Z"
   },
   {
    "duration": 7,
    "start_time": "2022-02-18T17:30:52.623Z"
   },
   {
    "duration": 14,
    "start_time": "2022-02-18T17:30:52.632Z"
   },
   {
    "duration": 299,
    "start_time": "2022-02-18T17:30:52.648Z"
   },
   {
    "duration": 14,
    "start_time": "2022-02-18T17:30:52.949Z"
   },
   {
    "duration": 33,
    "start_time": "2022-02-18T17:30:52.965Z"
   },
   {
    "duration": 272,
    "start_time": "2022-02-18T17:30:53.019Z"
   },
   {
    "duration": 305,
    "start_time": "2022-02-18T17:30:53.294Z"
   },
   {
    "duration": 262,
    "start_time": "2022-02-18T17:30:53.601Z"
   },
   {
    "duration": 13,
    "start_time": "2022-02-18T17:30:53.865Z"
   },
   {
    "duration": 5,
    "start_time": "2022-02-18T17:30:53.879Z"
   },
   {
    "duration": 304,
    "start_time": "2022-02-18T17:30:53.886Z"
   },
   {
    "duration": 26,
    "start_time": "2022-02-18T17:30:54.192Z"
   },
   {
    "duration": 18,
    "start_time": "2022-02-18T17:30:54.220Z"
   },
   {
    "duration": 7,
    "start_time": "2022-02-18T17:31:25.703Z"
   },
   {
    "duration": 7,
    "start_time": "2022-02-18T17:31:43.965Z"
   },
   {
    "duration": 11,
    "start_time": "2022-02-18T17:33:02.566Z"
   },
   {
    "duration": 14,
    "start_time": "2022-02-18T17:33:58.577Z"
   },
   {
    "duration": 11,
    "start_time": "2022-02-18T17:34:16.779Z"
   },
   {
    "duration": 9,
    "start_time": "2022-02-18T17:34:49.788Z"
   },
   {
    "duration": 305,
    "start_time": "2022-02-18T17:35:48.200Z"
   },
   {
    "duration": 225,
    "start_time": "2022-02-18T17:36:04.387Z"
   },
   {
    "duration": 217,
    "start_time": "2022-02-18T17:36:28.809Z"
   },
   {
    "duration": 9,
    "start_time": "2022-02-18T17:36:43.261Z"
   },
   {
    "duration": 13,
    "start_time": "2022-02-18T17:36:53.498Z"
   },
   {
    "duration": 12,
    "start_time": "2022-02-18T17:37:16.485Z"
   },
   {
    "duration": 5697,
    "start_time": "2022-02-18T17:38:24.867Z"
   },
   {
    "duration": 72,
    "start_time": "2022-02-18T17:39:09.047Z"
   },
   {
    "duration": 69,
    "start_time": "2022-02-18T17:39:14.312Z"
   },
   {
    "duration": 7,
    "start_time": "2022-02-18T17:39:29.367Z"
   },
   {
    "duration": 1481,
    "start_time": "2022-02-18T17:41:17.672Z"
   },
   {
    "duration": 69,
    "start_time": "2022-02-18T17:41:33.090Z"
   },
   {
    "duration": 222,
    "start_time": "2022-02-18T17:41:42.327Z"
   },
   {
    "duration": 4,
    "start_time": "2022-02-18T17:42:29.206Z"
   },
   {
    "duration": 438,
    "start_time": "2022-02-18T17:42:29.212Z"
   },
   {
    "duration": 19,
    "start_time": "2022-02-18T17:42:29.652Z"
   },
   {
    "duration": 138,
    "start_time": "2022-02-18T17:42:29.673Z"
   },
   {
    "duration": 63,
    "start_time": "2022-02-18T17:42:29.813Z"
   },
   {
    "duration": 100,
    "start_time": "2022-02-18T17:42:29.878Z"
   },
   {
    "duration": 9,
    "start_time": "2022-02-18T17:42:29.982Z"
   },
   {
    "duration": 96,
    "start_time": "2022-02-18T17:42:29.993Z"
   },
   {
    "duration": 6,
    "start_time": "2022-02-18T17:42:30.091Z"
   },
   {
    "duration": 77,
    "start_time": "2022-02-18T17:42:30.098Z"
   },
   {
    "duration": 6,
    "start_time": "2022-02-18T17:42:30.176Z"
   },
   {
    "duration": 55,
    "start_time": "2022-02-18T17:42:30.183Z"
   },
   {
    "duration": 6,
    "start_time": "2022-02-18T17:42:30.240Z"
   },
   {
    "duration": 40,
    "start_time": "2022-02-18T17:42:30.247Z"
   },
   {
    "duration": 37,
    "start_time": "2022-02-18T17:42:30.289Z"
   },
   {
    "duration": 30,
    "start_time": "2022-02-18T17:42:30.328Z"
   },
   {
    "duration": 23,
    "start_time": "2022-02-18T17:42:30.360Z"
   },
   {
    "duration": 18,
    "start_time": "2022-02-18T17:42:30.385Z"
   },
   {
    "duration": 274,
    "start_time": "2022-02-18T17:42:30.406Z"
   },
   {
    "duration": 15,
    "start_time": "2022-02-18T17:42:30.682Z"
   },
   {
    "duration": 52,
    "start_time": "2022-02-18T17:42:30.699Z"
   },
   {
    "duration": 255,
    "start_time": "2022-02-18T17:42:30.753Z"
   },
   {
    "duration": 304,
    "start_time": "2022-02-18T17:42:31.010Z"
   },
   {
    "duration": 348,
    "start_time": "2022-02-18T17:42:31.318Z"
   },
   {
    "duration": 12,
    "start_time": "2022-02-18T17:42:31.668Z"
   },
   {
    "duration": 19,
    "start_time": "2022-02-18T17:42:31.681Z"
   },
   {
    "duration": 308,
    "start_time": "2022-02-18T17:42:31.702Z"
   },
   {
    "duration": 18,
    "start_time": "2022-02-18T17:42:32.012Z"
   },
   {
    "duration": 210,
    "start_time": "2022-02-18T17:42:32.032Z"
   },
   {
    "duration": 204,
    "start_time": "2022-02-18T17:42:35.453Z"
   },
   {
    "duration": 268,
    "start_time": "2022-02-18T17:43:41.036Z"
   },
   {
    "duration": 9,
    "start_time": "2022-02-18T17:45:47.380Z"
   },
   {
    "duration": 17,
    "start_time": "2022-02-18T17:46:15.603Z"
   },
   {
    "duration": 17,
    "start_time": "2022-02-18T17:46:52.694Z"
   },
   {
    "duration": 3,
    "start_time": "2022-02-18T17:47:02.535Z"
   },
   {
    "duration": 431,
    "start_time": "2022-02-18T17:47:02.540Z"
   },
   {
    "duration": 19,
    "start_time": "2022-02-18T17:47:02.973Z"
   },
   {
    "duration": 139,
    "start_time": "2022-02-18T17:47:02.994Z"
   },
   {
    "duration": 64,
    "start_time": "2022-02-18T17:47:03.135Z"
   },
   {
    "duration": 81,
    "start_time": "2022-02-18T17:47:03.201Z"
   },
   {
    "duration": 12,
    "start_time": "2022-02-18T17:47:03.284Z"
   },
   {
    "duration": 70,
    "start_time": "2022-02-18T17:47:03.318Z"
   },
   {
    "duration": 5,
    "start_time": "2022-02-18T17:47:03.391Z"
   },
   {
    "duration": 65,
    "start_time": "2022-02-18T17:47:03.399Z"
   },
   {
    "duration": 6,
    "start_time": "2022-02-18T17:47:03.465Z"
   },
   {
    "duration": 72,
    "start_time": "2022-02-18T17:47:03.472Z"
   },
   {
    "duration": 6,
    "start_time": "2022-02-18T17:47:03.546Z"
   },
   {
    "duration": 24,
    "start_time": "2022-02-18T17:47:03.553Z"
   },
   {
    "duration": 56,
    "start_time": "2022-02-18T17:47:03.579Z"
   },
   {
    "duration": 28,
    "start_time": "2022-02-18T17:47:03.637Z"
   },
   {
    "duration": 6,
    "start_time": "2022-02-18T17:47:03.667Z"
   },
   {
    "duration": 19,
    "start_time": "2022-02-18T17:47:03.674Z"
   },
   {
    "duration": 268,
    "start_time": "2022-02-18T17:47:03.718Z"
   },
   {
    "duration": 14,
    "start_time": "2022-02-18T17:47:03.988Z"
   },
   {
    "duration": 32,
    "start_time": "2022-02-18T17:47:04.018Z"
   },
   {
    "duration": 269,
    "start_time": "2022-02-18T17:47:04.052Z"
   },
   {
    "duration": 307,
    "start_time": "2022-02-18T17:47:04.323Z"
   },
   {
    "duration": 268,
    "start_time": "2022-02-18T17:47:04.632Z"
   },
   {
    "duration": 22,
    "start_time": "2022-02-18T17:47:04.901Z"
   },
   {
    "duration": 5,
    "start_time": "2022-02-18T17:47:04.925Z"
   },
   {
    "duration": 297,
    "start_time": "2022-02-18T17:47:04.933Z"
   },
   {
    "duration": 14,
    "start_time": "2022-02-18T17:47:05.231Z"
   },
   {
    "duration": 19,
    "start_time": "2022-02-18T17:47:05.247Z"
   },
   {
    "duration": 12,
    "start_time": "2022-02-18T17:48:46.685Z"
   },
   {
    "duration": 13,
    "start_time": "2022-02-18T17:49:06.843Z"
   },
   {
    "duration": 213,
    "start_time": "2022-02-18T17:49:14.441Z"
   },
   {
    "duration": 214,
    "start_time": "2022-02-18T17:49:25.344Z"
   },
   {
    "duration": 222,
    "start_time": "2022-02-18T17:50:18.030Z"
   },
   {
    "duration": 1865,
    "start_time": "2022-02-18T17:50:30.849Z"
   },
   {
    "duration": 18,
    "start_time": "2022-02-18T17:54:38.701Z"
   },
   {
    "duration": 71,
    "start_time": "2022-02-18T17:55:27.545Z"
   },
   {
    "duration": 16,
    "start_time": "2022-02-18T17:55:35.445Z"
   },
   {
    "duration": 9,
    "start_time": "2022-02-18T17:55:50.769Z"
   },
   {
    "duration": 9,
    "start_time": "2022-02-18T17:56:40.154Z"
   },
   {
    "duration": 11,
    "start_time": "2022-02-18T17:56:47.628Z"
   },
   {
    "duration": 8,
    "start_time": "2022-02-18T18:14:54.023Z"
   },
   {
    "duration": 7,
    "start_time": "2022-02-18T18:15:02.591Z"
   },
   {
    "duration": 9,
    "start_time": "2022-02-18T18:15:32.399Z"
   },
   {
    "duration": 201,
    "start_time": "2022-02-18T18:16:55.083Z"
   },
   {
    "duration": 22,
    "start_time": "2022-02-18T18:18:28.503Z"
   },
   {
    "duration": 65,
    "start_time": "2022-02-18T18:19:16.265Z"
   },
   {
    "duration": 24,
    "start_time": "2022-02-18T18:19:22.812Z"
   },
   {
    "duration": 17,
    "start_time": "2022-02-18T18:22:29.356Z"
   },
   {
    "duration": 1130,
    "start_time": "2022-02-18T18:54:06.415Z"
   },
   {
    "duration": 454,
    "start_time": "2022-02-18T18:54:07.547Z"
   },
   {
    "duration": 30,
    "start_time": "2022-02-18T18:54:08.005Z"
   },
   {
    "duration": 200,
    "start_time": "2022-02-18T18:54:08.037Z"
   },
   {
    "duration": 83,
    "start_time": "2022-02-18T18:54:08.240Z"
   },
   {
    "duration": 105,
    "start_time": "2022-02-18T18:54:08.325Z"
   },
   {
    "duration": 14,
    "start_time": "2022-02-18T18:54:08.433Z"
   },
   {
    "duration": 121,
    "start_time": "2022-02-18T18:54:08.449Z"
   },
   {
    "duration": 7,
    "start_time": "2022-02-18T18:54:08.572Z"
   },
   {
    "duration": 83,
    "start_time": "2022-02-18T18:54:08.581Z"
   },
   {
    "duration": 22,
    "start_time": "2022-02-18T18:54:08.666Z"
   },
   {
    "duration": 74,
    "start_time": "2022-02-18T18:54:08.689Z"
   },
   {
    "duration": 5,
    "start_time": "2022-02-18T18:54:08.765Z"
   },
   {
    "duration": 25,
    "start_time": "2022-02-18T18:54:08.772Z"
   },
   {
    "duration": 56,
    "start_time": "2022-02-18T18:54:08.799Z"
   },
   {
    "duration": 61,
    "start_time": "2022-02-18T18:54:08.857Z"
   },
   {
    "duration": 9,
    "start_time": "2022-02-18T18:54:08.920Z"
   },
   {
    "duration": 17,
    "start_time": "2022-02-18T18:54:08.931Z"
   },
   {
    "duration": 305,
    "start_time": "2022-02-18T18:54:08.950Z"
   },
   {
    "duration": 17,
    "start_time": "2022-02-18T18:54:09.257Z"
   },
   {
    "duration": 59,
    "start_time": "2022-02-18T18:54:09.276Z"
   },
   {
    "duration": 304,
    "start_time": "2022-02-18T18:54:09.337Z"
   },
   {
    "duration": 332,
    "start_time": "2022-02-18T18:54:09.646Z"
   },
   {
    "duration": 297,
    "start_time": "2022-02-18T18:54:09.980Z"
   },
   {
    "duration": 14,
    "start_time": "2022-02-18T18:54:10.279Z"
   },
   {
    "duration": 23,
    "start_time": "2022-02-18T18:54:10.295Z"
   },
   {
    "duration": 385,
    "start_time": "2022-02-18T18:54:10.321Z"
   },
   {
    "duration": 20,
    "start_time": "2022-02-18T18:54:10.708Z"
   },
   {
    "duration": 111,
    "start_time": "2022-02-28T15:01:41.957Z"
   },
   {
    "duration": 314,
    "start_time": "2022-02-28T15:15:17.180Z"
   },
   {
    "duration": 920,
    "start_time": "2022-02-28T15:15:36.141Z"
   },
   {
    "duration": 400,
    "start_time": "2022-02-28T15:15:37.062Z"
   },
   {
    "duration": 19,
    "start_time": "2022-02-28T15:15:37.464Z"
   },
   {
    "duration": 109,
    "start_time": "2022-02-28T15:15:37.484Z"
   },
   {
    "duration": 56,
    "start_time": "2022-02-28T15:15:37.594Z"
   },
   {
    "duration": 75,
    "start_time": "2022-02-28T15:15:37.651Z"
   },
   {
    "duration": 8,
    "start_time": "2022-02-28T15:15:37.728Z"
   },
   {
    "duration": 82,
    "start_time": "2022-02-28T15:15:37.738Z"
   },
   {
    "duration": 4,
    "start_time": "2022-02-28T15:15:37.822Z"
   },
   {
    "duration": 37,
    "start_time": "2022-02-28T15:15:37.828Z"
   },
   {
    "duration": 4,
    "start_time": "2022-02-28T15:15:37.867Z"
   },
   {
    "duration": 66,
    "start_time": "2022-02-28T15:15:37.872Z"
   },
   {
    "duration": 4,
    "start_time": "2022-02-28T15:15:37.940Z"
   },
   {
    "duration": 14,
    "start_time": "2022-02-28T15:15:37.946Z"
   },
   {
    "duration": 51,
    "start_time": "2022-02-28T15:15:37.961Z"
   },
   {
    "duration": 24,
    "start_time": "2022-02-28T15:15:38.013Z"
   },
   {
    "duration": 5,
    "start_time": "2022-02-28T15:15:38.038Z"
   },
   {
    "duration": 10,
    "start_time": "2022-02-28T15:15:38.044Z"
   },
   {
    "duration": 251,
    "start_time": "2022-02-28T15:15:38.055Z"
   },
   {
    "duration": 12,
    "start_time": "2022-02-28T15:15:38.308Z"
   },
   {
    "duration": 5,
    "start_time": "2022-02-28T15:15:38.322Z"
   },
   {
    "duration": 28,
    "start_time": "2022-02-28T15:15:38.328Z"
   },
   {
    "duration": 235,
    "start_time": "2022-02-28T15:15:38.359Z"
   },
   {
    "duration": 250,
    "start_time": "2022-02-28T15:15:38.595Z"
   },
   {
    "duration": 223,
    "start_time": "2022-02-28T15:15:38.846Z"
   },
   {
    "duration": 10,
    "start_time": "2022-02-28T15:15:39.071Z"
   },
   {
    "duration": 7,
    "start_time": "2022-02-28T15:15:39.082Z"
   },
   {
    "duration": 256,
    "start_time": "2022-02-28T15:15:39.090Z"
   },
   {
    "duration": 10,
    "start_time": "2022-02-28T15:15:39.347Z"
   },
   {
    "duration": 5,
    "start_time": "2022-02-28T15:16:14.274Z"
   },
   {
    "duration": 5,
    "start_time": "2022-02-28T15:16:20.147Z"
   },
   {
    "duration": 19,
    "start_time": "2022-02-28T15:16:44.627Z"
   },
   {
    "duration": 5,
    "start_time": "2022-02-28T15:16:53.724Z"
   },
   {
    "duration": 4,
    "start_time": "2022-02-28T15:17:48.589Z"
   },
   {
    "duration": 4,
    "start_time": "2022-02-28T15:17:58.974Z"
   },
   {
    "duration": 5,
    "start_time": "2022-02-28T15:29:30.743Z"
   },
   {
    "duration": 15,
    "start_time": "2022-02-28T15:33:34.880Z"
   },
   {
    "duration": 58,
    "start_time": "2022-02-28T15:34:06.921Z"
   },
   {
    "duration": 33,
    "start_time": "2022-02-28T15:34:10.576Z"
   },
   {
    "duration": 1412,
    "start_time": "2022-02-28T15:34:49.651Z"
   },
   {
    "duration": 13,
    "start_time": "2022-02-28T15:34:51.051Z"
   },
   {
    "duration": 13,
    "start_time": "2022-02-28T15:35:34.828Z"
   },
   {
    "duration": 1090,
    "start_time": "2022-02-28T15:35:53.173Z"
   },
   {
    "duration": 402,
    "start_time": "2022-02-28T15:35:54.264Z"
   },
   {
    "duration": 19,
    "start_time": "2022-02-28T15:35:54.668Z"
   },
   {
    "duration": 119,
    "start_time": "2022-02-28T15:35:54.688Z"
   },
   {
    "duration": 51,
    "start_time": "2022-02-28T15:35:54.809Z"
   },
   {
    "duration": 80,
    "start_time": "2022-02-28T15:35:54.862Z"
   },
   {
    "duration": 9,
    "start_time": "2022-02-28T15:35:54.943Z"
   },
   {
    "duration": 85,
    "start_time": "2022-02-28T15:35:54.954Z"
   },
   {
    "duration": 5,
    "start_time": "2022-02-28T15:35:55.041Z"
   },
   {
    "duration": 43,
    "start_time": "2022-02-28T15:35:55.047Z"
   },
   {
    "duration": 16,
    "start_time": "2022-02-28T15:35:55.092Z"
   },
   {
    "duration": 44,
    "start_time": "2022-02-28T15:35:55.109Z"
   },
   {
    "duration": 5,
    "start_time": "2022-02-28T15:35:55.154Z"
   },
   {
    "duration": 17,
    "start_time": "2022-02-28T15:35:55.160Z"
   },
   {
    "duration": 53,
    "start_time": "2022-02-28T15:35:55.178Z"
   },
   {
    "duration": 24,
    "start_time": "2022-02-28T15:35:55.233Z"
   },
   {
    "duration": 5,
    "start_time": "2022-02-28T15:35:55.258Z"
   },
   {
    "duration": 8,
    "start_time": "2022-02-28T15:35:55.264Z"
   },
   {
    "duration": 260,
    "start_time": "2022-02-28T15:35:55.274Z"
   },
   {
    "duration": 13,
    "start_time": "2022-02-28T15:35:55.536Z"
   },
   {
    "duration": 5,
    "start_time": "2022-02-28T15:35:55.551Z"
   },
   {
    "duration": 50,
    "start_time": "2022-02-28T15:35:55.558Z"
   },
   {
    "duration": 225,
    "start_time": "2022-02-28T15:35:55.612Z"
   },
   {
    "duration": 250,
    "start_time": "2022-02-28T15:35:55.839Z"
   },
   {
    "duration": 221,
    "start_time": "2022-02-28T15:35:56.090Z"
   },
   {
    "duration": 10,
    "start_time": "2022-02-28T15:35:56.313Z"
   },
   {
    "duration": 4,
    "start_time": "2022-02-28T15:35:56.325Z"
   },
   {
    "duration": 251,
    "start_time": "2022-02-28T15:35:56.331Z"
   },
   {
    "duration": 22,
    "start_time": "2022-02-28T15:35:56.583Z"
   },
   {
    "duration": 12,
    "start_time": "2022-02-28T15:40:18.771Z"
   },
   {
    "duration": 1225,
    "start_time": "2022-02-28T15:41:46.610Z"
   },
   {
    "duration": 91,
    "start_time": "2022-02-28T15:42:47.397Z"
   },
   {
    "duration": 10,
    "start_time": "2022-02-28T15:43:27.747Z"
   },
   {
    "duration": 994,
    "start_time": "2022-02-28T15:44:38.062Z"
   },
   {
    "duration": 405,
    "start_time": "2022-02-28T15:44:39.057Z"
   },
   {
    "duration": 20,
    "start_time": "2022-02-28T15:44:39.464Z"
   },
   {
    "duration": 119,
    "start_time": "2022-02-28T15:44:39.486Z"
   },
   {
    "duration": 53,
    "start_time": "2022-02-28T15:44:39.607Z"
   },
   {
    "duration": 76,
    "start_time": "2022-02-28T15:44:39.662Z"
   },
   {
    "duration": 9,
    "start_time": "2022-02-28T15:44:39.739Z"
   },
   {
    "duration": 83,
    "start_time": "2022-02-28T15:44:39.750Z"
   },
   {
    "duration": 4,
    "start_time": "2022-02-28T15:44:39.835Z"
   },
   {
    "duration": 38,
    "start_time": "2022-02-28T15:44:39.841Z"
   },
   {
    "duration": 424,
    "start_time": "2022-02-28T15:44:39.880Z"
   },
   {
    "duration": 56,
    "start_time": "2022-02-28T15:44:40.250Z"
   },
   {
    "duration": 55,
    "start_time": "2022-02-28T15:44:40.252Z"
   },
   {
    "duration": 54,
    "start_time": "2022-02-28T15:44:40.253Z"
   },
   {
    "duration": 53,
    "start_time": "2022-02-28T15:44:40.255Z"
   },
   {
    "duration": 52,
    "start_time": "2022-02-28T15:44:40.257Z"
   },
   {
    "duration": 52,
    "start_time": "2022-02-28T15:44:40.258Z"
   },
   {
    "duration": 39,
    "start_time": "2022-02-28T15:44:40.272Z"
   },
   {
    "duration": 36,
    "start_time": "2022-02-28T15:44:40.276Z"
   },
   {
    "duration": 35,
    "start_time": "2022-02-28T15:44:40.278Z"
   },
   {
    "duration": 34,
    "start_time": "2022-02-28T15:44:40.280Z"
   },
   {
    "duration": 32,
    "start_time": "2022-02-28T15:44:40.282Z"
   },
   {
    "duration": 31,
    "start_time": "2022-02-28T15:44:40.284Z"
   },
   {
    "duration": 30,
    "start_time": "2022-02-28T15:44:40.286Z"
   },
   {
    "duration": 29,
    "start_time": "2022-02-28T15:44:40.288Z"
   },
   {
    "duration": 29,
    "start_time": "2022-02-28T15:44:40.289Z"
   },
   {
    "duration": 25,
    "start_time": "2022-02-28T15:44:40.294Z"
   },
   {
    "duration": 24,
    "start_time": "2022-02-28T15:44:40.296Z"
   },
   {
    "duration": 22,
    "start_time": "2022-02-28T15:44:40.298Z"
   },
   {
    "duration": 22,
    "start_time": "2022-02-28T15:44:40.299Z"
   },
   {
    "duration": 8,
    "start_time": "2022-02-28T15:46:02.758Z"
   },
   {
    "duration": 911,
    "start_time": "2022-02-28T15:46:51.351Z"
   },
   {
    "duration": 400,
    "start_time": "2022-02-28T15:46:52.263Z"
   },
   {
    "duration": 20,
    "start_time": "2022-02-28T15:46:52.665Z"
   },
   {
    "duration": 112,
    "start_time": "2022-02-28T15:46:52.687Z"
   },
   {
    "duration": 54,
    "start_time": "2022-02-28T15:46:52.801Z"
   },
   {
    "duration": 75,
    "start_time": "2022-02-28T15:46:52.857Z"
   },
   {
    "duration": 8,
    "start_time": "2022-02-28T15:46:52.934Z"
   },
   {
    "duration": 84,
    "start_time": "2022-02-28T15:46:52.944Z"
   },
   {
    "duration": 5,
    "start_time": "2022-02-28T15:46:53.030Z"
   },
   {
    "duration": 46,
    "start_time": "2022-02-28T15:46:53.036Z"
   },
   {
    "duration": 7,
    "start_time": "2022-02-28T15:46:53.084Z"
   },
   {
    "duration": 5,
    "start_time": "2022-02-28T15:46:53.105Z"
   },
   {
    "duration": 41,
    "start_time": "2022-02-28T15:46:53.111Z"
   },
   {
    "duration": 8,
    "start_time": "2022-02-28T15:46:53.153Z"
   },
   {
    "duration": 6,
    "start_time": "2022-02-28T15:46:53.162Z"
   },
   {
    "duration": 38,
    "start_time": "2022-02-28T15:46:53.169Z"
   },
   {
    "duration": 28,
    "start_time": "2022-02-28T15:46:53.208Z"
   },
   {
    "duration": 11,
    "start_time": "2022-02-28T15:46:53.237Z"
   },
   {
    "duration": 25,
    "start_time": "2022-02-28T15:46:53.249Z"
   },
   {
    "duration": 32,
    "start_time": "2022-02-28T15:46:53.276Z"
   },
   {
    "duration": 9,
    "start_time": "2022-02-28T15:46:53.310Z"
   },
   {
    "duration": 237,
    "start_time": "2022-02-28T15:46:53.321Z"
   },
   {
    "duration": 11,
    "start_time": "2022-02-28T15:46:53.562Z"
   },
   {
    "duration": 16,
    "start_time": "2022-02-28T15:46:53.575Z"
   },
   {
    "duration": 36,
    "start_time": "2022-02-28T15:46:53.592Z"
   },
   {
    "duration": 227,
    "start_time": "2022-02-28T15:46:53.630Z"
   },
   {
    "duration": 247,
    "start_time": "2022-02-28T15:46:53.858Z"
   },
   {
    "duration": 228,
    "start_time": "2022-02-28T15:46:54.107Z"
   },
   {
    "duration": 11,
    "start_time": "2022-02-28T15:46:54.337Z"
   },
   {
    "duration": 8,
    "start_time": "2022-02-28T15:46:54.349Z"
   },
   {
    "duration": 248,
    "start_time": "2022-02-28T15:46:54.358Z"
   },
   {
    "duration": 11,
    "start_time": "2022-02-28T15:46:54.608Z"
   },
   {
    "duration": 13,
    "start_time": "2022-02-28T15:48:46.311Z"
   },
   {
    "duration": 15,
    "start_time": "2022-02-28T15:51:15.005Z"
   },
   {
    "duration": 14,
    "start_time": "2022-02-28T15:52:22.976Z"
   },
   {
    "duration": 14,
    "start_time": "2022-02-28T15:52:40.993Z"
   },
   {
    "duration": 12,
    "start_time": "2022-02-28T15:53:04.297Z"
   },
   {
    "duration": 7,
    "start_time": "2022-02-28T16:06:15.959Z"
   },
   {
    "duration": 24,
    "start_time": "2022-02-28T16:06:31.006Z"
   },
   {
    "duration": 397,
    "start_time": "2022-02-28T16:06:56.600Z"
   },
   {
    "duration": 4,
    "start_time": "2022-02-28T16:07:05.535Z"
   },
   {
    "duration": 44,
    "start_time": "2022-02-28T16:07:37.616Z"
   },
   {
    "duration": 51,
    "start_time": "2022-02-28T16:08:15.386Z"
   },
   {
    "duration": 4,
    "start_time": "2022-02-28T16:11:59.147Z"
   },
   {
    "duration": 4,
    "start_time": "2022-02-28T16:12:05.466Z"
   },
   {
    "duration": 5,
    "start_time": "2022-02-28T16:12:10.730Z"
   },
   {
    "duration": 18,
    "start_time": "2022-02-28T16:13:20.140Z"
   },
   {
    "duration": 6,
    "start_time": "2022-02-28T16:13:36.502Z"
   },
   {
    "duration": 100,
    "start_time": "2022-02-28T16:16:54.085Z"
   },
   {
    "duration": 88,
    "start_time": "2022-02-28T16:23:11.075Z"
   },
   {
    "duration": 68,
    "start_time": "2022-02-28T16:23:19.867Z"
   },
   {
    "duration": 2,
    "start_time": "2022-02-28T16:23:20.745Z"
   },
   {
    "duration": 3,
    "start_time": "2022-02-28T16:23:35.788Z"
   },
   {
    "duration": 4,
    "start_time": "2022-02-28T16:23:51.371Z"
   },
   {
    "duration": 4,
    "start_time": "2022-02-28T16:24:00.805Z"
   },
   {
    "duration": 4,
    "start_time": "2022-02-28T16:24:11.213Z"
   },
   {
    "duration": 1639,
    "start_time": "2022-02-28T16:25:07.559Z"
   },
   {
    "duration": 16,
    "start_time": "2022-02-28T16:25:47.761Z"
   },
   {
    "duration": 98,
    "start_time": "2022-02-28T16:32:02.550Z"
   },
   {
    "duration": 302,
    "start_time": "2022-02-28T16:35:35.198Z"
   },
   {
    "duration": 11,
    "start_time": "2022-02-28T16:36:46.249Z"
   },
   {
    "duration": 987,
    "start_time": "2022-02-28T16:36:57.574Z"
   },
   {
    "duration": 422,
    "start_time": "2022-02-28T16:36:58.563Z"
   },
   {
    "duration": 18,
    "start_time": "2022-02-28T16:36:58.987Z"
   },
   {
    "duration": 118,
    "start_time": "2022-02-28T16:36:59.007Z"
   },
   {
    "duration": 51,
    "start_time": "2022-02-28T16:36:59.126Z"
   },
   {
    "duration": 75,
    "start_time": "2022-02-28T16:36:59.178Z"
   },
   {
    "duration": 8,
    "start_time": "2022-02-28T16:36:59.254Z"
   },
   {
    "duration": 79,
    "start_time": "2022-02-28T16:36:59.264Z"
   },
   {
    "duration": 4,
    "start_time": "2022-02-28T16:36:59.346Z"
   },
   {
    "duration": 56,
    "start_time": "2022-02-28T16:36:59.352Z"
   },
   {
    "duration": 8,
    "start_time": "2022-02-28T16:36:59.409Z"
   },
   {
    "duration": 7,
    "start_time": "2022-02-28T16:36:59.418Z"
   },
   {
    "duration": 44,
    "start_time": "2022-02-28T16:36:59.426Z"
   },
   {
    "duration": 9,
    "start_time": "2022-02-28T16:36:59.472Z"
   },
   {
    "duration": 6,
    "start_time": "2022-02-28T16:36:59.506Z"
   },
   {
    "duration": 15,
    "start_time": "2022-02-28T16:36:59.514Z"
   },
   {
    "duration": 29,
    "start_time": "2022-02-28T16:36:59.530Z"
   },
   {
    "duration": 10,
    "start_time": "2022-02-28T16:36:59.561Z"
   },
   {
    "duration": 56,
    "start_time": "2022-02-28T16:36:59.573Z"
   },
   {
    "duration": 6,
    "start_time": "2022-02-28T16:36:59.630Z"
   },
   {
    "duration": 10,
    "start_time": "2022-02-28T16:36:59.637Z"
   },
   {
    "duration": 246,
    "start_time": "2022-02-28T16:36:59.648Z"
   },
   {
    "duration": 16,
    "start_time": "2022-02-28T16:36:59.896Z"
   },
   {
    "duration": 15,
    "start_time": "2022-02-28T16:36:59.914Z"
   },
   {
    "duration": 27,
    "start_time": "2022-02-28T16:36:59.931Z"
   },
   {
    "duration": 70,
    "start_time": "2022-02-28T16:36:59.959Z"
   },
   {
    "duration": 234,
    "start_time": "2022-02-28T16:37:00.032Z"
   },
   {
    "duration": 251,
    "start_time": "2022-02-28T16:37:00.267Z"
   },
   {
    "duration": 223,
    "start_time": "2022-02-28T16:37:00.520Z"
   },
   {
    "duration": 11,
    "start_time": "2022-02-28T16:37:00.744Z"
   },
   {
    "duration": 7,
    "start_time": "2022-02-28T16:37:00.757Z"
   },
   {
    "duration": 257,
    "start_time": "2022-02-28T16:37:00.765Z"
   },
   {
    "duration": 12,
    "start_time": "2022-02-28T16:37:01.023Z"
   },
   {
    "duration": 22,
    "start_time": "2022-02-28T16:37:01.036Z"
   },
   {
    "duration": 86,
    "start_time": "2022-02-28T16:37:01.059Z"
   },
   {
    "duration": 1605,
    "start_time": "2022-02-28T16:37:01.146Z"
   },
   {
    "duration": 1052,
    "start_time": "2022-02-28T16:37:12.513Z"
   },
   {
    "duration": 419,
    "start_time": "2022-02-28T16:37:13.567Z"
   },
   {
    "duration": 23,
    "start_time": "2022-02-28T16:37:13.988Z"
   },
   {
    "duration": 125,
    "start_time": "2022-02-28T16:37:14.012Z"
   },
   {
    "duration": 51,
    "start_time": "2022-02-28T16:37:14.138Z"
   },
   {
    "duration": 73,
    "start_time": "2022-02-28T16:37:14.191Z"
   },
   {
    "duration": 8,
    "start_time": "2022-02-28T16:37:14.266Z"
   },
   {
    "duration": 82,
    "start_time": "2022-02-28T16:37:14.277Z"
   },
   {
    "duration": 5,
    "start_time": "2022-02-28T16:37:14.361Z"
   },
   {
    "duration": 57,
    "start_time": "2022-02-28T16:37:14.367Z"
   },
   {
    "duration": 8,
    "start_time": "2022-02-28T16:37:14.425Z"
   },
   {
    "duration": 6,
    "start_time": "2022-02-28T16:37:14.435Z"
   },
   {
    "duration": 43,
    "start_time": "2022-02-28T16:37:14.442Z"
   },
   {
    "duration": 25,
    "start_time": "2022-02-28T16:37:14.487Z"
   },
   {
    "duration": 6,
    "start_time": "2022-02-28T16:37:14.514Z"
   },
   {
    "duration": 17,
    "start_time": "2022-02-28T16:37:14.521Z"
   },
   {
    "duration": 32,
    "start_time": "2022-02-28T16:37:14.540Z"
   },
   {
    "duration": 38,
    "start_time": "2022-02-28T16:37:14.573Z"
   },
   {
    "duration": 27,
    "start_time": "2022-02-28T16:37:14.613Z"
   },
   {
    "duration": 5,
    "start_time": "2022-02-28T16:37:14.642Z"
   },
   {
    "duration": 8,
    "start_time": "2022-02-28T16:37:14.649Z"
   },
   {
    "duration": 264,
    "start_time": "2022-02-28T16:37:14.658Z"
   },
   {
    "duration": 12,
    "start_time": "2022-02-28T16:37:14.925Z"
   },
   {
    "duration": 13,
    "start_time": "2022-02-28T16:37:14.939Z"
   },
   {
    "duration": 29,
    "start_time": "2022-02-28T16:37:14.953Z"
   },
   {
    "duration": 70,
    "start_time": "2022-02-28T16:37:14.983Z"
   },
   {
    "duration": 242,
    "start_time": "2022-02-28T16:37:15.055Z"
   },
   {
    "duration": 250,
    "start_time": "2022-02-28T16:37:15.299Z"
   },
   {
    "duration": 221,
    "start_time": "2022-02-28T16:37:15.551Z"
   },
   {
    "duration": 9,
    "start_time": "2022-02-28T16:37:15.774Z"
   },
   {
    "duration": 4,
    "start_time": "2022-02-28T16:37:15.784Z"
   },
   {
    "duration": 248,
    "start_time": "2022-02-28T16:37:15.789Z"
   },
   {
    "duration": 10,
    "start_time": "2022-02-28T16:37:16.038Z"
   },
   {
    "duration": 15,
    "start_time": "2022-02-28T16:37:16.049Z"
   },
   {
    "duration": 88,
    "start_time": "2022-02-28T16:37:16.065Z"
   },
   {
    "duration": 1515,
    "start_time": "2022-02-28T16:37:16.154Z"
   },
   {
    "duration": 12,
    "start_time": "2022-02-28T16:37:28.018Z"
   },
   {
    "duration": 5,
    "start_time": "2022-02-28T16:37:29.552Z"
   },
   {
    "duration": 486,
    "start_time": "2022-02-28T16:37:40.137Z"
   },
   {
    "duration": 6,
    "start_time": "2022-02-28T16:37:53.777Z"
   },
   {
    "duration": 7,
    "start_time": "2022-02-28T16:38:37.979Z"
   },
   {
    "duration": 14,
    "start_time": "2022-02-28T16:38:52.165Z"
   },
   {
    "duration": 94,
    "start_time": "2022-02-28T21:13:10.658Z"
   },
   {
    "duration": 370,
    "start_time": "2022-02-28T21:19:39.460Z"
   },
   {
    "duration": 1093,
    "start_time": "2022-02-28T21:19:46.548Z"
   },
   {
    "duration": 428,
    "start_time": "2022-02-28T21:19:47.642Z"
   },
   {
    "duration": 349,
    "start_time": "2022-02-28T21:19:48.071Z"
   },
   {
    "duration": -234,
    "start_time": "2022-02-28T21:19:48.656Z"
   },
   {
    "duration": -240,
    "start_time": "2022-02-28T21:19:48.663Z"
   },
   {
    "duration": -245,
    "start_time": "2022-02-28T21:19:48.669Z"
   },
   {
    "duration": -264,
    "start_time": "2022-02-28T21:19:48.689Z"
   },
   {
    "duration": -269,
    "start_time": "2022-02-28T21:19:48.695Z"
   },
   {
    "duration": -274,
    "start_time": "2022-02-28T21:19:48.701Z"
   },
   {
    "duration": -278,
    "start_time": "2022-02-28T21:19:48.706Z"
   },
   {
    "duration": -281,
    "start_time": "2022-02-28T21:19:48.710Z"
   },
   {
    "duration": -285,
    "start_time": "2022-02-28T21:19:48.715Z"
   },
   {
    "duration": -289,
    "start_time": "2022-02-28T21:19:48.720Z"
   },
   {
    "duration": -292,
    "start_time": "2022-02-28T21:19:48.724Z"
   },
   {
    "duration": -295,
    "start_time": "2022-02-28T21:19:48.728Z"
   },
   {
    "duration": -300,
    "start_time": "2022-02-28T21:19:48.734Z"
   },
   {
    "duration": -304,
    "start_time": "2022-02-28T21:19:48.738Z"
   },
   {
    "duration": -308,
    "start_time": "2022-02-28T21:19:48.743Z"
   },
   {
    "duration": -311,
    "start_time": "2022-02-28T21:19:48.747Z"
   },
   {
    "duration": -315,
    "start_time": "2022-02-28T21:19:48.752Z"
   },
   {
    "duration": -318,
    "start_time": "2022-02-28T21:19:48.756Z"
   },
   {
    "duration": -321,
    "start_time": "2022-02-28T21:19:48.760Z"
   },
   {
    "duration": -324,
    "start_time": "2022-02-28T21:19:48.764Z"
   },
   {
    "duration": -329,
    "start_time": "2022-02-28T21:19:48.770Z"
   },
   {
    "duration": -335,
    "start_time": "2022-02-28T21:19:48.777Z"
   },
   {
    "duration": -340,
    "start_time": "2022-02-28T21:19:48.783Z"
   },
   {
    "duration": -358,
    "start_time": "2022-02-28T21:19:48.802Z"
   },
   {
    "duration": -362,
    "start_time": "2022-02-28T21:19:48.807Z"
   },
   {
    "duration": -365,
    "start_time": "2022-02-28T21:19:48.811Z"
   },
   {
    "duration": -368,
    "start_time": "2022-02-28T21:19:48.815Z"
   },
   {
    "duration": -372,
    "start_time": "2022-02-28T21:19:48.820Z"
   },
   {
    "duration": -375,
    "start_time": "2022-02-28T21:19:48.824Z"
   },
   {
    "duration": -378,
    "start_time": "2022-02-28T21:19:48.828Z"
   },
   {
    "duration": -381,
    "start_time": "2022-02-28T21:19:48.832Z"
   },
   {
    "duration": -384,
    "start_time": "2022-02-28T21:19:48.836Z"
   },
   {
    "duration": -388,
    "start_time": "2022-02-28T21:19:48.841Z"
   },
   {
    "duration": -392,
    "start_time": "2022-02-28T21:19:48.846Z"
   },
   {
    "duration": 230,
    "start_time": "2022-02-28T21:20:18.348Z"
   },
   {
    "duration": 6,
    "start_time": "2022-02-28T21:20:30.088Z"
   },
   {
    "duration": 232,
    "start_time": "2022-02-28T21:20:38.533Z"
   },
   {
    "duration": 231,
    "start_time": "2022-02-28T21:20:46.636Z"
   },
   {
    "duration": 235,
    "start_time": "2022-02-28T21:20:57.703Z"
   },
   {
    "duration": 5,
    "start_time": "2022-02-28T21:21:05.196Z"
   },
   {
    "duration": 218,
    "start_time": "2022-02-28T21:21:11.108Z"
   },
   {
    "duration": 243,
    "start_time": "2022-02-28T21:21:25.683Z"
   },
   {
    "duration": 259,
    "start_time": "2022-02-28T21:21:31.330Z"
   },
   {
    "duration": 10,
    "start_time": "2022-02-28T21:22:33.491Z"
   },
   {
    "duration": 401,
    "start_time": "2022-02-28T21:22:48.699Z"
   },
   {
    "duration": 46,
    "start_time": "2022-02-28T21:23:02.623Z"
   },
   {
    "duration": 48,
    "start_time": "2022-02-28T21:23:14.884Z"
   },
   {
    "duration": 79,
    "start_time": "2022-02-28T21:23:19.254Z"
   },
   {
    "duration": 27888,
    "start_time": "2022-02-28T21:23:25.953Z"
   },
   {
    "duration": 34,
    "start_time": "2022-02-28T21:24:03.929Z"
   },
   {
    "duration": 254,
    "start_time": "2022-02-28T21:24:35.170Z"
   },
   {
    "duration": 35,
    "start_time": "2022-02-28T21:24:44.853Z"
   },
   {
    "duration": 1037,
    "start_time": "2022-02-28T21:28:09.615Z"
   },
   {
    "duration": 449,
    "start_time": "2022-02-28T21:28:10.654Z"
   },
   {
    "duration": 22,
    "start_time": "2022-02-28T21:28:11.105Z"
   },
   {
    "duration": 152,
    "start_time": "2022-02-28T21:28:11.129Z"
   },
   {
    "duration": 81,
    "start_time": "2022-02-28T21:28:11.282Z"
   },
   {
    "duration": 71,
    "start_time": "2022-02-28T21:28:11.364Z"
   },
   {
    "duration": 22,
    "start_time": "2022-02-28T21:28:11.437Z"
   },
   {
    "duration": 84,
    "start_time": "2022-02-28T21:28:11.460Z"
   },
   {
    "duration": 5,
    "start_time": "2022-02-28T21:28:11.561Z"
   },
   {
    "duration": 48,
    "start_time": "2022-02-28T21:28:11.569Z"
   },
   {
    "duration": 39,
    "start_time": "2022-02-28T21:28:11.619Z"
   },
   {
    "duration": 7,
    "start_time": "2022-02-28T21:28:11.660Z"
   },
   {
    "duration": 52,
    "start_time": "2022-02-28T21:28:11.669Z"
   },
   {
    "duration": 38,
    "start_time": "2022-02-28T21:28:11.723Z"
   },
   {
    "duration": 7,
    "start_time": "2022-02-28T21:28:11.763Z"
   },
   {
    "duration": 19,
    "start_time": "2022-02-28T21:28:11.772Z"
   },
   {
    "duration": 70,
    "start_time": "2022-02-28T21:28:11.793Z"
   },
   {
    "duration": 14,
    "start_time": "2022-02-28T21:28:11.865Z"
   },
   {
    "duration": 31,
    "start_time": "2022-02-28T21:28:11.881Z"
   },
   {
    "duration": 7,
    "start_time": "2022-02-28T21:28:11.914Z"
   },
   {
    "duration": 43,
    "start_time": "2022-02-28T21:28:11.923Z"
   },
   {
    "duration": 286,
    "start_time": "2022-02-28T21:28:11.968Z"
   },
   {
    "duration": 15,
    "start_time": "2022-02-28T21:28:12.259Z"
   },
   {
    "duration": 16,
    "start_time": "2022-02-28T21:28:12.276Z"
   },
   {
    "duration": 31,
    "start_time": "2022-02-28T21:28:12.294Z"
   },
   {
    "duration": 93,
    "start_time": "2022-02-28T21:28:12.326Z"
   },
   {
    "duration": 316,
    "start_time": "2022-02-28T21:28:12.423Z"
   },
   {
    "duration": 327,
    "start_time": "2022-02-28T21:28:12.741Z"
   },
   {
    "duration": 268,
    "start_time": "2022-02-28T21:28:13.070Z"
   },
   {
    "duration": 21,
    "start_time": "2022-02-28T21:28:13.340Z"
   },
   {
    "duration": 5,
    "start_time": "2022-02-28T21:28:13.362Z"
   },
   {
    "duration": 298,
    "start_time": "2022-02-28T21:28:13.368Z"
   },
   {
    "duration": 11,
    "start_time": "2022-02-28T21:28:13.668Z"
   },
   {
    "duration": 17,
    "start_time": "2022-02-28T21:28:13.681Z"
   },
   {
    "duration": 103,
    "start_time": "2022-02-28T21:28:13.700Z"
   },
   {
    "duration": 1738,
    "start_time": "2022-02-28T21:28:13.804Z"
   },
   {
    "duration": 334,
    "start_time": "2022-02-28T21:44:58.556Z"
   },
   {
    "duration": 7585,
    "start_time": "2022-02-28T21:45:19.427Z"
   },
   {
    "duration": 6737,
    "start_time": "2022-02-28T21:46:10.690Z"
   },
   {
    "duration": 3,
    "start_time": "2022-02-28T21:46:22.382Z"
   },
   {
    "duration": 446,
    "start_time": "2022-02-28T21:46:22.387Z"
   },
   {
    "duration": 18,
    "start_time": "2022-02-28T21:46:22.835Z"
   },
   {
    "duration": 128,
    "start_time": "2022-02-28T21:46:22.855Z"
   },
   {
    "duration": 64,
    "start_time": "2022-02-28T21:46:22.985Z"
   },
   {
    "duration": 66,
    "start_time": "2022-02-28T21:46:23.059Z"
   },
   {
    "duration": 9,
    "start_time": "2022-02-28T21:46:23.127Z"
   },
   {
    "duration": 84,
    "start_time": "2022-02-28T21:46:23.138Z"
   },
   {
    "duration": 5,
    "start_time": "2022-02-28T21:46:23.223Z"
   },
   {
    "duration": 64,
    "start_time": "2022-02-28T21:46:23.230Z"
   },
   {
    "duration": 9,
    "start_time": "2022-02-28T21:46:23.296Z"
   },
   {
    "duration": 6,
    "start_time": "2022-02-28T21:46:23.306Z"
   },
   {
    "duration": 67,
    "start_time": "2022-02-28T21:46:23.314Z"
   },
   {
    "duration": 9,
    "start_time": "2022-02-28T21:46:23.383Z"
   },
   {
    "duration": 9,
    "start_time": "2022-02-28T21:46:23.393Z"
   },
   {
    "duration": 17,
    "start_time": "2022-02-28T21:46:23.403Z"
   },
   {
    "duration": 59,
    "start_time": "2022-02-28T21:46:23.422Z"
   },
   {
    "duration": 14,
    "start_time": "2022-02-28T21:46:23.482Z"
   },
   {
    "duration": 30,
    "start_time": "2022-02-28T21:46:23.501Z"
   },
   {
    "duration": 30,
    "start_time": "2022-02-28T21:46:23.534Z"
   },
   {
    "duration": 9,
    "start_time": "2022-02-28T21:46:23.566Z"
   },
   {
    "duration": 286,
    "start_time": "2022-02-28T21:46:23.577Z"
   },
   {
    "duration": 16,
    "start_time": "2022-02-28T21:46:23.865Z"
   },
   {
    "duration": 15,
    "start_time": "2022-02-28T21:46:23.883Z"
   },
   {
    "duration": 30,
    "start_time": "2022-02-28T21:46:23.900Z"
   },
   {
    "duration": 94,
    "start_time": "2022-02-28T21:46:23.932Z"
   },
   {
    "duration": 297,
    "start_time": "2022-02-28T21:46:24.027Z"
   },
   {
    "duration": 321,
    "start_time": "2022-02-28T21:46:24.325Z"
   },
   {
    "duration": 288,
    "start_time": "2022-02-28T21:46:24.648Z"
   },
   {
    "duration": 21,
    "start_time": "2022-02-28T21:46:24.938Z"
   },
   {
    "duration": 5,
    "start_time": "2022-02-28T21:46:24.960Z"
   },
   {
    "duration": 314,
    "start_time": "2022-02-28T21:46:24.967Z"
   },
   {
    "duration": 11,
    "start_time": "2022-02-28T21:46:25.284Z"
   },
   {
    "duration": 16,
    "start_time": "2022-02-28T21:46:25.296Z"
   },
   {
    "duration": 5,
    "start_time": "2022-02-28T21:46:25.313Z"
   },
   {
    "duration": 1746,
    "start_time": "2022-02-28T21:46:25.319Z"
   },
   {
    "duration": 8422,
    "start_time": "2022-02-28T21:49:03.608Z"
   },
   {
    "duration": 3,
    "start_time": "2022-02-28T21:49:18.023Z"
   },
   {
    "duration": 439,
    "start_time": "2022-02-28T21:49:18.029Z"
   },
   {
    "duration": 19,
    "start_time": "2022-02-28T21:49:18.470Z"
   },
   {
    "duration": 123,
    "start_time": "2022-02-28T21:49:18.491Z"
   },
   {
    "duration": 70,
    "start_time": "2022-02-28T21:49:18.615Z"
   },
   {
    "duration": 80,
    "start_time": "2022-02-28T21:49:18.686Z"
   },
   {
    "duration": 10,
    "start_time": "2022-02-28T21:49:18.768Z"
   },
   {
    "duration": 87,
    "start_time": "2022-02-28T21:49:18.779Z"
   },
   {
    "duration": 5,
    "start_time": "2022-02-28T21:49:18.868Z"
   },
   {
    "duration": 44,
    "start_time": "2022-02-28T21:49:18.875Z"
   },
   {
    "duration": 9,
    "start_time": "2022-02-28T21:49:18.920Z"
   },
   {
    "duration": 5,
    "start_time": "2022-02-28T21:49:18.959Z"
   },
   {
    "duration": 45,
    "start_time": "2022-02-28T21:49:18.966Z"
   },
   {
    "duration": 10,
    "start_time": "2022-02-28T21:49:19.012Z"
   },
   {
    "duration": 12,
    "start_time": "2022-02-28T21:49:19.023Z"
   },
   {
    "duration": 39,
    "start_time": "2022-02-28T21:49:19.037Z"
   },
   {
    "duration": 34,
    "start_time": "2022-02-28T21:49:19.077Z"
   },
   {
    "duration": 13,
    "start_time": "2022-02-28T21:49:19.112Z"
   },
   {
    "duration": 54,
    "start_time": "2022-02-28T21:49:19.127Z"
   },
   {
    "duration": 5,
    "start_time": "2022-02-28T21:49:19.183Z"
   },
   {
    "duration": 9,
    "start_time": "2022-02-28T21:49:19.190Z"
   },
   {
    "duration": 276,
    "start_time": "2022-02-28T21:49:19.201Z"
   },
   {
    "duration": 16,
    "start_time": "2022-02-28T21:49:19.478Z"
   },
   {
    "duration": 16,
    "start_time": "2022-02-28T21:49:19.497Z"
   },
   {
    "duration": 52,
    "start_time": "2022-02-28T21:49:19.515Z"
   },
   {
    "duration": 99,
    "start_time": "2022-02-28T21:49:19.568Z"
   },
   {
    "duration": 277,
    "start_time": "2022-02-28T21:49:19.668Z"
   },
   {
    "duration": 323,
    "start_time": "2022-02-28T21:49:19.947Z"
   },
   {
    "duration": 270,
    "start_time": "2022-02-28T21:49:20.271Z"
   },
   {
    "duration": 22,
    "start_time": "2022-02-28T21:49:20.542Z"
   },
   {
    "duration": 5,
    "start_time": "2022-02-28T21:49:20.565Z"
   },
   {
    "duration": 317,
    "start_time": "2022-02-28T21:49:20.571Z"
   },
   {
    "duration": 12,
    "start_time": "2022-02-28T21:49:20.890Z"
   },
   {
    "duration": 16,
    "start_time": "2022-02-28T21:49:20.904Z"
   },
   {
    "duration": 4,
    "start_time": "2022-02-28T21:49:20.922Z"
   },
   {
    "duration": 1767,
    "start_time": "2022-02-28T21:49:20.928Z"
   },
   {
    "duration": 3,
    "start_time": "2022-02-28T21:50:41.204Z"
   },
   {
    "duration": 434,
    "start_time": "2022-02-28T21:50:41.212Z"
   },
   {
    "duration": 21,
    "start_time": "2022-02-28T21:50:41.648Z"
   },
   {
    "duration": 137,
    "start_time": "2022-02-28T21:50:41.672Z"
   },
   {
    "duration": 75,
    "start_time": "2022-02-28T21:50:41.811Z"
   },
   {
    "duration": 84,
    "start_time": "2022-02-28T21:50:41.888Z"
   },
   {
    "duration": 11,
    "start_time": "2022-02-28T21:50:41.974Z"
   },
   {
    "duration": 90,
    "start_time": "2022-02-28T21:50:41.986Z"
   },
   {
    "duration": 6,
    "start_time": "2022-02-28T21:50:42.079Z"
   },
   {
    "duration": 46,
    "start_time": "2022-02-28T21:50:42.088Z"
   },
   {
    "duration": 10,
    "start_time": "2022-02-28T21:50:42.160Z"
   },
   {
    "duration": 6,
    "start_time": "2022-02-28T21:50:42.172Z"
   },
   {
    "duration": 46,
    "start_time": "2022-02-28T21:50:42.180Z"
   },
   {
    "duration": 35,
    "start_time": "2022-02-28T21:50:42.227Z"
   },
   {
    "duration": 7,
    "start_time": "2022-02-28T21:50:42.264Z"
   },
   {
    "duration": 17,
    "start_time": "2022-02-28T21:50:42.272Z"
   },
   {
    "duration": 35,
    "start_time": "2022-02-28T21:50:42.291Z"
   },
   {
    "duration": 45,
    "start_time": "2022-02-28T21:50:42.327Z"
   },
   {
    "duration": 29,
    "start_time": "2022-02-28T21:50:42.374Z"
   },
   {
    "duration": 6,
    "start_time": "2022-02-28T21:50:42.405Z"
   },
   {
    "duration": 10,
    "start_time": "2022-02-28T21:50:42.413Z"
   },
   {
    "duration": 289,
    "start_time": "2022-02-28T21:50:42.425Z"
   },
   {
    "duration": 16,
    "start_time": "2022-02-28T21:50:42.715Z"
   },
   {
    "duration": 29,
    "start_time": "2022-02-28T21:50:42.734Z"
   },
   {
    "duration": 30,
    "start_time": "2022-02-28T21:50:42.765Z"
   },
   {
    "duration": 96,
    "start_time": "2022-02-28T21:50:42.797Z"
   },
   {
    "duration": 285,
    "start_time": "2022-02-28T21:50:42.894Z"
   },
   {
    "duration": 306,
    "start_time": "2022-02-28T21:50:43.181Z"
   },
   {
    "duration": 266,
    "start_time": "2022-02-28T21:50:43.489Z"
   },
   {
    "duration": 12,
    "start_time": "2022-02-28T21:50:43.757Z"
   },
   {
    "duration": 6,
    "start_time": "2022-02-28T21:50:43.771Z"
   },
   {
    "duration": 313,
    "start_time": "2022-02-28T21:50:43.778Z"
   },
   {
    "duration": 10,
    "start_time": "2022-02-28T21:50:44.093Z"
   },
   {
    "duration": 14,
    "start_time": "2022-02-28T21:50:44.105Z"
   },
   {
    "duration": 5,
    "start_time": "2022-02-28T21:50:44.121Z"
   },
   {
    "duration": 1713,
    "start_time": "2022-02-28T21:50:44.127Z"
   },
   {
    "duration": 3,
    "start_time": "2022-02-28T21:51:56.853Z"
   },
   {
    "duration": 400,
    "start_time": "2022-02-28T21:51:56.858Z"
   },
   {
    "duration": 17,
    "start_time": "2022-02-28T21:51:57.260Z"
   },
   {
    "duration": 121,
    "start_time": "2022-02-28T21:51:57.279Z"
   },
   {
    "duration": 67,
    "start_time": "2022-02-28T21:51:57.402Z"
   },
   {
    "duration": 65,
    "start_time": "2022-02-28T21:51:57.470Z"
   },
   {
    "duration": 27,
    "start_time": "2022-02-28T21:51:57.537Z"
   },
   {
    "duration": 67,
    "start_time": "2022-02-28T21:51:57.566Z"
   },
   {
    "duration": 28,
    "start_time": "2022-02-28T21:51:57.635Z"
   },
   {
    "duration": 47,
    "start_time": "2022-02-28T21:51:57.664Z"
   },
   {
    "duration": 9,
    "start_time": "2022-02-28T21:51:57.712Z"
   },
   {
    "duration": 6,
    "start_time": "2022-02-28T21:51:57.723Z"
   },
   {
    "duration": 72,
    "start_time": "2022-02-28T21:51:57.731Z"
   },
   {
    "duration": 10,
    "start_time": "2022-02-28T21:51:57.804Z"
   },
   {
    "duration": 7,
    "start_time": "2022-02-28T21:51:57.816Z"
   },
   {
    "duration": 44,
    "start_time": "2022-02-28T21:51:57.825Z"
   },
   {
    "duration": 36,
    "start_time": "2022-02-28T21:51:57.870Z"
   },
   {
    "duration": 13,
    "start_time": "2022-02-28T21:51:57.907Z"
   },
   {
    "duration": 56,
    "start_time": "2022-02-28T21:51:57.923Z"
   },
   {
    "duration": 6,
    "start_time": "2022-02-28T21:51:57.981Z"
   },
   {
    "duration": 10,
    "start_time": "2022-02-28T21:51:57.988Z"
   },
   {
    "duration": 288,
    "start_time": "2022-02-28T21:51:58.000Z"
   },
   {
    "duration": 16,
    "start_time": "2022-02-28T21:51:58.289Z"
   },
   {
    "duration": 17,
    "start_time": "2022-02-28T21:51:58.307Z"
   },
   {
    "duration": 48,
    "start_time": "2022-02-28T21:51:58.326Z"
   },
   {
    "duration": 96,
    "start_time": "2022-02-28T21:51:58.375Z"
   },
   {
    "duration": 277,
    "start_time": "2022-02-28T21:51:58.473Z"
   },
   {
    "duration": 309,
    "start_time": "2022-02-28T21:51:58.752Z"
   },
   {
    "duration": 263,
    "start_time": "2022-02-28T21:51:59.062Z"
   },
   {
    "duration": 11,
    "start_time": "2022-02-28T21:51:59.327Z"
   },
   {
    "duration": 4,
    "start_time": "2022-02-28T21:51:59.340Z"
   },
   {
    "duration": 307,
    "start_time": "2022-02-28T21:51:59.359Z"
   },
   {
    "duration": 11,
    "start_time": "2022-02-28T21:51:59.668Z"
   },
   {
    "duration": 16,
    "start_time": "2022-02-28T21:51:59.680Z"
   },
   {
    "duration": 4,
    "start_time": "2022-02-28T21:51:59.698Z"
   },
   {
    "duration": 1760,
    "start_time": "2022-02-28T21:51:59.704Z"
   },
   {
    "duration": 47,
    "start_time": "2022-02-28T21:53:35.801Z"
   },
   {
    "duration": 13,
    "start_time": "2022-02-28T21:53:41.836Z"
   },
   {
    "duration": 3,
    "start_time": "2022-02-28T21:53:46.310Z"
   },
   {
    "duration": 403,
    "start_time": "2022-02-28T21:53:46.316Z"
   },
   {
    "duration": 19,
    "start_time": "2022-02-28T21:53:46.720Z"
   },
   {
    "duration": 114,
    "start_time": "2022-02-28T21:53:46.741Z"
   },
   {
    "duration": 60,
    "start_time": "2022-02-28T21:53:46.860Z"
   },
   {
    "duration": 87,
    "start_time": "2022-02-28T21:53:46.922Z"
   },
   {
    "duration": 11,
    "start_time": "2022-02-28T21:53:47.011Z"
   },
   {
    "duration": 85,
    "start_time": "2022-02-28T21:53:47.024Z"
   },
   {
    "duration": 6,
    "start_time": "2022-02-28T21:53:47.112Z"
   },
   {
    "duration": 68,
    "start_time": "2022-02-28T21:53:47.119Z"
   },
   {
    "duration": 12,
    "start_time": "2022-02-28T21:53:47.189Z"
   },
   {
    "duration": 7,
    "start_time": "2022-02-28T21:53:47.203Z"
   },
   {
    "duration": 71,
    "start_time": "2022-02-28T21:53:47.212Z"
   },
   {
    "duration": 10,
    "start_time": "2022-02-28T21:53:47.284Z"
   },
   {
    "duration": 7,
    "start_time": "2022-02-28T21:53:47.296Z"
   },
   {
    "duration": 17,
    "start_time": "2022-02-28T21:53:47.305Z"
   },
   {
    "duration": 59,
    "start_time": "2022-02-28T21:53:47.324Z"
   },
   {
    "duration": 14,
    "start_time": "2022-02-28T21:53:47.385Z"
   },
   {
    "duration": 36,
    "start_time": "2022-02-28T21:53:47.400Z"
   },
   {
    "duration": 23,
    "start_time": "2022-02-28T21:53:47.438Z"
   },
   {
    "duration": 10,
    "start_time": "2022-02-28T21:53:47.463Z"
   },
   {
    "duration": 272,
    "start_time": "2022-02-28T21:53:47.474Z"
   },
   {
    "duration": 20,
    "start_time": "2022-02-28T21:53:47.748Z"
   },
   {
    "duration": 14,
    "start_time": "2022-02-28T21:53:47.771Z"
   },
   {
    "duration": 30,
    "start_time": "2022-02-28T21:53:47.787Z"
   },
   {
    "duration": 99,
    "start_time": "2022-02-28T21:53:47.819Z"
   },
   {
    "duration": 291,
    "start_time": "2022-02-28T21:53:47.920Z"
   },
   {
    "duration": 315,
    "start_time": "2022-02-28T21:53:48.213Z"
   },
   {
    "duration": 274,
    "start_time": "2022-02-28T21:53:48.529Z"
   },
   {
    "duration": 11,
    "start_time": "2022-02-28T21:53:48.804Z"
   },
   {
    "duration": 4,
    "start_time": "2022-02-28T21:53:48.817Z"
   },
   {
    "duration": 321,
    "start_time": "2022-02-28T21:53:48.823Z"
   },
   {
    "duration": 17,
    "start_time": "2022-02-28T21:53:49.146Z"
   },
   {
    "duration": 15,
    "start_time": "2022-02-28T21:53:49.164Z"
   },
   {
    "duration": 6,
    "start_time": "2022-02-28T21:53:49.180Z"
   },
   {
    "duration": 1672,
    "start_time": "2022-02-28T21:53:49.187Z"
   },
   {
    "duration": 48,
    "start_time": "2022-02-28T21:54:50.223Z"
   },
   {
    "duration": 13,
    "start_time": "2022-02-28T21:54:53.222Z"
   },
   {
    "duration": 3,
    "start_time": "2022-02-28T21:55:34.347Z"
   },
   {
    "duration": 425,
    "start_time": "2022-02-28T21:55:34.352Z"
   },
   {
    "duration": 19,
    "start_time": "2022-02-28T21:55:34.778Z"
   },
   {
    "duration": 125,
    "start_time": "2022-02-28T21:55:34.799Z"
   },
   {
    "duration": 90,
    "start_time": "2022-02-28T21:55:34.926Z"
   },
   {
    "duration": 77,
    "start_time": "2022-02-28T21:55:35.017Z"
   },
   {
    "duration": 10,
    "start_time": "2022-02-28T21:55:35.096Z"
   },
   {
    "duration": 77,
    "start_time": "2022-02-28T21:55:35.108Z"
   },
   {
    "duration": 7,
    "start_time": "2022-02-28T21:55:35.187Z"
   },
   {
    "duration": 67,
    "start_time": "2022-02-28T21:55:35.195Z"
   },
   {
    "duration": 9,
    "start_time": "2022-02-28T21:55:35.263Z"
   },
   {
    "duration": 6,
    "start_time": "2022-02-28T21:55:35.274Z"
   },
   {
    "duration": 54,
    "start_time": "2022-02-28T21:55:35.282Z"
   },
   {
    "duration": 10,
    "start_time": "2022-02-28T21:55:35.359Z"
   },
   {
    "duration": 6,
    "start_time": "2022-02-28T21:55:35.371Z"
   },
   {
    "duration": 20,
    "start_time": "2022-02-28T21:55:35.378Z"
   },
   {
    "duration": 65,
    "start_time": "2022-02-28T21:55:35.399Z"
   },
   {
    "duration": 15,
    "start_time": "2022-02-28T21:55:35.466Z"
   },
   {
    "duration": 31,
    "start_time": "2022-02-28T21:55:35.485Z"
   },
   {
    "duration": 6,
    "start_time": "2022-02-28T21:55:35.518Z"
   },
   {
    "duration": 39,
    "start_time": "2022-02-28T21:55:35.525Z"
   },
   {
    "duration": 274,
    "start_time": "2022-02-28T21:55:35.566Z"
   },
   {
    "duration": 22,
    "start_time": "2022-02-28T21:55:35.841Z"
   },
   {
    "duration": 21,
    "start_time": "2022-02-28T21:55:35.865Z"
   },
   {
    "duration": 40,
    "start_time": "2022-02-28T21:55:35.888Z"
   },
   {
    "duration": 95,
    "start_time": "2022-02-28T21:55:35.930Z"
   },
   {
    "duration": 292,
    "start_time": "2022-02-28T21:55:36.027Z"
   },
   {
    "duration": 318,
    "start_time": "2022-02-28T21:55:36.320Z"
   },
   {
    "duration": 273,
    "start_time": "2022-02-28T21:55:36.639Z"
   },
   {
    "duration": 13,
    "start_time": "2022-02-28T21:55:36.913Z"
   },
   {
    "duration": 5,
    "start_time": "2022-02-28T21:55:36.927Z"
   },
   {
    "duration": 314,
    "start_time": "2022-02-28T21:55:36.934Z"
   },
   {
    "duration": 16,
    "start_time": "2022-02-28T21:55:37.250Z"
   },
   {
    "duration": 14,
    "start_time": "2022-02-28T21:55:37.267Z"
   },
   {
    "duration": 6,
    "start_time": "2022-02-28T21:55:37.283Z"
   },
   {
    "duration": 1758,
    "start_time": "2022-02-28T21:55:37.290Z"
   },
   {
    "duration": 3,
    "start_time": "2022-02-28T21:57:36.128Z"
   },
   {
    "duration": 1467,
    "start_time": "2022-02-28T21:57:36.133Z"
   },
   {
    "duration": 21,
    "start_time": "2022-02-28T21:57:37.602Z"
   },
   {
    "duration": 130,
    "start_time": "2022-02-28T21:57:37.625Z"
   },
   {
    "duration": 65,
    "start_time": "2022-02-28T21:57:37.759Z"
   },
   {
    "duration": 88,
    "start_time": "2022-02-28T21:57:37.825Z"
   },
   {
    "duration": 9,
    "start_time": "2022-02-28T21:57:37.915Z"
   },
   {
    "duration": 82,
    "start_time": "2022-02-28T21:57:37.926Z"
   },
   {
    "duration": 4,
    "start_time": "2022-02-28T21:57:38.010Z"
   },
   {
    "duration": 14,
    "start_time": "2022-02-28T21:57:45.986Z"
   },
   {
    "duration": 47,
    "start_time": "2022-02-28T21:57:46.002Z"
   },
   {
    "duration": 9,
    "start_time": "2022-02-28T21:57:46.051Z"
   },
   {
    "duration": 6,
    "start_time": "2022-02-28T21:57:46.062Z"
   },
   {
    "duration": 47,
    "start_time": "2022-02-28T21:57:46.070Z"
   },
   {
    "duration": 9,
    "start_time": "2022-02-28T21:57:46.118Z"
   },
   {
    "duration": 31,
    "start_time": "2022-02-28T21:57:46.129Z"
   },
   {
    "duration": 18,
    "start_time": "2022-02-28T21:57:46.163Z"
   },
   {
    "duration": 33,
    "start_time": "2022-02-28T21:57:46.183Z"
   },
   {
    "duration": 41,
    "start_time": "2022-02-28T21:57:46.218Z"
   },
   {
    "duration": 29,
    "start_time": "2022-02-28T21:57:46.261Z"
   },
   {
    "duration": 6,
    "start_time": "2022-02-28T21:57:46.292Z"
   },
   {
    "duration": 10,
    "start_time": "2022-02-28T21:57:46.300Z"
   },
   {
    "duration": 280,
    "start_time": "2022-02-28T21:57:46.311Z"
   },
   {
    "duration": 15,
    "start_time": "2022-02-28T21:57:46.593Z"
   },
   {
    "duration": 16,
    "start_time": "2022-02-28T21:57:46.609Z"
   },
   {
    "duration": 53,
    "start_time": "2022-02-28T21:57:46.627Z"
   },
   {
    "duration": 94,
    "start_time": "2022-02-28T21:57:46.682Z"
   },
   {
    "duration": 270,
    "start_time": "2022-02-28T21:57:46.778Z"
   },
   {
    "duration": 298,
    "start_time": "2022-02-28T21:57:47.050Z"
   },
   {
    "duration": 263,
    "start_time": "2022-02-28T21:57:47.350Z"
   },
   {
    "duration": 11,
    "start_time": "2022-02-28T21:57:47.615Z"
   },
   {
    "duration": 5,
    "start_time": "2022-02-28T21:57:47.629Z"
   },
   {
    "duration": 325,
    "start_time": "2022-02-28T21:57:47.635Z"
   },
   {
    "duration": 12,
    "start_time": "2022-02-28T21:57:47.962Z"
   },
   {
    "duration": 15,
    "start_time": "2022-02-28T21:57:47.976Z"
   },
   {
    "duration": 5,
    "start_time": "2022-02-28T21:57:47.992Z"
   },
   {
    "duration": 1752,
    "start_time": "2022-02-28T21:57:47.998Z"
   },
   {
    "duration": 3,
    "start_time": "2022-02-28T21:57:51.049Z"
   },
   {
    "duration": 403,
    "start_time": "2022-02-28T21:57:51.054Z"
   },
   {
    "duration": 17,
    "start_time": "2022-02-28T21:57:51.459Z"
   },
   {
    "duration": 120,
    "start_time": "2022-02-28T21:57:51.478Z"
   },
   {
    "duration": 69,
    "start_time": "2022-02-28T21:57:51.599Z"
   },
   {
    "duration": 67,
    "start_time": "2022-02-28T21:57:51.669Z"
   },
   {
    "duration": 27,
    "start_time": "2022-02-28T21:57:51.738Z"
   },
   {
    "duration": 65,
    "start_time": "2022-02-28T21:57:51.767Z"
   },
   {
    "duration": 4,
    "start_time": "2022-02-28T21:57:51.834Z"
   },
   {
    "duration": 13,
    "start_time": "2022-02-28T21:57:51.859Z"
   },
   {
    "duration": 44,
    "start_time": "2022-02-28T21:57:51.873Z"
   },
   {
    "duration": 9,
    "start_time": "2022-02-28T21:57:51.918Z"
   },
   {
    "duration": 5,
    "start_time": "2022-02-28T21:57:51.929Z"
   },
   {
    "duration": 69,
    "start_time": "2022-02-28T21:57:51.936Z"
   },
   {
    "duration": 11,
    "start_time": "2022-02-28T21:57:52.007Z"
   },
   {
    "duration": 42,
    "start_time": "2022-02-28T21:57:52.020Z"
   },
   {
    "duration": 19,
    "start_time": "2022-02-28T21:57:52.064Z"
   },
   {
    "duration": 36,
    "start_time": "2022-02-28T21:57:52.085Z"
   },
   {
    "duration": 43,
    "start_time": "2022-02-28T21:57:52.125Z"
   },
   {
    "duration": 29,
    "start_time": "2022-02-28T21:57:52.170Z"
   },
   {
    "duration": 7,
    "start_time": "2022-02-28T21:57:52.201Z"
   },
   {
    "duration": 10,
    "start_time": "2022-02-28T21:57:52.210Z"
   },
   {
    "duration": 294,
    "start_time": "2022-02-28T21:57:52.222Z"
   },
   {
    "duration": 21,
    "start_time": "2022-02-28T21:57:52.518Z"
   },
   {
    "duration": 37,
    "start_time": "2022-02-28T21:57:52.540Z"
   },
   {
    "duration": 34,
    "start_time": "2022-02-28T21:57:52.579Z"
   },
   {
    "duration": 106,
    "start_time": "2022-02-28T21:57:52.614Z"
   },
   {
    "duration": 292,
    "start_time": "2022-02-28T21:57:52.722Z"
   },
   {
    "duration": 323,
    "start_time": "2022-02-28T21:57:53.016Z"
   },
   {
    "duration": 268,
    "start_time": "2022-02-28T21:57:53.341Z"
   },
   {
    "duration": 12,
    "start_time": "2022-02-28T21:57:53.612Z"
   },
   {
    "duration": 7,
    "start_time": "2022-02-28T21:57:53.625Z"
   },
   {
    "duration": 328,
    "start_time": "2022-02-28T21:57:53.633Z"
   },
   {
    "duration": 11,
    "start_time": "2022-02-28T21:57:53.962Z"
   },
   {
    "duration": 15,
    "start_time": "2022-02-28T21:57:53.975Z"
   },
   {
    "duration": 8,
    "start_time": "2022-02-28T21:57:53.992Z"
   },
   {
    "duration": 1761,
    "start_time": "2022-02-28T21:57:54.002Z"
   },
   {
    "duration": 2,
    "start_time": "2022-02-28T21:59:03.276Z"
   },
   {
    "duration": 420,
    "start_time": "2022-02-28T21:59:03.280Z"
   },
   {
    "duration": 20,
    "start_time": "2022-02-28T21:59:03.702Z"
   },
   {
    "duration": 130,
    "start_time": "2022-02-28T21:59:03.723Z"
   },
   {
    "duration": 61,
    "start_time": "2022-02-28T21:59:03.855Z"
   },
   {
    "duration": 87,
    "start_time": "2022-02-28T21:59:03.917Z"
   },
   {
    "duration": 10,
    "start_time": "2022-02-28T21:59:04.006Z"
   },
   {
    "duration": 93,
    "start_time": "2022-02-28T21:59:04.018Z"
   },
   {
    "duration": 5,
    "start_time": "2022-02-28T21:59:04.112Z"
   },
   {
    "duration": 16,
    "start_time": "2022-02-28T21:59:04.119Z"
   },
   {
    "duration": 64,
    "start_time": "2022-02-28T21:59:04.136Z"
   },
   {
    "duration": 10,
    "start_time": "2022-02-28T21:59:04.201Z"
   },
   {
    "duration": 7,
    "start_time": "2022-02-28T21:59:04.212Z"
   },
   {
    "duration": 69,
    "start_time": "2022-02-28T21:59:04.221Z"
   },
   {
    "duration": 10,
    "start_time": "2022-02-28T21:59:04.291Z"
   },
   {
    "duration": 8,
    "start_time": "2022-02-28T21:59:04.303Z"
   },
   {
    "duration": 19,
    "start_time": "2022-02-28T21:59:04.312Z"
   },
   {
    "duration": 64,
    "start_time": "2022-02-28T21:59:04.332Z"
   },
   {
    "duration": 16,
    "start_time": "2022-02-28T21:59:04.399Z"
   },
   {
    "duration": 56,
    "start_time": "2022-02-28T21:59:04.417Z"
   },
   {
    "duration": 6,
    "start_time": "2022-02-28T21:59:04.475Z"
   },
   {
    "duration": 11,
    "start_time": "2022-02-28T21:59:04.483Z"
   },
   {
    "duration": 294,
    "start_time": "2022-02-28T21:59:04.495Z"
   },
   {
    "duration": 16,
    "start_time": "2022-02-28T21:59:04.791Z"
   },
   {
    "duration": 16,
    "start_time": "2022-02-28T21:59:04.809Z"
   },
   {
    "duration": 55,
    "start_time": "2022-02-28T21:59:04.827Z"
   },
   {
    "duration": 103,
    "start_time": "2022-02-28T21:59:04.884Z"
   },
   {
    "duration": 308,
    "start_time": "2022-02-28T21:59:04.989Z"
   },
   {
    "duration": 343,
    "start_time": "2022-02-28T21:59:05.299Z"
   },
   {
    "duration": 293,
    "start_time": "2022-02-28T21:59:05.644Z"
   },
   {
    "duration": 22,
    "start_time": "2022-02-28T21:59:05.938Z"
   },
   {
    "duration": 5,
    "start_time": "2022-02-28T21:59:05.962Z"
   },
   {
    "duration": 349,
    "start_time": "2022-02-28T21:59:05.969Z"
   },
   {
    "duration": 13,
    "start_time": "2022-02-28T21:59:06.320Z"
   },
   {
    "duration": 33,
    "start_time": "2022-02-28T21:59:06.335Z"
   },
   {
    "duration": 2,
    "start_time": "2022-02-28T21:59:06.370Z"
   },
   {
    "duration": 1727,
    "start_time": "2022-02-28T21:59:06.374Z"
   },
   {
    "duration": 62,
    "start_time": "2022-02-28T22:03:32.100Z"
   },
   {
    "duration": 3,
    "start_time": "2022-02-28T22:03:41.790Z"
   },
   {
    "duration": 424,
    "start_time": "2022-02-28T22:03:41.794Z"
   },
   {
    "duration": 21,
    "start_time": "2022-02-28T22:03:42.219Z"
   },
   {
    "duration": 147,
    "start_time": "2022-02-28T22:03:42.242Z"
   },
   {
    "duration": 70,
    "start_time": "2022-02-28T22:03:42.391Z"
   },
   {
    "duration": 69,
    "start_time": "2022-02-28T22:03:42.463Z"
   },
   {
    "duration": 33,
    "start_time": "2022-02-28T22:03:42.535Z"
   },
   {
    "duration": 76,
    "start_time": "2022-02-28T22:03:42.571Z"
   },
   {
    "duration": 14,
    "start_time": "2022-02-28T22:03:42.649Z"
   },
   {
    "duration": 23,
    "start_time": "2022-02-28T22:03:42.665Z"
   },
   {
    "duration": 51,
    "start_time": "2022-02-28T22:03:42.691Z"
   },
   {
    "duration": 21,
    "start_time": "2022-02-28T22:03:42.744Z"
   },
   {
    "duration": 11,
    "start_time": "2022-02-28T22:03:42.767Z"
   },
   {
    "duration": 48,
    "start_time": "2022-02-28T22:03:42.780Z"
   },
   {
    "duration": 32,
    "start_time": "2022-02-28T22:03:42.830Z"
   },
   {
    "duration": 6,
    "start_time": "2022-02-28T22:03:42.864Z"
   },
   {
    "duration": 18,
    "start_time": "2022-02-28T22:03:42.872Z"
   },
   {
    "duration": 69,
    "start_time": "2022-02-28T22:03:42.892Z"
   },
   {
    "duration": 13,
    "start_time": "2022-02-28T22:03:42.965Z"
   },
   {
    "duration": 27,
    "start_time": "2022-02-28T22:03:42.980Z"
   },
   {
    "duration": 5,
    "start_time": "2022-02-28T22:03:43.009Z"
   },
   {
    "duration": 10,
    "start_time": "2022-02-28T22:03:43.016Z"
   },
   {
    "duration": 285,
    "start_time": "2022-02-28T22:03:43.027Z"
   },
   {
    "duration": 8,
    "start_time": "2022-02-28T22:03:43.313Z"
   },
   {
    "duration": 15,
    "start_time": "2022-02-28T22:03:43.323Z"
   },
   {
    "duration": 47,
    "start_time": "2022-02-28T22:03:43.339Z"
   },
   {
    "duration": 86,
    "start_time": "2022-02-28T22:03:43.388Z"
   },
   {
    "duration": 279,
    "start_time": "2022-02-28T22:03:43.476Z"
   },
   {
    "duration": 311,
    "start_time": "2022-02-28T22:03:43.757Z"
   },
   {
    "duration": 268,
    "start_time": "2022-02-28T22:03:44.070Z"
   },
   {
    "duration": 21,
    "start_time": "2022-02-28T22:03:44.339Z"
   },
   {
    "duration": 4,
    "start_time": "2022-02-28T22:03:44.362Z"
   },
   {
    "duration": 320,
    "start_time": "2022-02-28T22:03:44.367Z"
   },
   {
    "duration": 13,
    "start_time": "2022-02-28T22:03:44.688Z"
   },
   {
    "duration": 14,
    "start_time": "2022-02-28T22:03:44.703Z"
   },
   {
    "duration": 3,
    "start_time": "2022-02-28T22:03:44.719Z"
   },
   {
    "duration": 1742,
    "start_time": "2022-02-28T22:03:44.723Z"
   },
   {
    "duration": 61,
    "start_time": "2022-02-28T22:05:23.404Z"
   },
   {
    "duration": 4,
    "start_time": "2022-02-28T22:05:31.111Z"
   },
   {
    "duration": 433,
    "start_time": "2022-02-28T22:05:31.117Z"
   },
   {
    "duration": 22,
    "start_time": "2022-02-28T22:05:31.553Z"
   },
   {
    "duration": 131,
    "start_time": "2022-02-28T22:05:31.577Z"
   },
   {
    "duration": 70,
    "start_time": "2022-02-28T22:05:31.710Z"
   },
   {
    "duration": 79,
    "start_time": "2022-02-28T22:05:31.782Z"
   },
   {
    "duration": 12,
    "start_time": "2022-02-28T22:05:31.864Z"
   },
   {
    "duration": 85,
    "start_time": "2022-02-28T22:05:31.878Z"
   },
   {
    "duration": 6,
    "start_time": "2022-02-28T22:05:31.965Z"
   },
   {
    "duration": 46,
    "start_time": "2022-02-28T22:05:31.973Z"
   },
   {
    "duration": 38,
    "start_time": "2022-02-28T22:05:32.021Z"
   },
   {
    "duration": 7,
    "start_time": "2022-02-28T22:05:32.062Z"
   },
   {
    "duration": 47,
    "start_time": "2022-02-28T22:05:32.070Z"
   },
   {
    "duration": 10,
    "start_time": "2022-02-28T22:05:32.118Z"
   },
   {
    "duration": 7,
    "start_time": "2022-02-28T22:05:32.158Z"
   },
   {
    "duration": 18,
    "start_time": "2022-02-28T22:05:32.167Z"
   },
   {
    "duration": 36,
    "start_time": "2022-02-28T22:05:32.187Z"
   },
   {
    "duration": 46,
    "start_time": "2022-02-28T22:05:32.225Z"
   },
   {
    "duration": 27,
    "start_time": "2022-02-28T22:05:32.276Z"
   },
   {
    "duration": 7,
    "start_time": "2022-02-28T22:05:32.306Z"
   },
   {
    "duration": 11,
    "start_time": "2022-02-28T22:05:32.315Z"
   },
   {
    "duration": 292,
    "start_time": "2022-02-28T22:05:32.327Z"
   },
   {
    "duration": 10,
    "start_time": "2022-02-28T22:05:32.621Z"
   },
   {
    "duration": 33,
    "start_time": "2022-02-28T22:05:32.633Z"
   },
   {
    "duration": 32,
    "start_time": "2022-02-28T22:05:32.668Z"
   },
   {
    "duration": 97,
    "start_time": "2022-02-28T22:05:32.703Z"
   },
   {
    "duration": 292,
    "start_time": "2022-02-28T22:05:32.801Z"
   },
   {
    "duration": 303,
    "start_time": "2022-02-28T22:05:33.095Z"
   },
   {
    "duration": 273,
    "start_time": "2022-02-28T22:05:33.400Z"
   },
   {
    "duration": 12,
    "start_time": "2022-02-28T22:05:33.675Z"
   },
   {
    "duration": 5,
    "start_time": "2022-02-28T22:05:33.688Z"
   },
   {
    "duration": 327,
    "start_time": "2022-02-28T22:05:33.695Z"
   },
   {
    "duration": 13,
    "start_time": "2022-02-28T22:05:34.024Z"
   },
   {
    "duration": 31,
    "start_time": "2022-02-28T22:05:34.039Z"
   },
   {
    "duration": 2,
    "start_time": "2022-02-28T22:05:34.072Z"
   },
   {
    "duration": 1677,
    "start_time": "2022-02-28T22:05:34.075Z"
   },
   {
    "duration": 3,
    "start_time": "2022-02-28T22:06:00.285Z"
   },
   {
    "duration": 413,
    "start_time": "2022-02-28T22:06:00.290Z"
   },
   {
    "duration": 19,
    "start_time": "2022-02-28T22:06:00.705Z"
   },
   {
    "duration": 138,
    "start_time": "2022-02-28T22:06:00.726Z"
   },
   {
    "duration": 62,
    "start_time": "2022-02-28T22:06:00.866Z"
   },
   {
    "duration": 86,
    "start_time": "2022-02-28T22:06:00.929Z"
   },
   {
    "duration": 9,
    "start_time": "2022-02-28T22:06:01.017Z"
   },
   {
    "duration": 87,
    "start_time": "2022-02-28T22:06:01.028Z"
   },
   {
    "duration": 5,
    "start_time": "2022-02-28T22:06:01.116Z"
   },
   {
    "duration": 61,
    "start_time": "2022-02-28T22:06:01.122Z"
   },
   {
    "duration": 9,
    "start_time": "2022-02-28T22:06:01.184Z"
   },
   {
    "duration": 7,
    "start_time": "2022-02-28T22:06:01.195Z"
   },
   {
    "duration": 68,
    "start_time": "2022-02-28T22:06:01.204Z"
   },
   {
    "duration": 10,
    "start_time": "2022-02-28T22:06:01.273Z"
   },
   {
    "duration": 6,
    "start_time": "2022-02-28T22:06:01.285Z"
   },
   {
    "duration": 18,
    "start_time": "2022-02-28T22:06:01.292Z"
   },
   {
    "duration": 64,
    "start_time": "2022-02-28T22:06:01.311Z"
   },
   {
    "duration": 13,
    "start_time": "2022-02-28T22:06:01.376Z"
   },
   {
    "duration": 34,
    "start_time": "2022-02-28T22:06:01.391Z"
   },
   {
    "duration": 6,
    "start_time": "2022-02-28T22:06:01.427Z"
   },
   {
    "duration": 32,
    "start_time": "2022-02-28T22:06:01.434Z"
   },
   {
    "duration": 261,
    "start_time": "2022-02-28T22:06:01.468Z"
   },
   {
    "duration": 15,
    "start_time": "2022-02-28T22:06:01.730Z"
   },
   {
    "duration": 26,
    "start_time": "2022-02-28T22:06:01.746Z"
   },
   {
    "duration": 33,
    "start_time": "2022-02-28T22:06:01.773Z"
   },
   {
    "duration": 96,
    "start_time": "2022-02-28T22:06:01.807Z"
   },
   {
    "duration": 290,
    "start_time": "2022-02-28T22:06:01.905Z"
   },
   {
    "duration": 318,
    "start_time": "2022-02-28T22:06:02.196Z"
   },
   {
    "duration": 273,
    "start_time": "2022-02-28T22:06:02.516Z"
   },
   {
    "duration": 12,
    "start_time": "2022-02-28T22:06:02.791Z"
   },
   {
    "duration": 9,
    "start_time": "2022-02-28T22:06:02.804Z"
   },
   {
    "duration": 325,
    "start_time": "2022-02-28T22:06:02.815Z"
   },
   {
    "duration": 20,
    "start_time": "2022-02-28T22:06:03.142Z"
   },
   {
    "duration": 15,
    "start_time": "2022-02-28T22:06:03.163Z"
   },
   {
    "duration": 4,
    "start_time": "2022-02-28T22:06:03.180Z"
   },
   {
    "duration": 1666,
    "start_time": "2022-02-28T22:06:03.186Z"
   },
   {
    "duration": 60,
    "start_time": "2022-02-28T22:07:26.966Z"
   },
   {
    "duration": 2,
    "start_time": "2022-02-28T22:07:33.307Z"
   },
   {
    "duration": 444,
    "start_time": "2022-02-28T22:07:33.311Z"
   },
   {
    "duration": 23,
    "start_time": "2022-02-28T22:07:33.756Z"
   },
   {
    "duration": 144,
    "start_time": "2022-02-28T22:07:33.782Z"
   },
   {
    "duration": 91,
    "start_time": "2022-02-28T22:07:33.929Z"
   },
   {
    "duration": 81,
    "start_time": "2022-02-28T22:07:34.022Z"
   },
   {
    "duration": 11,
    "start_time": "2022-02-28T22:07:34.106Z"
   },
   {
    "duration": 87,
    "start_time": "2022-02-28T22:07:34.119Z"
   },
   {
    "duration": 5,
    "start_time": "2022-02-28T22:07:34.208Z"
   },
   {
    "duration": 87,
    "start_time": "2022-02-28T22:07:34.215Z"
   },
   {
    "duration": 16,
    "start_time": "2022-02-28T22:07:34.303Z"
   },
   {
    "duration": 38,
    "start_time": "2022-02-28T22:07:34.321Z"
   },
   {
    "duration": 83,
    "start_time": "2022-02-28T22:07:34.361Z"
   },
   {
    "duration": 9,
    "start_time": "2022-02-28T22:07:34.445Z"
   },
   {
    "duration": 44,
    "start_time": "2022-02-28T22:07:34.456Z"
   },
   {
    "duration": 51,
    "start_time": "2022-02-28T22:07:34.502Z"
   },
   {
    "duration": 43,
    "start_time": "2022-02-28T22:07:34.555Z"
   },
   {
    "duration": 32,
    "start_time": "2022-02-28T22:07:34.600Z"
   },
   {
    "duration": 69,
    "start_time": "2022-02-28T22:07:34.635Z"
   },
   {
    "duration": 49,
    "start_time": "2022-02-28T22:07:34.706Z"
   },
   {
    "duration": 52,
    "start_time": "2022-02-28T22:07:34.757Z"
   },
   {
    "duration": 282,
    "start_time": "2022-02-28T22:07:34.811Z"
   },
   {
    "duration": 9,
    "start_time": "2022-02-28T22:07:35.095Z"
   },
   {
    "duration": 33,
    "start_time": "2022-02-28T22:07:35.106Z"
   },
   {
    "duration": 36,
    "start_time": "2022-02-28T22:07:35.142Z"
   },
   {
    "duration": 96,
    "start_time": "2022-02-28T22:07:35.180Z"
   },
   {
    "duration": 302,
    "start_time": "2022-02-28T22:07:35.278Z"
   },
   {
    "duration": 333,
    "start_time": "2022-02-28T22:07:35.582Z"
   },
   {
    "duration": 288,
    "start_time": "2022-02-28T22:07:35.916Z"
   },
   {
    "duration": 13,
    "start_time": "2022-02-28T22:07:36.206Z"
   },
   {
    "duration": 25,
    "start_time": "2022-02-28T22:07:36.221Z"
   },
   {
    "duration": 345,
    "start_time": "2022-02-28T22:07:36.248Z"
   },
   {
    "duration": 13,
    "start_time": "2022-02-28T22:07:36.594Z"
   },
   {
    "duration": 36,
    "start_time": "2022-02-28T22:07:36.608Z"
   },
   {
    "duration": 17,
    "start_time": "2022-02-28T22:07:36.646Z"
   },
   {
    "duration": 1712,
    "start_time": "2022-02-28T22:07:36.664Z"
   },
   {
    "duration": 63,
    "start_time": "2022-02-28T22:12:22.814Z"
   },
   {
    "duration": 5,
    "start_time": "2022-02-28T22:12:28.029Z"
   },
   {
    "duration": 10,
    "start_time": "2022-02-28T22:14:27.022Z"
   },
   {
    "duration": 9,
    "start_time": "2022-02-28T22:15:06.417Z"
   },
   {
    "duration": 9,
    "start_time": "2022-02-28T22:15:17.897Z"
   },
   {
    "duration": 8,
    "start_time": "2022-02-28T22:15:24.267Z"
   },
   {
    "duration": 9,
    "start_time": "2022-02-28T22:15:32.019Z"
   },
   {
    "duration": 9,
    "start_time": "2022-02-28T22:15:40.124Z"
   },
   {
    "duration": 9,
    "start_time": "2022-02-28T22:15:53.589Z"
   },
   {
    "duration": 9,
    "start_time": "2022-02-28T22:16:00.059Z"
   },
   {
    "duration": 10,
    "start_time": "2022-02-28T22:16:06.045Z"
   },
   {
    "duration": 3,
    "start_time": "2022-02-28T22:17:57.760Z"
   },
   {
    "duration": 404,
    "start_time": "2022-02-28T22:17:57.766Z"
   },
   {
    "duration": 18,
    "start_time": "2022-02-28T22:17:58.171Z"
   },
   {
    "duration": 127,
    "start_time": "2022-02-28T22:17:58.191Z"
   },
   {
    "duration": 82,
    "start_time": "2022-02-28T22:17:58.320Z"
   },
   {
    "duration": 77,
    "start_time": "2022-02-28T22:17:58.403Z"
   },
   {
    "duration": 9,
    "start_time": "2022-02-28T22:17:58.482Z"
   },
   {
    "duration": 74,
    "start_time": "2022-02-28T22:17:58.493Z"
   },
   {
    "duration": 5,
    "start_time": "2022-02-28T22:17:58.568Z"
   },
   {
    "duration": 8,
    "start_time": "2022-02-28T22:17:58.575Z"
   },
   {
    "duration": 42,
    "start_time": "2022-02-28T22:17:58.585Z"
   },
   {
    "duration": 34,
    "start_time": "2022-02-28T22:17:58.629Z"
   },
   {
    "duration": 9,
    "start_time": "2022-02-28T22:17:58.665Z"
   },
   {
    "duration": 46,
    "start_time": "2022-02-28T22:17:58.676Z"
   },
   {
    "duration": 10,
    "start_time": "2022-02-28T22:17:58.723Z"
   },
   {
    "duration": 29,
    "start_time": "2022-02-28T22:17:58.735Z"
   },
   {
    "duration": 22,
    "start_time": "2022-02-28T22:17:58.766Z"
   },
   {
    "duration": 37,
    "start_time": "2022-02-28T22:17:58.790Z"
   },
   {
    "duration": 15,
    "start_time": "2022-02-28T22:17:58.860Z"
   },
   {
    "duration": 30,
    "start_time": "2022-02-28T22:17:58.877Z"
   },
   {
    "duration": 7,
    "start_time": "2022-02-28T22:17:58.909Z"
   },
   {
    "duration": 45,
    "start_time": "2022-02-28T22:17:58.918Z"
   },
   {
    "duration": 260,
    "start_time": "2022-02-28T22:17:58.965Z"
   },
   {
    "duration": 16,
    "start_time": "2022-02-28T22:17:59.227Z"
   },
   {
    "duration": 24,
    "start_time": "2022-02-28T22:17:59.245Z"
   },
   {
    "duration": 32,
    "start_time": "2022-02-28T22:17:59.270Z"
   },
   {
    "duration": 98,
    "start_time": "2022-02-28T22:17:59.303Z"
   },
   {
    "duration": 283,
    "start_time": "2022-02-28T22:17:59.402Z"
   },
   {
    "duration": 309,
    "start_time": "2022-02-28T22:17:59.686Z"
   },
   {
    "duration": 262,
    "start_time": "2022-02-28T22:17:59.997Z"
   },
   {
    "duration": 13,
    "start_time": "2022-02-28T22:18:00.260Z"
   },
   {
    "duration": 5,
    "start_time": "2022-02-28T22:18:00.274Z"
   },
   {
    "duration": 339,
    "start_time": "2022-02-28T22:18:00.281Z"
   },
   {
    "duration": 11,
    "start_time": "2022-02-28T22:18:00.622Z"
   },
   {
    "duration": 27,
    "start_time": "2022-02-28T22:18:00.635Z"
   },
   {
    "duration": 3,
    "start_time": "2022-02-28T22:18:00.663Z"
   },
   {
    "duration": 1705,
    "start_time": "2022-02-28T22:18:00.668Z"
   },
   {
    "duration": 23,
    "start_time": "2022-02-28T22:20:15.165Z"
   },
   {
    "duration": 17,
    "start_time": "2022-02-28T22:20:38.744Z"
   },
   {
    "duration": 16,
    "start_time": "2022-02-28T22:20:47.187Z"
   },
   {
    "duration": 14,
    "start_time": "2022-02-28T22:20:53.798Z"
   },
   {
    "duration": 18,
    "start_time": "2022-02-28T22:21:08.260Z"
   },
   {
    "duration": 13,
    "start_time": "2022-02-28T22:21:20.063Z"
   },
   {
    "duration": 15,
    "start_time": "2022-02-28T22:21:47.744Z"
   },
   {
    "duration": 10,
    "start_time": "2022-02-28T22:23:37.214Z"
   },
   {
    "duration": 12,
    "start_time": "2022-02-28T22:23:44.310Z"
   },
   {
    "duration": 11,
    "start_time": "2022-02-28T22:23:54.711Z"
   },
   {
    "duration": 17,
    "start_time": "2022-02-28T22:24:05.048Z"
   },
   {
    "duration": 4,
    "start_time": "2022-02-28T22:26:08.659Z"
   },
   {
    "duration": 3574,
    "start_time": "2022-02-28T22:26:26.745Z"
   },
   {
    "duration": 232,
    "start_time": "2022-02-28T22:26:42.448Z"
   },
   {
    "duration": 231,
    "start_time": "2022-02-28T22:27:00.604Z"
   },
   {
    "duration": 6586,
    "start_time": "2022-02-28T22:27:19.041Z"
   },
   {
    "duration": 16,
    "start_time": "2022-02-28T22:27:42.779Z"
   },
   {
    "duration": 6,
    "start_time": "2022-02-28T22:28:12.134Z"
   },
   {
    "duration": 18,
    "start_time": "2022-02-28T22:28:37.839Z"
   },
   {
    "duration": 244,
    "start_time": "2022-02-28T22:29:05.447Z"
   },
   {
    "duration": 240,
    "start_time": "2022-02-28T22:29:16.686Z"
   },
   {
    "duration": 6,
    "start_time": "2022-02-28T22:29:27.635Z"
   },
   {
    "duration": 4,
    "start_time": "2022-02-28T22:30:16.411Z"
   },
   {
    "duration": 239,
    "start_time": "2022-02-28T22:32:42.675Z"
   },
   {
    "duration": 248,
    "start_time": "2022-02-28T22:33:08.548Z"
   },
   {
    "duration": 86,
    "start_time": "2022-02-28T22:33:14.934Z"
   },
   {
    "duration": 28,
    "start_time": "2022-02-28T22:33:33.089Z"
   },
   {
    "duration": 10,
    "start_time": "2022-02-28T22:34:29.129Z"
   },
   {
    "duration": 9,
    "start_time": "2022-02-28T22:35:31.007Z"
   },
   {
    "duration": 8,
    "start_time": "2022-02-28T22:37:03.099Z"
   },
   {
    "duration": 6457,
    "start_time": "2022-02-28T22:43:32.590Z"
   },
   {
    "duration": 3,
    "start_time": "2022-02-28T22:44:06.149Z"
   },
   {
    "duration": 418,
    "start_time": "2022-02-28T22:44:06.154Z"
   },
   {
    "duration": 19,
    "start_time": "2022-02-28T22:44:06.574Z"
   },
   {
    "duration": 133,
    "start_time": "2022-02-28T22:44:06.595Z"
   },
   {
    "duration": 77,
    "start_time": "2022-02-28T22:44:06.730Z"
   },
   {
    "duration": 82,
    "start_time": "2022-02-28T22:44:06.809Z"
   },
   {
    "duration": 9,
    "start_time": "2022-02-28T22:44:06.894Z"
   },
   {
    "duration": 84,
    "start_time": "2022-02-28T22:44:06.906Z"
   },
   {
    "duration": 6,
    "start_time": "2022-02-28T22:44:06.991Z"
   },
   {
    "duration": 9,
    "start_time": "2022-02-28T22:44:06.999Z"
   },
   {
    "duration": 9,
    "start_time": "2022-02-28T22:44:07.010Z"
   },
   {
    "duration": 81,
    "start_time": "2022-02-28T22:44:07.021Z"
   },
   {
    "duration": 11,
    "start_time": "2022-02-28T22:44:07.104Z"
   },
   {
    "duration": 6,
    "start_time": "2022-02-28T22:44:07.117Z"
   },
   {
    "duration": 82,
    "start_time": "2022-02-28T22:44:07.125Z"
   },
   {
    "duration": 10,
    "start_time": "2022-02-28T22:44:07.209Z"
   },
   {
    "duration": 10,
    "start_time": "2022-02-28T22:44:07.221Z"
   },
   {
    "duration": 39,
    "start_time": "2022-02-28T22:44:07.232Z"
   },
   {
    "duration": 35,
    "start_time": "2022-02-28T22:44:07.274Z"
   },
   {
    "duration": 14,
    "start_time": "2022-02-28T22:44:07.311Z"
   },
   {
    "duration": 60,
    "start_time": "2022-02-28T22:44:07.327Z"
   },
   {
    "duration": 7,
    "start_time": "2022-02-28T22:44:07.389Z"
   },
   {
    "duration": 10,
    "start_time": "2022-02-28T22:44:07.399Z"
   },
   {
    "duration": 318,
    "start_time": "2022-02-28T22:44:07.411Z"
   },
   {
    "duration": 29,
    "start_time": "2022-02-28T22:44:07.731Z"
   },
   {
    "duration": 15,
    "start_time": "2022-02-28T22:44:07.762Z"
   },
   {
    "duration": 31,
    "start_time": "2022-02-28T22:44:07.779Z"
   },
   {
    "duration": 99,
    "start_time": "2022-02-28T22:44:07.812Z"
   },
   {
    "duration": 308,
    "start_time": "2022-02-28T22:44:07.913Z"
   },
   {
    "duration": 340,
    "start_time": "2022-02-28T22:44:08.223Z"
   },
   {
    "duration": 285,
    "start_time": "2022-02-28T22:44:08.565Z"
   },
   {
    "duration": 18,
    "start_time": "2022-02-28T22:44:08.852Z"
   },
   {
    "duration": 6,
    "start_time": "2022-02-28T22:44:08.872Z"
   },
   {
    "duration": 328,
    "start_time": "2022-02-28T22:44:08.879Z"
   },
   {
    "duration": 13,
    "start_time": "2022-02-28T22:44:09.209Z"
   },
   {
    "duration": 15,
    "start_time": "2022-02-28T22:44:09.224Z"
   },
   {
    "duration": 20,
    "start_time": "2022-02-28T22:44:09.241Z"
   },
   {
    "duration": 1707,
    "start_time": "2022-02-28T22:44:09.263Z"
   },
   {
    "duration": 6849,
    "start_time": "2022-02-28T22:45:16.674Z"
   },
   {
    "duration": 3,
    "start_time": "2022-02-28T22:45:55.707Z"
   },
   {
    "duration": 410,
    "start_time": "2022-02-28T22:45:55.714Z"
   },
   {
    "duration": 18,
    "start_time": "2022-02-28T22:45:56.126Z"
   },
   {
    "duration": 129,
    "start_time": "2022-02-28T22:45:56.146Z"
   },
   {
    "duration": 61,
    "start_time": "2022-02-28T22:45:56.276Z"
   },
   {
    "duration": 79,
    "start_time": "2022-02-28T22:45:56.339Z"
   },
   {
    "duration": 9,
    "start_time": "2022-02-28T22:45:56.419Z"
   },
   {
    "duration": 84,
    "start_time": "2022-02-28T22:45:56.430Z"
   },
   {
    "duration": 4,
    "start_time": "2022-02-28T22:45:56.517Z"
   },
   {
    "duration": 9,
    "start_time": "2022-02-28T22:45:56.523Z"
   },
   {
    "duration": 26,
    "start_time": "2022-02-28T22:45:56.534Z"
   },
   {
    "duration": 44,
    "start_time": "2022-02-28T22:45:56.562Z"
   },
   {
    "duration": 8,
    "start_time": "2022-02-28T22:45:56.608Z"
   },
   {
    "duration": 7,
    "start_time": "2022-02-28T22:45:56.618Z"
   },
   {
    "duration": 75,
    "start_time": "2022-02-28T22:45:56.626Z"
   },
   {
    "duration": 10,
    "start_time": "2022-02-28T22:45:56.702Z"
   },
   {
    "duration": 6,
    "start_time": "2022-02-28T22:45:56.713Z"
   },
   {
    "duration": 16,
    "start_time": "2022-02-28T22:45:56.721Z"
   },
   {
    "duration": 37,
    "start_time": "2022-02-28T22:45:56.759Z"
   },
   {
    "duration": 14,
    "start_time": "2022-02-28T22:45:56.798Z"
   },
   {
    "duration": 55,
    "start_time": "2022-02-28T22:45:56.814Z"
   },
   {
    "duration": 6,
    "start_time": "2022-02-28T22:45:56.871Z"
   },
   {
    "duration": 11,
    "start_time": "2022-02-28T22:45:56.879Z"
   },
   {
    "duration": 277,
    "start_time": "2022-02-28T22:45:56.893Z"
   },
   {
    "duration": 16,
    "start_time": "2022-02-28T22:45:57.173Z"
   },
   {
    "duration": 17,
    "start_time": "2022-02-28T22:45:57.191Z"
   },
   {
    "duration": 56,
    "start_time": "2022-02-28T22:45:57.209Z"
   },
   {
    "duration": 93,
    "start_time": "2022-02-28T22:45:57.267Z"
   },
   {
    "duration": 275,
    "start_time": "2022-02-28T22:45:57.362Z"
   },
   {
    "duration": 315,
    "start_time": "2022-02-28T22:45:57.638Z"
   },
   {
    "duration": 270,
    "start_time": "2022-02-28T22:45:57.954Z"
   },
   {
    "duration": 13,
    "start_time": "2022-02-28T22:45:58.226Z"
   },
   {
    "duration": 19,
    "start_time": "2022-02-28T22:45:58.240Z"
   },
   {
    "duration": 315,
    "start_time": "2022-02-28T22:45:58.260Z"
   },
   {
    "duration": 13,
    "start_time": "2022-02-28T22:45:58.577Z"
   },
   {
    "duration": 16,
    "start_time": "2022-02-28T22:45:58.591Z"
   },
   {
    "duration": 5,
    "start_time": "2022-02-28T22:45:58.609Z"
   },
   {
    "duration": 1738,
    "start_time": "2022-02-28T22:45:58.616Z"
   },
   {
    "duration": 3,
    "start_time": "2022-02-28T22:46:31.713Z"
   },
   {
    "duration": 415,
    "start_time": "2022-02-28T22:46:31.718Z"
   },
   {
    "duration": 23,
    "start_time": "2022-02-28T22:46:32.136Z"
   },
   {
    "duration": 123,
    "start_time": "2022-02-28T22:46:32.161Z"
   },
   {
    "duration": 75,
    "start_time": "2022-02-28T22:46:32.285Z"
   },
   {
    "duration": 67,
    "start_time": "2022-02-28T22:46:32.362Z"
   },
   {
    "duration": 29,
    "start_time": "2022-02-28T22:46:32.431Z"
   },
   {
    "duration": 67,
    "start_time": "2022-02-28T22:46:32.462Z"
   },
   {
    "duration": 5,
    "start_time": "2022-02-28T22:46:32.530Z"
   },
   {
    "duration": 42,
    "start_time": "2022-02-28T22:46:32.537Z"
   },
   {
    "duration": 12,
    "start_time": "2022-02-28T22:46:32.581Z"
   },
   {
    "duration": 47,
    "start_time": "2022-02-28T22:46:32.595Z"
   },
   {
    "duration": 8,
    "start_time": "2022-02-28T22:46:32.644Z"
   },
   {
    "duration": 8,
    "start_time": "2022-02-28T22:46:32.659Z"
   },
   {
    "duration": 48,
    "start_time": "2022-02-28T22:46:32.668Z"
   },
   {
    "duration": 10,
    "start_time": "2022-02-28T22:46:32.717Z"
   },
   {
    "duration": 31,
    "start_time": "2022-02-28T22:46:32.729Z"
   },
   {
    "duration": 35,
    "start_time": "2022-02-28T22:46:32.762Z"
   },
   {
    "duration": 36,
    "start_time": "2022-02-28T22:46:32.800Z"
   },
   {
    "duration": 14,
    "start_time": "2022-02-28T22:46:32.838Z"
   },
   {
    "duration": 45,
    "start_time": "2022-02-28T22:46:32.853Z"
   },
   {
    "duration": 12,
    "start_time": "2022-02-28T22:46:32.899Z"
   },
   {
    "duration": 21,
    "start_time": "2022-02-28T22:46:32.912Z"
   },
   {
    "duration": 243,
    "start_time": "2022-02-28T22:46:32.934Z"
   },
   {
    "duration": 3356,
    "start_time": "2022-02-28T22:46:33.179Z"
   },
   {
    "duration": -46,
    "start_time": "2022-02-28T22:46:36.583Z"
   },
   {
    "duration": -50,
    "start_time": "2022-02-28T22:46:36.588Z"
   },
   {
    "duration": -54,
    "start_time": "2022-02-28T22:46:36.593Z"
   },
   {
    "duration": -57,
    "start_time": "2022-02-28T22:46:36.597Z"
   },
   {
    "duration": -62,
    "start_time": "2022-02-28T22:46:36.603Z"
   },
   {
    "duration": -65,
    "start_time": "2022-02-28T22:46:36.607Z"
   },
   {
    "duration": -69,
    "start_time": "2022-02-28T22:46:36.612Z"
   },
   {
    "duration": -72,
    "start_time": "2022-02-28T22:46:36.616Z"
   },
   {
    "duration": -76,
    "start_time": "2022-02-28T22:46:36.621Z"
   },
   {
    "duration": -81,
    "start_time": "2022-02-28T22:46:36.626Z"
   },
   {
    "duration": -84,
    "start_time": "2022-02-28T22:46:36.630Z"
   },
   {
    "duration": -88,
    "start_time": "2022-02-28T22:46:36.635Z"
   },
   {
    "duration": -92,
    "start_time": "2022-02-28T22:46:36.640Z"
   },
   {
    "duration": 2,
    "start_time": "2022-02-28T22:47:32.377Z"
   },
   {
    "duration": 400,
    "start_time": "2022-02-28T22:47:32.381Z"
   },
   {
    "duration": 19,
    "start_time": "2022-02-28T22:47:32.783Z"
   },
   {
    "duration": 131,
    "start_time": "2022-02-28T22:47:32.803Z"
   },
   {
    "duration": 72,
    "start_time": "2022-02-28T22:47:32.936Z"
   },
   {
    "duration": 85,
    "start_time": "2022-02-28T22:47:33.009Z"
   },
   {
    "duration": 10,
    "start_time": "2022-02-28T22:47:33.096Z"
   },
   {
    "duration": 83,
    "start_time": "2022-02-28T22:47:33.108Z"
   },
   {
    "duration": 6,
    "start_time": "2022-02-28T22:47:33.194Z"
   },
   {
    "duration": 9,
    "start_time": "2022-02-28T22:47:33.202Z"
   },
   {
    "duration": 7,
    "start_time": "2022-02-28T22:47:33.213Z"
   },
   {
    "duration": 76,
    "start_time": "2022-02-28T22:47:33.221Z"
   },
   {
    "duration": 9,
    "start_time": "2022-02-28T22:47:33.298Z"
   },
   {
    "duration": 7,
    "start_time": "2022-02-28T22:47:33.309Z"
   },
   {
    "duration": 68,
    "start_time": "2022-02-28T22:47:33.318Z"
   },
   {
    "duration": 9,
    "start_time": "2022-02-28T22:47:33.387Z"
   },
   {
    "duration": 6,
    "start_time": "2022-02-28T22:47:33.398Z"
   },
   {
    "duration": 17,
    "start_time": "2022-02-28T22:47:33.406Z"
   },
   {
    "duration": 55,
    "start_time": "2022-02-28T22:47:33.426Z"
   },
   {
    "duration": 14,
    "start_time": "2022-02-28T22:47:33.483Z"
   },
   {
    "duration": 29,
    "start_time": "2022-02-28T22:47:33.499Z"
   },
   {
    "duration": 6,
    "start_time": "2022-02-28T22:47:33.529Z"
   },
   {
    "duration": 10,
    "start_time": "2022-02-28T22:47:33.560Z"
   },
   {
    "duration": 277,
    "start_time": "2022-02-28T22:47:33.572Z"
   },
   {
    "duration": 21,
    "start_time": "2022-02-28T22:47:33.851Z"
   },
   {
    "duration": 19,
    "start_time": "2022-02-28T22:47:33.874Z"
   },
   {
    "duration": 29,
    "start_time": "2022-02-28T22:47:33.895Z"
   },
   {
    "duration": 89,
    "start_time": "2022-02-28T22:47:33.926Z"
   },
   {
    "duration": 291,
    "start_time": "2022-02-28T22:47:34.017Z"
   },
   {
    "duration": 305,
    "start_time": "2022-02-28T22:47:34.310Z"
   },
   {
    "duration": 288,
    "start_time": "2022-02-28T22:47:34.617Z"
   },
   {
    "duration": 13,
    "start_time": "2022-02-28T22:47:34.906Z"
   },
   {
    "duration": 5,
    "start_time": "2022-02-28T22:47:34.920Z"
   },
   {
    "duration": 339,
    "start_time": "2022-02-28T22:47:34.927Z"
   },
   {
    "duration": 11,
    "start_time": "2022-02-28T22:47:35.268Z"
   },
   {
    "duration": 115,
    "start_time": "2022-02-28T22:47:35.281Z"
   },
   {
    "duration": 2,
    "start_time": "2022-02-28T22:47:35.398Z"
   },
   {
    "duration": 1645,
    "start_time": "2022-02-28T22:47:35.402Z"
   },
   {
    "duration": 9,
    "start_time": "2022-02-28T22:48:17.445Z"
   },
   {
    "duration": 30,
    "start_time": "2022-02-28T22:49:14.491Z"
   },
   {
    "duration": 14,
    "start_time": "2022-02-28T22:49:26.551Z"
   },
   {
    "duration": 275,
    "start_time": "2022-02-28T22:49:36.662Z"
   },
   {
    "duration": 20,
    "start_time": "2022-02-28T22:50:21.340Z"
   },
   {
    "duration": 17,
    "start_time": "2022-02-28T22:50:46.146Z"
   },
   {
    "duration": 17,
    "start_time": "2022-02-28T22:50:53.674Z"
   },
   {
    "duration": 1647,
    "start_time": "2022-02-28T22:51:29.670Z"
   },
   {
    "duration": 21,
    "start_time": "2022-02-28T22:51:45.009Z"
   },
   {
    "duration": 16,
    "start_time": "2022-02-28T22:52:50.300Z"
   },
   {
    "duration": 10,
    "start_time": "2022-02-28T22:53:01.456Z"
   },
   {
    "duration": 9,
    "start_time": "2022-02-28T22:53:05.822Z"
   },
   {
    "duration": 3,
    "start_time": "2022-02-28T22:53:17.149Z"
   },
   {
    "duration": 402,
    "start_time": "2022-02-28T22:53:17.155Z"
   },
   {
    "duration": 18,
    "start_time": "2022-02-28T22:53:17.559Z"
   },
   {
    "duration": 124,
    "start_time": "2022-02-28T22:53:17.579Z"
   },
   {
    "duration": 74,
    "start_time": "2022-02-28T22:53:17.705Z"
   },
   {
    "duration": 64,
    "start_time": "2022-02-28T22:53:17.781Z"
   },
   {
    "duration": 11,
    "start_time": "2022-02-28T22:53:17.860Z"
   },
   {
    "duration": 87,
    "start_time": "2022-02-28T22:53:17.873Z"
   },
   {
    "duration": 5,
    "start_time": "2022-02-28T22:53:17.963Z"
   },
   {
    "duration": 10,
    "start_time": "2022-02-28T22:53:17.970Z"
   },
   {
    "duration": 9,
    "start_time": "2022-02-28T22:53:17.982Z"
   },
   {
    "duration": 72,
    "start_time": "2022-02-28T22:53:17.992Z"
   },
   {
    "duration": 9,
    "start_time": "2022-02-28T22:53:18.066Z"
   },
   {
    "duration": 6,
    "start_time": "2022-02-28T22:53:18.077Z"
   },
   {
    "duration": 48,
    "start_time": "2022-02-28T22:53:18.085Z"
   },
   {
    "duration": 32,
    "start_time": "2022-02-28T22:53:18.135Z"
   },
   {
    "duration": 6,
    "start_time": "2022-02-28T22:53:18.168Z"
   },
   {
    "duration": 21,
    "start_time": "2022-02-28T22:53:18.176Z"
   },
   {
    "duration": 63,
    "start_time": "2022-02-28T22:53:18.199Z"
   },
   {
    "duration": 14,
    "start_time": "2022-02-28T22:53:18.264Z"
   },
   {
    "duration": 30,
    "start_time": "2022-02-28T22:53:18.280Z"
   },
   {
    "duration": 7,
    "start_time": "2022-02-28T22:53:18.312Z"
   },
   {
    "duration": 43,
    "start_time": "2022-02-28T22:53:18.321Z"
   },
   {
    "duration": 266,
    "start_time": "2022-02-28T22:53:18.367Z"
   },
   {
    "duration": 25,
    "start_time": "2022-02-28T22:53:18.634Z"
   },
   {
    "duration": 16,
    "start_time": "2022-02-28T22:53:18.661Z"
   },
   {
    "duration": 16,
    "start_time": "2022-02-28T22:53:18.679Z"
   },
   {
    "duration": 32,
    "start_time": "2022-02-28T22:53:18.697Z"
   },
   {
    "duration": 98,
    "start_time": "2022-02-28T22:53:18.731Z"
   },
   {
    "duration": 275,
    "start_time": "2022-02-28T22:53:18.859Z"
   },
   {
    "duration": 311,
    "start_time": "2022-02-28T22:53:19.136Z"
   },
   {
    "duration": 277,
    "start_time": "2022-02-28T22:53:19.449Z"
   },
   {
    "duration": 12,
    "start_time": "2022-02-28T22:53:19.727Z"
   },
   {
    "duration": 7,
    "start_time": "2022-02-28T22:53:19.740Z"
   },
   {
    "duration": 326,
    "start_time": "2022-02-28T22:53:19.759Z"
   },
   {
    "duration": 11,
    "start_time": "2022-02-28T22:53:20.087Z"
   },
   {
    "duration": 111,
    "start_time": "2022-02-28T22:53:20.100Z"
   },
   {
    "duration": 5,
    "start_time": "2022-02-28T22:53:20.213Z"
   },
   {
    "duration": 1652,
    "start_time": "2022-02-28T22:53:20.220Z"
   },
   {
    "duration": 16,
    "start_time": "2022-02-28T22:53:49.784Z"
   },
   {
    "duration": 308,
    "start_time": "2022-02-28T22:54:05.171Z"
   },
   {
    "duration": 15,
    "start_time": "2022-02-28T22:54:11.837Z"
   },
   {
    "duration": 16,
    "start_time": "2022-02-28T22:54:18.656Z"
   },
   {
    "duration": 276,
    "start_time": "2022-02-28T22:54:37.110Z"
   },
   {
    "duration": 252,
    "start_time": "2022-02-28T22:54:58.399Z"
   },
   {
    "duration": 16,
    "start_time": "2022-02-28T22:55:08.083Z"
   },
   {
    "duration": 15,
    "start_time": "2022-02-28T22:55:41.172Z"
   },
   {
    "duration": 7,
    "start_time": "2022-02-28T22:57:20.978Z"
   },
   {
    "duration": 15,
    "start_time": "2022-02-28T22:57:26.614Z"
   },
   {
    "duration": 3,
    "start_time": "2022-02-28T22:57:31.189Z"
   },
   {
    "duration": 422,
    "start_time": "2022-02-28T22:57:31.194Z"
   },
   {
    "duration": 19,
    "start_time": "2022-02-28T22:57:31.618Z"
   },
   {
    "duration": 132,
    "start_time": "2022-02-28T22:57:31.639Z"
   },
   {
    "duration": 60,
    "start_time": "2022-02-28T22:57:31.772Z"
   },
   {
    "duration": 80,
    "start_time": "2022-02-28T22:57:31.834Z"
   },
   {
    "duration": 9,
    "start_time": "2022-02-28T22:57:31.917Z"
   },
   {
    "duration": 85,
    "start_time": "2022-02-28T22:57:31.928Z"
   },
   {
    "duration": 5,
    "start_time": "2022-02-28T22:57:32.015Z"
   },
   {
    "duration": 9,
    "start_time": "2022-02-28T22:57:32.022Z"
   },
   {
    "duration": 27,
    "start_time": "2022-02-28T22:57:32.033Z"
   },
   {
    "duration": 46,
    "start_time": "2022-02-28T22:57:32.062Z"
   },
   {
    "duration": 9,
    "start_time": "2022-02-28T22:57:32.109Z"
   },
   {
    "duration": 11,
    "start_time": "2022-02-28T22:57:32.119Z"
   },
   {
    "duration": 68,
    "start_time": "2022-02-28T22:57:32.131Z"
   },
   {
    "duration": 10,
    "start_time": "2022-02-28T22:57:32.201Z"
   },
   {
    "duration": 6,
    "start_time": "2022-02-28T22:57:32.212Z"
   },
   {
    "duration": 39,
    "start_time": "2022-02-28T22:57:32.220Z"
   },
   {
    "duration": 36,
    "start_time": "2022-02-28T22:57:32.262Z"
   },
   {
    "duration": 14,
    "start_time": "2022-02-28T22:57:32.300Z"
   },
   {
    "duration": 53,
    "start_time": "2022-02-28T22:57:32.316Z"
   },
   {
    "duration": 6,
    "start_time": "2022-02-28T22:57:32.371Z"
   },
   {
    "duration": 10,
    "start_time": "2022-02-28T22:57:32.378Z"
   },
   {
    "duration": 275,
    "start_time": "2022-02-28T22:57:32.390Z"
   },
   {
    "duration": 15,
    "start_time": "2022-02-28T22:57:32.667Z"
   },
   {
    "duration": 7,
    "start_time": "2022-02-28T22:57:32.684Z"
   },
   {
    "duration": 19,
    "start_time": "2022-02-28T22:57:32.692Z"
   },
   {
    "duration": 56,
    "start_time": "2022-02-28T22:57:32.712Z"
   },
   {
    "duration": 99,
    "start_time": "2022-02-28T22:57:32.769Z"
   },
   {
    "duration": 256,
    "start_time": "2022-02-28T22:57:32.870Z"
   },
   {
    "duration": 297,
    "start_time": "2022-02-28T22:57:33.128Z"
   },
   {
    "duration": 281,
    "start_time": "2022-02-28T22:57:33.427Z"
   },
   {
    "duration": 11,
    "start_time": "2022-02-28T22:57:33.710Z"
   },
   {
    "duration": 6,
    "start_time": "2022-02-28T22:57:33.722Z"
   },
   {
    "duration": 302,
    "start_time": "2022-02-28T22:57:33.729Z"
   },
   {
    "duration": 10,
    "start_time": "2022-02-28T22:57:34.034Z"
   },
   {
    "duration": 117,
    "start_time": "2022-02-28T22:57:34.045Z"
   },
   {
    "duration": 2,
    "start_time": "2022-02-28T22:57:34.164Z"
   },
   {
    "duration": 1580,
    "start_time": "2022-02-28T22:57:34.168Z"
   },
   {
    "duration": 3,
    "start_time": "2022-02-28T22:59:27.164Z"
   },
   {
    "duration": 403,
    "start_time": "2022-02-28T22:59:27.169Z"
   },
   {
    "duration": 19,
    "start_time": "2022-02-28T22:59:27.574Z"
   },
   {
    "duration": 127,
    "start_time": "2022-02-28T22:59:27.595Z"
   },
   {
    "duration": 69,
    "start_time": "2022-02-28T22:59:27.724Z"
   },
   {
    "duration": 79,
    "start_time": "2022-02-28T22:59:27.795Z"
   },
   {
    "duration": 10,
    "start_time": "2022-02-28T22:59:27.876Z"
   },
   {
    "duration": 85,
    "start_time": "2022-02-28T22:59:27.888Z"
   },
   {
    "duration": 6,
    "start_time": "2022-02-28T22:59:27.974Z"
   },
   {
    "duration": 9,
    "start_time": "2022-02-28T22:59:27.981Z"
   },
   {
    "duration": 7,
    "start_time": "2022-02-28T22:59:27.992Z"
   },
   {
    "duration": 75,
    "start_time": "2022-02-28T22:59:28.001Z"
   },
   {
    "duration": 8,
    "start_time": "2022-02-28T22:59:28.078Z"
   },
   {
    "duration": 7,
    "start_time": "2022-02-28T22:59:28.087Z"
   },
   {
    "duration": 69,
    "start_time": "2022-02-28T22:59:28.095Z"
   },
   {
    "duration": 11,
    "start_time": "2022-02-28T22:59:28.165Z"
   },
   {
    "duration": 8,
    "start_time": "2022-02-28T22:59:28.177Z"
   },
   {
    "duration": 16,
    "start_time": "2022-02-28T22:59:28.187Z"
   },
   {
    "duration": 62,
    "start_time": "2022-02-28T22:59:28.206Z"
   },
   {
    "duration": 13,
    "start_time": "2022-02-28T22:59:28.270Z"
   },
   {
    "duration": 29,
    "start_time": "2022-02-28T22:59:28.285Z"
   },
   {
    "duration": 5,
    "start_time": "2022-02-28T22:59:28.316Z"
   },
   {
    "duration": 39,
    "start_time": "2022-02-28T22:59:28.323Z"
   },
   {
    "duration": 264,
    "start_time": "2022-02-28T22:59:28.364Z"
   },
   {
    "duration": 16,
    "start_time": "2022-02-28T22:59:28.629Z"
   },
   {
    "duration": 40,
    "start_time": "2022-02-28T22:59:28.646Z"
   },
   {
    "duration": 20,
    "start_time": "2022-02-28T22:59:28.687Z"
   },
   {
    "duration": 32,
    "start_time": "2022-02-28T22:59:28.708Z"
   },
   {
    "duration": 69,
    "start_time": "2022-02-28T22:59:28.759Z"
   },
   {
    "duration": 299,
    "start_time": "2022-02-28T22:59:28.830Z"
   },
   {
    "duration": 313,
    "start_time": "2022-02-28T22:59:29.130Z"
   },
   {
    "duration": 277,
    "start_time": "2022-02-28T22:59:29.445Z"
   },
   {
    "duration": 12,
    "start_time": "2022-02-28T22:59:29.723Z"
   },
   {
    "duration": 4,
    "start_time": "2022-02-28T22:59:29.737Z"
   },
   {
    "duration": 316,
    "start_time": "2022-02-28T22:59:29.759Z"
   },
   {
    "duration": 12,
    "start_time": "2022-02-28T22:59:30.077Z"
   },
   {
    "duration": 17,
    "start_time": "2022-02-28T22:59:30.090Z"
   },
   {
    "duration": 5,
    "start_time": "2022-02-28T22:59:30.109Z"
   },
   {
    "duration": 1750,
    "start_time": "2022-02-28T22:59:30.116Z"
   },
   {
    "duration": 264,
    "start_time": "2022-02-28T23:04:06.128Z"
   },
   {
    "duration": 28,
    "start_time": "2022-02-28T23:06:03.592Z"
   },
   {
    "duration": 28,
    "start_time": "2022-02-28T23:06:36.001Z"
   },
   {
    "duration": 18,
    "start_time": "2022-02-28T23:06:50.443Z"
   },
   {
    "duration": 27,
    "start_time": "2022-02-28T23:07:03.157Z"
   },
   {
    "duration": 263,
    "start_time": "2022-02-28T23:07:58.952Z"
   },
   {
    "duration": 34,
    "start_time": "2022-02-28T23:08:29.686Z"
   },
   {
    "duration": 18,
    "start_time": "2022-02-28T23:09:06.764Z"
   },
   {
    "duration": 32,
    "start_time": "2022-02-28T23:09:20.002Z"
   },
   {
    "duration": 71,
    "start_time": "2022-02-28T23:11:13.580Z"
   },
   {
    "duration": 245,
    "start_time": "2022-02-28T23:11:19.318Z"
   },
   {
    "duration": 254,
    "start_time": "2022-02-28T23:11:37.580Z"
   },
   {
    "duration": 31,
    "start_time": "2022-02-28T23:11:55.201Z"
   },
   {
    "duration": 11,
    "start_time": "2022-02-28T23:12:12.620Z"
   },
   {
    "duration": 17,
    "start_time": "2022-02-28T23:12:23.207Z"
   },
   {
    "duration": 17,
    "start_time": "2022-02-28T23:12:32.691Z"
   },
   {
    "duration": 3,
    "start_time": "2022-02-28T23:12:43.770Z"
   },
   {
    "duration": 394,
    "start_time": "2022-02-28T23:12:43.775Z"
   },
   {
    "duration": 20,
    "start_time": "2022-02-28T23:12:44.171Z"
   },
   {
    "duration": 121,
    "start_time": "2022-02-28T23:12:44.193Z"
   },
   {
    "duration": 71,
    "start_time": "2022-02-28T23:12:44.316Z"
   },
   {
    "duration": 72,
    "start_time": "2022-02-28T23:12:44.389Z"
   },
   {
    "duration": 10,
    "start_time": "2022-02-28T23:12:44.463Z"
   },
   {
    "duration": 63,
    "start_time": "2022-02-28T23:12:44.475Z"
   },
   {
    "duration": 6,
    "start_time": "2022-02-28T23:12:44.559Z"
   },
   {
    "duration": 11,
    "start_time": "2022-02-28T23:12:44.567Z"
   },
   {
    "duration": 7,
    "start_time": "2022-02-28T23:12:44.579Z"
   },
   {
    "duration": 71,
    "start_time": "2022-02-28T23:12:44.588Z"
   },
   {
    "duration": 10,
    "start_time": "2022-02-28T23:12:44.661Z"
   },
   {
    "duration": 8,
    "start_time": "2022-02-28T23:12:44.672Z"
   },
   {
    "duration": 48,
    "start_time": "2022-02-28T23:12:44.681Z"
   },
   {
    "duration": 37,
    "start_time": "2022-02-28T23:12:44.731Z"
   },
   {
    "duration": 5,
    "start_time": "2022-02-28T23:12:44.769Z"
   },
   {
    "duration": 18,
    "start_time": "2022-02-28T23:12:44.775Z"
   },
   {
    "duration": 62,
    "start_time": "2022-02-28T23:12:44.797Z"
   },
   {
    "duration": 14,
    "start_time": "2022-02-28T23:12:44.862Z"
   },
   {
    "duration": 35,
    "start_time": "2022-02-28T23:12:44.878Z"
   },
   {
    "duration": 6,
    "start_time": "2022-02-28T23:12:44.914Z"
   },
   {
    "duration": 9,
    "start_time": "2022-02-28T23:12:44.921Z"
   },
   {
    "duration": 288,
    "start_time": "2022-02-28T23:12:44.932Z"
   },
   {
    "duration": 16,
    "start_time": "2022-02-28T23:12:45.221Z"
   },
   {
    "duration": 24,
    "start_time": "2022-02-28T23:12:45.239Z"
   },
   {
    "duration": 15,
    "start_time": "2022-02-28T23:12:45.265Z"
   },
   {
    "duration": 30,
    "start_time": "2022-02-28T23:12:45.282Z"
   },
   {
    "duration": 99,
    "start_time": "2022-02-28T23:12:45.314Z"
   },
   {
    "duration": 292,
    "start_time": "2022-02-28T23:12:45.415Z"
   },
   {
    "duration": 306,
    "start_time": "2022-02-28T23:12:45.708Z"
   },
   {
    "duration": 263,
    "start_time": "2022-02-28T23:12:46.016Z"
   },
   {
    "duration": 11,
    "start_time": "2022-02-28T23:12:46.281Z"
   },
   {
    "duration": 4,
    "start_time": "2022-02-28T23:12:46.294Z"
   },
   {
    "duration": 333,
    "start_time": "2022-02-28T23:12:46.300Z"
   },
   {
    "duration": 25,
    "start_time": "2022-02-28T23:12:46.635Z"
   },
   {
    "duration": 17,
    "start_time": "2022-02-28T23:12:46.661Z"
   },
   {
    "duration": 7,
    "start_time": "2022-02-28T23:12:46.680Z"
   },
   {
    "duration": 1760,
    "start_time": "2022-02-28T23:12:46.689Z"
   },
   {
    "duration": 253,
    "start_time": "2022-02-28T23:15:14.296Z"
   },
   {
    "duration": 260,
    "start_time": "2022-02-28T23:15:33.948Z"
   },
   {
    "duration": 10,
    "start_time": "2022-02-28T23:15:43.083Z"
   },
   {
    "duration": 16,
    "start_time": "2022-02-28T23:15:58.887Z"
   },
   {
    "duration": 253,
    "start_time": "2022-02-28T23:21:41.429Z"
   },
   {
    "duration": 250,
    "start_time": "2022-02-28T23:21:48.730Z"
   },
   {
    "duration": 270,
    "start_time": "2022-02-28T23:24:26.547Z"
   },
   {
    "duration": 10,
    "start_time": "2022-02-28T23:24:32.169Z"
   },
   {
    "duration": 12,
    "start_time": "2022-02-28T23:25:24.995Z"
   },
   {
    "duration": 16,
    "start_time": "2022-02-28T23:25:31.986Z"
   },
   {
    "duration": 73,
    "start_time": "2022-02-28T23:29:09.591Z"
   },
   {
    "duration": 5,
    "start_time": "2022-02-28T23:29:47.475Z"
   },
   {
    "duration": 3,
    "start_time": "2022-02-28T23:31:31.164Z"
   },
   {
    "duration": 387,
    "start_time": "2022-02-28T23:31:31.169Z"
   },
   {
    "duration": 18,
    "start_time": "2022-02-28T23:31:31.559Z"
   },
   {
    "duration": 131,
    "start_time": "2022-02-28T23:31:31.579Z"
   },
   {
    "duration": 73,
    "start_time": "2022-02-28T23:31:31.712Z"
   },
   {
    "duration": 80,
    "start_time": "2022-02-28T23:31:31.786Z"
   },
   {
    "duration": 10,
    "start_time": "2022-02-28T23:31:31.868Z"
   },
   {
    "duration": 82,
    "start_time": "2022-02-28T23:31:31.881Z"
   },
   {
    "duration": 5,
    "start_time": "2022-02-28T23:31:31.965Z"
   },
   {
    "duration": 27,
    "start_time": "2022-02-28T23:31:31.972Z"
   },
   {
    "duration": 18,
    "start_time": "2022-02-28T23:31:32.000Z"
   },
   {
    "duration": 47,
    "start_time": "2022-02-28T23:31:32.020Z"
   },
   {
    "duration": 10,
    "start_time": "2022-02-28T23:31:32.068Z"
   },
   {
    "duration": 6,
    "start_time": "2022-02-28T23:31:32.080Z"
   },
   {
    "duration": 71,
    "start_time": "2022-02-28T23:31:32.088Z"
   },
   {
    "duration": 11,
    "start_time": "2022-02-28T23:31:32.161Z"
   },
   {
    "duration": 25,
    "start_time": "2022-02-28T23:31:32.174Z"
   },
   {
    "duration": 33,
    "start_time": "2022-02-28T23:31:32.201Z"
   },
   {
    "duration": 36,
    "start_time": "2022-02-28T23:31:32.239Z"
   },
   {
    "duration": 14,
    "start_time": "2022-02-28T23:31:32.277Z"
   },
   {
    "duration": 45,
    "start_time": "2022-02-28T23:31:32.293Z"
   },
   {
    "duration": 13,
    "start_time": "2022-02-28T23:31:32.340Z"
   },
   {
    "duration": 14,
    "start_time": "2022-02-28T23:31:32.355Z"
   },
   {
    "duration": 261,
    "start_time": "2022-02-28T23:31:32.371Z"
   },
   {
    "duration": 14,
    "start_time": "2022-02-28T23:31:32.633Z"
   },
   {
    "duration": 32,
    "start_time": "2022-02-28T23:31:32.648Z"
   },
   {
    "duration": 53,
    "start_time": "2022-02-28T23:31:32.681Z"
   },
   {
    "duration": 69,
    "start_time": "2022-02-28T23:31:32.735Z"
   },
   {
    "duration": 276,
    "start_time": "2022-02-28T23:31:32.805Z"
   },
   {
    "duration": 298,
    "start_time": "2022-02-28T23:31:33.083Z"
   },
   {
    "duration": 257,
    "start_time": "2022-02-28T23:31:33.383Z"
   },
   {
    "duration": 20,
    "start_time": "2022-02-28T23:31:33.641Z"
   },
   {
    "duration": 5,
    "start_time": "2022-02-28T23:31:33.662Z"
   },
   {
    "duration": 309,
    "start_time": "2022-02-28T23:31:33.668Z"
   },
   {
    "duration": 11,
    "start_time": "2022-02-28T23:31:33.979Z"
   },
   {
    "duration": 15,
    "start_time": "2022-02-28T23:31:33.991Z"
   },
   {
    "duration": 6,
    "start_time": "2022-02-28T23:31:34.007Z"
   },
   {
    "duration": 1732,
    "start_time": "2022-02-28T23:31:34.015Z"
   },
   {
    "duration": 1007,
    "start_time": "2022-03-01T06:56:33.142Z"
   },
   {
    "duration": 418,
    "start_time": "2022-03-01T06:56:34.151Z"
   },
   {
    "duration": 20,
    "start_time": "2022-03-01T06:56:34.571Z"
   },
   {
    "duration": 145,
    "start_time": "2022-03-01T06:56:34.593Z"
   },
   {
    "duration": 61,
    "start_time": "2022-03-01T06:56:34.740Z"
   },
   {
    "duration": 90,
    "start_time": "2022-03-01T06:56:34.803Z"
   },
   {
    "duration": 10,
    "start_time": "2022-03-01T06:56:34.894Z"
   },
   {
    "duration": 99,
    "start_time": "2022-03-01T06:56:34.906Z"
   },
   {
    "duration": 5,
    "start_time": "2022-03-01T06:56:35.008Z"
   },
   {
    "duration": 4259,
    "start_time": "2022-03-01T06:56:35.015Z"
   },
   {
    "duration": -115,
    "start_time": "2022-03-01T06:56:39.392Z"
   },
   {
    "duration": -124,
    "start_time": "2022-03-01T06:56:39.402Z"
   },
   {
    "duration": -128,
    "start_time": "2022-03-01T06:56:39.407Z"
   },
   {
    "duration": -131,
    "start_time": "2022-03-01T06:56:39.411Z"
   },
   {
    "duration": -135,
    "start_time": "2022-03-01T06:56:39.415Z"
   },
   {
    "duration": -137,
    "start_time": "2022-03-01T06:56:39.418Z"
   },
   {
    "duration": -140,
    "start_time": "2022-03-01T06:56:39.422Z"
   },
   {
    "duration": -142,
    "start_time": "2022-03-01T06:56:39.425Z"
   },
   {
    "duration": -145,
    "start_time": "2022-03-01T06:56:39.429Z"
   },
   {
    "duration": -148,
    "start_time": "2022-03-01T06:56:39.433Z"
   },
   {
    "duration": -150,
    "start_time": "2022-03-01T06:56:39.436Z"
   },
   {
    "duration": -153,
    "start_time": "2022-03-01T06:56:39.440Z"
   },
   {
    "duration": -156,
    "start_time": "2022-03-01T06:56:39.444Z"
   },
   {
    "duration": -159,
    "start_time": "2022-03-01T06:56:39.448Z"
   },
   {
    "duration": -163,
    "start_time": "2022-03-01T06:56:39.453Z"
   },
   {
    "duration": -168,
    "start_time": "2022-03-01T06:56:39.458Z"
   },
   {
    "duration": -171,
    "start_time": "2022-03-01T06:56:39.462Z"
   },
   {
    "duration": -174,
    "start_time": "2022-03-01T06:56:39.466Z"
   },
   {
    "duration": -193,
    "start_time": "2022-03-01T06:56:39.486Z"
   },
   {
    "duration": -200,
    "start_time": "2022-03-01T06:56:39.493Z"
   },
   {
    "duration": -216,
    "start_time": "2022-03-01T06:56:39.510Z"
   },
   {
    "duration": -225,
    "start_time": "2022-03-01T06:56:39.520Z"
   },
   {
    "duration": -230,
    "start_time": "2022-03-01T06:56:39.526Z"
   },
   {
    "duration": -238,
    "start_time": "2022-03-01T06:56:39.535Z"
   },
   {
    "duration": -243,
    "start_time": "2022-03-01T06:56:39.541Z"
   },
   {
    "duration": -253,
    "start_time": "2022-03-01T06:56:39.551Z"
   },
   {
    "duration": -255,
    "start_time": "2022-03-01T06:56:39.554Z"
   },
   {
    "duration": 66,
    "start_time": "2022-03-01T06:58:20.784Z"
   },
   {
    "duration": 66,
    "start_time": "2022-03-01T06:58:43.122Z"
   },
   {
    "duration": 192,
    "start_time": "2022-03-01T06:58:58.282Z"
   },
   {
    "duration": 65,
    "start_time": "2022-03-01T06:59:10.354Z"
   },
   {
    "duration": 68,
    "start_time": "2022-03-01T06:59:44.074Z"
   },
   {
    "duration": 76,
    "start_time": "2022-03-01T07:00:16.843Z"
   },
   {
    "duration": 3,
    "start_time": "2022-03-01T07:00:33.827Z"
   },
   {
    "duration": 427,
    "start_time": "2022-03-01T07:00:33.831Z"
   },
   {
    "duration": 18,
    "start_time": "2022-03-01T07:00:34.260Z"
   },
   {
    "duration": 127,
    "start_time": "2022-03-01T07:00:34.279Z"
   },
   {
    "duration": 71,
    "start_time": "2022-03-01T07:00:34.407Z"
   },
   {
    "duration": 75,
    "start_time": "2022-03-01T07:00:34.479Z"
   },
   {
    "duration": 9,
    "start_time": "2022-03-01T07:00:34.556Z"
   },
   {
    "duration": 80,
    "start_time": "2022-03-01T07:00:34.567Z"
   },
   {
    "duration": 5,
    "start_time": "2022-03-01T07:00:34.648Z"
   },
   {
    "duration": 3636,
    "start_time": "2022-03-01T07:00:34.655Z"
   },
   {
    "duration": -108,
    "start_time": "2022-03-01T07:00:38.401Z"
   },
   {
    "duration": -137,
    "start_time": "2022-03-01T07:00:38.431Z"
   },
   {
    "duration": -141,
    "start_time": "2022-03-01T07:00:38.436Z"
   },
   {
    "duration": -143,
    "start_time": "2022-03-01T07:00:38.439Z"
   },
   {
    "duration": -152,
    "start_time": "2022-03-01T07:00:38.449Z"
   },
   {
    "duration": -154,
    "start_time": "2022-03-01T07:00:38.452Z"
   },
   {
    "duration": -156,
    "start_time": "2022-03-01T07:00:38.455Z"
   },
   {
    "duration": -159,
    "start_time": "2022-03-01T07:00:38.459Z"
   },
   {
    "duration": -162,
    "start_time": "2022-03-01T07:00:38.463Z"
   },
   {
    "duration": -163,
    "start_time": "2022-03-01T07:00:38.466Z"
   },
   {
    "duration": -166,
    "start_time": "2022-03-01T07:00:38.470Z"
   },
   {
    "duration": -168,
    "start_time": "2022-03-01T07:00:38.473Z"
   },
   {
    "duration": -171,
    "start_time": "2022-03-01T07:00:38.477Z"
   },
   {
    "duration": -174,
    "start_time": "2022-03-01T07:00:38.481Z"
   },
   {
    "duration": -176,
    "start_time": "2022-03-01T07:00:38.484Z"
   },
   {
    "duration": -178,
    "start_time": "2022-03-01T07:00:38.487Z"
   },
   {
    "duration": -190,
    "start_time": "2022-03-01T07:00:38.500Z"
   },
   {
    "duration": -193,
    "start_time": "2022-03-01T07:00:38.504Z"
   },
   {
    "duration": -196,
    "start_time": "2022-03-01T07:00:38.508Z"
   },
   {
    "duration": -201,
    "start_time": "2022-03-01T07:00:38.514Z"
   },
   {
    "duration": -203,
    "start_time": "2022-03-01T07:00:38.517Z"
   },
   {
    "duration": -205,
    "start_time": "2022-03-01T07:00:38.520Z"
   },
   {
    "duration": -208,
    "start_time": "2022-03-01T07:00:38.524Z"
   },
   {
    "duration": -211,
    "start_time": "2022-03-01T07:00:38.528Z"
   },
   {
    "duration": -214,
    "start_time": "2022-03-01T07:00:38.532Z"
   },
   {
    "duration": -216,
    "start_time": "2022-03-01T07:00:38.535Z"
   },
   {
    "duration": -218,
    "start_time": "2022-03-01T07:00:38.538Z"
   },
   {
    "duration": 65,
    "start_time": "2022-03-01T07:01:17.162Z"
   },
   {
    "duration": 61,
    "start_time": "2022-03-01T07:01:24.682Z"
   },
   {
    "duration": 61,
    "start_time": "2022-03-01T07:01:51.301Z"
   },
   {
    "duration": 58,
    "start_time": "2022-03-01T07:02:09.541Z"
   },
   {
    "duration": 4661,
    "start_time": "2022-03-01T07:02:20.278Z"
   },
   {
    "duration": 60,
    "start_time": "2022-03-01T07:02:34.158Z"
   },
   {
    "duration": 61,
    "start_time": "2022-03-01T07:06:35.597Z"
   },
   {
    "duration": 61,
    "start_time": "2022-03-01T07:08:16.926Z"
   },
   {
    "duration": 4849,
    "start_time": "2022-03-01T07:08:24.669Z"
   },
   {
    "duration": 172,
    "start_time": "2022-03-01T07:09:18.633Z"
   },
   {
    "duration": 67,
    "start_time": "2022-03-01T07:09:25.701Z"
   },
   {
    "duration": 59,
    "start_time": "2022-03-01T07:09:33.917Z"
   },
   {
    "duration": 60,
    "start_time": "2022-03-01T07:12:25.655Z"
   },
   {
    "duration": 242,
    "start_time": "2022-03-01T07:12:40.079Z"
   },
   {
    "duration": 85,
    "start_time": "2022-03-01T07:13:06.846Z"
   },
   {
    "duration": 61,
    "start_time": "2022-03-01T07:13:23.576Z"
   },
   {
    "duration": 43,
    "start_time": "2022-03-01T07:14:23.341Z"
   },
   {
    "duration": 62,
    "start_time": "2022-03-01T07:14:39.934Z"
   },
   {
    "duration": 10,
    "start_time": "2022-03-01T07:18:03.567Z"
   },
   {
    "duration": 44,
    "start_time": "2022-03-01T07:18:24.838Z"
   },
   {
    "duration": 680,
    "start_time": "2022-03-01T07:19:01.839Z"
   },
   {
    "duration": 3,
    "start_time": "2022-03-01T07:19:28.533Z"
   },
   {
    "duration": 426,
    "start_time": "2022-03-01T07:19:28.538Z"
   },
   {
    "duration": 21,
    "start_time": "2022-03-01T07:19:28.966Z"
   },
   {
    "duration": 145,
    "start_time": "2022-03-01T07:19:28.989Z"
   },
   {
    "duration": 59,
    "start_time": "2022-03-01T07:19:29.136Z"
   },
   {
    "duration": 91,
    "start_time": "2022-03-01T07:19:29.197Z"
   },
   {
    "duration": 11,
    "start_time": "2022-03-01T07:19:29.290Z"
   },
   {
    "duration": 81,
    "start_time": "2022-03-01T07:19:29.303Z"
   },
   {
    "duration": 5,
    "start_time": "2022-03-01T07:19:29.386Z"
   },
   {
    "duration": 9,
    "start_time": "2022-03-01T07:19:29.392Z"
   },
   {
    "duration": 63,
    "start_time": "2022-03-01T07:19:29.403Z"
   },
   {
    "duration": 8,
    "start_time": "2022-03-01T07:19:29.468Z"
   },
   {
    "duration": 6,
    "start_time": "2022-03-01T07:19:29.477Z"
   },
   {
    "duration": 59,
    "start_time": "2022-03-01T07:19:29.485Z"
   },
   {
    "duration": 9,
    "start_time": "2022-03-01T07:19:29.545Z"
   },
   {
    "duration": 6,
    "start_time": "2022-03-01T07:19:29.556Z"
   },
   {
    "duration": 18,
    "start_time": "2022-03-01T07:19:29.563Z"
   },
   {
    "duration": 61,
    "start_time": "2022-03-01T07:19:29.583Z"
   },
   {
    "duration": 13,
    "start_time": "2022-03-01T07:19:29.647Z"
   },
   {
    "duration": 29,
    "start_time": "2022-03-01T07:19:29.662Z"
   },
   {
    "duration": 6,
    "start_time": "2022-03-01T07:19:29.692Z"
   },
   {
    "duration": 39,
    "start_time": "2022-03-01T07:19:29.699Z"
   },
   {
    "duration": 253,
    "start_time": "2022-03-01T07:19:29.740Z"
   },
   {
    "duration": 13,
    "start_time": "2022-03-01T07:19:29.995Z"
   },
   {
    "duration": 33,
    "start_time": "2022-03-01T07:19:30.010Z"
   },
   {
    "duration": 33,
    "start_time": "2022-03-01T07:19:30.046Z"
   },
   {
    "duration": 85,
    "start_time": "2022-03-01T07:19:30.081Z"
   },
   {
    "duration": 256,
    "start_time": "2022-03-01T07:19:30.168Z"
   },
   {
    "duration": 290,
    "start_time": "2022-03-01T07:19:30.426Z"
   },
   {
    "duration": 245,
    "start_time": "2022-03-01T07:19:30.717Z"
   },
   {
    "duration": 12,
    "start_time": "2022-03-01T07:19:30.964Z"
   },
   {
    "duration": 28,
    "start_time": "2022-03-01T07:19:30.978Z"
   },
   {
    "duration": 289,
    "start_time": "2022-03-01T07:19:31.008Z"
   },
   {
    "duration": 11,
    "start_time": "2022-03-01T07:19:31.298Z"
   },
   {
    "duration": 33,
    "start_time": "2022-03-01T07:19:31.311Z"
   },
   {
    "duration": 88,
    "start_time": "2022-03-01T07:19:31.346Z"
   },
   {
    "duration": 1700,
    "start_time": "2022-03-01T07:19:31.436Z"
   },
   {
    "duration": 3,
    "start_time": "2022-03-01T07:21:07.942Z"
   },
   {
    "duration": 407,
    "start_time": "2022-03-01T07:21:07.946Z"
   },
   {
    "duration": 18,
    "start_time": "2022-03-01T07:21:08.355Z"
   },
   {
    "duration": 127,
    "start_time": "2022-03-01T07:21:08.375Z"
   },
   {
    "duration": 70,
    "start_time": "2022-03-01T07:21:08.503Z"
   },
   {
    "duration": 78,
    "start_time": "2022-03-01T07:21:08.575Z"
   },
   {
    "duration": 11,
    "start_time": "2022-03-01T07:21:08.656Z"
   },
   {
    "duration": 90,
    "start_time": "2022-03-01T07:21:08.669Z"
   },
   {
    "duration": 6,
    "start_time": "2022-03-01T07:21:08.761Z"
   },
   {
    "duration": 10,
    "start_time": "2022-03-01T07:21:08.769Z"
   },
   {
    "duration": 60,
    "start_time": "2022-03-01T07:21:08.781Z"
   },
   {
    "duration": 9,
    "start_time": "2022-03-01T07:21:08.842Z"
   },
   {
    "duration": 10,
    "start_time": "2022-03-01T07:21:08.852Z"
   },
   {
    "duration": 45,
    "start_time": "2022-03-01T07:21:08.863Z"
   },
   {
    "duration": 11,
    "start_time": "2022-03-01T07:21:08.933Z"
   },
   {
    "duration": 7,
    "start_time": "2022-03-01T07:21:08.945Z"
   },
   {
    "duration": 18,
    "start_time": "2022-03-01T07:21:08.953Z"
   },
   {
    "duration": 33,
    "start_time": "2022-03-01T07:21:08.973Z"
   },
   {
    "duration": 14,
    "start_time": "2022-03-01T07:21:09.033Z"
   },
   {
    "duration": 34,
    "start_time": "2022-03-01T07:21:09.049Z"
   },
   {
    "duration": 5,
    "start_time": "2022-03-01T07:21:09.085Z"
   },
   {
    "duration": 11,
    "start_time": "2022-03-01T07:21:09.091Z"
   },
   {
    "duration": 277,
    "start_time": "2022-03-01T07:21:09.104Z"
   },
   {
    "duration": 13,
    "start_time": "2022-03-01T07:21:09.383Z"
   },
   {
    "duration": 17,
    "start_time": "2022-03-01T07:21:09.397Z"
   },
   {
    "duration": 31,
    "start_time": "2022-03-01T07:21:09.433Z"
   },
   {
    "duration": 90,
    "start_time": "2022-03-01T07:21:09.466Z"
   },
   {
    "duration": 252,
    "start_time": "2022-03-01T07:21:09.558Z"
   },
   {
    "duration": 290,
    "start_time": "2022-03-01T07:21:09.812Z"
   },
   {
    "duration": 248,
    "start_time": "2022-03-01T07:21:10.104Z"
   },
   {
    "duration": 12,
    "start_time": "2022-03-01T07:21:10.354Z"
   },
   {
    "duration": 4,
    "start_time": "2022-03-01T07:21:10.368Z"
   },
   {
    "duration": 299,
    "start_time": "2022-03-01T07:21:10.374Z"
   },
   {
    "duration": 12,
    "start_time": "2022-03-01T07:21:10.675Z"
   },
   {
    "duration": 16,
    "start_time": "2022-03-01T07:21:10.689Z"
   },
   {
    "duration": 2,
    "start_time": "2022-03-01T07:21:10.707Z"
   },
   {
    "duration": 1709,
    "start_time": "2022-03-01T07:21:10.711Z"
   },
   {
    "duration": 55,
    "start_time": "2022-03-01T07:23:07.833Z"
   },
   {
    "duration": 1015,
    "start_time": "2022-03-01T07:23:37.299Z"
   },
   {
    "duration": 425,
    "start_time": "2022-03-01T07:23:38.330Z"
   },
   {
    "duration": 23,
    "start_time": "2022-03-01T07:23:42.935Z"
   },
   {
    "duration": 142,
    "start_time": "2022-03-01T07:23:44.223Z"
   },
   {
    "duration": 61,
    "start_time": "2022-03-01T07:23:44.831Z"
   },
   {
    "duration": 72,
    "start_time": "2022-03-01T07:23:45.263Z"
   },
   {
    "duration": 10,
    "start_time": "2022-03-01T07:23:45.693Z"
   },
   {
    "duration": 78,
    "start_time": "2022-03-01T07:23:46.431Z"
   },
   {
    "duration": 6,
    "start_time": "2022-03-01T07:23:51.628Z"
   },
   {
    "duration": 8,
    "start_time": "2022-03-01T07:23:57.959Z"
   },
   {
    "duration": 44,
    "start_time": "2022-03-01T07:24:03.112Z"
   },
   {
    "duration": 10,
    "start_time": "2022-03-01T07:24:10.616Z"
   },
   {
    "duration": 6,
    "start_time": "2022-03-01T07:24:19.494Z"
   },
   {
    "duration": 47,
    "start_time": "2022-03-01T07:28:30.513Z"
   },
   {
    "duration": 3672,
    "start_time": "2022-03-01T07:31:27.201Z"
   },
   {
    "duration": 48,
    "start_time": "2022-03-01T07:32:11.778Z"
   },
   {
    "duration": 49,
    "start_time": "2022-03-01T07:32:23.690Z"
   },
   {
    "duration": 4,
    "start_time": "2022-03-01T07:32:41.615Z"
   },
   {
    "duration": 497,
    "start_time": "2022-03-01T07:32:41.621Z"
   },
   {
    "duration": 20,
    "start_time": "2022-03-01T07:32:42.120Z"
   },
   {
    "duration": 122,
    "start_time": "2022-03-01T07:32:42.142Z"
   },
   {
    "duration": 68,
    "start_time": "2022-03-01T07:32:42.266Z"
   },
   {
    "duration": 62,
    "start_time": "2022-03-01T07:32:42.335Z"
   },
   {
    "duration": 9,
    "start_time": "2022-03-01T07:32:42.400Z"
   },
   {
    "duration": 67,
    "start_time": "2022-03-01T07:32:42.434Z"
   },
   {
    "duration": 5,
    "start_time": "2022-03-01T07:32:42.503Z"
   },
   {
    "duration": 29,
    "start_time": "2022-03-01T07:32:42.509Z"
   },
   {
    "duration": 42,
    "start_time": "2022-03-01T07:32:42.540Z"
   },
   {
    "duration": 8,
    "start_time": "2022-03-01T07:32:42.584Z"
   },
   {
    "duration": 8,
    "start_time": "2022-03-01T07:32:42.593Z"
   },
   {
    "duration": 69,
    "start_time": "2022-03-01T07:32:42.602Z"
   },
   {
    "duration": 14,
    "start_time": "2022-03-01T07:41:57.130Z"
   },
   {
    "duration": 7,
    "start_time": "2022-03-01T07:41:58.841Z"
   },
   {
    "duration": 20,
    "start_time": "2022-03-01T07:42:00.562Z"
   },
   {
    "duration": 7,
    "start_time": "2022-03-01T08:14:38.287Z"
   },
   {
    "duration": 17,
    "start_time": "2022-03-01T08:17:03.457Z"
   },
   {
    "duration": 6,
    "start_time": "2022-03-01T08:18:48.594Z"
   },
   {
    "duration": 62,
    "start_time": "2022-03-01T08:18:52.153Z"
   },
   {
    "duration": 4,
    "start_time": "2022-03-01T08:19:04.055Z"
   },
   {
    "duration": 594,
    "start_time": "2022-03-01T08:19:04.061Z"
   },
   {
    "duration": 25,
    "start_time": "2022-03-01T08:19:04.658Z"
   },
   {
    "duration": 173,
    "start_time": "2022-03-01T08:19:04.686Z"
   },
   {
    "duration": 73,
    "start_time": "2022-03-01T08:19:04.861Z"
   },
   {
    "duration": 73,
    "start_time": "2022-03-01T08:19:04.936Z"
   },
   {
    "duration": 31,
    "start_time": "2022-03-01T08:19:05.011Z"
   },
   {
    "duration": 70,
    "start_time": "2022-03-01T08:19:05.044Z"
   },
   {
    "duration": 20,
    "start_time": "2022-03-01T08:19:05.116Z"
   },
   {
    "duration": 10,
    "start_time": "2022-03-01T08:19:05.138Z"
   },
   {
    "duration": 47,
    "start_time": "2022-03-01T08:19:05.150Z"
   },
   {
    "duration": 8,
    "start_time": "2022-03-01T08:19:05.198Z"
   },
   {
    "duration": 29,
    "start_time": "2022-03-01T08:19:05.208Z"
   },
   {
    "duration": 48,
    "start_time": "2022-03-01T08:19:23.051Z"
   },
   {
    "duration": 9,
    "start_time": "2022-03-01T08:19:23.101Z"
   },
   {
    "duration": 9,
    "start_time": "2022-03-01T08:19:23.112Z"
   },
   {
    "duration": 42,
    "start_time": "2022-03-01T08:19:23.123Z"
   },
   {
    "duration": 13,
    "start_time": "2022-03-01T08:19:23.166Z"
   },
   {
    "duration": 29,
    "start_time": "2022-03-01T08:19:23.181Z"
   },
   {
    "duration": 6,
    "start_time": "2022-03-01T08:19:23.234Z"
   },
   {
    "duration": 10,
    "start_time": "2022-03-01T08:19:23.241Z"
   },
   {
    "duration": 411,
    "start_time": "2022-03-01T08:19:23.252Z"
   },
   {
    "duration": 19,
    "start_time": "2022-03-01T08:19:23.665Z"
   },
   {
    "duration": 22,
    "start_time": "2022-03-01T08:19:23.685Z"
   },
   {
    "duration": 63,
    "start_time": "2022-03-01T08:19:23.709Z"
   },
   {
    "duration": 99,
    "start_time": "2022-03-01T08:19:23.774Z"
   },
   {
    "duration": 381,
    "start_time": "2022-03-01T08:19:23.876Z"
   },
   {
    "duration": 430,
    "start_time": "2022-03-01T08:19:24.259Z"
   },
   {
    "duration": 369,
    "start_time": "2022-03-01T08:19:24.691Z"
   },
   {
    "duration": 15,
    "start_time": "2022-03-01T08:19:25.062Z"
   },
   {
    "duration": 5,
    "start_time": "2022-03-01T08:19:25.079Z"
   },
   {
    "duration": 450,
    "start_time": "2022-03-01T08:19:25.086Z"
   },
   {
    "duration": 15,
    "start_time": "2022-03-01T08:19:25.538Z"
   },
   {
    "duration": 20,
    "start_time": "2022-03-01T08:19:25.554Z"
   },
   {
    "duration": 137,
    "start_time": "2022-03-01T08:19:25.576Z"
   },
   {
    "duration": 2231,
    "start_time": "2022-03-01T08:19:25.715Z"
   },
   {
    "duration": 3,
    "start_time": "2022-03-01T08:23:50.481Z"
   },
   {
    "duration": 434,
    "start_time": "2022-03-01T08:23:50.486Z"
   },
   {
    "duration": 19,
    "start_time": "2022-03-01T08:23:50.922Z"
   },
   {
    "duration": 125,
    "start_time": "2022-03-01T08:23:50.943Z"
   },
   {
    "duration": 74,
    "start_time": "2022-03-01T08:23:51.069Z"
   },
   {
    "duration": 64,
    "start_time": "2022-03-01T08:23:51.145Z"
   },
   {
    "duration": 28,
    "start_time": "2022-03-01T08:23:51.211Z"
   },
   {
    "duration": 66,
    "start_time": "2022-03-01T08:23:51.241Z"
   },
   {
    "duration": 24,
    "start_time": "2022-03-01T08:23:51.310Z"
   },
   {
    "duration": 10,
    "start_time": "2022-03-01T08:23:51.335Z"
   },
   {
    "duration": 44,
    "start_time": "2022-03-01T08:23:51.346Z"
   },
   {
    "duration": 9,
    "start_time": "2022-03-01T08:23:51.391Z"
   },
   {
    "duration": 33,
    "start_time": "2022-03-01T08:23:51.401Z"
   },
   {
    "duration": 69,
    "start_time": "2022-03-01T08:23:51.436Z"
   },
   {
    "duration": 31,
    "start_time": "2022-03-01T08:23:51.507Z"
   },
   {
    "duration": 7,
    "start_time": "2022-03-01T08:23:51.541Z"
   },
   {
    "duration": 51,
    "start_time": "2022-03-01T08:23:51.550Z"
   },
   {
    "duration": 43,
    "start_time": "2022-03-01T08:23:51.603Z"
   },
   {
    "duration": 44,
    "start_time": "2022-03-01T08:23:51.649Z"
   },
   {
    "duration": 7,
    "start_time": "2022-03-01T08:23:51.696Z"
   },
   {
    "duration": 37,
    "start_time": "2022-03-01T08:23:51.705Z"
   },
   {
    "duration": 405,
    "start_time": "2022-03-01T08:23:51.744Z"
   },
   {
    "duration": 18,
    "start_time": "2022-03-01T08:23:52.151Z"
   },
   {
    "duration": 19,
    "start_time": "2022-03-01T08:23:52.171Z"
   },
   {
    "duration": 50,
    "start_time": "2022-03-01T08:23:52.192Z"
   },
   {
    "duration": 57,
    "start_time": "2022-03-01T08:23:52.244Z"
   },
   {
    "duration": 272,
    "start_time": "2022-03-01T08:23:52.303Z"
   },
   {
    "duration": 291,
    "start_time": "2022-03-01T08:23:52.576Z"
   },
   {
    "duration": 254,
    "start_time": "2022-03-01T08:23:52.870Z"
   },
   {
    "duration": 17,
    "start_time": "2022-03-01T08:23:53.125Z"
   },
   {
    "duration": 12,
    "start_time": "2022-03-01T08:23:53.143Z"
   },
   {
    "duration": 296,
    "start_time": "2022-03-01T08:23:53.157Z"
   },
   {
    "duration": 12,
    "start_time": "2022-03-01T08:23:53.455Z"
   },
   {
    "duration": 20,
    "start_time": "2022-03-01T08:23:53.468Z"
   },
   {
    "duration": 3,
    "start_time": "2022-03-01T08:23:53.489Z"
   },
   {
    "duration": 1683,
    "start_time": "2022-03-01T08:23:53.494Z"
   },
   {
    "duration": 3,
    "start_time": "2022-03-01T08:29:18.074Z"
   },
   {
    "duration": 420,
    "start_time": "2022-03-01T08:29:18.079Z"
   },
   {
    "duration": 18,
    "start_time": "2022-03-01T08:29:18.501Z"
   },
   {
    "duration": 123,
    "start_time": "2022-03-01T08:29:18.521Z"
   },
   {
    "duration": 57,
    "start_time": "2022-03-01T08:29:18.645Z"
   },
   {
    "duration": 79,
    "start_time": "2022-03-01T08:29:18.704Z"
   },
   {
    "duration": 9,
    "start_time": "2022-03-01T08:29:18.785Z"
   },
   {
    "duration": 81,
    "start_time": "2022-03-01T08:29:18.796Z"
   },
   {
    "duration": 5,
    "start_time": "2022-03-01T08:29:18.879Z"
   },
   {
    "duration": 9,
    "start_time": "2022-03-01T08:29:18.885Z"
   },
   {
    "duration": 64,
    "start_time": "2022-03-01T08:29:18.896Z"
   },
   {
    "duration": 8,
    "start_time": "2022-03-01T08:29:18.962Z"
   },
   {
    "duration": 6,
    "start_time": "2022-03-01T08:29:18.972Z"
   },
   {
    "duration": 69,
    "start_time": "2022-03-01T08:29:18.979Z"
   },
   {
    "duration": 10,
    "start_time": "2022-03-01T08:29:19.049Z"
   },
   {
    "duration": 6,
    "start_time": "2022-03-01T08:29:19.060Z"
   },
   {
    "duration": 34,
    "start_time": "2022-03-01T08:29:19.068Z"
   },
   {
    "duration": 40,
    "start_time": "2022-03-01T08:29:19.104Z"
   },
   {
    "duration": 29,
    "start_time": "2022-03-01T08:29:19.147Z"
   },
   {
    "duration": 6,
    "start_time": "2022-03-01T08:29:19.178Z"
   },
   {
    "duration": 10,
    "start_time": "2022-03-01T08:29:19.185Z"
   },
   {
    "duration": 26,
    "start_time": "2022-03-01T08:29:41.531Z"
   },
   {
    "duration": 247,
    "start_time": "2022-03-01T08:30:11.453Z"
   },
   {
    "duration": 14,
    "start_time": "2022-03-01T08:30:18.084Z"
   },
   {
    "duration": 14,
    "start_time": "2022-03-01T08:59:48.417Z"
   },
   {
    "duration": 13,
    "start_time": "2022-03-01T09:00:25.769Z"
   },
   {
    "duration": 45,
    "start_time": "2022-03-01T09:01:21.883Z"
   },
   {
    "duration": 14,
    "start_time": "2022-03-01T09:01:24.032Z"
   },
   {
    "duration": 2,
    "start_time": "2022-03-01T09:01:59.624Z"
   },
   {
    "duration": 391,
    "start_time": "2022-03-01T09:01:59.628Z"
   },
   {
    "duration": 21,
    "start_time": "2022-03-01T09:02:00.022Z"
   },
   {
    "duration": 127,
    "start_time": "2022-03-01T09:02:00.045Z"
   },
   {
    "duration": 75,
    "start_time": "2022-03-01T09:02:00.173Z"
   },
   {
    "duration": 63,
    "start_time": "2022-03-01T09:02:00.250Z"
   },
   {
    "duration": 22,
    "start_time": "2022-03-01T09:02:00.315Z"
   },
   {
    "duration": 67,
    "start_time": "2022-03-01T09:02:00.339Z"
   },
   {
    "duration": 5,
    "start_time": "2022-03-01T09:02:00.407Z"
   },
   {
    "duration": 8,
    "start_time": "2022-03-01T09:02:00.432Z"
   },
   {
    "duration": 51,
    "start_time": "2022-03-01T09:02:00.442Z"
   },
   {
    "duration": 9,
    "start_time": "2022-03-01T09:02:00.494Z"
   },
   {
    "duration": 9,
    "start_time": "2022-03-01T09:02:00.505Z"
   },
   {
    "duration": 9,
    "start_time": "2022-03-01T09:02:12.201Z"
   },
   {
    "duration": 10,
    "start_time": "2022-03-01T09:02:51.697Z"
   },
   {
    "duration": 5,
    "start_time": "2022-03-01T09:02:53.032Z"
   },
   {
    "duration": 3,
    "start_time": "2022-03-01T09:03:14.608Z"
   },
   {
    "duration": 406,
    "start_time": "2022-03-01T09:03:14.612Z"
   },
   {
    "duration": 20,
    "start_time": "2022-03-01T09:03:15.020Z"
   },
   {
    "duration": 128,
    "start_time": "2022-03-01T09:03:15.042Z"
   },
   {
    "duration": 72,
    "start_time": "2022-03-01T09:03:15.172Z"
   },
   {
    "duration": 66,
    "start_time": "2022-03-01T09:03:15.246Z"
   },
   {
    "duration": 11,
    "start_time": "2022-03-01T09:03:15.334Z"
   },
   {
    "duration": 64,
    "start_time": "2022-03-01T09:03:15.347Z"
   },
   {
    "duration": 25,
    "start_time": "2022-03-01T09:03:15.412Z"
   },
   {
    "duration": 9,
    "start_time": "2022-03-01T09:03:15.439Z"
   },
   {
    "duration": 44,
    "start_time": "2022-03-01T09:03:15.450Z"
   },
   {
    "duration": 9,
    "start_time": "2022-03-01T09:03:15.496Z"
   },
   {
    "duration": 31,
    "start_time": "2022-03-01T09:03:15.506Z"
   },
   {
    "duration": 52,
    "start_time": "2022-03-01T09:03:15.539Z"
   },
   {
    "duration": 10,
    "start_time": "2022-03-01T09:03:19.489Z"
   },
   {
    "duration": 5,
    "start_time": "2022-03-01T09:03:28.256Z"
   },
   {
    "duration": 34,
    "start_time": "2022-03-01T09:03:37.275Z"
   },
   {
    "duration": 14,
    "start_time": "2022-03-01T09:03:56.409Z"
   },
   {
    "duration": 29,
    "start_time": "2022-03-01T09:04:01.707Z"
   },
   {
    "duration": 7,
    "start_time": "2022-03-01T09:04:03.905Z"
   },
   {
    "duration": 11,
    "start_time": "2022-03-01T09:04:06.568Z"
   },
   {
    "duration": 249,
    "start_time": "2022-03-01T09:04:20.628Z"
   },
   {
    "duration": 157,
    "start_time": "2022-03-01T09:06:14.425Z"
   },
   {
    "duration": 23,
    "start_time": "2022-03-01T09:06:28.867Z"
   },
   {
    "duration": 22,
    "start_time": "2022-03-01T09:13:04.386Z"
   },
   {
    "duration": 29,
    "start_time": "2022-03-01T13:32:11.991Z"
   },
   {
    "duration": 60,
    "start_time": "2022-03-01T13:33:08.601Z"
   },
   {
    "duration": 75,
    "start_time": "2022-03-01T19:44:58.812Z"
   },
   {
    "duration": 1012,
    "start_time": "2022-03-01T21:21:14.464Z"
   },
   {
    "duration": 429,
    "start_time": "2022-03-01T21:21:15.478Z"
   },
   {
    "duration": 20,
    "start_time": "2022-03-01T21:21:15.909Z"
   },
   {
    "duration": 137,
    "start_time": "2022-03-01T21:21:15.931Z"
   },
   {
    "duration": 70,
    "start_time": "2022-03-01T21:21:16.070Z"
   },
   {
    "duration": 77,
    "start_time": "2022-03-01T21:21:16.142Z"
   },
   {
    "duration": 9,
    "start_time": "2022-03-01T21:21:16.221Z"
   },
   {
    "duration": 86,
    "start_time": "2022-03-01T21:21:16.232Z"
   },
   {
    "duration": 4,
    "start_time": "2022-03-01T21:21:16.320Z"
   },
   {
    "duration": 9,
    "start_time": "2022-03-01T21:21:16.326Z"
   },
   {
    "duration": 45,
    "start_time": "2022-03-01T21:21:16.336Z"
   },
   {
    "duration": 8,
    "start_time": "2022-03-01T21:21:16.401Z"
   },
   {
    "duration": 6,
    "start_time": "2022-03-01T21:21:16.410Z"
   },
   {
    "duration": 47,
    "start_time": "2022-03-01T21:21:16.417Z"
   },
   {
    "duration": 9,
    "start_time": "2022-03-01T21:21:16.465Z"
   },
   {
    "duration": 30,
    "start_time": "2022-03-01T21:21:16.475Z"
   },
   {
    "duration": 32,
    "start_time": "2022-03-01T21:21:16.506Z"
   },
   {
    "duration": 13,
    "start_time": "2022-03-01T21:21:16.540Z"
   },
   {
    "duration": 48,
    "start_time": "2022-03-01T21:21:16.554Z"
   },
   {
    "duration": 5,
    "start_time": "2022-03-01T21:21:16.603Z"
   },
   {
    "duration": 11,
    "start_time": "2022-03-01T21:21:16.609Z"
   },
   {
    "duration": 254,
    "start_time": "2022-03-01T21:21:16.621Z"
   },
   {
    "duration": 29,
    "start_time": "2022-03-01T21:21:16.878Z"
   },
   {
    "duration": 13,
    "start_time": "2022-03-01T21:21:16.909Z"
   },
   {
    "duration": 13,
    "start_time": "2022-03-01T21:21:16.923Z"
   },
   {
    "duration": 31,
    "start_time": "2022-03-01T21:21:16.938Z"
   },
   {
    "duration": 54,
    "start_time": "2022-03-01T21:21:16.971Z"
   },
   {
    "duration": 97,
    "start_time": "2022-03-01T21:21:17.026Z"
   },
   {
    "duration": 253,
    "start_time": "2022-03-01T21:21:17.125Z"
   },
   {
    "duration": 409,
    "start_time": "2022-03-01T21:21:17.380Z"
   },
   {
    "duration": 302,
    "start_time": "2022-03-01T21:21:17.790Z"
   },
   {
    "duration": 17,
    "start_time": "2022-03-01T21:21:18.094Z"
   },
   {
    "duration": 359,
    "start_time": "2022-03-01T21:21:18.113Z"
   },
   {
    "duration": 10,
    "start_time": "2022-03-01T21:21:18.473Z"
   },
   {
    "duration": 26,
    "start_time": "2022-03-01T21:21:18.484Z"
   },
   {
    "duration": 74,
    "start_time": "2022-03-01T21:21:18.511Z"
   },
   {
    "duration": 1617,
    "start_time": "2022-03-01T21:21:18.587Z"
   },
   {
    "duration": 180,
    "start_time": "2022-03-01T21:34:59.685Z"
   },
   {
    "duration": 199,
    "start_time": "2022-03-01T21:35:57.880Z"
   },
   {
    "duration": 191,
    "start_time": "2022-03-01T21:38:16.857Z"
   },
   {
    "duration": 185,
    "start_time": "2022-03-01T21:38:38.391Z"
   },
   {
    "duration": 194,
    "start_time": "2022-03-01T21:39:45.284Z"
   },
   {
    "duration": 228,
    "start_time": "2022-03-01T21:39:52.310Z"
   },
   {
    "duration": 5,
    "start_time": "2022-03-01T21:41:48.385Z"
   },
   {
    "duration": 190,
    "start_time": "2022-03-01T21:42:22.567Z"
   },
   {
    "duration": 24,
    "start_time": "2022-03-01T21:43:09.365Z"
   },
   {
    "duration": 323,
    "start_time": "2022-03-01T21:45:19.725Z"
   },
   {
    "duration": 11,
    "start_time": "2022-03-01T21:45:26.691Z"
   },
   {
    "duration": 274,
    "start_time": "2022-03-01T21:46:10.670Z"
   },
   {
    "duration": 188,
    "start_time": "2022-03-01T21:46:28.592Z"
   },
   {
    "duration": 192,
    "start_time": "2022-03-01T21:54:06.165Z"
   },
   {
    "duration": 182,
    "start_time": "2022-03-01T21:58:53.929Z"
   },
   {
    "duration": 3,
    "start_time": "2022-03-01T22:00:23.672Z"
   },
   {
    "duration": 407,
    "start_time": "2022-03-01T22:00:23.676Z"
   },
   {
    "duration": 184,
    "start_time": "2022-03-01T22:00:24.085Z"
   },
   {
    "duration": 192,
    "start_time": "2022-03-01T22:00:24.271Z"
   },
   {
    "duration": 18,
    "start_time": "2022-03-01T22:00:24.464Z"
   },
   {
    "duration": 139,
    "start_time": "2022-03-01T22:00:24.483Z"
   },
   {
    "duration": 54,
    "start_time": "2022-03-01T22:00:24.624Z"
   },
   {
    "duration": 74,
    "start_time": "2022-03-01T22:00:24.680Z"
   },
   {
    "duration": 8,
    "start_time": "2022-03-01T22:00:24.756Z"
   },
   {
    "duration": 80,
    "start_time": "2022-03-01T22:00:24.766Z"
   },
   {
    "duration": 4,
    "start_time": "2022-03-01T22:00:24.848Z"
   },
   {
    "duration": 15,
    "start_time": "2022-03-01T22:00:24.854Z"
   },
   {
    "duration": 51,
    "start_time": "2022-03-01T22:00:24.870Z"
   },
   {
    "duration": 7,
    "start_time": "2022-03-01T22:00:24.923Z"
   },
   {
    "duration": 6,
    "start_time": "2022-03-01T22:00:24.932Z"
   },
   {
    "duration": 62,
    "start_time": "2022-03-01T22:00:24.939Z"
   },
   {
    "duration": 8,
    "start_time": "2022-03-01T22:00:25.003Z"
   },
   {
    "duration": 5,
    "start_time": "2022-03-01T22:00:25.013Z"
   },
   {
    "duration": 31,
    "start_time": "2022-03-01T22:00:25.019Z"
   },
   {
    "duration": 11,
    "start_time": "2022-03-01T22:00:25.052Z"
   },
   {
    "duration": 52,
    "start_time": "2022-03-01T22:00:25.065Z"
   },
   {
    "duration": 5,
    "start_time": "2022-03-01T22:00:25.118Z"
   },
   {
    "duration": 8,
    "start_time": "2022-03-01T22:00:25.125Z"
   },
   {
    "duration": 252,
    "start_time": "2022-03-01T22:00:25.135Z"
   },
   {
    "duration": 27,
    "start_time": "2022-03-01T22:00:25.388Z"
   },
   {
    "duration": 10,
    "start_time": "2022-03-01T22:00:25.417Z"
   },
   {
    "duration": 12,
    "start_time": "2022-03-01T22:00:25.431Z"
   },
   {
    "duration": 20,
    "start_time": "2022-03-01T22:00:25.445Z"
   },
   {
    "duration": 55,
    "start_time": "2022-03-01T22:00:25.466Z"
   },
   {
    "duration": 80,
    "start_time": "2022-03-01T22:00:25.522Z"
   },
   {
    "duration": 219,
    "start_time": "2022-03-01T22:00:25.603Z"
   },
   {
    "duration": 258,
    "start_time": "2022-03-01T22:00:25.823Z"
   },
   {
    "duration": 234,
    "start_time": "2022-03-01T22:00:26.083Z"
   },
   {
    "duration": 9,
    "start_time": "2022-03-01T22:00:26.319Z"
   },
   {
    "duration": 340,
    "start_time": "2022-03-01T22:00:26.330Z"
   },
   {
    "duration": 11,
    "start_time": "2022-03-01T22:00:26.672Z"
   },
   {
    "duration": 26,
    "start_time": "2022-03-01T22:00:26.684Z"
   },
   {
    "duration": 2,
    "start_time": "2022-03-01T22:00:26.712Z"
   },
   {
    "duration": 1476,
    "start_time": "2022-03-01T22:00:26.715Z"
   },
   {
    "duration": 188,
    "start_time": "2022-03-01T22:01:25.206Z"
   },
   {
    "duration": 218,
    "start_time": "2022-03-01T22:02:31.380Z"
   },
   {
    "duration": 211,
    "start_time": "2022-03-01T22:02:43.472Z"
   },
   {
    "duration": 91,
    "start_time": "2022-03-01T22:03:50.105Z"
   },
   {
    "duration": 214,
    "start_time": "2022-03-01T22:04:08.599Z"
   },
   {
    "duration": 217,
    "start_time": "2022-03-01T22:04:30.312Z"
   },
   {
    "duration": 480,
    "start_time": "2022-03-01T22:04:47.482Z"
   },
   {
    "duration": 206,
    "start_time": "2022-03-01T22:05:06.941Z"
   },
   {
    "duration": 189,
    "start_time": "2022-03-01T22:07:09.068Z"
   },
   {
    "duration": 192,
    "start_time": "2022-03-01T22:07:22.717Z"
   },
   {
    "duration": 203,
    "start_time": "2022-03-01T22:07:27.883Z"
   },
   {
    "duration": 207,
    "start_time": "2022-03-01T22:07:35.402Z"
   },
   {
    "duration": 3,
    "start_time": "2022-03-01T22:08:40.625Z"
   },
   {
    "duration": 419,
    "start_time": "2022-03-01T22:08:40.630Z"
   },
   {
    "duration": 196,
    "start_time": "2022-03-01T22:08:41.051Z"
   },
   {
    "duration": 203,
    "start_time": "2022-03-01T22:08:41.249Z"
   },
   {
    "duration": 17,
    "start_time": "2022-03-01T22:08:41.454Z"
   },
   {
    "duration": 117,
    "start_time": "2022-03-01T22:08:41.473Z"
   },
   {
    "duration": 58,
    "start_time": "2022-03-01T22:08:41.592Z"
   },
   {
    "duration": 74,
    "start_time": "2022-03-01T22:08:41.651Z"
   },
   {
    "duration": 9,
    "start_time": "2022-03-01T22:08:41.726Z"
   },
   {
    "duration": 75,
    "start_time": "2022-03-01T22:08:41.736Z"
   },
   {
    "duration": 4,
    "start_time": "2022-03-01T22:08:41.812Z"
   },
   {
    "duration": 10,
    "start_time": "2022-03-01T22:08:41.818Z"
   },
   {
    "duration": 39,
    "start_time": "2022-03-01T22:08:41.829Z"
   },
   {
    "duration": 7,
    "start_time": "2022-03-01T22:08:41.870Z"
   },
   {
    "duration": 6,
    "start_time": "2022-03-01T22:08:41.902Z"
   },
   {
    "duration": 44,
    "start_time": "2022-03-01T22:08:41.909Z"
   },
   {
    "duration": 9,
    "start_time": "2022-03-01T22:08:41.954Z"
   },
   {
    "duration": 6,
    "start_time": "2022-03-01T22:08:41.964Z"
   },
   {
    "duration": 55,
    "start_time": "2022-03-01T22:08:41.973Z"
   },
   {
    "duration": 13,
    "start_time": "2022-03-01T22:08:42.030Z"
   },
   {
    "duration": 32,
    "start_time": "2022-03-01T22:08:42.045Z"
   },
   {
    "duration": 23,
    "start_time": "2022-03-01T22:08:42.079Z"
   },
   {
    "duration": 10,
    "start_time": "2022-03-01T22:08:42.104Z"
   },
   {
    "duration": 251,
    "start_time": "2022-03-01T22:08:42.116Z"
   },
   {
    "duration": 19,
    "start_time": "2022-03-01T22:08:42.368Z"
   },
   {
    "duration": 22,
    "start_time": "2022-03-01T22:08:42.388Z"
   },
   {
    "duration": 12,
    "start_time": "2022-03-01T22:08:42.412Z"
   },
   {
    "duration": 19,
    "start_time": "2022-03-01T22:08:42.425Z"
   },
   {
    "duration": 25,
    "start_time": "2022-03-01T22:08:42.446Z"
   },
   {
    "duration": 82,
    "start_time": "2022-03-01T22:08:42.473Z"
   },
   {
    "duration": 248,
    "start_time": "2022-03-01T22:08:42.557Z"
   },
   {
    "duration": 260,
    "start_time": "2022-03-01T22:08:42.806Z"
   },
   {
    "duration": 300,
    "start_time": "2022-03-01T22:08:43.068Z"
   },
   {
    "duration": 9,
    "start_time": "2022-03-01T22:08:43.370Z"
   },
   {
    "duration": 261,
    "start_time": "2022-03-01T22:08:43.381Z"
   },
   {
    "duration": 10,
    "start_time": "2022-03-01T22:08:43.644Z"
   },
   {
    "duration": 13,
    "start_time": "2022-03-01T22:08:43.655Z"
   },
   {
    "duration": 3,
    "start_time": "2022-03-01T22:08:43.670Z"
   },
   {
    "duration": 1505,
    "start_time": "2022-03-01T22:08:43.675Z"
   },
   {
    "duration": 3,
    "start_time": "2022-03-01T22:28:38.386Z"
   },
   {
    "duration": 414,
    "start_time": "2022-03-01T22:28:38.392Z"
   },
   {
    "duration": 203,
    "start_time": "2022-03-01T22:28:38.808Z"
   },
   {
    "duration": 200,
    "start_time": "2022-03-01T22:28:39.012Z"
   },
   {
    "duration": 16,
    "start_time": "2022-03-01T22:28:39.214Z"
   },
   {
    "duration": 117,
    "start_time": "2022-03-01T22:28:39.232Z"
   },
   {
    "duration": 64,
    "start_time": "2022-03-01T22:28:39.351Z"
   },
   {
    "duration": 57,
    "start_time": "2022-03-01T22:28:39.417Z"
   },
   {
    "duration": 29,
    "start_time": "2022-03-01T22:28:39.476Z"
   },
   {
    "duration": 60,
    "start_time": "2022-03-01T22:28:39.507Z"
   },
   {
    "duration": 5,
    "start_time": "2022-03-01T22:28:39.568Z"
   },
   {
    "duration": 28,
    "start_time": "2022-03-01T22:28:39.575Z"
   },
   {
    "duration": 41,
    "start_time": "2022-03-01T22:28:39.604Z"
   },
   {
    "duration": 8,
    "start_time": "2022-03-01T22:28:39.646Z"
   },
   {
    "duration": 6,
    "start_time": "2022-03-01T22:28:39.656Z"
   },
   {
    "duration": 74,
    "start_time": "2022-03-01T22:28:39.664Z"
   },
   {
    "duration": 9,
    "start_time": "2022-03-01T22:28:39.740Z"
   },
   {
    "duration": 10,
    "start_time": "2022-03-01T22:28:39.751Z"
   },
   {
    "duration": 48,
    "start_time": "2022-03-01T22:28:39.762Z"
   },
   {
    "duration": 13,
    "start_time": "2022-03-01T22:28:39.811Z"
   },
   {
    "duration": 27,
    "start_time": "2022-03-01T22:28:39.825Z"
   },
   {
    "duration": 6,
    "start_time": "2022-03-01T22:28:39.854Z"
   },
   {
    "duration": 10,
    "start_time": "2022-03-01T22:28:39.861Z"
   },
   {
    "duration": 271,
    "start_time": "2022-03-01T22:28:39.873Z"
   },
   {
    "duration": 21,
    "start_time": "2022-03-01T22:28:40.146Z"
   },
   {
    "duration": 12,
    "start_time": "2022-03-01T22:28:40.168Z"
   },
   {
    "duration": 30,
    "start_time": "2022-03-01T22:28:40.181Z"
   },
   {
    "duration": 20,
    "start_time": "2022-03-01T22:28:40.212Z"
   },
   {
    "duration": 27,
    "start_time": "2022-03-01T22:28:40.234Z"
   },
   {
    "duration": 79,
    "start_time": "2022-03-01T22:28:40.263Z"
   },
   {
    "duration": 313,
    "start_time": "2022-03-01T22:28:40.343Z"
   },
   {
    "duration": 259,
    "start_time": "2022-03-01T22:28:40.658Z"
   },
   {
    "duration": 335,
    "start_time": "2022-03-01T22:28:40.919Z"
   },
   {
    "duration": 10,
    "start_time": "2022-03-01T22:28:41.256Z"
   },
   {
    "duration": 268,
    "start_time": "2022-03-01T22:28:41.267Z"
   },
   {
    "duration": 12,
    "start_time": "2022-03-01T22:28:41.537Z"
   },
   {
    "duration": 29,
    "start_time": "2022-03-01T22:28:41.550Z"
   },
   {
    "duration": 6,
    "start_time": "2022-03-01T22:28:41.581Z"
   },
   {
    "duration": 1498,
    "start_time": "2022-03-01T22:28:41.588Z"
   },
   {
    "duration": 3,
    "start_time": "2022-03-01T22:38:30.112Z"
   },
   {
    "duration": 434,
    "start_time": "2022-03-01T22:38:30.119Z"
   },
   {
    "duration": 201,
    "start_time": "2022-03-01T22:38:30.555Z"
   },
   {
    "duration": 303,
    "start_time": "2022-03-01T22:38:30.758Z"
   },
   {
    "duration": 17,
    "start_time": "2022-03-01T22:38:31.063Z"
   },
   {
    "duration": 121,
    "start_time": "2022-03-01T22:38:31.081Z"
   },
   {
    "duration": 55,
    "start_time": "2022-03-01T22:38:31.203Z"
   },
   {
    "duration": 75,
    "start_time": "2022-03-01T22:38:31.260Z"
   },
   {
    "duration": 8,
    "start_time": "2022-03-01T22:38:31.337Z"
   },
   {
    "duration": 72,
    "start_time": "2022-03-01T22:38:31.347Z"
   },
   {
    "duration": 4,
    "start_time": "2022-03-01T22:38:31.420Z"
   },
   {
    "duration": 17,
    "start_time": "2022-03-01T22:38:31.426Z"
   },
   {
    "duration": 57,
    "start_time": "2022-03-01T22:38:31.445Z"
   },
   {
    "duration": 9,
    "start_time": "2022-03-01T22:38:31.504Z"
   },
   {
    "duration": 12,
    "start_time": "2022-03-01T22:38:31.514Z"
   },
   {
    "duration": 53,
    "start_time": "2022-03-01T22:38:31.527Z"
   },
   {
    "duration": 22,
    "start_time": "2022-03-01T22:38:31.582Z"
   },
   {
    "duration": 13,
    "start_time": "2022-03-01T22:38:31.606Z"
   },
   {
    "duration": 39,
    "start_time": "2022-03-01T22:38:31.621Z"
   },
   {
    "duration": 12,
    "start_time": "2022-03-01T22:38:31.661Z"
   },
   {
    "duration": 42,
    "start_time": "2022-03-01T22:38:31.675Z"
   },
   {
    "duration": 6,
    "start_time": "2022-03-01T22:38:31.719Z"
   },
   {
    "duration": 13,
    "start_time": "2022-03-01T22:38:31.727Z"
   },
   {
    "duration": 257,
    "start_time": "2022-03-01T22:38:31.744Z"
   },
   {
    "duration": 20,
    "start_time": "2022-03-01T22:38:32.003Z"
   },
   {
    "duration": 21,
    "start_time": "2022-03-01T22:38:32.025Z"
   },
   {
    "duration": 23,
    "start_time": "2022-03-01T22:38:32.047Z"
   },
   {
    "duration": 35,
    "start_time": "2022-03-01T22:38:32.072Z"
   },
   {
    "duration": 29,
    "start_time": "2022-03-01T22:38:32.108Z"
   },
   {
    "duration": 88,
    "start_time": "2022-03-01T22:38:32.139Z"
   },
   {
    "duration": 235,
    "start_time": "2022-03-01T22:38:32.229Z"
   },
   {
    "duration": 255,
    "start_time": "2022-03-01T22:38:32.465Z"
   },
   {
    "duration": 228,
    "start_time": "2022-03-01T22:38:32.721Z"
   },
   {
    "duration": 10,
    "start_time": "2022-03-01T22:38:32.950Z"
   },
   {
    "duration": 270,
    "start_time": "2022-03-01T22:38:32.961Z"
   },
   {
    "duration": 10,
    "start_time": "2022-03-01T22:38:33.233Z"
   },
   {
    "duration": 35,
    "start_time": "2022-03-01T22:38:33.244Z"
   },
   {
    "duration": 27,
    "start_time": "2022-03-01T22:38:33.280Z"
   },
   {
    "duration": 1650,
    "start_time": "2022-03-01T22:38:33.309Z"
   },
   {
    "duration": 3,
    "start_time": "2022-03-01T22:41:46.823Z"
   },
   {
    "duration": 411,
    "start_time": "2022-03-01T22:41:46.829Z"
   },
   {
    "duration": 194,
    "start_time": "2022-03-01T22:41:47.242Z"
   },
   {
    "duration": 197,
    "start_time": "2022-03-01T22:41:47.437Z"
   },
   {
    "duration": 18,
    "start_time": "2022-03-01T22:41:47.636Z"
   },
   {
    "duration": 124,
    "start_time": "2022-03-01T22:41:47.655Z"
   },
   {
    "duration": 60,
    "start_time": "2022-03-01T22:41:47.781Z"
   },
   {
    "duration": 72,
    "start_time": "2022-03-01T22:41:47.842Z"
   },
   {
    "duration": 8,
    "start_time": "2022-03-01T22:41:47.915Z"
   },
   {
    "duration": 76,
    "start_time": "2022-03-01T22:41:47.925Z"
   },
   {
    "duration": 4,
    "start_time": "2022-03-01T22:41:48.003Z"
   },
   {
    "duration": 9,
    "start_time": "2022-03-01T22:41:48.009Z"
   },
   {
    "duration": 39,
    "start_time": "2022-03-01T22:41:48.020Z"
   },
   {
    "duration": 8,
    "start_time": "2022-03-01T22:41:48.060Z"
   },
   {
    "duration": 33,
    "start_time": "2022-03-01T22:41:48.069Z"
   },
   {
    "duration": 44,
    "start_time": "2022-03-01T22:41:48.103Z"
   },
   {
    "duration": 10,
    "start_time": "2022-03-01T22:41:48.148Z"
   },
   {
    "duration": 6,
    "start_time": "2022-03-01T22:41:48.159Z"
   },
   {
    "duration": 59,
    "start_time": "2022-03-01T22:41:48.167Z"
   },
   {
    "duration": 12,
    "start_time": "2022-03-01T22:41:48.228Z"
   },
   {
    "duration": 27,
    "start_time": "2022-03-01T22:41:48.241Z"
   },
   {
    "duration": 5,
    "start_time": "2022-03-01T22:41:48.269Z"
   },
   {
    "duration": 33,
    "start_time": "2022-03-01T22:41:48.275Z"
   },
   {
    "duration": 238,
    "start_time": "2022-03-01T22:41:48.310Z"
   },
   {
    "duration": 20,
    "start_time": "2022-03-01T22:41:48.550Z"
   },
   {
    "duration": 31,
    "start_time": "2022-03-01T22:41:48.571Z"
   },
   {
    "duration": 13,
    "start_time": "2022-03-01T22:41:48.604Z"
   },
   {
    "duration": 23,
    "start_time": "2022-03-01T22:41:48.618Z"
   },
   {
    "duration": 29,
    "start_time": "2022-03-01T22:41:48.642Z"
   },
   {
    "duration": 84,
    "start_time": "2022-03-01T22:41:48.672Z"
   },
   {
    "duration": 254,
    "start_time": "2022-03-01T22:41:48.757Z"
   },
   {
    "duration": 255,
    "start_time": "2022-03-01T22:41:49.013Z"
   },
   {
    "duration": 224,
    "start_time": "2022-03-01T22:41:49.270Z"
   },
   {
    "duration": 15,
    "start_time": "2022-03-01T22:41:49.496Z"
   },
   {
    "duration": 260,
    "start_time": "2022-03-01T22:41:49.513Z"
   },
   {
    "duration": 10,
    "start_time": "2022-03-01T22:41:49.774Z"
   },
   {
    "duration": 22,
    "start_time": "2022-03-01T22:41:49.786Z"
   },
   {
    "duration": 3,
    "start_time": "2022-03-01T22:41:49.809Z"
   },
   {
    "duration": 1583,
    "start_time": "2022-03-01T22:41:49.814Z"
   },
   {
    "duration": 68,
    "start_time": "2022-03-02T19:39:41.283Z"
   },
   {
    "duration": 1360,
    "start_time": "2022-03-02T19:47:50.941Z"
   },
   {
    "duration": 584,
    "start_time": "2022-03-02T19:47:52.304Z"
   },
   {
    "duration": 366,
    "start_time": "2022-03-02T19:47:52.890Z"
   },
   {
    "duration": 377,
    "start_time": "2022-03-02T19:47:53.259Z"
   },
   {
    "duration": 38,
    "start_time": "2022-03-02T19:47:53.639Z"
   },
   {
    "duration": 205,
    "start_time": "2022-03-02T19:47:53.680Z"
   },
   {
    "duration": 100,
    "start_time": "2022-03-02T19:47:53.887Z"
   },
   {
    "duration": 127,
    "start_time": "2022-03-02T19:47:53.989Z"
   },
   {
    "duration": 14,
    "start_time": "2022-03-02T19:47:54.120Z"
   },
   {
    "duration": 121,
    "start_time": "2022-03-02T19:47:54.152Z"
   },
   {
    "duration": 7,
    "start_time": "2022-03-02T19:47:54.275Z"
   },
   {
    "duration": 13,
    "start_time": "2022-03-02T19:47:54.285Z"
   },
   {
    "duration": 92,
    "start_time": "2022-03-02T19:47:54.300Z"
   },
   {
    "duration": 12,
    "start_time": "2022-03-02T19:47:54.394Z"
   },
   {
    "duration": 8,
    "start_time": "2022-03-02T19:47:54.408Z"
   },
   {
    "duration": 108,
    "start_time": "2022-03-02T19:47:54.419Z"
   },
   {
    "duration": 25,
    "start_time": "2022-03-02T19:47:54.529Z"
   },
   {
    "duration": 8,
    "start_time": "2022-03-02T19:47:54.556Z"
   },
   {
    "duration": 85,
    "start_time": "2022-03-02T19:47:54.566Z"
   },
   {
    "duration": 21,
    "start_time": "2022-03-02T19:47:54.653Z"
   },
   {
    "duration": 45,
    "start_time": "2022-03-02T19:47:54.676Z"
   },
   {
    "duration": 33,
    "start_time": "2022-03-02T19:47:54.723Z"
   },
   {
    "duration": 15,
    "start_time": "2022-03-02T19:47:54.759Z"
   },
   {
    "duration": 449,
    "start_time": "2022-03-02T19:47:54.776Z"
   },
   {
    "duration": 50,
    "start_time": "2022-03-02T19:47:55.227Z"
   },
   {
    "duration": 22,
    "start_time": "2022-03-02T19:47:55.280Z"
   },
   {
    "duration": 46,
    "start_time": "2022-03-02T19:47:55.309Z"
   },
   {
    "duration": 40,
    "start_time": "2022-03-02T19:47:55.359Z"
   },
   {
    "duration": 85,
    "start_time": "2022-03-02T19:47:55.403Z"
   },
   {
    "duration": 129,
    "start_time": "2022-03-02T19:47:55.491Z"
   },
   {
    "duration": 410,
    "start_time": "2022-03-02T19:47:55.651Z"
   },
   {
    "duration": 463,
    "start_time": "2022-03-02T19:47:56.064Z"
   },
   {
    "duration": 411,
    "start_time": "2022-03-02T19:47:56.530Z"
   },
   {
    "duration": 21,
    "start_time": "2022-03-02T19:47:56.944Z"
   },
   {
    "duration": 495,
    "start_time": "2022-03-02T19:47:56.967Z"
   },
   {
    "duration": 17,
    "start_time": "2022-03-02T19:47:57.464Z"
   },
   {
    "duration": 31,
    "start_time": "2022-03-02T19:47:57.483Z"
   },
   {
    "duration": 201,
    "start_time": "2022-03-02T19:47:57.516Z"
   },
   {
    "duration": 2271,
    "start_time": "2022-03-02T19:47:57.719Z"
   },
   {
    "duration": 22,
    "start_time": "2022-03-02T19:49:16.575Z"
   },
   {
    "duration": 1213,
    "start_time": "2022-03-02T19:49:43.304Z"
   },
   {
    "duration": 582,
    "start_time": "2022-03-02T19:49:44.520Z"
   },
   {
    "duration": 382,
    "start_time": "2022-03-02T19:49:45.111Z"
   },
   {
    "duration": 371,
    "start_time": "2022-03-02T19:49:45.496Z"
   },
   {
    "duration": 32,
    "start_time": "2022-03-02T19:49:45.869Z"
   },
   {
    "duration": 209,
    "start_time": "2022-03-02T19:49:45.904Z"
   },
   {
    "duration": 107,
    "start_time": "2022-03-02T19:49:46.116Z"
   },
   {
    "duration": 107,
    "start_time": "2022-03-02T19:49:46.227Z"
   },
   {
    "duration": 26,
    "start_time": "2022-03-02T19:49:46.337Z"
   },
   {
    "duration": 139,
    "start_time": "2022-03-02T19:49:46.366Z"
   },
   {
    "duration": 9,
    "start_time": "2022-03-02T19:49:46.508Z"
   },
   {
    "duration": 39,
    "start_time": "2022-03-02T19:49:46.520Z"
   },
   {
    "duration": 64,
    "start_time": "2022-03-02T19:49:46.562Z"
   },
   {
    "duration": 13,
    "start_time": "2022-03-02T19:49:46.651Z"
   },
   {
    "duration": 12,
    "start_time": "2022-03-02T19:49:46.667Z"
   },
   {
    "duration": 7,
    "start_time": "2022-03-02T19:49:46.682Z"
   },
   {
    "duration": 110,
    "start_time": "2022-03-02T19:49:46.692Z"
   },
   {
    "duration": 15,
    "start_time": "2022-03-02T19:49:46.804Z"
   },
   {
    "duration": 8,
    "start_time": "2022-03-02T19:49:46.821Z"
   },
   {
    "duration": 55,
    "start_time": "2022-03-02T19:49:46.852Z"
   },
   {
    "duration": 44,
    "start_time": "2022-03-02T19:49:46.909Z"
   },
   {
    "duration": 61,
    "start_time": "2022-03-02T19:49:46.956Z"
   },
   {
    "duration": 9,
    "start_time": "2022-03-02T19:49:47.020Z"
   },
   {
    "duration": 29,
    "start_time": "2022-03-02T19:49:47.031Z"
   },
   {
    "duration": 423,
    "start_time": "2022-03-02T19:49:47.062Z"
   },
   {
    "duration": 34,
    "start_time": "2022-03-02T19:49:47.490Z"
   },
   {
    "duration": 41,
    "start_time": "2022-03-02T19:49:47.527Z"
   },
   {
    "duration": 35,
    "start_time": "2022-03-02T19:49:47.570Z"
   },
   {
    "duration": 49,
    "start_time": "2022-03-02T19:49:47.607Z"
   },
   {
    "duration": 47,
    "start_time": "2022-03-02T19:49:47.658Z"
   },
   {
    "duration": 153,
    "start_time": "2022-03-02T19:49:47.707Z"
   },
   {
    "duration": 504,
    "start_time": "2022-03-02T19:49:47.862Z"
   },
   {
    "duration": 470,
    "start_time": "2022-03-02T19:49:48.368Z"
   },
   {
    "duration": 400,
    "start_time": "2022-03-02T19:49:48.840Z"
   },
   {
    "duration": 21,
    "start_time": "2022-03-02T19:49:49.243Z"
   },
   {
    "duration": 478,
    "start_time": "2022-03-02T19:49:49.266Z"
   },
   {
    "duration": 18,
    "start_time": "2022-03-02T19:49:49.746Z"
   },
   {
    "duration": 26,
    "start_time": "2022-03-02T19:49:49.766Z"
   },
   {
    "duration": 217,
    "start_time": "2022-03-02T19:49:49.794Z"
   },
   {
    "duration": 2501,
    "start_time": "2022-03-02T19:49:50.014Z"
   },
   {
    "duration": 1378,
    "start_time": "2022-03-02T19:53:55.620Z"
   },
   {
    "duration": 561,
    "start_time": "2022-03-02T19:53:57.001Z"
   },
   {
    "duration": 364,
    "start_time": "2022-03-02T19:53:57.565Z"
   },
   {
    "duration": 375,
    "start_time": "2022-03-02T19:53:57.932Z"
   },
   {
    "duration": 49,
    "start_time": "2022-03-02T19:53:58.310Z"
   },
   {
    "duration": 206,
    "start_time": "2022-03-02T19:53:58.361Z"
   },
   {
    "duration": 117,
    "start_time": "2022-03-02T19:53:58.569Z"
   },
   {
    "duration": 120,
    "start_time": "2022-03-02T19:53:58.688Z"
   },
   {
    "duration": 15,
    "start_time": "2022-03-02T19:53:58.812Z"
   },
   {
    "duration": 138,
    "start_time": "2022-03-02T19:53:58.830Z"
   },
   {
    "duration": 8,
    "start_time": "2022-03-02T19:53:58.971Z"
   },
   {
    "duration": 14,
    "start_time": "2022-03-02T19:53:58.981Z"
   },
   {
    "duration": 98,
    "start_time": "2022-03-02T19:53:58.998Z"
   },
   {
    "duration": 14,
    "start_time": "2022-03-02T19:53:59.099Z"
   },
   {
    "duration": 35,
    "start_time": "2022-03-02T19:53:59.116Z"
   },
   {
    "duration": 109,
    "start_time": "2022-03-02T19:53:59.154Z"
   },
   {
    "duration": 19,
    "start_time": "2022-03-02T19:53:59.266Z"
   },
   {
    "duration": 9,
    "start_time": "2022-03-02T19:53:59.287Z"
   },
   {
    "duration": 101,
    "start_time": "2022-03-02T19:53:59.299Z"
   },
   {
    "duration": 23,
    "start_time": "2022-03-02T19:53:59.402Z"
   },
   {
    "duration": 92,
    "start_time": "2022-03-02T19:53:59.428Z"
   },
   {
    "duration": 30,
    "start_time": "2022-03-02T19:53:59.523Z"
   },
   {
    "duration": 14,
    "start_time": "2022-03-02T19:53:59.556Z"
   },
   {
    "duration": 28,
    "start_time": "2022-03-02T19:53:59.573Z"
   },
   {
    "duration": 613,
    "start_time": "2022-03-02T19:53:59.604Z"
   },
   {
    "duration": 49,
    "start_time": "2022-03-02T19:54:00.219Z"
   },
   {
    "duration": 27,
    "start_time": "2022-03-02T19:54:00.273Z"
   },
   {
    "duration": 24,
    "start_time": "2022-03-02T19:54:00.303Z"
   },
   {
    "duration": 36,
    "start_time": "2022-03-02T19:54:00.352Z"
   },
   {
    "duration": 69,
    "start_time": "2022-03-02T19:54:00.391Z"
   },
   {
    "duration": 134,
    "start_time": "2022-03-02T19:54:00.463Z"
   },
   {
    "duration": 419,
    "start_time": "2022-03-02T19:54:00.599Z"
   },
   {
    "duration": 489,
    "start_time": "2022-03-02T19:54:01.021Z"
   },
   {
    "duration": 411,
    "start_time": "2022-03-02T19:54:01.513Z"
   },
   {
    "duration": 30,
    "start_time": "2022-03-02T19:54:01.926Z"
   },
   {
    "duration": 474,
    "start_time": "2022-03-02T19:54:01.959Z"
   },
   {
    "duration": 25,
    "start_time": "2022-03-02T19:54:02.436Z"
   },
   {
    "duration": 26,
    "start_time": "2022-03-02T19:54:02.464Z"
   },
   {
    "duration": 211,
    "start_time": "2022-03-02T19:54:02.493Z"
   },
   {
    "duration": 2273,
    "start_time": "2022-03-02T19:54:02.706Z"
   },
   {
    "duration": 1359,
    "start_time": "2022-03-02T19:55:36.819Z"
   },
   {
    "duration": 572,
    "start_time": "2022-03-02T19:55:38.180Z"
   },
   {
    "duration": 380,
    "start_time": "2022-03-02T19:55:38.755Z"
   },
   {
    "duration": 382,
    "start_time": "2022-03-02T19:55:39.138Z"
   },
   {
    "duration": 43,
    "start_time": "2022-03-02T19:55:39.522Z"
   },
   {
    "duration": 200,
    "start_time": "2022-03-02T19:55:39.568Z"
   },
   {
    "duration": 108,
    "start_time": "2022-03-02T19:55:39.771Z"
   },
   {
    "duration": 123,
    "start_time": "2022-03-02T19:55:39.883Z"
   },
   {
    "duration": 16,
    "start_time": "2022-03-02T19:55:40.009Z"
   },
   {
    "duration": 176,
    "start_time": "2022-03-02T19:55:40.028Z"
   },
   {
    "duration": 8,
    "start_time": "2022-03-02T19:55:40.207Z"
   },
   {
    "duration": 36,
    "start_time": "2022-03-02T19:55:40.217Z"
   },
   {
    "duration": 64,
    "start_time": "2022-03-02T19:55:40.256Z"
   },
   {
    "duration": 40,
    "start_time": "2022-03-02T19:55:40.322Z"
   },
   {
    "duration": 9,
    "start_time": "2022-03-02T19:55:40.365Z"
   },
   {
    "duration": 101,
    "start_time": "2022-03-02T19:55:40.376Z"
   },
   {
    "duration": 15,
    "start_time": "2022-03-02T19:55:40.480Z"
   },
   {
    "duration": 9,
    "start_time": "2022-03-02T19:55:40.497Z"
   },
   {
    "duration": 83,
    "start_time": "2022-03-02T19:55:40.508Z"
   },
   {
    "duration": 21,
    "start_time": "2022-03-02T19:55:40.594Z"
   },
   {
    "duration": 77,
    "start_time": "2022-03-02T19:55:40.618Z"
   },
   {
    "duration": 9,
    "start_time": "2022-03-02T19:55:40.698Z"
   },
   {
    "duration": 45,
    "start_time": "2022-03-02T19:55:40.713Z"
   },
   {
    "duration": 460,
    "start_time": "2022-03-02T19:55:40.761Z"
   },
   {
    "duration": 49,
    "start_time": "2022-03-02T19:55:41.224Z"
   },
   {
    "duration": 24,
    "start_time": "2022-03-02T19:55:41.276Z"
   },
   {
    "duration": 21,
    "start_time": "2022-03-02T19:55:41.302Z"
   },
   {
    "duration": 48,
    "start_time": "2022-03-02T19:55:41.325Z"
   },
   {
    "duration": 41,
    "start_time": "2022-03-02T19:55:41.375Z"
   },
   {
    "duration": 76,
    "start_time": "2022-03-02T19:55:41.419Z"
   },
   {
    "duration": 171,
    "start_time": "2022-03-02T19:55:41.498Z"
   },
   {
    "duration": 421,
    "start_time": "2022-03-02T19:55:41.671Z"
   },
   {
    "duration": 488,
    "start_time": "2022-03-02T19:55:42.094Z"
   },
   {
    "duration": 433,
    "start_time": "2022-03-02T19:55:42.585Z"
   },
   {
    "duration": 36,
    "start_time": "2022-03-02T19:55:43.021Z"
   },
   {
    "duration": 517,
    "start_time": "2022-03-02T19:55:43.060Z"
   },
   {
    "duration": 16,
    "start_time": "2022-03-02T19:55:43.579Z"
   },
   {
    "duration": 28,
    "start_time": "2022-03-02T19:55:43.597Z"
   },
   {
    "duration": 211,
    "start_time": "2022-03-02T19:55:43.652Z"
   },
   {
    "duration": 2391,
    "start_time": "2022-03-02T19:55:43.866Z"
   },
   {
    "duration": 14,
    "start_time": "2022-03-02T19:56:10.507Z"
   },
   {
    "duration": 21,
    "start_time": "2022-03-02T19:56:26.426Z"
   },
   {
    "duration": 14,
    "start_time": "2022-03-02T19:56:31.835Z"
   },
   {
    "duration": 5,
    "start_time": "2022-03-02T19:57:02.941Z"
   },
   {
    "duration": 76,
    "start_time": "2022-03-02T19:57:24.540Z"
   },
   {
    "duration": 88,
    "start_time": "2022-03-02T19:58:02.127Z"
   }
  ],
  "celltoolbar": "Отсутствует",
  "kernelspec": {
   "display_name": "Python 3",
   "language": "python",
   "name": "python3"
  },
  "language_info": {
   "codemirror_mode": {
    "name": "ipython",
    "version": 3
   },
   "file_extension": ".py",
   "mimetype": "text/x-python",
   "name": "python",
   "nbconvert_exporter": "python",
   "pygments_lexer": "ipython3",
   "version": "3.8.8"
  },
  "toc": {
   "base_numbering": 1,
   "nav_menu": {},
   "number_sections": true,
   "sideBar": true,
   "skip_h1_title": true,
   "title_cell": "Table of Contents",
   "title_sidebar": "Contents",
   "toc_cell": false,
   "toc_position": {},
   "toc_section_display": true,
   "toc_window_display": false
  },
  "vscode": {
   "interpreter": {
    "hash": "aee8b7b246df8f9039afb4144a1f6fd8d2ca17a180786b69acc140d282b71a49"
   }
  }
 },
 "nbformat": 4,
 "nbformat_minor": 2
}
