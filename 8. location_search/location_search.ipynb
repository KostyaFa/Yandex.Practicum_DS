{
 "cells": [
  {
   "cell_type": "markdown",
   "metadata": {},
   "source": [
    "# Выбор локации для скважины"
   ]
  },
  {
   "cell_type": "markdown",
   "metadata": {},
   "source": [
    "Допустим, вы работаете в добывающей компании «ГлавРосГосНефть». Нужно решить, где бурить новую скважину.\n",
    "\n",
    "Вам предоставлены пробы нефти в трёх регионах: в каждом 10 000 месторождений, где измерили качество нефти и объём её запасов. Постройте модель машинного обучения, которая поможет определить регион, где добыча принесёт наибольшую прибыль. Проанализируйте возможную прибыль и риски техникой *Bootstrap.*\n",
    "\n",
    "Шаги для выбора локации:\n",
    "\n",
    "- В избранном регионе ищут месторождения, для каждого определяют значения признаков;\n",
    "- Строят модель и оценивают объём запасов;\n",
    "- Выбирают месторождения с самым высокими оценками значений. Количество месторождений зависит от бюджета компании и стоимости разработки одной скважины;\n",
    "- Прибыль равна суммарной прибыли отобранных месторождений."
   ]
  },
  {
   "cell_type": "markdown",
   "metadata": {},
   "source": [
    "# Описание данных"
   ]
  },
  {
   "cell_type": "markdown",
   "metadata": {},
   "source": [
    "<b> Данные геологоразведки трёх регионов находятся в файлах:</b>\n",
    "- /datasets/geo_data_0.csv. Данные по 1 региону\n",
    "- /datasets/geo_data_1.csv. Данные по 2 региону\n",
    "- /datasets/geo_data_2.csv. Данные по 3 региону\n",
    "- **id** — уникальный идентификатор скважины;\n",
    "- **f0**, **f1**, **f2** — три признака точек (неважно, что они означают, но сами признаки значимы);\n",
    "- **product** — объём запасов в скважине (тыс. баррелей)."
   ]
  },
  {
   "cell_type": "markdown",
   "metadata": {},
   "source": [
    "# Условия задачи"
   ]
  },
  {
   "cell_type": "markdown",
   "metadata": {},
   "source": [
    "- Для обучения модели подходит только линейная регрессия (остальные — недостаточно предсказуемые).\n",
    "- При разведке региона исследуют 500 точек, из которых с помощью машинного обучения выбирают 200 лучших для разработки.\n",
    "- Бюджет на разработку скважин в регионе — 10 млрд рублей.\n",
    "- При нынешних ценах один баррель сырья приносит 450 рублей дохода. Доход с каждой единицы продукта составляет 450 тыс. рублей, поскольку объём указан в тысячах баррелей.\n",
    "- После оценки рисков нужно оставить лишь те регионы, в которых вероятность убытков меньше 2.5%. Среди них выбирают регион с наибольшей средней прибылью."
   ]
  },
  {
   "cell_type": "markdown",
   "metadata": {},
   "source": [
    "## Загрузка и подготовка данных"
   ]
  },
  {
   "cell_type": "code",
   "execution_count": 5,
   "metadata": {},
   "outputs": [],
   "source": [
    "#Импортируем библиотеки\n",
    "\n",
    "import pandas as pd\n",
    "\n",
    "import numpy as np\n",
    "\n",
    "import matplotlib.pyplot as plt\n",
    "\n",
    "from sklearn.linear_model import LinearRegression\n",
    "\n",
    "from sklearn.model_selection import train_test_split\n",
    "\n",
    "from sklearn.metrics import mean_squared_error\n"
   ]
  },
  {
   "cell_type": "code",
   "execution_count": 6,
   "metadata": {},
   "outputs": [],
   "source": [
    "#Изучение данных\n",
    "#Для этого создадим функцию\n",
    "#Так как у нас даны три датасета, то основные действия для выгрузки и первичного изучения данных будут одинаковые\n",
    "\n",
    "def reading_data(file_path):\n",
    "    data = pd.read_csv(file_path)\n",
    "    print('Количество явных дубликатов:', sum(data.duplicated()))\n",
    "    display(data.head())\n",
    "    print('')\n",
    "    display(data.info())\n",
    "    print(data.describe())\n",
    "    print(data.corr())\n",
    "    return data"
   ]
  },
  {
   "cell_type": "code",
   "execution_count": 7,
   "metadata": {},
   "outputs": [
    {
     "name": "stdout",
     "output_type": "stream",
     "text": [
      "Количество явных дубликатов: 0\n"
     ]
    },
    {
     "data": {
      "text/html": [
       "<div>\n",
       "<style scoped>\n",
       "    .dataframe tbody tr th:only-of-type {\n",
       "        vertical-align: middle;\n",
       "    }\n",
       "\n",
       "    .dataframe tbody tr th {\n",
       "        vertical-align: top;\n",
       "    }\n",
       "\n",
       "    .dataframe thead th {\n",
       "        text-align: right;\n",
       "    }\n",
       "</style>\n",
       "<table border=\"1\" class=\"dataframe\">\n",
       "  <thead>\n",
       "    <tr style=\"text-align: right;\">\n",
       "      <th></th>\n",
       "      <th>id</th>\n",
       "      <th>f0</th>\n",
       "      <th>f1</th>\n",
       "      <th>f2</th>\n",
       "      <th>product</th>\n",
       "    </tr>\n",
       "  </thead>\n",
       "  <tbody>\n",
       "    <tr>\n",
       "      <th>0</th>\n",
       "      <td>txEyH</td>\n",
       "      <td>0.705745</td>\n",
       "      <td>-0.497823</td>\n",
       "      <td>1.221170</td>\n",
       "      <td>105.280062</td>\n",
       "    </tr>\n",
       "    <tr>\n",
       "      <th>1</th>\n",
       "      <td>2acmU</td>\n",
       "      <td>1.334711</td>\n",
       "      <td>-0.340164</td>\n",
       "      <td>4.365080</td>\n",
       "      <td>73.037750</td>\n",
       "    </tr>\n",
       "    <tr>\n",
       "      <th>2</th>\n",
       "      <td>409Wp</td>\n",
       "      <td>1.022732</td>\n",
       "      <td>0.151990</td>\n",
       "      <td>1.419926</td>\n",
       "      <td>85.265647</td>\n",
       "    </tr>\n",
       "    <tr>\n",
       "      <th>3</th>\n",
       "      <td>iJLyR</td>\n",
       "      <td>-0.032172</td>\n",
       "      <td>0.139033</td>\n",
       "      <td>2.978566</td>\n",
       "      <td>168.620776</td>\n",
       "    </tr>\n",
       "    <tr>\n",
       "      <th>4</th>\n",
       "      <td>Xdl7t</td>\n",
       "      <td>1.988431</td>\n",
       "      <td>0.155413</td>\n",
       "      <td>4.751769</td>\n",
       "      <td>154.036647</td>\n",
       "    </tr>\n",
       "  </tbody>\n",
       "</table>\n",
       "</div>"
      ],
      "text/plain": [
       "      id        f0        f1        f2     product\n",
       "0  txEyH  0.705745 -0.497823  1.221170  105.280062\n",
       "1  2acmU  1.334711 -0.340164  4.365080   73.037750\n",
       "2  409Wp  1.022732  0.151990  1.419926   85.265647\n",
       "3  iJLyR -0.032172  0.139033  2.978566  168.620776\n",
       "4  Xdl7t  1.988431  0.155413  4.751769  154.036647"
      ]
     },
     "metadata": {},
     "output_type": "display_data"
    },
    {
     "name": "stdout",
     "output_type": "stream",
     "text": [
      "\n",
      "<class 'pandas.core.frame.DataFrame'>\n",
      "RangeIndex: 100000 entries, 0 to 99999\n",
      "Data columns (total 5 columns):\n",
      " #   Column   Non-Null Count   Dtype  \n",
      "---  ------   --------------   -----  \n",
      " 0   id       100000 non-null  object \n",
      " 1   f0       100000 non-null  float64\n",
      " 2   f1       100000 non-null  float64\n",
      " 3   f2       100000 non-null  float64\n",
      " 4   product  100000 non-null  float64\n",
      "dtypes: float64(4), object(1)\n",
      "memory usage: 3.8+ MB\n"
     ]
    },
    {
     "data": {
      "text/plain": [
       "None"
      ]
     },
     "metadata": {},
     "output_type": "display_data"
    },
    {
     "name": "stdout",
     "output_type": "stream",
     "text": [
      "                  f0             f1             f2        product\n",
      "count  100000.000000  100000.000000  100000.000000  100000.000000\n",
      "mean        0.500419       0.250143       2.502647      92.500000\n",
      "std         0.871832       0.504433       3.248248      44.288691\n",
      "min        -1.408605      -0.848218     -12.088328       0.000000\n",
      "25%        -0.072580      -0.200881       0.287748      56.497507\n",
      "50%         0.502360       0.250252       2.515969      91.849972\n",
      "75%         1.073581       0.700646       4.715088     128.564089\n",
      "max         2.362331       1.343769      16.003790     185.364347\n",
      "               f0        f1        f2   product\n",
      "f0       1.000000 -0.440723 -0.003153  0.143536\n",
      "f1      -0.440723  1.000000  0.001724 -0.192356\n",
      "f2      -0.003153  0.001724  1.000000  0.483663\n",
      "product  0.143536 -0.192356  0.483663  1.000000\n"
     ]
    },
    {
     "name": "stderr",
     "output_type": "stream",
     "text": [
      "/var/folders/wd/gl0hh07s1f73kj7kynty4z6r0000gn/T/ipykernel_29901/1147411488.py:12: FutureWarning: The default value of numeric_only in DataFrame.corr is deprecated. In a future version, it will default to False. Select only valid columns or specify the value of numeric_only to silence this warning.\n",
      "  print(data.corr())\n"
     ]
    }
   ],
   "source": [
    "geo0_data = reading_data('geo_data_0.csv')"
   ]
  },
  {
   "cell_type": "code",
   "execution_count": 8,
   "metadata": {},
   "outputs": [
    {
     "name": "stdout",
     "output_type": "stream",
     "text": [
      "Количество явных дубликатов: 0\n"
     ]
    },
    {
     "data": {
      "text/html": [
       "<div>\n",
       "<style scoped>\n",
       "    .dataframe tbody tr th:only-of-type {\n",
       "        vertical-align: middle;\n",
       "    }\n",
       "\n",
       "    .dataframe tbody tr th {\n",
       "        vertical-align: top;\n",
       "    }\n",
       "\n",
       "    .dataframe thead th {\n",
       "        text-align: right;\n",
       "    }\n",
       "</style>\n",
       "<table border=\"1\" class=\"dataframe\">\n",
       "  <thead>\n",
       "    <tr style=\"text-align: right;\">\n",
       "      <th></th>\n",
       "      <th>id</th>\n",
       "      <th>f0</th>\n",
       "      <th>f1</th>\n",
       "      <th>f2</th>\n",
       "      <th>product</th>\n",
       "    </tr>\n",
       "  </thead>\n",
       "  <tbody>\n",
       "    <tr>\n",
       "      <th>0</th>\n",
       "      <td>kBEdx</td>\n",
       "      <td>-15.001348</td>\n",
       "      <td>-8.276000</td>\n",
       "      <td>-0.005876</td>\n",
       "      <td>3.179103</td>\n",
       "    </tr>\n",
       "    <tr>\n",
       "      <th>1</th>\n",
       "      <td>62mP7</td>\n",
       "      <td>14.272088</td>\n",
       "      <td>-3.475083</td>\n",
       "      <td>0.999183</td>\n",
       "      <td>26.953261</td>\n",
       "    </tr>\n",
       "    <tr>\n",
       "      <th>2</th>\n",
       "      <td>vyE1P</td>\n",
       "      <td>6.263187</td>\n",
       "      <td>-5.948386</td>\n",
       "      <td>5.001160</td>\n",
       "      <td>134.766305</td>\n",
       "    </tr>\n",
       "    <tr>\n",
       "      <th>3</th>\n",
       "      <td>KcrkZ</td>\n",
       "      <td>-13.081196</td>\n",
       "      <td>-11.506057</td>\n",
       "      <td>4.999415</td>\n",
       "      <td>137.945408</td>\n",
       "    </tr>\n",
       "    <tr>\n",
       "      <th>4</th>\n",
       "      <td>AHL4O</td>\n",
       "      <td>12.702195</td>\n",
       "      <td>-8.147433</td>\n",
       "      <td>5.004363</td>\n",
       "      <td>134.766305</td>\n",
       "    </tr>\n",
       "  </tbody>\n",
       "</table>\n",
       "</div>"
      ],
      "text/plain": [
       "      id         f0         f1        f2     product\n",
       "0  kBEdx -15.001348  -8.276000 -0.005876    3.179103\n",
       "1  62mP7  14.272088  -3.475083  0.999183   26.953261\n",
       "2  vyE1P   6.263187  -5.948386  5.001160  134.766305\n",
       "3  KcrkZ -13.081196 -11.506057  4.999415  137.945408\n",
       "4  AHL4O  12.702195  -8.147433  5.004363  134.766305"
      ]
     },
     "metadata": {},
     "output_type": "display_data"
    },
    {
     "name": "stdout",
     "output_type": "stream",
     "text": [
      "\n",
      "<class 'pandas.core.frame.DataFrame'>\n",
      "RangeIndex: 100000 entries, 0 to 99999\n",
      "Data columns (total 5 columns):\n",
      " #   Column   Non-Null Count   Dtype  \n",
      "---  ------   --------------   -----  \n",
      " 0   id       100000 non-null  object \n",
      " 1   f0       100000 non-null  float64\n",
      " 2   f1       100000 non-null  float64\n",
      " 3   f2       100000 non-null  float64\n",
      " 4   product  100000 non-null  float64\n",
      "dtypes: float64(4), object(1)\n",
      "memory usage: 3.8+ MB\n"
     ]
    },
    {
     "data": {
      "text/plain": [
       "None"
      ]
     },
     "metadata": {},
     "output_type": "display_data"
    },
    {
     "name": "stdout",
     "output_type": "stream",
     "text": [
      "                  f0             f1             f2        product\n",
      "count  100000.000000  100000.000000  100000.000000  100000.000000\n",
      "mean        1.141296      -4.796579       2.494541      68.825000\n",
      "std         8.965932       5.119872       1.703572      45.944423\n",
      "min       -31.609576     -26.358598      -0.018144       0.000000\n",
      "25%        -6.298551      -8.267985       1.000021      26.953261\n",
      "50%         1.153055      -4.813172       2.011479      57.085625\n",
      "75%         8.621015      -1.332816       3.999904     107.813044\n",
      "max        29.421755      18.734063       5.019721     137.945408\n",
      "               f0        f1        f2   product\n",
      "f0       1.000000  0.182287 -0.001777 -0.030491\n",
      "f1       0.182287  1.000000 -0.002595 -0.010155\n",
      "f2      -0.001777 -0.002595  1.000000  0.999397\n",
      "product -0.030491 -0.010155  0.999397  1.000000\n"
     ]
    },
    {
     "name": "stderr",
     "output_type": "stream",
     "text": [
      "/var/folders/wd/gl0hh07s1f73kj7kynty4z6r0000gn/T/ipykernel_29901/1147411488.py:12: FutureWarning: The default value of numeric_only in DataFrame.corr is deprecated. In a future version, it will default to False. Select only valid columns or specify the value of numeric_only to silence this warning.\n",
      "  print(data.corr())\n"
     ]
    }
   ],
   "source": [
    "geo1_data = reading_data('geo_data_1.csv')"
   ]
  },
  {
   "cell_type": "code",
   "execution_count": 9,
   "metadata": {},
   "outputs": [
    {
     "name": "stdout",
     "output_type": "stream",
     "text": [
      "Количество явных дубликатов: 0\n"
     ]
    },
    {
     "data": {
      "text/html": [
       "<div>\n",
       "<style scoped>\n",
       "    .dataframe tbody tr th:only-of-type {\n",
       "        vertical-align: middle;\n",
       "    }\n",
       "\n",
       "    .dataframe tbody tr th {\n",
       "        vertical-align: top;\n",
       "    }\n",
       "\n",
       "    .dataframe thead th {\n",
       "        text-align: right;\n",
       "    }\n",
       "</style>\n",
       "<table border=\"1\" class=\"dataframe\">\n",
       "  <thead>\n",
       "    <tr style=\"text-align: right;\">\n",
       "      <th></th>\n",
       "      <th>id</th>\n",
       "      <th>f0</th>\n",
       "      <th>f1</th>\n",
       "      <th>f2</th>\n",
       "      <th>product</th>\n",
       "    </tr>\n",
       "  </thead>\n",
       "  <tbody>\n",
       "    <tr>\n",
       "      <th>0</th>\n",
       "      <td>fwXo0</td>\n",
       "      <td>-1.146987</td>\n",
       "      <td>0.963328</td>\n",
       "      <td>-0.828965</td>\n",
       "      <td>27.758673</td>\n",
       "    </tr>\n",
       "    <tr>\n",
       "      <th>1</th>\n",
       "      <td>WJtFt</td>\n",
       "      <td>0.262778</td>\n",
       "      <td>0.269839</td>\n",
       "      <td>-2.530187</td>\n",
       "      <td>56.069697</td>\n",
       "    </tr>\n",
       "    <tr>\n",
       "      <th>2</th>\n",
       "      <td>ovLUW</td>\n",
       "      <td>0.194587</td>\n",
       "      <td>0.289035</td>\n",
       "      <td>-5.586433</td>\n",
       "      <td>62.871910</td>\n",
       "    </tr>\n",
       "    <tr>\n",
       "      <th>3</th>\n",
       "      <td>q6cA6</td>\n",
       "      <td>2.236060</td>\n",
       "      <td>-0.553760</td>\n",
       "      <td>0.930038</td>\n",
       "      <td>114.572842</td>\n",
       "    </tr>\n",
       "    <tr>\n",
       "      <th>4</th>\n",
       "      <td>WPMUX</td>\n",
       "      <td>-0.515993</td>\n",
       "      <td>1.716266</td>\n",
       "      <td>5.899011</td>\n",
       "      <td>149.600746</td>\n",
       "    </tr>\n",
       "  </tbody>\n",
       "</table>\n",
       "</div>"
      ],
      "text/plain": [
       "      id        f0        f1        f2     product\n",
       "0  fwXo0 -1.146987  0.963328 -0.828965   27.758673\n",
       "1  WJtFt  0.262778  0.269839 -2.530187   56.069697\n",
       "2  ovLUW  0.194587  0.289035 -5.586433   62.871910\n",
       "3  q6cA6  2.236060 -0.553760  0.930038  114.572842\n",
       "4  WPMUX -0.515993  1.716266  5.899011  149.600746"
      ]
     },
     "metadata": {},
     "output_type": "display_data"
    },
    {
     "name": "stdout",
     "output_type": "stream",
     "text": [
      "\n",
      "<class 'pandas.core.frame.DataFrame'>\n",
      "RangeIndex: 100000 entries, 0 to 99999\n",
      "Data columns (total 5 columns):\n",
      " #   Column   Non-Null Count   Dtype  \n",
      "---  ------   --------------   -----  \n",
      " 0   id       100000 non-null  object \n",
      " 1   f0       100000 non-null  float64\n",
      " 2   f1       100000 non-null  float64\n",
      " 3   f2       100000 non-null  float64\n",
      " 4   product  100000 non-null  float64\n",
      "dtypes: float64(4), object(1)\n",
      "memory usage: 3.8+ MB\n"
     ]
    },
    {
     "data": {
      "text/plain": [
       "None"
      ]
     },
     "metadata": {},
     "output_type": "display_data"
    },
    {
     "name": "stdout",
     "output_type": "stream",
     "text": [
      "                  f0             f1             f2        product\n",
      "count  100000.000000  100000.000000  100000.000000  100000.000000\n",
      "mean        0.002023      -0.002081       2.495128      95.000000\n",
      "std         1.732045       1.730417       3.473445      44.749921\n",
      "min        -8.760004      -7.084020     -11.970335       0.000000\n",
      "25%        -1.162288      -1.174820       0.130359      59.450441\n",
      "50%         0.009424      -0.009482       2.484236      94.925613\n",
      "75%         1.158535       1.163678       4.858794     130.595027\n",
      "max         7.238262       7.844801      16.739402     190.029838\n",
      "               f0        f1        f2   product\n",
      "f0       1.000000  0.000528 -0.000448 -0.001987\n",
      "f1       0.000528  1.000000  0.000779 -0.001012\n",
      "f2      -0.000448  0.000779  1.000000  0.445871\n",
      "product -0.001987 -0.001012  0.445871  1.000000\n"
     ]
    },
    {
     "name": "stderr",
     "output_type": "stream",
     "text": [
      "/var/folders/wd/gl0hh07s1f73kj7kynty4z6r0000gn/T/ipykernel_29901/1147411488.py:12: FutureWarning: The default value of numeric_only in DataFrame.corr is deprecated. In a future version, it will default to False. Select only valid columns or specify the value of numeric_only to silence this warning.\n",
      "  print(data.corr())\n"
     ]
    }
   ],
   "source": [
    "geo2_data = reading_data('geo_data_2.csv')"
   ]
  },
  {
   "cell_type": "markdown",
   "metadata": {},
   "source": [
    "- Пропуски отсутсвуют\n",
    "\n",
    "- Дубликаты отсутсвуют \n",
    "\n",
    "- Данные **f0**, **f1**, **f1** примерно одного порядка - масштабироание не требуется"
   ]
  },
  {
   "cell_type": "code",
   "execution_count": 10,
   "metadata": {},
   "outputs": [],
   "source": [
    "#Выделим признаки и целевой признак\n",
    "\n",
    "features_columns = ['f0','f1', 'f2']\n",
    "targets_columns = ['product']\n",
    "\n",
    "#Признаки для 1 региона\n",
    "features_geo0 = geo0_data[features_columns]\n",
    "#Признаки для 2 региона\n",
    "features_geo1 = geo1_data[features_columns]\n",
    "#Признаки для 3 региона\n",
    "features_geo2 = geo2_data[features_columns]\n",
    "\n",
    "#Целевой признак для 1 региона\n",
    "targets_geo0 = geo0_data[targets_columns]\n",
    "#Целевой признак для 2 региона\n",
    "targets_geo1 = geo1_data[targets_columns]\n",
    "#Целевой признак для 3 региона\n",
    "targets_geo2 = geo2_data[targets_columns]\n",
    "    "
   ]
  },
  {
   "cell_type": "markdown",
   "metadata": {},
   "source": [
    "## Обучение и проверка модели"
   ]
  },
  {
   "cell_type": "code",
   "execution_count": 11,
   "metadata": {},
   "outputs": [],
   "source": [
    "#Аналогично прошлому пункту\n",
    "#Создадим функцию, которая будет делить выборки, обучать модель лин.регрессии (по заданию) и вычислять ср. кв. ошибку\n",
    "def geo_model_fit(features, targets):\n",
    "   \n",
    "    features_train, features_valid, targets_train, targets_valid = train_test_split(features, targets, test_size=0.25, random_state=12345)\n",
    "    print('Количество строк обучающей выборки:', features_train.shape[0])\n",
    "    print('Количество строк валидационной выборки:', features_valid.shape[0])\n",
    "    \n",
    "    model = LinearRegression()\n",
    "    model.fit(features_train, targets_train)\n",
    "    predict = model.predict(features_valid)\n",
    "\n",
    "    predict_mean = predict.mean()\n",
    "    rmse = mean_squared_error(targets_valid, predict)**.5\n",
    "\n",
    "    print('Cредний предсказанный объем сырья: {:.3f}'.format(predict_mean))\n",
    "    print('RMSE модели: {:.3f}'.format(rmse))\n",
    "    \n",
    "    print('___________________________________________________________________ \\n')\n",
    "    \n",
    "    \n",
    "    return targets_valid, predict"
   ]
  },
  {
   "cell_type": "code",
   "execution_count": 12,
   "metadata": {},
   "outputs": [
    {
     "name": "stdout",
     "output_type": "stream",
     "text": [
      "Количество строк обучающей выборки: 75000\n",
      "Количество строк валидационной выборки: 25000\n",
      "Cредний предсказанный объем сырья: 92.593\n",
      "RMSE модели: 37.579\n",
      "___________________________________________________________________ \n",
      "\n",
      "Количество строк обучающей выборки: 75000\n",
      "Количество строк валидационной выборки: 25000\n",
      "Cредний предсказанный объем сырья: 68.729\n",
      "RMSE модели: 0.893\n",
      "___________________________________________________________________ \n",
      "\n",
      "Количество строк обучающей выборки: 75000\n",
      "Количество строк валидационной выборки: 25000\n",
      "Cредний предсказанный объем сырья: 94.965\n",
      "RMSE модели: 40.030\n",
      "___________________________________________________________________ \n",
      "\n"
     ]
    }
   ],
   "source": [
    "#Прогоним функцию для каждого региона\n",
    "\n",
    "geo0_targets_valid, geo0_predict = geo_model_fit(features_geo0, targets_geo0)\n",
    "geo1_targets_valid, geo1_predict = geo_model_fit(features_geo1, targets_geo1)\n",
    "geo2_targets_valid, geo2_predict = geo_model_fit(features_geo2, targets_geo2)"
   ]
  },
  {
   "cell_type": "markdown",
   "metadata": {},
   "source": [
    "- минимальный RMSE - для 2 региона, то есть модель, обученная по данным, наиболее точно предсказывает объем в скважине\n",
    "\n",
    "- для 1 и 3 региона RMSE намного больше, при этом средние значения предсказанного объема сырья имеет высокие значения, в отличии от 2 региона "
   ]
  },
  {
   "cell_type": "markdown",
   "metadata": {},
   "source": [
    "## Подготовка к расчёту прибыли"
   ]
  },
  {
   "cell_type": "code",
   "execution_count": 13,
   "metadata": {},
   "outputs": [
    {
     "name": "stdout",
     "output_type": "stream",
     "text": [
      "Минимальный объём продукта с одной скважины для безубыточной разработки: 111.11\n"
     ]
    }
   ],
   "source": [
    "#Посчитаем минимальный средний объем в скважине, достаточный для разработки\n",
    "caps = 10**10\n",
    "best_wells, all_wells = 200, 500\n",
    "oil_bar_price = 450*1000\n",
    "\n",
    "min_product = caps / (best_wells * oil_bar_price)\n",
    "print('Минимальный объём продукта с одной скважины для безубыточной разработки: {:.2f}'.format(min_product))"
   ]
  },
  {
   "cell_type": "markdown",
   "metadata": {},
   "source": [
    "Минимальный объем безубыточной скважины больше среднего предсказанного запаса в каждом регионе, рассчитанного ранее."
   ]
  },
  {
   "cell_type": "markdown",
   "metadata": {},
   "source": [
    "## Расчёт прибыли и рисков "
   ]
  },
  {
   "cell_type": "markdown",
   "metadata": {},
   "source": [
    "Перед расчетом переведем наши ранее полученные целевые признаки и предсказания к одному типу данных (например Series)"
   ]
  },
  {
   "cell_type": "code",
   "execution_count": 14,
   "metadata": {},
   "outputs": [],
   "source": [
    "geo0_targets_valid = pd.Series(geo0_targets_valid['product'].reset_index(drop = True))\n",
    "geo1_targets_valid = pd.Series(geo1_targets_valid['product'].reset_index(drop = True))\n",
    "geo2_targets_valid = pd.Series(geo2_targets_valid['product'].reset_index(drop = True))\n",
    "\n",
    "geo0_predict = pd.Series(*geo0_predict.reshape(1,-1))\n",
    "geo1_predict = pd.Series(*geo1_predict.reshape(1,-1))\n",
    "geo2_predict = pd.Series(*geo2_predict.reshape(1,-1))"
   ]
  },
  {
   "cell_type": "code",
   "execution_count": 15,
   "metadata": {},
   "outputs": [],
   "source": [
    "#Функция расчета прибыли \n",
    "state = np.random.RandomState(12345)\n",
    "\n",
    "def revenue_calculation(target, predicts,show = True):\n",
    "    sample_preds = predicts.sample(n = all_wells, \n",
    "                                   replace = True, \n",
    "                                   random_state=state)\n",
    "    best_preds = sample_preds.sort_values(ascending=False)[:best_wells]\n",
    "    best_targets = target[best_preds.index]  \n",
    "    revenue = sum(best_targets) * oil_bar_price  - caps\n",
    "    if show:\n",
    "        print(f'Средний запас одной из лучших скважин региона: {\"%.3f\" % best_targets.mean()} млн. бар.')\n",
    "        print(f'Выручка при разработке скважин этого региона: {\"%.3f\" % (revenue/10**6)} млн. руб')\n",
    "\n",
    "    return revenue"
   ]
  },
  {
   "cell_type": "code",
   "execution_count": 16,
   "metadata": {},
   "outputs": [
    {
     "name": "stdout",
     "output_type": "stream",
     "text": [
      "Средний запас одной из лучших скважин региона: 117.838 млн. бар.\n",
      "Выручка при разработке скважин этого региона: 605.464 млн. руб\n"
     ]
    },
    {
     "data": {
      "text/plain": [
       "605464074.5690022"
      ]
     },
     "execution_count": 16,
     "metadata": {},
     "output_type": "execute_result"
    }
   ],
   "source": [
    "revenue_calculation(geo0_targets_valid, geo0_predict)"
   ]
  },
  {
   "cell_type": "code",
   "execution_count": 17,
   "metadata": {},
   "outputs": [
    {
     "name": "stdout",
     "output_type": "stream",
     "text": [
      "Средний запас одной из лучших скважин региона: 114.826 млн. бар.\n",
      "Выручка при разработке скважин этого региона: 334.316 млн. руб\n"
     ]
    },
    {
     "data": {
      "text/plain": [
       "334315678.3243828"
      ]
     },
     "execution_count": 17,
     "metadata": {},
     "output_type": "execute_result"
    }
   ],
   "source": [
    "revenue_calculation(geo1_targets_valid, geo1_predict)"
   ]
  },
  {
   "cell_type": "code",
   "execution_count": 18,
   "metadata": {},
   "outputs": [
    {
     "name": "stdout",
     "output_type": "stream",
     "text": [
      "Средний запас одной из лучших скважин региона: 118.069 млн. бар.\n",
      "Выручка при разработке скважин этого региона: 626.176 млн. руб\n"
     ]
    },
    {
     "data": {
      "text/plain": [
       "626175561.5691586"
      ]
     },
     "execution_count": 18,
     "metadata": {},
     "output_type": "execute_result"
    }
   ],
   "source": [
    "revenue_calculation(geo2_targets_valid, geo2_predict)"
   ]
  },
  {
   "cell_type": "markdown",
   "metadata": {},
   "source": [
    "Функция расчета прибыли работает исправно!"
   ]
  },
  {
   "cell_type": "code",
   "execution_count": 19,
   "metadata": {},
   "outputs": [],
   "source": [
    "#Функция для подсчета риска убытков\n",
    "\n",
    "def risk_calculation(target, predicts):\n",
    "    \n",
    "    bootstrap_samples = 1000\n",
    "    incomes = []\n",
    "    state = np.random.RandomState(12345)\n",
    "    for i in range(bootstrap_samples):\n",
    "        revenue = revenue_calculation(target, predicts, show = False)\n",
    "        incomes.append(revenue / 10**6)\n",
    " \n",
    "    incomes = pd.Series(incomes)\n",
    "    plt.suptitle('Гистограмма распределения прибыли в регионе')\n",
    "    incomes.hist()\n",
    "    plt.ylabel('Количество скважин')\n",
    "    plt.xlabel('Выручка')\n",
    "    \n",
    "    \n",
    "    print(f'Среднее значение выручки {\"%.3f\" % (incomes.mean())} млн. руб.')\n",
    "    confidence_interval_lower = incomes.quantile(.025)\n",
    "    confidence_interval_upper = incomes.quantile(1 - 0.025)\n",
    "    print(f'Границы доверительного интервала {\"%.3f\" % (confidence_interval_lower)} млн. руб. : {\"%.3f\" % (confidence_interval_upper)} млн. руб.')\n",
    "    \n",
    "    loss_count = 0\n",
    "    for i in incomes :\n",
    "        if i < 0 :\n",
    "            loss_count += 1\n",
    "    print(f'Риск убытков {\"%.2f\" % (loss_count / bootstrap_samples * 100)} %')\n",
    "    "
   ]
  },
  {
   "cell_type": "code",
   "execution_count": 20,
   "metadata": {},
   "outputs": [
    {
     "name": "stdout",
     "output_type": "stream",
     "text": [
      "Среднее значение выручки 395.259 млн. руб.\n",
      "Границы доверительного интервала -111.216 млн. руб. : 909.767 млн. руб.\n",
      "Риск убытков 7.00 %\n"
     ]
    },
    {
     "data": {
      "image/png": "[encoded data removed]",
      "text/plain": [
       "<Figure size 640x480 with 1 Axes>"
      ]
     },
     "metadata": {},
     "output_type": "display_data"
    }
   ],
   "source": [
    "#Для региона 1\n",
    "risk_calculation(geo0_targets_valid, geo0_predict)"
   ]
  },
  {
   "cell_type": "code",
   "execution_count": 21,
   "metadata": {},
   "outputs": [
    {
     "name": "stdout",
     "output_type": "stream",
     "text": [
      "Среднее значение выручки 462.190 млн. руб.\n",
      "Границы доверительного интервала 78.051 млн. руб. : 862.952 млн. руб.\n",
      "Риск убытков 0.70 %\n"
     ]
    },
    {
     "data": {
      "image/png": "[encoded data removed]",
      "text/plain": [
       "<Figure size 640x480 with 1 Axes>"
      ]
     },
     "metadata": {},
     "output_type": "display_data"
    }
   ],
   "source": [
    "risk_calculation(geo1_targets_valid, geo1_predict)"
   ]
  },
  {
   "cell_type": "code",
   "execution_count": 22,
   "metadata": {},
   "outputs": [
    {
     "name": "stdout",
     "output_type": "stream",
     "text": [
      "Среднее значение выручки 392.446 млн. руб.\n",
      "Границы доверительного интервала -112.228 млн. руб. : 934.563 млн. руб.\n",
      "Риск убытков 6.50 %\n"
     ]
    },
    {
     "data": {
      "image/png": "[encoded data removed]",
      "text/plain": [
       "<Figure size 640x480 with 1 Axes>"
      ]
     },
     "metadata": {},
     "output_type": "display_data"
    }
   ],
   "source": [
    "risk_calculation(geo2_targets_valid, geo2_predict)"
   ]
  },
  {
   "cell_type": "markdown",
   "metadata": {},
   "source": [
    "## Выводы"
   ]
  },
  {
   "cell_type": "markdown",
   "metadata": {},
   "source": [
    "- Согласно полученным данным, наиболее перспективной является разработка месторождений **во 2 регионе (geo1)**.\n",
    "\n",
    "- Модель линейной регрессии показала для этого региона предсказания объема **с наименьшим RMSE (0,9)**.\n",
    "\n",
    "- Помимо этого расчет среднего значения выручки (из 1000 случайных выборок) показал наибольшее значение при наименьшем значении риска убытков относительно остальных регионов **(448,6 млн руб при 1,8 %)**, что удовлетворяет условиям задачи\n",
    "\n",
    "P.S. результаты могут отличаться, так как счетчик рандомных значений может сгенерировать другие выборки. На результат выбора региона это не повлияет"
   ]
  }
 ],
 "metadata": {
  "ExecuteTimeLog": [
   {
    "duration": 4,
    "start_time": "2022-04-08T17:15:38.564Z"
   },
   {
    "duration": 443,
    "start_time": "2022-04-08T17:15:49.715Z"
   },
   {
    "duration": 3,
    "start_time": "2022-04-08T17:16:14.526Z"
   },
   {
    "duration": 4,
    "start_time": "2022-04-08T17:20:31.344Z"
   },
   {
    "duration": 222,
    "start_time": "2022-04-08T17:21:47.475Z"
   },
   {
    "duration": 4,
    "start_time": "2022-04-08T17:22:01.866Z"
   },
   {
    "duration": 203,
    "start_time": "2022-04-08T17:22:05.495Z"
   },
   {
    "duration": 210,
    "start_time": "2022-04-08T17:22:54.565Z"
   },
   {
    "duration": 3,
    "start_time": "2022-04-08T17:23:08.766Z"
   },
   {
    "duration": 204,
    "start_time": "2022-04-08T17:23:10.313Z"
   },
   {
    "duration": 5,
    "start_time": "2022-04-08T17:27:29.689Z"
   },
   {
    "duration": 78,
    "start_time": "2022-04-08T17:27:31.489Z"
   },
   {
    "duration": 422,
    "start_time": "2022-04-08T17:28:38.520Z"
   },
   {
    "duration": 5,
    "start_time": "2022-04-08T17:29:06.525Z"
   },
   {
    "duration": 216,
    "start_time": "2022-04-08T17:29:07.885Z"
   },
   {
    "duration": 201,
    "start_time": "2022-04-08T17:29:20.767Z"
   },
   {
    "duration": 4,
    "start_time": "2022-04-08T17:30:43.996Z"
   },
   {
    "duration": 219,
    "start_time": "2022-04-08T17:31:31.258Z"
   },
   {
    "duration": 206,
    "start_time": "2022-04-08T17:32:32.189Z"
   },
   {
    "duration": 216,
    "start_time": "2022-04-08T17:32:46.192Z"
   },
   {
    "duration": 4,
    "start_time": "2022-04-08T17:36:41.323Z"
   },
   {
    "duration": 441,
    "start_time": "2022-04-08T17:36:43.933Z"
   },
   {
    "duration": 5,
    "start_time": "2022-04-08T17:36:56.179Z"
   },
   {
    "duration": 296,
    "start_time": "2022-04-08T17:36:57.378Z"
   },
   {
    "duration": 236,
    "start_time": "2022-04-08T17:37:13.861Z"
   },
   {
    "duration": 262,
    "start_time": "2022-04-08T17:37:14.814Z"
   },
   {
    "duration": 2,
    "start_time": "2022-04-08T17:42:33.822Z"
   },
   {
    "duration": 11,
    "start_time": "2022-04-08T17:48:34.515Z"
   },
   {
    "duration": 10,
    "start_time": "2022-04-08T17:49:37.662Z"
   },
   {
    "duration": 752,
    "start_time": "2022-04-08T18:08:17.656Z"
   },
   {
    "duration": 5,
    "start_time": "2022-04-08T18:30:25.621Z"
   },
   {
    "duration": 4,
    "start_time": "2022-04-08T18:30:41.142Z"
   },
   {
    "duration": 150,
    "start_time": "2022-04-08T18:33:27.013Z"
   },
   {
    "duration": 137,
    "start_time": "2022-04-08T18:33:44.846Z"
   },
   {
    "duration": 5,
    "start_time": "2022-04-08T18:33:57.574Z"
   },
   {
    "duration": 4,
    "start_time": "2022-04-08T18:46:14.068Z"
   },
   {
    "duration": 7,
    "start_time": "2022-04-08T18:46:39.637Z"
   },
   {
    "duration": 125,
    "start_time": "2022-04-08T18:48:56.611Z"
   },
   {
    "duration": 5,
    "start_time": "2022-04-08T18:49:51.052Z"
   },
   {
    "duration": 510,
    "start_time": "2022-04-08T18:50:28.728Z"
   },
   {
    "duration": 5,
    "start_time": "2022-04-08T18:50:45.242Z"
   },
   {
    "duration": 444,
    "start_time": "2022-04-08T18:50:46.408Z"
   },
   {
    "duration": 4,
    "start_time": "2022-04-08T18:50:59.377Z"
   },
   {
    "duration": 379,
    "start_time": "2022-04-08T18:51:01.260Z"
   },
   {
    "duration": 4,
    "start_time": "2022-04-08T18:51:09.832Z"
   },
   {
    "duration": 415,
    "start_time": "2022-04-08T18:51:10.733Z"
   },
   {
    "duration": 5,
    "start_time": "2022-04-08T18:51:18.651Z"
   },
   {
    "duration": 418,
    "start_time": "2022-04-08T18:51:19.314Z"
   },
   {
    "duration": 4,
    "start_time": "2022-04-08T19:01:21.618Z"
   },
   {
    "duration": 391,
    "start_time": "2022-04-08T19:01:23.552Z"
   },
   {
    "duration": 43,
    "start_time": "2022-04-08T20:16:10.473Z"
   },
   {
    "duration": 452,
    "start_time": "2022-04-08T20:16:37.338Z"
   },
   {
    "duration": 20,
    "start_time": "2022-04-08T20:16:45.491Z"
   },
   {
    "duration": 123,
    "start_time": "2022-04-08T20:16:58.285Z"
   },
   {
    "duration": 10,
    "start_time": "2022-04-08T20:17:43.636Z"
   },
   {
    "duration": 1478,
    "start_time": "2022-04-08T20:18:04.691Z"
   },
   {
    "duration": 115,
    "start_time": "2022-04-08T20:18:21.545Z"
   },
   {
    "duration": 117,
    "start_time": "2022-04-08T20:19:56.183Z"
   },
   {
    "duration": 5,
    "start_time": "2022-04-08T20:26:18.113Z"
   },
   {
    "duration": 433,
    "start_time": "2022-04-08T20:26:31.216Z"
   },
   {
    "duration": 4,
    "start_time": "2022-04-08T20:39:35.837Z"
   },
   {
    "duration": 371,
    "start_time": "2022-04-08T20:39:36.484Z"
   },
   {
    "duration": 4,
    "start_time": "2022-04-08T20:52:11.396Z"
   },
   {
    "duration": 8,
    "start_time": "2022-04-08T21:08:12.524Z"
   },
   {
    "duration": 4,
    "start_time": "2022-04-08T21:09:12.780Z"
   },
   {
    "duration": 9,
    "start_time": "2022-04-08T21:11:50.058Z"
   },
   {
    "duration": 9,
    "start_time": "2022-04-08T21:11:56.030Z"
   },
   {
    "duration": 5,
    "start_time": "2022-04-08T21:12:00.675Z"
   },
   {
    "duration": 5,
    "start_time": "2022-04-08T21:17:41.932Z"
   },
   {
    "duration": 15,
    "start_time": "2022-04-08T21:18:04.288Z"
   },
   {
    "duration": 12,
    "start_time": "2022-04-08T21:18:21.411Z"
   },
   {
    "duration": 6,
    "start_time": "2022-04-08T21:18:27.726Z"
   },
   {
    "duration": 20,
    "start_time": "2022-04-08T21:19:23.242Z"
   },
   {
    "duration": 10,
    "start_time": "2022-04-08T21:19:29.098Z"
   },
   {
    "duration": 8,
    "start_time": "2022-04-08T21:22:24.269Z"
   },
   {
    "duration": 15,
    "start_time": "2022-04-08T21:22:38.213Z"
   },
   {
    "duration": 10,
    "start_time": "2022-04-08T21:22:57.802Z"
   },
   {
    "duration": 12,
    "start_time": "2022-04-08T21:23:18.723Z"
   },
   {
    "duration": 6,
    "start_time": "2022-04-08T21:23:46.579Z"
   },
   {
    "duration": 9,
    "start_time": "2022-04-08T21:24:24.480Z"
   },
   {
    "duration": 9,
    "start_time": "2022-04-08T21:24:30.455Z"
   },
   {
    "duration": 10,
    "start_time": "2022-04-08T21:24:39.274Z"
   },
   {
    "duration": 10,
    "start_time": "2022-04-08T21:24:49.228Z"
   },
   {
    "duration": 9,
    "start_time": "2022-04-08T21:24:53.946Z"
   },
   {
    "duration": 5,
    "start_time": "2022-04-08T21:24:59.128Z"
   },
   {
    "duration": 9,
    "start_time": "2022-04-08T21:25:10.831Z"
   },
   {
    "duration": 9,
    "start_time": "2022-04-08T21:26:41.942Z"
   },
   {
    "duration": 5,
    "start_time": "2022-04-08T21:26:47.815Z"
   },
   {
    "duration": 5,
    "start_time": "2022-04-08T21:28:58.146Z"
   },
   {
    "duration": 15,
    "start_time": "2022-04-08T21:29:45.077Z"
   },
   {
    "duration": 13,
    "start_time": "2022-04-08T21:30:38.186Z"
   },
   {
    "duration": 3,
    "start_time": "2022-04-08T21:31:13.912Z"
   },
   {
    "duration": 8,
    "start_time": "2022-04-08T21:31:13.917Z"
   },
   {
    "duration": 241,
    "start_time": "2022-04-08T21:31:13.927Z"
   },
   {
    "duration": 230,
    "start_time": "2022-04-08T21:31:14.169Z"
   },
   {
    "duration": 247,
    "start_time": "2022-04-08T21:31:14.401Z"
   },
   {
    "duration": 12,
    "start_time": "2022-04-08T21:31:14.650Z"
   },
   {
    "duration": 8,
    "start_time": "2022-04-08T21:31:14.664Z"
   },
   {
    "duration": 359,
    "start_time": "2022-04-08T21:31:14.673Z"
   },
   {
    "duration": 6,
    "start_time": "2022-04-08T21:31:15.035Z"
   },
   {
    "duration": 102,
    "start_time": "2022-04-08T21:31:15.042Z"
   },
   {
    "duration": 4,
    "start_time": "2022-04-08T21:41:17.029Z"
   },
   {
    "duration": 8,
    "start_time": "2022-04-08T21:42:38.825Z"
   },
   {
    "duration": 8,
    "start_time": "2022-04-08T21:43:00.513Z"
   },
   {
    "duration": 4,
    "start_time": "2022-04-08T21:44:00.656Z"
   },
   {
    "duration": 15,
    "start_time": "2022-04-08T21:44:01.592Z"
   },
   {
    "duration": 4,
    "start_time": "2022-04-08T21:44:22.847Z"
   },
   {
    "duration": 7,
    "start_time": "2022-04-08T21:44:23.429Z"
   },
   {
    "duration": 3,
    "start_time": "2022-04-08T21:44:31.655Z"
   },
   {
    "duration": 7,
    "start_time": "2022-04-08T21:44:32.564Z"
   },
   {
    "duration": 4,
    "start_time": "2022-04-08T21:45:00.655Z"
   },
   {
    "duration": 8,
    "start_time": "2022-04-08T21:45:01.459Z"
   },
   {
    "duration": 4,
    "start_time": "2022-04-08T21:45:15.159Z"
   },
   {
    "duration": 8,
    "start_time": "2022-04-08T21:45:20.657Z"
   },
   {
    "duration": 3,
    "start_time": "2022-04-08T21:54:38.179Z"
   },
   {
    "duration": 4,
    "start_time": "2022-04-08T21:55:12.889Z"
   },
   {
    "duration": 6,
    "start_time": "2022-04-08T21:55:13.737Z"
   },
   {
    "duration": 6,
    "start_time": "2022-04-08T21:56:32.447Z"
   },
   {
    "duration": 7,
    "start_time": "2022-04-08T21:56:36.305Z"
   },
   {
    "duration": 4,
    "start_time": "2022-04-08T21:58:46.165Z"
   },
   {
    "duration": 4,
    "start_time": "2022-04-08T21:59:39.812Z"
   },
   {
    "duration": 4,
    "start_time": "2022-04-08T22:00:50.743Z"
   },
   {
    "duration": 8,
    "start_time": "2022-04-08T22:00:51.442Z"
   },
   {
    "duration": 8,
    "start_time": "2022-04-08T22:00:53.392Z"
   },
   {
    "duration": 8,
    "start_time": "2022-04-08T22:00:54.042Z"
   },
   {
    "duration": 5,
    "start_time": "2022-04-08T22:01:04.081Z"
   },
   {
    "duration": 7,
    "start_time": "2022-04-08T22:01:05.430Z"
   },
   {
    "duration": 8,
    "start_time": "2022-04-08T22:01:06.097Z"
   },
   {
    "duration": 8,
    "start_time": "2022-04-08T22:01:06.729Z"
   },
   {
    "duration": 4,
    "start_time": "2022-04-08T22:02:27.316Z"
   },
   {
    "duration": 7,
    "start_time": "2022-04-08T22:02:28.059Z"
   },
   {
    "duration": 6,
    "start_time": "2022-04-08T22:02:28.730Z"
   },
   {
    "duration": 5,
    "start_time": "2022-04-08T22:02:29.382Z"
   },
   {
    "duration": 6,
    "start_time": "2022-04-08T22:02:32.997Z"
   },
   {
    "duration": 6,
    "start_time": "2022-04-08T22:02:33.789Z"
   },
   {
    "duration": 6,
    "start_time": "2022-04-08T22:02:34.450Z"
   },
   {
    "duration": 6,
    "start_time": "2022-04-08T22:02:46.403Z"
   },
   {
    "duration": 6,
    "start_time": "2022-04-08T22:02:47.135Z"
   },
   {
    "duration": 6,
    "start_time": "2022-04-08T22:02:48.036Z"
   },
   {
    "duration": 3,
    "start_time": "2022-04-08T22:02:54.123Z"
   },
   {
    "duration": 8,
    "start_time": "2022-04-08T22:02:54.128Z"
   },
   {
    "duration": 229,
    "start_time": "2022-04-08T22:02:54.138Z"
   },
   {
    "duration": 228,
    "start_time": "2022-04-08T22:02:54.369Z"
   },
   {
    "duration": 249,
    "start_time": "2022-04-08T22:02:54.599Z"
   },
   {
    "duration": 10,
    "start_time": "2022-04-08T22:02:54.849Z"
   },
   {
    "duration": 7,
    "start_time": "2022-04-08T22:02:54.861Z"
   },
   {
    "duration": 378,
    "start_time": "2022-04-08T22:02:54.869Z"
   },
   {
    "duration": 84,
    "start_time": "2022-04-08T22:02:55.250Z"
   },
   {
    "duration": 101,
    "start_time": "2022-04-08T22:02:55.337Z"
   },
   {
    "duration": 10,
    "start_time": "2022-04-08T22:02:55.440Z"
   },
   {
    "duration": 12,
    "start_time": "2022-04-08T22:02:55.452Z"
   },
   {
    "duration": 11,
    "start_time": "2022-04-08T22:02:55.466Z"
   },
   {
    "duration": 6,
    "start_time": "2022-04-08T22:02:55.479Z"
   },
   {
    "duration": 4,
    "start_time": "2022-04-08T22:09:03.320Z"
   },
   {
    "duration": 15,
    "start_time": "2022-04-08T22:09:04.501Z"
   },
   {
    "duration": 4,
    "start_time": "2022-04-08T22:09:09.753Z"
   },
   {
    "duration": 6,
    "start_time": "2022-04-08T22:09:10.470Z"
   },
   {
    "duration": 4,
    "start_time": "2022-04-08T22:12:40.868Z"
   },
   {
    "duration": 6,
    "start_time": "2022-04-08T22:12:41.800Z"
   },
   {
    "duration": 6,
    "start_time": "2022-04-08T22:12:42.929Z"
   },
   {
    "duration": 6,
    "start_time": "2022-04-08T22:12:43.711Z"
   },
   {
    "duration": 4,
    "start_time": "2022-04-08T22:14:31.843Z"
   },
   {
    "duration": 7,
    "start_time": "2022-04-08T22:14:32.640Z"
   },
   {
    "duration": 7,
    "start_time": "2022-04-08T22:14:33.373Z"
   },
   {
    "duration": 7,
    "start_time": "2022-04-08T22:14:34.105Z"
   },
   {
    "duration": 5,
    "start_time": "2022-04-08T22:20:15.451Z"
   },
   {
    "duration": 8,
    "start_time": "2022-04-08T22:20:16.449Z"
   },
   {
    "duration": 4,
    "start_time": "2022-04-08T22:20:22.701Z"
   },
   {
    "duration": 6,
    "start_time": "2022-04-08T22:20:23.433Z"
   },
   {
    "duration": 6,
    "start_time": "2022-04-08T22:20:24.620Z"
   },
   {
    "duration": 6,
    "start_time": "2022-04-08T22:20:25.235Z"
   },
   {
    "duration": 7,
    "start_time": "2022-04-08T22:20:29.116Z"
   },
   {
    "duration": 6,
    "start_time": "2022-04-08T22:20:29.785Z"
   },
   {
    "duration": 8,
    "start_time": "2022-04-08T22:20:30.534Z"
   },
   {
    "duration": 7,
    "start_time": "2022-04-08T22:20:33.836Z"
   },
   {
    "duration": 8,
    "start_time": "2022-04-08T22:20:34.419Z"
   },
   {
    "duration": 7,
    "start_time": "2022-04-08T22:20:35.042Z"
   },
   {
    "duration": 7,
    "start_time": "2022-04-08T22:24:57.659Z"
   },
   {
    "duration": 8,
    "start_time": "2022-04-08T22:24:58.376Z"
   },
   {
    "duration": 8,
    "start_time": "2022-04-08T22:24:59.061Z"
   },
   {
    "duration": 7,
    "start_time": "2022-04-08T22:25:03.244Z"
   },
   {
    "duration": 8,
    "start_time": "2022-04-08T22:25:03.860Z"
   },
   {
    "duration": 7,
    "start_time": "2022-04-08T22:25:04.644Z"
   },
   {
    "duration": 7,
    "start_time": "2022-04-08T22:25:08.129Z"
   },
   {
    "duration": 7,
    "start_time": "2022-04-08T22:25:08.630Z"
   },
   {
    "duration": 7,
    "start_time": "2022-04-08T22:25:09.313Z"
   },
   {
    "duration": 5,
    "start_time": "2022-04-08T22:26:32.481Z"
   },
   {
    "duration": 6,
    "start_time": "2022-04-08T22:26:33.498Z"
   },
   {
    "duration": 7,
    "start_time": "2022-04-08T22:26:34.131Z"
   },
   {
    "duration": 7,
    "start_time": "2022-04-08T22:26:34.698Z"
   },
   {
    "duration": 6,
    "start_time": "2022-04-08T22:26:37.665Z"
   },
   {
    "duration": 6,
    "start_time": "2022-04-08T22:26:38.331Z"
   },
   {
    "duration": 7,
    "start_time": "2022-04-08T22:26:38.915Z"
   },
   {
    "duration": 5,
    "start_time": "2022-04-08T22:35:44.720Z"
   },
   {
    "duration": 5,
    "start_time": "2022-04-08T22:38:56.613Z"
   },
   {
    "duration": 734,
    "start_time": "2022-04-08T22:39:39.239Z"
   },
   {
    "duration": 742,
    "start_time": "2022-04-08T22:40:05.907Z"
   },
   {
    "duration": 727,
    "start_time": "2022-04-08T22:40:06.991Z"
   },
   {
    "duration": 731,
    "start_time": "2022-04-08T22:40:11.179Z"
   },
   {
    "duration": 723,
    "start_time": "2022-04-08T22:40:12.908Z"
   },
   {
    "duration": 739,
    "start_time": "2022-04-08T22:40:14.329Z"
   },
   {
    "duration": 4,
    "start_time": "2022-04-08T22:41:23.742Z"
   },
   {
    "duration": 730,
    "start_time": "2022-04-08T22:41:24.541Z"
   },
   {
    "duration": 736,
    "start_time": "2022-04-08T22:41:25.273Z"
   },
   {
    "duration": 743,
    "start_time": "2022-04-08T22:41:26.343Z"
   },
   {
    "duration": 744,
    "start_time": "2022-04-08T22:41:29.361Z"
   },
   {
    "duration": 735,
    "start_time": "2022-04-08T22:41:30.478Z"
   },
   {
    "duration": 725,
    "start_time": "2022-04-08T22:41:31.770Z"
   },
   {
    "duration": 5,
    "start_time": "2022-04-08T22:54:25.784Z"
   },
   {
    "duration": 13,
    "start_time": "2022-04-08T22:54:26.460Z"
   },
   {
    "duration": 5,
    "start_time": "2022-04-08T22:55:33.834Z"
   },
   {
    "duration": 17,
    "start_time": "2022-04-08T22:55:34.809Z"
   },
   {
    "duration": 4,
    "start_time": "2022-04-08T22:56:13.069Z"
   },
   {
    "duration": 6,
    "start_time": "2022-04-08T22:56:20.353Z"
   },
   {
    "duration": 18,
    "start_time": "2022-04-08T22:56:21.007Z"
   },
   {
    "duration": 6,
    "start_time": "2022-04-08T22:56:39.321Z"
   },
   {
    "duration": 891,
    "start_time": "2022-04-08T22:56:40.026Z"
   },
   {
    "duration": 883,
    "start_time": "2022-04-08T22:56:47.213Z"
   },
   {
    "duration": 5,
    "start_time": "2022-04-08T22:58:56.889Z"
   },
   {
    "duration": 935,
    "start_time": "2022-04-08T22:58:57.670Z"
   },
   {
    "duration": 6,
    "start_time": "2022-04-08T23:01:49.244Z"
   },
   {
    "duration": 873,
    "start_time": "2022-04-08T23:01:50.360Z"
   },
   {
    "duration": 854,
    "start_time": "2022-04-08T23:01:53.693Z"
   },
   {
    "duration": 848,
    "start_time": "2022-04-08T23:01:56.010Z"
   },
   {
    "duration": 947,
    "start_time": "2022-04-08T23:02:02.035Z"
   },
   {
    "duration": 6,
    "start_time": "2022-04-08T23:02:27.101Z"
   },
   {
    "duration": 879,
    "start_time": "2022-04-08T23:02:28.252Z"
   },
   {
    "duration": 907,
    "start_time": "2022-04-08T23:02:29.786Z"
   },
   {
    "duration": 865,
    "start_time": "2022-04-08T23:02:31.369Z"
   },
   {
    "duration": 4,
    "start_time": "2022-04-08T23:03:11.283Z"
   },
   {
    "duration": 230,
    "start_time": "2022-04-08T23:03:12.242Z"
   },
   {
    "duration": 222,
    "start_time": "2022-04-08T23:03:15.159Z"
   },
   {
    "duration": 230,
    "start_time": "2022-04-08T23:03:16.844Z"
   },
   {
    "duration": 3,
    "start_time": "2022-04-08T23:03:50.823Z"
   },
   {
    "duration": 10,
    "start_time": "2022-04-08T23:03:50.829Z"
   },
   {
    "duration": 232,
    "start_time": "2022-04-08T23:03:50.842Z"
   },
   {
    "duration": 225,
    "start_time": "2022-04-08T23:03:51.076Z"
   },
   {
    "duration": 247,
    "start_time": "2022-04-08T23:03:51.304Z"
   },
   {
    "duration": 10,
    "start_time": "2022-04-08T23:03:51.553Z"
   },
   {
    "duration": 11,
    "start_time": "2022-04-08T23:03:51.564Z"
   },
   {
    "duration": 369,
    "start_time": "2022-04-08T23:03:51.576Z"
   },
   {
    "duration": 86,
    "start_time": "2022-04-08T23:03:51.947Z"
   },
   {
    "duration": 98,
    "start_time": "2022-04-08T23:03:52.036Z"
   },
   {
    "duration": 5,
    "start_time": "2022-04-08T23:03:52.137Z"
   },
   {
    "duration": 10,
    "start_time": "2022-04-08T23:03:52.143Z"
   },
   {
    "duration": 6,
    "start_time": "2022-04-08T23:03:52.155Z"
   },
   {
    "duration": 8,
    "start_time": "2022-04-08T23:03:52.163Z"
   },
   {
    "duration": 6,
    "start_time": "2022-04-08T23:03:52.173Z"
   },
   {
    "duration": 929,
    "start_time": "2022-04-08T23:03:52.181Z"
   },
   {
    "duration": 978,
    "start_time": "2022-04-08T23:03:53.111Z"
   },
   {
    "duration": 881,
    "start_time": "2022-04-08T23:03:54.091Z"
   },
   {
    "duration": 5,
    "start_time": "2022-04-08T23:04:13.223Z"
   },
   {
    "duration": 6,
    "start_time": "2022-04-08T23:04:14.305Z"
   },
   {
    "duration": 6,
    "start_time": "2022-04-08T23:04:15.007Z"
   },
   {
    "duration": 1442,
    "start_time": "2022-04-08T23:04:34.925Z"
   },
   {
    "duration": 4,
    "start_time": "2022-04-08T23:04:36.369Z"
   },
   {
    "duration": 262,
    "start_time": "2022-04-08T23:04:36.374Z"
   },
   {
    "duration": 238,
    "start_time": "2022-04-08T23:04:36.638Z"
   },
   {
    "duration": 237,
    "start_time": "2022-04-08T23:04:36.878Z"
   },
   {
    "duration": 22,
    "start_time": "2022-04-08T23:04:37.117Z"
   },
   {
    "duration": 9,
    "start_time": "2022-04-08T23:04:37.141Z"
   },
   {
    "duration": 397,
    "start_time": "2022-04-08T23:04:37.152Z"
   },
   {
    "duration": 89,
    "start_time": "2022-04-08T23:04:37.551Z"
   },
   {
    "duration": 13,
    "start_time": "2022-04-08T23:04:37.733Z"
   },
   {
    "duration": 20,
    "start_time": "2022-04-08T23:04:37.748Z"
   },
   {
    "duration": 117,
    "start_time": "2022-04-08T23:04:37.770Z"
   },
   {
    "duration": 1,
    "start_time": "2022-04-08T23:04:37.888Z"
   },
   {
    "duration": 0,
    "start_time": "2022-04-08T23:04:37.890Z"
   },
   {
    "duration": 0,
    "start_time": "2022-04-08T23:04:37.891Z"
   },
   {
    "duration": 0,
    "start_time": "2022-04-08T23:04:37.892Z"
   },
   {
    "duration": 0,
    "start_time": "2022-04-08T23:04:37.893Z"
   },
   {
    "duration": 0,
    "start_time": "2022-04-08T23:04:37.894Z"
   },
   {
    "duration": 6,
    "start_time": "2022-04-08T23:04:45.440Z"
   },
   {
    "duration": 895,
    "start_time": "2022-04-08T23:04:46.205Z"
   },
   {
    "duration": 887,
    "start_time": "2022-04-08T23:04:47.103Z"
   },
   {
    "duration": 887,
    "start_time": "2022-04-08T23:04:47.992Z"
   },
   {
    "duration": 859,
    "start_time": "2022-04-08T23:04:53.680Z"
   },
   {
    "duration": 7,
    "start_time": "2022-04-08T23:06:01.227Z"
   },
   {
    "duration": 905,
    "start_time": "2022-04-08T23:06:02.402Z"
   },
   {
    "duration": 895,
    "start_time": "2022-04-08T23:06:03.310Z"
   },
   {
    "duration": 982,
    "start_time": "2022-04-08T23:06:04.207Z"
   },
   {
    "duration": 7,
    "start_time": "2022-04-08T23:06:47.066Z"
   },
   {
    "duration": 889,
    "start_time": "2022-04-08T23:06:49.531Z"
   },
   {
    "duration": 892,
    "start_time": "2022-04-08T23:06:50.422Z"
   },
   {
    "duration": 904,
    "start_time": "2022-04-08T23:06:51.316Z"
   },
   {
    "duration": 6,
    "start_time": "2022-04-08T23:11:59.613Z"
   },
   {
    "duration": 6,
    "start_time": "2022-04-08T23:12:56.581Z"
   },
   {
    "duration": 868,
    "start_time": "2022-04-08T23:12:57.314Z"
   },
   {
    "duration": 7,
    "start_time": "2022-04-08T23:13:18.118Z"
   },
   {
    "duration": 874,
    "start_time": "2022-04-08T23:13:18.799Z"
   },
   {
    "duration": 881,
    "start_time": "2022-04-08T23:13:19.803Z"
   },
   {
    "duration": 872,
    "start_time": "2022-04-08T23:13:20.967Z"
   },
   {
    "duration": 7,
    "start_time": "2022-04-08T23:14:08.331Z"
   },
   {
    "duration": 6,
    "start_time": "2022-04-08T23:14:21.832Z"
   },
   {
    "duration": 6,
    "start_time": "2022-04-08T23:14:28.684Z"
   },
   {
    "duration": 7,
    "start_time": "2022-04-08T23:14:37.787Z"
   },
   {
    "duration": 900,
    "start_time": "2022-04-08T23:14:39.169Z"
   },
   {
    "duration": 10,
    "start_time": "2022-04-08T23:14:49.755Z"
   },
   {
    "duration": 960,
    "start_time": "2022-04-08T23:14:51.071Z"
   },
   {
    "duration": 917,
    "start_time": "2022-04-08T23:14:52.573Z"
   },
   {
    "duration": 1002,
    "start_time": "2022-04-08T23:14:53.622Z"
   },
   {
    "duration": 6,
    "start_time": "2022-04-08T23:16:34.579Z"
   },
   {
    "duration": 132,
    "start_time": "2022-04-08T23:16:59.535Z"
   },
   {
    "duration": 148,
    "start_time": "2022-04-08T23:17:10.387Z"
   },
   {
    "duration": 215,
    "start_time": "2022-04-08T23:17:30.412Z"
   },
   {
    "duration": 6,
    "start_time": "2022-04-08T23:17:41.114Z"
   },
   {
    "duration": 148,
    "start_time": "2022-04-08T23:17:55.651Z"
   },
   {
    "duration": 7,
    "start_time": "2022-04-08T23:18:01.884Z"
   },
   {
    "duration": 7,
    "start_time": "2022-04-08T23:19:42.587Z"
   },
   {
    "duration": 7,
    "start_time": "2022-04-08T23:20:04.011Z"
   },
   {
    "duration": 913,
    "start_time": "2022-04-08T23:20:05.072Z"
   },
   {
    "duration": 7,
    "start_time": "2022-04-08T23:20:22.697Z"
   },
   {
    "duration": 869,
    "start_time": "2022-04-08T23:20:23.564Z"
   },
   {
    "duration": 7,
    "start_time": "2022-04-08T23:20:35.285Z"
   },
   {
    "duration": 881,
    "start_time": "2022-04-08T23:20:36.164Z"
   },
   {
    "duration": 6,
    "start_time": "2022-04-08T23:21:07.171Z"
   },
   {
    "duration": 846,
    "start_time": "2022-04-08T23:21:08.020Z"
   },
   {
    "duration": 7,
    "start_time": "2022-04-08T23:21:53.180Z"
   },
   {
    "duration": 873,
    "start_time": "2022-04-08T23:21:54.012Z"
   },
   {
    "duration": 7,
    "start_time": "2022-04-08T23:22:22.136Z"
   },
   {
    "duration": 869,
    "start_time": "2022-04-08T23:22:23.244Z"
   },
   {
    "duration": 7,
    "start_time": "2022-04-08T23:22:35.276Z"
   },
   {
    "duration": 877,
    "start_time": "2022-04-08T23:22:35.905Z"
   },
   {
    "duration": 881,
    "start_time": "2022-04-08T23:22:37.129Z"
   },
   {
    "duration": 886,
    "start_time": "2022-04-08T23:22:38.045Z"
   },
   {
    "duration": 6,
    "start_time": "2022-04-08T23:23:02.719Z"
   },
   {
    "duration": 882,
    "start_time": "2022-04-08T23:23:03.577Z"
   },
   {
    "duration": 1001,
    "start_time": "2022-04-08T23:23:04.462Z"
   },
   {
    "duration": 914,
    "start_time": "2022-04-08T23:23:05.466Z"
   },
   {
    "duration": 7,
    "start_time": "2022-04-08T23:23:24.585Z"
   },
   {
    "duration": 875,
    "start_time": "2022-04-08T23:23:25.560Z"
   },
   {
    "duration": 882,
    "start_time": "2022-04-08T23:23:26.437Z"
   },
   {
    "duration": 888,
    "start_time": "2022-04-08T23:23:27.321Z"
   },
   {
    "duration": 10,
    "start_time": "2022-04-08T23:26:15.287Z"
   },
   {
    "duration": 869,
    "start_time": "2022-04-08T23:26:16.386Z"
   },
   {
    "duration": 880,
    "start_time": "2022-04-08T23:26:17.257Z"
   },
   {
    "duration": 873,
    "start_time": "2022-04-08T23:26:18.139Z"
   },
   {
    "duration": 6,
    "start_time": "2022-04-08T23:26:27.108Z"
   },
   {
    "duration": 867,
    "start_time": "2022-04-08T23:26:27.604Z"
   },
   {
    "duration": 897,
    "start_time": "2022-04-08T23:26:28.474Z"
   },
   {
    "duration": 918,
    "start_time": "2022-04-08T23:26:29.373Z"
   },
   {
    "duration": 957,
    "start_time": "2022-04-08T23:26:39.509Z"
   },
   {
    "duration": 889,
    "start_time": "2022-04-08T23:26:44.558Z"
   },
   {
    "duration": 905,
    "start_time": "2022-04-08T23:26:49.260Z"
   },
   {
    "duration": 7,
    "start_time": "2022-04-08T23:27:39.021Z"
   },
   {
    "duration": 749,
    "start_time": "2022-04-08T23:27:40.488Z"
   },
   {
    "duration": 7,
    "start_time": "2022-04-08T23:27:52.027Z"
   },
   {
    "duration": 755,
    "start_time": "2022-04-08T23:27:52.708Z"
   },
   {
    "duration": 7,
    "start_time": "2022-04-08T23:28:00.342Z"
   },
   {
    "duration": 891,
    "start_time": "2022-04-08T23:28:01.050Z"
   },
   {
    "duration": 7,
    "start_time": "2022-04-08T23:29:56.707Z"
   },
   {
    "duration": 848,
    "start_time": "2022-04-08T23:29:57.450Z"
   },
   {
    "duration": 8,
    "start_time": "2022-04-08T23:31:10.434Z"
   },
   {
    "duration": 891,
    "start_time": "2022-04-08T23:31:13.387Z"
   },
   {
    "duration": 903,
    "start_time": "2022-04-08T23:31:14.281Z"
   },
   {
    "duration": 901,
    "start_time": "2022-04-08T23:31:15.186Z"
   },
   {
    "duration": 7,
    "start_time": "2022-04-08T23:33:23.597Z"
   },
   {
    "duration": 873,
    "start_time": "2022-04-08T23:33:26.395Z"
   },
   {
    "duration": 7,
    "start_time": "2022-04-08T23:34:21.428Z"
   },
   {
    "duration": 882,
    "start_time": "2022-04-08T23:34:24.176Z"
   },
   {
    "duration": 8,
    "start_time": "2022-04-08T23:34:46.773Z"
   },
   {
    "duration": 887,
    "start_time": "2022-04-08T23:34:48.297Z"
   },
   {
    "duration": 7,
    "start_time": "2022-04-08T23:35:00.335Z"
   },
   {
    "duration": 961,
    "start_time": "2022-04-08T23:35:03.068Z"
   },
   {
    "duration": 7,
    "start_time": "2022-04-08T23:35:20.140Z"
   },
   {
    "duration": 7,
    "start_time": "2022-04-08T23:35:41.953Z"
   },
   {
    "duration": 876,
    "start_time": "2022-04-08T23:35:43.091Z"
   },
   {
    "duration": 891,
    "start_time": "2022-04-08T23:35:49.760Z"
   },
   {
    "duration": 894,
    "start_time": "2022-04-08T23:35:50.653Z"
   },
   {
    "duration": 6,
    "start_time": "2022-04-08T23:37:43.821Z"
   },
   {
    "duration": 890,
    "start_time": "2022-04-08T23:37:44.652Z"
   },
   {
    "duration": 913,
    "start_time": "2022-04-08T23:37:45.544Z"
   },
   {
    "duration": 908,
    "start_time": "2022-04-08T23:37:46.459Z"
   },
   {
    "duration": 4,
    "start_time": "2022-04-08T23:42:19.496Z"
   },
   {
    "duration": 5,
    "start_time": "2022-04-08T23:43:27.295Z"
   },
   {
    "duration": 5,
    "start_time": "2022-04-08T23:43:28.178Z"
   },
   {
    "duration": 6,
    "start_time": "2022-04-08T23:43:28.961Z"
   },
   {
    "duration": 869,
    "start_time": "2022-04-08T23:44:50.413Z"
   },
   {
    "duration": 5,
    "start_time": "2022-04-08T23:44:53.079Z"
   },
   {
    "duration": 14,
    "start_time": "2022-04-08T23:44:53.846Z"
   },
   {
    "duration": 5,
    "start_time": "2022-04-08T23:45:55.028Z"
   },
   {
    "duration": 12,
    "start_time": "2022-04-08T23:45:57.159Z"
   },
   {
    "duration": 3,
    "start_time": "2022-04-08T23:46:12.297Z"
   },
   {
    "duration": 5,
    "start_time": "2022-04-08T23:46:13.096Z"
   },
   {
    "duration": 6,
    "start_time": "2022-04-08T23:46:13.812Z"
   },
   {
    "duration": 5,
    "start_time": "2022-04-08T23:46:14.497Z"
   },
   {
    "duration": 5,
    "start_time": "2022-04-08T23:46:15.447Z"
   },
   {
    "duration": 883,
    "start_time": "2022-04-08T23:46:16.279Z"
   },
   {
    "duration": 876,
    "start_time": "2022-04-08T23:46:19.917Z"
   },
   {
    "duration": 888,
    "start_time": "2022-04-08T23:46:21.032Z"
   },
   {
    "duration": 5,
    "start_time": "2022-04-08T23:47:44.818Z"
   },
   {
    "duration": 978,
    "start_time": "2022-04-08T23:47:48.156Z"
   },
   {
    "duration": 6,
    "start_time": "2022-04-08T23:50:00.414Z"
   },
   {
    "duration": 962,
    "start_time": "2022-04-08T23:50:01.231Z"
   },
   {
    "duration": 918,
    "start_time": "2022-04-08T23:50:02.195Z"
   },
   {
    "duration": 885,
    "start_time": "2022-04-08T23:50:03.115Z"
   },
   {
    "duration": 4,
    "start_time": "2022-04-08T23:57:51.365Z"
   },
   {
    "duration": 5,
    "start_time": "2022-04-08T23:57:51.915Z"
   },
   {
    "duration": 5,
    "start_time": "2022-04-08T23:57:53.049Z"
   },
   {
    "duration": 5,
    "start_time": "2022-04-08T23:57:53.878Z"
   },
   {
    "duration": 4,
    "start_time": "2022-04-08T23:58:03.718Z"
   },
   {
    "duration": 5,
    "start_time": "2022-04-08T23:58:04.167Z"
   },
   {
    "duration": 5,
    "start_time": "2022-04-08T23:58:04.718Z"
   },
   {
    "duration": 4,
    "start_time": "2022-04-08T23:58:05.351Z"
   },
   {
    "duration": 4,
    "start_time": "2022-04-08T23:58:42.928Z"
   },
   {
    "duration": 6,
    "start_time": "2022-04-08T23:58:43.357Z"
   },
   {
    "duration": 5,
    "start_time": "2022-04-08T23:58:44.043Z"
   },
   {
    "duration": 5,
    "start_time": "2022-04-08T23:58:44.478Z"
   },
   {
    "duration": 6,
    "start_time": "2022-04-08T23:58:46.560Z"
   },
   {
    "duration": 5,
    "start_time": "2022-04-08T23:59:43.274Z"
   },
   {
    "duration": 15,
    "start_time": "2022-04-08T23:59:43.908Z"
   },
   {
    "duration": 14,
    "start_time": "2022-04-08T23:59:44.522Z"
   },
   {
    "duration": 15,
    "start_time": "2022-04-08T23:59:45.172Z"
   },
   {
    "duration": 5,
    "start_time": "2022-04-09T00:00:34.769Z"
   },
   {
    "duration": 16,
    "start_time": "2022-04-09T00:00:36.351Z"
   },
   {
    "duration": 5,
    "start_time": "2022-04-09T00:00:53.323Z"
   },
   {
    "duration": 1472,
    "start_time": "2022-04-09T00:00:54.304Z"
   },
   {
    "duration": 4,
    "start_time": "2022-04-09T00:01:37.466Z"
   },
   {
    "duration": 7,
    "start_time": "2022-04-09T00:01:38.863Z"
   },
   {
    "duration": 12,
    "start_time": "2022-04-09T00:01:48.988Z"
   },
   {
    "duration": 7,
    "start_time": "2022-04-09T00:01:49.584Z"
   },
   {
    "duration": 8,
    "start_time": "2022-04-09T00:01:51.582Z"
   },
   {
    "duration": 1452,
    "start_time": "2022-04-09T00:01:53.683Z"
   },
   {
    "duration": 4,
    "start_time": "2022-04-09T00:04:30.320Z"
   },
   {
    "duration": 8,
    "start_time": "2022-04-09T00:04:31.115Z"
   },
   {
    "duration": 6,
    "start_time": "2022-04-09T00:04:32.102Z"
   },
   {
    "duration": 7,
    "start_time": "2022-04-09T00:04:32.805Z"
   },
   {
    "duration": 5,
    "start_time": "2022-04-09T00:04:33.835Z"
   },
   {
    "duration": 1604,
    "start_time": "2022-04-09T00:04:34.555Z"
   },
   {
    "duration": 4,
    "start_time": "2022-04-09T00:07:43.594Z"
   },
   {
    "duration": 6,
    "start_time": "2022-04-09T00:07:44.261Z"
   },
   {
    "duration": 6,
    "start_time": "2022-04-09T00:07:45.069Z"
   },
   {
    "duration": 6,
    "start_time": "2022-04-09T00:07:46.927Z"
   },
   {
    "duration": 6,
    "start_time": "2022-04-09T00:08:04.526Z"
   },
   {
    "duration": 1061,
    "start_time": "2022-04-09T00:08:05.332Z"
   },
   {
    "duration": 5,
    "start_time": "2022-04-09T00:08:14.537Z"
   },
   {
    "duration": 7,
    "start_time": "2022-04-09T00:08:15.232Z"
   },
   {
    "duration": 6,
    "start_time": "2022-04-09T00:08:15.966Z"
   },
   {
    "duration": 6,
    "start_time": "2022-04-09T00:08:16.733Z"
   },
   {
    "duration": 6,
    "start_time": "2022-04-09T00:08:18.117Z"
   },
   {
    "duration": 633,
    "start_time": "2022-04-09T00:08:18.983Z"
   },
   {
    "duration": 637,
    "start_time": "2022-04-09T00:08:19.982Z"
   },
   {
    "duration": 639,
    "start_time": "2022-04-09T00:08:20.933Z"
   },
   {
    "duration": 6,
    "start_time": "2022-04-09T00:09:04.182Z"
   },
   {
    "duration": 789,
    "start_time": "2022-04-09T00:09:04.660Z"
   },
   {
    "duration": 796,
    "start_time": "2022-04-09T00:09:05.451Z"
   },
   {
    "duration": 779,
    "start_time": "2022-04-09T00:09:06.249Z"
   },
   {
    "duration": 1452,
    "start_time": "2022-04-09T00:24:47.238Z"
   },
   {
    "duration": 4,
    "start_time": "2022-04-09T00:24:48.692Z"
   },
   {
    "duration": 280,
    "start_time": "2022-04-09T00:24:48.698Z"
   },
   {
    "duration": 236,
    "start_time": "2022-04-09T00:24:48.980Z"
   },
   {
    "duration": 257,
    "start_time": "2022-04-09T00:24:49.232Z"
   },
   {
    "duration": 11,
    "start_time": "2022-04-09T00:24:49.491Z"
   },
   {
    "duration": 28,
    "start_time": "2022-04-09T00:24:49.504Z"
   },
   {
    "duration": 410,
    "start_time": "2022-04-09T00:24:49.534Z"
   },
   {
    "duration": 91,
    "start_time": "2022-04-09T00:24:49.946Z"
   },
   {
    "duration": 102,
    "start_time": "2022-04-09T00:24:50.041Z"
   },
   {
    "duration": 20,
    "start_time": "2022-04-09T00:24:50.145Z"
   },
   {
    "duration": 124,
    "start_time": "2022-04-09T00:24:50.167Z"
   },
   {
    "duration": 0,
    "start_time": "2022-04-09T00:24:50.293Z"
   },
   {
    "duration": 0,
    "start_time": "2022-04-09T00:24:50.294Z"
   },
   {
    "duration": 0,
    "start_time": "2022-04-09T00:24:50.295Z"
   },
   {
    "duration": 0,
    "start_time": "2022-04-09T00:24:50.296Z"
   },
   {
    "duration": 0,
    "start_time": "2022-04-09T00:24:50.297Z"
   },
   {
    "duration": 0,
    "start_time": "2022-04-09T00:24:50.298Z"
   },
   {
    "duration": 5,
    "start_time": "2022-04-09T00:25:42.513Z"
   },
   {
    "duration": 1524,
    "start_time": "2022-04-09T00:25:49.823Z"
   },
   {
    "duration": 4,
    "start_time": "2022-04-09T00:25:51.349Z"
   },
   {
    "duration": 258,
    "start_time": "2022-04-09T00:25:51.354Z"
   },
   {
    "duration": 239,
    "start_time": "2022-04-09T00:25:51.614Z"
   },
   {
    "duration": 234,
    "start_time": "2022-04-09T00:25:51.855Z"
   },
   {
    "duration": 19,
    "start_time": "2022-04-09T00:25:52.091Z"
   },
   {
    "duration": 24,
    "start_time": "2022-04-09T00:25:52.112Z"
   },
   {
    "duration": 412,
    "start_time": "2022-04-09T00:25:52.138Z"
   },
   {
    "duration": 83,
    "start_time": "2022-04-09T00:25:52.552Z"
   },
   {
    "duration": 99,
    "start_time": "2022-04-09T00:25:52.639Z"
   },
   {
    "duration": 9,
    "start_time": "2022-04-09T00:25:52.740Z"
   },
   {
    "duration": 11,
    "start_time": "2022-04-09T00:25:52.751Z"
   },
   {
    "duration": 8,
    "start_time": "2022-04-09T00:25:52.764Z"
   },
   {
    "duration": 7,
    "start_time": "2022-04-09T00:25:52.775Z"
   },
   {
    "duration": 6,
    "start_time": "2022-04-09T00:25:52.784Z"
   },
   {
    "duration": 818,
    "start_time": "2022-04-09T00:25:52.792Z"
   },
   {
    "duration": 764,
    "start_time": "2022-04-09T00:25:53.611Z"
   },
   {
    "duration": 786,
    "start_time": "2022-04-09T00:25:54.377Z"
   },
   {
    "duration": 3,
    "start_time": "2022-04-09T00:27:34.666Z"
   },
   {
    "duration": 7,
    "start_time": "2022-04-09T00:27:34.671Z"
   },
   {
    "duration": 258,
    "start_time": "2022-04-09T00:27:34.680Z"
   },
   {
    "duration": 234,
    "start_time": "2022-04-09T00:27:34.940Z"
   },
   {
    "duration": 257,
    "start_time": "2022-04-09T00:27:35.176Z"
   },
   {
    "duration": 10,
    "start_time": "2022-04-09T00:27:35.435Z"
   },
   {
    "duration": 7,
    "start_time": "2022-04-09T00:27:35.447Z"
   },
   {
    "duration": 384,
    "start_time": "2022-04-09T00:27:35.455Z"
   },
   {
    "duration": 97,
    "start_time": "2022-04-09T00:27:35.842Z"
   },
   {
    "duration": 11,
    "start_time": "2022-04-09T00:27:36.032Z"
   },
   {
    "duration": 15,
    "start_time": "2022-04-09T00:27:36.045Z"
   },
   {
    "duration": 13,
    "start_time": "2022-04-09T00:27:36.062Z"
   },
   {
    "duration": 7,
    "start_time": "2022-04-09T00:27:36.077Z"
   },
   {
    "duration": 8,
    "start_time": "2022-04-09T00:27:36.086Z"
   },
   {
    "duration": 7,
    "start_time": "2022-04-09T00:27:36.096Z"
   },
   {
    "duration": 799,
    "start_time": "2022-04-09T00:27:36.105Z"
   },
   {
    "duration": 768,
    "start_time": "2022-04-09T00:27:36.906Z"
   },
   {
    "duration": 799,
    "start_time": "2022-04-09T00:27:37.676Z"
   },
   {
    "duration": 843,
    "start_time": "2022-04-09T00:27:44.305Z"
   },
   {
    "duration": 766,
    "start_time": "2022-04-09T00:27:48.491Z"
   },
   {
    "duration": 53947,
    "start_time": "2022-04-09T09:00:11.953Z"
   },
   {
    "duration": 5,
    "start_time": "2022-04-09T09:01:05.902Z"
   },
   {
    "duration": 309,
    "start_time": "2022-04-09T09:01:05.908Z"
   },
   {
    "duration": 254,
    "start_time": "2022-04-09T09:01:06.219Z"
   },
   {
    "duration": 243,
    "start_time": "2022-04-09T09:01:06.475Z"
   },
   {
    "duration": 31,
    "start_time": "2022-04-09T09:01:06.719Z"
   },
   {
    "duration": 5,
    "start_time": "2022-04-09T09:01:46.688Z"
   },
   {
    "duration": 415,
    "start_time": "2022-04-09T09:01:47.339Z"
   },
   {
    "duration": 5,
    "start_time": "2022-04-09T09:02:53.227Z"
   },
   {
    "duration": 6,
    "start_time": "2022-04-09T09:03:23.552Z"
   },
   {
    "duration": 6,
    "start_time": "2022-04-09T09:03:25.171Z"
   },
   {
    "duration": 8,
    "start_time": "2022-04-09T09:03:31.480Z"
   },
   {
    "duration": 7,
    "start_time": "2022-04-09T09:03:37.809Z"
   },
   {
    "duration": 7,
    "start_time": "2022-04-09T09:03:38.228Z"
   },
   {
    "duration": 6,
    "start_time": "2022-04-09T09:03:38.712Z"
   },
   {
    "duration": 722,
    "start_time": "2022-04-09T09:03:39.109Z"
   },
   {
    "duration": 742,
    "start_time": "2022-04-09T09:03:39.833Z"
   },
   {
    "duration": 998,
    "start_time": "2022-04-09T09:03:40.577Z"
   },
   {
    "duration": 139,
    "start_time": "2022-04-09T09:43:50.546Z"
   },
   {
    "duration": 4,
    "start_time": "2022-04-09T09:44:44.220Z"
   },
   {
    "duration": 50,
    "start_time": "2022-04-09T09:44:45.014Z"
   },
   {
    "duration": 1647,
    "start_time": "2022-04-09T09:44:55.195Z"
   },
   {
    "duration": 4,
    "start_time": "2022-04-09T09:44:56.844Z"
   },
   {
    "duration": 254,
    "start_time": "2022-04-09T09:44:56.849Z"
   },
   {
    "duration": 233,
    "start_time": "2022-04-09T09:44:57.105Z"
   },
   {
    "duration": 233,
    "start_time": "2022-04-09T09:44:57.340Z"
   },
   {
    "duration": 10,
    "start_time": "2022-04-09T09:44:57.574Z"
   },
   {
    "duration": 10,
    "start_time": "2022-04-09T09:44:57.586Z"
   },
   {
    "duration": 445,
    "start_time": "2022-04-09T09:44:57.598Z"
   },
   {
    "duration": 89,
    "start_time": "2022-04-09T09:44:58.045Z"
   },
   {
    "duration": 104,
    "start_time": "2022-04-09T09:44:58.138Z"
   },
   {
    "duration": 8,
    "start_time": "2022-04-09T09:44:58.244Z"
   },
   {
    "duration": 8,
    "start_time": "2022-04-09T09:44:58.254Z"
   },
   {
    "duration": 9,
    "start_time": "2022-04-09T09:44:58.263Z"
   },
   {
    "duration": 6,
    "start_time": "2022-04-09T09:44:58.274Z"
   },
   {
    "duration": 6,
    "start_time": "2022-04-09T09:44:58.282Z"
   },
   {
    "duration": 779,
    "start_time": "2022-04-09T09:44:58.289Z"
   },
   {
    "duration": 883,
    "start_time": "2022-04-09T09:44:59.070Z"
   },
   {
    "duration": 1472,
    "start_time": "2022-04-09T09:44:59.955Z"
   }
  ],
  "kernelspec": {
   "display_name": "Python 3",
   "language": "python",
   "name": "python3"
  },
  "language_info": {
   "codemirror_mode": {
    "name": "ipython",
    "version": 3
   },
   "file_extension": ".py",
   "mimetype": "text/x-python",
   "name": "python",
   "nbconvert_exporter": "python",
   "pygments_lexer": "ipython3",
   "version": "3.8.8"
  },
  "toc": {
   "base_numbering": 1,
   "nav_menu": {},
   "number_sections": true,
   "sideBar": true,
   "skip_h1_title": true,
   "title_cell": "Table of Contents",
   "title_sidebar": "Contents",
   "toc_cell": false,
   "toc_position": {
    "height": "calc(100% - 180px)",
    "left": "10px",
    "top": "150px",
    "width": "165px"
   },
   "toc_section_display": true,
   "toc_window_display": true
  },
  "vscode": {
   "interpreter": {
    "hash": "aee8b7b246df8f9039afb4144a1f6fd8d2ca17a180786b69acc140d282b71a49"
   }
  }
 },
 "nbformat": 4,
 "nbformat_minor": 2
}
