{
  "cells": [
    {
      "cell_type": "markdown",
      "metadata": {
        "id": "3S27NN3SsUt7"
      },
      "source": [
        "# Проект для «Викишоп»"
      ]
    },
    {
      "cell_type": "markdown",
      "metadata": {
        "id": "KAzWCL5csUt_"
      },
      "source": [
        "Интернет-магазин «Викишоп» запускает новый сервис. Теперь пользователи могут редактировать и дополнять описания товаров, как в вики-сообществах. То есть клиенты предлагают свои правки и комментируют изменения других. Магазину нужен инструмент, который будет искать токсичные комментарии и отправлять их на модерацию. \n",
        "\n",
        "Обучите модель классифицировать комментарии на позитивные и негативные. В вашем распоряжении набор данных с разметкой о токсичности правок.\n",
        "\n",
        "Постройте модель со значением метрики качества *F1* не меньше 0.75. \n",
        "\n",
        "**Инструкция по выполнению проекта**\n",
        "\n",
        "1. Загрузите и подготовьте данные.\n",
        "2. Обучите разные модели. \n",
        "3. Сделайте выводы.\n",
        "\n",
        "Для выполнения проекта применять *BERT* необязательно, но вы можете попробовать.\n",
        "\n",
        "**Описание данных**\n",
        "\n",
        "Данные находятся в файле `toxic_comments.csv`. Столбец *text* в нём содержит текст комментария, а *toxic* — целевой признак."
      ]
    },
    {
      "cell_type": "markdown",
      "metadata": {
        "id": "OrQY84nlsUuA",
        "toc": true
      },
      "source": [
        "<h1>Содержание<span class=\"tocSkip\"></span></h1>\n",
        "<div class=\"toc\"><ul class=\"toc-item\"><li><span><a href=\"#Подготовка\" data-toc-modified-id=\"Подготовка-1\"><span class=\"toc-item-num\">1&nbsp;&nbsp;</span>Подготовка</a></span></li><li><span><a href=\"#Обучение\" data-toc-modified-id=\"Обучение-2\"><span class=\"toc-item-num\">2&nbsp;&nbsp;</span>Обучение</a></span></li><li><span><a href=\"#Выводы\" data-toc-modified-id=\"Выводы-3\"><span class=\"toc-item-num\">3&nbsp;&nbsp;</span>Выводы</a></span></li></ul></div>"
      ]
    },
    {
      "cell_type": "markdown",
      "metadata": {
        "id": "w5DBKRc9sUuA"
      },
      "source": [
        "## Подготовка"
      ]
    },
    {
      "cell_type": "code",
      "execution_count": null,
      "metadata": {
        "id": "FXfazjE_sUuA"
      },
      "outputs": [],
      "source": [
        "# Импортируем библиотеки\n",
        "\n",
        "import pandas as pd\n",
        "\n",
        "import numpy as np\n",
        "\n",
        "import seaborn as sns\n",
        "\n",
        "import re\n",
        "\n",
        "from nltk.corpus import stopwords \n",
        "\n",
        "import nltk\n",
        "\n",
        "from nltk.stem import WordNetLemmatizer\n",
        "\n",
        "from sklearn.model_selection import train_test_split, cross_val_score, GridSearchCV\n",
        "\n",
        "from sklearn.feature_extraction.text import TfidfVectorizer\n",
        "\n",
        "from sklearn.linear_model import LogisticRegression\n",
        "\n",
        "from sklearn.ensemble import RandomForestClassifier\n",
        "\n",
        "from sklearn.tree import DecisionTreeClassifier\n",
        "\n",
        "from sklearn.metrics import f1_score, confusion_matrix, classification_report\n",
        "\n",
        "from sklearn.dummy import DummyClassifier"
      ]
    },
    {
      "cell_type": "code",
      "execution_count": null,
      "metadata": {
        "id": "573JMnnZsUuB"
      },
      "outputs": [],
      "source": [
        "# прочитаем данные \n",
        "\n",
        "def data_reading(path):\n",
        "    data = pd.read_csv(path)\n",
        "    print(f'Информация о данных: \\n')\n",
        "    data.info()\n",
        "    print(f'\\nКоличество дубликатов: {data.duplicated().sum()} \\n')\n",
        "    print(f'\\nДоля дубликатов: {data.duplicated().mean()}\\n')\n",
        "    print(f'\\nКоличество пропусков:\\n\\\n",
        "{data.isna().sum()} \\n')\n",
        "    print(f'\\nДоля пропусков:\\n\\\n",
        "{data.isna().mean()} \\n')\n",
        "    print(f'Первые 5 строк датасета: \\n')\n",
        "    display(data.head(5))\n",
        "    return data"
      ]
    },
    {
      "cell_type": "code",
      "execution_count": null,
      "metadata": {
        "colab": {
          "base_uri": "https://localhost:8080/",
          "height": 796
        },
        "id": "fuESD-GOsUuB",
        "outputId": "42a15c03-cc90-4053-98b9-b60ab5ee8a0d"
      },
      "outputs": [
        {
          "name": "stdout",
          "output_type": "stream",
          "text": [
            "Информация о данных: \n",
            "\n",
            "<class 'pandas.core.frame.DataFrame'>\n",
            "RangeIndex: 159292 entries, 0 to 159291\n",
            "Data columns (total 3 columns):\n",
            " #   Column      Non-Null Count   Dtype \n",
            "---  ------      --------------   ----- \n",
            " 0   Unnamed: 0  159292 non-null  int64 \n",
            " 1   text        159292 non-null  object\n",
            " 2   toxic       159292 non-null  int64 \n",
            "dtypes: int64(2), object(1)\n",
            "memory usage: 3.6+ MB\n",
            "\n",
            "Количество дубликатов: 0 \n",
            "\n",
            "\n",
            "Доля дубликатов: 0.0\n",
            "\n",
            "\n",
            "Количество пропусков:\n",
            "Unnamed: 0    0\n",
            "text          0\n",
            "toxic         0\n",
            "dtype: int64 \n",
            "\n",
            "\n",
            "Доля пропусков:\n",
            "Unnamed: 0    0.0\n",
            "text          0.0\n",
            "toxic         0.0\n",
            "dtype: float64 \n",
            "\n",
            "Первые 5 строк датасета: \n",
            "\n"
          ]
        },
        {
          "data": {
            "text/html": [
              "\n",
              "  <div id=\"df-39b67f27-f9dc-49ce-ba03-cd7d4ce35e1c\">\n",
              "    <div class=\"colab-df-container\">\n",
              "      <div>\n",
              "<style scoped>\n",
              "    .dataframe tbody tr th:only-of-type {\n",
              "        vertical-align: middle;\n",
              "    }\n",
              "\n",
              "    .dataframe tbody tr th {\n",
              "        vertical-align: top;\n",
              "    }\n",
              "\n",
              "    .dataframe thead th {\n",
              "        text-align: right;\n",
              "    }\n",
              "</style>\n",
              "<table border=\"1\" class=\"dataframe\">\n",
              "  <thead>\n",
              "    <tr style=\"text-align: right;\">\n",
              "      <th></th>\n",
              "      <th>Unnamed: 0</th>\n",
              "      <th>text</th>\n",
              "      <th>toxic</th>\n",
              "    </tr>\n",
              "  </thead>\n",
              "  <tbody>\n",
              "    <tr>\n",
              "      <th>0</th>\n",
              "      <td>0</td>\n",
              "      <td>Explanation\\nWhy the edits made under my usern...</td>\n",
              "      <td>0</td>\n",
              "    </tr>\n",
              "    <tr>\n",
              "      <th>1</th>\n",
              "      <td>1</td>\n",
              "      <td>D'aww! He matches this background colour I'm s...</td>\n",
              "      <td>0</td>\n",
              "    </tr>\n",
              "    <tr>\n",
              "      <th>2</th>\n",
              "      <td>2</td>\n",
              "      <td>Hey man, I'm really not trying to edit war. It...</td>\n",
              "      <td>0</td>\n",
              "    </tr>\n",
              "    <tr>\n",
              "      <th>3</th>\n",
              "      <td>3</td>\n",
              "      <td>\"\\nMore\\nI can't make any real suggestions on ...</td>\n",
              "      <td>0</td>\n",
              "    </tr>\n",
              "    <tr>\n",
              "      <th>4</th>\n",
              "      <td>4</td>\n",
              "      <td>You, sir, are my hero. Any chance you remember...</td>\n",
              "      <td>0</td>\n",
              "    </tr>\n",
              "  </tbody>\n",
              "</table>\n",
              "</div>\n",
              "      <button class=\"colab-df-convert\" onclick=\"convertToInteractive('df-39b67f27-f9dc-49ce-ba03-cd7d4ce35e1c')\"\n",
              "              title=\"Convert this dataframe to an interactive table.\"\n",
              "              style=\"display:none;\">\n",
              "        \n",
              "  <svg xmlns=\"http://www.w3.org/2000/svg\" height=\"24px\"viewBox=\"0 0 24 24\"\n",
              "       width=\"24px\">\n",
              "    <path d=\"M0 0h24v24H0V0z\" fill=\"none\"/>\n",
              "    <path d=\"M18.56 5.44l.94 2.06.94-2.06 2.06-.94-2.06-.94-.94-2.06-.94 2.06-2.06.94zm-11 1L8.5 8.5l.94-2.06 2.06-.94-2.06-.94L8.5 2.5l-.94 2.06-2.06.94zm10 10l.94 2.06.94-2.06 2.06-.94-2.06-.94-.94-2.06-.94 2.06-2.06.94z\"/><path d=\"M17.41 7.96l-1.37-1.37c-.4-.4-.92-.59-1.43-.59-.52 0-1.04.2-1.43.59L10.3 9.45l-7.72 7.72c-.78.78-.78 2.05 0 2.83L4 21.41c.39.39.9.59 1.41.59.51 0 1.02-.2 1.41-.59l7.78-7.78 2.81-2.81c.8-.78.8-2.07 0-2.86zM5.41 20L4 18.59l7.72-7.72 1.47 1.35L5.41 20z\"/>\n",
              "  </svg>\n",
              "      </button>\n",
              "      \n",
              "  <style>\n",
              "    .colab-df-container {\n",
              "      display:flex;\n",
              "      flex-wrap:wrap;\n",
              "      gap: 12px;\n",
              "    }\n",
              "\n",
              "    .colab-df-convert {\n",
              "      background-color: #E8F0FE;\n",
              "      border: none;\n",
              "      border-radius: 50%;\n",
              "      cursor: pointer;\n",
              "      display: none;\n",
              "      fill: #1967D2;\n",
              "      height: 32px;\n",
              "      padding: 0 0 0 0;\n",
              "      width: 32px;\n",
              "    }\n",
              "\n",
              "    .colab-df-convert:hover {\n",
              "      background-color: #E2EBFA;\n",
              "      box-shadow: 0px 1px 2px rgba(60, 64, 67, 0.3), 0px 1px 3px 1px rgba(60, 64, 67, 0.15);\n",
              "      fill: #174EA6;\n",
              "    }\n",
              "\n",
              "    [theme=dark] .colab-df-convert {\n",
              "      background-color: #3B4455;\n",
              "      fill: #D2E3FC;\n",
              "    }\n",
              "\n",
              "    [theme=dark] .colab-df-convert:hover {\n",
              "      background-color: #434B5C;\n",
              "      box-shadow: 0px 1px 3px 1px rgba(0, 0, 0, 0.15);\n",
              "      filter: drop-shadow(0px 1px 2px rgba(0, 0, 0, 0.3));\n",
              "      fill: #FFFFFF;\n",
              "    }\n",
              "  </style>\n",
              "\n",
              "      <script>\n",
              "        const buttonEl =\n",
              "          document.querySelector('#df-39b67f27-f9dc-49ce-ba03-cd7d4ce35e1c button.colab-df-convert');\n",
              "        buttonEl.style.display =\n",
              "          google.colab.kernel.accessAllowed ? 'block' : 'none';\n",
              "\n",
              "        async function convertToInteractive(key) {\n",
              "          const element = document.querySelector('#df-39b67f27-f9dc-49ce-ba03-cd7d4ce35e1c');\n",
              "          const dataTable =\n",
              "            await google.colab.kernel.invokeFunction('convertToInteractive',\n",
              "                                                     [key], {});\n",
              "          if (!dataTable) return;\n",
              "\n",
              "          const docLinkHtml = 'Like what you see? Visit the ' +\n",
              "            '<a target=\"_blank\" href=https://colab.research.google.com/notebooks/data_table.ipynb>data table notebook</a>'\n",
              "            + ' to learn more about interactive tables.';\n",
              "          element.innerHTML = '';\n",
              "          dataTable['output_type'] = 'display_data';\n",
              "          await google.colab.output.renderOutput(dataTable, element);\n",
              "          const docLink = document.createElement('div');\n",
              "          docLink.innerHTML = docLinkHtml;\n",
              "          element.appendChild(docLink);\n",
              "        }\n",
              "      </script>\n",
              "    </div>\n",
              "  </div>\n",
              "  "
            ],
            "text/plain": [
              "   Unnamed: 0                                               text  toxic\n",
              "0           0  Explanation\\nWhy the edits made under my usern...      0\n",
              "1           1  D'aww! He matches this background colour I'm s...      0\n",
              "2           2  Hey man, I'm really not trying to edit war. It...      0\n",
              "3           3  \"\\nMore\\nI can't make any real suggestions on ...      0\n",
              "4           4  You, sir, are my hero. Any chance you remember...      0"
            ]
          },
          "metadata": {},
          "output_type": "display_data"
        }
      ],
      "source": [
        "data = data_reading('/content/toxic_comments.csv')"
      ]
    },
    {
      "cell_type": "code",
      "execution_count": null,
      "metadata": {
        "colab": {
          "base_uri": "https://localhost:8080/"
        },
        "id": "ecFYhxnosUuC",
        "outputId": "ba734a9d-3c9d-495b-b272-6f9e333cdf37"
      },
      "outputs": [
        {
          "data": {
            "text/plain": [
              "0    0.898388\n",
              "1    0.101612\n",
              "Name: toxic, dtype: float64"
            ]
          },
          "execution_count": 7,
          "metadata": {},
          "output_type": "execute_result"
        }
      ],
      "source": [
        "# оценим соотношение классов в целевом признаке\n",
        "data['toxic'].value_counts(normalize = True)"
      ]
    },
    {
      "cell_type": "markdown",
      "metadata": {
        "id": "RGESNrL5sUuC"
      },
      "source": [
        "Пропусков нет и все строки уникальны.\n",
        "\n",
        "Наблюдается дисбаланс классов (примерно каждый 10-й комментарий - *toxic*)"
      ]
    },
    {
      "cell_type": "code",
      "execution_count": null,
      "metadata": {
        "id": "C2qWw-XOsUuC"
      },
      "outputs": [],
      "source": [
        "# с помощью регулярных выражений избавим твиты от лишних символов\n",
        "# создадим функцию, которая возвращает с нижним регистром, а имеющиеся символы заменит на пробелы\n",
        "\n",
        "def clear_text(text):\n",
        "    text = re.sub(r'[^a-zA-Z ]+', ' ', text)\n",
        "    return text.strip().lower().split()"
      ]
    },
    {
      "cell_type": "code",
      "execution_count": null,
      "metadata": {
        "colab": {
          "base_uri": "https://localhost:8080/",
          "height": 206
        },
        "id": "IBAFPrLRsUuD",
        "outputId": "3497dee1-9757-4524-ecbd-9ad854be0fd1",
        "scrolled": false
      },
      "outputs": [
        {
          "data": {
            "text/html": [
              "\n",
              "  <div id=\"df-243f910f-02a1-4ed1-97f9-9e4838947dd4\">\n",
              "    <div class=\"colab-df-container\">\n",
              "      <div>\n",
              "<style scoped>\n",
              "    .dataframe tbody tr th:only-of-type {\n",
              "        vertical-align: middle;\n",
              "    }\n",
              "\n",
              "    .dataframe tbody tr th {\n",
              "        vertical-align: top;\n",
              "    }\n",
              "\n",
              "    .dataframe thead th {\n",
              "        text-align: right;\n",
              "    }\n",
              "</style>\n",
              "<table border=\"1\" class=\"dataframe\">\n",
              "  <thead>\n",
              "    <tr style=\"text-align: right;\">\n",
              "      <th></th>\n",
              "      <th>Unnamed: 0</th>\n",
              "      <th>text</th>\n",
              "      <th>toxic</th>\n",
              "      <th>clear_symbol</th>\n",
              "    </tr>\n",
              "  </thead>\n",
              "  <tbody>\n",
              "    <tr>\n",
              "      <th>0</th>\n",
              "      <td>0</td>\n",
              "      <td>Explanation\\nWhy the edits made under my usern...</td>\n",
              "      <td>0</td>\n",
              "      <td>[explanation, why, the, edits, made, under, my...</td>\n",
              "    </tr>\n",
              "    <tr>\n",
              "      <th>1</th>\n",
              "      <td>1</td>\n",
              "      <td>D'aww! He matches this background colour I'm s...</td>\n",
              "      <td>0</td>\n",
              "      <td>[d, aww, he, matches, this, background, colour...</td>\n",
              "    </tr>\n",
              "    <tr>\n",
              "      <th>2</th>\n",
              "      <td>2</td>\n",
              "      <td>Hey man, I'm really not trying to edit war. It...</td>\n",
              "      <td>0</td>\n",
              "      <td>[hey, man, i, m, really, not, trying, to, edit...</td>\n",
              "    </tr>\n",
              "    <tr>\n",
              "      <th>3</th>\n",
              "      <td>3</td>\n",
              "      <td>\"\\nMore\\nI can't make any real suggestions on ...</td>\n",
              "      <td>0</td>\n",
              "      <td>[more, i, can, t, make, any, real, suggestions...</td>\n",
              "    </tr>\n",
              "    <tr>\n",
              "      <th>4</th>\n",
              "      <td>4</td>\n",
              "      <td>You, sir, are my hero. Any chance you remember...</td>\n",
              "      <td>0</td>\n",
              "      <td>[you, sir, are, my, hero, any, chance, you, re...</td>\n",
              "    </tr>\n",
              "  </tbody>\n",
              "</table>\n",
              "</div>\n",
              "      <button class=\"colab-df-convert\" onclick=\"convertToInteractive('df-243f910f-02a1-4ed1-97f9-9e4838947dd4')\"\n",
              "              title=\"Convert this dataframe to an interactive table.\"\n",
              "              style=\"display:none;\">\n",
              "        \n",
              "  <svg xmlns=\"http://www.w3.org/2000/svg\" height=\"24px\"viewBox=\"0 0 24 24\"\n",
              "       width=\"24px\">\n",
              "    <path d=\"M0 0h24v24H0V0z\" fill=\"none\"/>\n",
              "    <path d=\"M18.56 5.44l.94 2.06.94-2.06 2.06-.94-2.06-.94-.94-2.06-.94 2.06-2.06.94zm-11 1L8.5 8.5l.94-2.06 2.06-.94-2.06-.94L8.5 2.5l-.94 2.06-2.06.94zm10 10l.94 2.06.94-2.06 2.06-.94-2.06-.94-.94-2.06-.94 2.06-2.06.94z\"/><path d=\"M17.41 7.96l-1.37-1.37c-.4-.4-.92-.59-1.43-.59-.52 0-1.04.2-1.43.59L10.3 9.45l-7.72 7.72c-.78.78-.78 2.05 0 2.83L4 21.41c.39.39.9.59 1.41.59.51 0 1.02-.2 1.41-.59l7.78-7.78 2.81-2.81c.8-.78.8-2.07 0-2.86zM5.41 20L4 18.59l7.72-7.72 1.47 1.35L5.41 20z\"/>\n",
              "  </svg>\n",
              "      </button>\n",
              "      \n",
              "  <style>\n",
              "    .colab-df-container {\n",
              "      display:flex;\n",
              "      flex-wrap:wrap;\n",
              "      gap: 12px;\n",
              "    }\n",
              "\n",
              "    .colab-df-convert {\n",
              "      background-color: #E8F0FE;\n",
              "      border: none;\n",
              "      border-radius: 50%;\n",
              "      cursor: pointer;\n",
              "      display: none;\n",
              "      fill: #1967D2;\n",
              "      height: 32px;\n",
              "      padding: 0 0 0 0;\n",
              "      width: 32px;\n",
              "    }\n",
              "\n",
              "    .colab-df-convert:hover {\n",
              "      background-color: #E2EBFA;\n",
              "      box-shadow: 0px 1px 2px rgba(60, 64, 67, 0.3), 0px 1px 3px 1px rgba(60, 64, 67, 0.15);\n",
              "      fill: #174EA6;\n",
              "    }\n",
              "\n",
              "    [theme=dark] .colab-df-convert {\n",
              "      background-color: #3B4455;\n",
              "      fill: #D2E3FC;\n",
              "    }\n",
              "\n",
              "    [theme=dark] .colab-df-convert:hover {\n",
              "      background-color: #434B5C;\n",
              "      box-shadow: 0px 1px 3px 1px rgba(0, 0, 0, 0.15);\n",
              "      filter: drop-shadow(0px 1px 2px rgba(0, 0, 0, 0.3));\n",
              "      fill: #FFFFFF;\n",
              "    }\n",
              "  </style>\n",
              "\n",
              "      <script>\n",
              "        const buttonEl =\n",
              "          document.querySelector('#df-243f910f-02a1-4ed1-97f9-9e4838947dd4 button.colab-df-convert');\n",
              "        buttonEl.style.display =\n",
              "          google.colab.kernel.accessAllowed ? 'block' : 'none';\n",
              "\n",
              "        async function convertToInteractive(key) {\n",
              "          const element = document.querySelector('#df-243f910f-02a1-4ed1-97f9-9e4838947dd4');\n",
              "          const dataTable =\n",
              "            await google.colab.kernel.invokeFunction('convertToInteractive',\n",
              "                                                     [key], {});\n",
              "          if (!dataTable) return;\n",
              "\n",
              "          const docLinkHtml = 'Like what you see? Visit the ' +\n",
              "            '<a target=\"_blank\" href=https://colab.research.google.com/notebooks/data_table.ipynb>data table notebook</a>'\n",
              "            + ' to learn more about interactive tables.';\n",
              "          element.innerHTML = '';\n",
              "          dataTable['output_type'] = 'display_data';\n",
              "          await google.colab.output.renderOutput(dataTable, element);\n",
              "          const docLink = document.createElement('div');\n",
              "          docLink.innerHTML = docLinkHtml;\n",
              "          element.appendChild(docLink);\n",
              "        }\n",
              "      </script>\n",
              "    </div>\n",
              "  </div>\n",
              "  "
            ],
            "text/plain": [
              "   Unnamed: 0                                               text  toxic  \\\n",
              "0           0  Explanation\\nWhy the edits made under my usern...      0   \n",
              "1           1  D'aww! He matches this background colour I'm s...      0   \n",
              "2           2  Hey man, I'm really not trying to edit war. It...      0   \n",
              "3           3  \"\\nMore\\nI can't make any real suggestions on ...      0   \n",
              "4           4  You, sir, are my hero. Any chance you remember...      0   \n",
              "\n",
              "                                        clear_symbol  \n",
              "0  [explanation, why, the, edits, made, under, my...  \n",
              "1  [d, aww, he, matches, this, background, colour...  \n",
              "2  [hey, man, i, m, really, not, trying, to, edit...  \n",
              "3  [more, i, can, t, make, any, real, suggestions...  \n",
              "4  [you, sir, are, my, hero, any, chance, you, re...  "
            ]
          },
          "execution_count": 9,
          "metadata": {},
          "output_type": "execute_result"
        }
      ],
      "source": [
        "# для наглядности будем добавлять столбец, содержащий измененный текст после каждой манипуляции\n",
        "\n",
        "data['clear_symbol'] = data['text'].apply(clear_text)\n",
        "\n",
        "# оценим получившиеся результаты\n",
        "\n",
        "data.head()"
      ]
    },
    {
      "cell_type": "code",
      "execution_count": null,
      "metadata": {
        "colab": {
          "base_uri": "https://localhost:8080/"
        },
        "id": "_7nKwtoMsUuD",
        "outputId": "85ba0a55-3f0b-4ea4-f03b-460e0741991c"
      },
      "outputs": [
        {
          "name": "stderr",
          "output_type": "stream",
          "text": [
            "[nltk_data] Downloading package stopwords to /root/nltk_data...\n",
            "[nltk_data]   Unzipping corpora/stopwords.zip.\n"
          ]
        }
      ],
      "source": [
        "# выгрузим стоп-слова (нас интересуют английские стоп-слова, так как твиты написаны на английском языке)\n",
        "\n",
        "nltk.download('stopwords') \n",
        "stop_words = set(stopwords.words('english'))"
      ]
    },
    {
      "cell_type": "code",
      "execution_count": null,
      "metadata": {
        "colab": {
          "base_uri": "https://localhost:8080/"
        },
        "id": "0cra2A5ssUuD",
        "outputId": "cd0c988b-a061-4b22-d8ac-41c884b51956"
      },
      "outputs": [
        {
          "name": "stderr",
          "output_type": "stream",
          "text": [
            "[nltk_data] Downloading package wordnet to /root/nltk_data...\n",
            "[nltk_data] Downloading package omw-1.4 to /root/nltk_data...\n"
          ]
        }
      ],
      "source": [
        "# проведем чистку стоп-слов и лемматизацию \n",
        "\n",
        "lemmatizer = nltk.WordNetLemmatizer()\n",
        "nltk.download('wordnet')\n",
        "nltk.download('omw-1.4')\n",
        "\n",
        "def lemmatize_text(text):\n",
        "    text = [word for word in text if word not in stop_words]\n",
        "    text = [lemmatizer.lemmatize(word) for word in text]\n",
        "    return ' '.join(text)"
      ]
    },
    {
      "cell_type": "code",
      "execution_count": null,
      "metadata": {
        "colab": {
          "base_uri": "https://localhost:8080/",
          "height": 206
        },
        "id": "VxUZm4omsUuD",
        "outputId": "4e9d7ce0-2536-4c1a-b578-e5f624860752"
      },
      "outputs": [
        {
          "data": {
            "text/html": [
              "\n",
              "  <div id=\"df-1824a9e6-f6a2-41a6-bc85-97cf5c950945\">\n",
              "    <div class=\"colab-df-container\">\n",
              "      <div>\n",
              "<style scoped>\n",
              "    .dataframe tbody tr th:only-of-type {\n",
              "        vertical-align: middle;\n",
              "    }\n",
              "\n",
              "    .dataframe tbody tr th {\n",
              "        vertical-align: top;\n",
              "    }\n",
              "\n",
              "    .dataframe thead th {\n",
              "        text-align: right;\n",
              "    }\n",
              "</style>\n",
              "<table border=\"1\" class=\"dataframe\">\n",
              "  <thead>\n",
              "    <tr style=\"text-align: right;\">\n",
              "      <th></th>\n",
              "      <th>Unnamed: 0</th>\n",
              "      <th>text</th>\n",
              "      <th>toxic</th>\n",
              "      <th>clear_symbol</th>\n",
              "      <th>lemm_clean_text</th>\n",
              "    </tr>\n",
              "  </thead>\n",
              "  <tbody>\n",
              "    <tr>\n",
              "      <th>0</th>\n",
              "      <td>0</td>\n",
              "      <td>Explanation\\nWhy the edits made under my usern...</td>\n",
              "      <td>0</td>\n",
              "      <td>[explanation, why, the, edits, made, under, my...</td>\n",
              "      <td>explanation edits made username hardcore metal...</td>\n",
              "    </tr>\n",
              "    <tr>\n",
              "      <th>1</th>\n",
              "      <td>1</td>\n",
              "      <td>D'aww! He matches this background colour I'm s...</td>\n",
              "      <td>0</td>\n",
              "      <td>[d, aww, he, matches, this, background, colour...</td>\n",
              "      <td>aww match background colour seemingly stuck th...</td>\n",
              "    </tr>\n",
              "    <tr>\n",
              "      <th>2</th>\n",
              "      <td>2</td>\n",
              "      <td>Hey man, I'm really not trying to edit war. It...</td>\n",
              "      <td>0</td>\n",
              "      <td>[hey, man, i, m, really, not, trying, to, edit...</td>\n",
              "      <td>hey man really trying edit war guy constantly ...</td>\n",
              "    </tr>\n",
              "    <tr>\n",
              "      <th>3</th>\n",
              "      <td>3</td>\n",
              "      <td>\"\\nMore\\nI can't make any real suggestions on ...</td>\n",
              "      <td>0</td>\n",
              "      <td>[more, i, can, t, make, any, real, suggestions...</td>\n",
              "      <td>make real suggestion improvement wondered sect...</td>\n",
              "    </tr>\n",
              "    <tr>\n",
              "      <th>4</th>\n",
              "      <td>4</td>\n",
              "      <td>You, sir, are my hero. Any chance you remember...</td>\n",
              "      <td>0</td>\n",
              "      <td>[you, sir, are, my, hero, any, chance, you, re...</td>\n",
              "      <td>sir hero chance remember page</td>\n",
              "    </tr>\n",
              "  </tbody>\n",
              "</table>\n",
              "</div>\n",
              "      <button class=\"colab-df-convert\" onclick=\"convertToInteractive('df-1824a9e6-f6a2-41a6-bc85-97cf5c950945')\"\n",
              "              title=\"Convert this dataframe to an interactive table.\"\n",
              "              style=\"display:none;\">\n",
              "        \n",
              "  <svg xmlns=\"http://www.w3.org/2000/svg\" height=\"24px\"viewBox=\"0 0 24 24\"\n",
              "       width=\"24px\">\n",
              "    <path d=\"M0 0h24v24H0V0z\" fill=\"none\"/>\n",
              "    <path d=\"M18.56 5.44l.94 2.06.94-2.06 2.06-.94-2.06-.94-.94-2.06-.94 2.06-2.06.94zm-11 1L8.5 8.5l.94-2.06 2.06-.94-2.06-.94L8.5 2.5l-.94 2.06-2.06.94zm10 10l.94 2.06.94-2.06 2.06-.94-2.06-.94-.94-2.06-.94 2.06-2.06.94z\"/><path d=\"M17.41 7.96l-1.37-1.37c-.4-.4-.92-.59-1.43-.59-.52 0-1.04.2-1.43.59L10.3 9.45l-7.72 7.72c-.78.78-.78 2.05 0 2.83L4 21.41c.39.39.9.59 1.41.59.51 0 1.02-.2 1.41-.59l7.78-7.78 2.81-2.81c.8-.78.8-2.07 0-2.86zM5.41 20L4 18.59l7.72-7.72 1.47 1.35L5.41 20z\"/>\n",
              "  </svg>\n",
              "      </button>\n",
              "      \n",
              "  <style>\n",
              "    .colab-df-container {\n",
              "      display:flex;\n",
              "      flex-wrap:wrap;\n",
              "      gap: 12px;\n",
              "    }\n",
              "\n",
              "    .colab-df-convert {\n",
              "      background-color: #E8F0FE;\n",
              "      border: none;\n",
              "      border-radius: 50%;\n",
              "      cursor: pointer;\n",
              "      display: none;\n",
              "      fill: #1967D2;\n",
              "      height: 32px;\n",
              "      padding: 0 0 0 0;\n",
              "      width: 32px;\n",
              "    }\n",
              "\n",
              "    .colab-df-convert:hover {\n",
              "      background-color: #E2EBFA;\n",
              "      box-shadow: 0px 1px 2px rgba(60, 64, 67, 0.3), 0px 1px 3px 1px rgba(60, 64, 67, 0.15);\n",
              "      fill: #174EA6;\n",
              "    }\n",
              "\n",
              "    [theme=dark] .colab-df-convert {\n",
              "      background-color: #3B4455;\n",
              "      fill: #D2E3FC;\n",
              "    }\n",
              "\n",
              "    [theme=dark] .colab-df-convert:hover {\n",
              "      background-color: #434B5C;\n",
              "      box-shadow: 0px 1px 3px 1px rgba(0, 0, 0, 0.15);\n",
              "      filter: drop-shadow(0px 1px 2px rgba(0, 0, 0, 0.3));\n",
              "      fill: #FFFFFF;\n",
              "    }\n",
              "  </style>\n",
              "\n",
              "      <script>\n",
              "        const buttonEl =\n",
              "          document.querySelector('#df-1824a9e6-f6a2-41a6-bc85-97cf5c950945 button.colab-df-convert');\n",
              "        buttonEl.style.display =\n",
              "          google.colab.kernel.accessAllowed ? 'block' : 'none';\n",
              "\n",
              "        async function convertToInteractive(key) {\n",
              "          const element = document.querySelector('#df-1824a9e6-f6a2-41a6-bc85-97cf5c950945');\n",
              "          const dataTable =\n",
              "            await google.colab.kernel.invokeFunction('convertToInteractive',\n",
              "                                                     [key], {});\n",
              "          if (!dataTable) return;\n",
              "\n",
              "          const docLinkHtml = 'Like what you see? Visit the ' +\n",
              "            '<a target=\"_blank\" href=https://colab.research.google.com/notebooks/data_table.ipynb>data table notebook</a>'\n",
              "            + ' to learn more about interactive tables.';\n",
              "          element.innerHTML = '';\n",
              "          dataTable['output_type'] = 'display_data';\n",
              "          await google.colab.output.renderOutput(dataTable, element);\n",
              "          const docLink = document.createElement('div');\n",
              "          docLink.innerHTML = docLinkHtml;\n",
              "          element.appendChild(docLink);\n",
              "        }\n",
              "      </script>\n",
              "    </div>\n",
              "  </div>\n",
              "  "
            ],
            "text/plain": [
              "   Unnamed: 0                                               text  toxic  \\\n",
              "0           0  Explanation\\nWhy the edits made under my usern...      0   \n",
              "1           1  D'aww! He matches this background colour I'm s...      0   \n",
              "2           2  Hey man, I'm really not trying to edit war. It...      0   \n",
              "3           3  \"\\nMore\\nI can't make any real suggestions on ...      0   \n",
              "4           4  You, sir, are my hero. Any chance you remember...      0   \n",
              "\n",
              "                                        clear_symbol  \\\n",
              "0  [explanation, why, the, edits, made, under, my...   \n",
              "1  [d, aww, he, matches, this, background, colour...   \n",
              "2  [hey, man, i, m, really, not, trying, to, edit...   \n",
              "3  [more, i, can, t, make, any, real, suggestions...   \n",
              "4  [you, sir, are, my, hero, any, chance, you, re...   \n",
              "\n",
              "                                     lemm_clean_text  \n",
              "0  explanation edits made username hardcore metal...  \n",
              "1  aww match background colour seemingly stuck th...  \n",
              "2  hey man really trying edit war guy constantly ...  \n",
              "3  make real suggestion improvement wondered sect...  \n",
              "4                      sir hero chance remember page  "
            ]
          },
          "execution_count": 12,
          "metadata": {},
          "output_type": "execute_result"
        }
      ],
      "source": [
        "# добавим столбец, куда будем заносить текст после лемматизиции\n",
        "\n",
        "data['lemm_clean_text'] = data['clear_symbol'].apply(lambda text: lemmatize_text(text))\n",
        "\n",
        "# оценим получившиеся результаты\n",
        "\n",
        "data.head()"
      ]
    },
    {
      "cell_type": "markdown",
      "metadata": {
        "id": "4YCWxxR_sUuD"
      },
      "source": [
        "Исходный текст подвергся нескольким трансформациям: сведен к нижнему регистру, очищен от знаков, отлемматизирован и \"очищен\" от стоп-слов.\n",
        "\n",
        "Результат преобразований находится в столбце **lemm_clean_text**\n",
        "\n",
        "Далее производится разбиение на признаки, тренировочные и тестовые выборки и преобразование их в дальнейшем в вектора"
      ]
    },
    {
      "cell_type": "code",
      "execution_count": null,
      "metadata": {
        "id": "XpucgqOcsUuD"
      },
      "outputs": [],
      "source": [
        "# оставим лемматизированный текст и столбец toxic\n",
        "\n",
        "data = data[['lemm_clean_text', 'toxic']]"
      ]
    },
    {
      "cell_type": "code",
      "execution_count": null,
      "metadata": {
        "id": "gImQZ5mTsUuE"
      },
      "outputs": [],
      "source": [
        "# перед вычислением tf-idf корпуса текста произведем разбиение данных на признаки и целевой признак\n",
        "# воспользуемся параметром stratify, чтобы сохранить пропорцию классов\n",
        "\n",
        "features = data.drop('toxic', axis = 1)\n",
        "target = data['toxic'].values\n",
        "\n",
        "# разобъем данные на тренировочную и тестовые выборки в пропорции 75 / 25 \n",
        "\n",
        "features_train, features_test, target_train, target_test = train_test_split(features, \n",
        "                                                                            target,\n",
        "                                                                            test_size = 0.25,\n",
        "                                                                            random_state=12345,\n",
        "                                                                            stratify = target) \n",
        "\n",
        "\n",
        "                                                                                                                                                 "
      ]
    },
    {
      "cell_type": "code",
      "execution_count": null,
      "metadata": {
        "colab": {
          "base_uri": "https://localhost:8080/"
        },
        "id": "nEJ11uS5sUuE",
        "outputId": "ab7a46b8-7a2c-4b17-c5cb-131281d53aee"
      },
      "outputs": [
        {
          "name": "stdout",
          "output_type": "stream",
          "text": [
            "Размерность тренировочной выборки: ((119469, 1), (119469,))\n",
            "Размерность тестовой выборки: ((39823, 1), (39823,))\n"
          ]
        }
      ],
      "source": [
        "# оценим размерности выборок\n",
        "\n",
        "print(f'Размерность тренировочной выборки: {features_train.shape, target_train.shape}')\n",
        "print(f'Размерность тестовой выборки: {features_test.shape, target_test.shape}')"
      ]
    },
    {
      "cell_type": "code",
      "execution_count": null,
      "metadata": {
        "id": "pBcQZibdsUuE"
      },
      "outputs": [],
      "source": [
        "# создадим текстовый вектор\n",
        "\n",
        "vectorizer = TfidfVectorizer(ngram_range=(1,2), max_df = 0.8, min_df = 2)\n",
        "\n",
        "features_train_tfidf = vectorizer.fit_transform(features_train['lemm_clean_text'])\n",
        "features_test_tfidf = vectorizer.transform(features_test['lemm_clean_text'])"
      ]
    },
    {
      "cell_type": "code",
      "execution_count": null,
      "metadata": {
        "colab": {
          "base_uri": "https://localhost:8080/"
        },
        "id": "WXm70r8csUuF",
        "outputId": "3c98f8eb-8975-40fc-baec-161e1acb0b7a"
      },
      "outputs": [
        {
          "name": "stdout",
          "output_type": "stream",
          "text": [
            "Размерность тренировочного текстового вектора: (119469, 445516)\n",
            "Размерность тестового текстового вектора: (39823, 445516)\n"
          ]
        }
      ],
      "source": [
        "# оценим размерности векторов-признаков\n",
        "\n",
        "print(f'Размерность тренировочного текстового вектора: {features_train_tfidf.shape}')\n",
        "print(f'Размерность тестового текстового вектора: {features_test_tfidf.shape}')"
      ]
    },
    {
      "cell_type": "markdown",
      "metadata": {
        "id": "GnOcRhPfsUuF"
      },
      "source": [
        "## Обучение"
      ]
    },
    {
      "cell_type": "code",
      "execution_count": null,
      "metadata": {
        "colab": {
          "base_uri": "https://localhost:8080/"
        },
        "id": "b0SHCQj6sUuF",
        "outputId": "8e960ed9-5f32-41e6-c8c1-482f55c0a021",
        "scrolled": true
      },
      "outputs": [
        {
          "name": "stdout",
          "output_type": "stream",
          "text": [
            "Лучшие параметры модели: {'C': 10, 'solver': 'liblinear'}\n",
            "Лучшее значение RMSE: 0.7891250548167472\n"
          ]
        }
      ],
      "source": [
        "# логистическая регрессия\n",
        "\n",
        "parameters = {'C': [0.5,1,5,10,50],\n",
        "              'solver': ['lbfgs', 'liblinear']}\n",
        "\n",
        "model_lr = LogisticRegression(random_state = 12345, \n",
        "                              class_weight = 'balanced')                             \n",
        "\n",
        "grid_searching = GridSearchCV(model_lr, \n",
        "                              parameters,\n",
        "                              scoring = 'f1', \n",
        "                              cv=5, \n",
        "                              n_jobs=-1)\n",
        "\n",
        "grid_searching.fit(features_train_tfidf, target_train)\n",
        "\n",
        "print('Лучшие параметры модели:', grid_searching.best_params_)\n",
        "print('Лучшее значение RMSE:', grid_searching.best_score_)"
      ]
    },
    {
      "cell_type": "code",
      "execution_count": null,
      "metadata": {
        "colab": {
          "base_uri": "https://localhost:8080/"
        },
        "id": "iBo-G4OKsUuF",
        "outputId": "93d5ddd1-d6dc-4b97-c859-ae689c5e45fc"
      },
      "outputs": [
        {
          "name": "stdout",
          "output_type": "stream",
          "text": [
            "Лучшие параметры модели: {'criterion': 'gini', 'max_depth': 9, 'splitter': 'best'}\n",
            "Лучшее значение RMSE: 0.56163886606767\n"
          ]
        }
      ],
      "source": [
        "# дерево решений\n",
        "\n",
        "parameters = {'max_depth': range (1, 10, 2), \n",
        "              'criterion': ['gini', 'entropy','log_loss'],\n",
        "              'splitter': ['best', 'random']}\n",
        "\n",
        "model_dt = DecisionTreeClassifier(random_state = 12345, \n",
        "                                  class_weight = 'balanced')\n",
        "\n",
        "grid_searching = GridSearchCV(model_dt, \n",
        "                              parameters,\n",
        "                              scoring = 'f1',\n",
        "                              cv=5, \n",
        "                              n_jobs=-1)\n",
        "\n",
        "grid_searching.fit(features_train_tfidf, target_train)\n",
        "\n",
        "print('Лучшие параметры модели:', grid_searching.best_params_)\n",
        "print('Лучшее значение RMSE:', grid_searching.best_score_)"
      ]
    },
    {
      "cell_type": "code",
      "execution_count": null,
      "metadata": {
        "colab": {
          "base_uri": "https://localhost:8080/"
        },
        "id": "5HaYPfEwsUuF",
        "outputId": "b921765e-14a6-4c32-8b45-2ba0d3069c6c"
      },
      "outputs": [
        {
          "name": "stdout",
          "output_type": "stream",
          "text": [
            "Лучшие параметры модели: {'criterion': 'gini', 'max_depth': 9, 'n_estimators': 50}\n",
            "Лучшее значение RMSE: 0.30222674232293184\n"
          ]
        }
      ],
      "source": [
        "# случайный лес\n",
        "\n",
        "parameters = {'max_depth': range (1, 10, 2), \n",
        "              'n_estimators': range(10,51,10),\n",
        "              'criterion': ['gini', 'entropy','log_loss']}\n",
        "\n",
        "model_rf = RandomForestClassifier(random_state = 12345, \n",
        "                                  class_weight = 'balanced')\n",
        "\n",
        "grid_searching = GridSearchCV(model_rf, \n",
        "                              parameters,\n",
        "                              scoring = 'f1',\n",
        "                              cv=5, \n",
        "                              n_jobs = -1)\n",
        "\n",
        "grid_searching.fit(features_train_tfidf, target_train)\n",
        "\n",
        "print('Лучшие параметры модели:', grid_searching.best_params_)\n",
        "print('Лучшее значение RMSE:', grid_searching.best_score_)"
      ]
    },
    {
      "cell_type": "markdown",
      "metadata": {
        "id": "S84w_eZCsUuG"
      },
      "source": [
        "Для исследования были использованы модели логистической регрессии, случайного леса и дерева решений.\n",
        "\n",
        "Моделируя на тренировочных выборках, лучшие результаты показала модель логистической регрессии, поэтому выберем эту модель для дальнейшего тестирования"
      ]
    },
    {
      "cell_type": "markdown",
      "metadata": {
        "id": "wb3ljM2rsUuG"
      },
      "source": [
        "## Выводы"
      ]
    },
    {
      "cell_type": "code",
      "execution_count": null,
      "metadata": {
        "colab": {
          "base_uri": "https://localhost:8080/"
        },
        "id": "peKV3AlwsUuG",
        "outputId": "9156c3c1-6d9d-40a4-ae0f-95851e104e0b"
      },
      "outputs": [
        {
          "name": "stdout",
          "output_type": "stream",
          "text": [
            "f1-метрика для тестовой выборки: 0.7856269860669762\n"
          ]
        }
      ],
      "source": [
        "# применим наилучшие гиперпараметры для логистической модели и найдем f1-метрика на тестовой выборке\n",
        "\n",
        "model_lr = LogisticRegression(random_state = 12345, \n",
        "                              class_weight = 'balanced',\n",
        "                              C = 10,\n",
        "                              solver = 'liblinear')\n",
        "\n",
        "model_lr.fit(features_train_tfidf, target_train)\n",
        "\n",
        "print(f'f1-метрика для тестовой выборки: {f1_score(target_test, model_lr.predict(features_test_tfidf))}')\n"
      ]
    },
    {
      "cell_type": "code",
      "execution_count": null,
      "metadata": {
        "colab": {
          "base_uri": "https://localhost:8080/",
          "height": 282
        },
        "id": "MWyx-s1wsUuG",
        "outputId": "269d669d-cfed-4d47-f90f-86db77b23a97"
      },
      "outputs": [
        {
          "data": {
            "text/plain": [
              "<AxesSubplot:>"
            ]
          },
          "execution_count": 26,
          "metadata": {},
          "output_type": "execute_result"
        },
        {
          "data": {
            "image/png": "[encoded data removed]",
            "text/plain": [
              "<Figure size 432x288 with 2 Axes>"
            ]
          },
          "metadata": {
            "needs_background": "light"
          },
          "output_type": "display_data"
        }
      ],
      "source": [
        "# для интерпретации результатов воспользуемся матрицей ошибок \n",
        "# для ее визуализации применим heatmap\n",
        "\n",
        "sns.heatmap(confusion_matrix(target_test, model_lr.predict(features_test_tfidf), normalize = 'true'), \n",
        "            annot = True, \n",
        "            cmap ='coolwarm')"
      ]
    },
    {
      "attachments": {},
      "cell_type": "markdown",
      "metadata": {
        "id": "rbA-5OBtsUuG"
      },
      "source": [
        "Наглядная интерпретация матрицы ошибок отлично отражает работу нашей модели - теплыми цветами (значения близкие к максимуму) отмечены истинно правдивые и истинно ложные значения (то есть совпадение тестовых целевых признаков с предсказаниями), что говорит о хороших результатах работы нашей модели.\n",
        "\n",
        "Также стоит отметить, что целевой показатель f1-метрики 0,75 достигнут и для нашей модели на тестовой выборке достигает 0,794 (на тренировочной - 0,786)."
      ]
    },
    {
      "cell_type": "code",
      "execution_count": null,
      "metadata": {
        "colab": {
          "base_uri": "https://localhost:8080/",
          "height": 75
        },
        "id": "IiG8XFu8sUuG",
        "outputId": "af5e884f-ffcf-4410-9d47-c62e75f7a32d"
      },
      "outputs": [
        {
          "data": {
            "text/html": [
              "<style>#sk-container-id-2 {color: black;background-color: white;}#sk-container-id-2 pre{padding: 0;}#sk-container-id-2 div.sk-toggleable {background-color: white;}#sk-container-id-2 label.sk-toggleable__label {cursor: pointer;display: block;width: 100%;margin-bottom: 0;padding: 0.3em;box-sizing: border-box;text-align: center;}#sk-container-id-2 label.sk-toggleable__label-arrow:before {content: \"▸\";float: left;margin-right: 0.25em;color: #696969;}#sk-container-id-2 label.sk-toggleable__label-arrow:hover:before {color: black;}#sk-container-id-2 div.sk-estimator:hover label.sk-toggleable__label-arrow:before {color: black;}#sk-container-id-2 div.sk-toggleable__content {max-height: 0;max-width: 0;overflow: hidden;text-align: left;background-color: #f0f8ff;}#sk-container-id-2 div.sk-toggleable__content pre {margin: 0.2em;color: black;border-radius: 0.25em;background-color: #f0f8ff;}#sk-container-id-2 input.sk-toggleable__control:checked~div.sk-toggleable__content {max-height: 200px;max-width: 100%;overflow: auto;}#sk-container-id-2 input.sk-toggleable__control:checked~label.sk-toggleable__label-arrow:before {content: \"▾\";}#sk-container-id-2 div.sk-estimator input.sk-toggleable__control:checked~label.sk-toggleable__label {background-color: #d4ebff;}#sk-container-id-2 div.sk-label input.sk-toggleable__control:checked~label.sk-toggleable__label {background-color: #d4ebff;}#sk-container-id-2 input.sk-hidden--visually {border: 0;clip: rect(1px 1px 1px 1px);clip: rect(1px, 1px, 1px, 1px);height: 1px;margin: -1px;overflow: hidden;padding: 0;position: absolute;width: 1px;}#sk-container-id-2 div.sk-estimator {font-family: monospace;background-color: #f0f8ff;border: 1px dotted black;border-radius: 0.25em;box-sizing: border-box;margin-bottom: 0.5em;}#sk-container-id-2 div.sk-estimator:hover {background-color: #d4ebff;}#sk-container-id-2 div.sk-parallel-item::after {content: \"\";width: 100%;border-bottom: 1px solid gray;flex-grow: 1;}#sk-container-id-2 div.sk-label:hover label.sk-toggleable__label {background-color: #d4ebff;}#sk-container-id-2 div.sk-serial::before {content: \"\";position: absolute;border-left: 1px solid gray;box-sizing: border-box;top: 0;bottom: 0;left: 50%;z-index: 0;}#sk-container-id-2 div.sk-serial {display: flex;flex-direction: column;align-items: center;background-color: white;padding-right: 0.2em;padding-left: 0.2em;position: relative;}#sk-container-id-2 div.sk-item {position: relative;z-index: 1;}#sk-container-id-2 div.sk-parallel {display: flex;align-items: stretch;justify-content: center;background-color: white;position: relative;}#sk-container-id-2 div.sk-item::before, #sk-container-id-2 div.sk-parallel-item::before {content: \"\";position: absolute;border-left: 1px solid gray;box-sizing: border-box;top: 0;bottom: 0;left: 50%;z-index: -1;}#sk-container-id-2 div.sk-parallel-item {display: flex;flex-direction: column;z-index: 1;position: relative;background-color: white;}#sk-container-id-2 div.sk-parallel-item:first-child::after {align-self: flex-end;width: 50%;}#sk-container-id-2 div.sk-parallel-item:last-child::after {align-self: flex-start;width: 50%;}#sk-container-id-2 div.sk-parallel-item:only-child::after {width: 0;}#sk-container-id-2 div.sk-dashed-wrapped {border: 1px dashed gray;margin: 0 0.4em 0.5em 0.4em;box-sizing: border-box;padding-bottom: 0.4em;background-color: white;}#sk-container-id-2 div.sk-label label {font-family: monospace;font-weight: bold;display: inline-block;line-height: 1.2em;}#sk-container-id-2 div.sk-label-container {text-align: center;}#sk-container-id-2 div.sk-container {/* jupyter's `normalize.less` sets `[hidden] { display: none; }` but bootstrap.min.css set `[hidden] { display: none !important; }` so we also need the `!important` here to be able to override the default hidden behavior on the sphinx rendered scikit-learn.org. See: https://github.com/scikit-learn/scikit-learn/issues/21755 */display: inline-block !important;position: relative;}#sk-container-id-2 div.sk-text-repr-fallback {display: none;}</style><div id=\"sk-container-id-2\" class=\"sk-top-container\"><div class=\"sk-text-repr-fallback\"><pre>DummyClassifier(random_state=12345, strategy=&#x27;most_frequent&#x27;)</pre><b>In a Jupyter environment, please rerun this cell to show the HTML representation or trust the notebook. <br />On GitHub, the HTML representation is unable to render, please try loading this page with nbviewer.org.</b></div><div class=\"sk-container\" hidden><div class=\"sk-item\"><div class=\"sk-estimator sk-toggleable\"><input class=\"sk-toggleable__control sk-hidden--visually\" id=\"sk-estimator-id-2\" type=\"checkbox\" checked><label for=\"sk-estimator-id-2\" class=\"sk-toggleable__label sk-toggleable__label-arrow\">DummyClassifier</label><div class=\"sk-toggleable__content\"><pre>DummyClassifier(random_state=12345, strategy=&#x27;most_frequent&#x27;)</pre></div></div></div></div></div>"
            ],
            "text/plain": [
              "DummyClassifier(random_state=12345, strategy='most_frequent')"
            ]
          },
          "execution_count": 27,
          "metadata": {},
          "output_type": "execute_result"
        }
      ],
      "source": [
        "# создаем наивную модель, предсказывающие только самые частые твиты (нетоксичные)\n",
        "\n",
        "dummy_model = DummyClassifier(strategy = 'most_frequent', random_state=12345)\n",
        "\n",
        "dummy_model.fit(features_train_tfidf, target_train)"
      ]
    },
    {
      "cell_type": "code",
      "execution_count": null,
      "metadata": {
        "colab": {
          "base_uri": "https://localhost:8080/"
        },
        "id": "bu_sjnxfsUuG",
        "outputId": "91353ff9-d7f3-4884-fa4b-eea585cda4e2"
      },
      "outputs": [
        {
          "name": "stdout",
          "output_type": "stream",
          "text": [
            "Показатели для наивной модели\n",
            "               precision    recall  f1-score   support\n",
            "\n",
            "           0       1.00      0.90      0.95     39823\n",
            "           1       0.00      0.00      0.00         0\n",
            "\n",
            "    accuracy                           0.90     39823\n",
            "   macro avg       0.50      0.45      0.47     39823\n",
            "weighted avg       1.00      0.90      0.95     39823\n",
            "\n",
            "Показатели для лучшей модели\n",
            "               precision    recall  f1-score   support\n",
            "\n",
            "           0       0.97      0.98      0.98     35687\n",
            "           1       0.79      0.78      0.79      4136\n",
            "\n",
            "    accuracy                           0.96     39823\n",
            "   macro avg       0.88      0.88      0.88     39823\n",
            "weighted avg       0.96      0.96      0.96     39823\n",
            "\n"
          ]
        },
        {
          "name": "stderr",
          "output_type": "stream",
          "text": [
            "/usr/local/lib/python3.8/dist-packages/sklearn/metrics/_classification.py:1344: UndefinedMetricWarning: Recall and F-score are ill-defined and being set to 0.0 in labels with no true samples. Use `zero_division` parameter to control this behavior.\n",
            "  _warn_prf(average, modifier, msg_start, len(result))\n",
            "/usr/local/lib/python3.8/dist-packages/sklearn/metrics/_classification.py:1344: UndefinedMetricWarning: Recall and F-score are ill-defined and being set to 0.0 in labels with no true samples. Use `zero_division` parameter to control this behavior.\n",
            "  _warn_prf(average, modifier, msg_start, len(result))\n",
            "/usr/local/lib/python3.8/dist-packages/sklearn/metrics/_classification.py:1344: UndefinedMetricWarning: Recall and F-score are ill-defined and being set to 0.0 in labels with no true samples. Use `zero_division` parameter to control this behavior.\n",
            "  _warn_prf(average, modifier, msg_start, len(result))\n"
          ]
        }
      ],
      "source": [
        "# выведем значения точности ,полноты и f1-метрики для наивной и лучшей моделей\n",
        "\n",
        "print('Показатели для наивной модели\\n', classification_report(dummy_model.predict(features_test_tfidf), target_test))\n",
        "print('Показатели для лучшей модели\\n', classification_report(model_lr.predict(features_test_tfidf), target_test))"
      ]
    },
    {
      "cell_type": "markdown",
      "metadata": {
        "id": "Pod31sHPsUuH"
      },
      "source": [
        "Проверку на адекватность модель также прошла успешно."
      ]
    }
  ],
  "metadata": {
    "ExecuteTimeLog": [
      {
        "duration": 455,
        "start_time": "2022-06-12T19:20:32.824Z"
      },
      {
        "duration": 6,
        "start_time": "2022-06-12T19:20:38.888Z"
      },
      {
        "duration": 67,
        "start_time": "2022-06-12T19:21:31.537Z"
      },
      {
        "duration": 26,
        "start_time": "2022-06-12T19:23:05.377Z"
      },
      {
        "duration": 2781,
        "start_time": "2022-06-12T19:24:03.918Z"
      },
      {
        "duration": 598,
        "start_time": "2022-06-12T19:24:59.832Z"
      },
      {
        "duration": 5,
        "start_time": "2022-06-12T19:25:22.760Z"
      },
      {
        "duration": 8,
        "start_time": "2022-06-12T19:26:13.616Z"
      },
      {
        "duration": 6,
        "start_time": "2022-06-12T19:26:23.663Z"
      },
      {
        "duration": 9,
        "start_time": "2022-06-12T19:35:06.973Z"
      },
      {
        "duration": 489,
        "start_time": "2022-06-14T19:10:34.117Z"
      },
      {
        "duration": 5,
        "start_time": "2022-06-14T19:10:34.608Z"
      },
      {
        "duration": 3368,
        "start_time": "2022-06-14T19:10:34.615Z"
      },
      {
        "duration": 9,
        "start_time": "2022-06-14T19:10:37.986Z"
      },
      {
        "duration": 7,
        "start_time": "2022-06-14T19:10:47.828Z"
      },
      {
        "duration": 10,
        "start_time": "2022-06-14T19:11:48.239Z"
      },
      {
        "duration": 2,
        "start_time": "2022-06-14T19:25:27.611Z"
      },
      {
        "duration": 4,
        "start_time": "2022-06-14T19:26:11.816Z"
      },
      {
        "duration": 3,
        "start_time": "2022-06-14T19:28:36.643Z"
      },
      {
        "duration": 158,
        "start_time": "2022-06-14T19:28:47.997Z"
      },
      {
        "duration": 101,
        "start_time": "2022-06-14T19:29:01.330Z"
      },
      {
        "duration": 88,
        "start_time": "2022-06-14T19:30:05.697Z"
      },
      {
        "duration": 3,
        "start_time": "2022-06-14T19:30:18.521Z"
      },
      {
        "duration": 6,
        "start_time": "2022-06-14T19:30:18.527Z"
      },
      {
        "duration": 1338,
        "start_time": "2022-06-14T19:30:18.535Z"
      },
      {
        "duration": 7,
        "start_time": "2022-06-14T19:30:19.875Z"
      },
      {
        "duration": 17,
        "start_time": "2022-06-14T19:30:19.883Z"
      },
      {
        "duration": 215,
        "start_time": "2022-06-14T19:30:19.902Z"
      },
      {
        "duration": 1807,
        "start_time": "2022-06-14T19:30:49.887Z"
      },
      {
        "duration": 1769,
        "start_time": "2022-06-14T19:31:04.042Z"
      },
      {
        "duration": 3,
        "start_time": "2022-06-14T19:32:45.363Z"
      },
      {
        "duration": 8,
        "start_time": "2022-06-14T19:32:45.368Z"
      },
      {
        "duration": 1203,
        "start_time": "2022-06-14T19:32:45.377Z"
      },
      {
        "duration": 6,
        "start_time": "2022-06-14T19:32:46.582Z"
      },
      {
        "duration": 15,
        "start_time": "2022-06-14T19:32:46.589Z"
      },
      {
        "duration": 1801,
        "start_time": "2022-06-14T19:32:46.605Z"
      },
      {
        "duration": 857,
        "start_time": "2022-06-14T19:35:37.884Z"
      },
      {
        "duration": 2,
        "start_time": "2022-06-14T19:37:16.956Z"
      },
      {
        "duration": 1877,
        "start_time": "2022-06-14T19:38:49.826Z"
      },
      {
        "duration": 1821,
        "start_time": "2022-06-14T19:39:27.322Z"
      },
      {
        "duration": 223,
        "start_time": "2022-06-14T19:50:03.807Z"
      },
      {
        "duration": 2624,
        "start_time": "2022-06-14T20:11:37.705Z"
      },
      {
        "duration": 2,
        "start_time": "2022-06-14T20:13:18.321Z"
      },
      {
        "duration": 6,
        "start_time": "2022-06-14T20:13:18.325Z"
      },
      {
        "duration": 1267,
        "start_time": "2022-06-14T20:13:18.333Z"
      },
      {
        "duration": 5,
        "start_time": "2022-06-14T20:13:19.602Z"
      },
      {
        "duration": 7,
        "start_time": "2022-06-14T20:13:19.609Z"
      },
      {
        "duration": 1805,
        "start_time": "2022-06-14T20:13:19.618Z"
      },
      {
        "duration": 3,
        "start_time": "2022-06-14T20:13:21.425Z"
      },
      {
        "duration": 10,
        "start_time": "2022-06-14T20:13:21.430Z"
      },
      {
        "duration": 1528,
        "start_time": "2022-06-14T20:13:21.442Z"
      },
      {
        "duration": 5,
        "start_time": "2022-06-14T20:15:28.471Z"
      },
      {
        "duration": 150356,
        "start_time": "2022-06-14T20:15:29.462Z"
      },
      {
        "duration": 151099,
        "start_time": "2022-06-14T20:19:59.225Z"
      },
      {
        "duration": 3,
        "start_time": "2022-06-14T20:29:06.232Z"
      },
      {
        "duration": 1515,
        "start_time": "2022-06-14T20:29:07.026Z"
      },
      {
        "duration": 1471,
        "start_time": "2022-06-14T20:29:20.094Z"
      },
      {
        "duration": 3,
        "start_time": "2022-06-14T20:30:22.172Z"
      },
      {
        "duration": 715,
        "start_time": "2022-06-14T20:30:24.363Z"
      },
      {
        "duration": 3,
        "start_time": "2022-06-14T20:32:05.544Z"
      },
      {
        "duration": 181,
        "start_time": "2022-06-14T20:32:07.298Z"
      },
      {
        "duration": 4,
        "start_time": "2022-06-14T20:32:14.456Z"
      },
      {
        "duration": 112,
        "start_time": "2022-06-14T20:32:15.277Z"
      },
      {
        "duration": 3,
        "start_time": "2022-06-14T20:32:40.182Z"
      },
      {
        "duration": 102,
        "start_time": "2022-06-14T20:32:41.768Z"
      },
      {
        "duration": 3,
        "start_time": "2022-06-14T20:33:55.808Z"
      },
      {
        "duration": 9,
        "start_time": "2022-06-14T20:34:00.669Z"
      },
      {
        "duration": 5,
        "start_time": "2022-06-14T20:34:27.773Z"
      },
      {
        "duration": 3,
        "start_time": "2022-06-14T20:34:50.095Z"
      },
      {
        "duration": 5,
        "start_time": "2022-06-14T20:34:51.421Z"
      },
      {
        "duration": 3,
        "start_time": "2022-06-14T20:34:57.874Z"
      },
      {
        "duration": 4,
        "start_time": "2022-06-14T20:34:58.631Z"
      },
      {
        "duration": 4,
        "start_time": "2022-06-14T20:35:24.337Z"
      },
      {
        "duration": 2,
        "start_time": "2022-06-14T20:36:04.011Z"
      },
      {
        "duration": 15,
        "start_time": "2022-06-14T20:36:04.696Z"
      },
      {
        "duration": 3,
        "start_time": "2022-06-14T20:36:26.551Z"
      },
      {
        "duration": 4,
        "start_time": "2022-06-14T20:36:27.512Z"
      },
      {
        "duration": 3,
        "start_time": "2022-06-14T20:36:35.051Z"
      },
      {
        "duration": 4,
        "start_time": "2022-06-14T20:36:36.902Z"
      },
      {
        "duration": 4,
        "start_time": "2022-06-14T20:37:00.341Z"
      },
      {
        "duration": 3,
        "start_time": "2022-06-14T20:37:10.874Z"
      },
      {
        "duration": 4,
        "start_time": "2022-06-14T20:37:20.712Z"
      },
      {
        "duration": 29769,
        "start_time": "2022-06-14T20:37:44.702Z"
      },
      {
        "duration": 5,
        "start_time": "2022-06-14T20:38:49.612Z"
      },
      {
        "duration": 4,
        "start_time": "2022-06-14T20:38:56.114Z"
      },
      {
        "duration": 4,
        "start_time": "2022-06-14T20:39:08.501Z"
      },
      {
        "duration": 9,
        "start_time": "2022-06-14T20:39:26.614Z"
      },
      {
        "duration": 4,
        "start_time": "2022-06-14T20:41:00.125Z"
      },
      {
        "duration": 53,
        "start_time": "2022-06-14T20:57:17.276Z"
      },
      {
        "duration": 18,
        "start_time": "2022-06-14T20:57:23.337Z"
      },
      {
        "duration": 17,
        "start_time": "2022-06-14T20:57:51.076Z"
      },
      {
        "duration": 11,
        "start_time": "2022-06-14T21:00:38.306Z"
      },
      {
        "duration": 3,
        "start_time": "2022-06-14T21:01:37.405Z"
      },
      {
        "duration": 65,
        "start_time": "2022-06-14T21:05:36.254Z"
      },
      {
        "duration": 41,
        "start_time": "2022-06-14T21:06:01.532Z"
      },
      {
        "duration": 36,
        "start_time": "2022-06-14T21:10:32.838Z"
      },
      {
        "duration": 3,
        "start_time": "2022-06-14T21:12:45.016Z"
      },
      {
        "duration": 25,
        "start_time": "2022-06-14T21:16:08.346Z"
      },
      {
        "duration": 4,
        "start_time": "2022-06-14T21:17:17.896Z"
      },
      {
        "duration": 24,
        "start_time": "2022-06-14T21:17:17.902Z"
      },
      {
        "duration": 1406,
        "start_time": "2022-06-14T21:17:17.928Z"
      },
      {
        "duration": 5,
        "start_time": "2022-06-14T21:17:19.336Z"
      },
      {
        "duration": 22,
        "start_time": "2022-06-14T21:17:19.343Z"
      },
      {
        "duration": 1975,
        "start_time": "2022-06-14T21:17:19.367Z"
      },
      {
        "duration": 191,
        "start_time": "2022-06-14T21:17:21.343Z"
      },
      {
        "duration": 4,
        "start_time": "2022-06-14T21:17:21.536Z"
      },
      {
        "duration": 34715,
        "start_time": "2022-06-14T21:17:21.541Z"
      },
      {
        "duration": 70,
        "start_time": "2022-06-14T21:17:56.257Z"
      },
      {
        "duration": 65,
        "start_time": "2022-06-14T21:17:56.330Z"
      },
      {
        "duration": 14,
        "start_time": "2022-06-14T21:17:56.397Z"
      },
      {
        "duration": 41,
        "start_time": "2022-06-14T21:35:33.060Z"
      },
      {
        "duration": 9,
        "start_time": "2022-06-14T21:35:48.437Z"
      },
      {
        "duration": 3,
        "start_time": "2022-06-14T21:36:09.739Z"
      },
      {
        "duration": 6,
        "start_time": "2022-06-14T21:36:09.744Z"
      },
      {
        "duration": 1352,
        "start_time": "2022-06-14T21:36:09.751Z"
      },
      {
        "duration": 6,
        "start_time": "2022-06-14T21:36:11.105Z"
      },
      {
        "duration": 5,
        "start_time": "2022-06-14T21:36:11.112Z"
      },
      {
        "duration": 1857,
        "start_time": "2022-06-14T21:36:11.118Z"
      },
      {
        "duration": 4,
        "start_time": "2022-06-14T21:36:12.976Z"
      },
      {
        "duration": 6,
        "start_time": "2022-06-14T21:36:12.982Z"
      },
      {
        "duration": 31805,
        "start_time": "2022-06-14T21:36:12.990Z"
      },
      {
        "duration": 49,
        "start_time": "2022-06-14T21:36:44.797Z"
      },
      {
        "duration": 59,
        "start_time": "2022-06-14T21:36:44.848Z"
      },
      {
        "duration": 2,
        "start_time": "2022-06-14T21:36:44.909Z"
      },
      {
        "duration": 13,
        "start_time": "2022-06-14T21:36:44.913Z"
      },
      {
        "duration": 6,
        "start_time": "2022-06-14T21:37:28.905Z"
      },
      {
        "duration": 4,
        "start_time": "2022-06-14T21:37:50.108Z"
      },
      {
        "duration": 3,
        "start_time": "2022-06-14T21:37:59.111Z"
      },
      {
        "duration": 4,
        "start_time": "2022-06-14T21:38:28.950Z"
      },
      {
        "duration": 8,
        "start_time": "2022-06-14T21:42:03.087Z"
      },
      {
        "duration": 11,
        "start_time": "2022-06-14T21:42:36.132Z"
      },
      {
        "duration": 10,
        "start_time": "2022-06-14T21:42:48.415Z"
      },
      {
        "duration": 426,
        "start_time": "2022-06-14T21:46:03.359Z"
      },
      {
        "duration": 3,
        "start_time": "2022-06-14T21:46:11.754Z"
      },
      {
        "duration": 43,
        "start_time": "2022-06-14T21:46:11.759Z"
      },
      {
        "duration": 1463,
        "start_time": "2022-06-14T21:46:11.824Z"
      },
      {
        "duration": 7,
        "start_time": "2022-06-14T21:46:13.289Z"
      },
      {
        "duration": 19,
        "start_time": "2022-06-14T21:46:13.297Z"
      },
      {
        "duration": 1964,
        "start_time": "2022-06-14T21:46:13.318Z"
      },
      {
        "duration": 5,
        "start_time": "2022-06-14T21:46:15.287Z"
      },
      {
        "duration": 35,
        "start_time": "2022-06-14T21:46:15.293Z"
      },
      {
        "duration": 34905,
        "start_time": "2022-06-14T21:46:15.330Z"
      },
      {
        "duration": 68,
        "start_time": "2022-06-14T21:46:50.237Z"
      },
      {
        "duration": 32,
        "start_time": "2022-06-14T21:46:50.307Z"
      },
      {
        "duration": 6,
        "start_time": "2022-06-14T21:46:50.341Z"
      },
      {
        "duration": 9,
        "start_time": "2022-06-14T21:47:27.797Z"
      },
      {
        "duration": 4,
        "start_time": "2022-06-14T21:47:31.537Z"
      },
      {
        "duration": 6,
        "start_time": "2022-06-14T21:47:43.539Z"
      },
      {
        "duration": 4,
        "start_time": "2022-06-14T21:47:44.297Z"
      },
      {
        "duration": 42,
        "start_time": "2022-06-14T21:47:50.192Z"
      },
      {
        "duration": 6,
        "start_time": "2022-06-14T21:47:52.149Z"
      },
      {
        "duration": 4,
        "start_time": "2022-06-14T21:47:53.587Z"
      },
      {
        "duration": 3,
        "start_time": "2022-06-14T22:11:07.038Z"
      },
      {
        "duration": 3,
        "start_time": "2022-06-14T22:11:10.700Z"
      },
      {
        "duration": 19,
        "start_time": "2022-06-14T22:11:10.704Z"
      },
      {
        "duration": 1397,
        "start_time": "2022-06-14T22:11:10.725Z"
      },
      {
        "duration": 6,
        "start_time": "2022-06-14T22:11:12.123Z"
      },
      {
        "duration": 3,
        "start_time": "2022-06-14T22:11:12.131Z"
      },
      {
        "duration": 3598,
        "start_time": "2022-06-14T22:11:12.135Z"
      },
      {
        "duration": 4,
        "start_time": "2022-06-14T22:11:15.734Z"
      },
      {
        "duration": 9,
        "start_time": "2022-06-14T22:11:15.739Z"
      },
      {
        "duration": 101,
        "start_time": "2022-06-14T22:11:15.759Z"
      },
      {
        "duration": 0,
        "start_time": "2022-06-14T22:11:15.862Z"
      },
      {
        "duration": 0,
        "start_time": "2022-06-14T22:11:15.865Z"
      },
      {
        "duration": 0,
        "start_time": "2022-06-14T22:11:15.867Z"
      },
      {
        "duration": 0,
        "start_time": "2022-06-14T22:11:15.869Z"
      },
      {
        "duration": 3,
        "start_time": "2022-06-14T22:11:52.948Z"
      },
      {
        "duration": 4,
        "start_time": "2022-06-14T22:12:01.770Z"
      },
      {
        "duration": 30781,
        "start_time": "2022-06-14T22:12:02.746Z"
      },
      {
        "duration": 70,
        "start_time": "2022-06-14T22:12:40.641Z"
      },
      {
        "duration": 45,
        "start_time": "2022-06-14T22:12:51.234Z"
      },
      {
        "duration": 6,
        "start_time": "2022-06-14T22:12:51.281Z"
      },
      {
        "duration": 6,
        "start_time": "2022-06-14T22:12:51.290Z"
      },
      {
        "duration": 6,
        "start_time": "2022-06-14T22:14:39.673Z"
      },
      {
        "duration": 4,
        "start_time": "2022-06-14T22:14:40.461Z"
      },
      {
        "duration": 4,
        "start_time": "2022-06-14T22:14:56.125Z"
      },
      {
        "duration": 3,
        "start_time": "2022-06-14T22:15:16.279Z"
      },
      {
        "duration": 7,
        "start_time": "2022-06-14T22:15:24.126Z"
      },
      {
        "duration": 4,
        "start_time": "2022-06-14T22:15:24.857Z"
      },
      {
        "duration": 4,
        "start_time": "2022-06-14T22:15:33.470Z"
      },
      {
        "duration": 4,
        "start_time": "2022-06-14T22:16:27.032Z"
      },
      {
        "duration": 7,
        "start_time": "2022-06-14T22:16:27.038Z"
      },
      {
        "duration": 1351,
        "start_time": "2022-06-14T22:16:27.047Z"
      },
      {
        "duration": 6,
        "start_time": "2022-06-14T22:16:28.400Z"
      },
      {
        "duration": 4,
        "start_time": "2022-06-14T22:16:28.407Z"
      },
      {
        "duration": 3843,
        "start_time": "2022-06-14T22:16:28.413Z"
      },
      {
        "duration": 5,
        "start_time": "2022-06-14T22:16:32.259Z"
      },
      {
        "duration": 13,
        "start_time": "2022-06-14T22:16:32.266Z"
      },
      {
        "duration": 31465,
        "start_time": "2022-06-14T22:16:32.282Z"
      },
      {
        "duration": 78,
        "start_time": "2022-06-14T22:17:03.749Z"
      },
      {
        "duration": 57,
        "start_time": "2022-06-14T22:17:03.829Z"
      },
      {
        "duration": 5,
        "start_time": "2022-06-14T22:17:03.888Z"
      },
      {
        "duration": 21,
        "start_time": "2022-06-14T22:17:03.895Z"
      },
      {
        "duration": 12,
        "start_time": "2022-06-14T22:18:06.465Z"
      },
      {
        "duration": 5,
        "start_time": "2022-06-14T22:18:11.633Z"
      },
      {
        "duration": 9,
        "start_time": "2022-06-14T22:18:22.513Z"
      },
      {
        "duration": 3,
        "start_time": "2022-06-14T22:19:23.377Z"
      },
      {
        "duration": 375,
        "start_time": "2022-06-14T22:19:26.589Z"
      },
      {
        "duration": 4,
        "start_time": "2022-06-14T22:19:51.182Z"
      },
      {
        "duration": 10,
        "start_time": "2022-06-14T22:19:51.188Z"
      },
      {
        "duration": 1453,
        "start_time": "2022-06-14T22:19:51.200Z"
      },
      {
        "duration": 9,
        "start_time": "2022-06-14T22:19:52.659Z"
      },
      {
        "duration": 12,
        "start_time": "2022-06-14T22:19:52.671Z"
      },
      {
        "duration": 1240,
        "start_time": "2022-06-14T22:20:07.120Z"
      },
      {
        "duration": 6,
        "start_time": "2022-06-14T22:20:08.362Z"
      },
      {
        "duration": 3300,
        "start_time": "2022-06-14T22:20:08.370Z"
      },
      {
        "duration": 8,
        "start_time": "2022-06-14T22:20:11.676Z"
      },
      {
        "duration": 6,
        "start_time": "2022-06-14T22:20:11.686Z"
      },
      {
        "duration": 3496,
        "start_time": "2022-06-14T22:20:11.694Z"
      },
      {
        "duration": 130,
        "start_time": "2022-06-14T22:20:15.192Z"
      },
      {
        "duration": 3,
        "start_time": "2022-06-14T22:20:15.323Z"
      },
      {
        "duration": 33047,
        "start_time": "2022-06-14T22:20:15.327Z"
      },
      {
        "duration": 73,
        "start_time": "2022-06-14T22:20:48.376Z"
      },
      {
        "duration": 42,
        "start_time": "2022-06-14T22:20:48.459Z"
      },
      {
        "duration": 7,
        "start_time": "2022-06-14T22:20:48.503Z"
      },
      {
        "duration": 125,
        "start_time": "2022-06-14T22:20:48.511Z"
      },
      {
        "duration": 5,
        "start_time": "2022-06-14T22:21:17.587Z"
      },
      {
        "duration": 3,
        "start_time": "2022-06-14T22:21:37.309Z"
      },
      {
        "duration": 3,
        "start_time": "2022-06-14T22:25:51.176Z"
      },
      {
        "duration": 9,
        "start_time": "2022-06-14T22:25:51.181Z"
      },
      {
        "duration": 1334,
        "start_time": "2022-06-14T22:25:51.191Z"
      },
      {
        "duration": 7,
        "start_time": "2022-06-14T22:25:52.527Z"
      },
      {
        "duration": 3,
        "start_time": "2022-06-14T22:25:52.536Z"
      },
      {
        "duration": 2564,
        "start_time": "2022-06-14T22:25:52.560Z"
      },
      {
        "duration": 5,
        "start_time": "2022-06-14T22:25:55.126Z"
      },
      {
        "duration": 6,
        "start_time": "2022-06-14T22:25:55.133Z"
      },
      {
        "duration": 149255,
        "start_time": "2022-06-14T22:25:55.140Z"
      },
      {
        "duration": 48,
        "start_time": "2022-06-14T22:28:24.396Z"
      },
      {
        "duration": 57,
        "start_time": "2022-06-14T22:28:24.445Z"
      },
      {
        "duration": 6,
        "start_time": "2022-06-14T22:28:24.503Z"
      },
      {
        "duration": 18,
        "start_time": "2022-06-14T22:28:24.510Z"
      },
      {
        "duration": 353,
        "start_time": "2022-06-14T22:29:13.006Z"
      },
      {
        "duration": 352,
        "start_time": "2022-06-14T22:29:17.892Z"
      },
      {
        "duration": 362,
        "start_time": "2022-06-14T22:29:26.779Z"
      },
      {
        "duration": 3,
        "start_time": "2022-06-14T22:29:34.576Z"
      },
      {
        "duration": 27,
        "start_time": "2022-06-14T22:29:34.581Z"
      },
      {
        "duration": 1336,
        "start_time": "2022-06-14T22:29:34.610Z"
      },
      {
        "duration": 11,
        "start_time": "2022-06-14T22:29:35.949Z"
      },
      {
        "duration": 16,
        "start_time": "2022-06-14T22:29:35.963Z"
      },
      {
        "duration": 2556,
        "start_time": "2022-06-14T22:29:35.980Z"
      },
      {
        "duration": 4,
        "start_time": "2022-06-14T22:29:38.537Z"
      },
      {
        "duration": 17,
        "start_time": "2022-06-14T22:29:38.543Z"
      },
      {
        "duration": 158619,
        "start_time": "2022-06-14T22:29:38.562Z"
      },
      {
        "duration": 58,
        "start_time": "2022-06-14T22:32:17.187Z"
      },
      {
        "duration": 66,
        "start_time": "2022-06-14T22:32:17.248Z"
      },
      {
        "duration": 8,
        "start_time": "2022-06-14T22:32:17.316Z"
      },
      {
        "duration": 23,
        "start_time": "2022-06-14T22:32:17.326Z"
      },
      {
        "duration": 3,
        "start_time": "2022-06-14T22:33:06.307Z"
      },
      {
        "duration": 497,
        "start_time": "2022-06-14T22:33:07.081Z"
      },
      {
        "duration": 4,
        "start_time": "2022-06-14T22:33:10.502Z"
      },
      {
        "duration": 6,
        "start_time": "2022-06-14T22:33:10.508Z"
      },
      {
        "duration": 1429,
        "start_time": "2022-06-14T22:33:10.515Z"
      },
      {
        "duration": 18,
        "start_time": "2022-06-14T22:33:11.946Z"
      },
      {
        "duration": 5,
        "start_time": "2022-06-14T22:33:11.975Z"
      },
      {
        "duration": 2796,
        "start_time": "2022-06-14T22:33:11.982Z"
      },
      {
        "duration": 5,
        "start_time": "2022-06-14T22:33:14.781Z"
      },
      {
        "duration": 13,
        "start_time": "2022-06-14T22:33:14.788Z"
      },
      {
        "duration": 1848,
        "start_time": "2022-06-14T22:33:14.802Z"
      },
      {
        "duration": 64,
        "start_time": "2022-06-14T22:33:16.660Z"
      },
      {
        "duration": 66,
        "start_time": "2022-06-14T22:33:16.725Z"
      },
      {
        "duration": 6,
        "start_time": "2022-06-14T22:33:16.793Z"
      },
      {
        "duration": 7,
        "start_time": "2022-06-14T22:33:16.800Z"
      },
      {
        "duration": 5,
        "start_time": "2022-06-14T22:33:41.175Z"
      },
      {
        "duration": 365,
        "start_time": "2022-06-14T22:33:42.282Z"
      },
      {
        "duration": 5,
        "start_time": "2022-06-14T22:33:45.181Z"
      },
      {
        "duration": 12,
        "start_time": "2022-06-14T22:33:45.188Z"
      },
      {
        "duration": 1433,
        "start_time": "2022-06-14T22:33:45.202Z"
      },
      {
        "duration": 5,
        "start_time": "2022-06-14T22:33:46.637Z"
      },
      {
        "duration": 20,
        "start_time": "2022-06-14T22:33:46.644Z"
      },
      {
        "duration": 2806,
        "start_time": "2022-06-14T22:33:46.666Z"
      },
      {
        "duration": 8,
        "start_time": "2022-06-14T22:33:49.475Z"
      },
      {
        "duration": 9,
        "start_time": "2022-06-14T22:33:49.487Z"
      },
      {
        "duration": 613,
        "start_time": "2022-06-14T22:33:49.497Z"
      },
      {
        "duration": 53,
        "start_time": "2022-06-14T22:33:50.112Z"
      },
      {
        "duration": 49,
        "start_time": "2022-06-14T22:33:50.167Z"
      },
      {
        "duration": 7,
        "start_time": "2022-06-14T22:33:50.218Z"
      },
      {
        "duration": 8,
        "start_time": "2022-06-14T22:33:50.226Z"
      },
      {
        "duration": 5,
        "start_time": "2022-06-14T22:34:33.942Z"
      },
      {
        "duration": 4,
        "start_time": "2022-06-14T22:34:36.741Z"
      },
      {
        "duration": 10,
        "start_time": "2022-06-14T22:34:36.747Z"
      },
      {
        "duration": 1460,
        "start_time": "2022-06-14T22:34:36.759Z"
      },
      {
        "duration": 6,
        "start_time": "2022-06-14T22:34:38.220Z"
      },
      {
        "duration": 3,
        "start_time": "2022-06-14T22:34:38.228Z"
      },
      {
        "duration": 2757,
        "start_time": "2022-06-14T22:34:38.233Z"
      },
      {
        "duration": 4,
        "start_time": "2022-06-14T22:34:40.992Z"
      },
      {
        "duration": 16,
        "start_time": "2022-06-14T22:34:40.997Z"
      },
      {
        "duration": 129,
        "start_time": "2022-06-14T22:34:41.015Z"
      },
      {
        "duration": 0,
        "start_time": "2022-06-14T22:34:41.146Z"
      },
      {
        "duration": 0,
        "start_time": "2022-06-14T22:34:41.147Z"
      },
      {
        "duration": 0,
        "start_time": "2022-06-14T22:34:41.149Z"
      },
      {
        "duration": 0,
        "start_time": "2022-06-14T22:34:41.150Z"
      },
      {
        "duration": 29,
        "start_time": "2022-06-14T22:34:53.913Z"
      },
      {
        "duration": 4,
        "start_time": "2022-06-14T22:35:03.124Z"
      },
      {
        "duration": 59535,
        "start_time": "2022-06-14T22:35:05.933Z"
      },
      {
        "duration": 6,
        "start_time": "2022-06-14T22:36:07.675Z"
      },
      {
        "duration": 28,
        "start_time": "2022-06-14T22:36:07.684Z"
      },
      {
        "duration": 1477,
        "start_time": "2022-06-14T22:36:07.714Z"
      },
      {
        "duration": 6,
        "start_time": "2022-06-14T22:36:09.192Z"
      },
      {
        "duration": 5,
        "start_time": "2022-06-14T22:36:09.200Z"
      },
      {
        "duration": 2749,
        "start_time": "2022-06-14T22:36:09.207Z"
      },
      {
        "duration": 5,
        "start_time": "2022-06-14T22:36:11.959Z"
      },
      {
        "duration": 22,
        "start_time": "2022-06-14T22:36:11.967Z"
      },
      {
        "duration": 165048,
        "start_time": "2022-06-14T22:36:11.991Z"
      },
      {
        "duration": 68,
        "start_time": "2022-06-14T22:38:57.041Z"
      },
      {
        "duration": 49,
        "start_time": "2022-06-14T22:38:57.110Z"
      },
      {
        "duration": 13,
        "start_time": "2022-06-14T22:38:57.168Z"
      },
      {
        "duration": 11,
        "start_time": "2022-06-14T22:38:57.184Z"
      },
      {
        "duration": 1283,
        "start_time": "2022-06-14T22:40:29.751Z"
      },
      {
        "duration": 4,
        "start_time": "2022-06-14T22:40:31.036Z"
      },
      {
        "duration": 1486,
        "start_time": "2022-06-14T22:40:31.041Z"
      },
      {
        "duration": 7,
        "start_time": "2022-06-14T22:40:32.529Z"
      },
      {
        "duration": 14,
        "start_time": "2022-06-14T22:40:32.538Z"
      },
      {
        "duration": 2735,
        "start_time": "2022-06-14T22:40:32.559Z"
      },
      {
        "duration": 199,
        "start_time": "2022-06-14T22:40:35.295Z"
      },
      {
        "duration": 4,
        "start_time": "2022-06-14T22:40:35.496Z"
      },
      {
        "duration": 168101,
        "start_time": "2022-06-14T22:40:35.502Z"
      },
      {
        "duration": 123,
        "start_time": "2022-06-14T22:43:23.605Z"
      },
      {
        "duration": 6,
        "start_time": "2022-06-14T22:43:23.730Z"
      },
      {
        "duration": 9,
        "start_time": "2022-06-14T22:43:23.737Z"
      },
      {
        "duration": 19,
        "start_time": "2022-06-14T22:44:19.634Z"
      },
      {
        "duration": 58,
        "start_time": "2022-06-14T22:44:21.999Z"
      },
      {
        "duration": 128,
        "start_time": "2022-06-14T22:44:45.703Z"
      },
      {
        "duration": 16,
        "start_time": "2022-06-14T22:45:00.182Z"
      },
      {
        "duration": 23,
        "start_time": "2022-06-14T22:45:29.858Z"
      },
      {
        "duration": 13,
        "start_time": "2022-06-14T22:46:00.010Z"
      },
      {
        "duration": 6,
        "start_time": "2022-06-14T22:46:05.095Z"
      },
      {
        "duration": 6,
        "start_time": "2022-06-14T22:46:08.375Z"
      },
      {
        "duration": 8,
        "start_time": "2022-06-14T22:46:50.649Z"
      },
      {
        "duration": 3,
        "start_time": "2022-06-14T22:47:44.996Z"
      },
      {
        "duration": 5,
        "start_time": "2022-06-14T22:47:48.774Z"
      },
      {
        "duration": 11,
        "start_time": "2022-06-14T22:47:48.782Z"
      },
      {
        "duration": 1458,
        "start_time": "2022-06-14T22:47:48.795Z"
      },
      {
        "duration": 13,
        "start_time": "2022-06-14T22:47:50.274Z"
      },
      {
        "duration": 23,
        "start_time": "2022-06-14T22:47:50.290Z"
      },
      {
        "duration": 2930,
        "start_time": "2022-06-14T22:47:50.315Z"
      },
      {
        "duration": 6,
        "start_time": "2022-06-14T22:47:53.247Z"
      },
      {
        "duration": 27,
        "start_time": "2022-06-14T22:47:53.260Z"
      },
      {
        "duration": 1734,
        "start_time": "2022-06-14T22:47:53.290Z"
      },
      {
        "duration": 67,
        "start_time": "2022-06-14T22:47:55.025Z"
      },
      {
        "duration": 32,
        "start_time": "2022-06-14T22:47:55.095Z"
      },
      {
        "duration": 7,
        "start_time": "2022-06-14T22:47:55.129Z"
      },
      {
        "duration": 30,
        "start_time": "2022-06-14T22:47:55.138Z"
      },
      {
        "duration": 14,
        "start_time": "2022-06-14T22:47:55.174Z"
      },
      {
        "duration": 5,
        "start_time": "2022-06-14T22:48:25.874Z"
      },
      {
        "duration": 12,
        "start_time": "2022-06-14T22:48:25.882Z"
      },
      {
        "duration": 1437,
        "start_time": "2022-06-14T22:48:25.895Z"
      },
      {
        "duration": 6,
        "start_time": "2022-06-14T22:48:27.334Z"
      },
      {
        "duration": 5,
        "start_time": "2022-06-14T22:48:27.341Z"
      },
      {
        "duration": 2757,
        "start_time": "2022-06-14T22:48:27.359Z"
      },
      {
        "duration": 4,
        "start_time": "2022-06-14T22:48:30.118Z"
      },
      {
        "duration": 21,
        "start_time": "2022-06-14T22:48:30.123Z"
      },
      {
        "duration": 166802,
        "start_time": "2022-06-14T22:48:30.146Z"
      },
      {
        "duration": 60,
        "start_time": "2022-06-14T22:51:16.950Z"
      },
      {
        "duration": 33,
        "start_time": "2022-06-14T22:51:17.012Z"
      },
      {
        "duration": 30,
        "start_time": "2022-06-14T22:51:17.047Z"
      },
      {
        "duration": 15,
        "start_time": "2022-06-14T22:51:17.079Z"
      },
      {
        "duration": 8,
        "start_time": "2022-06-14T22:51:17.096Z"
      },
      {
        "duration": 9,
        "start_time": "2022-06-14T22:52:49.383Z"
      },
      {
        "duration": 3,
        "start_time": "2022-06-14T22:53:03.490Z"
      },
      {
        "duration": 4,
        "start_time": "2022-06-14T22:53:22.316Z"
      },
      {
        "duration": 5,
        "start_time": "2022-06-14T22:55:01.149Z"
      },
      {
        "duration": 7,
        "start_time": "2022-06-14T22:55:01.761Z"
      },
      {
        "duration": 1375,
        "start_time": "2022-06-14T22:55:02.647Z"
      },
      {
        "duration": 6,
        "start_time": "2022-06-14T22:55:06.034Z"
      },
      {
        "duration": 41,
        "start_time": "2022-06-14T22:55:10.950Z"
      },
      {
        "duration": 3,
        "start_time": "2022-06-14T22:55:17.734Z"
      },
      {
        "duration": 2557,
        "start_time": "2022-06-14T22:55:20.818Z"
      },
      {
        "duration": 4,
        "start_time": "2022-06-14T22:55:35.994Z"
      },
      {
        "duration": 3,
        "start_time": "2022-06-14T22:55:38.543Z"
      },
      {
        "duration": 3534,
        "start_time": "2022-06-14T22:55:41.399Z"
      },
      {
        "duration": 4,
        "start_time": "2022-06-14T22:55:52.829Z"
      },
      {
        "duration": 4,
        "start_time": "2022-06-14T22:57:16.621Z"
      },
      {
        "duration": 3,
        "start_time": "2022-06-14T22:57:23.014Z"
      },
      {
        "duration": 32009,
        "start_time": "2022-06-14T22:57:24.252Z"
      },
      {
        "duration": 4,
        "start_time": "2022-06-14T22:58:14.755Z"
      },
      {
        "duration": 33554,
        "start_time": "2022-06-14T22:58:15.657Z"
      },
      {
        "duration": 5,
        "start_time": "2022-06-14T22:59:34.056Z"
      },
      {
        "duration": 5,
        "start_time": "2022-06-14T22:59:50.797Z"
      },
      {
        "duration": 8,
        "start_time": "2022-06-14T23:00:15.659Z"
      },
      {
        "duration": 148,
        "start_time": "2022-06-14T23:00:16.487Z"
      },
      {
        "duration": 1314,
        "start_time": "2022-06-14T23:00:28.739Z"
      },
      {
        "duration": 6,
        "start_time": "2022-06-14T23:00:30.180Z"
      },
      {
        "duration": 3,
        "start_time": "2022-06-14T23:00:31.732Z"
      },
      {
        "duration": 4317,
        "start_time": "2022-06-14T23:00:32.609Z"
      },
      {
        "duration": 4,
        "start_time": "2022-06-14T23:00:36.928Z"
      },
      {
        "duration": 23,
        "start_time": "2022-06-14T23:00:36.933Z"
      },
      {
        "duration": 119,
        "start_time": "2022-06-14T23:00:41.606Z"
      },
      {
        "duration": 2,
        "start_time": "2022-06-14T23:04:02.825Z"
      },
      {
        "duration": 123,
        "start_time": "2022-06-14T23:04:04.829Z"
      },
      {
        "duration": 4,
        "start_time": "2022-06-14T23:04:27.842Z"
      },
      {
        "duration": 31251,
        "start_time": "2022-06-14T23:04:28.900Z"
      },
      {
        "duration": 5,
        "start_time": "2022-06-14T23:05:00.158Z"
      },
      {
        "duration": 4,
        "start_time": "2022-06-14T23:05:26.644Z"
      },
      {
        "duration": 22,
        "start_time": "2022-06-14T23:05:45.587Z"
      },
      {
        "duration": 4,
        "start_time": "2022-06-14T23:06:01.244Z"
      },
      {
        "duration": 4,
        "start_time": "2022-06-14T23:06:16.121Z"
      },
      {
        "duration": 67,
        "start_time": "2022-06-14T23:06:31.780Z"
      },
      {
        "duration": 42,
        "start_time": "2022-06-14T23:06:32.624Z"
      },
      {
        "duration": 12,
        "start_time": "2022-06-14T23:06:35.777Z"
      },
      {
        "duration": 8,
        "start_time": "2022-06-14T23:06:39.581Z"
      },
      {
        "duration": 4,
        "start_time": "2022-06-14T23:06:40.318Z"
      },
      {
        "duration": 17,
        "start_time": "2022-06-14T23:06:51.456Z"
      },
      {
        "duration": 4,
        "start_time": "2022-06-14T23:06:52.096Z"
      },
      {
        "duration": 11,
        "start_time": "2022-06-14T23:07:19.604Z"
      },
      {
        "duration": 8,
        "start_time": "2022-06-14T23:07:24.928Z"
      },
      {
        "duration": 16,
        "start_time": "2022-06-14T23:07:35.753Z"
      },
      {
        "duration": 4,
        "start_time": "2022-06-14T23:07:39.847Z"
      },
      {
        "duration": 55,
        "start_time": "2022-06-14T23:08:05.334Z"
      },
      {
        "duration": 1232,
        "start_time": "2022-06-14T23:08:15.292Z"
      },
      {
        "duration": 3,
        "start_time": "2022-06-14T23:08:16.526Z"
      },
      {
        "duration": 3465,
        "start_time": "2022-06-14T23:08:16.531Z"
      },
      {
        "duration": 8,
        "start_time": "2022-06-14T23:08:19.997Z"
      },
      {
        "duration": 3,
        "start_time": "2022-06-14T23:08:20.007Z"
      },
      {
        "duration": 3733,
        "start_time": "2022-06-14T23:08:20.011Z"
      },
      {
        "duration": 154,
        "start_time": "2022-06-14T23:08:23.746Z"
      },
      {
        "duration": 3,
        "start_time": "2022-06-14T23:08:23.902Z"
      },
      {
        "duration": 35923,
        "start_time": "2022-06-14T23:08:23.906Z"
      },
      {
        "duration": 82,
        "start_time": "2022-06-14T23:08:59.831Z"
      },
      {
        "duration": 48,
        "start_time": "2022-06-14T23:08:59.915Z"
      },
      {
        "duration": 22,
        "start_time": "2022-06-14T23:08:59.965Z"
      },
      {
        "duration": 10,
        "start_time": "2022-06-14T23:08:59.989Z"
      },
      {
        "duration": 11,
        "start_time": "2022-06-14T23:09:00.001Z"
      },
      {
        "duration": 87,
        "start_time": "2022-06-14T23:11:01.877Z"
      },
      {
        "duration": 6,
        "start_time": "2022-06-14T23:12:01.407Z"
      },
      {
        "duration": 4,
        "start_time": "2022-06-14T23:12:03.836Z"
      },
      {
        "duration": 27,
        "start_time": "2022-06-14T23:14:12.717Z"
      },
      {
        "duration": 6,
        "start_time": "2022-06-14T23:15:01.426Z"
      },
      {
        "duration": 4,
        "start_time": "2022-06-14T23:15:12.925Z"
      },
      {
        "duration": 3,
        "start_time": "2022-06-14T23:15:22.978Z"
      },
      {
        "duration": 50,
        "start_time": "2022-06-14T23:16:13.761Z"
      },
      {
        "duration": 12,
        "start_time": "2022-06-14T23:17:36.680Z"
      },
      {
        "duration": 8,
        "start_time": "2022-06-14T23:17:42.552Z"
      },
      {
        "duration": 15,
        "start_time": "2022-06-14T23:18:05.552Z"
      },
      {
        "duration": 12,
        "start_time": "2022-06-14T23:18:22.175Z"
      },
      {
        "duration": 4,
        "start_time": "2022-06-14T23:18:45.748Z"
      },
      {
        "duration": 1398,
        "start_time": "2022-06-15T14:12:17.066Z"
      },
      {
        "duration": 5,
        "start_time": "2022-06-15T14:12:18.467Z"
      },
      {
        "duration": 3141,
        "start_time": "2022-06-15T14:12:18.473Z"
      },
      {
        "duration": 9,
        "start_time": "2022-06-15T14:12:21.616Z"
      },
      {
        "duration": 7,
        "start_time": "2022-06-15T14:12:21.628Z"
      },
      {
        "duration": 3928,
        "start_time": "2022-06-15T14:12:21.638Z"
      },
      {
        "duration": 138,
        "start_time": "2022-06-15T14:12:25.568Z"
      },
      {
        "duration": 4,
        "start_time": "2022-06-15T14:12:25.708Z"
      },
      {
        "duration": 183,
        "start_time": "2022-06-15T14:12:25.714Z"
      },
      {
        "duration": 0,
        "start_time": "2022-06-15T14:12:25.900Z"
      },
      {
        "duration": 0,
        "start_time": "2022-06-15T14:12:25.902Z"
      },
      {
        "duration": 40,
        "start_time": "2022-06-15T14:13:05.402Z"
      },
      {
        "duration": 4,
        "start_time": "2022-06-15T14:13:45.112Z"
      },
      {
        "duration": 21642,
        "start_time": "2022-06-15T14:13:46.185Z"
      },
      {
        "duration": 5,
        "start_time": "2022-06-15T14:14:52.574Z"
      },
      {
        "duration": 24,
        "start_time": "2022-06-15T14:14:52.581Z"
      },
      {
        "duration": 1287,
        "start_time": "2022-06-15T14:14:52.607Z"
      },
      {
        "duration": 7,
        "start_time": "2022-06-15T14:14:53.895Z"
      },
      {
        "duration": 3,
        "start_time": "2022-06-15T14:14:53.904Z"
      },
      {
        "duration": 3663,
        "start_time": "2022-06-15T14:14:53.908Z"
      },
      {
        "duration": 4,
        "start_time": "2022-06-15T14:14:57.572Z"
      },
      {
        "duration": 6,
        "start_time": "2022-06-15T14:14:57.578Z"
      },
      {
        "duration": 19295,
        "start_time": "2022-06-15T14:14:57.585Z"
      },
      {
        "duration": 62,
        "start_time": "2022-06-15T14:15:16.881Z"
      },
      {
        "duration": 53,
        "start_time": "2022-06-15T14:15:16.944Z"
      },
      {
        "duration": 507,
        "start_time": "2022-06-15T14:16:15.041Z"
      },
      {
        "duration": 4,
        "start_time": "2022-06-15T14:16:33.115Z"
      },
      {
        "duration": 9,
        "start_time": "2022-06-15T14:16:33.122Z"
      },
      {
        "duration": 1315,
        "start_time": "2022-06-15T14:16:33.133Z"
      },
      {
        "duration": 18,
        "start_time": "2022-06-15T14:16:34.451Z"
      },
      {
        "duration": 3,
        "start_time": "2022-06-15T14:16:34.471Z"
      },
      {
        "duration": 3993,
        "start_time": "2022-06-15T14:16:34.476Z"
      },
      {
        "duration": 6,
        "start_time": "2022-06-15T14:16:38.471Z"
      },
      {
        "duration": 11,
        "start_time": "2022-06-15T14:16:38.479Z"
      },
      {
        "duration": 18734,
        "start_time": "2022-06-15T14:16:38.493Z"
      },
      {
        "duration": 57,
        "start_time": "2022-06-15T14:16:57.229Z"
      },
      {
        "duration": 445,
        "start_time": "2022-06-15T14:16:57.288Z"
      },
      {
        "duration": 16,
        "start_time": "2022-06-15T14:17:25.706Z"
      },
      {
        "duration": 15,
        "start_time": "2022-06-15T14:17:31.194Z"
      },
      {
        "duration": 14,
        "start_time": "2022-06-15T14:17:48.714Z"
      },
      {
        "duration": 14,
        "start_time": "2022-06-15T14:17:57.234Z"
      },
      {
        "duration": 13,
        "start_time": "2022-06-15T14:17:58.738Z"
      },
      {
        "duration": 4,
        "start_time": "2022-06-15T14:18:05.996Z"
      },
      {
        "duration": 10,
        "start_time": "2022-06-15T14:18:06.002Z"
      },
      {
        "duration": 1293,
        "start_time": "2022-06-15T14:18:06.014Z"
      },
      {
        "duration": 5,
        "start_time": "2022-06-15T14:18:07.309Z"
      },
      {
        "duration": 7,
        "start_time": "2022-06-15T14:18:07.316Z"
      },
      {
        "duration": 4402,
        "start_time": "2022-06-15T14:18:07.325Z"
      },
      {
        "duration": 5,
        "start_time": "2022-06-15T14:18:11.728Z"
      },
      {
        "duration": 8,
        "start_time": "2022-06-15T14:18:11.735Z"
      },
      {
        "duration": 18492,
        "start_time": "2022-06-15T14:18:11.745Z"
      },
      {
        "duration": 63,
        "start_time": "2022-06-15T14:18:30.239Z"
      },
      {
        "duration": 75,
        "start_time": "2022-06-15T14:18:30.305Z"
      },
      {
        "duration": 22,
        "start_time": "2022-06-15T14:22:04.566Z"
      },
      {
        "duration": 10,
        "start_time": "2022-06-15T14:22:12.721Z"
      },
      {
        "duration": 10,
        "start_time": "2022-06-15T14:22:22.285Z"
      },
      {
        "duration": 7,
        "start_time": "2022-06-15T14:22:57.886Z"
      },
      {
        "duration": 4,
        "start_time": "2022-06-15T14:23:20.946Z"
      },
      {
        "duration": 5,
        "start_time": "2022-06-15T14:25:09.155Z"
      },
      {
        "duration": 9,
        "start_time": "2022-06-15T14:25:32.818Z"
      },
      {
        "duration": 6,
        "start_time": "2022-06-15T14:25:44.092Z"
      },
      {
        "duration": 14,
        "start_time": "2022-06-15T14:27:21.853Z"
      },
      {
        "duration": 4679,
        "start_time": "2022-06-15T14:28:31.100Z"
      },
      {
        "duration": 4,
        "start_time": "2022-06-15T14:28:35.781Z"
      },
      {
        "duration": 44258,
        "start_time": "2022-06-15T14:28:41.412Z"
      },
      {
        "duration": 42,
        "start_time": "2022-06-15T14:30:19.666Z"
      },
      {
        "duration": 38,
        "start_time": "2022-06-15T14:30:33.249Z"
      },
      {
        "duration": 10,
        "start_time": "2022-06-15T14:30:42.482Z"
      },
      {
        "duration": 11,
        "start_time": "2022-06-15T14:30:49.667Z"
      },
      {
        "duration": 33,
        "start_time": "2022-06-15T14:32:58.924Z"
      },
      {
        "duration": 3,
        "start_time": "2022-06-15T14:35:01.553Z"
      },
      {
        "duration": 3,
        "start_time": "2022-06-15T14:37:11.574Z"
      },
      {
        "duration": 4,
        "start_time": "2022-06-15T14:38:29.090Z"
      },
      {
        "duration": 1213,
        "start_time": "2022-06-15T19:03:29.409Z"
      },
      {
        "duration": 4,
        "start_time": "2022-06-15T19:13:51.140Z"
      },
      {
        "duration": 19,
        "start_time": "2022-06-15T19:13:51.147Z"
      },
      {
        "duration": 3410,
        "start_time": "2022-06-15T19:13:51.167Z"
      },
      {
        "duration": 32,
        "start_time": "2022-06-15T19:13:54.579Z"
      },
      {
        "duration": 4,
        "start_time": "2022-06-15T19:13:54.613Z"
      },
      {
        "duration": 3092,
        "start_time": "2022-06-15T19:13:54.619Z"
      },
      {
        "duration": 179,
        "start_time": "2022-06-15T19:13:57.713Z"
      },
      {
        "duration": 3,
        "start_time": "2022-06-15T19:13:57.894Z"
      },
      {
        "duration": 19388,
        "start_time": "2022-06-15T19:13:57.900Z"
      },
      {
        "duration": 65,
        "start_time": "2022-06-15T19:14:17.289Z"
      },
      {
        "duration": 69,
        "start_time": "2022-06-15T19:14:17.356Z"
      },
      {
        "duration": 3,
        "start_time": "2022-06-15T19:14:17.427Z"
      },
      {
        "duration": 3961,
        "start_time": "2022-06-15T19:14:17.432Z"
      },
      {
        "duration": 3,
        "start_time": "2022-06-15T19:14:21.395Z"
      },
      {
        "duration": 40643,
        "start_time": "2022-06-15T19:14:21.400Z"
      },
      {
        "duration": 106,
        "start_time": "2022-06-15T19:15:02.046Z"
      },
      {
        "duration": 612220,
        "start_time": "2022-06-15T19:15:02.153Z"
      },
      {
        "duration": 0,
        "start_time": "2022-06-15T19:25:14.375Z"
      },
      {
        "duration": 0,
        "start_time": "2022-06-15T19:25:14.376Z"
      },
      {
        "duration": 250272,
        "start_time": "2022-06-15T19:25:28.440Z"
      },
      {
        "duration": 338006,
        "start_time": "2022-06-15T19:30:10.683Z"
      },
      {
        "duration": 1564924,
        "start_time": "2022-06-15T19:36:02.625Z"
      },
      {
        "duration": 1510817,
        "start_time": "2022-06-15T20:02:24.526Z"
      },
      {
        "duration": 89759,
        "start_time": "2022-06-15T20:27:36.494Z"
      },
      {
        "duration": 7432,
        "start_time": "2022-06-15T20:29:15.696Z"
      },
      {
        "duration": 1129,
        "start_time": "2022-06-15T20:29:41.234Z"
      },
      {
        "duration": 4,
        "start_time": "2022-06-15T20:29:42.364Z"
      },
      {
        "duration": 1132,
        "start_time": "2022-06-15T20:29:42.369Z"
      },
      {
        "duration": 6,
        "start_time": "2022-06-15T20:29:43.503Z"
      },
      {
        "duration": 16,
        "start_time": "2022-06-15T20:29:43.510Z"
      },
      {
        "duration": 2858,
        "start_time": "2022-06-15T20:29:43.527Z"
      },
      {
        "duration": 249,
        "start_time": "2022-06-15T20:29:46.386Z"
      },
      {
        "duration": 3,
        "start_time": "2022-06-15T20:29:46.637Z"
      },
      {
        "duration": 17791,
        "start_time": "2022-06-15T20:29:46.642Z"
      },
      {
        "duration": 73,
        "start_time": "2022-06-15T20:30:04.436Z"
      },
      {
        "duration": 88,
        "start_time": "2022-06-15T20:30:04.510Z"
      },
      {
        "duration": 4,
        "start_time": "2022-06-15T20:30:04.600Z"
      },
      {
        "duration": 4403,
        "start_time": "2022-06-15T20:30:04.606Z"
      },
      {
        "duration": 4,
        "start_time": "2022-06-15T20:30:09.010Z"
      },
      {
        "duration": 1031151,
        "start_time": "2022-06-15T20:30:09.016Z"
      },
      {
        "duration": 0,
        "start_time": "2022-06-15T20:47:20.169Z"
      },
      {
        "duration": 0,
        "start_time": "2022-06-15T20:47:20.170Z"
      },
      {
        "duration": 1369933,
        "start_time": "2022-06-15T20:47:36.998Z"
      },
      {
        "duration": 634996,
        "start_time": "2022-06-15T21:24:54.992Z"
      },
      {
        "duration": 126,
        "start_time": "2022-06-15T21:35:29.989Z"
      },
      {
        "duration": 29,
        "start_time": "2022-06-15T21:38:02.862Z"
      },
      {
        "duration": 599066,
        "start_time": "2022-06-15T21:38:59.042Z"
      },
      {
        "duration": 43430,
        "start_time": "2022-06-15T21:58:30.696Z"
      },
      {
        "duration": 10,
        "start_time": "2022-06-15T22:00:20.799Z"
      },
      {
        "duration": 12,
        "start_time": "2022-06-15T22:00:37.216Z"
      },
      {
        "duration": 10,
        "start_time": "2022-06-15T22:01:08.329Z"
      },
      {
        "duration": 3,
        "start_time": "2022-06-15T22:01:24.184Z"
      },
      {
        "duration": 25,
        "start_time": "2022-06-15T22:02:01.361Z"
      },
      {
        "duration": 36,
        "start_time": "2022-06-15T22:09:01.719Z"
      },
      {
        "duration": 18,
        "start_time": "2022-06-15T22:09:15.821Z"
      },
      {
        "duration": 17,
        "start_time": "2022-06-15T22:09:29.405Z"
      },
      {
        "duration": 26,
        "start_time": "2022-06-15T22:09:35.536Z"
      },
      {
        "duration": 964,
        "start_time": "2022-06-15T22:11:02.157Z"
      },
      {
        "duration": 317,
        "start_time": "2022-06-15T22:11:15.962Z"
      },
      {
        "duration": 217,
        "start_time": "2022-06-15T22:14:34.533Z"
      },
      {
        "duration": 213,
        "start_time": "2022-06-15T22:14:59.142Z"
      },
      {
        "duration": 28,
        "start_time": "2022-06-15T22:29:21.123Z"
      },
      {
        "duration": 4,
        "start_time": "2022-06-15T22:31:23.380Z"
      },
      {
        "duration": 34,
        "start_time": "2022-06-15T22:34:16.744Z"
      },
      {
        "duration": 6,
        "start_time": "2022-06-15T22:34:56.732Z"
      },
      {
        "duration": 29,
        "start_time": "2022-06-15T22:35:37.886Z"
      },
      {
        "duration": 5,
        "start_time": "2022-06-15T22:35:39.871Z"
      },
      {
        "duration": 3,
        "start_time": "2022-06-15T22:37:20.279Z"
      },
      {
        "duration": 40,
        "start_time": "2022-06-15T22:38:17.968Z"
      },
      {
        "duration": 37,
        "start_time": "2022-06-15T22:39:16.444Z"
      },
      {
        "duration": 81,
        "start_time": "2022-06-15T22:40:42.048Z"
      },
      {
        "duration": 213,
        "start_time": "2022-06-15T22:42:18.446Z"
      },
      {
        "duration": 54,
        "start_time": "2022-06-15T22:43:43.789Z"
      },
      {
        "duration": 81,
        "start_time": "2022-06-15T22:43:50.463Z"
      },
      {
        "duration": 81,
        "start_time": "2022-06-15T22:44:12.079Z"
      },
      {
        "duration": 77,
        "start_time": "2022-06-15T22:44:27.997Z"
      },
      {
        "duration": 82,
        "start_time": "2022-06-15T22:44:40.408Z"
      },
      {
        "duration": 7,
        "start_time": "2022-06-15T22:49:48.662Z"
      },
      {
        "duration": 1705,
        "start_time": "2022-06-16T11:06:52.442Z"
      },
      {
        "duration": 5,
        "start_time": "2022-06-16T11:06:54.148Z"
      },
      {
        "duration": 2663,
        "start_time": "2022-06-16T11:06:54.154Z"
      },
      {
        "duration": 6,
        "start_time": "2022-06-16T11:06:56.819Z"
      },
      {
        "duration": 6,
        "start_time": "2022-06-16T11:06:56.827Z"
      },
      {
        "duration": 3409,
        "start_time": "2022-06-16T11:06:56.835Z"
      },
      {
        "duration": 198,
        "start_time": "2022-06-16T11:07:00.246Z"
      },
      {
        "duration": 3,
        "start_time": "2022-06-16T11:07:00.445Z"
      },
      {
        "duration": 19763,
        "start_time": "2022-06-16T11:07:00.450Z"
      },
      {
        "duration": 73,
        "start_time": "2022-06-16T11:07:20.216Z"
      },
      {
        "duration": 73,
        "start_time": "2022-06-16T11:07:20.291Z"
      },
      {
        "duration": 3,
        "start_time": "2022-06-16T11:07:20.366Z"
      },
      {
        "duration": 136,
        "start_time": "2022-06-16T11:07:20.370Z"
      },
      {
        "duration": 0,
        "start_time": "2022-06-16T11:07:20.508Z"
      },
      {
        "duration": 0,
        "start_time": "2022-06-16T11:07:20.509Z"
      },
      {
        "duration": 0,
        "start_time": "2022-06-16T11:07:20.510Z"
      },
      {
        "duration": 0,
        "start_time": "2022-06-16T11:07:20.512Z"
      },
      {
        "duration": 0,
        "start_time": "2022-06-16T11:07:20.513Z"
      },
      {
        "duration": 0,
        "start_time": "2022-06-16T11:07:20.514Z"
      },
      {
        "duration": 0,
        "start_time": "2022-06-16T11:07:20.515Z"
      },
      {
        "duration": 0,
        "start_time": "2022-06-16T11:07:20.516Z"
      },
      {
        "duration": 9743,
        "start_time": "2022-06-16T11:08:02.099Z"
      },
      {
        "duration": 3,
        "start_time": "2022-06-16T11:08:22.082Z"
      },
      {
        "duration": 26850,
        "start_time": "2022-06-16T11:08:22.087Z"
      },
      {
        "duration": 9502,
        "start_time": "2022-06-16T11:08:48.939Z"
      },
      {
        "duration": 115571,
        "start_time": "2022-06-16T11:08:58.443Z"
      },
      {
        "duration": 1058,
        "start_time": "2022-06-16T11:10:54.016Z"
      },
      {
        "duration": 310,
        "start_time": "2022-06-16T11:10:55.076Z"
      },
      {
        "duration": 10,
        "start_time": "2022-06-16T11:10:55.388Z"
      },
      {
        "duration": 116,
        "start_time": "2022-06-16T11:10:55.400Z"
      },
      {
        "duration": 14517,
        "start_time": "2022-06-16T11:11:54.663Z"
      },
      {
        "duration": 4,
        "start_time": "2022-06-16T11:12:12.270Z"
      },
      {
        "duration": 2050616,
        "start_time": "2022-06-16T11:12:15.375Z"
      },
      {
        "duration": 1259628,
        "start_time": "2022-06-16T11:46:26.066Z"
      },
      {
        "duration": 753756,
        "start_time": "2022-06-16T12:07:25.696Z"
      },
      {
        "duration": 74035,
        "start_time": "2022-06-16T12:19:59.455Z"
      },
      {
        "duration": 307,
        "start_time": "2022-06-16T12:21:13.492Z"
      },
      {
        "duration": 9,
        "start_time": "2022-06-16T12:21:13.801Z"
      },
      {
        "duration": 120,
        "start_time": "2022-06-16T12:21:13.812Z"
      },
      {
        "duration": 39,
        "start_time": "2022-06-16T14:46:42.880Z"
      },
      {
        "duration": 38,
        "start_time": "2022-06-16T14:48:24.359Z"
      }
    ],
    "colab": {
      "provenance": []
    },
    "kernelspec": {
      "display_name": "Python 3 (ipykernel)",
      "language": "python",
      "name": "python3"
    },
    "language_info": {
      "codemirror_mode": {
        "name": "ipython",
        "version": 3
      },
      "file_extension": ".py",
      "mimetype": "text/x-python",
      "name": "python",
      "nbconvert_exporter": "python",
      "pygments_lexer": "ipython3",
      "version": "3.8.8"
    },
    "toc": {
      "base_numbering": 1,
      "nav_menu": {},
      "number_sections": true,
      "sideBar": true,
      "skip_h1_title": true,
      "title_cell": "Содержание",
      "title_sidebar": "Contents",
      "toc_cell": true,
      "toc_position": {
        "height": "calc(100% - 180px)",
        "left": "10px",
        "top": "150px",
        "width": "302.391px"
      },
      "toc_section_display": true,
      "toc_window_display": false
    }
  },
  "nbformat": 4,
  "nbformat_minor": 0
}
